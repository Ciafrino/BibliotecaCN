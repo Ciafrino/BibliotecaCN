{
 "cells": [
  {
   "cell_type": "markdown",
   "metadata": {},
   "source": [
    "# Questão 1."
   ]
  },
  {
   "cell_type": "markdown",
   "metadata": {},
   "source": [
    "## Funções"
   ]
  },
  {
   "cell_type": "code",
   "execution_count": 89,
   "metadata": {},
   "outputs": [
    {
     "name": "stderr",
     "output_type": "stream",
     "text": [
      "\u001b[32m\u001b[1m   Updating\u001b[22m\u001b[39m registry at `C:\\Users\\Martins\\.julia\\registries\\General`\n",
      "\u001b[32m\u001b[1m  Resolving\u001b[22m\u001b[39m package versions...\n",
      "\u001b[32m\u001b[1m  Installed\u001b[22m\u001b[39m Mocking ──────────── v0.7.1\n",
      "\u001b[32m\u001b[1m  Installed\u001b[22m\u001b[39m ExprTools ────────── v0.1.3\n",
      "\u001b[32m\u001b[1m  Installed\u001b[22m\u001b[39m LazyArtifacts ────── v1.3.0\n",
      "\u001b[32m\u001b[1m  Installed\u001b[22m\u001b[39m EzXML ────────────── v1.1.0\n",
      "\u001b[32m\u001b[1m  Installed\u001b[22m\u001b[39m MutableArithmetics ─ v0.2.19\n",
      "\u001b[32m\u001b[1m  Installed\u001b[22m\u001b[39m Intervals ────────── v1.5.0\n",
      "\u001b[32m\u001b[1m  Installed\u001b[22m\u001b[39m Polynomials ──────── v2.0.10\n",
      "\u001b[32m\u001b[1m  Installed\u001b[22m\u001b[39m TimeZones ────────── v1.5.5\n",
      "\u001b[32m\u001b[1mUpdating\u001b[22m\u001b[39m `C:\\Users\\Martins\\.julia\\environments\\v1.5\\Project.toml`\n",
      " \u001b[90m [f27b6e38] \u001b[39m\u001b[92m+ Polynomials v2.0.10\u001b[39m\n",
      "\u001b[32m\u001b[1mUpdating\u001b[22m\u001b[39m `C:\\Users\\Martins\\.julia\\environments\\v1.5\\Manifest.toml`\n",
      " \u001b[90m [e2ba6199] \u001b[39m\u001b[92m+ ExprTools v0.1.3\u001b[39m\n",
      " \u001b[90m [8f5d6c58] \u001b[39m\u001b[92m+ EzXML v1.1.0\u001b[39m\n",
      " \u001b[90m [d8418881] \u001b[39m\u001b[92m+ Intervals v1.5.0\u001b[39m\n",
      " \u001b[90m [4af54fe1] \u001b[39m\u001b[92m+ LazyArtifacts v1.3.0\u001b[39m\n",
      " \u001b[90m [78c3b35d] \u001b[39m\u001b[92m+ Mocking v0.7.1\u001b[39m\n",
      " \u001b[90m [d8a4904e] \u001b[39m\u001b[92m+ MutableArithmetics v0.2.19\u001b[39m\n",
      " \u001b[90m [f27b6e38] \u001b[39m\u001b[92m+ Polynomials v2.0.10\u001b[39m\n",
      " \u001b[90m [f269a46b] \u001b[39m\u001b[92m+ TimeZones v1.5.5\u001b[39m\n",
      "\u001b[32m\u001b[1m   Building\u001b[22m\u001b[39m TimeZones → `C:\\Users\\Martins\\.julia\\packages\\TimeZones\\y3gf6\\deps\\build.log`\n",
      "┌ Info: Precompiling Polynomials [f27b6e38-b328-58d1-80ce-0feddd5e7a45]\n",
      "└ @ Base loading.jl:1278\n"
     ]
    }
   ],
   "source": [
    "# import Pkg; \n",
    "# Pkg.add(\"Polynomials\")\n",
    "\n",
    "using Polynomials\n",
    "using Plots\n",
    "using LinearAlgebra"
   ]
  },
  {
   "cell_type": "code",
   "execution_count": 2,
   "metadata": {},
   "outputs": [
    {
     "data": {
      "text/plain": [
       "resolve_diagonal (generic function with 1 method)"
      ]
     },
     "execution_count": 2,
     "metadata": {},
     "output_type": "execute_result"
    }
   ],
   "source": [
    "\"\"\" O intuito da função resolve_diagonal é resolver equações Dx = b onde A é uma matriz diagonal NxN, \n",
    "X é uma matriz Nx1 e b também é uma matriz Nx1. Logo, a função recebe como entrada a Matriz Diagonal \n",
    "Quadrada NXN e o vetor B Nx1, e retorna o vetor x Nx1. \"\"\"\n",
    "\n",
    "function resolve_diagonal(D,b)     # D é diagonal e b é um vetor  \n",
    "    tamanho = length(b)            # Pega-se o tamanho tanto do vetor quanto da matriz (pressupõe que são de mesmo tamanho)\n",
    "    x=zeros(tamanho,1)             # Aloca o vetor x a ser retornado\n",
    "    for i in 1:tamanho \n",
    "        x[i] = b[i]/D[i,i]         # Resolve cada x[i] de acordo com o valor da diagonal e o valor de b de cada linha\n",
    "    end\n",
    "    \n",
    "    return x\n",
    "end"
   ]
  },
  {
   "cell_type": "code",
   "execution_count": 3,
   "metadata": {},
   "outputs": [
    {
     "data": {
      "text/plain": [
       "resolve_triangular_superior (generic function with 1 method)"
      ]
     },
     "execution_count": 3,
     "metadata": {},
     "output_type": "execute_result"
    }
   ],
   "source": [
    "\"\"\" O intuito dessa função é resolver equações T.x = b tal que T seja uma matriz NxN e triangular superior,\n",
    "x e b serão uma matriz coluna Nx1. A função deve retornar a solução x para tal sistema de equações.\"\"\"\n",
    "\n",
    "function resolve_triangular_superior(T,b)     #T é triangular superior\n",
    "    tamanho = length(b)\n",
    "    x=zeros(tamanho,1)\n",
    "    \n",
    "    i = tamanho\n",
    "    while (i > 0)\n",
    "        x[i] = b[i]/T[i,i]\n",
    "        k = tamanho\n",
    "        for j in i:(tamanho - 1)\n",
    "            x[i] -= T[i, k] * x[k]/T[i,i]\n",
    "            k -= 1\n",
    "        end\n",
    "        i -= 1\n",
    "    end\n",
    "    return x\n",
    "end"
   ]
  },
  {
   "cell_type": "code",
   "execution_count": 4,
   "metadata": {},
   "outputs": [
    {
     "data": {
      "text/plain": [
       "resolve_triangular_inferior (generic function with 1 method)"
      ]
     },
     "execution_count": 4,
     "metadata": {},
     "output_type": "execute_result"
    }
   ],
   "source": [
    "\"\"\" O intuito dessa função é resolver equações T.x = b tal que T seja uma matriz NxN e triangular inferior,\n",
    "x e b serão uma matriz coluna Nx1. A função deve retornar a solução x para tal sistema de equações.\"\"\"\n",
    "\n",
    "function resolve_triangular_inferior(T,b)     #T é triangular inferior\n",
    "    tamanho = length(b)\n",
    "    x=zeros(tamanho,1)\n",
    "    \n",
    "    i = 1\n",
    "    while (i <= tamanho)\n",
    "        x[i] = b[i]/T[i,i]\n",
    "        for j in 1:(i-1)\n",
    "            x[i] -= T[i, j] * x[j]/T[i,i]\n",
    "        end\n",
    "        i += 1\n",
    "    end\n",
    "    return x\n",
    "end"
   ]
  },
  {
   "cell_type": "code",
   "execution_count": 5,
   "metadata": {},
   "outputs": [
    {
     "data": {
      "text/plain": [
       "eliminacao_gaussiana (generic function with 1 method)"
      ]
     },
     "execution_count": 5,
     "metadata": {},
     "output_type": "execute_result"
    }
   ],
   "source": [
    "\"\"\" O intuito dessa função é realizar o processo de eliminação gaussiana com o sistema A.x = b, \n",
    "onde são passados a matriz densa quadrada A de NxN e a matriz coluna b de Nx1.\n",
    "O retorno será o sistema escalonado, com A sendo uma matriz triangular superior.\"\"\"\n",
    "\n",
    "function eliminacao_gaussiana(A,b)      #A é uma matriz cheia (\"matriz densa\")\n",
    "    tamanho = length(b)\n",
    "    for i in 1:tamanho-1\n",
    "        for j in i+1:tamanho\n",
    "            multiplicador = A[j,i]/A[i,i]\n",
    "            A[j, :] = A[j, :] - multiplicador*A[i, :]\n",
    "            b[j] = b[j] - multiplicador*b[i]\n",
    "        end\n",
    "    end\n",
    "    return A, b\n",
    "end"
   ]
  },
  {
   "cell_type": "code",
   "execution_count": 6,
   "metadata": {},
   "outputs": [
    {
     "data": {
      "text/plain": [
       "resolve_cheia (generic function with 1 method)"
      ]
     },
     "execution_count": 6,
     "metadata": {},
     "output_type": "execute_result"
    }
   ],
   "source": [
    "function resolve_cheia(A,b)\n",
    "    T,c= eliminação_gaussiana(A,b)  #O(n^3)\n",
    "    x=resolve_triangular_superior(T,b)  #O(n^2)\n",
    "    return x\n",
    "end"
   ]
  },
  {
   "cell_type": "code",
   "execution_count": 7,
   "metadata": {},
   "outputs": [
    {
     "data": {
      "text/plain": [
       "decomposicao_LU (generic function with 1 method)"
      ]
     },
     "execution_count": 7,
     "metadata": {},
     "output_type": "execute_result"
    }
   ],
   "source": [
    "function decomposicao_LU(A) #A é uma matriz cheia (\"matriz densa\")\n",
    "    tamanho = size(A)\n",
    "    tamanho = tamanho[1]\n",
    "    L=zeros(tamanho,tamanho)\n",
    "    \n",
    "    for i in 1:tamanho\n",
    "        L[i,i] = 1\n",
    "    end\n",
    "    \n",
    "    U = zeros(tamanho, tamanho)\n",
    "    \n",
    "    for i in 1:tamanho\n",
    "        for j in 1:tamanho\n",
    "            U[i, j] = A[i, j]\n",
    "        end\n",
    "    end\n",
    "    \n",
    "    for i in 1:tamanho-1\n",
    "        for j in i+1:tamanho\n",
    "            L[j,i] = U[j,i]/U[i,i]\n",
    "            U[j, :] = U[j, :] -L[j,i]*U[i, :]\n",
    "        end\n",
    "    end\n",
    "\n",
    "    return L,U \n",
    "end"
   ]
  },
  {
   "cell_type": "code",
   "execution_count": 8,
   "metadata": {},
   "outputs": [
    {
     "data": {
      "text/plain": [
       "resolver_pos_LU (generic function with 1 method)"
      ]
     },
     "execution_count": 8,
     "metadata": {},
     "output_type": "execute_result"
    }
   ],
   "source": [
    "function resolver_pos_LU(L,U,b)    #O(n^2) \n",
    "    y=resolve_triangular_inferior(L,b)\n",
    "    x=resolve_triangular_superior(U,y)\n",
    "    return x\n",
    "end"
   ]
  },
  {
   "cell_type": "markdown",
   "metadata": {},
   "source": [
    "## Testes das Funções"
   ]
  },
  {
   "cell_type": "code",
   "execution_count": null,
   "metadata": {},
   "outputs": [],
   "source": []
  },
  {
   "cell_type": "markdown",
   "metadata": {},
   "source": [
    "# Questão 2."
   ]
  },
  {
   "cell_type": "markdown",
   "metadata": {},
   "source": [
    "### Método de Taylor"
   ]
  },
  {
   "cell_type": "code",
   "execution_count": 9,
   "metadata": {},
   "outputs": [
    {
     "data": {
      "text/plain": [
       "taylor (generic function with 1 method)"
      ]
     },
     "execution_count": 9,
     "metadata": {},
     "output_type": "execute_result"
    }
   ],
   "source": [
    "\"\"\" Essa função faz a aproximação de uma função no ponto 'desejado' utilizando o polinômio de taylor\n",
    "centrado no ponto 'referencia'. Para isso, deve-se passar a função, as múltiplas derivadas (quantas \n",
    "quiser - quanto mais melhor) e os pontos de referencia e desejado.\"\"\"\n",
    "\n",
    "function taylor(funcao, derivadas, referencia, desejado)  #TODO\n",
    "    grau = length(derivadas)\n",
    "    soma = funcao(referencia)\n",
    "    fat = 1\n",
    "    for i in 1:grau\n",
    "        fat = fat * i\n",
    "        soma = soma + (derivadas[i](referencia)*(desejado-referencia)^i)/fat\n",
    "    end\n",
    "    return soma\n",
    "end"
   ]
  },
  {
   "cell_type": "code",
   "execution_count": 10,
   "metadata": {},
   "outputs": [
    {
     "name": "stdout",
     "output_type": "stream",
     "text": [
      "0.40580357142857143\n",
      "0.4054651081081644\n"
     ]
    }
   ],
   "source": [
    "f(x) = log(x)\n",
    "fd1(x) = 1/x; fd2(x) = -1/x^2; fd3(x) = 2/x^3; fd4(x) = -6/x^4; fd5(x) = 24/x^5; fd6(x) = -120/x^6; fd7(x) = 720/x^7;\n",
    "der = [fd1,fd2,fd3,fd4,fd5,fd6,fd7]\n",
    "\n",
    "println(taylor(f, der, 1, 1.5))\n",
    "println(log(1.5))"
   ]
  },
  {
   "cell_type": "code",
   "execution_count": 11,
   "metadata": {},
   "outputs": [
    {
     "name": "stdout",
     "output_type": "stream",
     "text": [
      "0.9635581840200099\n",
      "0.9320390859672263\n"
     ]
    }
   ],
   "source": [
    "f(x) = sin(x)\n",
    "fd1(x) = cos(x); fd2(x) = -sin(x); fd3(x) = -cos(x); fd4(x) = sin(x); fd5(x) = cos(x); fd6(x) = -sin(x); fd7(x) = -cos(x);\n",
    "der = [fd1,fd2,fd3,fd4,fd5,fd6,fd7]\n",
    "\n",
    "println(taylor(f, der, 1, 1.3))\n",
    "println(sin(1.2))"
   ]
  },
  {
   "cell_type": "code",
   "execution_count": 12,
   "metadata": {},
   "outputs": [
    {
     "name": "stdout",
     "output_type": "stream",
     "text": [
      "11.067330000000004\n",
      "11.067330000000002\n"
     ]
    }
   ],
   "source": [
    "f(x) = x^5+4x^4-3x^2+1\n",
    "fd1(x) = 5x^4+16x^3-6x; fd2(x) = 20x^3+48x^2-6; fd3(x) = 60x^2+96x; fd4(x) = 120x+96; fd5(x) = 120;\n",
    "der = [fd1,fd2,fd3,fd4,fd5]\n",
    "\n",
    "println(taylor(f, der, 1, 1.3))\n",
    "println(f(1.3))"
   ]
  },
  {
   "cell_type": "markdown",
   "metadata": {},
   "source": [
    "### Achar o Zero da Função por Bisseção"
   ]
  },
  {
   "cell_type": "code",
   "execution_count": 13,
   "metadata": {},
   "outputs": [
    {
     "data": {
      "text/plain": [
       "bissecao (generic function with 2 methods)"
      ]
     },
     "execution_count": 13,
     "metadata": {},
     "output_type": "execute_result"
    }
   ],
   "source": [
    "\"\"\" Na bisseção, queremos reduzir o intervalo ao máximo sempre garantindo que a função nos\n",
    "extremos tenha sinais distintos, visto que isso garante, pelo Teorema do Valor Intermediário,\n",
    "a existência de um zero de função nesse intervalo. Sendo assim, passamos a função, os extremos\n",
    "esquerdo e direito do intervalo e o erro máximo esperado.\n",
    "Retornamos a estimativa com um erro menor que o esperado.\"\"\"\n",
    "\n",
    "function bissecao(f, esq, dir, erro = 1e-2)\n",
    "    m=0\n",
    "    \n",
    "    @assert(f(esq)*f(dir)<=0, \"O intervalo passado não possui extremos com sinais distintos. Não podemos garantir um zero da função!\")\n",
    "    \n",
    "    while abs(dir-esq) > erro\n",
    "        m = (esq+dir)/2\n",
    "        res = f(m)\n",
    "        \n",
    "        if res == 0.0\n",
    "            break\n",
    "        elseif res*f(esq) > 0     # verifica se f(m) e f(esq) possuem o mesmo sinal\n",
    "            esq = m\n",
    "        else                      \n",
    "            dir = m\n",
    "        end\n",
    "    end\n",
    "    \n",
    "    return m\n",
    "end"
   ]
  },
  {
   "cell_type": "code",
   "execution_count": 14,
   "metadata": {},
   "outputs": [
    {
     "ename": "LoadError",
     "evalue": "\u001b[91mAssertionError: O intervalo passado não possui extremos com sinais distintos. Não podemos garantir um zero da função!\u001b[39m",
     "output_type": "error",
     "traceback": [
      "\u001b[91mAssertionError: O intervalo passado não possui extremos com sinais distintos. Não podemos garantir um zero da função!\u001b[39m",
      "",
      "Stacktrace:",
      " [1] bissecao(::typeof(f), ::Int64, ::Int64, ::Float64) at .\\In[13]:10",
      " [2] bissecao(::Function, ::Int64, ::Int64) at .\\In[13]:8",
      " [3] top-level scope at In[14]:3",
      " [4] include_string(::Function, ::Module, ::String, ::String) at .\\loading.jl:1091"
     ]
    }
   ],
   "source": [
    "# Testando intervalo sem zero\n",
    "f(x) = x^5+4x^4-3x^2+1\n",
    "bissecao(f,-3,3)"
   ]
  },
  {
   "cell_type": "code",
   "execution_count": 15,
   "metadata": {},
   "outputs": [
    {
     "data": {
      "text/plain": [
       "-3.798828125"
      ]
     },
     "execution_count": 15,
     "metadata": {},
     "output_type": "execute_result"
    }
   ],
   "source": [
    "f(x) = x^5+4x^4-3x^2+1\n",
    "bissecao(f,-10,10)"
   ]
  },
  {
   "cell_type": "code",
   "execution_count": 16,
   "metadata": {},
   "outputs": [
    {
     "data": {
      "text/plain": [
       "6.2822265625"
      ]
     },
     "execution_count": 16,
     "metadata": {},
     "output_type": "execute_result"
    }
   ],
   "source": [
    "f(x) = sin(x/2)\n",
    "bissecao(f, 1, 10)"
   ]
  },
  {
   "cell_type": "markdown",
   "metadata": {},
   "source": [
    "### Achar o Zero da Função por Ponto Fixo"
   ]
  },
  {
   "cell_type": "code",
   "execution_count": 17,
   "metadata": {},
   "outputs": [
    {
     "data": {
      "text/plain": [
       "ponto_fixo"
      ]
     },
     "execution_count": 17,
     "metadata": {},
     "output_type": "execute_result"
    }
   ],
   "source": [
    "\"\"\"\n",
    "Usamos o método do ponto fixo para encontrar o zero de função, a ideia é usar substituições\n",
    "sucessivas de forma a encontrar uma interseção entre a função g(x) que definimos e a reta\n",
    "y = x. O truque para achar o zero está em definir g(x) de forma que\n",
    "a função tenha um ponto Z t.q. f(Z) = Z - g(Z) = 0.\n",
    "\n",
    "@param: - função f recebe a função escolhida pelo usuário para achar o zero (no caso, a nossa função g)\n",
    "        - a margem de erro eps\n",
    "        - e o ponto inicial x0\n",
    "\n",
    "@return: - zero da função f(x) (ponto fixo de g(x))\n",
    "         - Retorna um erro de execução caso o método falhe em encontrar (diverge)\n",
    "\"\"\"\n",
    "function ponto_fixo(f, eps, x0)\n",
    "    # Inicializa com infinito para saber se encontramos\n",
    "    ponto_fixo = -Inf\n",
    "    \n",
    "    # quantidade de iterações dadas até encontrar\n",
    "    steps = 1\n",
    "    \n",
    "    # Por conveniência vamos assumir que o método diverge \n",
    "    # se levar pelo menos 10^3 passos\n",
    "    while steps < 10^3 \n",
    "        nx = f(x0)\n",
    "\n",
    "        if abs(nx - x0) < eps\n",
    "            # achamos uma aproximação que respeita a margem de erro \n",
    "            ponto_fixo = nx\n",
    "            break\n",
    "        end\n",
    "\n",
    "        steps += 1\n",
    "        x0 = nx\n",
    "    end\n",
    "    \n",
    "    # método falhou\n",
    "    @assert(ponto_fixo != -Inf, \"Método divergiu com o input dado\")\n",
    "    \n",
    "    # retorna o ponto_fixo da função\n",
    "    return ponto_fixo\n",
    "end\n"
   ]
  },
  {
   "cell_type": "code",
   "execution_count": 18,
   "metadata": {},
   "outputs": [
    {
     "name": "stdout",
     "output_type": "stream",
     "text": [
      "-0.14558862306442932\n"
     ]
    }
   ],
   "source": [
    "function f(x)\n",
    "    return x*cos(x) - x*x + 8*x - 1\n",
    "end\n",
    "\n",
    "function g(x)\n",
    "    # g(x) é uma função cujo ponto fixo é um zero de f(x)\n",
    "    return (x*cos(x) - x*x -1)/8.0\n",
    "end\n",
    "\n",
    "println(ponto_fixo(g, 0.001, 0.0))"
   ]
  },
  {
   "cell_type": "code",
   "execution_count": 19,
   "metadata": {},
   "outputs": [
    {
     "name": "stdout",
     "output_type": "stream",
     "text": [
      "0.2891641649379035\n"
     ]
    }
   ],
   "source": [
    "function f(x)\n",
    "    return x^3 - 7*x + 2\n",
    "end\n",
    "\n",
    "function g(x)\n",
    "    # g(x) é uma função cujo ponto fixo é um zero de f(x)\n",
    "    return (x^3 + 2)/7.0\n",
    "end\n",
    "\n",
    "println(ponto_fixo(g, 1e-3, 0.0))"
   ]
  },
  {
   "cell_type": "code",
   "execution_count": 20,
   "metadata": {},
   "outputs": [
    {
     "ename": "LoadError",
     "evalue": "\u001b[91mAssertionError: Método divergiu com o input dado\u001b[39m",
     "output_type": "error",
     "traceback": [
      "\u001b[91mAssertionError: Método divergiu com o input dado\u001b[39m",
      "",
      "Stacktrace:",
      " [1] ponto_fixo(::typeof(g), ::Float64, ::Float64) at .\\In[17]:37",
      " [2] top-level scope at In[20]:11",
      " [3] include_string(::Function, ::Module, ::String, ::String) at .\\loading.jl:1091"
     ]
    }
   ],
   "source": [
    "function f(x)\n",
    "    return x^3 - x - 1\n",
    "end\n",
    "\n",
    "# se pegarmos uma g simples nesse caso o método tem que divergir\n",
    "function g(x)\n",
    "    # g(x) é uma função cujo ponto fixo é um zero de f(x)\n",
    "    return (x^3 - 1)\n",
    "end\n",
    "\n",
    "println(ponto_fixo(g, 1e-6, 0.0))"
   ]
  },
  {
   "cell_type": "code",
   "execution_count": 21,
   "metadata": {},
   "outputs": [
    {
     "name": "stdout",
     "output_type": "stream",
     "text": [
      "1.3247179361449652\n"
     ]
    }
   ],
   "source": [
    "function f(x)\n",
    "    return x^3 - x - 1\n",
    "end\n",
    "\n",
    "# se pegarmos uma g esperta o método tem que convergir\n",
    "function g(x)\n",
    "    # g(x) é uma função cujo ponto fixo é um zero de f(x)\n",
    "    return cbrt(x + 1)\n",
    "end\n",
    "\n",
    "println(ponto_fixo(g, 1e-7, 0.0))"
   ]
  },
  {
   "cell_type": "markdown",
   "metadata": {},
   "source": [
    "### Achar o Zero da Função por Newton"
   ]
  },
  {
   "cell_type": "code",
   "execution_count": 22,
   "metadata": {},
   "outputs": [
    {
     "data": {
      "text/plain": [
       "newton (generic function with 2 methods)"
      ]
     },
     "execution_count": 22,
     "metadata": {},
     "output_type": "execute_result"
    }
   ],
   "source": [
    "\"\"\" Para o método de Newton, queremos nos aproveitar do ângulo tangente da curva para nos\n",
    "aproximarmos precisamente do zero da função. Isso é feito encontrando a reta tangente a\n",
    "curva no ponto atual e indo para o ponto dessa reta que cruza o eixo x. Para isso, precisamos\n",
    "da função e sua derivada, o ponto inicial do método e o erro máximo esperado.\"\"\"\n",
    "\n",
    "function newton(f, fd, ponto, erro = 1e-8)\n",
    "    # Primeiro descobrimos quantos termos precisamos\n",
    "    termos = 1\n",
    "    while (termos+1)*(2^(termos+1)) < 1/erro\n",
    "        termos = termos+1\n",
    "    end\n",
    "\n",
    "    # Agora calculamos o taylor\n",
    "    for i in 1:termos\n",
    "        ponto = ponto - f(ponto)/fd(ponto)\n",
    "    end\n",
    "    \n",
    "    return ponto\n",
    "end"
   ]
  },
  {
   "cell_type": "code",
   "execution_count": 23,
   "metadata": {},
   "outputs": [
    {
     "data": {
      "text/plain": [
       "-3.796694419165162"
      ]
     },
     "execution_count": 23,
     "metadata": {},
     "output_type": "execute_result"
    }
   ],
   "source": [
    "f(x) = x^5+4x^4-3x^2+1\n",
    "fd(x) = 5x^4+16x^3-6x\n",
    "newton(f,fd,-4)"
   ]
  },
  {
   "cell_type": "code",
   "execution_count": 24,
   "metadata": {},
   "outputs": [
    {
     "data": {
      "text/plain": [
       "6.283185307179586"
      ]
     },
     "execution_count": 24,
     "metadata": {},
     "output_type": "execute_result"
    }
   ],
   "source": [
    "f(x) = sin(x/2)\n",
    "fd(x) = 1/2 * cos(x/2)\n",
    "newton(f, fd, 6)"
   ]
  },
  {
   "cell_type": "code",
   "execution_count": 25,
   "metadata": {},
   "outputs": [
    {
     "data": {
      "text/plain": [
       "1.0"
      ]
     },
     "execution_count": 25,
     "metadata": {},
     "output_type": "execute_result"
    }
   ],
   "source": [
    "f(x) = log(x)\n",
    "fd(x) = 1/x\n",
    "newton(f, fd, 2)"
   ]
  },
  {
   "cell_type": "markdown",
   "metadata": {},
   "source": [
    "### Achar o Zero da Função pelo Método de Euler"
   ]
  },
  {
   "cell_type": "code",
   "execution_count": 26,
   "metadata": {},
   "outputs": [],
   "source": [
    "# Chris\n",
    "\n",
    "# Método de Euler"
   ]
  },
  {
   "cell_type": "markdown",
   "metadata": {},
   "source": [
    "### Resolver EDO com Problema de Valor Inicial"
   ]
  },
  {
   "cell_type": "code",
   "execution_count": 27,
   "metadata": {},
   "outputs": [
    {
     "data": {
      "text/plain": [
       "resolver_PVI"
      ]
     },
     "execution_count": 27,
     "metadata": {},
     "output_type": "execute_result"
    }
   ],
   "source": [
    "\"\"\"\n",
    "Usamos o método de euler para resolver o problema de valor inicial. O método é usado para\n",
    "aproximar o valor de EDOs, ele faz isso usando aproximações de retas tangentes para descrever\n",
    "a curva repetidas vezes.\n",
    "\n",
    "@param: - derivada de f(x, y)\n",
    "        - x inicial\n",
    "        - y inicial (isso é o valor inicial conhecido no nosso problema)\n",
    "        - x_final denota o ponto x em que queremos uma aproximação para f\n",
    "        - n denota em quantos subintervalos vamos dividir nosso intervalo\n",
    "\n",
    "@return: - aproximação para f no ponto x_final\n",
    "\"\"\"\n",
    "function resolver_PVI(derivada, x_inicial,y_inicial,x_final,n) #Feito\n",
    "    # tamanho do intervalo que usaremos dada a discretização desejada\n",
    "    H = (x_final-x_inicial) / n\n",
    "    \n",
    "    # passos iniciais\n",
    "    xi = x_inicial\n",
    "    yi = y_inicial\n",
    "\n",
    "    while xi + H <= x_final\n",
    "        # pegamos o próximo valor de y andando pela reta tangente ao \n",
    "        # ponto x_i com um passo de tamanho H\n",
    "        yi += derivada(xi, yi) * H\n",
    "        xi += H\n",
    "    end\n",
    "    \n",
    "    return yi # retornamos o valor de y no estado final\n",
    "end"
   ]
  },
  {
   "cell_type": "code",
   "execution_count": 28,
   "metadata": {},
   "outputs": [
    {
     "data": {
      "text/plain": [
       "41.144777789250874"
      ]
     },
     "execution_count": 28,
     "metadata": {},
     "output_type": "execute_result"
    }
   ],
   "source": [
    "df(x, y) = y\n",
    "\n",
    "# queremos aproximar y(4) usando método de euler\n",
    "# sendo y'(x) = y(x), y(0) = 1 e dividindo o intervalo em 40 partes\n",
    "\n",
    "resolver_PVI(df, 0.0, 1.0, 4, 40)"
   ]
  },
  {
   "cell_type": "code",
   "execution_count": 29,
   "metadata": {},
   "outputs": [
    {
     "data": {
      "text/plain": [
       "20.0"
      ]
     },
     "execution_count": 29,
     "metadata": {},
     "output_type": "execute_result"
    }
   ],
   "source": [
    "df(x, y) = y + 3*x\n",
    "\n",
    "# queremos aproximar y(3) usando método de euler\n",
    "# sendo y'(x) = y + 3x, y(3) = 1 e dividindo o intervalo em 3 partes\n",
    "\n",
    "resolver_PVI(df, 0.0, 1.0, 3, 3)"
   ]
  },
  {
   "cell_type": "code",
   "execution_count": 30,
   "metadata": {},
   "outputs": [
    {
     "data": {
      "text/plain": [
       "1.0987701305162527"
      ]
     },
     "execution_count": 30,
     "metadata": {},
     "output_type": "execute_result"
    }
   ],
   "source": [
    "df(x, y) = exp(-x)\n",
    "\n",
    "# queremos aproximar y(5) usando método de euler\n",
    "# sendo y'(x) = x^2 + 3x, y(2) = 10 e dividindo o intervalo em 40 partes\n",
    "\n",
    "resolver_PVI(df, 0.0, 0.0, 2, 4)"
   ]
  },
  {
   "cell_type": "markdown",
   "metadata": {},
   "source": [
    "### Resolver um Sistema Ax=b"
   ]
  },
  {
   "cell_type": "code",
   "execution_count": 31,
   "metadata": {},
   "outputs": [
    {
     "data": {
      "text/plain": [
       "resolver_um_sistema (generic function with 1 method)"
      ]
     },
     "execution_count": 31,
     "metadata": {},
     "output_type": "execute_result"
    }
   ],
   "source": [
    "\"\"\" Essa função é um encapsulamento da resolução de sistema do formato 'A.x = b' \n",
    "utilizando decomposição LU. Para isso, é passado como parâmetro a matriz A e o \n",
    "vetor b, e o resultado será o vetor x.\"\"\"\n",
    "\n",
    "function resolver_um_sistema(A,b) \n",
    "    L, U = decomposicao_LU(A)\n",
    "    x = resolver_pos_LU(L,U,b)\n",
    "    return x\n",
    "end"
   ]
  },
  {
   "cell_type": "code",
   "execution_count": 32,
   "metadata": {},
   "outputs": [
    {
     "name": "stdout",
     "output_type": "stream",
     "text": [
      "[2.1040532365396274; -5.474289171203875; -0.6170598911070786; 3.5075620084694505]\n",
      "[2.104053236539625, -5.474289171203873, -0.6170598911070775, 3.507562008469449]\n"
     ]
    }
   ],
   "source": [
    "A=[1.0 3.0 2.0 7.0 ; 10.0 3.0 10.0 7.0 ; 3.0 5.0 18.0 22.0 ; 5.0 2.0 1.0 6.0]\n",
    "b=[9.0 ; 23.0 ; 45.0 ; 20.0]\n",
    "\n",
    "println(resolver_um_sistema(A,b))\n",
    "println(A\\b)"
   ]
  },
  {
   "cell_type": "code",
   "execution_count": 33,
   "metadata": {},
   "outputs": [
    {
     "name": "stdout",
     "output_type": "stream",
     "text": [
      "[-8.307692307692305; 6.692307692307692; -1.3846153846153844]\n",
      "[-8.307692307692307, 6.692307692307692, -1.3846153846153846]\n"
     ]
    }
   ],
   "source": [
    "A=[1.0 3.0 2.0 ; -2.0 -1.0 5.0 ; 1.0 1.0 1.0]\n",
    "b=[9.0 ; 3.0 ; -3.0]\n",
    "\n",
    "println(resolver_um_sistema(A,b))\n",
    "println(A\\b)"
   ]
  },
  {
   "cell_type": "code",
   "execution_count": 34,
   "metadata": {},
   "outputs": [
    {
     "name": "stdout",
     "output_type": "stream",
     "text": [
      "[2.4; 0.2]\n",
      "[2.4, 0.2]\n"
     ]
    }
   ],
   "source": [
    "A=[1.0 3.0 ; -1.0 2.0]\n",
    "b=[3.0 ; -2.0]\n",
    "\n",
    "println(resolver_um_sistema(A,b))\n",
    "println(A\\b)"
   ]
  },
  {
   "cell_type": "markdown",
   "metadata": {},
   "source": [
    "### Resolver EDO com Problema de Valor de Contorno"
   ]
  },
  {
   "cell_type": "code",
   "execution_count": 35,
   "metadata": {},
   "outputs": [
    {
     "data": {
      "text/plain": [
       "resolver_PVC (generic function with 1 method)"
      ]
     },
     "execution_count": 35,
     "metadata": {},
     "output_type": "execute_result"
    }
   ],
   "source": [
    "# Luan\n",
    "function resolver_PVC(segunda_derivada, x_inicial, y_inicial, x_final, y_final, n)  #Não dá pra fazer genericamente\n",
    "    \n",
    "    # Calcula o h\n",
    "    h = (x_final - x_inicial)/n\n",
    "\n",
    "    # Inicializa a matriz vazia\n",
    "    A = []\n",
    "    \n",
    "    # Vetor auxiliar para construir a matriz \n",
    "    v = [-2, 1]\n",
    "    \n",
    "    # Preenche a primeira linha com 0's\n",
    "    for i = 3:n-1\n",
    "        push!(v, 0)\n",
    "    end\n",
    "    \n",
    "    # Coloca o vetor auxiliar na matriz\n",
    "    push!(A, v)\n",
    "    \n",
    "    # Constrói a matriz por meio dos vetores auxiliares\n",
    "    for i = 2:n-2\n",
    "        v = []\n",
    "        for j = 1:i-2\n",
    "            push!(v, 0)\n",
    "        end\n",
    "        push!(v, 1)\n",
    "        push!(v, -2)\n",
    "        push!(v, 1)\n",
    "        for j = i+2:n-1\n",
    "            push!(v, 0)\n",
    "        end\n",
    "        v = vcat(v...)\n",
    "        push!(A, v)\n",
    "    end\n",
    "    \n",
    "    # Termina de construir a matriz\n",
    "    v = []\n",
    "    for i = 1:n-3\n",
    "        push!(v, 0)\n",
    "    end\n",
    "    push!(v, 1)\n",
    "    push!(v, -2)\n",
    "    push!(A, v)\n",
    "    \n",
    "    # Gera o vetor b de acordo com as aproximações da segunda derivada\n",
    "    b = Any[segunda_derivada(x_inicial)*h^2 - y_inicial]\n",
    "    for i = 2:n-2\n",
    "        push!(b, segunda_derivada((x_inicial + h*(i)))*h^2)\n",
    "    end\n",
    "    push!(b, segunda_derivada(x_final)*h^2 - y_final)\n",
    "    b = vcat(b...)\n",
    "    A = hcat(A...)\n",
    "\n",
    "    # Resolve o sistema e acha os pontos y\n",
    "    y = resolver_um_sistema(A,b)\n",
    "    return y\n",
    "end"
   ]
  },
  {
   "cell_type": "code",
   "execution_count": 36,
   "metadata": {},
   "outputs": [
    {
     "ename": "LoadError",
     "evalue": "\u001b[91mUndefVarError: plot not defined\u001b[39m",
     "output_type": "error",
     "traceback": [
      "\u001b[91mUndefVarError: plot not defined\u001b[39m",
      "",
      "Stacktrace:",
      " [1] top-level scope at In[36]:18",
      " [2] include_string(::Function, ::Module, ::String, ::String) at .\\loading.jl:1091"
     ]
    }
   ],
   "source": [
    "# Teste 1\n",
    "\n",
    "g(x) = x^2 - 5x + 6\n",
    "gd(x) = 2x - 5\n",
    "gdd(x) = 2\n",
    "x_inicial = 0\n",
    "y_inicial = 6\n",
    "x_final = 5\n",
    "y_final = 6\n",
    "n = 30\n",
    "\n",
    "y = Any[y_inicial]\n",
    "for e in resolver_PVC(gdd, x_inicial, y_inicial, x_final, y_final, n)\n",
    "    push!(y, e)\n",
    "end\n",
    "push!(y, y_final)\n",
    "\n",
    "plot(g, x_inicial, x_final)\n",
    "\n",
    "h = (x_final - x_inicial)/(n)\n",
    "scatter!(x_inicial:h:x_final, y, leg=false)"
   ]
  },
  {
   "cell_type": "code",
   "execution_count": 37,
   "metadata": {},
   "outputs": [
    {
     "ename": "LoadError",
     "evalue": "\u001b[91mUndefVarError: plot not defined\u001b[39m",
     "output_type": "error",
     "traceback": [
      "\u001b[91mUndefVarError: plot not defined\u001b[39m",
      "",
      "Stacktrace:",
      " [1] top-level scope at In[37]:18",
      " [2] include_string(::Function, ::Module, ::String, ::String) at .\\loading.jl:1091"
     ]
    }
   ],
   "source": [
    "#Teste 2\n",
    "\n",
    "g(x) = sin(x)\n",
    "gd(x) = cos(x)\n",
    "gdd(x) = -sin(x)\n",
    "x_inicial = 0\n",
    "y_inicial = 0\n",
    "x_final = 2*pi\n",
    "y_final = 0\n",
    "n = 30\n",
    "\n",
    "y = Any[y_inicial]\n",
    "for e in resolver_PVC(gdd, x_inicial, y_inicial, x_final, y_final, n)\n",
    "    push!(y, e)\n",
    "end\n",
    "push!(y, y_final)\n",
    "\n",
    "plot(g, x_inicial, x_final)\n",
    "\n",
    "h = (x_final - x_inicial)/(n)\n",
    "scatter!(x_inicial:h:x_final, y, leg=false)"
   ]
  },
  {
   "cell_type": "code",
   "execution_count": 38,
   "metadata": {},
   "outputs": [
    {
     "ename": "LoadError",
     "evalue": "\u001b[91mUndefVarError: plot not defined\u001b[39m",
     "output_type": "error",
     "traceback": [
      "\u001b[91mUndefVarError: plot not defined\u001b[39m",
      "",
      "Stacktrace:",
      " [1] top-level scope at In[38]:18",
      " [2] include_string(::Function, ::Module, ::String, ::String) at .\\loading.jl:1091"
     ]
    }
   ],
   "source": [
    "#Teste 3\n",
    "\n",
    "g(x) = log(x)\n",
    "gd(x) = 1/x\n",
    "gdd(x) = -1/x^2\n",
    "x_inicial = 1\n",
    "y_inicial = 0\n",
    "x_final = exp(2)\n",
    "y_final = 2\n",
    "n = 30\n",
    "\n",
    "y = Any[y_inicial]\n",
    "for e in resolver_PVC(gdd, x_inicial, y_inicial, x_final, y_final, n)\n",
    "    push!(y, e)\n",
    "end\n",
    "push!(y, y_final)\n",
    "\n",
    "plot(g, x_inicial, x_final)\n",
    "\n",
    "h = (x_final - x_inicial)/(n)\n",
    "scatter!(x_inicial:h:x_final, y, leg=false)"
   ]
  },
  {
   "cell_type": "markdown",
   "metadata": {},
   "source": [
    "### Gerar a Matriz de Vandermonde"
   ]
  },
  {
   "cell_type": "code",
   "execution_count": 39,
   "metadata": {},
   "outputs": [
    {
     "data": {
      "text/plain": [
       "matriz_de_vandermonde (generic function with 1 method)"
      ]
     },
     "execution_count": 39,
     "metadata": {},
     "output_type": "execute_result"
    }
   ],
   "source": [
    "\"\"\" Essa função recebe uma lista de pontos x e retorna uma matriz cujas colunas são \n",
    "dadas por essa lista de pontos elevado a uma potência. A primeira coluna possui apenas 1s, \n",
    "a segunda é potência de 1, a terceira de 2, e assim em diante até o grau especificado. \"\"\"\n",
    "\n",
    "function matriz_de_vandermonde(pontos_x, grau)\n",
    "    matriz = ones(length(pontos_x))\n",
    "    for i in 1:grau\n",
    "        matriz = hcat(matriz, pontos_x.^i)\n",
    "    end \n",
    "    return matriz\n",
    "end"
   ]
  },
  {
   "cell_type": "code",
   "execution_count": 40,
   "metadata": {},
   "outputs": [
    {
     "data": {
      "text/plain": [
       "5×4 Array{Float64,2}:\n",
       " 1.0   1.0   1.0   1.0\n",
       " 1.0   2.0   4.0   8.0\n",
       " 1.0   4.0  16.0  64.0\n",
       " 1.0   2.0   4.0   8.0\n",
       " 1.0  -1.0   1.0  -1.0"
      ]
     },
     "execution_count": 40,
     "metadata": {},
     "output_type": "execute_result"
    }
   ],
   "source": [
    "matriz_de_vandermonde([1,2,4,2,-1], 3)"
   ]
  },
  {
   "cell_type": "code",
   "execution_count": 41,
   "metadata": {},
   "outputs": [
    {
     "data": {
      "text/plain": [
       "5×2 Array{Float64,2}:\n",
       " 1.0   1.0\n",
       " 1.0  -1.0\n",
       " 1.0   2.0\n",
       " 1.0   3.0\n",
       " 1.0  -5.0"
      ]
     },
     "execution_count": 41,
     "metadata": {},
     "output_type": "execute_result"
    }
   ],
   "source": [
    "matriz_de_vandermonde([1,-1,2,3,-5], 1)"
   ]
  },
  {
   "cell_type": "code",
   "execution_count": 42,
   "metadata": {},
   "outputs": [
    {
     "data": {
      "text/plain": [
       "4×6 Array{Float64,2}:\n",
       " 1.0  2.0  4.0   8.0  16.0   32.0\n",
       " 1.0  3.0  9.0  27.0  81.0  243.0\n",
       " 1.0  1.0  1.0   1.0   1.0    1.0\n",
       " 1.0  2.0  4.0   8.0  16.0   32.0"
      ]
     },
     "execution_count": 42,
     "metadata": {},
     "output_type": "execute_result"
    }
   ],
   "source": [
    "matriz_de_vandermonde([2,3,1,2], 5)"
   ]
  },
  {
   "cell_type": "markdown",
   "metadata": {},
   "source": [
    "### Fazer Interpolação de Curva por Vandermonde"
   ]
  },
  {
   "cell_type": "code",
   "execution_count": 43,
   "metadata": {},
   "outputs": [
    {
     "data": {
      "text/plain": [
       "interpolacao_coeficientes (generic function with 1 method)"
      ]
     },
     "execution_count": 43,
     "metadata": {},
     "output_type": "execute_result"
    }
   ],
   "source": [
    "\"\"\" Nessa função, realizamos o processo de interpolação de curvas utilizando a matriz de \n",
    "Vandermonde para o sistema. Consiste em passarmos os pontos de x e y como duas listas \n",
    "separadas e o grau do polinômio, e a função retorna os coeficientes\n",
    "do polinômio, na ordem do grau 0 até o grau especificado.\"\"\"\n",
    "\n",
    "function interpolacao_coeficientes(pontos_x, pontos_y, grau)\n",
    "    V = matriz_de_vandermonde(pontos_x,grau)\n",
    "    coeficientes = resolver_um_sistema(V,pontos_y)\n",
    "    return coeficientes\n",
    "end"
   ]
  },
  {
   "cell_type": "code",
   "execution_count": 44,
   "metadata": {},
   "outputs": [
    {
     "data": {
      "text/plain": [
       "4×1 Array{Float64,2}:\n",
       "  9.500000000000004\n",
       " -8.000000000000004\n",
       "  1.0000000000000009\n",
       " -0.10000000000000007"
      ]
     },
     "execution_count": 44,
     "metadata": {},
     "output_type": "execute_result"
    }
   ],
   "source": [
    "f(x) = 9.5 -8*x + x^2 - 0.1x^3\n",
    "interpolacao_coeficientes([1,5,6,9], [f(1),f(5),f(6),f(9)], 3)"
   ]
  },
  {
   "cell_type": "code",
   "execution_count": 45,
   "metadata": {},
   "outputs": [
    {
     "data": {
      "text/plain": [
       "6×1 Array{Float64,2}:\n",
       " -3.0\n",
       " -4.999999999999997\n",
       " -2.999999999999999\n",
       "  0.39999999999999714\n",
       " -2.220446049250313e-16\n",
       "  1.0000000000000007"
      ]
     },
     "execution_count": 45,
     "metadata": {},
     "output_type": "execute_result"
    }
   ],
   "source": [
    "f(x) = -3 - 5*x - 3*x^2 + 0.4*x^3 + x^5\n",
    "interpolacao_coeficientes([-1,0,1.5,1,-2,2], [f(-1),f(0),f(1.5),f(1),f(-2),f(2)], 5)"
   ]
  },
  {
   "cell_type": "code",
   "execution_count": 46,
   "metadata": {},
   "outputs": [
    {
     "data": {
      "text/plain": [
       "4×1 Array{Float64,2}:\n",
       " 3.0\n",
       " 5.0\n",
       " 0.0\n",
       " 0.0"
      ]
     },
     "execution_count": 46,
     "metadata": {},
     "output_type": "execute_result"
    }
   ],
   "source": [
    "f(x) = 3 + 5*x\n",
    "interpolacao_coeficientes([0,1,-1,2], [f(0),f(1),f(-1),f(2)], 3)"
   ]
  },
  {
   "cell_type": "markdown",
   "metadata": {},
   "source": [
    "### Obter Polinômio por Lagrange"
   ]
  },
  {
   "cell_type": "code",
   "execution_count": 47,
   "metadata": {},
   "outputs": [
    {
     "data": {
      "text/plain": [
       "lagrange (generic function with 1 method)"
      ]
     },
     "execution_count": 47,
     "metadata": {},
     "output_type": "execute_result"
    }
   ],
   "source": [
    "\"\"\"\n",
    "Polinômio de Lagrange dado um conjunto de pontos e o (grau - 1) do polinômio desejado\n",
    "\n",
    "@param: - coordenadas x\n",
    "        - coordenadas y\n",
    "        - (grau - 1) desejado para o polinômio de lagrange (se grau = 3, teremos P_2(x))\n",
    "\n",
    "@return: - aproximação para f no ponto x_final\n",
    "\"\"\"\n",
    "\n",
    "function lagrange(pontos_x, pontos_y, grau)\n",
    "    \n",
    "    poly = Polynomial(0.0)\n",
    "\n",
    "    for i in 1 : grau\n",
    "        coeff = Polynomial(pontos_y[i])\n",
    "        for j in 1 : grau\n",
    "            if i == j\n",
    "                # caso especial, não consideramos os\n",
    "                # mesmos índices\n",
    "                continue\n",
    "            end\n",
    "\n",
    "            # adicionamento esse coeficiente no polinômio\n",
    "            coeff = coeff * Polynomial([-pontos_x[j], 1.0]) / (pontos_x[i] - pontos_x[j])\n",
    "        end\n",
    "\n",
    "        # adicionamos o coeficiente no polinômio\n",
    "        poly += coeff\n",
    "    end\n",
    "\n",
    "    # retornamos polinômio na forma [1, x, x^2, ..., x^(grau-1)]\n",
    "    return poly\n",
    "end"
   ]
  },
  {
   "cell_type": "code",
   "execution_count": 48,
   "metadata": {},
   "outputs": [
    {
     "ename": "LoadError",
     "evalue": "\u001b[91mUndefVarError: Polynomial not defined\u001b[39m",
     "output_type": "error",
     "traceback": [
      "\u001b[91mUndefVarError: Polynomial not defined\u001b[39m",
      "",
      "Stacktrace:",
      " [1] lagrange(::Array{Float64,1}, ::Array{Float64,1}, ::Int64) at .\\In[47]:13",
      " [2] top-level scope at In[48]:4",
      " [3] include_string(::Function, ::Module, ::String, ::String) at .\\loading.jl:1091"
     ]
    }
   ],
   "source": [
    "x = [1.0, 2.0, 7.0]\n",
    "y = [2.0, 5.0, 9.0]\n",
    "\n",
    "println(coeffs(lagrange(x, y, 3)))"
   ]
  },
  {
   "cell_type": "code",
   "execution_count": 49,
   "metadata": {},
   "outputs": [
    {
     "ename": "LoadError",
     "evalue": "\u001b[91mUndefVarError: Polynomial not defined\u001b[39m",
     "output_type": "error",
     "traceback": [
      "\u001b[91mUndefVarError: Polynomial not defined\u001b[39m",
      "",
      "Stacktrace:",
      " [1] lagrange(::Array{Float64,1}, ::Array{Float64,1}, ::Int64) at .\\In[47]:13",
      " [2] top-level scope at In[49]:4",
      " [3] include_string(::Function, ::Module, ::String, ::String) at .\\loading.jl:1091"
     ]
    }
   ],
   "source": [
    "x = [-1.0, 2.0, 3.0, 5.0]\n",
    "y = [0.0, 1.0, 1.0, 2.0]\n",
    "\n",
    "println(coeffs(lagrange(x, y, 3)))"
   ]
  },
  {
   "cell_type": "code",
   "execution_count": 50,
   "metadata": {},
   "outputs": [
    {
     "ename": "LoadError",
     "evalue": "\u001b[91mUndefVarError: Polynomial not defined\u001b[39m",
     "output_type": "error",
     "traceback": [
      "\u001b[91mUndefVarError: Polynomial not defined\u001b[39m",
      "",
      "Stacktrace:",
      " [1] lagrange(::Array{Float64,1}, ::Array{Float64,1}, ::Int64) at .\\In[47]:13",
      " [2] top-level scope at In[50]:4",
      " [3] include_string(::Function, ::Module, ::String, ::String) at .\\loading.jl:1091"
     ]
    }
   ],
   "source": [
    "x = [0.0, 2.0, 4.0]\n",
    "y = [-2.0, 1.0, 4.0]\n",
    "\n",
    "println(coeffs(lagrange(x, y, 2)))"
   ]
  },
  {
   "cell_type": "markdown",
   "metadata": {},
   "source": [
    "### Fazer Interpolação de Curva por Lagrange"
   ]
  },
  {
   "cell_type": "code",
   "execution_count": 51,
   "metadata": {},
   "outputs": [
    {
     "data": {
      "text/plain": [
       "interpolacao_funcao (generic function with 1 method)"
      ]
     },
     "execution_count": 51,
     "metadata": {},
     "output_type": "execute_result"
    }
   ],
   "source": [
    "\"\"\" Essa função faz a interpolação dos pontos x e y dados e retorna uma função com o grau passado.\n",
    "Vale notar que a função é apenas um encapsulamento da função que gera o lagrange.\"\"\"\n",
    "\n",
    "function interpolacao_funcao(pontos_x,pontos_y, grau)\n",
    "    polinomio =lagrange(pontos_x,pontos_y,grau)\n",
    "    return polinomio\n",
    "end"
   ]
  },
  {
   "cell_type": "code",
   "execution_count": 52,
   "metadata": {},
   "outputs": [
    {
     "ename": "LoadError",
     "evalue": "\u001b[91mUndefVarError: Polynomial not defined\u001b[39m",
     "output_type": "error",
     "traceback": [
      "\u001b[91mUndefVarError: Polynomial not defined\u001b[39m",
      "",
      "Stacktrace:",
      " [1] lagrange(::Array{Float64,1}, ::Array{Float64,1}, ::Int64) at .\\In[47]:13",
      " [2] interpolacao_funcao(::Array{Float64,1}, ::Array{Float64,1}, ::Int64) at .\\In[51]:5",
      " [3] top-level scope at In[52]:4",
      " [4] include_string(::Function, ::Module, ::String, ::String) at .\\loading.jl:1091"
     ]
    }
   ],
   "source": [
    "x = [1.0, 2.0, 7.0]\n",
    "y = [2.0, 5.0, 9.0]\n",
    "\n",
    "interpolacao_funcao(x,y,3)"
   ]
  },
  {
   "cell_type": "code",
   "execution_count": 53,
   "metadata": {},
   "outputs": [
    {
     "ename": "LoadError",
     "evalue": "\u001b[91mUndefVarError: Polynomial not defined\u001b[39m",
     "output_type": "error",
     "traceback": [
      "\u001b[91mUndefVarError: Polynomial not defined\u001b[39m",
      "",
      "Stacktrace:",
      " [1] lagrange(::Array{Float64,1}, ::Array{Float64,1}, ::Int64) at .\\In[47]:13",
      " [2] interpolacao_funcao(::Array{Float64,1}, ::Array{Float64,1}, ::Int64) at .\\In[51]:5",
      " [3] top-level scope at In[53]:4",
      " [4] include_string(::Function, ::Module, ::String, ::String) at .\\loading.jl:1091"
     ]
    }
   ],
   "source": [
    "x = [-1.0, 2.0, 3.0, 5.0]\n",
    "y = [0.0, 1.0, 1.0, 2.0]\n",
    "\n",
    "interpolacao_funcao(x, y, 3)"
   ]
  },
  {
   "cell_type": "code",
   "execution_count": 54,
   "metadata": {},
   "outputs": [
    {
     "ename": "LoadError",
     "evalue": "\u001b[91mUndefVarError: Polynomial not defined\u001b[39m",
     "output_type": "error",
     "traceback": [
      "\u001b[91mUndefVarError: Polynomial not defined\u001b[39m",
      "",
      "Stacktrace:",
      " [1] lagrange(::Array{Float64,1}, ::Array{Float64,1}, ::Int64) at .\\In[47]:13",
      " [2] interpolacao_funcao(::Array{Float64,1}, ::Array{Float64,1}, ::Int64) at .\\In[51]:5",
      " [3] top-level scope at In[54]:4",
      " [4] include_string(::Function, ::Module, ::String, ::String) at .\\loading.jl:1091"
     ]
    }
   ],
   "source": [
    "x = [0.0, 2.0, 4.0]\n",
    "y = [-2.0, 1.0, 4.0]\n",
    "\n",
    "interpolacao_funcao(x, y, 2)"
   ]
  },
  {
   "cell_type": "markdown",
   "metadata": {},
   "source": [
    "### Aplicação de um x em uma função"
   ]
  },
  {
   "cell_type": "code",
   "execution_count": 55,
   "metadata": {},
   "outputs": [
    {
     "data": {
      "text/plain": [
       "applica (generic function with 1 method)"
      ]
     },
     "execution_count": 55,
     "metadata": {},
     "output_type": "execute_result"
    }
   ],
   "source": [
    "\"\"\" Função auxiliar que transforma uma lista de coeficientes num polinômio centrado em x0 que também é dado como entrada.\n",
    "\n",
    "Ex de entrada:\n",
    "[ c, b, a ]\n",
    "Saída:\n",
    "ax^2 + bx + c\n",
    "\"\"\"\n",
    "\n",
    "function applica(coeficientes, valor_de_x) # Recebe a lista de coeficientes e o valor x0 \n",
    "    grau_x = 1                             # Começamos com x^0 no polinômio, ou seja, o termo de coeficientes constante\n",
    "    valor_do_polinomio_no_x = 0            # Polinômio começa com valor igual a 0\n",
    "    for i = 1:length(coeficientes)         \n",
    "        valor_do_polinomio_no_x += coeficientes[i] * grau_x # x0^(i-1) * C_i\n",
    "        grau_x *= valor_de_x # x0^(i-1) = x0^i\n",
    "    end\n",
    "    return valor_do_polinomio_no_x # retorna o valor do polinômio em x0\n",
    "end"
   ]
  },
  {
   "cell_type": "markdown",
   "metadata": {},
   "source": [
    "### Resolver um Sistema por Mínimos Quadrados"
   ]
  },
  {
   "cell_type": "code",
   "execution_count": 65,
   "metadata": {},
   "outputs": [
    {
     "data": {
      "text/plain": [
       "resolver_um_sistema_por_minimos_quadrados (generic function with 1 method)"
      ]
     },
     "execution_count": 65,
     "metadata": {},
     "output_type": "execute_result"
    }
   ],
   "source": [
    "# Thierry\n",
    "function resolver_um_sistema_por_minimos_quadrados(A,b) #feito\n",
    "    x=resolver_um_sistema(A'*A,A'*b)\n",
    "    return x\n",
    "end"
   ]
  },
  {
   "cell_type": "markdown",
   "metadata": {},
   "source": [
    "### Regressão Linear de Funções Lineares"
   ]
  },
  {
   "cell_type": "code",
   "execution_count": 56,
   "metadata": {},
   "outputs": [
    {
     "data": {
      "text/plain": [
       "regressão_coeficientes_lineares (generic function with 1 method)"
      ]
     },
     "execution_count": 56,
     "metadata": {},
     "output_type": "execute_result"
    }
   ],
   "source": [
    "function regressão_coeficientes_lineares(pontos_x,pontos_y, grau) #Feito\n",
    "    V=matriz_de_vandermonde(pontos_x,grau)  #matrix alta #muitas linhas e poucas colunas \n",
    "    coeficientes= resolver_um_sistema_por_minimos_quadrados(V,pontos_y)\n",
    "    return coeficientes\n",
    "end"
   ]
  },
  {
   "cell_type": "code",
   "execution_count": 57,
   "metadata": {},
   "outputs": [
    {
     "ename": "LoadError",
     "evalue": "\u001b[91mUndefVarError: resolver_um_sistema_por_minimos_quadrados not defined\u001b[39m",
     "output_type": "error",
     "traceback": [
      "\u001b[91mUndefVarError: resolver_um_sistema_por_minimos_quadrados not defined\u001b[39m",
      "",
      "Stacktrace:",
      " [1] regressão_coeficientes_lineares(::StepRangeLen{Float64,Base.TwicePrecision{Float64},Base.TwicePrecision{Float64}}, ::Array{Float64,1}, ::Int64) at .\\In[56]:3",
      " [2] top-level scope at In[57]:8",
      " [3] include_string(::Function, ::Module, ::String, ::String) at .\\loading.jl:1091"
     ]
    }
   ],
   "source": [
    "grau = 1\n",
    "\n",
    "n = 21\n",
    "x = range(-10, 10, length=n)\n",
    "y = zeros(n)\n",
    "y[11] = 1;\n",
    "\n",
    "a = regressão_coeficientes_lineares(x, y, grau) # recebe os coeficientes\n",
    "println(a)  # printa os coeficientes\n",
    "\n",
    "# Plota os pontos junto com a curva que conseguimos que minimiza a soma dos quadrados das distâncias\n",
    "scatter(x,y,leg=false)\n",
    "plot!(x -> a[1] + a[2] * x, extrema(x)..., c=:red, lw=2)\n",
    "title!(\"Mínimos Quadrados\")"
   ]
  },
  {
   "cell_type": "code",
   "execution_count": 58,
   "metadata": {},
   "outputs": [
    {
     "ename": "LoadError",
     "evalue": "\u001b[91mUndefVarError: resolver_um_sistema_por_minimos_quadrados not defined\u001b[39m",
     "output_type": "error",
     "traceback": [
      "\u001b[91mUndefVarError: resolver_um_sistema_por_minimos_quadrados not defined\u001b[39m",
      "",
      "Stacktrace:",
      " [1] regressão_coeficientes_lineares(::Array{Float64,1}, ::Array{Int64,1}, ::Int64) at .\\In[56]:3",
      " [2] top-level scope at In[58]:4",
      " [3] include_string(::Function, ::Module, ::String, ::String) at .\\loading.jl:1091"
     ]
    }
   ],
   "source": [
    "x = [23.2, 24, 23.9, 26.3, 26.5, 26.8, 26.8, 27.6, 27.6, 28.5, 28.4, 28.7, 29.1, 29.5, 29.4, 29.4, 30.4, 30.4, 30.9, 31, 31.3, 31.4, 31.5, 31.8, 31.9, 31.8, 32, 32.7, 32.8, 33.5, 35, 35, 36.2, 37.4, 38]\n",
    "y = [242, 290, 340, 363, 430, 450, 500, 390, 450, 500, 475, 500, 500, 340, 600, 600, 700, 700, 610, 650, 575, 685, 620, 680, 700, 725, 720, 714, 850, 1000, 920, 955, 925, 975, 950]\n",
    "\n",
    "a = regressão_coeficientes_lineares(x, y, grau) # recebe os coeficientes\n",
    "println(a)  # printa os coeficientes\n",
    "\n",
    "# Plota os pontos junto com a curva que conseguimos que minimiza a soma dos quadrados das distâncias\n",
    "scatter(x,y,leg=false)\n",
    "plot!(x -> a[1] + a[2] * x, extrema(x)..., c=:red, lw=2)\n",
    "title!(\"Mínimos Quadrados\")"
   ]
  },
  {
   "cell_type": "code",
   "execution_count": 163,
   "metadata": {},
   "outputs": [
    {
     "name": "stdout",
     "output_type": "stream",
     "text": [
      "[0.0; 1.0]\n"
     ]
    },
    {
     "data": {
      "image/svg+xml": [
       "<?xml version=\"1.0\" encoding=\"utf-8\"?>\n",
       "<svg xmlns=\"http://www.w3.org/2000/svg\" xmlns:xlink=\"http://www.w3.org/1999/xlink\" width=\"600\" height=\"400\" viewBox=\"0 0 2400 1600\">\n",
       "<defs>\n",
       "  <clipPath id=\"clip770\">\n",
       "    <rect x=\"0\" y=\"0\" width=\"2400\" height=\"1600\"/>\n",
       "  </clipPath>\n",
       "</defs>\n",
       "<path clip-path=\"url(#clip770)\" d=\"\n",
       "M0 1600 L2400 1600 L2400 0 L0 0  Z\n",
       "  \" fill=\"#ffffff\" fill-rule=\"evenodd\" fill-opacity=\"1\"/>\n",
       "<defs>\n",
       "  <clipPath id=\"clip771\">\n",
       "    <rect x=\"480\" y=\"0\" width=\"1681\" height=\"1600\"/>\n",
       "  </clipPath>\n",
       "</defs>\n",
       "<path clip-path=\"url(#clip770)\" d=\"\n",
       "M199.283 1486.45 L2352.76 1486.45 L2352.76 123.472 L199.283 123.472  Z\n",
       "  \" fill=\"#ffffff\" fill-rule=\"evenodd\" fill-opacity=\"1\"/>\n",
       "<defs>\n",
       "  <clipPath id=\"clip772\">\n",
       "    <rect x=\"199\" y=\"123\" width=\"2154\" height=\"1364\"/>\n",
       "  </clipPath>\n",
       "</defs>\n",
       "<polyline clip-path=\"url(#clip772)\" style=\"stroke:#000000; stroke-width:2; stroke-opacity:0.1; fill:none\" points=\"\n",
       "  258.197,1486.45 258.197,123.472 \n",
       "  \"/>\n",
       "<polyline clip-path=\"url(#clip772)\" style=\"stroke:#000000; stroke-width:2; stroke-opacity:0.1; fill:none\" points=\"\n",
       "  766.6,1486.45 766.6,123.472 \n",
       "  \"/>\n",
       "<polyline clip-path=\"url(#clip772)\" style=\"stroke:#000000; stroke-width:2; stroke-opacity:0.1; fill:none\" points=\"\n",
       "  1275,1486.45 1275,123.472 \n",
       "  \"/>\n",
       "<polyline clip-path=\"url(#clip772)\" style=\"stroke:#000000; stroke-width:2; stroke-opacity:0.1; fill:none\" points=\"\n",
       "  1783.41,1486.45 1783.41,123.472 \n",
       "  \"/>\n",
       "<polyline clip-path=\"url(#clip772)\" style=\"stroke:#000000; stroke-width:2; stroke-opacity:0.1; fill:none\" points=\"\n",
       "  2291.81,1486.45 2291.81,123.472 \n",
       "  \"/>\n",
       "<polyline clip-path=\"url(#clip770)\" style=\"stroke:#000000; stroke-width:4; stroke-opacity:1; fill:none\" points=\"\n",
       "  199.283,1486.45 2352.76,1486.45 \n",
       "  \"/>\n",
       "<polyline clip-path=\"url(#clip770)\" style=\"stroke:#000000; stroke-width:4; stroke-opacity:1; fill:none\" points=\"\n",
       "  258.197,1486.45 258.197,1470.09 \n",
       "  \"/>\n",
       "<polyline clip-path=\"url(#clip770)\" style=\"stroke:#000000; stroke-width:4; stroke-opacity:1; fill:none\" points=\"\n",
       "  766.6,1486.45 766.6,1470.09 \n",
       "  \"/>\n",
       "<polyline clip-path=\"url(#clip770)\" style=\"stroke:#000000; stroke-width:4; stroke-opacity:1; fill:none\" points=\"\n",
       "  1275,1486.45 1275,1470.09 \n",
       "  \"/>\n",
       "<polyline clip-path=\"url(#clip770)\" style=\"stroke:#000000; stroke-width:4; stroke-opacity:1; fill:none\" points=\"\n",
       "  1783.41,1486.45 1783.41,1470.09 \n",
       "  \"/>\n",
       "<polyline clip-path=\"url(#clip770)\" style=\"stroke:#000000; stroke-width:4; stroke-opacity:1; fill:none\" points=\"\n",
       "  2291.81,1486.45 2291.81,1470.09 \n",
       "  \"/>\n",
       "<path clip-path=\"url(#clip770)\" d=\"M 0 0 M258.197 1515.64 Q254.586 1515.64 252.757 1519.2 Q250.952 1522.75 250.952 1529.87 Q250.952 1536.98 252.757 1540.55 Q254.586 1544.09 258.197 1544.09 Q261.831 1544.09 263.637 1540.55 Q265.465 1536.98 265.465 1529.87 Q265.465 1522.75 263.637 1519.2 Q261.831 1515.64 258.197 1515.64 M258.197 1511.93 Q264.007 1511.93 267.063 1516.54 Q270.141 1521.12 270.141 1529.87 Q270.141 1538.6 267.063 1543.21 Q264.007 1547.79 258.197 1547.79 Q252.387 1547.79 249.308 1543.21 Q246.253 1538.6 246.253 1529.87 Q246.253 1521.12 249.308 1516.54 Q252.387 1511.93 258.197 1511.93 Z\" fill=\"#000000\" fill-rule=\"evenodd\" fill-opacity=\"1\" /><path clip-path=\"url(#clip770)\" d=\"M 0 0 M730.292 1543.18 L746.612 1543.18 L746.612 1547.12 L724.667 1547.12 L724.667 1543.18 Q727.329 1540.43 731.913 1535.8 Q736.519 1531.15 737.7 1529.81 Q739.945 1527.28 740.825 1525.55 Q741.727 1523.79 741.727 1522.1 Q741.727 1519.34 739.783 1517.61 Q737.862 1515.87 734.76 1515.87 Q732.561 1515.87 730.107 1516.63 Q727.676 1517.4 724.899 1518.95 L724.899 1514.23 Q727.723 1513.09 730.176 1512.51 Q732.63 1511.93 734.667 1511.93 Q740.037 1511.93 743.232 1514.62 Q746.426 1517.31 746.426 1521.8 Q746.426 1523.93 745.616 1525.85 Q744.829 1527.74 742.723 1530.34 Q742.144 1531.01 739.042 1534.23 Q735.94 1537.42 730.292 1543.18 Z\" fill=\"#000000\" fill-rule=\"evenodd\" fill-opacity=\"1\" /><path clip-path=\"url(#clip770)\" d=\"M 0 0 M756.473 1512.56 L774.829 1512.56 L774.829 1516.5 L760.755 1516.5 L760.755 1524.97 Q761.773 1524.62 762.792 1524.46 Q763.81 1524.27 764.829 1524.27 Q770.616 1524.27 773.996 1527.44 Q777.375 1530.62 777.375 1536.03 Q777.375 1541.61 773.903 1544.71 Q770.431 1547.79 764.111 1547.79 Q761.936 1547.79 759.667 1547.42 Q757.422 1547.05 755.014 1546.31 L755.014 1541.61 Q757.098 1542.74 759.32 1543.3 Q761.542 1543.86 764.019 1543.86 Q768.023 1543.86 770.361 1541.75 Q772.699 1539.64 772.699 1536.03 Q772.699 1532.42 770.361 1530.31 Q768.023 1528.21 764.019 1528.21 Q762.144 1528.21 760.269 1528.62 Q758.417 1529.04 756.473 1529.92 L756.473 1512.56 Z\" fill=\"#000000\" fill-rule=\"evenodd\" fill-opacity=\"1\" /><path clip-path=\"url(#clip770)\" d=\"M 0 0 M796.588 1515.64 Q792.977 1515.64 791.148 1519.2 Q789.343 1522.75 789.343 1529.87 Q789.343 1536.98 791.148 1540.55 Q792.977 1544.09 796.588 1544.09 Q800.222 1544.09 802.028 1540.55 Q803.857 1536.98 803.857 1529.87 Q803.857 1522.75 802.028 1519.2 Q800.222 1515.64 796.588 1515.64 M796.588 1511.93 Q802.398 1511.93 805.454 1516.54 Q808.532 1521.12 808.532 1529.87 Q808.532 1538.6 805.454 1543.21 Q802.398 1547.79 796.588 1547.79 Q790.778 1547.79 787.699 1543.21 Q784.644 1538.6 784.644 1529.87 Q784.644 1521.12 787.699 1516.54 Q790.778 1511.93 796.588 1511.93 Z\" fill=\"#000000\" fill-rule=\"evenodd\" fill-opacity=\"1\" /><path clip-path=\"url(#clip770)\" d=\"M 0 0 M1234.62 1512.56 L1252.98 1512.56 L1252.98 1516.5 L1238.9 1516.5 L1238.9 1524.97 Q1239.92 1524.62 1240.94 1524.46 Q1241.96 1524.27 1242.98 1524.27 Q1248.76 1524.27 1252.14 1527.44 Q1255.52 1530.62 1255.52 1536.03 Q1255.52 1541.61 1252.05 1544.71 Q1248.58 1547.79 1242.26 1547.79 Q1240.08 1547.79 1237.82 1547.42 Q1235.57 1547.05 1233.16 1546.31 L1233.16 1541.61 Q1235.25 1542.74 1237.47 1543.3 Q1239.69 1543.86 1242.17 1543.86 Q1246.17 1543.86 1248.51 1541.75 Q1250.85 1539.64 1250.85 1536.03 Q1250.85 1532.42 1248.51 1530.31 Q1246.17 1528.21 1242.17 1528.21 Q1240.29 1528.21 1238.42 1528.62 Q1236.57 1529.04 1234.62 1529.92 L1234.62 1512.56 Z\" fill=\"#000000\" fill-rule=\"evenodd\" fill-opacity=\"1\" /><path clip-path=\"url(#clip770)\" d=\"M 0 0 M1274.74 1515.64 Q1271.13 1515.64 1269.3 1519.2 Q1267.49 1522.75 1267.49 1529.87 Q1267.49 1536.98 1269.3 1540.55 Q1271.13 1544.09 1274.74 1544.09 Q1278.37 1544.09 1280.18 1540.55 Q1282.01 1536.98 1282.01 1529.87 Q1282.01 1522.75 1280.18 1519.2 Q1278.37 1515.64 1274.74 1515.64 M1274.74 1511.93 Q1280.55 1511.93 1283.6 1516.54 Q1286.68 1521.12 1286.68 1529.87 Q1286.68 1538.6 1283.6 1543.21 Q1280.55 1547.79 1274.74 1547.79 Q1268.93 1547.79 1265.85 1543.21 Q1262.79 1538.6 1262.79 1529.87 Q1262.79 1521.12 1265.85 1516.54 Q1268.93 1511.93 1274.74 1511.93 Z\" fill=\"#000000\" fill-rule=\"evenodd\" fill-opacity=\"1\" /><path clip-path=\"url(#clip770)\" d=\"M 0 0 M1304.9 1515.64 Q1301.29 1515.64 1299.46 1519.2 Q1297.65 1522.75 1297.65 1529.87 Q1297.65 1536.98 1299.46 1540.55 Q1301.29 1544.09 1304.9 1544.09 Q1308.53 1544.09 1310.34 1540.55 Q1312.17 1536.98 1312.17 1529.87 Q1312.17 1522.75 1310.34 1519.2 Q1308.53 1515.64 1304.9 1515.64 M1304.9 1511.93 Q1310.71 1511.93 1313.76 1516.54 Q1316.84 1521.12 1316.84 1529.87 Q1316.84 1538.6 1313.76 1543.21 Q1310.71 1547.79 1304.9 1547.79 Q1299.09 1547.79 1296.01 1543.21 Q1292.95 1538.6 1292.95 1529.87 Q1292.95 1521.12 1296.01 1516.54 Q1299.09 1511.93 1304.9 1511.93 Z\" fill=\"#000000\" fill-rule=\"evenodd\" fill-opacity=\"1\" /><path clip-path=\"url(#clip770)\" d=\"M 0 0 M1741.68 1512.56 L1763.9 1512.56 L1763.9 1514.55 L1751.36 1547.12 L1746.47 1547.12 L1758.28 1516.5 L1741.68 1516.5 L1741.68 1512.56 Z\" fill=\"#000000\" fill-rule=\"evenodd\" fill-opacity=\"1\" /><path clip-path=\"url(#clip770)\" d=\"M 0 0 M1773.07 1512.56 L1791.43 1512.56 L1791.43 1516.5 L1777.35 1516.5 L1777.35 1524.97 Q1778.37 1524.62 1779.39 1524.46 Q1780.41 1524.27 1781.43 1524.27 Q1787.21 1524.27 1790.59 1527.44 Q1793.97 1530.62 1793.97 1536.03 Q1793.97 1541.61 1790.5 1544.71 Q1787.03 1547.79 1780.71 1547.79 Q1778.53 1547.79 1776.26 1547.42 Q1774.02 1547.05 1771.61 1546.31 L1771.61 1541.61 Q1773.7 1542.74 1775.92 1543.3 Q1778.14 1543.86 1780.62 1543.86 Q1784.62 1543.86 1786.96 1541.75 Q1789.3 1539.64 1789.3 1536.03 Q1789.3 1532.42 1786.96 1530.31 Q1784.62 1528.21 1780.62 1528.21 Q1778.74 1528.21 1776.87 1528.62 Q1775.01 1529.04 1773.07 1529.92 L1773.07 1512.56 Z\" fill=\"#000000\" fill-rule=\"evenodd\" fill-opacity=\"1\" /><path clip-path=\"url(#clip770)\" d=\"M 0 0 M1813.19 1515.64 Q1809.57 1515.64 1807.75 1519.2 Q1805.94 1522.75 1805.94 1529.87 Q1805.94 1536.98 1807.75 1540.55 Q1809.57 1544.09 1813.19 1544.09 Q1816.82 1544.09 1818.63 1540.55 Q1820.45 1536.98 1820.45 1529.87 Q1820.45 1522.75 1818.63 1519.2 Q1816.82 1515.64 1813.19 1515.64 M1813.19 1511.93 Q1819 1511.93 1822.05 1516.54 Q1825.13 1521.12 1825.13 1529.87 Q1825.13 1538.6 1822.05 1543.21 Q1819 1547.79 1813.19 1547.79 Q1807.38 1547.79 1804.3 1543.21 Q1801.24 1538.6 1801.24 1529.87 Q1801.24 1521.12 1804.3 1516.54 Q1807.38 1511.93 1813.19 1511.93 Z\" fill=\"#000000\" fill-rule=\"evenodd\" fill-opacity=\"1\" /><path clip-path=\"url(#clip770)\" d=\"M 0 0 M2236.33 1543.18 L2243.97 1543.18 L2243.97 1516.82 L2235.66 1518.49 L2235.66 1514.23 L2243.93 1512.56 L2248.6 1512.56 L2248.6 1543.18 L2256.24 1543.18 L2256.24 1547.12 L2236.33 1547.12 L2236.33 1543.18 Z\" fill=\"#000000\" fill-rule=\"evenodd\" fill-opacity=\"1\" /><path clip-path=\"url(#clip770)\" d=\"M 0 0 M2275.69 1515.64 Q2272.07 1515.64 2270.25 1519.2 Q2268.44 1522.75 2268.44 1529.87 Q2268.44 1536.98 2270.25 1540.55 Q2272.07 1544.09 2275.69 1544.09 Q2279.32 1544.09 2281.13 1540.55 Q2282.95 1536.98 2282.95 1529.87 Q2282.95 1522.75 2281.13 1519.2 Q2279.32 1515.64 2275.69 1515.64 M2275.69 1511.93 Q2281.5 1511.93 2284.55 1516.54 Q2287.63 1521.12 2287.63 1529.87 Q2287.63 1538.6 2284.55 1543.21 Q2281.5 1547.79 2275.69 1547.79 Q2269.88 1547.79 2266.8 1543.21 Q2263.74 1538.6 2263.74 1529.87 Q2263.74 1521.12 2266.8 1516.54 Q2269.88 1511.93 2275.69 1511.93 Z\" fill=\"#000000\" fill-rule=\"evenodd\" fill-opacity=\"1\" /><path clip-path=\"url(#clip770)\" d=\"M 0 0 M2305.85 1515.64 Q2302.24 1515.64 2300.41 1519.2 Q2298.6 1522.75 2298.6 1529.87 Q2298.6 1536.98 2300.41 1540.55 Q2302.24 1544.09 2305.85 1544.09 Q2309.48 1544.09 2311.29 1540.55 Q2313.12 1536.98 2313.12 1529.87 Q2313.12 1522.75 2311.29 1519.2 Q2309.48 1515.64 2305.85 1515.64 M2305.85 1511.93 Q2311.66 1511.93 2314.71 1516.54 Q2317.79 1521.12 2317.79 1529.87 Q2317.79 1538.6 2314.71 1543.21 Q2311.66 1547.79 2305.85 1547.79 Q2300.04 1547.79 2296.96 1543.21 Q2293.9 1538.6 2293.9 1529.87 Q2293.9 1521.12 2296.96 1516.54 Q2300.04 1511.93 2305.85 1511.93 Z\" fill=\"#000000\" fill-rule=\"evenodd\" fill-opacity=\"1\" /><path clip-path=\"url(#clip770)\" d=\"M 0 0 M2336.01 1515.64 Q2332.4 1515.64 2330.57 1519.2 Q2328.76 1522.75 2328.76 1529.87 Q2328.76 1536.98 2330.57 1540.55 Q2332.4 1544.09 2336.01 1544.09 Q2339.64 1544.09 2341.45 1540.55 Q2343.28 1536.98 2343.28 1529.87 Q2343.28 1522.75 2341.45 1519.2 Q2339.64 1515.64 2336.01 1515.64 M2336.01 1511.93 Q2341.82 1511.93 2344.88 1516.54 Q2347.95 1521.12 2347.95 1529.87 Q2347.95 1538.6 2344.88 1543.21 Q2341.82 1547.79 2336.01 1547.79 Q2330.2 1547.79 2327.12 1543.21 Q2324.07 1538.6 2324.07 1529.87 Q2324.07 1521.12 2327.12 1516.54 Q2330.2 1511.93 2336.01 1511.93 Z\" fill=\"#000000\" fill-rule=\"evenodd\" fill-opacity=\"1\" /><polyline clip-path=\"url(#clip772)\" style=\"stroke:#000000; stroke-width:2; stroke-opacity:0.1; fill:none\" points=\"\n",
       "  199.283,1449.16 2352.76,1449.16 \n",
       "  \"/>\n",
       "<polyline clip-path=\"url(#clip772)\" style=\"stroke:#000000; stroke-width:2; stroke-opacity:0.1; fill:none\" points=\"\n",
       "  199.283,1127.38 2352.76,1127.38 \n",
       "  \"/>\n",
       "<polyline clip-path=\"url(#clip772)\" style=\"stroke:#000000; stroke-width:2; stroke-opacity:0.1; fill:none\" points=\"\n",
       "  199.283,805.604 2352.76,805.604 \n",
       "  \"/>\n",
       "<polyline clip-path=\"url(#clip772)\" style=\"stroke:#000000; stroke-width:2; stroke-opacity:0.1; fill:none\" points=\"\n",
       "  199.283,483.825 2352.76,483.825 \n",
       "  \"/>\n",
       "<polyline clip-path=\"url(#clip772)\" style=\"stroke:#000000; stroke-width:2; stroke-opacity:0.1; fill:none\" points=\"\n",
       "  199.283,162.047 2352.76,162.047 \n",
       "  \"/>\n",
       "<polyline clip-path=\"url(#clip770)\" style=\"stroke:#000000; stroke-width:4; stroke-opacity:1; fill:none\" points=\"\n",
       "  199.283,1486.45 199.283,123.472 \n",
       "  \"/>\n",
       "<polyline clip-path=\"url(#clip770)\" style=\"stroke:#000000; stroke-width:4; stroke-opacity:1; fill:none\" points=\"\n",
       "  199.283,1449.16 225.125,1449.16 \n",
       "  \"/>\n",
       "<polyline clip-path=\"url(#clip770)\" style=\"stroke:#000000; stroke-width:4; stroke-opacity:1; fill:none\" points=\"\n",
       "  199.283,1127.38 225.125,1127.38 \n",
       "  \"/>\n",
       "<polyline clip-path=\"url(#clip770)\" style=\"stroke:#000000; stroke-width:4; stroke-opacity:1; fill:none\" points=\"\n",
       "  199.283,805.604 225.125,805.604 \n",
       "  \"/>\n",
       "<polyline clip-path=\"url(#clip770)\" style=\"stroke:#000000; stroke-width:4; stroke-opacity:1; fill:none\" points=\"\n",
       "  199.283,483.825 225.125,483.825 \n",
       "  \"/>\n",
       "<polyline clip-path=\"url(#clip770)\" style=\"stroke:#000000; stroke-width:4; stroke-opacity:1; fill:none\" points=\"\n",
       "  199.283,162.047 225.125,162.047 \n",
       "  \"/>\n",
       "<path clip-path=\"url(#clip770)\" d=\"M 0 0 M151.339 1434.96 Q147.728 1434.96 145.899 1438.52 Q144.093 1442.07 144.093 1449.19 Q144.093 1456.3 145.899 1459.87 Q147.728 1463.41 151.339 1463.41 Q154.973 1463.41 156.779 1459.87 Q158.607 1456.3 158.607 1449.19 Q158.607 1442.07 156.779 1438.52 Q154.973 1434.96 151.339 1434.96 M151.339 1431.26 Q157.149 1431.26 160.205 1435.86 Q163.283 1440.44 163.283 1449.19 Q163.283 1457.92 160.205 1462.53 Q157.149 1467.11 151.339 1467.11 Q145.529 1467.11 142.45 1462.53 Q139.394 1457.92 139.394 1449.19 Q139.394 1440.44 142.45 1435.86 Q145.529 1431.26 151.339 1431.26 Z\" fill=\"#000000\" fill-rule=\"evenodd\" fill-opacity=\"1\" /><path clip-path=\"url(#clip770)\" d=\"M 0 0 M85.0429 1140.73 L101.362 1140.73 L101.362 1144.66 L79.4179 1144.66 L79.4179 1140.73 Q82.0799 1137.97 86.6632 1133.34 Q91.2697 1128.69 92.4502 1127.35 Q94.6956 1124.82 95.5752 1123.09 Q96.478 1121.33 96.478 1119.64 Q96.478 1116.88 94.5336 1115.15 Q92.6123 1113.41 89.5104 1113.41 Q87.3114 1113.41 84.8577 1114.18 Q82.4271 1114.94 79.6494 1116.49 L79.6494 1111.77 Q82.4734 1110.63 84.9271 1110.06 Q87.3808 1109.48 89.4178 1109.48 Q94.7882 1109.48 97.9826 1112.16 Q101.177 1114.85 101.177 1119.34 Q101.177 1121.47 100.367 1123.39 Q99.5798 1125.29 97.4734 1127.88 Q96.8947 1128.55 93.7928 1131.77 Q90.691 1134.96 85.0429 1140.73 Z\" fill=\"#000000\" fill-rule=\"evenodd\" fill-opacity=\"1\" /><path clip-path=\"url(#clip770)\" d=\"M 0 0 M111.223 1110.1 L129.58 1110.1 L129.58 1114.04 L115.506 1114.04 L115.506 1122.51 Q116.524 1122.16 117.543 1122 Q118.561 1121.81 119.58 1121.81 Q125.367 1121.81 128.746 1124.99 Q132.126 1128.16 132.126 1133.57 Q132.126 1139.15 128.654 1142.25 Q125.182 1145.33 118.862 1145.33 Q116.686 1145.33 114.418 1144.96 Q112.172 1144.59 109.765 1143.85 L109.765 1139.15 Q111.848 1140.29 114.07 1140.84 Q116.293 1141.4 118.77 1141.4 Q122.774 1141.4 125.112 1139.29 Q127.45 1137.19 127.45 1133.57 Q127.45 1129.96 125.112 1127.86 Q122.774 1125.75 118.77 1125.75 Q116.895 1125.75 115.02 1126.17 Q113.168 1126.58 111.223 1127.46 L111.223 1110.1 Z\" fill=\"#000000\" fill-rule=\"evenodd\" fill-opacity=\"1\" /><path clip-path=\"url(#clip770)\" d=\"M 0 0 M151.339 1113.18 Q147.728 1113.18 145.899 1116.75 Q144.093 1120.29 144.093 1127.42 Q144.093 1134.52 145.899 1138.09 Q147.728 1141.63 151.339 1141.63 Q154.973 1141.63 156.779 1138.09 Q158.607 1134.52 158.607 1127.42 Q158.607 1120.29 156.779 1116.75 Q154.973 1113.18 151.339 1113.18 M151.339 1109.48 Q157.149 1109.48 160.205 1114.08 Q163.283 1118.67 163.283 1127.42 Q163.283 1136.14 160.205 1140.75 Q157.149 1145.33 151.339 1145.33 Q145.529 1145.33 142.45 1140.75 Q139.394 1136.14 139.394 1127.42 Q139.394 1118.67 142.45 1114.08 Q145.529 1109.48 151.339 1109.48 Z\" fill=\"#000000\" fill-rule=\"evenodd\" fill-opacity=\"1\" /><path clip-path=\"url(#clip770)\" d=\"M 0 0 M81.0614 788.324 L99.4178 788.324 L99.4178 792.259 L85.3438 792.259 L85.3438 800.731 Q86.3623 800.384 87.3808 800.222 Q88.3993 800.036 89.4178 800.036 Q95.2049 800.036 98.5845 803.208 Q101.964 806.379 101.964 811.796 Q101.964 817.374 98.4919 820.476 Q95.0197 823.555 88.7003 823.555 Q86.5243 823.555 84.2558 823.184 Q82.0105 822.814 79.6031 822.073 L79.6031 817.374 Q81.6864 818.509 83.9086 819.064 Q86.1308 819.62 88.6077 819.62 Q92.6123 819.62 94.9502 817.513 Q97.2882 815.407 97.2882 811.796 Q97.2882 808.185 94.9502 806.078 Q92.6123 803.972 88.6077 803.972 Q86.7327 803.972 84.8577 804.388 Q83.0058 804.805 81.0614 805.685 L81.0614 788.324 Z\" fill=\"#000000\" fill-rule=\"evenodd\" fill-opacity=\"1\" /><path clip-path=\"url(#clip770)\" d=\"M 0 0 M121.177 791.402 Q117.566 791.402 115.737 794.967 Q113.932 798.509 113.932 805.638 Q113.932 812.745 115.737 816.31 Q117.566 819.851 121.177 819.851 Q124.811 819.851 126.617 816.31 Q128.445 812.745 128.445 805.638 Q128.445 798.509 126.617 794.967 Q124.811 791.402 121.177 791.402 M121.177 787.699 Q126.987 787.699 130.043 792.305 Q133.121 796.888 133.121 805.638 Q133.121 814.365 130.043 818.972 Q126.987 823.555 121.177 823.555 Q115.367 823.555 112.288 818.972 Q109.233 814.365 109.233 805.638 Q109.233 796.888 112.288 792.305 Q115.367 787.699 121.177 787.699 Z\" fill=\"#000000\" fill-rule=\"evenodd\" fill-opacity=\"1\" /><path clip-path=\"url(#clip770)\" d=\"M 0 0 M151.339 791.402 Q147.728 791.402 145.899 794.967 Q144.093 798.509 144.093 805.638 Q144.093 812.745 145.899 816.31 Q147.728 819.851 151.339 819.851 Q154.973 819.851 156.779 816.31 Q158.607 812.745 158.607 805.638 Q158.607 798.509 156.779 794.967 Q154.973 791.402 151.339 791.402 M151.339 787.699 Q157.149 787.699 160.205 792.305 Q163.283 796.888 163.283 805.638 Q163.283 814.365 160.205 818.972 Q157.149 823.555 151.339 823.555 Q145.529 823.555 142.45 818.972 Q139.394 814.365 139.394 805.638 Q139.394 796.888 142.45 792.305 Q145.529 787.699 151.339 787.699 Z\" fill=\"#000000\" fill-rule=\"evenodd\" fill-opacity=\"1\" /><path clip-path=\"url(#clip770)\" d=\"M 0 0 M79.8346 466.545 L102.057 466.545 L102.057 468.536 L89.5104 501.105 L84.6262 501.105 L96.4317 470.48 L79.8346 470.48 L79.8346 466.545 Z\" fill=\"#000000\" fill-rule=\"evenodd\" fill-opacity=\"1\" /><path clip-path=\"url(#clip770)\" d=\"M 0 0 M111.223 466.545 L129.58 466.545 L129.58 470.48 L115.506 470.48 L115.506 478.953 Q116.524 478.605 117.543 478.443 Q118.561 478.258 119.58 478.258 Q125.367 478.258 128.746 481.429 Q132.126 484.601 132.126 490.017 Q132.126 495.596 128.654 498.698 Q125.182 501.777 118.862 501.777 Q116.686 501.777 114.418 501.406 Q112.172 501.036 109.765 500.295 L109.765 495.596 Q111.848 496.73 114.07 497.286 Q116.293 497.841 118.77 497.841 Q122.774 497.841 125.112 495.735 Q127.45 493.628 127.45 490.017 Q127.45 486.406 125.112 484.3 Q122.774 482.193 118.77 482.193 Q116.895 482.193 115.02 482.61 Q113.168 483.027 111.223 483.906 L111.223 466.545 Z\" fill=\"#000000\" fill-rule=\"evenodd\" fill-opacity=\"1\" /><path clip-path=\"url(#clip770)\" d=\"M 0 0 M151.339 469.624 Q147.728 469.624 145.899 473.189 Q144.093 476.73 144.093 483.86 Q144.093 490.966 145.899 494.531 Q147.728 498.073 151.339 498.073 Q154.973 498.073 156.779 494.531 Q158.607 490.966 158.607 483.86 Q158.607 476.73 156.779 473.189 Q154.973 469.624 151.339 469.624 M151.339 465.92 Q157.149 465.92 160.205 470.527 Q163.283 475.11 163.283 483.86 Q163.283 492.587 160.205 497.193 Q157.149 501.777 151.339 501.777 Q145.529 501.777 142.45 497.193 Q139.394 492.587 139.394 483.86 Q139.394 475.11 142.45 470.527 Q145.529 465.92 151.339 465.92 Z\" fill=\"#000000\" fill-rule=\"evenodd\" fill-opacity=\"1\" /><path clip-path=\"url(#clip770)\" d=\"M 0 0 M51.6634 175.392 L59.3023 175.392 L59.3023 149.026 L50.9921 150.693 L50.9921 146.434 L59.256 144.767 L63.9319 144.767 L63.9319 175.392 L71.5707 175.392 L71.5707 179.327 L51.6634 179.327 L51.6634 175.392 Z\" fill=\"#000000\" fill-rule=\"evenodd\" fill-opacity=\"1\" /><path clip-path=\"url(#clip770)\" d=\"M 0 0 M91.0151 147.846 Q87.404 147.846 85.5753 151.41 Q83.7697 154.952 83.7697 162.082 Q83.7697 169.188 85.5753 172.753 Q87.404 176.295 91.0151 176.295 Q94.6493 176.295 96.4548 172.753 Q98.2835 169.188 98.2835 162.082 Q98.2835 154.952 96.4548 151.41 Q94.6493 147.846 91.0151 147.846 M91.0151 144.142 Q96.8252 144.142 99.8808 148.748 Q102.959 153.332 102.959 162.082 Q102.959 170.808 99.8808 175.415 Q96.8252 179.998 91.0151 179.998 Q85.2049 179.998 82.1262 175.415 Q79.0707 170.808 79.0707 162.082 Q79.0707 153.332 82.1262 148.748 Q85.2049 144.142 91.0151 144.142 Z\" fill=\"#000000\" fill-rule=\"evenodd\" fill-opacity=\"1\" /><path clip-path=\"url(#clip770)\" d=\"M 0 0 M121.177 147.846 Q117.566 147.846 115.737 151.41 Q113.932 154.952 113.932 162.082 Q113.932 169.188 115.737 172.753 Q117.566 176.295 121.177 176.295 Q124.811 176.295 126.617 172.753 Q128.445 169.188 128.445 162.082 Q128.445 154.952 126.617 151.41 Q124.811 147.846 121.177 147.846 M121.177 144.142 Q126.987 144.142 130.043 148.748 Q133.121 153.332 133.121 162.082 Q133.121 170.808 130.043 175.415 Q126.987 179.998 121.177 179.998 Q115.367 179.998 112.288 175.415 Q109.233 170.808 109.233 162.082 Q109.233 153.332 112.288 148.748 Q115.367 144.142 121.177 144.142 Z\" fill=\"#000000\" fill-rule=\"evenodd\" fill-opacity=\"1\" /><path clip-path=\"url(#clip770)\" d=\"M 0 0 M151.339 147.846 Q147.728 147.846 145.899 151.41 Q144.093 154.952 144.093 162.082 Q144.093 169.188 145.899 172.753 Q147.728 176.295 151.339 176.295 Q154.973 176.295 156.779 172.753 Q158.607 169.188 158.607 162.082 Q158.607 154.952 156.779 151.41 Q154.973 147.846 151.339 147.846 M151.339 144.142 Q157.149 144.142 160.205 148.748 Q163.283 153.332 163.283 162.082 Q163.283 170.808 160.205 175.415 Q157.149 179.998 151.339 179.998 Q145.529 179.998 142.45 175.415 Q139.394 170.808 139.394 162.082 Q139.394 153.332 142.45 148.748 Q145.529 144.142 151.339 144.142 Z\" fill=\"#000000\" fill-rule=\"evenodd\" fill-opacity=\"1\" /><path clip-path=\"url(#clip770)\" d=\"M 0 0 M869.916 12.096 L882.11 12.096 L897.544 53.2532 L913.059 12.096 L925.252 12.096 L925.252 72.576 L917.271 72.576 L917.271 19.4686 L901.675 60.9499 L893.452 60.9499 L877.856 19.4686 L877.856 72.576 L869.916 72.576 L869.916 12.096 Z\" fill=\"#000000\" fill-rule=\"evenodd\" fill-opacity=\"1\" /><path clip-path=\"url(#clip770)\" d=\"M 0 0 M950.529 6.22219 L958.591 6.22219 L945.385 21.4536 L939.187 21.4536 L950.529 6.22219 M941.172 27.2059 L948.625 27.2059 L948.625 72.576 L941.172 72.576 L941.172 27.2059 M944.899 26.1121 L944.899 26.1121 Z\" fill=\"#000000\" fill-rule=\"evenodd\" fill-opacity=\"1\" /><path clip-path=\"url(#clip770)\" d=\"M 0 0 M1001.94 45.1919 L1001.94 72.576 L994.482 72.576 L994.482 45.4349 Q994.482 38.994 991.97 35.7938 Q989.459 32.5936 984.435 32.5936 Q978.4 32.5936 974.916 36.4419 Q971.432 40.2903 971.432 46.9338 L971.432 72.576 L963.938 72.576 L963.938 27.2059 L971.432 27.2059 L971.432 34.2544 Q974.106 30.163 977.711 28.1376 Q981.357 26.1121 986.096 26.1121 Q993.915 26.1121 997.925 30.9732 Q1001.94 35.7938 1001.94 45.1919 Z\" fill=\"#000000\" fill-rule=\"evenodd\" fill-opacity=\"1\" /><path clip-path=\"url(#clip770)\" d=\"M 0 0 M1016.8 27.2059 L1024.26 27.2059 L1024.26 72.576 L1016.8 72.576 L1016.8 27.2059 M1016.8 9.54393 L1024.26 9.54393 L1024.26 18.9825 L1016.8 18.9825 L1016.8 9.54393 Z\" fill=\"#000000\" fill-rule=\"evenodd\" fill-opacity=\"1\" /><path clip-path=\"url(#clip770)\" d=\"M 0 0 M1075.18 35.9153 Q1077.97 30.8922 1081.86 28.5022 Q1085.75 26.1121 1091.01 26.1121 Q1098.1 26.1121 1101.95 31.0947 Q1105.8 36.0368 1105.8 45.1919 L1105.8 72.576 L1098.31 72.576 L1098.31 45.4349 Q1098.31 38.913 1096 35.7533 Q1093.69 32.5936 1088.95 32.5936 Q1083.16 32.5936 1079.79 36.4419 Q1076.43 40.2903 1076.43 46.9338 L1076.43 72.576 L1068.94 72.576 L1068.94 45.4349 Q1068.94 38.8725 1066.63 35.7533 Q1064.32 32.5936 1059.5 32.5936 Q1053.79 32.5936 1050.42 36.4824 Q1047.06 40.3308 1047.06 46.9338 L1047.06 72.576 L1039.57 72.576 L1039.57 27.2059 L1047.06 27.2059 L1047.06 34.2544 Q1049.61 30.082 1053.18 28.0971 Q1056.74 26.1121 1061.65 26.1121 Q1066.59 26.1121 1070.03 28.6237 Q1073.51 31.1352 1075.18 35.9153 Z\" fill=\"#000000\" fill-rule=\"evenodd\" fill-opacity=\"1\" /><path clip-path=\"url(#clip770)\" d=\"M 0 0 M1138.25 32.4315 Q1132.25 32.4315 1128.77 37.1306 Q1125.29 41.7891 1125.29 49.9314 Q1125.29 58.0738 1128.73 62.7728 Q1132.21 67.4314 1138.25 67.4314 Q1144.2 67.4314 1147.69 62.7323 Q1151.17 58.0333 1151.17 49.9314 Q1151.17 41.8701 1147.69 37.1711 Q1144.2 32.4315 1138.25 32.4315 M1138.25 26.1121 Q1147.97 26.1121 1153.52 32.4315 Q1159.07 38.7509 1159.07 49.9314 Q1159.07 61.0714 1153.52 67.4314 Q1147.97 73.7508 1138.25 73.7508 Q1128.49 73.7508 1122.94 67.4314 Q1117.43 61.0714 1117.43 49.9314 Q1117.43 38.7509 1122.94 32.4315 Q1128.49 26.1121 1138.25 26.1121 Z\" fill=\"#000000\" fill-rule=\"evenodd\" fill-opacity=\"1\" /><path clip-path=\"url(#clip770)\" d=\"M 0 0 M1200.35 28.5427 L1200.35 35.5912 Q1197.19 33.9709 1193.79 33.1607 Q1190.38 32.3505 1186.74 32.3505 Q1181.19 32.3505 1178.39 34.0519 Q1175.64 35.7533 1175.64 39.156 Q1175.64 41.7486 1177.62 43.2475 Q1179.61 44.7058 1185.6 46.0426 L1188.16 46.6097 Q1196.1 48.3111 1199.42 51.4303 Q1202.78 54.509 1202.78 60.0587 Q1202.78 66.3781 1197.76 70.0644 Q1192.77 73.7508 1184.02 73.7508 Q1180.38 73.7508 1176.41 73.0216 Q1172.48 72.3329 1168.1 70.9151 L1168.1 63.2184 Q1172.24 65.3654 1176.25 66.4591 Q1180.26 67.5124 1184.19 67.5124 Q1189.45 67.5124 1192.29 65.73 Q1195.12 63.9071 1195.12 60.6258 Q1195.12 57.5877 1193.06 55.9673 Q1191.03 54.3469 1184.1 52.8481 L1181.51 52.2405 Q1174.58 50.7821 1171.51 47.7845 Q1168.43 44.7463 1168.43 39.4801 Q1168.43 33.0797 1172.96 29.5959 Q1177.5 26.1121 1185.85 26.1121 Q1189.98 26.1121 1193.62 26.7198 Q1197.27 27.3274 1200.35 28.5427 Z\" fill=\"#000000\" fill-rule=\"evenodd\" fill-opacity=\"1\" /><path clip-path=\"url(#clip770)\" d=\"M 0 0 M1265.89 17.6457 Q1256.98 17.6457 1251.71 24.2892 Q1246.49 30.9327 1246.49 42.3968 Q1246.49 53.8203 1251.71 60.4638 Q1256.98 67.1073 1265.89 67.1073 Q1274.8 67.1073 1279.99 60.4638 Q1285.22 53.8203 1285.22 42.3968 Q1285.22 30.9327 1279.99 24.2892 Q1274.8 17.6457 1265.89 17.6457 M1277.36 71.4823 L1288.13 83.2704 L1278.25 83.2704 L1269.3 73.5887 Q1267.96 73.6697 1267.23 73.7103 Q1266.54 73.7508 1265.89 73.7508 Q1253.13 73.7508 1245.48 65.2439 Q1237.86 56.6965 1237.86 42.3968 Q1237.86 28.0566 1245.48 19.5497 Q1253.13 11.0023 1265.89 11.0023 Q1278.61 11.0023 1286.23 19.5497 Q1293.84 28.0566 1293.84 42.3968 Q1293.84 52.9291 1289.59 60.4233 Q1285.38 67.9175 1277.36 71.4823 Z\" fill=\"#000000\" fill-rule=\"evenodd\" fill-opacity=\"1\" /><path clip-path=\"url(#clip770)\" d=\"M 0 0 M1305.55 54.671 L1305.55 27.2059 L1313 27.2059 L1313 54.3874 Q1313 60.8284 1315.52 64.0691 Q1318.03 67.2693 1323.05 67.2693 Q1329.09 67.2693 1332.57 63.421 Q1336.09 59.5726 1336.09 52.9291 L1336.09 27.2059 L1343.55 27.2059 L1343.55 72.576 L1336.09 72.576 L1336.09 65.6084 Q1333.38 69.7404 1329.78 71.7658 Q1326.21 73.7508 1321.47 73.7508 Q1313.65 73.7508 1309.6 68.8897 Q1305.55 64.0286 1305.55 54.671 M1324.31 26.1121 L1324.31 26.1121 Z\" fill=\"#000000\" fill-rule=\"evenodd\" fill-opacity=\"1\" /><path clip-path=\"url(#clip770)\" d=\"M 0 0 M1379.52 49.7694 Q1370.49 49.7694 1367 51.8354 Q1363.52 53.9013 1363.52 58.8839 Q1363.52 62.8538 1366.11 65.2034 Q1368.74 67.5124 1373.24 67.5124 Q1379.44 67.5124 1383.17 63.1374 Q1386.93 58.7219 1386.93 51.4303 L1386.93 49.7694 L1379.52 49.7694 M1394.39 46.6907 L1394.39 72.576 L1386.93 72.576 L1386.93 65.6895 Q1384.38 69.8214 1380.57 71.8063 Q1376.77 73.7508 1371.26 73.7508 Q1364.29 73.7508 1360.16 69.8619 Q1356.07 65.9325 1356.07 59.3701 Q1356.07 51.7138 1361.17 47.825 Q1366.31 43.9361 1376.48 43.9361 L1386.93 43.9361 L1386.93 43.2069 Q1386.93 38.0623 1383.53 35.2672 Q1380.17 32.4315 1374.05 32.4315 Q1370.16 32.4315 1366.48 33.3632 Q1362.79 34.295 1359.39 36.1584 L1359.39 29.2718 Q1363.48 27.692 1367.33 26.9223 Q1371.18 26.1121 1374.82 26.1121 Q1384.66 26.1121 1389.53 31.2163 Q1394.39 36.3204 1394.39 46.6907 Z\" fill=\"#000000\" fill-rule=\"evenodd\" fill-opacity=\"1\" /><path clip-path=\"url(#clip770)\" d=\"M 0 0 M1439.6 34.0924 L1439.6 9.54393 L1447.05 9.54393 L1447.05 72.576 L1439.6 72.576 L1439.6 65.7705 Q1437.25 69.8214 1433.64 71.8063 Q1430.08 73.7508 1425.05 73.7508 Q1416.83 73.7508 1411.64 67.1883 Q1406.5 60.6258 1406.5 49.9314 Q1406.5 39.2371 1411.64 32.6746 Q1416.83 26.1121 1425.05 26.1121 Q1430.08 26.1121 1433.64 28.0971 Q1437.25 30.0415 1439.6 34.0924 M1414.2 49.9314 Q1414.2 58.1548 1417.56 62.8538 Q1420.96 67.5124 1426.88 67.5124 Q1432.79 67.5124 1436.19 62.8538 Q1439.6 58.1548 1439.6 49.9314 Q1439.6 41.7081 1436.19 37.0496 Q1432.79 32.3505 1426.88 32.3505 Q1420.96 32.3505 1417.56 37.0496 Q1414.2 41.7081 1414.2 49.9314 Z\" fill=\"#000000\" fill-rule=\"evenodd\" fill-opacity=\"1\" /><path clip-path=\"url(#clip770)\" d=\"M 0 0 M1488.69 34.1734 Q1487.44 33.4443 1485.94 33.1202 Q1484.48 32.7556 1482.7 32.7556 Q1476.38 32.7556 1472.97 36.8875 Q1469.61 40.9789 1469.61 48.6757 L1469.61 72.576 L1462.12 72.576 L1462.12 27.2059 L1469.61 27.2059 L1469.61 34.2544 Q1471.96 30.1225 1475.73 28.1376 Q1479.5 26.1121 1484.88 26.1121 Q1485.65 26.1121 1486.59 26.2337 Q1487.52 26.3147 1488.65 26.5172 L1488.69 34.1734 Z\" fill=\"#000000\" fill-rule=\"evenodd\" fill-opacity=\"1\" /><path clip-path=\"url(#clip770)\" d=\"M 0 0 M1517.13 49.7694 Q1508.1 49.7694 1504.61 51.8354 Q1501.13 53.9013 1501.13 58.8839 Q1501.13 62.8538 1503.72 65.2034 Q1506.35 67.5124 1510.85 67.5124 Q1517.05 67.5124 1520.78 63.1374 Q1524.54 58.7219 1524.54 51.4303 L1524.54 49.7694 L1517.13 49.7694 M1532 46.6907 L1532 72.576 L1524.54 72.576 L1524.54 65.6895 Q1521.99 69.8214 1518.18 71.8063 Q1514.37 73.7508 1508.87 73.7508 Q1501.9 73.7508 1497.77 69.8619 Q1493.67 65.9325 1493.67 59.3701 Q1493.67 51.7138 1498.78 47.825 Q1503.92 43.9361 1514.09 43.9361 L1524.54 43.9361 L1524.54 43.2069 Q1524.54 38.0623 1521.14 35.2672 Q1517.78 32.4315 1511.66 32.4315 Q1507.77 32.4315 1504.09 33.3632 Q1500.4 34.295 1497 36.1584 L1497 29.2718 Q1501.09 27.692 1504.94 26.9223 Q1508.78 26.1121 1512.43 26.1121 Q1522.27 26.1121 1527.14 31.2163 Q1532 36.3204 1532 46.6907 Z\" fill=\"#000000\" fill-rule=\"evenodd\" fill-opacity=\"1\" /><path clip-path=\"url(#clip770)\" d=\"M 0 0 M1577.2 34.0924 L1577.2 9.54393 L1584.66 9.54393 L1584.66 72.576 L1577.2 72.576 L1577.2 65.7705 Q1574.85 69.8214 1571.25 71.8063 Q1567.68 73.7508 1562.66 73.7508 Q1554.44 73.7508 1549.25 67.1883 Q1544.11 60.6258 1544.11 49.9314 Q1544.11 39.2371 1549.25 32.6746 Q1554.44 26.1121 1562.66 26.1121 Q1567.68 26.1121 1571.25 28.0971 Q1574.85 30.0415 1577.2 34.0924 M1551.81 49.9314 Q1551.81 58.1548 1555.17 62.8538 Q1558.57 67.5124 1564.48 67.5124 Q1570.4 67.5124 1573.8 62.8538 Q1577.2 58.1548 1577.2 49.9314 Q1577.2 41.7081 1573.8 37.0496 Q1570.4 32.3505 1564.48 32.3505 Q1558.57 32.3505 1555.17 37.0496 Q1551.81 41.7081 1551.81 49.9314 Z\" fill=\"#000000\" fill-rule=\"evenodd\" fill-opacity=\"1\" /><path clip-path=\"url(#clip770)\" d=\"M 0 0 M1617.59 32.4315 Q1611.6 32.4315 1608.11 37.1306 Q1604.63 41.7891 1604.63 49.9314 Q1604.63 58.0738 1608.07 62.7728 Q1611.56 67.4314 1617.59 67.4314 Q1623.55 67.4314 1627.03 62.7323 Q1630.51 58.0333 1630.51 49.9314 Q1630.51 41.8701 1627.03 37.1711 Q1623.55 32.4315 1617.59 32.4315 M1617.59 26.1121 Q1627.31 26.1121 1632.86 32.4315 Q1638.41 38.7509 1638.41 49.9314 Q1638.41 61.0714 1632.86 67.4314 Q1627.31 73.7508 1617.59 73.7508 Q1607.83 73.7508 1602.28 67.4314 Q1596.77 61.0714 1596.77 49.9314 Q1596.77 38.7509 1602.28 32.4315 Q1607.83 26.1121 1617.59 26.1121 Z\" fill=\"#000000\" fill-rule=\"evenodd\" fill-opacity=\"1\" /><path clip-path=\"url(#clip770)\" d=\"M 0 0 M1679.69 28.5427 L1679.69 35.5912 Q1676.53 33.9709 1673.13 33.1607 Q1669.73 32.3505 1666.08 32.3505 Q1660.53 32.3505 1657.74 34.0519 Q1654.98 35.7533 1654.98 39.156 Q1654.98 41.7486 1656.97 43.2475 Q1658.95 44.7058 1664.95 46.0426 L1667.5 46.6097 Q1675.44 48.3111 1678.76 51.4303 Q1682.12 54.509 1682.12 60.0587 Q1682.12 66.3781 1677.1 70.0644 Q1672.12 73.7508 1663.37 73.7508 Q1659.72 73.7508 1655.75 73.0216 Q1651.82 72.3329 1647.45 70.9151 L1647.45 63.2184 Q1651.58 65.3654 1655.59 66.4591 Q1659.6 67.5124 1663.53 67.5124 Q1668.8 67.5124 1671.63 65.73 Q1674.47 63.9071 1674.47 60.6258 Q1674.47 57.5877 1672.4 55.9673 Q1670.38 54.3469 1663.45 52.8481 L1660.86 52.2405 Q1653.93 50.7821 1650.85 47.7845 Q1647.77 44.7463 1647.77 39.4801 Q1647.77 33.0797 1652.31 29.5959 Q1656.85 26.1121 1665.19 26.1121 Q1669.32 26.1121 1672.97 26.7198 Q1676.61 27.3274 1679.69 28.5427 Z\" fill=\"#000000\" fill-rule=\"evenodd\" fill-opacity=\"1\" /><circle clip-path=\"url(#clip772)\" cx=\"260.231\" cy=\"1447.87\" r=\"14\" fill=\"#009af9\" fill-rule=\"evenodd\" fill-opacity=\"1\" stroke=\"#000000\" stroke-opacity=\"1\" stroke-width=\"3.2\"/>\n",
       "<circle clip-path=\"url(#clip772)\" cx=\"262.264\" cy=\"1446.59\" r=\"14\" fill=\"#009af9\" fill-rule=\"evenodd\" fill-opacity=\"1\" stroke=\"#000000\" stroke-opacity=\"1\" stroke-width=\"3.2\"/>\n",
       "<circle clip-path=\"url(#clip772)\" cx=\"264.298\" cy=\"1445.3\" r=\"14\" fill=\"#009af9\" fill-rule=\"evenodd\" fill-opacity=\"1\" stroke=\"#000000\" stroke-opacity=\"1\" stroke-width=\"3.2\"/>\n",
       "<circle clip-path=\"url(#clip772)\" cx=\"266.331\" cy=\"1444.01\" r=\"14\" fill=\"#009af9\" fill-rule=\"evenodd\" fill-opacity=\"1\" stroke=\"#000000\" stroke-opacity=\"1\" stroke-width=\"3.2\"/>\n",
       "<circle clip-path=\"url(#clip772)\" cx=\"268.365\" cy=\"1442.72\" r=\"14\" fill=\"#009af9\" fill-rule=\"evenodd\" fill-opacity=\"1\" stroke=\"#000000\" stroke-opacity=\"1\" stroke-width=\"3.2\"/>\n",
       "<circle clip-path=\"url(#clip772)\" cx=\"270.399\" cy=\"1441.44\" r=\"14\" fill=\"#009af9\" fill-rule=\"evenodd\" fill-opacity=\"1\" stroke=\"#000000\" stroke-opacity=\"1\" stroke-width=\"3.2\"/>\n",
       "<circle clip-path=\"url(#clip772)\" cx=\"272.432\" cy=\"1440.15\" r=\"14\" fill=\"#009af9\" fill-rule=\"evenodd\" fill-opacity=\"1\" stroke=\"#000000\" stroke-opacity=\"1\" stroke-width=\"3.2\"/>\n",
       "<circle clip-path=\"url(#clip772)\" cx=\"274.466\" cy=\"1438.86\" r=\"14\" fill=\"#009af9\" fill-rule=\"evenodd\" fill-opacity=\"1\" stroke=\"#000000\" stroke-opacity=\"1\" stroke-width=\"3.2\"/>\n",
       "<circle clip-path=\"url(#clip772)\" cx=\"276.499\" cy=\"1437.58\" r=\"14\" fill=\"#009af9\" fill-rule=\"evenodd\" fill-opacity=\"1\" stroke=\"#000000\" stroke-opacity=\"1\" stroke-width=\"3.2\"/>\n",
       "<circle clip-path=\"url(#clip772)\" cx=\"278.533\" cy=\"1436.29\" r=\"14\" fill=\"#009af9\" fill-rule=\"evenodd\" fill-opacity=\"1\" stroke=\"#000000\" stroke-opacity=\"1\" stroke-width=\"3.2\"/>\n",
       "<circle clip-path=\"url(#clip772)\" cx=\"280.567\" cy=\"1435\" r=\"14\" fill=\"#009af9\" fill-rule=\"evenodd\" fill-opacity=\"1\" stroke=\"#000000\" stroke-opacity=\"1\" stroke-width=\"3.2\"/>\n",
       "<circle clip-path=\"url(#clip772)\" cx=\"282.6\" cy=\"1433.71\" r=\"14\" fill=\"#009af9\" fill-rule=\"evenodd\" fill-opacity=\"1\" stroke=\"#000000\" stroke-opacity=\"1\" stroke-width=\"3.2\"/>\n",
       "<circle clip-path=\"url(#clip772)\" cx=\"284.634\" cy=\"1432.43\" r=\"14\" fill=\"#009af9\" fill-rule=\"evenodd\" fill-opacity=\"1\" stroke=\"#000000\" stroke-opacity=\"1\" stroke-width=\"3.2\"/>\n",
       "<circle clip-path=\"url(#clip772)\" cx=\"286.667\" cy=\"1431.14\" r=\"14\" fill=\"#009af9\" fill-rule=\"evenodd\" fill-opacity=\"1\" stroke=\"#000000\" stroke-opacity=\"1\" stroke-width=\"3.2\"/>\n",
       "<circle clip-path=\"url(#clip772)\" cx=\"288.701\" cy=\"1429.85\" r=\"14\" fill=\"#009af9\" fill-rule=\"evenodd\" fill-opacity=\"1\" stroke=\"#000000\" stroke-opacity=\"1\" stroke-width=\"3.2\"/>\n",
       "<circle clip-path=\"url(#clip772)\" cx=\"290.735\" cy=\"1428.57\" r=\"14\" fill=\"#009af9\" fill-rule=\"evenodd\" fill-opacity=\"1\" stroke=\"#000000\" stroke-opacity=\"1\" stroke-width=\"3.2\"/>\n",
       "<circle clip-path=\"url(#clip772)\" cx=\"292.768\" cy=\"1427.28\" r=\"14\" fill=\"#009af9\" fill-rule=\"evenodd\" fill-opacity=\"1\" stroke=\"#000000\" stroke-opacity=\"1\" stroke-width=\"3.2\"/>\n",
       "<circle clip-path=\"url(#clip772)\" cx=\"294.802\" cy=\"1425.99\" r=\"14\" fill=\"#009af9\" fill-rule=\"evenodd\" fill-opacity=\"1\" stroke=\"#000000\" stroke-opacity=\"1\" stroke-width=\"3.2\"/>\n",
       "<circle clip-path=\"url(#clip772)\" cx=\"296.836\" cy=\"1424.71\" r=\"14\" fill=\"#009af9\" fill-rule=\"evenodd\" fill-opacity=\"1\" stroke=\"#000000\" stroke-opacity=\"1\" stroke-width=\"3.2\"/>\n",
       "<circle clip-path=\"url(#clip772)\" cx=\"298.869\" cy=\"1423.42\" r=\"14\" fill=\"#009af9\" fill-rule=\"evenodd\" fill-opacity=\"1\" stroke=\"#000000\" stroke-opacity=\"1\" stroke-width=\"3.2\"/>\n",
       "<circle clip-path=\"url(#clip772)\" cx=\"300.903\" cy=\"1422.13\" r=\"14\" fill=\"#009af9\" fill-rule=\"evenodd\" fill-opacity=\"1\" stroke=\"#000000\" stroke-opacity=\"1\" stroke-width=\"3.2\"/>\n",
       "<circle clip-path=\"url(#clip772)\" cx=\"302.936\" cy=\"1420.84\" r=\"14\" fill=\"#009af9\" fill-rule=\"evenodd\" fill-opacity=\"1\" stroke=\"#000000\" stroke-opacity=\"1\" stroke-width=\"3.2\"/>\n",
       "<circle clip-path=\"url(#clip772)\" cx=\"304.97\" cy=\"1419.56\" r=\"14\" fill=\"#009af9\" fill-rule=\"evenodd\" fill-opacity=\"1\" stroke=\"#000000\" stroke-opacity=\"1\" stroke-width=\"3.2\"/>\n",
       "<circle clip-path=\"url(#clip772)\" cx=\"307.004\" cy=\"1418.27\" r=\"14\" fill=\"#009af9\" fill-rule=\"evenodd\" fill-opacity=\"1\" stroke=\"#000000\" stroke-opacity=\"1\" stroke-width=\"3.2\"/>\n",
       "<circle clip-path=\"url(#clip772)\" cx=\"309.037\" cy=\"1416.98\" r=\"14\" fill=\"#009af9\" fill-rule=\"evenodd\" fill-opacity=\"1\" stroke=\"#000000\" stroke-opacity=\"1\" stroke-width=\"3.2\"/>\n",
       "<circle clip-path=\"url(#clip772)\" cx=\"311.071\" cy=\"1415.7\" r=\"14\" fill=\"#009af9\" fill-rule=\"evenodd\" fill-opacity=\"1\" stroke=\"#000000\" stroke-opacity=\"1\" stroke-width=\"3.2\"/>\n",
       "<circle clip-path=\"url(#clip772)\" cx=\"313.104\" cy=\"1414.41\" r=\"14\" fill=\"#009af9\" fill-rule=\"evenodd\" fill-opacity=\"1\" stroke=\"#000000\" stroke-opacity=\"1\" stroke-width=\"3.2\"/>\n",
       "<circle clip-path=\"url(#clip772)\" cx=\"315.138\" cy=\"1413.12\" r=\"14\" fill=\"#009af9\" fill-rule=\"evenodd\" fill-opacity=\"1\" stroke=\"#000000\" stroke-opacity=\"1\" stroke-width=\"3.2\"/>\n",
       "<circle clip-path=\"url(#clip772)\" cx=\"317.172\" cy=\"1411.83\" r=\"14\" fill=\"#009af9\" fill-rule=\"evenodd\" fill-opacity=\"1\" stroke=\"#000000\" stroke-opacity=\"1\" stroke-width=\"3.2\"/>\n",
       "<circle clip-path=\"url(#clip772)\" cx=\"319.205\" cy=\"1410.55\" r=\"14\" fill=\"#009af9\" fill-rule=\"evenodd\" fill-opacity=\"1\" stroke=\"#000000\" stroke-opacity=\"1\" stroke-width=\"3.2\"/>\n",
       "<circle clip-path=\"url(#clip772)\" cx=\"321.239\" cy=\"1409.26\" r=\"14\" fill=\"#009af9\" fill-rule=\"evenodd\" fill-opacity=\"1\" stroke=\"#000000\" stroke-opacity=\"1\" stroke-width=\"3.2\"/>\n",
       "<circle clip-path=\"url(#clip772)\" cx=\"323.272\" cy=\"1407.97\" r=\"14\" fill=\"#009af9\" fill-rule=\"evenodd\" fill-opacity=\"1\" stroke=\"#000000\" stroke-opacity=\"1\" stroke-width=\"3.2\"/>\n",
       "<circle clip-path=\"url(#clip772)\" cx=\"325.306\" cy=\"1406.69\" r=\"14\" fill=\"#009af9\" fill-rule=\"evenodd\" fill-opacity=\"1\" stroke=\"#000000\" stroke-opacity=\"1\" stroke-width=\"3.2\"/>\n",
       "<circle clip-path=\"url(#clip772)\" cx=\"327.34\" cy=\"1405.4\" r=\"14\" fill=\"#009af9\" fill-rule=\"evenodd\" fill-opacity=\"1\" stroke=\"#000000\" stroke-opacity=\"1\" stroke-width=\"3.2\"/>\n",
       "<circle clip-path=\"url(#clip772)\" cx=\"329.373\" cy=\"1404.11\" r=\"14\" fill=\"#009af9\" fill-rule=\"evenodd\" fill-opacity=\"1\" stroke=\"#000000\" stroke-opacity=\"1\" stroke-width=\"3.2\"/>\n",
       "<circle clip-path=\"url(#clip772)\" cx=\"331.407\" cy=\"1402.82\" r=\"14\" fill=\"#009af9\" fill-rule=\"evenodd\" fill-opacity=\"1\" stroke=\"#000000\" stroke-opacity=\"1\" stroke-width=\"3.2\"/>\n",
       "<circle clip-path=\"url(#clip772)\" cx=\"333.441\" cy=\"1401.54\" r=\"14\" fill=\"#009af9\" fill-rule=\"evenodd\" fill-opacity=\"1\" stroke=\"#000000\" stroke-opacity=\"1\" stroke-width=\"3.2\"/>\n",
       "<circle clip-path=\"url(#clip772)\" cx=\"335.474\" cy=\"1400.25\" r=\"14\" fill=\"#009af9\" fill-rule=\"evenodd\" fill-opacity=\"1\" stroke=\"#000000\" stroke-opacity=\"1\" stroke-width=\"3.2\"/>\n",
       "<circle clip-path=\"url(#clip772)\" cx=\"337.508\" cy=\"1398.96\" r=\"14\" fill=\"#009af9\" fill-rule=\"evenodd\" fill-opacity=\"1\" stroke=\"#000000\" stroke-opacity=\"1\" stroke-width=\"3.2\"/>\n",
       "<circle clip-path=\"url(#clip772)\" cx=\"339.541\" cy=\"1397.68\" r=\"14\" fill=\"#009af9\" fill-rule=\"evenodd\" fill-opacity=\"1\" stroke=\"#000000\" stroke-opacity=\"1\" stroke-width=\"3.2\"/>\n",
       "<circle clip-path=\"url(#clip772)\" cx=\"341.575\" cy=\"1396.39\" r=\"14\" fill=\"#009af9\" fill-rule=\"evenodd\" fill-opacity=\"1\" stroke=\"#000000\" stroke-opacity=\"1\" stroke-width=\"3.2\"/>\n",
       "<circle clip-path=\"url(#clip772)\" cx=\"343.609\" cy=\"1395.1\" r=\"14\" fill=\"#009af9\" fill-rule=\"evenodd\" fill-opacity=\"1\" stroke=\"#000000\" stroke-opacity=\"1\" stroke-width=\"3.2\"/>\n",
       "<circle clip-path=\"url(#clip772)\" cx=\"345.642\" cy=\"1393.81\" r=\"14\" fill=\"#009af9\" fill-rule=\"evenodd\" fill-opacity=\"1\" stroke=\"#000000\" stroke-opacity=\"1\" stroke-width=\"3.2\"/>\n",
       "<circle clip-path=\"url(#clip772)\" cx=\"347.676\" cy=\"1392.53\" r=\"14\" fill=\"#009af9\" fill-rule=\"evenodd\" fill-opacity=\"1\" stroke=\"#000000\" stroke-opacity=\"1\" stroke-width=\"3.2\"/>\n",
       "<circle clip-path=\"url(#clip772)\" cx=\"349.709\" cy=\"1391.24\" r=\"14\" fill=\"#009af9\" fill-rule=\"evenodd\" fill-opacity=\"1\" stroke=\"#000000\" stroke-opacity=\"1\" stroke-width=\"3.2\"/>\n",
       "<circle clip-path=\"url(#clip772)\" cx=\"351.743\" cy=\"1389.95\" r=\"14\" fill=\"#009af9\" fill-rule=\"evenodd\" fill-opacity=\"1\" stroke=\"#000000\" stroke-opacity=\"1\" stroke-width=\"3.2\"/>\n",
       "<circle clip-path=\"url(#clip772)\" cx=\"353.777\" cy=\"1388.67\" r=\"14\" fill=\"#009af9\" fill-rule=\"evenodd\" fill-opacity=\"1\" stroke=\"#000000\" stroke-opacity=\"1\" stroke-width=\"3.2\"/>\n",
       "<circle clip-path=\"url(#clip772)\" cx=\"355.81\" cy=\"1387.38\" r=\"14\" fill=\"#009af9\" fill-rule=\"evenodd\" fill-opacity=\"1\" stroke=\"#000000\" stroke-opacity=\"1\" stroke-width=\"3.2\"/>\n",
       "<circle clip-path=\"url(#clip772)\" cx=\"357.844\" cy=\"1386.09\" r=\"14\" fill=\"#009af9\" fill-rule=\"evenodd\" fill-opacity=\"1\" stroke=\"#000000\" stroke-opacity=\"1\" stroke-width=\"3.2\"/>\n",
       "<circle clip-path=\"url(#clip772)\" cx=\"359.878\" cy=\"1384.8\" r=\"14\" fill=\"#009af9\" fill-rule=\"evenodd\" fill-opacity=\"1\" stroke=\"#000000\" stroke-opacity=\"1\" stroke-width=\"3.2\"/>\n",
       "<circle clip-path=\"url(#clip772)\" cx=\"361.911\" cy=\"1383.52\" r=\"14\" fill=\"#009af9\" fill-rule=\"evenodd\" fill-opacity=\"1\" stroke=\"#000000\" stroke-opacity=\"1\" stroke-width=\"3.2\"/>\n",
       "<circle clip-path=\"url(#clip772)\" cx=\"363.945\" cy=\"1382.23\" r=\"14\" fill=\"#009af9\" fill-rule=\"evenodd\" fill-opacity=\"1\" stroke=\"#000000\" stroke-opacity=\"1\" stroke-width=\"3.2\"/>\n",
       "<circle clip-path=\"url(#clip772)\" cx=\"365.978\" cy=\"1380.94\" r=\"14\" fill=\"#009af9\" fill-rule=\"evenodd\" fill-opacity=\"1\" stroke=\"#000000\" stroke-opacity=\"1\" stroke-width=\"3.2\"/>\n",
       "<circle clip-path=\"url(#clip772)\" cx=\"368.012\" cy=\"1379.66\" r=\"14\" fill=\"#009af9\" fill-rule=\"evenodd\" fill-opacity=\"1\" stroke=\"#000000\" stroke-opacity=\"1\" stroke-width=\"3.2\"/>\n",
       "<circle clip-path=\"url(#clip772)\" cx=\"370.046\" cy=\"1378.37\" r=\"14\" fill=\"#009af9\" fill-rule=\"evenodd\" fill-opacity=\"1\" stroke=\"#000000\" stroke-opacity=\"1\" stroke-width=\"3.2\"/>\n",
       "<circle clip-path=\"url(#clip772)\" cx=\"372.079\" cy=\"1377.08\" r=\"14\" fill=\"#009af9\" fill-rule=\"evenodd\" fill-opacity=\"1\" stroke=\"#000000\" stroke-opacity=\"1\" stroke-width=\"3.2\"/>\n",
       "<circle clip-path=\"url(#clip772)\" cx=\"374.113\" cy=\"1375.79\" r=\"14\" fill=\"#009af9\" fill-rule=\"evenodd\" fill-opacity=\"1\" stroke=\"#000000\" stroke-opacity=\"1\" stroke-width=\"3.2\"/>\n",
       "<circle clip-path=\"url(#clip772)\" cx=\"376.146\" cy=\"1374.51\" r=\"14\" fill=\"#009af9\" fill-rule=\"evenodd\" fill-opacity=\"1\" stroke=\"#000000\" stroke-opacity=\"1\" stroke-width=\"3.2\"/>\n",
       "<circle clip-path=\"url(#clip772)\" cx=\"378.18\" cy=\"1373.22\" r=\"14\" fill=\"#009af9\" fill-rule=\"evenodd\" fill-opacity=\"1\" stroke=\"#000000\" stroke-opacity=\"1\" stroke-width=\"3.2\"/>\n",
       "<circle clip-path=\"url(#clip772)\" cx=\"380.214\" cy=\"1371.93\" r=\"14\" fill=\"#009af9\" fill-rule=\"evenodd\" fill-opacity=\"1\" stroke=\"#000000\" stroke-opacity=\"1\" stroke-width=\"3.2\"/>\n",
       "<circle clip-path=\"url(#clip772)\" cx=\"382.247\" cy=\"1370.65\" r=\"14\" fill=\"#009af9\" fill-rule=\"evenodd\" fill-opacity=\"1\" stroke=\"#000000\" stroke-opacity=\"1\" stroke-width=\"3.2\"/>\n",
       "<circle clip-path=\"url(#clip772)\" cx=\"384.281\" cy=\"1369.36\" r=\"14\" fill=\"#009af9\" fill-rule=\"evenodd\" fill-opacity=\"1\" stroke=\"#000000\" stroke-opacity=\"1\" stroke-width=\"3.2\"/>\n",
       "<circle clip-path=\"url(#clip772)\" cx=\"386.314\" cy=\"1368.07\" r=\"14\" fill=\"#009af9\" fill-rule=\"evenodd\" fill-opacity=\"1\" stroke=\"#000000\" stroke-opacity=\"1\" stroke-width=\"3.2\"/>\n",
       "<circle clip-path=\"url(#clip772)\" cx=\"388.348\" cy=\"1366.78\" r=\"14\" fill=\"#009af9\" fill-rule=\"evenodd\" fill-opacity=\"1\" stroke=\"#000000\" stroke-opacity=\"1\" stroke-width=\"3.2\"/>\n",
       "<circle clip-path=\"url(#clip772)\" cx=\"390.382\" cy=\"1365.5\" r=\"14\" fill=\"#009af9\" fill-rule=\"evenodd\" fill-opacity=\"1\" stroke=\"#000000\" stroke-opacity=\"1\" stroke-width=\"3.2\"/>\n",
       "<circle clip-path=\"url(#clip772)\" cx=\"392.415\" cy=\"1364.21\" r=\"14\" fill=\"#009af9\" fill-rule=\"evenodd\" fill-opacity=\"1\" stroke=\"#000000\" stroke-opacity=\"1\" stroke-width=\"3.2\"/>\n",
       "<circle clip-path=\"url(#clip772)\" cx=\"394.449\" cy=\"1362.92\" r=\"14\" fill=\"#009af9\" fill-rule=\"evenodd\" fill-opacity=\"1\" stroke=\"#000000\" stroke-opacity=\"1\" stroke-width=\"3.2\"/>\n",
       "<circle clip-path=\"url(#clip772)\" cx=\"396.483\" cy=\"1361.64\" r=\"14\" fill=\"#009af9\" fill-rule=\"evenodd\" fill-opacity=\"1\" stroke=\"#000000\" stroke-opacity=\"1\" stroke-width=\"3.2\"/>\n",
       "<circle clip-path=\"url(#clip772)\" cx=\"398.516\" cy=\"1360.35\" r=\"14\" fill=\"#009af9\" fill-rule=\"evenodd\" fill-opacity=\"1\" stroke=\"#000000\" stroke-opacity=\"1\" stroke-width=\"3.2\"/>\n",
       "<circle clip-path=\"url(#clip772)\" cx=\"400.55\" cy=\"1359.06\" r=\"14\" fill=\"#009af9\" fill-rule=\"evenodd\" fill-opacity=\"1\" stroke=\"#000000\" stroke-opacity=\"1\" stroke-width=\"3.2\"/>\n",
       "<circle clip-path=\"url(#clip772)\" cx=\"402.583\" cy=\"1357.78\" r=\"14\" fill=\"#009af9\" fill-rule=\"evenodd\" fill-opacity=\"1\" stroke=\"#000000\" stroke-opacity=\"1\" stroke-width=\"3.2\"/>\n",
       "<circle clip-path=\"url(#clip772)\" cx=\"404.617\" cy=\"1356.49\" r=\"14\" fill=\"#009af9\" fill-rule=\"evenodd\" fill-opacity=\"1\" stroke=\"#000000\" stroke-opacity=\"1\" stroke-width=\"3.2\"/>\n",
       "<circle clip-path=\"url(#clip772)\" cx=\"406.651\" cy=\"1355.2\" r=\"14\" fill=\"#009af9\" fill-rule=\"evenodd\" fill-opacity=\"1\" stroke=\"#000000\" stroke-opacity=\"1\" stroke-width=\"3.2\"/>\n",
       "<circle clip-path=\"url(#clip772)\" cx=\"408.684\" cy=\"1353.91\" r=\"14\" fill=\"#009af9\" fill-rule=\"evenodd\" fill-opacity=\"1\" stroke=\"#000000\" stroke-opacity=\"1\" stroke-width=\"3.2\"/>\n",
       "<circle clip-path=\"url(#clip772)\" cx=\"410.718\" cy=\"1352.63\" r=\"14\" fill=\"#009af9\" fill-rule=\"evenodd\" fill-opacity=\"1\" stroke=\"#000000\" stroke-opacity=\"1\" stroke-width=\"3.2\"/>\n",
       "<circle clip-path=\"url(#clip772)\" cx=\"412.751\" cy=\"1351.34\" r=\"14\" fill=\"#009af9\" fill-rule=\"evenodd\" fill-opacity=\"1\" stroke=\"#000000\" stroke-opacity=\"1\" stroke-width=\"3.2\"/>\n",
       "<circle clip-path=\"url(#clip772)\" cx=\"414.785\" cy=\"1350.05\" r=\"14\" fill=\"#009af9\" fill-rule=\"evenodd\" fill-opacity=\"1\" stroke=\"#000000\" stroke-opacity=\"1\" stroke-width=\"3.2\"/>\n",
       "<circle clip-path=\"url(#clip772)\" cx=\"416.819\" cy=\"1348.77\" r=\"14\" fill=\"#009af9\" fill-rule=\"evenodd\" fill-opacity=\"1\" stroke=\"#000000\" stroke-opacity=\"1\" stroke-width=\"3.2\"/>\n",
       "<circle clip-path=\"url(#clip772)\" cx=\"418.852\" cy=\"1347.48\" r=\"14\" fill=\"#009af9\" fill-rule=\"evenodd\" fill-opacity=\"1\" stroke=\"#000000\" stroke-opacity=\"1\" stroke-width=\"3.2\"/>\n",
       "<circle clip-path=\"url(#clip772)\" cx=\"420.886\" cy=\"1346.19\" r=\"14\" fill=\"#009af9\" fill-rule=\"evenodd\" fill-opacity=\"1\" stroke=\"#000000\" stroke-opacity=\"1\" stroke-width=\"3.2\"/>\n",
       "<circle clip-path=\"url(#clip772)\" cx=\"422.919\" cy=\"1344.9\" r=\"14\" fill=\"#009af9\" fill-rule=\"evenodd\" fill-opacity=\"1\" stroke=\"#000000\" stroke-opacity=\"1\" stroke-width=\"3.2\"/>\n",
       "<circle clip-path=\"url(#clip772)\" cx=\"424.953\" cy=\"1343.62\" r=\"14\" fill=\"#009af9\" fill-rule=\"evenodd\" fill-opacity=\"1\" stroke=\"#000000\" stroke-opacity=\"1\" stroke-width=\"3.2\"/>\n",
       "<circle clip-path=\"url(#clip772)\" cx=\"426.987\" cy=\"1342.33\" r=\"14\" fill=\"#009af9\" fill-rule=\"evenodd\" fill-opacity=\"1\" stroke=\"#000000\" stroke-opacity=\"1\" stroke-width=\"3.2\"/>\n",
       "<circle clip-path=\"url(#clip772)\" cx=\"429.02\" cy=\"1341.04\" r=\"14\" fill=\"#009af9\" fill-rule=\"evenodd\" fill-opacity=\"1\" stroke=\"#000000\" stroke-opacity=\"1\" stroke-width=\"3.2\"/>\n",
       "<circle clip-path=\"url(#clip772)\" cx=\"431.054\" cy=\"1339.76\" r=\"14\" fill=\"#009af9\" fill-rule=\"evenodd\" fill-opacity=\"1\" stroke=\"#000000\" stroke-opacity=\"1\" stroke-width=\"3.2\"/>\n",
       "<circle clip-path=\"url(#clip772)\" cx=\"433.088\" cy=\"1338.47\" r=\"14\" fill=\"#009af9\" fill-rule=\"evenodd\" fill-opacity=\"1\" stroke=\"#000000\" stroke-opacity=\"1\" stroke-width=\"3.2\"/>\n",
       "<circle clip-path=\"url(#clip772)\" cx=\"435.121\" cy=\"1337.18\" r=\"14\" fill=\"#009af9\" fill-rule=\"evenodd\" fill-opacity=\"1\" stroke=\"#000000\" stroke-opacity=\"1\" stroke-width=\"3.2\"/>\n",
       "<circle clip-path=\"url(#clip772)\" cx=\"437.155\" cy=\"1335.89\" r=\"14\" fill=\"#009af9\" fill-rule=\"evenodd\" fill-opacity=\"1\" stroke=\"#000000\" stroke-opacity=\"1\" stroke-width=\"3.2\"/>\n",
       "<circle clip-path=\"url(#clip772)\" cx=\"439.188\" cy=\"1334.61\" r=\"14\" fill=\"#009af9\" fill-rule=\"evenodd\" fill-opacity=\"1\" stroke=\"#000000\" stroke-opacity=\"1\" stroke-width=\"3.2\"/>\n",
       "<circle clip-path=\"url(#clip772)\" cx=\"441.222\" cy=\"1333.32\" r=\"14\" fill=\"#009af9\" fill-rule=\"evenodd\" fill-opacity=\"1\" stroke=\"#000000\" stroke-opacity=\"1\" stroke-width=\"3.2\"/>\n",
       "<circle clip-path=\"url(#clip772)\" cx=\"443.256\" cy=\"1332.03\" r=\"14\" fill=\"#009af9\" fill-rule=\"evenodd\" fill-opacity=\"1\" stroke=\"#000000\" stroke-opacity=\"1\" stroke-width=\"3.2\"/>\n",
       "<circle clip-path=\"url(#clip772)\" cx=\"445.289\" cy=\"1330.75\" r=\"14\" fill=\"#009af9\" fill-rule=\"evenodd\" fill-opacity=\"1\" stroke=\"#000000\" stroke-opacity=\"1\" stroke-width=\"3.2\"/>\n",
       "<circle clip-path=\"url(#clip772)\" cx=\"447.323\" cy=\"1329.46\" r=\"14\" fill=\"#009af9\" fill-rule=\"evenodd\" fill-opacity=\"1\" stroke=\"#000000\" stroke-opacity=\"1\" stroke-width=\"3.2\"/>\n",
       "<circle clip-path=\"url(#clip772)\" cx=\"449.356\" cy=\"1328.17\" r=\"14\" fill=\"#009af9\" fill-rule=\"evenodd\" fill-opacity=\"1\" stroke=\"#000000\" stroke-opacity=\"1\" stroke-width=\"3.2\"/>\n",
       "<circle clip-path=\"url(#clip772)\" cx=\"451.39\" cy=\"1326.88\" r=\"14\" fill=\"#009af9\" fill-rule=\"evenodd\" fill-opacity=\"1\" stroke=\"#000000\" stroke-opacity=\"1\" stroke-width=\"3.2\"/>\n",
       "<circle clip-path=\"url(#clip772)\" cx=\"453.424\" cy=\"1325.6\" r=\"14\" fill=\"#009af9\" fill-rule=\"evenodd\" fill-opacity=\"1\" stroke=\"#000000\" stroke-opacity=\"1\" stroke-width=\"3.2\"/>\n",
       "<circle clip-path=\"url(#clip772)\" cx=\"455.457\" cy=\"1324.31\" r=\"14\" fill=\"#009af9\" fill-rule=\"evenodd\" fill-opacity=\"1\" stroke=\"#000000\" stroke-opacity=\"1\" stroke-width=\"3.2\"/>\n",
       "<circle clip-path=\"url(#clip772)\" cx=\"457.491\" cy=\"1323.02\" r=\"14\" fill=\"#009af9\" fill-rule=\"evenodd\" fill-opacity=\"1\" stroke=\"#000000\" stroke-opacity=\"1\" stroke-width=\"3.2\"/>\n",
       "<circle clip-path=\"url(#clip772)\" cx=\"459.524\" cy=\"1321.74\" r=\"14\" fill=\"#009af9\" fill-rule=\"evenodd\" fill-opacity=\"1\" stroke=\"#000000\" stroke-opacity=\"1\" stroke-width=\"3.2\"/>\n",
       "<circle clip-path=\"url(#clip772)\" cx=\"461.558\" cy=\"1320.45\" r=\"14\" fill=\"#009af9\" fill-rule=\"evenodd\" fill-opacity=\"1\" stroke=\"#000000\" stroke-opacity=\"1\" stroke-width=\"3.2\"/>\n",
       "<circle clip-path=\"url(#clip772)\" cx=\"463.592\" cy=\"1319.16\" r=\"14\" fill=\"#009af9\" fill-rule=\"evenodd\" fill-opacity=\"1\" stroke=\"#000000\" stroke-opacity=\"1\" stroke-width=\"3.2\"/>\n",
       "<circle clip-path=\"url(#clip772)\" cx=\"465.625\" cy=\"1317.87\" r=\"14\" fill=\"#009af9\" fill-rule=\"evenodd\" fill-opacity=\"1\" stroke=\"#000000\" stroke-opacity=\"1\" stroke-width=\"3.2\"/>\n",
       "<circle clip-path=\"url(#clip772)\" cx=\"467.659\" cy=\"1316.59\" r=\"14\" fill=\"#009af9\" fill-rule=\"evenodd\" fill-opacity=\"1\" stroke=\"#000000\" stroke-opacity=\"1\" stroke-width=\"3.2\"/>\n",
       "<circle clip-path=\"url(#clip772)\" cx=\"469.693\" cy=\"1315.3\" r=\"14\" fill=\"#009af9\" fill-rule=\"evenodd\" fill-opacity=\"1\" stroke=\"#000000\" stroke-opacity=\"1\" stroke-width=\"3.2\"/>\n",
       "<circle clip-path=\"url(#clip772)\" cx=\"471.726\" cy=\"1314.01\" r=\"14\" fill=\"#009af9\" fill-rule=\"evenodd\" fill-opacity=\"1\" stroke=\"#000000\" stroke-opacity=\"1\" stroke-width=\"3.2\"/>\n",
       "<circle clip-path=\"url(#clip772)\" cx=\"473.76\" cy=\"1312.73\" r=\"14\" fill=\"#009af9\" fill-rule=\"evenodd\" fill-opacity=\"1\" stroke=\"#000000\" stroke-opacity=\"1\" stroke-width=\"3.2\"/>\n",
       "<circle clip-path=\"url(#clip772)\" cx=\"475.793\" cy=\"1311.44\" r=\"14\" fill=\"#009af9\" fill-rule=\"evenodd\" fill-opacity=\"1\" stroke=\"#000000\" stroke-opacity=\"1\" stroke-width=\"3.2\"/>\n",
       "<circle clip-path=\"url(#clip772)\" cx=\"477.827\" cy=\"1310.15\" r=\"14\" fill=\"#009af9\" fill-rule=\"evenodd\" fill-opacity=\"1\" stroke=\"#000000\" stroke-opacity=\"1\" stroke-width=\"3.2\"/>\n",
       "<circle clip-path=\"url(#clip772)\" cx=\"479.861\" cy=\"1308.86\" r=\"14\" fill=\"#009af9\" fill-rule=\"evenodd\" fill-opacity=\"1\" stroke=\"#000000\" stroke-opacity=\"1\" stroke-width=\"3.2\"/>\n",
       "<circle clip-path=\"url(#clip772)\" cx=\"481.894\" cy=\"1307.58\" r=\"14\" fill=\"#009af9\" fill-rule=\"evenodd\" fill-opacity=\"1\" stroke=\"#000000\" stroke-opacity=\"1\" stroke-width=\"3.2\"/>\n",
       "<circle clip-path=\"url(#clip772)\" cx=\"483.928\" cy=\"1306.29\" r=\"14\" fill=\"#009af9\" fill-rule=\"evenodd\" fill-opacity=\"1\" stroke=\"#000000\" stroke-opacity=\"1\" stroke-width=\"3.2\"/>\n",
       "<circle clip-path=\"url(#clip772)\" cx=\"485.961\" cy=\"1305\" r=\"14\" fill=\"#009af9\" fill-rule=\"evenodd\" fill-opacity=\"1\" stroke=\"#000000\" stroke-opacity=\"1\" stroke-width=\"3.2\"/>\n",
       "<circle clip-path=\"url(#clip772)\" cx=\"487.995\" cy=\"1303.72\" r=\"14\" fill=\"#009af9\" fill-rule=\"evenodd\" fill-opacity=\"1\" stroke=\"#000000\" stroke-opacity=\"1\" stroke-width=\"3.2\"/>\n",
       "<circle clip-path=\"url(#clip772)\" cx=\"490.029\" cy=\"1302.43\" r=\"14\" fill=\"#009af9\" fill-rule=\"evenodd\" fill-opacity=\"1\" stroke=\"#000000\" stroke-opacity=\"1\" stroke-width=\"3.2\"/>\n",
       "<circle clip-path=\"url(#clip772)\" cx=\"492.062\" cy=\"1301.14\" r=\"14\" fill=\"#009af9\" fill-rule=\"evenodd\" fill-opacity=\"1\" stroke=\"#000000\" stroke-opacity=\"1\" stroke-width=\"3.2\"/>\n",
       "<circle clip-path=\"url(#clip772)\" cx=\"494.096\" cy=\"1299.86\" r=\"14\" fill=\"#009af9\" fill-rule=\"evenodd\" fill-opacity=\"1\" stroke=\"#000000\" stroke-opacity=\"1\" stroke-width=\"3.2\"/>\n",
       "<circle clip-path=\"url(#clip772)\" cx=\"496.129\" cy=\"1298.57\" r=\"14\" fill=\"#009af9\" fill-rule=\"evenodd\" fill-opacity=\"1\" stroke=\"#000000\" stroke-opacity=\"1\" stroke-width=\"3.2\"/>\n",
       "<circle clip-path=\"url(#clip772)\" cx=\"498.163\" cy=\"1297.28\" r=\"14\" fill=\"#009af9\" fill-rule=\"evenodd\" fill-opacity=\"1\" stroke=\"#000000\" stroke-opacity=\"1\" stroke-width=\"3.2\"/>\n",
       "<circle clip-path=\"url(#clip772)\" cx=\"500.197\" cy=\"1295.99\" r=\"14\" fill=\"#009af9\" fill-rule=\"evenodd\" fill-opacity=\"1\" stroke=\"#000000\" stroke-opacity=\"1\" stroke-width=\"3.2\"/>\n",
       "<circle clip-path=\"url(#clip772)\" cx=\"502.23\" cy=\"1294.71\" r=\"14\" fill=\"#009af9\" fill-rule=\"evenodd\" fill-opacity=\"1\" stroke=\"#000000\" stroke-opacity=\"1\" stroke-width=\"3.2\"/>\n",
       "<circle clip-path=\"url(#clip772)\" cx=\"504.264\" cy=\"1293.42\" r=\"14\" fill=\"#009af9\" fill-rule=\"evenodd\" fill-opacity=\"1\" stroke=\"#000000\" stroke-opacity=\"1\" stroke-width=\"3.2\"/>\n",
       "<circle clip-path=\"url(#clip772)\" cx=\"506.298\" cy=\"1292.13\" r=\"14\" fill=\"#009af9\" fill-rule=\"evenodd\" fill-opacity=\"1\" stroke=\"#000000\" stroke-opacity=\"1\" stroke-width=\"3.2\"/>\n",
       "<circle clip-path=\"url(#clip772)\" cx=\"508.331\" cy=\"1290.85\" r=\"14\" fill=\"#009af9\" fill-rule=\"evenodd\" fill-opacity=\"1\" stroke=\"#000000\" stroke-opacity=\"1\" stroke-width=\"3.2\"/>\n",
       "<circle clip-path=\"url(#clip772)\" cx=\"510.365\" cy=\"1289.56\" r=\"14\" fill=\"#009af9\" fill-rule=\"evenodd\" fill-opacity=\"1\" stroke=\"#000000\" stroke-opacity=\"1\" stroke-width=\"3.2\"/>\n",
       "<circle clip-path=\"url(#clip772)\" cx=\"512.398\" cy=\"1288.27\" r=\"14\" fill=\"#009af9\" fill-rule=\"evenodd\" fill-opacity=\"1\" stroke=\"#000000\" stroke-opacity=\"1\" stroke-width=\"3.2\"/>\n",
       "<circle clip-path=\"url(#clip772)\" cx=\"514.432\" cy=\"1286.98\" r=\"14\" fill=\"#009af9\" fill-rule=\"evenodd\" fill-opacity=\"1\" stroke=\"#000000\" stroke-opacity=\"1\" stroke-width=\"3.2\"/>\n",
       "<circle clip-path=\"url(#clip772)\" cx=\"516.466\" cy=\"1285.7\" r=\"14\" fill=\"#009af9\" fill-rule=\"evenodd\" fill-opacity=\"1\" stroke=\"#000000\" stroke-opacity=\"1\" stroke-width=\"3.2\"/>\n",
       "<circle clip-path=\"url(#clip772)\" cx=\"518.499\" cy=\"1284.41\" r=\"14\" fill=\"#009af9\" fill-rule=\"evenodd\" fill-opacity=\"1\" stroke=\"#000000\" stroke-opacity=\"1\" stroke-width=\"3.2\"/>\n",
       "<circle clip-path=\"url(#clip772)\" cx=\"520.533\" cy=\"1283.12\" r=\"14\" fill=\"#009af9\" fill-rule=\"evenodd\" fill-opacity=\"1\" stroke=\"#000000\" stroke-opacity=\"1\" stroke-width=\"3.2\"/>\n",
       "<circle clip-path=\"url(#clip772)\" cx=\"522.566\" cy=\"1281.84\" r=\"14\" fill=\"#009af9\" fill-rule=\"evenodd\" fill-opacity=\"1\" stroke=\"#000000\" stroke-opacity=\"1\" stroke-width=\"3.2\"/>\n",
       "<circle clip-path=\"url(#clip772)\" cx=\"524.6\" cy=\"1280.55\" r=\"14\" fill=\"#009af9\" fill-rule=\"evenodd\" fill-opacity=\"1\" stroke=\"#000000\" stroke-opacity=\"1\" stroke-width=\"3.2\"/>\n",
       "<circle clip-path=\"url(#clip772)\" cx=\"526.634\" cy=\"1279.26\" r=\"14\" fill=\"#009af9\" fill-rule=\"evenodd\" fill-opacity=\"1\" stroke=\"#000000\" stroke-opacity=\"1\" stroke-width=\"3.2\"/>\n",
       "<circle clip-path=\"url(#clip772)\" cx=\"528.667\" cy=\"1277.97\" r=\"14\" fill=\"#009af9\" fill-rule=\"evenodd\" fill-opacity=\"1\" stroke=\"#000000\" stroke-opacity=\"1\" stroke-width=\"3.2\"/>\n",
       "<circle clip-path=\"url(#clip772)\" cx=\"530.701\" cy=\"1276.69\" r=\"14\" fill=\"#009af9\" fill-rule=\"evenodd\" fill-opacity=\"1\" stroke=\"#000000\" stroke-opacity=\"1\" stroke-width=\"3.2\"/>\n",
       "<circle clip-path=\"url(#clip772)\" cx=\"532.734\" cy=\"1275.4\" r=\"14\" fill=\"#009af9\" fill-rule=\"evenodd\" fill-opacity=\"1\" stroke=\"#000000\" stroke-opacity=\"1\" stroke-width=\"3.2\"/>\n",
       "<circle clip-path=\"url(#clip772)\" cx=\"534.768\" cy=\"1274.11\" r=\"14\" fill=\"#009af9\" fill-rule=\"evenodd\" fill-opacity=\"1\" stroke=\"#000000\" stroke-opacity=\"1\" stroke-width=\"3.2\"/>\n",
       "<circle clip-path=\"url(#clip772)\" cx=\"536.802\" cy=\"1272.83\" r=\"14\" fill=\"#009af9\" fill-rule=\"evenodd\" fill-opacity=\"1\" stroke=\"#000000\" stroke-opacity=\"1\" stroke-width=\"3.2\"/>\n",
       "<circle clip-path=\"url(#clip772)\" cx=\"538.835\" cy=\"1271.54\" r=\"14\" fill=\"#009af9\" fill-rule=\"evenodd\" fill-opacity=\"1\" stroke=\"#000000\" stroke-opacity=\"1\" stroke-width=\"3.2\"/>\n",
       "<circle clip-path=\"url(#clip772)\" cx=\"540.869\" cy=\"1270.25\" r=\"14\" fill=\"#009af9\" fill-rule=\"evenodd\" fill-opacity=\"1\" stroke=\"#000000\" stroke-opacity=\"1\" stroke-width=\"3.2\"/>\n",
       "<circle clip-path=\"url(#clip772)\" cx=\"542.903\" cy=\"1268.96\" r=\"14\" fill=\"#009af9\" fill-rule=\"evenodd\" fill-opacity=\"1\" stroke=\"#000000\" stroke-opacity=\"1\" stroke-width=\"3.2\"/>\n",
       "<circle clip-path=\"url(#clip772)\" cx=\"544.936\" cy=\"1267.68\" r=\"14\" fill=\"#009af9\" fill-rule=\"evenodd\" fill-opacity=\"1\" stroke=\"#000000\" stroke-opacity=\"1\" stroke-width=\"3.2\"/>\n",
       "<circle clip-path=\"url(#clip772)\" cx=\"546.97\" cy=\"1266.39\" r=\"14\" fill=\"#009af9\" fill-rule=\"evenodd\" fill-opacity=\"1\" stroke=\"#000000\" stroke-opacity=\"1\" stroke-width=\"3.2\"/>\n",
       "<circle clip-path=\"url(#clip772)\" cx=\"549.003\" cy=\"1265.1\" r=\"14\" fill=\"#009af9\" fill-rule=\"evenodd\" fill-opacity=\"1\" stroke=\"#000000\" stroke-opacity=\"1\" stroke-width=\"3.2\"/>\n",
       "<circle clip-path=\"url(#clip772)\" cx=\"551.037\" cy=\"1263.82\" r=\"14\" fill=\"#009af9\" fill-rule=\"evenodd\" fill-opacity=\"1\" stroke=\"#000000\" stroke-opacity=\"1\" stroke-width=\"3.2\"/>\n",
       "<circle clip-path=\"url(#clip772)\" cx=\"553.071\" cy=\"1262.53\" r=\"14\" fill=\"#009af9\" fill-rule=\"evenodd\" fill-opacity=\"1\" stroke=\"#000000\" stroke-opacity=\"1\" stroke-width=\"3.2\"/>\n",
       "<circle clip-path=\"url(#clip772)\" cx=\"555.104\" cy=\"1261.24\" r=\"14\" fill=\"#009af9\" fill-rule=\"evenodd\" fill-opacity=\"1\" stroke=\"#000000\" stroke-opacity=\"1\" stroke-width=\"3.2\"/>\n",
       "<circle clip-path=\"url(#clip772)\" cx=\"557.138\" cy=\"1259.95\" r=\"14\" fill=\"#009af9\" fill-rule=\"evenodd\" fill-opacity=\"1\" stroke=\"#000000\" stroke-opacity=\"1\" stroke-width=\"3.2\"/>\n",
       "<circle clip-path=\"url(#clip772)\" cx=\"559.171\" cy=\"1258.67\" r=\"14\" fill=\"#009af9\" fill-rule=\"evenodd\" fill-opacity=\"1\" stroke=\"#000000\" stroke-opacity=\"1\" stroke-width=\"3.2\"/>\n",
       "<circle clip-path=\"url(#clip772)\" cx=\"561.205\" cy=\"1257.38\" r=\"14\" fill=\"#009af9\" fill-rule=\"evenodd\" fill-opacity=\"1\" stroke=\"#000000\" stroke-opacity=\"1\" stroke-width=\"3.2\"/>\n",
       "<circle clip-path=\"url(#clip772)\" cx=\"563.239\" cy=\"1256.09\" r=\"14\" fill=\"#009af9\" fill-rule=\"evenodd\" fill-opacity=\"1\" stroke=\"#000000\" stroke-opacity=\"1\" stroke-width=\"3.2\"/>\n",
       "<circle clip-path=\"url(#clip772)\" cx=\"565.272\" cy=\"1254.81\" r=\"14\" fill=\"#009af9\" fill-rule=\"evenodd\" fill-opacity=\"1\" stroke=\"#000000\" stroke-opacity=\"1\" stroke-width=\"3.2\"/>\n",
       "<circle clip-path=\"url(#clip772)\" cx=\"567.306\" cy=\"1253.52\" r=\"14\" fill=\"#009af9\" fill-rule=\"evenodd\" fill-opacity=\"1\" stroke=\"#000000\" stroke-opacity=\"1\" stroke-width=\"3.2\"/>\n",
       "<circle clip-path=\"url(#clip772)\" cx=\"569.34\" cy=\"1252.23\" r=\"14\" fill=\"#009af9\" fill-rule=\"evenodd\" fill-opacity=\"1\" stroke=\"#000000\" stroke-opacity=\"1\" stroke-width=\"3.2\"/>\n",
       "<circle clip-path=\"url(#clip772)\" cx=\"571.373\" cy=\"1250.94\" r=\"14\" fill=\"#009af9\" fill-rule=\"evenodd\" fill-opacity=\"1\" stroke=\"#000000\" stroke-opacity=\"1\" stroke-width=\"3.2\"/>\n",
       "<circle clip-path=\"url(#clip772)\" cx=\"573.407\" cy=\"1249.66\" r=\"14\" fill=\"#009af9\" fill-rule=\"evenodd\" fill-opacity=\"1\" stroke=\"#000000\" stroke-opacity=\"1\" stroke-width=\"3.2\"/>\n",
       "<circle clip-path=\"url(#clip772)\" cx=\"575.44\" cy=\"1248.37\" r=\"14\" fill=\"#009af9\" fill-rule=\"evenodd\" fill-opacity=\"1\" stroke=\"#000000\" stroke-opacity=\"1\" stroke-width=\"3.2\"/>\n",
       "<circle clip-path=\"url(#clip772)\" cx=\"577.474\" cy=\"1247.08\" r=\"14\" fill=\"#009af9\" fill-rule=\"evenodd\" fill-opacity=\"1\" stroke=\"#000000\" stroke-opacity=\"1\" stroke-width=\"3.2\"/>\n",
       "<circle clip-path=\"url(#clip772)\" cx=\"579.508\" cy=\"1245.8\" r=\"14\" fill=\"#009af9\" fill-rule=\"evenodd\" fill-opacity=\"1\" stroke=\"#000000\" stroke-opacity=\"1\" stroke-width=\"3.2\"/>\n",
       "<circle clip-path=\"url(#clip772)\" cx=\"581.541\" cy=\"1244.51\" r=\"14\" fill=\"#009af9\" fill-rule=\"evenodd\" fill-opacity=\"1\" stroke=\"#000000\" stroke-opacity=\"1\" stroke-width=\"3.2\"/>\n",
       "<circle clip-path=\"url(#clip772)\" cx=\"583.575\" cy=\"1243.22\" r=\"14\" fill=\"#009af9\" fill-rule=\"evenodd\" fill-opacity=\"1\" stroke=\"#000000\" stroke-opacity=\"1\" stroke-width=\"3.2\"/>\n",
       "<circle clip-path=\"url(#clip772)\" cx=\"585.608\" cy=\"1241.93\" r=\"14\" fill=\"#009af9\" fill-rule=\"evenodd\" fill-opacity=\"1\" stroke=\"#000000\" stroke-opacity=\"1\" stroke-width=\"3.2\"/>\n",
       "<circle clip-path=\"url(#clip772)\" cx=\"587.642\" cy=\"1240.65\" r=\"14\" fill=\"#009af9\" fill-rule=\"evenodd\" fill-opacity=\"1\" stroke=\"#000000\" stroke-opacity=\"1\" stroke-width=\"3.2\"/>\n",
       "<circle clip-path=\"url(#clip772)\" cx=\"589.676\" cy=\"1239.36\" r=\"14\" fill=\"#009af9\" fill-rule=\"evenodd\" fill-opacity=\"1\" stroke=\"#000000\" stroke-opacity=\"1\" stroke-width=\"3.2\"/>\n",
       "<circle clip-path=\"url(#clip772)\" cx=\"591.709\" cy=\"1238.07\" r=\"14\" fill=\"#009af9\" fill-rule=\"evenodd\" fill-opacity=\"1\" stroke=\"#000000\" stroke-opacity=\"1\" stroke-width=\"3.2\"/>\n",
       "<circle clip-path=\"url(#clip772)\" cx=\"593.743\" cy=\"1236.79\" r=\"14\" fill=\"#009af9\" fill-rule=\"evenodd\" fill-opacity=\"1\" stroke=\"#000000\" stroke-opacity=\"1\" stroke-width=\"3.2\"/>\n",
       "<circle clip-path=\"url(#clip772)\" cx=\"595.776\" cy=\"1235.5\" r=\"14\" fill=\"#009af9\" fill-rule=\"evenodd\" fill-opacity=\"1\" stroke=\"#000000\" stroke-opacity=\"1\" stroke-width=\"3.2\"/>\n",
       "<circle clip-path=\"url(#clip772)\" cx=\"597.81\" cy=\"1234.21\" r=\"14\" fill=\"#009af9\" fill-rule=\"evenodd\" fill-opacity=\"1\" stroke=\"#000000\" stroke-opacity=\"1\" stroke-width=\"3.2\"/>\n",
       "<circle clip-path=\"url(#clip772)\" cx=\"599.844\" cy=\"1232.93\" r=\"14\" fill=\"#009af9\" fill-rule=\"evenodd\" fill-opacity=\"1\" stroke=\"#000000\" stroke-opacity=\"1\" stroke-width=\"3.2\"/>\n",
       "<circle clip-path=\"url(#clip772)\" cx=\"601.877\" cy=\"1231.64\" r=\"14\" fill=\"#009af9\" fill-rule=\"evenodd\" fill-opacity=\"1\" stroke=\"#000000\" stroke-opacity=\"1\" stroke-width=\"3.2\"/>\n",
       "<circle clip-path=\"url(#clip772)\" cx=\"603.911\" cy=\"1230.35\" r=\"14\" fill=\"#009af9\" fill-rule=\"evenodd\" fill-opacity=\"1\" stroke=\"#000000\" stroke-opacity=\"1\" stroke-width=\"3.2\"/>\n",
       "<circle clip-path=\"url(#clip772)\" cx=\"605.945\" cy=\"1229.06\" r=\"14\" fill=\"#009af9\" fill-rule=\"evenodd\" fill-opacity=\"1\" stroke=\"#000000\" stroke-opacity=\"1\" stroke-width=\"3.2\"/>\n",
       "<circle clip-path=\"url(#clip772)\" cx=\"607.978\" cy=\"1227.78\" r=\"14\" fill=\"#009af9\" fill-rule=\"evenodd\" fill-opacity=\"1\" stroke=\"#000000\" stroke-opacity=\"1\" stroke-width=\"3.2\"/>\n",
       "<circle clip-path=\"url(#clip772)\" cx=\"610.012\" cy=\"1226.49\" r=\"14\" fill=\"#009af9\" fill-rule=\"evenodd\" fill-opacity=\"1\" stroke=\"#000000\" stroke-opacity=\"1\" stroke-width=\"3.2\"/>\n",
       "<circle clip-path=\"url(#clip772)\" cx=\"612.045\" cy=\"1225.2\" r=\"14\" fill=\"#009af9\" fill-rule=\"evenodd\" fill-opacity=\"1\" stroke=\"#000000\" stroke-opacity=\"1\" stroke-width=\"3.2\"/>\n",
       "<circle clip-path=\"url(#clip772)\" cx=\"614.079\" cy=\"1223.92\" r=\"14\" fill=\"#009af9\" fill-rule=\"evenodd\" fill-opacity=\"1\" stroke=\"#000000\" stroke-opacity=\"1\" stroke-width=\"3.2\"/>\n",
       "<circle clip-path=\"url(#clip772)\" cx=\"616.113\" cy=\"1222.63\" r=\"14\" fill=\"#009af9\" fill-rule=\"evenodd\" fill-opacity=\"1\" stroke=\"#000000\" stroke-opacity=\"1\" stroke-width=\"3.2\"/>\n",
       "<circle clip-path=\"url(#clip772)\" cx=\"618.146\" cy=\"1221.34\" r=\"14\" fill=\"#009af9\" fill-rule=\"evenodd\" fill-opacity=\"1\" stroke=\"#000000\" stroke-opacity=\"1\" stroke-width=\"3.2\"/>\n",
       "<circle clip-path=\"url(#clip772)\" cx=\"620.18\" cy=\"1220.05\" r=\"14\" fill=\"#009af9\" fill-rule=\"evenodd\" fill-opacity=\"1\" stroke=\"#000000\" stroke-opacity=\"1\" stroke-width=\"3.2\"/>\n",
       "<circle clip-path=\"url(#clip772)\" cx=\"622.213\" cy=\"1218.77\" r=\"14\" fill=\"#009af9\" fill-rule=\"evenodd\" fill-opacity=\"1\" stroke=\"#000000\" stroke-opacity=\"1\" stroke-width=\"3.2\"/>\n",
       "<circle clip-path=\"url(#clip772)\" cx=\"624.247\" cy=\"1217.48\" r=\"14\" fill=\"#009af9\" fill-rule=\"evenodd\" fill-opacity=\"1\" stroke=\"#000000\" stroke-opacity=\"1\" stroke-width=\"3.2\"/>\n",
       "<circle clip-path=\"url(#clip772)\" cx=\"626.281\" cy=\"1216.19\" r=\"14\" fill=\"#009af9\" fill-rule=\"evenodd\" fill-opacity=\"1\" stroke=\"#000000\" stroke-opacity=\"1\" stroke-width=\"3.2\"/>\n",
       "<circle clip-path=\"url(#clip772)\" cx=\"628.314\" cy=\"1214.91\" r=\"14\" fill=\"#009af9\" fill-rule=\"evenodd\" fill-opacity=\"1\" stroke=\"#000000\" stroke-opacity=\"1\" stroke-width=\"3.2\"/>\n",
       "<circle clip-path=\"url(#clip772)\" cx=\"630.348\" cy=\"1213.62\" r=\"14\" fill=\"#009af9\" fill-rule=\"evenodd\" fill-opacity=\"1\" stroke=\"#000000\" stroke-opacity=\"1\" stroke-width=\"3.2\"/>\n",
       "<circle clip-path=\"url(#clip772)\" cx=\"632.381\" cy=\"1212.33\" r=\"14\" fill=\"#009af9\" fill-rule=\"evenodd\" fill-opacity=\"1\" stroke=\"#000000\" stroke-opacity=\"1\" stroke-width=\"3.2\"/>\n",
       "<circle clip-path=\"url(#clip772)\" cx=\"634.415\" cy=\"1211.04\" r=\"14\" fill=\"#009af9\" fill-rule=\"evenodd\" fill-opacity=\"1\" stroke=\"#000000\" stroke-opacity=\"1\" stroke-width=\"3.2\"/>\n",
       "<circle clip-path=\"url(#clip772)\" cx=\"636.449\" cy=\"1209.76\" r=\"14\" fill=\"#009af9\" fill-rule=\"evenodd\" fill-opacity=\"1\" stroke=\"#000000\" stroke-opacity=\"1\" stroke-width=\"3.2\"/>\n",
       "<circle clip-path=\"url(#clip772)\" cx=\"638.482\" cy=\"1208.47\" r=\"14\" fill=\"#009af9\" fill-rule=\"evenodd\" fill-opacity=\"1\" stroke=\"#000000\" stroke-opacity=\"1\" stroke-width=\"3.2\"/>\n",
       "<circle clip-path=\"url(#clip772)\" cx=\"640.516\" cy=\"1207.18\" r=\"14\" fill=\"#009af9\" fill-rule=\"evenodd\" fill-opacity=\"1\" stroke=\"#000000\" stroke-opacity=\"1\" stroke-width=\"3.2\"/>\n",
       "<circle clip-path=\"url(#clip772)\" cx=\"642.55\" cy=\"1205.9\" r=\"14\" fill=\"#009af9\" fill-rule=\"evenodd\" fill-opacity=\"1\" stroke=\"#000000\" stroke-opacity=\"1\" stroke-width=\"3.2\"/>\n",
       "<circle clip-path=\"url(#clip772)\" cx=\"644.583\" cy=\"1204.61\" r=\"14\" fill=\"#009af9\" fill-rule=\"evenodd\" fill-opacity=\"1\" stroke=\"#000000\" stroke-opacity=\"1\" stroke-width=\"3.2\"/>\n",
       "<circle clip-path=\"url(#clip772)\" cx=\"646.617\" cy=\"1203.32\" r=\"14\" fill=\"#009af9\" fill-rule=\"evenodd\" fill-opacity=\"1\" stroke=\"#000000\" stroke-opacity=\"1\" stroke-width=\"3.2\"/>\n",
       "<circle clip-path=\"url(#clip772)\" cx=\"648.65\" cy=\"1202.03\" r=\"14\" fill=\"#009af9\" fill-rule=\"evenodd\" fill-opacity=\"1\" stroke=\"#000000\" stroke-opacity=\"1\" stroke-width=\"3.2\"/>\n",
       "<circle clip-path=\"url(#clip772)\" cx=\"650.684\" cy=\"1200.75\" r=\"14\" fill=\"#009af9\" fill-rule=\"evenodd\" fill-opacity=\"1\" stroke=\"#000000\" stroke-opacity=\"1\" stroke-width=\"3.2\"/>\n",
       "<circle clip-path=\"url(#clip772)\" cx=\"652.718\" cy=\"1199.46\" r=\"14\" fill=\"#009af9\" fill-rule=\"evenodd\" fill-opacity=\"1\" stroke=\"#000000\" stroke-opacity=\"1\" stroke-width=\"3.2\"/>\n",
       "<circle clip-path=\"url(#clip772)\" cx=\"654.751\" cy=\"1198.17\" r=\"14\" fill=\"#009af9\" fill-rule=\"evenodd\" fill-opacity=\"1\" stroke=\"#000000\" stroke-opacity=\"1\" stroke-width=\"3.2\"/>\n",
       "<circle clip-path=\"url(#clip772)\" cx=\"656.785\" cy=\"1196.89\" r=\"14\" fill=\"#009af9\" fill-rule=\"evenodd\" fill-opacity=\"1\" stroke=\"#000000\" stroke-opacity=\"1\" stroke-width=\"3.2\"/>\n",
       "<circle clip-path=\"url(#clip772)\" cx=\"658.818\" cy=\"1195.6\" r=\"14\" fill=\"#009af9\" fill-rule=\"evenodd\" fill-opacity=\"1\" stroke=\"#000000\" stroke-opacity=\"1\" stroke-width=\"3.2\"/>\n",
       "<circle clip-path=\"url(#clip772)\" cx=\"660.852\" cy=\"1194.31\" r=\"14\" fill=\"#009af9\" fill-rule=\"evenodd\" fill-opacity=\"1\" stroke=\"#000000\" stroke-opacity=\"1\" stroke-width=\"3.2\"/>\n",
       "<circle clip-path=\"url(#clip772)\" cx=\"662.886\" cy=\"1193.02\" r=\"14\" fill=\"#009af9\" fill-rule=\"evenodd\" fill-opacity=\"1\" stroke=\"#000000\" stroke-opacity=\"1\" stroke-width=\"3.2\"/>\n",
       "<circle clip-path=\"url(#clip772)\" cx=\"664.919\" cy=\"1191.74\" r=\"14\" fill=\"#009af9\" fill-rule=\"evenodd\" fill-opacity=\"1\" stroke=\"#000000\" stroke-opacity=\"1\" stroke-width=\"3.2\"/>\n",
       "<circle clip-path=\"url(#clip772)\" cx=\"666.953\" cy=\"1190.45\" r=\"14\" fill=\"#009af9\" fill-rule=\"evenodd\" fill-opacity=\"1\" stroke=\"#000000\" stroke-opacity=\"1\" stroke-width=\"3.2\"/>\n",
       "<circle clip-path=\"url(#clip772)\" cx=\"668.986\" cy=\"1189.16\" r=\"14\" fill=\"#009af9\" fill-rule=\"evenodd\" fill-opacity=\"1\" stroke=\"#000000\" stroke-opacity=\"1\" stroke-width=\"3.2\"/>\n",
       "<circle clip-path=\"url(#clip772)\" cx=\"671.02\" cy=\"1187.88\" r=\"14\" fill=\"#009af9\" fill-rule=\"evenodd\" fill-opacity=\"1\" stroke=\"#000000\" stroke-opacity=\"1\" stroke-width=\"3.2\"/>\n",
       "<circle clip-path=\"url(#clip772)\" cx=\"673.054\" cy=\"1186.59\" r=\"14\" fill=\"#009af9\" fill-rule=\"evenodd\" fill-opacity=\"1\" stroke=\"#000000\" stroke-opacity=\"1\" stroke-width=\"3.2\"/>\n",
       "<circle clip-path=\"url(#clip772)\" cx=\"675.087\" cy=\"1185.3\" r=\"14\" fill=\"#009af9\" fill-rule=\"evenodd\" fill-opacity=\"1\" stroke=\"#000000\" stroke-opacity=\"1\" stroke-width=\"3.2\"/>\n",
       "<circle clip-path=\"url(#clip772)\" cx=\"677.121\" cy=\"1184.01\" r=\"14\" fill=\"#009af9\" fill-rule=\"evenodd\" fill-opacity=\"1\" stroke=\"#000000\" stroke-opacity=\"1\" stroke-width=\"3.2\"/>\n",
       "<circle clip-path=\"url(#clip772)\" cx=\"679.155\" cy=\"1182.73\" r=\"14\" fill=\"#009af9\" fill-rule=\"evenodd\" fill-opacity=\"1\" stroke=\"#000000\" stroke-opacity=\"1\" stroke-width=\"3.2\"/>\n",
       "<circle clip-path=\"url(#clip772)\" cx=\"681.188\" cy=\"1181.44\" r=\"14\" fill=\"#009af9\" fill-rule=\"evenodd\" fill-opacity=\"1\" stroke=\"#000000\" stroke-opacity=\"1\" stroke-width=\"3.2\"/>\n",
       "<circle clip-path=\"url(#clip772)\" cx=\"683.222\" cy=\"1180.15\" r=\"14\" fill=\"#009af9\" fill-rule=\"evenodd\" fill-opacity=\"1\" stroke=\"#000000\" stroke-opacity=\"1\" stroke-width=\"3.2\"/>\n",
       "<circle clip-path=\"url(#clip772)\" cx=\"685.255\" cy=\"1178.87\" r=\"14\" fill=\"#009af9\" fill-rule=\"evenodd\" fill-opacity=\"1\" stroke=\"#000000\" stroke-opacity=\"1\" stroke-width=\"3.2\"/>\n",
       "<circle clip-path=\"url(#clip772)\" cx=\"687.289\" cy=\"1177.58\" r=\"14\" fill=\"#009af9\" fill-rule=\"evenodd\" fill-opacity=\"1\" stroke=\"#000000\" stroke-opacity=\"1\" stroke-width=\"3.2\"/>\n",
       "<circle clip-path=\"url(#clip772)\" cx=\"689.323\" cy=\"1176.29\" r=\"14\" fill=\"#009af9\" fill-rule=\"evenodd\" fill-opacity=\"1\" stroke=\"#000000\" stroke-opacity=\"1\" stroke-width=\"3.2\"/>\n",
       "<circle clip-path=\"url(#clip772)\" cx=\"691.356\" cy=\"1175.01\" r=\"14\" fill=\"#009af9\" fill-rule=\"evenodd\" fill-opacity=\"1\" stroke=\"#000000\" stroke-opacity=\"1\" stroke-width=\"3.2\"/>\n",
       "<circle clip-path=\"url(#clip772)\" cx=\"693.39\" cy=\"1173.72\" r=\"14\" fill=\"#009af9\" fill-rule=\"evenodd\" fill-opacity=\"1\" stroke=\"#000000\" stroke-opacity=\"1\" stroke-width=\"3.2\"/>\n",
       "<circle clip-path=\"url(#clip772)\" cx=\"695.423\" cy=\"1172.43\" r=\"14\" fill=\"#009af9\" fill-rule=\"evenodd\" fill-opacity=\"1\" stroke=\"#000000\" stroke-opacity=\"1\" stroke-width=\"3.2\"/>\n",
       "<circle clip-path=\"url(#clip772)\" cx=\"697.457\" cy=\"1171.14\" r=\"14\" fill=\"#009af9\" fill-rule=\"evenodd\" fill-opacity=\"1\" stroke=\"#000000\" stroke-opacity=\"1\" stroke-width=\"3.2\"/>\n",
       "<circle clip-path=\"url(#clip772)\" cx=\"699.491\" cy=\"1169.86\" r=\"14\" fill=\"#009af9\" fill-rule=\"evenodd\" fill-opacity=\"1\" stroke=\"#000000\" stroke-opacity=\"1\" stroke-width=\"3.2\"/>\n",
       "<circle clip-path=\"url(#clip772)\" cx=\"701.524\" cy=\"1168.57\" r=\"14\" fill=\"#009af9\" fill-rule=\"evenodd\" fill-opacity=\"1\" stroke=\"#000000\" stroke-opacity=\"1\" stroke-width=\"3.2\"/>\n",
       "<circle clip-path=\"url(#clip772)\" cx=\"703.558\" cy=\"1167.28\" r=\"14\" fill=\"#009af9\" fill-rule=\"evenodd\" fill-opacity=\"1\" stroke=\"#000000\" stroke-opacity=\"1\" stroke-width=\"3.2\"/>\n",
       "<circle clip-path=\"url(#clip772)\" cx=\"705.591\" cy=\"1166\" r=\"14\" fill=\"#009af9\" fill-rule=\"evenodd\" fill-opacity=\"1\" stroke=\"#000000\" stroke-opacity=\"1\" stroke-width=\"3.2\"/>\n",
       "<circle clip-path=\"url(#clip772)\" cx=\"707.625\" cy=\"1164.71\" r=\"14\" fill=\"#009af9\" fill-rule=\"evenodd\" fill-opacity=\"1\" stroke=\"#000000\" stroke-opacity=\"1\" stroke-width=\"3.2\"/>\n",
       "<circle clip-path=\"url(#clip772)\" cx=\"709.659\" cy=\"1163.42\" r=\"14\" fill=\"#009af9\" fill-rule=\"evenodd\" fill-opacity=\"1\" stroke=\"#000000\" stroke-opacity=\"1\" stroke-width=\"3.2\"/>\n",
       "<circle clip-path=\"url(#clip772)\" cx=\"711.692\" cy=\"1162.13\" r=\"14\" fill=\"#009af9\" fill-rule=\"evenodd\" fill-opacity=\"1\" stroke=\"#000000\" stroke-opacity=\"1\" stroke-width=\"3.2\"/>\n",
       "<circle clip-path=\"url(#clip772)\" cx=\"713.726\" cy=\"1160.85\" r=\"14\" fill=\"#009af9\" fill-rule=\"evenodd\" fill-opacity=\"1\" stroke=\"#000000\" stroke-opacity=\"1\" stroke-width=\"3.2\"/>\n",
       "<circle clip-path=\"url(#clip772)\" cx=\"715.76\" cy=\"1159.56\" r=\"14\" fill=\"#009af9\" fill-rule=\"evenodd\" fill-opacity=\"1\" stroke=\"#000000\" stroke-opacity=\"1\" stroke-width=\"3.2\"/>\n",
       "<circle clip-path=\"url(#clip772)\" cx=\"717.793\" cy=\"1158.27\" r=\"14\" fill=\"#009af9\" fill-rule=\"evenodd\" fill-opacity=\"1\" stroke=\"#000000\" stroke-opacity=\"1\" stroke-width=\"3.2\"/>\n",
       "<circle clip-path=\"url(#clip772)\" cx=\"719.827\" cy=\"1156.99\" r=\"14\" fill=\"#009af9\" fill-rule=\"evenodd\" fill-opacity=\"1\" stroke=\"#000000\" stroke-opacity=\"1\" stroke-width=\"3.2\"/>\n",
       "<circle clip-path=\"url(#clip772)\" cx=\"721.86\" cy=\"1155.7\" r=\"14\" fill=\"#009af9\" fill-rule=\"evenodd\" fill-opacity=\"1\" stroke=\"#000000\" stroke-opacity=\"1\" stroke-width=\"3.2\"/>\n",
       "<circle clip-path=\"url(#clip772)\" cx=\"723.894\" cy=\"1154.41\" r=\"14\" fill=\"#009af9\" fill-rule=\"evenodd\" fill-opacity=\"1\" stroke=\"#000000\" stroke-opacity=\"1\" stroke-width=\"3.2\"/>\n",
       "<circle clip-path=\"url(#clip772)\" cx=\"725.928\" cy=\"1153.12\" r=\"14\" fill=\"#009af9\" fill-rule=\"evenodd\" fill-opacity=\"1\" stroke=\"#000000\" stroke-opacity=\"1\" stroke-width=\"3.2\"/>\n",
       "<circle clip-path=\"url(#clip772)\" cx=\"727.961\" cy=\"1151.84\" r=\"14\" fill=\"#009af9\" fill-rule=\"evenodd\" fill-opacity=\"1\" stroke=\"#000000\" stroke-opacity=\"1\" stroke-width=\"3.2\"/>\n",
       "<circle clip-path=\"url(#clip772)\" cx=\"729.995\" cy=\"1150.55\" r=\"14\" fill=\"#009af9\" fill-rule=\"evenodd\" fill-opacity=\"1\" stroke=\"#000000\" stroke-opacity=\"1\" stroke-width=\"3.2\"/>\n",
       "<circle clip-path=\"url(#clip772)\" cx=\"732.028\" cy=\"1149.26\" r=\"14\" fill=\"#009af9\" fill-rule=\"evenodd\" fill-opacity=\"1\" stroke=\"#000000\" stroke-opacity=\"1\" stroke-width=\"3.2\"/>\n",
       "<circle clip-path=\"url(#clip772)\" cx=\"734.062\" cy=\"1147.98\" r=\"14\" fill=\"#009af9\" fill-rule=\"evenodd\" fill-opacity=\"1\" stroke=\"#000000\" stroke-opacity=\"1\" stroke-width=\"3.2\"/>\n",
       "<circle clip-path=\"url(#clip772)\" cx=\"736.096\" cy=\"1146.69\" r=\"14\" fill=\"#009af9\" fill-rule=\"evenodd\" fill-opacity=\"1\" stroke=\"#000000\" stroke-opacity=\"1\" stroke-width=\"3.2\"/>\n",
       "<circle clip-path=\"url(#clip772)\" cx=\"738.129\" cy=\"1145.4\" r=\"14\" fill=\"#009af9\" fill-rule=\"evenodd\" fill-opacity=\"1\" stroke=\"#000000\" stroke-opacity=\"1\" stroke-width=\"3.2\"/>\n",
       "<circle clip-path=\"url(#clip772)\" cx=\"740.163\" cy=\"1144.11\" r=\"14\" fill=\"#009af9\" fill-rule=\"evenodd\" fill-opacity=\"1\" stroke=\"#000000\" stroke-opacity=\"1\" stroke-width=\"3.2\"/>\n",
       "<circle clip-path=\"url(#clip772)\" cx=\"742.196\" cy=\"1142.83\" r=\"14\" fill=\"#009af9\" fill-rule=\"evenodd\" fill-opacity=\"1\" stroke=\"#000000\" stroke-opacity=\"1\" stroke-width=\"3.2\"/>\n",
       "<circle clip-path=\"url(#clip772)\" cx=\"744.23\" cy=\"1141.54\" r=\"14\" fill=\"#009af9\" fill-rule=\"evenodd\" fill-opacity=\"1\" stroke=\"#000000\" stroke-opacity=\"1\" stroke-width=\"3.2\"/>\n",
       "<circle clip-path=\"url(#clip772)\" cx=\"746.264\" cy=\"1140.25\" r=\"14\" fill=\"#009af9\" fill-rule=\"evenodd\" fill-opacity=\"1\" stroke=\"#000000\" stroke-opacity=\"1\" stroke-width=\"3.2\"/>\n",
       "<circle clip-path=\"url(#clip772)\" cx=\"748.297\" cy=\"1138.97\" r=\"14\" fill=\"#009af9\" fill-rule=\"evenodd\" fill-opacity=\"1\" stroke=\"#000000\" stroke-opacity=\"1\" stroke-width=\"3.2\"/>\n",
       "<circle clip-path=\"url(#clip772)\" cx=\"750.331\" cy=\"1137.68\" r=\"14\" fill=\"#009af9\" fill-rule=\"evenodd\" fill-opacity=\"1\" stroke=\"#000000\" stroke-opacity=\"1\" stroke-width=\"3.2\"/>\n",
       "<circle clip-path=\"url(#clip772)\" cx=\"752.365\" cy=\"1136.39\" r=\"14\" fill=\"#009af9\" fill-rule=\"evenodd\" fill-opacity=\"1\" stroke=\"#000000\" stroke-opacity=\"1\" stroke-width=\"3.2\"/>\n",
       "<circle clip-path=\"url(#clip772)\" cx=\"754.398\" cy=\"1135.1\" r=\"14\" fill=\"#009af9\" fill-rule=\"evenodd\" fill-opacity=\"1\" stroke=\"#000000\" stroke-opacity=\"1\" stroke-width=\"3.2\"/>\n",
       "<circle clip-path=\"url(#clip772)\" cx=\"756.432\" cy=\"1133.82\" r=\"14\" fill=\"#009af9\" fill-rule=\"evenodd\" fill-opacity=\"1\" stroke=\"#000000\" stroke-opacity=\"1\" stroke-width=\"3.2\"/>\n",
       "<circle clip-path=\"url(#clip772)\" cx=\"758.465\" cy=\"1132.53\" r=\"14\" fill=\"#009af9\" fill-rule=\"evenodd\" fill-opacity=\"1\" stroke=\"#000000\" stroke-opacity=\"1\" stroke-width=\"3.2\"/>\n",
       "<circle clip-path=\"url(#clip772)\" cx=\"760.499\" cy=\"1131.24\" r=\"14\" fill=\"#009af9\" fill-rule=\"evenodd\" fill-opacity=\"1\" stroke=\"#000000\" stroke-opacity=\"1\" stroke-width=\"3.2\"/>\n",
       "<circle clip-path=\"url(#clip772)\" cx=\"762.533\" cy=\"1129.96\" r=\"14\" fill=\"#009af9\" fill-rule=\"evenodd\" fill-opacity=\"1\" stroke=\"#000000\" stroke-opacity=\"1\" stroke-width=\"3.2\"/>\n",
       "<circle clip-path=\"url(#clip772)\" cx=\"764.566\" cy=\"1128.67\" r=\"14\" fill=\"#009af9\" fill-rule=\"evenodd\" fill-opacity=\"1\" stroke=\"#000000\" stroke-opacity=\"1\" stroke-width=\"3.2\"/>\n",
       "<circle clip-path=\"url(#clip772)\" cx=\"766.6\" cy=\"1127.38\" r=\"14\" fill=\"#009af9\" fill-rule=\"evenodd\" fill-opacity=\"1\" stroke=\"#000000\" stroke-opacity=\"1\" stroke-width=\"3.2\"/>\n",
       "<circle clip-path=\"url(#clip772)\" cx=\"768.633\" cy=\"1126.09\" r=\"14\" fill=\"#009af9\" fill-rule=\"evenodd\" fill-opacity=\"1\" stroke=\"#000000\" stroke-opacity=\"1\" stroke-width=\"3.2\"/>\n",
       "<circle clip-path=\"url(#clip772)\" cx=\"770.667\" cy=\"1124.81\" r=\"14\" fill=\"#009af9\" fill-rule=\"evenodd\" fill-opacity=\"1\" stroke=\"#000000\" stroke-opacity=\"1\" stroke-width=\"3.2\"/>\n",
       "<circle clip-path=\"url(#clip772)\" cx=\"772.701\" cy=\"1123.52\" r=\"14\" fill=\"#009af9\" fill-rule=\"evenodd\" fill-opacity=\"1\" stroke=\"#000000\" stroke-opacity=\"1\" stroke-width=\"3.2\"/>\n",
       "<circle clip-path=\"url(#clip772)\" cx=\"774.734\" cy=\"1122.23\" r=\"14\" fill=\"#009af9\" fill-rule=\"evenodd\" fill-opacity=\"1\" stroke=\"#000000\" stroke-opacity=\"1\" stroke-width=\"3.2\"/>\n",
       "<circle clip-path=\"url(#clip772)\" cx=\"776.768\" cy=\"1120.95\" r=\"14\" fill=\"#009af9\" fill-rule=\"evenodd\" fill-opacity=\"1\" stroke=\"#000000\" stroke-opacity=\"1\" stroke-width=\"3.2\"/>\n",
       "<circle clip-path=\"url(#clip772)\" cx=\"778.802\" cy=\"1119.66\" r=\"14\" fill=\"#009af9\" fill-rule=\"evenodd\" fill-opacity=\"1\" stroke=\"#000000\" stroke-opacity=\"1\" stroke-width=\"3.2\"/>\n",
       "<circle clip-path=\"url(#clip772)\" cx=\"780.835\" cy=\"1118.37\" r=\"14\" fill=\"#009af9\" fill-rule=\"evenodd\" fill-opacity=\"1\" stroke=\"#000000\" stroke-opacity=\"1\" stroke-width=\"3.2\"/>\n",
       "<circle clip-path=\"url(#clip772)\" cx=\"782.869\" cy=\"1117.08\" r=\"14\" fill=\"#009af9\" fill-rule=\"evenodd\" fill-opacity=\"1\" stroke=\"#000000\" stroke-opacity=\"1\" stroke-width=\"3.2\"/>\n",
       "<circle clip-path=\"url(#clip772)\" cx=\"784.902\" cy=\"1115.8\" r=\"14\" fill=\"#009af9\" fill-rule=\"evenodd\" fill-opacity=\"1\" stroke=\"#000000\" stroke-opacity=\"1\" stroke-width=\"3.2\"/>\n",
       "<circle clip-path=\"url(#clip772)\" cx=\"786.936\" cy=\"1114.51\" r=\"14\" fill=\"#009af9\" fill-rule=\"evenodd\" fill-opacity=\"1\" stroke=\"#000000\" stroke-opacity=\"1\" stroke-width=\"3.2\"/>\n",
       "<circle clip-path=\"url(#clip772)\" cx=\"788.97\" cy=\"1113.22\" r=\"14\" fill=\"#009af9\" fill-rule=\"evenodd\" fill-opacity=\"1\" stroke=\"#000000\" stroke-opacity=\"1\" stroke-width=\"3.2\"/>\n",
       "<circle clip-path=\"url(#clip772)\" cx=\"791.003\" cy=\"1111.94\" r=\"14\" fill=\"#009af9\" fill-rule=\"evenodd\" fill-opacity=\"1\" stroke=\"#000000\" stroke-opacity=\"1\" stroke-width=\"3.2\"/>\n",
       "<circle clip-path=\"url(#clip772)\" cx=\"793.037\" cy=\"1110.65\" r=\"14\" fill=\"#009af9\" fill-rule=\"evenodd\" fill-opacity=\"1\" stroke=\"#000000\" stroke-opacity=\"1\" stroke-width=\"3.2\"/>\n",
       "<circle clip-path=\"url(#clip772)\" cx=\"795.07\" cy=\"1109.36\" r=\"14\" fill=\"#009af9\" fill-rule=\"evenodd\" fill-opacity=\"1\" stroke=\"#000000\" stroke-opacity=\"1\" stroke-width=\"3.2\"/>\n",
       "<circle clip-path=\"url(#clip772)\" cx=\"797.104\" cy=\"1108.08\" r=\"14\" fill=\"#009af9\" fill-rule=\"evenodd\" fill-opacity=\"1\" stroke=\"#000000\" stroke-opacity=\"1\" stroke-width=\"3.2\"/>\n",
       "<circle clip-path=\"url(#clip772)\" cx=\"799.138\" cy=\"1106.79\" r=\"14\" fill=\"#009af9\" fill-rule=\"evenodd\" fill-opacity=\"1\" stroke=\"#000000\" stroke-opacity=\"1\" stroke-width=\"3.2\"/>\n",
       "<circle clip-path=\"url(#clip772)\" cx=\"801.171\" cy=\"1105.5\" r=\"14\" fill=\"#009af9\" fill-rule=\"evenodd\" fill-opacity=\"1\" stroke=\"#000000\" stroke-opacity=\"1\" stroke-width=\"3.2\"/>\n",
       "<circle clip-path=\"url(#clip772)\" cx=\"803.205\" cy=\"1104.21\" r=\"14\" fill=\"#009af9\" fill-rule=\"evenodd\" fill-opacity=\"1\" stroke=\"#000000\" stroke-opacity=\"1\" stroke-width=\"3.2\"/>\n",
       "<circle clip-path=\"url(#clip772)\" cx=\"805.238\" cy=\"1102.93\" r=\"14\" fill=\"#009af9\" fill-rule=\"evenodd\" fill-opacity=\"1\" stroke=\"#000000\" stroke-opacity=\"1\" stroke-width=\"3.2\"/>\n",
       "<circle clip-path=\"url(#clip772)\" cx=\"807.272\" cy=\"1101.64\" r=\"14\" fill=\"#009af9\" fill-rule=\"evenodd\" fill-opacity=\"1\" stroke=\"#000000\" stroke-opacity=\"1\" stroke-width=\"3.2\"/>\n",
       "<circle clip-path=\"url(#clip772)\" cx=\"809.306\" cy=\"1100.35\" r=\"14\" fill=\"#009af9\" fill-rule=\"evenodd\" fill-opacity=\"1\" stroke=\"#000000\" stroke-opacity=\"1\" stroke-width=\"3.2\"/>\n",
       "<circle clip-path=\"url(#clip772)\" cx=\"811.339\" cy=\"1099.07\" r=\"14\" fill=\"#009af9\" fill-rule=\"evenodd\" fill-opacity=\"1\" stroke=\"#000000\" stroke-opacity=\"1\" stroke-width=\"3.2\"/>\n",
       "<circle clip-path=\"url(#clip772)\" cx=\"813.373\" cy=\"1097.78\" r=\"14\" fill=\"#009af9\" fill-rule=\"evenodd\" fill-opacity=\"1\" stroke=\"#000000\" stroke-opacity=\"1\" stroke-width=\"3.2\"/>\n",
       "<circle clip-path=\"url(#clip772)\" cx=\"815.407\" cy=\"1096.49\" r=\"14\" fill=\"#009af9\" fill-rule=\"evenodd\" fill-opacity=\"1\" stroke=\"#000000\" stroke-opacity=\"1\" stroke-width=\"3.2\"/>\n",
       "<circle clip-path=\"url(#clip772)\" cx=\"817.44\" cy=\"1095.2\" r=\"14\" fill=\"#009af9\" fill-rule=\"evenodd\" fill-opacity=\"1\" stroke=\"#000000\" stroke-opacity=\"1\" stroke-width=\"3.2\"/>\n",
       "<circle clip-path=\"url(#clip772)\" cx=\"819.474\" cy=\"1093.92\" r=\"14\" fill=\"#009af9\" fill-rule=\"evenodd\" fill-opacity=\"1\" stroke=\"#000000\" stroke-opacity=\"1\" stroke-width=\"3.2\"/>\n",
       "<circle clip-path=\"url(#clip772)\" cx=\"821.507\" cy=\"1092.63\" r=\"14\" fill=\"#009af9\" fill-rule=\"evenodd\" fill-opacity=\"1\" stroke=\"#000000\" stroke-opacity=\"1\" stroke-width=\"3.2\"/>\n",
       "<circle clip-path=\"url(#clip772)\" cx=\"823.541\" cy=\"1091.34\" r=\"14\" fill=\"#009af9\" fill-rule=\"evenodd\" fill-opacity=\"1\" stroke=\"#000000\" stroke-opacity=\"1\" stroke-width=\"3.2\"/>\n",
       "<circle clip-path=\"url(#clip772)\" cx=\"825.575\" cy=\"1090.06\" r=\"14\" fill=\"#009af9\" fill-rule=\"evenodd\" fill-opacity=\"1\" stroke=\"#000000\" stroke-opacity=\"1\" stroke-width=\"3.2\"/>\n",
       "<circle clip-path=\"url(#clip772)\" cx=\"827.608\" cy=\"1088.77\" r=\"14\" fill=\"#009af9\" fill-rule=\"evenodd\" fill-opacity=\"1\" stroke=\"#000000\" stroke-opacity=\"1\" stroke-width=\"3.2\"/>\n",
       "<circle clip-path=\"url(#clip772)\" cx=\"829.642\" cy=\"1087.48\" r=\"14\" fill=\"#009af9\" fill-rule=\"evenodd\" fill-opacity=\"1\" stroke=\"#000000\" stroke-opacity=\"1\" stroke-width=\"3.2\"/>\n",
       "<circle clip-path=\"url(#clip772)\" cx=\"831.675\" cy=\"1086.19\" r=\"14\" fill=\"#009af9\" fill-rule=\"evenodd\" fill-opacity=\"1\" stroke=\"#000000\" stroke-opacity=\"1\" stroke-width=\"3.2\"/>\n",
       "<circle clip-path=\"url(#clip772)\" cx=\"833.709\" cy=\"1084.91\" r=\"14\" fill=\"#009af9\" fill-rule=\"evenodd\" fill-opacity=\"1\" stroke=\"#000000\" stroke-opacity=\"1\" stroke-width=\"3.2\"/>\n",
       "<circle clip-path=\"url(#clip772)\" cx=\"835.743\" cy=\"1083.62\" r=\"14\" fill=\"#009af9\" fill-rule=\"evenodd\" fill-opacity=\"1\" stroke=\"#000000\" stroke-opacity=\"1\" stroke-width=\"3.2\"/>\n",
       "<circle clip-path=\"url(#clip772)\" cx=\"837.776\" cy=\"1082.33\" r=\"14\" fill=\"#009af9\" fill-rule=\"evenodd\" fill-opacity=\"1\" stroke=\"#000000\" stroke-opacity=\"1\" stroke-width=\"3.2\"/>\n",
       "<circle clip-path=\"url(#clip772)\" cx=\"839.81\" cy=\"1081.05\" r=\"14\" fill=\"#009af9\" fill-rule=\"evenodd\" fill-opacity=\"1\" stroke=\"#000000\" stroke-opacity=\"1\" stroke-width=\"3.2\"/>\n",
       "<circle clip-path=\"url(#clip772)\" cx=\"841.843\" cy=\"1079.76\" r=\"14\" fill=\"#009af9\" fill-rule=\"evenodd\" fill-opacity=\"1\" stroke=\"#000000\" stroke-opacity=\"1\" stroke-width=\"3.2\"/>\n",
       "<circle clip-path=\"url(#clip772)\" cx=\"843.877\" cy=\"1078.47\" r=\"14\" fill=\"#009af9\" fill-rule=\"evenodd\" fill-opacity=\"1\" stroke=\"#000000\" stroke-opacity=\"1\" stroke-width=\"3.2\"/>\n",
       "<circle clip-path=\"url(#clip772)\" cx=\"845.911\" cy=\"1077.18\" r=\"14\" fill=\"#009af9\" fill-rule=\"evenodd\" fill-opacity=\"1\" stroke=\"#000000\" stroke-opacity=\"1\" stroke-width=\"3.2\"/>\n",
       "<circle clip-path=\"url(#clip772)\" cx=\"847.944\" cy=\"1075.9\" r=\"14\" fill=\"#009af9\" fill-rule=\"evenodd\" fill-opacity=\"1\" stroke=\"#000000\" stroke-opacity=\"1\" stroke-width=\"3.2\"/>\n",
       "<circle clip-path=\"url(#clip772)\" cx=\"849.978\" cy=\"1074.61\" r=\"14\" fill=\"#009af9\" fill-rule=\"evenodd\" fill-opacity=\"1\" stroke=\"#000000\" stroke-opacity=\"1\" stroke-width=\"3.2\"/>\n",
       "<circle clip-path=\"url(#clip772)\" cx=\"852.012\" cy=\"1073.32\" r=\"14\" fill=\"#009af9\" fill-rule=\"evenodd\" fill-opacity=\"1\" stroke=\"#000000\" stroke-opacity=\"1\" stroke-width=\"3.2\"/>\n",
       "<circle clip-path=\"url(#clip772)\" cx=\"854.045\" cy=\"1072.04\" r=\"14\" fill=\"#009af9\" fill-rule=\"evenodd\" fill-opacity=\"1\" stroke=\"#000000\" stroke-opacity=\"1\" stroke-width=\"3.2\"/>\n",
       "<circle clip-path=\"url(#clip772)\" cx=\"856.079\" cy=\"1070.75\" r=\"14\" fill=\"#009af9\" fill-rule=\"evenodd\" fill-opacity=\"1\" stroke=\"#000000\" stroke-opacity=\"1\" stroke-width=\"3.2\"/>\n",
       "<circle clip-path=\"url(#clip772)\" cx=\"858.112\" cy=\"1069.46\" r=\"14\" fill=\"#009af9\" fill-rule=\"evenodd\" fill-opacity=\"1\" stroke=\"#000000\" stroke-opacity=\"1\" stroke-width=\"3.2\"/>\n",
       "<circle clip-path=\"url(#clip772)\" cx=\"860.146\" cy=\"1068.17\" r=\"14\" fill=\"#009af9\" fill-rule=\"evenodd\" fill-opacity=\"1\" stroke=\"#000000\" stroke-opacity=\"1\" stroke-width=\"3.2\"/>\n",
       "<circle clip-path=\"url(#clip772)\" cx=\"862.18\" cy=\"1066.89\" r=\"14\" fill=\"#009af9\" fill-rule=\"evenodd\" fill-opacity=\"1\" stroke=\"#000000\" stroke-opacity=\"1\" stroke-width=\"3.2\"/>\n",
       "<circle clip-path=\"url(#clip772)\" cx=\"864.213\" cy=\"1065.6\" r=\"14\" fill=\"#009af9\" fill-rule=\"evenodd\" fill-opacity=\"1\" stroke=\"#000000\" stroke-opacity=\"1\" stroke-width=\"3.2\"/>\n",
       "<circle clip-path=\"url(#clip772)\" cx=\"866.247\" cy=\"1064.31\" r=\"14\" fill=\"#009af9\" fill-rule=\"evenodd\" fill-opacity=\"1\" stroke=\"#000000\" stroke-opacity=\"1\" stroke-width=\"3.2\"/>\n",
       "<circle clip-path=\"url(#clip772)\" cx=\"868.28\" cy=\"1063.03\" r=\"14\" fill=\"#009af9\" fill-rule=\"evenodd\" fill-opacity=\"1\" stroke=\"#000000\" stroke-opacity=\"1\" stroke-width=\"3.2\"/>\n",
       "<circle clip-path=\"url(#clip772)\" cx=\"870.314\" cy=\"1061.74\" r=\"14\" fill=\"#009af9\" fill-rule=\"evenodd\" fill-opacity=\"1\" stroke=\"#000000\" stroke-opacity=\"1\" stroke-width=\"3.2\"/>\n",
       "<circle clip-path=\"url(#clip772)\" cx=\"872.348\" cy=\"1060.45\" r=\"14\" fill=\"#009af9\" fill-rule=\"evenodd\" fill-opacity=\"1\" stroke=\"#000000\" stroke-opacity=\"1\" stroke-width=\"3.2\"/>\n",
       "<circle clip-path=\"url(#clip772)\" cx=\"874.381\" cy=\"1059.16\" r=\"14\" fill=\"#009af9\" fill-rule=\"evenodd\" fill-opacity=\"1\" stroke=\"#000000\" stroke-opacity=\"1\" stroke-width=\"3.2\"/>\n",
       "<circle clip-path=\"url(#clip772)\" cx=\"876.415\" cy=\"1057.88\" r=\"14\" fill=\"#009af9\" fill-rule=\"evenodd\" fill-opacity=\"1\" stroke=\"#000000\" stroke-opacity=\"1\" stroke-width=\"3.2\"/>\n",
       "<circle clip-path=\"url(#clip772)\" cx=\"878.448\" cy=\"1056.59\" r=\"14\" fill=\"#009af9\" fill-rule=\"evenodd\" fill-opacity=\"1\" stroke=\"#000000\" stroke-opacity=\"1\" stroke-width=\"3.2\"/>\n",
       "<circle clip-path=\"url(#clip772)\" cx=\"880.482\" cy=\"1055.3\" r=\"14\" fill=\"#009af9\" fill-rule=\"evenodd\" fill-opacity=\"1\" stroke=\"#000000\" stroke-opacity=\"1\" stroke-width=\"3.2\"/>\n",
       "<circle clip-path=\"url(#clip772)\" cx=\"882.516\" cy=\"1054.02\" r=\"14\" fill=\"#009af9\" fill-rule=\"evenodd\" fill-opacity=\"1\" stroke=\"#000000\" stroke-opacity=\"1\" stroke-width=\"3.2\"/>\n",
       "<circle clip-path=\"url(#clip772)\" cx=\"884.549\" cy=\"1052.73\" r=\"14\" fill=\"#009af9\" fill-rule=\"evenodd\" fill-opacity=\"1\" stroke=\"#000000\" stroke-opacity=\"1\" stroke-width=\"3.2\"/>\n",
       "<circle clip-path=\"url(#clip772)\" cx=\"886.583\" cy=\"1051.44\" r=\"14\" fill=\"#009af9\" fill-rule=\"evenodd\" fill-opacity=\"1\" stroke=\"#000000\" stroke-opacity=\"1\" stroke-width=\"3.2\"/>\n",
       "<circle clip-path=\"url(#clip772)\" cx=\"888.617\" cy=\"1050.16\" r=\"14\" fill=\"#009af9\" fill-rule=\"evenodd\" fill-opacity=\"1\" stroke=\"#000000\" stroke-opacity=\"1\" stroke-width=\"3.2\"/>\n",
       "<circle clip-path=\"url(#clip772)\" cx=\"890.65\" cy=\"1048.87\" r=\"14\" fill=\"#009af9\" fill-rule=\"evenodd\" fill-opacity=\"1\" stroke=\"#000000\" stroke-opacity=\"1\" stroke-width=\"3.2\"/>\n",
       "<circle clip-path=\"url(#clip772)\" cx=\"892.684\" cy=\"1047.58\" r=\"14\" fill=\"#009af9\" fill-rule=\"evenodd\" fill-opacity=\"1\" stroke=\"#000000\" stroke-opacity=\"1\" stroke-width=\"3.2\"/>\n",
       "<circle clip-path=\"url(#clip772)\" cx=\"894.717\" cy=\"1046.29\" r=\"14\" fill=\"#009af9\" fill-rule=\"evenodd\" fill-opacity=\"1\" stroke=\"#000000\" stroke-opacity=\"1\" stroke-width=\"3.2\"/>\n",
       "<circle clip-path=\"url(#clip772)\" cx=\"896.751\" cy=\"1045.01\" r=\"14\" fill=\"#009af9\" fill-rule=\"evenodd\" fill-opacity=\"1\" stroke=\"#000000\" stroke-opacity=\"1\" stroke-width=\"3.2\"/>\n",
       "<circle clip-path=\"url(#clip772)\" cx=\"898.785\" cy=\"1043.72\" r=\"14\" fill=\"#009af9\" fill-rule=\"evenodd\" fill-opacity=\"1\" stroke=\"#000000\" stroke-opacity=\"1\" stroke-width=\"3.2\"/>\n",
       "<circle clip-path=\"url(#clip772)\" cx=\"900.818\" cy=\"1042.43\" r=\"14\" fill=\"#009af9\" fill-rule=\"evenodd\" fill-opacity=\"1\" stroke=\"#000000\" stroke-opacity=\"1\" stroke-width=\"3.2\"/>\n",
       "<circle clip-path=\"url(#clip772)\" cx=\"902.852\" cy=\"1041.15\" r=\"14\" fill=\"#009af9\" fill-rule=\"evenodd\" fill-opacity=\"1\" stroke=\"#000000\" stroke-opacity=\"1\" stroke-width=\"3.2\"/>\n",
       "<circle clip-path=\"url(#clip772)\" cx=\"904.885\" cy=\"1039.86\" r=\"14\" fill=\"#009af9\" fill-rule=\"evenodd\" fill-opacity=\"1\" stroke=\"#000000\" stroke-opacity=\"1\" stroke-width=\"3.2\"/>\n",
       "<circle clip-path=\"url(#clip772)\" cx=\"906.919\" cy=\"1038.57\" r=\"14\" fill=\"#009af9\" fill-rule=\"evenodd\" fill-opacity=\"1\" stroke=\"#000000\" stroke-opacity=\"1\" stroke-width=\"3.2\"/>\n",
       "<circle clip-path=\"url(#clip772)\" cx=\"908.953\" cy=\"1037.28\" r=\"14\" fill=\"#009af9\" fill-rule=\"evenodd\" fill-opacity=\"1\" stroke=\"#000000\" stroke-opacity=\"1\" stroke-width=\"3.2\"/>\n",
       "<circle clip-path=\"url(#clip772)\" cx=\"910.986\" cy=\"1036\" r=\"14\" fill=\"#009af9\" fill-rule=\"evenodd\" fill-opacity=\"1\" stroke=\"#000000\" stroke-opacity=\"1\" stroke-width=\"3.2\"/>\n",
       "<circle clip-path=\"url(#clip772)\" cx=\"913.02\" cy=\"1034.71\" r=\"14\" fill=\"#009af9\" fill-rule=\"evenodd\" fill-opacity=\"1\" stroke=\"#000000\" stroke-opacity=\"1\" stroke-width=\"3.2\"/>\n",
       "<circle clip-path=\"url(#clip772)\" cx=\"915.053\" cy=\"1033.42\" r=\"14\" fill=\"#009af9\" fill-rule=\"evenodd\" fill-opacity=\"1\" stroke=\"#000000\" stroke-opacity=\"1\" stroke-width=\"3.2\"/>\n",
       "<circle clip-path=\"url(#clip772)\" cx=\"917.087\" cy=\"1032.14\" r=\"14\" fill=\"#009af9\" fill-rule=\"evenodd\" fill-opacity=\"1\" stroke=\"#000000\" stroke-opacity=\"1\" stroke-width=\"3.2\"/>\n",
       "<circle clip-path=\"url(#clip772)\" cx=\"919.121\" cy=\"1030.85\" r=\"14\" fill=\"#009af9\" fill-rule=\"evenodd\" fill-opacity=\"1\" stroke=\"#000000\" stroke-opacity=\"1\" stroke-width=\"3.2\"/>\n",
       "<circle clip-path=\"url(#clip772)\" cx=\"921.154\" cy=\"1029.56\" r=\"14\" fill=\"#009af9\" fill-rule=\"evenodd\" fill-opacity=\"1\" stroke=\"#000000\" stroke-opacity=\"1\" stroke-width=\"3.2\"/>\n",
       "<circle clip-path=\"url(#clip772)\" cx=\"923.188\" cy=\"1028.27\" r=\"14\" fill=\"#009af9\" fill-rule=\"evenodd\" fill-opacity=\"1\" stroke=\"#000000\" stroke-opacity=\"1\" stroke-width=\"3.2\"/>\n",
       "<circle clip-path=\"url(#clip772)\" cx=\"925.222\" cy=\"1026.99\" r=\"14\" fill=\"#009af9\" fill-rule=\"evenodd\" fill-opacity=\"1\" stroke=\"#000000\" stroke-opacity=\"1\" stroke-width=\"3.2\"/>\n",
       "<circle clip-path=\"url(#clip772)\" cx=\"927.255\" cy=\"1025.7\" r=\"14\" fill=\"#009af9\" fill-rule=\"evenodd\" fill-opacity=\"1\" stroke=\"#000000\" stroke-opacity=\"1\" stroke-width=\"3.2\"/>\n",
       "<circle clip-path=\"url(#clip772)\" cx=\"929.289\" cy=\"1024.41\" r=\"14\" fill=\"#009af9\" fill-rule=\"evenodd\" fill-opacity=\"1\" stroke=\"#000000\" stroke-opacity=\"1\" stroke-width=\"3.2\"/>\n",
       "<circle clip-path=\"url(#clip772)\" cx=\"931.322\" cy=\"1023.13\" r=\"14\" fill=\"#009af9\" fill-rule=\"evenodd\" fill-opacity=\"1\" stroke=\"#000000\" stroke-opacity=\"1\" stroke-width=\"3.2\"/>\n",
       "<circle clip-path=\"url(#clip772)\" cx=\"933.356\" cy=\"1021.84\" r=\"14\" fill=\"#009af9\" fill-rule=\"evenodd\" fill-opacity=\"1\" stroke=\"#000000\" stroke-opacity=\"1\" stroke-width=\"3.2\"/>\n",
       "<circle clip-path=\"url(#clip772)\" cx=\"935.39\" cy=\"1020.55\" r=\"14\" fill=\"#009af9\" fill-rule=\"evenodd\" fill-opacity=\"1\" stroke=\"#000000\" stroke-opacity=\"1\" stroke-width=\"3.2\"/>\n",
       "<circle clip-path=\"url(#clip772)\" cx=\"937.423\" cy=\"1019.26\" r=\"14\" fill=\"#009af9\" fill-rule=\"evenodd\" fill-opacity=\"1\" stroke=\"#000000\" stroke-opacity=\"1\" stroke-width=\"3.2\"/>\n",
       "<circle clip-path=\"url(#clip772)\" cx=\"939.457\" cy=\"1017.98\" r=\"14\" fill=\"#009af9\" fill-rule=\"evenodd\" fill-opacity=\"1\" stroke=\"#000000\" stroke-opacity=\"1\" stroke-width=\"3.2\"/>\n",
       "<circle clip-path=\"url(#clip772)\" cx=\"941.49\" cy=\"1016.69\" r=\"14\" fill=\"#009af9\" fill-rule=\"evenodd\" fill-opacity=\"1\" stroke=\"#000000\" stroke-opacity=\"1\" stroke-width=\"3.2\"/>\n",
       "<circle clip-path=\"url(#clip772)\" cx=\"943.524\" cy=\"1015.4\" r=\"14\" fill=\"#009af9\" fill-rule=\"evenodd\" fill-opacity=\"1\" stroke=\"#000000\" stroke-opacity=\"1\" stroke-width=\"3.2\"/>\n",
       "<circle clip-path=\"url(#clip772)\" cx=\"945.558\" cy=\"1014.12\" r=\"14\" fill=\"#009af9\" fill-rule=\"evenodd\" fill-opacity=\"1\" stroke=\"#000000\" stroke-opacity=\"1\" stroke-width=\"3.2\"/>\n",
       "<circle clip-path=\"url(#clip772)\" cx=\"947.591\" cy=\"1012.83\" r=\"14\" fill=\"#009af9\" fill-rule=\"evenodd\" fill-opacity=\"1\" stroke=\"#000000\" stroke-opacity=\"1\" stroke-width=\"3.2\"/>\n",
       "<circle clip-path=\"url(#clip772)\" cx=\"949.625\" cy=\"1011.54\" r=\"14\" fill=\"#009af9\" fill-rule=\"evenodd\" fill-opacity=\"1\" stroke=\"#000000\" stroke-opacity=\"1\" stroke-width=\"3.2\"/>\n",
       "<circle clip-path=\"url(#clip772)\" cx=\"951.658\" cy=\"1010.25\" r=\"14\" fill=\"#009af9\" fill-rule=\"evenodd\" fill-opacity=\"1\" stroke=\"#000000\" stroke-opacity=\"1\" stroke-width=\"3.2\"/>\n",
       "<circle clip-path=\"url(#clip772)\" cx=\"953.692\" cy=\"1008.97\" r=\"14\" fill=\"#009af9\" fill-rule=\"evenodd\" fill-opacity=\"1\" stroke=\"#000000\" stroke-opacity=\"1\" stroke-width=\"3.2\"/>\n",
       "<circle clip-path=\"url(#clip772)\" cx=\"955.726\" cy=\"1007.68\" r=\"14\" fill=\"#009af9\" fill-rule=\"evenodd\" fill-opacity=\"1\" stroke=\"#000000\" stroke-opacity=\"1\" stroke-width=\"3.2\"/>\n",
       "<circle clip-path=\"url(#clip772)\" cx=\"957.759\" cy=\"1006.39\" r=\"14\" fill=\"#009af9\" fill-rule=\"evenodd\" fill-opacity=\"1\" stroke=\"#000000\" stroke-opacity=\"1\" stroke-width=\"3.2\"/>\n",
       "<circle clip-path=\"url(#clip772)\" cx=\"959.793\" cy=\"1005.11\" r=\"14\" fill=\"#009af9\" fill-rule=\"evenodd\" fill-opacity=\"1\" stroke=\"#000000\" stroke-opacity=\"1\" stroke-width=\"3.2\"/>\n",
       "<circle clip-path=\"url(#clip772)\" cx=\"961.827\" cy=\"1003.82\" r=\"14\" fill=\"#009af9\" fill-rule=\"evenodd\" fill-opacity=\"1\" stroke=\"#000000\" stroke-opacity=\"1\" stroke-width=\"3.2\"/>\n",
       "<circle clip-path=\"url(#clip772)\" cx=\"963.86\" cy=\"1002.53\" r=\"14\" fill=\"#009af9\" fill-rule=\"evenodd\" fill-opacity=\"1\" stroke=\"#000000\" stroke-opacity=\"1\" stroke-width=\"3.2\"/>\n",
       "<circle clip-path=\"url(#clip772)\" cx=\"965.894\" cy=\"1001.24\" r=\"14\" fill=\"#009af9\" fill-rule=\"evenodd\" fill-opacity=\"1\" stroke=\"#000000\" stroke-opacity=\"1\" stroke-width=\"3.2\"/>\n",
       "<circle clip-path=\"url(#clip772)\" cx=\"967.927\" cy=\"999.958\" r=\"14\" fill=\"#009af9\" fill-rule=\"evenodd\" fill-opacity=\"1\" stroke=\"#000000\" stroke-opacity=\"1\" stroke-width=\"3.2\"/>\n",
       "<circle clip-path=\"url(#clip772)\" cx=\"969.961\" cy=\"998.671\" r=\"14\" fill=\"#009af9\" fill-rule=\"evenodd\" fill-opacity=\"1\" stroke=\"#000000\" stroke-opacity=\"1\" stroke-width=\"3.2\"/>\n",
       "<circle clip-path=\"url(#clip772)\" cx=\"971.995\" cy=\"997.383\" r=\"14\" fill=\"#009af9\" fill-rule=\"evenodd\" fill-opacity=\"1\" stroke=\"#000000\" stroke-opacity=\"1\" stroke-width=\"3.2\"/>\n",
       "<circle clip-path=\"url(#clip772)\" cx=\"974.028\" cy=\"996.096\" r=\"14\" fill=\"#009af9\" fill-rule=\"evenodd\" fill-opacity=\"1\" stroke=\"#000000\" stroke-opacity=\"1\" stroke-width=\"3.2\"/>\n",
       "<circle clip-path=\"url(#clip772)\" cx=\"976.062\" cy=\"994.809\" r=\"14\" fill=\"#009af9\" fill-rule=\"evenodd\" fill-opacity=\"1\" stroke=\"#000000\" stroke-opacity=\"1\" stroke-width=\"3.2\"/>\n",
       "<circle clip-path=\"url(#clip772)\" cx=\"978.095\" cy=\"993.522\" r=\"14\" fill=\"#009af9\" fill-rule=\"evenodd\" fill-opacity=\"1\" stroke=\"#000000\" stroke-opacity=\"1\" stroke-width=\"3.2\"/>\n",
       "<circle clip-path=\"url(#clip772)\" cx=\"980.129\" cy=\"992.235\" r=\"14\" fill=\"#009af9\" fill-rule=\"evenodd\" fill-opacity=\"1\" stroke=\"#000000\" stroke-opacity=\"1\" stroke-width=\"3.2\"/>\n",
       "<circle clip-path=\"url(#clip772)\" cx=\"982.163\" cy=\"990.948\" r=\"14\" fill=\"#009af9\" fill-rule=\"evenodd\" fill-opacity=\"1\" stroke=\"#000000\" stroke-opacity=\"1\" stroke-width=\"3.2\"/>\n",
       "<circle clip-path=\"url(#clip772)\" cx=\"984.196\" cy=\"989.661\" r=\"14\" fill=\"#009af9\" fill-rule=\"evenodd\" fill-opacity=\"1\" stroke=\"#000000\" stroke-opacity=\"1\" stroke-width=\"3.2\"/>\n",
       "<circle clip-path=\"url(#clip772)\" cx=\"986.23\" cy=\"988.374\" r=\"14\" fill=\"#009af9\" fill-rule=\"evenodd\" fill-opacity=\"1\" stroke=\"#000000\" stroke-opacity=\"1\" stroke-width=\"3.2\"/>\n",
       "<circle clip-path=\"url(#clip772)\" cx=\"988.264\" cy=\"987.087\" r=\"14\" fill=\"#009af9\" fill-rule=\"evenodd\" fill-opacity=\"1\" stroke=\"#000000\" stroke-opacity=\"1\" stroke-width=\"3.2\"/>\n",
       "<circle clip-path=\"url(#clip772)\" cx=\"990.297\" cy=\"985.799\" r=\"14\" fill=\"#009af9\" fill-rule=\"evenodd\" fill-opacity=\"1\" stroke=\"#000000\" stroke-opacity=\"1\" stroke-width=\"3.2\"/>\n",
       "<circle clip-path=\"url(#clip772)\" cx=\"992.331\" cy=\"984.512\" r=\"14\" fill=\"#009af9\" fill-rule=\"evenodd\" fill-opacity=\"1\" stroke=\"#000000\" stroke-opacity=\"1\" stroke-width=\"3.2\"/>\n",
       "<circle clip-path=\"url(#clip772)\" cx=\"994.364\" cy=\"983.225\" r=\"14\" fill=\"#009af9\" fill-rule=\"evenodd\" fill-opacity=\"1\" stroke=\"#000000\" stroke-opacity=\"1\" stroke-width=\"3.2\"/>\n",
       "<circle clip-path=\"url(#clip772)\" cx=\"996.398\" cy=\"981.938\" r=\"14\" fill=\"#009af9\" fill-rule=\"evenodd\" fill-opacity=\"1\" stroke=\"#000000\" stroke-opacity=\"1\" stroke-width=\"3.2\"/>\n",
       "<circle clip-path=\"url(#clip772)\" cx=\"998.432\" cy=\"980.651\" r=\"14\" fill=\"#009af9\" fill-rule=\"evenodd\" fill-opacity=\"1\" stroke=\"#000000\" stroke-opacity=\"1\" stroke-width=\"3.2\"/>\n",
       "<circle clip-path=\"url(#clip772)\" cx=\"1000.47\" cy=\"979.364\" r=\"14\" fill=\"#009af9\" fill-rule=\"evenodd\" fill-opacity=\"1\" stroke=\"#000000\" stroke-opacity=\"1\" stroke-width=\"3.2\"/>\n",
       "<circle clip-path=\"url(#clip772)\" cx=\"1002.5\" cy=\"978.077\" r=\"14\" fill=\"#009af9\" fill-rule=\"evenodd\" fill-opacity=\"1\" stroke=\"#000000\" stroke-opacity=\"1\" stroke-width=\"3.2\"/>\n",
       "<circle clip-path=\"url(#clip772)\" cx=\"1004.53\" cy=\"976.79\" r=\"14\" fill=\"#009af9\" fill-rule=\"evenodd\" fill-opacity=\"1\" stroke=\"#000000\" stroke-opacity=\"1\" stroke-width=\"3.2\"/>\n",
       "<circle clip-path=\"url(#clip772)\" cx=\"1006.57\" cy=\"975.503\" r=\"14\" fill=\"#009af9\" fill-rule=\"evenodd\" fill-opacity=\"1\" stroke=\"#000000\" stroke-opacity=\"1\" stroke-width=\"3.2\"/>\n",
       "<circle clip-path=\"url(#clip772)\" cx=\"1008.6\" cy=\"974.215\" r=\"14\" fill=\"#009af9\" fill-rule=\"evenodd\" fill-opacity=\"1\" stroke=\"#000000\" stroke-opacity=\"1\" stroke-width=\"3.2\"/>\n",
       "<circle clip-path=\"url(#clip772)\" cx=\"1010.63\" cy=\"972.928\" r=\"14\" fill=\"#009af9\" fill-rule=\"evenodd\" fill-opacity=\"1\" stroke=\"#000000\" stroke-opacity=\"1\" stroke-width=\"3.2\"/>\n",
       "<circle clip-path=\"url(#clip772)\" cx=\"1012.67\" cy=\"971.641\" r=\"14\" fill=\"#009af9\" fill-rule=\"evenodd\" fill-opacity=\"1\" stroke=\"#000000\" stroke-opacity=\"1\" stroke-width=\"3.2\"/>\n",
       "<circle clip-path=\"url(#clip772)\" cx=\"1014.7\" cy=\"970.354\" r=\"14\" fill=\"#009af9\" fill-rule=\"evenodd\" fill-opacity=\"1\" stroke=\"#000000\" stroke-opacity=\"1\" stroke-width=\"3.2\"/>\n",
       "<circle clip-path=\"url(#clip772)\" cx=\"1016.73\" cy=\"969.067\" r=\"14\" fill=\"#009af9\" fill-rule=\"evenodd\" fill-opacity=\"1\" stroke=\"#000000\" stroke-opacity=\"1\" stroke-width=\"3.2\"/>\n",
       "<circle clip-path=\"url(#clip772)\" cx=\"1018.77\" cy=\"967.78\" r=\"14\" fill=\"#009af9\" fill-rule=\"evenodd\" fill-opacity=\"1\" stroke=\"#000000\" stroke-opacity=\"1\" stroke-width=\"3.2\"/>\n",
       "<circle clip-path=\"url(#clip772)\" cx=\"1020.8\" cy=\"966.493\" r=\"14\" fill=\"#009af9\" fill-rule=\"evenodd\" fill-opacity=\"1\" stroke=\"#000000\" stroke-opacity=\"1\" stroke-width=\"3.2\"/>\n",
       "<circle clip-path=\"url(#clip772)\" cx=\"1022.83\" cy=\"965.206\" r=\"14\" fill=\"#009af9\" fill-rule=\"evenodd\" fill-opacity=\"1\" stroke=\"#000000\" stroke-opacity=\"1\" stroke-width=\"3.2\"/>\n",
       "<circle clip-path=\"url(#clip772)\" cx=\"1024.87\" cy=\"963.918\" r=\"14\" fill=\"#009af9\" fill-rule=\"evenodd\" fill-opacity=\"1\" stroke=\"#000000\" stroke-opacity=\"1\" stroke-width=\"3.2\"/>\n",
       "<circle clip-path=\"url(#clip772)\" cx=\"1026.9\" cy=\"962.631\" r=\"14\" fill=\"#009af9\" fill-rule=\"evenodd\" fill-opacity=\"1\" stroke=\"#000000\" stroke-opacity=\"1\" stroke-width=\"3.2\"/>\n",
       "<circle clip-path=\"url(#clip772)\" cx=\"1028.94\" cy=\"961.344\" r=\"14\" fill=\"#009af9\" fill-rule=\"evenodd\" fill-opacity=\"1\" stroke=\"#000000\" stroke-opacity=\"1\" stroke-width=\"3.2\"/>\n",
       "<circle clip-path=\"url(#clip772)\" cx=\"1030.97\" cy=\"960.057\" r=\"14\" fill=\"#009af9\" fill-rule=\"evenodd\" fill-opacity=\"1\" stroke=\"#000000\" stroke-opacity=\"1\" stroke-width=\"3.2\"/>\n",
       "<circle clip-path=\"url(#clip772)\" cx=\"1033\" cy=\"958.77\" r=\"14\" fill=\"#009af9\" fill-rule=\"evenodd\" fill-opacity=\"1\" stroke=\"#000000\" stroke-opacity=\"1\" stroke-width=\"3.2\"/>\n",
       "<circle clip-path=\"url(#clip772)\" cx=\"1035.04\" cy=\"957.483\" r=\"14\" fill=\"#009af9\" fill-rule=\"evenodd\" fill-opacity=\"1\" stroke=\"#000000\" stroke-opacity=\"1\" stroke-width=\"3.2\"/>\n",
       "<circle clip-path=\"url(#clip772)\" cx=\"1037.07\" cy=\"956.196\" r=\"14\" fill=\"#009af9\" fill-rule=\"evenodd\" fill-opacity=\"1\" stroke=\"#000000\" stroke-opacity=\"1\" stroke-width=\"3.2\"/>\n",
       "<circle clip-path=\"url(#clip772)\" cx=\"1039.1\" cy=\"954.909\" r=\"14\" fill=\"#009af9\" fill-rule=\"evenodd\" fill-opacity=\"1\" stroke=\"#000000\" stroke-opacity=\"1\" stroke-width=\"3.2\"/>\n",
       "<circle clip-path=\"url(#clip772)\" cx=\"1041.14\" cy=\"953.622\" r=\"14\" fill=\"#009af9\" fill-rule=\"evenodd\" fill-opacity=\"1\" stroke=\"#000000\" stroke-opacity=\"1\" stroke-width=\"3.2\"/>\n",
       "<circle clip-path=\"url(#clip772)\" cx=\"1043.17\" cy=\"952.334\" r=\"14\" fill=\"#009af9\" fill-rule=\"evenodd\" fill-opacity=\"1\" stroke=\"#000000\" stroke-opacity=\"1\" stroke-width=\"3.2\"/>\n",
       "<circle clip-path=\"url(#clip772)\" cx=\"1045.2\" cy=\"951.047\" r=\"14\" fill=\"#009af9\" fill-rule=\"evenodd\" fill-opacity=\"1\" stroke=\"#000000\" stroke-opacity=\"1\" stroke-width=\"3.2\"/>\n",
       "<circle clip-path=\"url(#clip772)\" cx=\"1047.24\" cy=\"949.76\" r=\"14\" fill=\"#009af9\" fill-rule=\"evenodd\" fill-opacity=\"1\" stroke=\"#000000\" stroke-opacity=\"1\" stroke-width=\"3.2\"/>\n",
       "<circle clip-path=\"url(#clip772)\" cx=\"1049.27\" cy=\"948.473\" r=\"14\" fill=\"#009af9\" fill-rule=\"evenodd\" fill-opacity=\"1\" stroke=\"#000000\" stroke-opacity=\"1\" stroke-width=\"3.2\"/>\n",
       "<circle clip-path=\"url(#clip772)\" cx=\"1051.31\" cy=\"947.186\" r=\"14\" fill=\"#009af9\" fill-rule=\"evenodd\" fill-opacity=\"1\" stroke=\"#000000\" stroke-opacity=\"1\" stroke-width=\"3.2\"/>\n",
       "<circle clip-path=\"url(#clip772)\" cx=\"1053.34\" cy=\"945.899\" r=\"14\" fill=\"#009af9\" fill-rule=\"evenodd\" fill-opacity=\"1\" stroke=\"#000000\" stroke-opacity=\"1\" stroke-width=\"3.2\"/>\n",
       "<circle clip-path=\"url(#clip772)\" cx=\"1055.37\" cy=\"944.612\" r=\"14\" fill=\"#009af9\" fill-rule=\"evenodd\" fill-opacity=\"1\" stroke=\"#000000\" stroke-opacity=\"1\" stroke-width=\"3.2\"/>\n",
       "<circle clip-path=\"url(#clip772)\" cx=\"1057.41\" cy=\"943.325\" r=\"14\" fill=\"#009af9\" fill-rule=\"evenodd\" fill-opacity=\"1\" stroke=\"#000000\" stroke-opacity=\"1\" stroke-width=\"3.2\"/>\n",
       "<circle clip-path=\"url(#clip772)\" cx=\"1059.44\" cy=\"942.038\" r=\"14\" fill=\"#009af9\" fill-rule=\"evenodd\" fill-opacity=\"1\" stroke=\"#000000\" stroke-opacity=\"1\" stroke-width=\"3.2\"/>\n",
       "<circle clip-path=\"url(#clip772)\" cx=\"1061.47\" cy=\"940.75\" r=\"14\" fill=\"#009af9\" fill-rule=\"evenodd\" fill-opacity=\"1\" stroke=\"#000000\" stroke-opacity=\"1\" stroke-width=\"3.2\"/>\n",
       "<circle clip-path=\"url(#clip772)\" cx=\"1063.51\" cy=\"939.463\" r=\"14\" fill=\"#009af9\" fill-rule=\"evenodd\" fill-opacity=\"1\" stroke=\"#000000\" stroke-opacity=\"1\" stroke-width=\"3.2\"/>\n",
       "<circle clip-path=\"url(#clip772)\" cx=\"1065.54\" cy=\"938.176\" r=\"14\" fill=\"#009af9\" fill-rule=\"evenodd\" fill-opacity=\"1\" stroke=\"#000000\" stroke-opacity=\"1\" stroke-width=\"3.2\"/>\n",
       "<circle clip-path=\"url(#clip772)\" cx=\"1067.57\" cy=\"936.889\" r=\"14\" fill=\"#009af9\" fill-rule=\"evenodd\" fill-opacity=\"1\" stroke=\"#000000\" stroke-opacity=\"1\" stroke-width=\"3.2\"/>\n",
       "<circle clip-path=\"url(#clip772)\" cx=\"1069.61\" cy=\"935.602\" r=\"14\" fill=\"#009af9\" fill-rule=\"evenodd\" fill-opacity=\"1\" stroke=\"#000000\" stroke-opacity=\"1\" stroke-width=\"3.2\"/>\n",
       "<circle clip-path=\"url(#clip772)\" cx=\"1071.64\" cy=\"934.315\" r=\"14\" fill=\"#009af9\" fill-rule=\"evenodd\" fill-opacity=\"1\" stroke=\"#000000\" stroke-opacity=\"1\" stroke-width=\"3.2\"/>\n",
       "<circle clip-path=\"url(#clip772)\" cx=\"1073.68\" cy=\"933.028\" r=\"14\" fill=\"#009af9\" fill-rule=\"evenodd\" fill-opacity=\"1\" stroke=\"#000000\" stroke-opacity=\"1\" stroke-width=\"3.2\"/>\n",
       "<circle clip-path=\"url(#clip772)\" cx=\"1075.71\" cy=\"931.741\" r=\"14\" fill=\"#009af9\" fill-rule=\"evenodd\" fill-opacity=\"1\" stroke=\"#000000\" stroke-opacity=\"1\" stroke-width=\"3.2\"/>\n",
       "<circle clip-path=\"url(#clip772)\" cx=\"1077.74\" cy=\"930.454\" r=\"14\" fill=\"#009af9\" fill-rule=\"evenodd\" fill-opacity=\"1\" stroke=\"#000000\" stroke-opacity=\"1\" stroke-width=\"3.2\"/>\n",
       "<circle clip-path=\"url(#clip772)\" cx=\"1079.78\" cy=\"929.166\" r=\"14\" fill=\"#009af9\" fill-rule=\"evenodd\" fill-opacity=\"1\" stroke=\"#000000\" stroke-opacity=\"1\" stroke-width=\"3.2\"/>\n",
       "<circle clip-path=\"url(#clip772)\" cx=\"1081.81\" cy=\"927.879\" r=\"14\" fill=\"#009af9\" fill-rule=\"evenodd\" fill-opacity=\"1\" stroke=\"#000000\" stroke-opacity=\"1\" stroke-width=\"3.2\"/>\n",
       "<circle clip-path=\"url(#clip772)\" cx=\"1083.84\" cy=\"926.592\" r=\"14\" fill=\"#009af9\" fill-rule=\"evenodd\" fill-opacity=\"1\" stroke=\"#000000\" stroke-opacity=\"1\" stroke-width=\"3.2\"/>\n",
       "<circle clip-path=\"url(#clip772)\" cx=\"1085.88\" cy=\"925.305\" r=\"14\" fill=\"#009af9\" fill-rule=\"evenodd\" fill-opacity=\"1\" stroke=\"#000000\" stroke-opacity=\"1\" stroke-width=\"3.2\"/>\n",
       "<circle clip-path=\"url(#clip772)\" cx=\"1087.91\" cy=\"924.018\" r=\"14\" fill=\"#009af9\" fill-rule=\"evenodd\" fill-opacity=\"1\" stroke=\"#000000\" stroke-opacity=\"1\" stroke-width=\"3.2\"/>\n",
       "<circle clip-path=\"url(#clip772)\" cx=\"1089.94\" cy=\"922.731\" r=\"14\" fill=\"#009af9\" fill-rule=\"evenodd\" fill-opacity=\"1\" stroke=\"#000000\" stroke-opacity=\"1\" stroke-width=\"3.2\"/>\n",
       "<circle clip-path=\"url(#clip772)\" cx=\"1091.98\" cy=\"921.444\" r=\"14\" fill=\"#009af9\" fill-rule=\"evenodd\" fill-opacity=\"1\" stroke=\"#000000\" stroke-opacity=\"1\" stroke-width=\"3.2\"/>\n",
       "<circle clip-path=\"url(#clip772)\" cx=\"1094.01\" cy=\"920.157\" r=\"14\" fill=\"#009af9\" fill-rule=\"evenodd\" fill-opacity=\"1\" stroke=\"#000000\" stroke-opacity=\"1\" stroke-width=\"3.2\"/>\n",
       "<circle clip-path=\"url(#clip772)\" cx=\"1096.04\" cy=\"918.87\" r=\"14\" fill=\"#009af9\" fill-rule=\"evenodd\" fill-opacity=\"1\" stroke=\"#000000\" stroke-opacity=\"1\" stroke-width=\"3.2\"/>\n",
       "<circle clip-path=\"url(#clip772)\" cx=\"1098.08\" cy=\"917.582\" r=\"14\" fill=\"#009af9\" fill-rule=\"evenodd\" fill-opacity=\"1\" stroke=\"#000000\" stroke-opacity=\"1\" stroke-width=\"3.2\"/>\n",
       "<circle clip-path=\"url(#clip772)\" cx=\"1100.11\" cy=\"916.295\" r=\"14\" fill=\"#009af9\" fill-rule=\"evenodd\" fill-opacity=\"1\" stroke=\"#000000\" stroke-opacity=\"1\" stroke-width=\"3.2\"/>\n",
       "<circle clip-path=\"url(#clip772)\" cx=\"1102.15\" cy=\"915.008\" r=\"14\" fill=\"#009af9\" fill-rule=\"evenodd\" fill-opacity=\"1\" stroke=\"#000000\" stroke-opacity=\"1\" stroke-width=\"3.2\"/>\n",
       "<circle clip-path=\"url(#clip772)\" cx=\"1104.18\" cy=\"913.721\" r=\"14\" fill=\"#009af9\" fill-rule=\"evenodd\" fill-opacity=\"1\" stroke=\"#000000\" stroke-opacity=\"1\" stroke-width=\"3.2\"/>\n",
       "<circle clip-path=\"url(#clip772)\" cx=\"1106.21\" cy=\"912.434\" r=\"14\" fill=\"#009af9\" fill-rule=\"evenodd\" fill-opacity=\"1\" stroke=\"#000000\" stroke-opacity=\"1\" stroke-width=\"3.2\"/>\n",
       "<circle clip-path=\"url(#clip772)\" cx=\"1108.25\" cy=\"911.147\" r=\"14\" fill=\"#009af9\" fill-rule=\"evenodd\" fill-opacity=\"1\" stroke=\"#000000\" stroke-opacity=\"1\" stroke-width=\"3.2\"/>\n",
       "<circle clip-path=\"url(#clip772)\" cx=\"1110.28\" cy=\"909.86\" r=\"14\" fill=\"#009af9\" fill-rule=\"evenodd\" fill-opacity=\"1\" stroke=\"#000000\" stroke-opacity=\"1\" stroke-width=\"3.2\"/>\n",
       "<circle clip-path=\"url(#clip772)\" cx=\"1112.31\" cy=\"908.573\" r=\"14\" fill=\"#009af9\" fill-rule=\"evenodd\" fill-opacity=\"1\" stroke=\"#000000\" stroke-opacity=\"1\" stroke-width=\"3.2\"/>\n",
       "<circle clip-path=\"url(#clip772)\" cx=\"1114.35\" cy=\"907.286\" r=\"14\" fill=\"#009af9\" fill-rule=\"evenodd\" fill-opacity=\"1\" stroke=\"#000000\" stroke-opacity=\"1\" stroke-width=\"3.2\"/>\n",
       "<circle clip-path=\"url(#clip772)\" cx=\"1116.38\" cy=\"905.998\" r=\"14\" fill=\"#009af9\" fill-rule=\"evenodd\" fill-opacity=\"1\" stroke=\"#000000\" stroke-opacity=\"1\" stroke-width=\"3.2\"/>\n",
       "<circle clip-path=\"url(#clip772)\" cx=\"1118.41\" cy=\"904.711\" r=\"14\" fill=\"#009af9\" fill-rule=\"evenodd\" fill-opacity=\"1\" stroke=\"#000000\" stroke-opacity=\"1\" stroke-width=\"3.2\"/>\n",
       "<circle clip-path=\"url(#clip772)\" cx=\"1120.45\" cy=\"903.424\" r=\"14\" fill=\"#009af9\" fill-rule=\"evenodd\" fill-opacity=\"1\" stroke=\"#000000\" stroke-opacity=\"1\" stroke-width=\"3.2\"/>\n",
       "<circle clip-path=\"url(#clip772)\" cx=\"1122.48\" cy=\"902.137\" r=\"14\" fill=\"#009af9\" fill-rule=\"evenodd\" fill-opacity=\"1\" stroke=\"#000000\" stroke-opacity=\"1\" stroke-width=\"3.2\"/>\n",
       "<circle clip-path=\"url(#clip772)\" cx=\"1124.52\" cy=\"900.85\" r=\"14\" fill=\"#009af9\" fill-rule=\"evenodd\" fill-opacity=\"1\" stroke=\"#000000\" stroke-opacity=\"1\" stroke-width=\"3.2\"/>\n",
       "<circle clip-path=\"url(#clip772)\" cx=\"1126.55\" cy=\"899.563\" r=\"14\" fill=\"#009af9\" fill-rule=\"evenodd\" fill-opacity=\"1\" stroke=\"#000000\" stroke-opacity=\"1\" stroke-width=\"3.2\"/>\n",
       "<circle clip-path=\"url(#clip772)\" cx=\"1128.58\" cy=\"898.276\" r=\"14\" fill=\"#009af9\" fill-rule=\"evenodd\" fill-opacity=\"1\" stroke=\"#000000\" stroke-opacity=\"1\" stroke-width=\"3.2\"/>\n",
       "<circle clip-path=\"url(#clip772)\" cx=\"1130.62\" cy=\"896.989\" r=\"14\" fill=\"#009af9\" fill-rule=\"evenodd\" fill-opacity=\"1\" stroke=\"#000000\" stroke-opacity=\"1\" stroke-width=\"3.2\"/>\n",
       "<circle clip-path=\"url(#clip772)\" cx=\"1132.65\" cy=\"895.701\" r=\"14\" fill=\"#009af9\" fill-rule=\"evenodd\" fill-opacity=\"1\" stroke=\"#000000\" stroke-opacity=\"1\" stroke-width=\"3.2\"/>\n",
       "<circle clip-path=\"url(#clip772)\" cx=\"1134.68\" cy=\"894.414\" r=\"14\" fill=\"#009af9\" fill-rule=\"evenodd\" fill-opacity=\"1\" stroke=\"#000000\" stroke-opacity=\"1\" stroke-width=\"3.2\"/>\n",
       "<circle clip-path=\"url(#clip772)\" cx=\"1136.72\" cy=\"893.127\" r=\"14\" fill=\"#009af9\" fill-rule=\"evenodd\" fill-opacity=\"1\" stroke=\"#000000\" stroke-opacity=\"1\" stroke-width=\"3.2\"/>\n",
       "<circle clip-path=\"url(#clip772)\" cx=\"1138.75\" cy=\"891.84\" r=\"14\" fill=\"#009af9\" fill-rule=\"evenodd\" fill-opacity=\"1\" stroke=\"#000000\" stroke-opacity=\"1\" stroke-width=\"3.2\"/>\n",
       "<circle clip-path=\"url(#clip772)\" cx=\"1140.78\" cy=\"890.553\" r=\"14\" fill=\"#009af9\" fill-rule=\"evenodd\" fill-opacity=\"1\" stroke=\"#000000\" stroke-opacity=\"1\" stroke-width=\"3.2\"/>\n",
       "<circle clip-path=\"url(#clip772)\" cx=\"1142.82\" cy=\"889.266\" r=\"14\" fill=\"#009af9\" fill-rule=\"evenodd\" fill-opacity=\"1\" stroke=\"#000000\" stroke-opacity=\"1\" stroke-width=\"3.2\"/>\n",
       "<circle clip-path=\"url(#clip772)\" cx=\"1144.85\" cy=\"887.979\" r=\"14\" fill=\"#009af9\" fill-rule=\"evenodd\" fill-opacity=\"1\" stroke=\"#000000\" stroke-opacity=\"1\" stroke-width=\"3.2\"/>\n",
       "<circle clip-path=\"url(#clip772)\" cx=\"1146.89\" cy=\"886.692\" r=\"14\" fill=\"#009af9\" fill-rule=\"evenodd\" fill-opacity=\"1\" stroke=\"#000000\" stroke-opacity=\"1\" stroke-width=\"3.2\"/>\n",
       "<circle clip-path=\"url(#clip772)\" cx=\"1148.92\" cy=\"885.405\" r=\"14\" fill=\"#009af9\" fill-rule=\"evenodd\" fill-opacity=\"1\" stroke=\"#000000\" stroke-opacity=\"1\" stroke-width=\"3.2\"/>\n",
       "<circle clip-path=\"url(#clip772)\" cx=\"1150.95\" cy=\"884.117\" r=\"14\" fill=\"#009af9\" fill-rule=\"evenodd\" fill-opacity=\"1\" stroke=\"#000000\" stroke-opacity=\"1\" stroke-width=\"3.2\"/>\n",
       "<circle clip-path=\"url(#clip772)\" cx=\"1152.99\" cy=\"882.83\" r=\"14\" fill=\"#009af9\" fill-rule=\"evenodd\" fill-opacity=\"1\" stroke=\"#000000\" stroke-opacity=\"1\" stroke-width=\"3.2\"/>\n",
       "<circle clip-path=\"url(#clip772)\" cx=\"1155.02\" cy=\"881.543\" r=\"14\" fill=\"#009af9\" fill-rule=\"evenodd\" fill-opacity=\"1\" stroke=\"#000000\" stroke-opacity=\"1\" stroke-width=\"3.2\"/>\n",
       "<circle clip-path=\"url(#clip772)\" cx=\"1157.05\" cy=\"880.256\" r=\"14\" fill=\"#009af9\" fill-rule=\"evenodd\" fill-opacity=\"1\" stroke=\"#000000\" stroke-opacity=\"1\" stroke-width=\"3.2\"/>\n",
       "<circle clip-path=\"url(#clip772)\" cx=\"1159.09\" cy=\"878.969\" r=\"14\" fill=\"#009af9\" fill-rule=\"evenodd\" fill-opacity=\"1\" stroke=\"#000000\" stroke-opacity=\"1\" stroke-width=\"3.2\"/>\n",
       "<circle clip-path=\"url(#clip772)\" cx=\"1161.12\" cy=\"877.682\" r=\"14\" fill=\"#009af9\" fill-rule=\"evenodd\" fill-opacity=\"1\" stroke=\"#000000\" stroke-opacity=\"1\" stroke-width=\"3.2\"/>\n",
       "<circle clip-path=\"url(#clip772)\" cx=\"1163.15\" cy=\"876.395\" r=\"14\" fill=\"#009af9\" fill-rule=\"evenodd\" fill-opacity=\"1\" stroke=\"#000000\" stroke-opacity=\"1\" stroke-width=\"3.2\"/>\n",
       "<circle clip-path=\"url(#clip772)\" cx=\"1165.19\" cy=\"875.108\" r=\"14\" fill=\"#009af9\" fill-rule=\"evenodd\" fill-opacity=\"1\" stroke=\"#000000\" stroke-opacity=\"1\" stroke-width=\"3.2\"/>\n",
       "<circle clip-path=\"url(#clip772)\" cx=\"1167.22\" cy=\"873.821\" r=\"14\" fill=\"#009af9\" fill-rule=\"evenodd\" fill-opacity=\"1\" stroke=\"#000000\" stroke-opacity=\"1\" stroke-width=\"3.2\"/>\n",
       "<circle clip-path=\"url(#clip772)\" cx=\"1169.25\" cy=\"872.533\" r=\"14\" fill=\"#009af9\" fill-rule=\"evenodd\" fill-opacity=\"1\" stroke=\"#000000\" stroke-opacity=\"1\" stroke-width=\"3.2\"/>\n",
       "<circle clip-path=\"url(#clip772)\" cx=\"1171.29\" cy=\"871.246\" r=\"14\" fill=\"#009af9\" fill-rule=\"evenodd\" fill-opacity=\"1\" stroke=\"#000000\" stroke-opacity=\"1\" stroke-width=\"3.2\"/>\n",
       "<circle clip-path=\"url(#clip772)\" cx=\"1173.32\" cy=\"869.959\" r=\"14\" fill=\"#009af9\" fill-rule=\"evenodd\" fill-opacity=\"1\" stroke=\"#000000\" stroke-opacity=\"1\" stroke-width=\"3.2\"/>\n",
       "<circle clip-path=\"url(#clip772)\" cx=\"1175.36\" cy=\"868.672\" r=\"14\" fill=\"#009af9\" fill-rule=\"evenodd\" fill-opacity=\"1\" stroke=\"#000000\" stroke-opacity=\"1\" stroke-width=\"3.2\"/>\n",
       "<circle clip-path=\"url(#clip772)\" cx=\"1177.39\" cy=\"867.385\" r=\"14\" fill=\"#009af9\" fill-rule=\"evenodd\" fill-opacity=\"1\" stroke=\"#000000\" stroke-opacity=\"1\" stroke-width=\"3.2\"/>\n",
       "<circle clip-path=\"url(#clip772)\" cx=\"1179.42\" cy=\"866.098\" r=\"14\" fill=\"#009af9\" fill-rule=\"evenodd\" fill-opacity=\"1\" stroke=\"#000000\" stroke-opacity=\"1\" stroke-width=\"3.2\"/>\n",
       "<circle clip-path=\"url(#clip772)\" cx=\"1181.46\" cy=\"864.811\" r=\"14\" fill=\"#009af9\" fill-rule=\"evenodd\" fill-opacity=\"1\" stroke=\"#000000\" stroke-opacity=\"1\" stroke-width=\"3.2\"/>\n",
       "<circle clip-path=\"url(#clip772)\" cx=\"1183.49\" cy=\"863.524\" r=\"14\" fill=\"#009af9\" fill-rule=\"evenodd\" fill-opacity=\"1\" stroke=\"#000000\" stroke-opacity=\"1\" stroke-width=\"3.2\"/>\n",
       "<circle clip-path=\"url(#clip772)\" cx=\"1185.52\" cy=\"862.237\" r=\"14\" fill=\"#009af9\" fill-rule=\"evenodd\" fill-opacity=\"1\" stroke=\"#000000\" stroke-opacity=\"1\" stroke-width=\"3.2\"/>\n",
       "<circle clip-path=\"url(#clip772)\" cx=\"1187.56\" cy=\"860.949\" r=\"14\" fill=\"#009af9\" fill-rule=\"evenodd\" fill-opacity=\"1\" stroke=\"#000000\" stroke-opacity=\"1\" stroke-width=\"3.2\"/>\n",
       "<circle clip-path=\"url(#clip772)\" cx=\"1189.59\" cy=\"859.662\" r=\"14\" fill=\"#009af9\" fill-rule=\"evenodd\" fill-opacity=\"1\" stroke=\"#000000\" stroke-opacity=\"1\" stroke-width=\"3.2\"/>\n",
       "<circle clip-path=\"url(#clip772)\" cx=\"1191.62\" cy=\"858.375\" r=\"14\" fill=\"#009af9\" fill-rule=\"evenodd\" fill-opacity=\"1\" stroke=\"#000000\" stroke-opacity=\"1\" stroke-width=\"3.2\"/>\n",
       "<circle clip-path=\"url(#clip772)\" cx=\"1193.66\" cy=\"857.088\" r=\"14\" fill=\"#009af9\" fill-rule=\"evenodd\" fill-opacity=\"1\" stroke=\"#000000\" stroke-opacity=\"1\" stroke-width=\"3.2\"/>\n",
       "<circle clip-path=\"url(#clip772)\" cx=\"1195.69\" cy=\"855.801\" r=\"14\" fill=\"#009af9\" fill-rule=\"evenodd\" fill-opacity=\"1\" stroke=\"#000000\" stroke-opacity=\"1\" stroke-width=\"3.2\"/>\n",
       "<circle clip-path=\"url(#clip772)\" cx=\"1197.73\" cy=\"854.514\" r=\"14\" fill=\"#009af9\" fill-rule=\"evenodd\" fill-opacity=\"1\" stroke=\"#000000\" stroke-opacity=\"1\" stroke-width=\"3.2\"/>\n",
       "<circle clip-path=\"url(#clip772)\" cx=\"1199.76\" cy=\"853.227\" r=\"14\" fill=\"#009af9\" fill-rule=\"evenodd\" fill-opacity=\"1\" stroke=\"#000000\" stroke-opacity=\"1\" stroke-width=\"3.2\"/>\n",
       "<circle clip-path=\"url(#clip772)\" cx=\"1201.79\" cy=\"851.94\" r=\"14\" fill=\"#009af9\" fill-rule=\"evenodd\" fill-opacity=\"1\" stroke=\"#000000\" stroke-opacity=\"1\" stroke-width=\"3.2\"/>\n",
       "<circle clip-path=\"url(#clip772)\" cx=\"1203.83\" cy=\"850.653\" r=\"14\" fill=\"#009af9\" fill-rule=\"evenodd\" fill-opacity=\"1\" stroke=\"#000000\" stroke-opacity=\"1\" stroke-width=\"3.2\"/>\n",
       "<circle clip-path=\"url(#clip772)\" cx=\"1205.86\" cy=\"849.365\" r=\"14\" fill=\"#009af9\" fill-rule=\"evenodd\" fill-opacity=\"1\" stroke=\"#000000\" stroke-opacity=\"1\" stroke-width=\"3.2\"/>\n",
       "<circle clip-path=\"url(#clip772)\" cx=\"1207.89\" cy=\"848.078\" r=\"14\" fill=\"#009af9\" fill-rule=\"evenodd\" fill-opacity=\"1\" stroke=\"#000000\" stroke-opacity=\"1\" stroke-width=\"3.2\"/>\n",
       "<circle clip-path=\"url(#clip772)\" cx=\"1209.93\" cy=\"846.791\" r=\"14\" fill=\"#009af9\" fill-rule=\"evenodd\" fill-opacity=\"1\" stroke=\"#000000\" stroke-opacity=\"1\" stroke-width=\"3.2\"/>\n",
       "<circle clip-path=\"url(#clip772)\" cx=\"1211.96\" cy=\"845.504\" r=\"14\" fill=\"#009af9\" fill-rule=\"evenodd\" fill-opacity=\"1\" stroke=\"#000000\" stroke-opacity=\"1\" stroke-width=\"3.2\"/>\n",
       "<circle clip-path=\"url(#clip772)\" cx=\"1213.99\" cy=\"844.217\" r=\"14\" fill=\"#009af9\" fill-rule=\"evenodd\" fill-opacity=\"1\" stroke=\"#000000\" stroke-opacity=\"1\" stroke-width=\"3.2\"/>\n",
       "<circle clip-path=\"url(#clip772)\" cx=\"1216.03\" cy=\"842.93\" r=\"14\" fill=\"#009af9\" fill-rule=\"evenodd\" fill-opacity=\"1\" stroke=\"#000000\" stroke-opacity=\"1\" stroke-width=\"3.2\"/>\n",
       "<circle clip-path=\"url(#clip772)\" cx=\"1218.06\" cy=\"841.643\" r=\"14\" fill=\"#009af9\" fill-rule=\"evenodd\" fill-opacity=\"1\" stroke=\"#000000\" stroke-opacity=\"1\" stroke-width=\"3.2\"/>\n",
       "<circle clip-path=\"url(#clip772)\" cx=\"1220.1\" cy=\"840.356\" r=\"14\" fill=\"#009af9\" fill-rule=\"evenodd\" fill-opacity=\"1\" stroke=\"#000000\" stroke-opacity=\"1\" stroke-width=\"3.2\"/>\n",
       "<circle clip-path=\"url(#clip772)\" cx=\"1222.13\" cy=\"839.069\" r=\"14\" fill=\"#009af9\" fill-rule=\"evenodd\" fill-opacity=\"1\" stroke=\"#000000\" stroke-opacity=\"1\" stroke-width=\"3.2\"/>\n",
       "<circle clip-path=\"url(#clip772)\" cx=\"1224.16\" cy=\"837.781\" r=\"14\" fill=\"#009af9\" fill-rule=\"evenodd\" fill-opacity=\"1\" stroke=\"#000000\" stroke-opacity=\"1\" stroke-width=\"3.2\"/>\n",
       "<circle clip-path=\"url(#clip772)\" cx=\"1226.2\" cy=\"836.494\" r=\"14\" fill=\"#009af9\" fill-rule=\"evenodd\" fill-opacity=\"1\" stroke=\"#000000\" stroke-opacity=\"1\" stroke-width=\"3.2\"/>\n",
       "<circle clip-path=\"url(#clip772)\" cx=\"1228.23\" cy=\"835.207\" r=\"14\" fill=\"#009af9\" fill-rule=\"evenodd\" fill-opacity=\"1\" stroke=\"#000000\" stroke-opacity=\"1\" stroke-width=\"3.2\"/>\n",
       "<circle clip-path=\"url(#clip772)\" cx=\"1230.26\" cy=\"833.92\" r=\"14\" fill=\"#009af9\" fill-rule=\"evenodd\" fill-opacity=\"1\" stroke=\"#000000\" stroke-opacity=\"1\" stroke-width=\"3.2\"/>\n",
       "<circle clip-path=\"url(#clip772)\" cx=\"1232.3\" cy=\"832.633\" r=\"14\" fill=\"#009af9\" fill-rule=\"evenodd\" fill-opacity=\"1\" stroke=\"#000000\" stroke-opacity=\"1\" stroke-width=\"3.2\"/>\n",
       "<circle clip-path=\"url(#clip772)\" cx=\"1234.33\" cy=\"831.346\" r=\"14\" fill=\"#009af9\" fill-rule=\"evenodd\" fill-opacity=\"1\" stroke=\"#000000\" stroke-opacity=\"1\" stroke-width=\"3.2\"/>\n",
       "<circle clip-path=\"url(#clip772)\" cx=\"1236.36\" cy=\"830.059\" r=\"14\" fill=\"#009af9\" fill-rule=\"evenodd\" fill-opacity=\"1\" stroke=\"#000000\" stroke-opacity=\"1\" stroke-width=\"3.2\"/>\n",
       "<circle clip-path=\"url(#clip772)\" cx=\"1238.4\" cy=\"828.772\" r=\"14\" fill=\"#009af9\" fill-rule=\"evenodd\" fill-opacity=\"1\" stroke=\"#000000\" stroke-opacity=\"1\" stroke-width=\"3.2\"/>\n",
       "<circle clip-path=\"url(#clip772)\" cx=\"1240.43\" cy=\"827.484\" r=\"14\" fill=\"#009af9\" fill-rule=\"evenodd\" fill-opacity=\"1\" stroke=\"#000000\" stroke-opacity=\"1\" stroke-width=\"3.2\"/>\n",
       "<circle clip-path=\"url(#clip772)\" cx=\"1242.46\" cy=\"826.197\" r=\"14\" fill=\"#009af9\" fill-rule=\"evenodd\" fill-opacity=\"1\" stroke=\"#000000\" stroke-opacity=\"1\" stroke-width=\"3.2\"/>\n",
       "<circle clip-path=\"url(#clip772)\" cx=\"1244.5\" cy=\"824.91\" r=\"14\" fill=\"#009af9\" fill-rule=\"evenodd\" fill-opacity=\"1\" stroke=\"#000000\" stroke-opacity=\"1\" stroke-width=\"3.2\"/>\n",
       "<circle clip-path=\"url(#clip772)\" cx=\"1246.53\" cy=\"823.623\" r=\"14\" fill=\"#009af9\" fill-rule=\"evenodd\" fill-opacity=\"1\" stroke=\"#000000\" stroke-opacity=\"1\" stroke-width=\"3.2\"/>\n",
       "<circle clip-path=\"url(#clip772)\" cx=\"1248.57\" cy=\"822.336\" r=\"14\" fill=\"#009af9\" fill-rule=\"evenodd\" fill-opacity=\"1\" stroke=\"#000000\" stroke-opacity=\"1\" stroke-width=\"3.2\"/>\n",
       "<circle clip-path=\"url(#clip772)\" cx=\"1250.6\" cy=\"821.049\" r=\"14\" fill=\"#009af9\" fill-rule=\"evenodd\" fill-opacity=\"1\" stroke=\"#000000\" stroke-opacity=\"1\" stroke-width=\"3.2\"/>\n",
       "<circle clip-path=\"url(#clip772)\" cx=\"1252.63\" cy=\"819.762\" r=\"14\" fill=\"#009af9\" fill-rule=\"evenodd\" fill-opacity=\"1\" stroke=\"#000000\" stroke-opacity=\"1\" stroke-width=\"3.2\"/>\n",
       "<circle clip-path=\"url(#clip772)\" cx=\"1254.67\" cy=\"818.475\" r=\"14\" fill=\"#009af9\" fill-rule=\"evenodd\" fill-opacity=\"1\" stroke=\"#000000\" stroke-opacity=\"1\" stroke-width=\"3.2\"/>\n",
       "<circle clip-path=\"url(#clip772)\" cx=\"1256.7\" cy=\"817.188\" r=\"14\" fill=\"#009af9\" fill-rule=\"evenodd\" fill-opacity=\"1\" stroke=\"#000000\" stroke-opacity=\"1\" stroke-width=\"3.2\"/>\n",
       "<circle clip-path=\"url(#clip772)\" cx=\"1258.73\" cy=\"815.9\" r=\"14\" fill=\"#009af9\" fill-rule=\"evenodd\" fill-opacity=\"1\" stroke=\"#000000\" stroke-opacity=\"1\" stroke-width=\"3.2\"/>\n",
       "<circle clip-path=\"url(#clip772)\" cx=\"1260.77\" cy=\"814.613\" r=\"14\" fill=\"#009af9\" fill-rule=\"evenodd\" fill-opacity=\"1\" stroke=\"#000000\" stroke-opacity=\"1\" stroke-width=\"3.2\"/>\n",
       "<circle clip-path=\"url(#clip772)\" cx=\"1262.8\" cy=\"813.326\" r=\"14\" fill=\"#009af9\" fill-rule=\"evenodd\" fill-opacity=\"1\" stroke=\"#000000\" stroke-opacity=\"1\" stroke-width=\"3.2\"/>\n",
       "<circle clip-path=\"url(#clip772)\" cx=\"1264.83\" cy=\"812.039\" r=\"14\" fill=\"#009af9\" fill-rule=\"evenodd\" fill-opacity=\"1\" stroke=\"#000000\" stroke-opacity=\"1\" stroke-width=\"3.2\"/>\n",
       "<circle clip-path=\"url(#clip772)\" cx=\"1266.87\" cy=\"810.752\" r=\"14\" fill=\"#009af9\" fill-rule=\"evenodd\" fill-opacity=\"1\" stroke=\"#000000\" stroke-opacity=\"1\" stroke-width=\"3.2\"/>\n",
       "<circle clip-path=\"url(#clip772)\" cx=\"1268.9\" cy=\"809.465\" r=\"14\" fill=\"#009af9\" fill-rule=\"evenodd\" fill-opacity=\"1\" stroke=\"#000000\" stroke-opacity=\"1\" stroke-width=\"3.2\"/>\n",
       "<circle clip-path=\"url(#clip772)\" cx=\"1270.94\" cy=\"808.178\" r=\"14\" fill=\"#009af9\" fill-rule=\"evenodd\" fill-opacity=\"1\" stroke=\"#000000\" stroke-opacity=\"1\" stroke-width=\"3.2\"/>\n",
       "<circle clip-path=\"url(#clip772)\" cx=\"1272.97\" cy=\"806.891\" r=\"14\" fill=\"#009af9\" fill-rule=\"evenodd\" fill-opacity=\"1\" stroke=\"#000000\" stroke-opacity=\"1\" stroke-width=\"3.2\"/>\n",
       "<circle clip-path=\"url(#clip772)\" cx=\"1275\" cy=\"805.604\" r=\"14\" fill=\"#009af9\" fill-rule=\"evenodd\" fill-opacity=\"1\" stroke=\"#000000\" stroke-opacity=\"1\" stroke-width=\"3.2\"/>\n",
       "<circle clip-path=\"url(#clip772)\" cx=\"1277.04\" cy=\"804.316\" r=\"14\" fill=\"#009af9\" fill-rule=\"evenodd\" fill-opacity=\"1\" stroke=\"#000000\" stroke-opacity=\"1\" stroke-width=\"3.2\"/>\n",
       "<circle clip-path=\"url(#clip772)\" cx=\"1279.07\" cy=\"803.029\" r=\"14\" fill=\"#009af9\" fill-rule=\"evenodd\" fill-opacity=\"1\" stroke=\"#000000\" stroke-opacity=\"1\" stroke-width=\"3.2\"/>\n",
       "<circle clip-path=\"url(#clip772)\" cx=\"1281.1\" cy=\"801.742\" r=\"14\" fill=\"#009af9\" fill-rule=\"evenodd\" fill-opacity=\"1\" stroke=\"#000000\" stroke-opacity=\"1\" stroke-width=\"3.2\"/>\n",
       "<circle clip-path=\"url(#clip772)\" cx=\"1283.14\" cy=\"800.455\" r=\"14\" fill=\"#009af9\" fill-rule=\"evenodd\" fill-opacity=\"1\" stroke=\"#000000\" stroke-opacity=\"1\" stroke-width=\"3.2\"/>\n",
       "<circle clip-path=\"url(#clip772)\" cx=\"1285.17\" cy=\"799.168\" r=\"14\" fill=\"#009af9\" fill-rule=\"evenodd\" fill-opacity=\"1\" stroke=\"#000000\" stroke-opacity=\"1\" stroke-width=\"3.2\"/>\n",
       "<circle clip-path=\"url(#clip772)\" cx=\"1287.2\" cy=\"797.881\" r=\"14\" fill=\"#009af9\" fill-rule=\"evenodd\" fill-opacity=\"1\" stroke=\"#000000\" stroke-opacity=\"1\" stroke-width=\"3.2\"/>\n",
       "<circle clip-path=\"url(#clip772)\" cx=\"1289.24\" cy=\"796.594\" r=\"14\" fill=\"#009af9\" fill-rule=\"evenodd\" fill-opacity=\"1\" stroke=\"#000000\" stroke-opacity=\"1\" stroke-width=\"3.2\"/>\n",
       "<circle clip-path=\"url(#clip772)\" cx=\"1291.27\" cy=\"795.307\" r=\"14\" fill=\"#009af9\" fill-rule=\"evenodd\" fill-opacity=\"1\" stroke=\"#000000\" stroke-opacity=\"1\" stroke-width=\"3.2\"/>\n",
       "<circle clip-path=\"url(#clip772)\" cx=\"1293.31\" cy=\"794.02\" r=\"14\" fill=\"#009af9\" fill-rule=\"evenodd\" fill-opacity=\"1\" stroke=\"#000000\" stroke-opacity=\"1\" stroke-width=\"3.2\"/>\n",
       "<circle clip-path=\"url(#clip772)\" cx=\"1295.34\" cy=\"792.732\" r=\"14\" fill=\"#009af9\" fill-rule=\"evenodd\" fill-opacity=\"1\" stroke=\"#000000\" stroke-opacity=\"1\" stroke-width=\"3.2\"/>\n",
       "<circle clip-path=\"url(#clip772)\" cx=\"1297.37\" cy=\"791.445\" r=\"14\" fill=\"#009af9\" fill-rule=\"evenodd\" fill-opacity=\"1\" stroke=\"#000000\" stroke-opacity=\"1\" stroke-width=\"3.2\"/>\n",
       "<circle clip-path=\"url(#clip772)\" cx=\"1299.41\" cy=\"790.158\" r=\"14\" fill=\"#009af9\" fill-rule=\"evenodd\" fill-opacity=\"1\" stroke=\"#000000\" stroke-opacity=\"1\" stroke-width=\"3.2\"/>\n",
       "<circle clip-path=\"url(#clip772)\" cx=\"1301.44\" cy=\"788.871\" r=\"14\" fill=\"#009af9\" fill-rule=\"evenodd\" fill-opacity=\"1\" stroke=\"#000000\" stroke-opacity=\"1\" stroke-width=\"3.2\"/>\n",
       "<circle clip-path=\"url(#clip772)\" cx=\"1303.47\" cy=\"787.584\" r=\"14\" fill=\"#009af9\" fill-rule=\"evenodd\" fill-opacity=\"1\" stroke=\"#000000\" stroke-opacity=\"1\" stroke-width=\"3.2\"/>\n",
       "<circle clip-path=\"url(#clip772)\" cx=\"1305.51\" cy=\"786.297\" r=\"14\" fill=\"#009af9\" fill-rule=\"evenodd\" fill-opacity=\"1\" stroke=\"#000000\" stroke-opacity=\"1\" stroke-width=\"3.2\"/>\n",
       "<circle clip-path=\"url(#clip772)\" cx=\"1307.54\" cy=\"785.01\" r=\"14\" fill=\"#009af9\" fill-rule=\"evenodd\" fill-opacity=\"1\" stroke=\"#000000\" stroke-opacity=\"1\" stroke-width=\"3.2\"/>\n",
       "<circle clip-path=\"url(#clip772)\" cx=\"1309.57\" cy=\"783.723\" r=\"14\" fill=\"#009af9\" fill-rule=\"evenodd\" fill-opacity=\"1\" stroke=\"#000000\" stroke-opacity=\"1\" stroke-width=\"3.2\"/>\n",
       "<circle clip-path=\"url(#clip772)\" cx=\"1311.61\" cy=\"782.436\" r=\"14\" fill=\"#009af9\" fill-rule=\"evenodd\" fill-opacity=\"1\" stroke=\"#000000\" stroke-opacity=\"1\" stroke-width=\"3.2\"/>\n",
       "<circle clip-path=\"url(#clip772)\" cx=\"1313.64\" cy=\"781.148\" r=\"14\" fill=\"#009af9\" fill-rule=\"evenodd\" fill-opacity=\"1\" stroke=\"#000000\" stroke-opacity=\"1\" stroke-width=\"3.2\"/>\n",
       "<circle clip-path=\"url(#clip772)\" cx=\"1315.67\" cy=\"779.861\" r=\"14\" fill=\"#009af9\" fill-rule=\"evenodd\" fill-opacity=\"1\" stroke=\"#000000\" stroke-opacity=\"1\" stroke-width=\"3.2\"/>\n",
       "<circle clip-path=\"url(#clip772)\" cx=\"1317.71\" cy=\"778.574\" r=\"14\" fill=\"#009af9\" fill-rule=\"evenodd\" fill-opacity=\"1\" stroke=\"#000000\" stroke-opacity=\"1\" stroke-width=\"3.2\"/>\n",
       "<circle clip-path=\"url(#clip772)\" cx=\"1319.74\" cy=\"777.287\" r=\"14\" fill=\"#009af9\" fill-rule=\"evenodd\" fill-opacity=\"1\" stroke=\"#000000\" stroke-opacity=\"1\" stroke-width=\"3.2\"/>\n",
       "<circle clip-path=\"url(#clip772)\" cx=\"1321.78\" cy=\"776\" r=\"14\" fill=\"#009af9\" fill-rule=\"evenodd\" fill-opacity=\"1\" stroke=\"#000000\" stroke-opacity=\"1\" stroke-width=\"3.2\"/>\n",
       "<circle clip-path=\"url(#clip772)\" cx=\"1323.81\" cy=\"774.713\" r=\"14\" fill=\"#009af9\" fill-rule=\"evenodd\" fill-opacity=\"1\" stroke=\"#000000\" stroke-opacity=\"1\" stroke-width=\"3.2\"/>\n",
       "<circle clip-path=\"url(#clip772)\" cx=\"1325.84\" cy=\"773.426\" r=\"14\" fill=\"#009af9\" fill-rule=\"evenodd\" fill-opacity=\"1\" stroke=\"#000000\" stroke-opacity=\"1\" stroke-width=\"3.2\"/>\n",
       "<circle clip-path=\"url(#clip772)\" cx=\"1327.88\" cy=\"772.139\" r=\"14\" fill=\"#009af9\" fill-rule=\"evenodd\" fill-opacity=\"1\" stroke=\"#000000\" stroke-opacity=\"1\" stroke-width=\"3.2\"/>\n",
       "<circle clip-path=\"url(#clip772)\" cx=\"1329.91\" cy=\"770.851\" r=\"14\" fill=\"#009af9\" fill-rule=\"evenodd\" fill-opacity=\"1\" stroke=\"#000000\" stroke-opacity=\"1\" stroke-width=\"3.2\"/>\n",
       "<circle clip-path=\"url(#clip772)\" cx=\"1331.94\" cy=\"769.564\" r=\"14\" fill=\"#009af9\" fill-rule=\"evenodd\" fill-opacity=\"1\" stroke=\"#000000\" stroke-opacity=\"1\" stroke-width=\"3.2\"/>\n",
       "<circle clip-path=\"url(#clip772)\" cx=\"1333.98\" cy=\"768.277\" r=\"14\" fill=\"#009af9\" fill-rule=\"evenodd\" fill-opacity=\"1\" stroke=\"#000000\" stroke-opacity=\"1\" stroke-width=\"3.2\"/>\n",
       "<circle clip-path=\"url(#clip772)\" cx=\"1336.01\" cy=\"766.99\" r=\"14\" fill=\"#009af9\" fill-rule=\"evenodd\" fill-opacity=\"1\" stroke=\"#000000\" stroke-opacity=\"1\" stroke-width=\"3.2\"/>\n",
       "<circle clip-path=\"url(#clip772)\" cx=\"1338.04\" cy=\"765.703\" r=\"14\" fill=\"#009af9\" fill-rule=\"evenodd\" fill-opacity=\"1\" stroke=\"#000000\" stroke-opacity=\"1\" stroke-width=\"3.2\"/>\n",
       "<circle clip-path=\"url(#clip772)\" cx=\"1340.08\" cy=\"764.416\" r=\"14\" fill=\"#009af9\" fill-rule=\"evenodd\" fill-opacity=\"1\" stroke=\"#000000\" stroke-opacity=\"1\" stroke-width=\"3.2\"/>\n",
       "<circle clip-path=\"url(#clip772)\" cx=\"1342.11\" cy=\"763.129\" r=\"14\" fill=\"#009af9\" fill-rule=\"evenodd\" fill-opacity=\"1\" stroke=\"#000000\" stroke-opacity=\"1\" stroke-width=\"3.2\"/>\n",
       "<circle clip-path=\"url(#clip772)\" cx=\"1344.15\" cy=\"761.842\" r=\"14\" fill=\"#009af9\" fill-rule=\"evenodd\" fill-opacity=\"1\" stroke=\"#000000\" stroke-opacity=\"1\" stroke-width=\"3.2\"/>\n",
       "<circle clip-path=\"url(#clip772)\" cx=\"1346.18\" cy=\"760.555\" r=\"14\" fill=\"#009af9\" fill-rule=\"evenodd\" fill-opacity=\"1\" stroke=\"#000000\" stroke-opacity=\"1\" stroke-width=\"3.2\"/>\n",
       "<circle clip-path=\"url(#clip772)\" cx=\"1348.21\" cy=\"759.267\" r=\"14\" fill=\"#009af9\" fill-rule=\"evenodd\" fill-opacity=\"1\" stroke=\"#000000\" stroke-opacity=\"1\" stroke-width=\"3.2\"/>\n",
       "<circle clip-path=\"url(#clip772)\" cx=\"1350.25\" cy=\"757.98\" r=\"14\" fill=\"#009af9\" fill-rule=\"evenodd\" fill-opacity=\"1\" stroke=\"#000000\" stroke-opacity=\"1\" stroke-width=\"3.2\"/>\n",
       "<circle clip-path=\"url(#clip772)\" cx=\"1352.28\" cy=\"756.693\" r=\"14\" fill=\"#009af9\" fill-rule=\"evenodd\" fill-opacity=\"1\" stroke=\"#000000\" stroke-opacity=\"1\" stroke-width=\"3.2\"/>\n",
       "<circle clip-path=\"url(#clip772)\" cx=\"1354.31\" cy=\"755.406\" r=\"14\" fill=\"#009af9\" fill-rule=\"evenodd\" fill-opacity=\"1\" stroke=\"#000000\" stroke-opacity=\"1\" stroke-width=\"3.2\"/>\n",
       "<circle clip-path=\"url(#clip772)\" cx=\"1356.35\" cy=\"754.119\" r=\"14\" fill=\"#009af9\" fill-rule=\"evenodd\" fill-opacity=\"1\" stroke=\"#000000\" stroke-opacity=\"1\" stroke-width=\"3.2\"/>\n",
       "<circle clip-path=\"url(#clip772)\" cx=\"1358.38\" cy=\"752.832\" r=\"14\" fill=\"#009af9\" fill-rule=\"evenodd\" fill-opacity=\"1\" stroke=\"#000000\" stroke-opacity=\"1\" stroke-width=\"3.2\"/>\n",
       "<circle clip-path=\"url(#clip772)\" cx=\"1360.41\" cy=\"751.545\" r=\"14\" fill=\"#009af9\" fill-rule=\"evenodd\" fill-opacity=\"1\" stroke=\"#000000\" stroke-opacity=\"1\" stroke-width=\"3.2\"/>\n",
       "<circle clip-path=\"url(#clip772)\" cx=\"1362.45\" cy=\"750.258\" r=\"14\" fill=\"#009af9\" fill-rule=\"evenodd\" fill-opacity=\"1\" stroke=\"#000000\" stroke-opacity=\"1\" stroke-width=\"3.2\"/>\n",
       "<circle clip-path=\"url(#clip772)\" cx=\"1364.48\" cy=\"748.971\" r=\"14\" fill=\"#009af9\" fill-rule=\"evenodd\" fill-opacity=\"1\" stroke=\"#000000\" stroke-opacity=\"1\" stroke-width=\"3.2\"/>\n",
       "<circle clip-path=\"url(#clip772)\" cx=\"1366.52\" cy=\"747.683\" r=\"14\" fill=\"#009af9\" fill-rule=\"evenodd\" fill-opacity=\"1\" stroke=\"#000000\" stroke-opacity=\"1\" stroke-width=\"3.2\"/>\n",
       "<circle clip-path=\"url(#clip772)\" cx=\"1368.55\" cy=\"746.396\" r=\"14\" fill=\"#009af9\" fill-rule=\"evenodd\" fill-opacity=\"1\" stroke=\"#000000\" stroke-opacity=\"1\" stroke-width=\"3.2\"/>\n",
       "<circle clip-path=\"url(#clip772)\" cx=\"1370.58\" cy=\"745.109\" r=\"14\" fill=\"#009af9\" fill-rule=\"evenodd\" fill-opacity=\"1\" stroke=\"#000000\" stroke-opacity=\"1\" stroke-width=\"3.2\"/>\n",
       "<circle clip-path=\"url(#clip772)\" cx=\"1372.62\" cy=\"743.822\" r=\"14\" fill=\"#009af9\" fill-rule=\"evenodd\" fill-opacity=\"1\" stroke=\"#000000\" stroke-opacity=\"1\" stroke-width=\"3.2\"/>\n",
       "<circle clip-path=\"url(#clip772)\" cx=\"1374.65\" cy=\"742.535\" r=\"14\" fill=\"#009af9\" fill-rule=\"evenodd\" fill-opacity=\"1\" stroke=\"#000000\" stroke-opacity=\"1\" stroke-width=\"3.2\"/>\n",
       "<circle clip-path=\"url(#clip772)\" cx=\"1376.68\" cy=\"741.248\" r=\"14\" fill=\"#009af9\" fill-rule=\"evenodd\" fill-opacity=\"1\" stroke=\"#000000\" stroke-opacity=\"1\" stroke-width=\"3.2\"/>\n",
       "<circle clip-path=\"url(#clip772)\" cx=\"1378.72\" cy=\"739.961\" r=\"14\" fill=\"#009af9\" fill-rule=\"evenodd\" fill-opacity=\"1\" stroke=\"#000000\" stroke-opacity=\"1\" stroke-width=\"3.2\"/>\n",
       "<circle clip-path=\"url(#clip772)\" cx=\"1380.75\" cy=\"738.674\" r=\"14\" fill=\"#009af9\" fill-rule=\"evenodd\" fill-opacity=\"1\" stroke=\"#000000\" stroke-opacity=\"1\" stroke-width=\"3.2\"/>\n",
       "<circle clip-path=\"url(#clip772)\" cx=\"1382.78\" cy=\"737.387\" r=\"14\" fill=\"#009af9\" fill-rule=\"evenodd\" fill-opacity=\"1\" stroke=\"#000000\" stroke-opacity=\"1\" stroke-width=\"3.2\"/>\n",
       "<circle clip-path=\"url(#clip772)\" cx=\"1384.82\" cy=\"736.099\" r=\"14\" fill=\"#009af9\" fill-rule=\"evenodd\" fill-opacity=\"1\" stroke=\"#000000\" stroke-opacity=\"1\" stroke-width=\"3.2\"/>\n",
       "<circle clip-path=\"url(#clip772)\" cx=\"1386.85\" cy=\"734.812\" r=\"14\" fill=\"#009af9\" fill-rule=\"evenodd\" fill-opacity=\"1\" stroke=\"#000000\" stroke-opacity=\"1\" stroke-width=\"3.2\"/>\n",
       "<circle clip-path=\"url(#clip772)\" cx=\"1388.88\" cy=\"733.525\" r=\"14\" fill=\"#009af9\" fill-rule=\"evenodd\" fill-opacity=\"1\" stroke=\"#000000\" stroke-opacity=\"1\" stroke-width=\"3.2\"/>\n",
       "<circle clip-path=\"url(#clip772)\" cx=\"1390.92\" cy=\"732.238\" r=\"14\" fill=\"#009af9\" fill-rule=\"evenodd\" fill-opacity=\"1\" stroke=\"#000000\" stroke-opacity=\"1\" stroke-width=\"3.2\"/>\n",
       "<circle clip-path=\"url(#clip772)\" cx=\"1392.95\" cy=\"730.951\" r=\"14\" fill=\"#009af9\" fill-rule=\"evenodd\" fill-opacity=\"1\" stroke=\"#000000\" stroke-opacity=\"1\" stroke-width=\"3.2\"/>\n",
       "<circle clip-path=\"url(#clip772)\" cx=\"1394.99\" cy=\"729.664\" r=\"14\" fill=\"#009af9\" fill-rule=\"evenodd\" fill-opacity=\"1\" stroke=\"#000000\" stroke-opacity=\"1\" stroke-width=\"3.2\"/>\n",
       "<circle clip-path=\"url(#clip772)\" cx=\"1397.02\" cy=\"728.377\" r=\"14\" fill=\"#009af9\" fill-rule=\"evenodd\" fill-opacity=\"1\" stroke=\"#000000\" stroke-opacity=\"1\" stroke-width=\"3.2\"/>\n",
       "<circle clip-path=\"url(#clip772)\" cx=\"1399.05\" cy=\"727.09\" r=\"14\" fill=\"#009af9\" fill-rule=\"evenodd\" fill-opacity=\"1\" stroke=\"#000000\" stroke-opacity=\"1\" stroke-width=\"3.2\"/>\n",
       "<circle clip-path=\"url(#clip772)\" cx=\"1401.09\" cy=\"725.803\" r=\"14\" fill=\"#009af9\" fill-rule=\"evenodd\" fill-opacity=\"1\" stroke=\"#000000\" stroke-opacity=\"1\" stroke-width=\"3.2\"/>\n",
       "<circle clip-path=\"url(#clip772)\" cx=\"1403.12\" cy=\"724.515\" r=\"14\" fill=\"#009af9\" fill-rule=\"evenodd\" fill-opacity=\"1\" stroke=\"#000000\" stroke-opacity=\"1\" stroke-width=\"3.2\"/>\n",
       "<circle clip-path=\"url(#clip772)\" cx=\"1405.15\" cy=\"723.228\" r=\"14\" fill=\"#009af9\" fill-rule=\"evenodd\" fill-opacity=\"1\" stroke=\"#000000\" stroke-opacity=\"1\" stroke-width=\"3.2\"/>\n",
       "<circle clip-path=\"url(#clip772)\" cx=\"1407.19\" cy=\"721.941\" r=\"14\" fill=\"#009af9\" fill-rule=\"evenodd\" fill-opacity=\"1\" stroke=\"#000000\" stroke-opacity=\"1\" stroke-width=\"3.2\"/>\n",
       "<circle clip-path=\"url(#clip772)\" cx=\"1409.22\" cy=\"720.654\" r=\"14\" fill=\"#009af9\" fill-rule=\"evenodd\" fill-opacity=\"1\" stroke=\"#000000\" stroke-opacity=\"1\" stroke-width=\"3.2\"/>\n",
       "<circle clip-path=\"url(#clip772)\" cx=\"1411.25\" cy=\"719.367\" r=\"14\" fill=\"#009af9\" fill-rule=\"evenodd\" fill-opacity=\"1\" stroke=\"#000000\" stroke-opacity=\"1\" stroke-width=\"3.2\"/>\n",
       "<circle clip-path=\"url(#clip772)\" cx=\"1413.29\" cy=\"718.08\" r=\"14\" fill=\"#009af9\" fill-rule=\"evenodd\" fill-opacity=\"1\" stroke=\"#000000\" stroke-opacity=\"1\" stroke-width=\"3.2\"/>\n",
       "<circle clip-path=\"url(#clip772)\" cx=\"1415.32\" cy=\"716.793\" r=\"14\" fill=\"#009af9\" fill-rule=\"evenodd\" fill-opacity=\"1\" stroke=\"#000000\" stroke-opacity=\"1\" stroke-width=\"3.2\"/>\n",
       "<circle clip-path=\"url(#clip772)\" cx=\"1417.36\" cy=\"715.506\" r=\"14\" fill=\"#009af9\" fill-rule=\"evenodd\" fill-opacity=\"1\" stroke=\"#000000\" stroke-opacity=\"1\" stroke-width=\"3.2\"/>\n",
       "<circle clip-path=\"url(#clip772)\" cx=\"1419.39\" cy=\"714.219\" r=\"14\" fill=\"#009af9\" fill-rule=\"evenodd\" fill-opacity=\"1\" stroke=\"#000000\" stroke-opacity=\"1\" stroke-width=\"3.2\"/>\n",
       "<circle clip-path=\"url(#clip772)\" cx=\"1421.42\" cy=\"712.931\" r=\"14\" fill=\"#009af9\" fill-rule=\"evenodd\" fill-opacity=\"1\" stroke=\"#000000\" stroke-opacity=\"1\" stroke-width=\"3.2\"/>\n",
       "<circle clip-path=\"url(#clip772)\" cx=\"1423.46\" cy=\"711.644\" r=\"14\" fill=\"#009af9\" fill-rule=\"evenodd\" fill-opacity=\"1\" stroke=\"#000000\" stroke-opacity=\"1\" stroke-width=\"3.2\"/>\n",
       "<circle clip-path=\"url(#clip772)\" cx=\"1425.49\" cy=\"710.357\" r=\"14\" fill=\"#009af9\" fill-rule=\"evenodd\" fill-opacity=\"1\" stroke=\"#000000\" stroke-opacity=\"1\" stroke-width=\"3.2\"/>\n",
       "<circle clip-path=\"url(#clip772)\" cx=\"1427.52\" cy=\"709.07\" r=\"14\" fill=\"#009af9\" fill-rule=\"evenodd\" fill-opacity=\"1\" stroke=\"#000000\" stroke-opacity=\"1\" stroke-width=\"3.2\"/>\n",
       "<circle clip-path=\"url(#clip772)\" cx=\"1429.56\" cy=\"707.783\" r=\"14\" fill=\"#009af9\" fill-rule=\"evenodd\" fill-opacity=\"1\" stroke=\"#000000\" stroke-opacity=\"1\" stroke-width=\"3.2\"/>\n",
       "<circle clip-path=\"url(#clip772)\" cx=\"1431.59\" cy=\"706.496\" r=\"14\" fill=\"#009af9\" fill-rule=\"evenodd\" fill-opacity=\"1\" stroke=\"#000000\" stroke-opacity=\"1\" stroke-width=\"3.2\"/>\n",
       "<circle clip-path=\"url(#clip772)\" cx=\"1433.62\" cy=\"705.209\" r=\"14\" fill=\"#009af9\" fill-rule=\"evenodd\" fill-opacity=\"1\" stroke=\"#000000\" stroke-opacity=\"1\" stroke-width=\"3.2\"/>\n",
       "<circle clip-path=\"url(#clip772)\" cx=\"1435.66\" cy=\"703.922\" r=\"14\" fill=\"#009af9\" fill-rule=\"evenodd\" fill-opacity=\"1\" stroke=\"#000000\" stroke-opacity=\"1\" stroke-width=\"3.2\"/>\n",
       "<circle clip-path=\"url(#clip772)\" cx=\"1437.69\" cy=\"702.634\" r=\"14\" fill=\"#009af9\" fill-rule=\"evenodd\" fill-opacity=\"1\" stroke=\"#000000\" stroke-opacity=\"1\" stroke-width=\"3.2\"/>\n",
       "<circle clip-path=\"url(#clip772)\" cx=\"1439.73\" cy=\"701.347\" r=\"14\" fill=\"#009af9\" fill-rule=\"evenodd\" fill-opacity=\"1\" stroke=\"#000000\" stroke-opacity=\"1\" stroke-width=\"3.2\"/>\n",
       "<circle clip-path=\"url(#clip772)\" cx=\"1441.76\" cy=\"700.06\" r=\"14\" fill=\"#009af9\" fill-rule=\"evenodd\" fill-opacity=\"1\" stroke=\"#000000\" stroke-opacity=\"1\" stroke-width=\"3.2\"/>\n",
       "<circle clip-path=\"url(#clip772)\" cx=\"1443.79\" cy=\"698.773\" r=\"14\" fill=\"#009af9\" fill-rule=\"evenodd\" fill-opacity=\"1\" stroke=\"#000000\" stroke-opacity=\"1\" stroke-width=\"3.2\"/>\n",
       "<circle clip-path=\"url(#clip772)\" cx=\"1445.83\" cy=\"697.486\" r=\"14\" fill=\"#009af9\" fill-rule=\"evenodd\" fill-opacity=\"1\" stroke=\"#000000\" stroke-opacity=\"1\" stroke-width=\"3.2\"/>\n",
       "<circle clip-path=\"url(#clip772)\" cx=\"1447.86\" cy=\"696.199\" r=\"14\" fill=\"#009af9\" fill-rule=\"evenodd\" fill-opacity=\"1\" stroke=\"#000000\" stroke-opacity=\"1\" stroke-width=\"3.2\"/>\n",
       "<circle clip-path=\"url(#clip772)\" cx=\"1449.89\" cy=\"694.912\" r=\"14\" fill=\"#009af9\" fill-rule=\"evenodd\" fill-opacity=\"1\" stroke=\"#000000\" stroke-opacity=\"1\" stroke-width=\"3.2\"/>\n",
       "<circle clip-path=\"url(#clip772)\" cx=\"1451.93\" cy=\"693.625\" r=\"14\" fill=\"#009af9\" fill-rule=\"evenodd\" fill-opacity=\"1\" stroke=\"#000000\" stroke-opacity=\"1\" stroke-width=\"3.2\"/>\n",
       "<circle clip-path=\"url(#clip772)\" cx=\"1453.96\" cy=\"692.338\" r=\"14\" fill=\"#009af9\" fill-rule=\"evenodd\" fill-opacity=\"1\" stroke=\"#000000\" stroke-opacity=\"1\" stroke-width=\"3.2\"/>\n",
       "<circle clip-path=\"url(#clip772)\" cx=\"1455.99\" cy=\"691.05\" r=\"14\" fill=\"#009af9\" fill-rule=\"evenodd\" fill-opacity=\"1\" stroke=\"#000000\" stroke-opacity=\"1\" stroke-width=\"3.2\"/>\n",
       "<circle clip-path=\"url(#clip772)\" cx=\"1458.03\" cy=\"689.763\" r=\"14\" fill=\"#009af9\" fill-rule=\"evenodd\" fill-opacity=\"1\" stroke=\"#000000\" stroke-opacity=\"1\" stroke-width=\"3.2\"/>\n",
       "<circle clip-path=\"url(#clip772)\" cx=\"1460.06\" cy=\"688.476\" r=\"14\" fill=\"#009af9\" fill-rule=\"evenodd\" fill-opacity=\"1\" stroke=\"#000000\" stroke-opacity=\"1\" stroke-width=\"3.2\"/>\n",
       "<circle clip-path=\"url(#clip772)\" cx=\"1462.1\" cy=\"687.189\" r=\"14\" fill=\"#009af9\" fill-rule=\"evenodd\" fill-opacity=\"1\" stroke=\"#000000\" stroke-opacity=\"1\" stroke-width=\"3.2\"/>\n",
       "<circle clip-path=\"url(#clip772)\" cx=\"1464.13\" cy=\"685.902\" r=\"14\" fill=\"#009af9\" fill-rule=\"evenodd\" fill-opacity=\"1\" stroke=\"#000000\" stroke-opacity=\"1\" stroke-width=\"3.2\"/>\n",
       "<circle clip-path=\"url(#clip772)\" cx=\"1466.16\" cy=\"684.615\" r=\"14\" fill=\"#009af9\" fill-rule=\"evenodd\" fill-opacity=\"1\" stroke=\"#000000\" stroke-opacity=\"1\" stroke-width=\"3.2\"/>\n",
       "<circle clip-path=\"url(#clip772)\" cx=\"1468.2\" cy=\"683.328\" r=\"14\" fill=\"#009af9\" fill-rule=\"evenodd\" fill-opacity=\"1\" stroke=\"#000000\" stroke-opacity=\"1\" stroke-width=\"3.2\"/>\n",
       "<circle clip-path=\"url(#clip772)\" cx=\"1470.23\" cy=\"682.041\" r=\"14\" fill=\"#009af9\" fill-rule=\"evenodd\" fill-opacity=\"1\" stroke=\"#000000\" stroke-opacity=\"1\" stroke-width=\"3.2\"/>\n",
       "<circle clip-path=\"url(#clip772)\" cx=\"1472.26\" cy=\"680.754\" r=\"14\" fill=\"#009af9\" fill-rule=\"evenodd\" fill-opacity=\"1\" stroke=\"#000000\" stroke-opacity=\"1\" stroke-width=\"3.2\"/>\n",
       "<circle clip-path=\"url(#clip772)\" cx=\"1474.3\" cy=\"679.466\" r=\"14\" fill=\"#009af9\" fill-rule=\"evenodd\" fill-opacity=\"1\" stroke=\"#000000\" stroke-opacity=\"1\" stroke-width=\"3.2\"/>\n",
       "<circle clip-path=\"url(#clip772)\" cx=\"1476.33\" cy=\"678.179\" r=\"14\" fill=\"#009af9\" fill-rule=\"evenodd\" fill-opacity=\"1\" stroke=\"#000000\" stroke-opacity=\"1\" stroke-width=\"3.2\"/>\n",
       "<circle clip-path=\"url(#clip772)\" cx=\"1478.36\" cy=\"676.892\" r=\"14\" fill=\"#009af9\" fill-rule=\"evenodd\" fill-opacity=\"1\" stroke=\"#000000\" stroke-opacity=\"1\" stroke-width=\"3.2\"/>\n",
       "<circle clip-path=\"url(#clip772)\" cx=\"1480.4\" cy=\"675.605\" r=\"14\" fill=\"#009af9\" fill-rule=\"evenodd\" fill-opacity=\"1\" stroke=\"#000000\" stroke-opacity=\"1\" stroke-width=\"3.2\"/>\n",
       "<circle clip-path=\"url(#clip772)\" cx=\"1482.43\" cy=\"674.318\" r=\"14\" fill=\"#009af9\" fill-rule=\"evenodd\" fill-opacity=\"1\" stroke=\"#000000\" stroke-opacity=\"1\" stroke-width=\"3.2\"/>\n",
       "<circle clip-path=\"url(#clip772)\" cx=\"1484.46\" cy=\"673.031\" r=\"14\" fill=\"#009af9\" fill-rule=\"evenodd\" fill-opacity=\"1\" stroke=\"#000000\" stroke-opacity=\"1\" stroke-width=\"3.2\"/>\n",
       "<circle clip-path=\"url(#clip772)\" cx=\"1486.5\" cy=\"671.744\" r=\"14\" fill=\"#009af9\" fill-rule=\"evenodd\" fill-opacity=\"1\" stroke=\"#000000\" stroke-opacity=\"1\" stroke-width=\"3.2\"/>\n",
       "<circle clip-path=\"url(#clip772)\" cx=\"1488.53\" cy=\"670.457\" r=\"14\" fill=\"#009af9\" fill-rule=\"evenodd\" fill-opacity=\"1\" stroke=\"#000000\" stroke-opacity=\"1\" stroke-width=\"3.2\"/>\n",
       "<circle clip-path=\"url(#clip772)\" cx=\"1490.57\" cy=\"669.17\" r=\"14\" fill=\"#009af9\" fill-rule=\"evenodd\" fill-opacity=\"1\" stroke=\"#000000\" stroke-opacity=\"1\" stroke-width=\"3.2\"/>\n",
       "<circle clip-path=\"url(#clip772)\" cx=\"1492.6\" cy=\"667.882\" r=\"14\" fill=\"#009af9\" fill-rule=\"evenodd\" fill-opacity=\"1\" stroke=\"#000000\" stroke-opacity=\"1\" stroke-width=\"3.2\"/>\n",
       "<circle clip-path=\"url(#clip772)\" cx=\"1494.63\" cy=\"666.595\" r=\"14\" fill=\"#009af9\" fill-rule=\"evenodd\" fill-opacity=\"1\" stroke=\"#000000\" stroke-opacity=\"1\" stroke-width=\"3.2\"/>\n",
       "<circle clip-path=\"url(#clip772)\" cx=\"1496.67\" cy=\"665.308\" r=\"14\" fill=\"#009af9\" fill-rule=\"evenodd\" fill-opacity=\"1\" stroke=\"#000000\" stroke-opacity=\"1\" stroke-width=\"3.2\"/>\n",
       "<circle clip-path=\"url(#clip772)\" cx=\"1498.7\" cy=\"664.021\" r=\"14\" fill=\"#009af9\" fill-rule=\"evenodd\" fill-opacity=\"1\" stroke=\"#000000\" stroke-opacity=\"1\" stroke-width=\"3.2\"/>\n",
       "<circle clip-path=\"url(#clip772)\" cx=\"1500.73\" cy=\"662.734\" r=\"14\" fill=\"#009af9\" fill-rule=\"evenodd\" fill-opacity=\"1\" stroke=\"#000000\" stroke-opacity=\"1\" stroke-width=\"3.2\"/>\n",
       "<circle clip-path=\"url(#clip772)\" cx=\"1502.77\" cy=\"661.447\" r=\"14\" fill=\"#009af9\" fill-rule=\"evenodd\" fill-opacity=\"1\" stroke=\"#000000\" stroke-opacity=\"1\" stroke-width=\"3.2\"/>\n",
       "<circle clip-path=\"url(#clip772)\" cx=\"1504.8\" cy=\"660.16\" r=\"14\" fill=\"#009af9\" fill-rule=\"evenodd\" fill-opacity=\"1\" stroke=\"#000000\" stroke-opacity=\"1\" stroke-width=\"3.2\"/>\n",
       "<circle clip-path=\"url(#clip772)\" cx=\"1506.83\" cy=\"658.873\" r=\"14\" fill=\"#009af9\" fill-rule=\"evenodd\" fill-opacity=\"1\" stroke=\"#000000\" stroke-opacity=\"1\" stroke-width=\"3.2\"/>\n",
       "<circle clip-path=\"url(#clip772)\" cx=\"1508.87\" cy=\"657.586\" r=\"14\" fill=\"#009af9\" fill-rule=\"evenodd\" fill-opacity=\"1\" stroke=\"#000000\" stroke-opacity=\"1\" stroke-width=\"3.2\"/>\n",
       "<circle clip-path=\"url(#clip772)\" cx=\"1510.9\" cy=\"656.298\" r=\"14\" fill=\"#009af9\" fill-rule=\"evenodd\" fill-opacity=\"1\" stroke=\"#000000\" stroke-opacity=\"1\" stroke-width=\"3.2\"/>\n",
       "<circle clip-path=\"url(#clip772)\" cx=\"1512.94\" cy=\"655.011\" r=\"14\" fill=\"#009af9\" fill-rule=\"evenodd\" fill-opacity=\"1\" stroke=\"#000000\" stroke-opacity=\"1\" stroke-width=\"3.2\"/>\n",
       "<circle clip-path=\"url(#clip772)\" cx=\"1514.97\" cy=\"653.724\" r=\"14\" fill=\"#009af9\" fill-rule=\"evenodd\" fill-opacity=\"1\" stroke=\"#000000\" stroke-opacity=\"1\" stroke-width=\"3.2\"/>\n",
       "<circle clip-path=\"url(#clip772)\" cx=\"1517\" cy=\"652.437\" r=\"14\" fill=\"#009af9\" fill-rule=\"evenodd\" fill-opacity=\"1\" stroke=\"#000000\" stroke-opacity=\"1\" stroke-width=\"3.2\"/>\n",
       "<circle clip-path=\"url(#clip772)\" cx=\"1519.04\" cy=\"651.15\" r=\"14\" fill=\"#009af9\" fill-rule=\"evenodd\" fill-opacity=\"1\" stroke=\"#000000\" stroke-opacity=\"1\" stroke-width=\"3.2\"/>\n",
       "<circle clip-path=\"url(#clip772)\" cx=\"1521.07\" cy=\"649.863\" r=\"14\" fill=\"#009af9\" fill-rule=\"evenodd\" fill-opacity=\"1\" stroke=\"#000000\" stroke-opacity=\"1\" stroke-width=\"3.2\"/>\n",
       "<circle clip-path=\"url(#clip772)\" cx=\"1523.1\" cy=\"648.576\" r=\"14\" fill=\"#009af9\" fill-rule=\"evenodd\" fill-opacity=\"1\" stroke=\"#000000\" stroke-opacity=\"1\" stroke-width=\"3.2\"/>\n",
       "<circle clip-path=\"url(#clip772)\" cx=\"1525.14\" cy=\"647.289\" r=\"14\" fill=\"#009af9\" fill-rule=\"evenodd\" fill-opacity=\"1\" stroke=\"#000000\" stroke-opacity=\"1\" stroke-width=\"3.2\"/>\n",
       "<circle clip-path=\"url(#clip772)\" cx=\"1527.17\" cy=\"646.002\" r=\"14\" fill=\"#009af9\" fill-rule=\"evenodd\" fill-opacity=\"1\" stroke=\"#000000\" stroke-opacity=\"1\" stroke-width=\"3.2\"/>\n",
       "<circle clip-path=\"url(#clip772)\" cx=\"1529.2\" cy=\"644.714\" r=\"14\" fill=\"#009af9\" fill-rule=\"evenodd\" fill-opacity=\"1\" stroke=\"#000000\" stroke-opacity=\"1\" stroke-width=\"3.2\"/>\n",
       "<circle clip-path=\"url(#clip772)\" cx=\"1531.24\" cy=\"643.427\" r=\"14\" fill=\"#009af9\" fill-rule=\"evenodd\" fill-opacity=\"1\" stroke=\"#000000\" stroke-opacity=\"1\" stroke-width=\"3.2\"/>\n",
       "<circle clip-path=\"url(#clip772)\" cx=\"1533.27\" cy=\"642.14\" r=\"14\" fill=\"#009af9\" fill-rule=\"evenodd\" fill-opacity=\"1\" stroke=\"#000000\" stroke-opacity=\"1\" stroke-width=\"3.2\"/>\n",
       "<circle clip-path=\"url(#clip772)\" cx=\"1535.31\" cy=\"640.853\" r=\"14\" fill=\"#009af9\" fill-rule=\"evenodd\" fill-opacity=\"1\" stroke=\"#000000\" stroke-opacity=\"1\" stroke-width=\"3.2\"/>\n",
       "<circle clip-path=\"url(#clip772)\" cx=\"1537.34\" cy=\"639.566\" r=\"14\" fill=\"#009af9\" fill-rule=\"evenodd\" fill-opacity=\"1\" stroke=\"#000000\" stroke-opacity=\"1\" stroke-width=\"3.2\"/>\n",
       "<circle clip-path=\"url(#clip772)\" cx=\"1539.37\" cy=\"638.279\" r=\"14\" fill=\"#009af9\" fill-rule=\"evenodd\" fill-opacity=\"1\" stroke=\"#000000\" stroke-opacity=\"1\" stroke-width=\"3.2\"/>\n",
       "<circle clip-path=\"url(#clip772)\" cx=\"1541.41\" cy=\"636.992\" r=\"14\" fill=\"#009af9\" fill-rule=\"evenodd\" fill-opacity=\"1\" stroke=\"#000000\" stroke-opacity=\"1\" stroke-width=\"3.2\"/>\n",
       "<circle clip-path=\"url(#clip772)\" cx=\"1543.44\" cy=\"635.705\" r=\"14\" fill=\"#009af9\" fill-rule=\"evenodd\" fill-opacity=\"1\" stroke=\"#000000\" stroke-opacity=\"1\" stroke-width=\"3.2\"/>\n",
       "<circle clip-path=\"url(#clip772)\" cx=\"1545.47\" cy=\"634.417\" r=\"14\" fill=\"#009af9\" fill-rule=\"evenodd\" fill-opacity=\"1\" stroke=\"#000000\" stroke-opacity=\"1\" stroke-width=\"3.2\"/>\n",
       "<circle clip-path=\"url(#clip772)\" cx=\"1547.51\" cy=\"633.13\" r=\"14\" fill=\"#009af9\" fill-rule=\"evenodd\" fill-opacity=\"1\" stroke=\"#000000\" stroke-opacity=\"1\" stroke-width=\"3.2\"/>\n",
       "<circle clip-path=\"url(#clip772)\" cx=\"1549.54\" cy=\"631.843\" r=\"14\" fill=\"#009af9\" fill-rule=\"evenodd\" fill-opacity=\"1\" stroke=\"#000000\" stroke-opacity=\"1\" stroke-width=\"3.2\"/>\n",
       "<circle clip-path=\"url(#clip772)\" cx=\"1551.57\" cy=\"630.556\" r=\"14\" fill=\"#009af9\" fill-rule=\"evenodd\" fill-opacity=\"1\" stroke=\"#000000\" stroke-opacity=\"1\" stroke-width=\"3.2\"/>\n",
       "<circle clip-path=\"url(#clip772)\" cx=\"1553.61\" cy=\"629.269\" r=\"14\" fill=\"#009af9\" fill-rule=\"evenodd\" fill-opacity=\"1\" stroke=\"#000000\" stroke-opacity=\"1\" stroke-width=\"3.2\"/>\n",
       "<circle clip-path=\"url(#clip772)\" cx=\"1555.64\" cy=\"627.982\" r=\"14\" fill=\"#009af9\" fill-rule=\"evenodd\" fill-opacity=\"1\" stroke=\"#000000\" stroke-opacity=\"1\" stroke-width=\"3.2\"/>\n",
       "<circle clip-path=\"url(#clip772)\" cx=\"1557.67\" cy=\"626.695\" r=\"14\" fill=\"#009af9\" fill-rule=\"evenodd\" fill-opacity=\"1\" stroke=\"#000000\" stroke-opacity=\"1\" stroke-width=\"3.2\"/>\n",
       "<circle clip-path=\"url(#clip772)\" cx=\"1559.71\" cy=\"625.408\" r=\"14\" fill=\"#009af9\" fill-rule=\"evenodd\" fill-opacity=\"1\" stroke=\"#000000\" stroke-opacity=\"1\" stroke-width=\"3.2\"/>\n",
       "<circle clip-path=\"url(#clip772)\" cx=\"1561.74\" cy=\"624.121\" r=\"14\" fill=\"#009af9\" fill-rule=\"evenodd\" fill-opacity=\"1\" stroke=\"#000000\" stroke-opacity=\"1\" stroke-width=\"3.2\"/>\n",
       "<circle clip-path=\"url(#clip772)\" cx=\"1563.78\" cy=\"622.833\" r=\"14\" fill=\"#009af9\" fill-rule=\"evenodd\" fill-opacity=\"1\" stroke=\"#000000\" stroke-opacity=\"1\" stroke-width=\"3.2\"/>\n",
       "<circle clip-path=\"url(#clip772)\" cx=\"1565.81\" cy=\"621.546\" r=\"14\" fill=\"#009af9\" fill-rule=\"evenodd\" fill-opacity=\"1\" stroke=\"#000000\" stroke-opacity=\"1\" stroke-width=\"3.2\"/>\n",
       "<circle clip-path=\"url(#clip772)\" cx=\"1567.84\" cy=\"620.259\" r=\"14\" fill=\"#009af9\" fill-rule=\"evenodd\" fill-opacity=\"1\" stroke=\"#000000\" stroke-opacity=\"1\" stroke-width=\"3.2\"/>\n",
       "<circle clip-path=\"url(#clip772)\" cx=\"1569.88\" cy=\"618.972\" r=\"14\" fill=\"#009af9\" fill-rule=\"evenodd\" fill-opacity=\"1\" stroke=\"#000000\" stroke-opacity=\"1\" stroke-width=\"3.2\"/>\n",
       "<circle clip-path=\"url(#clip772)\" cx=\"1571.91\" cy=\"617.685\" r=\"14\" fill=\"#009af9\" fill-rule=\"evenodd\" fill-opacity=\"1\" stroke=\"#000000\" stroke-opacity=\"1\" stroke-width=\"3.2\"/>\n",
       "<circle clip-path=\"url(#clip772)\" cx=\"1573.94\" cy=\"616.398\" r=\"14\" fill=\"#009af9\" fill-rule=\"evenodd\" fill-opacity=\"1\" stroke=\"#000000\" stroke-opacity=\"1\" stroke-width=\"3.2\"/>\n",
       "<circle clip-path=\"url(#clip772)\" cx=\"1575.98\" cy=\"615.111\" r=\"14\" fill=\"#009af9\" fill-rule=\"evenodd\" fill-opacity=\"1\" stroke=\"#000000\" stroke-opacity=\"1\" stroke-width=\"3.2\"/>\n",
       "<circle clip-path=\"url(#clip772)\" cx=\"1578.01\" cy=\"613.824\" r=\"14\" fill=\"#009af9\" fill-rule=\"evenodd\" fill-opacity=\"1\" stroke=\"#000000\" stroke-opacity=\"1\" stroke-width=\"3.2\"/>\n",
       "<circle clip-path=\"url(#clip772)\" cx=\"1580.04\" cy=\"612.537\" r=\"14\" fill=\"#009af9\" fill-rule=\"evenodd\" fill-opacity=\"1\" stroke=\"#000000\" stroke-opacity=\"1\" stroke-width=\"3.2\"/>\n",
       "<circle clip-path=\"url(#clip772)\" cx=\"1582.08\" cy=\"611.249\" r=\"14\" fill=\"#009af9\" fill-rule=\"evenodd\" fill-opacity=\"1\" stroke=\"#000000\" stroke-opacity=\"1\" stroke-width=\"3.2\"/>\n",
       "<circle clip-path=\"url(#clip772)\" cx=\"1584.11\" cy=\"609.962\" r=\"14\" fill=\"#009af9\" fill-rule=\"evenodd\" fill-opacity=\"1\" stroke=\"#000000\" stroke-opacity=\"1\" stroke-width=\"3.2\"/>\n",
       "<circle clip-path=\"url(#clip772)\" cx=\"1586.15\" cy=\"608.675\" r=\"14\" fill=\"#009af9\" fill-rule=\"evenodd\" fill-opacity=\"1\" stroke=\"#000000\" stroke-opacity=\"1\" stroke-width=\"3.2\"/>\n",
       "<circle clip-path=\"url(#clip772)\" cx=\"1588.18\" cy=\"607.388\" r=\"14\" fill=\"#009af9\" fill-rule=\"evenodd\" fill-opacity=\"1\" stroke=\"#000000\" stroke-opacity=\"1\" stroke-width=\"3.2\"/>\n",
       "<circle clip-path=\"url(#clip772)\" cx=\"1590.21\" cy=\"606.101\" r=\"14\" fill=\"#009af9\" fill-rule=\"evenodd\" fill-opacity=\"1\" stroke=\"#000000\" stroke-opacity=\"1\" stroke-width=\"3.2\"/>\n",
       "<circle clip-path=\"url(#clip772)\" cx=\"1592.25\" cy=\"604.814\" r=\"14\" fill=\"#009af9\" fill-rule=\"evenodd\" fill-opacity=\"1\" stroke=\"#000000\" stroke-opacity=\"1\" stroke-width=\"3.2\"/>\n",
       "<circle clip-path=\"url(#clip772)\" cx=\"1594.28\" cy=\"603.527\" r=\"14\" fill=\"#009af9\" fill-rule=\"evenodd\" fill-opacity=\"1\" stroke=\"#000000\" stroke-opacity=\"1\" stroke-width=\"3.2\"/>\n",
       "<circle clip-path=\"url(#clip772)\" cx=\"1596.31\" cy=\"602.24\" r=\"14\" fill=\"#009af9\" fill-rule=\"evenodd\" fill-opacity=\"1\" stroke=\"#000000\" stroke-opacity=\"1\" stroke-width=\"3.2\"/>\n",
       "<circle clip-path=\"url(#clip772)\" cx=\"1598.35\" cy=\"600.953\" r=\"14\" fill=\"#009af9\" fill-rule=\"evenodd\" fill-opacity=\"1\" stroke=\"#000000\" stroke-opacity=\"1\" stroke-width=\"3.2\"/>\n",
       "<circle clip-path=\"url(#clip772)\" cx=\"1600.38\" cy=\"599.665\" r=\"14\" fill=\"#009af9\" fill-rule=\"evenodd\" fill-opacity=\"1\" stroke=\"#000000\" stroke-opacity=\"1\" stroke-width=\"3.2\"/>\n",
       "<circle clip-path=\"url(#clip772)\" cx=\"1602.41\" cy=\"598.378\" r=\"14\" fill=\"#009af9\" fill-rule=\"evenodd\" fill-opacity=\"1\" stroke=\"#000000\" stroke-opacity=\"1\" stroke-width=\"3.2\"/>\n",
       "<circle clip-path=\"url(#clip772)\" cx=\"1604.45\" cy=\"597.091\" r=\"14\" fill=\"#009af9\" fill-rule=\"evenodd\" fill-opacity=\"1\" stroke=\"#000000\" stroke-opacity=\"1\" stroke-width=\"3.2\"/>\n",
       "<circle clip-path=\"url(#clip772)\" cx=\"1606.48\" cy=\"595.804\" r=\"14\" fill=\"#009af9\" fill-rule=\"evenodd\" fill-opacity=\"1\" stroke=\"#000000\" stroke-opacity=\"1\" stroke-width=\"3.2\"/>\n",
       "<circle clip-path=\"url(#clip772)\" cx=\"1608.52\" cy=\"594.517\" r=\"14\" fill=\"#009af9\" fill-rule=\"evenodd\" fill-opacity=\"1\" stroke=\"#000000\" stroke-opacity=\"1\" stroke-width=\"3.2\"/>\n",
       "<circle clip-path=\"url(#clip772)\" cx=\"1610.55\" cy=\"593.23\" r=\"14\" fill=\"#009af9\" fill-rule=\"evenodd\" fill-opacity=\"1\" stroke=\"#000000\" stroke-opacity=\"1\" stroke-width=\"3.2\"/>\n",
       "<circle clip-path=\"url(#clip772)\" cx=\"1612.58\" cy=\"591.943\" r=\"14\" fill=\"#009af9\" fill-rule=\"evenodd\" fill-opacity=\"1\" stroke=\"#000000\" stroke-opacity=\"1\" stroke-width=\"3.2\"/>\n",
       "<circle clip-path=\"url(#clip772)\" cx=\"1614.62\" cy=\"590.656\" r=\"14\" fill=\"#009af9\" fill-rule=\"evenodd\" fill-opacity=\"1\" stroke=\"#000000\" stroke-opacity=\"1\" stroke-width=\"3.2\"/>\n",
       "<circle clip-path=\"url(#clip772)\" cx=\"1616.65\" cy=\"589.369\" r=\"14\" fill=\"#009af9\" fill-rule=\"evenodd\" fill-opacity=\"1\" stroke=\"#000000\" stroke-opacity=\"1\" stroke-width=\"3.2\"/>\n",
       "<circle clip-path=\"url(#clip772)\" cx=\"1618.68\" cy=\"588.081\" r=\"14\" fill=\"#009af9\" fill-rule=\"evenodd\" fill-opacity=\"1\" stroke=\"#000000\" stroke-opacity=\"1\" stroke-width=\"3.2\"/>\n",
       "<circle clip-path=\"url(#clip772)\" cx=\"1620.72\" cy=\"586.794\" r=\"14\" fill=\"#009af9\" fill-rule=\"evenodd\" fill-opacity=\"1\" stroke=\"#000000\" stroke-opacity=\"1\" stroke-width=\"3.2\"/>\n",
       "<circle clip-path=\"url(#clip772)\" cx=\"1622.75\" cy=\"585.507\" r=\"14\" fill=\"#009af9\" fill-rule=\"evenodd\" fill-opacity=\"1\" stroke=\"#000000\" stroke-opacity=\"1\" stroke-width=\"3.2\"/>\n",
       "<circle clip-path=\"url(#clip772)\" cx=\"1624.78\" cy=\"584.22\" r=\"14\" fill=\"#009af9\" fill-rule=\"evenodd\" fill-opacity=\"1\" stroke=\"#000000\" stroke-opacity=\"1\" stroke-width=\"3.2\"/>\n",
       "<circle clip-path=\"url(#clip772)\" cx=\"1626.82\" cy=\"582.933\" r=\"14\" fill=\"#009af9\" fill-rule=\"evenodd\" fill-opacity=\"1\" stroke=\"#000000\" stroke-opacity=\"1\" stroke-width=\"3.2\"/>\n",
       "<circle clip-path=\"url(#clip772)\" cx=\"1628.85\" cy=\"581.646\" r=\"14\" fill=\"#009af9\" fill-rule=\"evenodd\" fill-opacity=\"1\" stroke=\"#000000\" stroke-opacity=\"1\" stroke-width=\"3.2\"/>\n",
       "<circle clip-path=\"url(#clip772)\" cx=\"1630.88\" cy=\"580.359\" r=\"14\" fill=\"#009af9\" fill-rule=\"evenodd\" fill-opacity=\"1\" stroke=\"#000000\" stroke-opacity=\"1\" stroke-width=\"3.2\"/>\n",
       "<circle clip-path=\"url(#clip772)\" cx=\"1632.92\" cy=\"579.072\" r=\"14\" fill=\"#009af9\" fill-rule=\"evenodd\" fill-opacity=\"1\" stroke=\"#000000\" stroke-opacity=\"1\" stroke-width=\"3.2\"/>\n",
       "<circle clip-path=\"url(#clip772)\" cx=\"1634.95\" cy=\"577.785\" r=\"14\" fill=\"#009af9\" fill-rule=\"evenodd\" fill-opacity=\"1\" stroke=\"#000000\" stroke-opacity=\"1\" stroke-width=\"3.2\"/>\n",
       "<circle clip-path=\"url(#clip772)\" cx=\"1636.99\" cy=\"576.497\" r=\"14\" fill=\"#009af9\" fill-rule=\"evenodd\" fill-opacity=\"1\" stroke=\"#000000\" stroke-opacity=\"1\" stroke-width=\"3.2\"/>\n",
       "<circle clip-path=\"url(#clip772)\" cx=\"1639.02\" cy=\"575.21\" r=\"14\" fill=\"#009af9\" fill-rule=\"evenodd\" fill-opacity=\"1\" stroke=\"#000000\" stroke-opacity=\"1\" stroke-width=\"3.2\"/>\n",
       "<circle clip-path=\"url(#clip772)\" cx=\"1641.05\" cy=\"573.923\" r=\"14\" fill=\"#009af9\" fill-rule=\"evenodd\" fill-opacity=\"1\" stroke=\"#000000\" stroke-opacity=\"1\" stroke-width=\"3.2\"/>\n",
       "<circle clip-path=\"url(#clip772)\" cx=\"1643.09\" cy=\"572.636\" r=\"14\" fill=\"#009af9\" fill-rule=\"evenodd\" fill-opacity=\"1\" stroke=\"#000000\" stroke-opacity=\"1\" stroke-width=\"3.2\"/>\n",
       "<circle clip-path=\"url(#clip772)\" cx=\"1645.12\" cy=\"571.349\" r=\"14\" fill=\"#009af9\" fill-rule=\"evenodd\" fill-opacity=\"1\" stroke=\"#000000\" stroke-opacity=\"1\" stroke-width=\"3.2\"/>\n",
       "<circle clip-path=\"url(#clip772)\" cx=\"1647.15\" cy=\"570.062\" r=\"14\" fill=\"#009af9\" fill-rule=\"evenodd\" fill-opacity=\"1\" stroke=\"#000000\" stroke-opacity=\"1\" stroke-width=\"3.2\"/>\n",
       "<circle clip-path=\"url(#clip772)\" cx=\"1649.19\" cy=\"568.775\" r=\"14\" fill=\"#009af9\" fill-rule=\"evenodd\" fill-opacity=\"1\" stroke=\"#000000\" stroke-opacity=\"1\" stroke-width=\"3.2\"/>\n",
       "<circle clip-path=\"url(#clip772)\" cx=\"1651.22\" cy=\"567.488\" r=\"14\" fill=\"#009af9\" fill-rule=\"evenodd\" fill-opacity=\"1\" stroke=\"#000000\" stroke-opacity=\"1\" stroke-width=\"3.2\"/>\n",
       "<circle clip-path=\"url(#clip772)\" cx=\"1653.25\" cy=\"566.2\" r=\"14\" fill=\"#009af9\" fill-rule=\"evenodd\" fill-opacity=\"1\" stroke=\"#000000\" stroke-opacity=\"1\" stroke-width=\"3.2\"/>\n",
       "<circle clip-path=\"url(#clip772)\" cx=\"1655.29\" cy=\"564.913\" r=\"14\" fill=\"#009af9\" fill-rule=\"evenodd\" fill-opacity=\"1\" stroke=\"#000000\" stroke-opacity=\"1\" stroke-width=\"3.2\"/>\n",
       "<circle clip-path=\"url(#clip772)\" cx=\"1657.32\" cy=\"563.626\" r=\"14\" fill=\"#009af9\" fill-rule=\"evenodd\" fill-opacity=\"1\" stroke=\"#000000\" stroke-opacity=\"1\" stroke-width=\"3.2\"/>\n",
       "<circle clip-path=\"url(#clip772)\" cx=\"1659.36\" cy=\"562.339\" r=\"14\" fill=\"#009af9\" fill-rule=\"evenodd\" fill-opacity=\"1\" stroke=\"#000000\" stroke-opacity=\"1\" stroke-width=\"3.2\"/>\n",
       "<circle clip-path=\"url(#clip772)\" cx=\"1661.39\" cy=\"561.052\" r=\"14\" fill=\"#009af9\" fill-rule=\"evenodd\" fill-opacity=\"1\" stroke=\"#000000\" stroke-opacity=\"1\" stroke-width=\"3.2\"/>\n",
       "<circle clip-path=\"url(#clip772)\" cx=\"1663.42\" cy=\"559.765\" r=\"14\" fill=\"#009af9\" fill-rule=\"evenodd\" fill-opacity=\"1\" stroke=\"#000000\" stroke-opacity=\"1\" stroke-width=\"3.2\"/>\n",
       "<circle clip-path=\"url(#clip772)\" cx=\"1665.46\" cy=\"558.478\" r=\"14\" fill=\"#009af9\" fill-rule=\"evenodd\" fill-opacity=\"1\" stroke=\"#000000\" stroke-opacity=\"1\" stroke-width=\"3.2\"/>\n",
       "<circle clip-path=\"url(#clip772)\" cx=\"1667.49\" cy=\"557.191\" r=\"14\" fill=\"#009af9\" fill-rule=\"evenodd\" fill-opacity=\"1\" stroke=\"#000000\" stroke-opacity=\"1\" stroke-width=\"3.2\"/>\n",
       "<circle clip-path=\"url(#clip772)\" cx=\"1669.52\" cy=\"555.904\" r=\"14\" fill=\"#009af9\" fill-rule=\"evenodd\" fill-opacity=\"1\" stroke=\"#000000\" stroke-opacity=\"1\" stroke-width=\"3.2\"/>\n",
       "<circle clip-path=\"url(#clip772)\" cx=\"1671.56\" cy=\"554.616\" r=\"14\" fill=\"#009af9\" fill-rule=\"evenodd\" fill-opacity=\"1\" stroke=\"#000000\" stroke-opacity=\"1\" stroke-width=\"3.2\"/>\n",
       "<circle clip-path=\"url(#clip772)\" cx=\"1673.59\" cy=\"553.329\" r=\"14\" fill=\"#009af9\" fill-rule=\"evenodd\" fill-opacity=\"1\" stroke=\"#000000\" stroke-opacity=\"1\" stroke-width=\"3.2\"/>\n",
       "<circle clip-path=\"url(#clip772)\" cx=\"1675.62\" cy=\"552.042\" r=\"14\" fill=\"#009af9\" fill-rule=\"evenodd\" fill-opacity=\"1\" stroke=\"#000000\" stroke-opacity=\"1\" stroke-width=\"3.2\"/>\n",
       "<circle clip-path=\"url(#clip772)\" cx=\"1677.66\" cy=\"550.755\" r=\"14\" fill=\"#009af9\" fill-rule=\"evenodd\" fill-opacity=\"1\" stroke=\"#000000\" stroke-opacity=\"1\" stroke-width=\"3.2\"/>\n",
       "<circle clip-path=\"url(#clip772)\" cx=\"1679.69\" cy=\"549.468\" r=\"14\" fill=\"#009af9\" fill-rule=\"evenodd\" fill-opacity=\"1\" stroke=\"#000000\" stroke-opacity=\"1\" stroke-width=\"3.2\"/>\n",
       "<circle clip-path=\"url(#clip772)\" cx=\"1681.73\" cy=\"548.181\" r=\"14\" fill=\"#009af9\" fill-rule=\"evenodd\" fill-opacity=\"1\" stroke=\"#000000\" stroke-opacity=\"1\" stroke-width=\"3.2\"/>\n",
       "<circle clip-path=\"url(#clip772)\" cx=\"1683.76\" cy=\"546.894\" r=\"14\" fill=\"#009af9\" fill-rule=\"evenodd\" fill-opacity=\"1\" stroke=\"#000000\" stroke-opacity=\"1\" stroke-width=\"3.2\"/>\n",
       "<circle clip-path=\"url(#clip772)\" cx=\"1685.79\" cy=\"545.607\" r=\"14\" fill=\"#009af9\" fill-rule=\"evenodd\" fill-opacity=\"1\" stroke=\"#000000\" stroke-opacity=\"1\" stroke-width=\"3.2\"/>\n",
       "<circle clip-path=\"url(#clip772)\" cx=\"1687.83\" cy=\"544.32\" r=\"14\" fill=\"#009af9\" fill-rule=\"evenodd\" fill-opacity=\"1\" stroke=\"#000000\" stroke-opacity=\"1\" stroke-width=\"3.2\"/>\n",
       "<circle clip-path=\"url(#clip772)\" cx=\"1689.86\" cy=\"543.032\" r=\"14\" fill=\"#009af9\" fill-rule=\"evenodd\" fill-opacity=\"1\" stroke=\"#000000\" stroke-opacity=\"1\" stroke-width=\"3.2\"/>\n",
       "<circle clip-path=\"url(#clip772)\" cx=\"1691.89\" cy=\"541.745\" r=\"14\" fill=\"#009af9\" fill-rule=\"evenodd\" fill-opacity=\"1\" stroke=\"#000000\" stroke-opacity=\"1\" stroke-width=\"3.2\"/>\n",
       "<circle clip-path=\"url(#clip772)\" cx=\"1693.93\" cy=\"540.458\" r=\"14\" fill=\"#009af9\" fill-rule=\"evenodd\" fill-opacity=\"1\" stroke=\"#000000\" stroke-opacity=\"1\" stroke-width=\"3.2\"/>\n",
       "<circle clip-path=\"url(#clip772)\" cx=\"1695.96\" cy=\"539.171\" r=\"14\" fill=\"#009af9\" fill-rule=\"evenodd\" fill-opacity=\"1\" stroke=\"#000000\" stroke-opacity=\"1\" stroke-width=\"3.2\"/>\n",
       "<circle clip-path=\"url(#clip772)\" cx=\"1697.99\" cy=\"537.884\" r=\"14\" fill=\"#009af9\" fill-rule=\"evenodd\" fill-opacity=\"1\" stroke=\"#000000\" stroke-opacity=\"1\" stroke-width=\"3.2\"/>\n",
       "<circle clip-path=\"url(#clip772)\" cx=\"1700.03\" cy=\"536.597\" r=\"14\" fill=\"#009af9\" fill-rule=\"evenodd\" fill-opacity=\"1\" stroke=\"#000000\" stroke-opacity=\"1\" stroke-width=\"3.2\"/>\n",
       "<circle clip-path=\"url(#clip772)\" cx=\"1702.06\" cy=\"535.31\" r=\"14\" fill=\"#009af9\" fill-rule=\"evenodd\" fill-opacity=\"1\" stroke=\"#000000\" stroke-opacity=\"1\" stroke-width=\"3.2\"/>\n",
       "<circle clip-path=\"url(#clip772)\" cx=\"1704.09\" cy=\"534.023\" r=\"14\" fill=\"#009af9\" fill-rule=\"evenodd\" fill-opacity=\"1\" stroke=\"#000000\" stroke-opacity=\"1\" stroke-width=\"3.2\"/>\n",
       "<circle clip-path=\"url(#clip772)\" cx=\"1706.13\" cy=\"532.736\" r=\"14\" fill=\"#009af9\" fill-rule=\"evenodd\" fill-opacity=\"1\" stroke=\"#000000\" stroke-opacity=\"1\" stroke-width=\"3.2\"/>\n",
       "<circle clip-path=\"url(#clip772)\" cx=\"1708.16\" cy=\"531.448\" r=\"14\" fill=\"#009af9\" fill-rule=\"evenodd\" fill-opacity=\"1\" stroke=\"#000000\" stroke-opacity=\"1\" stroke-width=\"3.2\"/>\n",
       "<circle clip-path=\"url(#clip772)\" cx=\"1710.2\" cy=\"530.161\" r=\"14\" fill=\"#009af9\" fill-rule=\"evenodd\" fill-opacity=\"1\" stroke=\"#000000\" stroke-opacity=\"1\" stroke-width=\"3.2\"/>\n",
       "<circle clip-path=\"url(#clip772)\" cx=\"1712.23\" cy=\"528.874\" r=\"14\" fill=\"#009af9\" fill-rule=\"evenodd\" fill-opacity=\"1\" stroke=\"#000000\" stroke-opacity=\"1\" stroke-width=\"3.2\"/>\n",
       "<circle clip-path=\"url(#clip772)\" cx=\"1714.26\" cy=\"527.587\" r=\"14\" fill=\"#009af9\" fill-rule=\"evenodd\" fill-opacity=\"1\" stroke=\"#000000\" stroke-opacity=\"1\" stroke-width=\"3.2\"/>\n",
       "<circle clip-path=\"url(#clip772)\" cx=\"1716.3\" cy=\"526.3\" r=\"14\" fill=\"#009af9\" fill-rule=\"evenodd\" fill-opacity=\"1\" stroke=\"#000000\" stroke-opacity=\"1\" stroke-width=\"3.2\"/>\n",
       "<circle clip-path=\"url(#clip772)\" cx=\"1718.33\" cy=\"525.013\" r=\"14\" fill=\"#009af9\" fill-rule=\"evenodd\" fill-opacity=\"1\" stroke=\"#000000\" stroke-opacity=\"1\" stroke-width=\"3.2\"/>\n",
       "<circle clip-path=\"url(#clip772)\" cx=\"1720.36\" cy=\"523.726\" r=\"14\" fill=\"#009af9\" fill-rule=\"evenodd\" fill-opacity=\"1\" stroke=\"#000000\" stroke-opacity=\"1\" stroke-width=\"3.2\"/>\n",
       "<circle clip-path=\"url(#clip772)\" cx=\"1722.4\" cy=\"522.439\" r=\"14\" fill=\"#009af9\" fill-rule=\"evenodd\" fill-opacity=\"1\" stroke=\"#000000\" stroke-opacity=\"1\" stroke-width=\"3.2\"/>\n",
       "<circle clip-path=\"url(#clip772)\" cx=\"1724.43\" cy=\"521.152\" r=\"14\" fill=\"#009af9\" fill-rule=\"evenodd\" fill-opacity=\"1\" stroke=\"#000000\" stroke-opacity=\"1\" stroke-width=\"3.2\"/>\n",
       "<circle clip-path=\"url(#clip772)\" cx=\"1726.46\" cy=\"519.864\" r=\"14\" fill=\"#009af9\" fill-rule=\"evenodd\" fill-opacity=\"1\" stroke=\"#000000\" stroke-opacity=\"1\" stroke-width=\"3.2\"/>\n",
       "<circle clip-path=\"url(#clip772)\" cx=\"1728.5\" cy=\"518.577\" r=\"14\" fill=\"#009af9\" fill-rule=\"evenodd\" fill-opacity=\"1\" stroke=\"#000000\" stroke-opacity=\"1\" stroke-width=\"3.2\"/>\n",
       "<circle clip-path=\"url(#clip772)\" cx=\"1730.53\" cy=\"517.29\" r=\"14\" fill=\"#009af9\" fill-rule=\"evenodd\" fill-opacity=\"1\" stroke=\"#000000\" stroke-opacity=\"1\" stroke-width=\"3.2\"/>\n",
       "<circle clip-path=\"url(#clip772)\" cx=\"1732.57\" cy=\"516.003\" r=\"14\" fill=\"#009af9\" fill-rule=\"evenodd\" fill-opacity=\"1\" stroke=\"#000000\" stroke-opacity=\"1\" stroke-width=\"3.2\"/>\n",
       "<circle clip-path=\"url(#clip772)\" cx=\"1734.6\" cy=\"514.716\" r=\"14\" fill=\"#009af9\" fill-rule=\"evenodd\" fill-opacity=\"1\" stroke=\"#000000\" stroke-opacity=\"1\" stroke-width=\"3.2\"/>\n",
       "<circle clip-path=\"url(#clip772)\" cx=\"1736.63\" cy=\"513.429\" r=\"14\" fill=\"#009af9\" fill-rule=\"evenodd\" fill-opacity=\"1\" stroke=\"#000000\" stroke-opacity=\"1\" stroke-width=\"3.2\"/>\n",
       "<circle clip-path=\"url(#clip772)\" cx=\"1738.67\" cy=\"512.142\" r=\"14\" fill=\"#009af9\" fill-rule=\"evenodd\" fill-opacity=\"1\" stroke=\"#000000\" stroke-opacity=\"1\" stroke-width=\"3.2\"/>\n",
       "<circle clip-path=\"url(#clip772)\" cx=\"1740.7\" cy=\"510.855\" r=\"14\" fill=\"#009af9\" fill-rule=\"evenodd\" fill-opacity=\"1\" stroke=\"#000000\" stroke-opacity=\"1\" stroke-width=\"3.2\"/>\n",
       "<circle clip-path=\"url(#clip772)\" cx=\"1742.73\" cy=\"509.567\" r=\"14\" fill=\"#009af9\" fill-rule=\"evenodd\" fill-opacity=\"1\" stroke=\"#000000\" stroke-opacity=\"1\" stroke-width=\"3.2\"/>\n",
       "<circle clip-path=\"url(#clip772)\" cx=\"1744.77\" cy=\"508.28\" r=\"14\" fill=\"#009af9\" fill-rule=\"evenodd\" fill-opacity=\"1\" stroke=\"#000000\" stroke-opacity=\"1\" stroke-width=\"3.2\"/>\n",
       "<circle clip-path=\"url(#clip772)\" cx=\"1746.8\" cy=\"506.993\" r=\"14\" fill=\"#009af9\" fill-rule=\"evenodd\" fill-opacity=\"1\" stroke=\"#000000\" stroke-opacity=\"1\" stroke-width=\"3.2\"/>\n",
       "<circle clip-path=\"url(#clip772)\" cx=\"1748.83\" cy=\"505.706\" r=\"14\" fill=\"#009af9\" fill-rule=\"evenodd\" fill-opacity=\"1\" stroke=\"#000000\" stroke-opacity=\"1\" stroke-width=\"3.2\"/>\n",
       "<circle clip-path=\"url(#clip772)\" cx=\"1750.87\" cy=\"504.419\" r=\"14\" fill=\"#009af9\" fill-rule=\"evenodd\" fill-opacity=\"1\" stroke=\"#000000\" stroke-opacity=\"1\" stroke-width=\"3.2\"/>\n",
       "<circle clip-path=\"url(#clip772)\" cx=\"1752.9\" cy=\"503.132\" r=\"14\" fill=\"#009af9\" fill-rule=\"evenodd\" fill-opacity=\"1\" stroke=\"#000000\" stroke-opacity=\"1\" stroke-width=\"3.2\"/>\n",
       "<circle clip-path=\"url(#clip772)\" cx=\"1754.94\" cy=\"501.845\" r=\"14\" fill=\"#009af9\" fill-rule=\"evenodd\" fill-opacity=\"1\" stroke=\"#000000\" stroke-opacity=\"1\" stroke-width=\"3.2\"/>\n",
       "<circle clip-path=\"url(#clip772)\" cx=\"1756.97\" cy=\"500.558\" r=\"14\" fill=\"#009af9\" fill-rule=\"evenodd\" fill-opacity=\"1\" stroke=\"#000000\" stroke-opacity=\"1\" stroke-width=\"3.2\"/>\n",
       "<circle clip-path=\"url(#clip772)\" cx=\"1759\" cy=\"499.271\" r=\"14\" fill=\"#009af9\" fill-rule=\"evenodd\" fill-opacity=\"1\" stroke=\"#000000\" stroke-opacity=\"1\" stroke-width=\"3.2\"/>\n",
       "<circle clip-path=\"url(#clip772)\" cx=\"1761.04\" cy=\"497.983\" r=\"14\" fill=\"#009af9\" fill-rule=\"evenodd\" fill-opacity=\"1\" stroke=\"#000000\" stroke-opacity=\"1\" stroke-width=\"3.2\"/>\n",
       "<circle clip-path=\"url(#clip772)\" cx=\"1763.07\" cy=\"496.696\" r=\"14\" fill=\"#009af9\" fill-rule=\"evenodd\" fill-opacity=\"1\" stroke=\"#000000\" stroke-opacity=\"1\" stroke-width=\"3.2\"/>\n",
       "<circle clip-path=\"url(#clip772)\" cx=\"1765.1\" cy=\"495.409\" r=\"14\" fill=\"#009af9\" fill-rule=\"evenodd\" fill-opacity=\"1\" stroke=\"#000000\" stroke-opacity=\"1\" stroke-width=\"3.2\"/>\n",
       "<circle clip-path=\"url(#clip772)\" cx=\"1767.14\" cy=\"494.122\" r=\"14\" fill=\"#009af9\" fill-rule=\"evenodd\" fill-opacity=\"1\" stroke=\"#000000\" stroke-opacity=\"1\" stroke-width=\"3.2\"/>\n",
       "<circle clip-path=\"url(#clip772)\" cx=\"1769.17\" cy=\"492.835\" r=\"14\" fill=\"#009af9\" fill-rule=\"evenodd\" fill-opacity=\"1\" stroke=\"#000000\" stroke-opacity=\"1\" stroke-width=\"3.2\"/>\n",
       "<circle clip-path=\"url(#clip772)\" cx=\"1771.2\" cy=\"491.548\" r=\"14\" fill=\"#009af9\" fill-rule=\"evenodd\" fill-opacity=\"1\" stroke=\"#000000\" stroke-opacity=\"1\" stroke-width=\"3.2\"/>\n",
       "<circle clip-path=\"url(#clip772)\" cx=\"1773.24\" cy=\"490.261\" r=\"14\" fill=\"#009af9\" fill-rule=\"evenodd\" fill-opacity=\"1\" stroke=\"#000000\" stroke-opacity=\"1\" stroke-width=\"3.2\"/>\n",
       "<circle clip-path=\"url(#clip772)\" cx=\"1775.27\" cy=\"488.974\" r=\"14\" fill=\"#009af9\" fill-rule=\"evenodd\" fill-opacity=\"1\" stroke=\"#000000\" stroke-opacity=\"1\" stroke-width=\"3.2\"/>\n",
       "<circle clip-path=\"url(#clip772)\" cx=\"1777.3\" cy=\"487.687\" r=\"14\" fill=\"#009af9\" fill-rule=\"evenodd\" fill-opacity=\"1\" stroke=\"#000000\" stroke-opacity=\"1\" stroke-width=\"3.2\"/>\n",
       "<circle clip-path=\"url(#clip772)\" cx=\"1779.34\" cy=\"486.399\" r=\"14\" fill=\"#009af9\" fill-rule=\"evenodd\" fill-opacity=\"1\" stroke=\"#000000\" stroke-opacity=\"1\" stroke-width=\"3.2\"/>\n",
       "<circle clip-path=\"url(#clip772)\" cx=\"1781.37\" cy=\"485.112\" r=\"14\" fill=\"#009af9\" fill-rule=\"evenodd\" fill-opacity=\"1\" stroke=\"#000000\" stroke-opacity=\"1\" stroke-width=\"3.2\"/>\n",
       "<circle clip-path=\"url(#clip772)\" cx=\"1783.41\" cy=\"483.825\" r=\"14\" fill=\"#009af9\" fill-rule=\"evenodd\" fill-opacity=\"1\" stroke=\"#000000\" stroke-opacity=\"1\" stroke-width=\"3.2\"/>\n",
       "<circle clip-path=\"url(#clip772)\" cx=\"1785.44\" cy=\"482.538\" r=\"14\" fill=\"#009af9\" fill-rule=\"evenodd\" fill-opacity=\"1\" stroke=\"#000000\" stroke-opacity=\"1\" stroke-width=\"3.2\"/>\n",
       "<circle clip-path=\"url(#clip772)\" cx=\"1787.47\" cy=\"481.251\" r=\"14\" fill=\"#009af9\" fill-rule=\"evenodd\" fill-opacity=\"1\" stroke=\"#000000\" stroke-opacity=\"1\" stroke-width=\"3.2\"/>\n",
       "<circle clip-path=\"url(#clip772)\" cx=\"1789.51\" cy=\"479.964\" r=\"14\" fill=\"#009af9\" fill-rule=\"evenodd\" fill-opacity=\"1\" stroke=\"#000000\" stroke-opacity=\"1\" stroke-width=\"3.2\"/>\n",
       "<circle clip-path=\"url(#clip772)\" cx=\"1791.54\" cy=\"478.677\" r=\"14\" fill=\"#009af9\" fill-rule=\"evenodd\" fill-opacity=\"1\" stroke=\"#000000\" stroke-opacity=\"1\" stroke-width=\"3.2\"/>\n",
       "<circle clip-path=\"url(#clip772)\" cx=\"1793.57\" cy=\"477.39\" r=\"14\" fill=\"#009af9\" fill-rule=\"evenodd\" fill-opacity=\"1\" stroke=\"#000000\" stroke-opacity=\"1\" stroke-width=\"3.2\"/>\n",
       "<circle clip-path=\"url(#clip772)\" cx=\"1795.61\" cy=\"476.103\" r=\"14\" fill=\"#009af9\" fill-rule=\"evenodd\" fill-opacity=\"1\" stroke=\"#000000\" stroke-opacity=\"1\" stroke-width=\"3.2\"/>\n",
       "<circle clip-path=\"url(#clip772)\" cx=\"1797.64\" cy=\"474.815\" r=\"14\" fill=\"#009af9\" fill-rule=\"evenodd\" fill-opacity=\"1\" stroke=\"#000000\" stroke-opacity=\"1\" stroke-width=\"3.2\"/>\n",
       "<circle clip-path=\"url(#clip772)\" cx=\"1799.67\" cy=\"473.528\" r=\"14\" fill=\"#009af9\" fill-rule=\"evenodd\" fill-opacity=\"1\" stroke=\"#000000\" stroke-opacity=\"1\" stroke-width=\"3.2\"/>\n",
       "<circle clip-path=\"url(#clip772)\" cx=\"1801.71\" cy=\"472.241\" r=\"14\" fill=\"#009af9\" fill-rule=\"evenodd\" fill-opacity=\"1\" stroke=\"#000000\" stroke-opacity=\"1\" stroke-width=\"3.2\"/>\n",
       "<circle clip-path=\"url(#clip772)\" cx=\"1803.74\" cy=\"470.954\" r=\"14\" fill=\"#009af9\" fill-rule=\"evenodd\" fill-opacity=\"1\" stroke=\"#000000\" stroke-opacity=\"1\" stroke-width=\"3.2\"/>\n",
       "<circle clip-path=\"url(#clip772)\" cx=\"1805.78\" cy=\"469.667\" r=\"14\" fill=\"#009af9\" fill-rule=\"evenodd\" fill-opacity=\"1\" stroke=\"#000000\" stroke-opacity=\"1\" stroke-width=\"3.2\"/>\n",
       "<circle clip-path=\"url(#clip772)\" cx=\"1807.81\" cy=\"468.38\" r=\"14\" fill=\"#009af9\" fill-rule=\"evenodd\" fill-opacity=\"1\" stroke=\"#000000\" stroke-opacity=\"1\" stroke-width=\"3.2\"/>\n",
       "<circle clip-path=\"url(#clip772)\" cx=\"1809.84\" cy=\"467.093\" r=\"14\" fill=\"#009af9\" fill-rule=\"evenodd\" fill-opacity=\"1\" stroke=\"#000000\" stroke-opacity=\"1\" stroke-width=\"3.2\"/>\n",
       "<circle clip-path=\"url(#clip772)\" cx=\"1811.88\" cy=\"465.806\" r=\"14\" fill=\"#009af9\" fill-rule=\"evenodd\" fill-opacity=\"1\" stroke=\"#000000\" stroke-opacity=\"1\" stroke-width=\"3.2\"/>\n",
       "<circle clip-path=\"url(#clip772)\" cx=\"1813.91\" cy=\"464.519\" r=\"14\" fill=\"#009af9\" fill-rule=\"evenodd\" fill-opacity=\"1\" stroke=\"#000000\" stroke-opacity=\"1\" stroke-width=\"3.2\"/>\n",
       "<circle clip-path=\"url(#clip772)\" cx=\"1815.94\" cy=\"463.231\" r=\"14\" fill=\"#009af9\" fill-rule=\"evenodd\" fill-opacity=\"1\" stroke=\"#000000\" stroke-opacity=\"1\" stroke-width=\"3.2\"/>\n",
       "<circle clip-path=\"url(#clip772)\" cx=\"1817.98\" cy=\"461.944\" r=\"14\" fill=\"#009af9\" fill-rule=\"evenodd\" fill-opacity=\"1\" stroke=\"#000000\" stroke-opacity=\"1\" stroke-width=\"3.2\"/>\n",
       "<circle clip-path=\"url(#clip772)\" cx=\"1820.01\" cy=\"460.657\" r=\"14\" fill=\"#009af9\" fill-rule=\"evenodd\" fill-opacity=\"1\" stroke=\"#000000\" stroke-opacity=\"1\" stroke-width=\"3.2\"/>\n",
       "<circle clip-path=\"url(#clip772)\" cx=\"1822.04\" cy=\"459.37\" r=\"14\" fill=\"#009af9\" fill-rule=\"evenodd\" fill-opacity=\"1\" stroke=\"#000000\" stroke-opacity=\"1\" stroke-width=\"3.2\"/>\n",
       "<circle clip-path=\"url(#clip772)\" cx=\"1824.08\" cy=\"458.083\" r=\"14\" fill=\"#009af9\" fill-rule=\"evenodd\" fill-opacity=\"1\" stroke=\"#000000\" stroke-opacity=\"1\" stroke-width=\"3.2\"/>\n",
       "<circle clip-path=\"url(#clip772)\" cx=\"1826.11\" cy=\"456.796\" r=\"14\" fill=\"#009af9\" fill-rule=\"evenodd\" fill-opacity=\"1\" stroke=\"#000000\" stroke-opacity=\"1\" stroke-width=\"3.2\"/>\n",
       "<circle clip-path=\"url(#clip772)\" cx=\"1828.15\" cy=\"455.509\" r=\"14\" fill=\"#009af9\" fill-rule=\"evenodd\" fill-opacity=\"1\" stroke=\"#000000\" stroke-opacity=\"1\" stroke-width=\"3.2\"/>\n",
       "<circle clip-path=\"url(#clip772)\" cx=\"1830.18\" cy=\"454.222\" r=\"14\" fill=\"#009af9\" fill-rule=\"evenodd\" fill-opacity=\"1\" stroke=\"#000000\" stroke-opacity=\"1\" stroke-width=\"3.2\"/>\n",
       "<circle clip-path=\"url(#clip772)\" cx=\"1832.21\" cy=\"452.935\" r=\"14\" fill=\"#009af9\" fill-rule=\"evenodd\" fill-opacity=\"1\" stroke=\"#000000\" stroke-opacity=\"1\" stroke-width=\"3.2\"/>\n",
       "<circle clip-path=\"url(#clip772)\" cx=\"1834.25\" cy=\"451.647\" r=\"14\" fill=\"#009af9\" fill-rule=\"evenodd\" fill-opacity=\"1\" stroke=\"#000000\" stroke-opacity=\"1\" stroke-width=\"3.2\"/>\n",
       "<circle clip-path=\"url(#clip772)\" cx=\"1836.28\" cy=\"450.36\" r=\"14\" fill=\"#009af9\" fill-rule=\"evenodd\" fill-opacity=\"1\" stroke=\"#000000\" stroke-opacity=\"1\" stroke-width=\"3.2\"/>\n",
       "<circle clip-path=\"url(#clip772)\" cx=\"1838.31\" cy=\"449.073\" r=\"14\" fill=\"#009af9\" fill-rule=\"evenodd\" fill-opacity=\"1\" stroke=\"#000000\" stroke-opacity=\"1\" stroke-width=\"3.2\"/>\n",
       "<circle clip-path=\"url(#clip772)\" cx=\"1840.35\" cy=\"447.786\" r=\"14\" fill=\"#009af9\" fill-rule=\"evenodd\" fill-opacity=\"1\" stroke=\"#000000\" stroke-opacity=\"1\" stroke-width=\"3.2\"/>\n",
       "<circle clip-path=\"url(#clip772)\" cx=\"1842.38\" cy=\"446.499\" r=\"14\" fill=\"#009af9\" fill-rule=\"evenodd\" fill-opacity=\"1\" stroke=\"#000000\" stroke-opacity=\"1\" stroke-width=\"3.2\"/>\n",
       "<circle clip-path=\"url(#clip772)\" cx=\"1844.41\" cy=\"445.212\" r=\"14\" fill=\"#009af9\" fill-rule=\"evenodd\" fill-opacity=\"1\" stroke=\"#000000\" stroke-opacity=\"1\" stroke-width=\"3.2\"/>\n",
       "<circle clip-path=\"url(#clip772)\" cx=\"1846.45\" cy=\"443.925\" r=\"14\" fill=\"#009af9\" fill-rule=\"evenodd\" fill-opacity=\"1\" stroke=\"#000000\" stroke-opacity=\"1\" stroke-width=\"3.2\"/>\n",
       "<circle clip-path=\"url(#clip772)\" cx=\"1848.48\" cy=\"442.638\" r=\"14\" fill=\"#009af9\" fill-rule=\"evenodd\" fill-opacity=\"1\" stroke=\"#000000\" stroke-opacity=\"1\" stroke-width=\"3.2\"/>\n",
       "<circle clip-path=\"url(#clip772)\" cx=\"1850.51\" cy=\"441.35\" r=\"14\" fill=\"#009af9\" fill-rule=\"evenodd\" fill-opacity=\"1\" stroke=\"#000000\" stroke-opacity=\"1\" stroke-width=\"3.2\"/>\n",
       "<circle clip-path=\"url(#clip772)\" cx=\"1852.55\" cy=\"440.063\" r=\"14\" fill=\"#009af9\" fill-rule=\"evenodd\" fill-opacity=\"1\" stroke=\"#000000\" stroke-opacity=\"1\" stroke-width=\"3.2\"/>\n",
       "<circle clip-path=\"url(#clip772)\" cx=\"1854.58\" cy=\"438.776\" r=\"14\" fill=\"#009af9\" fill-rule=\"evenodd\" fill-opacity=\"1\" stroke=\"#000000\" stroke-opacity=\"1\" stroke-width=\"3.2\"/>\n",
       "<circle clip-path=\"url(#clip772)\" cx=\"1856.62\" cy=\"437.489\" r=\"14\" fill=\"#009af9\" fill-rule=\"evenodd\" fill-opacity=\"1\" stroke=\"#000000\" stroke-opacity=\"1\" stroke-width=\"3.2\"/>\n",
       "<circle clip-path=\"url(#clip772)\" cx=\"1858.65\" cy=\"436.202\" r=\"14\" fill=\"#009af9\" fill-rule=\"evenodd\" fill-opacity=\"1\" stroke=\"#000000\" stroke-opacity=\"1\" stroke-width=\"3.2\"/>\n",
       "<circle clip-path=\"url(#clip772)\" cx=\"1860.68\" cy=\"434.915\" r=\"14\" fill=\"#009af9\" fill-rule=\"evenodd\" fill-opacity=\"1\" stroke=\"#000000\" stroke-opacity=\"1\" stroke-width=\"3.2\"/>\n",
       "<circle clip-path=\"url(#clip772)\" cx=\"1862.72\" cy=\"433.628\" r=\"14\" fill=\"#009af9\" fill-rule=\"evenodd\" fill-opacity=\"1\" stroke=\"#000000\" stroke-opacity=\"1\" stroke-width=\"3.2\"/>\n",
       "<circle clip-path=\"url(#clip772)\" cx=\"1864.75\" cy=\"432.341\" r=\"14\" fill=\"#009af9\" fill-rule=\"evenodd\" fill-opacity=\"1\" stroke=\"#000000\" stroke-opacity=\"1\" stroke-width=\"3.2\"/>\n",
       "<circle clip-path=\"url(#clip772)\" cx=\"1866.78\" cy=\"431.054\" r=\"14\" fill=\"#009af9\" fill-rule=\"evenodd\" fill-opacity=\"1\" stroke=\"#000000\" stroke-opacity=\"1\" stroke-width=\"3.2\"/>\n",
       "<circle clip-path=\"url(#clip772)\" cx=\"1868.82\" cy=\"429.766\" r=\"14\" fill=\"#009af9\" fill-rule=\"evenodd\" fill-opacity=\"1\" stroke=\"#000000\" stroke-opacity=\"1\" stroke-width=\"3.2\"/>\n",
       "<circle clip-path=\"url(#clip772)\" cx=\"1870.85\" cy=\"428.479\" r=\"14\" fill=\"#009af9\" fill-rule=\"evenodd\" fill-opacity=\"1\" stroke=\"#000000\" stroke-opacity=\"1\" stroke-width=\"3.2\"/>\n",
       "<circle clip-path=\"url(#clip772)\" cx=\"1872.88\" cy=\"427.192\" r=\"14\" fill=\"#009af9\" fill-rule=\"evenodd\" fill-opacity=\"1\" stroke=\"#000000\" stroke-opacity=\"1\" stroke-width=\"3.2\"/>\n",
       "<circle clip-path=\"url(#clip772)\" cx=\"1874.92\" cy=\"425.905\" r=\"14\" fill=\"#009af9\" fill-rule=\"evenodd\" fill-opacity=\"1\" stroke=\"#000000\" stroke-opacity=\"1\" stroke-width=\"3.2\"/>\n",
       "<circle clip-path=\"url(#clip772)\" cx=\"1876.95\" cy=\"424.618\" r=\"14\" fill=\"#009af9\" fill-rule=\"evenodd\" fill-opacity=\"1\" stroke=\"#000000\" stroke-opacity=\"1\" stroke-width=\"3.2\"/>\n",
       "<circle clip-path=\"url(#clip772)\" cx=\"1878.99\" cy=\"423.331\" r=\"14\" fill=\"#009af9\" fill-rule=\"evenodd\" fill-opacity=\"1\" stroke=\"#000000\" stroke-opacity=\"1\" stroke-width=\"3.2\"/>\n",
       "<circle clip-path=\"url(#clip772)\" cx=\"1881.02\" cy=\"422.044\" r=\"14\" fill=\"#009af9\" fill-rule=\"evenodd\" fill-opacity=\"1\" stroke=\"#000000\" stroke-opacity=\"1\" stroke-width=\"3.2\"/>\n",
       "<circle clip-path=\"url(#clip772)\" cx=\"1883.05\" cy=\"420.757\" r=\"14\" fill=\"#009af9\" fill-rule=\"evenodd\" fill-opacity=\"1\" stroke=\"#000000\" stroke-opacity=\"1\" stroke-width=\"3.2\"/>\n",
       "<circle clip-path=\"url(#clip772)\" cx=\"1885.09\" cy=\"419.47\" r=\"14\" fill=\"#009af9\" fill-rule=\"evenodd\" fill-opacity=\"1\" stroke=\"#000000\" stroke-opacity=\"1\" stroke-width=\"3.2\"/>\n",
       "<circle clip-path=\"url(#clip772)\" cx=\"1887.12\" cy=\"418.182\" r=\"14\" fill=\"#009af9\" fill-rule=\"evenodd\" fill-opacity=\"1\" stroke=\"#000000\" stroke-opacity=\"1\" stroke-width=\"3.2\"/>\n",
       "<circle clip-path=\"url(#clip772)\" cx=\"1889.15\" cy=\"416.895\" r=\"14\" fill=\"#009af9\" fill-rule=\"evenodd\" fill-opacity=\"1\" stroke=\"#000000\" stroke-opacity=\"1\" stroke-width=\"3.2\"/>\n",
       "<circle clip-path=\"url(#clip772)\" cx=\"1891.19\" cy=\"415.608\" r=\"14\" fill=\"#009af9\" fill-rule=\"evenodd\" fill-opacity=\"1\" stroke=\"#000000\" stroke-opacity=\"1\" stroke-width=\"3.2\"/>\n",
       "<circle clip-path=\"url(#clip772)\" cx=\"1893.22\" cy=\"414.321\" r=\"14\" fill=\"#009af9\" fill-rule=\"evenodd\" fill-opacity=\"1\" stroke=\"#000000\" stroke-opacity=\"1\" stroke-width=\"3.2\"/>\n",
       "<circle clip-path=\"url(#clip772)\" cx=\"1895.25\" cy=\"413.034\" r=\"14\" fill=\"#009af9\" fill-rule=\"evenodd\" fill-opacity=\"1\" stroke=\"#000000\" stroke-opacity=\"1\" stroke-width=\"3.2\"/>\n",
       "<circle clip-path=\"url(#clip772)\" cx=\"1897.29\" cy=\"411.747\" r=\"14\" fill=\"#009af9\" fill-rule=\"evenodd\" fill-opacity=\"1\" stroke=\"#000000\" stroke-opacity=\"1\" stroke-width=\"3.2\"/>\n",
       "<circle clip-path=\"url(#clip772)\" cx=\"1899.32\" cy=\"410.46\" r=\"14\" fill=\"#009af9\" fill-rule=\"evenodd\" fill-opacity=\"1\" stroke=\"#000000\" stroke-opacity=\"1\" stroke-width=\"3.2\"/>\n",
       "<circle clip-path=\"url(#clip772)\" cx=\"1901.36\" cy=\"409.173\" r=\"14\" fill=\"#009af9\" fill-rule=\"evenodd\" fill-opacity=\"1\" stroke=\"#000000\" stroke-opacity=\"1\" stroke-width=\"3.2\"/>\n",
       "<circle clip-path=\"url(#clip772)\" cx=\"1903.39\" cy=\"407.886\" r=\"14\" fill=\"#009af9\" fill-rule=\"evenodd\" fill-opacity=\"1\" stroke=\"#000000\" stroke-opacity=\"1\" stroke-width=\"3.2\"/>\n",
       "<circle clip-path=\"url(#clip772)\" cx=\"1905.42\" cy=\"406.598\" r=\"14\" fill=\"#009af9\" fill-rule=\"evenodd\" fill-opacity=\"1\" stroke=\"#000000\" stroke-opacity=\"1\" stroke-width=\"3.2\"/>\n",
       "<circle clip-path=\"url(#clip772)\" cx=\"1907.46\" cy=\"405.311\" r=\"14\" fill=\"#009af9\" fill-rule=\"evenodd\" fill-opacity=\"1\" stroke=\"#000000\" stroke-opacity=\"1\" stroke-width=\"3.2\"/>\n",
       "<circle clip-path=\"url(#clip772)\" cx=\"1909.49\" cy=\"404.024\" r=\"14\" fill=\"#009af9\" fill-rule=\"evenodd\" fill-opacity=\"1\" stroke=\"#000000\" stroke-opacity=\"1\" stroke-width=\"3.2\"/>\n",
       "<circle clip-path=\"url(#clip772)\" cx=\"1911.52\" cy=\"402.737\" r=\"14\" fill=\"#009af9\" fill-rule=\"evenodd\" fill-opacity=\"1\" stroke=\"#000000\" stroke-opacity=\"1\" stroke-width=\"3.2\"/>\n",
       "<circle clip-path=\"url(#clip772)\" cx=\"1913.56\" cy=\"401.45\" r=\"14\" fill=\"#009af9\" fill-rule=\"evenodd\" fill-opacity=\"1\" stroke=\"#000000\" stroke-opacity=\"1\" stroke-width=\"3.2\"/>\n",
       "<circle clip-path=\"url(#clip772)\" cx=\"1915.59\" cy=\"400.163\" r=\"14\" fill=\"#009af9\" fill-rule=\"evenodd\" fill-opacity=\"1\" stroke=\"#000000\" stroke-opacity=\"1\" stroke-width=\"3.2\"/>\n",
       "<circle clip-path=\"url(#clip772)\" cx=\"1917.62\" cy=\"398.876\" r=\"14\" fill=\"#009af9\" fill-rule=\"evenodd\" fill-opacity=\"1\" stroke=\"#000000\" stroke-opacity=\"1\" stroke-width=\"3.2\"/>\n",
       "<circle clip-path=\"url(#clip772)\" cx=\"1919.66\" cy=\"397.589\" r=\"14\" fill=\"#009af9\" fill-rule=\"evenodd\" fill-opacity=\"1\" stroke=\"#000000\" stroke-opacity=\"1\" stroke-width=\"3.2\"/>\n",
       "<circle clip-path=\"url(#clip772)\" cx=\"1921.69\" cy=\"396.302\" r=\"14\" fill=\"#009af9\" fill-rule=\"evenodd\" fill-opacity=\"1\" stroke=\"#000000\" stroke-opacity=\"1\" stroke-width=\"3.2\"/>\n",
       "<circle clip-path=\"url(#clip772)\" cx=\"1923.72\" cy=\"395.014\" r=\"14\" fill=\"#009af9\" fill-rule=\"evenodd\" fill-opacity=\"1\" stroke=\"#000000\" stroke-opacity=\"1\" stroke-width=\"3.2\"/>\n",
       "<circle clip-path=\"url(#clip772)\" cx=\"1925.76\" cy=\"393.727\" r=\"14\" fill=\"#009af9\" fill-rule=\"evenodd\" fill-opacity=\"1\" stroke=\"#000000\" stroke-opacity=\"1\" stroke-width=\"3.2\"/>\n",
       "<circle clip-path=\"url(#clip772)\" cx=\"1927.79\" cy=\"392.44\" r=\"14\" fill=\"#009af9\" fill-rule=\"evenodd\" fill-opacity=\"1\" stroke=\"#000000\" stroke-opacity=\"1\" stroke-width=\"3.2\"/>\n",
       "<circle clip-path=\"url(#clip772)\" cx=\"1929.83\" cy=\"391.153\" r=\"14\" fill=\"#009af9\" fill-rule=\"evenodd\" fill-opacity=\"1\" stroke=\"#000000\" stroke-opacity=\"1\" stroke-width=\"3.2\"/>\n",
       "<circle clip-path=\"url(#clip772)\" cx=\"1931.86\" cy=\"389.866\" r=\"14\" fill=\"#009af9\" fill-rule=\"evenodd\" fill-opacity=\"1\" stroke=\"#000000\" stroke-opacity=\"1\" stroke-width=\"3.2\"/>\n",
       "<circle clip-path=\"url(#clip772)\" cx=\"1933.89\" cy=\"388.579\" r=\"14\" fill=\"#009af9\" fill-rule=\"evenodd\" fill-opacity=\"1\" stroke=\"#000000\" stroke-opacity=\"1\" stroke-width=\"3.2\"/>\n",
       "<circle clip-path=\"url(#clip772)\" cx=\"1935.93\" cy=\"387.292\" r=\"14\" fill=\"#009af9\" fill-rule=\"evenodd\" fill-opacity=\"1\" stroke=\"#000000\" stroke-opacity=\"1\" stroke-width=\"3.2\"/>\n",
       "<circle clip-path=\"url(#clip772)\" cx=\"1937.96\" cy=\"386.005\" r=\"14\" fill=\"#009af9\" fill-rule=\"evenodd\" fill-opacity=\"1\" stroke=\"#000000\" stroke-opacity=\"1\" stroke-width=\"3.2\"/>\n",
       "<circle clip-path=\"url(#clip772)\" cx=\"1939.99\" cy=\"384.718\" r=\"14\" fill=\"#009af9\" fill-rule=\"evenodd\" fill-opacity=\"1\" stroke=\"#000000\" stroke-opacity=\"1\" stroke-width=\"3.2\"/>\n",
       "<circle clip-path=\"url(#clip772)\" cx=\"1942.03\" cy=\"383.43\" r=\"14\" fill=\"#009af9\" fill-rule=\"evenodd\" fill-opacity=\"1\" stroke=\"#000000\" stroke-opacity=\"1\" stroke-width=\"3.2\"/>\n",
       "<circle clip-path=\"url(#clip772)\" cx=\"1944.06\" cy=\"382.143\" r=\"14\" fill=\"#009af9\" fill-rule=\"evenodd\" fill-opacity=\"1\" stroke=\"#000000\" stroke-opacity=\"1\" stroke-width=\"3.2\"/>\n",
       "<circle clip-path=\"url(#clip772)\" cx=\"1946.09\" cy=\"380.856\" r=\"14\" fill=\"#009af9\" fill-rule=\"evenodd\" fill-opacity=\"1\" stroke=\"#000000\" stroke-opacity=\"1\" stroke-width=\"3.2\"/>\n",
       "<circle clip-path=\"url(#clip772)\" cx=\"1948.13\" cy=\"379.569\" r=\"14\" fill=\"#009af9\" fill-rule=\"evenodd\" fill-opacity=\"1\" stroke=\"#000000\" stroke-opacity=\"1\" stroke-width=\"3.2\"/>\n",
       "<circle clip-path=\"url(#clip772)\" cx=\"1950.16\" cy=\"378.282\" r=\"14\" fill=\"#009af9\" fill-rule=\"evenodd\" fill-opacity=\"1\" stroke=\"#000000\" stroke-opacity=\"1\" stroke-width=\"3.2\"/>\n",
       "<circle clip-path=\"url(#clip772)\" cx=\"1952.2\" cy=\"376.995\" r=\"14\" fill=\"#009af9\" fill-rule=\"evenodd\" fill-opacity=\"1\" stroke=\"#000000\" stroke-opacity=\"1\" stroke-width=\"3.2\"/>\n",
       "<circle clip-path=\"url(#clip772)\" cx=\"1954.23\" cy=\"375.708\" r=\"14\" fill=\"#009af9\" fill-rule=\"evenodd\" fill-opacity=\"1\" stroke=\"#000000\" stroke-opacity=\"1\" stroke-width=\"3.2\"/>\n",
       "<circle clip-path=\"url(#clip772)\" cx=\"1956.26\" cy=\"374.421\" r=\"14\" fill=\"#009af9\" fill-rule=\"evenodd\" fill-opacity=\"1\" stroke=\"#000000\" stroke-opacity=\"1\" stroke-width=\"3.2\"/>\n",
       "<circle clip-path=\"url(#clip772)\" cx=\"1958.3\" cy=\"373.133\" r=\"14\" fill=\"#009af9\" fill-rule=\"evenodd\" fill-opacity=\"1\" stroke=\"#000000\" stroke-opacity=\"1\" stroke-width=\"3.2\"/>\n",
       "<circle clip-path=\"url(#clip772)\" cx=\"1960.33\" cy=\"371.846\" r=\"14\" fill=\"#009af9\" fill-rule=\"evenodd\" fill-opacity=\"1\" stroke=\"#000000\" stroke-opacity=\"1\" stroke-width=\"3.2\"/>\n",
       "<circle clip-path=\"url(#clip772)\" cx=\"1962.36\" cy=\"370.559\" r=\"14\" fill=\"#009af9\" fill-rule=\"evenodd\" fill-opacity=\"1\" stroke=\"#000000\" stroke-opacity=\"1\" stroke-width=\"3.2\"/>\n",
       "<circle clip-path=\"url(#clip772)\" cx=\"1964.4\" cy=\"369.272\" r=\"14\" fill=\"#009af9\" fill-rule=\"evenodd\" fill-opacity=\"1\" stroke=\"#000000\" stroke-opacity=\"1\" stroke-width=\"3.2\"/>\n",
       "<circle clip-path=\"url(#clip772)\" cx=\"1966.43\" cy=\"367.985\" r=\"14\" fill=\"#009af9\" fill-rule=\"evenodd\" fill-opacity=\"1\" stroke=\"#000000\" stroke-opacity=\"1\" stroke-width=\"3.2\"/>\n",
       "<circle clip-path=\"url(#clip772)\" cx=\"1968.46\" cy=\"366.698\" r=\"14\" fill=\"#009af9\" fill-rule=\"evenodd\" fill-opacity=\"1\" stroke=\"#000000\" stroke-opacity=\"1\" stroke-width=\"3.2\"/>\n",
       "<circle clip-path=\"url(#clip772)\" cx=\"1970.5\" cy=\"365.411\" r=\"14\" fill=\"#009af9\" fill-rule=\"evenodd\" fill-opacity=\"1\" stroke=\"#000000\" stroke-opacity=\"1\" stroke-width=\"3.2\"/>\n",
       "<circle clip-path=\"url(#clip772)\" cx=\"1972.53\" cy=\"364.124\" r=\"14\" fill=\"#009af9\" fill-rule=\"evenodd\" fill-opacity=\"1\" stroke=\"#000000\" stroke-opacity=\"1\" stroke-width=\"3.2\"/>\n",
       "<circle clip-path=\"url(#clip772)\" cx=\"1974.57\" cy=\"362.837\" r=\"14\" fill=\"#009af9\" fill-rule=\"evenodd\" fill-opacity=\"1\" stroke=\"#000000\" stroke-opacity=\"1\" stroke-width=\"3.2\"/>\n",
       "<circle clip-path=\"url(#clip772)\" cx=\"1976.6\" cy=\"361.549\" r=\"14\" fill=\"#009af9\" fill-rule=\"evenodd\" fill-opacity=\"1\" stroke=\"#000000\" stroke-opacity=\"1\" stroke-width=\"3.2\"/>\n",
       "<circle clip-path=\"url(#clip772)\" cx=\"1978.63\" cy=\"360.262\" r=\"14\" fill=\"#009af9\" fill-rule=\"evenodd\" fill-opacity=\"1\" stroke=\"#000000\" stroke-opacity=\"1\" stroke-width=\"3.2\"/>\n",
       "<circle clip-path=\"url(#clip772)\" cx=\"1980.67\" cy=\"358.975\" r=\"14\" fill=\"#009af9\" fill-rule=\"evenodd\" fill-opacity=\"1\" stroke=\"#000000\" stroke-opacity=\"1\" stroke-width=\"3.2\"/>\n",
       "<circle clip-path=\"url(#clip772)\" cx=\"1982.7\" cy=\"357.688\" r=\"14\" fill=\"#009af9\" fill-rule=\"evenodd\" fill-opacity=\"1\" stroke=\"#000000\" stroke-opacity=\"1\" stroke-width=\"3.2\"/>\n",
       "<circle clip-path=\"url(#clip772)\" cx=\"1984.73\" cy=\"356.401\" r=\"14\" fill=\"#009af9\" fill-rule=\"evenodd\" fill-opacity=\"1\" stroke=\"#000000\" stroke-opacity=\"1\" stroke-width=\"3.2\"/>\n",
       "<circle clip-path=\"url(#clip772)\" cx=\"1986.77\" cy=\"355.114\" r=\"14\" fill=\"#009af9\" fill-rule=\"evenodd\" fill-opacity=\"1\" stroke=\"#000000\" stroke-opacity=\"1\" stroke-width=\"3.2\"/>\n",
       "<circle clip-path=\"url(#clip772)\" cx=\"1988.8\" cy=\"353.827\" r=\"14\" fill=\"#009af9\" fill-rule=\"evenodd\" fill-opacity=\"1\" stroke=\"#000000\" stroke-opacity=\"1\" stroke-width=\"3.2\"/>\n",
       "<circle clip-path=\"url(#clip772)\" cx=\"1990.83\" cy=\"352.54\" r=\"14\" fill=\"#009af9\" fill-rule=\"evenodd\" fill-opacity=\"1\" stroke=\"#000000\" stroke-opacity=\"1\" stroke-width=\"3.2\"/>\n",
       "<circle clip-path=\"url(#clip772)\" cx=\"1992.87\" cy=\"351.253\" r=\"14\" fill=\"#009af9\" fill-rule=\"evenodd\" fill-opacity=\"1\" stroke=\"#000000\" stroke-opacity=\"1\" stroke-width=\"3.2\"/>\n",
       "<circle clip-path=\"url(#clip772)\" cx=\"1994.9\" cy=\"349.965\" r=\"14\" fill=\"#009af9\" fill-rule=\"evenodd\" fill-opacity=\"1\" stroke=\"#000000\" stroke-opacity=\"1\" stroke-width=\"3.2\"/>\n",
       "<circle clip-path=\"url(#clip772)\" cx=\"1996.93\" cy=\"348.678\" r=\"14\" fill=\"#009af9\" fill-rule=\"evenodd\" fill-opacity=\"1\" stroke=\"#000000\" stroke-opacity=\"1\" stroke-width=\"3.2\"/>\n",
       "<circle clip-path=\"url(#clip772)\" cx=\"1998.97\" cy=\"347.391\" r=\"14\" fill=\"#009af9\" fill-rule=\"evenodd\" fill-opacity=\"1\" stroke=\"#000000\" stroke-opacity=\"1\" stroke-width=\"3.2\"/>\n",
       "<circle clip-path=\"url(#clip772)\" cx=\"2001\" cy=\"346.104\" r=\"14\" fill=\"#009af9\" fill-rule=\"evenodd\" fill-opacity=\"1\" stroke=\"#000000\" stroke-opacity=\"1\" stroke-width=\"3.2\"/>\n",
       "<circle clip-path=\"url(#clip772)\" cx=\"2003.04\" cy=\"344.817\" r=\"14\" fill=\"#009af9\" fill-rule=\"evenodd\" fill-opacity=\"1\" stroke=\"#000000\" stroke-opacity=\"1\" stroke-width=\"3.2\"/>\n",
       "<circle clip-path=\"url(#clip772)\" cx=\"2005.07\" cy=\"343.53\" r=\"14\" fill=\"#009af9\" fill-rule=\"evenodd\" fill-opacity=\"1\" stroke=\"#000000\" stroke-opacity=\"1\" stroke-width=\"3.2\"/>\n",
       "<circle clip-path=\"url(#clip772)\" cx=\"2007.1\" cy=\"342.243\" r=\"14\" fill=\"#009af9\" fill-rule=\"evenodd\" fill-opacity=\"1\" stroke=\"#000000\" stroke-opacity=\"1\" stroke-width=\"3.2\"/>\n",
       "<circle clip-path=\"url(#clip772)\" cx=\"2009.14\" cy=\"340.956\" r=\"14\" fill=\"#009af9\" fill-rule=\"evenodd\" fill-opacity=\"1\" stroke=\"#000000\" stroke-opacity=\"1\" stroke-width=\"3.2\"/>\n",
       "<circle clip-path=\"url(#clip772)\" cx=\"2011.17\" cy=\"339.669\" r=\"14\" fill=\"#009af9\" fill-rule=\"evenodd\" fill-opacity=\"1\" stroke=\"#000000\" stroke-opacity=\"1\" stroke-width=\"3.2\"/>\n",
       "<circle clip-path=\"url(#clip772)\" cx=\"2013.2\" cy=\"338.381\" r=\"14\" fill=\"#009af9\" fill-rule=\"evenodd\" fill-opacity=\"1\" stroke=\"#000000\" stroke-opacity=\"1\" stroke-width=\"3.2\"/>\n",
       "<circle clip-path=\"url(#clip772)\" cx=\"2015.24\" cy=\"337.094\" r=\"14\" fill=\"#009af9\" fill-rule=\"evenodd\" fill-opacity=\"1\" stroke=\"#000000\" stroke-opacity=\"1\" stroke-width=\"3.2\"/>\n",
       "<circle clip-path=\"url(#clip772)\" cx=\"2017.27\" cy=\"335.807\" r=\"14\" fill=\"#009af9\" fill-rule=\"evenodd\" fill-opacity=\"1\" stroke=\"#000000\" stroke-opacity=\"1\" stroke-width=\"3.2\"/>\n",
       "<circle clip-path=\"url(#clip772)\" cx=\"2019.3\" cy=\"334.52\" r=\"14\" fill=\"#009af9\" fill-rule=\"evenodd\" fill-opacity=\"1\" stroke=\"#000000\" stroke-opacity=\"1\" stroke-width=\"3.2\"/>\n",
       "<circle clip-path=\"url(#clip772)\" cx=\"2021.34\" cy=\"333.233\" r=\"14\" fill=\"#009af9\" fill-rule=\"evenodd\" fill-opacity=\"1\" stroke=\"#000000\" stroke-opacity=\"1\" stroke-width=\"3.2\"/>\n",
       "<circle clip-path=\"url(#clip772)\" cx=\"2023.37\" cy=\"331.946\" r=\"14\" fill=\"#009af9\" fill-rule=\"evenodd\" fill-opacity=\"1\" stroke=\"#000000\" stroke-opacity=\"1\" stroke-width=\"3.2\"/>\n",
       "<circle clip-path=\"url(#clip772)\" cx=\"2025.41\" cy=\"330.659\" r=\"14\" fill=\"#009af9\" fill-rule=\"evenodd\" fill-opacity=\"1\" stroke=\"#000000\" stroke-opacity=\"1\" stroke-width=\"3.2\"/>\n",
       "<circle clip-path=\"url(#clip772)\" cx=\"2027.44\" cy=\"329.372\" r=\"14\" fill=\"#009af9\" fill-rule=\"evenodd\" fill-opacity=\"1\" stroke=\"#000000\" stroke-opacity=\"1\" stroke-width=\"3.2\"/>\n",
       "<circle clip-path=\"url(#clip772)\" cx=\"2029.47\" cy=\"328.085\" r=\"14\" fill=\"#009af9\" fill-rule=\"evenodd\" fill-opacity=\"1\" stroke=\"#000000\" stroke-opacity=\"1\" stroke-width=\"3.2\"/>\n",
       "<circle clip-path=\"url(#clip772)\" cx=\"2031.51\" cy=\"326.797\" r=\"14\" fill=\"#009af9\" fill-rule=\"evenodd\" fill-opacity=\"1\" stroke=\"#000000\" stroke-opacity=\"1\" stroke-width=\"3.2\"/>\n",
       "<circle clip-path=\"url(#clip772)\" cx=\"2033.54\" cy=\"325.51\" r=\"14\" fill=\"#009af9\" fill-rule=\"evenodd\" fill-opacity=\"1\" stroke=\"#000000\" stroke-opacity=\"1\" stroke-width=\"3.2\"/>\n",
       "<circle clip-path=\"url(#clip772)\" cx=\"2035.57\" cy=\"324.223\" r=\"14\" fill=\"#009af9\" fill-rule=\"evenodd\" fill-opacity=\"1\" stroke=\"#000000\" stroke-opacity=\"1\" stroke-width=\"3.2\"/>\n",
       "<circle clip-path=\"url(#clip772)\" cx=\"2037.61\" cy=\"322.936\" r=\"14\" fill=\"#009af9\" fill-rule=\"evenodd\" fill-opacity=\"1\" stroke=\"#000000\" stroke-opacity=\"1\" stroke-width=\"3.2\"/>\n",
       "<circle clip-path=\"url(#clip772)\" cx=\"2039.64\" cy=\"321.649\" r=\"14\" fill=\"#009af9\" fill-rule=\"evenodd\" fill-opacity=\"1\" stroke=\"#000000\" stroke-opacity=\"1\" stroke-width=\"3.2\"/>\n",
       "<circle clip-path=\"url(#clip772)\" cx=\"2041.67\" cy=\"320.362\" r=\"14\" fill=\"#009af9\" fill-rule=\"evenodd\" fill-opacity=\"1\" stroke=\"#000000\" stroke-opacity=\"1\" stroke-width=\"3.2\"/>\n",
       "<circle clip-path=\"url(#clip772)\" cx=\"2043.71\" cy=\"319.075\" r=\"14\" fill=\"#009af9\" fill-rule=\"evenodd\" fill-opacity=\"1\" stroke=\"#000000\" stroke-opacity=\"1\" stroke-width=\"3.2\"/>\n",
       "<circle clip-path=\"url(#clip772)\" cx=\"2045.74\" cy=\"317.788\" r=\"14\" fill=\"#009af9\" fill-rule=\"evenodd\" fill-opacity=\"1\" stroke=\"#000000\" stroke-opacity=\"1\" stroke-width=\"3.2\"/>\n",
       "<circle clip-path=\"url(#clip772)\" cx=\"2047.78\" cy=\"316.501\" r=\"14\" fill=\"#009af9\" fill-rule=\"evenodd\" fill-opacity=\"1\" stroke=\"#000000\" stroke-opacity=\"1\" stroke-width=\"3.2\"/>\n",
       "<circle clip-path=\"url(#clip772)\" cx=\"2049.81\" cy=\"315.213\" r=\"14\" fill=\"#009af9\" fill-rule=\"evenodd\" fill-opacity=\"1\" stroke=\"#000000\" stroke-opacity=\"1\" stroke-width=\"3.2\"/>\n",
       "<circle clip-path=\"url(#clip772)\" cx=\"2051.84\" cy=\"313.926\" r=\"14\" fill=\"#009af9\" fill-rule=\"evenodd\" fill-opacity=\"1\" stroke=\"#000000\" stroke-opacity=\"1\" stroke-width=\"3.2\"/>\n",
       "<circle clip-path=\"url(#clip772)\" cx=\"2053.88\" cy=\"312.639\" r=\"14\" fill=\"#009af9\" fill-rule=\"evenodd\" fill-opacity=\"1\" stroke=\"#000000\" stroke-opacity=\"1\" stroke-width=\"3.2\"/>\n",
       "<circle clip-path=\"url(#clip772)\" cx=\"2055.91\" cy=\"311.352\" r=\"14\" fill=\"#009af9\" fill-rule=\"evenodd\" fill-opacity=\"1\" stroke=\"#000000\" stroke-opacity=\"1\" stroke-width=\"3.2\"/>\n",
       "<circle clip-path=\"url(#clip772)\" cx=\"2057.94\" cy=\"310.065\" r=\"14\" fill=\"#009af9\" fill-rule=\"evenodd\" fill-opacity=\"1\" stroke=\"#000000\" stroke-opacity=\"1\" stroke-width=\"3.2\"/>\n",
       "<circle clip-path=\"url(#clip772)\" cx=\"2059.98\" cy=\"308.778\" r=\"14\" fill=\"#009af9\" fill-rule=\"evenodd\" fill-opacity=\"1\" stroke=\"#000000\" stroke-opacity=\"1\" stroke-width=\"3.2\"/>\n",
       "<circle clip-path=\"url(#clip772)\" cx=\"2062.01\" cy=\"307.491\" r=\"14\" fill=\"#009af9\" fill-rule=\"evenodd\" fill-opacity=\"1\" stroke=\"#000000\" stroke-opacity=\"1\" stroke-width=\"3.2\"/>\n",
       "<circle clip-path=\"url(#clip772)\" cx=\"2064.04\" cy=\"306.204\" r=\"14\" fill=\"#009af9\" fill-rule=\"evenodd\" fill-opacity=\"1\" stroke=\"#000000\" stroke-opacity=\"1\" stroke-width=\"3.2\"/>\n",
       "<circle clip-path=\"url(#clip772)\" cx=\"2066.08\" cy=\"304.916\" r=\"14\" fill=\"#009af9\" fill-rule=\"evenodd\" fill-opacity=\"1\" stroke=\"#000000\" stroke-opacity=\"1\" stroke-width=\"3.2\"/>\n",
       "<circle clip-path=\"url(#clip772)\" cx=\"2068.11\" cy=\"303.629\" r=\"14\" fill=\"#009af9\" fill-rule=\"evenodd\" fill-opacity=\"1\" stroke=\"#000000\" stroke-opacity=\"1\" stroke-width=\"3.2\"/>\n",
       "<circle clip-path=\"url(#clip772)\" cx=\"2070.14\" cy=\"302.342\" r=\"14\" fill=\"#009af9\" fill-rule=\"evenodd\" fill-opacity=\"1\" stroke=\"#000000\" stroke-opacity=\"1\" stroke-width=\"3.2\"/>\n",
       "<circle clip-path=\"url(#clip772)\" cx=\"2072.18\" cy=\"301.055\" r=\"14\" fill=\"#009af9\" fill-rule=\"evenodd\" fill-opacity=\"1\" stroke=\"#000000\" stroke-opacity=\"1\" stroke-width=\"3.2\"/>\n",
       "<circle clip-path=\"url(#clip772)\" cx=\"2074.21\" cy=\"299.768\" r=\"14\" fill=\"#009af9\" fill-rule=\"evenodd\" fill-opacity=\"1\" stroke=\"#000000\" stroke-opacity=\"1\" stroke-width=\"3.2\"/>\n",
       "<circle clip-path=\"url(#clip772)\" cx=\"2076.25\" cy=\"298.481\" r=\"14\" fill=\"#009af9\" fill-rule=\"evenodd\" fill-opacity=\"1\" stroke=\"#000000\" stroke-opacity=\"1\" stroke-width=\"3.2\"/>\n",
       "<circle clip-path=\"url(#clip772)\" cx=\"2078.28\" cy=\"297.194\" r=\"14\" fill=\"#009af9\" fill-rule=\"evenodd\" fill-opacity=\"1\" stroke=\"#000000\" stroke-opacity=\"1\" stroke-width=\"3.2\"/>\n",
       "<circle clip-path=\"url(#clip772)\" cx=\"2080.31\" cy=\"295.907\" r=\"14\" fill=\"#009af9\" fill-rule=\"evenodd\" fill-opacity=\"1\" stroke=\"#000000\" stroke-opacity=\"1\" stroke-width=\"3.2\"/>\n",
       "<circle clip-path=\"url(#clip772)\" cx=\"2082.35\" cy=\"294.62\" r=\"14\" fill=\"#009af9\" fill-rule=\"evenodd\" fill-opacity=\"1\" stroke=\"#000000\" stroke-opacity=\"1\" stroke-width=\"3.2\"/>\n",
       "<circle clip-path=\"url(#clip772)\" cx=\"2084.38\" cy=\"293.332\" r=\"14\" fill=\"#009af9\" fill-rule=\"evenodd\" fill-opacity=\"1\" stroke=\"#000000\" stroke-opacity=\"1\" stroke-width=\"3.2\"/>\n",
       "<circle clip-path=\"url(#clip772)\" cx=\"2086.41\" cy=\"292.045\" r=\"14\" fill=\"#009af9\" fill-rule=\"evenodd\" fill-opacity=\"1\" stroke=\"#000000\" stroke-opacity=\"1\" stroke-width=\"3.2\"/>\n",
       "<circle clip-path=\"url(#clip772)\" cx=\"2088.45\" cy=\"290.758\" r=\"14\" fill=\"#009af9\" fill-rule=\"evenodd\" fill-opacity=\"1\" stroke=\"#000000\" stroke-opacity=\"1\" stroke-width=\"3.2\"/>\n",
       "<circle clip-path=\"url(#clip772)\" cx=\"2090.48\" cy=\"289.471\" r=\"14\" fill=\"#009af9\" fill-rule=\"evenodd\" fill-opacity=\"1\" stroke=\"#000000\" stroke-opacity=\"1\" stroke-width=\"3.2\"/>\n",
       "<circle clip-path=\"url(#clip772)\" cx=\"2092.51\" cy=\"288.184\" r=\"14\" fill=\"#009af9\" fill-rule=\"evenodd\" fill-opacity=\"1\" stroke=\"#000000\" stroke-opacity=\"1\" stroke-width=\"3.2\"/>\n",
       "<circle clip-path=\"url(#clip772)\" cx=\"2094.55\" cy=\"286.897\" r=\"14\" fill=\"#009af9\" fill-rule=\"evenodd\" fill-opacity=\"1\" stroke=\"#000000\" stroke-opacity=\"1\" stroke-width=\"3.2\"/>\n",
       "<circle clip-path=\"url(#clip772)\" cx=\"2096.58\" cy=\"285.61\" r=\"14\" fill=\"#009af9\" fill-rule=\"evenodd\" fill-opacity=\"1\" stroke=\"#000000\" stroke-opacity=\"1\" stroke-width=\"3.2\"/>\n",
       "<circle clip-path=\"url(#clip772)\" cx=\"2098.62\" cy=\"284.323\" r=\"14\" fill=\"#009af9\" fill-rule=\"evenodd\" fill-opacity=\"1\" stroke=\"#000000\" stroke-opacity=\"1\" stroke-width=\"3.2\"/>\n",
       "<circle clip-path=\"url(#clip772)\" cx=\"2100.65\" cy=\"283.036\" r=\"14\" fill=\"#009af9\" fill-rule=\"evenodd\" fill-opacity=\"1\" stroke=\"#000000\" stroke-opacity=\"1\" stroke-width=\"3.2\"/>\n",
       "<circle clip-path=\"url(#clip772)\" cx=\"2102.68\" cy=\"281.748\" r=\"14\" fill=\"#009af9\" fill-rule=\"evenodd\" fill-opacity=\"1\" stroke=\"#000000\" stroke-opacity=\"1\" stroke-width=\"3.2\"/>\n",
       "<circle clip-path=\"url(#clip772)\" cx=\"2104.72\" cy=\"280.461\" r=\"14\" fill=\"#009af9\" fill-rule=\"evenodd\" fill-opacity=\"1\" stroke=\"#000000\" stroke-opacity=\"1\" stroke-width=\"3.2\"/>\n",
       "<circle clip-path=\"url(#clip772)\" cx=\"2106.75\" cy=\"279.174\" r=\"14\" fill=\"#009af9\" fill-rule=\"evenodd\" fill-opacity=\"1\" stroke=\"#000000\" stroke-opacity=\"1\" stroke-width=\"3.2\"/>\n",
       "<circle clip-path=\"url(#clip772)\" cx=\"2108.78\" cy=\"277.887\" r=\"14\" fill=\"#009af9\" fill-rule=\"evenodd\" fill-opacity=\"1\" stroke=\"#000000\" stroke-opacity=\"1\" stroke-width=\"3.2\"/>\n",
       "<circle clip-path=\"url(#clip772)\" cx=\"2110.82\" cy=\"276.6\" r=\"14\" fill=\"#009af9\" fill-rule=\"evenodd\" fill-opacity=\"1\" stroke=\"#000000\" stroke-opacity=\"1\" stroke-width=\"3.2\"/>\n",
       "<circle clip-path=\"url(#clip772)\" cx=\"2112.85\" cy=\"275.313\" r=\"14\" fill=\"#009af9\" fill-rule=\"evenodd\" fill-opacity=\"1\" stroke=\"#000000\" stroke-opacity=\"1\" stroke-width=\"3.2\"/>\n",
       "<circle clip-path=\"url(#clip772)\" cx=\"2114.88\" cy=\"274.026\" r=\"14\" fill=\"#009af9\" fill-rule=\"evenodd\" fill-opacity=\"1\" stroke=\"#000000\" stroke-opacity=\"1\" stroke-width=\"3.2\"/>\n",
       "<circle clip-path=\"url(#clip772)\" cx=\"2116.92\" cy=\"272.739\" r=\"14\" fill=\"#009af9\" fill-rule=\"evenodd\" fill-opacity=\"1\" stroke=\"#000000\" stroke-opacity=\"1\" stroke-width=\"3.2\"/>\n",
       "<circle clip-path=\"url(#clip772)\" cx=\"2118.95\" cy=\"271.452\" r=\"14\" fill=\"#009af9\" fill-rule=\"evenodd\" fill-opacity=\"1\" stroke=\"#000000\" stroke-opacity=\"1\" stroke-width=\"3.2\"/>\n",
       "<circle clip-path=\"url(#clip772)\" cx=\"2120.99\" cy=\"270.164\" r=\"14\" fill=\"#009af9\" fill-rule=\"evenodd\" fill-opacity=\"1\" stroke=\"#000000\" stroke-opacity=\"1\" stroke-width=\"3.2\"/>\n",
       "<circle clip-path=\"url(#clip772)\" cx=\"2123.02\" cy=\"268.877\" r=\"14\" fill=\"#009af9\" fill-rule=\"evenodd\" fill-opacity=\"1\" stroke=\"#000000\" stroke-opacity=\"1\" stroke-width=\"3.2\"/>\n",
       "<circle clip-path=\"url(#clip772)\" cx=\"2125.05\" cy=\"267.59\" r=\"14\" fill=\"#009af9\" fill-rule=\"evenodd\" fill-opacity=\"1\" stroke=\"#000000\" stroke-opacity=\"1\" stroke-width=\"3.2\"/>\n",
       "<circle clip-path=\"url(#clip772)\" cx=\"2127.09\" cy=\"266.303\" r=\"14\" fill=\"#009af9\" fill-rule=\"evenodd\" fill-opacity=\"1\" stroke=\"#000000\" stroke-opacity=\"1\" stroke-width=\"3.2\"/>\n",
       "<circle clip-path=\"url(#clip772)\" cx=\"2129.12\" cy=\"265.016\" r=\"14\" fill=\"#009af9\" fill-rule=\"evenodd\" fill-opacity=\"1\" stroke=\"#000000\" stroke-opacity=\"1\" stroke-width=\"3.2\"/>\n",
       "<circle clip-path=\"url(#clip772)\" cx=\"2131.15\" cy=\"263.729\" r=\"14\" fill=\"#009af9\" fill-rule=\"evenodd\" fill-opacity=\"1\" stroke=\"#000000\" stroke-opacity=\"1\" stroke-width=\"3.2\"/>\n",
       "<circle clip-path=\"url(#clip772)\" cx=\"2133.19\" cy=\"262.442\" r=\"14\" fill=\"#009af9\" fill-rule=\"evenodd\" fill-opacity=\"1\" stroke=\"#000000\" stroke-opacity=\"1\" stroke-width=\"3.2\"/>\n",
       "<circle clip-path=\"url(#clip772)\" cx=\"2135.22\" cy=\"261.155\" r=\"14\" fill=\"#009af9\" fill-rule=\"evenodd\" fill-opacity=\"1\" stroke=\"#000000\" stroke-opacity=\"1\" stroke-width=\"3.2\"/>\n",
       "<circle clip-path=\"url(#clip772)\" cx=\"2137.25\" cy=\"259.868\" r=\"14\" fill=\"#009af9\" fill-rule=\"evenodd\" fill-opacity=\"1\" stroke=\"#000000\" stroke-opacity=\"1\" stroke-width=\"3.2\"/>\n",
       "<circle clip-path=\"url(#clip772)\" cx=\"2139.29\" cy=\"258.58\" r=\"14\" fill=\"#009af9\" fill-rule=\"evenodd\" fill-opacity=\"1\" stroke=\"#000000\" stroke-opacity=\"1\" stroke-width=\"3.2\"/>\n",
       "<circle clip-path=\"url(#clip772)\" cx=\"2141.32\" cy=\"257.293\" r=\"14\" fill=\"#009af9\" fill-rule=\"evenodd\" fill-opacity=\"1\" stroke=\"#000000\" stroke-opacity=\"1\" stroke-width=\"3.2\"/>\n",
       "<circle clip-path=\"url(#clip772)\" cx=\"2143.35\" cy=\"256.006\" r=\"14\" fill=\"#009af9\" fill-rule=\"evenodd\" fill-opacity=\"1\" stroke=\"#000000\" stroke-opacity=\"1\" stroke-width=\"3.2\"/>\n",
       "<circle clip-path=\"url(#clip772)\" cx=\"2145.39\" cy=\"254.719\" r=\"14\" fill=\"#009af9\" fill-rule=\"evenodd\" fill-opacity=\"1\" stroke=\"#000000\" stroke-opacity=\"1\" stroke-width=\"3.2\"/>\n",
       "<circle clip-path=\"url(#clip772)\" cx=\"2147.42\" cy=\"253.432\" r=\"14\" fill=\"#009af9\" fill-rule=\"evenodd\" fill-opacity=\"1\" stroke=\"#000000\" stroke-opacity=\"1\" stroke-width=\"3.2\"/>\n",
       "<circle clip-path=\"url(#clip772)\" cx=\"2149.46\" cy=\"252.145\" r=\"14\" fill=\"#009af9\" fill-rule=\"evenodd\" fill-opacity=\"1\" stroke=\"#000000\" stroke-opacity=\"1\" stroke-width=\"3.2\"/>\n",
       "<circle clip-path=\"url(#clip772)\" cx=\"2151.49\" cy=\"250.858\" r=\"14\" fill=\"#009af9\" fill-rule=\"evenodd\" fill-opacity=\"1\" stroke=\"#000000\" stroke-opacity=\"1\" stroke-width=\"3.2\"/>\n",
       "<circle clip-path=\"url(#clip772)\" cx=\"2153.52\" cy=\"249.571\" r=\"14\" fill=\"#009af9\" fill-rule=\"evenodd\" fill-opacity=\"1\" stroke=\"#000000\" stroke-opacity=\"1\" stroke-width=\"3.2\"/>\n",
       "<circle clip-path=\"url(#clip772)\" cx=\"2155.56\" cy=\"248.284\" r=\"14\" fill=\"#009af9\" fill-rule=\"evenodd\" fill-opacity=\"1\" stroke=\"#000000\" stroke-opacity=\"1\" stroke-width=\"3.2\"/>\n",
       "<circle clip-path=\"url(#clip772)\" cx=\"2157.59\" cy=\"246.996\" r=\"14\" fill=\"#009af9\" fill-rule=\"evenodd\" fill-opacity=\"1\" stroke=\"#000000\" stroke-opacity=\"1\" stroke-width=\"3.2\"/>\n",
       "<circle clip-path=\"url(#clip772)\" cx=\"2159.62\" cy=\"245.709\" r=\"14\" fill=\"#009af9\" fill-rule=\"evenodd\" fill-opacity=\"1\" stroke=\"#000000\" stroke-opacity=\"1\" stroke-width=\"3.2\"/>\n",
       "<circle clip-path=\"url(#clip772)\" cx=\"2161.66\" cy=\"244.422\" r=\"14\" fill=\"#009af9\" fill-rule=\"evenodd\" fill-opacity=\"1\" stroke=\"#000000\" stroke-opacity=\"1\" stroke-width=\"3.2\"/>\n",
       "<circle clip-path=\"url(#clip772)\" cx=\"2163.69\" cy=\"243.135\" r=\"14\" fill=\"#009af9\" fill-rule=\"evenodd\" fill-opacity=\"1\" stroke=\"#000000\" stroke-opacity=\"1\" stroke-width=\"3.2\"/>\n",
       "<circle clip-path=\"url(#clip772)\" cx=\"2165.72\" cy=\"241.848\" r=\"14\" fill=\"#009af9\" fill-rule=\"evenodd\" fill-opacity=\"1\" stroke=\"#000000\" stroke-opacity=\"1\" stroke-width=\"3.2\"/>\n",
       "<circle clip-path=\"url(#clip772)\" cx=\"2167.76\" cy=\"240.561\" r=\"14\" fill=\"#009af9\" fill-rule=\"evenodd\" fill-opacity=\"1\" stroke=\"#000000\" stroke-opacity=\"1\" stroke-width=\"3.2\"/>\n",
       "<circle clip-path=\"url(#clip772)\" cx=\"2169.79\" cy=\"239.274\" r=\"14\" fill=\"#009af9\" fill-rule=\"evenodd\" fill-opacity=\"1\" stroke=\"#000000\" stroke-opacity=\"1\" stroke-width=\"3.2\"/>\n",
       "<circle clip-path=\"url(#clip772)\" cx=\"2171.83\" cy=\"237.987\" r=\"14\" fill=\"#009af9\" fill-rule=\"evenodd\" fill-opacity=\"1\" stroke=\"#000000\" stroke-opacity=\"1\" stroke-width=\"3.2\"/>\n",
       "<circle clip-path=\"url(#clip772)\" cx=\"2173.86\" cy=\"236.699\" r=\"14\" fill=\"#009af9\" fill-rule=\"evenodd\" fill-opacity=\"1\" stroke=\"#000000\" stroke-opacity=\"1\" stroke-width=\"3.2\"/>\n",
       "<circle clip-path=\"url(#clip772)\" cx=\"2175.89\" cy=\"235.412\" r=\"14\" fill=\"#009af9\" fill-rule=\"evenodd\" fill-opacity=\"1\" stroke=\"#000000\" stroke-opacity=\"1\" stroke-width=\"3.2\"/>\n",
       "<circle clip-path=\"url(#clip772)\" cx=\"2177.93\" cy=\"234.125\" r=\"14\" fill=\"#009af9\" fill-rule=\"evenodd\" fill-opacity=\"1\" stroke=\"#000000\" stroke-opacity=\"1\" stroke-width=\"3.2\"/>\n",
       "<circle clip-path=\"url(#clip772)\" cx=\"2179.96\" cy=\"232.838\" r=\"14\" fill=\"#009af9\" fill-rule=\"evenodd\" fill-opacity=\"1\" stroke=\"#000000\" stroke-opacity=\"1\" stroke-width=\"3.2\"/>\n",
       "<circle clip-path=\"url(#clip772)\" cx=\"2181.99\" cy=\"231.551\" r=\"14\" fill=\"#009af9\" fill-rule=\"evenodd\" fill-opacity=\"1\" stroke=\"#000000\" stroke-opacity=\"1\" stroke-width=\"3.2\"/>\n",
       "<circle clip-path=\"url(#clip772)\" cx=\"2184.03\" cy=\"230.264\" r=\"14\" fill=\"#009af9\" fill-rule=\"evenodd\" fill-opacity=\"1\" stroke=\"#000000\" stroke-opacity=\"1\" stroke-width=\"3.2\"/>\n",
       "<circle clip-path=\"url(#clip772)\" cx=\"2186.06\" cy=\"228.977\" r=\"14\" fill=\"#009af9\" fill-rule=\"evenodd\" fill-opacity=\"1\" stroke=\"#000000\" stroke-opacity=\"1\" stroke-width=\"3.2\"/>\n",
       "<circle clip-path=\"url(#clip772)\" cx=\"2188.09\" cy=\"227.69\" r=\"14\" fill=\"#009af9\" fill-rule=\"evenodd\" fill-opacity=\"1\" stroke=\"#000000\" stroke-opacity=\"1\" stroke-width=\"3.2\"/>\n",
       "<circle clip-path=\"url(#clip772)\" cx=\"2190.13\" cy=\"226.403\" r=\"14\" fill=\"#009af9\" fill-rule=\"evenodd\" fill-opacity=\"1\" stroke=\"#000000\" stroke-opacity=\"1\" stroke-width=\"3.2\"/>\n",
       "<circle clip-path=\"url(#clip772)\" cx=\"2192.16\" cy=\"225.115\" r=\"14\" fill=\"#009af9\" fill-rule=\"evenodd\" fill-opacity=\"1\" stroke=\"#000000\" stroke-opacity=\"1\" stroke-width=\"3.2\"/>\n",
       "<circle clip-path=\"url(#clip772)\" cx=\"2194.2\" cy=\"223.828\" r=\"14\" fill=\"#009af9\" fill-rule=\"evenodd\" fill-opacity=\"1\" stroke=\"#000000\" stroke-opacity=\"1\" stroke-width=\"3.2\"/>\n",
       "<circle clip-path=\"url(#clip772)\" cx=\"2196.23\" cy=\"222.541\" r=\"14\" fill=\"#009af9\" fill-rule=\"evenodd\" fill-opacity=\"1\" stroke=\"#000000\" stroke-opacity=\"1\" stroke-width=\"3.2\"/>\n",
       "<circle clip-path=\"url(#clip772)\" cx=\"2198.26\" cy=\"221.254\" r=\"14\" fill=\"#009af9\" fill-rule=\"evenodd\" fill-opacity=\"1\" stroke=\"#000000\" stroke-opacity=\"1\" stroke-width=\"3.2\"/>\n",
       "<circle clip-path=\"url(#clip772)\" cx=\"2200.3\" cy=\"219.967\" r=\"14\" fill=\"#009af9\" fill-rule=\"evenodd\" fill-opacity=\"1\" stroke=\"#000000\" stroke-opacity=\"1\" stroke-width=\"3.2\"/>\n",
       "<circle clip-path=\"url(#clip772)\" cx=\"2202.33\" cy=\"218.68\" r=\"14\" fill=\"#009af9\" fill-rule=\"evenodd\" fill-opacity=\"1\" stroke=\"#000000\" stroke-opacity=\"1\" stroke-width=\"3.2\"/>\n",
       "<circle clip-path=\"url(#clip772)\" cx=\"2204.36\" cy=\"217.393\" r=\"14\" fill=\"#009af9\" fill-rule=\"evenodd\" fill-opacity=\"1\" stroke=\"#000000\" stroke-opacity=\"1\" stroke-width=\"3.2\"/>\n",
       "<circle clip-path=\"url(#clip772)\" cx=\"2206.4\" cy=\"216.106\" r=\"14\" fill=\"#009af9\" fill-rule=\"evenodd\" fill-opacity=\"1\" stroke=\"#000000\" stroke-opacity=\"1\" stroke-width=\"3.2\"/>\n",
       "<circle clip-path=\"url(#clip772)\" cx=\"2208.43\" cy=\"214.819\" r=\"14\" fill=\"#009af9\" fill-rule=\"evenodd\" fill-opacity=\"1\" stroke=\"#000000\" stroke-opacity=\"1\" stroke-width=\"3.2\"/>\n",
       "<circle clip-path=\"url(#clip772)\" cx=\"2210.46\" cy=\"213.531\" r=\"14\" fill=\"#009af9\" fill-rule=\"evenodd\" fill-opacity=\"1\" stroke=\"#000000\" stroke-opacity=\"1\" stroke-width=\"3.2\"/>\n",
       "<circle clip-path=\"url(#clip772)\" cx=\"2212.5\" cy=\"212.244\" r=\"14\" fill=\"#009af9\" fill-rule=\"evenodd\" fill-opacity=\"1\" stroke=\"#000000\" stroke-opacity=\"1\" stroke-width=\"3.2\"/>\n",
       "<circle clip-path=\"url(#clip772)\" cx=\"2214.53\" cy=\"210.957\" r=\"14\" fill=\"#009af9\" fill-rule=\"evenodd\" fill-opacity=\"1\" stroke=\"#000000\" stroke-opacity=\"1\" stroke-width=\"3.2\"/>\n",
       "<circle clip-path=\"url(#clip772)\" cx=\"2216.56\" cy=\"209.67\" r=\"14\" fill=\"#009af9\" fill-rule=\"evenodd\" fill-opacity=\"1\" stroke=\"#000000\" stroke-opacity=\"1\" stroke-width=\"3.2\"/>\n",
       "<circle clip-path=\"url(#clip772)\" cx=\"2218.6\" cy=\"208.383\" r=\"14\" fill=\"#009af9\" fill-rule=\"evenodd\" fill-opacity=\"1\" stroke=\"#000000\" stroke-opacity=\"1\" stroke-width=\"3.2\"/>\n",
       "<circle clip-path=\"url(#clip772)\" cx=\"2220.63\" cy=\"207.096\" r=\"14\" fill=\"#009af9\" fill-rule=\"evenodd\" fill-opacity=\"1\" stroke=\"#000000\" stroke-opacity=\"1\" stroke-width=\"3.2\"/>\n",
       "<circle clip-path=\"url(#clip772)\" cx=\"2222.67\" cy=\"205.809\" r=\"14\" fill=\"#009af9\" fill-rule=\"evenodd\" fill-opacity=\"1\" stroke=\"#000000\" stroke-opacity=\"1\" stroke-width=\"3.2\"/>\n",
       "<circle clip-path=\"url(#clip772)\" cx=\"2224.7\" cy=\"204.522\" r=\"14\" fill=\"#009af9\" fill-rule=\"evenodd\" fill-opacity=\"1\" stroke=\"#000000\" stroke-opacity=\"1\" stroke-width=\"3.2\"/>\n",
       "<circle clip-path=\"url(#clip772)\" cx=\"2226.73\" cy=\"203.235\" r=\"14\" fill=\"#009af9\" fill-rule=\"evenodd\" fill-opacity=\"1\" stroke=\"#000000\" stroke-opacity=\"1\" stroke-width=\"3.2\"/>\n",
       "<circle clip-path=\"url(#clip772)\" cx=\"2228.77\" cy=\"201.947\" r=\"14\" fill=\"#009af9\" fill-rule=\"evenodd\" fill-opacity=\"1\" stroke=\"#000000\" stroke-opacity=\"1\" stroke-width=\"3.2\"/>\n",
       "<circle clip-path=\"url(#clip772)\" cx=\"2230.8\" cy=\"200.66\" r=\"14\" fill=\"#009af9\" fill-rule=\"evenodd\" fill-opacity=\"1\" stroke=\"#000000\" stroke-opacity=\"1\" stroke-width=\"3.2\"/>\n",
       "<circle clip-path=\"url(#clip772)\" cx=\"2232.83\" cy=\"199.373\" r=\"14\" fill=\"#009af9\" fill-rule=\"evenodd\" fill-opacity=\"1\" stroke=\"#000000\" stroke-opacity=\"1\" stroke-width=\"3.2\"/>\n",
       "<circle clip-path=\"url(#clip772)\" cx=\"2234.87\" cy=\"198.086\" r=\"14\" fill=\"#009af9\" fill-rule=\"evenodd\" fill-opacity=\"1\" stroke=\"#000000\" stroke-opacity=\"1\" stroke-width=\"3.2\"/>\n",
       "<circle clip-path=\"url(#clip772)\" cx=\"2236.9\" cy=\"196.799\" r=\"14\" fill=\"#009af9\" fill-rule=\"evenodd\" fill-opacity=\"1\" stroke=\"#000000\" stroke-opacity=\"1\" stroke-width=\"3.2\"/>\n",
       "<circle clip-path=\"url(#clip772)\" cx=\"2238.93\" cy=\"195.512\" r=\"14\" fill=\"#009af9\" fill-rule=\"evenodd\" fill-opacity=\"1\" stroke=\"#000000\" stroke-opacity=\"1\" stroke-width=\"3.2\"/>\n",
       "<circle clip-path=\"url(#clip772)\" cx=\"2240.97\" cy=\"194.225\" r=\"14\" fill=\"#009af9\" fill-rule=\"evenodd\" fill-opacity=\"1\" stroke=\"#000000\" stroke-opacity=\"1\" stroke-width=\"3.2\"/>\n",
       "<circle clip-path=\"url(#clip772)\" cx=\"2243\" cy=\"192.938\" r=\"14\" fill=\"#009af9\" fill-rule=\"evenodd\" fill-opacity=\"1\" stroke=\"#000000\" stroke-opacity=\"1\" stroke-width=\"3.2\"/>\n",
       "<circle clip-path=\"url(#clip772)\" cx=\"2245.04\" cy=\"191.651\" r=\"14\" fill=\"#009af9\" fill-rule=\"evenodd\" fill-opacity=\"1\" stroke=\"#000000\" stroke-opacity=\"1\" stroke-width=\"3.2\"/>\n",
       "<circle clip-path=\"url(#clip772)\" cx=\"2247.07\" cy=\"190.363\" r=\"14\" fill=\"#009af9\" fill-rule=\"evenodd\" fill-opacity=\"1\" stroke=\"#000000\" stroke-opacity=\"1\" stroke-width=\"3.2\"/>\n",
       "<circle clip-path=\"url(#clip772)\" cx=\"2249.1\" cy=\"189.076\" r=\"14\" fill=\"#009af9\" fill-rule=\"evenodd\" fill-opacity=\"1\" stroke=\"#000000\" stroke-opacity=\"1\" stroke-width=\"3.2\"/>\n",
       "<circle clip-path=\"url(#clip772)\" cx=\"2251.14\" cy=\"187.789\" r=\"14\" fill=\"#009af9\" fill-rule=\"evenodd\" fill-opacity=\"1\" stroke=\"#000000\" stroke-opacity=\"1\" stroke-width=\"3.2\"/>\n",
       "<circle clip-path=\"url(#clip772)\" cx=\"2253.17\" cy=\"186.502\" r=\"14\" fill=\"#009af9\" fill-rule=\"evenodd\" fill-opacity=\"1\" stroke=\"#000000\" stroke-opacity=\"1\" stroke-width=\"3.2\"/>\n",
       "<circle clip-path=\"url(#clip772)\" cx=\"2255.2\" cy=\"185.215\" r=\"14\" fill=\"#009af9\" fill-rule=\"evenodd\" fill-opacity=\"1\" stroke=\"#000000\" stroke-opacity=\"1\" stroke-width=\"3.2\"/>\n",
       "<circle clip-path=\"url(#clip772)\" cx=\"2257.24\" cy=\"183.928\" r=\"14\" fill=\"#009af9\" fill-rule=\"evenodd\" fill-opacity=\"1\" stroke=\"#000000\" stroke-opacity=\"1\" stroke-width=\"3.2\"/>\n",
       "<circle clip-path=\"url(#clip772)\" cx=\"2259.27\" cy=\"182.641\" r=\"14\" fill=\"#009af9\" fill-rule=\"evenodd\" fill-opacity=\"1\" stroke=\"#000000\" stroke-opacity=\"1\" stroke-width=\"3.2\"/>\n",
       "<circle clip-path=\"url(#clip772)\" cx=\"2261.3\" cy=\"181.354\" r=\"14\" fill=\"#009af9\" fill-rule=\"evenodd\" fill-opacity=\"1\" stroke=\"#000000\" stroke-opacity=\"1\" stroke-width=\"3.2\"/>\n",
       "<circle clip-path=\"url(#clip772)\" cx=\"2263.34\" cy=\"180.066\" r=\"14\" fill=\"#009af9\" fill-rule=\"evenodd\" fill-opacity=\"1\" stroke=\"#000000\" stroke-opacity=\"1\" stroke-width=\"3.2\"/>\n",
       "<circle clip-path=\"url(#clip772)\" cx=\"2265.37\" cy=\"178.779\" r=\"14\" fill=\"#009af9\" fill-rule=\"evenodd\" fill-opacity=\"1\" stroke=\"#000000\" stroke-opacity=\"1\" stroke-width=\"3.2\"/>\n",
       "<circle clip-path=\"url(#clip772)\" cx=\"2267.41\" cy=\"177.492\" r=\"14\" fill=\"#009af9\" fill-rule=\"evenodd\" fill-opacity=\"1\" stroke=\"#000000\" stroke-opacity=\"1\" stroke-width=\"3.2\"/>\n",
       "<circle clip-path=\"url(#clip772)\" cx=\"2269.44\" cy=\"176.205\" r=\"14\" fill=\"#009af9\" fill-rule=\"evenodd\" fill-opacity=\"1\" stroke=\"#000000\" stroke-opacity=\"1\" stroke-width=\"3.2\"/>\n",
       "<circle clip-path=\"url(#clip772)\" cx=\"2271.47\" cy=\"174.918\" r=\"14\" fill=\"#009af9\" fill-rule=\"evenodd\" fill-opacity=\"1\" stroke=\"#000000\" stroke-opacity=\"1\" stroke-width=\"3.2\"/>\n",
       "<circle clip-path=\"url(#clip772)\" cx=\"2273.51\" cy=\"173.631\" r=\"14\" fill=\"#009af9\" fill-rule=\"evenodd\" fill-opacity=\"1\" stroke=\"#000000\" stroke-opacity=\"1\" stroke-width=\"3.2\"/>\n",
       "<circle clip-path=\"url(#clip772)\" cx=\"2275.54\" cy=\"172.344\" r=\"14\" fill=\"#009af9\" fill-rule=\"evenodd\" fill-opacity=\"1\" stroke=\"#000000\" stroke-opacity=\"1\" stroke-width=\"3.2\"/>\n",
       "<circle clip-path=\"url(#clip772)\" cx=\"2277.57\" cy=\"171.057\" r=\"14\" fill=\"#009af9\" fill-rule=\"evenodd\" fill-opacity=\"1\" stroke=\"#000000\" stroke-opacity=\"1\" stroke-width=\"3.2\"/>\n",
       "<circle clip-path=\"url(#clip772)\" cx=\"2279.61\" cy=\"169.77\" r=\"14\" fill=\"#009af9\" fill-rule=\"evenodd\" fill-opacity=\"1\" stroke=\"#000000\" stroke-opacity=\"1\" stroke-width=\"3.2\"/>\n",
       "<circle clip-path=\"url(#clip772)\" cx=\"2281.64\" cy=\"168.482\" r=\"14\" fill=\"#009af9\" fill-rule=\"evenodd\" fill-opacity=\"1\" stroke=\"#000000\" stroke-opacity=\"1\" stroke-width=\"3.2\"/>\n",
       "<circle clip-path=\"url(#clip772)\" cx=\"2283.67\" cy=\"167.195\" r=\"14\" fill=\"#009af9\" fill-rule=\"evenodd\" fill-opacity=\"1\" stroke=\"#000000\" stroke-opacity=\"1\" stroke-width=\"3.2\"/>\n",
       "<circle clip-path=\"url(#clip772)\" cx=\"2285.71\" cy=\"165.908\" r=\"14\" fill=\"#009af9\" fill-rule=\"evenodd\" fill-opacity=\"1\" stroke=\"#000000\" stroke-opacity=\"1\" stroke-width=\"3.2\"/>\n",
       "<circle clip-path=\"url(#clip772)\" cx=\"2287.74\" cy=\"164.621\" r=\"14\" fill=\"#009af9\" fill-rule=\"evenodd\" fill-opacity=\"1\" stroke=\"#000000\" stroke-opacity=\"1\" stroke-width=\"3.2\"/>\n",
       "<circle clip-path=\"url(#clip772)\" cx=\"2289.77\" cy=\"163.334\" r=\"14\" fill=\"#009af9\" fill-rule=\"evenodd\" fill-opacity=\"1\" stroke=\"#000000\" stroke-opacity=\"1\" stroke-width=\"3.2\"/>\n",
       "<circle clip-path=\"url(#clip772)\" cx=\"2291.81\" cy=\"162.047\" r=\"14\" fill=\"#009af9\" fill-rule=\"evenodd\" fill-opacity=\"1\" stroke=\"#000000\" stroke-opacity=\"1\" stroke-width=\"3.2\"/>\n",
       "<polyline clip-path=\"url(#clip772)\" style=\"stroke:#ff0000; stroke-width:8; stroke-opacity:1; fill:none\" points=\"\n",
       "  260.231,1447.87 280.071,1435.32 463.52,1319.21 573.766,1249.43 666.977,1190.44 768.231,1126.35 861.577,1067.27 961.655,1003.93 1077.6,930.541 1180.65,865.323 \n",
       "  1271.01,808.133 1369.52,745.781 1468.62,683.058 1578.19,613.709 1682.44,547.726 1790.84,479.119 1882.09,421.366 1993.49,350.857 2098.22,284.576 2265.99,178.389 \n",
       "  2291.81,162.047 \n",
       "  \"/>\n",
       "</svg>\n"
      ]
     },
     "execution_count": 163,
     "metadata": {},
     "output_type": "execute_result"
    }
   ],
   "source": [
    "x = []\n",
    "y = []\n",
    "\n",
    "for i in 1:1000\n",
    "    push!(x, i)\n",
    "    push!(y, i)\n",
    "    \n",
    "end\n",
    "\n",
    "a = regressão_coeficientes_lineares(x, y, grau) # recebe os coeficientes\n",
    "println(a)  # printa os coeficientes\n",
    "\n",
    "# Plota os pontos junto com a curva que conseguimos que minimiza a soma dos quadrados das distâncias\n",
    "scatter(x,y,leg=false)\n",
    "plot!(x -> a[1] + a[2] * x, extrema(x)..., c=:red, lw=2)\n",
    "title!(\"Mínimos Quadrados\")"
   ]
  },
  {
   "cell_type": "markdown",
   "metadata": {},
   "source": [
    "### Regressão Linear de Funções Exponenciais"
   ]
  },
  {
   "cell_type": "code",
   "execution_count": 60,
   "metadata": {},
   "outputs": [
    {
     "data": {
      "text/plain": [
       "regressão_função_exponencial (generic function with 1 method)"
      ]
     },
     "execution_count": 60,
     "metadata": {},
     "output_type": "execute_result"
    }
   ],
   "source": [
    "function regressão_função_exponencial(pontos_x,pontos_y, grau) #coeficientes não lineares\n",
    "    #dicionário (\"linearização\") é feito manualmente ou por uma tabela\n",
    "    pontos_y_barra = zeros(length(pontos_y))\n",
    "    for i in 1:length(pontos_x)\n",
    "        pontos_y_barra[i] = log(pontos_y[i])\n",
    "    end\n",
    "    pontos_x_barra = pontos_x\n",
    "    \n",
    "    #resolver regresssão com coeficientes lineares no \"mundo barra\"\n",
    "    coeficientes_barra = regressão_coeficientes_lineares(pontos_x_barra,pontos_y_barra, grau)\n",
    "    #voltar para o mundo original\n",
    "    return coeficientes_barra\n",
    "end"
   ]
  },
  {
   "cell_type": "code",
   "execution_count": 61,
   "metadata": {},
   "outputs": [
    {
     "ename": "LoadError",
     "evalue": "\u001b[91mUndefVarError: resolver_um_sistema_por_minimos_quadrados not defined\u001b[39m",
     "output_type": "error",
     "traceback": [
      "\u001b[91mUndefVarError: resolver_um_sistema_por_minimos_quadrados not defined\u001b[39m",
      "",
      "Stacktrace:",
      " [1] regressão_coeficientes_lineares(::Array{Int64,1}, ::Array{Float64,1}, ::Int64) at .\\In[56]:3",
      " [2] regressão_função_exponencial(::Array{Int64,1}, ::Array{Int64,1}, ::Int64) at .\\In[60]:10",
      " [3] top-level scope at In[61]:4",
      " [4] include_string(::Function, ::Module, ::String, ::String) at .\\loading.jl:1091"
     ]
    }
   ],
   "source": [
    "pontos_x = [45, 99, 31, 57, 37, 85, 21, 64, 17, 41, 103]\n",
    "pontos_y = [33, 72, 19, 27, 23, 62, 24, 32, 18, 36, 76]\n",
    "\n",
    "Coeficientes = regressão_função_exponencial(pontos_x, pontos_y, 1)\n",
    "polinomio(x) = (ℯ^Coeficientes[1])*ℯ^(x*Coeficientes[2])\n",
    "scatter(pontos_x,pontos_y,leg=false)\n",
    "plot!(pontos_x -> polinomio(pontos_x), c=:red, lw=2)\n",
    "title!(\"Mínimos Quadrados\")"
   ]
  },
  {
   "cell_type": "code",
   "execution_count": 62,
   "metadata": {},
   "outputs": [
    {
     "ename": "LoadError",
     "evalue": "\u001b[91mUndefVarError: resolver_um_sistema_por_minimos_quadrados not defined\u001b[39m",
     "output_type": "error",
     "traceback": [
      "\u001b[91mUndefVarError: resolver_um_sistema_por_minimos_quadrados not defined\u001b[39m",
      "",
      "Stacktrace:",
      " [1] regressão_coeficientes_lineares(::Array{Any,1}, ::Array{Float64,1}, ::Int64) at .\\In[56]:3",
      " [2] regressão_função_exponencial(::Array{Any,1}, ::Array{Any,1}, ::Int64) at .\\In[60]:10",
      " [3] top-level scope at In[62]:9",
      " [4] include_string(::Function, ::Module, ::String, ::String) at .\\loading.jl:1091"
     ]
    }
   ],
   "source": [
    "pontos_x = []\n",
    "pontos_y = []\n",
    "\n",
    "for i in 0:14\n",
    "    push!(pontos_x, i)\n",
    "    push!(pontos_y, 2^i)\n",
    "end    \n",
    "\n",
    "Coeficientes = regressão_função_exponencial(pontos_x, pontos_y, 1)\n",
    "polinomio(x) = (ℯ^Coeficientes[1])*ℯ^(x*Coeficientes[2])\n",
    "scatter(pontos_x,pontos_y,leg=false)\n",
    "plot!(pontos_x -> polinomio(pontos_x), c=:red, lw=2)\n",
    "title!(\"Mínimos Quadrados\")"
   ]
  },
  {
   "cell_type": "code",
   "execution_count": 63,
   "metadata": {},
   "outputs": [
    {
     "ename": "LoadError",
     "evalue": "\u001b[91mUndefVarError: resolver_um_sistema_por_minimos_quadrados not defined\u001b[39m",
     "output_type": "error",
     "traceback": [
      "\u001b[91mUndefVarError: resolver_um_sistema_por_minimos_quadrados not defined\u001b[39m",
      "",
      "Stacktrace:",
      " [1] regressão_coeficientes_lineares(::Array{Int64,1}, ::Array{Float64,1}, ::Int64) at .\\In[56]:3",
      " [2] regressão_função_exponencial(::Array{Int64,1}, ::Array{Int64,1}, ::Int64) at .\\In[60]:10",
      " [3] top-level scope at In[63]:5",
      " [4] include_string(::Function, ::Module, ::String, ::String) at .\\loading.jl:1091"
     ]
    }
   ],
   "source": [
    "pontos_x = [0, 1, 2, 3, 4, 5, 6, 7, 8, 9, 10, 11, 12, 13, 14, 15, 16, 17, 18]\n",
    "pontos_y = [78134, 84040, 92300, 100567, 130795, 139200, 165919, 199314, 221540, 243737, 250612, 254959, 266444, 278993,\n",
    "            300915, 342436, 353974, 408428, 501159]\n",
    "\n",
    "Coeficientes = regressão_função_exponencial(pontos_x, pontos_y, 1)\n",
    "polinomio(x) = (ℯ^Coeficientes[1])*ℯ^(x*Coeficientes[2])\n",
    "scatter(pontos_x,pontos_y,leg=false)\n",
    "plot!(pontos_x -> polinomio(pontos_x), c=:red, lw=2)\n",
    "title!(\"Mínimos Quadrados\")"
   ]
  },
  {
   "cell_type": "code",
   "execution_count": 159,
   "metadata": {},
   "outputs": [
    {
     "data": {
      "text/plain": [
       "regressão_função_potencia_x (generic function with 1 method)"
      ]
     },
     "execution_count": 159,
     "metadata": {},
     "output_type": "execute_result"
    }
   ],
   "source": [
    "function regressão_função_potencia_x(pontos_x,pontos_y, grau) #coeficientes não lineares\n",
    "    #dicionário (\"linearização\") é feito manualmente ou por uma tabela\n",
    "    pontos_y_barra = zeros(length(pontos_y))\n",
    "    pontos_x_barra = zeros(length(pontos_x))\n",
    "    for i in 1:length(pontos_x)\n",
    "        pontos_y_barra[i] = log2(pontos_y[i])\n",
    "        pontos_x_barra[i] = log2(pontos_x[i])\n",
    "    end\n",
    "\n",
    "\n",
    "    #resolver regresssão com coeficientes lineares no \"mundo barra\"\n",
    "    coeficientes_barra = regressão_coeficientes_lineares(pontos_x_barra,pontos_y_barra, grau)\n",
    "    #voltar para o mundo original\n",
    "    return coeficientes_barra\n",
    "end"
   ]
  },
  {
   "cell_type": "code",
   "execution_count": 160,
   "metadata": {},
   "outputs": [
    {
     "data": {
      "text/plain": [
       "19-element Array{Int64,1}:\n",
       "  78134\n",
       "  84040\n",
       "  92300\n",
       " 100567\n",
       " 130795\n",
       " 139200\n",
       " 165919\n",
       " 199314\n",
       " 221540\n",
       " 243737\n",
       " 250612\n",
       " 254959\n",
       " 266444\n",
       " 278993\n",
       " 300915\n",
       " 342436\n",
       " 353974\n",
       " 408428\n",
       " 501159"
      ]
     },
     "execution_count": 160,
     "metadata": {},
     "output_type": "execute_result"
    }
   ],
   "source": [
    "x = [0.1, 0.2, 0.4, 0.8, 0.9]\n",
    "y = [22, 43, 84, 210, 320]\n",
    "\n",
    "A = regressão_função_potencia_x(x, y, 1)\n",
    "plot(x -> 2^A[1]*(x^A[2]), 0, 1, c=:red, lw=2)\n",
    "scatter!(x,y, leg=false, c=:cyan)\n",
    "pontos_x = [2, 3, 4, 5, 6, 7, 8, 9, 10, 11, 12, 13, 14, 15, 16, 17, 18, 19, 20]\n",
    "pontos_y = [78134, 84040, 92300, 100567, 130795, 139200, 165919, 199314, 221540, 243737, 250612, 254959, 266444, 278993,\n",
    "            300915, 342436, 353974, 408428, 501159] "
   ]
  },
  {
   "cell_type": "code",
   "execution_count": 161,
   "metadata": {},
   "outputs": [
    {
     "name": "stdout",
     "output_type": "stream",
     "text": [
      "[14.999286479412877; 0.8189496652467084]\n"
     ]
    },
    {
     "data": {
      "text/plain": [
       "35-element Array{Int64,1}:\n",
       "  242\n",
       "  290\n",
       "  340\n",
       "  363\n",
       "  430\n",
       "  450\n",
       "  500\n",
       "  390\n",
       "  450\n",
       "  500\n",
       "  475\n",
       "  500\n",
       "  500\n",
       "    ⋮\n",
       "  680\n",
       "  700\n",
       "  725\n",
       "  720\n",
       "  714\n",
       "  850\n",
       " 1000\n",
       "  920\n",
       "  955\n",
       "  925\n",
       "  975\n",
       "  950"
      ]
     },
     "execution_count": 161,
     "metadata": {},
     "output_type": "execute_result"
    }
   ],
   "source": [
    "B = regressão_função_potencia_x(pontos_x, pontos_y, 1)\n",
    "println(B)\n",
    "scatter(pontos_x,pontos_y,leg=false)\n",
    "plot!(x -> 2^B[1]*(x^B[2]), c=:red, lw=2)\n",
    "pontos_x = [23.2, 24, 23.9, 26.3, 26.5, 26.8, 26.8, 27.6, 27.6, 28.5, 28.4, 28.7, 29.1, 29.5, 29.4, 29.4, 30.4, 30.4, 30.9, 31, 31.3, 31.4, 31.5, 31.8, 31.9, 31.8, 32, 32.7, 32.8, 33.5, 35, 35, 36.2, 37.4, 38]\n",
    "pontos_y = [242, 290, 340, 363, 430, 450, 500, 390, 450, 500, 475, 500, 500, 340, 600, 600, 700, 700, 610, 650, 575, 685, 620, 680, 700, 725, 720, 714, 850, 1000, 920, 955, 925, 975, 950]\n"
   ]
  },
  {
   "cell_type": "code",
   "execution_count": 162,
   "metadata": {},
   "outputs": [
    {
     "name": "stdout",
     "output_type": "stream",
     "text": [
      "[-4.7694585837962915; 2.8408850567541246]\n"
     ]
    },
    {
     "data": {
      "image/svg+xml": [
       "<?xml version=\"1.0\" encoding=\"utf-8\"?>\n",
       "<svg xmlns=\"http://www.w3.org/2000/svg\" xmlns:xlink=\"http://www.w3.org/1999/xlink\" width=\"600\" height=\"400\" viewBox=\"0 0 2400 1600\">\n",
       "<defs>\n",
       "  <clipPath id=\"clip730\">\n",
       "    <rect x=\"0\" y=\"0\" width=\"2400\" height=\"1600\"/>\n",
       "  </clipPath>\n",
       "</defs>\n",
       "<path clip-path=\"url(#clip730)\" d=\"\n",
       "M0 1600 L2400 1600 L2400 0 L0 0  Z\n",
       "  \" fill=\"#ffffff\" fill-rule=\"evenodd\" fill-opacity=\"1\"/>\n",
       "<defs>\n",
       "  <clipPath id=\"clip731\">\n",
       "    <rect x=\"480\" y=\"0\" width=\"1681\" height=\"1600\"/>\n",
       "  </clipPath>\n",
       "</defs>\n",
       "<path clip-path=\"url(#clip730)\" d=\"\n",
       "M199.283 1486.45 L2352.76 1486.45 L2352.76 47.2441 L199.283 47.2441  Z\n",
       "  \" fill=\"#ffffff\" fill-rule=\"evenodd\" fill-opacity=\"1\"/>\n",
       "<defs>\n",
       "  <clipPath id=\"clip732\">\n",
       "    <rect x=\"199\" y=\"47\" width=\"2154\" height=\"1440\"/>\n",
       "  </clipPath>\n",
       "</defs>\n",
       "<polyline clip-path=\"url(#clip732)\" style=\"stroke:#000000; stroke-width:2; stroke-opacity:0.1; fill:none\" points=\"\n",
       "  421.327,1486.45 421.327,47.2441 \n",
       "  \"/>\n",
       "<polyline clip-path=\"url(#clip732)\" style=\"stroke:#000000; stroke-width:2; stroke-opacity:0.1; fill:none\" points=\"\n",
       "  809.824,1486.45 809.824,47.2441 \n",
       "  \"/>\n",
       "<polyline clip-path=\"url(#clip732)\" style=\"stroke:#000000; stroke-width:2; stroke-opacity:0.1; fill:none\" points=\"\n",
       "  1198.32,1486.45 1198.32,47.2441 \n",
       "  \"/>\n",
       "<polyline clip-path=\"url(#clip732)\" style=\"stroke:#000000; stroke-width:2; stroke-opacity:0.1; fill:none\" points=\"\n",
       "  1586.82,1486.45 1586.82,47.2441 \n",
       "  \"/>\n",
       "<polyline clip-path=\"url(#clip732)\" style=\"stroke:#000000; stroke-width:2; stroke-opacity:0.1; fill:none\" points=\"\n",
       "  1975.31,1486.45 1975.31,47.2441 \n",
       "  \"/>\n",
       "<polyline clip-path=\"url(#clip730)\" style=\"stroke:#000000; stroke-width:4; stroke-opacity:1; fill:none\" points=\"\n",
       "  199.283,1486.45 2352.76,1486.45 \n",
       "  \"/>\n",
       "<polyline clip-path=\"url(#clip730)\" style=\"stroke:#000000; stroke-width:4; stroke-opacity:1; fill:none\" points=\"\n",
       "  421.327,1486.45 421.327,1469.18 \n",
       "  \"/>\n",
       "<polyline clip-path=\"url(#clip730)\" style=\"stroke:#000000; stroke-width:4; stroke-opacity:1; fill:none\" points=\"\n",
       "  809.824,1486.45 809.824,1469.18 \n",
       "  \"/>\n",
       "<polyline clip-path=\"url(#clip730)\" style=\"stroke:#000000; stroke-width:4; stroke-opacity:1; fill:none\" points=\"\n",
       "  1198.32,1486.45 1198.32,1469.18 \n",
       "  \"/>\n",
       "<polyline clip-path=\"url(#clip730)\" style=\"stroke:#000000; stroke-width:4; stroke-opacity:1; fill:none\" points=\"\n",
       "  1586.82,1486.45 1586.82,1469.18 \n",
       "  \"/>\n",
       "<polyline clip-path=\"url(#clip730)\" style=\"stroke:#000000; stroke-width:4; stroke-opacity:1; fill:none\" points=\"\n",
       "  1975.31,1486.45 1975.31,1469.18 \n",
       "  \"/>\n",
       "<path clip-path=\"url(#clip730)\" d=\"M 0 0 M399.857 1543.18 L416.177 1543.18 L416.177 1547.12 L394.232 1547.12 L394.232 1543.18 Q396.894 1540.43 401.478 1535.8 Q406.084 1531.15 407.265 1529.81 Q409.51 1527.28 410.39 1525.55 Q411.292 1523.79 411.292 1522.1 Q411.292 1519.34 409.348 1517.61 Q407.427 1515.87 404.325 1515.87 Q402.126 1515.87 399.672 1516.63 Q397.242 1517.4 394.464 1518.95 L394.464 1514.23 Q397.288 1513.09 399.742 1512.51 Q402.195 1511.93 404.232 1511.93 Q409.603 1511.93 412.797 1514.62 Q415.991 1517.31 415.991 1521.8 Q415.991 1523.93 415.181 1525.85 Q414.394 1527.74 412.288 1530.34 Q411.709 1531.01 408.607 1534.23 Q405.505 1537.42 399.857 1543.18 Z\" fill=\"#000000\" fill-rule=\"evenodd\" fill-opacity=\"1\" /><path clip-path=\"url(#clip730)\" d=\"M 0 0 M438.839 1516.63 L427.033 1535.08 L438.839 1535.08 L438.839 1516.63 M437.612 1512.56 L443.491 1512.56 L443.491 1535.08 L448.422 1535.08 L448.422 1538.97 L443.491 1538.97 L443.491 1547.12 L438.839 1547.12 L438.839 1538.97 L423.237 1538.97 L423.237 1534.46 L437.612 1512.56 Z\" fill=\"#000000\" fill-rule=\"evenodd\" fill-opacity=\"1\" /><path clip-path=\"url(#clip730)\" d=\"M 0 0 M789.048 1543.18 L805.368 1543.18 L805.368 1547.12 L783.423 1547.12 L783.423 1543.18 Q786.085 1540.43 790.669 1535.8 Q795.275 1531.15 796.456 1529.81 Q798.701 1527.28 799.581 1525.55 Q800.483 1523.79 800.483 1522.1 Q800.483 1519.34 798.539 1517.61 Q796.618 1515.87 793.516 1515.87 Q791.317 1515.87 788.863 1516.63 Q786.433 1517.4 783.655 1518.95 L783.655 1514.23 Q786.479 1513.09 788.933 1512.51 Q791.386 1511.93 793.423 1511.93 Q798.794 1511.93 801.988 1514.62 Q805.182 1517.31 805.182 1521.8 Q805.182 1523.93 804.372 1525.85 Q803.585 1527.74 801.479 1530.34 Q800.9 1531.01 797.798 1534.23 Q794.696 1537.42 789.048 1543.18 Z\" fill=\"#000000\" fill-rule=\"evenodd\" fill-opacity=\"1\" /><path clip-path=\"url(#clip730)\" d=\"M 0 0 M814.002 1512.56 L836.224 1512.56 L836.224 1514.55 L823.678 1547.12 L818.794 1547.12 L830.599 1516.5 L814.002 1516.5 L814.002 1512.56 Z\" fill=\"#000000\" fill-rule=\"evenodd\" fill-opacity=\"1\" /><path clip-path=\"url(#clip730)\" d=\"M 0 0 M1187.16 1528.49 Q1190.52 1529.2 1192.39 1531.47 Q1194.29 1533.74 1194.29 1537.07 Q1194.29 1542.19 1190.77 1544.99 Q1187.26 1547.79 1180.77 1547.79 Q1178.6 1547.79 1176.28 1547.35 Q1173.99 1546.93 1171.54 1546.08 L1171.54 1541.56 Q1173.48 1542.7 1175.8 1543.28 Q1178.11 1543.86 1180.64 1543.86 Q1185.03 1543.86 1187.32 1542.12 Q1189.64 1540.38 1189.64 1537.07 Q1189.64 1534.02 1187.49 1532.31 Q1185.36 1530.57 1181.54 1530.57 L1177.51 1530.57 L1177.51 1526.73 L1181.72 1526.73 Q1185.17 1526.73 1187 1525.36 Q1188.83 1523.97 1188.83 1521.38 Q1188.83 1518.72 1186.93 1517.31 Q1185.06 1515.87 1181.54 1515.87 Q1179.62 1515.87 1177.42 1516.29 Q1175.22 1516.7 1172.58 1517.58 L1172.58 1513.42 Q1175.24 1512.68 1177.56 1512.31 Q1179.89 1511.93 1181.95 1511.93 Q1187.28 1511.93 1190.38 1514.37 Q1193.48 1516.77 1193.48 1520.89 Q1193.48 1523.76 1191.84 1525.75 Q1190.2 1527.72 1187.16 1528.49 Z\" fill=\"#000000\" fill-rule=\"evenodd\" fill-opacity=\"1\" /><path clip-path=\"url(#clip730)\" d=\"M 0 0 M1213.16 1515.64 Q1209.55 1515.64 1207.72 1519.2 Q1205.91 1522.75 1205.91 1529.87 Q1205.91 1536.98 1207.72 1540.55 Q1209.55 1544.09 1213.16 1544.09 Q1216.79 1544.09 1218.6 1540.55 Q1220.43 1536.98 1220.43 1529.87 Q1220.43 1522.75 1218.6 1519.2 Q1216.79 1515.64 1213.16 1515.64 M1213.16 1511.93 Q1218.97 1511.93 1222.02 1516.54 Q1225.1 1521.12 1225.1 1529.87 Q1225.1 1538.6 1222.02 1543.21 Q1218.97 1547.79 1213.16 1547.79 Q1207.35 1547.79 1204.27 1543.21 Q1201.21 1538.6 1201.21 1529.87 Q1201.21 1521.12 1204.27 1516.54 Q1207.35 1511.93 1213.16 1511.93 Z\" fill=\"#000000\" fill-rule=\"evenodd\" fill-opacity=\"1\" /><path clip-path=\"url(#clip730)\" d=\"M 0 0 M1575.98 1528.49 Q1579.34 1529.2 1581.21 1531.47 Q1583.11 1533.74 1583.11 1537.07 Q1583.11 1542.19 1579.59 1544.99 Q1576.08 1547.79 1569.59 1547.79 Q1567.42 1547.79 1565.1 1547.35 Q1562.81 1546.93 1560.36 1546.08 L1560.36 1541.56 Q1562.3 1542.7 1564.62 1543.28 Q1566.93 1543.86 1569.46 1543.86 Q1573.85 1543.86 1576.15 1542.12 Q1578.46 1540.38 1578.46 1537.07 Q1578.46 1534.02 1576.31 1532.31 Q1574.18 1530.57 1570.36 1530.57 L1566.33 1530.57 L1566.33 1526.73 L1570.54 1526.73 Q1573.99 1526.73 1575.82 1525.36 Q1577.65 1523.97 1577.65 1521.38 Q1577.65 1518.72 1575.75 1517.31 Q1573.88 1515.87 1570.36 1515.87 Q1568.44 1515.87 1566.24 1516.29 Q1564.04 1516.7 1561.4 1517.58 L1561.4 1513.42 Q1564.06 1512.68 1566.38 1512.31 Q1568.72 1511.93 1570.78 1511.93 Q1576.1 1511.93 1579.2 1514.37 Q1582.3 1516.77 1582.3 1520.89 Q1582.3 1523.76 1580.66 1525.75 Q1579.02 1527.72 1575.98 1528.49 Z\" fill=\"#000000\" fill-rule=\"evenodd\" fill-opacity=\"1\" /><path clip-path=\"url(#clip730)\" d=\"M 0 0 M1606.15 1528.49 Q1609.5 1529.2 1611.38 1531.47 Q1613.27 1533.74 1613.27 1537.07 Q1613.27 1542.19 1609.76 1544.99 Q1606.24 1547.79 1599.76 1547.79 Q1597.58 1547.79 1595.27 1547.35 Q1592.97 1546.93 1590.52 1546.08 L1590.52 1541.56 Q1592.46 1542.7 1594.78 1543.28 Q1597.09 1543.86 1599.62 1543.86 Q1604.02 1543.86 1606.31 1542.12 Q1608.62 1540.38 1608.62 1537.07 Q1608.62 1534.02 1606.47 1532.31 Q1604.34 1530.57 1600.52 1530.57 L1596.49 1530.57 L1596.49 1526.73 L1600.71 1526.73 Q1604.15 1526.73 1605.98 1525.36 Q1607.81 1523.97 1607.81 1521.38 Q1607.81 1518.72 1605.91 1517.31 Q1604.04 1515.87 1600.52 1515.87 Q1598.6 1515.87 1596.4 1516.29 Q1594.2 1516.7 1591.56 1517.58 L1591.56 1513.42 Q1594.22 1512.68 1596.54 1512.31 Q1598.88 1511.93 1600.94 1511.93 Q1606.26 1511.93 1609.36 1514.37 Q1612.46 1516.77 1612.46 1520.89 Q1612.46 1523.76 1610.82 1525.75 Q1609.18 1527.72 1606.15 1528.49 Z\" fill=\"#000000\" fill-rule=\"evenodd\" fill-opacity=\"1\" /><path clip-path=\"url(#clip730)\" d=\"M 0 0 M1964.07 1528.49 Q1967.43 1529.2 1969.31 1531.47 Q1971.2 1533.74 1971.2 1537.07 Q1971.2 1542.19 1967.69 1544.99 Q1964.17 1547.79 1957.69 1547.79 Q1955.51 1547.79 1953.2 1547.35 Q1950.9 1546.93 1948.45 1546.08 L1948.45 1541.56 Q1950.39 1542.7 1952.71 1543.28 Q1955.02 1543.86 1957.55 1543.86 Q1961.95 1543.86 1964.24 1542.12 Q1966.55 1540.38 1966.55 1537.07 Q1966.55 1534.02 1964.4 1532.31 Q1962.27 1530.57 1958.45 1530.57 L1954.42 1530.57 L1954.42 1526.73 L1958.64 1526.73 Q1962.08 1526.73 1963.91 1525.36 Q1965.74 1523.97 1965.74 1521.38 Q1965.74 1518.72 1963.84 1517.31 Q1961.97 1515.87 1958.45 1515.87 Q1956.53 1515.87 1954.33 1516.29 Q1952.13 1516.7 1949.49 1517.58 L1949.49 1513.42 Q1952.15 1512.68 1954.47 1512.31 Q1956.81 1511.93 1958.87 1511.93 Q1964.19 1511.93 1967.29 1514.37 Q1970.39 1516.77 1970.39 1520.89 Q1970.39 1523.76 1968.75 1525.75 Q1967.11 1527.72 1964.07 1528.49 Z\" fill=\"#000000\" fill-rule=\"evenodd\" fill-opacity=\"1\" /><path clip-path=\"url(#clip730)\" d=\"M 0 0 M1990.65 1527.98 Q1987.5 1527.98 1985.65 1530.13 Q1983.82 1532.28 1983.82 1536.03 Q1983.82 1539.76 1985.65 1541.93 Q1987.5 1544.09 1990.65 1544.09 Q1993.8 1544.09 1995.63 1541.93 Q1997.48 1539.76 1997.48 1536.03 Q1997.48 1532.28 1995.63 1530.13 Q1993.8 1527.98 1990.65 1527.98 M1999.93 1513.32 L1999.93 1517.58 Q1998.17 1516.75 1996.37 1516.31 Q1994.58 1515.87 1992.82 1515.87 Q1988.2 1515.87 1985.74 1519 Q1983.31 1522.12 1982.96 1528.44 Q1984.33 1526.43 1986.39 1525.36 Q1988.45 1524.27 1990.93 1524.27 Q1996.14 1524.27 1999.14 1527.44 Q2002.18 1530.59 2002.18 1536.03 Q2002.18 1541.36 1999.03 1544.57 Q1995.88 1547.79 1990.65 1547.79 Q1984.65 1547.79 1981.48 1543.21 Q1978.31 1538.6 1978.31 1529.87 Q1978.31 1521.68 1982.2 1516.82 Q1986.09 1511.93 1992.64 1511.93 Q1994.4 1511.93 1996.18 1512.28 Q1997.99 1512.63 1999.93 1513.32 Z\" fill=\"#000000\" fill-rule=\"evenodd\" fill-opacity=\"1\" /><polyline clip-path=\"url(#clip732)\" style=\"stroke:#000000; stroke-width:2; stroke-opacity:0.1; fill:none\" points=\"\n",
       "  199.283,1213.46 2352.76,1213.46 \n",
       "  \"/>\n",
       "<polyline clip-path=\"url(#clip732)\" style=\"stroke:#000000; stroke-width:2; stroke-opacity:0.1; fill:none\" points=\"\n",
       "  199.283,919.462 2352.76,919.462 \n",
       "  \"/>\n",
       "<polyline clip-path=\"url(#clip732)\" style=\"stroke:#000000; stroke-width:2; stroke-opacity:0.1; fill:none\" points=\"\n",
       "  199.283,625.466 2352.76,625.466 \n",
       "  \"/>\n",
       "<polyline clip-path=\"url(#clip732)\" style=\"stroke:#000000; stroke-width:2; stroke-opacity:0.1; fill:none\" points=\"\n",
       "  199.283,331.469 2352.76,331.469 \n",
       "  \"/>\n",
       "<polyline clip-path=\"url(#clip730)\" style=\"stroke:#000000; stroke-width:4; stroke-opacity:1; fill:none\" points=\"\n",
       "  199.283,1486.45 199.283,47.2441 \n",
       "  \"/>\n",
       "<polyline clip-path=\"url(#clip730)\" style=\"stroke:#000000; stroke-width:4; stroke-opacity:1; fill:none\" points=\"\n",
       "  199.283,1213.46 225.125,1213.46 \n",
       "  \"/>\n",
       "<polyline clip-path=\"url(#clip730)\" style=\"stroke:#000000; stroke-width:4; stroke-opacity:1; fill:none\" points=\"\n",
       "  199.283,919.462 225.125,919.462 \n",
       "  \"/>\n",
       "<polyline clip-path=\"url(#clip730)\" style=\"stroke:#000000; stroke-width:4; stroke-opacity:1; fill:none\" points=\"\n",
       "  199.283,625.466 225.125,625.466 \n",
       "  \"/>\n",
       "<polyline clip-path=\"url(#clip730)\" style=\"stroke:#000000; stroke-width:4; stroke-opacity:1; fill:none\" points=\"\n",
       "  199.283,331.469 225.125,331.469 \n",
       "  \"/>\n",
       "<path clip-path=\"url(#clip730)\" d=\"M 0 0 M93.8623 1200.25 L82.0568 1218.7 L93.8623 1218.7 L93.8623 1200.25 M92.6354 1196.18 L98.515 1196.18 L98.515 1218.7 L103.446 1218.7 L103.446 1222.59 L98.515 1222.59 L98.515 1230.74 L93.8623 1230.74 L93.8623 1222.59 L78.2605 1222.59 L78.2605 1218.08 L92.6354 1196.18 Z\" fill=\"#000000\" fill-rule=\"evenodd\" fill-opacity=\"1\" /><path clip-path=\"url(#clip730)\" d=\"M 0 0 M121.177 1199.26 Q117.566 1199.26 115.737 1202.82 Q113.932 1206.36 113.932 1213.49 Q113.932 1220.6 115.737 1224.16 Q117.566 1227.71 121.177 1227.71 Q124.811 1227.71 126.617 1224.16 Q128.445 1220.6 128.445 1213.49 Q128.445 1206.36 126.617 1202.82 Q124.811 1199.26 121.177 1199.26 M121.177 1195.55 Q126.987 1195.55 130.043 1200.16 Q133.121 1204.74 133.121 1213.49 Q133.121 1222.22 130.043 1226.83 Q126.987 1231.41 121.177 1231.41 Q115.367 1231.41 112.288 1226.83 Q109.233 1222.22 109.233 1213.49 Q109.233 1204.74 112.288 1200.16 Q115.367 1195.55 121.177 1195.55 Z\" fill=\"#000000\" fill-rule=\"evenodd\" fill-opacity=\"1\" /><path clip-path=\"url(#clip730)\" d=\"M 0 0 M151.339 1199.26 Q147.728 1199.26 145.899 1202.82 Q144.093 1206.36 144.093 1213.49 Q144.093 1220.6 145.899 1224.16 Q147.728 1227.71 151.339 1227.71 Q154.973 1227.71 156.779 1224.16 Q158.607 1220.6 158.607 1213.49 Q158.607 1206.36 156.779 1202.82 Q154.973 1199.26 151.339 1199.26 M151.339 1195.55 Q157.149 1195.55 160.205 1200.16 Q163.283 1204.74 163.283 1213.49 Q163.283 1222.22 160.205 1226.83 Q157.149 1231.41 151.339 1231.41 Q145.529 1231.41 142.45 1226.83 Q139.394 1222.22 139.394 1213.49 Q139.394 1204.74 142.45 1200.16 Q145.529 1195.55 151.339 1195.55 Z\" fill=\"#000000\" fill-rule=\"evenodd\" fill-opacity=\"1\" /><path clip-path=\"url(#clip730)\" d=\"M 0 0 M91.5938 917.599 Q88.4456 917.599 86.5938 919.751 Q84.7651 921.904 84.7651 925.654 Q84.7651 929.381 86.5938 931.557 Q88.4456 933.71 91.5938 933.71 Q94.7419 933.71 96.5706 931.557 Q98.4224 929.381 98.4224 925.654 Q98.4224 921.904 96.5706 919.751 Q94.7419 917.599 91.5938 917.599 M100.876 902.946 L100.876 907.205 Q99.1169 906.372 97.3113 905.932 Q95.5289 905.492 93.7697 905.492 Q89.1401 905.492 86.6864 908.617 Q84.2558 911.742 83.9086 918.062 Q85.2743 916.048 87.3345 914.983 Q89.3947 913.895 91.8715 913.895 Q97.0798 913.895 100.089 917.066 Q103.121 920.214 103.121 925.654 Q103.121 930.978 99.9733 934.196 Q96.8252 937.413 91.5938 937.413 Q85.5984 937.413 82.4271 932.83 Q79.2559 928.224 79.2559 919.497 Q79.2559 911.302 83.1447 906.441 Q87.0336 901.557 93.5845 901.557 Q95.3437 901.557 97.1261 901.904 Q98.9317 902.251 100.876 902.946 Z\" fill=\"#000000\" fill-rule=\"evenodd\" fill-opacity=\"1\" /><path clip-path=\"url(#clip730)\" d=\"M 0 0 M121.177 905.261 Q117.566 905.261 115.737 908.826 Q113.932 912.367 113.932 919.497 Q113.932 926.603 115.737 930.168 Q117.566 933.71 121.177 933.71 Q124.811 933.71 126.617 930.168 Q128.445 926.603 128.445 919.497 Q128.445 912.367 126.617 908.826 Q124.811 905.261 121.177 905.261 M121.177 901.557 Q126.987 901.557 130.043 906.163 Q133.121 910.747 133.121 919.497 Q133.121 928.224 130.043 932.83 Q126.987 937.413 121.177 937.413 Q115.367 937.413 112.288 932.83 Q109.233 928.224 109.233 919.497 Q109.233 910.747 112.288 906.163 Q115.367 901.557 121.177 901.557 Z\" fill=\"#000000\" fill-rule=\"evenodd\" fill-opacity=\"1\" /><path clip-path=\"url(#clip730)\" d=\"M 0 0 M151.339 905.261 Q147.728 905.261 145.899 908.826 Q144.093 912.367 144.093 919.497 Q144.093 926.603 145.899 930.168 Q147.728 933.71 151.339 933.71 Q154.973 933.71 156.779 930.168 Q158.607 926.603 158.607 919.497 Q158.607 912.367 156.779 908.826 Q154.973 905.261 151.339 905.261 M151.339 901.557 Q157.149 901.557 160.205 906.163 Q163.283 910.747 163.283 919.497 Q163.283 928.224 160.205 932.83 Q157.149 937.413 151.339 937.413 Q145.529 937.413 142.45 932.83 Q139.394 928.224 139.394 919.497 Q139.394 910.747 142.45 906.163 Q145.529 901.557 151.339 901.557 Z\" fill=\"#000000\" fill-rule=\"evenodd\" fill-opacity=\"1\" /><path clip-path=\"url(#clip730)\" d=\"M 0 0 M91.0151 626.334 Q87.6817 626.334 85.7605 628.116 Q83.8623 629.898 83.8623 633.023 Q83.8623 636.148 85.7605 637.931 Q87.6817 639.713 91.0151 639.713 Q94.3484 639.713 96.2697 637.931 Q98.1909 636.125 98.1909 633.023 Q98.1909 629.898 96.2697 628.116 Q94.3715 626.334 91.0151 626.334 M86.3392 624.343 Q83.3299 623.602 81.6401 621.542 Q79.9735 619.482 79.9735 616.519 Q79.9735 612.375 82.9133 609.968 Q85.8762 607.561 91.0151 607.561 Q96.1771 607.561 99.1169 609.968 Q102.057 612.375 102.057 616.519 Q102.057 619.482 100.367 621.542 Q98.7002 623.602 95.7141 624.343 Q99.0937 625.13 100.969 627.422 Q102.867 629.713 102.867 633.023 Q102.867 638.047 99.7882 640.732 Q96.7326 643.417 91.0151 643.417 Q85.2975 643.417 82.2188 640.732 Q79.1633 638.047 79.1633 633.023 Q79.1633 629.713 81.0614 627.422 Q82.9595 625.13 86.3392 624.343 M84.6262 616.959 Q84.6262 619.644 86.2929 621.148 Q87.9827 622.653 91.0151 622.653 Q94.0243 622.653 95.7141 621.148 Q97.4271 619.644 97.4271 616.959 Q97.4271 614.274 95.7141 612.769 Q94.0243 611.264 91.0151 611.264 Q87.9827 611.264 86.2929 612.769 Q84.6262 614.274 84.6262 616.959 Z\" fill=\"#000000\" fill-rule=\"evenodd\" fill-opacity=\"1\" /><path clip-path=\"url(#clip730)\" d=\"M 0 0 M121.177 611.264 Q117.566 611.264 115.737 614.829 Q113.932 618.371 113.932 625.5 Q113.932 632.607 115.737 636.172 Q117.566 639.713 121.177 639.713 Q124.811 639.713 126.617 636.172 Q128.445 632.607 128.445 625.5 Q128.445 618.371 126.617 614.829 Q124.811 611.264 121.177 611.264 M121.177 607.561 Q126.987 607.561 130.043 612.167 Q133.121 616.75 133.121 625.5 Q133.121 634.227 130.043 638.834 Q126.987 643.417 121.177 643.417 Q115.367 643.417 112.288 638.834 Q109.233 634.227 109.233 625.5 Q109.233 616.75 112.288 612.167 Q115.367 607.561 121.177 607.561 Z\" fill=\"#000000\" fill-rule=\"evenodd\" fill-opacity=\"1\" /><path clip-path=\"url(#clip730)\" d=\"M 0 0 M151.339 611.264 Q147.728 611.264 145.899 614.829 Q144.093 618.371 144.093 625.5 Q144.093 632.607 145.899 636.172 Q147.728 639.713 151.339 639.713 Q154.973 639.713 156.779 636.172 Q158.607 632.607 158.607 625.5 Q158.607 618.371 156.779 614.829 Q154.973 611.264 151.339 611.264 M151.339 607.561 Q157.149 607.561 160.205 612.167 Q163.283 616.75 163.283 625.5 Q163.283 634.227 160.205 638.834 Q157.149 643.417 151.339 643.417 Q145.529 643.417 142.45 638.834 Q139.394 634.227 139.394 625.5 Q139.394 616.75 142.45 612.167 Q145.529 607.561 151.339 607.561 Z\" fill=\"#000000\" fill-rule=\"evenodd\" fill-opacity=\"1\" /><path clip-path=\"url(#clip730)\" d=\"M 0 0 M51.6634 344.814 L59.3023 344.814 L59.3023 318.448 L50.9921 320.115 L50.9921 315.856 L59.256 314.189 L63.9319 314.189 L63.9319 344.814 L71.5707 344.814 L71.5707 348.749 L51.6634 348.749 L51.6634 344.814 Z\" fill=\"#000000\" fill-rule=\"evenodd\" fill-opacity=\"1\" /><path clip-path=\"url(#clip730)\" d=\"M 0 0 M91.0151 317.268 Q87.404 317.268 85.5753 320.833 Q83.7697 324.374 83.7697 331.504 Q83.7697 338.61 85.5753 342.175 Q87.404 345.717 91.0151 345.717 Q94.6493 345.717 96.4548 342.175 Q98.2835 338.61 98.2835 331.504 Q98.2835 324.374 96.4548 320.833 Q94.6493 317.268 91.0151 317.268 M91.0151 313.564 Q96.8252 313.564 99.8808 318.171 Q102.959 322.754 102.959 331.504 Q102.959 340.231 99.8808 344.837 Q96.8252 349.42 91.0151 349.42 Q85.2049 349.42 82.1262 344.837 Q79.0707 340.231 79.0707 331.504 Q79.0707 322.754 82.1262 318.171 Q85.2049 313.564 91.0151 313.564 Z\" fill=\"#000000\" fill-rule=\"evenodd\" fill-opacity=\"1\" /><path clip-path=\"url(#clip730)\" d=\"M 0 0 M121.177 317.268 Q117.566 317.268 115.737 320.833 Q113.932 324.374 113.932 331.504 Q113.932 338.61 115.737 342.175 Q117.566 345.717 121.177 345.717 Q124.811 345.717 126.617 342.175 Q128.445 338.61 128.445 331.504 Q128.445 324.374 126.617 320.833 Q124.811 317.268 121.177 317.268 M121.177 313.564 Q126.987 313.564 130.043 318.171 Q133.121 322.754 133.121 331.504 Q133.121 340.231 130.043 344.837 Q126.987 349.42 121.177 349.42 Q115.367 349.42 112.288 344.837 Q109.233 340.231 109.233 331.504 Q109.233 322.754 112.288 318.171 Q115.367 313.564 121.177 313.564 Z\" fill=\"#000000\" fill-rule=\"evenodd\" fill-opacity=\"1\" /><path clip-path=\"url(#clip730)\" d=\"M 0 0 M151.339 317.268 Q147.728 317.268 145.899 320.833 Q144.093 324.374 144.093 331.504 Q144.093 338.61 145.899 342.175 Q147.728 345.717 151.339 345.717 Q154.973 345.717 156.779 342.175 Q158.607 338.61 158.607 331.504 Q158.607 324.374 156.779 320.833 Q154.973 317.268 151.339 317.268 M151.339 313.564 Q157.149 313.564 160.205 318.171 Q163.283 322.754 163.283 331.504 Q163.283 340.231 160.205 344.837 Q157.149 349.42 151.339 349.42 Q145.529 349.42 142.45 344.837 Q139.394 340.231 139.394 331.504 Q139.394 322.754 142.45 318.171 Q145.529 313.564 151.339 313.564 Z\" fill=\"#000000\" fill-rule=\"evenodd\" fill-opacity=\"1\" /><circle clip-path=\"url(#clip732)\" cx=\"317.728\" cy=\"1445.72\" r=\"14\" fill=\"#009af9\" fill-rule=\"evenodd\" fill-opacity=\"1\" stroke=\"#000000\" stroke-opacity=\"1\" stroke-width=\"3.2\"/>\n",
       "<circle clip-path=\"url(#clip732)\" cx=\"421.327\" cy=\"1375.16\" r=\"14\" fill=\"#009af9\" fill-rule=\"evenodd\" fill-opacity=\"1\" stroke=\"#000000\" stroke-opacity=\"1\" stroke-width=\"3.2\"/>\n",
       "<circle clip-path=\"url(#clip732)\" cx=\"408.377\" cy=\"1301.66\" r=\"14\" fill=\"#009af9\" fill-rule=\"evenodd\" fill-opacity=\"1\" stroke=\"#000000\" stroke-opacity=\"1\" stroke-width=\"3.2\"/>\n",
       "<circle clip-path=\"url(#clip732)\" cx=\"719.174\" cy=\"1267.85\" r=\"14\" fill=\"#009af9\" fill-rule=\"evenodd\" fill-opacity=\"1\" stroke=\"#000000\" stroke-opacity=\"1\" stroke-width=\"3.2\"/>\n",
       "<circle clip-path=\"url(#clip732)\" cx=\"745.074\" cy=\"1169.36\" r=\"14\" fill=\"#009af9\" fill-rule=\"evenodd\" fill-opacity=\"1\" stroke=\"#000000\" stroke-opacity=\"1\" stroke-width=\"3.2\"/>\n",
       "<circle clip-path=\"url(#clip732)\" cx=\"783.924\" cy=\"1139.96\" r=\"14\" fill=\"#009af9\" fill-rule=\"evenodd\" fill-opacity=\"1\" stroke=\"#000000\" stroke-opacity=\"1\" stroke-width=\"3.2\"/>\n",
       "<circle clip-path=\"url(#clip732)\" cx=\"783.924\" cy=\"1066.46\" r=\"14\" fill=\"#009af9\" fill-rule=\"evenodd\" fill-opacity=\"1\" stroke=\"#000000\" stroke-opacity=\"1\" stroke-width=\"3.2\"/>\n",
       "<circle clip-path=\"url(#clip732)\" cx=\"887.523\" cy=\"1228.16\" r=\"14\" fill=\"#009af9\" fill-rule=\"evenodd\" fill-opacity=\"1\" stroke=\"#000000\" stroke-opacity=\"1\" stroke-width=\"3.2\"/>\n",
       "<circle clip-path=\"url(#clip732)\" cx=\"887.523\" cy=\"1139.96\" r=\"14\" fill=\"#009af9\" fill-rule=\"evenodd\" fill-opacity=\"1\" stroke=\"#000000\" stroke-opacity=\"1\" stroke-width=\"3.2\"/>\n",
       "<circle clip-path=\"url(#clip732)\" cx=\"1004.07\" cy=\"1066.46\" r=\"14\" fill=\"#009af9\" fill-rule=\"evenodd\" fill-opacity=\"1\" stroke=\"#000000\" stroke-opacity=\"1\" stroke-width=\"3.2\"/>\n",
       "<circle clip-path=\"url(#clip732)\" cx=\"991.122\" cy=\"1103.21\" r=\"14\" fill=\"#009af9\" fill-rule=\"evenodd\" fill-opacity=\"1\" stroke=\"#000000\" stroke-opacity=\"1\" stroke-width=\"3.2\"/>\n",
       "<circle clip-path=\"url(#clip732)\" cx=\"1029.97\" cy=\"1066.46\" r=\"14\" fill=\"#009af9\" fill-rule=\"evenodd\" fill-opacity=\"1\" stroke=\"#000000\" stroke-opacity=\"1\" stroke-width=\"3.2\"/>\n",
       "<circle clip-path=\"url(#clip732)\" cx=\"1081.77\" cy=\"1066.46\" r=\"14\" fill=\"#009af9\" fill-rule=\"evenodd\" fill-opacity=\"1\" stroke=\"#000000\" stroke-opacity=\"1\" stroke-width=\"3.2\"/>\n",
       "<circle clip-path=\"url(#clip732)\" cx=\"1133.57\" cy=\"1301.66\" r=\"14\" fill=\"#009af9\" fill-rule=\"evenodd\" fill-opacity=\"1\" stroke=\"#000000\" stroke-opacity=\"1\" stroke-width=\"3.2\"/>\n",
       "<circle clip-path=\"url(#clip732)\" cx=\"1120.62\" cy=\"919.462\" r=\"14\" fill=\"#009af9\" fill-rule=\"evenodd\" fill-opacity=\"1\" stroke=\"#000000\" stroke-opacity=\"1\" stroke-width=\"3.2\"/>\n",
       "<circle clip-path=\"url(#clip732)\" cx=\"1120.62\" cy=\"919.462\" r=\"14\" fill=\"#009af9\" fill-rule=\"evenodd\" fill-opacity=\"1\" stroke=\"#000000\" stroke-opacity=\"1\" stroke-width=\"3.2\"/>\n",
       "<circle clip-path=\"url(#clip732)\" cx=\"1250.12\" cy=\"772.464\" r=\"14\" fill=\"#009af9\" fill-rule=\"evenodd\" fill-opacity=\"1\" stroke=\"#000000\" stroke-opacity=\"1\" stroke-width=\"3.2\"/>\n",
       "<circle clip-path=\"url(#clip732)\" cx=\"1250.12\" cy=\"772.464\" r=\"14\" fill=\"#009af9\" fill-rule=\"evenodd\" fill-opacity=\"1\" stroke=\"#000000\" stroke-opacity=\"1\" stroke-width=\"3.2\"/>\n",
       "<circle clip-path=\"url(#clip732)\" cx=\"1314.87\" cy=\"904.762\" r=\"14\" fill=\"#009af9\" fill-rule=\"evenodd\" fill-opacity=\"1\" stroke=\"#000000\" stroke-opacity=\"1\" stroke-width=\"3.2\"/>\n",
       "<circle clip-path=\"url(#clip732)\" cx=\"1327.82\" cy=\"845.963\" r=\"14\" fill=\"#009af9\" fill-rule=\"evenodd\" fill-opacity=\"1\" stroke=\"#000000\" stroke-opacity=\"1\" stroke-width=\"3.2\"/>\n",
       "<circle clip-path=\"url(#clip732)\" cx=\"1366.67\" cy=\"956.212\" r=\"14\" fill=\"#009af9\" fill-rule=\"evenodd\" fill-opacity=\"1\" stroke=\"#000000\" stroke-opacity=\"1\" stroke-width=\"3.2\"/>\n",
       "<circle clip-path=\"url(#clip732)\" cx=\"1379.62\" cy=\"794.514\" r=\"14\" fill=\"#009af9\" fill-rule=\"evenodd\" fill-opacity=\"1\" stroke=\"#000000\" stroke-opacity=\"1\" stroke-width=\"3.2\"/>\n",
       "<circle clip-path=\"url(#clip732)\" cx=\"1392.57\" cy=\"890.062\" r=\"14\" fill=\"#009af9\" fill-rule=\"evenodd\" fill-opacity=\"1\" stroke=\"#000000\" stroke-opacity=\"1\" stroke-width=\"3.2\"/>\n",
       "<circle clip-path=\"url(#clip732)\" cx=\"1431.42\" cy=\"801.863\" r=\"14\" fill=\"#009af9\" fill-rule=\"evenodd\" fill-opacity=\"1\" stroke=\"#000000\" stroke-opacity=\"1\" stroke-width=\"3.2\"/>\n",
       "<circle clip-path=\"url(#clip732)\" cx=\"1444.37\" cy=\"772.464\" r=\"14\" fill=\"#009af9\" fill-rule=\"evenodd\" fill-opacity=\"1\" stroke=\"#000000\" stroke-opacity=\"1\" stroke-width=\"3.2\"/>\n",
       "<circle clip-path=\"url(#clip732)\" cx=\"1431.42\" cy=\"735.714\" r=\"14\" fill=\"#009af9\" fill-rule=\"evenodd\" fill-opacity=\"1\" stroke=\"#000000\" stroke-opacity=\"1\" stroke-width=\"3.2\"/>\n",
       "<circle clip-path=\"url(#clip732)\" cx=\"1457.32\" cy=\"743.064\" r=\"14\" fill=\"#009af9\" fill-rule=\"evenodd\" fill-opacity=\"1\" stroke=\"#000000\" stroke-opacity=\"1\" stroke-width=\"3.2\"/>\n",
       "<circle clip-path=\"url(#clip732)\" cx=\"1547.97\" cy=\"751.884\" r=\"14\" fill=\"#009af9\" fill-rule=\"evenodd\" fill-opacity=\"1\" stroke=\"#000000\" stroke-opacity=\"1\" stroke-width=\"3.2\"/>\n",
       "<circle clip-path=\"url(#clip732)\" cx=\"1560.92\" cy=\"551.966\" r=\"14\" fill=\"#009af9\" fill-rule=\"evenodd\" fill-opacity=\"1\" stroke=\"#000000\" stroke-opacity=\"1\" stroke-width=\"3.2\"/>\n",
       "<circle clip-path=\"url(#clip732)\" cx=\"1651.57\" cy=\"331.469\" r=\"14\" fill=\"#009af9\" fill-rule=\"evenodd\" fill-opacity=\"1\" stroke=\"#000000\" stroke-opacity=\"1\" stroke-width=\"3.2\"/>\n",
       "<circle clip-path=\"url(#clip732)\" cx=\"1845.81\" cy=\"449.068\" r=\"14\" fill=\"#009af9\" fill-rule=\"evenodd\" fill-opacity=\"1\" stroke=\"#000000\" stroke-opacity=\"1\" stroke-width=\"3.2\"/>\n",
       "<circle clip-path=\"url(#clip732)\" cx=\"1845.81\" cy=\"397.618\" r=\"14\" fill=\"#009af9\" fill-rule=\"evenodd\" fill-opacity=\"1\" stroke=\"#000000\" stroke-opacity=\"1\" stroke-width=\"3.2\"/>\n",
       "<circle clip-path=\"url(#clip732)\" cx=\"2001.21\" cy=\"441.718\" r=\"14\" fill=\"#009af9\" fill-rule=\"evenodd\" fill-opacity=\"1\" stroke=\"#000000\" stroke-opacity=\"1\" stroke-width=\"3.2\"/>\n",
       "<circle clip-path=\"url(#clip732)\" cx=\"2156.61\" cy=\"368.219\" r=\"14\" fill=\"#009af9\" fill-rule=\"evenodd\" fill-opacity=\"1\" stroke=\"#000000\" stroke-opacity=\"1\" stroke-width=\"3.2\"/>\n",
       "<circle clip-path=\"url(#clip732)\" cx=\"2234.31\" cy=\"404.968\" r=\"14\" fill=\"#009af9\" fill-rule=\"evenodd\" fill-opacity=\"1\" stroke=\"#000000\" stroke-opacity=\"1\" stroke-width=\"3.2\"/>\n",
       "<polyline clip-path=\"url(#clip732)\" style=\"stroke:#ff0000; stroke-width:8; stroke-opacity:1; fill:none\" points=\"\n",
       "  260.231,1415.16 280.071,1407.73 463.52,1334.56 573.766,1286.63 666.977,1243.7 768.231,1194.52 861.577,1146.77 961.655,1092.94 1077.6,1027.08 1180.65,965.332 \n",
       "  1271.01,908.631 1369.52,844.038 1468.62,776.08 1578.19,697.391 1682.44,618.983 1790.84,533.723 1882.09,458.943 1993.49,363.844 2098.22,270.565 2265.99,113.102 \n",
       "  2291.81,87.9763 \n",
       "  \"/>\n",
       "</svg>\n"
      ]
     },
     "execution_count": 162,
     "metadata": {},
     "output_type": "execute_result"
    }
   ],
   "source": [
    "D = regressão_função_potencia_x(pontos_x, pontos_y, 1)\n",
    "println(D)\n",
    "scatter(pontos_x,pontos_y,leg=false)\n",
    "plot!(x -> 2^D[1]*(x^D[2]), c=:red, lw=2)"
   ]
  },
  {
   "cell_type": "markdown",
   "metadata": {},
   "source": [
    "### Perguntar"
   ]
  },
  {
   "cell_type": "code",
   "execution_count": 64,
   "metadata": {},
   "outputs": [
    {
     "ename": "LoadError",
     "evalue": "\u001b[91msyntax: invalid identifier name \"?\"\u001b[39m",
     "output_type": "error",
     "traceback": [
      "\u001b[91msyntax: invalid identifier name \"?\"\u001b[39m",
      "",
      "Stacktrace:",
      " [1] top-level scope at In[64]:4",
      " [2] include_string(::Function, ::Module, ::String, ::String) at .\\loading.jl:1091"
     ]
    }
   ],
   "source": [
    "# Perguntar pra ele\n",
    "function regresso_função_outra_funçao(pontos_x,pontos_y, grau) #coeficientes não lineares\n",
    "    #dicionário (\"linearização\") é feito manualmente ou por uma tabela\n",
    "    ??????????????\n",
    "    \n",
    "    #resolver regresssão com coeficientes lineares no \"mundo barra\"\n",
    "    regressão_coeficientes_lineares(pontos_x_barra,pontos_y_barra, grau)\n",
    "    \n",
    "    #voltar para o mundo original\n",
    "    ???????????????????????\n",
    "    \n",
    "    return coeficientes\n",
    "end"
   ]
  },
  {
   "cell_type": "markdown",
   "metadata": {},
   "source": [
    "### Integração pela Regra do Retângulo"
   ]
  },
  {
   "cell_type": "code",
   "execution_count": 66,
   "metadata": {},
   "outputs": [
    {
     "data": {
      "text/plain": [
       "regra_do_retangulo (generic function with 1 method)"
      ]
     },
     "execution_count": 66,
     "metadata": {},
     "output_type": "execute_result"
    }
   ],
   "source": [
    "\"\"\" O objetivo dessa função é aproximar a integração da função no intervalo [a,b] utilizando \n",
    "o somatório de n retângulos dados pela base sendo o intervalo [x_k,x_k+1] e a altura como a \n",
    "média das funções nesses dois pontos. O retorno será a estimativa da integral.\"\"\"\n",
    "\n",
    "function regra_do_retangulo(funcao,a,b,n)\n",
    "    integral = 0.0\n",
    "    h = (b-a)/n \n",
    "    for i in 1:n\n",
    "        f = (funcao( a+h*i ) + funcao( a+h*(i-1) ))/2\n",
    "        integral = integral + f*h\n",
    "    end\n",
    "    return integral\n",
    "end"
   ]
  },
  {
   "cell_type": "code",
   "execution_count": 67,
   "metadata": {},
   "outputs": [
    {
     "data": {
      "text/plain": [
       "70.83750000000002"
      ]
     },
     "execution_count": 67,
     "metadata": {},
     "output_type": "execute_result"
    }
   ],
   "source": [
    "f(x) = 2x^2-x\n",
    "regra_do_retangulo(f,0,5,100)"
   ]
  },
  {
   "cell_type": "code",
   "execution_count": 68,
   "metadata": {},
   "outputs": [
    {
     "data": {
      "text/plain": [
       "4.047082902554811"
      ]
     },
     "execution_count": 68,
     "metadata": {},
     "output_type": "execute_result"
    }
   ],
   "source": [
    "f(x) = log(x)\n",
    "regra_do_retangulo(f,1,5,100)"
   ]
  },
  {
   "cell_type": "code",
   "execution_count": 69,
   "metadata": {},
   "outputs": [
    {
     "data": {
      "text/plain": [
       "-1.0408340855860843e-15"
      ]
     },
     "execution_count": 69,
     "metadata": {},
     "output_type": "execute_result"
    }
   ],
   "source": [
    "f(x) = sin(x)\n",
    "regra_do_retangulo(f,-10,10,100)"
   ]
  },
  {
   "cell_type": "markdown",
   "metadata": {},
   "source": [
    "### Integração pela Regra do Trapézio"
   ]
  },
  {
   "cell_type": "code",
   "execution_count": 70,
   "metadata": {},
   "outputs": [
    {
     "data": {
      "text/plain": [
       "regra_do_trapezio (generic function with 1 method)"
      ]
     },
     "execution_count": 70,
     "metadata": {},
     "output_type": "execute_result"
    }
   ],
   "source": [
    "\"\"\" O objetivo dessa função é aproximar a integração da função no intervalo [a,b] utilizando o \n",
    "somatório de n trapézios dados pelo intervalo [x_k,x_k+1] e as duas bases como as funções nesses \n",
    "dois pontos. O retorno será a estimativa da integral.\"\"\"\n",
    "\n",
    "function regra_do_trapezio(funcao,a,b,n)\n",
    "    soma = f(a)+f(b)\n",
    "    for i = 1:n-1\n",
    "        x = a + i*(b-a)/n\n",
    "        soma = soma + 2*f(x)\n",
    "    end\n",
    "    \n",
    "    return soma * (b-a) / (2*n)\n",
    "end"
   ]
  },
  {
   "cell_type": "code",
   "execution_count": 71,
   "metadata": {},
   "outputs": [
    {
     "data": {
      "text/plain": [
       "70.8375"
      ]
     },
     "execution_count": 71,
     "metadata": {},
     "output_type": "execute_result"
    }
   ],
   "source": [
    "f(x) = 2x^2-x\n",
    "regra_do_trapezio(f,0,5,100)"
   ]
  },
  {
   "cell_type": "code",
   "execution_count": 72,
   "metadata": {},
   "outputs": [
    {
     "data": {
      "text/plain": [
       "4.047082902554812"
      ]
     },
     "execution_count": 72,
     "metadata": {},
     "output_type": "execute_result"
    }
   ],
   "source": [
    "f(x) = log(x)\n",
    "regra_do_trapezio(f,1,5,100)"
   ]
  },
  {
   "cell_type": "code",
   "execution_count": 73,
   "metadata": {},
   "outputs": [
    {
     "data": {
      "text/plain": [
       "1.7763568394002506e-16"
      ]
     },
     "execution_count": 73,
     "metadata": {},
     "output_type": "execute_result"
    }
   ],
   "source": [
    "f(x) = sin(x)\n",
    "regra_do_trapezio(f,-10,10,100)"
   ]
  },
  {
   "cell_type": "markdown",
   "metadata": {},
   "source": [
    "### Integração pela Regra do Simpson"
   ]
  },
  {
   "cell_type": "code",
   "execution_count": 74,
   "metadata": {},
   "outputs": [
    {
     "data": {
      "text/plain": [
       "regra_de_simpson (generic function with 1 method)"
      ]
     },
     "execution_count": 74,
     "metadata": {},
     "output_type": "execute_result"
    }
   ],
   "source": [
    "\"\"\" O objetivo dessa função é aproximar a integração da função no intervalo [a,b] dividindo-o\n",
    "em n (sendo n necessariamente par) subintervalos e utilizando a regra de simpson em cada um deles.\n",
    "A regra de simpson em cada um desses subintervalos consiste em aproximar o valor da integral nesse\n",
    "subintervalo pegando 3 pontos (as duas extremidades do subintervalo e um médio), e logo em seguida\n",
    "aproximando a curva que os descreve usando um polinômio interpolador de grau dois.\n",
    "\n",
    "A função retorna uma aproximação para a interval definida dada pelo input\n",
    "\n",
    "ERRO: Essa aproximação tem erro inferior a f^4(x) * 1/180 * (b - a)[(b - a)/n]^4, sendo\n",
    "f^4(x) o valor máximo da quarta derivada de f(x) no intervalo [a, b]\n",
    "\n",
    "@param: - f, função f(x) que queremos integrar\n",
    "        - a, primeiro ponto do intervalo\n",
    "        - b, último ponto do intervalo\n",
    "        - n denota a metade da quantidade de subintervalos que pretendemos dividir nosso intervalo\n",
    "\n",
    "@return: - aproximação para integral de f no intervalo [a,b] dividido em 2n partes\n",
    "\"\"\"\n",
    "\n",
    "# regra de simpson composta\n",
    "function regra_de_simpson(f, a, b, n)\n",
    "    @assert(n % 2 == 0, \"você precisa escolher um n par!\")\n",
    "    \n",
    "    # h denota o tamanho do subintervalo\n",
    "    h = (b - a) / n / 2.0\n",
    "\n",
    "    # adicionamos de antemão a contribuição dos\n",
    "    # pontos nas extremidades\n",
    "    S = f(a) + f(b)\n",
    "\n",
    "    # vamos somar agora a imagem dos pontos médios\n",
    "    for i in 1 : (n << 1)-1\n",
    "        if (i & 1 == 1)\n",
    "            # termo ímpar tem peso 4\n",
    "            S += f(a + h * i) * 4\n",
    "        else \n",
    "            # termo par tem peso 2\n",
    "            S += f(a + h * i) * 2\n",
    "        end\n",
    "    end\n",
    "\n",
    "    return S / 3.0 * h\n",
    "end"
   ]
  },
  {
   "cell_type": "code",
   "execution_count": 75,
   "metadata": {},
   "outputs": [
    {
     "name": "stdout",
     "output_type": "stream",
     "text": [
      "-150.87986847952268\n"
     ]
    }
   ],
   "source": [
    "function f(x)\n",
    "    return x*x - 16*x - exp(x)\n",
    "end\n",
    "\n",
    "println(regra_de_simpson(f, 1.0, 4.0, 48))"
   ]
  },
  {
   "cell_type": "code",
   "execution_count": 76,
   "metadata": {},
   "outputs": [
    {
     "name": "stdout",
     "output_type": "stream",
     "text": [
      "0.8820813907624211\n"
     ]
    }
   ],
   "source": [
    "function f(x) \n",
    "    return exp(-x^2)\n",
    "end\n",
    "\n",
    "# nesse caso temos uma integral sem uma primitiva analítica\n",
    "println(regra_de_simpson(f, 0.0, 2.0, 2112));"
   ]
  },
  {
   "cell_type": "code",
   "execution_count": 77,
   "metadata": {},
   "outputs": [
    {
     "name": "stdout",
     "output_type": "stream",
     "text": [
      "1.0000000000000049\n"
     ]
    }
   ],
   "source": [
    "function f(x) \n",
    "    return cos(x)\n",
    "end\n",
    "\n",
    "println(regra_de_simpson(f, 0.0, acos(-1.0)/2.0, 5322))"
   ]
  },
  {
   "cell_type": "markdown",
   "metadata": {},
   "source": [
    "### Obter o Máximo de uma Função"
   ]
  },
  {
   "cell_type": "code",
   "execution_count": 142,
   "metadata": {},
   "outputs": [
    {
     "data": {
      "text/plain": [
       "maximar_uma_funcao (generic function with 5 methods)"
      ]
     },
     "execution_count": 142,
     "metadata": {},
     "output_type": "execute_result"
    }
   ],
   "source": [
    "# A estratégia é parecida com a dos pontos críticos, com exceção que checamos todos eles\n",
    "# Também checamos as laterais para saber se as laterais são os maiores valores\n",
    "# E por fim precisamos do denominador da função (caso haja) para verificar por assíntotas verticais\n",
    "# Luan\n",
    "function maximar_uma_funcao(funcao, derivada, segunda_derivada, esq, dir, denominador=0, qtd_iterações=1e2, erro=1e-8)\n",
    "    \n",
    "    # Inicializamos o maximo global\n",
    "    maximo_global = []\n",
    "    \n",
    "    # Se o denominador não for o padrão\n",
    "    if denominador != 0\n",
    "        \n",
    "        # Verificamos a bisseção para achar o 0\n",
    "        b = bissecao(denominador, esq, dir)\n",
    "        \n",
    "        # Se o retorno não for um erro (por não existir raízes no denominador)\n",
    "        # Retornamos o ponto da assíntota vertical\n",
    "        if typeof(b) != String && funcao(b) == Inf\n",
    "            return b\n",
    "        end\n",
    "    end\n",
    "    \n",
    "    # Começamos uma lista de intervalos para o método da bisseção e selecionaremos os propícios\n",
    "    lista_de_intervalos = Any[[esq, dir]]\n",
    "    intervalos_propicios = Any[]\n",
    "    \n",
    "    # Escolhemos uma quantidade de iterações para diminuir o intervalo\n",
    "    for j in 1:qtd_iterações\n",
    "        \n",
    "        # Se a lista de intervalos estiver vazia, não temos mais o que procurar\n",
    "        if size(lista_de_intervalos, 1) == 0\n",
    "            break\n",
    "        end\n",
    "        \n",
    "        # Pega o primeiro intervalo da lista\n",
    "        intervalo = lista_de_intervalos[1]\n",
    "        \n",
    "        # Pega os pontos desse intervalo\n",
    "        a = intervalo[1]\n",
    "        b = intervalo[2]\n",
    "        \n",
    "        # Calcula o ponto médio do intervalo\n",
    "        metade_do_intervalo = (a+b)/2.0\n",
    "        \n",
    "        # Retira o intervalo da lista\n",
    "        deleteat!(lista_de_intervalos, 1)\n",
    "\n",
    "        # Sendo x a metade do intervalo, se um dos intervalos criados [a, x] ou [x, b] satisfizer as condições\n",
    "        # Adicionamos ele a uma outra lista contendo os intervalos bons\n",
    "        # Caso contrário adicionamos eles a nossa lista de intervalos\n",
    "        if derivada(a)*derivada(metade_do_intervalo) <= 0\n",
    "            push!(intervalos_propicios, [a, metade_do_intervalo])\n",
    "        else\n",
    "            push!(lista_de_intervalos, [a, metade_do_intervalo])\n",
    "        end\n",
    "        \n",
    "        if derivada(metade_do_intervalo)*derivada(b) <= 0\n",
    "            push!(intervalos_propicios, [metade_do_intervalo, b])\n",
    "        else\n",
    "            push!(lista_de_intervalos, [metade_do_intervalo, b])\n",
    "        end\n",
    "        \n",
    "    end\n",
    "    \n",
    "    maximos_locais = []\n",
    "    \n",
    "    # Checamos todos os intervalos\n",
    "    for i in 1:size(intervalos_propicios, 1)\n",
    "        \n",
    "        # Utilizando a bissecao para achar o ponto\n",
    "        x = bissecao(derivada, intervalos_propicios[i][1], intervalos_propicios[i][2], erro)\n",
    "    \n",
    "        # Se for maximo local, colocamos na lista para verificar se é máximo global\n",
    "        if segunda_derivada(x) <= 0\n",
    "            push!(maximos_locais, x)\n",
    "        end\n",
    "    end\n",
    "    \n",
    "    # Achamos o maximo global\n",
    "    if size(maximos_locais, 1) > 0\n",
    "        \n",
    "        # Verificamos cada um dos maximos locais\n",
    "        for x in maximos_locais\n",
    "            if (size(maximo_global, 1) > 0)\n",
    "                if (maximo_global[1][2] < funcao(x))\n",
    "                    deleteat!(maximo_global, 1)\n",
    "                    push!(maximo_global, [x, funcao(x)])\n",
    "                end\n",
    "            else\n",
    "                push!(maximo_global, [x, funcao(x)])\n",
    "            end\n",
    "        end\n",
    "        \n",
    "    end\n",
    "    \n",
    "    # E verificamos as laterais\n",
    "    if (size(maximo_global, 1) > 0)\n",
    "        if maximo_global[1][2] < funcao(esq)\n",
    "            deleteat!(maximo_global, 1)\n",
    "            push!(maximo_global, [esq, funcao(esq)])\n",
    "        end\n",
    "    else\n",
    "        push!(maximo_global, [esq, funcao(esq)])\n",
    "    end\n",
    "    if maximo_global[1][2] < funcao(dir)\n",
    "        push!(maximo_global, [dir, funcao(dir)])\n",
    "    end\n",
    "        \n",
    "    return maximo_global[1][1]\n",
    "end"
   ]
  },
  {
   "cell_type": "code",
   "execution_count": 143,
   "metadata": {},
   "outputs": [
    {
     "data": {
      "text/plain": [
       "Inf"
      ]
     },
     "execution_count": 143,
     "metadata": {},
     "output_type": "execute_result"
    }
   ],
   "source": [
    "# Teste 1\n",
    "\n",
    "f(x) = 1/x\n",
    "fd(x) = -1/x^2\n",
    "fdd(x) = 2/x^3\n",
    "esq = -1\n",
    "dir = 1\n",
    "d(x) = x\n",
    "p = maximar_uma_funcao(f, fd, fdd, esq, dir, d)\n",
    "f(p)"
   ]
  },
  {
   "cell_type": "code",
   "execution_count": 154,
   "metadata": {},
   "outputs": [
    {
     "data": {
      "image/svg+xml": [
       "<?xml version=\"1.0\" encoding=\"utf-8\"?>\n",
       "<svg xmlns=\"http://www.w3.org/2000/svg\" xmlns:xlink=\"http://www.w3.org/1999/xlink\" width=\"600\" height=\"400\" viewBox=\"0 0 2400 1600\">\n",
       "<defs>\n",
       "  <clipPath id=\"clip570\">\n",
       "    <rect x=\"0\" y=\"0\" width=\"2400\" height=\"1600\"/>\n",
       "  </clipPath>\n",
       "</defs>\n",
       "<path clip-path=\"url(#clip570)\" d=\"\n",
       "M0 1600 L2400 1600 L2400 0 L0 0  Z\n",
       "  \" fill=\"#ffffff\" fill-rule=\"evenodd\" fill-opacity=\"1\"/>\n",
       "<defs>\n",
       "  <clipPath id=\"clip571\">\n",
       "    <rect x=\"480\" y=\"0\" width=\"1681\" height=\"1600\"/>\n",
       "  </clipPath>\n",
       "</defs>\n",
       "<path clip-path=\"url(#clip570)\" d=\"\n",
       "M156.112 1486.45 L2352.76 1486.45 L2352.76 47.2441 L156.112 47.2441  Z\n",
       "  \" fill=\"#ffffff\" fill-rule=\"evenodd\" fill-opacity=\"1\"/>\n",
       "<defs>\n",
       "  <clipPath id=\"clip572\">\n",
       "    <rect x=\"156\" y=\"47\" width=\"2198\" height=\"1440\"/>\n",
       "  </clipPath>\n",
       "</defs>\n",
       "<polyline clip-path=\"url(#clip572)\" style=\"stroke:#000000; stroke-width:2; stroke-opacity:0.1; fill:none\" points=\"\n",
       "  218.281,1486.45 218.281,47.2441 \n",
       "  \"/>\n",
       "<polyline clip-path=\"url(#clip572)\" style=\"stroke:#000000; stroke-width:2; stroke-opacity:0.1; fill:none\" points=\"\n",
       "  563.666,1486.45 563.666,47.2441 \n",
       "  \"/>\n",
       "<polyline clip-path=\"url(#clip572)\" style=\"stroke:#000000; stroke-width:2; stroke-opacity:0.1; fill:none\" points=\"\n",
       "  909.05,1486.45 909.05,47.2441 \n",
       "  \"/>\n",
       "<polyline clip-path=\"url(#clip572)\" style=\"stroke:#000000; stroke-width:2; stroke-opacity:0.1; fill:none\" points=\"\n",
       "  1254.43,1486.45 1254.43,47.2441 \n",
       "  \"/>\n",
       "<polyline clip-path=\"url(#clip572)\" style=\"stroke:#000000; stroke-width:2; stroke-opacity:0.1; fill:none\" points=\"\n",
       "  1599.82,1486.45 1599.82,47.2441 \n",
       "  \"/>\n",
       "<polyline clip-path=\"url(#clip572)\" style=\"stroke:#000000; stroke-width:2; stroke-opacity:0.1; fill:none\" points=\"\n",
       "  1945.2,1486.45 1945.2,47.2441 \n",
       "  \"/>\n",
       "<polyline clip-path=\"url(#clip572)\" style=\"stroke:#000000; stroke-width:2; stroke-opacity:0.1; fill:none\" points=\"\n",
       "  2290.59,1486.45 2290.59,47.2441 \n",
       "  \"/>\n",
       "<polyline clip-path=\"url(#clip570)\" style=\"stroke:#000000; stroke-width:4; stroke-opacity:1; fill:none\" points=\"\n",
       "  156.112,1486.45 2352.76,1486.45 \n",
       "  \"/>\n",
       "<polyline clip-path=\"url(#clip570)\" style=\"stroke:#000000; stroke-width:4; stroke-opacity:1; fill:none\" points=\"\n",
       "  218.281,1486.45 218.281,1469.18 \n",
       "  \"/>\n",
       "<polyline clip-path=\"url(#clip570)\" style=\"stroke:#000000; stroke-width:4; stroke-opacity:1; fill:none\" points=\"\n",
       "  563.666,1486.45 563.666,1469.18 \n",
       "  \"/>\n",
       "<polyline clip-path=\"url(#clip570)\" style=\"stroke:#000000; stroke-width:4; stroke-opacity:1; fill:none\" points=\"\n",
       "  909.05,1486.45 909.05,1469.18 \n",
       "  \"/>\n",
       "<polyline clip-path=\"url(#clip570)\" style=\"stroke:#000000; stroke-width:4; stroke-opacity:1; fill:none\" points=\"\n",
       "  1254.43,1486.45 1254.43,1469.18 \n",
       "  \"/>\n",
       "<polyline clip-path=\"url(#clip570)\" style=\"stroke:#000000; stroke-width:4; stroke-opacity:1; fill:none\" points=\"\n",
       "  1599.82,1486.45 1599.82,1469.18 \n",
       "  \"/>\n",
       "<polyline clip-path=\"url(#clip570)\" style=\"stroke:#000000; stroke-width:4; stroke-opacity:1; fill:none\" points=\"\n",
       "  1945.2,1486.45 1945.2,1469.18 \n",
       "  \"/>\n",
       "<polyline clip-path=\"url(#clip570)\" style=\"stroke:#000000; stroke-width:4; stroke-opacity:1; fill:none\" points=\"\n",
       "  2290.59,1486.45 2290.59,1469.18 \n",
       "  \"/>\n",
       "<path clip-path=\"url(#clip570)\" d=\"M 0 0 M188.038 1530.29 L217.714 1530.29 L217.714 1534.23 L188.038 1534.23 L188.038 1530.29 Z\" fill=\"#000000\" fill-rule=\"evenodd\" fill-opacity=\"1\" /><path clip-path=\"url(#clip570)\" d=\"M 0 0 M228.617 1543.18 L236.256 1543.18 L236.256 1516.82 L227.946 1518.49 L227.946 1514.23 L236.209 1512.56 L240.885 1512.56 L240.885 1543.18 L248.524 1543.18 L248.524 1547.12 L228.617 1547.12 L228.617 1543.18 Z\" fill=\"#000000\" fill-rule=\"evenodd\" fill-opacity=\"1\" /><path clip-path=\"url(#clip570)\" d=\"M 0 0 M563.666 1515.64 Q560.054 1515.64 558.226 1519.2 Q556.42 1522.75 556.42 1529.87 Q556.42 1536.98 558.226 1540.55 Q560.054 1544.09 563.666 1544.09 Q567.3 1544.09 569.105 1540.55 Q570.934 1536.98 570.934 1529.87 Q570.934 1522.75 569.105 1519.2 Q567.3 1515.64 563.666 1515.64 M563.666 1511.93 Q569.476 1511.93 572.531 1516.54 Q575.61 1521.12 575.61 1529.87 Q575.61 1538.6 572.531 1543.21 Q569.476 1547.79 563.666 1547.79 Q557.855 1547.79 554.777 1543.21 Q551.721 1538.6 551.721 1529.87 Q551.721 1521.12 554.777 1516.54 Q557.855 1511.93 563.666 1511.93 Z\" fill=\"#000000\" fill-rule=\"evenodd\" fill-opacity=\"1\" /><path clip-path=\"url(#clip570)\" d=\"M 0 0 M899.432 1543.18 L907.071 1543.18 L907.071 1516.82 L898.76 1518.49 L898.76 1514.23 L907.024 1512.56 L911.7 1512.56 L911.7 1543.18 L919.339 1543.18 L919.339 1547.12 L899.432 1547.12 L899.432 1543.18 Z\" fill=\"#000000\" fill-rule=\"evenodd\" fill-opacity=\"1\" /><path clip-path=\"url(#clip570)\" d=\"M 0 0 M1249.09 1543.18 L1265.41 1543.18 L1265.41 1547.12 L1243.46 1547.12 L1243.46 1543.18 Q1246.12 1540.43 1250.71 1535.8 Q1255.31 1531.15 1256.49 1529.81 Q1258.74 1527.28 1259.62 1525.55 Q1260.52 1523.79 1260.52 1522.1 Q1260.52 1519.34 1258.58 1517.61 Q1256.66 1515.87 1253.55 1515.87 Q1251.36 1515.87 1248.9 1516.63 Q1246.47 1517.4 1243.69 1518.95 L1243.69 1514.23 Q1246.52 1513.09 1248.97 1512.51 Q1251.42 1511.93 1253.46 1511.93 Q1258.83 1511.93 1262.03 1514.62 Q1265.22 1517.31 1265.22 1521.8 Q1265.22 1523.93 1264.41 1525.85 Q1263.62 1527.74 1261.52 1530.34 Q1260.94 1531.01 1257.84 1534.23 Q1254.73 1537.42 1249.09 1543.18 Z\" fill=\"#000000\" fill-rule=\"evenodd\" fill-opacity=\"1\" /><path clip-path=\"url(#clip570)\" d=\"M 0 0 M1604.07 1528.49 Q1607.42 1529.2 1609.3 1531.47 Q1611.2 1533.74 1611.2 1537.07 Q1611.2 1542.19 1607.68 1544.99 Q1604.16 1547.79 1597.68 1547.79 Q1595.5 1547.79 1593.19 1547.35 Q1590.89 1546.93 1588.44 1546.08 L1588.44 1541.56 Q1590.39 1542.7 1592.7 1543.28 Q1595.02 1543.86 1597.54 1543.86 Q1601.94 1543.86 1604.23 1542.12 Q1606.54 1540.38 1606.54 1537.07 Q1606.54 1534.02 1604.39 1532.31 Q1602.26 1530.57 1598.44 1530.57 L1594.41 1530.57 L1594.41 1526.73 L1598.63 1526.73 Q1602.08 1526.73 1603.9 1525.36 Q1605.73 1523.97 1605.73 1521.38 Q1605.73 1518.72 1603.83 1517.31 Q1601.96 1515.87 1598.44 1515.87 Q1596.52 1515.87 1594.32 1516.29 Q1592.12 1516.7 1589.48 1517.58 L1589.48 1513.42 Q1592.14 1512.68 1594.46 1512.31 Q1596.8 1511.93 1598.86 1511.93 Q1604.18 1511.93 1607.28 1514.37 Q1610.39 1516.77 1610.39 1520.89 Q1610.39 1523.76 1608.74 1525.75 Q1607.1 1527.72 1604.07 1528.49 Z\" fill=\"#000000\" fill-rule=\"evenodd\" fill-opacity=\"1\" /><path clip-path=\"url(#clip570)\" d=\"M 0 0 M1948.21 1516.63 L1936.41 1535.08 L1948.21 1535.08 L1948.21 1516.63 M1946.98 1512.56 L1952.86 1512.56 L1952.86 1535.08 L1957.8 1535.08 L1957.8 1538.97 L1952.86 1538.97 L1952.86 1547.12 L1948.21 1547.12 L1948.21 1538.97 L1932.61 1538.97 L1932.61 1534.46 L1946.98 1512.56 Z\" fill=\"#000000\" fill-rule=\"evenodd\" fill-opacity=\"1\" /><path clip-path=\"url(#clip570)\" d=\"M 0 0 M2280.86 1512.56 L2299.22 1512.56 L2299.22 1516.5 L2285.15 1516.5 L2285.15 1524.97 Q2286.17 1524.62 2287.18 1524.46 Q2288.2 1524.27 2289.22 1524.27 Q2295.01 1524.27 2298.39 1527.44 Q2301.77 1530.62 2301.77 1536.03 Q2301.77 1541.61 2298.3 1544.71 Q2294.82 1547.79 2288.5 1547.79 Q2286.33 1547.79 2284.06 1547.42 Q2281.81 1547.05 2279.41 1546.31 L2279.41 1541.61 Q2281.49 1542.74 2283.71 1543.3 Q2285.93 1543.86 2288.41 1543.86 Q2292.42 1543.86 2294.75 1541.75 Q2297.09 1539.64 2297.09 1536.03 Q2297.09 1532.42 2294.75 1530.31 Q2292.42 1528.21 2288.41 1528.21 Q2286.54 1528.21 2284.66 1528.62 Q2282.81 1529.04 2280.86 1529.92 L2280.86 1512.56 Z\" fill=\"#000000\" fill-rule=\"evenodd\" fill-opacity=\"1\" /><polyline clip-path=\"url(#clip572)\" style=\"stroke:#000000; stroke-width:2; stroke-opacity:0.1; fill:none\" points=\"\n",
       "  156.112,1445.73 2352.76,1445.73 \n",
       "  \"/>\n",
       "<polyline clip-path=\"url(#clip572)\" style=\"stroke:#000000; stroke-width:2; stroke-opacity:0.1; fill:none\" points=\"\n",
       "  156.112,1195.98 2352.76,1195.98 \n",
       "  \"/>\n",
       "<polyline clip-path=\"url(#clip572)\" style=\"stroke:#000000; stroke-width:2; stroke-opacity:0.1; fill:none\" points=\"\n",
       "  156.112,946.24 2352.76,946.24 \n",
       "  \"/>\n",
       "<polyline clip-path=\"url(#clip572)\" style=\"stroke:#000000; stroke-width:2; stroke-opacity:0.1; fill:none\" points=\"\n",
       "  156.112,696.495 2352.76,696.495 \n",
       "  \"/>\n",
       "<polyline clip-path=\"url(#clip572)\" style=\"stroke:#000000; stroke-width:2; stroke-opacity:0.1; fill:none\" points=\"\n",
       "  156.112,446.75 2352.76,446.75 \n",
       "  \"/>\n",
       "<polyline clip-path=\"url(#clip572)\" style=\"stroke:#000000; stroke-width:2; stroke-opacity:0.1; fill:none\" points=\"\n",
       "  156.112,197.006 2352.76,197.006 \n",
       "  \"/>\n",
       "<polyline clip-path=\"url(#clip570)\" style=\"stroke:#000000; stroke-width:4; stroke-opacity:1; fill:none\" points=\"\n",
       "  156.112,1486.45 156.112,47.2441 \n",
       "  \"/>\n",
       "<polyline clip-path=\"url(#clip570)\" style=\"stroke:#000000; stroke-width:4; stroke-opacity:1; fill:none\" points=\"\n",
       "  156.112,1445.73 182.472,1445.73 \n",
       "  \"/>\n",
       "<polyline clip-path=\"url(#clip570)\" style=\"stroke:#000000; stroke-width:4; stroke-opacity:1; fill:none\" points=\"\n",
       "  156.112,1195.98 182.472,1195.98 \n",
       "  \"/>\n",
       "<polyline clip-path=\"url(#clip570)\" style=\"stroke:#000000; stroke-width:4; stroke-opacity:1; fill:none\" points=\"\n",
       "  156.112,946.24 182.472,946.24 \n",
       "  \"/>\n",
       "<polyline clip-path=\"url(#clip570)\" style=\"stroke:#000000; stroke-width:4; stroke-opacity:1; fill:none\" points=\"\n",
       "  156.112,696.495 182.472,696.495 \n",
       "  \"/>\n",
       "<polyline clip-path=\"url(#clip570)\" style=\"stroke:#000000; stroke-width:4; stroke-opacity:1; fill:none\" points=\"\n",
       "  156.112,446.75 182.472,446.75 \n",
       "  \"/>\n",
       "<polyline clip-path=\"url(#clip570)\" style=\"stroke:#000000; stroke-width:4; stroke-opacity:1; fill:none\" points=\"\n",
       "  156.112,197.006 182.472,197.006 \n",
       "  \"/>\n",
       "<path clip-path=\"url(#clip570)\" d=\"M 0 0 M62.9365 1431.53 Q59.3254 1431.53 57.4967 1435.09 Q55.6912 1438.63 55.6912 1445.76 Q55.6912 1452.87 57.4967 1456.44 Q59.3254 1459.98 62.9365 1459.98 Q66.5707 1459.98 68.3763 1456.44 Q70.205 1452.87 70.205 1445.76 Q70.205 1438.63 68.3763 1435.09 Q66.5707 1431.53 62.9365 1431.53 M62.9365 1427.82 Q68.7467 1427.82 71.8022 1432.43 Q74.8809 1437.01 74.8809 1445.76 Q74.8809 1454.49 71.8022 1459.1 Q68.7467 1463.68 62.9365 1463.68 Q57.1264 1463.68 54.0477 1459.1 Q50.9921 1454.49 50.9921 1445.76 Q50.9921 1437.01 54.0477 1432.43 Q57.1264 1427.82 62.9365 1427.82 Z\" fill=\"#000000\" fill-rule=\"evenodd\" fill-opacity=\"1\" /><path clip-path=\"url(#clip570)\" d=\"M 0 0 M83.0984 1457.13 L87.9827 1457.13 L87.9827 1463.01 L83.0984 1463.01 L83.0984 1457.13 Z\" fill=\"#000000\" fill-rule=\"evenodd\" fill-opacity=\"1\" /><path clip-path=\"url(#clip570)\" d=\"M 0 0 M108.168 1431.53 Q104.557 1431.53 102.728 1435.09 Q100.922 1438.63 100.922 1445.76 Q100.922 1452.87 102.728 1456.44 Q104.557 1459.98 108.168 1459.98 Q111.802 1459.98 113.608 1456.44 Q115.436 1452.87 115.436 1445.76 Q115.436 1438.63 113.608 1435.09 Q111.802 1431.53 108.168 1431.53 M108.168 1427.82 Q113.978 1427.82 117.033 1432.43 Q120.112 1437.01 120.112 1445.76 Q120.112 1454.49 117.033 1459.1 Q113.978 1463.68 108.168 1463.68 Q102.358 1463.68 99.2789 1459.1 Q96.2234 1454.49 96.2234 1445.76 Q96.2234 1437.01 99.2789 1432.43 Q102.358 1427.82 108.168 1427.82 Z\" fill=\"#000000\" fill-rule=\"evenodd\" fill-opacity=\"1\" /><path clip-path=\"url(#clip570)\" d=\"M 0 0 M63.9319 1181.78 Q60.3208 1181.78 58.4921 1185.35 Q56.6865 1188.89 56.6865 1196.02 Q56.6865 1203.13 58.4921 1206.69 Q60.3208 1210.23 63.9319 1210.23 Q67.5661 1210.23 69.3717 1206.69 Q71.2004 1203.13 71.2004 1196.02 Q71.2004 1188.89 69.3717 1185.35 Q67.5661 1181.78 63.9319 1181.78 M63.9319 1178.08 Q69.742 1178.08 72.7976 1182.69 Q75.8763 1187.27 75.8763 1196.02 Q75.8763 1204.75 72.7976 1209.35 Q69.742 1213.94 63.9319 1213.94 Q58.1217 1213.94 55.043 1209.35 Q51.9875 1204.75 51.9875 1196.02 Q51.9875 1187.27 55.043 1182.69 Q58.1217 1178.08 63.9319 1178.08 Z\" fill=\"#000000\" fill-rule=\"evenodd\" fill-opacity=\"1\" /><path clip-path=\"url(#clip570)\" d=\"M 0 0 M84.0938 1207.38 L88.978 1207.38 L88.978 1213.26 L84.0938 1213.26 L84.0938 1207.38 Z\" fill=\"#000000\" fill-rule=\"evenodd\" fill-opacity=\"1\" /><path clip-path=\"url(#clip570)\" d=\"M 0 0 M99.2095 1178.7 L117.566 1178.7 L117.566 1182.64 L103.492 1182.64 L103.492 1191.11 Q104.51 1190.76 105.529 1190.6 Q106.547 1190.42 107.566 1190.42 Q113.353 1190.42 116.733 1193.59 Q120.112 1196.76 120.112 1202.18 Q120.112 1207.76 116.64 1210.86 Q113.168 1213.94 106.848 1213.94 Q104.672 1213.94 102.404 1213.57 Q100.159 1213.2 97.7511 1212.45 L97.7511 1207.76 Q99.8345 1208.89 102.057 1209.45 Q104.279 1210 106.756 1210 Q110.76 1210 113.098 1207.89 Q115.436 1205.79 115.436 1202.18 Q115.436 1198.57 113.098 1196.46 Q110.76 1194.35 106.756 1194.35 Q104.881 1194.35 103.006 1194.77 Q101.154 1195.19 99.2095 1196.07 L99.2095 1178.7 Z\" fill=\"#000000\" fill-rule=\"evenodd\" fill-opacity=\"1\" /><path clip-path=\"url(#clip570)\" d=\"M 0 0 M53.7467 959.585 L61.3856 959.585 L61.3856 933.219 L53.0754 934.886 L53.0754 930.626 L61.3393 928.96 L66.0152 928.96 L66.0152 959.585 L73.654 959.585 L73.654 963.52 L53.7467 963.52 L53.7467 959.585 Z\" fill=\"#000000\" fill-rule=\"evenodd\" fill-opacity=\"1\" /><path clip-path=\"url(#clip570)\" d=\"M 0 0 M83.0984 957.64 L87.9827 957.64 L87.9827 963.52 L83.0984 963.52 L83.0984 957.64 Z\" fill=\"#000000\" fill-rule=\"evenodd\" fill-opacity=\"1\" /><path clip-path=\"url(#clip570)\" d=\"M 0 0 M108.168 932.039 Q104.557 932.039 102.728 935.603 Q100.922 939.145 100.922 946.275 Q100.922 953.381 102.728 956.946 Q104.557 960.487 108.168 960.487 Q111.802 960.487 113.608 956.946 Q115.436 953.381 115.436 946.275 Q115.436 939.145 113.608 935.603 Q111.802 932.039 108.168 932.039 M108.168 928.335 Q113.978 928.335 117.033 932.941 Q120.112 937.525 120.112 946.275 Q120.112 955.001 117.033 959.608 Q113.978 964.191 108.168 964.191 Q102.358 964.191 99.2789 959.608 Q96.2234 955.001 96.2234 946.275 Q96.2234 937.525 99.2789 932.941 Q102.358 928.335 108.168 928.335 Z\" fill=\"#000000\" fill-rule=\"evenodd\" fill-opacity=\"1\" /><path clip-path=\"url(#clip570)\" d=\"M 0 0 M54.7421 709.84 L62.381 709.84 L62.381 683.474 L54.0708 685.141 L54.0708 680.882 L62.3347 679.215 L67.0106 679.215 L67.0106 709.84 L74.6494 709.84 L74.6494 713.775 L54.7421 713.775 L54.7421 709.84 Z\" fill=\"#000000\" fill-rule=\"evenodd\" fill-opacity=\"1\" /><path clip-path=\"url(#clip570)\" d=\"M 0 0 M84.0938 707.896 L88.978 707.896 L88.978 713.775 L84.0938 713.775 L84.0938 707.896 Z\" fill=\"#000000\" fill-rule=\"evenodd\" fill-opacity=\"1\" /><path clip-path=\"url(#clip570)\" d=\"M 0 0 M99.2095 679.215 L117.566 679.215 L117.566 683.15 L103.492 683.15 L103.492 691.622 Q104.51 691.275 105.529 691.113 Q106.547 690.928 107.566 690.928 Q113.353 690.928 116.733 694.099 Q120.112 697.271 120.112 702.687 Q120.112 708.266 116.64 711.368 Q113.168 714.446 106.848 714.446 Q104.672 714.446 102.404 714.076 Q100.159 713.706 97.7511 712.965 L97.7511 708.266 Q99.8345 709.4 102.057 709.956 Q104.279 710.511 106.756 710.511 Q110.76 710.511 113.098 708.405 Q115.436 706.298 115.436 702.687 Q115.436 699.076 113.098 696.97 Q110.76 694.863 106.756 694.863 Q104.881 694.863 103.006 695.28 Q101.154 695.697 99.2095 696.576 L99.2095 679.215 Z\" fill=\"#000000\" fill-rule=\"evenodd\" fill-opacity=\"1\" /><path clip-path=\"url(#clip570)\" d=\"M 0 0 M56.9643 460.095 L73.2837 460.095 L73.2837 464.03 L51.3393 464.03 L51.3393 460.095 Q54.0014 457.341 58.5847 452.711 Q63.1911 448.058 64.3717 446.716 Q66.617 444.193 67.4967 442.456 Q68.3994 440.697 68.3994 439.007 Q68.3994 436.253 66.455 434.517 Q64.5337 432.781 61.4319 432.781 Q59.2328 432.781 56.7791 433.544 Q54.3486 434.308 51.5708 435.859 L51.5708 431.137 Q54.3949 430.003 56.8486 429.424 Q59.3023 428.845 61.3393 428.845 Q66.7096 428.845 69.9041 431.531 Q73.0985 434.216 73.0985 438.706 Q73.0985 440.836 72.2883 442.757 Q71.5013 444.656 69.3948 447.248 Q68.8161 447.919 65.7143 451.137 Q62.6124 454.331 56.9643 460.095 Z\" fill=\"#000000\" fill-rule=\"evenodd\" fill-opacity=\"1\" /><path clip-path=\"url(#clip570)\" d=\"M 0 0 M83.0984 458.151 L87.9827 458.151 L87.9827 464.03 L83.0984 464.03 L83.0984 458.151 Z\" fill=\"#000000\" fill-rule=\"evenodd\" fill-opacity=\"1\" /><path clip-path=\"url(#clip570)\" d=\"M 0 0 M108.168 432.549 Q104.557 432.549 102.728 436.114 Q100.922 439.656 100.922 446.785 Q100.922 453.892 102.728 457.456 Q104.557 460.998 108.168 460.998 Q111.802 460.998 113.608 457.456 Q115.436 453.892 115.436 446.785 Q115.436 439.656 113.608 436.114 Q111.802 432.549 108.168 432.549 M108.168 428.845 Q113.978 428.845 117.033 433.452 Q120.112 438.035 120.112 446.785 Q120.112 455.512 117.033 460.118 Q113.978 464.702 108.168 464.702 Q102.358 464.702 99.2789 460.118 Q96.2234 455.512 96.2234 446.785 Q96.2234 438.035 99.2789 433.452 Q102.358 428.845 108.168 428.845 Z\" fill=\"#000000\" fill-rule=\"evenodd\" fill-opacity=\"1\" /><path clip-path=\"url(#clip570)\" d=\"M 0 0 M57.9597 210.351 L74.279 210.351 L74.279 214.286 L52.3347 214.286 L52.3347 210.351 Q54.9967 207.596 59.58 202.966 Q64.1865 198.314 65.367 196.971 Q67.6124 194.448 68.492 192.712 Q69.3948 190.953 69.3948 189.263 Q69.3948 186.508 67.4504 184.772 Q65.5291 183.036 62.4272 183.036 Q60.2282 183.036 57.7745 183.8 Q55.344 184.564 52.5662 186.115 L52.5662 181.392 Q55.3903 180.258 57.8439 179.679 Q60.2976 179.101 62.3347 179.101 Q67.705 179.101 70.8994 181.786 Q74.0939 184.471 74.0939 188.962 Q74.0939 191.091 73.2837 193.013 Q72.4966 194.911 70.3902 197.503 Q69.8115 198.175 66.7096 201.392 Q63.6078 204.587 57.9597 210.351 Z\" fill=\"#000000\" fill-rule=\"evenodd\" fill-opacity=\"1\" /><path clip-path=\"url(#clip570)\" d=\"M 0 0 M84.0938 208.406 L88.978 208.406 L88.978 214.286 L84.0938 214.286 L84.0938 208.406 Z\" fill=\"#000000\" fill-rule=\"evenodd\" fill-opacity=\"1\" /><path clip-path=\"url(#clip570)\" d=\"M 0 0 M99.2095 179.726 L117.566 179.726 L117.566 183.661 L103.492 183.661 L103.492 192.133 Q104.51 191.786 105.529 191.624 Q106.547 191.439 107.566 191.439 Q113.353 191.439 116.733 194.61 Q120.112 197.781 120.112 203.198 Q120.112 208.777 116.64 211.878 Q113.168 214.957 106.848 214.957 Q104.672 214.957 102.404 214.587 Q100.159 214.216 97.7511 213.476 L97.7511 208.777 Q99.8345 209.911 102.057 210.466 Q104.279 211.022 106.756 211.022 Q110.76 211.022 113.098 208.915 Q115.436 206.809 115.436 203.198 Q115.436 199.587 113.098 197.48 Q110.76 195.374 106.756 195.374 Q104.881 195.374 103.006 195.79 Q101.154 196.207 99.2095 197.087 L99.2095 179.726 Z\" fill=\"#000000\" fill-rule=\"evenodd\" fill-opacity=\"1\" /><polyline clip-path=\"url(#clip572)\" style=\"stroke:#009af9; stroke-width:4; stroke-opacity:1; fill:none\" points=\"\n",
       "  218.281,87.9763 223.341,146.634 228.4,203.307 233.46,258.048 238.519,310.911 250.215,426.196 261.91,532.318 273.605,629.85 285.301,719.336 296.996,801.288 \n",
       "  308.692,876.192 320.387,944.505 332.083,1006.66 343.778,1063.07 355.474,1114.11 367.169,1160.16 378.865,1201.55 402.255,1271.65 425.646,1326.78 439.703,1353.61 \n",
       "  453.76,1376.2 467.817,1394.96 481.874,1410.23 509.988,1431.64 538.102,1442.78 561.872,1445.72 585.642,1443.83 609.412,1438.05 633.182,1429.18 684.824,1402.45 \n",
       "  736.465,1369.92 784.074,1338.27 831.684,1307.3 882.725,1276.5 933.767,1249.31 992.905,1223.1 1052.04,1202.88 1157.15,1181.2 1249.32,1175.35 1349.81,1180.02 \n",
       "  1450.9,1193.17 1562.66,1214.05 1669.01,1237.26 1779.58,1262.58 1872.65,1283.61 1986.29,1307.93 2093.11,1328.83 2264.25,1357.67 2290.59,1361.59 \n",
       "  \"/>\n",
       "<circle clip-path=\"url(#clip572)\" cx=\"218.281\" cy=\"87.9763\" r=\"14\" fill=\"#e26f46\" fill-rule=\"evenodd\" fill-opacity=\"1\" stroke=\"#000000\" stroke-opacity=\"1\" stroke-width=\"3.2\"/>\n",
       "</svg>\n"
      ]
     },
     "execution_count": 154,
     "metadata": {},
     "output_type": "execute_result"
    }
   ],
   "source": [
    "# Teste 2\n",
    "\n",
    "f(x) = x^2 * exp(-x)\n",
    "fd(x) = -exp(-x)*x*(x-2)\n",
    "fdd(x) = exp(-x)*(x^2 - 4*x + 2)\n",
    "esq = -1\n",
    "dir = 5\n",
    "p = maximar_uma_funcao(f, fd, fdd, esq, dir)\n",
    "\n",
    "plot(f, esq, dir, leg=false)\n",
    "scatter!(p:p, [f(p)])"
   ]
  },
  {
   "cell_type": "code",
   "execution_count": 153,
   "metadata": {},
   "outputs": [
    {
     "data": {
      "image/svg+xml": [
       "<?xml version=\"1.0\" encoding=\"utf-8\"?>\n",
       "<svg xmlns=\"http://www.w3.org/2000/svg\" xmlns:xlink=\"http://www.w3.org/1999/xlink\" width=\"600\" height=\"400\" viewBox=\"0 0 2400 1600\">\n",
       "<defs>\n",
       "  <clipPath id=\"clip530\">\n",
       "    <rect x=\"0\" y=\"0\" width=\"2400\" height=\"1600\"/>\n",
       "  </clipPath>\n",
       "</defs>\n",
       "<path clip-path=\"url(#clip530)\" d=\"\n",
       "M0 1600 L2400 1600 L2400 0 L0 0  Z\n",
       "  \" fill=\"#ffffff\" fill-rule=\"evenodd\" fill-opacity=\"1\"/>\n",
       "<defs>\n",
       "  <clipPath id=\"clip531\">\n",
       "    <rect x=\"480\" y=\"0\" width=\"1681\" height=\"1600\"/>\n",
       "  </clipPath>\n",
       "</defs>\n",
       "<path clip-path=\"url(#clip530)\" d=\"\n",
       "M186.274 1486.45 L2352.76 1486.45 L2352.76 47.2441 L186.274 47.2441  Z\n",
       "  \" fill=\"#ffffff\" fill-rule=\"evenodd\" fill-opacity=\"1\"/>\n",
       "<defs>\n",
       "  <clipPath id=\"clip532\">\n",
       "    <rect x=\"186\" y=\"47\" width=\"2167\" height=\"1440\"/>\n",
       "  </clipPath>\n",
       "</defs>\n",
       "<polyline clip-path=\"url(#clip532)\" style=\"stroke:#000000; stroke-width:2; stroke-opacity:0.1; fill:none\" points=\"\n",
       "  247.59,1486.45 247.59,47.2441 \n",
       "  \"/>\n",
       "<polyline clip-path=\"url(#clip532)\" style=\"stroke:#000000; stroke-width:2; stroke-opacity:0.1; fill:none\" points=\"\n",
       "  758.552,1486.45 758.552,47.2441 \n",
       "  \"/>\n",
       "<polyline clip-path=\"url(#clip532)\" style=\"stroke:#000000; stroke-width:2; stroke-opacity:0.1; fill:none\" points=\"\n",
       "  1269.51,1486.45 1269.51,47.2441 \n",
       "  \"/>\n",
       "<polyline clip-path=\"url(#clip532)\" style=\"stroke:#000000; stroke-width:2; stroke-opacity:0.1; fill:none\" points=\"\n",
       "  1780.48,1486.45 1780.48,47.2441 \n",
       "  \"/>\n",
       "<polyline clip-path=\"url(#clip532)\" style=\"stroke:#000000; stroke-width:2; stroke-opacity:0.1; fill:none\" points=\"\n",
       "  2291.44,1486.45 2291.44,47.2441 \n",
       "  \"/>\n",
       "<polyline clip-path=\"url(#clip530)\" style=\"stroke:#000000; stroke-width:4; stroke-opacity:1; fill:none\" points=\"\n",
       "  186.274,1486.45 2352.76,1486.45 \n",
       "  \"/>\n",
       "<polyline clip-path=\"url(#clip530)\" style=\"stroke:#000000; stroke-width:4; stroke-opacity:1; fill:none\" points=\"\n",
       "  247.59,1486.45 247.59,1469.18 \n",
       "  \"/>\n",
       "<polyline clip-path=\"url(#clip530)\" style=\"stroke:#000000; stroke-width:4; stroke-opacity:1; fill:none\" points=\"\n",
       "  758.552,1486.45 758.552,1469.18 \n",
       "  \"/>\n",
       "<polyline clip-path=\"url(#clip530)\" style=\"stroke:#000000; stroke-width:4; stroke-opacity:1; fill:none\" points=\"\n",
       "  1269.51,1486.45 1269.51,1469.18 \n",
       "  \"/>\n",
       "<polyline clip-path=\"url(#clip530)\" style=\"stroke:#000000; stroke-width:4; stroke-opacity:1; fill:none\" points=\"\n",
       "  1780.48,1486.45 1780.48,1469.18 \n",
       "  \"/>\n",
       "<polyline clip-path=\"url(#clip530)\" style=\"stroke:#000000; stroke-width:4; stroke-opacity:1; fill:none\" points=\"\n",
       "  2291.44,1486.45 2291.44,1469.18 \n",
       "  \"/>\n",
       "<path clip-path=\"url(#clip530)\" d=\"M 0 0 M217.532 1530.29 L247.208 1530.29 L247.208 1534.23 L217.532 1534.23 L217.532 1530.29 Z\" fill=\"#000000\" fill-rule=\"evenodd\" fill-opacity=\"1\" /><path clip-path=\"url(#clip530)\" d=\"M 0 0 M261.328 1543.18 L277.647 1543.18 L277.647 1547.12 L255.703 1547.12 L255.703 1543.18 Q258.365 1540.43 262.948 1535.8 Q267.555 1531.15 268.735 1529.81 Q270.981 1527.28 271.86 1525.55 Q272.763 1523.79 272.763 1522.1 Q272.763 1519.34 270.819 1517.61 Q268.897 1515.87 265.795 1515.87 Q263.596 1515.87 261.143 1516.63 Q258.712 1517.4 255.934 1518.95 L255.934 1514.23 Q258.758 1513.09 261.212 1512.51 Q263.666 1511.93 265.703 1511.93 Q271.073 1511.93 274.268 1514.62 Q277.462 1517.31 277.462 1521.8 Q277.462 1523.93 276.652 1525.85 Q275.865 1527.74 273.758 1530.34 Q273.18 1531.01 270.078 1534.23 Q266.976 1537.42 261.328 1543.18 Z\" fill=\"#000000\" fill-rule=\"evenodd\" fill-opacity=\"1\" /><path clip-path=\"url(#clip530)\" d=\"M 0 0 M728.309 1530.29 L757.985 1530.29 L757.985 1534.23 L728.309 1534.23 L728.309 1530.29 Z\" fill=\"#000000\" fill-rule=\"evenodd\" fill-opacity=\"1\" /><path clip-path=\"url(#clip530)\" d=\"M 0 0 M768.888 1543.18 L776.527 1543.18 L776.527 1516.82 L768.217 1518.49 L768.217 1514.23 L776.48 1512.56 L781.156 1512.56 L781.156 1543.18 L788.795 1543.18 L788.795 1547.12 L768.888 1547.12 L768.888 1543.18 Z\" fill=\"#000000\" fill-rule=\"evenodd\" fill-opacity=\"1\" /><path clip-path=\"url(#clip530)\" d=\"M 0 0 M1269.51 1515.64 Q1265.9 1515.64 1264.08 1519.2 Q1262.27 1522.75 1262.27 1529.87 Q1262.27 1536.98 1264.08 1540.55 Q1265.9 1544.09 1269.51 1544.09 Q1273.15 1544.09 1274.95 1540.55 Q1276.78 1536.98 1276.78 1529.87 Q1276.78 1522.75 1274.95 1519.2 Q1273.15 1515.64 1269.51 1515.64 M1269.51 1511.93 Q1275.33 1511.93 1278.38 1516.54 Q1281.46 1521.12 1281.46 1529.87 Q1281.46 1538.6 1278.38 1543.21 Q1275.33 1547.79 1269.51 1547.79 Q1263.7 1547.79 1260.63 1543.21 Q1257.57 1538.6 1257.57 1529.87 Q1257.57 1521.12 1260.63 1516.54 Q1263.7 1511.93 1269.51 1511.93 Z\" fill=\"#000000\" fill-rule=\"evenodd\" fill-opacity=\"1\" /><path clip-path=\"url(#clip530)\" d=\"M 0 0 M1770.86 1543.18 L1778.5 1543.18 L1778.5 1516.82 L1770.19 1518.49 L1770.19 1514.23 L1778.45 1512.56 L1783.13 1512.56 L1783.13 1543.18 L1790.77 1543.18 L1790.77 1547.12 L1770.86 1547.12 L1770.86 1543.18 Z\" fill=\"#000000\" fill-rule=\"evenodd\" fill-opacity=\"1\" /><path clip-path=\"url(#clip530)\" d=\"M 0 0 M2286.09 1543.18 L2302.41 1543.18 L2302.41 1547.12 L2280.47 1547.12 L2280.47 1543.18 Q2283.13 1540.43 2287.71 1535.8 Q2292.32 1531.15 2293.5 1529.81 Q2295.75 1527.28 2296.63 1525.55 Q2297.53 1523.79 2297.53 1522.1 Q2297.53 1519.34 2295.58 1517.61 Q2293.66 1515.87 2290.56 1515.87 Q2288.36 1515.87 2285.91 1516.63 Q2283.48 1517.4 2280.7 1518.95 L2280.7 1514.23 Q2283.52 1513.09 2285.98 1512.51 Q2288.43 1511.93 2290.47 1511.93 Q2295.84 1511.93 2299.03 1514.62 Q2302.23 1517.31 2302.23 1521.8 Q2302.23 1523.93 2301.42 1525.85 Q2300.63 1527.74 2298.52 1530.34 Q2297.94 1531.01 2294.84 1534.23 Q2291.74 1537.42 2286.09 1543.18 Z\" fill=\"#000000\" fill-rule=\"evenodd\" fill-opacity=\"1\" /><polyline clip-path=\"url(#clip532)\" style=\"stroke:#000000; stroke-width:2; stroke-opacity:0.1; fill:none\" points=\"\n",
       "  186.274,1471.05 2352.76,1471.05 \n",
       "  \"/>\n",
       "<polyline clip-path=\"url(#clip532)\" style=\"stroke:#000000; stroke-width:2; stroke-opacity:0.1; fill:none\" points=\"\n",
       "  186.274,1125.28 2352.76,1125.28 \n",
       "  \"/>\n",
       "<polyline clip-path=\"url(#clip532)\" style=\"stroke:#000000; stroke-width:2; stroke-opacity:0.1; fill:none\" points=\"\n",
       "  186.274,779.512 2352.76,779.512 \n",
       "  \"/>\n",
       "<polyline clip-path=\"url(#clip532)\" style=\"stroke:#000000; stroke-width:2; stroke-opacity:0.1; fill:none\" points=\"\n",
       "  186.274,433.744 2352.76,433.744 \n",
       "  \"/>\n",
       "<polyline clip-path=\"url(#clip532)\" style=\"stroke:#000000; stroke-width:2; stroke-opacity:0.1; fill:none\" points=\"\n",
       "  186.274,87.9763 2352.76,87.9763 \n",
       "  \"/>\n",
       "<polyline clip-path=\"url(#clip530)\" style=\"stroke:#000000; stroke-width:4; stroke-opacity:1; fill:none\" points=\"\n",
       "  186.274,1486.45 186.274,47.2441 \n",
       "  \"/>\n",
       "<polyline clip-path=\"url(#clip530)\" style=\"stroke:#000000; stroke-width:4; stroke-opacity:1; fill:none\" points=\"\n",
       "  186.274,1471.05 212.272,1471.05 \n",
       "  \"/>\n",
       "<polyline clip-path=\"url(#clip530)\" style=\"stroke:#000000; stroke-width:4; stroke-opacity:1; fill:none\" points=\"\n",
       "  186.274,1125.28 212.272,1125.28 \n",
       "  \"/>\n",
       "<polyline clip-path=\"url(#clip530)\" style=\"stroke:#000000; stroke-width:4; stroke-opacity:1; fill:none\" points=\"\n",
       "  186.274,779.512 212.272,779.512 \n",
       "  \"/>\n",
       "<polyline clip-path=\"url(#clip530)\" style=\"stroke:#000000; stroke-width:4; stroke-opacity:1; fill:none\" points=\"\n",
       "  186.274,433.744 212.272,433.744 \n",
       "  \"/>\n",
       "<polyline clip-path=\"url(#clip530)\" style=\"stroke:#000000; stroke-width:4; stroke-opacity:1; fill:none\" points=\"\n",
       "  186.274,87.9763 212.272,87.9763 \n",
       "  \"/>\n",
       "<path clip-path=\"url(#clip530)\" d=\"M 0 0 M62.9365 1456.85 Q59.3254 1456.85 57.4967 1460.41 Q55.6912 1463.95 55.6912 1471.08 Q55.6912 1478.19 57.4967 1481.75 Q59.3254 1485.3 62.9365 1485.3 Q66.5707 1485.3 68.3763 1481.75 Q70.205 1478.19 70.205 1471.08 Q70.205 1463.95 68.3763 1460.41 Q66.5707 1456.85 62.9365 1456.85 M62.9365 1453.14 Q68.7467 1453.14 71.8022 1457.75 Q74.8809 1462.33 74.8809 1471.08 Q74.8809 1479.81 71.8022 1484.42 Q68.7467 1489 62.9365 1489 Q57.1264 1489 54.0477 1484.42 Q50.9921 1479.81 50.9921 1471.08 Q50.9921 1462.33 54.0477 1457.75 Q57.1264 1453.14 62.9365 1453.14 Z\" fill=\"#000000\" fill-rule=\"evenodd\" fill-opacity=\"1\" /><path clip-path=\"url(#clip530)\" d=\"M 0 0 M83.0984 1482.45 L87.9827 1482.45 L87.9827 1488.33 L83.0984 1488.33 L83.0984 1482.45 Z\" fill=\"#000000\" fill-rule=\"evenodd\" fill-opacity=\"1\" /><path clip-path=\"url(#clip530)\" d=\"M 0 0 M108.168 1456.85 Q104.557 1456.85 102.728 1460.41 Q100.922 1463.95 100.922 1471.08 Q100.922 1478.19 102.728 1481.75 Q104.557 1485.3 108.168 1485.3 Q111.802 1485.3 113.608 1481.75 Q115.436 1478.19 115.436 1471.08 Q115.436 1463.95 113.608 1460.41 Q111.802 1456.85 108.168 1456.85 M108.168 1453.14 Q113.978 1453.14 117.033 1457.75 Q120.112 1462.33 120.112 1471.08 Q120.112 1479.81 117.033 1484.42 Q113.978 1489 108.168 1489 Q102.358 1489 99.2789 1484.42 Q96.2234 1479.81 96.2234 1471.08 Q96.2234 1462.33 99.2789 1457.75 Q102.358 1453.14 108.168 1453.14 Z\" fill=\"#000000\" fill-rule=\"evenodd\" fill-opacity=\"1\" /><path clip-path=\"url(#clip530)\" d=\"M 0 0 M138.33 1456.85 Q134.719 1456.85 132.89 1460.41 Q131.084 1463.95 131.084 1471.08 Q131.084 1478.19 132.89 1481.75 Q134.719 1485.3 138.33 1485.3 Q141.964 1485.3 143.769 1481.75 Q145.598 1478.19 145.598 1471.08 Q145.598 1463.95 143.769 1460.41 Q141.964 1456.85 138.33 1456.85 M138.33 1453.14 Q144.14 1453.14 147.195 1457.75 Q150.274 1462.33 150.274 1471.08 Q150.274 1479.81 147.195 1484.42 Q144.14 1489 138.33 1489 Q132.519 1489 129.441 1484.42 Q126.385 1479.81 126.385 1471.08 Q126.385 1462.33 129.441 1457.75 Q132.519 1453.14 138.33 1453.14 Z\" fill=\"#000000\" fill-rule=\"evenodd\" fill-opacity=\"1\" /><path clip-path=\"url(#clip530)\" d=\"M 0 0 M63.9319 1111.08 Q60.3208 1111.08 58.4921 1114.64 Q56.6865 1118.18 56.6865 1125.31 Q56.6865 1132.42 58.4921 1135.99 Q60.3208 1139.53 63.9319 1139.53 Q67.5661 1139.53 69.3717 1135.99 Q71.2004 1132.42 71.2004 1125.31 Q71.2004 1118.18 69.3717 1114.64 Q67.5661 1111.08 63.9319 1111.08 M63.9319 1107.37 Q69.742 1107.37 72.7976 1111.98 Q75.8763 1116.56 75.8763 1125.31 Q75.8763 1134.04 72.7976 1138.65 Q69.742 1143.23 63.9319 1143.23 Q58.1217 1143.23 55.043 1138.65 Q51.9875 1134.04 51.9875 1125.31 Q51.9875 1116.56 55.043 1111.98 Q58.1217 1107.37 63.9319 1107.37 Z\" fill=\"#000000\" fill-rule=\"evenodd\" fill-opacity=\"1\" /><path clip-path=\"url(#clip530)\" d=\"M 0 0 M84.0938 1136.68 L88.978 1136.68 L88.978 1142.56 L84.0938 1142.56 L84.0938 1136.68 Z\" fill=\"#000000\" fill-rule=\"evenodd\" fill-opacity=\"1\" /><path clip-path=\"url(#clip530)\" d=\"M 0 0 M103.191 1138.62 L119.51 1138.62 L119.51 1142.56 L97.566 1142.56 L97.566 1138.62 Q100.228 1135.87 104.811 1131.24 Q109.418 1126.59 110.598 1125.24 Q112.844 1122.72 113.723 1120.99 Q114.626 1119.23 114.626 1117.54 Q114.626 1114.78 112.682 1113.05 Q110.76 1111.31 107.658 1111.31 Q105.459 1111.31 103.006 1112.07 Q100.575 1112.84 97.7974 1114.39 L97.7974 1109.67 Q100.621 1108.53 103.075 1107.95 Q105.529 1107.37 107.566 1107.37 Q112.936 1107.37 116.131 1110.06 Q119.325 1112.75 119.325 1117.24 Q119.325 1119.37 118.515 1121.29 Q117.728 1123.18 115.621 1125.78 Q115.043 1126.45 111.941 1129.67 Q108.839 1132.86 103.191 1138.62 Z\" fill=\"#000000\" fill-rule=\"evenodd\" fill-opacity=\"1\" /><path clip-path=\"url(#clip530)\" d=\"M 0 0 M129.371 1108 L147.728 1108 L147.728 1111.93 L133.654 1111.93 L133.654 1120.41 Q134.672 1120.06 135.691 1119.9 Q136.709 1119.71 137.728 1119.71 Q143.515 1119.71 146.894 1122.88 Q150.274 1126.06 150.274 1131.47 Q150.274 1137.05 146.802 1140.15 Q143.33 1143.23 137.01 1143.23 Q134.834 1143.23 132.566 1142.86 Q130.32 1142.49 127.913 1141.75 L127.913 1137.05 Q129.996 1138.18 132.219 1138.74 Q134.441 1139.3 136.918 1139.3 Q140.922 1139.3 143.26 1137.19 Q145.598 1135.08 145.598 1131.47 Q145.598 1127.86 143.26 1125.75 Q140.922 1123.65 136.918 1123.65 Q135.043 1123.65 133.168 1124.06 Q131.316 1124.48 129.371 1125.36 L129.371 1108 Z\" fill=\"#000000\" fill-rule=\"evenodd\" fill-opacity=\"1\" /><path clip-path=\"url(#clip530)\" d=\"M 0 0 M62.9365 765.311 Q59.3254 765.311 57.4967 768.875 Q55.6912 772.417 55.6912 779.547 Q55.6912 786.653 57.4967 790.218 Q59.3254 793.76 62.9365 793.76 Q66.5707 793.76 68.3763 790.218 Q70.205 786.653 70.205 779.547 Q70.205 772.417 68.3763 768.875 Q66.5707 765.311 62.9365 765.311 M62.9365 761.607 Q68.7467 761.607 71.8022 766.213 Q74.8809 770.797 74.8809 779.547 Q74.8809 788.273 71.8022 792.88 Q68.7467 797.463 62.9365 797.463 Q57.1264 797.463 54.0477 792.88 Q50.9921 788.273 50.9921 779.547 Q50.9921 770.797 54.0477 766.213 Q57.1264 761.607 62.9365 761.607 Z\" fill=\"#000000\" fill-rule=\"evenodd\" fill-opacity=\"1\" /><path clip-path=\"url(#clip530)\" d=\"M 0 0 M83.0984 790.912 L87.9827 790.912 L87.9827 796.792 L83.0984 796.792 L83.0984 790.912 Z\" fill=\"#000000\" fill-rule=\"evenodd\" fill-opacity=\"1\" /><path clip-path=\"url(#clip530)\" d=\"M 0 0 M98.2141 762.232 L116.57 762.232 L116.57 766.167 L102.496 766.167 L102.496 774.639 Q103.515 774.292 104.534 774.13 Q105.552 773.945 106.571 773.945 Q112.358 773.945 115.737 777.116 Q119.117 780.287 119.117 785.704 Q119.117 791.283 115.645 794.385 Q112.172 797.463 105.853 797.463 Q103.677 797.463 101.409 797.093 Q99.1632 796.722 96.7558 795.982 L96.7558 791.283 Q98.8391 792.417 101.061 792.972 Q103.284 793.528 105.76 793.528 Q109.765 793.528 112.103 791.422 Q114.441 789.315 114.441 785.704 Q114.441 782.093 112.103 779.986 Q109.765 777.88 105.76 777.88 Q103.885 777.88 102.01 778.297 Q100.159 778.713 98.2141 779.593 L98.2141 762.232 Z\" fill=\"#000000\" fill-rule=\"evenodd\" fill-opacity=\"1\" /><path clip-path=\"url(#clip530)\" d=\"M 0 0 M138.33 765.311 Q134.719 765.311 132.89 768.875 Q131.084 772.417 131.084 779.547 Q131.084 786.653 132.89 790.218 Q134.719 793.76 138.33 793.76 Q141.964 793.76 143.769 790.218 Q145.598 786.653 145.598 779.547 Q145.598 772.417 143.769 768.875 Q141.964 765.311 138.33 765.311 M138.33 761.607 Q144.14 761.607 147.195 766.213 Q150.274 770.797 150.274 779.547 Q150.274 788.273 147.195 792.88 Q144.14 797.463 138.33 797.463 Q132.519 797.463 129.441 792.88 Q126.385 788.273 126.385 779.547 Q126.385 770.797 129.441 766.213 Q132.519 761.607 138.33 761.607 Z\" fill=\"#000000\" fill-rule=\"evenodd\" fill-opacity=\"1\" /><path clip-path=\"url(#clip530)\" d=\"M 0 0 M63.9319 419.543 Q60.3208 419.543 58.4921 423.108 Q56.6865 426.649 56.6865 433.779 Q56.6865 440.885 58.4921 444.45 Q60.3208 447.992 63.9319 447.992 Q67.5661 447.992 69.3717 444.45 Q71.2004 440.885 71.2004 433.779 Q71.2004 426.649 69.3717 423.108 Q67.5661 419.543 63.9319 419.543 M63.9319 415.839 Q69.742 415.839 72.7976 420.446 Q75.8763 425.029 75.8763 433.779 Q75.8763 442.506 72.7976 447.112 Q69.742 451.695 63.9319 451.695 Q58.1217 451.695 55.043 447.112 Q51.9875 442.506 51.9875 433.779 Q51.9875 425.029 55.043 420.446 Q58.1217 415.839 63.9319 415.839 Z\" fill=\"#000000\" fill-rule=\"evenodd\" fill-opacity=\"1\" /><path clip-path=\"url(#clip530)\" d=\"M 0 0 M84.0938 445.144 L88.978 445.144 L88.978 451.024 L84.0938 451.024 L84.0938 445.144 Z\" fill=\"#000000\" fill-rule=\"evenodd\" fill-opacity=\"1\" /><path clip-path=\"url(#clip530)\" d=\"M 0 0 M97.9826 416.464 L120.205 416.464 L120.205 418.455 L107.658 451.024 L102.774 451.024 L114.58 420.399 L97.9826 420.399 L97.9826 416.464 Z\" fill=\"#000000\" fill-rule=\"evenodd\" fill-opacity=\"1\" /><path clip-path=\"url(#clip530)\" d=\"M 0 0 M129.371 416.464 L147.728 416.464 L147.728 420.399 L133.654 420.399 L133.654 428.871 Q134.672 428.524 135.691 428.362 Q136.709 428.177 137.728 428.177 Q143.515 428.177 146.894 431.348 Q150.274 434.52 150.274 439.936 Q150.274 445.515 146.802 448.617 Q143.33 451.695 137.01 451.695 Q134.834 451.695 132.566 451.325 Q130.32 450.955 127.913 450.214 L127.913 445.515 Q129.996 446.649 132.219 447.205 Q134.441 447.76 136.918 447.76 Q140.922 447.76 143.26 445.654 Q145.598 443.547 145.598 439.936 Q145.598 436.325 143.26 434.219 Q140.922 432.112 136.918 432.112 Q135.043 432.112 133.168 432.529 Q131.316 432.945 129.371 433.825 L129.371 416.464 Z\" fill=\"#000000\" fill-rule=\"evenodd\" fill-opacity=\"1\" /><path clip-path=\"url(#clip530)\" d=\"M 0 0 M53.7467 101.321 L61.3856 101.321 L61.3856 74.9555 L53.0754 76.6222 L53.0754 72.3629 L61.3393 70.6963 L66.0152 70.6963 L66.0152 101.321 L73.654 101.321 L73.654 105.256 L53.7467 105.256 L53.7467 101.321 Z\" fill=\"#000000\" fill-rule=\"evenodd\" fill-opacity=\"1\" /><path clip-path=\"url(#clip530)\" d=\"M 0 0 M83.0984 99.3767 L87.9827 99.3767 L87.9827 105.256 L83.0984 105.256 L83.0984 99.3767 Z\" fill=\"#000000\" fill-rule=\"evenodd\" fill-opacity=\"1\" /><path clip-path=\"url(#clip530)\" d=\"M 0 0 M108.168 73.775 Q104.557 73.775 102.728 77.3398 Q100.922 80.8814 100.922 88.011 Q100.922 95.1174 102.728 98.6822 Q104.557 102.224 108.168 102.224 Q111.802 102.224 113.608 98.6822 Q115.436 95.1174 115.436 88.011 Q115.436 80.8814 113.608 77.3398 Q111.802 73.775 108.168 73.775 M108.168 70.0713 Q113.978 70.0713 117.033 74.6777 Q120.112 79.261 120.112 88.011 Q120.112 96.7378 117.033 101.344 Q113.978 105.928 108.168 105.928 Q102.358 105.928 99.2789 101.344 Q96.2234 96.7378 96.2234 88.011 Q96.2234 79.261 99.2789 74.6777 Q102.358 70.0713 108.168 70.0713 Z\" fill=\"#000000\" fill-rule=\"evenodd\" fill-opacity=\"1\" /><path clip-path=\"url(#clip530)\" d=\"M 0 0 M138.33 73.775 Q134.719 73.775 132.89 77.3398 Q131.084 80.8814 131.084 88.011 Q131.084 95.1174 132.89 98.6822 Q134.719 102.224 138.33 102.224 Q141.964 102.224 143.769 98.6822 Q145.598 95.1174 145.598 88.011 Q145.598 80.8814 143.769 77.3398 Q141.964 73.775 138.33 73.775 M138.33 70.0713 Q144.14 70.0713 147.195 74.6777 Q150.274 79.261 150.274 88.011 Q150.274 96.7378 147.195 101.344 Q144.14 105.928 138.33 105.928 Q132.519 105.928 129.441 101.344 Q126.385 96.7378 126.385 88.011 Q126.385 79.261 129.441 74.6777 Q132.519 70.0713 138.33 70.0713 Z\" fill=\"#000000\" fill-rule=\"evenodd\" fill-opacity=\"1\" /><polyline clip-path=\"url(#clip532)\" style=\"stroke:#009af9; stroke-width:4; stroke-opacity:1; fill:none\" points=\"\n",
       "  247.59,1445.72 257.569,1443.67 267.549,1441.48 359.828,1412.93 452.107,1364.04 479.835,1344.13 507.563,1321.39 535.291,1295.61 563.019,1266.61 609.906,1209.76 \n",
       "  656.793,1142.69 707.726,1058.14 758.658,962.032 805.614,864.498 852.569,760.38 902.91,644.476 953.251,528.152 1011.58,399.103 1069.9,283.737 1095.82,238.915 \n",
       "  1121.73,198.961 1147.65,164.453 1173.57,135.895 1219.02,101.418 1264.47,88.111 1289.25,90.0378 1314.03,98.4324 1338.8,113.177 1363.58,134.066 1388.51,160.986 \n",
       "  1413.43,193.458 1438.36,231.041 1463.28,273.232 1518.4,380.091 1573.51,500.272 1625.95,620.874 1678.39,742.014 1732.92,863.43 1787.45,976.028 1833.35,1061.76 \n",
       "  1879.25,1138.06 1935.28,1217.81 1991.32,1283.04 2044,1332.03 2096.68,1370.42 2181.07,1413.68 2265.46,1440.08 2278.45,1443.02 2291.44,1445.72 \n",
       "  \"/>\n",
       "<circle clip-path=\"url(#clip532)\" cx=\"1269.51\" cy=\"87.9763\" r=\"14\" fill=\"#e26f46\" fill-rule=\"evenodd\" fill-opacity=\"1\" stroke=\"#000000\" stroke-opacity=\"1\" stroke-width=\"3.2\"/>\n",
       "</svg>\n"
      ]
     },
     "execution_count": 153,
     "metadata": {},
     "output_type": "execute_result"
    }
   ],
   "source": [
    "# Teste 3\n",
    "\n",
    "f(x) = exp(-x^2)\n",
    "fd(x) = -2*exp(-x^2)*x\n",
    "fdd(x) = exp(-x^2)*(4*x^2 - 2)\n",
    "esq = -2\n",
    "dir = 2\n",
    "p = maximar_uma_funcao(f, fd, fdd, esq, dir)\n",
    "\n",
    "plot(f, esq, dir, leg=false)\n",
    "scatter!(p:p, [f(p)])"
   ]
  },
  {
   "cell_type": "markdown",
   "metadata": {},
   "source": [
    "### Encontrar um ponto crítico de uma função"
   ]
  },
  {
   "cell_type": "code",
   "execution_count": 79,
   "metadata": {},
   "outputs": [
    {
     "data": {
      "text/plain": [
       "achar_um_ponto_critico_de_uma_funcao (generic function with 3 methods)"
      ]
     },
     "execution_count": 79,
     "metadata": {},
     "output_type": "execute_result"
    }
   ],
   "source": [
    "\"\"\" A ideia aqui é acharmos o ponto em que f'(x) = 0. Podemos usar bisseção, newton ou ponto fixo para isso. \"\"\"\n",
    "\n",
    "# Luan\n",
    "function achar_um_ponto_critico_de_uma_funcao(derivada, esq, dir, erro = 1e-2, qtd_iterações = 10)\n",
    "    \n",
    "    # Começamos uma lista de intervalos para o método da bisseção e selecionaremos os propícios\n",
    "    lista_de_intervalos = Any[[esq, dir]]\n",
    "    intervalos_propicios = Any[]\n",
    "    \n",
    "    # Escolhemos uma quantidade de iterações para diminuir o intervalo\n",
    "    for j in 1:qtd_iterações\n",
    "        \n",
    "        # Se a lista de intervalos estiver vazia, não temos mais o que procurar\n",
    "        if size(lista_de_intervalos, 1) == 0\n",
    "            break\n",
    "        end\n",
    "        \n",
    "        # Pega o primeiro intervalo da lista\n",
    "        intervalo = lista_de_intervalos[1]\n",
    "        \n",
    "        # Pega os pontos desse intervalo\n",
    "        a = intervalo[1]\n",
    "        b = intervalo[2]\n",
    "        \n",
    "        # Calcula o ponto médio do intervalo\n",
    "        metade_do_intervalo = (a+b)/2.0\n",
    "        \n",
    "        # Retira o intervalo da lista\n",
    "        deleteat!(lista_de_intervalos, 1)\n",
    "\n",
    "        # Sendo x a metade do intervalo, se um dos intervalos criados [a, x] ou [x, b] satisfizer as condições\n",
    "        # Adicionamos ele a uma outra lista contendo os intervalos bons\n",
    "        # Caso contrário adicionamos eles a nossa lista de intervalos\n",
    "        if derivada(a)*derivada(metade_do_intervalo) <= 0\n",
    "            push!(intervalos_propicios, [a, metade_do_intervalo])\n",
    "        else\n",
    "            push!(lista_de_intervalos, [a, metade_do_intervalo])\n",
    "        end\n",
    "        \n",
    "        if derivada(metade_do_intervalo)*derivada(b) <= 0\n",
    "            push!(intervalos_propicios, [metade_do_intervalo, b])\n",
    "        else\n",
    "            push!(lista_de_intervalos, [metade_do_intervalo, b])\n",
    "        end\n",
    "        \n",
    "    end\n",
    "    \n",
    "    println(intervalos_propicios)\n",
    "    \n",
    "    # Pega o primeiro ponto crítico da lista\n",
    "    ponto_crítico = bissecao(derivada, intervalos_propicios[1][1], intervalos_propicios[1][2], erro)\n",
    "        \n",
    "    return ponto_crítico\n",
    "end"
   ]
  },
  {
   "cell_type": "code",
   "execution_count": 155,
   "metadata": {},
   "outputs": [
    {
     "name": "stdout",
     "output_type": "stream",
     "text": [
      "Any[[0.0, 2.5], [2.5, 5.0]]\n"
     ]
    },
    {
     "data": {
      "image/svg+xml": [
       "<?xml version=\"1.0\" encoding=\"utf-8\"?>\n",
       "<svg xmlns=\"http://www.w3.org/2000/svg\" xmlns:xlink=\"http://www.w3.org/1999/xlink\" width=\"600\" height=\"400\" viewBox=\"0 0 2400 1600\">\n",
       "<defs>\n",
       "  <clipPath id=\"clip610\">\n",
       "    <rect x=\"0\" y=\"0\" width=\"2400\" height=\"1600\"/>\n",
       "  </clipPath>\n",
       "</defs>\n",
       "<path clip-path=\"url(#clip610)\" d=\"\n",
       "M0 1600 L2400 1600 L2400 0 L0 0  Z\n",
       "  \" fill=\"#ffffff\" fill-rule=\"evenodd\" fill-opacity=\"1\"/>\n",
       "<defs>\n",
       "  <clipPath id=\"clip611\">\n",
       "    <rect x=\"480\" y=\"0\" width=\"1681\" height=\"1600\"/>\n",
       "  </clipPath>\n",
       "</defs>\n",
       "<path clip-path=\"url(#clip610)\" d=\"\n",
       "M112.177 1486.45 L2352.76 1486.45 L2352.76 47.2441 L112.177 47.2441  Z\n",
       "  \" fill=\"#ffffff\" fill-rule=\"evenodd\" fill-opacity=\"1\"/>\n",
       "<defs>\n",
       "  <clipPath id=\"clip612\">\n",
       "    <rect x=\"112\" y=\"47\" width=\"2242\" height=\"1440\"/>\n",
       "  </clipPath>\n",
       "</defs>\n",
       "<polyline clip-path=\"url(#clip612)\" style=\"stroke:#000000; stroke-width:2; stroke-opacity:0.1; fill:none\" points=\"\n",
       "  175.59,1486.45 175.59,47.2441 \n",
       "  \"/>\n",
       "<polyline clip-path=\"url(#clip612)\" style=\"stroke:#000000; stroke-width:2; stroke-opacity:0.1; fill:none\" points=\"\n",
       "  598.34,1486.45 598.34,47.2441 \n",
       "  \"/>\n",
       "<polyline clip-path=\"url(#clip612)\" style=\"stroke:#000000; stroke-width:2; stroke-opacity:0.1; fill:none\" points=\"\n",
       "  1021.09,1486.45 1021.09,47.2441 \n",
       "  \"/>\n",
       "<polyline clip-path=\"url(#clip612)\" style=\"stroke:#000000; stroke-width:2; stroke-opacity:0.1; fill:none\" points=\"\n",
       "  1443.84,1486.45 1443.84,47.2441 \n",
       "  \"/>\n",
       "<polyline clip-path=\"url(#clip612)\" style=\"stroke:#000000; stroke-width:2; stroke-opacity:0.1; fill:none\" points=\"\n",
       "  1866.59,1486.45 1866.59,47.2441 \n",
       "  \"/>\n",
       "<polyline clip-path=\"url(#clip612)\" style=\"stroke:#000000; stroke-width:2; stroke-opacity:0.1; fill:none\" points=\"\n",
       "  2289.34,1486.45 2289.34,47.2441 \n",
       "  \"/>\n",
       "<polyline clip-path=\"url(#clip610)\" style=\"stroke:#000000; stroke-width:4; stroke-opacity:1; fill:none\" points=\"\n",
       "  112.177,1486.45 2352.76,1486.45 \n",
       "  \"/>\n",
       "<polyline clip-path=\"url(#clip610)\" style=\"stroke:#000000; stroke-width:4; stroke-opacity:1; fill:none\" points=\"\n",
       "  175.59,1486.45 175.59,1469.18 \n",
       "  \"/>\n",
       "<polyline clip-path=\"url(#clip610)\" style=\"stroke:#000000; stroke-width:4; stroke-opacity:1; fill:none\" points=\"\n",
       "  598.34,1486.45 598.34,1469.18 \n",
       "  \"/>\n",
       "<polyline clip-path=\"url(#clip610)\" style=\"stroke:#000000; stroke-width:4; stroke-opacity:1; fill:none\" points=\"\n",
       "  1021.09,1486.45 1021.09,1469.18 \n",
       "  \"/>\n",
       "<polyline clip-path=\"url(#clip610)\" style=\"stroke:#000000; stroke-width:4; stroke-opacity:1; fill:none\" points=\"\n",
       "  1443.84,1486.45 1443.84,1469.18 \n",
       "  \"/>\n",
       "<polyline clip-path=\"url(#clip610)\" style=\"stroke:#000000; stroke-width:4; stroke-opacity:1; fill:none\" points=\"\n",
       "  1866.59,1486.45 1866.59,1469.18 \n",
       "  \"/>\n",
       "<polyline clip-path=\"url(#clip610)\" style=\"stroke:#000000; stroke-width:4; stroke-opacity:1; fill:none\" points=\"\n",
       "  2289.34,1486.45 2289.34,1469.18 \n",
       "  \"/>\n",
       "<path clip-path=\"url(#clip610)\" d=\"M 0 0 M175.59 1515.64 Q171.979 1515.64 170.15 1519.2 Q168.344 1522.75 168.344 1529.87 Q168.344 1536.98 170.15 1540.55 Q171.979 1544.09 175.59 1544.09 Q179.224 1544.09 181.03 1540.55 Q182.858 1536.98 182.858 1529.87 Q182.858 1522.75 181.03 1519.2 Q179.224 1515.64 175.59 1515.64 M175.59 1511.93 Q181.4 1511.93 184.455 1516.54 Q187.534 1521.12 187.534 1529.87 Q187.534 1538.6 184.455 1543.21 Q181.4 1547.79 175.59 1547.79 Q169.78 1547.79 166.701 1543.21 Q163.645 1538.6 163.645 1529.87 Q163.645 1521.12 166.701 1516.54 Q169.78 1511.93 175.59 1511.93 Z\" fill=\"#000000\" fill-rule=\"evenodd\" fill-opacity=\"1\" /><path clip-path=\"url(#clip610)\" d=\"M 0 0 M588.722 1543.18 L596.361 1543.18 L596.361 1516.82 L588.051 1518.49 L588.051 1514.23 L596.315 1512.56 L600.991 1512.56 L600.991 1543.18 L608.63 1543.18 L608.63 1547.12 L588.722 1547.12 L588.722 1543.18 Z\" fill=\"#000000\" fill-rule=\"evenodd\" fill-opacity=\"1\" /><path clip-path=\"url(#clip610)\" d=\"M 0 0 M1015.74 1543.18 L1032.06 1543.18 L1032.06 1547.12 L1010.12 1547.12 L1010.12 1543.18 Q1012.78 1540.43 1017.36 1535.8 Q1021.97 1531.15 1023.15 1529.81 Q1025.4 1527.28 1026.28 1525.55 Q1027.18 1523.79 1027.18 1522.1 Q1027.18 1519.34 1025.23 1517.61 Q1023.31 1515.87 1020.21 1515.87 Q1018.01 1515.87 1015.56 1516.63 Q1013.13 1517.4 1010.35 1518.95 L1010.35 1514.23 Q1013.17 1513.09 1015.63 1512.51 Q1018.08 1511.93 1020.12 1511.93 Q1025.49 1511.93 1028.68 1514.62 Q1031.88 1517.31 1031.88 1521.8 Q1031.88 1523.93 1031.07 1525.85 Q1030.28 1527.74 1028.17 1530.34 Q1027.6 1531.01 1024.49 1534.23 Q1021.39 1537.42 1015.74 1543.18 Z\" fill=\"#000000\" fill-rule=\"evenodd\" fill-opacity=\"1\" /><path clip-path=\"url(#clip610)\" d=\"M 0 0 M1448.09 1528.49 Q1451.45 1529.2 1453.32 1531.47 Q1455.22 1533.74 1455.22 1537.07 Q1455.22 1542.19 1451.7 1544.99 Q1448.18 1547.79 1441.7 1547.79 Q1439.52 1547.79 1437.21 1547.35 Q1434.92 1546.93 1432.46 1546.08 L1432.46 1541.56 Q1434.41 1542.7 1436.72 1543.28 Q1439.04 1543.86 1441.56 1543.86 Q1445.96 1543.86 1448.25 1542.12 Q1450.57 1540.38 1450.57 1537.07 Q1450.57 1534.02 1448.41 1532.31 Q1446.28 1530.57 1442.46 1530.57 L1438.44 1530.57 L1438.44 1526.73 L1442.65 1526.73 Q1446.1 1526.73 1447.93 1525.36 Q1449.76 1523.97 1449.76 1521.38 Q1449.76 1518.72 1447.86 1517.31 Q1445.98 1515.87 1442.46 1515.87 Q1440.54 1515.87 1438.34 1516.29 Q1436.15 1516.7 1433.51 1517.58 L1433.51 1513.42 Q1436.17 1512.68 1438.48 1512.31 Q1440.82 1511.93 1442.88 1511.93 Q1448.21 1511.93 1451.31 1514.37 Q1454.41 1516.77 1454.41 1520.89 Q1454.41 1523.76 1452.77 1525.75 Q1451.12 1527.72 1448.09 1528.49 Z\" fill=\"#000000\" fill-rule=\"evenodd\" fill-opacity=\"1\" /><path clip-path=\"url(#clip610)\" d=\"M 0 0 M1869.6 1516.63 L1857.8 1535.08 L1869.6 1535.08 L1869.6 1516.63 M1868.37 1512.56 L1874.25 1512.56 L1874.25 1535.08 L1879.19 1535.08 L1879.19 1538.97 L1874.25 1538.97 L1874.25 1547.12 L1869.6 1547.12 L1869.6 1538.97 L1854 1538.97 L1854 1534.46 L1868.37 1512.56 Z\" fill=\"#000000\" fill-rule=\"evenodd\" fill-opacity=\"1\" /><path clip-path=\"url(#clip610)\" d=\"M 0 0 M2279.62 1512.56 L2297.98 1512.56 L2297.98 1516.5 L2283.9 1516.5 L2283.9 1524.97 Q2284.92 1524.62 2285.94 1524.46 Q2286.96 1524.27 2287.98 1524.27 Q2293.76 1524.27 2297.14 1527.44 Q2300.52 1530.62 2300.52 1536.03 Q2300.52 1541.61 2297.05 1544.71 Q2293.58 1547.79 2287.26 1547.79 Q2285.08 1547.79 2282.82 1547.42 Q2280.57 1547.05 2278.16 1546.31 L2278.16 1541.61 Q2280.25 1542.74 2282.47 1543.3 Q2284.69 1543.86 2287.17 1543.86 Q2291.17 1543.86 2293.51 1541.75 Q2295.85 1539.64 2295.85 1536.03 Q2295.85 1532.42 2293.51 1530.31 Q2291.17 1528.21 2287.17 1528.21 Q2285.29 1528.21 2283.42 1528.62 Q2281.57 1529.04 2279.62 1529.92 L2279.62 1512.56 Z\" fill=\"#000000\" fill-rule=\"evenodd\" fill-opacity=\"1\" /><polyline clip-path=\"url(#clip612)\" style=\"stroke:#000000; stroke-width:2; stroke-opacity:0.1; fill:none\" points=\"\n",
       "  112.177,1391.43 2352.76,1391.43 \n",
       "  \"/>\n",
       "<polyline clip-path=\"url(#clip612)\" style=\"stroke:#000000; stroke-width:2; stroke-opacity:0.1; fill:none\" points=\"\n",
       "  112.177,1174.18 2352.76,1174.18 \n",
       "  \"/>\n",
       "<polyline clip-path=\"url(#clip612)\" style=\"stroke:#000000; stroke-width:2; stroke-opacity:0.1; fill:none\" points=\"\n",
       "  112.177,956.943 2352.76,956.943 \n",
       "  \"/>\n",
       "<polyline clip-path=\"url(#clip612)\" style=\"stroke:#000000; stroke-width:2; stroke-opacity:0.1; fill:none\" points=\"\n",
       "  112.177,739.701 2352.76,739.701 \n",
       "  \"/>\n",
       "<polyline clip-path=\"url(#clip612)\" style=\"stroke:#000000; stroke-width:2; stroke-opacity:0.1; fill:none\" points=\"\n",
       "  112.177,522.46 2352.76,522.46 \n",
       "  \"/>\n",
       "<polyline clip-path=\"url(#clip612)\" style=\"stroke:#000000; stroke-width:2; stroke-opacity:0.1; fill:none\" points=\"\n",
       "  112.177,305.218 2352.76,305.218 \n",
       "  \"/>\n",
       "<polyline clip-path=\"url(#clip612)\" style=\"stroke:#000000; stroke-width:2; stroke-opacity:0.1; fill:none\" points=\"\n",
       "  112.177,87.9763 2352.76,87.9763 \n",
       "  \"/>\n",
       "<polyline clip-path=\"url(#clip610)\" style=\"stroke:#000000; stroke-width:4; stroke-opacity:1; fill:none\" points=\"\n",
       "  112.177,1486.45 112.177,47.2441 \n",
       "  \"/>\n",
       "<polyline clip-path=\"url(#clip610)\" style=\"stroke:#000000; stroke-width:4; stroke-opacity:1; fill:none\" points=\"\n",
       "  112.177,1391.43 139.064,1391.43 \n",
       "  \"/>\n",
       "<polyline clip-path=\"url(#clip610)\" style=\"stroke:#000000; stroke-width:4; stroke-opacity:1; fill:none\" points=\"\n",
       "  112.177,1174.18 139.064,1174.18 \n",
       "  \"/>\n",
       "<polyline clip-path=\"url(#clip610)\" style=\"stroke:#000000; stroke-width:4; stroke-opacity:1; fill:none\" points=\"\n",
       "  112.177,956.943 139.064,956.943 \n",
       "  \"/>\n",
       "<polyline clip-path=\"url(#clip610)\" style=\"stroke:#000000; stroke-width:4; stroke-opacity:1; fill:none\" points=\"\n",
       "  112.177,739.701 139.064,739.701 \n",
       "  \"/>\n",
       "<polyline clip-path=\"url(#clip610)\" style=\"stroke:#000000; stroke-width:4; stroke-opacity:1; fill:none\" points=\"\n",
       "  112.177,522.46 139.064,522.46 \n",
       "  \"/>\n",
       "<polyline clip-path=\"url(#clip610)\" style=\"stroke:#000000; stroke-width:4; stroke-opacity:1; fill:none\" points=\"\n",
       "  112.177,305.218 139.064,305.218 \n",
       "  \"/>\n",
       "<polyline clip-path=\"url(#clip610)\" style=\"stroke:#000000; stroke-width:4; stroke-opacity:1; fill:none\" points=\"\n",
       "  112.177,87.9763 139.064,87.9763 \n",
       "  \"/>\n",
       "<path clip-path=\"url(#clip610)\" d=\"M 0 0 M64.2328 1377.22 Q60.6217 1377.22 58.793 1380.79 Q56.9875 1384.33 56.9875 1391.46 Q56.9875 1398.57 58.793 1402.13 Q60.6217 1405.67 64.2328 1405.67 Q67.867 1405.67 69.6726 1402.13 Q71.5013 1398.57 71.5013 1391.46 Q71.5013 1384.33 69.6726 1380.79 Q67.867 1377.22 64.2328 1377.22 M64.2328 1373.52 Q70.0429 1373.52 73.0985 1378.13 Q76.1772 1382.71 76.1772 1391.46 Q76.1772 1400.19 73.0985 1404.79 Q70.0429 1409.38 64.2328 1409.38 Q58.4226 1409.38 55.344 1404.79 Q52.2884 1400.19 52.2884 1391.46 Q52.2884 1382.71 55.344 1378.13 Q58.4226 1373.52 64.2328 1373.52 Z\" fill=\"#000000\" fill-rule=\"evenodd\" fill-opacity=\"1\" /><path clip-path=\"url(#clip610)\" d=\"M 0 0 M56.2699 1187.53 L63.9087 1187.53 L63.9087 1161.16 L55.5986 1162.83 L55.5986 1158.57 L63.8624 1156.9 L68.5383 1156.9 L68.5383 1187.53 L76.1772 1187.53 L76.1772 1191.46 L56.2699 1191.46 L56.2699 1187.53 Z\" fill=\"#000000\" fill-rule=\"evenodd\" fill-opacity=\"1\" /><path clip-path=\"url(#clip610)\" d=\"M 0 0 M59.8578 970.288 L76.1772 970.288 L76.1772 974.223 L54.2328 974.223 L54.2328 970.288 Q56.8949 967.533 61.4782 962.903 Q66.0846 958.251 67.2652 956.908 Q69.5105 954.385 70.3902 952.649 Q71.2929 950.89 71.2929 949.2 Q71.2929 946.445 69.3485 944.709 Q67.4272 942.973 64.3254 942.973 Q62.1263 942.973 59.6726 943.737 Q57.2421 944.501 54.4643 946.052 L54.4643 941.329 Q57.2884 940.195 59.7421 939.616 Q62.1958 939.038 64.2328 939.038 Q69.6031 939.038 72.7976 941.723 Q75.992 944.408 75.992 948.899 Q75.992 951.028 75.1818 952.95 Q74.3948 954.848 72.2883 957.44 Q71.7096 958.112 68.6078 961.329 Q65.5059 964.524 59.8578 970.288 Z\" fill=\"#000000\" fill-rule=\"evenodd\" fill-opacity=\"1\" /><path clip-path=\"url(#clip610)\" d=\"M 0 0 M69.0476 738.347 Q72.404 739.065 74.279 741.333 Q76.1772 743.602 76.1772 746.935 Q76.1772 752.051 72.6587 754.852 Q69.1402 757.652 62.6587 757.652 Q60.4828 757.652 58.168 757.213 Q55.8764 756.796 53.4227 755.939 L53.4227 751.426 Q55.3671 752.56 57.6819 753.139 Q59.9967 753.717 62.5198 753.717 Q66.918 753.717 69.2096 751.981 Q71.5244 750.245 71.5244 746.935 Q71.5244 743.879 69.3717 742.166 Q67.242 740.43 63.4226 740.43 L59.3949 740.43 L59.3949 736.588 L63.6078 736.588 Q67.0569 736.588 68.8855 735.222 Q70.7142 733.833 70.7142 731.241 Q70.7142 728.579 68.8161 727.166 Q66.9411 725.731 63.4226 725.731 Q61.5013 725.731 59.3023 726.148 Q57.1032 726.565 54.4643 727.444 L54.4643 723.278 Q57.1264 722.537 59.4412 722.167 Q61.7791 721.796 63.8393 721.796 Q69.1633 721.796 72.2652 724.227 Q75.367 726.634 75.367 730.754 Q75.367 733.625 73.7235 735.616 Q72.08 737.583 69.0476 738.347 Z\" fill=\"#000000\" fill-rule=\"evenodd\" fill-opacity=\"1\" /><path clip-path=\"url(#clip610)\" d=\"M 0 0 M66.5939 509.254 L54.7884 527.703 L66.5939 527.703 L66.5939 509.254 M65.367 505.18 L71.2466 505.18 L71.2466 527.703 L76.1772 527.703 L76.1772 531.591 L71.2466 531.591 L71.2466 539.74 L66.5939 539.74 L66.5939 531.591 L50.9921 531.591 L50.9921 527.078 L65.367 505.18 Z\" fill=\"#000000\" fill-rule=\"evenodd\" fill-opacity=\"1\" /><path clip-path=\"url(#clip610)\" d=\"M 0 0 M55.2745 287.938 L73.6309 287.938 L73.6309 291.873 L59.5569 291.873 L59.5569 300.345 Q60.5754 299.998 61.5939 299.836 Q62.6124 299.651 63.6309 299.651 Q69.418 299.651 72.7976 302.822 Q76.1772 305.993 76.1772 311.41 Q76.1772 316.989 72.705 320.091 Q69.2328 323.169 62.9134 323.169 Q60.7374 323.169 58.4689 322.799 Q56.2236 322.428 53.8162 321.688 L53.8162 316.989 Q55.8995 318.123 58.1217 318.678 Q60.3439 319.234 62.8208 319.234 Q66.8254 319.234 69.1633 317.128 Q71.5013 315.021 71.5013 311.41 Q71.5013 307.799 69.1633 305.692 Q66.8254 303.586 62.8208 303.586 Q60.9458 303.586 59.0708 304.003 Q57.2189 304.419 55.2745 305.299 L55.2745 287.938 Z\" fill=\"#000000\" fill-rule=\"evenodd\" fill-opacity=\"1\" /><path clip-path=\"url(#clip610)\" d=\"M 0 0 M64.6495 86.1129 Q61.5013 86.1129 59.6495 88.2656 Q57.8208 90.4184 57.8208 94.1684 Q57.8208 97.8952 59.6495 100.071 Q61.5013 102.224 64.6495 102.224 Q67.7976 102.224 69.6263 100.071 Q71.4781 97.8952 71.4781 94.1684 Q71.4781 90.4184 69.6263 88.2656 Q67.7976 86.1129 64.6495 86.1129 M73.9318 71.4602 L73.9318 75.7194 Q72.1726 74.8861 70.367 74.4463 Q68.5846 74.0064 66.8254 74.0064 Q62.1958 74.0064 59.7421 77.1314 Q57.3115 80.2564 56.9643 86.5758 Q58.33 84.5619 60.3902 83.4971 Q62.4504 82.4092 64.9272 82.4092 Q70.1355 82.4092 73.1448 85.5805 Q76.1772 88.7286 76.1772 94.1684 Q76.1772 99.4924 73.029 102.71 Q69.8809 105.928 64.6495 105.928 Q58.6541 105.928 55.4828 101.344 Q52.3116 96.7378 52.3116 88.011 Q52.3116 79.8166 56.2004 74.9555 Q60.0893 70.0713 66.6402 70.0713 Q68.3994 70.0713 70.1818 70.4185 Q71.9874 70.7657 73.9318 71.4602 Z\" fill=\"#000000\" fill-rule=\"evenodd\" fill-opacity=\"1\" /><polyline clip-path=\"url(#clip612)\" style=\"stroke:#009af9; stroke-width:4; stroke-opacity:1; fill:none\" points=\"\n",
       "  175.59,87.9763 185.911,114.366 196.232,140.497 291.667,369.845 387.102,577.052 444.455,690.923 501.807,796.797 550.298,880.074 598.789,957.634 651.463,1035.41 \n",
       "  704.138,1106.44 752.699,1165.94 801.261,1219.72 853.323,1271 905.386,1315.69 965.706,1359.24 1026.03,1393.93 1079.63,1417.34 1133.24,1433.77 1180.24,1442.42 \n",
       "  1227.25,1445.7 1278.5,1443.16 1329.75,1434.23 1381.31,1418.81 1432.86,1396.92 1489.86,1365.2 1546.86,1325.59 1601.1,1280.56 1655.33,1228.38 1711.72,1166.54 \n",
       "  1768.11,1096.97 1815.58,1032.42 1863.05,962.387 1921.01,869.458 1978.96,768.364 2033.44,665.887 2087.92,556.194 2175.2,365.418 2262.48,156.123 2275.91,122.269 \n",
       "  2289.34,87.9763 \n",
       "  \"/>\n",
       "<circle clip-path=\"url(#clip612)\" cx=\"1228.34\" cy=\"1445.72\" r=\"14\" fill=\"#e26f46\" fill-rule=\"evenodd\" fill-opacity=\"1\" stroke=\"#000000\" stroke-opacity=\"1\" stroke-width=\"3.2\"/>\n",
       "</svg>\n"
      ]
     },
     "execution_count": 155,
     "metadata": {},
     "output_type": "execute_result"
    }
   ],
   "source": [
    "#Teste 1\n",
    "\n",
    "f(x) = x^2 - 5x + 6\n",
    "fd(x) = 2x - 5\n",
    "p = achar_um_ponto_critico_de_uma_funcao(fd, 0, 5)\n",
    "\n",
    "plot(f, 0, 5)\n",
    "scatter!(p:p, [f(p)], leg=false)"
   ]
  },
  {
   "cell_type": "code",
   "execution_count": 156,
   "metadata": {},
   "outputs": [
    {
     "name": "stdout",
     "output_type": "stream",
     "text": [
      "Any[[0.0, 2.5], [2.5, 5.0]]\n"
     ]
    },
    {
     "data": {
      "image/svg+xml": [
       "<?xml version=\"1.0\" encoding=\"utf-8\"?>\n",
       "<svg xmlns=\"http://www.w3.org/2000/svg\" xmlns:xlink=\"http://www.w3.org/1999/xlink\" width=\"600\" height=\"400\" viewBox=\"0 0 2400 1600\">\n",
       "<defs>\n",
       "  <clipPath id=\"clip650\">\n",
       "    <rect x=\"0\" y=\"0\" width=\"2400\" height=\"1600\"/>\n",
       "  </clipPath>\n",
       "</defs>\n",
       "<path clip-path=\"url(#clip650)\" d=\"\n",
       "M0 1600 L2400 1600 L2400 0 L0 0  Z\n",
       "  \" fill=\"#ffffff\" fill-rule=\"evenodd\" fill-opacity=\"1\"/>\n",
       "<defs>\n",
       "  <clipPath id=\"clip651\">\n",
       "    <rect x=\"480\" y=\"0\" width=\"1681\" height=\"1600\"/>\n",
       "  </clipPath>\n",
       "</defs>\n",
       "<path clip-path=\"url(#clip650)\" d=\"\n",
       "M112.177 1486.45 L2352.76 1486.45 L2352.76 47.2441 L112.177 47.2441  Z\n",
       "  \" fill=\"#ffffff\" fill-rule=\"evenodd\" fill-opacity=\"1\"/>\n",
       "<defs>\n",
       "  <clipPath id=\"clip652\">\n",
       "    <rect x=\"112\" y=\"47\" width=\"2242\" height=\"1440\"/>\n",
       "  </clipPath>\n",
       "</defs>\n",
       "<polyline clip-path=\"url(#clip652)\" style=\"stroke:#000000; stroke-width:2; stroke-opacity:0.1; fill:none\" points=\"\n",
       "  175.59,1486.45 175.59,47.2441 \n",
       "  \"/>\n",
       "<polyline clip-path=\"url(#clip652)\" style=\"stroke:#000000; stroke-width:2; stroke-opacity:0.1; fill:none\" points=\"\n",
       "  598.34,1486.45 598.34,47.2441 \n",
       "  \"/>\n",
       "<polyline clip-path=\"url(#clip652)\" style=\"stroke:#000000; stroke-width:2; stroke-opacity:0.1; fill:none\" points=\"\n",
       "  1021.09,1486.45 1021.09,47.2441 \n",
       "  \"/>\n",
       "<polyline clip-path=\"url(#clip652)\" style=\"stroke:#000000; stroke-width:2; stroke-opacity:0.1; fill:none\" points=\"\n",
       "  1443.84,1486.45 1443.84,47.2441 \n",
       "  \"/>\n",
       "<polyline clip-path=\"url(#clip652)\" style=\"stroke:#000000; stroke-width:2; stroke-opacity:0.1; fill:none\" points=\"\n",
       "  1866.59,1486.45 1866.59,47.2441 \n",
       "  \"/>\n",
       "<polyline clip-path=\"url(#clip652)\" style=\"stroke:#000000; stroke-width:2; stroke-opacity:0.1; fill:none\" points=\"\n",
       "  2289.34,1486.45 2289.34,47.2441 \n",
       "  \"/>\n",
       "<polyline clip-path=\"url(#clip650)\" style=\"stroke:#000000; stroke-width:4; stroke-opacity:1; fill:none\" points=\"\n",
       "  112.177,1486.45 2352.76,1486.45 \n",
       "  \"/>\n",
       "<polyline clip-path=\"url(#clip650)\" style=\"stroke:#000000; stroke-width:4; stroke-opacity:1; fill:none\" points=\"\n",
       "  175.59,1486.45 175.59,1469.18 \n",
       "  \"/>\n",
       "<polyline clip-path=\"url(#clip650)\" style=\"stroke:#000000; stroke-width:4; stroke-opacity:1; fill:none\" points=\"\n",
       "  598.34,1486.45 598.34,1469.18 \n",
       "  \"/>\n",
       "<polyline clip-path=\"url(#clip650)\" style=\"stroke:#000000; stroke-width:4; stroke-opacity:1; fill:none\" points=\"\n",
       "  1021.09,1486.45 1021.09,1469.18 \n",
       "  \"/>\n",
       "<polyline clip-path=\"url(#clip650)\" style=\"stroke:#000000; stroke-width:4; stroke-opacity:1; fill:none\" points=\"\n",
       "  1443.84,1486.45 1443.84,1469.18 \n",
       "  \"/>\n",
       "<polyline clip-path=\"url(#clip650)\" style=\"stroke:#000000; stroke-width:4; stroke-opacity:1; fill:none\" points=\"\n",
       "  1866.59,1486.45 1866.59,1469.18 \n",
       "  \"/>\n",
       "<polyline clip-path=\"url(#clip650)\" style=\"stroke:#000000; stroke-width:4; stroke-opacity:1; fill:none\" points=\"\n",
       "  2289.34,1486.45 2289.34,1469.18 \n",
       "  \"/>\n",
       "<path clip-path=\"url(#clip650)\" d=\"M 0 0 M175.59 1515.64 Q171.979 1515.64 170.15 1519.2 Q168.344 1522.75 168.344 1529.87 Q168.344 1536.98 170.15 1540.55 Q171.979 1544.09 175.59 1544.09 Q179.224 1544.09 181.03 1540.55 Q182.858 1536.98 182.858 1529.87 Q182.858 1522.75 181.03 1519.2 Q179.224 1515.64 175.59 1515.64 M175.59 1511.93 Q181.4 1511.93 184.455 1516.54 Q187.534 1521.12 187.534 1529.87 Q187.534 1538.6 184.455 1543.21 Q181.4 1547.79 175.59 1547.79 Q169.78 1547.79 166.701 1543.21 Q163.645 1538.6 163.645 1529.87 Q163.645 1521.12 166.701 1516.54 Q169.78 1511.93 175.59 1511.93 Z\" fill=\"#000000\" fill-rule=\"evenodd\" fill-opacity=\"1\" /><path clip-path=\"url(#clip650)\" d=\"M 0 0 M588.722 1543.18 L596.361 1543.18 L596.361 1516.82 L588.051 1518.49 L588.051 1514.23 L596.315 1512.56 L600.991 1512.56 L600.991 1543.18 L608.63 1543.18 L608.63 1547.12 L588.722 1547.12 L588.722 1543.18 Z\" fill=\"#000000\" fill-rule=\"evenodd\" fill-opacity=\"1\" /><path clip-path=\"url(#clip650)\" d=\"M 0 0 M1015.74 1543.18 L1032.06 1543.18 L1032.06 1547.12 L1010.12 1547.12 L1010.12 1543.18 Q1012.78 1540.43 1017.36 1535.8 Q1021.97 1531.15 1023.15 1529.81 Q1025.4 1527.28 1026.28 1525.55 Q1027.18 1523.79 1027.18 1522.1 Q1027.18 1519.34 1025.23 1517.61 Q1023.31 1515.87 1020.21 1515.87 Q1018.01 1515.87 1015.56 1516.63 Q1013.13 1517.4 1010.35 1518.95 L1010.35 1514.23 Q1013.17 1513.09 1015.63 1512.51 Q1018.08 1511.93 1020.12 1511.93 Q1025.49 1511.93 1028.68 1514.62 Q1031.88 1517.31 1031.88 1521.8 Q1031.88 1523.93 1031.07 1525.85 Q1030.28 1527.74 1028.17 1530.34 Q1027.6 1531.01 1024.49 1534.23 Q1021.39 1537.42 1015.74 1543.18 Z\" fill=\"#000000\" fill-rule=\"evenodd\" fill-opacity=\"1\" /><path clip-path=\"url(#clip650)\" d=\"M 0 0 M1448.09 1528.49 Q1451.45 1529.2 1453.32 1531.47 Q1455.22 1533.74 1455.22 1537.07 Q1455.22 1542.19 1451.7 1544.99 Q1448.18 1547.79 1441.7 1547.79 Q1439.52 1547.79 1437.21 1547.35 Q1434.92 1546.93 1432.46 1546.08 L1432.46 1541.56 Q1434.41 1542.7 1436.72 1543.28 Q1439.04 1543.86 1441.56 1543.86 Q1445.96 1543.86 1448.25 1542.12 Q1450.57 1540.38 1450.57 1537.07 Q1450.57 1534.02 1448.41 1532.31 Q1446.28 1530.57 1442.46 1530.57 L1438.44 1530.57 L1438.44 1526.73 L1442.65 1526.73 Q1446.1 1526.73 1447.93 1525.36 Q1449.76 1523.97 1449.76 1521.38 Q1449.76 1518.72 1447.86 1517.31 Q1445.98 1515.87 1442.46 1515.87 Q1440.54 1515.87 1438.34 1516.29 Q1436.15 1516.7 1433.51 1517.58 L1433.51 1513.42 Q1436.17 1512.68 1438.48 1512.31 Q1440.82 1511.93 1442.88 1511.93 Q1448.21 1511.93 1451.31 1514.37 Q1454.41 1516.77 1454.41 1520.89 Q1454.41 1523.76 1452.77 1525.75 Q1451.12 1527.72 1448.09 1528.49 Z\" fill=\"#000000\" fill-rule=\"evenodd\" fill-opacity=\"1\" /><path clip-path=\"url(#clip650)\" d=\"M 0 0 M1869.6 1516.63 L1857.8 1535.08 L1869.6 1535.08 L1869.6 1516.63 M1868.37 1512.56 L1874.25 1512.56 L1874.25 1535.08 L1879.19 1535.08 L1879.19 1538.97 L1874.25 1538.97 L1874.25 1547.12 L1869.6 1547.12 L1869.6 1538.97 L1854 1538.97 L1854 1534.46 L1868.37 1512.56 Z\" fill=\"#000000\" fill-rule=\"evenodd\" fill-opacity=\"1\" /><path clip-path=\"url(#clip650)\" d=\"M 0 0 M2279.62 1512.56 L2297.98 1512.56 L2297.98 1516.5 L2283.9 1516.5 L2283.9 1524.97 Q2284.92 1524.62 2285.94 1524.46 Q2286.96 1524.27 2287.98 1524.27 Q2293.76 1524.27 2297.14 1527.44 Q2300.52 1530.62 2300.52 1536.03 Q2300.52 1541.61 2297.05 1544.71 Q2293.58 1547.79 2287.26 1547.79 Q2285.08 1547.79 2282.82 1547.42 Q2280.57 1547.05 2278.16 1546.31 L2278.16 1541.61 Q2280.25 1542.74 2282.47 1543.3 Q2284.69 1543.86 2287.17 1543.86 Q2291.17 1543.86 2293.51 1541.75 Q2295.85 1539.64 2295.85 1536.03 Q2295.85 1532.42 2293.51 1530.31 Q2291.17 1528.21 2287.17 1528.21 Q2285.29 1528.21 2283.42 1528.62 Q2281.57 1529.04 2279.62 1529.92 L2279.62 1512.56 Z\" fill=\"#000000\" fill-rule=\"evenodd\" fill-opacity=\"1\" /><polyline clip-path=\"url(#clip652)\" style=\"stroke:#000000; stroke-width:2; stroke-opacity:0.1; fill:none\" points=\"\n",
       "  112.177,1445.72 2352.76,1445.72 \n",
       "  \"/>\n",
       "<polyline clip-path=\"url(#clip652)\" style=\"stroke:#000000; stroke-width:2; stroke-opacity:0.1; fill:none\" points=\"\n",
       "  112.177,1149.48 2352.76,1149.48 \n",
       "  \"/>\n",
       "<polyline clip-path=\"url(#clip652)\" style=\"stroke:#000000; stroke-width:2; stroke-opacity:0.1; fill:none\" points=\"\n",
       "  112.177,853.248 2352.76,853.248 \n",
       "  \"/>\n",
       "<polyline clip-path=\"url(#clip652)\" style=\"stroke:#000000; stroke-width:2; stroke-opacity:0.1; fill:none\" points=\"\n",
       "  112.177,557.014 2352.76,557.014 \n",
       "  \"/>\n",
       "<polyline clip-path=\"url(#clip652)\" style=\"stroke:#000000; stroke-width:2; stroke-opacity:0.1; fill:none\" points=\"\n",
       "  112.177,260.779 2352.76,260.779 \n",
       "  \"/>\n",
       "<polyline clip-path=\"url(#clip650)\" style=\"stroke:#000000; stroke-width:4; stroke-opacity:1; fill:none\" points=\"\n",
       "  112.177,1486.45 112.177,47.2441 \n",
       "  \"/>\n",
       "<polyline clip-path=\"url(#clip650)\" style=\"stroke:#000000; stroke-width:4; stroke-opacity:1; fill:none\" points=\"\n",
       "  112.177,1445.72 139.064,1445.72 \n",
       "  \"/>\n",
       "<polyline clip-path=\"url(#clip650)\" style=\"stroke:#000000; stroke-width:4; stroke-opacity:1; fill:none\" points=\"\n",
       "  112.177,1149.48 139.064,1149.48 \n",
       "  \"/>\n",
       "<polyline clip-path=\"url(#clip650)\" style=\"stroke:#000000; stroke-width:4; stroke-opacity:1; fill:none\" points=\"\n",
       "  112.177,853.248 139.064,853.248 \n",
       "  \"/>\n",
       "<polyline clip-path=\"url(#clip650)\" style=\"stroke:#000000; stroke-width:4; stroke-opacity:1; fill:none\" points=\"\n",
       "  112.177,557.014 139.064,557.014 \n",
       "  \"/>\n",
       "<polyline clip-path=\"url(#clip650)\" style=\"stroke:#000000; stroke-width:4; stroke-opacity:1; fill:none\" points=\"\n",
       "  112.177,260.779 139.064,260.779 \n",
       "  \"/>\n",
       "<path clip-path=\"url(#clip650)\" d=\"M 0 0 M64.2328 1431.51 Q60.6217 1431.51 58.793 1435.08 Q56.9875 1438.62 56.9875 1445.75 Q56.9875 1452.86 58.793 1456.42 Q60.6217 1459.96 64.2328 1459.96 Q67.867 1459.96 69.6726 1456.42 Q71.5013 1452.86 71.5013 1445.75 Q71.5013 1438.62 69.6726 1435.08 Q67.867 1431.51 64.2328 1431.51 M64.2328 1427.81 Q70.0429 1427.81 73.0985 1432.42 Q76.1772 1437 76.1772 1445.75 Q76.1772 1454.48 73.0985 1459.08 Q70.0429 1463.67 64.2328 1463.67 Q58.4226 1463.67 55.344 1459.08 Q52.2884 1454.48 52.2884 1445.75 Q52.2884 1437 55.344 1432.42 Q58.4226 1427.81 64.2328 1427.81 Z\" fill=\"#000000\" fill-rule=\"evenodd\" fill-opacity=\"1\" /><path clip-path=\"url(#clip650)\" d=\"M 0 0 M59.8578 1162.83 L76.1772 1162.83 L76.1772 1166.76 L54.2328 1166.76 L54.2328 1162.83 Q56.8949 1160.07 61.4782 1155.44 Q66.0846 1150.79 67.2652 1149.45 Q69.5105 1146.92 70.3902 1145.19 Q71.2929 1143.43 71.2929 1141.74 Q71.2929 1138.98 69.3485 1137.25 Q67.4272 1135.51 64.3254 1135.51 Q62.1263 1135.51 59.6726 1136.28 Q57.2421 1137.04 54.4643 1138.59 L54.4643 1133.87 Q57.2884 1132.73 59.7421 1132.16 Q62.1958 1131.58 64.2328 1131.58 Q69.6031 1131.58 72.7976 1134.26 Q75.992 1136.95 75.992 1141.44 Q75.992 1143.57 75.1818 1145.49 Q74.3948 1147.39 72.2883 1149.98 Q71.7096 1150.65 68.6078 1153.87 Q65.5059 1157.06 59.8578 1162.83 Z\" fill=\"#000000\" fill-rule=\"evenodd\" fill-opacity=\"1\" /><path clip-path=\"url(#clip650)\" d=\"M 0 0 M66.5939 840.042 L54.7884 858.491 L66.5939 858.491 L66.5939 840.042 M65.367 835.968 L71.2466 835.968 L71.2466 858.491 L76.1772 858.491 L76.1772 862.379 L71.2466 862.379 L71.2466 870.528 L66.5939 870.528 L66.5939 862.379 L50.9921 862.379 L50.9921 857.866 L65.367 835.968 Z\" fill=\"#000000\" fill-rule=\"evenodd\" fill-opacity=\"1\" /><path clip-path=\"url(#clip650)\" d=\"M 0 0 M64.6495 555.15 Q61.5013 555.15 59.6495 557.303 Q57.8208 559.456 57.8208 563.206 Q57.8208 566.932 59.6495 569.108 Q61.5013 571.261 64.6495 571.261 Q67.7976 571.261 69.6263 569.108 Q71.4781 566.932 71.4781 563.206 Q71.4781 559.456 69.6263 557.303 Q67.7976 555.15 64.6495 555.15 M73.9318 540.497 L73.9318 544.757 Q72.1726 543.923 70.367 543.484 Q68.5846 543.044 66.8254 543.044 Q62.1958 543.044 59.7421 546.169 Q57.3115 549.294 56.9643 555.613 Q58.33 553.599 60.3902 552.534 Q62.4504 551.446 64.9272 551.446 Q70.1355 551.446 73.1448 554.618 Q76.1772 557.766 76.1772 563.206 Q76.1772 568.53 73.029 571.747 Q69.8809 574.965 64.6495 574.965 Q58.6541 574.965 55.4828 570.382 Q52.3116 565.775 52.3116 557.048 Q52.3116 548.854 56.2004 543.993 Q60.0893 539.109 66.6402 539.109 Q68.3994 539.109 70.1818 539.456 Q71.9874 539.803 73.9318 540.497 Z\" fill=\"#000000\" fill-rule=\"evenodd\" fill-opacity=\"1\" /><path clip-path=\"url(#clip650)\" d=\"M 0 0 M64.3254 261.648 Q60.9921 261.648 59.0708 263.43 Q57.1726 265.212 57.1726 268.337 Q57.1726 271.462 59.0708 273.245 Q60.9921 275.027 64.3254 275.027 Q67.6587 275.027 69.58 273.245 Q71.5013 271.439 71.5013 268.337 Q71.5013 265.212 69.58 263.43 Q67.6819 261.648 64.3254 261.648 M59.6495 259.657 Q56.6402 258.916 54.9504 256.856 Q53.2838 254.796 53.2838 251.833 Q53.2838 247.689 56.2236 245.282 Q59.1865 242.874 64.3254 242.874 Q69.4874 242.874 72.4272 245.282 Q75.367 247.689 75.367 251.833 Q75.367 254.796 73.6772 256.856 Q72.0105 258.916 69.0244 259.657 Q72.404 260.444 74.279 262.735 Q76.1772 265.027 76.1772 268.337 Q76.1772 273.36 73.0985 276.046 Q70.0429 278.731 64.3254 278.731 Q58.6078 278.731 55.5291 276.046 Q52.4736 273.36 52.4736 268.337 Q52.4736 265.027 54.3717 262.735 Q56.2699 260.444 59.6495 259.657 M57.9365 252.273 Q57.9365 254.958 59.6032 256.462 Q61.293 257.967 64.3254 257.967 Q67.3346 257.967 69.0244 256.462 Q70.7374 254.958 70.7374 252.273 Q70.7374 249.587 69.0244 248.083 Q67.3346 246.578 64.3254 246.578 Q61.293 246.578 59.6032 248.083 Q57.9365 249.587 57.9365 252.273 Z\" fill=\"#000000\" fill-rule=\"evenodd\" fill-opacity=\"1\" /><polyline clip-path=\"url(#clip652)\" style=\"stroke:#009af9; stroke-width:4; stroke-opacity:1; fill:none\" points=\"\n",
       "  175.59,1445.72 180.75,1434.92 185.911,1424.24 191.072,1413.66 196.232,1403.2 243.95,1311.48 291.667,1228.59 339.385,1154.1 387.102,1087.59 444.455,1017.59 \n",
       "  501.807,957.75 550.298,914.54 598.789,877.62 651.463,844.119 704.138,816.939 752.699,796.987 801.261,781.471 905.386,761.063 1026.03,754.513 1133.24,758.793 \n",
       "  1227.25,766.389 1329.75,774.766 1432.86,779.14 1546.86,774.077 1655.33,754.473 1711.72,736.891 1768.11,713.334 1815.58,688.355 1863.05,658.224 1921.01,613.843 \n",
       "  1978.96,560.394 2033.44,501.2 2087.92,432.686 2131.56,370.652 2175.2,301.905 2218.84,226.119 2262.48,142.967 2269.2,129.495 2275.91,115.841 2282.63,102.001 \n",
       "  2289.34,87.9763 \n",
       "  \"/>\n",
       "<circle clip-path=\"url(#clip652)\" cx=\"1021.92\" cy=\"754.503\" r=\"14\" fill=\"#e26f46\" fill-rule=\"evenodd\" fill-opacity=\"1\" stroke=\"#000000\" stroke-opacity=\"1\" stroke-width=\"3.2\"/>\n",
       "</svg>\n"
      ]
     },
     "execution_count": 156,
     "metadata": {},
     "output_type": "execute_result"
    }
   ],
   "source": [
    "#Teste 2\n",
    "\n",
    "f(x) = x^3/3 - 5x^2/2 + 6x\n",
    "fd(x) = x^2 - 5x + 6\n",
    "p = achar_um_ponto_critico_de_uma_funcao(fd, 0, 5)\n",
    "\n",
    "plot(f, 0, 5)\n",
    "scatter!(p:p, [f(p)], leg=false)"
   ]
  },
  {
   "cell_type": "code",
   "execution_count": 157,
   "metadata": {},
   "outputs": [
    {
     "name": "stdout",
     "output_type": "stream",
     "text": [
      "Any[[1.5707963267948966, 3.141592653589793]]\n"
     ]
    },
    {
     "data": {
      "image/svg+xml": [
       "<?xml version=\"1.0\" encoding=\"utf-8\"?>\n",
       "<svg xmlns=\"http://www.w3.org/2000/svg\" xmlns:xlink=\"http://www.w3.org/1999/xlink\" width=\"600\" height=\"400\" viewBox=\"0 0 2400 1600\">\n",
       "<defs>\n",
       "  <clipPath id=\"clip690\">\n",
       "    <rect x=\"0\" y=\"0\" width=\"2400\" height=\"1600\"/>\n",
       "  </clipPath>\n",
       "</defs>\n",
       "<path clip-path=\"url(#clip690)\" d=\"\n",
       "M0 1600 L2400 1600 L2400 0 L0 0  Z\n",
       "  \" fill=\"#ffffff\" fill-rule=\"evenodd\" fill-opacity=\"1\"/>\n",
       "<defs>\n",
       "  <clipPath id=\"clip691\">\n",
       "    <rect x=\"480\" y=\"0\" width=\"1681\" height=\"1600\"/>\n",
       "  </clipPath>\n",
       "</defs>\n",
       "<path clip-path=\"url(#clip690)\" d=\"\n",
       "M186.274 1486.45 L2352.76 1486.45 L2352.76 47.2441 L186.274 47.2441  Z\n",
       "  \" fill=\"#ffffff\" fill-rule=\"evenodd\" fill-opacity=\"1\"/>\n",
       "<defs>\n",
       "  <clipPath id=\"clip692\">\n",
       "    <rect x=\"186\" y=\"47\" width=\"2167\" height=\"1440\"/>\n",
       "  </clipPath>\n",
       "</defs>\n",
       "<polyline clip-path=\"url(#clip692)\" style=\"stroke:#000000; stroke-width:2; stroke-opacity:0.1; fill:none\" points=\"\n",
       "  247.59,1486.45 247.59,47.2441 \n",
       "  \"/>\n",
       "<polyline clip-path=\"url(#clip692)\" style=\"stroke:#000000; stroke-width:2; stroke-opacity:0.1; fill:none\" points=\"\n",
       "  898.167,1486.45 898.167,47.2441 \n",
       "  \"/>\n",
       "<polyline clip-path=\"url(#clip692)\" style=\"stroke:#000000; stroke-width:2; stroke-opacity:0.1; fill:none\" points=\"\n",
       "  1548.75,1486.45 1548.75,47.2441 \n",
       "  \"/>\n",
       "<polyline clip-path=\"url(#clip692)\" style=\"stroke:#000000; stroke-width:2; stroke-opacity:0.1; fill:none\" points=\"\n",
       "  2199.32,1486.45 2199.32,47.2441 \n",
       "  \"/>\n",
       "<polyline clip-path=\"url(#clip690)\" style=\"stroke:#000000; stroke-width:4; stroke-opacity:1; fill:none\" points=\"\n",
       "  186.274,1486.45 2352.76,1486.45 \n",
       "  \"/>\n",
       "<polyline clip-path=\"url(#clip690)\" style=\"stroke:#000000; stroke-width:4; stroke-opacity:1; fill:none\" points=\"\n",
       "  247.59,1486.45 247.59,1469.18 \n",
       "  \"/>\n",
       "<polyline clip-path=\"url(#clip690)\" style=\"stroke:#000000; stroke-width:4; stroke-opacity:1; fill:none\" points=\"\n",
       "  898.167,1486.45 898.167,1469.18 \n",
       "  \"/>\n",
       "<polyline clip-path=\"url(#clip690)\" style=\"stroke:#000000; stroke-width:4; stroke-opacity:1; fill:none\" points=\"\n",
       "  1548.75,1486.45 1548.75,1469.18 \n",
       "  \"/>\n",
       "<polyline clip-path=\"url(#clip690)\" style=\"stroke:#000000; stroke-width:4; stroke-opacity:1; fill:none\" points=\"\n",
       "  2199.32,1486.45 2199.32,1469.18 \n",
       "  \"/>\n",
       "<path clip-path=\"url(#clip690)\" d=\"M 0 0 M247.59 1515.64 Q243.978 1515.64 242.15 1519.2 Q240.344 1522.75 240.344 1529.87 Q240.344 1536.98 242.15 1540.55 Q243.978 1544.09 247.59 1544.09 Q251.224 1544.09 253.029 1540.55 Q254.858 1536.98 254.858 1529.87 Q254.858 1522.75 253.029 1519.2 Q251.224 1515.64 247.59 1515.64 M247.59 1511.93 Q253.4 1511.93 256.455 1516.54 Q259.534 1521.12 259.534 1529.87 Q259.534 1538.6 256.455 1543.21 Q253.4 1547.79 247.59 1547.79 Q241.779 1547.79 238.701 1543.21 Q235.645 1538.6 235.645 1529.87 Q235.645 1521.12 238.701 1516.54 Q241.779 1511.93 247.59 1511.93 Z\" fill=\"#000000\" fill-rule=\"evenodd\" fill-opacity=\"1\" /><path clip-path=\"url(#clip690)\" d=\"M 0 0 M888.549 1543.18 L896.188 1543.18 L896.188 1516.82 L887.878 1518.49 L887.878 1514.23 L896.142 1512.56 L900.818 1512.56 L900.818 1543.18 L908.457 1543.18 L908.457 1547.12 L888.549 1547.12 L888.549 1543.18 Z\" fill=\"#000000\" fill-rule=\"evenodd\" fill-opacity=\"1\" /><path clip-path=\"url(#clip690)\" d=\"M 0 0 M1543.4 1543.18 L1559.72 1543.18 L1559.72 1547.12 L1537.77 1547.12 L1537.77 1543.18 Q1540.44 1540.43 1545.02 1535.8 Q1549.63 1531.15 1550.81 1529.81 Q1553.05 1527.28 1553.93 1525.55 Q1554.83 1523.79 1554.83 1522.1 Q1554.83 1519.34 1552.89 1517.61 Q1550.97 1515.87 1547.87 1515.87 Q1545.67 1515.87 1543.21 1516.63 Q1540.78 1517.4 1538 1518.95 L1538 1514.23 Q1540.83 1513.09 1543.28 1512.51 Q1545.74 1511.93 1547.77 1511.93 Q1553.14 1511.93 1556.34 1514.62 Q1559.53 1517.31 1559.53 1521.8 Q1559.53 1523.93 1558.72 1525.85 Q1557.94 1527.74 1555.83 1530.34 Q1555.25 1531.01 1552.15 1534.23 Q1549.05 1537.42 1543.4 1543.18 Z\" fill=\"#000000\" fill-rule=\"evenodd\" fill-opacity=\"1\" /><path clip-path=\"url(#clip690)\" d=\"M 0 0 M2203.57 1528.49 Q2206.93 1529.2 2208.8 1531.47 Q2210.7 1533.74 2210.7 1537.07 Q2210.7 1542.19 2207.18 1544.99 Q2203.66 1547.79 2197.18 1547.79 Q2195.01 1547.79 2192.69 1547.35 Q2190.4 1546.93 2187.95 1546.08 L2187.95 1541.56 Q2189.89 1542.7 2192.21 1543.28 Q2194.52 1543.86 2197.04 1543.86 Q2201.44 1543.86 2203.73 1542.12 Q2206.05 1540.38 2206.05 1537.07 Q2206.05 1534.02 2203.9 1532.31 Q2201.77 1530.57 2197.95 1530.57 L2193.92 1530.57 L2193.92 1526.73 L2198.13 1526.73 Q2201.58 1526.73 2203.41 1525.36 Q2205.24 1523.97 2205.24 1521.38 Q2205.24 1518.72 2203.34 1517.31 Q2201.46 1515.87 2197.95 1515.87 Q2196.02 1515.87 2193.83 1516.29 Q2191.63 1516.7 2188.99 1517.58 L2188.99 1513.42 Q2191.65 1512.68 2193.96 1512.31 Q2196.3 1511.93 2198.36 1511.93 Q2203.69 1511.93 2206.79 1514.37 Q2209.89 1516.77 2209.89 1520.89 Q2209.89 1523.76 2208.25 1525.75 Q2206.6 1527.72 2203.57 1528.49 Z\" fill=\"#000000\" fill-rule=\"evenodd\" fill-opacity=\"1\" /><polyline clip-path=\"url(#clip692)\" style=\"stroke:#000000; stroke-width:2; stroke-opacity:0.1; fill:none\" points=\"\n",
       "  186.274,1445.72 2352.76,1445.72 \n",
       "  \"/>\n",
       "<polyline clip-path=\"url(#clip692)\" style=\"stroke:#000000; stroke-width:2; stroke-opacity:0.1; fill:none\" points=\"\n",
       "  186.274,1106.27 2352.76,1106.27 \n",
       "  \"/>\n",
       "<polyline clip-path=\"url(#clip692)\" style=\"stroke:#000000; stroke-width:2; stroke-opacity:0.1; fill:none\" points=\"\n",
       "  186.274,766.833 2352.76,766.833 \n",
       "  \"/>\n",
       "<polyline clip-path=\"url(#clip692)\" style=\"stroke:#000000; stroke-width:2; stroke-opacity:0.1; fill:none\" points=\"\n",
       "  186.274,427.392 2352.76,427.392 \n",
       "  \"/>\n",
       "<polyline clip-path=\"url(#clip692)\" style=\"stroke:#000000; stroke-width:2; stroke-opacity:0.1; fill:none\" points=\"\n",
       "  186.274,87.9507 2352.76,87.9507 \n",
       "  \"/>\n",
       "<polyline clip-path=\"url(#clip690)\" style=\"stroke:#000000; stroke-width:4; stroke-opacity:1; fill:none\" points=\"\n",
       "  186.274,1486.45 186.274,47.2441 \n",
       "  \"/>\n",
       "<polyline clip-path=\"url(#clip690)\" style=\"stroke:#000000; stroke-width:4; stroke-opacity:1; fill:none\" points=\"\n",
       "  186.274,1445.72 212.272,1445.72 \n",
       "  \"/>\n",
       "<polyline clip-path=\"url(#clip690)\" style=\"stroke:#000000; stroke-width:4; stroke-opacity:1; fill:none\" points=\"\n",
       "  186.274,1106.27 212.272,1106.27 \n",
       "  \"/>\n",
       "<polyline clip-path=\"url(#clip690)\" style=\"stroke:#000000; stroke-width:4; stroke-opacity:1; fill:none\" points=\"\n",
       "  186.274,766.833 212.272,766.833 \n",
       "  \"/>\n",
       "<polyline clip-path=\"url(#clip690)\" style=\"stroke:#000000; stroke-width:4; stroke-opacity:1; fill:none\" points=\"\n",
       "  186.274,427.392 212.272,427.392 \n",
       "  \"/>\n",
       "<polyline clip-path=\"url(#clip690)\" style=\"stroke:#000000; stroke-width:4; stroke-opacity:1; fill:none\" points=\"\n",
       "  186.274,87.9507 212.272,87.9507 \n",
       "  \"/>\n",
       "<path clip-path=\"url(#clip690)\" d=\"M 0 0 M62.9365 1431.51 Q59.3254 1431.51 57.4967 1435.08 Q55.6912 1438.62 55.6912 1445.75 Q55.6912 1452.86 57.4967 1456.42 Q59.3254 1459.96 62.9365 1459.96 Q66.5707 1459.96 68.3763 1456.42 Q70.205 1452.86 70.205 1445.75 Q70.205 1438.62 68.3763 1435.08 Q66.5707 1431.51 62.9365 1431.51 M62.9365 1427.81 Q68.7467 1427.81 71.8022 1432.42 Q74.8809 1437 74.8809 1445.75 Q74.8809 1454.48 71.8022 1459.08 Q68.7467 1463.67 62.9365 1463.67 Q57.1264 1463.67 54.0477 1459.08 Q50.9921 1454.48 50.9921 1445.75 Q50.9921 1437 54.0477 1432.42 Q57.1264 1427.81 62.9365 1427.81 Z\" fill=\"#000000\" fill-rule=\"evenodd\" fill-opacity=\"1\" /><path clip-path=\"url(#clip690)\" d=\"M 0 0 M83.0984 1457.12 L87.9827 1457.12 L87.9827 1463 L83.0984 1463 L83.0984 1457.12 Z\" fill=\"#000000\" fill-rule=\"evenodd\" fill-opacity=\"1\" /><path clip-path=\"url(#clip690)\" d=\"M 0 0 M108.168 1431.51 Q104.557 1431.51 102.728 1435.08 Q100.922 1438.62 100.922 1445.75 Q100.922 1452.86 102.728 1456.42 Q104.557 1459.96 108.168 1459.96 Q111.802 1459.96 113.608 1456.42 Q115.436 1452.86 115.436 1445.75 Q115.436 1438.62 113.608 1435.08 Q111.802 1431.51 108.168 1431.51 M108.168 1427.81 Q113.978 1427.81 117.033 1432.42 Q120.112 1437 120.112 1445.75 Q120.112 1454.48 117.033 1459.08 Q113.978 1463.67 108.168 1463.67 Q102.358 1463.67 99.2789 1459.08 Q96.2234 1454.48 96.2234 1445.75 Q96.2234 1437 99.2789 1432.42 Q102.358 1427.81 108.168 1427.81 Z\" fill=\"#000000\" fill-rule=\"evenodd\" fill-opacity=\"1\" /><path clip-path=\"url(#clip690)\" d=\"M 0 0 M138.33 1431.51 Q134.719 1431.51 132.89 1435.08 Q131.084 1438.62 131.084 1445.75 Q131.084 1452.86 132.89 1456.42 Q134.719 1459.96 138.33 1459.96 Q141.964 1459.96 143.769 1456.42 Q145.598 1452.86 145.598 1445.75 Q145.598 1438.62 143.769 1435.08 Q141.964 1431.51 138.33 1431.51 M138.33 1427.81 Q144.14 1427.81 147.195 1432.42 Q150.274 1437 150.274 1445.75 Q150.274 1454.48 147.195 1459.08 Q144.14 1463.67 138.33 1463.67 Q132.519 1463.67 129.441 1459.08 Q126.385 1454.48 126.385 1445.75 Q126.385 1437 129.441 1432.42 Q132.519 1427.81 138.33 1427.81 Z\" fill=\"#000000\" fill-rule=\"evenodd\" fill-opacity=\"1\" /><path clip-path=\"url(#clip690)\" d=\"M 0 0 M63.9319 1092.07 Q60.3208 1092.07 58.4921 1095.64 Q56.6865 1099.18 56.6865 1106.31 Q56.6865 1113.42 58.4921 1116.98 Q60.3208 1120.52 63.9319 1120.52 Q67.5661 1120.52 69.3717 1116.98 Q71.2004 1113.42 71.2004 1106.31 Q71.2004 1099.18 69.3717 1095.64 Q67.5661 1092.07 63.9319 1092.07 M63.9319 1088.37 Q69.742 1088.37 72.7976 1092.98 Q75.8763 1097.56 75.8763 1106.31 Q75.8763 1115.04 72.7976 1119.64 Q69.742 1124.23 63.9319 1124.23 Q58.1217 1124.23 55.043 1119.64 Q51.9875 1115.04 51.9875 1106.31 Q51.9875 1097.56 55.043 1092.98 Q58.1217 1088.37 63.9319 1088.37 Z\" fill=\"#000000\" fill-rule=\"evenodd\" fill-opacity=\"1\" /><path clip-path=\"url(#clip690)\" d=\"M 0 0 M84.0938 1117.67 L88.978 1117.67 L88.978 1123.55 L84.0938 1123.55 L84.0938 1117.67 Z\" fill=\"#000000\" fill-rule=\"evenodd\" fill-opacity=\"1\" /><path clip-path=\"url(#clip690)\" d=\"M 0 0 M103.191 1119.62 L119.51 1119.62 L119.51 1123.55 L97.566 1123.55 L97.566 1119.62 Q100.228 1116.86 104.811 1112.24 Q109.418 1107.58 110.598 1106.24 Q112.844 1103.72 113.723 1101.98 Q114.626 1100.22 114.626 1098.53 Q114.626 1095.78 112.682 1094.04 Q110.76 1092.3 107.658 1092.3 Q105.459 1092.3 103.006 1093.07 Q100.575 1093.83 97.7974 1095.38 L97.7974 1090.66 Q100.621 1089.53 103.075 1088.95 Q105.529 1088.37 107.566 1088.37 Q112.936 1088.37 116.131 1091.05 Q119.325 1093.74 119.325 1098.23 Q119.325 1100.36 118.515 1102.28 Q117.728 1104.18 115.621 1106.77 Q115.043 1107.44 111.941 1110.66 Q108.839 1113.86 103.191 1119.62 Z\" fill=\"#000000\" fill-rule=\"evenodd\" fill-opacity=\"1\" /><path clip-path=\"url(#clip690)\" d=\"M 0 0 M129.371 1088.99 L147.728 1088.99 L147.728 1092.93 L133.654 1092.93 L133.654 1101.4 Q134.672 1101.05 135.691 1100.89 Q136.709 1100.71 137.728 1100.71 Q143.515 1100.71 146.894 1103.88 Q150.274 1107.05 150.274 1112.47 Q150.274 1118.05 146.802 1121.15 Q143.33 1124.23 137.01 1124.23 Q134.834 1124.23 132.566 1123.86 Q130.32 1123.49 127.913 1122.74 L127.913 1118.05 Q129.996 1119.18 132.219 1119.74 Q134.441 1120.29 136.918 1120.29 Q140.922 1120.29 143.26 1118.18 Q145.598 1116.08 145.598 1112.47 Q145.598 1108.86 143.26 1106.75 Q140.922 1104.64 136.918 1104.64 Q135.043 1104.64 133.168 1105.06 Q131.316 1105.48 129.371 1106.36 L129.371 1088.99 Z\" fill=\"#000000\" fill-rule=\"evenodd\" fill-opacity=\"1\" /><path clip-path=\"url(#clip690)\" d=\"M 0 0 M62.9365 752.632 Q59.3254 752.632 57.4967 756.197 Q55.6912 759.738 55.6912 766.868 Q55.6912 773.974 57.4967 777.539 Q59.3254 781.081 62.9365 781.081 Q66.5707 781.081 68.3763 777.539 Q70.205 773.974 70.205 766.868 Q70.205 759.738 68.3763 756.197 Q66.5707 752.632 62.9365 752.632 M62.9365 748.928 Q68.7467 748.928 71.8022 753.535 Q74.8809 758.118 74.8809 766.868 Q74.8809 775.595 71.8022 780.201 Q68.7467 784.784 62.9365 784.784 Q57.1264 784.784 54.0477 780.201 Q50.9921 775.595 50.9921 766.868 Q50.9921 758.118 54.0477 753.535 Q57.1264 748.928 62.9365 748.928 Z\" fill=\"#000000\" fill-rule=\"evenodd\" fill-opacity=\"1\" /><path clip-path=\"url(#clip690)\" d=\"M 0 0 M83.0984 778.234 L87.9827 778.234 L87.9827 784.113 L83.0984 784.113 L83.0984 778.234 Z\" fill=\"#000000\" fill-rule=\"evenodd\" fill-opacity=\"1\" /><path clip-path=\"url(#clip690)\" d=\"M 0 0 M98.2141 749.553 L116.57 749.553 L116.57 753.488 L102.496 753.488 L102.496 761.961 Q103.515 761.613 104.534 761.451 Q105.552 761.266 106.571 761.266 Q112.358 761.266 115.737 764.437 Q119.117 767.609 119.117 773.025 Q119.117 778.604 115.645 781.706 Q112.172 784.784 105.853 784.784 Q103.677 784.784 101.409 784.414 Q99.1632 784.044 96.7558 783.303 L96.7558 778.604 Q98.8391 779.738 101.061 780.294 Q103.284 780.849 105.76 780.849 Q109.765 780.849 112.103 778.743 Q114.441 776.636 114.441 773.025 Q114.441 769.414 112.103 767.308 Q109.765 765.201 105.76 765.201 Q103.885 765.201 102.01 765.618 Q100.159 766.035 98.2141 766.914 L98.2141 749.553 Z\" fill=\"#000000\" fill-rule=\"evenodd\" fill-opacity=\"1\" /><path clip-path=\"url(#clip690)\" d=\"M 0 0 M138.33 752.632 Q134.719 752.632 132.89 756.197 Q131.084 759.738 131.084 766.868 Q131.084 773.974 132.89 777.539 Q134.719 781.081 138.33 781.081 Q141.964 781.081 143.769 777.539 Q145.598 773.974 145.598 766.868 Q145.598 759.738 143.769 756.197 Q141.964 752.632 138.33 752.632 M138.33 748.928 Q144.14 748.928 147.195 753.535 Q150.274 758.118 150.274 766.868 Q150.274 775.595 147.195 780.201 Q144.14 784.784 138.33 784.784 Q132.519 784.784 129.441 780.201 Q126.385 775.595 126.385 766.868 Q126.385 758.118 129.441 753.535 Q132.519 748.928 138.33 748.928 Z\" fill=\"#000000\" fill-rule=\"evenodd\" fill-opacity=\"1\" /><path clip-path=\"url(#clip690)\" d=\"M 0 0 M63.9319 413.191 Q60.3208 413.191 58.4921 416.755 Q56.6865 420.297 56.6865 427.427 Q56.6865 434.533 58.4921 438.098 Q60.3208 441.64 63.9319 441.64 Q67.5661 441.64 69.3717 438.098 Q71.2004 434.533 71.2004 427.427 Q71.2004 420.297 69.3717 416.755 Q67.5661 413.191 63.9319 413.191 M63.9319 409.487 Q69.742 409.487 72.7976 414.093 Q75.8763 418.677 75.8763 427.427 Q75.8763 436.153 72.7976 440.76 Q69.742 445.343 63.9319 445.343 Q58.1217 445.343 55.043 440.76 Q51.9875 436.153 51.9875 427.427 Q51.9875 418.677 55.043 414.093 Q58.1217 409.487 63.9319 409.487 Z\" fill=\"#000000\" fill-rule=\"evenodd\" fill-opacity=\"1\" /><path clip-path=\"url(#clip690)\" d=\"M 0 0 M84.0938 438.792 L88.978 438.792 L88.978 444.672 L84.0938 444.672 L84.0938 438.792 Z\" fill=\"#000000\" fill-rule=\"evenodd\" fill-opacity=\"1\" /><path clip-path=\"url(#clip690)\" d=\"M 0 0 M97.9826 410.112 L120.205 410.112 L120.205 412.103 L107.658 444.672 L102.774 444.672 L114.58 414.047 L97.9826 414.047 L97.9826 410.112 Z\" fill=\"#000000\" fill-rule=\"evenodd\" fill-opacity=\"1\" /><path clip-path=\"url(#clip690)\" d=\"M 0 0 M129.371 410.112 L147.728 410.112 L147.728 414.047 L133.654 414.047 L133.654 422.519 Q134.672 422.172 135.691 422.01 Q136.709 421.825 137.728 421.825 Q143.515 421.825 146.894 424.996 Q150.274 428.167 150.274 433.584 Q150.274 439.163 146.802 442.265 Q143.33 445.343 137.01 445.343 Q134.834 445.343 132.566 444.973 Q130.32 444.603 127.913 443.862 L127.913 439.163 Q129.996 440.297 132.219 440.853 Q134.441 441.408 136.918 441.408 Q140.922 441.408 143.26 439.302 Q145.598 437.195 145.598 433.584 Q145.598 429.973 143.26 427.866 Q140.922 425.76 136.918 425.76 Q135.043 425.76 133.168 426.177 Q131.316 426.593 129.371 427.473 L129.371 410.112 Z\" fill=\"#000000\" fill-rule=\"evenodd\" fill-opacity=\"1\" /><path clip-path=\"url(#clip690)\" d=\"M 0 0 M53.7467 101.296 L61.3856 101.296 L61.3856 74.93 L53.0754 76.5966 L53.0754 72.3374 L61.3393 70.6707 L66.0152 70.6707 L66.0152 101.296 L73.654 101.296 L73.654 105.231 L53.7467 105.231 L53.7467 101.296 Z\" fill=\"#000000\" fill-rule=\"evenodd\" fill-opacity=\"1\" /><path clip-path=\"url(#clip690)\" d=\"M 0 0 M83.0984 99.3511 L87.9827 99.3511 L87.9827 105.231 L83.0984 105.231 L83.0984 99.3511 Z\" fill=\"#000000\" fill-rule=\"evenodd\" fill-opacity=\"1\" /><path clip-path=\"url(#clip690)\" d=\"M 0 0 M108.168 73.7494 Q104.557 73.7494 102.728 77.3142 Q100.922 80.8558 100.922 87.9854 Q100.922 95.0919 102.728 98.6567 Q104.557 102.198 108.168 102.198 Q111.802 102.198 113.608 98.6567 Q115.436 95.0919 115.436 87.9854 Q115.436 80.8558 113.608 77.3142 Q111.802 73.7494 108.168 73.7494 M108.168 70.0457 Q113.978 70.0457 117.033 74.6522 Q120.112 79.2355 120.112 87.9854 Q120.112 96.7122 117.033 101.319 Q113.978 105.902 108.168 105.902 Q102.358 105.902 99.2789 101.319 Q96.2234 96.7122 96.2234 87.9854 Q96.2234 79.2355 99.2789 74.6522 Q102.358 70.0457 108.168 70.0457 Z\" fill=\"#000000\" fill-rule=\"evenodd\" fill-opacity=\"1\" /><path clip-path=\"url(#clip690)\" d=\"M 0 0 M138.33 73.7494 Q134.719 73.7494 132.89 77.3142 Q131.084 80.8558 131.084 87.9854 Q131.084 95.0919 132.89 98.6567 Q134.719 102.198 138.33 102.198 Q141.964 102.198 143.769 98.6567 Q145.598 95.0919 145.598 87.9854 Q145.598 80.8558 143.769 77.3142 Q141.964 73.7494 138.33 73.7494 M138.33 70.0457 Q144.14 70.0457 147.195 74.6522 Q150.274 79.2355 150.274 87.9854 Q150.274 96.7122 147.195 101.319 Q144.14 105.902 138.33 105.902 Q132.519 105.902 129.441 101.319 Q126.385 96.7122 126.385 87.9854 Q126.385 79.2355 129.441 74.6522 Q132.519 70.0457 138.33 70.0457 Z\" fill=\"#000000\" fill-rule=\"evenodd\" fill-opacity=\"1\" /><polyline clip-path=\"url(#clip692)\" style=\"stroke:#009af9; stroke-width:4; stroke-opacity:1; fill:none\" points=\"\n",
       "  247.59,1445.72 257.569,1424.89 267.549,1404.07 359.828,1212.63 452.107,1025.88 507.563,917.472 563.019,812.901 609.906,728.042 656.793,646.91 707.726,563.49 \n",
       "  758.658,485.474 805.614,418.752 852.569,357.376 902.91,297.878 953.251,245.249 1011.58,193.276 1069.9,151.362 1121.73,122.83 1173.57,102.69 1219.02,92.0385 \n",
       "  1264.47,87.9915 1314.03,91.1274 1363.58,102.119 1413.43,121.037 1463.28,147.729 1518.4,186.099 1573.51,233.503 1625.95,286.686 1678.39,347.395 1732.92,418.076 \n",
       "  1787.45,495.971 1833.35,566.734 1879.25,641.871 1991.32,841.346 2096.68,1045.29 2265.46,1391.52 2291.44,1445.72 \n",
       "  \"/>\n",
       "<circle clip-path=\"url(#clip692)\" cx=\"1273.51\" cy=\"87.9763\" r=\"14\" fill=\"#e26f46\" fill-rule=\"evenodd\" fill-opacity=\"1\" stroke=\"#000000\" stroke-opacity=\"1\" stroke-width=\"3.2\"/>\n",
       "</svg>\n"
      ]
     },
     "execution_count": 157,
     "metadata": {},
     "output_type": "execute_result"
    }
   ],
   "source": [
    "# Teste 3\n",
    "\n",
    "f(x) = sin(x)\n",
    "fd(x) = cos(x)\n",
    "p = achar_um_ponto_critico_de_uma_funcao(fd, 0, pi)\n",
    "plot(f, 0, pi)\n",
    "scatter!(p:p, [f(p)], leg=false)"
   ]
  },
  {
   "cell_type": "markdown",
   "metadata": {},
   "source": [
    "### Encontrar um ponto crítico de uma função de 2 variáveis"
   ]
  },
  {
   "cell_type": "code",
   "execution_count": 83,
   "metadata": {},
   "outputs": [
    {
     "data": {
      "text/plain": [
       "achar_um_ponto_critico_de_uma_funcao_de_2_variaveis (generic function with 1 method)"
      ]
     },
     "execution_count": 83,
     "metadata": {},
     "output_type": "execute_result"
    }
   ],
   "source": [
    "\"\"\" Nessa função, queremos encontrar um ponto crítico em uma função de duas variáveis. Para isso, utilizamos o \n",
    "método do gradiente descendente, em que descemos a curva da função através do decremento do gradiente, visto que\n",
    "este aponta para a direção de maior crescimento. Para isso, é necessário passar o gradiente da função no formato \n",
    "[fdx, fdy], os intervalos de x e y no formato [a, b] e a quantidade de iterações a ser realizada pelo método. \"\"\"\n",
    "\n",
    "function achar_um_ponto_critico_de_uma_funcao_de_2_variaveis(gradiente_da_funcao, intervalox, intervaloy, iteracoes)\n",
    "    # Iniciamos aleatoriamente o ponto\n",
    "    px = rand(intervalox[1]:intervalox[2])\n",
    "    py = rand(intervaloy[1]:intervaloy[2])\n",
    "    taxa = 0.1\n",
    "    \n",
    "    for i in 1:iteracoes\n",
    "        # Obtemos o gradiente no ponto\n",
    "        grad = gradiente_da_funcao(px,py)\n",
    "        \n",
    "        # Checamos se esta dentro do intervalo pedido para descer o gradiente\n",
    "        if (intervalox[1]<=px-grad[1]*taxa<=intervalox[2]) && (intervaloy[1]<=py-grad[2]*taxa<=intervaloy[2])\n",
    "            px = px - grad[1]*taxa\n",
    "            py = py - grad[2]*taxa\n",
    "        else\n",
    "            break       # Senão acabamos a iteracao\n",
    "        end \n",
    "    end\n",
    "    \n",
    "    return [px,py]\n",
    "end"
   ]
  },
  {
   "cell_type": "code",
   "execution_count": 84,
   "metadata": {
    "tags": []
   },
   "outputs": [
    {
     "data": {
      "text/plain": [
       "2-element Array{Float64,1}:\n",
       "  1.4999999999999996\n",
       " -7.141286259897687e-111"
      ]
     },
     "execution_count": 84,
     "metadata": {},
     "output_type": "execute_result"
    }
   ],
   "source": [
    "# Testando a função x^2+2y^2-3x\n",
    "\n",
    "d(x,y) = [2x-3, 4y]\n",
    "achar_um_ponto_critico_de_uma_funcao_de_2_variaveis(d, [-10,10], [-10,10], 500)"
   ]
  },
  {
   "cell_type": "code",
   "execution_count": 85,
   "metadata": {},
   "outputs": [
    {
     "data": {
      "text/plain": [
       "2-element Array{Int64,1}:\n",
       " 4\n",
       " 2"
      ]
     },
     "execution_count": 85,
     "metadata": {},
     "output_type": "execute_result"
    }
   ],
   "source": [
    "# A função x^4 + x*y^3 - 2x^2*y + x - 5yx tem mínimo local em (-0.769, -1.074)\n",
    "\n",
    "d(x,y) = [4x^3+y^3-4y*x+1-5y,-2x^2+3x*y^2-5x]\n",
    "achar_um_ponto_critico_de_uma_funcao_de_2_variaveis(d, [-5,5], [-5,5], 500)"
   ]
  },
  {
   "cell_type": "code",
   "execution_count": 86,
   "metadata": {},
   "outputs": [
    {
     "data": {
      "text/plain": [
       "2-element Array{Float64,1}:\n",
       " -1.5707963267948957\n",
       " -0.13572069354650715"
      ]
     },
     "execution_count": 86,
     "metadata": {},
     "output_type": "execute_result"
    }
   ],
   "source": [
    "# Função sen(x)*cos(y/5) possui muitos pontos locais de minimo e maximo\n",
    "\n",
    "d(x,y) = [cos(y/5)*cos(x), -1/5*sin(x)*sin(y/5)]\n",
    "achar_um_ponto_critico_de_uma_funcao_de_2_variaveis(d, [-5,5], [-5,5], 500)"
   ]
  },
  {
   "cell_type": "markdown",
   "metadata": {},
   "source": [
    "### Obter Lagrange em 2D"
   ]
  },
  {
   "cell_type": "code",
   "execution_count": 87,
   "metadata": {},
   "outputs": [
    {
     "data": {
      "text/plain": [
       "langrage_2D (generic function with 1 method)"
      ]
     },
     "execution_count": 87,
     "metadata": {},
     "output_type": "execute_result"
    }
   ],
   "source": [
    "# Thierry\n",
    "function langrage_2D()\n",
    "    \n",
    "end"
   ]
  },
  {
   "cell_type": "code",
   "execution_count": null,
   "metadata": {},
   "outputs": [],
   "source": []
  }
 ],
 "metadata": {
  "kernelspec": {
   "display_name": "Julia 1.5.4",
   "language": "julia",
   "name": "julia-1.5"
  },
  "language_info": {
   "file_extension": ".jl",
   "mimetype": "application/julia",
   "name": "julia",
   "version": "1.5.4"
  }
 },
 "nbformat": 4,
 "nbformat_minor": 4
}
