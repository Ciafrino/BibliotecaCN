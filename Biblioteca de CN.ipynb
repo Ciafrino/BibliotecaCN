{
 "cells": [
  {
   "cell_type": "markdown",
   "metadata": {},
   "source": [
    "# Questão 1."
   ]
  },
  {
   "cell_type": "markdown",
   "metadata": {},
   "source": [
    "## Funções"
   ]
  },
  {
   "cell_type": "code",
   "execution_count": 1,
   "metadata": {},
   "outputs": [],
   "source": [
    "# import Pkg; \n",
    "# Pkg.add(\"Polynomials\")\n",
    "\n",
    "using Polynomials\n",
    "using Plots\n",
    "using LinearAlgebra"
   ]
  },
  {
   "cell_type": "code",
   "execution_count": 2,
   "metadata": {},
   "outputs": [
    {
     "data": {
      "text/plain": [
       "resolve_diagonal (generic function with 1 method)"
      ]
     },
     "execution_count": 2,
     "metadata": {},
     "output_type": "execute_result"
    }
   ],
   "source": [
    "\"\"\" O intuito da função resolve_diagonal é resolver equações Dx = b onde A é uma matriz diagonal NxN, \n",
    "X é uma matriz Nx1 e b também é uma matriz Nx1. Logo, a função recebe como entrada a Matriz Diagonal \n",
    "Quadrada NXN e o vetor B Nx1, e retorna o vetor x Nx1. \"\"\"\n",
    "\n",
    "function resolve_diagonal(D,b)     # D é diagonal e b é um vetor  \n",
    "    tamanho = length(b)            # Pega-se o tamanho tanto do vetor quanto da matriz (pressupõe que são de mesmo tamanho)\n",
    "    x=zeros(tamanho,1)             # Aloca o vetor x a ser retornado\n",
    "    for i in 1:tamanho \n",
    "        x[i] = b[i]/D[i,i]         # Resolve cada x[i] de acordo com o valor da diagonal e o valor de b de cada linha\n",
    "    end\n",
    "    \n",
    "    return x\n",
    "end"
   ]
  },
  {
   "cell_type": "code",
   "execution_count": 3,
   "metadata": {},
   "outputs": [
    {
     "data": {
      "text/plain": [
       "resolve_triangular_superior (generic function with 1 method)"
      ]
     },
     "execution_count": 3,
     "metadata": {},
     "output_type": "execute_result"
    }
   ],
   "source": [
    "\"\"\" O intuito dessa função é resolver equações T.x = b tal que T seja uma matriz NxN e triangular superior,\n",
    "x e b serão uma matriz coluna Nx1. A função deve retornar a solução x para tal sistema de equações.\"\"\"\n",
    "\n",
    "function resolve_triangular_superior(T,b)     #T é triangular superior\n",
    "    tamanho = length(b)\n",
    "    x=zeros(tamanho,1)\n",
    "    \n",
    "    i = tamanho\n",
    "    while (i > 0)\n",
    "        x[i] = b[i]/T[i,i]\n",
    "        k = tamanho\n",
    "        for j in i:(tamanho - 1)\n",
    "            x[i] -= T[i, k] * x[k]/T[i,i]\n",
    "            k -= 1\n",
    "        end\n",
    "        i -= 1\n",
    "    end\n",
    "    return x\n",
    "end"
   ]
  },
  {
   "cell_type": "code",
   "execution_count": 4,
   "metadata": {},
   "outputs": [
    {
     "data": {
      "text/plain": [
       "resolve_triangular_inferior (generic function with 1 method)"
      ]
     },
     "execution_count": 4,
     "metadata": {},
     "output_type": "execute_result"
    }
   ],
   "source": [
    "\"\"\" O intuito dessa função é resolver equações T.x = b tal que T seja uma matriz NxN e triangular inferior,\n",
    "x e b serão uma matriz coluna Nx1. A função deve retornar a solução x para tal sistema de equações.\"\"\"\n",
    "\n",
    "function resolve_triangular_inferior(T,b)     #T é triangular inferior\n",
    "    tamanho = length(b)\n",
    "    x=zeros(tamanho,1)\n",
    "    \n",
    "    i = 1\n",
    "    while (i <= tamanho)\n",
    "        x[i] = b[i]/T[i,i]\n",
    "        for j in 1:(i-1)\n",
    "            x[i] -= T[i, j] * x[j]/T[i,i]\n",
    "        end\n",
    "        i += 1\n",
    "    end\n",
    "    return x\n",
    "end"
   ]
  },
  {
   "cell_type": "code",
   "execution_count": 5,
   "metadata": {},
   "outputs": [
    {
     "data": {
      "text/plain": [
       "eliminacao_gaussiana (generic function with 1 method)"
      ]
     },
     "execution_count": 5,
     "metadata": {},
     "output_type": "execute_result"
    }
   ],
   "source": [
    "\"\"\" O intuito dessa função é realizar o processo de eliminação gaussiana com o sistema A.x = b, \n",
    "onde são passados a matriz densa quadrada A de NxN e a matriz coluna b de Nx1.\n",
    "O retorno será o sistema escalonado, com A sendo uma matriz triangular superior.\"\"\"\n",
    "\n",
    "function eliminacao_gaussiana(A,b)      #A é uma matriz cheia (\"matriz densa\")\n",
    "    tamanho = length(b)\n",
    "    for i in 1:tamanho-1\n",
    "        for j in i+1:tamanho\n",
    "            multiplicador = A[j,i]/A[i,i]\n",
    "            A[j, :] = A[j, :] - multiplicador*A[i, :]\n",
    "            b[j] = b[j] - multiplicador*b[i]\n",
    "        end\n",
    "    end\n",
    "    return A, b\n",
    "end"
   ]
  },
  {
   "cell_type": "code",
   "execution_count": 6,
   "metadata": {},
   "outputs": [
    {
     "data": {
      "text/plain": [
       "resolve_cheia (generic function with 1 method)"
      ]
     },
     "execution_count": 6,
     "metadata": {},
     "output_type": "execute_result"
    }
   ],
   "source": [
    "function resolve_cheia(A,b)\n",
    "    T,c= eliminação_gaussiana(A,b)  #O(n^3)\n",
    "    x=resolve_triangular_superior(T,b)  #O(n^2)\n",
    "    return x\n",
    "end"
   ]
  },
  {
   "cell_type": "code",
   "execution_count": 7,
   "metadata": {},
   "outputs": [
    {
     "data": {
      "text/plain": [
       "decomposicao_LU (generic function with 1 method)"
      ]
     },
     "execution_count": 7,
     "metadata": {},
     "output_type": "execute_result"
    }
   ],
   "source": [
    "function decomposicao_LU(A) #A é uma matriz cheia (\"matriz densa\")\n",
    "    tamanho = size(A)\n",
    "    tamanho = tamanho[1]\n",
    "    L=zeros(tamanho,tamanho)\n",
    "    \n",
    "    for i in 1:tamanho\n",
    "        L[i,i] = 1\n",
    "    end\n",
    "    \n",
    "    U = zeros(tamanho, tamanho)\n",
    "    \n",
    "    for i in 1:tamanho\n",
    "        for j in 1:tamanho\n",
    "            U[i, j] = A[i, j]\n",
    "        end\n",
    "    end\n",
    "    \n",
    "    for i in 1:tamanho-1\n",
    "        for j in i+1:tamanho\n",
    "            L[j,i] = U[j,i]/U[i,i]\n",
    "            U[j, :] = U[j, :] -L[j,i]*U[i, :]\n",
    "        end\n",
    "    end\n",
    "\n",
    "    return L,U \n",
    "end"
   ]
  },
  {
   "cell_type": "code",
   "execution_count": 8,
   "metadata": {},
   "outputs": [
    {
     "data": {
      "text/plain": [
       "resolver_pos_LU (generic function with 1 method)"
      ]
     },
     "execution_count": 8,
     "metadata": {},
     "output_type": "execute_result"
    }
   ],
   "source": [
    "function resolver_pos_LU(L,U,b)    #O(n^2) \n",
    "    y=resolve_triangular_inferior(L,b)\n",
    "    x=resolve_triangular_superior(U,y)\n",
    "    return x\n",
    "end"
   ]
  },
  {
   "cell_type": "markdown",
   "metadata": {},
   "source": [
    "## Testes das Funções"
   ]
  },
  {
   "cell_type": "code",
   "execution_count": null,
   "metadata": {},
   "outputs": [],
   "source": []
  },
  {
   "cell_type": "markdown",
   "metadata": {},
   "source": [
    "# Questão 2."
   ]
  },
  {
   "cell_type": "markdown",
   "metadata": {},
   "source": [
    "### Método de Taylor"
   ]
  },
  {
   "cell_type": "code",
   "execution_count": 9,
   "metadata": {},
   "outputs": [
    {
     "data": {
      "text/plain": [
       "taylor (generic function with 1 method)"
      ]
     },
     "execution_count": 9,
     "metadata": {},
     "output_type": "execute_result"
    }
   ],
   "source": [
    "\"\"\" Essa função faz a aproximação de uma função no ponto 'desejado' utilizando o polinômio de taylor\n",
    "centrado no ponto 'referencia'. Para isso, deve-se passar a função, as múltiplas derivadas (quantas \n",
    "quiser - quanto mais melhor) e os pontos de referencia e desejado.\"\"\"\n",
    "\n",
    "function taylor(funcao, derivadas, referencia, desejado)  #TODO\n",
    "    grau = length(derivadas)\n",
    "    soma = funcao(referencia)\n",
    "    fat = 1\n",
    "    for i in 1:grau\n",
    "        fat = fat * i\n",
    "        soma = soma + (derivadas[i](referencia)*(desejado-referencia)^i)/fat\n",
    "    end\n",
    "    return soma\n",
    "end"
   ]
  },
  {
   "cell_type": "code",
   "execution_count": 10,
   "metadata": {},
   "outputs": [
    {
     "name": "stdout",
     "output_type": "stream",
     "text": [
      "0.40580357142857143\n",
      "0.4054651081081644\n"
     ]
    }
   ],
   "source": [
    "f(x) = log(x)\n",
    "fd1(x) = 1/x; fd2(x) = -1/x^2; fd3(x) = 2/x^3; fd4(x) = -6/x^4; fd5(x) = 24/x^5; fd6(x) = -120/x^6; fd7(x) = 720/x^7;\n",
    "der = [fd1,fd2,fd3,fd4,fd5,fd6,fd7]\n",
    "\n",
    "println(taylor(f, der, 1, 1.5))\n",
    "println(log(1.5))"
   ]
  },
  {
   "cell_type": "code",
   "execution_count": 11,
   "metadata": {},
   "outputs": [
    {
     "name": "stdout",
     "output_type": "stream",
     "text": [
      "0.9635581840200099\n",
      "0.9320390859672263\n"
     ]
    }
   ],
   "source": [
    "f(x) = sin(x)\n",
    "fd1(x) = cos(x); fd2(x) = -sin(x); fd3(x) = -cos(x); fd4(x) = sin(x); fd5(x) = cos(x); fd6(x) = -sin(x); fd7(x) = -cos(x);\n",
    "der = [fd1,fd2,fd3,fd4,fd5,fd6,fd7]\n",
    "\n",
    "println(taylor(f, der, 1, 1.3))\n",
    "println(sin(1.2))"
   ]
  },
  {
   "cell_type": "code",
   "execution_count": 12,
   "metadata": {},
   "outputs": [
    {
     "name": "stdout",
     "output_type": "stream",
     "text": [
      "11.067330000000004\n",
      "11.067330000000002\n"
     ]
    }
   ],
   "source": [
    "f(x) = x^5+4x^4-3x^2+1\n",
    "fd1(x) = 5x^4+16x^3-6x; fd2(x) = 20x^3+48x^2-6; fd3(x) = 60x^2+96x; fd4(x) = 120x+96; fd5(x) = 120;\n",
    "der = [fd1,fd2,fd3,fd4,fd5]\n",
    "\n",
    "println(taylor(f, der, 1, 1.3))\n",
    "println(f(1.3))"
   ]
  },
  {
   "cell_type": "markdown",
   "metadata": {},
   "source": [
    "### Achar o Zero da Função por Bisseção"
   ]
  },
  {
   "cell_type": "code",
   "execution_count": 13,
   "metadata": {},
   "outputs": [
    {
     "data": {
      "text/plain": [
       "bissecao (generic function with 2 methods)"
      ]
     },
     "execution_count": 13,
     "metadata": {},
     "output_type": "execute_result"
    }
   ],
   "source": [
    "\"\"\" Na bisseção, queremos reduzir o intervalo ao máximo sempre garantindo que a função nos\n",
    "extremos tenha sinais distintos, visto que isso garante, pelo Teorema do Valor Intermediário,\n",
    "a existência de um zero de função nesse intervalo. Sendo assim, passamos a função, os extremos\n",
    "esquerdo e direito do intervalo e o erro máximo esperado.\n",
    "Retornamos a estimativa com um erro menor que o esperado.\"\"\"\n",
    "\n",
    "function bissecao(f, esq, dir, erro = 1e-2)\n",
    "    m=0\n",
    "    \n",
    "    @assert(f(esq)*f(dir)<=0, \"O intervalo passado não possui extremos com sinais distintos. Não podemos garantir um zero da função!\")\n",
    "    \n",
    "    while abs(dir-esq) > erro\n",
    "        m = (esq+dir)/2\n",
    "        res = f(m)\n",
    "        \n",
    "        if res == 0.0\n",
    "            break\n",
    "        elseif res*f(esq) > 0     # verifica se f(m) e f(esq) possuem o mesmo sinal\n",
    "            esq = m\n",
    "        else                      \n",
    "            dir = m\n",
    "        end\n",
    "    end\n",
    "    \n",
    "    return m\n",
    "end"
   ]
  },
  {
   "cell_type": "code",
   "execution_count": 14,
   "metadata": {},
   "outputs": [
    {
     "ename": "LoadError",
     "evalue": "\u001b[91mAssertionError: O intervalo passado não possui extremos com sinais distintos. Não podemos garantir um zero da função!\u001b[39m",
     "output_type": "error",
     "traceback": [
      "\u001b[91mAssertionError: O intervalo passado não possui extremos com sinais distintos. Não podemos garantir um zero da função!\u001b[39m",
      "",
      "Stacktrace:",
      " [1] bissecao(::typeof(f), ::Int64, ::Int64, ::Float64) at .\\In[13]:10",
      " [2] bissecao(::Function, ::Int64, ::Int64) at .\\In[13]:8",
      " [3] top-level scope at In[14]:3",
      " [4] include_string(::Function, ::Module, ::String, ::String) at .\\loading.jl:1091"
     ]
    }
   ],
   "source": [
    "# Testando intervalo sem zero\n",
    "f(x) = x^5+4x^4-3x^2+1\n",
    "bissecao(f,-3,3)"
   ]
  },
  {
   "cell_type": "code",
   "execution_count": 15,
   "metadata": {},
   "outputs": [
    {
     "data": {
      "text/plain": [
       "-3.798828125"
      ]
     },
     "execution_count": 15,
     "metadata": {},
     "output_type": "execute_result"
    }
   ],
   "source": [
    "f(x) = x^5+4x^4-3x^2+1\n",
    "bissecao(f,-10,10)"
   ]
  },
  {
   "cell_type": "code",
   "execution_count": 16,
   "metadata": {},
   "outputs": [
    {
     "data": {
      "text/plain": [
       "6.2822265625"
      ]
     },
     "execution_count": 16,
     "metadata": {},
     "output_type": "execute_result"
    }
   ],
   "source": [
    "f(x) = sin(x/2)\n",
    "bissecao(f, 1, 10)"
   ]
  },
  {
   "cell_type": "markdown",
   "metadata": {},
   "source": [
    "### Achar o Zero da Função por Ponto Fixo"
   ]
  },
  {
   "cell_type": "code",
   "execution_count": 17,
   "metadata": {},
   "outputs": [
    {
     "data": {
      "text/plain": [
       "ponto_fixo"
      ]
     },
     "execution_count": 17,
     "metadata": {},
     "output_type": "execute_result"
    }
   ],
   "source": [
    "\"\"\"\n",
    "Usamos o método do ponto fixo para encontrar o zero de função, a ideia é usar substituições\n",
    "sucessivas de forma a encontrar uma interseção entre a função g(x) que definimos e a reta\n",
    "y = x. O truque para achar o zero está em definir g(x) de forma que\n",
    "a função tenha um ponto Z t.q. f(Z) = Z - g(Z) = 0.\n",
    "\n",
    "@param: - função f recebe a função escolhida pelo usuário para achar o zero (no caso, a nossa função g)\n",
    "        - a margem de erro eps\n",
    "        - e o ponto inicial x0\n",
    "\n",
    "@return: - zero da função f(x) (ponto fixo de g(x))\n",
    "         - Retorna um erro de execução caso o método falhe em encontrar (diverge)\n",
    "\"\"\"\n",
    "function ponto_fixo(f, eps, x0)\n",
    "    # Inicializa com infinito para saber se encontramos\n",
    "    ponto_fixo = -Inf\n",
    "    \n",
    "    # quantidade de iterações dadas até encontrar\n",
    "    steps = 1\n",
    "    \n",
    "    # Por conveniência vamos assumir que o método diverge \n",
    "    # se levar pelo menos 10^3 passos\n",
    "    while steps < 10^3 \n",
    "        nx = f(x0)\n",
    "\n",
    "        if abs(nx - x0) < eps\n",
    "            # achamos uma aproximação que respeita a margem de erro \n",
    "            ponto_fixo = nx\n",
    "            break\n",
    "        end\n",
    "\n",
    "        steps += 1\n",
    "        x0 = nx\n",
    "    end\n",
    "    \n",
    "    # método falhou\n",
    "    @assert(ponto_fixo != -Inf, \"Método divergiu com o input dado\")\n",
    "    \n",
    "    # retorna o ponto_fixo da função\n",
    "    return ponto_fixo\n",
    "end\n"
   ]
  },
  {
   "cell_type": "code",
   "execution_count": 18,
   "metadata": {},
   "outputs": [
    {
     "name": "stdout",
     "output_type": "stream",
     "text": [
      "-0.14558862306442932\n"
     ]
    }
   ],
   "source": [
    "function f(x)\n",
    "    return x*cos(x) - x*x + 8*x - 1\n",
    "end\n",
    "\n",
    "function g(x)\n",
    "    # g(x) é uma função cujo ponto fixo é um zero de f(x)\n",
    "    return (x*cos(x) - x*x -1)/8.0\n",
    "end\n",
    "\n",
    "println(ponto_fixo(g, 0.001, 0.0))"
   ]
  },
  {
   "cell_type": "code",
   "execution_count": 19,
   "metadata": {},
   "outputs": [
    {
     "name": "stdout",
     "output_type": "stream",
     "text": [
      "0.2891641649379035\n"
     ]
    }
   ],
   "source": [
    "function f(x)\n",
    "    return x^3 - 7*x + 2\n",
    "end\n",
    "\n",
    "function g(x)\n",
    "    # g(x) é uma função cujo ponto fixo é um zero de f(x)\n",
    "    return (x^3 + 2)/7.0\n",
    "end\n",
    "\n",
    "println(ponto_fixo(g, 1e-3, 0.0))"
   ]
  },
  {
   "cell_type": "code",
   "execution_count": 20,
   "metadata": {},
   "outputs": [
    {
     "ename": "LoadError",
     "evalue": "\u001b[91mAssertionError: Método divergiu com o input dado\u001b[39m",
     "output_type": "error",
     "traceback": [
      "\u001b[91mAssertionError: Método divergiu com o input dado\u001b[39m",
      "",
      "Stacktrace:",
      " [1] ponto_fixo(::typeof(g), ::Float64, ::Float64) at .\\In[17]:37",
      " [2] top-level scope at In[20]:11",
      " [3] include_string(::Function, ::Module, ::String, ::String) at .\\loading.jl:1091"
     ]
    }
   ],
   "source": [
    "function f(x)\n",
    "    return x^3 - x - 1\n",
    "end\n",
    "\n",
    "# se pegarmos uma g simples nesse caso o método tem que divergir\n",
    "function g(x)\n",
    "    # g(x) é uma função cujo ponto fixo é um zero de f(x)\n",
    "    return (x^3 - 1)\n",
    "end\n",
    "\n",
    "println(ponto_fixo(g, 1e-6, 0.0))"
   ]
  },
  {
   "cell_type": "code",
   "execution_count": 21,
   "metadata": {},
   "outputs": [
    {
     "name": "stdout",
     "output_type": "stream",
     "text": [
      "1.3247179361449652\n"
     ]
    }
   ],
   "source": [
    "function f(x)\n",
    "    return x^3 - x - 1\n",
    "end\n",
    "\n",
    "# se pegarmos uma g esperta o método tem que convergir\n",
    "function g(x)\n",
    "    # g(x) é uma função cujo ponto fixo é um zero de f(x)\n",
    "    return cbrt(x + 1)\n",
    "end\n",
    "\n",
    "println(ponto_fixo(g, 1e-7, 0.0))"
   ]
  },
  {
   "cell_type": "markdown",
   "metadata": {},
   "source": [
    "### Achar o Zero da Função por Newton"
   ]
  },
  {
   "cell_type": "code",
   "execution_count": 22,
   "metadata": {},
   "outputs": [
    {
     "data": {
      "text/plain": [
       "newton (generic function with 2 methods)"
      ]
     },
     "execution_count": 22,
     "metadata": {},
     "output_type": "execute_result"
    }
   ],
   "source": [
    "\"\"\" Para o método de Newton, queremos nos aproveitar do ângulo tangente da curva para nos\n",
    "aproximarmos precisamente do zero da função. Isso é feito encontrando a reta tangente a\n",
    "curva no ponto atual e indo para o ponto dessa reta que cruza o eixo x. Para isso, precisamos\n",
    "da função e sua derivada, o ponto inicial do método e o erro máximo esperado.\"\"\"\n",
    "\n",
    "function newton(f, fd, ponto, erro = 1e-8)\n",
    "    # Primeiro descobrimos quantos termos precisamos\n",
    "    termos = 1\n",
    "    while (termos+1)*(2^(termos+1)) < 1/erro\n",
    "        termos = termos+1\n",
    "    end\n",
    "\n",
    "    # Agora calculamos o taylor\n",
    "    for i in 1:termos\n",
    "        ponto = ponto - f(ponto)/fd(ponto)\n",
    "    end\n",
    "    \n",
    "    return ponto\n",
    "end"
   ]
  },
  {
   "cell_type": "code",
   "execution_count": 23,
   "metadata": {},
   "outputs": [
    {
     "data": {
      "text/plain": [
       "-3.796694419165162"
      ]
     },
     "execution_count": 23,
     "metadata": {},
     "output_type": "execute_result"
    }
   ],
   "source": [
    "f(x) = x^5+4x^4-3x^2+1\n",
    "fd(x) = 5x^4+16x^3-6x\n",
    "newton(f,fd,-4)"
   ]
  },
  {
   "cell_type": "code",
   "execution_count": 24,
   "metadata": {},
   "outputs": [
    {
     "data": {
      "text/plain": [
       "6.283185307179586"
      ]
     },
     "execution_count": 24,
     "metadata": {},
     "output_type": "execute_result"
    }
   ],
   "source": [
    "f(x) = sin(x/2)\n",
    "fd(x) = 1/2 * cos(x/2)\n",
    "newton(f, fd, 6)"
   ]
  },
  {
   "cell_type": "code",
   "execution_count": 25,
   "metadata": {},
   "outputs": [
    {
     "data": {
      "text/plain": [
       "1.0"
      ]
     },
     "execution_count": 25,
     "metadata": {},
     "output_type": "execute_result"
    }
   ],
   "source": [
    "f(x) = log(x)\n",
    "fd(x) = 1/x\n",
    "newton(f, fd, 2)"
   ]
  },
  {
   "cell_type": "markdown",
   "metadata": {},
   "source": [
    "### Achar o Zero da Função pelo Método de Euler"
   ]
  },
  {
   "cell_type": "code",
   "execution_count": 26,
   "metadata": {},
   "outputs": [],
   "source": [
    "# Chris\n",
    "\n",
    "# Método de Euler"
   ]
  },
  {
   "cell_type": "markdown",
   "metadata": {},
   "source": [
    "### Resolver EDO com Problema de Valor Inicial"
   ]
  },
  {
   "cell_type": "code",
   "execution_count": 27,
   "metadata": {},
   "outputs": [
    {
     "data": {
      "text/plain": [
       "resolver_PVI"
      ]
     },
     "execution_count": 27,
     "metadata": {},
     "output_type": "execute_result"
    }
   ],
   "source": [
    "\"\"\"\n",
    "Usamos o método de euler para resolver o problema de valor inicial. O método é usado para\n",
    "aproximar o valor de EDOs, ele faz isso usando aproximações de retas tangentes para descrever\n",
    "a curva repetidas vezes.\n",
    "\n",
    "@param: - derivada de f(x, y)\n",
    "        - x inicial\n",
    "        - y inicial (isso é o valor inicial conhecido no nosso problema)\n",
    "        - x_final denota o ponto x em que queremos uma aproximação para f\n",
    "        - n denota em quantos subintervalos vamos dividir nosso intervalo\n",
    "\n",
    "@return: - aproximação para f no ponto x_final\n",
    "\"\"\"\n",
    "function resolver_PVI(derivada, x_inicial,y_inicial,x_final,n) #Feito\n",
    "    # tamanho do intervalo que usaremos dada a discretização desejada\n",
    "    H = (x_final-x_inicial) / n\n",
    "    \n",
    "    # passos iniciais\n",
    "    xi = x_inicial\n",
    "    yi = y_inicial\n",
    "\n",
    "    while xi + H <= x_final\n",
    "        # pegamos o próximo valor de y andando pela reta tangente ao \n",
    "        # ponto x_i com um passo de tamanho H\n",
    "        yi += derivada(xi, yi) * H\n",
    "        xi += H\n",
    "    end\n",
    "    \n",
    "    return yi # retornamos o valor de y no estado final\n",
    "end"
   ]
  },
  {
   "cell_type": "code",
   "execution_count": 28,
   "metadata": {},
   "outputs": [
    {
     "data": {
      "text/plain": [
       "41.144777789250874"
      ]
     },
     "execution_count": 28,
     "metadata": {},
     "output_type": "execute_result"
    }
   ],
   "source": [
    "df(x, y) = y\n",
    "\n",
    "# queremos aproximar y(4) usando método de euler\n",
    "# sendo y'(x) = y(x), y(0) = 1 e dividindo o intervalo em 40 partes\n",
    "\n",
    "resolver_PVI(df, 0.0, 1.0, 4, 40)"
   ]
  },
  {
   "cell_type": "code",
   "execution_count": 29,
   "metadata": {},
   "outputs": [
    {
     "data": {
      "text/plain": [
       "20.0"
      ]
     },
     "execution_count": 29,
     "metadata": {},
     "output_type": "execute_result"
    }
   ],
   "source": [
    "df(x, y) = y + 3*x\n",
    "\n",
    "# queremos aproximar y(3) usando método de euler\n",
    "# sendo y'(x) = y + 3x, y(3) = 1 e dividindo o intervalo em 3 partes\n",
    "\n",
    "resolver_PVI(df, 0.0, 1.0, 3, 3)"
   ]
  },
  {
   "cell_type": "code",
   "execution_count": 30,
   "metadata": {},
   "outputs": [
    {
     "data": {
      "text/plain": [
       "1.0987701305162527"
      ]
     },
     "execution_count": 30,
     "metadata": {},
     "output_type": "execute_result"
    }
   ],
   "source": [
    "df(x, y) = exp(-x)\n",
    "\n",
    "# queremos aproximar y(5) usando método de euler\n",
    "# sendo y'(x) = x^2 + 3x, y(2) = 10 e dividindo o intervalo em 40 partes\n",
    "\n",
    "resolver_PVI(df, 0.0, 0.0, 2, 4)"
   ]
  },
  {
   "cell_type": "markdown",
   "metadata": {},
   "source": [
    "### Resolver um Sistema Ax=b"
   ]
  },
  {
   "cell_type": "code",
   "execution_count": 31,
   "metadata": {},
   "outputs": [
    {
     "data": {
      "text/plain": [
       "resolver_um_sistema (generic function with 1 method)"
      ]
     },
     "execution_count": 31,
     "metadata": {},
     "output_type": "execute_result"
    }
   ],
   "source": [
    "\"\"\" Essa função é um encapsulamento da resolução de sistema do formato 'A.x = b' \n",
    "utilizando decomposição LU. Para isso, é passado como parâmetro a matriz A e o \n",
    "vetor b, e o resultado será o vetor x.\"\"\"\n",
    "\n",
    "function resolver_um_sistema(A,b) \n",
    "    L, U = decomposicao_LU(A)\n",
    "    x = resolver_pos_LU(L,U,b)\n",
    "    return x\n",
    "end"
   ]
  },
  {
   "cell_type": "code",
   "execution_count": 32,
   "metadata": {},
   "outputs": [
    {
     "name": "stdout",
     "output_type": "stream",
     "text": [
      "[2.1040532365396274; -5.474289171203875; -0.6170598911070786; 3.5075620084694505]\n",
      "[2.104053236539625, -5.474289171203873, -0.6170598911070775, 3.507562008469449]\n"
     ]
    }
   ],
   "source": [
    "A=[1.0 3.0 2.0 7.0 ; 10.0 3.0 10.0 7.0 ; 3.0 5.0 18.0 22.0 ; 5.0 2.0 1.0 6.0]\n",
    "b=[9.0 ; 23.0 ; 45.0 ; 20.0]\n",
    "\n",
    "println(resolver_um_sistema(A,b))\n",
    "println(A\\b)"
   ]
  },
  {
   "cell_type": "code",
   "execution_count": 33,
   "metadata": {},
   "outputs": [
    {
     "name": "stdout",
     "output_type": "stream",
     "text": [
      "[-8.307692307692305; 6.692307692307692; -1.3846153846153844]\n",
      "[-8.307692307692307, 6.692307692307692, -1.3846153846153846]\n"
     ]
    }
   ],
   "source": [
    "A=[1.0 3.0 2.0 ; -2.0 -1.0 5.0 ; 1.0 1.0 1.0]\n",
    "b=[9.0 ; 3.0 ; -3.0]\n",
    "\n",
    "println(resolver_um_sistema(A,b))\n",
    "println(A\\b)"
   ]
  },
  {
   "cell_type": "code",
   "execution_count": 34,
   "metadata": {},
   "outputs": [
    {
     "name": "stdout",
     "output_type": "stream",
     "text": [
      "[2.4; 0.2]\n",
      "[2.4, 0.2]\n"
     ]
    }
   ],
   "source": [
    "A=[1.0 3.0 ; -1.0 2.0]\n",
    "b=[3.0 ; -2.0]\n",
    "\n",
    "println(resolver_um_sistema(A,b))\n",
    "println(A\\b)"
   ]
  },
  {
   "cell_type": "markdown",
   "metadata": {},
   "source": [
    "### Resolver EDO com Problema de Valor de Contorno"
   ]
  },
  {
   "cell_type": "code",
   "execution_count": 35,
   "metadata": {},
   "outputs": [
    {
     "data": {
      "text/plain": [
       "resolver_PVC (generic function with 1 method)"
      ]
     },
     "execution_count": 35,
     "metadata": {},
     "output_type": "execute_result"
    }
   ],
   "source": [
    "# Luan\n",
    "function resolver_PVC(segunda_derivada, x_inicial, y_inicial, x_final, y_final, n)  #Não dá pra fazer genericamente\n",
    "    \n",
    "    # Calcula o h\n",
    "    h = (x_final - x_inicial)/n\n",
    "\n",
    "    # Inicializa a matriz vazia\n",
    "    A = []\n",
    "    \n",
    "    # Vetor auxiliar para construir a matriz \n",
    "    v = [-2, 1]\n",
    "    \n",
    "    # Preenche a primeira linha com 0's\n",
    "    for i = 3:n-1\n",
    "        push!(v, 0)\n",
    "    end\n",
    "    \n",
    "    # Coloca o vetor auxiliar na matriz\n",
    "    push!(A, v)\n",
    "    \n",
    "    # Constrói a matriz por meio dos vetores auxiliares\n",
    "    for i = 2:n-2\n",
    "        v = []\n",
    "        for j = 1:i-2\n",
    "            push!(v, 0)\n",
    "        end\n",
    "        push!(v, 1)\n",
    "        push!(v, -2)\n",
    "        push!(v, 1)\n",
    "        for j = i+2:n-1\n",
    "            push!(v, 0)\n",
    "        end\n",
    "        v = vcat(v...)\n",
    "        push!(A, v)\n",
    "    end\n",
    "    \n",
    "    # Termina de construir a matriz\n",
    "    v = []\n",
    "    for i = 1:n-3\n",
    "        push!(v, 0)\n",
    "    end\n",
    "    push!(v, 1)\n",
    "    push!(v, -2)\n",
    "    push!(A, v)\n",
    "    \n",
    "    # Gera o vetor b de acordo com as aproximações da segunda derivada\n",
    "    b = Any[segunda_derivada(x_inicial)*h^2 - y_inicial]\n",
    "    for i = 2:n-2\n",
    "        push!(b, segunda_derivada((x_inicial + h*(i)))*h^2)\n",
    "    end\n",
    "    push!(b, segunda_derivada(x_final)*h^2 - y_final)\n",
    "    b = vcat(b...)\n",
    "    A = hcat(A...)\n",
    "\n",
    "    # Resolve o sistema e acha os pontos y\n",
    "    y = resolver_um_sistema(A,b)\n",
    "    return y\n",
    "end"
   ]
  },
  {
   "cell_type": "code",
   "execution_count": 36,
   "metadata": {},
   "outputs": [
    {
     "data": {
      "image/svg+xml": [
       "<?xml version=\"1.0\" encoding=\"utf-8\"?>\n",
       "<svg xmlns=\"http://www.w3.org/2000/svg\" xmlns:xlink=\"http://www.w3.org/1999/xlink\" width=\"600\" height=\"400\" viewBox=\"0 0 2400 1600\">\n",
       "<defs>\n",
       "  <clipPath id=\"clip900\">\n",
       "    <rect x=\"0\" y=\"0\" width=\"2400\" height=\"1600\"/>\n",
       "  </clipPath>\n",
       "</defs>\n",
       "<path clip-path=\"url(#clip900)\" d=\"\n",
       "M0 1600 L2400 1600 L2400 0 L0 0  Z\n",
       "  \" fill=\"#ffffff\" fill-rule=\"evenodd\" fill-opacity=\"1\"/>\n",
       "<defs>\n",
       "  <clipPath id=\"clip901\">\n",
       "    <rect x=\"480\" y=\"0\" width=\"1681\" height=\"1600\"/>\n",
       "  </clipPath>\n",
       "</defs>\n",
       "<path clip-path=\"url(#clip900)\" d=\"\n",
       "M112.177 1486.45 L2352.76 1486.45 L2352.76 47.2441 L112.177 47.2441  Z\n",
       "  \" fill=\"#ffffff\" fill-rule=\"evenodd\" fill-opacity=\"1\"/>\n",
       "<defs>\n",
       "  <clipPath id=\"clip902\">\n",
       "    <rect x=\"112\" y=\"47\" width=\"2242\" height=\"1440\"/>\n",
       "  </clipPath>\n",
       "</defs>\n",
       "<polyline clip-path=\"url(#clip902)\" style=\"stroke:#000000; stroke-width:2; stroke-opacity:0.1; fill:none\" points=\"\n",
       "  175.59,1486.45 175.59,47.2441 \n",
       "  \"/>\n",
       "<polyline clip-path=\"url(#clip902)\" style=\"stroke:#000000; stroke-width:2; stroke-opacity:0.1; fill:none\" points=\"\n",
       "  598.34,1486.45 598.34,47.2441 \n",
       "  \"/>\n",
       "<polyline clip-path=\"url(#clip902)\" style=\"stroke:#000000; stroke-width:2; stroke-opacity:0.1; fill:none\" points=\"\n",
       "  1021.09,1486.45 1021.09,47.2441 \n",
       "  \"/>\n",
       "<polyline clip-path=\"url(#clip902)\" style=\"stroke:#000000; stroke-width:2; stroke-opacity:0.1; fill:none\" points=\"\n",
       "  1443.84,1486.45 1443.84,47.2441 \n",
       "  \"/>\n",
       "<polyline clip-path=\"url(#clip902)\" style=\"stroke:#000000; stroke-width:2; stroke-opacity:0.1; fill:none\" points=\"\n",
       "  1866.59,1486.45 1866.59,47.2441 \n",
       "  \"/>\n",
       "<polyline clip-path=\"url(#clip902)\" style=\"stroke:#000000; stroke-width:2; stroke-opacity:0.1; fill:none\" points=\"\n",
       "  2289.34,1486.45 2289.34,47.2441 \n",
       "  \"/>\n",
       "<polyline clip-path=\"url(#clip900)\" style=\"stroke:#000000; stroke-width:4; stroke-opacity:1; fill:none\" points=\"\n",
       "  112.177,1486.45 2352.76,1486.45 \n",
       "  \"/>\n",
       "<polyline clip-path=\"url(#clip900)\" style=\"stroke:#000000; stroke-width:4; stroke-opacity:1; fill:none\" points=\"\n",
       "  175.59,1486.45 175.59,1469.18 \n",
       "  \"/>\n",
       "<polyline clip-path=\"url(#clip900)\" style=\"stroke:#000000; stroke-width:4; stroke-opacity:1; fill:none\" points=\"\n",
       "  598.34,1486.45 598.34,1469.18 \n",
       "  \"/>\n",
       "<polyline clip-path=\"url(#clip900)\" style=\"stroke:#000000; stroke-width:4; stroke-opacity:1; fill:none\" points=\"\n",
       "  1021.09,1486.45 1021.09,1469.18 \n",
       "  \"/>\n",
       "<polyline clip-path=\"url(#clip900)\" style=\"stroke:#000000; stroke-width:4; stroke-opacity:1; fill:none\" points=\"\n",
       "  1443.84,1486.45 1443.84,1469.18 \n",
       "  \"/>\n",
       "<polyline clip-path=\"url(#clip900)\" style=\"stroke:#000000; stroke-width:4; stroke-opacity:1; fill:none\" points=\"\n",
       "  1866.59,1486.45 1866.59,1469.18 \n",
       "  \"/>\n",
       "<polyline clip-path=\"url(#clip900)\" style=\"stroke:#000000; stroke-width:4; stroke-opacity:1; fill:none\" points=\"\n",
       "  2289.34,1486.45 2289.34,1469.18 \n",
       "  \"/>\n",
       "<path clip-path=\"url(#clip900)\" d=\"M 0 0 M175.59 1515.64 Q171.979 1515.64 170.15 1519.2 Q168.344 1522.75 168.344 1529.87 Q168.344 1536.98 170.15 1540.55 Q171.979 1544.09 175.59 1544.09 Q179.224 1544.09 181.03 1540.55 Q182.858 1536.98 182.858 1529.87 Q182.858 1522.75 181.03 1519.2 Q179.224 1515.64 175.59 1515.64 M175.59 1511.93 Q181.4 1511.93 184.455 1516.54 Q187.534 1521.12 187.534 1529.87 Q187.534 1538.6 184.455 1543.21 Q181.4 1547.79 175.59 1547.79 Q169.78 1547.79 166.701 1543.21 Q163.645 1538.6 163.645 1529.87 Q163.645 1521.12 166.701 1516.54 Q169.78 1511.93 175.59 1511.93 Z\" fill=\"#000000\" fill-rule=\"evenodd\" fill-opacity=\"1\" /><path clip-path=\"url(#clip900)\" d=\"M 0 0 M588.722 1543.18 L596.361 1543.18 L596.361 1516.82 L588.051 1518.49 L588.051 1514.23 L596.315 1512.56 L600.991 1512.56 L600.991 1543.18 L608.63 1543.18 L608.63 1547.12 L588.722 1547.12 L588.722 1543.18 Z\" fill=\"#000000\" fill-rule=\"evenodd\" fill-opacity=\"1\" /><path clip-path=\"url(#clip900)\" d=\"M 0 0 M1015.74 1543.18 L1032.06 1543.18 L1032.06 1547.12 L1010.12 1547.12 L1010.12 1543.18 Q1012.78 1540.43 1017.36 1535.8 Q1021.97 1531.15 1023.15 1529.81 Q1025.4 1527.28 1026.28 1525.55 Q1027.18 1523.79 1027.18 1522.1 Q1027.18 1519.34 1025.23 1517.61 Q1023.31 1515.87 1020.21 1515.87 Q1018.01 1515.87 1015.56 1516.63 Q1013.13 1517.4 1010.35 1518.95 L1010.35 1514.23 Q1013.17 1513.09 1015.63 1512.51 Q1018.08 1511.93 1020.12 1511.93 Q1025.49 1511.93 1028.68 1514.62 Q1031.88 1517.31 1031.88 1521.8 Q1031.88 1523.93 1031.07 1525.85 Q1030.28 1527.74 1028.17 1530.34 Q1027.6 1531.01 1024.49 1534.23 Q1021.39 1537.42 1015.74 1543.18 Z\" fill=\"#000000\" fill-rule=\"evenodd\" fill-opacity=\"1\" /><path clip-path=\"url(#clip900)\" d=\"M 0 0 M1448.09 1528.49 Q1451.45 1529.2 1453.32 1531.47 Q1455.22 1533.74 1455.22 1537.07 Q1455.22 1542.19 1451.7 1544.99 Q1448.18 1547.79 1441.7 1547.79 Q1439.52 1547.79 1437.21 1547.35 Q1434.92 1546.93 1432.46 1546.08 L1432.46 1541.56 Q1434.41 1542.7 1436.72 1543.28 Q1439.04 1543.86 1441.56 1543.86 Q1445.96 1543.86 1448.25 1542.12 Q1450.57 1540.38 1450.57 1537.07 Q1450.57 1534.02 1448.41 1532.31 Q1446.28 1530.57 1442.46 1530.57 L1438.44 1530.57 L1438.44 1526.73 L1442.65 1526.73 Q1446.1 1526.73 1447.93 1525.36 Q1449.76 1523.97 1449.76 1521.38 Q1449.76 1518.72 1447.86 1517.31 Q1445.98 1515.87 1442.46 1515.87 Q1440.54 1515.87 1438.34 1516.29 Q1436.15 1516.7 1433.51 1517.58 L1433.51 1513.42 Q1436.17 1512.68 1438.48 1512.31 Q1440.82 1511.93 1442.88 1511.93 Q1448.21 1511.93 1451.31 1514.37 Q1454.41 1516.77 1454.41 1520.89 Q1454.41 1523.76 1452.77 1525.75 Q1451.12 1527.72 1448.09 1528.49 Z\" fill=\"#000000\" fill-rule=\"evenodd\" fill-opacity=\"1\" /><path clip-path=\"url(#clip900)\" d=\"M 0 0 M1869.6 1516.63 L1857.8 1535.08 L1869.6 1535.08 L1869.6 1516.63 M1868.37 1512.56 L1874.25 1512.56 L1874.25 1535.08 L1879.19 1535.08 L1879.19 1538.97 L1874.25 1538.97 L1874.25 1547.12 L1869.6 1547.12 L1869.6 1538.97 L1854 1538.97 L1854 1534.46 L1868.37 1512.56 Z\" fill=\"#000000\" fill-rule=\"evenodd\" fill-opacity=\"1\" /><path clip-path=\"url(#clip900)\" d=\"M 0 0 M2279.62 1512.56 L2297.98 1512.56 L2297.98 1516.5 L2283.9 1516.5 L2283.9 1524.97 Q2284.92 1524.62 2285.94 1524.46 Q2286.96 1524.27 2287.98 1524.27 Q2293.76 1524.27 2297.14 1527.44 Q2300.52 1530.62 2300.52 1536.03 Q2300.52 1541.61 2297.05 1544.71 Q2293.58 1547.79 2287.26 1547.79 Q2285.08 1547.79 2282.82 1547.42 Q2280.57 1547.05 2278.16 1546.31 L2278.16 1541.61 Q2280.25 1542.74 2282.47 1543.3 Q2284.69 1543.86 2287.17 1543.86 Q2291.17 1543.86 2293.51 1541.75 Q2295.85 1539.64 2295.85 1536.03 Q2295.85 1532.42 2293.51 1530.31 Q2291.17 1528.21 2287.17 1528.21 Q2285.29 1528.21 2283.42 1528.62 Q2281.57 1529.04 2279.62 1529.92 L2279.62 1512.56 Z\" fill=\"#000000\" fill-rule=\"evenodd\" fill-opacity=\"1\" /><polyline clip-path=\"url(#clip902)\" style=\"stroke:#000000; stroke-width:2; stroke-opacity:0.1; fill:none\" points=\"\n",
       "  112.177,1391.41 2352.76,1391.41 \n",
       "  \"/>\n",
       "<polyline clip-path=\"url(#clip902)\" style=\"stroke:#000000; stroke-width:2; stroke-opacity:0.1; fill:none\" points=\"\n",
       "  112.177,1174.17 2352.76,1174.17 \n",
       "  \"/>\n",
       "<polyline clip-path=\"url(#clip902)\" style=\"stroke:#000000; stroke-width:2; stroke-opacity:0.1; fill:none\" points=\"\n",
       "  112.177,956.93 2352.76,956.93 \n",
       "  \"/>\n",
       "<polyline clip-path=\"url(#clip902)\" style=\"stroke:#000000; stroke-width:2; stroke-opacity:0.1; fill:none\" points=\"\n",
       "  112.177,739.691 2352.76,739.691 \n",
       "  \"/>\n",
       "<polyline clip-path=\"url(#clip902)\" style=\"stroke:#000000; stroke-width:2; stroke-opacity:0.1; fill:none\" points=\"\n",
       "  112.177,522.453 2352.76,522.453 \n",
       "  \"/>\n",
       "<polyline clip-path=\"url(#clip902)\" style=\"stroke:#000000; stroke-width:2; stroke-opacity:0.1; fill:none\" points=\"\n",
       "  112.177,305.215 2352.76,305.215 \n",
       "  \"/>\n",
       "<polyline clip-path=\"url(#clip902)\" style=\"stroke:#000000; stroke-width:2; stroke-opacity:0.1; fill:none\" points=\"\n",
       "  112.177,87.9763 2352.76,87.9763 \n",
       "  \"/>\n",
       "<polyline clip-path=\"url(#clip900)\" style=\"stroke:#000000; stroke-width:4; stroke-opacity:1; fill:none\" points=\"\n",
       "  112.177,1486.45 112.177,47.2441 \n",
       "  \"/>\n",
       "<polyline clip-path=\"url(#clip900)\" style=\"stroke:#000000; stroke-width:4; stroke-opacity:1; fill:none\" points=\"\n",
       "  112.177,1391.41 139.064,1391.41 \n",
       "  \"/>\n",
       "<polyline clip-path=\"url(#clip900)\" style=\"stroke:#000000; stroke-width:4; stroke-opacity:1; fill:none\" points=\"\n",
       "  112.177,1174.17 139.064,1174.17 \n",
       "  \"/>\n",
       "<polyline clip-path=\"url(#clip900)\" style=\"stroke:#000000; stroke-width:4; stroke-opacity:1; fill:none\" points=\"\n",
       "  112.177,956.93 139.064,956.93 \n",
       "  \"/>\n",
       "<polyline clip-path=\"url(#clip900)\" style=\"stroke:#000000; stroke-width:4; stroke-opacity:1; fill:none\" points=\"\n",
       "  112.177,739.691 139.064,739.691 \n",
       "  \"/>\n",
       "<polyline clip-path=\"url(#clip900)\" style=\"stroke:#000000; stroke-width:4; stroke-opacity:1; fill:none\" points=\"\n",
       "  112.177,522.453 139.064,522.453 \n",
       "  \"/>\n",
       "<polyline clip-path=\"url(#clip900)\" style=\"stroke:#000000; stroke-width:4; stroke-opacity:1; fill:none\" points=\"\n",
       "  112.177,305.215 139.064,305.215 \n",
       "  \"/>\n",
       "<polyline clip-path=\"url(#clip900)\" style=\"stroke:#000000; stroke-width:4; stroke-opacity:1; fill:none\" points=\"\n",
       "  112.177,87.9763 139.064,87.9763 \n",
       "  \"/>\n",
       "<path clip-path=\"url(#clip900)\" d=\"M 0 0 M64.2328 1377.2 Q60.6217 1377.2 58.793 1380.77 Q56.9875 1384.31 56.9875 1391.44 Q56.9875 1398.55 58.793 1402.11 Q60.6217 1405.65 64.2328 1405.65 Q67.867 1405.65 69.6726 1402.11 Q71.5013 1398.55 71.5013 1391.44 Q71.5013 1384.31 69.6726 1380.77 Q67.867 1377.2 64.2328 1377.2 M64.2328 1373.5 Q70.0429 1373.5 73.0985 1378.11 Q76.1772 1382.69 76.1772 1391.44 Q76.1772 1400.17 73.0985 1404.77 Q70.0429 1409.36 64.2328 1409.36 Q58.4226 1409.36 55.344 1404.77 Q52.2884 1400.17 52.2884 1391.44 Q52.2884 1382.69 55.344 1378.11 Q58.4226 1373.5 64.2328 1373.5 Z\" fill=\"#000000\" fill-rule=\"evenodd\" fill-opacity=\"1\" /><path clip-path=\"url(#clip900)\" d=\"M 0 0 M56.2699 1187.51 L63.9087 1187.51 L63.9087 1161.15 L55.5986 1162.81 L55.5986 1158.55 L63.8624 1156.89 L68.5383 1156.89 L68.5383 1187.51 L76.1772 1187.51 L76.1772 1191.45 L56.2699 1191.45 L56.2699 1187.51 Z\" fill=\"#000000\" fill-rule=\"evenodd\" fill-opacity=\"1\" /><path clip-path=\"url(#clip900)\" d=\"M 0 0 M59.8578 970.274 L76.1772 970.274 L76.1772 974.21 L54.2328 974.21 L54.2328 970.274 Q56.8949 967.52 61.4782 962.89 Q66.0846 958.237 67.2652 956.895 Q69.5105 954.372 70.3902 952.636 Q71.2929 950.876 71.2929 949.186 Q71.2929 946.432 69.3485 944.696 Q67.4272 942.96 64.3254 942.96 Q62.1263 942.96 59.6726 943.724 Q57.2421 944.487 54.4643 946.038 L54.4643 941.316 Q57.2884 940.182 59.7421 939.603 Q62.1958 939.025 64.2328 939.025 Q69.6031 939.025 72.7976 941.71 Q75.992 944.395 75.992 948.886 Q75.992 951.015 75.1818 952.936 Q74.3948 954.835 72.2883 957.427 Q71.7096 958.098 68.6078 961.316 Q65.5059 964.51 59.8578 970.274 Z\" fill=\"#000000\" fill-rule=\"evenodd\" fill-opacity=\"1\" /><path clip-path=\"url(#clip900)\" d=\"M 0 0 M69.0476 738.337 Q72.404 739.055 74.279 741.323 Q76.1772 743.592 76.1772 746.925 Q76.1772 752.041 72.6587 754.842 Q69.1402 757.642 62.6587 757.642 Q60.4828 757.642 58.168 757.203 Q55.8764 756.786 53.4227 755.93 L53.4227 751.416 Q55.3671 752.55 57.6819 753.129 Q59.9967 753.707 62.5198 753.707 Q66.918 753.707 69.2096 751.971 Q71.5244 750.235 71.5244 746.925 Q71.5244 743.869 69.3717 742.156 Q67.242 740.42 63.4226 740.42 L59.3949 740.42 L59.3949 736.578 L63.6078 736.578 Q67.0569 736.578 68.8855 735.212 Q70.7142 733.823 70.7142 731.231 Q70.7142 728.569 68.8161 727.157 Q66.9411 725.721 63.4226 725.721 Q61.5013 725.721 59.3023 726.138 Q57.1032 726.555 54.4643 727.434 L54.4643 723.268 Q57.1264 722.527 59.4412 722.157 Q61.7791 721.786 63.8393 721.786 Q69.1633 721.786 72.2652 724.217 Q75.367 726.624 75.367 730.744 Q75.367 733.615 73.7235 735.606 Q72.08 737.573 69.0476 738.337 Z\" fill=\"#000000\" fill-rule=\"evenodd\" fill-opacity=\"1\" /><path clip-path=\"url(#clip900)\" d=\"M 0 0 M66.5939 509.247 L54.7884 527.696 L66.5939 527.696 L66.5939 509.247 M65.367 505.173 L71.2466 505.173 L71.2466 527.696 L76.1772 527.696 L76.1772 531.585 L71.2466 531.585 L71.2466 539.733 L66.5939 539.733 L66.5939 531.585 L50.9921 531.585 L50.9921 527.071 L65.367 505.173 Z\" fill=\"#000000\" fill-rule=\"evenodd\" fill-opacity=\"1\" /><path clip-path=\"url(#clip900)\" d=\"M 0 0 M55.2745 287.935 L73.6309 287.935 L73.6309 291.87 L59.5569 291.87 L59.5569 300.342 Q60.5754 299.995 61.5939 299.833 Q62.6124 299.647 63.6309 299.647 Q69.418 299.647 72.7976 302.819 Q76.1772 305.99 76.1772 311.407 Q76.1772 316.985 72.705 320.087 Q69.2328 323.166 62.9134 323.166 Q60.7374 323.166 58.4689 322.796 Q56.2236 322.425 53.8162 321.684 L53.8162 316.985 Q55.8995 318.12 58.1217 318.675 Q60.3439 319.231 62.8208 319.231 Q66.8254 319.231 69.1633 317.124 Q71.5013 315.018 71.5013 311.407 Q71.5013 307.796 69.1633 305.689 Q66.8254 303.583 62.8208 303.583 Q60.9458 303.583 59.0708 303.999 Q57.2189 304.416 55.2745 305.296 L55.2745 287.935 Z\" fill=\"#000000\" fill-rule=\"evenodd\" fill-opacity=\"1\" /><path clip-path=\"url(#clip900)\" d=\"M 0 0 M64.6495 86.1129 Q61.5013 86.1129 59.6495 88.2656 Q57.8208 90.4184 57.8208 94.1684 Q57.8208 97.8952 59.6495 100.071 Q61.5013 102.224 64.6495 102.224 Q67.7976 102.224 69.6263 100.071 Q71.4781 97.8952 71.4781 94.1684 Q71.4781 90.4184 69.6263 88.2656 Q67.7976 86.1129 64.6495 86.1129 M73.9318 71.4602 L73.9318 75.7194 Q72.1726 74.8861 70.367 74.4463 Q68.5846 74.0064 66.8254 74.0064 Q62.1958 74.0064 59.7421 77.1314 Q57.3115 80.2564 56.9643 86.5758 Q58.33 84.5619 60.3902 83.4971 Q62.4504 82.4092 64.9272 82.4092 Q70.1355 82.4092 73.1448 85.5805 Q76.1772 88.7286 76.1772 94.1684 Q76.1772 99.4924 73.029 102.71 Q69.8809 105.928 64.6495 105.928 Q58.6541 105.928 55.4828 101.344 Q52.3116 96.7378 52.3116 88.011 Q52.3116 79.8166 56.2004 74.9555 Q60.0893 70.0713 66.6402 70.0713 Q68.3994 70.0713 70.1818 70.4185 Q71.9874 70.7657 73.9318 71.4602 Z\" fill=\"#000000\" fill-rule=\"evenodd\" fill-opacity=\"1\" /><polyline clip-path=\"url(#clip902)\" style=\"stroke:#009af9; stroke-width:4; stroke-opacity:1; fill:none\" points=\"\n",
       "  175.59,87.9763 185.911,114.366 196.232,140.496 291.667,369.841 387.102,577.044 444.455,690.914 501.807,796.786 550.298,880.061 598.789,957.62 651.463,1035.39 \n",
       "  704.138,1106.42 752.699,1165.93 801.261,1219.7 853.323,1270.98 905.386,1315.68 965.706,1359.22 1026.03,1393.91 1079.63,1417.32 1133.24,1433.75 1180.24,1442.4 \n",
       "  1227.25,1445.68 1278.5,1443.14 1329.75,1434.21 1381.31,1418.79 1432.86,1396.9 1489.86,1365.18 1546.86,1325.57 1601.1,1280.54 1655.33,1228.36 1711.72,1166.53 \n",
       "  1768.11,1096.96 1815.58,1032.4 1863.05,962.373 1921.01,869.446 1978.96,768.353 2033.44,665.878 2087.92,556.187 2175.2,365.414 2262.48,156.122 2275.91,122.268 \n",
       "  2289.34,87.9763 \n",
       "  \"/>\n",
       "<circle clip-path=\"url(#clip902)\" cx=\"175.59\" cy=\"87.9763\" r=\"14\" fill=\"#e26f46\" fill-rule=\"evenodd\" fill-opacity=\"1\" stroke=\"#000000\" stroke-opacity=\"1\" stroke-width=\"3.2\"/>\n",
       "<circle clip-path=\"url(#clip902)\" cx=\"246.048\" cy=\"262.974\" r=\"14\" fill=\"#e26f46\" fill-rule=\"evenodd\" fill-opacity=\"1\" stroke=\"#000000\" stroke-opacity=\"1\" stroke-width=\"3.2\"/>\n",
       "<circle clip-path=\"url(#clip902)\" cx=\"316.507\" cy=\"425.903\" r=\"14\" fill=\"#e26f46\" fill-rule=\"evenodd\" fill-opacity=\"1\" stroke=\"#000000\" stroke-opacity=\"1\" stroke-width=\"3.2\"/>\n",
       "<circle clip-path=\"url(#clip902)\" cx=\"386.965\" cy=\"576.762\" r=\"14\" fill=\"#e26f46\" fill-rule=\"evenodd\" fill-opacity=\"1\" stroke=\"#000000\" stroke-opacity=\"1\" stroke-width=\"3.2\"/>\n",
       "<circle clip-path=\"url(#clip902)\" cx=\"457.424\" cy=\"715.554\" r=\"14\" fill=\"#e26f46\" fill-rule=\"evenodd\" fill-opacity=\"1\" stroke=\"#000000\" stroke-opacity=\"1\" stroke-width=\"3.2\"/>\n",
       "<circle clip-path=\"url(#clip902)\" cx=\"527.882\" cy=\"842.276\" r=\"14\" fill=\"#e26f46\" fill-rule=\"evenodd\" fill-opacity=\"1\" stroke=\"#000000\" stroke-opacity=\"1\" stroke-width=\"3.2\"/>\n",
       "<circle clip-path=\"url(#clip902)\" cx=\"598.34\" cy=\"956.93\" r=\"14\" fill=\"#e26f46\" fill-rule=\"evenodd\" fill-opacity=\"1\" stroke=\"#000000\" stroke-opacity=\"1\" stroke-width=\"3.2\"/>\n",
       "<circle clip-path=\"url(#clip902)\" cx=\"668.799\" cy=\"1059.51\" r=\"14\" fill=\"#e26f46\" fill-rule=\"evenodd\" fill-opacity=\"1\" stroke=\"#000000\" stroke-opacity=\"1\" stroke-width=\"3.2\"/>\n",
       "<circle clip-path=\"url(#clip902)\" cx=\"739.257\" cy=\"1150.03\" r=\"14\" fill=\"#e26f46\" fill-rule=\"evenodd\" fill-opacity=\"1\" stroke=\"#000000\" stroke-opacity=\"1\" stroke-width=\"3.2\"/>\n",
       "<circle clip-path=\"url(#clip902)\" cx=\"809.716\" cy=\"1228.48\" r=\"14\" fill=\"#e26f46\" fill-rule=\"evenodd\" fill-opacity=\"1\" stroke=\"#000000\" stroke-opacity=\"1\" stroke-width=\"3.2\"/>\n",
       "<circle clip-path=\"url(#clip902)\" cx=\"880.174\" cy=\"1294.86\" r=\"14\" fill=\"#e26f46\" fill-rule=\"evenodd\" fill-opacity=\"1\" stroke=\"#000000\" stroke-opacity=\"1\" stroke-width=\"3.2\"/>\n",
       "<circle clip-path=\"url(#clip902)\" cx=\"950.633\" cy=\"1349.17\" r=\"14\" fill=\"#e26f46\" fill-rule=\"evenodd\" fill-opacity=\"1\" stroke=\"#000000\" stroke-opacity=\"1\" stroke-width=\"3.2\"/>\n",
       "<circle clip-path=\"url(#clip902)\" cx=\"1021.09\" cy=\"1391.41\" r=\"14\" fill=\"#e26f46\" fill-rule=\"evenodd\" fill-opacity=\"1\" stroke=\"#000000\" stroke-opacity=\"1\" stroke-width=\"3.2\"/>\n",
       "<circle clip-path=\"url(#clip902)\" cx=\"1091.55\" cy=\"1421.58\" r=\"14\" fill=\"#e26f46\" fill-rule=\"evenodd\" fill-opacity=\"1\" stroke=\"#000000\" stroke-opacity=\"1\" stroke-width=\"3.2\"/>\n",
       "<circle clip-path=\"url(#clip902)\" cx=\"1162.01\" cy=\"1439.68\" r=\"14\" fill=\"#e26f46\" fill-rule=\"evenodd\" fill-opacity=\"1\" stroke=\"#000000\" stroke-opacity=\"1\" stroke-width=\"3.2\"/>\n",
       "<circle clip-path=\"url(#clip902)\" cx=\"1232.47\" cy=\"1445.72\" r=\"14\" fill=\"#e26f46\" fill-rule=\"evenodd\" fill-opacity=\"1\" stroke=\"#000000\" stroke-opacity=\"1\" stroke-width=\"3.2\"/>\n",
       "<circle clip-path=\"url(#clip902)\" cx=\"1302.92\" cy=\"1439.68\" r=\"14\" fill=\"#e26f46\" fill-rule=\"evenodd\" fill-opacity=\"1\" stroke=\"#000000\" stroke-opacity=\"1\" stroke-width=\"3.2\"/>\n",
       "<circle clip-path=\"url(#clip902)\" cx=\"1373.38\" cy=\"1421.58\" r=\"14\" fill=\"#e26f46\" fill-rule=\"evenodd\" fill-opacity=\"1\" stroke=\"#000000\" stroke-opacity=\"1\" stroke-width=\"3.2\"/>\n",
       "<circle clip-path=\"url(#clip902)\" cx=\"1443.84\" cy=\"1391.41\" r=\"14\" fill=\"#e26f46\" fill-rule=\"evenodd\" fill-opacity=\"1\" stroke=\"#000000\" stroke-opacity=\"1\" stroke-width=\"3.2\"/>\n",
       "<circle clip-path=\"url(#clip902)\" cx=\"1514.3\" cy=\"1349.17\" r=\"14\" fill=\"#e26f46\" fill-rule=\"evenodd\" fill-opacity=\"1\" stroke=\"#000000\" stroke-opacity=\"1\" stroke-width=\"3.2\"/>\n",
       "<circle clip-path=\"url(#clip902)\" cx=\"1584.76\" cy=\"1294.86\" r=\"14\" fill=\"#e26f46\" fill-rule=\"evenodd\" fill-opacity=\"1\" stroke=\"#000000\" stroke-opacity=\"1\" stroke-width=\"3.2\"/>\n",
       "<circle clip-path=\"url(#clip902)\" cx=\"1655.22\" cy=\"1228.48\" r=\"14\" fill=\"#e26f46\" fill-rule=\"evenodd\" fill-opacity=\"1\" stroke=\"#000000\" stroke-opacity=\"1\" stroke-width=\"3.2\"/>\n",
       "<circle clip-path=\"url(#clip902)\" cx=\"1725.68\" cy=\"1150.03\" r=\"14\" fill=\"#e26f46\" fill-rule=\"evenodd\" fill-opacity=\"1\" stroke=\"#000000\" stroke-opacity=\"1\" stroke-width=\"3.2\"/>\n",
       "<circle clip-path=\"url(#clip902)\" cx=\"1796.13\" cy=\"1059.51\" r=\"14\" fill=\"#e26f46\" fill-rule=\"evenodd\" fill-opacity=\"1\" stroke=\"#000000\" stroke-opacity=\"1\" stroke-width=\"3.2\"/>\n",
       "<circle clip-path=\"url(#clip902)\" cx=\"1866.59\" cy=\"956.93\" r=\"14\" fill=\"#e26f46\" fill-rule=\"evenodd\" fill-opacity=\"1\" stroke=\"#000000\" stroke-opacity=\"1\" stroke-width=\"3.2\"/>\n",
       "<circle clip-path=\"url(#clip902)\" cx=\"1937.05\" cy=\"842.276\" r=\"14\" fill=\"#e26f46\" fill-rule=\"evenodd\" fill-opacity=\"1\" stroke=\"#000000\" stroke-opacity=\"1\" stroke-width=\"3.2\"/>\n",
       "<circle clip-path=\"url(#clip902)\" cx=\"2007.51\" cy=\"715.554\" r=\"14\" fill=\"#e26f46\" fill-rule=\"evenodd\" fill-opacity=\"1\" stroke=\"#000000\" stroke-opacity=\"1\" stroke-width=\"3.2\"/>\n",
       "<circle clip-path=\"url(#clip902)\" cx=\"2077.97\" cy=\"576.762\" r=\"14\" fill=\"#e26f46\" fill-rule=\"evenodd\" fill-opacity=\"1\" stroke=\"#000000\" stroke-opacity=\"1\" stroke-width=\"3.2\"/>\n",
       "<circle clip-path=\"url(#clip902)\" cx=\"2148.43\" cy=\"425.903\" r=\"14\" fill=\"#e26f46\" fill-rule=\"evenodd\" fill-opacity=\"1\" stroke=\"#000000\" stroke-opacity=\"1\" stroke-width=\"3.2\"/>\n",
       "<circle clip-path=\"url(#clip902)\" cx=\"2218.88\" cy=\"262.974\" r=\"14\" fill=\"#e26f46\" fill-rule=\"evenodd\" fill-opacity=\"1\" stroke=\"#000000\" stroke-opacity=\"1\" stroke-width=\"3.2\"/>\n",
       "<circle clip-path=\"url(#clip902)\" cx=\"2289.34\" cy=\"87.9763\" r=\"14\" fill=\"#e26f46\" fill-rule=\"evenodd\" fill-opacity=\"1\" stroke=\"#000000\" stroke-opacity=\"1\" stroke-width=\"3.2\"/>\n",
       "</svg>\n"
      ]
     },
     "execution_count": 36,
     "metadata": {},
     "output_type": "execute_result"
    }
   ],
   "source": [
    "# Teste 1\n",
    "\n",
    "g(x) = x^2 - 5x + 6\n",
    "gd(x) = 2x - 5\n",
    "gdd(x) = 2\n",
    "x_inicial = 0\n",
    "y_inicial = 6\n",
    "x_final = 5\n",
    "y_final = 6\n",
    "n = 30\n",
    "\n",
    "y = Any[y_inicial]\n",
    "for e in resolver_PVC(gdd, x_inicial, y_inicial, x_final, y_final, n)\n",
    "    push!(y, e)\n",
    "end\n",
    "push!(y, y_final)\n",
    "\n",
    "plot(g, x_inicial, x_final)\n",
    "\n",
    "h = (x_final - x_inicial)/(n)\n",
    "scatter!(x_inicial:h:x_final, y, leg=false)"
   ]
  },
  {
   "cell_type": "code",
   "execution_count": 37,
   "metadata": {},
   "outputs": [
    {
     "data": {
      "image/svg+xml": [
       "<?xml version=\"1.0\" encoding=\"utf-8\"?>\n",
       "<svg xmlns=\"http://www.w3.org/2000/svg\" xmlns:xlink=\"http://www.w3.org/1999/xlink\" width=\"600\" height=\"400\" viewBox=\"0 0 2400 1600\">\n",
       "<defs>\n",
       "  <clipPath id=\"clip940\">\n",
       "    <rect x=\"0\" y=\"0\" width=\"2400\" height=\"1600\"/>\n",
       "  </clipPath>\n",
       "</defs>\n",
       "<path clip-path=\"url(#clip940)\" d=\"\n",
       "M0 1600 L2400 1600 L2400 0 L0 0  Z\n",
       "  \" fill=\"#ffffff\" fill-rule=\"evenodd\" fill-opacity=\"1\"/>\n",
       "<defs>\n",
       "  <clipPath id=\"clip941\">\n",
       "    <rect x=\"480\" y=\"0\" width=\"1681\" height=\"1600\"/>\n",
       "  </clipPath>\n",
       "</defs>\n",
       "<path clip-path=\"url(#clip940)\" d=\"\n",
       "M193.936 1486.45 L2352.76 1486.45 L2352.76 47.2441 L193.936 47.2441  Z\n",
       "  \" fill=\"#ffffff\" fill-rule=\"evenodd\" fill-opacity=\"1\"/>\n",
       "<defs>\n",
       "  <clipPath id=\"clip942\">\n",
       "    <rect x=\"193\" y=\"47\" width=\"2160\" height=\"1440\"/>\n",
       "  </clipPath>\n",
       "</defs>\n",
       "<polyline clip-path=\"url(#clip942)\" style=\"stroke:#000000; stroke-width:2; stroke-opacity:0.1; fill:none\" points=\"\n",
       "  255.035,1486.45 255.035,47.2441 \n",
       "  \"/>\n",
       "<polyline clip-path=\"url(#clip942)\" style=\"stroke:#000000; stroke-width:2; stroke-opacity:0.1; fill:none\" points=\"\n",
       "  579.173,1486.45 579.173,47.2441 \n",
       "  \"/>\n",
       "<polyline clip-path=\"url(#clip942)\" style=\"stroke:#000000; stroke-width:2; stroke-opacity:0.1; fill:none\" points=\"\n",
       "  903.312,1486.45 903.312,47.2441 \n",
       "  \"/>\n",
       "<polyline clip-path=\"url(#clip942)\" style=\"stroke:#000000; stroke-width:2; stroke-opacity:0.1; fill:none\" points=\"\n",
       "  1227.45,1486.45 1227.45,47.2441 \n",
       "  \"/>\n",
       "<polyline clip-path=\"url(#clip942)\" style=\"stroke:#000000; stroke-width:2; stroke-opacity:0.1; fill:none\" points=\"\n",
       "  1551.59,1486.45 1551.59,47.2441 \n",
       "  \"/>\n",
       "<polyline clip-path=\"url(#clip942)\" style=\"stroke:#000000; stroke-width:2; stroke-opacity:0.1; fill:none\" points=\"\n",
       "  1875.73,1486.45 1875.73,47.2441 \n",
       "  \"/>\n",
       "<polyline clip-path=\"url(#clip942)\" style=\"stroke:#000000; stroke-width:2; stroke-opacity:0.1; fill:none\" points=\"\n",
       "  2199.87,1486.45 2199.87,47.2441 \n",
       "  \"/>\n",
       "<polyline clip-path=\"url(#clip940)\" style=\"stroke:#000000; stroke-width:4; stroke-opacity:1; fill:none\" points=\"\n",
       "  193.936,1486.45 2352.76,1486.45 \n",
       "  \"/>\n",
       "<polyline clip-path=\"url(#clip940)\" style=\"stroke:#000000; stroke-width:4; stroke-opacity:1; fill:none\" points=\"\n",
       "  255.035,1486.45 255.035,1469.18 \n",
       "  \"/>\n",
       "<polyline clip-path=\"url(#clip940)\" style=\"stroke:#000000; stroke-width:4; stroke-opacity:1; fill:none\" points=\"\n",
       "  579.173,1486.45 579.173,1469.18 \n",
       "  \"/>\n",
       "<polyline clip-path=\"url(#clip940)\" style=\"stroke:#000000; stroke-width:4; stroke-opacity:1; fill:none\" points=\"\n",
       "  903.312,1486.45 903.312,1469.18 \n",
       "  \"/>\n",
       "<polyline clip-path=\"url(#clip940)\" style=\"stroke:#000000; stroke-width:4; stroke-opacity:1; fill:none\" points=\"\n",
       "  1227.45,1486.45 1227.45,1469.18 \n",
       "  \"/>\n",
       "<polyline clip-path=\"url(#clip940)\" style=\"stroke:#000000; stroke-width:4; stroke-opacity:1; fill:none\" points=\"\n",
       "  1551.59,1486.45 1551.59,1469.18 \n",
       "  \"/>\n",
       "<polyline clip-path=\"url(#clip940)\" style=\"stroke:#000000; stroke-width:4; stroke-opacity:1; fill:none\" points=\"\n",
       "  1875.73,1486.45 1875.73,1469.18 \n",
       "  \"/>\n",
       "<polyline clip-path=\"url(#clip940)\" style=\"stroke:#000000; stroke-width:4; stroke-opacity:1; fill:none\" points=\"\n",
       "  2199.87,1486.45 2199.87,1469.18 \n",
       "  \"/>\n",
       "<path clip-path=\"url(#clip940)\" d=\"M 0 0 M255.035 1515.64 Q251.424 1515.64 249.595 1519.2 Q247.789 1522.75 247.789 1529.87 Q247.789 1536.98 249.595 1540.55 Q251.424 1544.09 255.035 1544.09 Q258.669 1544.09 260.474 1540.55 Q262.303 1536.98 262.303 1529.87 Q262.303 1522.75 260.474 1519.2 Q258.669 1515.64 255.035 1515.64 M255.035 1511.93 Q260.845 1511.93 263.9 1516.54 Q266.979 1521.12 266.979 1529.87 Q266.979 1538.6 263.9 1543.21 Q260.845 1547.79 255.035 1547.79 Q249.225 1547.79 246.146 1543.21 Q243.09 1538.6 243.09 1529.87 Q243.09 1521.12 246.146 1516.54 Q249.225 1511.93 255.035 1511.93 Z\" fill=\"#000000\" fill-rule=\"evenodd\" fill-opacity=\"1\" /><path clip-path=\"url(#clip940)\" d=\"M 0 0 M569.555 1543.18 L577.194 1543.18 L577.194 1516.82 L568.884 1518.49 L568.884 1514.23 L577.148 1512.56 L581.824 1512.56 L581.824 1543.18 L589.463 1543.18 L589.463 1547.12 L569.555 1547.12 L569.555 1543.18 Z\" fill=\"#000000\" fill-rule=\"evenodd\" fill-opacity=\"1\" /><path clip-path=\"url(#clip940)\" d=\"M 0 0 M897.965 1543.18 L914.284 1543.18 L914.284 1547.12 L892.34 1547.12 L892.34 1543.18 Q895.002 1540.43 899.585 1535.8 Q904.191 1531.15 905.372 1529.81 Q907.617 1527.28 908.497 1525.55 Q909.4 1523.79 909.4 1522.1 Q909.4 1519.34 907.455 1517.61 Q905.534 1515.87 902.432 1515.87 Q900.233 1515.87 897.779 1516.63 Q895.349 1517.4 892.571 1518.95 L892.571 1514.23 Q895.395 1513.09 897.849 1512.51 Q900.303 1511.93 902.34 1511.93 Q907.71 1511.93 910.904 1514.62 Q914.099 1517.31 914.099 1521.8 Q914.099 1523.93 913.289 1525.85 Q912.502 1527.74 910.395 1530.34 Q909.816 1531.01 906.715 1534.23 Q903.613 1537.42 897.965 1543.18 Z\" fill=\"#000000\" fill-rule=\"evenodd\" fill-opacity=\"1\" /><path clip-path=\"url(#clip940)\" d=\"M 0 0 M1231.7 1528.49 Q1235.05 1529.2 1236.93 1531.47 Q1238.83 1533.74 1238.83 1537.07 Q1238.83 1542.19 1235.31 1544.99 Q1231.79 1547.79 1225.31 1547.79 Q1223.13 1547.79 1220.82 1547.35 Q1218.53 1546.93 1216.07 1546.08 L1216.07 1541.56 Q1218.02 1542.7 1220.33 1543.28 Q1222.65 1543.86 1225.17 1543.86 Q1229.57 1543.86 1231.86 1542.12 Q1234.17 1540.38 1234.17 1537.07 Q1234.17 1534.02 1232.02 1532.31 Q1229.89 1530.57 1226.07 1530.57 L1222.05 1530.57 L1222.05 1526.73 L1226.26 1526.73 Q1229.71 1526.73 1231.54 1525.36 Q1233.36 1523.97 1233.36 1521.38 Q1233.36 1518.72 1231.47 1517.31 Q1229.59 1515.87 1226.07 1515.87 Q1224.15 1515.87 1221.95 1516.29 Q1219.75 1516.7 1217.11 1517.58 L1217.11 1513.42 Q1219.78 1512.68 1222.09 1512.31 Q1224.43 1511.93 1226.49 1511.93 Q1231.81 1511.93 1234.92 1514.37 Q1238.02 1516.77 1238.02 1520.89 Q1238.02 1523.76 1236.37 1525.75 Q1234.73 1527.72 1231.7 1528.49 Z\" fill=\"#000000\" fill-rule=\"evenodd\" fill-opacity=\"1\" /><path clip-path=\"url(#clip940)\" d=\"M 0 0 M1554.6 1516.63 L1542.79 1535.08 L1554.6 1535.08 L1554.6 1516.63 M1553.37 1512.56 L1559.25 1512.56 L1559.25 1535.08 L1564.18 1535.08 L1564.18 1538.97 L1559.25 1538.97 L1559.25 1547.12 L1554.6 1547.12 L1554.6 1538.97 L1539 1538.97 L1539 1534.46 L1553.37 1512.56 Z\" fill=\"#000000\" fill-rule=\"evenodd\" fill-opacity=\"1\" /><path clip-path=\"url(#clip940)\" d=\"M 0 0 M1866.01 1512.56 L1884.36 1512.56 L1884.36 1516.5 L1870.29 1516.5 L1870.29 1524.97 Q1871.31 1524.62 1872.32 1524.46 Q1873.34 1524.27 1874.36 1524.27 Q1880.15 1524.27 1883.53 1527.44 Q1886.91 1530.62 1886.91 1536.03 Q1886.91 1541.61 1883.44 1544.71 Q1879.96 1547.79 1873.64 1547.79 Q1871.47 1547.79 1869.2 1547.42 Q1866.95 1547.05 1864.55 1546.31 L1864.55 1541.61 Q1866.63 1542.74 1868.85 1543.3 Q1871.07 1543.86 1873.55 1543.86 Q1877.56 1543.86 1879.89 1541.75 Q1882.23 1539.64 1882.23 1536.03 Q1882.23 1532.42 1879.89 1530.31 Q1877.56 1528.21 1873.55 1528.21 Q1871.68 1528.21 1869.8 1528.62 Q1867.95 1529.04 1866.01 1529.92 L1866.01 1512.56 Z\" fill=\"#000000\" fill-rule=\"evenodd\" fill-opacity=\"1\" /><path clip-path=\"url(#clip940)\" d=\"M 0 0 M2200.27 1527.98 Q2197.12 1527.98 2195.27 1530.13 Q2193.44 1532.28 2193.44 1536.03 Q2193.44 1539.76 2195.27 1541.93 Q2197.12 1544.09 2200.27 1544.09 Q2203.42 1544.09 2205.25 1541.93 Q2207.1 1539.76 2207.1 1536.03 Q2207.1 1532.28 2205.25 1530.13 Q2203.42 1527.98 2200.27 1527.98 M2209.55 1513.32 L2209.55 1517.58 Q2207.79 1516.75 2205.99 1516.31 Q2204.21 1515.87 2202.45 1515.87 Q2197.82 1515.87 2195.36 1519 Q2192.93 1522.12 2192.59 1528.44 Q2193.95 1526.43 2196.01 1525.36 Q2198.07 1524.27 2200.55 1524.27 Q2205.76 1524.27 2208.77 1527.44 Q2211.8 1530.59 2211.8 1536.03 Q2211.8 1541.36 2208.65 1544.57 Q2205.5 1547.79 2200.27 1547.79 Q2194.28 1547.79 2191.1 1543.21 Q2187.93 1538.6 2187.93 1529.87 Q2187.93 1521.68 2191.82 1516.82 Q2195.71 1511.93 2202.26 1511.93 Q2204.02 1511.93 2205.8 1512.28 Q2207.61 1512.63 2209.55 1513.32 Z\" fill=\"#000000\" fill-rule=\"evenodd\" fill-opacity=\"1\" /><polyline clip-path=\"url(#clip942)\" style=\"stroke:#000000; stroke-width:2; stroke-opacity:0.1; fill:none\" points=\"\n",
       "  193.936,1445.87 2352.76,1445.87 \n",
       "  \"/>\n",
       "<polyline clip-path=\"url(#clip942)\" style=\"stroke:#000000; stroke-width:2; stroke-opacity:0.1; fill:none\" points=\"\n",
       "  193.936,1106.4 2352.76,1106.4 \n",
       "  \"/>\n",
       "<polyline clip-path=\"url(#clip942)\" style=\"stroke:#000000; stroke-width:2; stroke-opacity:0.1; fill:none\" points=\"\n",
       "  193.936,766.924 2352.76,766.924 \n",
       "  \"/>\n",
       "<polyline clip-path=\"url(#clip942)\" style=\"stroke:#000000; stroke-width:2; stroke-opacity:0.1; fill:none\" points=\"\n",
       "  193.936,427.45 2352.76,427.45 \n",
       "  \"/>\n",
       "<polyline clip-path=\"url(#clip942)\" style=\"stroke:#000000; stroke-width:2; stroke-opacity:0.1; fill:none\" points=\"\n",
       "  193.936,87.9762 2352.76,87.9762 \n",
       "  \"/>\n",
       "<polyline clip-path=\"url(#clip940)\" style=\"stroke:#000000; stroke-width:4; stroke-opacity:1; fill:none\" points=\"\n",
       "  193.936,1486.45 193.936,47.2441 \n",
       "  \"/>\n",
       "<polyline clip-path=\"url(#clip940)\" style=\"stroke:#000000; stroke-width:4; stroke-opacity:1; fill:none\" points=\"\n",
       "  193.936,1445.87 219.842,1445.87 \n",
       "  \"/>\n",
       "<polyline clip-path=\"url(#clip940)\" style=\"stroke:#000000; stroke-width:4; stroke-opacity:1; fill:none\" points=\"\n",
       "  193.936,1106.4 219.842,1106.4 \n",
       "  \"/>\n",
       "<polyline clip-path=\"url(#clip940)\" style=\"stroke:#000000; stroke-width:4; stroke-opacity:1; fill:none\" points=\"\n",
       "  193.936,766.924 219.842,766.924 \n",
       "  \"/>\n",
       "<polyline clip-path=\"url(#clip940)\" style=\"stroke:#000000; stroke-width:4; stroke-opacity:1; fill:none\" points=\"\n",
       "  193.936,427.45 219.842,427.45 \n",
       "  \"/>\n",
       "<polyline clip-path=\"url(#clip940)\" style=\"stroke:#000000; stroke-width:4; stroke-opacity:1; fill:none\" points=\"\n",
       "  193.936,87.9762 219.842,87.9762 \n",
       "  \"/>\n",
       "<path clip-path=\"url(#clip940)\" d=\"M 0 0 M50.9921 1446.32 L80.6679 1446.32 L80.6679 1450.26 L50.9921 1450.26 L50.9921 1446.32 Z\" fill=\"#000000\" fill-rule=\"evenodd\" fill-opacity=\"1\" /><path clip-path=\"url(#clip940)\" d=\"M 0 0 M91.5706 1459.22 L99.2095 1459.22 L99.2095 1432.85 L90.8993 1434.52 L90.8993 1430.26 L99.1632 1428.59 L103.839 1428.59 L103.839 1459.22 L111.478 1459.22 L111.478 1463.15 L91.5706 1463.15 L91.5706 1459.22 Z\" fill=\"#000000\" fill-rule=\"evenodd\" fill-opacity=\"1\" /><path clip-path=\"url(#clip940)\" d=\"M 0 0 M120.922 1457.27 L125.807 1457.27 L125.807 1463.15 L120.922 1463.15 L120.922 1457.27 Z\" fill=\"#000000\" fill-rule=\"evenodd\" fill-opacity=\"1\" /><path clip-path=\"url(#clip940)\" d=\"M 0 0 M145.992 1431.67 Q142.381 1431.67 140.552 1435.24 Q138.746 1438.78 138.746 1445.91 Q138.746 1453.01 140.552 1456.58 Q142.381 1460.12 145.992 1460.12 Q149.626 1460.12 151.431 1456.58 Q153.26 1453.01 153.26 1445.91 Q153.26 1438.78 151.431 1435.24 Q149.626 1431.67 145.992 1431.67 M145.992 1427.97 Q151.802 1427.97 154.857 1432.57 Q157.936 1437.16 157.936 1445.91 Q157.936 1454.63 154.857 1459.24 Q151.802 1463.82 145.992 1463.82 Q140.181 1463.82 137.103 1459.24 Q134.047 1454.63 134.047 1445.91 Q134.047 1437.16 137.103 1432.57 Q140.181 1427.97 145.992 1427.97 Z\" fill=\"#000000\" fill-rule=\"evenodd\" fill-opacity=\"1\" /><path clip-path=\"url(#clip940)\" d=\"M 0 0 M51.9875 1106.85 L81.6633 1106.85 L81.6633 1110.78 L51.9875 1110.78 L51.9875 1106.85 Z\" fill=\"#000000\" fill-rule=\"evenodd\" fill-opacity=\"1\" /><path clip-path=\"url(#clip940)\" d=\"M 0 0 M101.756 1092.2 Q98.1447 1092.2 96.316 1095.76 Q94.5104 1099.3 94.5104 1106.43 Q94.5104 1113.54 96.316 1117.1 Q98.1447 1120.65 101.756 1120.65 Q105.39 1120.65 107.196 1117.1 Q109.024 1113.54 109.024 1106.43 Q109.024 1099.3 107.196 1095.76 Q105.39 1092.2 101.756 1092.2 M101.756 1088.49 Q107.566 1088.49 110.621 1093.1 Q113.7 1097.68 113.7 1106.43 Q113.7 1115.16 110.621 1119.77 Q107.566 1124.35 101.756 1124.35 Q95.9456 1124.35 92.8669 1119.77 Q89.8114 1115.16 89.8114 1106.43 Q89.8114 1097.68 92.8669 1093.1 Q95.9456 1088.49 101.756 1088.49 Z\" fill=\"#000000\" fill-rule=\"evenodd\" fill-opacity=\"1\" /><path clip-path=\"url(#clip940)\" d=\"M 0 0 M121.918 1117.8 L126.802 1117.8 L126.802 1123.68 L121.918 1123.68 L121.918 1117.8 Z\" fill=\"#000000\" fill-rule=\"evenodd\" fill-opacity=\"1\" /><path clip-path=\"url(#clip940)\" d=\"M 0 0 M137.033 1089.12 L155.39 1089.12 L155.39 1093.05 L141.316 1093.05 L141.316 1101.53 Q142.334 1101.18 143.353 1101.02 Q144.371 1100.83 145.39 1100.83 Q151.177 1100.83 154.556 1104 Q157.936 1107.17 157.936 1112.59 Q157.936 1118.17 154.464 1121.27 Q150.992 1124.35 144.672 1124.35 Q142.496 1124.35 140.228 1123.98 Q137.982 1123.61 135.575 1122.87 L135.575 1118.17 Q137.658 1119.3 139.881 1119.86 Q142.103 1120.41 144.58 1120.41 Q148.584 1120.41 150.922 1118.31 Q153.26 1116.2 153.26 1112.59 Q153.26 1108.98 150.922 1106.87 Q148.584 1104.77 144.58 1104.77 Q142.705 1104.77 140.83 1105.18 Q138.978 1105.6 137.033 1106.48 L137.033 1089.12 Z\" fill=\"#000000\" fill-rule=\"evenodd\" fill-opacity=\"1\" /><path clip-path=\"url(#clip940)\" d=\"M 0 0 M100.76 752.723 Q97.1493 752.723 95.3206 756.287 Q93.515 759.829 93.515 766.959 Q93.515 774.065 95.3206 777.63 Q97.1493 781.171 100.76 781.171 Q104.395 781.171 106.2 777.63 Q108.029 774.065 108.029 766.959 Q108.029 759.829 106.2 756.287 Q104.395 752.723 100.76 752.723 M100.76 749.019 Q106.571 749.019 109.626 753.625 Q112.705 758.209 112.705 766.959 Q112.705 775.685 109.626 780.292 Q106.571 784.875 100.76 784.875 Q94.9502 784.875 91.8715 780.292 Q88.816 775.685 88.816 766.959 Q88.816 758.209 91.8715 753.625 Q94.9502 749.019 100.76 749.019 Z\" fill=\"#000000\" fill-rule=\"evenodd\" fill-opacity=\"1\" /><path clip-path=\"url(#clip940)\" d=\"M 0 0 M120.922 778.324 L125.807 778.324 L125.807 784.204 L120.922 784.204 L120.922 778.324 Z\" fill=\"#000000\" fill-rule=\"evenodd\" fill-opacity=\"1\" /><path clip-path=\"url(#clip940)\" d=\"M 0 0 M145.992 752.723 Q142.381 752.723 140.552 756.287 Q138.746 759.829 138.746 766.959 Q138.746 774.065 140.552 777.63 Q142.381 781.171 145.992 781.171 Q149.626 781.171 151.431 777.63 Q153.26 774.065 153.26 766.959 Q153.26 759.829 151.431 756.287 Q149.626 752.723 145.992 752.723 M145.992 749.019 Q151.802 749.019 154.857 753.625 Q157.936 758.209 157.936 766.959 Q157.936 775.685 154.857 780.292 Q151.802 784.875 145.992 784.875 Q140.181 784.875 137.103 780.292 Q134.047 775.685 134.047 766.959 Q134.047 758.209 137.103 753.625 Q140.181 749.019 145.992 749.019 Z\" fill=\"#000000\" fill-rule=\"evenodd\" fill-opacity=\"1\" /><path clip-path=\"url(#clip940)\" d=\"M 0 0 M101.756 413.249 Q98.1447 413.249 96.316 416.814 Q94.5104 420.355 94.5104 427.485 Q94.5104 434.591 96.316 438.156 Q98.1447 441.698 101.756 441.698 Q105.39 441.698 107.196 438.156 Q109.024 434.591 109.024 427.485 Q109.024 420.355 107.196 416.814 Q105.39 413.249 101.756 413.249 M101.756 409.545 Q107.566 409.545 110.621 414.152 Q113.7 418.735 113.7 427.485 Q113.7 436.212 110.621 440.818 Q107.566 445.401 101.756 445.401 Q95.9456 445.401 92.8669 440.818 Q89.8114 436.212 89.8114 427.485 Q89.8114 418.735 92.8669 414.152 Q95.9456 409.545 101.756 409.545 Z\" fill=\"#000000\" fill-rule=\"evenodd\" fill-opacity=\"1\" /><path clip-path=\"url(#clip940)\" d=\"M 0 0 M121.918 438.85 L126.802 438.85 L126.802 444.73 L121.918 444.73 L121.918 438.85 Z\" fill=\"#000000\" fill-rule=\"evenodd\" fill-opacity=\"1\" /><path clip-path=\"url(#clip940)\" d=\"M 0 0 M137.033 410.17 L155.39 410.17 L155.39 414.105 L141.316 414.105 L141.316 422.577 Q142.334 422.23 143.353 422.068 Q144.371 421.883 145.39 421.883 Q151.177 421.883 154.556 425.054 Q157.936 428.226 157.936 433.642 Q157.936 439.221 154.464 442.323 Q150.992 445.401 144.672 445.401 Q142.496 445.401 140.228 445.031 Q137.982 444.661 135.575 443.92 L135.575 439.221 Q137.658 440.355 139.881 440.911 Q142.103 441.466 144.58 441.466 Q148.584 441.466 150.922 439.36 Q153.26 437.253 153.26 433.642 Q153.26 430.031 150.922 427.925 Q148.584 425.818 144.58 425.818 Q142.705 425.818 140.83 426.235 Q138.978 426.651 137.033 427.531 L137.033 410.17 Z\" fill=\"#000000\" fill-rule=\"evenodd\" fill-opacity=\"1\" /><path clip-path=\"url(#clip940)\" d=\"M 0 0 M91.5706 101.321 L99.2095 101.321 L99.2095 74.9555 L90.8993 76.6221 L90.8993 72.3629 L99.1632 70.6962 L103.839 70.6962 L103.839 101.321 L111.478 101.321 L111.478 105.256 L91.5706 105.256 L91.5706 101.321 Z\" fill=\"#000000\" fill-rule=\"evenodd\" fill-opacity=\"1\" /><path clip-path=\"url(#clip940)\" d=\"M 0 0 M120.922 99.3766 L125.807 99.3766 L125.807 105.256 L120.922 105.256 L120.922 99.3766 Z\" fill=\"#000000\" fill-rule=\"evenodd\" fill-opacity=\"1\" /><path clip-path=\"url(#clip940)\" d=\"M 0 0 M145.992 73.7749 Q142.381 73.7749 140.552 77.3397 Q138.746 80.8814 138.746 88.011 Q138.746 95.1174 140.552 98.6822 Q142.381 102.224 145.992 102.224 Q149.626 102.224 151.431 98.6822 Q153.26 95.1174 153.26 88.011 Q153.26 80.8814 151.431 77.3397 Q149.626 73.7749 145.992 73.7749 M145.992 70.0712 Q151.802 70.0712 154.857 74.6777 Q157.936 79.261 157.936 88.011 Q157.936 96.7378 154.857 101.344 Q151.802 105.928 145.992 105.928 Q140.181 105.928 137.103 101.344 Q134.047 96.7378 134.047 88.011 Q134.047 79.261 137.103 74.6777 Q140.181 70.0712 145.992 70.0712 Z\" fill=\"#000000\" fill-rule=\"evenodd\" fill-opacity=\"1\" /><polyline clip-path=\"url(#clip942)\" style=\"stroke:#009af9; stroke-width:4; stroke-opacity:1; fill:none\" points=\"\n",
       "  255.035,766.924 264.979,746.097 274.924,725.289 366.877,537.278 458.829,367.624 514.089,280.251 569.348,206.989 592.709,180.793 616.07,157.64 639.431,137.65 \n",
       "  662.791,120.927 713.544,96.2473 764.296,87.9763 811.085,95.0695 857.875,116.138 908.038,153.744 958.201,206.006 1016.32,283.223 1074.44,375.949 1126.09,468.975 \n",
       "  1177.74,569.55 1223.03,661.951 1268.32,756.397 1317.7,859.54 1367.08,960.537 1416.75,1057.61 1466.43,1147.86 1521.35,1237.17 1576.27,1313.02 1628.52,1370.7 \n",
       "  1680.78,1412.71 1707.95,1427.99 1735.11,1438.63 1762.28,1444.55 1789.45,1445.72 1835.18,1436.92 1880.92,1414.81 1936.76,1370.43 1992.6,1308.17 2045.09,1235 \n",
       "  2097.58,1149.58 2181.68,992.893 2265.77,821.083 2278.72,794.025 2291.66,766.924 \n",
       "  \"/>\n",
       "<circle clip-path=\"url(#clip942)\" cx=\"255.035\" cy=\"766.924\" r=\"14\" fill=\"#e26f46\" fill-rule=\"evenodd\" fill-opacity=\"1\" stroke=\"#000000\" stroke-opacity=\"1\" stroke-width=\"3.2\"/>\n",
       "<circle clip-path=\"url(#clip942)\" cx=\"322.922\" cy=\"631.025\" r=\"14\" fill=\"#e26f46\" fill-rule=\"evenodd\" fill-opacity=\"1\" stroke=\"#000000\" stroke-opacity=\"1\" stroke-width=\"3.2\"/>\n",
       "<circle clip-path=\"url(#clip942)\" cx=\"390.81\" cy=\"495.126\" r=\"14\" fill=\"#e26f46\" fill-rule=\"evenodd\" fill-opacity=\"1\" stroke=\"#000000\" stroke-opacity=\"1\" stroke-width=\"3.2\"/>\n",
       "<circle clip-path=\"url(#clip942)\" cx=\"458.697\" cy=\"371.34\" r=\"14\" fill=\"#e26f46\" fill-rule=\"evenodd\" fill-opacity=\"1\" stroke=\"#000000\" stroke-opacity=\"1\" stroke-width=\"3.2\"/>\n",
       "<circle clip-path=\"url(#clip942)\" cx=\"526.584\" cy=\"265.06\" r=\"14\" fill=\"#e26f46\" fill-rule=\"evenodd\" fill-opacity=\"1\" stroke=\"#000000\" stroke-opacity=\"1\" stroke-width=\"3.2\"/>\n",
       "<circle clip-path=\"url(#clip942)\" cx=\"594.472\" cy=\"180.912\" r=\"14\" fill=\"#e26f46\" fill-rule=\"evenodd\" fill-opacity=\"1\" stroke=\"#000000\" stroke-opacity=\"1\" stroke-width=\"3.2\"/>\n",
       "<circle clip-path=\"url(#clip942)\" cx=\"662.359\" cy=\"122.556\" r=\"14\" fill=\"#e26f46\" fill-rule=\"evenodd\" fill-opacity=\"1\" stroke=\"#000000\" stroke-opacity=\"1\" stroke-width=\"3.2\"/>\n",
       "<circle clip-path=\"url(#clip942)\" cx=\"730.247\" cy=\"92.5243\" r=\"14\" fill=\"#e26f46\" fill-rule=\"evenodd\" fill-opacity=\"1\" stroke=\"#000000\" stroke-opacity=\"1\" stroke-width=\"3.2\"/>\n",
       "<circle clip-path=\"url(#clip942)\" cx=\"798.134\" cy=\"92.1115\" r=\"14\" fill=\"#e26f46\" fill-rule=\"evenodd\" fill-opacity=\"1\" stroke=\"#000000\" stroke-opacity=\"1\" stroke-width=\"3.2\"/>\n",
       "<circle clip-path=\"url(#clip942)\" cx=\"866.021\" cy=\"121.318\" r=\"14\" fill=\"#e26f46\" fill-rule=\"evenodd\" fill-opacity=\"1\" stroke=\"#000000\" stroke-opacity=\"1\" stroke-width=\"3.2\"/>\n",
       "<circle clip-path=\"url(#clip942)\" cx=\"933.909\" cy=\"178.848\" r=\"14\" fill=\"#e26f46\" fill-rule=\"evenodd\" fill-opacity=\"1\" stroke=\"#000000\" stroke-opacity=\"1\" stroke-width=\"3.2\"/>\n",
       "<circle clip-path=\"url(#clip942)\" cx=\"1001.8\" cy=\"262.17\" r=\"14\" fill=\"#e26f46\" fill-rule=\"evenodd\" fill-opacity=\"1\" stroke=\"#000000\" stroke-opacity=\"1\" stroke-width=\"3.2\"/>\n",
       "<circle clip-path=\"url(#clip942)\" cx=\"1069.68\" cy=\"367.625\" r=\"14\" fill=\"#e26f46\" fill-rule=\"evenodd\" fill-opacity=\"1\" stroke=\"#000000\" stroke-opacity=\"1\" stroke-width=\"3.2\"/>\n",
       "<circle clip-path=\"url(#clip942)\" cx=\"1137.57\" cy=\"490.585\" r=\"14\" fill=\"#e26f46\" fill-rule=\"evenodd\" fill-opacity=\"1\" stroke=\"#000000\" stroke-opacity=\"1\" stroke-width=\"3.2\"/>\n",
       "<circle clip-path=\"url(#clip942)\" cx=\"1205.46\" cy=\"625.658\" r=\"14\" fill=\"#e26f46\" fill-rule=\"evenodd\" fill-opacity=\"1\" stroke=\"#000000\" stroke-opacity=\"1\" stroke-width=\"3.2\"/>\n",
       "<circle clip-path=\"url(#clip942)\" cx=\"1273.35\" cy=\"766.924\" r=\"14\" fill=\"#e26f46\" fill-rule=\"evenodd\" fill-opacity=\"1\" stroke=\"#000000\" stroke-opacity=\"1\" stroke-width=\"3.2\"/>\n",
       "<circle clip-path=\"url(#clip942)\" cx=\"1341.23\" cy=\"908.189\" r=\"14\" fill=\"#e26f46\" fill-rule=\"evenodd\" fill-opacity=\"1\" stroke=\"#000000\" stroke-opacity=\"1\" stroke-width=\"3.2\"/>\n",
       "<circle clip-path=\"url(#clip942)\" cx=\"1409.12\" cy=\"1043.26\" r=\"14\" fill=\"#e26f46\" fill-rule=\"evenodd\" fill-opacity=\"1\" stroke=\"#000000\" stroke-opacity=\"1\" stroke-width=\"3.2\"/>\n",
       "<circle clip-path=\"url(#clip942)\" cx=\"1477.01\" cy=\"1166.22\" r=\"14\" fill=\"#e26f46\" fill-rule=\"evenodd\" fill-opacity=\"1\" stroke=\"#000000\" stroke-opacity=\"1\" stroke-width=\"3.2\"/>\n",
       "<circle clip-path=\"url(#clip942)\" cx=\"1544.9\" cy=\"1271.68\" r=\"14\" fill=\"#e26f46\" fill-rule=\"evenodd\" fill-opacity=\"1\" stroke=\"#000000\" stroke-opacity=\"1\" stroke-width=\"3.2\"/>\n",
       "<circle clip-path=\"url(#clip942)\" cx=\"1612.78\" cy=\"1355\" r=\"14\" fill=\"#e26f46\" fill-rule=\"evenodd\" fill-opacity=\"1\" stroke=\"#000000\" stroke-opacity=\"1\" stroke-width=\"3.2\"/>\n",
       "<circle clip-path=\"url(#clip942)\" cx=\"1680.67\" cy=\"1412.53\" r=\"14\" fill=\"#e26f46\" fill-rule=\"evenodd\" fill-opacity=\"1\" stroke=\"#000000\" stroke-opacity=\"1\" stroke-width=\"3.2\"/>\n",
       "<circle clip-path=\"url(#clip942)\" cx=\"1748.56\" cy=\"1441.74\" r=\"14\" fill=\"#e26f46\" fill-rule=\"evenodd\" fill-opacity=\"1\" stroke=\"#000000\" stroke-opacity=\"1\" stroke-width=\"3.2\"/>\n",
       "<circle clip-path=\"url(#clip942)\" cx=\"1816.45\" cy=\"1441.32\" r=\"14\" fill=\"#e26f46\" fill-rule=\"evenodd\" fill-opacity=\"1\" stroke=\"#000000\" stroke-opacity=\"1\" stroke-width=\"3.2\"/>\n",
       "<circle clip-path=\"url(#clip942)\" cx=\"1884.33\" cy=\"1411.29\" r=\"14\" fill=\"#e26f46\" fill-rule=\"evenodd\" fill-opacity=\"1\" stroke=\"#000000\" stroke-opacity=\"1\" stroke-width=\"3.2\"/>\n",
       "<circle clip-path=\"url(#clip942)\" cx=\"1952.22\" cy=\"1352.94\" r=\"14\" fill=\"#e26f46\" fill-rule=\"evenodd\" fill-opacity=\"1\" stroke=\"#000000\" stroke-opacity=\"1\" stroke-width=\"3.2\"/>\n",
       "<circle clip-path=\"url(#clip942)\" cx=\"2020.11\" cy=\"1268.79\" r=\"14\" fill=\"#e26f46\" fill-rule=\"evenodd\" fill-opacity=\"1\" stroke=\"#000000\" stroke-opacity=\"1\" stroke-width=\"3.2\"/>\n",
       "<circle clip-path=\"url(#clip942)\" cx=\"2087.99\" cy=\"1162.51\" r=\"14\" fill=\"#e26f46\" fill-rule=\"evenodd\" fill-opacity=\"1\" stroke=\"#000000\" stroke-opacity=\"1\" stroke-width=\"3.2\"/>\n",
       "<circle clip-path=\"url(#clip942)\" cx=\"2155.88\" cy=\"1038.72\" r=\"14\" fill=\"#e26f46\" fill-rule=\"evenodd\" fill-opacity=\"1\" stroke=\"#000000\" stroke-opacity=\"1\" stroke-width=\"3.2\"/>\n",
       "<circle clip-path=\"url(#clip942)\" cx=\"2223.77\" cy=\"902.823\" r=\"14\" fill=\"#e26f46\" fill-rule=\"evenodd\" fill-opacity=\"1\" stroke=\"#000000\" stroke-opacity=\"1\" stroke-width=\"3.2\"/>\n",
       "<circle clip-path=\"url(#clip942)\" cx=\"2291.66\" cy=\"766.924\" r=\"14\" fill=\"#e26f46\" fill-rule=\"evenodd\" fill-opacity=\"1\" stroke=\"#000000\" stroke-opacity=\"1\" stroke-width=\"3.2\"/>\n",
       "</svg>\n"
      ]
     },
     "execution_count": 37,
     "metadata": {},
     "output_type": "execute_result"
    }
   ],
   "source": [
    "#Teste 2\n",
    "\n",
    "g(x) = sin(x)\n",
    "gd(x) = cos(x)\n",
    "gdd(x) = -sin(x)\n",
    "x_inicial = 0\n",
    "y_inicial = 0\n",
    "x_final = 2*pi\n",
    "y_final = 0\n",
    "n = 30\n",
    "\n",
    "y = Any[y_inicial]\n",
    "for e in resolver_PVC(gdd, x_inicial, y_inicial, x_final, y_final, n)\n",
    "    push!(y, e)\n",
    "end\n",
    "push!(y, y_final)\n",
    "\n",
    "plot(g, x_inicial, x_final)\n",
    "\n",
    "h = (x_final - x_inicial)/(n)\n",
    "scatter!(x_inicial:h:x_final, y, leg=false)"
   ]
  },
  {
   "cell_type": "code",
   "execution_count": 38,
   "metadata": {},
   "outputs": [
    {
     "data": {
      "image/svg+xml": [
       "<?xml version=\"1.0\" encoding=\"utf-8\"?>\n",
       "<svg xmlns=\"http://www.w3.org/2000/svg\" xmlns:xlink=\"http://www.w3.org/1999/xlink\" width=\"600\" height=\"400\" viewBox=\"0 0 2400 1600\">\n",
       "<defs>\n",
       "  <clipPath id=\"clip980\">\n",
       "    <rect x=\"0\" y=\"0\" width=\"2400\" height=\"1600\"/>\n",
       "  </clipPath>\n",
       "</defs>\n",
       "<path clip-path=\"url(#clip980)\" d=\"\n",
       "M0 1600 L2400 1600 L2400 0 L0 0  Z\n",
       "  \" fill=\"#ffffff\" fill-rule=\"evenodd\" fill-opacity=\"1\"/>\n",
       "<defs>\n",
       "  <clipPath id=\"clip981\">\n",
       "    <rect x=\"480\" y=\"0\" width=\"1681\" height=\"1600\"/>\n",
       "  </clipPath>\n",
       "</defs>\n",
       "<path clip-path=\"url(#clip980)\" d=\"\n",
       "M156.112 1486.45 L2352.76 1486.45 L2352.76 47.2441 L156.112 47.2441  Z\n",
       "  \" fill=\"#ffffff\" fill-rule=\"evenodd\" fill-opacity=\"1\"/>\n",
       "<defs>\n",
       "  <clipPath id=\"clip982\">\n",
       "    <rect x=\"156\" y=\"47\" width=\"2198\" height=\"1440\"/>\n",
       "  </clipPath>\n",
       "</defs>\n",
       "<polyline clip-path=\"url(#clip982)\" style=\"stroke:#000000; stroke-width:2; stroke-opacity:0.1; fill:none\" points=\"\n",
       "  218.281,1486.45 218.281,47.2441 \n",
       "  \"/>\n",
       "<polyline clip-path=\"url(#clip982)\" style=\"stroke:#000000; stroke-width:2; stroke-opacity:0.1; fill:none\" points=\"\n",
       "  542.634,1486.45 542.634,47.2441 \n",
       "  \"/>\n",
       "<polyline clip-path=\"url(#clip982)\" style=\"stroke:#000000; stroke-width:2; stroke-opacity:0.1; fill:none\" points=\"\n",
       "  866.986,1486.45 866.986,47.2441 \n",
       "  \"/>\n",
       "<polyline clip-path=\"url(#clip982)\" style=\"stroke:#000000; stroke-width:2; stroke-opacity:0.1; fill:none\" points=\"\n",
       "  1191.34,1486.45 1191.34,47.2441 \n",
       "  \"/>\n",
       "<polyline clip-path=\"url(#clip982)\" style=\"stroke:#000000; stroke-width:2; stroke-opacity:0.1; fill:none\" points=\"\n",
       "  1515.69,1486.45 1515.69,47.2441 \n",
       "  \"/>\n",
       "<polyline clip-path=\"url(#clip982)\" style=\"stroke:#000000; stroke-width:2; stroke-opacity:0.1; fill:none\" points=\"\n",
       "  1840.04,1486.45 1840.04,47.2441 \n",
       "  \"/>\n",
       "<polyline clip-path=\"url(#clip982)\" style=\"stroke:#000000; stroke-width:2; stroke-opacity:0.1; fill:none\" points=\"\n",
       "  2164.4,1486.45 2164.4,47.2441 \n",
       "  \"/>\n",
       "<polyline clip-path=\"url(#clip980)\" style=\"stroke:#000000; stroke-width:4; stroke-opacity:1; fill:none\" points=\"\n",
       "  156.112,1486.45 2352.76,1486.45 \n",
       "  \"/>\n",
       "<polyline clip-path=\"url(#clip980)\" style=\"stroke:#000000; stroke-width:4; stroke-opacity:1; fill:none\" points=\"\n",
       "  218.281,1486.45 218.281,1469.18 \n",
       "  \"/>\n",
       "<polyline clip-path=\"url(#clip980)\" style=\"stroke:#000000; stroke-width:4; stroke-opacity:1; fill:none\" points=\"\n",
       "  542.634,1486.45 542.634,1469.18 \n",
       "  \"/>\n",
       "<polyline clip-path=\"url(#clip980)\" style=\"stroke:#000000; stroke-width:4; stroke-opacity:1; fill:none\" points=\"\n",
       "  866.986,1486.45 866.986,1469.18 \n",
       "  \"/>\n",
       "<polyline clip-path=\"url(#clip980)\" style=\"stroke:#000000; stroke-width:4; stroke-opacity:1; fill:none\" points=\"\n",
       "  1191.34,1486.45 1191.34,1469.18 \n",
       "  \"/>\n",
       "<polyline clip-path=\"url(#clip980)\" style=\"stroke:#000000; stroke-width:4; stroke-opacity:1; fill:none\" points=\"\n",
       "  1515.69,1486.45 1515.69,1469.18 \n",
       "  \"/>\n",
       "<polyline clip-path=\"url(#clip980)\" style=\"stroke:#000000; stroke-width:4; stroke-opacity:1; fill:none\" points=\"\n",
       "  1840.04,1486.45 1840.04,1469.18 \n",
       "  \"/>\n",
       "<polyline clip-path=\"url(#clip980)\" style=\"stroke:#000000; stroke-width:4; stroke-opacity:1; fill:none\" points=\"\n",
       "  2164.4,1486.45 2164.4,1469.18 \n",
       "  \"/>\n",
       "<path clip-path=\"url(#clip980)\" d=\"M 0 0 M208.663 1543.18 L216.302 1543.18 L216.302 1516.82 L207.992 1518.49 L207.992 1514.23 L216.256 1512.56 L220.932 1512.56 L220.932 1543.18 L228.571 1543.18 L228.571 1547.12 L208.663 1547.12 L208.663 1543.18 Z\" fill=\"#000000\" fill-rule=\"evenodd\" fill-opacity=\"1\" /><path clip-path=\"url(#clip980)\" d=\"M 0 0 M537.286 1543.18 L553.606 1543.18 L553.606 1547.12 L531.661 1547.12 L531.661 1543.18 Q534.324 1540.43 538.907 1535.8 Q543.513 1531.15 544.694 1529.81 Q546.939 1527.28 547.819 1525.55 Q548.722 1523.79 548.722 1522.1 Q548.722 1519.34 546.777 1517.61 Q544.856 1515.87 541.754 1515.87 Q539.555 1515.87 537.101 1516.63 Q534.671 1517.4 531.893 1518.95 L531.893 1514.23 Q534.717 1513.09 537.171 1512.51 Q539.624 1511.93 541.661 1511.93 Q547.032 1511.93 550.226 1514.62 Q553.421 1517.31 553.421 1521.8 Q553.421 1523.93 552.61 1525.85 Q551.823 1527.74 549.717 1530.34 Q549.138 1531.01 546.036 1534.23 Q542.935 1537.42 537.286 1543.18 Z\" fill=\"#000000\" fill-rule=\"evenodd\" fill-opacity=\"1\" /><path clip-path=\"url(#clip980)\" d=\"M 0 0 M871.234 1528.49 Q874.59 1529.2 876.465 1531.47 Q878.363 1533.74 878.363 1537.07 Q878.363 1542.19 874.845 1544.99 Q871.326 1547.79 864.845 1547.79 Q862.669 1547.79 860.354 1547.35 Q858.062 1546.93 855.609 1546.08 L855.609 1541.56 Q857.553 1542.7 859.868 1543.28 Q862.183 1543.86 864.706 1543.86 Q869.104 1543.86 871.396 1542.12 Q873.711 1540.38 873.711 1537.07 Q873.711 1534.02 871.558 1532.31 Q869.428 1530.57 865.609 1530.57 L861.581 1530.57 L861.581 1526.73 L865.794 1526.73 Q869.243 1526.73 871.072 1525.36 Q872.9 1523.97 872.9 1521.38 Q872.9 1518.72 871.002 1517.31 Q869.127 1515.87 865.609 1515.87 Q863.687 1515.87 861.488 1516.29 Q859.289 1516.7 856.65 1517.58 L856.65 1513.42 Q859.312 1512.68 861.627 1512.31 Q863.965 1511.93 866.025 1511.93 Q871.349 1511.93 874.451 1514.37 Q877.553 1516.77 877.553 1520.89 Q877.553 1523.76 875.91 1525.75 Q874.266 1527.72 871.234 1528.49 Z\" fill=\"#000000\" fill-rule=\"evenodd\" fill-opacity=\"1\" /><path clip-path=\"url(#clip980)\" d=\"M 0 0 M1194.35 1516.63 L1182.54 1535.08 L1194.35 1535.08 L1194.35 1516.63 M1193.12 1512.56 L1199 1512.56 L1199 1535.08 L1203.93 1535.08 L1203.93 1538.97 L1199 1538.97 L1199 1547.12 L1194.35 1547.12 L1194.35 1538.97 L1178.75 1538.97 L1178.75 1534.46 L1193.12 1512.56 Z\" fill=\"#000000\" fill-rule=\"evenodd\" fill-opacity=\"1\" /><path clip-path=\"url(#clip980)\" d=\"M 0 0 M1505.97 1512.56 L1524.32 1512.56 L1524.32 1516.5 L1510.25 1516.5 L1510.25 1524.97 Q1511.27 1524.62 1512.29 1524.46 Q1513.31 1524.27 1514.33 1524.27 Q1520.11 1524.27 1523.49 1527.44 Q1526.87 1530.62 1526.87 1536.03 Q1526.87 1541.61 1523.4 1544.71 Q1519.93 1547.79 1513.61 1547.79 Q1511.43 1547.79 1509.16 1547.42 Q1506.92 1547.05 1504.51 1546.31 L1504.51 1541.61 Q1506.59 1542.74 1508.82 1543.3 Q1511.04 1543.86 1513.51 1543.86 Q1517.52 1543.86 1519.86 1541.75 Q1522.2 1539.64 1522.2 1536.03 Q1522.2 1532.42 1519.86 1530.31 Q1517.52 1528.21 1513.51 1528.21 Q1511.64 1528.21 1509.76 1528.62 Q1507.91 1529.04 1505.97 1529.92 L1505.97 1512.56 Z\" fill=\"#000000\" fill-rule=\"evenodd\" fill-opacity=\"1\" /><path clip-path=\"url(#clip980)\" d=\"M 0 0 M1840.45 1527.98 Q1837.3 1527.98 1835.45 1530.13 Q1833.62 1532.28 1833.62 1536.03 Q1833.62 1539.76 1835.45 1541.93 Q1837.3 1544.09 1840.45 1544.09 Q1843.6 1544.09 1845.43 1541.93 Q1847.28 1539.76 1847.28 1536.03 Q1847.28 1532.28 1845.43 1530.13 Q1843.6 1527.98 1840.45 1527.98 M1849.73 1513.32 L1849.73 1517.58 Q1847.97 1516.75 1846.17 1516.31 Q1844.38 1515.87 1842.62 1515.87 Q1837.99 1515.87 1835.54 1519 Q1833.11 1522.12 1832.76 1528.44 Q1834.13 1526.43 1836.19 1525.36 Q1838.25 1524.27 1840.73 1524.27 Q1845.93 1524.27 1848.94 1527.44 Q1851.98 1530.59 1851.98 1536.03 Q1851.98 1541.36 1848.83 1544.57 Q1845.68 1547.79 1840.45 1547.79 Q1834.45 1547.79 1831.28 1543.21 Q1828.11 1538.6 1828.11 1529.87 Q1828.11 1521.68 1832 1516.82 Q1835.89 1511.93 1842.44 1511.93 Q1844.2 1511.93 1845.98 1512.28 Q1847.79 1512.63 1849.73 1513.32 Z\" fill=\"#000000\" fill-rule=\"evenodd\" fill-opacity=\"1\" /><path clip-path=\"url(#clip980)\" d=\"M 0 0 M2153.28 1512.56 L2175.51 1512.56 L2175.51 1514.55 L2162.96 1547.12 L2158.08 1547.12 L2169.88 1516.5 L2153.28 1516.5 L2153.28 1512.56 Z\" fill=\"#000000\" fill-rule=\"evenodd\" fill-opacity=\"1\" /><polyline clip-path=\"url(#clip982)\" style=\"stroke:#000000; stroke-width:2; stroke-opacity:0.1; fill:none\" points=\"\n",
       "  156.112,1445.72 2352.76,1445.72 \n",
       "  \"/>\n",
       "<polyline clip-path=\"url(#clip982)\" style=\"stroke:#000000; stroke-width:2; stroke-opacity:0.1; fill:none\" points=\"\n",
       "  156.112,1106.28 2352.76,1106.28 \n",
       "  \"/>\n",
       "<polyline clip-path=\"url(#clip982)\" style=\"stroke:#000000; stroke-width:2; stroke-opacity:0.1; fill:none\" points=\"\n",
       "  156.112,766.846 2352.76,766.846 \n",
       "  \"/>\n",
       "<polyline clip-path=\"url(#clip982)\" style=\"stroke:#000000; stroke-width:2; stroke-opacity:0.1; fill:none\" points=\"\n",
       "  156.112,427.411 2352.76,427.411 \n",
       "  \"/>\n",
       "<polyline clip-path=\"url(#clip982)\" style=\"stroke:#000000; stroke-width:2; stroke-opacity:0.1; fill:none\" points=\"\n",
       "  156.112,87.9763 2352.76,87.9763 \n",
       "  \"/>\n",
       "<polyline clip-path=\"url(#clip980)\" style=\"stroke:#000000; stroke-width:4; stroke-opacity:1; fill:none\" points=\"\n",
       "  156.112,1486.45 156.112,47.2441 \n",
       "  \"/>\n",
       "<polyline clip-path=\"url(#clip980)\" style=\"stroke:#000000; stroke-width:4; stroke-opacity:1; fill:none\" points=\"\n",
       "  156.112,1445.72 182.472,1445.72 \n",
       "  \"/>\n",
       "<polyline clip-path=\"url(#clip980)\" style=\"stroke:#000000; stroke-width:4; stroke-opacity:1; fill:none\" points=\"\n",
       "  156.112,1106.28 182.472,1106.28 \n",
       "  \"/>\n",
       "<polyline clip-path=\"url(#clip980)\" style=\"stroke:#000000; stroke-width:4; stroke-opacity:1; fill:none\" points=\"\n",
       "  156.112,766.846 182.472,766.846 \n",
       "  \"/>\n",
       "<polyline clip-path=\"url(#clip980)\" style=\"stroke:#000000; stroke-width:4; stroke-opacity:1; fill:none\" points=\"\n",
       "  156.112,427.411 182.472,427.411 \n",
       "  \"/>\n",
       "<polyline clip-path=\"url(#clip980)\" style=\"stroke:#000000; stroke-width:4; stroke-opacity:1; fill:none\" points=\"\n",
       "  156.112,87.9763 182.472,87.9763 \n",
       "  \"/>\n",
       "<path clip-path=\"url(#clip980)\" d=\"M 0 0 M62.9365 1431.51 Q59.3254 1431.51 57.4967 1435.08 Q55.6912 1438.62 55.6912 1445.75 Q55.6912 1452.86 57.4967 1456.42 Q59.3254 1459.96 62.9365 1459.96 Q66.5707 1459.96 68.3763 1456.42 Q70.205 1452.86 70.205 1445.75 Q70.205 1438.62 68.3763 1435.08 Q66.5707 1431.51 62.9365 1431.51 M62.9365 1427.81 Q68.7467 1427.81 71.8022 1432.42 Q74.8809 1437 74.8809 1445.75 Q74.8809 1454.48 71.8022 1459.08 Q68.7467 1463.67 62.9365 1463.67 Q57.1264 1463.67 54.0477 1459.08 Q50.9921 1454.48 50.9921 1445.75 Q50.9921 1437 54.0477 1432.42 Q57.1264 1427.81 62.9365 1427.81 Z\" fill=\"#000000\" fill-rule=\"evenodd\" fill-opacity=\"1\" /><path clip-path=\"url(#clip980)\" d=\"M 0 0 M83.0984 1457.12 L87.9827 1457.12 L87.9827 1463 L83.0984 1463 L83.0984 1457.12 Z\" fill=\"#000000\" fill-rule=\"evenodd\" fill-opacity=\"1\" /><path clip-path=\"url(#clip980)\" d=\"M 0 0 M108.168 1431.51 Q104.557 1431.51 102.728 1435.08 Q100.922 1438.62 100.922 1445.75 Q100.922 1452.86 102.728 1456.42 Q104.557 1459.96 108.168 1459.96 Q111.802 1459.96 113.608 1456.42 Q115.436 1452.86 115.436 1445.75 Q115.436 1438.62 113.608 1435.08 Q111.802 1431.51 108.168 1431.51 M108.168 1427.81 Q113.978 1427.81 117.033 1432.42 Q120.112 1437 120.112 1445.75 Q120.112 1454.48 117.033 1459.08 Q113.978 1463.67 108.168 1463.67 Q102.358 1463.67 99.2789 1459.08 Q96.2234 1454.48 96.2234 1445.75 Q96.2234 1437 99.2789 1432.42 Q102.358 1427.81 108.168 1427.81 Z\" fill=\"#000000\" fill-rule=\"evenodd\" fill-opacity=\"1\" /><path clip-path=\"url(#clip980)\" d=\"M 0 0 M63.9319 1092.08 Q60.3208 1092.08 58.4921 1095.64 Q56.6865 1099.19 56.6865 1106.32 Q56.6865 1113.42 58.4921 1116.99 Q60.3208 1120.53 63.9319 1120.53 Q67.5661 1120.53 69.3717 1116.99 Q71.2004 1113.42 71.2004 1106.32 Q71.2004 1099.19 69.3717 1095.64 Q67.5661 1092.08 63.9319 1092.08 M63.9319 1088.38 Q69.742 1088.38 72.7976 1092.98 Q75.8763 1097.57 75.8763 1106.32 Q75.8763 1115.04 72.7976 1119.65 Q69.742 1124.23 63.9319 1124.23 Q58.1217 1124.23 55.043 1119.65 Q51.9875 1115.04 51.9875 1106.32 Q51.9875 1097.57 55.043 1092.98 Q58.1217 1088.38 63.9319 1088.38 Z\" fill=\"#000000\" fill-rule=\"evenodd\" fill-opacity=\"1\" /><path clip-path=\"url(#clip980)\" d=\"M 0 0 M84.0938 1117.68 L88.978 1117.68 L88.978 1123.56 L84.0938 1123.56 L84.0938 1117.68 Z\" fill=\"#000000\" fill-rule=\"evenodd\" fill-opacity=\"1\" /><path clip-path=\"url(#clip980)\" d=\"M 0 0 M99.2095 1089 L117.566 1089 L117.566 1092.94 L103.492 1092.94 L103.492 1101.41 Q104.51 1101.06 105.529 1100.9 Q106.547 1100.71 107.566 1100.71 Q113.353 1100.71 116.733 1103.89 Q120.112 1107.06 120.112 1112.47 Q120.112 1118.05 116.64 1121.15 Q113.168 1124.23 106.848 1124.23 Q104.672 1124.23 102.404 1123.86 Q100.159 1123.49 97.7511 1122.75 L97.7511 1118.05 Q99.8345 1119.19 102.057 1119.74 Q104.279 1120.3 106.756 1120.3 Q110.76 1120.3 113.098 1118.19 Q115.436 1116.08 115.436 1112.47 Q115.436 1108.86 113.098 1106.76 Q110.76 1104.65 106.756 1104.65 Q104.881 1104.65 103.006 1105.07 Q101.154 1105.48 99.2095 1106.36 L99.2095 1089 Z\" fill=\"#000000\" fill-rule=\"evenodd\" fill-opacity=\"1\" /><path clip-path=\"url(#clip980)\" d=\"M 0 0 M53.7467 780.191 L61.3856 780.191 L61.3856 753.825 L53.0754 755.492 L53.0754 751.233 L61.3393 749.566 L66.0152 749.566 L66.0152 780.191 L73.654 780.191 L73.654 784.126 L53.7467 784.126 L53.7467 780.191 Z\" fill=\"#000000\" fill-rule=\"evenodd\" fill-opacity=\"1\" /><path clip-path=\"url(#clip980)\" d=\"M 0 0 M83.0984 778.246 L87.9827 778.246 L87.9827 784.126 L83.0984 784.126 L83.0984 778.246 Z\" fill=\"#000000\" fill-rule=\"evenodd\" fill-opacity=\"1\" /><path clip-path=\"url(#clip980)\" d=\"M 0 0 M108.168 752.645 Q104.557 752.645 102.728 756.209 Q100.922 759.751 100.922 766.881 Q100.922 773.987 102.728 777.552 Q104.557 781.094 108.168 781.094 Q111.802 781.094 113.608 777.552 Q115.436 773.987 115.436 766.881 Q115.436 759.751 113.608 756.209 Q111.802 752.645 108.168 752.645 M108.168 748.941 Q113.978 748.941 117.033 753.547 Q120.112 758.131 120.112 766.881 Q120.112 775.608 117.033 780.214 Q113.978 784.797 108.168 784.797 Q102.358 784.797 99.2789 780.214 Q96.2234 775.608 96.2234 766.881 Q96.2234 758.131 99.2789 753.547 Q102.358 748.941 108.168 748.941 Z\" fill=\"#000000\" fill-rule=\"evenodd\" fill-opacity=\"1\" /><path clip-path=\"url(#clip980)\" d=\"M 0 0 M54.7421 440.756 L62.381 440.756 L62.381 414.39 L54.0708 416.057 L54.0708 411.798 L62.3347 410.131 L67.0106 410.131 L67.0106 440.756 L74.6494 440.756 L74.6494 444.691 L54.7421 444.691 L54.7421 440.756 Z\" fill=\"#000000\" fill-rule=\"evenodd\" fill-opacity=\"1\" /><path clip-path=\"url(#clip980)\" d=\"M 0 0 M84.0938 438.812 L88.978 438.812 L88.978 444.691 L84.0938 444.691 L84.0938 438.812 Z\" fill=\"#000000\" fill-rule=\"evenodd\" fill-opacity=\"1\" /><path clip-path=\"url(#clip980)\" d=\"M 0 0 M99.2095 410.131 L117.566 410.131 L117.566 414.066 L103.492 414.066 L103.492 422.538 Q104.51 422.191 105.529 422.029 Q106.547 421.844 107.566 421.844 Q113.353 421.844 116.733 425.015 Q120.112 428.187 120.112 433.603 Q120.112 439.182 116.64 442.284 Q113.168 445.362 106.848 445.362 Q104.672 445.362 102.404 444.992 Q100.159 444.622 97.7511 443.881 L97.7511 439.182 Q99.8345 440.316 102.057 440.872 Q104.279 441.427 106.756 441.427 Q110.76 441.427 113.098 439.321 Q115.436 437.214 115.436 433.603 Q115.436 429.992 113.098 427.886 Q110.76 425.779 106.756 425.779 Q104.881 425.779 103.006 426.196 Q101.154 426.613 99.2095 427.492 L99.2095 410.131 Z\" fill=\"#000000\" fill-rule=\"evenodd\" fill-opacity=\"1\" /><path clip-path=\"url(#clip980)\" d=\"M 0 0 M56.9643 101.321 L73.2837 101.321 L73.2837 105.256 L51.3393 105.256 L51.3393 101.321 Q54.0014 98.5665 58.5847 93.9369 Q63.1911 89.2841 64.3717 87.9416 Q66.617 85.4184 67.4967 83.6823 Q68.3994 81.9231 68.3994 80.2333 Q68.3994 77.4786 66.455 75.7425 Q64.5337 74.0064 61.4319 74.0064 Q59.2328 74.0064 56.7791 74.7703 Q54.3486 75.5342 51.5708 77.0851 L51.5708 72.3629 Q54.3949 71.2287 56.8486 70.65 Q59.3023 70.0713 61.3393 70.0713 Q66.7096 70.0713 69.9041 72.7565 Q73.0985 75.4416 73.0985 79.9323 Q73.0985 82.062 72.2883 83.9832 Q71.5013 85.8814 69.3948 88.474 Q68.8161 89.1453 65.7143 92.3628 Q62.6124 95.5573 56.9643 101.321 Z\" fill=\"#000000\" fill-rule=\"evenodd\" fill-opacity=\"1\" /><path clip-path=\"url(#clip980)\" d=\"M 0 0 M83.0984 99.3767 L87.9827 99.3767 L87.9827 105.256 L83.0984 105.256 L83.0984 99.3767 Z\" fill=\"#000000\" fill-rule=\"evenodd\" fill-opacity=\"1\" /><path clip-path=\"url(#clip980)\" d=\"M 0 0 M108.168 73.775 Q104.557 73.775 102.728 77.3398 Q100.922 80.8814 100.922 88.011 Q100.922 95.1174 102.728 98.6822 Q104.557 102.224 108.168 102.224 Q111.802 102.224 113.608 98.6822 Q115.436 95.1174 115.436 88.011 Q115.436 80.8814 113.608 77.3398 Q111.802 73.775 108.168 73.775 M108.168 70.0713 Q113.978 70.0713 117.033 74.6777 Q120.112 79.261 120.112 88.011 Q120.112 96.7378 117.033 101.344 Q113.978 105.928 108.168 105.928 Q102.358 105.928 99.2789 101.344 Q96.2234 96.7378 96.2234 88.011 Q96.2234 79.261 99.2789 74.6777 Q102.358 70.0713 108.168 70.0713 Z\" fill=\"#000000\" fill-rule=\"evenodd\" fill-opacity=\"1\" /><polyline clip-path=\"url(#clip982)\" style=\"stroke:#009af9; stroke-width:4; stroke-opacity:1; fill:none\" points=\"\n",
       "  218.281,1445.72 223.341,1435.21 228.4,1424.86 233.46,1414.67 238.519,1404.63 285.301,1318.21 332.083,1241.55 378.865,1172.68 425.646,1110.16 481.874,1041.92 \n",
       "  538.102,979.918 585.642,931.58 633.182,886.456 736.465,797.676 831.684,724.988 933.767,654.839 1052.04,581.707 1157.15,522.732 1249.32,474.922 1349.81,426.368 \n",
       "  1450.9,380.796 1562.66,333.733 1669.01,291.794 1779.58,250.772 1872.65,218.063 1986.29,180.154 2093.11,146.352 2264.25,95.4778 2290.59,87.9763 \n",
       "  \"/>\n",
       "<circle clip-path=\"url(#clip982)\" cx=\"218.281\" cy=\"1445.72\" r=\"14\" fill=\"#e26f46\" fill-rule=\"evenodd\" fill-opacity=\"1\" stroke=\"#000000\" stroke-opacity=\"1\" stroke-width=\"3.2\"/>\n",
       "<circle clip-path=\"url(#clip982)\" cx=\"287.358\" cy=\"1305.83\" r=\"14\" fill=\"#e26f46\" fill-rule=\"evenodd\" fill-opacity=\"1\" stroke=\"#000000\" stroke-opacity=\"1\" stroke-width=\"3.2\"/>\n",
       "<circle clip-path=\"url(#clip982)\" cx=\"356.435\" cy=\"1196.74\" r=\"14\" fill=\"#e26f46\" fill-rule=\"evenodd\" fill-opacity=\"1\" stroke=\"#000000\" stroke-opacity=\"1\" stroke-width=\"3.2\"/>\n",
       "<circle clip-path=\"url(#clip982)\" cx=\"425.512\" cy=\"1102.79\" r=\"14\" fill=\"#e26f46\" fill-rule=\"evenodd\" fill-opacity=\"1\" stroke=\"#000000\" stroke-opacity=\"1\" stroke-width=\"3.2\"/>\n",
       "<circle clip-path=\"url(#clip982)\" cx=\"494.589\" cy=\"1020.31\" r=\"14\" fill=\"#e26f46\" fill-rule=\"evenodd\" fill-opacity=\"1\" stroke=\"#000000\" stroke-opacity=\"1\" stroke-width=\"3.2\"/>\n",
       "<circle clip-path=\"url(#clip982)\" cx=\"563.666\" cy=\"946.803\" r=\"14\" fill=\"#e26f46\" fill-rule=\"evenodd\" fill-opacity=\"1\" stroke=\"#000000\" stroke-opacity=\"1\" stroke-width=\"3.2\"/>\n",
       "<circle clip-path=\"url(#clip982)\" cx=\"632.742\" cy=\"880.518\" r=\"14\" fill=\"#e26f46\" fill-rule=\"evenodd\" fill-opacity=\"1\" stroke=\"#000000\" stroke-opacity=\"1\" stroke-width=\"3.2\"/>\n",
       "<circle clip-path=\"url(#clip982)\" cx=\"701.819\" cy=\"820.168\" r=\"14\" fill=\"#e26f46\" fill-rule=\"evenodd\" fill-opacity=\"1\" stroke=\"#000000\" stroke-opacity=\"1\" stroke-width=\"3.2\"/>\n",
       "<circle clip-path=\"url(#clip982)\" cx=\"770.896\" cy=\"764.781\" r=\"14\" fill=\"#e26f46\" fill-rule=\"evenodd\" fill-opacity=\"1\" stroke=\"#000000\" stroke-opacity=\"1\" stroke-width=\"3.2\"/>\n",
       "<circle clip-path=\"url(#clip982)\" cx=\"839.973\" cy=\"713.605\" r=\"14\" fill=\"#e26f46\" fill-rule=\"evenodd\" fill-opacity=\"1\" stroke=\"#000000\" stroke-opacity=\"1\" stroke-width=\"3.2\"/>\n",
       "<circle clip-path=\"url(#clip982)\" cx=\"909.05\" cy=\"666.049\" r=\"14\" fill=\"#e26f46\" fill-rule=\"evenodd\" fill-opacity=\"1\" stroke=\"#000000\" stroke-opacity=\"1\" stroke-width=\"3.2\"/>\n",
       "<circle clip-path=\"url(#clip982)\" cx=\"978.127\" cy=\"621.637\" r=\"14\" fill=\"#e26f46\" fill-rule=\"evenodd\" fill-opacity=\"1\" stroke=\"#000000\" stroke-opacity=\"1\" stroke-width=\"3.2\"/>\n",
       "<circle clip-path=\"url(#clip982)\" cx=\"1047.2\" cy=\"579.98\" r=\"14\" fill=\"#e26f46\" fill-rule=\"evenodd\" fill-opacity=\"1\" stroke=\"#000000\" stroke-opacity=\"1\" stroke-width=\"3.2\"/>\n",
       "<circle clip-path=\"url(#clip982)\" cx=\"1116.28\" cy=\"540.759\" r=\"14\" fill=\"#e26f46\" fill-rule=\"evenodd\" fill-opacity=\"1\" stroke=\"#000000\" stroke-opacity=\"1\" stroke-width=\"3.2\"/>\n",
       "<circle clip-path=\"url(#clip982)\" cx=\"1185.36\" cy=\"503.706\" r=\"14\" fill=\"#e26f46\" fill-rule=\"evenodd\" fill-opacity=\"1\" stroke=\"#000000\" stroke-opacity=\"1\" stroke-width=\"3.2\"/>\n",
       "<circle clip-path=\"url(#clip982)\" cx=\"1254.43\" cy=\"468.595\" r=\"14\" fill=\"#e26f46\" fill-rule=\"evenodd\" fill-opacity=\"1\" stroke=\"#000000\" stroke-opacity=\"1\" stroke-width=\"3.2\"/>\n",
       "<circle clip-path=\"url(#clip982)\" cx=\"1323.51\" cy=\"435.234\" r=\"14\" fill=\"#e26f46\" fill-rule=\"evenodd\" fill-opacity=\"1\" stroke=\"#000000\" stroke-opacity=\"1\" stroke-width=\"3.2\"/>\n",
       "<circle clip-path=\"url(#clip982)\" cx=\"1392.59\" cy=\"403.458\" r=\"14\" fill=\"#e26f46\" fill-rule=\"evenodd\" fill-opacity=\"1\" stroke=\"#000000\" stroke-opacity=\"1\" stroke-width=\"3.2\"/>\n",
       "<circle clip-path=\"url(#clip982)\" cx=\"1461.66\" cy=\"373.124\" r=\"14\" fill=\"#e26f46\" fill-rule=\"evenodd\" fill-opacity=\"1\" stroke=\"#000000\" stroke-opacity=\"1\" stroke-width=\"3.2\"/>\n",
       "<circle clip-path=\"url(#clip982)\" cx=\"1530.74\" cy=\"344.108\" r=\"14\" fill=\"#e26f46\" fill-rule=\"evenodd\" fill-opacity=\"1\" stroke=\"#000000\" stroke-opacity=\"1\" stroke-width=\"3.2\"/>\n",
       "<circle clip-path=\"url(#clip982)\" cx=\"1599.82\" cy=\"316.302\" r=\"14\" fill=\"#e26f46\" fill-rule=\"evenodd\" fill-opacity=\"1\" stroke=\"#000000\" stroke-opacity=\"1\" stroke-width=\"3.2\"/>\n",
       "<circle clip-path=\"url(#clip982)\" cx=\"1668.9\" cy=\"289.608\" r=\"14\" fill=\"#e26f46\" fill-rule=\"evenodd\" fill-opacity=\"1\" stroke=\"#000000\" stroke-opacity=\"1\" stroke-width=\"3.2\"/>\n",
       "<circle clip-path=\"url(#clip982)\" cx=\"1737.97\" cy=\"263.943\" r=\"14\" fill=\"#e26f46\" fill-rule=\"evenodd\" fill-opacity=\"1\" stroke=\"#000000\" stroke-opacity=\"1\" stroke-width=\"3.2\"/>\n",
       "<circle clip-path=\"url(#clip982)\" cx=\"1807.05\" cy=\"239.23\" r=\"14\" fill=\"#e26f46\" fill-rule=\"evenodd\" fill-opacity=\"1\" stroke=\"#000000\" stroke-opacity=\"1\" stroke-width=\"3.2\"/>\n",
       "<circle clip-path=\"url(#clip982)\" cx=\"1876.13\" cy=\"215.403\" r=\"14\" fill=\"#e26f46\" fill-rule=\"evenodd\" fill-opacity=\"1\" stroke=\"#000000\" stroke-opacity=\"1\" stroke-width=\"3.2\"/>\n",
       "<circle clip-path=\"url(#clip982)\" cx=\"1945.2\" cy=\"192.4\" r=\"14\" fill=\"#e26f46\" fill-rule=\"evenodd\" fill-opacity=\"1\" stroke=\"#000000\" stroke-opacity=\"1\" stroke-width=\"3.2\"/>\n",
       "<circle clip-path=\"url(#clip982)\" cx=\"2014.28\" cy=\"170.166\" r=\"14\" fill=\"#e26f46\" fill-rule=\"evenodd\" fill-opacity=\"1\" stroke=\"#000000\" stroke-opacity=\"1\" stroke-width=\"3.2\"/>\n",
       "<circle clip-path=\"url(#clip982)\" cx=\"2083.36\" cy=\"148.653\" r=\"14\" fill=\"#e26f46\" fill-rule=\"evenodd\" fill-opacity=\"1\" stroke=\"#000000\" stroke-opacity=\"1\" stroke-width=\"3.2\"/>\n",
       "<circle clip-path=\"url(#clip982)\" cx=\"2152.43\" cy=\"127.816\" r=\"14\" fill=\"#e26f46\" fill-rule=\"evenodd\" fill-opacity=\"1\" stroke=\"#000000\" stroke-opacity=\"1\" stroke-width=\"3.2\"/>\n",
       "<circle clip-path=\"url(#clip982)\" cx=\"2221.51\" cy=\"107.614\" r=\"14\" fill=\"#e26f46\" fill-rule=\"evenodd\" fill-opacity=\"1\" stroke=\"#000000\" stroke-opacity=\"1\" stroke-width=\"3.2\"/>\n",
       "<circle clip-path=\"url(#clip982)\" cx=\"2290.59\" cy=\"87.9763\" r=\"14\" fill=\"#e26f46\" fill-rule=\"evenodd\" fill-opacity=\"1\" stroke=\"#000000\" stroke-opacity=\"1\" stroke-width=\"3.2\"/>\n",
       "</svg>\n"
      ]
     },
     "execution_count": 38,
     "metadata": {},
     "output_type": "execute_result"
    }
   ],
   "source": [
    "#Teste 3\n",
    "\n",
    "g(x) = log(x)\n",
    "gd(x) = 1/x\n",
    "gdd(x) = -1/x^2\n",
    "x_inicial = 1\n",
    "y_inicial = 0\n",
    "x_final = exp(2)\n",
    "y_final = 2\n",
    "n = 30\n",
    "\n",
    "y = Any[y_inicial]\n",
    "for e in resolver_PVC(gdd, x_inicial, y_inicial, x_final, y_final, n)\n",
    "    push!(y, e)\n",
    "end\n",
    "push!(y, y_final)\n",
    "\n",
    "plot(g, x_inicial, x_final)\n",
    "\n",
    "h = (x_final - x_inicial)/(n)\n",
    "scatter!(x_inicial:h:x_final, y, leg=false)"
   ]
  },
  {
   "cell_type": "markdown",
   "metadata": {},
   "source": [
    "### Gerar a Matriz de Vandermonde"
   ]
  },
  {
   "cell_type": "code",
   "execution_count": 39,
   "metadata": {},
   "outputs": [
    {
     "data": {
      "text/plain": [
       "matriz_de_vandermonde (generic function with 1 method)"
      ]
     },
     "execution_count": 39,
     "metadata": {},
     "output_type": "execute_result"
    }
   ],
   "source": [
    "\"\"\" Essa função recebe uma lista de pontos x e retorna uma matriz cujas colunas são \n",
    "dadas por essa lista de pontos elevado a uma potência. A primeira coluna possui apenas 1s, \n",
    "a segunda é potência de 1, a terceira de 2, e assim em diante até o grau especificado. \"\"\"\n",
    "\n",
    "function matriz_de_vandermonde(pontos_x, grau)\n",
    "    matriz = ones(length(pontos_x))\n",
    "    for i in 1:grau\n",
    "        matriz = hcat(matriz, pontos_x.^i)\n",
    "    end \n",
    "    return matriz\n",
    "end"
   ]
  },
  {
   "cell_type": "code",
   "execution_count": 40,
   "metadata": {},
   "outputs": [
    {
     "data": {
      "text/plain": [
       "5×4 Array{Float64,2}:\n",
       " 1.0   1.0   1.0   1.0\n",
       " 1.0   2.0   4.0   8.0\n",
       " 1.0   4.0  16.0  64.0\n",
       " 1.0   2.0   4.0   8.0\n",
       " 1.0  -1.0   1.0  -1.0"
      ]
     },
     "execution_count": 40,
     "metadata": {},
     "output_type": "execute_result"
    }
   ],
   "source": [
    "matriz_de_vandermonde([1,2,4,2,-1], 3)"
   ]
  },
  {
   "cell_type": "code",
   "execution_count": 41,
   "metadata": {},
   "outputs": [
    {
     "data": {
      "text/plain": [
       "5×2 Array{Float64,2}:\n",
       " 1.0   1.0\n",
       " 1.0  -1.0\n",
       " 1.0   2.0\n",
       " 1.0   3.0\n",
       " 1.0  -5.0"
      ]
     },
     "execution_count": 41,
     "metadata": {},
     "output_type": "execute_result"
    }
   ],
   "source": [
    "matriz_de_vandermonde([1,-1,2,3,-5], 1)"
   ]
  },
  {
   "cell_type": "code",
   "execution_count": 42,
   "metadata": {},
   "outputs": [
    {
     "data": {
      "text/plain": [
       "4×6 Array{Float64,2}:\n",
       " 1.0  2.0  4.0   8.0  16.0   32.0\n",
       " 1.0  3.0  9.0  27.0  81.0  243.0\n",
       " 1.0  1.0  1.0   1.0   1.0    1.0\n",
       " 1.0  2.0  4.0   8.0  16.0   32.0"
      ]
     },
     "execution_count": 42,
     "metadata": {},
     "output_type": "execute_result"
    }
   ],
   "source": [
    "matriz_de_vandermonde([2,3,1,2], 5)"
   ]
  },
  {
   "cell_type": "markdown",
   "metadata": {},
   "source": [
    "### Fazer Interpolação de Curva por Vandermonde"
   ]
  },
  {
   "cell_type": "code",
   "execution_count": 43,
   "metadata": {},
   "outputs": [
    {
     "data": {
      "text/plain": [
       "interpolacao_coeficientes (generic function with 1 method)"
      ]
     },
     "execution_count": 43,
     "metadata": {},
     "output_type": "execute_result"
    }
   ],
   "source": [
    "\"\"\" Nessa função, realizamos o processo de interpolação de curvas utilizando a matriz de \n",
    "Vandermonde para o sistema. Consiste em passarmos os pontos de x e y como duas listas \n",
    "separadas e o grau do polinômio, e a função retorna os coeficientes\n",
    "do polinômio, na ordem do grau 0 até o grau especificado.\"\"\"\n",
    "\n",
    "function interpolacao_coeficientes(pontos_x, pontos_y, grau)\n",
    "    V = matriz_de_vandermonde(pontos_x,grau)\n",
    "    coeficientes = resolver_um_sistema(V,pontos_y)\n",
    "    return coeficientes\n",
    "end"
   ]
  },
  {
   "cell_type": "code",
   "execution_count": 44,
   "metadata": {},
   "outputs": [
    {
     "data": {
      "text/plain": [
       "4×1 Array{Float64,2}:\n",
       "  9.500000000000004\n",
       " -8.000000000000004\n",
       "  1.0000000000000009\n",
       " -0.10000000000000007"
      ]
     },
     "execution_count": 44,
     "metadata": {},
     "output_type": "execute_result"
    }
   ],
   "source": [
    "f(x) = 9.5 -8*x + x^2 - 0.1x^3\n",
    "interpolacao_coeficientes([1,5,6,9], [f(1),f(5),f(6),f(9)], 3)"
   ]
  },
  {
   "cell_type": "code",
   "execution_count": 45,
   "metadata": {},
   "outputs": [
    {
     "data": {
      "text/plain": [
       "6×1 Array{Float64,2}:\n",
       " -3.0\n",
       " -4.999999999999997\n",
       " -2.999999999999999\n",
       "  0.39999999999999714\n",
       " -2.220446049250313e-16\n",
       "  1.0000000000000007"
      ]
     },
     "execution_count": 45,
     "metadata": {},
     "output_type": "execute_result"
    }
   ],
   "source": [
    "f(x) = -3 - 5*x - 3*x^2 + 0.4*x^3 + x^5\n",
    "interpolacao_coeficientes([-1,0,1.5,1,-2,2], [f(-1),f(0),f(1.5),f(1),f(-2),f(2)], 5)"
   ]
  },
  {
   "cell_type": "code",
   "execution_count": 46,
   "metadata": {},
   "outputs": [
    {
     "data": {
      "text/plain": [
       "4×1 Array{Float64,2}:\n",
       " 3.0\n",
       " 5.0\n",
       " 0.0\n",
       " 0.0"
      ]
     },
     "execution_count": 46,
     "metadata": {},
     "output_type": "execute_result"
    }
   ],
   "source": [
    "f(x) = 3 + 5*x\n",
    "interpolacao_coeficientes([0,1,-1,2], [f(0),f(1),f(-1),f(2)], 3)"
   ]
  },
  {
   "cell_type": "markdown",
   "metadata": {},
   "source": [
    "### Obter Polinômio por Lagrange"
   ]
  },
  {
   "cell_type": "code",
   "execution_count": 47,
   "metadata": {},
   "outputs": [
    {
     "data": {
      "text/plain": [
       "lagrange (generic function with 1 method)"
      ]
     },
     "execution_count": 47,
     "metadata": {},
     "output_type": "execute_result"
    }
   ],
   "source": [
    "\"\"\"\n",
    "Polinômio de Lagrange dado um conjunto de pontos e o (grau - 1) do polinômio desejado\n",
    "\n",
    "@param: - coordenadas x\n",
    "        - coordenadas y\n",
    "        - (grau - 1) desejado para o polinômio de lagrange (se grau = 3, teremos P_2(x))\n",
    "\n",
    "@return: - aproximação para f no ponto x_final\n",
    "\"\"\"\n",
    "\n",
    "function lagrange(pontos_x, pontos_y, grau)\n",
    "    \n",
    "    poly = Polynomial(0.0)\n",
    "\n",
    "    for i in 1 : grau\n",
    "        coeff = Polynomial(pontos_y[i])\n",
    "        for j in 1 : grau\n",
    "            if i == j\n",
    "                # caso especial, não consideramos os\n",
    "                # mesmos índices\n",
    "                continue\n",
    "            end\n",
    "\n",
    "            # adicionamento esse coeficiente no polinômio\n",
    "            coeff = coeff * Polynomial([-pontos_x[j], 1.0]) / (pontos_x[i] - pontos_x[j])\n",
    "        end\n",
    "\n",
    "        # adicionamos o coeficiente no polinômio\n",
    "        poly += coeff\n",
    "    end\n",
    "\n",
    "    # retornamos polinômio na forma [1, x, x^2, ..., x^(grau-1)]\n",
    "    return poly\n",
    "end"
   ]
  },
  {
   "cell_type": "code",
   "execution_count": 48,
   "metadata": {},
   "outputs": [
    {
     "name": "stdout",
     "output_type": "stream",
     "text": [
      "[-1.733333333333333, 4.1, -0.36666666666666675]\n"
     ]
    }
   ],
   "source": [
    "x = [1.0, 2.0, 7.0]\n",
    "y = [2.0, 5.0, 9.0]\n",
    "\n",
    "println(coeffs(lagrange(x, y, 3)))"
   ]
  },
  {
   "cell_type": "code",
   "execution_count": 49,
   "metadata": {},
   "outputs": [
    {
     "name": "stdout",
     "output_type": "stream",
     "text": [
      "[0.5, 0.41666666666666674, -0.08333333333333331]\n"
     ]
    }
   ],
   "source": [
    "x = [-1.0, 2.0, 3.0, 5.0]\n",
    "y = [0.0, 1.0, 1.0, 2.0]\n",
    "\n",
    "println(coeffs(lagrange(x, y, 3)))"
   ]
  },
  {
   "cell_type": "code",
   "execution_count": 50,
   "metadata": {},
   "outputs": [
    {
     "name": "stdout",
     "output_type": "stream",
     "text": [
      "[-2.0, 1.5]\n"
     ]
    }
   ],
   "source": [
    "x = [0.0, 2.0, 4.0]\n",
    "y = [-2.0, 1.0, 4.0]\n",
    "\n",
    "println(coeffs(lagrange(x, y, 2)))"
   ]
  },
  {
   "cell_type": "markdown",
   "metadata": {},
   "source": [
    "### Fazer Interpolação de Curva por Lagrange"
   ]
  },
  {
   "cell_type": "code",
   "execution_count": 51,
   "metadata": {},
   "outputs": [
    {
     "data": {
      "text/plain": [
       "interpolacao_funcao (generic function with 1 method)"
      ]
     },
     "execution_count": 51,
     "metadata": {},
     "output_type": "execute_result"
    }
   ],
   "source": [
    "\"\"\" Essa função faz a interpolação dos pontos x e y dados e retorna uma função com o grau passado.\n",
    "Vale notar que a função é apenas um encapsulamento da função que gera o lagrange.\"\"\"\n",
    "\n",
    "function interpolacao_funcao(pontos_x,pontos_y, grau)\n",
    "    polinomio =lagrange(pontos_x,pontos_y,grau)\n",
    "    return polinomio\n",
    "end"
   ]
  },
  {
   "cell_type": "code",
   "execution_count": 52,
   "metadata": {},
   "outputs": [
    {
     "data": {
      "text/html": [
       "&#45;1.733333333333333 &#43; 4.1&#8729;x &#45; 0.36666666666666675&#8729;x<sup>2</sup>"
      ],
      "text/latex": [
       "$-1.733333333333333 + 4.1\\cdot x - 0.36666666666666675\\cdot x^{2}$"
      ],
      "text/plain": [
       "Polynomial(-1.733333333333333 + 4.1*x - 0.36666666666666675*x^2)"
      ]
     },
     "execution_count": 52,
     "metadata": {},
     "output_type": "execute_result"
    }
   ],
   "source": [
    "x = [1.0, 2.0, 7.0]\n",
    "y = [2.0, 5.0, 9.0]\n",
    "\n",
    "interpolacao_funcao(x,y,3)"
   ]
  },
  {
   "cell_type": "code",
   "execution_count": 53,
   "metadata": {},
   "outputs": [
    {
     "data": {
      "text/html": [
       "0.5 &#43; 0.41666666666666674&#8729;x &#45; 0.08333333333333331&#8729;x<sup>2</sup>"
      ],
      "text/latex": [
       "$0.5 + 0.41666666666666674\\cdot x - 0.08333333333333331\\cdot x^{2}$"
      ],
      "text/plain": [
       "Polynomial(0.5 + 0.41666666666666674*x - 0.08333333333333331*x^2)"
      ]
     },
     "execution_count": 53,
     "metadata": {},
     "output_type": "execute_result"
    }
   ],
   "source": [
    "x = [-1.0, 2.0, 3.0, 5.0]\n",
    "y = [0.0, 1.0, 1.0, 2.0]\n",
    "\n",
    "interpolacao_funcao(x, y, 3)"
   ]
  },
  {
   "cell_type": "code",
   "execution_count": 54,
   "metadata": {},
   "outputs": [
    {
     "data": {
      "text/html": [
       "&#45;2.0 &#43; 1.5&#8729;x"
      ],
      "text/latex": [
       "$-2.0 + 1.5\\cdot x$"
      ],
      "text/plain": [
       "Polynomial(-2.0 + 1.5*x)"
      ]
     },
     "execution_count": 54,
     "metadata": {},
     "output_type": "execute_result"
    }
   ],
   "source": [
    "x = [0.0, 2.0, 4.0]\n",
    "y = [-2.0, 1.0, 4.0]\n",
    "\n",
    "interpolacao_funcao(x, y, 2)"
   ]
  },
  {
   "cell_type": "markdown",
   "metadata": {},
   "source": [
    "### Aplicação de um x em uma função"
   ]
  },
  {
   "cell_type": "code",
   "execution_count": 55,
   "metadata": {},
   "outputs": [
    {
     "data": {
      "text/plain": [
       "applica (generic function with 1 method)"
      ]
     },
     "execution_count": 55,
     "metadata": {},
     "output_type": "execute_result"
    }
   ],
   "source": [
    "\"\"\" Função auxiliar que transforma uma lista de coeficientes num polinômio centrado em x0 que também é dado como entrada.\n",
    "\n",
    "Ex de entrada:\n",
    "[ c, b, a ]\n",
    "Saída:\n",
    "ax^2 + bx + c\n",
    "\"\"\"\n",
    "\n",
    "function applica(coeficientes, valor_de_x) # Recebe a lista de coeficientes e o valor x0 \n",
    "    grau_x = 1                             # Começamos com x^0 no polinômio, ou seja, o termo de coeficientes constante\n",
    "    valor_do_polinomio_no_x = 0            # Polinômio começa com valor igual a 0\n",
    "    for i = 1:length(coeficientes)         \n",
    "        valor_do_polinomio_no_x += coeficientes[i] * grau_x # x0^(i-1) * C_i\n",
    "        grau_x *= valor_de_x # x0^(i-1) = x0^i\n",
    "    end\n",
    "    return valor_do_polinomio_no_x # retorna o valor do polinômio em x0\n",
    "end"
   ]
  },
  {
   "cell_type": "markdown",
   "metadata": {},
   "source": [
    "### Resolver um Sistema por Mínimos Quadrados"
   ]
  },
  {
   "cell_type": "code",
   "execution_count": 56,
   "metadata": {},
   "outputs": [
    {
     "data": {
      "text/plain": [
       "resolver_um_sistema_por_minimos_quadrados (generic function with 1 method)"
      ]
     },
     "execution_count": 56,
     "metadata": {},
     "output_type": "execute_result"
    }
   ],
   "source": [
    "# Thierry\n",
    "function resolver_um_sistema_por_minimos_quadrados(A,b) #feito\n",
    "    x=resolver_um_sistema(A'*A,A'*b)\n",
    "    return x\n",
    "end"
   ]
  },
  {
   "cell_type": "markdown",
   "metadata": {},
   "source": [
    "### Regressão Linear de Funções Lineares"
   ]
  },
  {
   "cell_type": "code",
   "execution_count": 57,
   "metadata": {},
   "outputs": [
    {
     "data": {
      "text/plain": [
       "regressão_coeficientes_lineares (generic function with 1 method)"
      ]
     },
     "execution_count": 57,
     "metadata": {},
     "output_type": "execute_result"
    }
   ],
   "source": [
    "function regressão_coeficientes_lineares(pontos_x,pontos_y, grau) #Feito\n",
    "    V=matriz_de_vandermonde(pontos_x,grau)  #matrix alta #muitas linhas e poucas colunas \n",
    "    coeficientes= resolver_um_sistema_por_minimos_quadrados(V,pontos_y)\n",
    "    return coeficientes\n",
    "end"
   ]
  },
  {
   "cell_type": "code",
   "execution_count": 58,
   "metadata": {},
   "outputs": [
    {
     "name": "stdout",
     "output_type": "stream",
     "text": [
      "[0.047619047619047616; 0.0]\n"
     ]
    },
    {
     "data": {
      "image/svg+xml": [
       "<?xml version=\"1.0\" encoding=\"utf-8\"?>\n",
       "<svg xmlns=\"http://www.w3.org/2000/svg\" xmlns:xlink=\"http://www.w3.org/1999/xlink\" width=\"600\" height=\"400\" viewBox=\"0 0 2400 1600\">\n",
       "<defs>\n",
       "  <clipPath id=\"clip020\">\n",
       "    <rect x=\"0\" y=\"0\" width=\"2400\" height=\"1600\"/>\n",
       "  </clipPath>\n",
       "</defs>\n",
       "<path clip-path=\"url(#clip020)\" d=\"\n",
       "M0 1600 L2400 1600 L2400 0 L0 0  Z\n",
       "  \" fill=\"#ffffff\" fill-rule=\"evenodd\" fill-opacity=\"1\"/>\n",
       "<defs>\n",
       "  <clipPath id=\"clip021\">\n",
       "    <rect x=\"480\" y=\"0\" width=\"1681\" height=\"1600\"/>\n",
       "  </clipPath>\n",
       "</defs>\n",
       "<path clip-path=\"url(#clip020)\" d=\"\n",
       "M186.274 1486.45 L2352.76 1486.45 L2352.76 123.472 L186.274 123.472  Z\n",
       "  \" fill=\"#ffffff\" fill-rule=\"evenodd\" fill-opacity=\"1\"/>\n",
       "<defs>\n",
       "  <clipPath id=\"clip022\">\n",
       "    <rect x=\"186\" y=\"123\" width=\"2167\" height=\"1364\"/>\n",
       "  </clipPath>\n",
       "</defs>\n",
       "<polyline clip-path=\"url(#clip022)\" style=\"stroke:#000000; stroke-width:2; stroke-opacity:0.1; fill:none\" points=\"\n",
       "  247.59,1486.45 247.59,123.472 \n",
       "  \"/>\n",
       "<polyline clip-path=\"url(#clip022)\" style=\"stroke:#000000; stroke-width:2; stroke-opacity:0.1; fill:none\" points=\"\n",
       "  758.552,1486.45 758.552,123.472 \n",
       "  \"/>\n",
       "<polyline clip-path=\"url(#clip022)\" style=\"stroke:#000000; stroke-width:2; stroke-opacity:0.1; fill:none\" points=\"\n",
       "  1269.51,1486.45 1269.51,123.472 \n",
       "  \"/>\n",
       "<polyline clip-path=\"url(#clip022)\" style=\"stroke:#000000; stroke-width:2; stroke-opacity:0.1; fill:none\" points=\"\n",
       "  1780.48,1486.45 1780.48,123.472 \n",
       "  \"/>\n",
       "<polyline clip-path=\"url(#clip022)\" style=\"stroke:#000000; stroke-width:2; stroke-opacity:0.1; fill:none\" points=\"\n",
       "  2291.44,1486.45 2291.44,123.472 \n",
       "  \"/>\n",
       "<polyline clip-path=\"url(#clip020)\" style=\"stroke:#000000; stroke-width:4; stroke-opacity:1; fill:none\" points=\"\n",
       "  186.274,1486.45 2352.76,1486.45 \n",
       "  \"/>\n",
       "<polyline clip-path=\"url(#clip020)\" style=\"stroke:#000000; stroke-width:4; stroke-opacity:1; fill:none\" points=\"\n",
       "  247.59,1486.45 247.59,1470.09 \n",
       "  \"/>\n",
       "<polyline clip-path=\"url(#clip020)\" style=\"stroke:#000000; stroke-width:4; stroke-opacity:1; fill:none\" points=\"\n",
       "  758.552,1486.45 758.552,1470.09 \n",
       "  \"/>\n",
       "<polyline clip-path=\"url(#clip020)\" style=\"stroke:#000000; stroke-width:4; stroke-opacity:1; fill:none\" points=\"\n",
       "  1269.51,1486.45 1269.51,1470.09 \n",
       "  \"/>\n",
       "<polyline clip-path=\"url(#clip020)\" style=\"stroke:#000000; stroke-width:4; stroke-opacity:1; fill:none\" points=\"\n",
       "  1780.48,1486.45 1780.48,1470.09 \n",
       "  \"/>\n",
       "<polyline clip-path=\"url(#clip020)\" style=\"stroke:#000000; stroke-width:4; stroke-opacity:1; fill:none\" points=\"\n",
       "  2291.44,1486.45 2291.44,1470.09 \n",
       "  \"/>\n",
       "<path clip-path=\"url(#clip020)\" d=\"M 0 0 M201.652 1530.29 L231.328 1530.29 L231.328 1534.23 L201.652 1534.23 L201.652 1530.29 Z\" fill=\"#000000\" fill-rule=\"evenodd\" fill-opacity=\"1\" /><path clip-path=\"url(#clip020)\" d=\"M 0 0 M242.231 1543.18 L249.87 1543.18 L249.87 1516.82 L241.559 1518.49 L241.559 1514.23 L249.823 1512.56 L254.499 1512.56 L254.499 1543.18 L262.138 1543.18 L262.138 1547.12 L242.231 1547.12 L242.231 1543.18 Z\" fill=\"#000000\" fill-rule=\"evenodd\" fill-opacity=\"1\" /><path clip-path=\"url(#clip020)\" d=\"M 0 0 M281.582 1515.64 Q277.971 1515.64 276.143 1519.2 Q274.337 1522.75 274.337 1529.87 Q274.337 1536.98 276.143 1540.55 Q277.971 1544.09 281.582 1544.09 Q285.217 1544.09 287.022 1540.55 Q288.851 1536.98 288.851 1529.87 Q288.851 1522.75 287.022 1519.2 Q285.217 1515.64 281.582 1515.64 M281.582 1511.93 Q287.393 1511.93 290.448 1516.54 Q293.527 1521.12 293.527 1529.87 Q293.527 1538.6 290.448 1543.21 Q287.393 1547.79 281.582 1547.79 Q275.772 1547.79 272.694 1543.21 Q269.638 1538.6 269.638 1529.87 Q269.638 1521.12 272.694 1516.54 Q275.772 1511.93 281.582 1511.93 Z\" fill=\"#000000\" fill-rule=\"evenodd\" fill-opacity=\"1\" /><path clip-path=\"url(#clip020)\" d=\"M 0 0 M728.194 1530.29 L757.869 1530.29 L757.869 1534.23 L728.194 1534.23 L728.194 1530.29 Z\" fill=\"#000000\" fill-rule=\"evenodd\" fill-opacity=\"1\" /><path clip-path=\"url(#clip020)\" d=\"M 0 0 M768.008 1512.56 L786.365 1512.56 L786.365 1516.5 L772.291 1516.5 L772.291 1524.97 Q773.309 1524.62 774.328 1524.46 Q775.346 1524.27 776.365 1524.27 Q782.152 1524.27 785.531 1527.44 Q788.911 1530.62 788.911 1536.03 Q788.911 1541.61 785.439 1544.71 Q781.966 1547.79 775.647 1547.79 Q773.471 1547.79 771.203 1547.42 Q768.957 1547.05 766.55 1546.31 L766.55 1541.61 Q768.633 1542.74 770.855 1543.3 Q773.078 1543.86 775.554 1543.86 Q779.559 1543.86 781.897 1541.75 Q784.235 1539.64 784.235 1536.03 Q784.235 1532.42 781.897 1530.31 Q779.559 1528.21 775.554 1528.21 Q773.679 1528.21 771.804 1528.62 Q769.953 1529.04 768.008 1529.92 L768.008 1512.56 Z\" fill=\"#000000\" fill-rule=\"evenodd\" fill-opacity=\"1\" /><path clip-path=\"url(#clip020)\" d=\"M 0 0 M1269.51 1515.64 Q1265.9 1515.64 1264.08 1519.2 Q1262.27 1522.75 1262.27 1529.87 Q1262.27 1536.98 1264.08 1540.55 Q1265.9 1544.09 1269.51 1544.09 Q1273.15 1544.09 1274.95 1540.55 Q1276.78 1536.98 1276.78 1529.87 Q1276.78 1522.75 1274.95 1519.2 Q1273.15 1515.64 1269.51 1515.64 M1269.51 1511.93 Q1275.33 1511.93 1278.38 1516.54 Q1281.46 1521.12 1281.46 1529.87 Q1281.46 1538.6 1278.38 1543.21 Q1275.33 1547.79 1269.51 1547.79 Q1263.7 1547.79 1260.63 1543.21 Q1257.57 1538.6 1257.57 1529.87 Q1257.57 1521.12 1260.63 1516.54 Q1263.7 1511.93 1269.51 1511.93 Z\" fill=\"#000000\" fill-rule=\"evenodd\" fill-opacity=\"1\" /><path clip-path=\"url(#clip020)\" d=\"M 0 0 M1770.76 1512.56 L1789.11 1512.56 L1789.11 1516.5 L1775.04 1516.5 L1775.04 1524.97 Q1776.06 1524.62 1777.07 1524.46 Q1778.09 1524.27 1779.11 1524.27 Q1784.9 1524.27 1788.28 1527.44 Q1791.66 1530.62 1791.66 1536.03 Q1791.66 1541.61 1788.19 1544.71 Q1784.71 1547.79 1778.39 1547.79 Q1776.22 1547.79 1773.95 1547.42 Q1771.7 1547.05 1769.3 1546.31 L1769.3 1541.61 Q1771.38 1542.74 1773.6 1543.3 Q1775.82 1543.86 1778.3 1543.86 Q1782.31 1543.86 1784.64 1541.75 Q1786.98 1539.64 1786.98 1536.03 Q1786.98 1532.42 1784.64 1530.31 Q1782.31 1528.21 1778.3 1528.21 Q1776.43 1528.21 1774.55 1528.62 Q1772.7 1529.04 1770.76 1529.92 L1770.76 1512.56 Z\" fill=\"#000000\" fill-rule=\"evenodd\" fill-opacity=\"1\" /><path clip-path=\"url(#clip020)\" d=\"M 0 0 M2266.13 1543.18 L2273.77 1543.18 L2273.77 1516.82 L2265.46 1518.49 L2265.46 1514.23 L2273.72 1512.56 L2278.4 1512.56 L2278.4 1543.18 L2286.04 1543.18 L2286.04 1547.12 L2266.13 1547.12 L2266.13 1543.18 Z\" fill=\"#000000\" fill-rule=\"evenodd\" fill-opacity=\"1\" /><path clip-path=\"url(#clip020)\" d=\"M 0 0 M2305.48 1515.64 Q2301.87 1515.64 2300.04 1519.2 Q2298.23 1522.75 2298.23 1529.87 Q2298.23 1536.98 2300.04 1540.55 Q2301.87 1544.09 2305.48 1544.09 Q2309.11 1544.09 2310.92 1540.55 Q2312.75 1536.98 2312.75 1529.87 Q2312.75 1522.75 2310.92 1519.2 Q2309.11 1515.64 2305.48 1515.64 M2305.48 1511.93 Q2311.29 1511.93 2314.35 1516.54 Q2317.42 1521.12 2317.42 1529.87 Q2317.42 1538.6 2314.35 1543.21 Q2311.29 1547.79 2305.48 1547.79 Q2299.67 1547.79 2296.59 1543.21 Q2293.54 1538.6 2293.54 1529.87 Q2293.54 1521.12 2296.59 1516.54 Q2299.67 1511.93 2305.48 1511.93 Z\" fill=\"#000000\" fill-rule=\"evenodd\" fill-opacity=\"1\" /><polyline clip-path=\"url(#clip022)\" style=\"stroke:#000000; stroke-width:2; stroke-opacity:0.1; fill:none\" points=\"\n",
       "  186.274,1447.87 2352.76,1447.87 \n",
       "  \"/>\n",
       "<polyline clip-path=\"url(#clip022)\" style=\"stroke:#000000; stroke-width:2; stroke-opacity:0.1; fill:none\" points=\"\n",
       "  186.274,1126.42 2352.76,1126.42 \n",
       "  \"/>\n",
       "<polyline clip-path=\"url(#clip022)\" style=\"stroke:#000000; stroke-width:2; stroke-opacity:0.1; fill:none\" points=\"\n",
       "  186.274,804.96 2352.76,804.96 \n",
       "  \"/>\n",
       "<polyline clip-path=\"url(#clip022)\" style=\"stroke:#000000; stroke-width:2; stroke-opacity:0.1; fill:none\" points=\"\n",
       "  186.274,483.503 2352.76,483.503 \n",
       "  \"/>\n",
       "<polyline clip-path=\"url(#clip022)\" style=\"stroke:#000000; stroke-width:2; stroke-opacity:0.1; fill:none\" points=\"\n",
       "  186.274,162.047 2352.76,162.047 \n",
       "  \"/>\n",
       "<polyline clip-path=\"url(#clip020)\" style=\"stroke:#000000; stroke-width:4; stroke-opacity:1; fill:none\" points=\"\n",
       "  186.274,1486.45 186.274,123.472 \n",
       "  \"/>\n",
       "<polyline clip-path=\"url(#clip020)\" style=\"stroke:#000000; stroke-width:4; stroke-opacity:1; fill:none\" points=\"\n",
       "  186.274,1447.87 212.272,1447.87 \n",
       "  \"/>\n",
       "<polyline clip-path=\"url(#clip020)\" style=\"stroke:#000000; stroke-width:4; stroke-opacity:1; fill:none\" points=\"\n",
       "  186.274,1126.42 212.272,1126.42 \n",
       "  \"/>\n",
       "<polyline clip-path=\"url(#clip020)\" style=\"stroke:#000000; stroke-width:4; stroke-opacity:1; fill:none\" points=\"\n",
       "  186.274,804.96 212.272,804.96 \n",
       "  \"/>\n",
       "<polyline clip-path=\"url(#clip020)\" style=\"stroke:#000000; stroke-width:4; stroke-opacity:1; fill:none\" points=\"\n",
       "  186.274,483.503 212.272,483.503 \n",
       "  \"/>\n",
       "<polyline clip-path=\"url(#clip020)\" style=\"stroke:#000000; stroke-width:4; stroke-opacity:1; fill:none\" points=\"\n",
       "  186.274,162.047 212.272,162.047 \n",
       "  \"/>\n",
       "<path clip-path=\"url(#clip020)\" d=\"M 0 0 M62.9365 1433.67 Q59.3254 1433.67 57.4967 1437.24 Q55.6912 1440.78 55.6912 1447.91 Q55.6912 1455.01 57.4967 1458.58 Q59.3254 1462.12 62.9365 1462.12 Q66.5707 1462.12 68.3763 1458.58 Q70.205 1455.01 70.205 1447.91 Q70.205 1440.78 68.3763 1437.24 Q66.5707 1433.67 62.9365 1433.67 M62.9365 1429.97 Q68.7467 1429.97 71.8022 1434.57 Q74.8809 1439.16 74.8809 1447.91 Q74.8809 1456.63 71.8022 1461.24 Q68.7467 1465.82 62.9365 1465.82 Q57.1264 1465.82 54.0477 1461.24 Q50.9921 1456.63 50.9921 1447.91 Q50.9921 1439.16 54.0477 1434.57 Q57.1264 1429.97 62.9365 1429.97 Z\" fill=\"#000000\" fill-rule=\"evenodd\" fill-opacity=\"1\" /><path clip-path=\"url(#clip020)\" d=\"M 0 0 M83.0984 1459.27 L87.9827 1459.27 L87.9827 1465.15 L83.0984 1465.15 L83.0984 1459.27 Z\" fill=\"#000000\" fill-rule=\"evenodd\" fill-opacity=\"1\" /><path clip-path=\"url(#clip020)\" d=\"M 0 0 M108.168 1433.67 Q104.557 1433.67 102.728 1437.24 Q100.922 1440.78 100.922 1447.91 Q100.922 1455.01 102.728 1458.58 Q104.557 1462.12 108.168 1462.12 Q111.802 1462.12 113.608 1458.58 Q115.436 1455.01 115.436 1447.91 Q115.436 1440.78 113.608 1437.24 Q111.802 1433.67 108.168 1433.67 M108.168 1429.97 Q113.978 1429.97 117.033 1434.57 Q120.112 1439.16 120.112 1447.91 Q120.112 1456.63 117.033 1461.24 Q113.978 1465.82 108.168 1465.82 Q102.358 1465.82 99.2789 1461.24 Q96.2234 1456.63 96.2234 1447.91 Q96.2234 1439.16 99.2789 1434.57 Q102.358 1429.97 108.168 1429.97 Z\" fill=\"#000000\" fill-rule=\"evenodd\" fill-opacity=\"1\" /><path clip-path=\"url(#clip020)\" d=\"M 0 0 M138.33 1433.67 Q134.719 1433.67 132.89 1437.24 Q131.084 1440.78 131.084 1447.91 Q131.084 1455.01 132.89 1458.58 Q134.719 1462.12 138.33 1462.12 Q141.964 1462.12 143.769 1458.58 Q145.598 1455.01 145.598 1447.91 Q145.598 1440.78 143.769 1437.24 Q141.964 1433.67 138.33 1433.67 M138.33 1429.97 Q144.14 1429.97 147.195 1434.57 Q150.274 1439.16 150.274 1447.91 Q150.274 1456.63 147.195 1461.24 Q144.14 1465.82 138.33 1465.82 Q132.519 1465.82 129.441 1461.24 Q126.385 1456.63 126.385 1447.91 Q126.385 1439.16 129.441 1434.57 Q132.519 1429.97 138.33 1429.97 Z\" fill=\"#000000\" fill-rule=\"evenodd\" fill-opacity=\"1\" /><path clip-path=\"url(#clip020)\" d=\"M 0 0 M63.9319 1112.22 Q60.3208 1112.22 58.4921 1115.78 Q56.6865 1119.32 56.6865 1126.45 Q56.6865 1133.56 58.4921 1137.12 Q60.3208 1140.66 63.9319 1140.66 Q67.5661 1140.66 69.3717 1137.12 Q71.2004 1133.56 71.2004 1126.45 Q71.2004 1119.32 69.3717 1115.78 Q67.5661 1112.22 63.9319 1112.22 M63.9319 1108.51 Q69.742 1108.51 72.7976 1113.12 Q75.8763 1117.7 75.8763 1126.45 Q75.8763 1135.18 72.7976 1139.78 Q69.742 1144.37 63.9319 1144.37 Q58.1217 1144.37 55.043 1139.78 Q51.9875 1135.18 51.9875 1126.45 Q51.9875 1117.7 55.043 1113.12 Q58.1217 1108.51 63.9319 1108.51 Z\" fill=\"#000000\" fill-rule=\"evenodd\" fill-opacity=\"1\" /><path clip-path=\"url(#clip020)\" d=\"M 0 0 M84.0938 1137.82 L88.978 1137.82 L88.978 1143.7 L84.0938 1143.7 L84.0938 1137.82 Z\" fill=\"#000000\" fill-rule=\"evenodd\" fill-opacity=\"1\" /><path clip-path=\"url(#clip020)\" d=\"M 0 0 M103.191 1139.76 L119.51 1139.76 L119.51 1143.7 L97.566 1143.7 L97.566 1139.76 Q100.228 1137.01 104.811 1132.38 Q109.418 1127.72 110.598 1126.38 Q112.844 1123.86 113.723 1122.12 Q114.626 1120.36 114.626 1118.67 Q114.626 1115.92 112.682 1114.18 Q110.76 1112.45 107.658 1112.45 Q105.459 1112.45 103.006 1113.21 Q100.575 1113.97 97.7974 1115.53 L97.7974 1110.8 Q100.621 1109.67 103.075 1109.09 Q105.529 1108.51 107.566 1108.51 Q112.936 1108.51 116.131 1111.2 Q119.325 1113.88 119.325 1118.37 Q119.325 1120.5 118.515 1122.42 Q117.728 1124.32 115.621 1126.91 Q115.043 1127.59 111.941 1130.8 Q108.839 1134 103.191 1139.76 Z\" fill=\"#000000\" fill-rule=\"evenodd\" fill-opacity=\"1\" /><path clip-path=\"url(#clip020)\" d=\"M 0 0 M129.371 1109.14 L147.728 1109.14 L147.728 1113.07 L133.654 1113.07 L133.654 1121.54 Q134.672 1121.2 135.691 1121.03 Q136.709 1120.85 137.728 1120.85 Q143.515 1120.85 146.894 1124.02 Q150.274 1127.19 150.274 1132.61 Q150.274 1138.19 146.802 1141.29 Q143.33 1144.37 137.01 1144.37 Q134.834 1144.37 132.566 1144 Q130.32 1143.63 127.913 1142.89 L127.913 1138.19 Q129.996 1139.32 132.219 1139.88 Q134.441 1140.43 136.918 1140.43 Q140.922 1140.43 143.26 1138.33 Q145.598 1136.22 145.598 1132.61 Q145.598 1129 143.26 1126.89 Q140.922 1124.78 136.918 1124.78 Q135.043 1124.78 133.168 1125.2 Q131.316 1125.62 129.371 1126.5 L129.371 1109.14 Z\" fill=\"#000000\" fill-rule=\"evenodd\" fill-opacity=\"1\" /><path clip-path=\"url(#clip020)\" d=\"M 0 0 M62.9365 790.759 Q59.3254 790.759 57.4967 794.323 Q55.6912 797.865 55.6912 804.995 Q55.6912 812.101 57.4967 815.666 Q59.3254 819.208 62.9365 819.208 Q66.5707 819.208 68.3763 815.666 Q70.205 812.101 70.205 804.995 Q70.205 797.865 68.3763 794.323 Q66.5707 790.759 62.9365 790.759 M62.9365 787.055 Q68.7467 787.055 71.8022 791.661 Q74.8809 796.245 74.8809 804.995 Q74.8809 813.722 71.8022 818.328 Q68.7467 822.911 62.9365 822.911 Q57.1264 822.911 54.0477 818.328 Q50.9921 813.722 50.9921 804.995 Q50.9921 796.245 54.0477 791.661 Q57.1264 787.055 62.9365 787.055 Z\" fill=\"#000000\" fill-rule=\"evenodd\" fill-opacity=\"1\" /><path clip-path=\"url(#clip020)\" d=\"M 0 0 M83.0984 816.36 L87.9827 816.36 L87.9827 822.24 L83.0984 822.24 L83.0984 816.36 Z\" fill=\"#000000\" fill-rule=\"evenodd\" fill-opacity=\"1\" /><path clip-path=\"url(#clip020)\" d=\"M 0 0 M98.2141 787.68 L116.57 787.68 L116.57 791.615 L102.496 791.615 L102.496 800.087 Q103.515 799.74 104.534 799.578 Q105.552 799.393 106.571 799.393 Q112.358 799.393 115.737 802.564 Q119.117 805.735 119.117 811.152 Q119.117 816.731 115.645 819.833 Q112.172 822.911 105.853 822.911 Q103.677 822.911 101.409 822.541 Q99.1632 822.171 96.7558 821.43 L96.7558 816.731 Q98.8391 817.865 101.061 818.421 Q103.284 818.976 105.76 818.976 Q109.765 818.976 112.103 816.87 Q114.441 814.763 114.441 811.152 Q114.441 807.541 112.103 805.435 Q109.765 803.328 105.76 803.328 Q103.885 803.328 102.01 803.745 Q100.159 804.161 98.2141 805.041 L98.2141 787.68 Z\" fill=\"#000000\" fill-rule=\"evenodd\" fill-opacity=\"1\" /><path clip-path=\"url(#clip020)\" d=\"M 0 0 M138.33 790.759 Q134.719 790.759 132.89 794.323 Q131.084 797.865 131.084 804.995 Q131.084 812.101 132.89 815.666 Q134.719 819.208 138.33 819.208 Q141.964 819.208 143.769 815.666 Q145.598 812.101 145.598 804.995 Q145.598 797.865 143.769 794.323 Q141.964 790.759 138.33 790.759 M138.33 787.055 Q144.14 787.055 147.195 791.661 Q150.274 796.245 150.274 804.995 Q150.274 813.722 147.195 818.328 Q144.14 822.911 138.33 822.911 Q132.519 822.911 129.441 818.328 Q126.385 813.722 126.385 804.995 Q126.385 796.245 129.441 791.661 Q132.519 787.055 138.33 787.055 Z\" fill=\"#000000\" fill-rule=\"evenodd\" fill-opacity=\"1\" /><path clip-path=\"url(#clip020)\" d=\"M 0 0 M63.9319 469.302 Q60.3208 469.302 58.4921 472.867 Q56.6865 476.409 56.6865 483.538 Q56.6865 490.645 58.4921 494.209 Q60.3208 497.751 63.9319 497.751 Q67.5661 497.751 69.3717 494.209 Q71.2004 490.645 71.2004 483.538 Q71.2004 476.409 69.3717 472.867 Q67.5661 469.302 63.9319 469.302 M63.9319 465.598 Q69.742 465.598 72.7976 470.205 Q75.8763 474.788 75.8763 483.538 Q75.8763 492.265 72.7976 496.871 Q69.742 501.455 63.9319 501.455 Q58.1217 501.455 55.043 496.871 Q51.9875 492.265 51.9875 483.538 Q51.9875 474.788 55.043 470.205 Q58.1217 465.598 63.9319 465.598 Z\" fill=\"#000000\" fill-rule=\"evenodd\" fill-opacity=\"1\" /><path clip-path=\"url(#clip020)\" d=\"M 0 0 M84.0938 494.904 L88.978 494.904 L88.978 500.783 L84.0938 500.783 L84.0938 494.904 Z\" fill=\"#000000\" fill-rule=\"evenodd\" fill-opacity=\"1\" /><path clip-path=\"url(#clip020)\" d=\"M 0 0 M97.9826 466.223 L120.205 466.223 L120.205 468.214 L107.658 500.783 L102.774 500.783 L114.58 470.159 L97.9826 470.159 L97.9826 466.223 Z\" fill=\"#000000\" fill-rule=\"evenodd\" fill-opacity=\"1\" /><path clip-path=\"url(#clip020)\" d=\"M 0 0 M129.371 466.223 L147.728 466.223 L147.728 470.159 L133.654 470.159 L133.654 478.631 Q134.672 478.284 135.691 478.122 Q136.709 477.936 137.728 477.936 Q143.515 477.936 146.894 481.108 Q150.274 484.279 150.274 489.696 Q150.274 495.274 146.802 498.376 Q143.33 501.455 137.01 501.455 Q134.834 501.455 132.566 501.084 Q130.32 500.714 127.913 499.973 L127.913 495.274 Q129.996 496.408 132.219 496.964 Q134.441 497.52 136.918 497.52 Q140.922 497.52 143.26 495.413 Q145.598 493.307 145.598 489.696 Q145.598 486.084 143.26 483.978 Q140.922 481.872 136.918 481.872 Q135.043 481.872 133.168 482.288 Q131.316 482.705 129.371 483.584 L129.371 466.223 Z\" fill=\"#000000\" fill-rule=\"evenodd\" fill-opacity=\"1\" /><path clip-path=\"url(#clip020)\" d=\"M 0 0 M53.7467 175.392 L61.3856 175.392 L61.3856 149.026 L53.0754 150.693 L53.0754 146.434 L61.3393 144.767 L66.0152 144.767 L66.0152 175.392 L73.654 175.392 L73.654 179.327 L53.7467 179.327 L53.7467 175.392 Z\" fill=\"#000000\" fill-rule=\"evenodd\" fill-opacity=\"1\" /><path clip-path=\"url(#clip020)\" d=\"M 0 0 M83.0984 173.447 L87.9827 173.447 L87.9827 179.327 L83.0984 179.327 L83.0984 173.447 Z\" fill=\"#000000\" fill-rule=\"evenodd\" fill-opacity=\"1\" /><path clip-path=\"url(#clip020)\" d=\"M 0 0 M108.168 147.846 Q104.557 147.846 102.728 151.41 Q100.922 154.952 100.922 162.082 Q100.922 169.188 102.728 172.753 Q104.557 176.295 108.168 176.295 Q111.802 176.295 113.608 172.753 Q115.436 169.188 115.436 162.082 Q115.436 154.952 113.608 151.41 Q111.802 147.846 108.168 147.846 M108.168 144.142 Q113.978 144.142 117.033 148.748 Q120.112 153.332 120.112 162.082 Q120.112 170.808 117.033 175.415 Q113.978 179.998 108.168 179.998 Q102.358 179.998 99.2789 175.415 Q96.2234 170.808 96.2234 162.082 Q96.2234 153.332 99.2789 148.748 Q102.358 144.142 108.168 144.142 Z\" fill=\"#000000\" fill-rule=\"evenodd\" fill-opacity=\"1\" /><path clip-path=\"url(#clip020)\" d=\"M 0 0 M138.33 147.846 Q134.719 147.846 132.89 151.41 Q131.084 154.952 131.084 162.082 Q131.084 169.188 132.89 172.753 Q134.719 176.295 138.33 176.295 Q141.964 176.295 143.769 172.753 Q145.598 169.188 145.598 162.082 Q145.598 154.952 143.769 151.41 Q141.964 147.846 138.33 147.846 M138.33 144.142 Q144.14 144.142 147.195 148.748 Q150.274 153.332 150.274 162.082 Q150.274 170.808 147.195 175.415 Q144.14 179.998 138.33 179.998 Q132.519 179.998 129.441 175.415 Q126.385 170.808 126.385 162.082 Q126.385 153.332 129.441 148.748 Q132.519 144.142 138.33 144.142 Z\" fill=\"#000000\" fill-rule=\"evenodd\" fill-opacity=\"1\" /><path clip-path=\"url(#clip020)\" d=\"M 0 0 M863.412 12.096 L875.605 12.096 L891.039 53.2532 L906.554 12.096 L918.747 12.096 L918.747 72.576 L910.767 72.576 L910.767 19.4686 L895.171 60.9499 L886.948 60.9499 L871.352 19.4686 L871.352 72.576 L863.412 72.576 L863.412 12.096 Z\" fill=\"#000000\" fill-rule=\"evenodd\" fill-opacity=\"1\" /><path clip-path=\"url(#clip020)\" d=\"M 0 0 M944.025 6.22219 L952.086 6.22219 L938.88 21.4536 L932.682 21.4536 L944.025 6.22219 M934.667 27.2059 L942.121 27.2059 L942.121 72.576 L934.667 72.576 L934.667 27.2059 M938.394 26.1121 L938.394 26.1121 Z\" fill=\"#000000\" fill-rule=\"evenodd\" fill-opacity=\"1\" /><path clip-path=\"url(#clip020)\" d=\"M 0 0 M995.431 45.1919 L995.431 72.576 L987.977 72.576 L987.977 45.4349 Q987.977 38.994 985.466 35.7938 Q982.954 32.5936 977.931 32.5936 Q971.895 32.5936 968.411 36.4419 Q964.927 40.2903 964.927 46.9338 L964.927 72.576 L957.433 72.576 L957.433 27.2059 L964.927 27.2059 L964.927 34.2544 Q967.601 30.163 971.206 28.1376 Q974.852 26.1121 979.592 26.1121 Q987.41 26.1121 991.42 30.9732 Q995.431 35.7938 995.431 45.1919 Z\" fill=\"#000000\" fill-rule=\"evenodd\" fill-opacity=\"1\" /><path clip-path=\"url(#clip020)\" d=\"M 0 0 M1010.3 27.2059 L1017.75 27.2059 L1017.75 72.576 L1010.3 72.576 L1010.3 27.2059 M1010.3 9.54393 L1017.75 9.54393 L1017.75 18.9825 L1010.3 18.9825 L1010.3 9.54393 Z\" fill=\"#000000\" fill-rule=\"evenodd\" fill-opacity=\"1\" /><path clip-path=\"url(#clip020)\" d=\"M 0 0 M1068.67 35.9153 Q1071.47 30.8922 1075.36 28.5022 Q1079.24 26.1121 1084.51 26.1121 Q1091.6 26.1121 1095.45 31.0947 Q1099.3 36.0368 1099.3 45.1919 L1099.3 72.576 L1091.8 72.576 L1091.8 45.4349 Q1091.8 38.913 1089.49 35.7533 Q1087.18 32.5936 1082.44 32.5936 Q1076.65 32.5936 1073.29 36.4419 Q1069.93 40.2903 1069.93 46.9338 L1069.93 72.576 L1062.43 72.576 L1062.43 45.4349 Q1062.43 38.8725 1060.12 35.7533 Q1057.81 32.5936 1052.99 32.5936 Q1047.28 32.5936 1043.92 36.4824 Q1040.56 40.3308 1040.56 46.9338 L1040.56 72.576 L1033.06 72.576 L1033.06 27.2059 L1040.56 27.2059 L1040.56 34.2544 Q1043.11 30.082 1046.67 28.0971 Q1050.24 26.1121 1055.14 26.1121 Q1060.08 26.1121 1063.53 28.6237 Q1067.01 31.1352 1068.67 35.9153 Z\" fill=\"#000000\" fill-rule=\"evenodd\" fill-opacity=\"1\" /><path clip-path=\"url(#clip020)\" d=\"M 0 0 M1131.74 32.4315 Q1125.75 32.4315 1122.26 37.1306 Q1118.78 41.7891 1118.78 49.9314 Q1118.78 58.0738 1122.22 62.7728 Q1125.71 67.4314 1131.74 67.4314 Q1137.7 67.4314 1141.18 62.7323 Q1144.67 58.0333 1144.67 49.9314 Q1144.67 41.8701 1141.18 37.1711 Q1137.7 32.4315 1131.74 32.4315 M1131.74 26.1121 Q1141.47 26.1121 1147.02 32.4315 Q1152.57 38.7509 1152.57 49.9314 Q1152.57 61.0714 1147.02 67.4314 Q1141.47 73.7508 1131.74 73.7508 Q1121.98 73.7508 1116.43 67.4314 Q1110.92 61.0714 1110.92 49.9314 Q1110.92 38.7509 1116.43 32.4315 Q1121.98 26.1121 1131.74 26.1121 Z\" fill=\"#000000\" fill-rule=\"evenodd\" fill-opacity=\"1\" /><path clip-path=\"url(#clip020)\" d=\"M 0 0 M1193.84 28.5427 L1193.84 35.5912 Q1190.68 33.9709 1187.28 33.1607 Q1183.88 32.3505 1180.23 32.3505 Q1174.68 32.3505 1171.89 34.0519 Q1169.13 35.7533 1169.13 39.156 Q1169.13 41.7486 1171.12 43.2475 Q1173.1 44.7058 1179.1 46.0426 L1181.65 46.6097 Q1189.59 48.3111 1192.91 51.4303 Q1196.27 54.509 1196.27 60.0587 Q1196.27 66.3781 1191.25 70.0644 Q1186.27 73.7508 1177.52 73.7508 Q1173.87 73.7508 1169.9 73.0216 Q1165.97 72.3329 1161.6 70.9151 L1161.6 63.2184 Q1165.73 65.3654 1169.74 66.4591 Q1173.75 67.5124 1177.68 67.5124 Q1182.95 67.5124 1185.78 65.73 Q1188.62 63.9071 1188.62 60.6258 Q1188.62 57.5877 1186.55 55.9673 Q1184.53 54.3469 1177.6 52.8481 L1175.01 52.2405 Q1168.08 50.7821 1165 47.7845 Q1161.92 44.7463 1161.92 39.4801 Q1161.92 33.0797 1166.46 29.5959 Q1171 26.1121 1179.34 26.1121 Q1183.47 26.1121 1187.12 26.7198 Q1190.77 27.3274 1193.84 28.5427 Z\" fill=\"#000000\" fill-rule=\"evenodd\" fill-opacity=\"1\" /><path clip-path=\"url(#clip020)\" d=\"M 0 0 M1259.39 17.6457 Q1250.48 17.6457 1245.21 24.2892 Q1239.98 30.9327 1239.98 42.3968 Q1239.98 53.8203 1245.21 60.4638 Q1250.48 67.1073 1259.39 67.1073 Q1268.3 67.1073 1273.48 60.4638 Q1278.71 53.8203 1278.71 42.3968 Q1278.71 30.9327 1273.48 24.2892 Q1268.3 17.6457 1259.39 17.6457 M1270.85 71.4823 L1281.63 83.2704 L1271.74 83.2704 L1262.79 73.5887 Q1261.45 73.6697 1260.72 73.7103 Q1260.04 73.7508 1259.39 73.7508 Q1246.63 73.7508 1238.97 65.2439 Q1231.36 56.6965 1231.36 42.3968 Q1231.36 28.0566 1238.97 19.5497 Q1246.63 11.0023 1259.39 11.0023 Q1272.11 11.0023 1279.72 19.5497 Q1287.34 28.0566 1287.34 42.3968 Q1287.34 52.9291 1283.09 60.4233 Q1278.87 67.9175 1270.85 71.4823 Z\" fill=\"#000000\" fill-rule=\"evenodd\" fill-opacity=\"1\" /><path clip-path=\"url(#clip020)\" d=\"M 0 0 M1299.05 54.671 L1299.05 27.2059 L1306.5 27.2059 L1306.5 54.3874 Q1306.5 60.8284 1309.01 64.0691 Q1311.52 67.2693 1316.55 67.2693 Q1322.58 67.2693 1326.07 63.421 Q1329.59 59.5726 1329.59 52.9291 L1329.59 27.2059 L1337.04 27.2059 L1337.04 72.576 L1329.59 72.576 L1329.59 65.6084 Q1326.88 69.7404 1323.27 71.7658 Q1319.71 73.7508 1314.97 73.7508 Q1307.15 73.7508 1303.1 68.8897 Q1299.05 64.0286 1299.05 54.671 M1317.8 26.1121 L1317.8 26.1121 Z\" fill=\"#000000\" fill-rule=\"evenodd\" fill-opacity=\"1\" /><path clip-path=\"url(#clip020)\" d=\"M 0 0 M1373.02 49.7694 Q1363.98 49.7694 1360.5 51.8354 Q1357.01 53.9013 1357.01 58.8839 Q1357.01 62.8538 1359.61 65.2034 Q1362.24 67.5124 1366.74 67.5124 Q1372.93 67.5124 1376.66 63.1374 Q1380.43 58.7219 1380.43 51.4303 L1380.43 49.7694 L1373.02 49.7694 M1387.88 46.6907 L1387.88 72.576 L1380.43 72.576 L1380.43 65.6895 Q1377.88 69.8214 1374.07 71.8063 Q1370.26 73.7508 1364.75 73.7508 Q1357.78 73.7508 1353.65 69.8619 Q1349.56 65.9325 1349.56 59.3701 Q1349.56 51.7138 1354.66 47.825 Q1359.81 43.9361 1369.98 43.9361 L1380.43 43.9361 L1380.43 43.2069 Q1380.43 38.0623 1377.03 35.2672 Q1373.66 32.4315 1367.55 32.4315 Q1363.66 32.4315 1359.97 33.3632 Q1356.29 34.295 1352.88 36.1584 L1352.88 29.2718 Q1356.97 27.692 1360.82 26.9223 Q1364.67 26.1121 1368.32 26.1121 Q1378.16 26.1121 1383.02 31.2163 Q1387.88 36.3204 1387.88 46.6907 Z\" fill=\"#000000\" fill-rule=\"evenodd\" fill-opacity=\"1\" /><path clip-path=\"url(#clip020)\" d=\"M 0 0 M1433.09 34.0924 L1433.09 9.54393 L1440.54 9.54393 L1440.54 72.576 L1433.09 72.576 L1433.09 65.7705 Q1430.74 69.8214 1427.14 71.8063 Q1423.57 73.7508 1418.55 73.7508 Q1410.32 73.7508 1405.14 67.1883 Q1399.99 60.6258 1399.99 49.9314 Q1399.99 39.2371 1405.14 32.6746 Q1410.32 26.1121 1418.55 26.1121 Q1423.57 26.1121 1427.14 28.0971 Q1430.74 30.0415 1433.09 34.0924 M1407.69 49.9314 Q1407.69 58.1548 1411.05 62.8538 Q1414.46 67.5124 1420.37 67.5124 Q1426.28 67.5124 1429.69 62.8538 Q1433.09 58.1548 1433.09 49.9314 Q1433.09 41.7081 1429.69 37.0496 Q1426.28 32.3505 1420.37 32.3505 Q1414.46 32.3505 1411.05 37.0496 Q1407.69 41.7081 1407.69 49.9314 Z\" fill=\"#000000\" fill-rule=\"evenodd\" fill-opacity=\"1\" /><path clip-path=\"url(#clip020)\" d=\"M 0 0 M1482.19 34.1734 Q1480.93 33.4443 1479.43 33.1202 Q1477.97 32.7556 1476.19 32.7556 Q1469.87 32.7556 1466.47 36.8875 Q1463.11 40.9789 1463.11 48.6757 L1463.11 72.576 L1455.61 72.576 L1455.61 27.2059 L1463.11 27.2059 L1463.11 34.2544 Q1465.46 30.1225 1469.22 28.1376 Q1472.99 26.1121 1478.38 26.1121 Q1479.15 26.1121 1480.08 26.2337 Q1481.01 26.3147 1482.15 26.5172 L1482.19 34.1734 Z\" fill=\"#000000\" fill-rule=\"evenodd\" fill-opacity=\"1\" /><path clip-path=\"url(#clip020)\" d=\"M 0 0 M1510.62 49.7694 Q1501.59 49.7694 1498.11 51.8354 Q1494.62 53.9013 1494.62 58.8839 Q1494.62 62.8538 1497.22 65.2034 Q1499.85 67.5124 1504.35 67.5124 Q1510.54 67.5124 1514.27 63.1374 Q1518.04 58.7219 1518.04 51.4303 L1518.04 49.7694 L1510.62 49.7694 M1525.49 46.6907 L1525.49 72.576 L1518.04 72.576 L1518.04 65.6895 Q1515.49 69.8214 1511.68 71.8063 Q1507.87 73.7508 1502.36 73.7508 Q1495.39 73.7508 1491.26 69.8619 Q1487.17 65.9325 1487.17 59.3701 Q1487.17 51.7138 1492.27 47.825 Q1497.42 43.9361 1507.59 43.9361 L1518.04 43.9361 L1518.04 43.2069 Q1518.04 38.0623 1514.64 35.2672 Q1511.27 32.4315 1505.16 32.4315 Q1501.27 32.4315 1497.58 33.3632 Q1493.89 34.295 1490.49 36.1584 L1490.49 29.2718 Q1494.58 27.692 1498.43 26.9223 Q1502.28 26.1121 1505.93 26.1121 Q1515.77 26.1121 1520.63 31.2163 Q1525.49 36.3204 1525.49 46.6907 Z\" fill=\"#000000\" fill-rule=\"evenodd\" fill-opacity=\"1\" /><path clip-path=\"url(#clip020)\" d=\"M 0 0 M1570.7 34.0924 L1570.7 9.54393 L1578.15 9.54393 L1578.15 72.576 L1570.7 72.576 L1570.7 65.7705 Q1568.35 69.8214 1564.74 71.8063 Q1561.18 73.7508 1556.16 73.7508 Q1547.93 73.7508 1542.75 67.1883 Q1537.6 60.6258 1537.6 49.9314 Q1537.6 39.2371 1542.75 32.6746 Q1547.93 26.1121 1556.16 26.1121 Q1561.18 26.1121 1564.74 28.0971 Q1568.35 30.0415 1570.7 34.0924 M1545.3 49.9314 Q1545.3 58.1548 1548.66 62.8538 Q1552.07 67.5124 1557.98 67.5124 Q1563.89 67.5124 1567.3 62.8538 Q1570.7 58.1548 1570.7 49.9314 Q1570.7 41.7081 1567.3 37.0496 Q1563.89 32.3505 1557.98 32.3505 Q1552.07 32.3505 1548.66 37.0496 Q1545.3 41.7081 1545.3 49.9314 Z\" fill=\"#000000\" fill-rule=\"evenodd\" fill-opacity=\"1\" /><path clip-path=\"url(#clip020)\" d=\"M 0 0 M1611.09 32.4315 Q1605.09 32.4315 1601.61 37.1306 Q1598.12 41.7891 1598.12 49.9314 Q1598.12 58.0738 1601.57 62.7728 Q1605.05 67.4314 1611.09 67.4314 Q1617.04 67.4314 1620.53 62.7323 Q1624.01 58.0333 1624.01 49.9314 Q1624.01 41.8701 1620.53 37.1711 Q1617.04 32.4315 1611.09 32.4315 M1611.09 26.1121 Q1620.81 26.1121 1626.36 32.4315 Q1631.91 38.7509 1631.91 49.9314 Q1631.91 61.0714 1626.36 67.4314 Q1620.81 73.7508 1611.09 73.7508 Q1601.32 73.7508 1595.77 67.4314 Q1590.27 61.0714 1590.27 49.9314 Q1590.27 38.7509 1595.77 32.4315 Q1601.32 26.1121 1611.09 26.1121 Z\" fill=\"#000000\" fill-rule=\"evenodd\" fill-opacity=\"1\" /><path clip-path=\"url(#clip020)\" d=\"M 0 0 M1673.19 28.5427 L1673.19 35.5912 Q1670.03 33.9709 1666.63 33.1607 Q1663.22 32.3505 1659.58 32.3505 Q1654.03 32.3505 1651.23 34.0519 Q1648.48 35.7533 1648.48 39.156 Q1648.48 41.7486 1650.46 43.2475 Q1652.45 44.7058 1658.44 46.0426 L1660.99 46.6097 Q1668.93 48.3111 1672.26 51.4303 Q1675.62 54.509 1675.62 60.0587 Q1675.62 66.3781 1670.59 70.0644 Q1665.61 73.7508 1656.86 73.7508 Q1653.22 73.7508 1649.25 73.0216 Q1645.32 72.3329 1640.94 70.9151 L1640.94 63.2184 Q1645.07 65.3654 1649.08 66.4591 Q1653.1 67.5124 1657.02 67.5124 Q1662.29 67.5124 1665.13 65.73 Q1667.96 63.9071 1667.96 60.6258 Q1667.96 57.5877 1665.9 55.9673 Q1663.87 54.3469 1656.94 52.8481 L1654.35 52.2405 Q1647.42 50.7821 1644.35 47.7845 Q1641.27 44.7463 1641.27 39.4801 Q1641.27 33.0797 1645.8 29.5959 Q1650.34 26.1121 1658.69 26.1121 Q1662.82 26.1121 1666.46 26.7198 Q1670.11 27.3274 1673.19 28.5427 Z\" fill=\"#000000\" fill-rule=\"evenodd\" fill-opacity=\"1\" /><circle clip-path=\"url(#clip022)\" cx=\"247.59\" cy=\"1447.87\" r=\"14\" fill=\"#009af9\" fill-rule=\"evenodd\" fill-opacity=\"1\" stroke=\"#000000\" stroke-opacity=\"1\" stroke-width=\"3.2\"/>\n",
       "<circle clip-path=\"url(#clip022)\" cx=\"349.782\" cy=\"1447.87\" r=\"14\" fill=\"#009af9\" fill-rule=\"evenodd\" fill-opacity=\"1\" stroke=\"#000000\" stroke-opacity=\"1\" stroke-width=\"3.2\"/>\n",
       "<circle clip-path=\"url(#clip022)\" cx=\"451.975\" cy=\"1447.87\" r=\"14\" fill=\"#009af9\" fill-rule=\"evenodd\" fill-opacity=\"1\" stroke=\"#000000\" stroke-opacity=\"1\" stroke-width=\"3.2\"/>\n",
       "<circle clip-path=\"url(#clip022)\" cx=\"554.167\" cy=\"1447.87\" r=\"14\" fill=\"#009af9\" fill-rule=\"evenodd\" fill-opacity=\"1\" stroke=\"#000000\" stroke-opacity=\"1\" stroke-width=\"3.2\"/>\n",
       "<circle clip-path=\"url(#clip022)\" cx=\"656.36\" cy=\"1447.87\" r=\"14\" fill=\"#009af9\" fill-rule=\"evenodd\" fill-opacity=\"1\" stroke=\"#000000\" stroke-opacity=\"1\" stroke-width=\"3.2\"/>\n",
       "<circle clip-path=\"url(#clip022)\" cx=\"758.552\" cy=\"1447.87\" r=\"14\" fill=\"#009af9\" fill-rule=\"evenodd\" fill-opacity=\"1\" stroke=\"#000000\" stroke-opacity=\"1\" stroke-width=\"3.2\"/>\n",
       "<circle clip-path=\"url(#clip022)\" cx=\"860.745\" cy=\"1447.87\" r=\"14\" fill=\"#009af9\" fill-rule=\"evenodd\" fill-opacity=\"1\" stroke=\"#000000\" stroke-opacity=\"1\" stroke-width=\"3.2\"/>\n",
       "<circle clip-path=\"url(#clip022)\" cx=\"962.937\" cy=\"1447.87\" r=\"14\" fill=\"#009af9\" fill-rule=\"evenodd\" fill-opacity=\"1\" stroke=\"#000000\" stroke-opacity=\"1\" stroke-width=\"3.2\"/>\n",
       "<circle clip-path=\"url(#clip022)\" cx=\"1065.13\" cy=\"1447.87\" r=\"14\" fill=\"#009af9\" fill-rule=\"evenodd\" fill-opacity=\"1\" stroke=\"#000000\" stroke-opacity=\"1\" stroke-width=\"3.2\"/>\n",
       "<circle clip-path=\"url(#clip022)\" cx=\"1167.32\" cy=\"1447.87\" r=\"14\" fill=\"#009af9\" fill-rule=\"evenodd\" fill-opacity=\"1\" stroke=\"#000000\" stroke-opacity=\"1\" stroke-width=\"3.2\"/>\n",
       "<circle clip-path=\"url(#clip022)\" cx=\"1269.51\" cy=\"162.047\" r=\"14\" fill=\"#009af9\" fill-rule=\"evenodd\" fill-opacity=\"1\" stroke=\"#000000\" stroke-opacity=\"1\" stroke-width=\"3.2\"/>\n",
       "<circle clip-path=\"url(#clip022)\" cx=\"1371.71\" cy=\"1447.87\" r=\"14\" fill=\"#009af9\" fill-rule=\"evenodd\" fill-opacity=\"1\" stroke=\"#000000\" stroke-opacity=\"1\" stroke-width=\"3.2\"/>\n",
       "<circle clip-path=\"url(#clip022)\" cx=\"1473.9\" cy=\"1447.87\" r=\"14\" fill=\"#009af9\" fill-rule=\"evenodd\" fill-opacity=\"1\" stroke=\"#000000\" stroke-opacity=\"1\" stroke-width=\"3.2\"/>\n",
       "<circle clip-path=\"url(#clip022)\" cx=\"1576.09\" cy=\"1447.87\" r=\"14\" fill=\"#009af9\" fill-rule=\"evenodd\" fill-opacity=\"1\" stroke=\"#000000\" stroke-opacity=\"1\" stroke-width=\"3.2\"/>\n",
       "<circle clip-path=\"url(#clip022)\" cx=\"1678.29\" cy=\"1447.87\" r=\"14\" fill=\"#009af9\" fill-rule=\"evenodd\" fill-opacity=\"1\" stroke=\"#000000\" stroke-opacity=\"1\" stroke-width=\"3.2\"/>\n",
       "<circle clip-path=\"url(#clip022)\" cx=\"1780.48\" cy=\"1447.87\" r=\"14\" fill=\"#009af9\" fill-rule=\"evenodd\" fill-opacity=\"1\" stroke=\"#000000\" stroke-opacity=\"1\" stroke-width=\"3.2\"/>\n",
       "<circle clip-path=\"url(#clip022)\" cx=\"1882.67\" cy=\"1447.87\" r=\"14\" fill=\"#009af9\" fill-rule=\"evenodd\" fill-opacity=\"1\" stroke=\"#000000\" stroke-opacity=\"1\" stroke-width=\"3.2\"/>\n",
       "<circle clip-path=\"url(#clip022)\" cx=\"1984.86\" cy=\"1447.87\" r=\"14\" fill=\"#009af9\" fill-rule=\"evenodd\" fill-opacity=\"1\" stroke=\"#000000\" stroke-opacity=\"1\" stroke-width=\"3.2\"/>\n",
       "<circle clip-path=\"url(#clip022)\" cx=\"2087.06\" cy=\"1447.87\" r=\"14\" fill=\"#009af9\" fill-rule=\"evenodd\" fill-opacity=\"1\" stroke=\"#000000\" stroke-opacity=\"1\" stroke-width=\"3.2\"/>\n",
       "<circle clip-path=\"url(#clip022)\" cx=\"2189.25\" cy=\"1447.87\" r=\"14\" fill=\"#009af9\" fill-rule=\"evenodd\" fill-opacity=\"1\" stroke=\"#000000\" stroke-opacity=\"1\" stroke-width=\"3.2\"/>\n",
       "<circle clip-path=\"url(#clip022)\" cx=\"2291.44\" cy=\"1447.87\" r=\"14\" fill=\"#009af9\" fill-rule=\"evenodd\" fill-opacity=\"1\" stroke=\"#000000\" stroke-opacity=\"1\" stroke-width=\"3.2\"/>\n",
       "<polyline clip-path=\"url(#clip022)\" style=\"stroke:#ff0000; stroke-width:8; stroke-opacity:1; fill:none\" points=\"\n",
       "  247.59,1386.64 267.549,1386.64 452.107,1386.64 563.019,1386.64 656.793,1386.64 758.658,1386.64 852.569,1386.64 953.251,1386.64 1069.9,1386.64 1173.57,1386.64 \n",
       "  1264.47,1386.64 1363.58,1386.64 1463.28,1386.64 1573.51,1386.64 1678.39,1386.64 1787.45,1386.64 1879.25,1386.64 1991.32,1386.64 2096.68,1386.64 2265.46,1386.64 \n",
       "  2291.44,1386.64 \n",
       "  \"/>\n",
       "</svg>\n"
      ]
     },
     "execution_count": 58,
     "metadata": {},
     "output_type": "execute_result"
    }
   ],
   "source": [
    "grau = 1\n",
    "\n",
    "n = 21\n",
    "x = range(-10, 10, length=n)\n",
    "y = zeros(n)\n",
    "y[11] = 1;\n",
    "\n",
    "a = regressão_coeficientes_lineares(x, y, grau) # recebe os coeficientes\n",
    "println(a)  # printa os coeficientes\n",
    "\n",
    "# Plota os pontos junto com a curva que conseguimos que minimiza a soma dos quadrados das distâncias\n",
    "scatter(x,y,leg=false)\n",
    "plot!(x -> a[1] + a[2] * x, extrema(x)..., c=:red, lw=2)\n",
    "title!(\"Mínimos Quadrados\")"
   ]
  },
  {
   "cell_type": "code",
   "execution_count": 59,
   "metadata": {},
   "outputs": [
    {
     "name": "stdout",
     "output_type": "stream",
     "text": [
      "[-1035.3475650780576; 54.54998093497881]\n"
     ]
    },
    {
     "data": {
      "image/svg+xml": [
       "<?xml version=\"1.0\" encoding=\"utf-8\"?>\n",
       "<svg xmlns=\"http://www.w3.org/2000/svg\" xmlns:xlink=\"http://www.w3.org/1999/xlink\" width=\"600\" height=\"400\" viewBox=\"0 0 2400 1600\">\n",
       "<defs>\n",
       "  <clipPath id=\"clip060\">\n",
       "    <rect x=\"0\" y=\"0\" width=\"2400\" height=\"1600\"/>\n",
       "  </clipPath>\n",
       "</defs>\n",
       "<path clip-path=\"url(#clip060)\" d=\"\n",
       "M0 1600 L2400 1600 L2400 0 L0 0  Z\n",
       "  \" fill=\"#ffffff\" fill-rule=\"evenodd\" fill-opacity=\"1\"/>\n",
       "<defs>\n",
       "  <clipPath id=\"clip061\">\n",
       "    <rect x=\"480\" y=\"0\" width=\"1681\" height=\"1600\"/>\n",
       "  </clipPath>\n",
       "</defs>\n",
       "<path clip-path=\"url(#clip060)\" d=\"\n",
       "M199.283 1486.45 L2352.76 1486.45 L2352.76 123.472 L199.283 123.472  Z\n",
       "  \" fill=\"#ffffff\" fill-rule=\"evenodd\" fill-opacity=\"1\"/>\n",
       "<defs>\n",
       "  <clipPath id=\"clip062\">\n",
       "    <rect x=\"199\" y=\"123\" width=\"2154\" height=\"1364\"/>\n",
       "  </clipPath>\n",
       "</defs>\n",
       "<polyline clip-path=\"url(#clip062)\" style=\"stroke:#000000; stroke-width:2; stroke-opacity:0.1; fill:none\" points=\"\n",
       "  370.046,1486.45 370.046,123.472 \n",
       "  \"/>\n",
       "<polyline clip-path=\"url(#clip062)\" style=\"stroke:#000000; stroke-width:2; stroke-opacity:0.1; fill:none\" points=\"\n",
       "  781.852,1486.45 781.852,123.472 \n",
       "  \"/>\n",
       "<polyline clip-path=\"url(#clip062)\" style=\"stroke:#000000; stroke-width:2; stroke-opacity:0.1; fill:none\" points=\"\n",
       "  1193.66,1486.45 1193.66,123.472 \n",
       "  \"/>\n",
       "<polyline clip-path=\"url(#clip062)\" style=\"stroke:#000000; stroke-width:2; stroke-opacity:0.1; fill:none\" points=\"\n",
       "  1605.46,1486.45 1605.46,123.472 \n",
       "  \"/>\n",
       "<polyline clip-path=\"url(#clip062)\" style=\"stroke:#000000; stroke-width:2; stroke-opacity:0.1; fill:none\" points=\"\n",
       "  2017.27,1486.45 2017.27,123.472 \n",
       "  \"/>\n",
       "<polyline clip-path=\"url(#clip060)\" style=\"stroke:#000000; stroke-width:4; stroke-opacity:1; fill:none\" points=\"\n",
       "  199.283,1486.45 2352.76,1486.45 \n",
       "  \"/>\n",
       "<polyline clip-path=\"url(#clip060)\" style=\"stroke:#000000; stroke-width:4; stroke-opacity:1; fill:none\" points=\"\n",
       "  370.046,1486.45 370.046,1470.09 \n",
       "  \"/>\n",
       "<polyline clip-path=\"url(#clip060)\" style=\"stroke:#000000; stroke-width:4; stroke-opacity:1; fill:none\" points=\"\n",
       "  781.852,1486.45 781.852,1470.09 \n",
       "  \"/>\n",
       "<polyline clip-path=\"url(#clip060)\" style=\"stroke:#000000; stroke-width:4; stroke-opacity:1; fill:none\" points=\"\n",
       "  1193.66,1486.45 1193.66,1470.09 \n",
       "  \"/>\n",
       "<polyline clip-path=\"url(#clip060)\" style=\"stroke:#000000; stroke-width:4; stroke-opacity:1; fill:none\" points=\"\n",
       "  1605.46,1486.45 1605.46,1470.09 \n",
       "  \"/>\n",
       "<polyline clip-path=\"url(#clip060)\" style=\"stroke:#000000; stroke-width:4; stroke-opacity:1; fill:none\" points=\"\n",
       "  2017.27,1486.45 2017.27,1470.09 \n",
       "  \"/>\n",
       "<path clip-path=\"url(#clip060)\" d=\"M 0 0 M348.576 1543.18 L364.895 1543.18 L364.895 1547.12 L342.951 1547.12 L342.951 1543.18 Q345.613 1540.43 350.196 1535.8 Q354.803 1531.15 355.983 1529.81 Q358.228 1527.28 359.108 1525.55 Q360.011 1523.79 360.011 1522.1 Q360.011 1519.34 358.066 1517.61 Q356.145 1515.87 353.043 1515.87 Q350.844 1515.87 348.391 1516.63 Q345.96 1517.4 343.182 1518.95 L343.182 1514.23 Q346.006 1513.09 348.46 1512.51 Q350.914 1511.93 352.951 1511.93 Q358.321 1511.93 361.516 1514.62 Q364.71 1517.31 364.71 1521.8 Q364.71 1523.93 363.9 1525.85 Q363.113 1527.74 361.006 1530.34 Q360.428 1531.01 357.326 1534.23 Q354.224 1537.42 348.576 1543.18 Z\" fill=\"#000000\" fill-rule=\"evenodd\" fill-opacity=\"1\" /><path clip-path=\"url(#clip060)\" d=\"M 0 0 M387.557 1516.63 L375.752 1535.08 L387.557 1535.08 L387.557 1516.63 M386.33 1512.56 L392.21 1512.56 L392.21 1535.08 L397.14 1535.08 L397.14 1538.97 L392.21 1538.97 L392.21 1547.12 L387.557 1547.12 L387.557 1538.97 L371.955 1538.97 L371.955 1534.46 L386.33 1512.56 Z\" fill=\"#000000\" fill-rule=\"evenodd\" fill-opacity=\"1\" /><path clip-path=\"url(#clip060)\" d=\"M 0 0 M761.077 1543.18 L777.396 1543.18 L777.396 1547.12 L755.452 1547.12 L755.452 1543.18 Q758.114 1540.43 762.697 1535.8 Q767.303 1531.15 768.484 1529.81 Q770.729 1527.28 771.609 1525.55 Q772.512 1523.79 772.512 1522.1 Q772.512 1519.34 770.567 1517.61 Q768.646 1515.87 765.544 1515.87 Q763.345 1515.87 760.891 1516.63 Q758.461 1517.4 755.683 1518.95 L755.683 1514.23 Q758.507 1513.09 760.961 1512.51 Q763.415 1511.93 765.452 1511.93 Q770.822 1511.93 774.016 1514.62 Q777.211 1517.31 777.211 1521.8 Q777.211 1523.93 776.401 1525.85 Q775.614 1527.74 773.507 1530.34 Q772.928 1531.01 769.827 1534.23 Q766.725 1537.42 761.077 1543.18 Z\" fill=\"#000000\" fill-rule=\"evenodd\" fill-opacity=\"1\" /><path clip-path=\"url(#clip060)\" d=\"M 0 0 M786.03 1512.56 L808.252 1512.56 L808.252 1514.55 L795.706 1547.12 L790.822 1547.12 L802.627 1516.5 L786.03 1516.5 L786.03 1512.56 Z\" fill=\"#000000\" fill-rule=\"evenodd\" fill-opacity=\"1\" /><path clip-path=\"url(#clip060)\" d=\"M 0 0 M1182.5 1528.49 Q1185.86 1529.2 1187.73 1531.47 Q1189.63 1533.74 1189.63 1537.07 Q1189.63 1542.19 1186.11 1544.99 Q1182.59 1547.79 1176.11 1547.79 Q1173.94 1547.79 1171.62 1547.35 Q1169.33 1546.93 1166.88 1546.08 L1166.88 1541.56 Q1168.82 1542.7 1171.14 1543.28 Q1173.45 1543.86 1175.97 1543.86 Q1180.37 1543.86 1182.66 1542.12 Q1184.98 1540.38 1184.98 1537.07 Q1184.98 1534.02 1182.83 1532.31 Q1180.7 1530.57 1176.88 1530.57 L1172.85 1530.57 L1172.85 1526.73 L1177.06 1526.73 Q1180.51 1526.73 1182.34 1525.36 Q1184.17 1523.97 1184.17 1521.38 Q1184.17 1518.72 1182.27 1517.31 Q1180.39 1515.87 1176.88 1515.87 Q1174.95 1515.87 1172.76 1516.29 Q1170.56 1516.7 1167.92 1517.58 L1167.92 1513.42 Q1170.58 1512.68 1172.89 1512.31 Q1175.23 1511.93 1177.29 1511.93 Q1182.62 1511.93 1185.72 1514.37 Q1188.82 1516.77 1188.82 1520.89 Q1188.82 1523.76 1187.18 1525.75 Q1185.53 1527.72 1182.5 1528.49 Z\" fill=\"#000000\" fill-rule=\"evenodd\" fill-opacity=\"1\" /><path clip-path=\"url(#clip060)\" d=\"M 0 0 M1208.5 1515.64 Q1204.89 1515.64 1203.06 1519.2 Q1201.25 1522.75 1201.25 1529.87 Q1201.25 1536.98 1203.06 1540.55 Q1204.89 1544.09 1208.5 1544.09 Q1212.13 1544.09 1213.94 1540.55 Q1215.76 1536.98 1215.76 1529.87 Q1215.76 1522.75 1213.94 1519.2 Q1212.13 1515.64 1208.5 1515.64 M1208.5 1511.93 Q1214.31 1511.93 1217.36 1516.54 Q1220.44 1521.12 1220.44 1529.87 Q1220.44 1538.6 1217.36 1543.21 Q1214.31 1547.79 1208.5 1547.79 Q1202.69 1547.79 1199.61 1543.21 Q1196.55 1538.6 1196.55 1529.87 Q1196.55 1521.12 1199.61 1516.54 Q1202.69 1511.93 1208.5 1511.93 Z\" fill=\"#000000\" fill-rule=\"evenodd\" fill-opacity=\"1\" /><path clip-path=\"url(#clip060)\" d=\"M 0 0 M1594.63 1528.49 Q1597.99 1529.2 1599.86 1531.47 Q1601.76 1533.74 1601.76 1537.07 Q1601.76 1542.19 1598.24 1544.99 Q1594.72 1547.79 1588.24 1547.79 Q1586.07 1547.79 1583.75 1547.35 Q1581.46 1546.93 1579.01 1546.08 L1579.01 1541.56 Q1580.95 1542.7 1583.27 1543.28 Q1585.58 1543.86 1588.1 1543.86 Q1592.5 1543.86 1594.79 1542.12 Q1597.11 1540.38 1597.11 1537.07 Q1597.11 1534.02 1594.96 1532.31 Q1592.83 1530.57 1589.01 1530.57 L1584.98 1530.57 L1584.98 1526.73 L1589.19 1526.73 Q1592.64 1526.73 1594.47 1525.36 Q1596.3 1523.97 1596.3 1521.38 Q1596.3 1518.72 1594.4 1517.31 Q1592.52 1515.87 1589.01 1515.87 Q1587.09 1515.87 1584.89 1516.29 Q1582.69 1516.7 1580.05 1517.58 L1580.05 1513.42 Q1582.71 1512.68 1585.02 1512.31 Q1587.36 1511.93 1589.42 1511.93 Q1594.75 1511.93 1597.85 1514.37 Q1600.95 1516.77 1600.95 1520.89 Q1600.95 1523.76 1599.31 1525.75 Q1597.66 1527.72 1594.63 1528.49 Z\" fill=\"#000000\" fill-rule=\"evenodd\" fill-opacity=\"1\" /><path clip-path=\"url(#clip060)\" d=\"M 0 0 M1624.79 1528.49 Q1628.15 1529.2 1630.02 1531.47 Q1631.92 1533.74 1631.92 1537.07 Q1631.92 1542.19 1628.4 1544.99 Q1624.89 1547.79 1618.4 1547.79 Q1616.23 1547.79 1613.91 1547.35 Q1611.62 1546.93 1609.17 1546.08 L1609.17 1541.56 Q1611.11 1542.7 1613.43 1543.28 Q1615.74 1543.86 1618.27 1543.86 Q1622.66 1543.86 1624.96 1542.12 Q1627.27 1540.38 1627.27 1537.07 Q1627.27 1534.02 1625.12 1532.31 Q1622.99 1530.57 1619.17 1530.57 L1615.14 1530.57 L1615.14 1526.73 L1619.35 1526.73 Q1622.8 1526.73 1624.63 1525.36 Q1626.46 1523.97 1626.46 1521.38 Q1626.46 1518.72 1624.56 1517.31 Q1622.69 1515.87 1619.17 1515.87 Q1617.25 1515.87 1615.05 1516.29 Q1612.85 1516.7 1610.21 1517.58 L1610.21 1513.42 Q1612.87 1512.68 1615.19 1512.31 Q1617.52 1511.93 1619.58 1511.93 Q1624.91 1511.93 1628.01 1514.37 Q1631.11 1516.77 1631.11 1520.89 Q1631.11 1523.76 1629.47 1525.75 Q1627.83 1527.72 1624.79 1528.49 Z\" fill=\"#000000\" fill-rule=\"evenodd\" fill-opacity=\"1\" /><path clip-path=\"url(#clip060)\" d=\"M 0 0 M2006.03 1528.49 Q2009.39 1529.2 2011.26 1531.47 Q2013.16 1533.74 2013.16 1537.07 Q2013.16 1542.19 2009.64 1544.99 Q2006.13 1547.79 1999.64 1547.79 Q1997.47 1547.79 1995.15 1547.35 Q1992.86 1546.93 1990.41 1546.08 L1990.41 1541.56 Q1992.35 1542.7 1994.67 1543.28 Q1996.98 1543.86 1999.5 1543.86 Q2003.9 1543.86 2006.19 1542.12 Q2008.51 1540.38 2008.51 1537.07 Q2008.51 1534.02 2006.36 1532.31 Q2004.23 1530.57 2000.41 1530.57 L1996.38 1530.57 L1996.38 1526.73 L2000.59 1526.73 Q2004.04 1526.73 2005.87 1525.36 Q2007.7 1523.97 2007.7 1521.38 Q2007.7 1518.72 2005.8 1517.31 Q2003.93 1515.87 2000.41 1515.87 Q1998.49 1515.87 1996.29 1516.29 Q1994.09 1516.7 1991.45 1517.58 L1991.45 1513.42 Q1994.11 1512.68 1996.43 1512.31 Q1998.76 1511.93 2000.82 1511.93 Q2006.15 1511.93 2009.25 1514.37 Q2012.35 1516.77 2012.35 1520.89 Q2012.35 1523.76 2010.71 1525.75 Q2009.07 1527.72 2006.03 1528.49 Z\" fill=\"#000000\" fill-rule=\"evenodd\" fill-opacity=\"1\" /><path clip-path=\"url(#clip060)\" d=\"M 0 0 M2032.61 1527.98 Q2029.46 1527.98 2027.61 1530.13 Q2025.78 1532.28 2025.78 1536.03 Q2025.78 1539.76 2027.61 1541.93 Q2029.46 1544.09 2032.61 1544.09 Q2035.75 1544.09 2037.58 1541.93 Q2039.44 1539.76 2039.44 1536.03 Q2039.44 1532.28 2037.58 1530.13 Q2035.75 1527.98 2032.61 1527.98 M2041.89 1513.32 L2041.89 1517.58 Q2040.13 1516.75 2038.32 1516.31 Q2036.54 1515.87 2034.78 1515.87 Q2030.15 1515.87 2027.7 1519 Q2025.27 1522.12 2024.92 1528.44 Q2026.29 1526.43 2028.35 1525.36 Q2030.41 1524.27 2032.88 1524.27 Q2038.09 1524.27 2041.1 1527.44 Q2044.13 1530.59 2044.13 1536.03 Q2044.13 1541.36 2040.99 1544.57 Q2037.84 1547.79 2032.61 1547.79 Q2026.61 1547.79 2023.44 1543.21 Q2020.27 1538.6 2020.27 1529.87 Q2020.27 1521.68 2024.16 1516.82 Q2028.05 1511.93 2034.6 1511.93 Q2036.36 1511.93 2038.14 1512.28 Q2039.94 1512.63 2041.89 1513.32 Z\" fill=\"#000000\" fill-rule=\"evenodd\" fill-opacity=\"1\" /><polyline clip-path=\"url(#clip062)\" style=\"stroke:#000000; stroke-width:2; stroke-opacity:0.1; fill:none\" points=\"\n",
       "  199.283,1177.46 2352.76,1177.46 \n",
       "  \"/>\n",
       "<polyline clip-path=\"url(#clip062)\" style=\"stroke:#000000; stroke-width:2; stroke-opacity:0.1; fill:none\" points=\"\n",
       "  199.283,858.923 2352.76,858.923 \n",
       "  \"/>\n",
       "<polyline clip-path=\"url(#clip062)\" style=\"stroke:#000000; stroke-width:2; stroke-opacity:0.1; fill:none\" points=\"\n",
       "  199.283,540.389 2352.76,540.389 \n",
       "  \"/>\n",
       "<polyline clip-path=\"url(#clip062)\" style=\"stroke:#000000; stroke-width:2; stroke-opacity:0.1; fill:none\" points=\"\n",
       "  199.283,221.854 2352.76,221.854 \n",
       "  \"/>\n",
       "<polyline clip-path=\"url(#clip060)\" style=\"stroke:#000000; stroke-width:4; stroke-opacity:1; fill:none\" points=\"\n",
       "  199.283,1486.45 199.283,123.472 \n",
       "  \"/>\n",
       "<polyline clip-path=\"url(#clip060)\" style=\"stroke:#000000; stroke-width:4; stroke-opacity:1; fill:none\" points=\"\n",
       "  199.283,1177.46 225.125,1177.46 \n",
       "  \"/>\n",
       "<polyline clip-path=\"url(#clip060)\" style=\"stroke:#000000; stroke-width:4; stroke-opacity:1; fill:none\" points=\"\n",
       "  199.283,858.923 225.125,858.923 \n",
       "  \"/>\n",
       "<polyline clip-path=\"url(#clip060)\" style=\"stroke:#000000; stroke-width:4; stroke-opacity:1; fill:none\" points=\"\n",
       "  199.283,540.389 225.125,540.389 \n",
       "  \"/>\n",
       "<polyline clip-path=\"url(#clip060)\" style=\"stroke:#000000; stroke-width:4; stroke-opacity:1; fill:none\" points=\"\n",
       "  199.283,221.854 225.125,221.854 \n",
       "  \"/>\n",
       "<path clip-path=\"url(#clip060)\" d=\"M 0 0 M93.8623 1164.25 L82.0568 1182.7 L93.8623 1182.7 L93.8623 1164.25 M92.6354 1160.18 L98.515 1160.18 L98.515 1182.7 L103.446 1182.7 L103.446 1186.59 L98.515 1186.59 L98.515 1194.74 L93.8623 1194.74 L93.8623 1186.59 L78.2605 1186.59 L78.2605 1182.07 L92.6354 1160.18 Z\" fill=\"#000000\" fill-rule=\"evenodd\" fill-opacity=\"1\" /><path clip-path=\"url(#clip060)\" d=\"M 0 0 M121.177 1163.26 Q117.566 1163.26 115.737 1166.82 Q113.932 1170.36 113.932 1177.49 Q113.932 1184.6 115.737 1188.16 Q117.566 1191.7 121.177 1191.7 Q124.811 1191.7 126.617 1188.16 Q128.445 1184.6 128.445 1177.49 Q128.445 1170.36 126.617 1166.82 Q124.811 1163.26 121.177 1163.26 M121.177 1159.55 Q126.987 1159.55 130.043 1164.16 Q133.121 1168.74 133.121 1177.49 Q133.121 1186.22 130.043 1190.82 Q126.987 1195.41 121.177 1195.41 Q115.367 1195.41 112.288 1190.82 Q109.233 1186.22 109.233 1177.49 Q109.233 1168.74 112.288 1164.16 Q115.367 1159.55 121.177 1159.55 Z\" fill=\"#000000\" fill-rule=\"evenodd\" fill-opacity=\"1\" /><path clip-path=\"url(#clip060)\" d=\"M 0 0 M151.339 1163.26 Q147.728 1163.26 145.899 1166.82 Q144.093 1170.36 144.093 1177.49 Q144.093 1184.6 145.899 1188.16 Q147.728 1191.7 151.339 1191.7 Q154.973 1191.7 156.779 1188.16 Q158.607 1184.6 158.607 1177.49 Q158.607 1170.36 156.779 1166.82 Q154.973 1163.26 151.339 1163.26 M151.339 1159.55 Q157.149 1159.55 160.205 1164.16 Q163.283 1168.74 163.283 1177.49 Q163.283 1186.22 160.205 1190.82 Q157.149 1195.41 151.339 1195.41 Q145.529 1195.41 142.45 1190.82 Q139.394 1186.22 139.394 1177.49 Q139.394 1168.74 142.45 1164.16 Q145.529 1159.55 151.339 1159.55 Z\" fill=\"#000000\" fill-rule=\"evenodd\" fill-opacity=\"1\" /><path clip-path=\"url(#clip060)\" d=\"M 0 0 M91.5938 857.059 Q88.4456 857.059 86.5938 859.212 Q84.7651 861.365 84.7651 865.115 Q84.7651 868.842 86.5938 871.017 Q88.4456 873.17 91.5938 873.17 Q94.7419 873.17 96.5706 871.017 Q98.4224 868.842 98.4224 865.115 Q98.4224 861.365 96.5706 859.212 Q94.7419 857.059 91.5938 857.059 M100.876 842.407 L100.876 846.666 Q99.1169 845.832 97.3113 845.393 Q95.5289 844.953 93.7697 844.953 Q89.1401 844.953 86.6864 848.078 Q84.2558 851.203 83.9086 857.522 Q85.2743 855.508 87.3345 854.443 Q89.3947 853.356 91.8715 853.356 Q97.0798 853.356 100.089 856.527 Q103.121 859.675 103.121 865.115 Q103.121 870.439 99.9733 873.656 Q96.8252 876.874 91.5938 876.874 Q85.5984 876.874 82.4271 872.291 Q79.2559 867.684 79.2559 858.957 Q79.2559 850.763 83.1447 845.902 Q87.0336 841.018 93.5845 841.018 Q95.3437 841.018 97.1261 841.365 Q98.9317 841.712 100.876 842.407 Z\" fill=\"#000000\" fill-rule=\"evenodd\" fill-opacity=\"1\" /><path clip-path=\"url(#clip060)\" d=\"M 0 0 M121.177 844.721 Q117.566 844.721 115.737 848.286 Q113.932 851.828 113.932 858.957 Q113.932 866.064 115.737 869.629 Q117.566 873.17 121.177 873.17 Q124.811 873.17 126.617 869.629 Q128.445 866.064 128.445 858.957 Q128.445 851.828 126.617 848.286 Q124.811 844.721 121.177 844.721 M121.177 841.018 Q126.987 841.018 130.043 845.624 Q133.121 850.207 133.121 858.957 Q133.121 867.684 130.043 872.291 Q126.987 876.874 121.177 876.874 Q115.367 876.874 112.288 872.291 Q109.233 867.684 109.233 858.957 Q109.233 850.207 112.288 845.624 Q115.367 841.018 121.177 841.018 Z\" fill=\"#000000\" fill-rule=\"evenodd\" fill-opacity=\"1\" /><path clip-path=\"url(#clip060)\" d=\"M 0 0 M151.339 844.721 Q147.728 844.721 145.899 848.286 Q144.093 851.828 144.093 858.957 Q144.093 866.064 145.899 869.629 Q147.728 873.17 151.339 873.17 Q154.973 873.17 156.779 869.629 Q158.607 866.064 158.607 858.957 Q158.607 851.828 156.779 848.286 Q154.973 844.721 151.339 844.721 M151.339 841.018 Q157.149 841.018 160.205 845.624 Q163.283 850.207 163.283 858.957 Q163.283 867.684 160.205 872.291 Q157.149 876.874 151.339 876.874 Q145.529 876.874 142.45 872.291 Q139.394 867.684 139.394 858.957 Q139.394 850.207 142.45 845.624 Q145.529 841.018 151.339 841.018 Z\" fill=\"#000000\" fill-rule=\"evenodd\" fill-opacity=\"1\" /><path clip-path=\"url(#clip060)\" d=\"M 0 0 M91.0151 541.257 Q87.6817 541.257 85.7605 543.039 Q83.8623 544.821 83.8623 547.946 Q83.8623 551.071 85.7605 552.854 Q87.6817 554.636 91.0151 554.636 Q94.3484 554.636 96.2697 552.854 Q98.1909 551.048 98.1909 547.946 Q98.1909 544.821 96.2697 543.039 Q94.3715 541.257 91.0151 541.257 M86.3392 539.266 Q83.3299 538.525 81.6401 536.465 Q79.9735 534.405 79.9735 531.442 Q79.9735 527.298 82.9133 524.891 Q85.8762 522.484 91.0151 522.484 Q96.1771 522.484 99.1169 524.891 Q102.057 527.298 102.057 531.442 Q102.057 534.405 100.367 536.465 Q98.7002 538.525 95.7141 539.266 Q99.0937 540.053 100.969 542.345 Q102.867 544.636 102.867 547.946 Q102.867 552.969 99.7882 555.655 Q96.7326 558.34 91.0151 558.34 Q85.2975 558.34 82.2188 555.655 Q79.1633 552.969 79.1633 547.946 Q79.1633 544.636 81.0614 542.345 Q82.9595 540.053 86.3392 539.266 M84.6262 531.882 Q84.6262 534.567 86.2929 536.071 Q87.9827 537.576 91.0151 537.576 Q94.0243 537.576 95.7141 536.071 Q97.4271 534.567 97.4271 531.882 Q97.4271 529.196 95.7141 527.692 Q94.0243 526.187 91.0151 526.187 Q87.9827 526.187 86.2929 527.692 Q84.6262 529.196 84.6262 531.882 Z\" fill=\"#000000\" fill-rule=\"evenodd\" fill-opacity=\"1\" /><path clip-path=\"url(#clip060)\" d=\"M 0 0 M121.177 526.187 Q117.566 526.187 115.737 529.752 Q113.932 533.294 113.932 540.423 Q113.932 547.53 115.737 551.094 Q117.566 554.636 121.177 554.636 Q124.811 554.636 126.617 551.094 Q128.445 547.53 128.445 540.423 Q128.445 533.294 126.617 529.752 Q124.811 526.187 121.177 526.187 M121.177 522.484 Q126.987 522.484 130.043 527.09 Q133.121 531.673 133.121 540.423 Q133.121 549.15 130.043 553.757 Q126.987 558.34 121.177 558.34 Q115.367 558.34 112.288 553.757 Q109.233 549.15 109.233 540.423 Q109.233 531.673 112.288 527.09 Q115.367 522.484 121.177 522.484 Z\" fill=\"#000000\" fill-rule=\"evenodd\" fill-opacity=\"1\" /><path clip-path=\"url(#clip060)\" d=\"M 0 0 M151.339 526.187 Q147.728 526.187 145.899 529.752 Q144.093 533.294 144.093 540.423 Q144.093 547.53 145.899 551.094 Q147.728 554.636 151.339 554.636 Q154.973 554.636 156.779 551.094 Q158.607 547.53 158.607 540.423 Q158.607 533.294 156.779 529.752 Q154.973 526.187 151.339 526.187 M151.339 522.484 Q157.149 522.484 160.205 527.09 Q163.283 531.673 163.283 540.423 Q163.283 549.15 160.205 553.757 Q157.149 558.34 151.339 558.34 Q145.529 558.34 142.45 553.757 Q139.394 549.15 139.394 540.423 Q139.394 531.673 142.45 527.09 Q145.529 522.484 151.339 522.484 Z\" fill=\"#000000\" fill-rule=\"evenodd\" fill-opacity=\"1\" /><path clip-path=\"url(#clip060)\" d=\"M 0 0 M51.6634 235.199 L59.3023 235.199 L59.3023 208.834 L50.9921 210.5 L50.9921 206.241 L59.256 204.574 L63.9319 204.574 L63.9319 235.199 L71.5707 235.199 L71.5707 239.134 L51.6634 239.134 L51.6634 235.199 Z\" fill=\"#000000\" fill-rule=\"evenodd\" fill-opacity=\"1\" /><path clip-path=\"url(#clip060)\" d=\"M 0 0 M91.0151 207.653 Q87.404 207.653 85.5753 211.218 Q83.7697 214.76 83.7697 221.889 Q83.7697 228.996 85.5753 232.56 Q87.404 236.102 91.0151 236.102 Q94.6493 236.102 96.4548 232.56 Q98.2835 228.996 98.2835 221.889 Q98.2835 214.76 96.4548 211.218 Q94.6493 207.653 91.0151 207.653 M91.0151 203.949 Q96.8252 203.949 99.8808 208.556 Q102.959 213.139 102.959 221.889 Q102.959 230.616 99.8808 235.222 Q96.8252 239.806 91.0151 239.806 Q85.2049 239.806 82.1262 235.222 Q79.0707 230.616 79.0707 221.889 Q79.0707 213.139 82.1262 208.556 Q85.2049 203.949 91.0151 203.949 Z\" fill=\"#000000\" fill-rule=\"evenodd\" fill-opacity=\"1\" /><path clip-path=\"url(#clip060)\" d=\"M 0 0 M121.177 207.653 Q117.566 207.653 115.737 211.218 Q113.932 214.76 113.932 221.889 Q113.932 228.996 115.737 232.56 Q117.566 236.102 121.177 236.102 Q124.811 236.102 126.617 232.56 Q128.445 228.996 128.445 221.889 Q128.445 214.76 126.617 211.218 Q124.811 207.653 121.177 207.653 M121.177 203.949 Q126.987 203.949 130.043 208.556 Q133.121 213.139 133.121 221.889 Q133.121 230.616 130.043 235.222 Q126.987 239.806 121.177 239.806 Q115.367 239.806 112.288 235.222 Q109.233 230.616 109.233 221.889 Q109.233 213.139 112.288 208.556 Q115.367 203.949 121.177 203.949 Z\" fill=\"#000000\" fill-rule=\"evenodd\" fill-opacity=\"1\" /><path clip-path=\"url(#clip060)\" d=\"M 0 0 M151.339 207.653 Q147.728 207.653 145.899 211.218 Q144.093 214.76 144.093 221.889 Q144.093 228.996 145.899 232.56 Q147.728 236.102 151.339 236.102 Q154.973 236.102 156.779 232.56 Q158.607 228.996 158.607 221.889 Q158.607 214.76 156.779 211.218 Q154.973 207.653 151.339 207.653 M151.339 203.949 Q157.149 203.949 160.205 208.556 Q163.283 213.139 163.283 221.889 Q163.283 230.616 160.205 235.222 Q157.149 239.806 151.339 239.806 Q145.529 239.806 142.45 235.222 Q139.394 230.616 139.394 221.889 Q139.394 213.139 142.45 208.556 Q145.529 203.949 151.339 203.949 Z\" fill=\"#000000\" fill-rule=\"evenodd\" fill-opacity=\"1\" /><path clip-path=\"url(#clip060)\" d=\"M 0 0 M869.916 12.096 L882.11 12.096 L897.544 53.2532 L913.059 12.096 L925.252 12.096 L925.252 72.576 L917.271 72.576 L917.271 19.4686 L901.675 60.9499 L893.452 60.9499 L877.856 19.4686 L877.856 72.576 L869.916 72.576 L869.916 12.096 Z\" fill=\"#000000\" fill-rule=\"evenodd\" fill-opacity=\"1\" /><path clip-path=\"url(#clip060)\" d=\"M 0 0 M950.529 6.22219 L958.591 6.22219 L945.385 21.4536 L939.187 21.4536 L950.529 6.22219 M941.172 27.2059 L948.625 27.2059 L948.625 72.576 L941.172 72.576 L941.172 27.2059 M944.899 26.1121 L944.899 26.1121 Z\" fill=\"#000000\" fill-rule=\"evenodd\" fill-opacity=\"1\" /><path clip-path=\"url(#clip060)\" d=\"M 0 0 M1001.94 45.1919 L1001.94 72.576 L994.482 72.576 L994.482 45.4349 Q994.482 38.994 991.97 35.7938 Q989.459 32.5936 984.435 32.5936 Q978.4 32.5936 974.916 36.4419 Q971.432 40.2903 971.432 46.9338 L971.432 72.576 L963.938 72.576 L963.938 27.2059 L971.432 27.2059 L971.432 34.2544 Q974.106 30.163 977.711 28.1376 Q981.357 26.1121 986.096 26.1121 Q993.915 26.1121 997.925 30.9732 Q1001.94 35.7938 1001.94 45.1919 Z\" fill=\"#000000\" fill-rule=\"evenodd\" fill-opacity=\"1\" /><path clip-path=\"url(#clip060)\" d=\"M 0 0 M1016.8 27.2059 L1024.26 27.2059 L1024.26 72.576 L1016.8 72.576 L1016.8 27.2059 M1016.8 9.54393 L1024.26 9.54393 L1024.26 18.9825 L1016.8 18.9825 L1016.8 9.54393 Z\" fill=\"#000000\" fill-rule=\"evenodd\" fill-opacity=\"1\" /><path clip-path=\"url(#clip060)\" d=\"M 0 0 M1075.18 35.9153 Q1077.97 30.8922 1081.86 28.5022 Q1085.75 26.1121 1091.01 26.1121 Q1098.1 26.1121 1101.95 31.0947 Q1105.8 36.0368 1105.8 45.1919 L1105.8 72.576 L1098.31 72.576 L1098.31 45.4349 Q1098.31 38.913 1096 35.7533 Q1093.69 32.5936 1088.95 32.5936 Q1083.16 32.5936 1079.79 36.4419 Q1076.43 40.2903 1076.43 46.9338 L1076.43 72.576 L1068.94 72.576 L1068.94 45.4349 Q1068.94 38.8725 1066.63 35.7533 Q1064.32 32.5936 1059.5 32.5936 Q1053.79 32.5936 1050.42 36.4824 Q1047.06 40.3308 1047.06 46.9338 L1047.06 72.576 L1039.57 72.576 L1039.57 27.2059 L1047.06 27.2059 L1047.06 34.2544 Q1049.61 30.082 1053.18 28.0971 Q1056.74 26.1121 1061.65 26.1121 Q1066.59 26.1121 1070.03 28.6237 Q1073.51 31.1352 1075.18 35.9153 Z\" fill=\"#000000\" fill-rule=\"evenodd\" fill-opacity=\"1\" /><path clip-path=\"url(#clip060)\" d=\"M 0 0 M1138.25 32.4315 Q1132.25 32.4315 1128.77 37.1306 Q1125.29 41.7891 1125.29 49.9314 Q1125.29 58.0738 1128.73 62.7728 Q1132.21 67.4314 1138.25 67.4314 Q1144.2 67.4314 1147.69 62.7323 Q1151.17 58.0333 1151.17 49.9314 Q1151.17 41.8701 1147.69 37.1711 Q1144.2 32.4315 1138.25 32.4315 M1138.25 26.1121 Q1147.97 26.1121 1153.52 32.4315 Q1159.07 38.7509 1159.07 49.9314 Q1159.07 61.0714 1153.52 67.4314 Q1147.97 73.7508 1138.25 73.7508 Q1128.49 73.7508 1122.94 67.4314 Q1117.43 61.0714 1117.43 49.9314 Q1117.43 38.7509 1122.94 32.4315 Q1128.49 26.1121 1138.25 26.1121 Z\" fill=\"#000000\" fill-rule=\"evenodd\" fill-opacity=\"1\" /><path clip-path=\"url(#clip060)\" d=\"M 0 0 M1200.35 28.5427 L1200.35 35.5912 Q1197.19 33.9709 1193.79 33.1607 Q1190.38 32.3505 1186.74 32.3505 Q1181.19 32.3505 1178.39 34.0519 Q1175.64 35.7533 1175.64 39.156 Q1175.64 41.7486 1177.62 43.2475 Q1179.61 44.7058 1185.6 46.0426 L1188.16 46.6097 Q1196.1 48.3111 1199.42 51.4303 Q1202.78 54.509 1202.78 60.0587 Q1202.78 66.3781 1197.76 70.0644 Q1192.77 73.7508 1184.02 73.7508 Q1180.38 73.7508 1176.41 73.0216 Q1172.48 72.3329 1168.1 70.9151 L1168.1 63.2184 Q1172.24 65.3654 1176.25 66.4591 Q1180.26 67.5124 1184.19 67.5124 Q1189.45 67.5124 1192.29 65.73 Q1195.12 63.9071 1195.12 60.6258 Q1195.12 57.5877 1193.06 55.9673 Q1191.03 54.3469 1184.1 52.8481 L1181.51 52.2405 Q1174.58 50.7821 1171.51 47.7845 Q1168.43 44.7463 1168.43 39.4801 Q1168.43 33.0797 1172.96 29.5959 Q1177.5 26.1121 1185.85 26.1121 Q1189.98 26.1121 1193.62 26.7198 Q1197.27 27.3274 1200.35 28.5427 Z\" fill=\"#000000\" fill-rule=\"evenodd\" fill-opacity=\"1\" /><path clip-path=\"url(#clip060)\" d=\"M 0 0 M1265.89 17.6457 Q1256.98 17.6457 1251.71 24.2892 Q1246.49 30.9327 1246.49 42.3968 Q1246.49 53.8203 1251.71 60.4638 Q1256.98 67.1073 1265.89 67.1073 Q1274.8 67.1073 1279.99 60.4638 Q1285.22 53.8203 1285.22 42.3968 Q1285.22 30.9327 1279.99 24.2892 Q1274.8 17.6457 1265.89 17.6457 M1277.36 71.4823 L1288.13 83.2704 L1278.25 83.2704 L1269.3 73.5887 Q1267.96 73.6697 1267.23 73.7103 Q1266.54 73.7508 1265.89 73.7508 Q1253.13 73.7508 1245.48 65.2439 Q1237.86 56.6965 1237.86 42.3968 Q1237.86 28.0566 1245.48 19.5497 Q1253.13 11.0023 1265.89 11.0023 Q1278.61 11.0023 1286.23 19.5497 Q1293.84 28.0566 1293.84 42.3968 Q1293.84 52.9291 1289.59 60.4233 Q1285.38 67.9175 1277.36 71.4823 Z\" fill=\"#000000\" fill-rule=\"evenodd\" fill-opacity=\"1\" /><path clip-path=\"url(#clip060)\" d=\"M 0 0 M1305.55 54.671 L1305.55 27.2059 L1313 27.2059 L1313 54.3874 Q1313 60.8284 1315.52 64.0691 Q1318.03 67.2693 1323.05 67.2693 Q1329.09 67.2693 1332.57 63.421 Q1336.09 59.5726 1336.09 52.9291 L1336.09 27.2059 L1343.55 27.2059 L1343.55 72.576 L1336.09 72.576 L1336.09 65.6084 Q1333.38 69.7404 1329.78 71.7658 Q1326.21 73.7508 1321.47 73.7508 Q1313.65 73.7508 1309.6 68.8897 Q1305.55 64.0286 1305.55 54.671 M1324.31 26.1121 L1324.31 26.1121 Z\" fill=\"#000000\" fill-rule=\"evenodd\" fill-opacity=\"1\" /><path clip-path=\"url(#clip060)\" d=\"M 0 0 M1379.52 49.7694 Q1370.49 49.7694 1367 51.8354 Q1363.52 53.9013 1363.52 58.8839 Q1363.52 62.8538 1366.11 65.2034 Q1368.74 67.5124 1373.24 67.5124 Q1379.44 67.5124 1383.17 63.1374 Q1386.93 58.7219 1386.93 51.4303 L1386.93 49.7694 L1379.52 49.7694 M1394.39 46.6907 L1394.39 72.576 L1386.93 72.576 L1386.93 65.6895 Q1384.38 69.8214 1380.57 71.8063 Q1376.77 73.7508 1371.26 73.7508 Q1364.29 73.7508 1360.16 69.8619 Q1356.07 65.9325 1356.07 59.3701 Q1356.07 51.7138 1361.17 47.825 Q1366.31 43.9361 1376.48 43.9361 L1386.93 43.9361 L1386.93 43.2069 Q1386.93 38.0623 1383.53 35.2672 Q1380.17 32.4315 1374.05 32.4315 Q1370.16 32.4315 1366.48 33.3632 Q1362.79 34.295 1359.39 36.1584 L1359.39 29.2718 Q1363.48 27.692 1367.33 26.9223 Q1371.18 26.1121 1374.82 26.1121 Q1384.66 26.1121 1389.53 31.2163 Q1394.39 36.3204 1394.39 46.6907 Z\" fill=\"#000000\" fill-rule=\"evenodd\" fill-opacity=\"1\" /><path clip-path=\"url(#clip060)\" d=\"M 0 0 M1439.6 34.0924 L1439.6 9.54393 L1447.05 9.54393 L1447.05 72.576 L1439.6 72.576 L1439.6 65.7705 Q1437.25 69.8214 1433.64 71.8063 Q1430.08 73.7508 1425.05 73.7508 Q1416.83 73.7508 1411.64 67.1883 Q1406.5 60.6258 1406.5 49.9314 Q1406.5 39.2371 1411.64 32.6746 Q1416.83 26.1121 1425.05 26.1121 Q1430.08 26.1121 1433.64 28.0971 Q1437.25 30.0415 1439.6 34.0924 M1414.2 49.9314 Q1414.2 58.1548 1417.56 62.8538 Q1420.96 67.5124 1426.88 67.5124 Q1432.79 67.5124 1436.19 62.8538 Q1439.6 58.1548 1439.6 49.9314 Q1439.6 41.7081 1436.19 37.0496 Q1432.79 32.3505 1426.88 32.3505 Q1420.96 32.3505 1417.56 37.0496 Q1414.2 41.7081 1414.2 49.9314 Z\" fill=\"#000000\" fill-rule=\"evenodd\" fill-opacity=\"1\" /><path clip-path=\"url(#clip060)\" d=\"M 0 0 M1488.69 34.1734 Q1487.44 33.4443 1485.94 33.1202 Q1484.48 32.7556 1482.7 32.7556 Q1476.38 32.7556 1472.97 36.8875 Q1469.61 40.9789 1469.61 48.6757 L1469.61 72.576 L1462.12 72.576 L1462.12 27.2059 L1469.61 27.2059 L1469.61 34.2544 Q1471.96 30.1225 1475.73 28.1376 Q1479.5 26.1121 1484.88 26.1121 Q1485.65 26.1121 1486.59 26.2337 Q1487.52 26.3147 1488.65 26.5172 L1488.69 34.1734 Z\" fill=\"#000000\" fill-rule=\"evenodd\" fill-opacity=\"1\" /><path clip-path=\"url(#clip060)\" d=\"M 0 0 M1517.13 49.7694 Q1508.1 49.7694 1504.61 51.8354 Q1501.13 53.9013 1501.13 58.8839 Q1501.13 62.8538 1503.72 65.2034 Q1506.35 67.5124 1510.85 67.5124 Q1517.05 67.5124 1520.78 63.1374 Q1524.54 58.7219 1524.54 51.4303 L1524.54 49.7694 L1517.13 49.7694 M1532 46.6907 L1532 72.576 L1524.54 72.576 L1524.54 65.6895 Q1521.99 69.8214 1518.18 71.8063 Q1514.37 73.7508 1508.87 73.7508 Q1501.9 73.7508 1497.77 69.8619 Q1493.67 65.9325 1493.67 59.3701 Q1493.67 51.7138 1498.78 47.825 Q1503.92 43.9361 1514.09 43.9361 L1524.54 43.9361 L1524.54 43.2069 Q1524.54 38.0623 1521.14 35.2672 Q1517.78 32.4315 1511.66 32.4315 Q1507.77 32.4315 1504.09 33.3632 Q1500.4 34.295 1497 36.1584 L1497 29.2718 Q1501.09 27.692 1504.94 26.9223 Q1508.78 26.1121 1512.43 26.1121 Q1522.27 26.1121 1527.14 31.2163 Q1532 36.3204 1532 46.6907 Z\" fill=\"#000000\" fill-rule=\"evenodd\" fill-opacity=\"1\" /><path clip-path=\"url(#clip060)\" d=\"M 0 0 M1577.2 34.0924 L1577.2 9.54393 L1584.66 9.54393 L1584.66 72.576 L1577.2 72.576 L1577.2 65.7705 Q1574.85 69.8214 1571.25 71.8063 Q1567.68 73.7508 1562.66 73.7508 Q1554.44 73.7508 1549.25 67.1883 Q1544.11 60.6258 1544.11 49.9314 Q1544.11 39.2371 1549.25 32.6746 Q1554.44 26.1121 1562.66 26.1121 Q1567.68 26.1121 1571.25 28.0971 Q1574.85 30.0415 1577.2 34.0924 M1551.81 49.9314 Q1551.81 58.1548 1555.17 62.8538 Q1558.57 67.5124 1564.48 67.5124 Q1570.4 67.5124 1573.8 62.8538 Q1577.2 58.1548 1577.2 49.9314 Q1577.2 41.7081 1573.8 37.0496 Q1570.4 32.3505 1564.48 32.3505 Q1558.57 32.3505 1555.17 37.0496 Q1551.81 41.7081 1551.81 49.9314 Z\" fill=\"#000000\" fill-rule=\"evenodd\" fill-opacity=\"1\" /><path clip-path=\"url(#clip060)\" d=\"M 0 0 M1617.59 32.4315 Q1611.6 32.4315 1608.11 37.1306 Q1604.63 41.7891 1604.63 49.9314 Q1604.63 58.0738 1608.07 62.7728 Q1611.56 67.4314 1617.59 67.4314 Q1623.55 67.4314 1627.03 62.7323 Q1630.51 58.0333 1630.51 49.9314 Q1630.51 41.8701 1627.03 37.1711 Q1623.55 32.4315 1617.59 32.4315 M1617.59 26.1121 Q1627.31 26.1121 1632.86 32.4315 Q1638.41 38.7509 1638.41 49.9314 Q1638.41 61.0714 1632.86 67.4314 Q1627.31 73.7508 1617.59 73.7508 Q1607.83 73.7508 1602.28 67.4314 Q1596.77 61.0714 1596.77 49.9314 Q1596.77 38.7509 1602.28 32.4315 Q1607.83 26.1121 1617.59 26.1121 Z\" fill=\"#000000\" fill-rule=\"evenodd\" fill-opacity=\"1\" /><path clip-path=\"url(#clip060)\" d=\"M 0 0 M1679.69 28.5427 L1679.69 35.5912 Q1676.53 33.9709 1673.13 33.1607 Q1669.73 32.3505 1666.08 32.3505 Q1660.53 32.3505 1657.74 34.0519 Q1654.98 35.7533 1654.98 39.156 Q1654.98 41.7486 1656.97 43.2475 Q1658.95 44.7058 1664.95 46.0426 L1667.5 46.6097 Q1675.44 48.3111 1678.76 51.4303 Q1682.12 54.509 1682.12 60.0587 Q1682.12 66.3781 1677.1 70.0644 Q1672.12 73.7508 1663.37 73.7508 Q1659.72 73.7508 1655.75 73.0216 Q1651.82 72.3329 1647.45 70.9151 L1647.45 63.2184 Q1651.58 65.3654 1655.59 66.4591 Q1659.6 67.5124 1663.53 67.5124 Q1668.8 67.5124 1671.63 65.73 Q1674.47 63.9071 1674.47 60.6258 Q1674.47 57.5877 1672.4 55.9673 Q1670.38 54.3469 1663.45 52.8481 L1660.86 52.2405 Q1653.93 50.7821 1650.85 47.7845 Q1647.77 44.7463 1647.77 39.4801 Q1647.77 33.0797 1652.31 29.5959 Q1656.85 26.1121 1665.19 26.1121 Q1669.32 26.1121 1672.97 26.7198 Q1676.61 27.3274 1679.69 28.5427 Z\" fill=\"#000000\" fill-rule=\"evenodd\" fill-opacity=\"1\" /><circle clip-path=\"url(#clip062)\" cx=\"260.231\" cy=\"1429.1\" r=\"14\" fill=\"#009af9\" fill-rule=\"evenodd\" fill-opacity=\"1\" stroke=\"#000000\" stroke-opacity=\"1\" stroke-width=\"3.2\"/>\n",
       "<circle clip-path=\"url(#clip062)\" cx=\"370.046\" cy=\"1352.65\" r=\"14\" fill=\"#009af9\" fill-rule=\"evenodd\" fill-opacity=\"1\" stroke=\"#000000\" stroke-opacity=\"1\" stroke-width=\"3.2\"/>\n",
       "<circle clip-path=\"url(#clip062)\" cx=\"356.319\" cy=\"1273.02\" r=\"14\" fill=\"#009af9\" fill-rule=\"evenodd\" fill-opacity=\"1\" stroke=\"#000000\" stroke-opacity=\"1\" stroke-width=\"3.2\"/>\n",
       "<circle clip-path=\"url(#clip062)\" cx=\"685.764\" cy=\"1236.39\" r=\"14\" fill=\"#009af9\" fill-rule=\"evenodd\" fill-opacity=\"1\" stroke=\"#000000\" stroke-opacity=\"1\" stroke-width=\"3.2\"/>\n",
       "<circle clip-path=\"url(#clip062)\" cx=\"713.218\" cy=\"1129.68\" r=\"14\" fill=\"#009af9\" fill-rule=\"evenodd\" fill-opacity=\"1\" stroke=\"#000000\" stroke-opacity=\"1\" stroke-width=\"3.2\"/>\n",
       "<circle clip-path=\"url(#clip062)\" cx=\"754.398\" cy=\"1097.82\" r=\"14\" fill=\"#009af9\" fill-rule=\"evenodd\" fill-opacity=\"1\" stroke=\"#000000\" stroke-opacity=\"1\" stroke-width=\"3.2\"/>\n",
       "<circle clip-path=\"url(#clip062)\" cx=\"754.398\" cy=\"1018.19\" r=\"14\" fill=\"#009af9\" fill-rule=\"evenodd\" fill-opacity=\"1\" stroke=\"#000000\" stroke-opacity=\"1\" stroke-width=\"3.2\"/>\n",
       "<circle clip-path=\"url(#clip062)\" cx=\"864.213\" cy=\"1193.38\" r=\"14\" fill=\"#009af9\" fill-rule=\"evenodd\" fill-opacity=\"1\" stroke=\"#000000\" stroke-opacity=\"1\" stroke-width=\"3.2\"/>\n",
       "<circle clip-path=\"url(#clip062)\" cx=\"864.213\" cy=\"1097.82\" r=\"14\" fill=\"#009af9\" fill-rule=\"evenodd\" fill-opacity=\"1\" stroke=\"#000000\" stroke-opacity=\"1\" stroke-width=\"3.2\"/>\n",
       "<circle clip-path=\"url(#clip062)\" cx=\"987.755\" cy=\"1018.19\" r=\"14\" fill=\"#009af9\" fill-rule=\"evenodd\" fill-opacity=\"1\" stroke=\"#000000\" stroke-opacity=\"1\" stroke-width=\"3.2\"/>\n",
       "<circle clip-path=\"url(#clip062)\" cx=\"974.028\" cy=\"1058.01\" r=\"14\" fill=\"#009af9\" fill-rule=\"evenodd\" fill-opacity=\"1\" stroke=\"#000000\" stroke-opacity=\"1\" stroke-width=\"3.2\"/>\n",
       "<circle clip-path=\"url(#clip062)\" cx=\"1015.21\" cy=\"1018.19\" r=\"14\" fill=\"#009af9\" fill-rule=\"evenodd\" fill-opacity=\"1\" stroke=\"#000000\" stroke-opacity=\"1\" stroke-width=\"3.2\"/>\n",
       "<circle clip-path=\"url(#clip062)\" cx=\"1070.12\" cy=\"1018.19\" r=\"14\" fill=\"#009af9\" fill-rule=\"evenodd\" fill-opacity=\"1\" stroke=\"#000000\" stroke-opacity=\"1\" stroke-width=\"3.2\"/>\n",
       "<circle clip-path=\"url(#clip062)\" cx=\"1125.02\" cy=\"1273.02\" r=\"14\" fill=\"#009af9\" fill-rule=\"evenodd\" fill-opacity=\"1\" stroke=\"#000000\" stroke-opacity=\"1\" stroke-width=\"3.2\"/>\n",
       "<circle clip-path=\"url(#clip062)\" cx=\"1111.3\" cy=\"858.923\" r=\"14\" fill=\"#009af9\" fill-rule=\"evenodd\" fill-opacity=\"1\" stroke=\"#000000\" stroke-opacity=\"1\" stroke-width=\"3.2\"/>\n",
       "<circle clip-path=\"url(#clip062)\" cx=\"1111.3\" cy=\"858.923\" r=\"14\" fill=\"#009af9\" fill-rule=\"evenodd\" fill-opacity=\"1\" stroke=\"#000000\" stroke-opacity=\"1\" stroke-width=\"3.2\"/>\n",
       "<circle clip-path=\"url(#clip062)\" cx=\"1248.57\" cy=\"699.656\" r=\"14\" fill=\"#009af9\" fill-rule=\"evenodd\" fill-opacity=\"1\" stroke=\"#000000\" stroke-opacity=\"1\" stroke-width=\"3.2\"/>\n",
       "<circle clip-path=\"url(#clip062)\" cx=\"1248.57\" cy=\"699.656\" r=\"14\" fill=\"#009af9\" fill-rule=\"evenodd\" fill-opacity=\"1\" stroke=\"#000000\" stroke-opacity=\"1\" stroke-width=\"3.2\"/>\n",
       "<circle clip-path=\"url(#clip062)\" cx=\"1317.2\" cy=\"842.996\" r=\"14\" fill=\"#009af9\" fill-rule=\"evenodd\" fill-opacity=\"1\" stroke=\"#000000\" stroke-opacity=\"1\" stroke-width=\"3.2\"/>\n",
       "<circle clip-path=\"url(#clip062)\" cx=\"1330.93\" cy=\"779.289\" r=\"14\" fill=\"#009af9\" fill-rule=\"evenodd\" fill-opacity=\"1\" stroke=\"#000000\" stroke-opacity=\"1\" stroke-width=\"3.2\"/>\n",
       "<circle clip-path=\"url(#clip062)\" cx=\"1372.11\" cy=\"898.739\" r=\"14\" fill=\"#009af9\" fill-rule=\"evenodd\" fill-opacity=\"1\" stroke=\"#000000\" stroke-opacity=\"1\" stroke-width=\"3.2\"/>\n",
       "<circle clip-path=\"url(#clip062)\" cx=\"1385.83\" cy=\"723.546\" r=\"14\" fill=\"#009af9\" fill-rule=\"evenodd\" fill-opacity=\"1\" stroke=\"#000000\" stroke-opacity=\"1\" stroke-width=\"3.2\"/>\n",
       "<circle clip-path=\"url(#clip062)\" cx=\"1399.56\" cy=\"827.069\" r=\"14\" fill=\"#009af9\" fill-rule=\"evenodd\" fill-opacity=\"1\" stroke=\"#000000\" stroke-opacity=\"1\" stroke-width=\"3.2\"/>\n",
       "<circle clip-path=\"url(#clip062)\" cx=\"1440.74\" cy=\"731.509\" r=\"14\" fill=\"#009af9\" fill-rule=\"evenodd\" fill-opacity=\"1\" stroke=\"#000000\" stroke-opacity=\"1\" stroke-width=\"3.2\"/>\n",
       "<circle clip-path=\"url(#clip062)\" cx=\"1454.47\" cy=\"699.656\" r=\"14\" fill=\"#009af9\" fill-rule=\"evenodd\" fill-opacity=\"1\" stroke=\"#000000\" stroke-opacity=\"1\" stroke-width=\"3.2\"/>\n",
       "<circle clip-path=\"url(#clip062)\" cx=\"1440.74\" cy=\"659.839\" r=\"14\" fill=\"#009af9\" fill-rule=\"evenodd\" fill-opacity=\"1\" stroke=\"#000000\" stroke-opacity=\"1\" stroke-width=\"3.2\"/>\n",
       "<circle clip-path=\"url(#clip062)\" cx=\"1468.2\" cy=\"667.802\" r=\"14\" fill=\"#009af9\" fill-rule=\"evenodd\" fill-opacity=\"1\" stroke=\"#000000\" stroke-opacity=\"1\" stroke-width=\"3.2\"/>\n",
       "<circle clip-path=\"url(#clip062)\" cx=\"1564.28\" cy=\"677.358\" r=\"14\" fill=\"#009af9\" fill-rule=\"evenodd\" fill-opacity=\"1\" stroke=\"#000000\" stroke-opacity=\"1\" stroke-width=\"3.2\"/>\n",
       "<circle clip-path=\"url(#clip062)\" cx=\"1578.01\" cy=\"460.755\" r=\"14\" fill=\"#009af9\" fill-rule=\"evenodd\" fill-opacity=\"1\" stroke=\"#000000\" stroke-opacity=\"1\" stroke-width=\"3.2\"/>\n",
       "<circle clip-path=\"url(#clip062)\" cx=\"1674.1\" cy=\"221.854\" r=\"14\" fill=\"#009af9\" fill-rule=\"evenodd\" fill-opacity=\"1\" stroke=\"#000000\" stroke-opacity=\"1\" stroke-width=\"3.2\"/>\n",
       "<circle clip-path=\"url(#clip062)\" cx=\"1880\" cy=\"349.268\" r=\"14\" fill=\"#009af9\" fill-rule=\"evenodd\" fill-opacity=\"1\" stroke=\"#000000\" stroke-opacity=\"1\" stroke-width=\"3.2\"/>\n",
       "<circle clip-path=\"url(#clip062)\" cx=\"1880\" cy=\"293.525\" r=\"14\" fill=\"#009af9\" fill-rule=\"evenodd\" fill-opacity=\"1\" stroke=\"#000000\" stroke-opacity=\"1\" stroke-width=\"3.2\"/>\n",
       "<circle clip-path=\"url(#clip062)\" cx=\"2044.72\" cy=\"341.305\" r=\"14\" fill=\"#009af9\" fill-rule=\"evenodd\" fill-opacity=\"1\" stroke=\"#000000\" stroke-opacity=\"1\" stroke-width=\"3.2\"/>\n",
       "<circle clip-path=\"url(#clip062)\" cx=\"2209.45\" cy=\"261.671\" r=\"14\" fill=\"#009af9\" fill-rule=\"evenodd\" fill-opacity=\"1\" stroke=\"#000000\" stroke-opacity=\"1\" stroke-width=\"3.2\"/>\n",
       "<circle clip-path=\"url(#clip062)\" cx=\"2291.81\" cy=\"301.488\" r=\"14\" fill=\"#009af9\" fill-rule=\"evenodd\" fill-opacity=\"1\" stroke=\"#000000\" stroke-opacity=\"1\" stroke-width=\"3.2\"/>\n",
       "<polyline clip-path=\"url(#clip062)\" style=\"stroke:#ff0000; stroke-width:8; stroke-opacity:1; fill:none\" points=\"\n",
       "  260.231,1447.87 280.071,1435.32 463.52,1319.21 573.766,1249.43 666.977,1190.44 768.231,1126.35 861.577,1067.27 961.655,1003.93 1077.6,930.541 1180.65,865.323 \n",
       "  1271.01,808.133 1369.52,745.781 1468.62,683.058 1578.19,613.709 1682.44,547.726 1790.84,479.119 1882.09,421.366 1993.49,350.857 2098.22,284.576 2265.99,178.389 \n",
       "  2291.81,162.047 \n",
       "  \"/>\n",
       "</svg>\n"
      ]
     },
     "execution_count": 59,
     "metadata": {},
     "output_type": "execute_result"
    }
   ],
   "source": [
    "x = [23.2, 24, 23.9, 26.3, 26.5, 26.8, 26.8, 27.6, 27.6, 28.5, 28.4, 28.7, 29.1, 29.5, 29.4, 29.4, 30.4, 30.4, 30.9, 31, 31.3, 31.4, 31.5, 31.8, 31.9, 31.8, 32, 32.7, 32.8, 33.5, 35, 35, 36.2, 37.4, 38]\n",
    "y = [242, 290, 340, 363, 430, 450, 500, 390, 450, 500, 475, 500, 500, 340, 600, 600, 700, 700, 610, 650, 575, 685, 620, 680, 700, 725, 720, 714, 850, 1000, 920, 955, 925, 975, 950]\n",
    "\n",
    "a = regressão_coeficientes_lineares(x, y, grau) # recebe os coeficientes\n",
    "println(a)  # printa os coeficientes\n",
    "\n",
    "# Plota os pontos junto com a curva que conseguimos que minimiza a soma dos quadrados das distâncias\n",
    "scatter(x,y,leg=false)\n",
    "plot!(x -> a[1] + a[2] * x, extrema(x)..., c=:red, lw=2)\n",
    "title!(\"Mínimos Quadrados\")"
   ]
  },
  {
   "cell_type": "code",
   "execution_count": 60,
   "metadata": {},
   "outputs": [
    {
     "name": "stdout",
     "output_type": "stream",
     "text": [
      "[0.0; 1.0]\n"
     ]
    },
    {
     "data": {
      "image/svg+xml": [
       "<?xml version=\"1.0\" encoding=\"utf-8\"?>\n",
       "<svg xmlns=\"http://www.w3.org/2000/svg\" xmlns:xlink=\"http://www.w3.org/1999/xlink\" width=\"600\" height=\"400\" viewBox=\"0 0 2400 1600\">\n",
       "<defs>\n",
       "  <clipPath id=\"clip100\">\n",
       "    <rect x=\"0\" y=\"0\" width=\"2400\" height=\"1600\"/>\n",
       "  </clipPath>\n",
       "</defs>\n",
       "<path clip-path=\"url(#clip100)\" d=\"\n",
       "M0 1600 L2400 1600 L2400 0 L0 0  Z\n",
       "  \" fill=\"#ffffff\" fill-rule=\"evenodd\" fill-opacity=\"1\"/>\n",
       "<defs>\n",
       "  <clipPath id=\"clip101\">\n",
       "    <rect x=\"480\" y=\"0\" width=\"1681\" height=\"1600\"/>\n",
       "  </clipPath>\n",
       "</defs>\n",
       "<path clip-path=\"url(#clip100)\" d=\"\n",
       "M199.283 1486.45 L2352.76 1486.45 L2352.76 123.472 L199.283 123.472  Z\n",
       "  \" fill=\"#ffffff\" fill-rule=\"evenodd\" fill-opacity=\"1\"/>\n",
       "<defs>\n",
       "  <clipPath id=\"clip102\">\n",
       "    <rect x=\"199\" y=\"123\" width=\"2154\" height=\"1364\"/>\n",
       "  </clipPath>\n",
       "</defs>\n",
       "<polyline clip-path=\"url(#clip102)\" style=\"stroke:#000000; stroke-width:2; stroke-opacity:0.1; fill:none\" points=\"\n",
       "  258.197,1486.45 258.197,123.472 \n",
       "  \"/>\n",
       "<polyline clip-path=\"url(#clip102)\" style=\"stroke:#000000; stroke-width:2; stroke-opacity:0.1; fill:none\" points=\"\n",
       "  766.6,1486.45 766.6,123.472 \n",
       "  \"/>\n",
       "<polyline clip-path=\"url(#clip102)\" style=\"stroke:#000000; stroke-width:2; stroke-opacity:0.1; fill:none\" points=\"\n",
       "  1275,1486.45 1275,123.472 \n",
       "  \"/>\n",
       "<polyline clip-path=\"url(#clip102)\" style=\"stroke:#000000; stroke-width:2; stroke-opacity:0.1; fill:none\" points=\"\n",
       "  1783.41,1486.45 1783.41,123.472 \n",
       "  \"/>\n",
       "<polyline clip-path=\"url(#clip102)\" style=\"stroke:#000000; stroke-width:2; stroke-opacity:0.1; fill:none\" points=\"\n",
       "  2291.81,1486.45 2291.81,123.472 \n",
       "  \"/>\n",
       "<polyline clip-path=\"url(#clip100)\" style=\"stroke:#000000; stroke-width:4; stroke-opacity:1; fill:none\" points=\"\n",
       "  199.283,1486.45 2352.76,1486.45 \n",
       "  \"/>\n",
       "<polyline clip-path=\"url(#clip100)\" style=\"stroke:#000000; stroke-width:4; stroke-opacity:1; fill:none\" points=\"\n",
       "  258.197,1486.45 258.197,1470.09 \n",
       "  \"/>\n",
       "<polyline clip-path=\"url(#clip100)\" style=\"stroke:#000000; stroke-width:4; stroke-opacity:1; fill:none\" points=\"\n",
       "  766.6,1486.45 766.6,1470.09 \n",
       "  \"/>\n",
       "<polyline clip-path=\"url(#clip100)\" style=\"stroke:#000000; stroke-width:4; stroke-opacity:1; fill:none\" points=\"\n",
       "  1275,1486.45 1275,1470.09 \n",
       "  \"/>\n",
       "<polyline clip-path=\"url(#clip100)\" style=\"stroke:#000000; stroke-width:4; stroke-opacity:1; fill:none\" points=\"\n",
       "  1783.41,1486.45 1783.41,1470.09 \n",
       "  \"/>\n",
       "<polyline clip-path=\"url(#clip100)\" style=\"stroke:#000000; stroke-width:4; stroke-opacity:1; fill:none\" points=\"\n",
       "  2291.81,1486.45 2291.81,1470.09 \n",
       "  \"/>\n",
       "<path clip-path=\"url(#clip100)\" d=\"M 0 0 M258.197 1515.64 Q254.586 1515.64 252.757 1519.2 Q250.952 1522.75 250.952 1529.87 Q250.952 1536.98 252.757 1540.55 Q254.586 1544.09 258.197 1544.09 Q261.831 1544.09 263.637 1540.55 Q265.465 1536.98 265.465 1529.87 Q265.465 1522.75 263.637 1519.2 Q261.831 1515.64 258.197 1515.64 M258.197 1511.93 Q264.007 1511.93 267.063 1516.54 Q270.141 1521.12 270.141 1529.87 Q270.141 1538.6 267.063 1543.21 Q264.007 1547.79 258.197 1547.79 Q252.387 1547.79 249.308 1543.21 Q246.253 1538.6 246.253 1529.87 Q246.253 1521.12 249.308 1516.54 Q252.387 1511.93 258.197 1511.93 Z\" fill=\"#000000\" fill-rule=\"evenodd\" fill-opacity=\"1\" /><path clip-path=\"url(#clip100)\" d=\"M 0 0 M730.292 1543.18 L746.612 1543.18 L746.612 1547.12 L724.667 1547.12 L724.667 1543.18 Q727.329 1540.43 731.913 1535.8 Q736.519 1531.15 737.7 1529.81 Q739.945 1527.28 740.825 1525.55 Q741.727 1523.79 741.727 1522.1 Q741.727 1519.34 739.783 1517.61 Q737.862 1515.87 734.76 1515.87 Q732.561 1515.87 730.107 1516.63 Q727.676 1517.4 724.899 1518.95 L724.899 1514.23 Q727.723 1513.09 730.176 1512.51 Q732.63 1511.93 734.667 1511.93 Q740.037 1511.93 743.232 1514.62 Q746.426 1517.31 746.426 1521.8 Q746.426 1523.93 745.616 1525.85 Q744.829 1527.74 742.723 1530.34 Q742.144 1531.01 739.042 1534.23 Q735.94 1537.42 730.292 1543.18 Z\" fill=\"#000000\" fill-rule=\"evenodd\" fill-opacity=\"1\" /><path clip-path=\"url(#clip100)\" d=\"M 0 0 M756.473 1512.56 L774.829 1512.56 L774.829 1516.5 L760.755 1516.5 L760.755 1524.97 Q761.773 1524.62 762.792 1524.46 Q763.81 1524.27 764.829 1524.27 Q770.616 1524.27 773.996 1527.44 Q777.375 1530.62 777.375 1536.03 Q777.375 1541.61 773.903 1544.71 Q770.431 1547.79 764.111 1547.79 Q761.936 1547.79 759.667 1547.42 Q757.422 1547.05 755.014 1546.31 L755.014 1541.61 Q757.098 1542.74 759.32 1543.3 Q761.542 1543.86 764.019 1543.86 Q768.023 1543.86 770.361 1541.75 Q772.699 1539.64 772.699 1536.03 Q772.699 1532.42 770.361 1530.31 Q768.023 1528.21 764.019 1528.21 Q762.144 1528.21 760.269 1528.62 Q758.417 1529.04 756.473 1529.92 L756.473 1512.56 Z\" fill=\"#000000\" fill-rule=\"evenodd\" fill-opacity=\"1\" /><path clip-path=\"url(#clip100)\" d=\"M 0 0 M796.588 1515.64 Q792.977 1515.64 791.148 1519.2 Q789.343 1522.75 789.343 1529.87 Q789.343 1536.98 791.148 1540.55 Q792.977 1544.09 796.588 1544.09 Q800.222 1544.09 802.028 1540.55 Q803.857 1536.98 803.857 1529.87 Q803.857 1522.75 802.028 1519.2 Q800.222 1515.64 796.588 1515.64 M796.588 1511.93 Q802.398 1511.93 805.454 1516.54 Q808.532 1521.12 808.532 1529.87 Q808.532 1538.6 805.454 1543.21 Q802.398 1547.79 796.588 1547.79 Q790.778 1547.79 787.699 1543.21 Q784.644 1538.6 784.644 1529.87 Q784.644 1521.12 787.699 1516.54 Q790.778 1511.93 796.588 1511.93 Z\" fill=\"#000000\" fill-rule=\"evenodd\" fill-opacity=\"1\" /><path clip-path=\"url(#clip100)\" d=\"M 0 0 M1234.62 1512.56 L1252.98 1512.56 L1252.98 1516.5 L1238.9 1516.5 L1238.9 1524.97 Q1239.92 1524.62 1240.94 1524.46 Q1241.96 1524.27 1242.98 1524.27 Q1248.76 1524.27 1252.14 1527.44 Q1255.52 1530.62 1255.52 1536.03 Q1255.52 1541.61 1252.05 1544.71 Q1248.58 1547.79 1242.26 1547.79 Q1240.08 1547.79 1237.82 1547.42 Q1235.57 1547.05 1233.16 1546.31 L1233.16 1541.61 Q1235.25 1542.74 1237.47 1543.3 Q1239.69 1543.86 1242.17 1543.86 Q1246.17 1543.86 1248.51 1541.75 Q1250.85 1539.64 1250.85 1536.03 Q1250.85 1532.42 1248.51 1530.31 Q1246.17 1528.21 1242.17 1528.21 Q1240.29 1528.21 1238.42 1528.62 Q1236.57 1529.04 1234.62 1529.92 L1234.62 1512.56 Z\" fill=\"#000000\" fill-rule=\"evenodd\" fill-opacity=\"1\" /><path clip-path=\"url(#clip100)\" d=\"M 0 0 M1274.74 1515.64 Q1271.13 1515.64 1269.3 1519.2 Q1267.49 1522.75 1267.49 1529.87 Q1267.49 1536.98 1269.3 1540.55 Q1271.13 1544.09 1274.74 1544.09 Q1278.37 1544.09 1280.18 1540.55 Q1282.01 1536.98 1282.01 1529.87 Q1282.01 1522.75 1280.18 1519.2 Q1278.37 1515.64 1274.74 1515.64 M1274.74 1511.93 Q1280.55 1511.93 1283.6 1516.54 Q1286.68 1521.12 1286.68 1529.87 Q1286.68 1538.6 1283.6 1543.21 Q1280.55 1547.79 1274.74 1547.79 Q1268.93 1547.79 1265.85 1543.21 Q1262.79 1538.6 1262.79 1529.87 Q1262.79 1521.12 1265.85 1516.54 Q1268.93 1511.93 1274.74 1511.93 Z\" fill=\"#000000\" fill-rule=\"evenodd\" fill-opacity=\"1\" /><path clip-path=\"url(#clip100)\" d=\"M 0 0 M1304.9 1515.64 Q1301.29 1515.64 1299.46 1519.2 Q1297.65 1522.75 1297.65 1529.87 Q1297.65 1536.98 1299.46 1540.55 Q1301.29 1544.09 1304.9 1544.09 Q1308.53 1544.09 1310.34 1540.55 Q1312.17 1536.98 1312.17 1529.87 Q1312.17 1522.75 1310.34 1519.2 Q1308.53 1515.64 1304.9 1515.64 M1304.9 1511.93 Q1310.71 1511.93 1313.76 1516.54 Q1316.84 1521.12 1316.84 1529.87 Q1316.84 1538.6 1313.76 1543.21 Q1310.71 1547.79 1304.9 1547.79 Q1299.09 1547.79 1296.01 1543.21 Q1292.95 1538.6 1292.95 1529.87 Q1292.95 1521.12 1296.01 1516.54 Q1299.09 1511.93 1304.9 1511.93 Z\" fill=\"#000000\" fill-rule=\"evenodd\" fill-opacity=\"1\" /><path clip-path=\"url(#clip100)\" d=\"M 0 0 M1741.68 1512.56 L1763.9 1512.56 L1763.9 1514.55 L1751.36 1547.12 L1746.47 1547.12 L1758.28 1516.5 L1741.68 1516.5 L1741.68 1512.56 Z\" fill=\"#000000\" fill-rule=\"evenodd\" fill-opacity=\"1\" /><path clip-path=\"url(#clip100)\" d=\"M 0 0 M1773.07 1512.56 L1791.43 1512.56 L1791.43 1516.5 L1777.35 1516.5 L1777.35 1524.97 Q1778.37 1524.62 1779.39 1524.46 Q1780.41 1524.27 1781.43 1524.27 Q1787.21 1524.27 1790.59 1527.44 Q1793.97 1530.62 1793.97 1536.03 Q1793.97 1541.61 1790.5 1544.71 Q1787.03 1547.79 1780.71 1547.79 Q1778.53 1547.79 1776.26 1547.42 Q1774.02 1547.05 1771.61 1546.31 L1771.61 1541.61 Q1773.7 1542.74 1775.92 1543.3 Q1778.14 1543.86 1780.62 1543.86 Q1784.62 1543.86 1786.96 1541.75 Q1789.3 1539.64 1789.3 1536.03 Q1789.3 1532.42 1786.96 1530.31 Q1784.62 1528.21 1780.62 1528.21 Q1778.74 1528.21 1776.87 1528.62 Q1775.01 1529.04 1773.07 1529.92 L1773.07 1512.56 Z\" fill=\"#000000\" fill-rule=\"evenodd\" fill-opacity=\"1\" /><path clip-path=\"url(#clip100)\" d=\"M 0 0 M1813.19 1515.64 Q1809.57 1515.64 1807.75 1519.2 Q1805.94 1522.75 1805.94 1529.87 Q1805.94 1536.98 1807.75 1540.55 Q1809.57 1544.09 1813.19 1544.09 Q1816.82 1544.09 1818.63 1540.55 Q1820.45 1536.98 1820.45 1529.87 Q1820.45 1522.75 1818.63 1519.2 Q1816.82 1515.64 1813.19 1515.64 M1813.19 1511.93 Q1819 1511.93 1822.05 1516.54 Q1825.13 1521.12 1825.13 1529.87 Q1825.13 1538.6 1822.05 1543.21 Q1819 1547.79 1813.19 1547.79 Q1807.38 1547.79 1804.3 1543.21 Q1801.24 1538.6 1801.24 1529.87 Q1801.24 1521.12 1804.3 1516.54 Q1807.38 1511.93 1813.19 1511.93 Z\" fill=\"#000000\" fill-rule=\"evenodd\" fill-opacity=\"1\" /><path clip-path=\"url(#clip100)\" d=\"M 0 0 M2236.33 1543.18 L2243.97 1543.18 L2243.97 1516.82 L2235.66 1518.49 L2235.66 1514.23 L2243.93 1512.56 L2248.6 1512.56 L2248.6 1543.18 L2256.24 1543.18 L2256.24 1547.12 L2236.33 1547.12 L2236.33 1543.18 Z\" fill=\"#000000\" fill-rule=\"evenodd\" fill-opacity=\"1\" /><path clip-path=\"url(#clip100)\" d=\"M 0 0 M2275.69 1515.64 Q2272.07 1515.64 2270.25 1519.2 Q2268.44 1522.75 2268.44 1529.87 Q2268.44 1536.98 2270.25 1540.55 Q2272.07 1544.09 2275.69 1544.09 Q2279.32 1544.09 2281.13 1540.55 Q2282.95 1536.98 2282.95 1529.87 Q2282.95 1522.75 2281.13 1519.2 Q2279.32 1515.64 2275.69 1515.64 M2275.69 1511.93 Q2281.5 1511.93 2284.55 1516.54 Q2287.63 1521.12 2287.63 1529.87 Q2287.63 1538.6 2284.55 1543.21 Q2281.5 1547.79 2275.69 1547.79 Q2269.88 1547.79 2266.8 1543.21 Q2263.74 1538.6 2263.74 1529.87 Q2263.74 1521.12 2266.8 1516.54 Q2269.88 1511.93 2275.69 1511.93 Z\" fill=\"#000000\" fill-rule=\"evenodd\" fill-opacity=\"1\" /><path clip-path=\"url(#clip100)\" d=\"M 0 0 M2305.85 1515.64 Q2302.24 1515.64 2300.41 1519.2 Q2298.6 1522.75 2298.6 1529.87 Q2298.6 1536.98 2300.41 1540.55 Q2302.24 1544.09 2305.85 1544.09 Q2309.48 1544.09 2311.29 1540.55 Q2313.12 1536.98 2313.12 1529.87 Q2313.12 1522.75 2311.29 1519.2 Q2309.48 1515.64 2305.85 1515.64 M2305.85 1511.93 Q2311.66 1511.93 2314.71 1516.54 Q2317.79 1521.12 2317.79 1529.87 Q2317.79 1538.6 2314.71 1543.21 Q2311.66 1547.79 2305.85 1547.79 Q2300.04 1547.79 2296.96 1543.21 Q2293.9 1538.6 2293.9 1529.87 Q2293.9 1521.12 2296.96 1516.54 Q2300.04 1511.93 2305.85 1511.93 Z\" fill=\"#000000\" fill-rule=\"evenodd\" fill-opacity=\"1\" /><path clip-path=\"url(#clip100)\" d=\"M 0 0 M2336.01 1515.64 Q2332.4 1515.64 2330.57 1519.2 Q2328.76 1522.75 2328.76 1529.87 Q2328.76 1536.98 2330.57 1540.55 Q2332.4 1544.09 2336.01 1544.09 Q2339.64 1544.09 2341.45 1540.55 Q2343.28 1536.98 2343.28 1529.87 Q2343.28 1522.75 2341.45 1519.2 Q2339.64 1515.64 2336.01 1515.64 M2336.01 1511.93 Q2341.82 1511.93 2344.88 1516.54 Q2347.95 1521.12 2347.95 1529.87 Q2347.95 1538.6 2344.88 1543.21 Q2341.82 1547.79 2336.01 1547.79 Q2330.2 1547.79 2327.12 1543.21 Q2324.07 1538.6 2324.07 1529.87 Q2324.07 1521.12 2327.12 1516.54 Q2330.2 1511.93 2336.01 1511.93 Z\" fill=\"#000000\" fill-rule=\"evenodd\" fill-opacity=\"1\" /><polyline clip-path=\"url(#clip102)\" style=\"stroke:#000000; stroke-width:2; stroke-opacity:0.1; fill:none\" points=\"\n",
       "  199.283,1449.16 2352.76,1449.16 \n",
       "  \"/>\n",
       "<polyline clip-path=\"url(#clip102)\" style=\"stroke:#000000; stroke-width:2; stroke-opacity:0.1; fill:none\" points=\"\n",
       "  199.283,1127.38 2352.76,1127.38 \n",
       "  \"/>\n",
       "<polyline clip-path=\"url(#clip102)\" style=\"stroke:#000000; stroke-width:2; stroke-opacity:0.1; fill:none\" points=\"\n",
       "  199.283,805.604 2352.76,805.604 \n",
       "  \"/>\n",
       "<polyline clip-path=\"url(#clip102)\" style=\"stroke:#000000; stroke-width:2; stroke-opacity:0.1; fill:none\" points=\"\n",
       "  199.283,483.825 2352.76,483.825 \n",
       "  \"/>\n",
       "<polyline clip-path=\"url(#clip102)\" style=\"stroke:#000000; stroke-width:2; stroke-opacity:0.1; fill:none\" points=\"\n",
       "  199.283,162.047 2352.76,162.047 \n",
       "  \"/>\n",
       "<polyline clip-path=\"url(#clip100)\" style=\"stroke:#000000; stroke-width:4; stroke-opacity:1; fill:none\" points=\"\n",
       "  199.283,1486.45 199.283,123.472 \n",
       "  \"/>\n",
       "<polyline clip-path=\"url(#clip100)\" style=\"stroke:#000000; stroke-width:4; stroke-opacity:1; fill:none\" points=\"\n",
       "  199.283,1449.16 225.125,1449.16 \n",
       "  \"/>\n",
       "<polyline clip-path=\"url(#clip100)\" style=\"stroke:#000000; stroke-width:4; stroke-opacity:1; fill:none\" points=\"\n",
       "  199.283,1127.38 225.125,1127.38 \n",
       "  \"/>\n",
       "<polyline clip-path=\"url(#clip100)\" style=\"stroke:#000000; stroke-width:4; stroke-opacity:1; fill:none\" points=\"\n",
       "  199.283,805.604 225.125,805.604 \n",
       "  \"/>\n",
       "<polyline clip-path=\"url(#clip100)\" style=\"stroke:#000000; stroke-width:4; stroke-opacity:1; fill:none\" points=\"\n",
       "  199.283,483.825 225.125,483.825 \n",
       "  \"/>\n",
       "<polyline clip-path=\"url(#clip100)\" style=\"stroke:#000000; stroke-width:4; stroke-opacity:1; fill:none\" points=\"\n",
       "  199.283,162.047 225.125,162.047 \n",
       "  \"/>\n",
       "<path clip-path=\"url(#clip100)\" d=\"M 0 0 M151.339 1434.96 Q147.728 1434.96 145.899 1438.52 Q144.093 1442.07 144.093 1449.19 Q144.093 1456.3 145.899 1459.87 Q147.728 1463.41 151.339 1463.41 Q154.973 1463.41 156.779 1459.87 Q158.607 1456.3 158.607 1449.19 Q158.607 1442.07 156.779 1438.52 Q154.973 1434.96 151.339 1434.96 M151.339 1431.26 Q157.149 1431.26 160.205 1435.86 Q163.283 1440.44 163.283 1449.19 Q163.283 1457.92 160.205 1462.53 Q157.149 1467.11 151.339 1467.11 Q145.529 1467.11 142.45 1462.53 Q139.394 1457.92 139.394 1449.19 Q139.394 1440.44 142.45 1435.86 Q145.529 1431.26 151.339 1431.26 Z\" fill=\"#000000\" fill-rule=\"evenodd\" fill-opacity=\"1\" /><path clip-path=\"url(#clip100)\" d=\"M 0 0 M85.0429 1140.73 L101.362 1140.73 L101.362 1144.66 L79.4179 1144.66 L79.4179 1140.73 Q82.0799 1137.97 86.6632 1133.34 Q91.2697 1128.69 92.4502 1127.35 Q94.6956 1124.82 95.5752 1123.09 Q96.478 1121.33 96.478 1119.64 Q96.478 1116.88 94.5336 1115.15 Q92.6123 1113.41 89.5104 1113.41 Q87.3114 1113.41 84.8577 1114.18 Q82.4271 1114.94 79.6494 1116.49 L79.6494 1111.77 Q82.4734 1110.63 84.9271 1110.06 Q87.3808 1109.48 89.4178 1109.48 Q94.7882 1109.48 97.9826 1112.16 Q101.177 1114.85 101.177 1119.34 Q101.177 1121.47 100.367 1123.39 Q99.5798 1125.29 97.4734 1127.88 Q96.8947 1128.55 93.7928 1131.77 Q90.691 1134.96 85.0429 1140.73 Z\" fill=\"#000000\" fill-rule=\"evenodd\" fill-opacity=\"1\" /><path clip-path=\"url(#clip100)\" d=\"M 0 0 M111.223 1110.1 L129.58 1110.1 L129.58 1114.04 L115.506 1114.04 L115.506 1122.51 Q116.524 1122.16 117.543 1122 Q118.561 1121.81 119.58 1121.81 Q125.367 1121.81 128.746 1124.99 Q132.126 1128.16 132.126 1133.57 Q132.126 1139.15 128.654 1142.25 Q125.182 1145.33 118.862 1145.33 Q116.686 1145.33 114.418 1144.96 Q112.172 1144.59 109.765 1143.85 L109.765 1139.15 Q111.848 1140.29 114.07 1140.84 Q116.293 1141.4 118.77 1141.4 Q122.774 1141.4 125.112 1139.29 Q127.45 1137.19 127.45 1133.57 Q127.45 1129.96 125.112 1127.86 Q122.774 1125.75 118.77 1125.75 Q116.895 1125.75 115.02 1126.17 Q113.168 1126.58 111.223 1127.46 L111.223 1110.1 Z\" fill=\"#000000\" fill-rule=\"evenodd\" fill-opacity=\"1\" /><path clip-path=\"url(#clip100)\" d=\"M 0 0 M151.339 1113.18 Q147.728 1113.18 145.899 1116.75 Q144.093 1120.29 144.093 1127.42 Q144.093 1134.52 145.899 1138.09 Q147.728 1141.63 151.339 1141.63 Q154.973 1141.63 156.779 1138.09 Q158.607 1134.52 158.607 1127.42 Q158.607 1120.29 156.779 1116.75 Q154.973 1113.18 151.339 1113.18 M151.339 1109.48 Q157.149 1109.48 160.205 1114.08 Q163.283 1118.67 163.283 1127.42 Q163.283 1136.14 160.205 1140.75 Q157.149 1145.33 151.339 1145.33 Q145.529 1145.33 142.45 1140.75 Q139.394 1136.14 139.394 1127.42 Q139.394 1118.67 142.45 1114.08 Q145.529 1109.48 151.339 1109.48 Z\" fill=\"#000000\" fill-rule=\"evenodd\" fill-opacity=\"1\" /><path clip-path=\"url(#clip100)\" d=\"M 0 0 M81.0614 788.324 L99.4178 788.324 L99.4178 792.259 L85.3438 792.259 L85.3438 800.731 Q86.3623 800.384 87.3808 800.222 Q88.3993 800.036 89.4178 800.036 Q95.2049 800.036 98.5845 803.208 Q101.964 806.379 101.964 811.796 Q101.964 817.374 98.4919 820.476 Q95.0197 823.555 88.7003 823.555 Q86.5243 823.555 84.2558 823.184 Q82.0105 822.814 79.6031 822.073 L79.6031 817.374 Q81.6864 818.509 83.9086 819.064 Q86.1308 819.62 88.6077 819.62 Q92.6123 819.62 94.9502 817.513 Q97.2882 815.407 97.2882 811.796 Q97.2882 808.185 94.9502 806.078 Q92.6123 803.972 88.6077 803.972 Q86.7327 803.972 84.8577 804.388 Q83.0058 804.805 81.0614 805.685 L81.0614 788.324 Z\" fill=\"#000000\" fill-rule=\"evenodd\" fill-opacity=\"1\" /><path clip-path=\"url(#clip100)\" d=\"M 0 0 M121.177 791.402 Q117.566 791.402 115.737 794.967 Q113.932 798.509 113.932 805.638 Q113.932 812.745 115.737 816.31 Q117.566 819.851 121.177 819.851 Q124.811 819.851 126.617 816.31 Q128.445 812.745 128.445 805.638 Q128.445 798.509 126.617 794.967 Q124.811 791.402 121.177 791.402 M121.177 787.699 Q126.987 787.699 130.043 792.305 Q133.121 796.888 133.121 805.638 Q133.121 814.365 130.043 818.972 Q126.987 823.555 121.177 823.555 Q115.367 823.555 112.288 818.972 Q109.233 814.365 109.233 805.638 Q109.233 796.888 112.288 792.305 Q115.367 787.699 121.177 787.699 Z\" fill=\"#000000\" fill-rule=\"evenodd\" fill-opacity=\"1\" /><path clip-path=\"url(#clip100)\" d=\"M 0 0 M151.339 791.402 Q147.728 791.402 145.899 794.967 Q144.093 798.509 144.093 805.638 Q144.093 812.745 145.899 816.31 Q147.728 819.851 151.339 819.851 Q154.973 819.851 156.779 816.31 Q158.607 812.745 158.607 805.638 Q158.607 798.509 156.779 794.967 Q154.973 791.402 151.339 791.402 M151.339 787.699 Q157.149 787.699 160.205 792.305 Q163.283 796.888 163.283 805.638 Q163.283 814.365 160.205 818.972 Q157.149 823.555 151.339 823.555 Q145.529 823.555 142.45 818.972 Q139.394 814.365 139.394 805.638 Q139.394 796.888 142.45 792.305 Q145.529 787.699 151.339 787.699 Z\" fill=\"#000000\" fill-rule=\"evenodd\" fill-opacity=\"1\" /><path clip-path=\"url(#clip100)\" d=\"M 0 0 M79.8346 466.545 L102.057 466.545 L102.057 468.536 L89.5104 501.105 L84.6262 501.105 L96.4317 470.48 L79.8346 470.48 L79.8346 466.545 Z\" fill=\"#000000\" fill-rule=\"evenodd\" fill-opacity=\"1\" /><path clip-path=\"url(#clip100)\" d=\"M 0 0 M111.223 466.545 L129.58 466.545 L129.58 470.48 L115.506 470.48 L115.506 478.953 Q116.524 478.605 117.543 478.443 Q118.561 478.258 119.58 478.258 Q125.367 478.258 128.746 481.429 Q132.126 484.601 132.126 490.017 Q132.126 495.596 128.654 498.698 Q125.182 501.777 118.862 501.777 Q116.686 501.777 114.418 501.406 Q112.172 501.036 109.765 500.295 L109.765 495.596 Q111.848 496.73 114.07 497.286 Q116.293 497.841 118.77 497.841 Q122.774 497.841 125.112 495.735 Q127.45 493.628 127.45 490.017 Q127.45 486.406 125.112 484.3 Q122.774 482.193 118.77 482.193 Q116.895 482.193 115.02 482.61 Q113.168 483.027 111.223 483.906 L111.223 466.545 Z\" fill=\"#000000\" fill-rule=\"evenodd\" fill-opacity=\"1\" /><path clip-path=\"url(#clip100)\" d=\"M 0 0 M151.339 469.624 Q147.728 469.624 145.899 473.189 Q144.093 476.73 144.093 483.86 Q144.093 490.966 145.899 494.531 Q147.728 498.073 151.339 498.073 Q154.973 498.073 156.779 494.531 Q158.607 490.966 158.607 483.86 Q158.607 476.73 156.779 473.189 Q154.973 469.624 151.339 469.624 M151.339 465.92 Q157.149 465.92 160.205 470.527 Q163.283 475.11 163.283 483.86 Q163.283 492.587 160.205 497.193 Q157.149 501.777 151.339 501.777 Q145.529 501.777 142.45 497.193 Q139.394 492.587 139.394 483.86 Q139.394 475.11 142.45 470.527 Q145.529 465.92 151.339 465.92 Z\" fill=\"#000000\" fill-rule=\"evenodd\" fill-opacity=\"1\" /><path clip-path=\"url(#clip100)\" d=\"M 0 0 M51.6634 175.392 L59.3023 175.392 L59.3023 149.026 L50.9921 150.693 L50.9921 146.434 L59.256 144.767 L63.9319 144.767 L63.9319 175.392 L71.5707 175.392 L71.5707 179.327 L51.6634 179.327 L51.6634 175.392 Z\" fill=\"#000000\" fill-rule=\"evenodd\" fill-opacity=\"1\" /><path clip-path=\"url(#clip100)\" d=\"M 0 0 M91.0151 147.846 Q87.404 147.846 85.5753 151.41 Q83.7697 154.952 83.7697 162.082 Q83.7697 169.188 85.5753 172.753 Q87.404 176.295 91.0151 176.295 Q94.6493 176.295 96.4548 172.753 Q98.2835 169.188 98.2835 162.082 Q98.2835 154.952 96.4548 151.41 Q94.6493 147.846 91.0151 147.846 M91.0151 144.142 Q96.8252 144.142 99.8808 148.748 Q102.959 153.332 102.959 162.082 Q102.959 170.808 99.8808 175.415 Q96.8252 179.998 91.0151 179.998 Q85.2049 179.998 82.1262 175.415 Q79.0707 170.808 79.0707 162.082 Q79.0707 153.332 82.1262 148.748 Q85.2049 144.142 91.0151 144.142 Z\" fill=\"#000000\" fill-rule=\"evenodd\" fill-opacity=\"1\" /><path clip-path=\"url(#clip100)\" d=\"M 0 0 M121.177 147.846 Q117.566 147.846 115.737 151.41 Q113.932 154.952 113.932 162.082 Q113.932 169.188 115.737 172.753 Q117.566 176.295 121.177 176.295 Q124.811 176.295 126.617 172.753 Q128.445 169.188 128.445 162.082 Q128.445 154.952 126.617 151.41 Q124.811 147.846 121.177 147.846 M121.177 144.142 Q126.987 144.142 130.043 148.748 Q133.121 153.332 133.121 162.082 Q133.121 170.808 130.043 175.415 Q126.987 179.998 121.177 179.998 Q115.367 179.998 112.288 175.415 Q109.233 170.808 109.233 162.082 Q109.233 153.332 112.288 148.748 Q115.367 144.142 121.177 144.142 Z\" fill=\"#000000\" fill-rule=\"evenodd\" fill-opacity=\"1\" /><path clip-path=\"url(#clip100)\" d=\"M 0 0 M151.339 147.846 Q147.728 147.846 145.899 151.41 Q144.093 154.952 144.093 162.082 Q144.093 169.188 145.899 172.753 Q147.728 176.295 151.339 176.295 Q154.973 176.295 156.779 172.753 Q158.607 169.188 158.607 162.082 Q158.607 154.952 156.779 151.41 Q154.973 147.846 151.339 147.846 M151.339 144.142 Q157.149 144.142 160.205 148.748 Q163.283 153.332 163.283 162.082 Q163.283 170.808 160.205 175.415 Q157.149 179.998 151.339 179.998 Q145.529 179.998 142.45 175.415 Q139.394 170.808 139.394 162.082 Q139.394 153.332 142.45 148.748 Q145.529 144.142 151.339 144.142 Z\" fill=\"#000000\" fill-rule=\"evenodd\" fill-opacity=\"1\" /><path clip-path=\"url(#clip100)\" d=\"M 0 0 M869.916 12.096 L882.11 12.096 L897.544 53.2532 L913.059 12.096 L925.252 12.096 L925.252 72.576 L917.271 72.576 L917.271 19.4686 L901.675 60.9499 L893.452 60.9499 L877.856 19.4686 L877.856 72.576 L869.916 72.576 L869.916 12.096 Z\" fill=\"#000000\" fill-rule=\"evenodd\" fill-opacity=\"1\" /><path clip-path=\"url(#clip100)\" d=\"M 0 0 M950.529 6.22219 L958.591 6.22219 L945.385 21.4536 L939.187 21.4536 L950.529 6.22219 M941.172 27.2059 L948.625 27.2059 L948.625 72.576 L941.172 72.576 L941.172 27.2059 M944.899 26.1121 L944.899 26.1121 Z\" fill=\"#000000\" fill-rule=\"evenodd\" fill-opacity=\"1\" /><path clip-path=\"url(#clip100)\" d=\"M 0 0 M1001.94 45.1919 L1001.94 72.576 L994.482 72.576 L994.482 45.4349 Q994.482 38.994 991.97 35.7938 Q989.459 32.5936 984.435 32.5936 Q978.4 32.5936 974.916 36.4419 Q971.432 40.2903 971.432 46.9338 L971.432 72.576 L963.938 72.576 L963.938 27.2059 L971.432 27.2059 L971.432 34.2544 Q974.106 30.163 977.711 28.1376 Q981.357 26.1121 986.096 26.1121 Q993.915 26.1121 997.925 30.9732 Q1001.94 35.7938 1001.94 45.1919 Z\" fill=\"#000000\" fill-rule=\"evenodd\" fill-opacity=\"1\" /><path clip-path=\"url(#clip100)\" d=\"M 0 0 M1016.8 27.2059 L1024.26 27.2059 L1024.26 72.576 L1016.8 72.576 L1016.8 27.2059 M1016.8 9.54393 L1024.26 9.54393 L1024.26 18.9825 L1016.8 18.9825 L1016.8 9.54393 Z\" fill=\"#000000\" fill-rule=\"evenodd\" fill-opacity=\"1\" /><path clip-path=\"url(#clip100)\" d=\"M 0 0 M1075.18 35.9153 Q1077.97 30.8922 1081.86 28.5022 Q1085.75 26.1121 1091.01 26.1121 Q1098.1 26.1121 1101.95 31.0947 Q1105.8 36.0368 1105.8 45.1919 L1105.8 72.576 L1098.31 72.576 L1098.31 45.4349 Q1098.31 38.913 1096 35.7533 Q1093.69 32.5936 1088.95 32.5936 Q1083.16 32.5936 1079.79 36.4419 Q1076.43 40.2903 1076.43 46.9338 L1076.43 72.576 L1068.94 72.576 L1068.94 45.4349 Q1068.94 38.8725 1066.63 35.7533 Q1064.32 32.5936 1059.5 32.5936 Q1053.79 32.5936 1050.42 36.4824 Q1047.06 40.3308 1047.06 46.9338 L1047.06 72.576 L1039.57 72.576 L1039.57 27.2059 L1047.06 27.2059 L1047.06 34.2544 Q1049.61 30.082 1053.18 28.0971 Q1056.74 26.1121 1061.65 26.1121 Q1066.59 26.1121 1070.03 28.6237 Q1073.51 31.1352 1075.18 35.9153 Z\" fill=\"#000000\" fill-rule=\"evenodd\" fill-opacity=\"1\" /><path clip-path=\"url(#clip100)\" d=\"M 0 0 M1138.25 32.4315 Q1132.25 32.4315 1128.77 37.1306 Q1125.29 41.7891 1125.29 49.9314 Q1125.29 58.0738 1128.73 62.7728 Q1132.21 67.4314 1138.25 67.4314 Q1144.2 67.4314 1147.69 62.7323 Q1151.17 58.0333 1151.17 49.9314 Q1151.17 41.8701 1147.69 37.1711 Q1144.2 32.4315 1138.25 32.4315 M1138.25 26.1121 Q1147.97 26.1121 1153.52 32.4315 Q1159.07 38.7509 1159.07 49.9314 Q1159.07 61.0714 1153.52 67.4314 Q1147.97 73.7508 1138.25 73.7508 Q1128.49 73.7508 1122.94 67.4314 Q1117.43 61.0714 1117.43 49.9314 Q1117.43 38.7509 1122.94 32.4315 Q1128.49 26.1121 1138.25 26.1121 Z\" fill=\"#000000\" fill-rule=\"evenodd\" fill-opacity=\"1\" /><path clip-path=\"url(#clip100)\" d=\"M 0 0 M1200.35 28.5427 L1200.35 35.5912 Q1197.19 33.9709 1193.79 33.1607 Q1190.38 32.3505 1186.74 32.3505 Q1181.19 32.3505 1178.39 34.0519 Q1175.64 35.7533 1175.64 39.156 Q1175.64 41.7486 1177.62 43.2475 Q1179.61 44.7058 1185.6 46.0426 L1188.16 46.6097 Q1196.1 48.3111 1199.42 51.4303 Q1202.78 54.509 1202.78 60.0587 Q1202.78 66.3781 1197.76 70.0644 Q1192.77 73.7508 1184.02 73.7508 Q1180.38 73.7508 1176.41 73.0216 Q1172.48 72.3329 1168.1 70.9151 L1168.1 63.2184 Q1172.24 65.3654 1176.25 66.4591 Q1180.26 67.5124 1184.19 67.5124 Q1189.45 67.5124 1192.29 65.73 Q1195.12 63.9071 1195.12 60.6258 Q1195.12 57.5877 1193.06 55.9673 Q1191.03 54.3469 1184.1 52.8481 L1181.51 52.2405 Q1174.58 50.7821 1171.51 47.7845 Q1168.43 44.7463 1168.43 39.4801 Q1168.43 33.0797 1172.96 29.5959 Q1177.5 26.1121 1185.85 26.1121 Q1189.98 26.1121 1193.62 26.7198 Q1197.27 27.3274 1200.35 28.5427 Z\" fill=\"#000000\" fill-rule=\"evenodd\" fill-opacity=\"1\" /><path clip-path=\"url(#clip100)\" d=\"M 0 0 M1265.89 17.6457 Q1256.98 17.6457 1251.71 24.2892 Q1246.49 30.9327 1246.49 42.3968 Q1246.49 53.8203 1251.71 60.4638 Q1256.98 67.1073 1265.89 67.1073 Q1274.8 67.1073 1279.99 60.4638 Q1285.22 53.8203 1285.22 42.3968 Q1285.22 30.9327 1279.99 24.2892 Q1274.8 17.6457 1265.89 17.6457 M1277.36 71.4823 L1288.13 83.2704 L1278.25 83.2704 L1269.3 73.5887 Q1267.96 73.6697 1267.23 73.7103 Q1266.54 73.7508 1265.89 73.7508 Q1253.13 73.7508 1245.48 65.2439 Q1237.86 56.6965 1237.86 42.3968 Q1237.86 28.0566 1245.48 19.5497 Q1253.13 11.0023 1265.89 11.0023 Q1278.61 11.0023 1286.23 19.5497 Q1293.84 28.0566 1293.84 42.3968 Q1293.84 52.9291 1289.59 60.4233 Q1285.38 67.9175 1277.36 71.4823 Z\" fill=\"#000000\" fill-rule=\"evenodd\" fill-opacity=\"1\" /><path clip-path=\"url(#clip100)\" d=\"M 0 0 M1305.55 54.671 L1305.55 27.2059 L1313 27.2059 L1313 54.3874 Q1313 60.8284 1315.52 64.0691 Q1318.03 67.2693 1323.05 67.2693 Q1329.09 67.2693 1332.57 63.421 Q1336.09 59.5726 1336.09 52.9291 L1336.09 27.2059 L1343.55 27.2059 L1343.55 72.576 L1336.09 72.576 L1336.09 65.6084 Q1333.38 69.7404 1329.78 71.7658 Q1326.21 73.7508 1321.47 73.7508 Q1313.65 73.7508 1309.6 68.8897 Q1305.55 64.0286 1305.55 54.671 M1324.31 26.1121 L1324.31 26.1121 Z\" fill=\"#000000\" fill-rule=\"evenodd\" fill-opacity=\"1\" /><path clip-path=\"url(#clip100)\" d=\"M 0 0 M1379.52 49.7694 Q1370.49 49.7694 1367 51.8354 Q1363.52 53.9013 1363.52 58.8839 Q1363.52 62.8538 1366.11 65.2034 Q1368.74 67.5124 1373.24 67.5124 Q1379.44 67.5124 1383.17 63.1374 Q1386.93 58.7219 1386.93 51.4303 L1386.93 49.7694 L1379.52 49.7694 M1394.39 46.6907 L1394.39 72.576 L1386.93 72.576 L1386.93 65.6895 Q1384.38 69.8214 1380.57 71.8063 Q1376.77 73.7508 1371.26 73.7508 Q1364.29 73.7508 1360.16 69.8619 Q1356.07 65.9325 1356.07 59.3701 Q1356.07 51.7138 1361.17 47.825 Q1366.31 43.9361 1376.48 43.9361 L1386.93 43.9361 L1386.93 43.2069 Q1386.93 38.0623 1383.53 35.2672 Q1380.17 32.4315 1374.05 32.4315 Q1370.16 32.4315 1366.48 33.3632 Q1362.79 34.295 1359.39 36.1584 L1359.39 29.2718 Q1363.48 27.692 1367.33 26.9223 Q1371.18 26.1121 1374.82 26.1121 Q1384.66 26.1121 1389.53 31.2163 Q1394.39 36.3204 1394.39 46.6907 Z\" fill=\"#000000\" fill-rule=\"evenodd\" fill-opacity=\"1\" /><path clip-path=\"url(#clip100)\" d=\"M 0 0 M1439.6 34.0924 L1439.6 9.54393 L1447.05 9.54393 L1447.05 72.576 L1439.6 72.576 L1439.6 65.7705 Q1437.25 69.8214 1433.64 71.8063 Q1430.08 73.7508 1425.05 73.7508 Q1416.83 73.7508 1411.64 67.1883 Q1406.5 60.6258 1406.5 49.9314 Q1406.5 39.2371 1411.64 32.6746 Q1416.83 26.1121 1425.05 26.1121 Q1430.08 26.1121 1433.64 28.0971 Q1437.25 30.0415 1439.6 34.0924 M1414.2 49.9314 Q1414.2 58.1548 1417.56 62.8538 Q1420.96 67.5124 1426.88 67.5124 Q1432.79 67.5124 1436.19 62.8538 Q1439.6 58.1548 1439.6 49.9314 Q1439.6 41.7081 1436.19 37.0496 Q1432.79 32.3505 1426.88 32.3505 Q1420.96 32.3505 1417.56 37.0496 Q1414.2 41.7081 1414.2 49.9314 Z\" fill=\"#000000\" fill-rule=\"evenodd\" fill-opacity=\"1\" /><path clip-path=\"url(#clip100)\" d=\"M 0 0 M1488.69 34.1734 Q1487.44 33.4443 1485.94 33.1202 Q1484.48 32.7556 1482.7 32.7556 Q1476.38 32.7556 1472.97 36.8875 Q1469.61 40.9789 1469.61 48.6757 L1469.61 72.576 L1462.12 72.576 L1462.12 27.2059 L1469.61 27.2059 L1469.61 34.2544 Q1471.96 30.1225 1475.73 28.1376 Q1479.5 26.1121 1484.88 26.1121 Q1485.65 26.1121 1486.59 26.2337 Q1487.52 26.3147 1488.65 26.5172 L1488.69 34.1734 Z\" fill=\"#000000\" fill-rule=\"evenodd\" fill-opacity=\"1\" /><path clip-path=\"url(#clip100)\" d=\"M 0 0 M1517.13 49.7694 Q1508.1 49.7694 1504.61 51.8354 Q1501.13 53.9013 1501.13 58.8839 Q1501.13 62.8538 1503.72 65.2034 Q1506.35 67.5124 1510.85 67.5124 Q1517.05 67.5124 1520.78 63.1374 Q1524.54 58.7219 1524.54 51.4303 L1524.54 49.7694 L1517.13 49.7694 M1532 46.6907 L1532 72.576 L1524.54 72.576 L1524.54 65.6895 Q1521.99 69.8214 1518.18 71.8063 Q1514.37 73.7508 1508.87 73.7508 Q1501.9 73.7508 1497.77 69.8619 Q1493.67 65.9325 1493.67 59.3701 Q1493.67 51.7138 1498.78 47.825 Q1503.92 43.9361 1514.09 43.9361 L1524.54 43.9361 L1524.54 43.2069 Q1524.54 38.0623 1521.14 35.2672 Q1517.78 32.4315 1511.66 32.4315 Q1507.77 32.4315 1504.09 33.3632 Q1500.4 34.295 1497 36.1584 L1497 29.2718 Q1501.09 27.692 1504.94 26.9223 Q1508.78 26.1121 1512.43 26.1121 Q1522.27 26.1121 1527.14 31.2163 Q1532 36.3204 1532 46.6907 Z\" fill=\"#000000\" fill-rule=\"evenodd\" fill-opacity=\"1\" /><path clip-path=\"url(#clip100)\" d=\"M 0 0 M1577.2 34.0924 L1577.2 9.54393 L1584.66 9.54393 L1584.66 72.576 L1577.2 72.576 L1577.2 65.7705 Q1574.85 69.8214 1571.25 71.8063 Q1567.68 73.7508 1562.66 73.7508 Q1554.44 73.7508 1549.25 67.1883 Q1544.11 60.6258 1544.11 49.9314 Q1544.11 39.2371 1549.25 32.6746 Q1554.44 26.1121 1562.66 26.1121 Q1567.68 26.1121 1571.25 28.0971 Q1574.85 30.0415 1577.2 34.0924 M1551.81 49.9314 Q1551.81 58.1548 1555.17 62.8538 Q1558.57 67.5124 1564.48 67.5124 Q1570.4 67.5124 1573.8 62.8538 Q1577.2 58.1548 1577.2 49.9314 Q1577.2 41.7081 1573.8 37.0496 Q1570.4 32.3505 1564.48 32.3505 Q1558.57 32.3505 1555.17 37.0496 Q1551.81 41.7081 1551.81 49.9314 Z\" fill=\"#000000\" fill-rule=\"evenodd\" fill-opacity=\"1\" /><path clip-path=\"url(#clip100)\" d=\"M 0 0 M1617.59 32.4315 Q1611.6 32.4315 1608.11 37.1306 Q1604.63 41.7891 1604.63 49.9314 Q1604.63 58.0738 1608.07 62.7728 Q1611.56 67.4314 1617.59 67.4314 Q1623.55 67.4314 1627.03 62.7323 Q1630.51 58.0333 1630.51 49.9314 Q1630.51 41.8701 1627.03 37.1711 Q1623.55 32.4315 1617.59 32.4315 M1617.59 26.1121 Q1627.31 26.1121 1632.86 32.4315 Q1638.41 38.7509 1638.41 49.9314 Q1638.41 61.0714 1632.86 67.4314 Q1627.31 73.7508 1617.59 73.7508 Q1607.83 73.7508 1602.28 67.4314 Q1596.77 61.0714 1596.77 49.9314 Q1596.77 38.7509 1602.28 32.4315 Q1607.83 26.1121 1617.59 26.1121 Z\" fill=\"#000000\" fill-rule=\"evenodd\" fill-opacity=\"1\" /><path clip-path=\"url(#clip100)\" d=\"M 0 0 M1679.69 28.5427 L1679.69 35.5912 Q1676.53 33.9709 1673.13 33.1607 Q1669.73 32.3505 1666.08 32.3505 Q1660.53 32.3505 1657.74 34.0519 Q1654.98 35.7533 1654.98 39.156 Q1654.98 41.7486 1656.97 43.2475 Q1658.95 44.7058 1664.95 46.0426 L1667.5 46.6097 Q1675.44 48.3111 1678.76 51.4303 Q1682.12 54.509 1682.12 60.0587 Q1682.12 66.3781 1677.1 70.0644 Q1672.12 73.7508 1663.37 73.7508 Q1659.72 73.7508 1655.75 73.0216 Q1651.82 72.3329 1647.45 70.9151 L1647.45 63.2184 Q1651.58 65.3654 1655.59 66.4591 Q1659.6 67.5124 1663.53 67.5124 Q1668.8 67.5124 1671.63 65.73 Q1674.47 63.9071 1674.47 60.6258 Q1674.47 57.5877 1672.4 55.9673 Q1670.38 54.3469 1663.45 52.8481 L1660.86 52.2405 Q1653.93 50.7821 1650.85 47.7845 Q1647.77 44.7463 1647.77 39.4801 Q1647.77 33.0797 1652.31 29.5959 Q1656.85 26.1121 1665.19 26.1121 Q1669.32 26.1121 1672.97 26.7198 Q1676.61 27.3274 1679.69 28.5427 Z\" fill=\"#000000\" fill-rule=\"evenodd\" fill-opacity=\"1\" /><circle clip-path=\"url(#clip102)\" cx=\"260.231\" cy=\"1447.87\" r=\"14\" fill=\"#009af9\" fill-rule=\"evenodd\" fill-opacity=\"1\" stroke=\"#000000\" stroke-opacity=\"1\" stroke-width=\"3.2\"/>\n",
       "<circle clip-path=\"url(#clip102)\" cx=\"262.264\" cy=\"1446.59\" r=\"14\" fill=\"#009af9\" fill-rule=\"evenodd\" fill-opacity=\"1\" stroke=\"#000000\" stroke-opacity=\"1\" stroke-width=\"3.2\"/>\n",
       "<circle clip-path=\"url(#clip102)\" cx=\"264.298\" cy=\"1445.3\" r=\"14\" fill=\"#009af9\" fill-rule=\"evenodd\" fill-opacity=\"1\" stroke=\"#000000\" stroke-opacity=\"1\" stroke-width=\"3.2\"/>\n",
       "<circle clip-path=\"url(#clip102)\" cx=\"266.331\" cy=\"1444.01\" r=\"14\" fill=\"#009af9\" fill-rule=\"evenodd\" fill-opacity=\"1\" stroke=\"#000000\" stroke-opacity=\"1\" stroke-width=\"3.2\"/>\n",
       "<circle clip-path=\"url(#clip102)\" cx=\"268.365\" cy=\"1442.72\" r=\"14\" fill=\"#009af9\" fill-rule=\"evenodd\" fill-opacity=\"1\" stroke=\"#000000\" stroke-opacity=\"1\" stroke-width=\"3.2\"/>\n",
       "<circle clip-path=\"url(#clip102)\" cx=\"270.399\" cy=\"1441.44\" r=\"14\" fill=\"#009af9\" fill-rule=\"evenodd\" fill-opacity=\"1\" stroke=\"#000000\" stroke-opacity=\"1\" stroke-width=\"3.2\"/>\n",
       "<circle clip-path=\"url(#clip102)\" cx=\"272.432\" cy=\"1440.15\" r=\"14\" fill=\"#009af9\" fill-rule=\"evenodd\" fill-opacity=\"1\" stroke=\"#000000\" stroke-opacity=\"1\" stroke-width=\"3.2\"/>\n",
       "<circle clip-path=\"url(#clip102)\" cx=\"274.466\" cy=\"1438.86\" r=\"14\" fill=\"#009af9\" fill-rule=\"evenodd\" fill-opacity=\"1\" stroke=\"#000000\" stroke-opacity=\"1\" stroke-width=\"3.2\"/>\n",
       "<circle clip-path=\"url(#clip102)\" cx=\"276.499\" cy=\"1437.58\" r=\"14\" fill=\"#009af9\" fill-rule=\"evenodd\" fill-opacity=\"1\" stroke=\"#000000\" stroke-opacity=\"1\" stroke-width=\"3.2\"/>\n",
       "<circle clip-path=\"url(#clip102)\" cx=\"278.533\" cy=\"1436.29\" r=\"14\" fill=\"#009af9\" fill-rule=\"evenodd\" fill-opacity=\"1\" stroke=\"#000000\" stroke-opacity=\"1\" stroke-width=\"3.2\"/>\n",
       "<circle clip-path=\"url(#clip102)\" cx=\"280.567\" cy=\"1435\" r=\"14\" fill=\"#009af9\" fill-rule=\"evenodd\" fill-opacity=\"1\" stroke=\"#000000\" stroke-opacity=\"1\" stroke-width=\"3.2\"/>\n",
       "<circle clip-path=\"url(#clip102)\" cx=\"282.6\" cy=\"1433.71\" r=\"14\" fill=\"#009af9\" fill-rule=\"evenodd\" fill-opacity=\"1\" stroke=\"#000000\" stroke-opacity=\"1\" stroke-width=\"3.2\"/>\n",
       "<circle clip-path=\"url(#clip102)\" cx=\"284.634\" cy=\"1432.43\" r=\"14\" fill=\"#009af9\" fill-rule=\"evenodd\" fill-opacity=\"1\" stroke=\"#000000\" stroke-opacity=\"1\" stroke-width=\"3.2\"/>\n",
       "<circle clip-path=\"url(#clip102)\" cx=\"286.667\" cy=\"1431.14\" r=\"14\" fill=\"#009af9\" fill-rule=\"evenodd\" fill-opacity=\"1\" stroke=\"#000000\" stroke-opacity=\"1\" stroke-width=\"3.2\"/>\n",
       "<circle clip-path=\"url(#clip102)\" cx=\"288.701\" cy=\"1429.85\" r=\"14\" fill=\"#009af9\" fill-rule=\"evenodd\" fill-opacity=\"1\" stroke=\"#000000\" stroke-opacity=\"1\" stroke-width=\"3.2\"/>\n",
       "<circle clip-path=\"url(#clip102)\" cx=\"290.735\" cy=\"1428.57\" r=\"14\" fill=\"#009af9\" fill-rule=\"evenodd\" fill-opacity=\"1\" stroke=\"#000000\" stroke-opacity=\"1\" stroke-width=\"3.2\"/>\n",
       "<circle clip-path=\"url(#clip102)\" cx=\"292.768\" cy=\"1427.28\" r=\"14\" fill=\"#009af9\" fill-rule=\"evenodd\" fill-opacity=\"1\" stroke=\"#000000\" stroke-opacity=\"1\" stroke-width=\"3.2\"/>\n",
       "<circle clip-path=\"url(#clip102)\" cx=\"294.802\" cy=\"1425.99\" r=\"14\" fill=\"#009af9\" fill-rule=\"evenodd\" fill-opacity=\"1\" stroke=\"#000000\" stroke-opacity=\"1\" stroke-width=\"3.2\"/>\n",
       "<circle clip-path=\"url(#clip102)\" cx=\"296.836\" cy=\"1424.71\" r=\"14\" fill=\"#009af9\" fill-rule=\"evenodd\" fill-opacity=\"1\" stroke=\"#000000\" stroke-opacity=\"1\" stroke-width=\"3.2\"/>\n",
       "<circle clip-path=\"url(#clip102)\" cx=\"298.869\" cy=\"1423.42\" r=\"14\" fill=\"#009af9\" fill-rule=\"evenodd\" fill-opacity=\"1\" stroke=\"#000000\" stroke-opacity=\"1\" stroke-width=\"3.2\"/>\n",
       "<circle clip-path=\"url(#clip102)\" cx=\"300.903\" cy=\"1422.13\" r=\"14\" fill=\"#009af9\" fill-rule=\"evenodd\" fill-opacity=\"1\" stroke=\"#000000\" stroke-opacity=\"1\" stroke-width=\"3.2\"/>\n",
       "<circle clip-path=\"url(#clip102)\" cx=\"302.936\" cy=\"1420.84\" r=\"14\" fill=\"#009af9\" fill-rule=\"evenodd\" fill-opacity=\"1\" stroke=\"#000000\" stroke-opacity=\"1\" stroke-width=\"3.2\"/>\n",
       "<circle clip-path=\"url(#clip102)\" cx=\"304.97\" cy=\"1419.56\" r=\"14\" fill=\"#009af9\" fill-rule=\"evenodd\" fill-opacity=\"1\" stroke=\"#000000\" stroke-opacity=\"1\" stroke-width=\"3.2\"/>\n",
       "<circle clip-path=\"url(#clip102)\" cx=\"307.004\" cy=\"1418.27\" r=\"14\" fill=\"#009af9\" fill-rule=\"evenodd\" fill-opacity=\"1\" stroke=\"#000000\" stroke-opacity=\"1\" stroke-width=\"3.2\"/>\n",
       "<circle clip-path=\"url(#clip102)\" cx=\"309.037\" cy=\"1416.98\" r=\"14\" fill=\"#009af9\" fill-rule=\"evenodd\" fill-opacity=\"1\" stroke=\"#000000\" stroke-opacity=\"1\" stroke-width=\"3.2\"/>\n",
       "<circle clip-path=\"url(#clip102)\" cx=\"311.071\" cy=\"1415.7\" r=\"14\" fill=\"#009af9\" fill-rule=\"evenodd\" fill-opacity=\"1\" stroke=\"#000000\" stroke-opacity=\"1\" stroke-width=\"3.2\"/>\n",
       "<circle clip-path=\"url(#clip102)\" cx=\"313.104\" cy=\"1414.41\" r=\"14\" fill=\"#009af9\" fill-rule=\"evenodd\" fill-opacity=\"1\" stroke=\"#000000\" stroke-opacity=\"1\" stroke-width=\"3.2\"/>\n",
       "<circle clip-path=\"url(#clip102)\" cx=\"315.138\" cy=\"1413.12\" r=\"14\" fill=\"#009af9\" fill-rule=\"evenodd\" fill-opacity=\"1\" stroke=\"#000000\" stroke-opacity=\"1\" stroke-width=\"3.2\"/>\n",
       "<circle clip-path=\"url(#clip102)\" cx=\"317.172\" cy=\"1411.83\" r=\"14\" fill=\"#009af9\" fill-rule=\"evenodd\" fill-opacity=\"1\" stroke=\"#000000\" stroke-opacity=\"1\" stroke-width=\"3.2\"/>\n",
       "<circle clip-path=\"url(#clip102)\" cx=\"319.205\" cy=\"1410.55\" r=\"14\" fill=\"#009af9\" fill-rule=\"evenodd\" fill-opacity=\"1\" stroke=\"#000000\" stroke-opacity=\"1\" stroke-width=\"3.2\"/>\n",
       "<circle clip-path=\"url(#clip102)\" cx=\"321.239\" cy=\"1409.26\" r=\"14\" fill=\"#009af9\" fill-rule=\"evenodd\" fill-opacity=\"1\" stroke=\"#000000\" stroke-opacity=\"1\" stroke-width=\"3.2\"/>\n",
       "<circle clip-path=\"url(#clip102)\" cx=\"323.272\" cy=\"1407.97\" r=\"14\" fill=\"#009af9\" fill-rule=\"evenodd\" fill-opacity=\"1\" stroke=\"#000000\" stroke-opacity=\"1\" stroke-width=\"3.2\"/>\n",
       "<circle clip-path=\"url(#clip102)\" cx=\"325.306\" cy=\"1406.69\" r=\"14\" fill=\"#009af9\" fill-rule=\"evenodd\" fill-opacity=\"1\" stroke=\"#000000\" stroke-opacity=\"1\" stroke-width=\"3.2\"/>\n",
       "<circle clip-path=\"url(#clip102)\" cx=\"327.34\" cy=\"1405.4\" r=\"14\" fill=\"#009af9\" fill-rule=\"evenodd\" fill-opacity=\"1\" stroke=\"#000000\" stroke-opacity=\"1\" stroke-width=\"3.2\"/>\n",
       "<circle clip-path=\"url(#clip102)\" cx=\"329.373\" cy=\"1404.11\" r=\"14\" fill=\"#009af9\" fill-rule=\"evenodd\" fill-opacity=\"1\" stroke=\"#000000\" stroke-opacity=\"1\" stroke-width=\"3.2\"/>\n",
       "<circle clip-path=\"url(#clip102)\" cx=\"331.407\" cy=\"1402.82\" r=\"14\" fill=\"#009af9\" fill-rule=\"evenodd\" fill-opacity=\"1\" stroke=\"#000000\" stroke-opacity=\"1\" stroke-width=\"3.2\"/>\n",
       "<circle clip-path=\"url(#clip102)\" cx=\"333.441\" cy=\"1401.54\" r=\"14\" fill=\"#009af9\" fill-rule=\"evenodd\" fill-opacity=\"1\" stroke=\"#000000\" stroke-opacity=\"1\" stroke-width=\"3.2\"/>\n",
       "<circle clip-path=\"url(#clip102)\" cx=\"335.474\" cy=\"1400.25\" r=\"14\" fill=\"#009af9\" fill-rule=\"evenodd\" fill-opacity=\"1\" stroke=\"#000000\" stroke-opacity=\"1\" stroke-width=\"3.2\"/>\n",
       "<circle clip-path=\"url(#clip102)\" cx=\"337.508\" cy=\"1398.96\" r=\"14\" fill=\"#009af9\" fill-rule=\"evenodd\" fill-opacity=\"1\" stroke=\"#000000\" stroke-opacity=\"1\" stroke-width=\"3.2\"/>\n",
       "<circle clip-path=\"url(#clip102)\" cx=\"339.541\" cy=\"1397.68\" r=\"14\" fill=\"#009af9\" fill-rule=\"evenodd\" fill-opacity=\"1\" stroke=\"#000000\" stroke-opacity=\"1\" stroke-width=\"3.2\"/>\n",
       "<circle clip-path=\"url(#clip102)\" cx=\"341.575\" cy=\"1396.39\" r=\"14\" fill=\"#009af9\" fill-rule=\"evenodd\" fill-opacity=\"1\" stroke=\"#000000\" stroke-opacity=\"1\" stroke-width=\"3.2\"/>\n",
       "<circle clip-path=\"url(#clip102)\" cx=\"343.609\" cy=\"1395.1\" r=\"14\" fill=\"#009af9\" fill-rule=\"evenodd\" fill-opacity=\"1\" stroke=\"#000000\" stroke-opacity=\"1\" stroke-width=\"3.2\"/>\n",
       "<circle clip-path=\"url(#clip102)\" cx=\"345.642\" cy=\"1393.81\" r=\"14\" fill=\"#009af9\" fill-rule=\"evenodd\" fill-opacity=\"1\" stroke=\"#000000\" stroke-opacity=\"1\" stroke-width=\"3.2\"/>\n",
       "<circle clip-path=\"url(#clip102)\" cx=\"347.676\" cy=\"1392.53\" r=\"14\" fill=\"#009af9\" fill-rule=\"evenodd\" fill-opacity=\"1\" stroke=\"#000000\" stroke-opacity=\"1\" stroke-width=\"3.2\"/>\n",
       "<circle clip-path=\"url(#clip102)\" cx=\"349.709\" cy=\"1391.24\" r=\"14\" fill=\"#009af9\" fill-rule=\"evenodd\" fill-opacity=\"1\" stroke=\"#000000\" stroke-opacity=\"1\" stroke-width=\"3.2\"/>\n",
       "<circle clip-path=\"url(#clip102)\" cx=\"351.743\" cy=\"1389.95\" r=\"14\" fill=\"#009af9\" fill-rule=\"evenodd\" fill-opacity=\"1\" stroke=\"#000000\" stroke-opacity=\"1\" stroke-width=\"3.2\"/>\n",
       "<circle clip-path=\"url(#clip102)\" cx=\"353.777\" cy=\"1388.67\" r=\"14\" fill=\"#009af9\" fill-rule=\"evenodd\" fill-opacity=\"1\" stroke=\"#000000\" stroke-opacity=\"1\" stroke-width=\"3.2\"/>\n",
       "<circle clip-path=\"url(#clip102)\" cx=\"355.81\" cy=\"1387.38\" r=\"14\" fill=\"#009af9\" fill-rule=\"evenodd\" fill-opacity=\"1\" stroke=\"#000000\" stroke-opacity=\"1\" stroke-width=\"3.2\"/>\n",
       "<circle clip-path=\"url(#clip102)\" cx=\"357.844\" cy=\"1386.09\" r=\"14\" fill=\"#009af9\" fill-rule=\"evenodd\" fill-opacity=\"1\" stroke=\"#000000\" stroke-opacity=\"1\" stroke-width=\"3.2\"/>\n",
       "<circle clip-path=\"url(#clip102)\" cx=\"359.878\" cy=\"1384.8\" r=\"14\" fill=\"#009af9\" fill-rule=\"evenodd\" fill-opacity=\"1\" stroke=\"#000000\" stroke-opacity=\"1\" stroke-width=\"3.2\"/>\n",
       "<circle clip-path=\"url(#clip102)\" cx=\"361.911\" cy=\"1383.52\" r=\"14\" fill=\"#009af9\" fill-rule=\"evenodd\" fill-opacity=\"1\" stroke=\"#000000\" stroke-opacity=\"1\" stroke-width=\"3.2\"/>\n",
       "<circle clip-path=\"url(#clip102)\" cx=\"363.945\" cy=\"1382.23\" r=\"14\" fill=\"#009af9\" fill-rule=\"evenodd\" fill-opacity=\"1\" stroke=\"#000000\" stroke-opacity=\"1\" stroke-width=\"3.2\"/>\n",
       "<circle clip-path=\"url(#clip102)\" cx=\"365.978\" cy=\"1380.94\" r=\"14\" fill=\"#009af9\" fill-rule=\"evenodd\" fill-opacity=\"1\" stroke=\"#000000\" stroke-opacity=\"1\" stroke-width=\"3.2\"/>\n",
       "<circle clip-path=\"url(#clip102)\" cx=\"368.012\" cy=\"1379.66\" r=\"14\" fill=\"#009af9\" fill-rule=\"evenodd\" fill-opacity=\"1\" stroke=\"#000000\" stroke-opacity=\"1\" stroke-width=\"3.2\"/>\n",
       "<circle clip-path=\"url(#clip102)\" cx=\"370.046\" cy=\"1378.37\" r=\"14\" fill=\"#009af9\" fill-rule=\"evenodd\" fill-opacity=\"1\" stroke=\"#000000\" stroke-opacity=\"1\" stroke-width=\"3.2\"/>\n",
       "<circle clip-path=\"url(#clip102)\" cx=\"372.079\" cy=\"1377.08\" r=\"14\" fill=\"#009af9\" fill-rule=\"evenodd\" fill-opacity=\"1\" stroke=\"#000000\" stroke-opacity=\"1\" stroke-width=\"3.2\"/>\n",
       "<circle clip-path=\"url(#clip102)\" cx=\"374.113\" cy=\"1375.79\" r=\"14\" fill=\"#009af9\" fill-rule=\"evenodd\" fill-opacity=\"1\" stroke=\"#000000\" stroke-opacity=\"1\" stroke-width=\"3.2\"/>\n",
       "<circle clip-path=\"url(#clip102)\" cx=\"376.146\" cy=\"1374.51\" r=\"14\" fill=\"#009af9\" fill-rule=\"evenodd\" fill-opacity=\"1\" stroke=\"#000000\" stroke-opacity=\"1\" stroke-width=\"3.2\"/>\n",
       "<circle clip-path=\"url(#clip102)\" cx=\"378.18\" cy=\"1373.22\" r=\"14\" fill=\"#009af9\" fill-rule=\"evenodd\" fill-opacity=\"1\" stroke=\"#000000\" stroke-opacity=\"1\" stroke-width=\"3.2\"/>\n",
       "<circle clip-path=\"url(#clip102)\" cx=\"380.214\" cy=\"1371.93\" r=\"14\" fill=\"#009af9\" fill-rule=\"evenodd\" fill-opacity=\"1\" stroke=\"#000000\" stroke-opacity=\"1\" stroke-width=\"3.2\"/>\n",
       "<circle clip-path=\"url(#clip102)\" cx=\"382.247\" cy=\"1370.65\" r=\"14\" fill=\"#009af9\" fill-rule=\"evenodd\" fill-opacity=\"1\" stroke=\"#000000\" stroke-opacity=\"1\" stroke-width=\"3.2\"/>\n",
       "<circle clip-path=\"url(#clip102)\" cx=\"384.281\" cy=\"1369.36\" r=\"14\" fill=\"#009af9\" fill-rule=\"evenodd\" fill-opacity=\"1\" stroke=\"#000000\" stroke-opacity=\"1\" stroke-width=\"3.2\"/>\n",
       "<circle clip-path=\"url(#clip102)\" cx=\"386.314\" cy=\"1368.07\" r=\"14\" fill=\"#009af9\" fill-rule=\"evenodd\" fill-opacity=\"1\" stroke=\"#000000\" stroke-opacity=\"1\" stroke-width=\"3.2\"/>\n",
       "<circle clip-path=\"url(#clip102)\" cx=\"388.348\" cy=\"1366.78\" r=\"14\" fill=\"#009af9\" fill-rule=\"evenodd\" fill-opacity=\"1\" stroke=\"#000000\" stroke-opacity=\"1\" stroke-width=\"3.2\"/>\n",
       "<circle clip-path=\"url(#clip102)\" cx=\"390.382\" cy=\"1365.5\" r=\"14\" fill=\"#009af9\" fill-rule=\"evenodd\" fill-opacity=\"1\" stroke=\"#000000\" stroke-opacity=\"1\" stroke-width=\"3.2\"/>\n",
       "<circle clip-path=\"url(#clip102)\" cx=\"392.415\" cy=\"1364.21\" r=\"14\" fill=\"#009af9\" fill-rule=\"evenodd\" fill-opacity=\"1\" stroke=\"#000000\" stroke-opacity=\"1\" stroke-width=\"3.2\"/>\n",
       "<circle clip-path=\"url(#clip102)\" cx=\"394.449\" cy=\"1362.92\" r=\"14\" fill=\"#009af9\" fill-rule=\"evenodd\" fill-opacity=\"1\" stroke=\"#000000\" stroke-opacity=\"1\" stroke-width=\"3.2\"/>\n",
       "<circle clip-path=\"url(#clip102)\" cx=\"396.483\" cy=\"1361.64\" r=\"14\" fill=\"#009af9\" fill-rule=\"evenodd\" fill-opacity=\"1\" stroke=\"#000000\" stroke-opacity=\"1\" stroke-width=\"3.2\"/>\n",
       "<circle clip-path=\"url(#clip102)\" cx=\"398.516\" cy=\"1360.35\" r=\"14\" fill=\"#009af9\" fill-rule=\"evenodd\" fill-opacity=\"1\" stroke=\"#000000\" stroke-opacity=\"1\" stroke-width=\"3.2\"/>\n",
       "<circle clip-path=\"url(#clip102)\" cx=\"400.55\" cy=\"1359.06\" r=\"14\" fill=\"#009af9\" fill-rule=\"evenodd\" fill-opacity=\"1\" stroke=\"#000000\" stroke-opacity=\"1\" stroke-width=\"3.2\"/>\n",
       "<circle clip-path=\"url(#clip102)\" cx=\"402.583\" cy=\"1357.78\" r=\"14\" fill=\"#009af9\" fill-rule=\"evenodd\" fill-opacity=\"1\" stroke=\"#000000\" stroke-opacity=\"1\" stroke-width=\"3.2\"/>\n",
       "<circle clip-path=\"url(#clip102)\" cx=\"404.617\" cy=\"1356.49\" r=\"14\" fill=\"#009af9\" fill-rule=\"evenodd\" fill-opacity=\"1\" stroke=\"#000000\" stroke-opacity=\"1\" stroke-width=\"3.2\"/>\n",
       "<circle clip-path=\"url(#clip102)\" cx=\"406.651\" cy=\"1355.2\" r=\"14\" fill=\"#009af9\" fill-rule=\"evenodd\" fill-opacity=\"1\" stroke=\"#000000\" stroke-opacity=\"1\" stroke-width=\"3.2\"/>\n",
       "<circle clip-path=\"url(#clip102)\" cx=\"408.684\" cy=\"1353.91\" r=\"14\" fill=\"#009af9\" fill-rule=\"evenodd\" fill-opacity=\"1\" stroke=\"#000000\" stroke-opacity=\"1\" stroke-width=\"3.2\"/>\n",
       "<circle clip-path=\"url(#clip102)\" cx=\"410.718\" cy=\"1352.63\" r=\"14\" fill=\"#009af9\" fill-rule=\"evenodd\" fill-opacity=\"1\" stroke=\"#000000\" stroke-opacity=\"1\" stroke-width=\"3.2\"/>\n",
       "<circle clip-path=\"url(#clip102)\" cx=\"412.751\" cy=\"1351.34\" r=\"14\" fill=\"#009af9\" fill-rule=\"evenodd\" fill-opacity=\"1\" stroke=\"#000000\" stroke-opacity=\"1\" stroke-width=\"3.2\"/>\n",
       "<circle clip-path=\"url(#clip102)\" cx=\"414.785\" cy=\"1350.05\" r=\"14\" fill=\"#009af9\" fill-rule=\"evenodd\" fill-opacity=\"1\" stroke=\"#000000\" stroke-opacity=\"1\" stroke-width=\"3.2\"/>\n",
       "<circle clip-path=\"url(#clip102)\" cx=\"416.819\" cy=\"1348.77\" r=\"14\" fill=\"#009af9\" fill-rule=\"evenodd\" fill-opacity=\"1\" stroke=\"#000000\" stroke-opacity=\"1\" stroke-width=\"3.2\"/>\n",
       "<circle clip-path=\"url(#clip102)\" cx=\"418.852\" cy=\"1347.48\" r=\"14\" fill=\"#009af9\" fill-rule=\"evenodd\" fill-opacity=\"1\" stroke=\"#000000\" stroke-opacity=\"1\" stroke-width=\"3.2\"/>\n",
       "<circle clip-path=\"url(#clip102)\" cx=\"420.886\" cy=\"1346.19\" r=\"14\" fill=\"#009af9\" fill-rule=\"evenodd\" fill-opacity=\"1\" stroke=\"#000000\" stroke-opacity=\"1\" stroke-width=\"3.2\"/>\n",
       "<circle clip-path=\"url(#clip102)\" cx=\"422.919\" cy=\"1344.9\" r=\"14\" fill=\"#009af9\" fill-rule=\"evenodd\" fill-opacity=\"1\" stroke=\"#000000\" stroke-opacity=\"1\" stroke-width=\"3.2\"/>\n",
       "<circle clip-path=\"url(#clip102)\" cx=\"424.953\" cy=\"1343.62\" r=\"14\" fill=\"#009af9\" fill-rule=\"evenodd\" fill-opacity=\"1\" stroke=\"#000000\" stroke-opacity=\"1\" stroke-width=\"3.2\"/>\n",
       "<circle clip-path=\"url(#clip102)\" cx=\"426.987\" cy=\"1342.33\" r=\"14\" fill=\"#009af9\" fill-rule=\"evenodd\" fill-opacity=\"1\" stroke=\"#000000\" stroke-opacity=\"1\" stroke-width=\"3.2\"/>\n",
       "<circle clip-path=\"url(#clip102)\" cx=\"429.02\" cy=\"1341.04\" r=\"14\" fill=\"#009af9\" fill-rule=\"evenodd\" fill-opacity=\"1\" stroke=\"#000000\" stroke-opacity=\"1\" stroke-width=\"3.2\"/>\n",
       "<circle clip-path=\"url(#clip102)\" cx=\"431.054\" cy=\"1339.76\" r=\"14\" fill=\"#009af9\" fill-rule=\"evenodd\" fill-opacity=\"1\" stroke=\"#000000\" stroke-opacity=\"1\" stroke-width=\"3.2\"/>\n",
       "<circle clip-path=\"url(#clip102)\" cx=\"433.088\" cy=\"1338.47\" r=\"14\" fill=\"#009af9\" fill-rule=\"evenodd\" fill-opacity=\"1\" stroke=\"#000000\" stroke-opacity=\"1\" stroke-width=\"3.2\"/>\n",
       "<circle clip-path=\"url(#clip102)\" cx=\"435.121\" cy=\"1337.18\" r=\"14\" fill=\"#009af9\" fill-rule=\"evenodd\" fill-opacity=\"1\" stroke=\"#000000\" stroke-opacity=\"1\" stroke-width=\"3.2\"/>\n",
       "<circle clip-path=\"url(#clip102)\" cx=\"437.155\" cy=\"1335.89\" r=\"14\" fill=\"#009af9\" fill-rule=\"evenodd\" fill-opacity=\"1\" stroke=\"#000000\" stroke-opacity=\"1\" stroke-width=\"3.2\"/>\n",
       "<circle clip-path=\"url(#clip102)\" cx=\"439.188\" cy=\"1334.61\" r=\"14\" fill=\"#009af9\" fill-rule=\"evenodd\" fill-opacity=\"1\" stroke=\"#000000\" stroke-opacity=\"1\" stroke-width=\"3.2\"/>\n",
       "<circle clip-path=\"url(#clip102)\" cx=\"441.222\" cy=\"1333.32\" r=\"14\" fill=\"#009af9\" fill-rule=\"evenodd\" fill-opacity=\"1\" stroke=\"#000000\" stroke-opacity=\"1\" stroke-width=\"3.2\"/>\n",
       "<circle clip-path=\"url(#clip102)\" cx=\"443.256\" cy=\"1332.03\" r=\"14\" fill=\"#009af9\" fill-rule=\"evenodd\" fill-opacity=\"1\" stroke=\"#000000\" stroke-opacity=\"1\" stroke-width=\"3.2\"/>\n",
       "<circle clip-path=\"url(#clip102)\" cx=\"445.289\" cy=\"1330.75\" r=\"14\" fill=\"#009af9\" fill-rule=\"evenodd\" fill-opacity=\"1\" stroke=\"#000000\" stroke-opacity=\"1\" stroke-width=\"3.2\"/>\n",
       "<circle clip-path=\"url(#clip102)\" cx=\"447.323\" cy=\"1329.46\" r=\"14\" fill=\"#009af9\" fill-rule=\"evenodd\" fill-opacity=\"1\" stroke=\"#000000\" stroke-opacity=\"1\" stroke-width=\"3.2\"/>\n",
       "<circle clip-path=\"url(#clip102)\" cx=\"449.356\" cy=\"1328.17\" r=\"14\" fill=\"#009af9\" fill-rule=\"evenodd\" fill-opacity=\"1\" stroke=\"#000000\" stroke-opacity=\"1\" stroke-width=\"3.2\"/>\n",
       "<circle clip-path=\"url(#clip102)\" cx=\"451.39\" cy=\"1326.88\" r=\"14\" fill=\"#009af9\" fill-rule=\"evenodd\" fill-opacity=\"1\" stroke=\"#000000\" stroke-opacity=\"1\" stroke-width=\"3.2\"/>\n",
       "<circle clip-path=\"url(#clip102)\" cx=\"453.424\" cy=\"1325.6\" r=\"14\" fill=\"#009af9\" fill-rule=\"evenodd\" fill-opacity=\"1\" stroke=\"#000000\" stroke-opacity=\"1\" stroke-width=\"3.2\"/>\n",
       "<circle clip-path=\"url(#clip102)\" cx=\"455.457\" cy=\"1324.31\" r=\"14\" fill=\"#009af9\" fill-rule=\"evenodd\" fill-opacity=\"1\" stroke=\"#000000\" stroke-opacity=\"1\" stroke-width=\"3.2\"/>\n",
       "<circle clip-path=\"url(#clip102)\" cx=\"457.491\" cy=\"1323.02\" r=\"14\" fill=\"#009af9\" fill-rule=\"evenodd\" fill-opacity=\"1\" stroke=\"#000000\" stroke-opacity=\"1\" stroke-width=\"3.2\"/>\n",
       "<circle clip-path=\"url(#clip102)\" cx=\"459.524\" cy=\"1321.74\" r=\"14\" fill=\"#009af9\" fill-rule=\"evenodd\" fill-opacity=\"1\" stroke=\"#000000\" stroke-opacity=\"1\" stroke-width=\"3.2\"/>\n",
       "<circle clip-path=\"url(#clip102)\" cx=\"461.558\" cy=\"1320.45\" r=\"14\" fill=\"#009af9\" fill-rule=\"evenodd\" fill-opacity=\"1\" stroke=\"#000000\" stroke-opacity=\"1\" stroke-width=\"3.2\"/>\n",
       "<circle clip-path=\"url(#clip102)\" cx=\"463.592\" cy=\"1319.16\" r=\"14\" fill=\"#009af9\" fill-rule=\"evenodd\" fill-opacity=\"1\" stroke=\"#000000\" stroke-opacity=\"1\" stroke-width=\"3.2\"/>\n",
       "<circle clip-path=\"url(#clip102)\" cx=\"465.625\" cy=\"1317.87\" r=\"14\" fill=\"#009af9\" fill-rule=\"evenodd\" fill-opacity=\"1\" stroke=\"#000000\" stroke-opacity=\"1\" stroke-width=\"3.2\"/>\n",
       "<circle clip-path=\"url(#clip102)\" cx=\"467.659\" cy=\"1316.59\" r=\"14\" fill=\"#009af9\" fill-rule=\"evenodd\" fill-opacity=\"1\" stroke=\"#000000\" stroke-opacity=\"1\" stroke-width=\"3.2\"/>\n",
       "<circle clip-path=\"url(#clip102)\" cx=\"469.693\" cy=\"1315.3\" r=\"14\" fill=\"#009af9\" fill-rule=\"evenodd\" fill-opacity=\"1\" stroke=\"#000000\" stroke-opacity=\"1\" stroke-width=\"3.2\"/>\n",
       "<circle clip-path=\"url(#clip102)\" cx=\"471.726\" cy=\"1314.01\" r=\"14\" fill=\"#009af9\" fill-rule=\"evenodd\" fill-opacity=\"1\" stroke=\"#000000\" stroke-opacity=\"1\" stroke-width=\"3.2\"/>\n",
       "<circle clip-path=\"url(#clip102)\" cx=\"473.76\" cy=\"1312.73\" r=\"14\" fill=\"#009af9\" fill-rule=\"evenodd\" fill-opacity=\"1\" stroke=\"#000000\" stroke-opacity=\"1\" stroke-width=\"3.2\"/>\n",
       "<circle clip-path=\"url(#clip102)\" cx=\"475.793\" cy=\"1311.44\" r=\"14\" fill=\"#009af9\" fill-rule=\"evenodd\" fill-opacity=\"1\" stroke=\"#000000\" stroke-opacity=\"1\" stroke-width=\"3.2\"/>\n",
       "<circle clip-path=\"url(#clip102)\" cx=\"477.827\" cy=\"1310.15\" r=\"14\" fill=\"#009af9\" fill-rule=\"evenodd\" fill-opacity=\"1\" stroke=\"#000000\" stroke-opacity=\"1\" stroke-width=\"3.2\"/>\n",
       "<circle clip-path=\"url(#clip102)\" cx=\"479.861\" cy=\"1308.86\" r=\"14\" fill=\"#009af9\" fill-rule=\"evenodd\" fill-opacity=\"1\" stroke=\"#000000\" stroke-opacity=\"1\" stroke-width=\"3.2\"/>\n",
       "<circle clip-path=\"url(#clip102)\" cx=\"481.894\" cy=\"1307.58\" r=\"14\" fill=\"#009af9\" fill-rule=\"evenodd\" fill-opacity=\"1\" stroke=\"#000000\" stroke-opacity=\"1\" stroke-width=\"3.2\"/>\n",
       "<circle clip-path=\"url(#clip102)\" cx=\"483.928\" cy=\"1306.29\" r=\"14\" fill=\"#009af9\" fill-rule=\"evenodd\" fill-opacity=\"1\" stroke=\"#000000\" stroke-opacity=\"1\" stroke-width=\"3.2\"/>\n",
       "<circle clip-path=\"url(#clip102)\" cx=\"485.961\" cy=\"1305\" r=\"14\" fill=\"#009af9\" fill-rule=\"evenodd\" fill-opacity=\"1\" stroke=\"#000000\" stroke-opacity=\"1\" stroke-width=\"3.2\"/>\n",
       "<circle clip-path=\"url(#clip102)\" cx=\"487.995\" cy=\"1303.72\" r=\"14\" fill=\"#009af9\" fill-rule=\"evenodd\" fill-opacity=\"1\" stroke=\"#000000\" stroke-opacity=\"1\" stroke-width=\"3.2\"/>\n",
       "<circle clip-path=\"url(#clip102)\" cx=\"490.029\" cy=\"1302.43\" r=\"14\" fill=\"#009af9\" fill-rule=\"evenodd\" fill-opacity=\"1\" stroke=\"#000000\" stroke-opacity=\"1\" stroke-width=\"3.2\"/>\n",
       "<circle clip-path=\"url(#clip102)\" cx=\"492.062\" cy=\"1301.14\" r=\"14\" fill=\"#009af9\" fill-rule=\"evenodd\" fill-opacity=\"1\" stroke=\"#000000\" stroke-opacity=\"1\" stroke-width=\"3.2\"/>\n",
       "<circle clip-path=\"url(#clip102)\" cx=\"494.096\" cy=\"1299.86\" r=\"14\" fill=\"#009af9\" fill-rule=\"evenodd\" fill-opacity=\"1\" stroke=\"#000000\" stroke-opacity=\"1\" stroke-width=\"3.2\"/>\n",
       "<circle clip-path=\"url(#clip102)\" cx=\"496.129\" cy=\"1298.57\" r=\"14\" fill=\"#009af9\" fill-rule=\"evenodd\" fill-opacity=\"1\" stroke=\"#000000\" stroke-opacity=\"1\" stroke-width=\"3.2\"/>\n",
       "<circle clip-path=\"url(#clip102)\" cx=\"498.163\" cy=\"1297.28\" r=\"14\" fill=\"#009af9\" fill-rule=\"evenodd\" fill-opacity=\"1\" stroke=\"#000000\" stroke-opacity=\"1\" stroke-width=\"3.2\"/>\n",
       "<circle clip-path=\"url(#clip102)\" cx=\"500.197\" cy=\"1295.99\" r=\"14\" fill=\"#009af9\" fill-rule=\"evenodd\" fill-opacity=\"1\" stroke=\"#000000\" stroke-opacity=\"1\" stroke-width=\"3.2\"/>\n",
       "<circle clip-path=\"url(#clip102)\" cx=\"502.23\" cy=\"1294.71\" r=\"14\" fill=\"#009af9\" fill-rule=\"evenodd\" fill-opacity=\"1\" stroke=\"#000000\" stroke-opacity=\"1\" stroke-width=\"3.2\"/>\n",
       "<circle clip-path=\"url(#clip102)\" cx=\"504.264\" cy=\"1293.42\" r=\"14\" fill=\"#009af9\" fill-rule=\"evenodd\" fill-opacity=\"1\" stroke=\"#000000\" stroke-opacity=\"1\" stroke-width=\"3.2\"/>\n",
       "<circle clip-path=\"url(#clip102)\" cx=\"506.298\" cy=\"1292.13\" r=\"14\" fill=\"#009af9\" fill-rule=\"evenodd\" fill-opacity=\"1\" stroke=\"#000000\" stroke-opacity=\"1\" stroke-width=\"3.2\"/>\n",
       "<circle clip-path=\"url(#clip102)\" cx=\"508.331\" cy=\"1290.85\" r=\"14\" fill=\"#009af9\" fill-rule=\"evenodd\" fill-opacity=\"1\" stroke=\"#000000\" stroke-opacity=\"1\" stroke-width=\"3.2\"/>\n",
       "<circle clip-path=\"url(#clip102)\" cx=\"510.365\" cy=\"1289.56\" r=\"14\" fill=\"#009af9\" fill-rule=\"evenodd\" fill-opacity=\"1\" stroke=\"#000000\" stroke-opacity=\"1\" stroke-width=\"3.2\"/>\n",
       "<circle clip-path=\"url(#clip102)\" cx=\"512.398\" cy=\"1288.27\" r=\"14\" fill=\"#009af9\" fill-rule=\"evenodd\" fill-opacity=\"1\" stroke=\"#000000\" stroke-opacity=\"1\" stroke-width=\"3.2\"/>\n",
       "<circle clip-path=\"url(#clip102)\" cx=\"514.432\" cy=\"1286.98\" r=\"14\" fill=\"#009af9\" fill-rule=\"evenodd\" fill-opacity=\"1\" stroke=\"#000000\" stroke-opacity=\"1\" stroke-width=\"3.2\"/>\n",
       "<circle clip-path=\"url(#clip102)\" cx=\"516.466\" cy=\"1285.7\" r=\"14\" fill=\"#009af9\" fill-rule=\"evenodd\" fill-opacity=\"1\" stroke=\"#000000\" stroke-opacity=\"1\" stroke-width=\"3.2\"/>\n",
       "<circle clip-path=\"url(#clip102)\" cx=\"518.499\" cy=\"1284.41\" r=\"14\" fill=\"#009af9\" fill-rule=\"evenodd\" fill-opacity=\"1\" stroke=\"#000000\" stroke-opacity=\"1\" stroke-width=\"3.2\"/>\n",
       "<circle clip-path=\"url(#clip102)\" cx=\"520.533\" cy=\"1283.12\" r=\"14\" fill=\"#009af9\" fill-rule=\"evenodd\" fill-opacity=\"1\" stroke=\"#000000\" stroke-opacity=\"1\" stroke-width=\"3.2\"/>\n",
       "<circle clip-path=\"url(#clip102)\" cx=\"522.566\" cy=\"1281.84\" r=\"14\" fill=\"#009af9\" fill-rule=\"evenodd\" fill-opacity=\"1\" stroke=\"#000000\" stroke-opacity=\"1\" stroke-width=\"3.2\"/>\n",
       "<circle clip-path=\"url(#clip102)\" cx=\"524.6\" cy=\"1280.55\" r=\"14\" fill=\"#009af9\" fill-rule=\"evenodd\" fill-opacity=\"1\" stroke=\"#000000\" stroke-opacity=\"1\" stroke-width=\"3.2\"/>\n",
       "<circle clip-path=\"url(#clip102)\" cx=\"526.634\" cy=\"1279.26\" r=\"14\" fill=\"#009af9\" fill-rule=\"evenodd\" fill-opacity=\"1\" stroke=\"#000000\" stroke-opacity=\"1\" stroke-width=\"3.2\"/>\n",
       "<circle clip-path=\"url(#clip102)\" cx=\"528.667\" cy=\"1277.97\" r=\"14\" fill=\"#009af9\" fill-rule=\"evenodd\" fill-opacity=\"1\" stroke=\"#000000\" stroke-opacity=\"1\" stroke-width=\"3.2\"/>\n",
       "<circle clip-path=\"url(#clip102)\" cx=\"530.701\" cy=\"1276.69\" r=\"14\" fill=\"#009af9\" fill-rule=\"evenodd\" fill-opacity=\"1\" stroke=\"#000000\" stroke-opacity=\"1\" stroke-width=\"3.2\"/>\n",
       "<circle clip-path=\"url(#clip102)\" cx=\"532.734\" cy=\"1275.4\" r=\"14\" fill=\"#009af9\" fill-rule=\"evenodd\" fill-opacity=\"1\" stroke=\"#000000\" stroke-opacity=\"1\" stroke-width=\"3.2\"/>\n",
       "<circle clip-path=\"url(#clip102)\" cx=\"534.768\" cy=\"1274.11\" r=\"14\" fill=\"#009af9\" fill-rule=\"evenodd\" fill-opacity=\"1\" stroke=\"#000000\" stroke-opacity=\"1\" stroke-width=\"3.2\"/>\n",
       "<circle clip-path=\"url(#clip102)\" cx=\"536.802\" cy=\"1272.83\" r=\"14\" fill=\"#009af9\" fill-rule=\"evenodd\" fill-opacity=\"1\" stroke=\"#000000\" stroke-opacity=\"1\" stroke-width=\"3.2\"/>\n",
       "<circle clip-path=\"url(#clip102)\" cx=\"538.835\" cy=\"1271.54\" r=\"14\" fill=\"#009af9\" fill-rule=\"evenodd\" fill-opacity=\"1\" stroke=\"#000000\" stroke-opacity=\"1\" stroke-width=\"3.2\"/>\n",
       "<circle clip-path=\"url(#clip102)\" cx=\"540.869\" cy=\"1270.25\" r=\"14\" fill=\"#009af9\" fill-rule=\"evenodd\" fill-opacity=\"1\" stroke=\"#000000\" stroke-opacity=\"1\" stroke-width=\"3.2\"/>\n",
       "<circle clip-path=\"url(#clip102)\" cx=\"542.903\" cy=\"1268.96\" r=\"14\" fill=\"#009af9\" fill-rule=\"evenodd\" fill-opacity=\"1\" stroke=\"#000000\" stroke-opacity=\"1\" stroke-width=\"3.2\"/>\n",
       "<circle clip-path=\"url(#clip102)\" cx=\"544.936\" cy=\"1267.68\" r=\"14\" fill=\"#009af9\" fill-rule=\"evenodd\" fill-opacity=\"1\" stroke=\"#000000\" stroke-opacity=\"1\" stroke-width=\"3.2\"/>\n",
       "<circle clip-path=\"url(#clip102)\" cx=\"546.97\" cy=\"1266.39\" r=\"14\" fill=\"#009af9\" fill-rule=\"evenodd\" fill-opacity=\"1\" stroke=\"#000000\" stroke-opacity=\"1\" stroke-width=\"3.2\"/>\n",
       "<circle clip-path=\"url(#clip102)\" cx=\"549.003\" cy=\"1265.1\" r=\"14\" fill=\"#009af9\" fill-rule=\"evenodd\" fill-opacity=\"1\" stroke=\"#000000\" stroke-opacity=\"1\" stroke-width=\"3.2\"/>\n",
       "<circle clip-path=\"url(#clip102)\" cx=\"551.037\" cy=\"1263.82\" r=\"14\" fill=\"#009af9\" fill-rule=\"evenodd\" fill-opacity=\"1\" stroke=\"#000000\" stroke-opacity=\"1\" stroke-width=\"3.2\"/>\n",
       "<circle clip-path=\"url(#clip102)\" cx=\"553.071\" cy=\"1262.53\" r=\"14\" fill=\"#009af9\" fill-rule=\"evenodd\" fill-opacity=\"1\" stroke=\"#000000\" stroke-opacity=\"1\" stroke-width=\"3.2\"/>\n",
       "<circle clip-path=\"url(#clip102)\" cx=\"555.104\" cy=\"1261.24\" r=\"14\" fill=\"#009af9\" fill-rule=\"evenodd\" fill-opacity=\"1\" stroke=\"#000000\" stroke-opacity=\"1\" stroke-width=\"3.2\"/>\n",
       "<circle clip-path=\"url(#clip102)\" cx=\"557.138\" cy=\"1259.95\" r=\"14\" fill=\"#009af9\" fill-rule=\"evenodd\" fill-opacity=\"1\" stroke=\"#000000\" stroke-opacity=\"1\" stroke-width=\"3.2\"/>\n",
       "<circle clip-path=\"url(#clip102)\" cx=\"559.171\" cy=\"1258.67\" r=\"14\" fill=\"#009af9\" fill-rule=\"evenodd\" fill-opacity=\"1\" stroke=\"#000000\" stroke-opacity=\"1\" stroke-width=\"3.2\"/>\n",
       "<circle clip-path=\"url(#clip102)\" cx=\"561.205\" cy=\"1257.38\" r=\"14\" fill=\"#009af9\" fill-rule=\"evenodd\" fill-opacity=\"1\" stroke=\"#000000\" stroke-opacity=\"1\" stroke-width=\"3.2\"/>\n",
       "<circle clip-path=\"url(#clip102)\" cx=\"563.239\" cy=\"1256.09\" r=\"14\" fill=\"#009af9\" fill-rule=\"evenodd\" fill-opacity=\"1\" stroke=\"#000000\" stroke-opacity=\"1\" stroke-width=\"3.2\"/>\n",
       "<circle clip-path=\"url(#clip102)\" cx=\"565.272\" cy=\"1254.81\" r=\"14\" fill=\"#009af9\" fill-rule=\"evenodd\" fill-opacity=\"1\" stroke=\"#000000\" stroke-opacity=\"1\" stroke-width=\"3.2\"/>\n",
       "<circle clip-path=\"url(#clip102)\" cx=\"567.306\" cy=\"1253.52\" r=\"14\" fill=\"#009af9\" fill-rule=\"evenodd\" fill-opacity=\"1\" stroke=\"#000000\" stroke-opacity=\"1\" stroke-width=\"3.2\"/>\n",
       "<circle clip-path=\"url(#clip102)\" cx=\"569.34\" cy=\"1252.23\" r=\"14\" fill=\"#009af9\" fill-rule=\"evenodd\" fill-opacity=\"1\" stroke=\"#000000\" stroke-opacity=\"1\" stroke-width=\"3.2\"/>\n",
       "<circle clip-path=\"url(#clip102)\" cx=\"571.373\" cy=\"1250.94\" r=\"14\" fill=\"#009af9\" fill-rule=\"evenodd\" fill-opacity=\"1\" stroke=\"#000000\" stroke-opacity=\"1\" stroke-width=\"3.2\"/>\n",
       "<circle clip-path=\"url(#clip102)\" cx=\"573.407\" cy=\"1249.66\" r=\"14\" fill=\"#009af9\" fill-rule=\"evenodd\" fill-opacity=\"1\" stroke=\"#000000\" stroke-opacity=\"1\" stroke-width=\"3.2\"/>\n",
       "<circle clip-path=\"url(#clip102)\" cx=\"575.44\" cy=\"1248.37\" r=\"14\" fill=\"#009af9\" fill-rule=\"evenodd\" fill-opacity=\"1\" stroke=\"#000000\" stroke-opacity=\"1\" stroke-width=\"3.2\"/>\n",
       "<circle clip-path=\"url(#clip102)\" cx=\"577.474\" cy=\"1247.08\" r=\"14\" fill=\"#009af9\" fill-rule=\"evenodd\" fill-opacity=\"1\" stroke=\"#000000\" stroke-opacity=\"1\" stroke-width=\"3.2\"/>\n",
       "<circle clip-path=\"url(#clip102)\" cx=\"579.508\" cy=\"1245.8\" r=\"14\" fill=\"#009af9\" fill-rule=\"evenodd\" fill-opacity=\"1\" stroke=\"#000000\" stroke-opacity=\"1\" stroke-width=\"3.2\"/>\n",
       "<circle clip-path=\"url(#clip102)\" cx=\"581.541\" cy=\"1244.51\" r=\"14\" fill=\"#009af9\" fill-rule=\"evenodd\" fill-opacity=\"1\" stroke=\"#000000\" stroke-opacity=\"1\" stroke-width=\"3.2\"/>\n",
       "<circle clip-path=\"url(#clip102)\" cx=\"583.575\" cy=\"1243.22\" r=\"14\" fill=\"#009af9\" fill-rule=\"evenodd\" fill-opacity=\"1\" stroke=\"#000000\" stroke-opacity=\"1\" stroke-width=\"3.2\"/>\n",
       "<circle clip-path=\"url(#clip102)\" cx=\"585.608\" cy=\"1241.93\" r=\"14\" fill=\"#009af9\" fill-rule=\"evenodd\" fill-opacity=\"1\" stroke=\"#000000\" stroke-opacity=\"1\" stroke-width=\"3.2\"/>\n",
       "<circle clip-path=\"url(#clip102)\" cx=\"587.642\" cy=\"1240.65\" r=\"14\" fill=\"#009af9\" fill-rule=\"evenodd\" fill-opacity=\"1\" stroke=\"#000000\" stroke-opacity=\"1\" stroke-width=\"3.2\"/>\n",
       "<circle clip-path=\"url(#clip102)\" cx=\"589.676\" cy=\"1239.36\" r=\"14\" fill=\"#009af9\" fill-rule=\"evenodd\" fill-opacity=\"1\" stroke=\"#000000\" stroke-opacity=\"1\" stroke-width=\"3.2\"/>\n",
       "<circle clip-path=\"url(#clip102)\" cx=\"591.709\" cy=\"1238.07\" r=\"14\" fill=\"#009af9\" fill-rule=\"evenodd\" fill-opacity=\"1\" stroke=\"#000000\" stroke-opacity=\"1\" stroke-width=\"3.2\"/>\n",
       "<circle clip-path=\"url(#clip102)\" cx=\"593.743\" cy=\"1236.79\" r=\"14\" fill=\"#009af9\" fill-rule=\"evenodd\" fill-opacity=\"1\" stroke=\"#000000\" stroke-opacity=\"1\" stroke-width=\"3.2\"/>\n",
       "<circle clip-path=\"url(#clip102)\" cx=\"595.776\" cy=\"1235.5\" r=\"14\" fill=\"#009af9\" fill-rule=\"evenodd\" fill-opacity=\"1\" stroke=\"#000000\" stroke-opacity=\"1\" stroke-width=\"3.2\"/>\n",
       "<circle clip-path=\"url(#clip102)\" cx=\"597.81\" cy=\"1234.21\" r=\"14\" fill=\"#009af9\" fill-rule=\"evenodd\" fill-opacity=\"1\" stroke=\"#000000\" stroke-opacity=\"1\" stroke-width=\"3.2\"/>\n",
       "<circle clip-path=\"url(#clip102)\" cx=\"599.844\" cy=\"1232.93\" r=\"14\" fill=\"#009af9\" fill-rule=\"evenodd\" fill-opacity=\"1\" stroke=\"#000000\" stroke-opacity=\"1\" stroke-width=\"3.2\"/>\n",
       "<circle clip-path=\"url(#clip102)\" cx=\"601.877\" cy=\"1231.64\" r=\"14\" fill=\"#009af9\" fill-rule=\"evenodd\" fill-opacity=\"1\" stroke=\"#000000\" stroke-opacity=\"1\" stroke-width=\"3.2\"/>\n",
       "<circle clip-path=\"url(#clip102)\" cx=\"603.911\" cy=\"1230.35\" r=\"14\" fill=\"#009af9\" fill-rule=\"evenodd\" fill-opacity=\"1\" stroke=\"#000000\" stroke-opacity=\"1\" stroke-width=\"3.2\"/>\n",
       "<circle clip-path=\"url(#clip102)\" cx=\"605.945\" cy=\"1229.06\" r=\"14\" fill=\"#009af9\" fill-rule=\"evenodd\" fill-opacity=\"1\" stroke=\"#000000\" stroke-opacity=\"1\" stroke-width=\"3.2\"/>\n",
       "<circle clip-path=\"url(#clip102)\" cx=\"607.978\" cy=\"1227.78\" r=\"14\" fill=\"#009af9\" fill-rule=\"evenodd\" fill-opacity=\"1\" stroke=\"#000000\" stroke-opacity=\"1\" stroke-width=\"3.2\"/>\n",
       "<circle clip-path=\"url(#clip102)\" cx=\"610.012\" cy=\"1226.49\" r=\"14\" fill=\"#009af9\" fill-rule=\"evenodd\" fill-opacity=\"1\" stroke=\"#000000\" stroke-opacity=\"1\" stroke-width=\"3.2\"/>\n",
       "<circle clip-path=\"url(#clip102)\" cx=\"612.045\" cy=\"1225.2\" r=\"14\" fill=\"#009af9\" fill-rule=\"evenodd\" fill-opacity=\"1\" stroke=\"#000000\" stroke-opacity=\"1\" stroke-width=\"3.2\"/>\n",
       "<circle clip-path=\"url(#clip102)\" cx=\"614.079\" cy=\"1223.92\" r=\"14\" fill=\"#009af9\" fill-rule=\"evenodd\" fill-opacity=\"1\" stroke=\"#000000\" stroke-opacity=\"1\" stroke-width=\"3.2\"/>\n",
       "<circle clip-path=\"url(#clip102)\" cx=\"616.113\" cy=\"1222.63\" r=\"14\" fill=\"#009af9\" fill-rule=\"evenodd\" fill-opacity=\"1\" stroke=\"#000000\" stroke-opacity=\"1\" stroke-width=\"3.2\"/>\n",
       "<circle clip-path=\"url(#clip102)\" cx=\"618.146\" cy=\"1221.34\" r=\"14\" fill=\"#009af9\" fill-rule=\"evenodd\" fill-opacity=\"1\" stroke=\"#000000\" stroke-opacity=\"1\" stroke-width=\"3.2\"/>\n",
       "<circle clip-path=\"url(#clip102)\" cx=\"620.18\" cy=\"1220.05\" r=\"14\" fill=\"#009af9\" fill-rule=\"evenodd\" fill-opacity=\"1\" stroke=\"#000000\" stroke-opacity=\"1\" stroke-width=\"3.2\"/>\n",
       "<circle clip-path=\"url(#clip102)\" cx=\"622.213\" cy=\"1218.77\" r=\"14\" fill=\"#009af9\" fill-rule=\"evenodd\" fill-opacity=\"1\" stroke=\"#000000\" stroke-opacity=\"1\" stroke-width=\"3.2\"/>\n",
       "<circle clip-path=\"url(#clip102)\" cx=\"624.247\" cy=\"1217.48\" r=\"14\" fill=\"#009af9\" fill-rule=\"evenodd\" fill-opacity=\"1\" stroke=\"#000000\" stroke-opacity=\"1\" stroke-width=\"3.2\"/>\n",
       "<circle clip-path=\"url(#clip102)\" cx=\"626.281\" cy=\"1216.19\" r=\"14\" fill=\"#009af9\" fill-rule=\"evenodd\" fill-opacity=\"1\" stroke=\"#000000\" stroke-opacity=\"1\" stroke-width=\"3.2\"/>\n",
       "<circle clip-path=\"url(#clip102)\" cx=\"628.314\" cy=\"1214.91\" r=\"14\" fill=\"#009af9\" fill-rule=\"evenodd\" fill-opacity=\"1\" stroke=\"#000000\" stroke-opacity=\"1\" stroke-width=\"3.2\"/>\n",
       "<circle clip-path=\"url(#clip102)\" cx=\"630.348\" cy=\"1213.62\" r=\"14\" fill=\"#009af9\" fill-rule=\"evenodd\" fill-opacity=\"1\" stroke=\"#000000\" stroke-opacity=\"1\" stroke-width=\"3.2\"/>\n",
       "<circle clip-path=\"url(#clip102)\" cx=\"632.381\" cy=\"1212.33\" r=\"14\" fill=\"#009af9\" fill-rule=\"evenodd\" fill-opacity=\"1\" stroke=\"#000000\" stroke-opacity=\"1\" stroke-width=\"3.2\"/>\n",
       "<circle clip-path=\"url(#clip102)\" cx=\"634.415\" cy=\"1211.04\" r=\"14\" fill=\"#009af9\" fill-rule=\"evenodd\" fill-opacity=\"1\" stroke=\"#000000\" stroke-opacity=\"1\" stroke-width=\"3.2\"/>\n",
       "<circle clip-path=\"url(#clip102)\" cx=\"636.449\" cy=\"1209.76\" r=\"14\" fill=\"#009af9\" fill-rule=\"evenodd\" fill-opacity=\"1\" stroke=\"#000000\" stroke-opacity=\"1\" stroke-width=\"3.2\"/>\n",
       "<circle clip-path=\"url(#clip102)\" cx=\"638.482\" cy=\"1208.47\" r=\"14\" fill=\"#009af9\" fill-rule=\"evenodd\" fill-opacity=\"1\" stroke=\"#000000\" stroke-opacity=\"1\" stroke-width=\"3.2\"/>\n",
       "<circle clip-path=\"url(#clip102)\" cx=\"640.516\" cy=\"1207.18\" r=\"14\" fill=\"#009af9\" fill-rule=\"evenodd\" fill-opacity=\"1\" stroke=\"#000000\" stroke-opacity=\"1\" stroke-width=\"3.2\"/>\n",
       "<circle clip-path=\"url(#clip102)\" cx=\"642.55\" cy=\"1205.9\" r=\"14\" fill=\"#009af9\" fill-rule=\"evenodd\" fill-opacity=\"1\" stroke=\"#000000\" stroke-opacity=\"1\" stroke-width=\"3.2\"/>\n",
       "<circle clip-path=\"url(#clip102)\" cx=\"644.583\" cy=\"1204.61\" r=\"14\" fill=\"#009af9\" fill-rule=\"evenodd\" fill-opacity=\"1\" stroke=\"#000000\" stroke-opacity=\"1\" stroke-width=\"3.2\"/>\n",
       "<circle clip-path=\"url(#clip102)\" cx=\"646.617\" cy=\"1203.32\" r=\"14\" fill=\"#009af9\" fill-rule=\"evenodd\" fill-opacity=\"1\" stroke=\"#000000\" stroke-opacity=\"1\" stroke-width=\"3.2\"/>\n",
       "<circle clip-path=\"url(#clip102)\" cx=\"648.65\" cy=\"1202.03\" r=\"14\" fill=\"#009af9\" fill-rule=\"evenodd\" fill-opacity=\"1\" stroke=\"#000000\" stroke-opacity=\"1\" stroke-width=\"3.2\"/>\n",
       "<circle clip-path=\"url(#clip102)\" cx=\"650.684\" cy=\"1200.75\" r=\"14\" fill=\"#009af9\" fill-rule=\"evenodd\" fill-opacity=\"1\" stroke=\"#000000\" stroke-opacity=\"1\" stroke-width=\"3.2\"/>\n",
       "<circle clip-path=\"url(#clip102)\" cx=\"652.718\" cy=\"1199.46\" r=\"14\" fill=\"#009af9\" fill-rule=\"evenodd\" fill-opacity=\"1\" stroke=\"#000000\" stroke-opacity=\"1\" stroke-width=\"3.2\"/>\n",
       "<circle clip-path=\"url(#clip102)\" cx=\"654.751\" cy=\"1198.17\" r=\"14\" fill=\"#009af9\" fill-rule=\"evenodd\" fill-opacity=\"1\" stroke=\"#000000\" stroke-opacity=\"1\" stroke-width=\"3.2\"/>\n",
       "<circle clip-path=\"url(#clip102)\" cx=\"656.785\" cy=\"1196.89\" r=\"14\" fill=\"#009af9\" fill-rule=\"evenodd\" fill-opacity=\"1\" stroke=\"#000000\" stroke-opacity=\"1\" stroke-width=\"3.2\"/>\n",
       "<circle clip-path=\"url(#clip102)\" cx=\"658.818\" cy=\"1195.6\" r=\"14\" fill=\"#009af9\" fill-rule=\"evenodd\" fill-opacity=\"1\" stroke=\"#000000\" stroke-opacity=\"1\" stroke-width=\"3.2\"/>\n",
       "<circle clip-path=\"url(#clip102)\" cx=\"660.852\" cy=\"1194.31\" r=\"14\" fill=\"#009af9\" fill-rule=\"evenodd\" fill-opacity=\"1\" stroke=\"#000000\" stroke-opacity=\"1\" stroke-width=\"3.2\"/>\n",
       "<circle clip-path=\"url(#clip102)\" cx=\"662.886\" cy=\"1193.02\" r=\"14\" fill=\"#009af9\" fill-rule=\"evenodd\" fill-opacity=\"1\" stroke=\"#000000\" stroke-opacity=\"1\" stroke-width=\"3.2\"/>\n",
       "<circle clip-path=\"url(#clip102)\" cx=\"664.919\" cy=\"1191.74\" r=\"14\" fill=\"#009af9\" fill-rule=\"evenodd\" fill-opacity=\"1\" stroke=\"#000000\" stroke-opacity=\"1\" stroke-width=\"3.2\"/>\n",
       "<circle clip-path=\"url(#clip102)\" cx=\"666.953\" cy=\"1190.45\" r=\"14\" fill=\"#009af9\" fill-rule=\"evenodd\" fill-opacity=\"1\" stroke=\"#000000\" stroke-opacity=\"1\" stroke-width=\"3.2\"/>\n",
       "<circle clip-path=\"url(#clip102)\" cx=\"668.986\" cy=\"1189.16\" r=\"14\" fill=\"#009af9\" fill-rule=\"evenodd\" fill-opacity=\"1\" stroke=\"#000000\" stroke-opacity=\"1\" stroke-width=\"3.2\"/>\n",
       "<circle clip-path=\"url(#clip102)\" cx=\"671.02\" cy=\"1187.88\" r=\"14\" fill=\"#009af9\" fill-rule=\"evenodd\" fill-opacity=\"1\" stroke=\"#000000\" stroke-opacity=\"1\" stroke-width=\"3.2\"/>\n",
       "<circle clip-path=\"url(#clip102)\" cx=\"673.054\" cy=\"1186.59\" r=\"14\" fill=\"#009af9\" fill-rule=\"evenodd\" fill-opacity=\"1\" stroke=\"#000000\" stroke-opacity=\"1\" stroke-width=\"3.2\"/>\n",
       "<circle clip-path=\"url(#clip102)\" cx=\"675.087\" cy=\"1185.3\" r=\"14\" fill=\"#009af9\" fill-rule=\"evenodd\" fill-opacity=\"1\" stroke=\"#000000\" stroke-opacity=\"1\" stroke-width=\"3.2\"/>\n",
       "<circle clip-path=\"url(#clip102)\" cx=\"677.121\" cy=\"1184.01\" r=\"14\" fill=\"#009af9\" fill-rule=\"evenodd\" fill-opacity=\"1\" stroke=\"#000000\" stroke-opacity=\"1\" stroke-width=\"3.2\"/>\n",
       "<circle clip-path=\"url(#clip102)\" cx=\"679.155\" cy=\"1182.73\" r=\"14\" fill=\"#009af9\" fill-rule=\"evenodd\" fill-opacity=\"1\" stroke=\"#000000\" stroke-opacity=\"1\" stroke-width=\"3.2\"/>\n",
       "<circle clip-path=\"url(#clip102)\" cx=\"681.188\" cy=\"1181.44\" r=\"14\" fill=\"#009af9\" fill-rule=\"evenodd\" fill-opacity=\"1\" stroke=\"#000000\" stroke-opacity=\"1\" stroke-width=\"3.2\"/>\n",
       "<circle clip-path=\"url(#clip102)\" cx=\"683.222\" cy=\"1180.15\" r=\"14\" fill=\"#009af9\" fill-rule=\"evenodd\" fill-opacity=\"1\" stroke=\"#000000\" stroke-opacity=\"1\" stroke-width=\"3.2\"/>\n",
       "<circle clip-path=\"url(#clip102)\" cx=\"685.255\" cy=\"1178.87\" r=\"14\" fill=\"#009af9\" fill-rule=\"evenodd\" fill-opacity=\"1\" stroke=\"#000000\" stroke-opacity=\"1\" stroke-width=\"3.2\"/>\n",
       "<circle clip-path=\"url(#clip102)\" cx=\"687.289\" cy=\"1177.58\" r=\"14\" fill=\"#009af9\" fill-rule=\"evenodd\" fill-opacity=\"1\" stroke=\"#000000\" stroke-opacity=\"1\" stroke-width=\"3.2\"/>\n",
       "<circle clip-path=\"url(#clip102)\" cx=\"689.323\" cy=\"1176.29\" r=\"14\" fill=\"#009af9\" fill-rule=\"evenodd\" fill-opacity=\"1\" stroke=\"#000000\" stroke-opacity=\"1\" stroke-width=\"3.2\"/>\n",
       "<circle clip-path=\"url(#clip102)\" cx=\"691.356\" cy=\"1175.01\" r=\"14\" fill=\"#009af9\" fill-rule=\"evenodd\" fill-opacity=\"1\" stroke=\"#000000\" stroke-opacity=\"1\" stroke-width=\"3.2\"/>\n",
       "<circle clip-path=\"url(#clip102)\" cx=\"693.39\" cy=\"1173.72\" r=\"14\" fill=\"#009af9\" fill-rule=\"evenodd\" fill-opacity=\"1\" stroke=\"#000000\" stroke-opacity=\"1\" stroke-width=\"3.2\"/>\n",
       "<circle clip-path=\"url(#clip102)\" cx=\"695.423\" cy=\"1172.43\" r=\"14\" fill=\"#009af9\" fill-rule=\"evenodd\" fill-opacity=\"1\" stroke=\"#000000\" stroke-opacity=\"1\" stroke-width=\"3.2\"/>\n",
       "<circle clip-path=\"url(#clip102)\" cx=\"697.457\" cy=\"1171.14\" r=\"14\" fill=\"#009af9\" fill-rule=\"evenodd\" fill-opacity=\"1\" stroke=\"#000000\" stroke-opacity=\"1\" stroke-width=\"3.2\"/>\n",
       "<circle clip-path=\"url(#clip102)\" cx=\"699.491\" cy=\"1169.86\" r=\"14\" fill=\"#009af9\" fill-rule=\"evenodd\" fill-opacity=\"1\" stroke=\"#000000\" stroke-opacity=\"1\" stroke-width=\"3.2\"/>\n",
       "<circle clip-path=\"url(#clip102)\" cx=\"701.524\" cy=\"1168.57\" r=\"14\" fill=\"#009af9\" fill-rule=\"evenodd\" fill-opacity=\"1\" stroke=\"#000000\" stroke-opacity=\"1\" stroke-width=\"3.2\"/>\n",
       "<circle clip-path=\"url(#clip102)\" cx=\"703.558\" cy=\"1167.28\" r=\"14\" fill=\"#009af9\" fill-rule=\"evenodd\" fill-opacity=\"1\" stroke=\"#000000\" stroke-opacity=\"1\" stroke-width=\"3.2\"/>\n",
       "<circle clip-path=\"url(#clip102)\" cx=\"705.591\" cy=\"1166\" r=\"14\" fill=\"#009af9\" fill-rule=\"evenodd\" fill-opacity=\"1\" stroke=\"#000000\" stroke-opacity=\"1\" stroke-width=\"3.2\"/>\n",
       "<circle clip-path=\"url(#clip102)\" cx=\"707.625\" cy=\"1164.71\" r=\"14\" fill=\"#009af9\" fill-rule=\"evenodd\" fill-opacity=\"1\" stroke=\"#000000\" stroke-opacity=\"1\" stroke-width=\"3.2\"/>\n",
       "<circle clip-path=\"url(#clip102)\" cx=\"709.659\" cy=\"1163.42\" r=\"14\" fill=\"#009af9\" fill-rule=\"evenodd\" fill-opacity=\"1\" stroke=\"#000000\" stroke-opacity=\"1\" stroke-width=\"3.2\"/>\n",
       "<circle clip-path=\"url(#clip102)\" cx=\"711.692\" cy=\"1162.13\" r=\"14\" fill=\"#009af9\" fill-rule=\"evenodd\" fill-opacity=\"1\" stroke=\"#000000\" stroke-opacity=\"1\" stroke-width=\"3.2\"/>\n",
       "<circle clip-path=\"url(#clip102)\" cx=\"713.726\" cy=\"1160.85\" r=\"14\" fill=\"#009af9\" fill-rule=\"evenodd\" fill-opacity=\"1\" stroke=\"#000000\" stroke-opacity=\"1\" stroke-width=\"3.2\"/>\n",
       "<circle clip-path=\"url(#clip102)\" cx=\"715.76\" cy=\"1159.56\" r=\"14\" fill=\"#009af9\" fill-rule=\"evenodd\" fill-opacity=\"1\" stroke=\"#000000\" stroke-opacity=\"1\" stroke-width=\"3.2\"/>\n",
       "<circle clip-path=\"url(#clip102)\" cx=\"717.793\" cy=\"1158.27\" r=\"14\" fill=\"#009af9\" fill-rule=\"evenodd\" fill-opacity=\"1\" stroke=\"#000000\" stroke-opacity=\"1\" stroke-width=\"3.2\"/>\n",
       "<circle clip-path=\"url(#clip102)\" cx=\"719.827\" cy=\"1156.99\" r=\"14\" fill=\"#009af9\" fill-rule=\"evenodd\" fill-opacity=\"1\" stroke=\"#000000\" stroke-opacity=\"1\" stroke-width=\"3.2\"/>\n",
       "<circle clip-path=\"url(#clip102)\" cx=\"721.86\" cy=\"1155.7\" r=\"14\" fill=\"#009af9\" fill-rule=\"evenodd\" fill-opacity=\"1\" stroke=\"#000000\" stroke-opacity=\"1\" stroke-width=\"3.2\"/>\n",
       "<circle clip-path=\"url(#clip102)\" cx=\"723.894\" cy=\"1154.41\" r=\"14\" fill=\"#009af9\" fill-rule=\"evenodd\" fill-opacity=\"1\" stroke=\"#000000\" stroke-opacity=\"1\" stroke-width=\"3.2\"/>\n",
       "<circle clip-path=\"url(#clip102)\" cx=\"725.928\" cy=\"1153.12\" r=\"14\" fill=\"#009af9\" fill-rule=\"evenodd\" fill-opacity=\"1\" stroke=\"#000000\" stroke-opacity=\"1\" stroke-width=\"3.2\"/>\n",
       "<circle clip-path=\"url(#clip102)\" cx=\"727.961\" cy=\"1151.84\" r=\"14\" fill=\"#009af9\" fill-rule=\"evenodd\" fill-opacity=\"1\" stroke=\"#000000\" stroke-opacity=\"1\" stroke-width=\"3.2\"/>\n",
       "<circle clip-path=\"url(#clip102)\" cx=\"729.995\" cy=\"1150.55\" r=\"14\" fill=\"#009af9\" fill-rule=\"evenodd\" fill-opacity=\"1\" stroke=\"#000000\" stroke-opacity=\"1\" stroke-width=\"3.2\"/>\n",
       "<circle clip-path=\"url(#clip102)\" cx=\"732.028\" cy=\"1149.26\" r=\"14\" fill=\"#009af9\" fill-rule=\"evenodd\" fill-opacity=\"1\" stroke=\"#000000\" stroke-opacity=\"1\" stroke-width=\"3.2\"/>\n",
       "<circle clip-path=\"url(#clip102)\" cx=\"734.062\" cy=\"1147.98\" r=\"14\" fill=\"#009af9\" fill-rule=\"evenodd\" fill-opacity=\"1\" stroke=\"#000000\" stroke-opacity=\"1\" stroke-width=\"3.2\"/>\n",
       "<circle clip-path=\"url(#clip102)\" cx=\"736.096\" cy=\"1146.69\" r=\"14\" fill=\"#009af9\" fill-rule=\"evenodd\" fill-opacity=\"1\" stroke=\"#000000\" stroke-opacity=\"1\" stroke-width=\"3.2\"/>\n",
       "<circle clip-path=\"url(#clip102)\" cx=\"738.129\" cy=\"1145.4\" r=\"14\" fill=\"#009af9\" fill-rule=\"evenodd\" fill-opacity=\"1\" stroke=\"#000000\" stroke-opacity=\"1\" stroke-width=\"3.2\"/>\n",
       "<circle clip-path=\"url(#clip102)\" cx=\"740.163\" cy=\"1144.11\" r=\"14\" fill=\"#009af9\" fill-rule=\"evenodd\" fill-opacity=\"1\" stroke=\"#000000\" stroke-opacity=\"1\" stroke-width=\"3.2\"/>\n",
       "<circle clip-path=\"url(#clip102)\" cx=\"742.196\" cy=\"1142.83\" r=\"14\" fill=\"#009af9\" fill-rule=\"evenodd\" fill-opacity=\"1\" stroke=\"#000000\" stroke-opacity=\"1\" stroke-width=\"3.2\"/>\n",
       "<circle clip-path=\"url(#clip102)\" cx=\"744.23\" cy=\"1141.54\" r=\"14\" fill=\"#009af9\" fill-rule=\"evenodd\" fill-opacity=\"1\" stroke=\"#000000\" stroke-opacity=\"1\" stroke-width=\"3.2\"/>\n",
       "<circle clip-path=\"url(#clip102)\" cx=\"746.264\" cy=\"1140.25\" r=\"14\" fill=\"#009af9\" fill-rule=\"evenodd\" fill-opacity=\"1\" stroke=\"#000000\" stroke-opacity=\"1\" stroke-width=\"3.2\"/>\n",
       "<circle clip-path=\"url(#clip102)\" cx=\"748.297\" cy=\"1138.97\" r=\"14\" fill=\"#009af9\" fill-rule=\"evenodd\" fill-opacity=\"1\" stroke=\"#000000\" stroke-opacity=\"1\" stroke-width=\"3.2\"/>\n",
       "<circle clip-path=\"url(#clip102)\" cx=\"750.331\" cy=\"1137.68\" r=\"14\" fill=\"#009af9\" fill-rule=\"evenodd\" fill-opacity=\"1\" stroke=\"#000000\" stroke-opacity=\"1\" stroke-width=\"3.2\"/>\n",
       "<circle clip-path=\"url(#clip102)\" cx=\"752.365\" cy=\"1136.39\" r=\"14\" fill=\"#009af9\" fill-rule=\"evenodd\" fill-opacity=\"1\" stroke=\"#000000\" stroke-opacity=\"1\" stroke-width=\"3.2\"/>\n",
       "<circle clip-path=\"url(#clip102)\" cx=\"754.398\" cy=\"1135.1\" r=\"14\" fill=\"#009af9\" fill-rule=\"evenodd\" fill-opacity=\"1\" stroke=\"#000000\" stroke-opacity=\"1\" stroke-width=\"3.2\"/>\n",
       "<circle clip-path=\"url(#clip102)\" cx=\"756.432\" cy=\"1133.82\" r=\"14\" fill=\"#009af9\" fill-rule=\"evenodd\" fill-opacity=\"1\" stroke=\"#000000\" stroke-opacity=\"1\" stroke-width=\"3.2\"/>\n",
       "<circle clip-path=\"url(#clip102)\" cx=\"758.465\" cy=\"1132.53\" r=\"14\" fill=\"#009af9\" fill-rule=\"evenodd\" fill-opacity=\"1\" stroke=\"#000000\" stroke-opacity=\"1\" stroke-width=\"3.2\"/>\n",
       "<circle clip-path=\"url(#clip102)\" cx=\"760.499\" cy=\"1131.24\" r=\"14\" fill=\"#009af9\" fill-rule=\"evenodd\" fill-opacity=\"1\" stroke=\"#000000\" stroke-opacity=\"1\" stroke-width=\"3.2\"/>\n",
       "<circle clip-path=\"url(#clip102)\" cx=\"762.533\" cy=\"1129.96\" r=\"14\" fill=\"#009af9\" fill-rule=\"evenodd\" fill-opacity=\"1\" stroke=\"#000000\" stroke-opacity=\"1\" stroke-width=\"3.2\"/>\n",
       "<circle clip-path=\"url(#clip102)\" cx=\"764.566\" cy=\"1128.67\" r=\"14\" fill=\"#009af9\" fill-rule=\"evenodd\" fill-opacity=\"1\" stroke=\"#000000\" stroke-opacity=\"1\" stroke-width=\"3.2\"/>\n",
       "<circle clip-path=\"url(#clip102)\" cx=\"766.6\" cy=\"1127.38\" r=\"14\" fill=\"#009af9\" fill-rule=\"evenodd\" fill-opacity=\"1\" stroke=\"#000000\" stroke-opacity=\"1\" stroke-width=\"3.2\"/>\n",
       "<circle clip-path=\"url(#clip102)\" cx=\"768.633\" cy=\"1126.09\" r=\"14\" fill=\"#009af9\" fill-rule=\"evenodd\" fill-opacity=\"1\" stroke=\"#000000\" stroke-opacity=\"1\" stroke-width=\"3.2\"/>\n",
       "<circle clip-path=\"url(#clip102)\" cx=\"770.667\" cy=\"1124.81\" r=\"14\" fill=\"#009af9\" fill-rule=\"evenodd\" fill-opacity=\"1\" stroke=\"#000000\" stroke-opacity=\"1\" stroke-width=\"3.2\"/>\n",
       "<circle clip-path=\"url(#clip102)\" cx=\"772.701\" cy=\"1123.52\" r=\"14\" fill=\"#009af9\" fill-rule=\"evenodd\" fill-opacity=\"1\" stroke=\"#000000\" stroke-opacity=\"1\" stroke-width=\"3.2\"/>\n",
       "<circle clip-path=\"url(#clip102)\" cx=\"774.734\" cy=\"1122.23\" r=\"14\" fill=\"#009af9\" fill-rule=\"evenodd\" fill-opacity=\"1\" stroke=\"#000000\" stroke-opacity=\"1\" stroke-width=\"3.2\"/>\n",
       "<circle clip-path=\"url(#clip102)\" cx=\"776.768\" cy=\"1120.95\" r=\"14\" fill=\"#009af9\" fill-rule=\"evenodd\" fill-opacity=\"1\" stroke=\"#000000\" stroke-opacity=\"1\" stroke-width=\"3.2\"/>\n",
       "<circle clip-path=\"url(#clip102)\" cx=\"778.802\" cy=\"1119.66\" r=\"14\" fill=\"#009af9\" fill-rule=\"evenodd\" fill-opacity=\"1\" stroke=\"#000000\" stroke-opacity=\"1\" stroke-width=\"3.2\"/>\n",
       "<circle clip-path=\"url(#clip102)\" cx=\"780.835\" cy=\"1118.37\" r=\"14\" fill=\"#009af9\" fill-rule=\"evenodd\" fill-opacity=\"1\" stroke=\"#000000\" stroke-opacity=\"1\" stroke-width=\"3.2\"/>\n",
       "<circle clip-path=\"url(#clip102)\" cx=\"782.869\" cy=\"1117.08\" r=\"14\" fill=\"#009af9\" fill-rule=\"evenodd\" fill-opacity=\"1\" stroke=\"#000000\" stroke-opacity=\"1\" stroke-width=\"3.2\"/>\n",
       "<circle clip-path=\"url(#clip102)\" cx=\"784.902\" cy=\"1115.8\" r=\"14\" fill=\"#009af9\" fill-rule=\"evenodd\" fill-opacity=\"1\" stroke=\"#000000\" stroke-opacity=\"1\" stroke-width=\"3.2\"/>\n",
       "<circle clip-path=\"url(#clip102)\" cx=\"786.936\" cy=\"1114.51\" r=\"14\" fill=\"#009af9\" fill-rule=\"evenodd\" fill-opacity=\"1\" stroke=\"#000000\" stroke-opacity=\"1\" stroke-width=\"3.2\"/>\n",
       "<circle clip-path=\"url(#clip102)\" cx=\"788.97\" cy=\"1113.22\" r=\"14\" fill=\"#009af9\" fill-rule=\"evenodd\" fill-opacity=\"1\" stroke=\"#000000\" stroke-opacity=\"1\" stroke-width=\"3.2\"/>\n",
       "<circle clip-path=\"url(#clip102)\" cx=\"791.003\" cy=\"1111.94\" r=\"14\" fill=\"#009af9\" fill-rule=\"evenodd\" fill-opacity=\"1\" stroke=\"#000000\" stroke-opacity=\"1\" stroke-width=\"3.2\"/>\n",
       "<circle clip-path=\"url(#clip102)\" cx=\"793.037\" cy=\"1110.65\" r=\"14\" fill=\"#009af9\" fill-rule=\"evenodd\" fill-opacity=\"1\" stroke=\"#000000\" stroke-opacity=\"1\" stroke-width=\"3.2\"/>\n",
       "<circle clip-path=\"url(#clip102)\" cx=\"795.07\" cy=\"1109.36\" r=\"14\" fill=\"#009af9\" fill-rule=\"evenodd\" fill-opacity=\"1\" stroke=\"#000000\" stroke-opacity=\"1\" stroke-width=\"3.2\"/>\n",
       "<circle clip-path=\"url(#clip102)\" cx=\"797.104\" cy=\"1108.08\" r=\"14\" fill=\"#009af9\" fill-rule=\"evenodd\" fill-opacity=\"1\" stroke=\"#000000\" stroke-opacity=\"1\" stroke-width=\"3.2\"/>\n",
       "<circle clip-path=\"url(#clip102)\" cx=\"799.138\" cy=\"1106.79\" r=\"14\" fill=\"#009af9\" fill-rule=\"evenodd\" fill-opacity=\"1\" stroke=\"#000000\" stroke-opacity=\"1\" stroke-width=\"3.2\"/>\n",
       "<circle clip-path=\"url(#clip102)\" cx=\"801.171\" cy=\"1105.5\" r=\"14\" fill=\"#009af9\" fill-rule=\"evenodd\" fill-opacity=\"1\" stroke=\"#000000\" stroke-opacity=\"1\" stroke-width=\"3.2\"/>\n",
       "<circle clip-path=\"url(#clip102)\" cx=\"803.205\" cy=\"1104.21\" r=\"14\" fill=\"#009af9\" fill-rule=\"evenodd\" fill-opacity=\"1\" stroke=\"#000000\" stroke-opacity=\"1\" stroke-width=\"3.2\"/>\n",
       "<circle clip-path=\"url(#clip102)\" cx=\"805.238\" cy=\"1102.93\" r=\"14\" fill=\"#009af9\" fill-rule=\"evenodd\" fill-opacity=\"1\" stroke=\"#000000\" stroke-opacity=\"1\" stroke-width=\"3.2\"/>\n",
       "<circle clip-path=\"url(#clip102)\" cx=\"807.272\" cy=\"1101.64\" r=\"14\" fill=\"#009af9\" fill-rule=\"evenodd\" fill-opacity=\"1\" stroke=\"#000000\" stroke-opacity=\"1\" stroke-width=\"3.2\"/>\n",
       "<circle clip-path=\"url(#clip102)\" cx=\"809.306\" cy=\"1100.35\" r=\"14\" fill=\"#009af9\" fill-rule=\"evenodd\" fill-opacity=\"1\" stroke=\"#000000\" stroke-opacity=\"1\" stroke-width=\"3.2\"/>\n",
       "<circle clip-path=\"url(#clip102)\" cx=\"811.339\" cy=\"1099.07\" r=\"14\" fill=\"#009af9\" fill-rule=\"evenodd\" fill-opacity=\"1\" stroke=\"#000000\" stroke-opacity=\"1\" stroke-width=\"3.2\"/>\n",
       "<circle clip-path=\"url(#clip102)\" cx=\"813.373\" cy=\"1097.78\" r=\"14\" fill=\"#009af9\" fill-rule=\"evenodd\" fill-opacity=\"1\" stroke=\"#000000\" stroke-opacity=\"1\" stroke-width=\"3.2\"/>\n",
       "<circle clip-path=\"url(#clip102)\" cx=\"815.407\" cy=\"1096.49\" r=\"14\" fill=\"#009af9\" fill-rule=\"evenodd\" fill-opacity=\"1\" stroke=\"#000000\" stroke-opacity=\"1\" stroke-width=\"3.2\"/>\n",
       "<circle clip-path=\"url(#clip102)\" cx=\"817.44\" cy=\"1095.2\" r=\"14\" fill=\"#009af9\" fill-rule=\"evenodd\" fill-opacity=\"1\" stroke=\"#000000\" stroke-opacity=\"1\" stroke-width=\"3.2\"/>\n",
       "<circle clip-path=\"url(#clip102)\" cx=\"819.474\" cy=\"1093.92\" r=\"14\" fill=\"#009af9\" fill-rule=\"evenodd\" fill-opacity=\"1\" stroke=\"#000000\" stroke-opacity=\"1\" stroke-width=\"3.2\"/>\n",
       "<circle clip-path=\"url(#clip102)\" cx=\"821.507\" cy=\"1092.63\" r=\"14\" fill=\"#009af9\" fill-rule=\"evenodd\" fill-opacity=\"1\" stroke=\"#000000\" stroke-opacity=\"1\" stroke-width=\"3.2\"/>\n",
       "<circle clip-path=\"url(#clip102)\" cx=\"823.541\" cy=\"1091.34\" r=\"14\" fill=\"#009af9\" fill-rule=\"evenodd\" fill-opacity=\"1\" stroke=\"#000000\" stroke-opacity=\"1\" stroke-width=\"3.2\"/>\n",
       "<circle clip-path=\"url(#clip102)\" cx=\"825.575\" cy=\"1090.06\" r=\"14\" fill=\"#009af9\" fill-rule=\"evenodd\" fill-opacity=\"1\" stroke=\"#000000\" stroke-opacity=\"1\" stroke-width=\"3.2\"/>\n",
       "<circle clip-path=\"url(#clip102)\" cx=\"827.608\" cy=\"1088.77\" r=\"14\" fill=\"#009af9\" fill-rule=\"evenodd\" fill-opacity=\"1\" stroke=\"#000000\" stroke-opacity=\"1\" stroke-width=\"3.2\"/>\n",
       "<circle clip-path=\"url(#clip102)\" cx=\"829.642\" cy=\"1087.48\" r=\"14\" fill=\"#009af9\" fill-rule=\"evenodd\" fill-opacity=\"1\" stroke=\"#000000\" stroke-opacity=\"1\" stroke-width=\"3.2\"/>\n",
       "<circle clip-path=\"url(#clip102)\" cx=\"831.675\" cy=\"1086.19\" r=\"14\" fill=\"#009af9\" fill-rule=\"evenodd\" fill-opacity=\"1\" stroke=\"#000000\" stroke-opacity=\"1\" stroke-width=\"3.2\"/>\n",
       "<circle clip-path=\"url(#clip102)\" cx=\"833.709\" cy=\"1084.91\" r=\"14\" fill=\"#009af9\" fill-rule=\"evenodd\" fill-opacity=\"1\" stroke=\"#000000\" stroke-opacity=\"1\" stroke-width=\"3.2\"/>\n",
       "<circle clip-path=\"url(#clip102)\" cx=\"835.743\" cy=\"1083.62\" r=\"14\" fill=\"#009af9\" fill-rule=\"evenodd\" fill-opacity=\"1\" stroke=\"#000000\" stroke-opacity=\"1\" stroke-width=\"3.2\"/>\n",
       "<circle clip-path=\"url(#clip102)\" cx=\"837.776\" cy=\"1082.33\" r=\"14\" fill=\"#009af9\" fill-rule=\"evenodd\" fill-opacity=\"1\" stroke=\"#000000\" stroke-opacity=\"1\" stroke-width=\"3.2\"/>\n",
       "<circle clip-path=\"url(#clip102)\" cx=\"839.81\" cy=\"1081.05\" r=\"14\" fill=\"#009af9\" fill-rule=\"evenodd\" fill-opacity=\"1\" stroke=\"#000000\" stroke-opacity=\"1\" stroke-width=\"3.2\"/>\n",
       "<circle clip-path=\"url(#clip102)\" cx=\"841.843\" cy=\"1079.76\" r=\"14\" fill=\"#009af9\" fill-rule=\"evenodd\" fill-opacity=\"1\" stroke=\"#000000\" stroke-opacity=\"1\" stroke-width=\"3.2\"/>\n",
       "<circle clip-path=\"url(#clip102)\" cx=\"843.877\" cy=\"1078.47\" r=\"14\" fill=\"#009af9\" fill-rule=\"evenodd\" fill-opacity=\"1\" stroke=\"#000000\" stroke-opacity=\"1\" stroke-width=\"3.2\"/>\n",
       "<circle clip-path=\"url(#clip102)\" cx=\"845.911\" cy=\"1077.18\" r=\"14\" fill=\"#009af9\" fill-rule=\"evenodd\" fill-opacity=\"1\" stroke=\"#000000\" stroke-opacity=\"1\" stroke-width=\"3.2\"/>\n",
       "<circle clip-path=\"url(#clip102)\" cx=\"847.944\" cy=\"1075.9\" r=\"14\" fill=\"#009af9\" fill-rule=\"evenodd\" fill-opacity=\"1\" stroke=\"#000000\" stroke-opacity=\"1\" stroke-width=\"3.2\"/>\n",
       "<circle clip-path=\"url(#clip102)\" cx=\"849.978\" cy=\"1074.61\" r=\"14\" fill=\"#009af9\" fill-rule=\"evenodd\" fill-opacity=\"1\" stroke=\"#000000\" stroke-opacity=\"1\" stroke-width=\"3.2\"/>\n",
       "<circle clip-path=\"url(#clip102)\" cx=\"852.012\" cy=\"1073.32\" r=\"14\" fill=\"#009af9\" fill-rule=\"evenodd\" fill-opacity=\"1\" stroke=\"#000000\" stroke-opacity=\"1\" stroke-width=\"3.2\"/>\n",
       "<circle clip-path=\"url(#clip102)\" cx=\"854.045\" cy=\"1072.04\" r=\"14\" fill=\"#009af9\" fill-rule=\"evenodd\" fill-opacity=\"1\" stroke=\"#000000\" stroke-opacity=\"1\" stroke-width=\"3.2\"/>\n",
       "<circle clip-path=\"url(#clip102)\" cx=\"856.079\" cy=\"1070.75\" r=\"14\" fill=\"#009af9\" fill-rule=\"evenodd\" fill-opacity=\"1\" stroke=\"#000000\" stroke-opacity=\"1\" stroke-width=\"3.2\"/>\n",
       "<circle clip-path=\"url(#clip102)\" cx=\"858.112\" cy=\"1069.46\" r=\"14\" fill=\"#009af9\" fill-rule=\"evenodd\" fill-opacity=\"1\" stroke=\"#000000\" stroke-opacity=\"1\" stroke-width=\"3.2\"/>\n",
       "<circle clip-path=\"url(#clip102)\" cx=\"860.146\" cy=\"1068.17\" r=\"14\" fill=\"#009af9\" fill-rule=\"evenodd\" fill-opacity=\"1\" stroke=\"#000000\" stroke-opacity=\"1\" stroke-width=\"3.2\"/>\n",
       "<circle clip-path=\"url(#clip102)\" cx=\"862.18\" cy=\"1066.89\" r=\"14\" fill=\"#009af9\" fill-rule=\"evenodd\" fill-opacity=\"1\" stroke=\"#000000\" stroke-opacity=\"1\" stroke-width=\"3.2\"/>\n",
       "<circle clip-path=\"url(#clip102)\" cx=\"864.213\" cy=\"1065.6\" r=\"14\" fill=\"#009af9\" fill-rule=\"evenodd\" fill-opacity=\"1\" stroke=\"#000000\" stroke-opacity=\"1\" stroke-width=\"3.2\"/>\n",
       "<circle clip-path=\"url(#clip102)\" cx=\"866.247\" cy=\"1064.31\" r=\"14\" fill=\"#009af9\" fill-rule=\"evenodd\" fill-opacity=\"1\" stroke=\"#000000\" stroke-opacity=\"1\" stroke-width=\"3.2\"/>\n",
       "<circle clip-path=\"url(#clip102)\" cx=\"868.28\" cy=\"1063.03\" r=\"14\" fill=\"#009af9\" fill-rule=\"evenodd\" fill-opacity=\"1\" stroke=\"#000000\" stroke-opacity=\"1\" stroke-width=\"3.2\"/>\n",
       "<circle clip-path=\"url(#clip102)\" cx=\"870.314\" cy=\"1061.74\" r=\"14\" fill=\"#009af9\" fill-rule=\"evenodd\" fill-opacity=\"1\" stroke=\"#000000\" stroke-opacity=\"1\" stroke-width=\"3.2\"/>\n",
       "<circle clip-path=\"url(#clip102)\" cx=\"872.348\" cy=\"1060.45\" r=\"14\" fill=\"#009af9\" fill-rule=\"evenodd\" fill-opacity=\"1\" stroke=\"#000000\" stroke-opacity=\"1\" stroke-width=\"3.2\"/>\n",
       "<circle clip-path=\"url(#clip102)\" cx=\"874.381\" cy=\"1059.16\" r=\"14\" fill=\"#009af9\" fill-rule=\"evenodd\" fill-opacity=\"1\" stroke=\"#000000\" stroke-opacity=\"1\" stroke-width=\"3.2\"/>\n",
       "<circle clip-path=\"url(#clip102)\" cx=\"876.415\" cy=\"1057.88\" r=\"14\" fill=\"#009af9\" fill-rule=\"evenodd\" fill-opacity=\"1\" stroke=\"#000000\" stroke-opacity=\"1\" stroke-width=\"3.2\"/>\n",
       "<circle clip-path=\"url(#clip102)\" cx=\"878.448\" cy=\"1056.59\" r=\"14\" fill=\"#009af9\" fill-rule=\"evenodd\" fill-opacity=\"1\" stroke=\"#000000\" stroke-opacity=\"1\" stroke-width=\"3.2\"/>\n",
       "<circle clip-path=\"url(#clip102)\" cx=\"880.482\" cy=\"1055.3\" r=\"14\" fill=\"#009af9\" fill-rule=\"evenodd\" fill-opacity=\"1\" stroke=\"#000000\" stroke-opacity=\"1\" stroke-width=\"3.2\"/>\n",
       "<circle clip-path=\"url(#clip102)\" cx=\"882.516\" cy=\"1054.02\" r=\"14\" fill=\"#009af9\" fill-rule=\"evenodd\" fill-opacity=\"1\" stroke=\"#000000\" stroke-opacity=\"1\" stroke-width=\"3.2\"/>\n",
       "<circle clip-path=\"url(#clip102)\" cx=\"884.549\" cy=\"1052.73\" r=\"14\" fill=\"#009af9\" fill-rule=\"evenodd\" fill-opacity=\"1\" stroke=\"#000000\" stroke-opacity=\"1\" stroke-width=\"3.2\"/>\n",
       "<circle clip-path=\"url(#clip102)\" cx=\"886.583\" cy=\"1051.44\" r=\"14\" fill=\"#009af9\" fill-rule=\"evenodd\" fill-opacity=\"1\" stroke=\"#000000\" stroke-opacity=\"1\" stroke-width=\"3.2\"/>\n",
       "<circle clip-path=\"url(#clip102)\" cx=\"888.617\" cy=\"1050.16\" r=\"14\" fill=\"#009af9\" fill-rule=\"evenodd\" fill-opacity=\"1\" stroke=\"#000000\" stroke-opacity=\"1\" stroke-width=\"3.2\"/>\n",
       "<circle clip-path=\"url(#clip102)\" cx=\"890.65\" cy=\"1048.87\" r=\"14\" fill=\"#009af9\" fill-rule=\"evenodd\" fill-opacity=\"1\" stroke=\"#000000\" stroke-opacity=\"1\" stroke-width=\"3.2\"/>\n",
       "<circle clip-path=\"url(#clip102)\" cx=\"892.684\" cy=\"1047.58\" r=\"14\" fill=\"#009af9\" fill-rule=\"evenodd\" fill-opacity=\"1\" stroke=\"#000000\" stroke-opacity=\"1\" stroke-width=\"3.2\"/>\n",
       "<circle clip-path=\"url(#clip102)\" cx=\"894.717\" cy=\"1046.29\" r=\"14\" fill=\"#009af9\" fill-rule=\"evenodd\" fill-opacity=\"1\" stroke=\"#000000\" stroke-opacity=\"1\" stroke-width=\"3.2\"/>\n",
       "<circle clip-path=\"url(#clip102)\" cx=\"896.751\" cy=\"1045.01\" r=\"14\" fill=\"#009af9\" fill-rule=\"evenodd\" fill-opacity=\"1\" stroke=\"#000000\" stroke-opacity=\"1\" stroke-width=\"3.2\"/>\n",
       "<circle clip-path=\"url(#clip102)\" cx=\"898.785\" cy=\"1043.72\" r=\"14\" fill=\"#009af9\" fill-rule=\"evenodd\" fill-opacity=\"1\" stroke=\"#000000\" stroke-opacity=\"1\" stroke-width=\"3.2\"/>\n",
       "<circle clip-path=\"url(#clip102)\" cx=\"900.818\" cy=\"1042.43\" r=\"14\" fill=\"#009af9\" fill-rule=\"evenodd\" fill-opacity=\"1\" stroke=\"#000000\" stroke-opacity=\"1\" stroke-width=\"3.2\"/>\n",
       "<circle clip-path=\"url(#clip102)\" cx=\"902.852\" cy=\"1041.15\" r=\"14\" fill=\"#009af9\" fill-rule=\"evenodd\" fill-opacity=\"1\" stroke=\"#000000\" stroke-opacity=\"1\" stroke-width=\"3.2\"/>\n",
       "<circle clip-path=\"url(#clip102)\" cx=\"904.885\" cy=\"1039.86\" r=\"14\" fill=\"#009af9\" fill-rule=\"evenodd\" fill-opacity=\"1\" stroke=\"#000000\" stroke-opacity=\"1\" stroke-width=\"3.2\"/>\n",
       "<circle clip-path=\"url(#clip102)\" cx=\"906.919\" cy=\"1038.57\" r=\"14\" fill=\"#009af9\" fill-rule=\"evenodd\" fill-opacity=\"1\" stroke=\"#000000\" stroke-opacity=\"1\" stroke-width=\"3.2\"/>\n",
       "<circle clip-path=\"url(#clip102)\" cx=\"908.953\" cy=\"1037.28\" r=\"14\" fill=\"#009af9\" fill-rule=\"evenodd\" fill-opacity=\"1\" stroke=\"#000000\" stroke-opacity=\"1\" stroke-width=\"3.2\"/>\n",
       "<circle clip-path=\"url(#clip102)\" cx=\"910.986\" cy=\"1036\" r=\"14\" fill=\"#009af9\" fill-rule=\"evenodd\" fill-opacity=\"1\" stroke=\"#000000\" stroke-opacity=\"1\" stroke-width=\"3.2\"/>\n",
       "<circle clip-path=\"url(#clip102)\" cx=\"913.02\" cy=\"1034.71\" r=\"14\" fill=\"#009af9\" fill-rule=\"evenodd\" fill-opacity=\"1\" stroke=\"#000000\" stroke-opacity=\"1\" stroke-width=\"3.2\"/>\n",
       "<circle clip-path=\"url(#clip102)\" cx=\"915.053\" cy=\"1033.42\" r=\"14\" fill=\"#009af9\" fill-rule=\"evenodd\" fill-opacity=\"1\" stroke=\"#000000\" stroke-opacity=\"1\" stroke-width=\"3.2\"/>\n",
       "<circle clip-path=\"url(#clip102)\" cx=\"917.087\" cy=\"1032.14\" r=\"14\" fill=\"#009af9\" fill-rule=\"evenodd\" fill-opacity=\"1\" stroke=\"#000000\" stroke-opacity=\"1\" stroke-width=\"3.2\"/>\n",
       "<circle clip-path=\"url(#clip102)\" cx=\"919.121\" cy=\"1030.85\" r=\"14\" fill=\"#009af9\" fill-rule=\"evenodd\" fill-opacity=\"1\" stroke=\"#000000\" stroke-opacity=\"1\" stroke-width=\"3.2\"/>\n",
       "<circle clip-path=\"url(#clip102)\" cx=\"921.154\" cy=\"1029.56\" r=\"14\" fill=\"#009af9\" fill-rule=\"evenodd\" fill-opacity=\"1\" stroke=\"#000000\" stroke-opacity=\"1\" stroke-width=\"3.2\"/>\n",
       "<circle clip-path=\"url(#clip102)\" cx=\"923.188\" cy=\"1028.27\" r=\"14\" fill=\"#009af9\" fill-rule=\"evenodd\" fill-opacity=\"1\" stroke=\"#000000\" stroke-opacity=\"1\" stroke-width=\"3.2\"/>\n",
       "<circle clip-path=\"url(#clip102)\" cx=\"925.222\" cy=\"1026.99\" r=\"14\" fill=\"#009af9\" fill-rule=\"evenodd\" fill-opacity=\"1\" stroke=\"#000000\" stroke-opacity=\"1\" stroke-width=\"3.2\"/>\n",
       "<circle clip-path=\"url(#clip102)\" cx=\"927.255\" cy=\"1025.7\" r=\"14\" fill=\"#009af9\" fill-rule=\"evenodd\" fill-opacity=\"1\" stroke=\"#000000\" stroke-opacity=\"1\" stroke-width=\"3.2\"/>\n",
       "<circle clip-path=\"url(#clip102)\" cx=\"929.289\" cy=\"1024.41\" r=\"14\" fill=\"#009af9\" fill-rule=\"evenodd\" fill-opacity=\"1\" stroke=\"#000000\" stroke-opacity=\"1\" stroke-width=\"3.2\"/>\n",
       "<circle clip-path=\"url(#clip102)\" cx=\"931.322\" cy=\"1023.13\" r=\"14\" fill=\"#009af9\" fill-rule=\"evenodd\" fill-opacity=\"1\" stroke=\"#000000\" stroke-opacity=\"1\" stroke-width=\"3.2\"/>\n",
       "<circle clip-path=\"url(#clip102)\" cx=\"933.356\" cy=\"1021.84\" r=\"14\" fill=\"#009af9\" fill-rule=\"evenodd\" fill-opacity=\"1\" stroke=\"#000000\" stroke-opacity=\"1\" stroke-width=\"3.2\"/>\n",
       "<circle clip-path=\"url(#clip102)\" cx=\"935.39\" cy=\"1020.55\" r=\"14\" fill=\"#009af9\" fill-rule=\"evenodd\" fill-opacity=\"1\" stroke=\"#000000\" stroke-opacity=\"1\" stroke-width=\"3.2\"/>\n",
       "<circle clip-path=\"url(#clip102)\" cx=\"937.423\" cy=\"1019.26\" r=\"14\" fill=\"#009af9\" fill-rule=\"evenodd\" fill-opacity=\"1\" stroke=\"#000000\" stroke-opacity=\"1\" stroke-width=\"3.2\"/>\n",
       "<circle clip-path=\"url(#clip102)\" cx=\"939.457\" cy=\"1017.98\" r=\"14\" fill=\"#009af9\" fill-rule=\"evenodd\" fill-opacity=\"1\" stroke=\"#000000\" stroke-opacity=\"1\" stroke-width=\"3.2\"/>\n",
       "<circle clip-path=\"url(#clip102)\" cx=\"941.49\" cy=\"1016.69\" r=\"14\" fill=\"#009af9\" fill-rule=\"evenodd\" fill-opacity=\"1\" stroke=\"#000000\" stroke-opacity=\"1\" stroke-width=\"3.2\"/>\n",
       "<circle clip-path=\"url(#clip102)\" cx=\"943.524\" cy=\"1015.4\" r=\"14\" fill=\"#009af9\" fill-rule=\"evenodd\" fill-opacity=\"1\" stroke=\"#000000\" stroke-opacity=\"1\" stroke-width=\"3.2\"/>\n",
       "<circle clip-path=\"url(#clip102)\" cx=\"945.558\" cy=\"1014.12\" r=\"14\" fill=\"#009af9\" fill-rule=\"evenodd\" fill-opacity=\"1\" stroke=\"#000000\" stroke-opacity=\"1\" stroke-width=\"3.2\"/>\n",
       "<circle clip-path=\"url(#clip102)\" cx=\"947.591\" cy=\"1012.83\" r=\"14\" fill=\"#009af9\" fill-rule=\"evenodd\" fill-opacity=\"1\" stroke=\"#000000\" stroke-opacity=\"1\" stroke-width=\"3.2\"/>\n",
       "<circle clip-path=\"url(#clip102)\" cx=\"949.625\" cy=\"1011.54\" r=\"14\" fill=\"#009af9\" fill-rule=\"evenodd\" fill-opacity=\"1\" stroke=\"#000000\" stroke-opacity=\"1\" stroke-width=\"3.2\"/>\n",
       "<circle clip-path=\"url(#clip102)\" cx=\"951.658\" cy=\"1010.25\" r=\"14\" fill=\"#009af9\" fill-rule=\"evenodd\" fill-opacity=\"1\" stroke=\"#000000\" stroke-opacity=\"1\" stroke-width=\"3.2\"/>\n",
       "<circle clip-path=\"url(#clip102)\" cx=\"953.692\" cy=\"1008.97\" r=\"14\" fill=\"#009af9\" fill-rule=\"evenodd\" fill-opacity=\"1\" stroke=\"#000000\" stroke-opacity=\"1\" stroke-width=\"3.2\"/>\n",
       "<circle clip-path=\"url(#clip102)\" cx=\"955.726\" cy=\"1007.68\" r=\"14\" fill=\"#009af9\" fill-rule=\"evenodd\" fill-opacity=\"1\" stroke=\"#000000\" stroke-opacity=\"1\" stroke-width=\"3.2\"/>\n",
       "<circle clip-path=\"url(#clip102)\" cx=\"957.759\" cy=\"1006.39\" r=\"14\" fill=\"#009af9\" fill-rule=\"evenodd\" fill-opacity=\"1\" stroke=\"#000000\" stroke-opacity=\"1\" stroke-width=\"3.2\"/>\n",
       "<circle clip-path=\"url(#clip102)\" cx=\"959.793\" cy=\"1005.11\" r=\"14\" fill=\"#009af9\" fill-rule=\"evenodd\" fill-opacity=\"1\" stroke=\"#000000\" stroke-opacity=\"1\" stroke-width=\"3.2\"/>\n",
       "<circle clip-path=\"url(#clip102)\" cx=\"961.827\" cy=\"1003.82\" r=\"14\" fill=\"#009af9\" fill-rule=\"evenodd\" fill-opacity=\"1\" stroke=\"#000000\" stroke-opacity=\"1\" stroke-width=\"3.2\"/>\n",
       "<circle clip-path=\"url(#clip102)\" cx=\"963.86\" cy=\"1002.53\" r=\"14\" fill=\"#009af9\" fill-rule=\"evenodd\" fill-opacity=\"1\" stroke=\"#000000\" stroke-opacity=\"1\" stroke-width=\"3.2\"/>\n",
       "<circle clip-path=\"url(#clip102)\" cx=\"965.894\" cy=\"1001.24\" r=\"14\" fill=\"#009af9\" fill-rule=\"evenodd\" fill-opacity=\"1\" stroke=\"#000000\" stroke-opacity=\"1\" stroke-width=\"3.2\"/>\n",
       "<circle clip-path=\"url(#clip102)\" cx=\"967.927\" cy=\"999.958\" r=\"14\" fill=\"#009af9\" fill-rule=\"evenodd\" fill-opacity=\"1\" stroke=\"#000000\" stroke-opacity=\"1\" stroke-width=\"3.2\"/>\n",
       "<circle clip-path=\"url(#clip102)\" cx=\"969.961\" cy=\"998.671\" r=\"14\" fill=\"#009af9\" fill-rule=\"evenodd\" fill-opacity=\"1\" stroke=\"#000000\" stroke-opacity=\"1\" stroke-width=\"3.2\"/>\n",
       "<circle clip-path=\"url(#clip102)\" cx=\"971.995\" cy=\"997.383\" r=\"14\" fill=\"#009af9\" fill-rule=\"evenodd\" fill-opacity=\"1\" stroke=\"#000000\" stroke-opacity=\"1\" stroke-width=\"3.2\"/>\n",
       "<circle clip-path=\"url(#clip102)\" cx=\"974.028\" cy=\"996.096\" r=\"14\" fill=\"#009af9\" fill-rule=\"evenodd\" fill-opacity=\"1\" stroke=\"#000000\" stroke-opacity=\"1\" stroke-width=\"3.2\"/>\n",
       "<circle clip-path=\"url(#clip102)\" cx=\"976.062\" cy=\"994.809\" r=\"14\" fill=\"#009af9\" fill-rule=\"evenodd\" fill-opacity=\"1\" stroke=\"#000000\" stroke-opacity=\"1\" stroke-width=\"3.2\"/>\n",
       "<circle clip-path=\"url(#clip102)\" cx=\"978.095\" cy=\"993.522\" r=\"14\" fill=\"#009af9\" fill-rule=\"evenodd\" fill-opacity=\"1\" stroke=\"#000000\" stroke-opacity=\"1\" stroke-width=\"3.2\"/>\n",
       "<circle clip-path=\"url(#clip102)\" cx=\"980.129\" cy=\"992.235\" r=\"14\" fill=\"#009af9\" fill-rule=\"evenodd\" fill-opacity=\"1\" stroke=\"#000000\" stroke-opacity=\"1\" stroke-width=\"3.2\"/>\n",
       "<circle clip-path=\"url(#clip102)\" cx=\"982.163\" cy=\"990.948\" r=\"14\" fill=\"#009af9\" fill-rule=\"evenodd\" fill-opacity=\"1\" stroke=\"#000000\" stroke-opacity=\"1\" stroke-width=\"3.2\"/>\n",
       "<circle clip-path=\"url(#clip102)\" cx=\"984.196\" cy=\"989.661\" r=\"14\" fill=\"#009af9\" fill-rule=\"evenodd\" fill-opacity=\"1\" stroke=\"#000000\" stroke-opacity=\"1\" stroke-width=\"3.2\"/>\n",
       "<circle clip-path=\"url(#clip102)\" cx=\"986.23\" cy=\"988.374\" r=\"14\" fill=\"#009af9\" fill-rule=\"evenodd\" fill-opacity=\"1\" stroke=\"#000000\" stroke-opacity=\"1\" stroke-width=\"3.2\"/>\n",
       "<circle clip-path=\"url(#clip102)\" cx=\"988.264\" cy=\"987.087\" r=\"14\" fill=\"#009af9\" fill-rule=\"evenodd\" fill-opacity=\"1\" stroke=\"#000000\" stroke-opacity=\"1\" stroke-width=\"3.2\"/>\n",
       "<circle clip-path=\"url(#clip102)\" cx=\"990.297\" cy=\"985.799\" r=\"14\" fill=\"#009af9\" fill-rule=\"evenodd\" fill-opacity=\"1\" stroke=\"#000000\" stroke-opacity=\"1\" stroke-width=\"3.2\"/>\n",
       "<circle clip-path=\"url(#clip102)\" cx=\"992.331\" cy=\"984.512\" r=\"14\" fill=\"#009af9\" fill-rule=\"evenodd\" fill-opacity=\"1\" stroke=\"#000000\" stroke-opacity=\"1\" stroke-width=\"3.2\"/>\n",
       "<circle clip-path=\"url(#clip102)\" cx=\"994.364\" cy=\"983.225\" r=\"14\" fill=\"#009af9\" fill-rule=\"evenodd\" fill-opacity=\"1\" stroke=\"#000000\" stroke-opacity=\"1\" stroke-width=\"3.2\"/>\n",
       "<circle clip-path=\"url(#clip102)\" cx=\"996.398\" cy=\"981.938\" r=\"14\" fill=\"#009af9\" fill-rule=\"evenodd\" fill-opacity=\"1\" stroke=\"#000000\" stroke-opacity=\"1\" stroke-width=\"3.2\"/>\n",
       "<circle clip-path=\"url(#clip102)\" cx=\"998.432\" cy=\"980.651\" r=\"14\" fill=\"#009af9\" fill-rule=\"evenodd\" fill-opacity=\"1\" stroke=\"#000000\" stroke-opacity=\"1\" stroke-width=\"3.2\"/>\n",
       "<circle clip-path=\"url(#clip102)\" cx=\"1000.47\" cy=\"979.364\" r=\"14\" fill=\"#009af9\" fill-rule=\"evenodd\" fill-opacity=\"1\" stroke=\"#000000\" stroke-opacity=\"1\" stroke-width=\"3.2\"/>\n",
       "<circle clip-path=\"url(#clip102)\" cx=\"1002.5\" cy=\"978.077\" r=\"14\" fill=\"#009af9\" fill-rule=\"evenodd\" fill-opacity=\"1\" stroke=\"#000000\" stroke-opacity=\"1\" stroke-width=\"3.2\"/>\n",
       "<circle clip-path=\"url(#clip102)\" cx=\"1004.53\" cy=\"976.79\" r=\"14\" fill=\"#009af9\" fill-rule=\"evenodd\" fill-opacity=\"1\" stroke=\"#000000\" stroke-opacity=\"1\" stroke-width=\"3.2\"/>\n",
       "<circle clip-path=\"url(#clip102)\" cx=\"1006.57\" cy=\"975.503\" r=\"14\" fill=\"#009af9\" fill-rule=\"evenodd\" fill-opacity=\"1\" stroke=\"#000000\" stroke-opacity=\"1\" stroke-width=\"3.2\"/>\n",
       "<circle clip-path=\"url(#clip102)\" cx=\"1008.6\" cy=\"974.215\" r=\"14\" fill=\"#009af9\" fill-rule=\"evenodd\" fill-opacity=\"1\" stroke=\"#000000\" stroke-opacity=\"1\" stroke-width=\"3.2\"/>\n",
       "<circle clip-path=\"url(#clip102)\" cx=\"1010.63\" cy=\"972.928\" r=\"14\" fill=\"#009af9\" fill-rule=\"evenodd\" fill-opacity=\"1\" stroke=\"#000000\" stroke-opacity=\"1\" stroke-width=\"3.2\"/>\n",
       "<circle clip-path=\"url(#clip102)\" cx=\"1012.67\" cy=\"971.641\" r=\"14\" fill=\"#009af9\" fill-rule=\"evenodd\" fill-opacity=\"1\" stroke=\"#000000\" stroke-opacity=\"1\" stroke-width=\"3.2\"/>\n",
       "<circle clip-path=\"url(#clip102)\" cx=\"1014.7\" cy=\"970.354\" r=\"14\" fill=\"#009af9\" fill-rule=\"evenodd\" fill-opacity=\"1\" stroke=\"#000000\" stroke-opacity=\"1\" stroke-width=\"3.2\"/>\n",
       "<circle clip-path=\"url(#clip102)\" cx=\"1016.73\" cy=\"969.067\" r=\"14\" fill=\"#009af9\" fill-rule=\"evenodd\" fill-opacity=\"1\" stroke=\"#000000\" stroke-opacity=\"1\" stroke-width=\"3.2\"/>\n",
       "<circle clip-path=\"url(#clip102)\" cx=\"1018.77\" cy=\"967.78\" r=\"14\" fill=\"#009af9\" fill-rule=\"evenodd\" fill-opacity=\"1\" stroke=\"#000000\" stroke-opacity=\"1\" stroke-width=\"3.2\"/>\n",
       "<circle clip-path=\"url(#clip102)\" cx=\"1020.8\" cy=\"966.493\" r=\"14\" fill=\"#009af9\" fill-rule=\"evenodd\" fill-opacity=\"1\" stroke=\"#000000\" stroke-opacity=\"1\" stroke-width=\"3.2\"/>\n",
       "<circle clip-path=\"url(#clip102)\" cx=\"1022.83\" cy=\"965.206\" r=\"14\" fill=\"#009af9\" fill-rule=\"evenodd\" fill-opacity=\"1\" stroke=\"#000000\" stroke-opacity=\"1\" stroke-width=\"3.2\"/>\n",
       "<circle clip-path=\"url(#clip102)\" cx=\"1024.87\" cy=\"963.918\" r=\"14\" fill=\"#009af9\" fill-rule=\"evenodd\" fill-opacity=\"1\" stroke=\"#000000\" stroke-opacity=\"1\" stroke-width=\"3.2\"/>\n",
       "<circle clip-path=\"url(#clip102)\" cx=\"1026.9\" cy=\"962.631\" r=\"14\" fill=\"#009af9\" fill-rule=\"evenodd\" fill-opacity=\"1\" stroke=\"#000000\" stroke-opacity=\"1\" stroke-width=\"3.2\"/>\n",
       "<circle clip-path=\"url(#clip102)\" cx=\"1028.94\" cy=\"961.344\" r=\"14\" fill=\"#009af9\" fill-rule=\"evenodd\" fill-opacity=\"1\" stroke=\"#000000\" stroke-opacity=\"1\" stroke-width=\"3.2\"/>\n",
       "<circle clip-path=\"url(#clip102)\" cx=\"1030.97\" cy=\"960.057\" r=\"14\" fill=\"#009af9\" fill-rule=\"evenodd\" fill-opacity=\"1\" stroke=\"#000000\" stroke-opacity=\"1\" stroke-width=\"3.2\"/>\n",
       "<circle clip-path=\"url(#clip102)\" cx=\"1033\" cy=\"958.77\" r=\"14\" fill=\"#009af9\" fill-rule=\"evenodd\" fill-opacity=\"1\" stroke=\"#000000\" stroke-opacity=\"1\" stroke-width=\"3.2\"/>\n",
       "<circle clip-path=\"url(#clip102)\" cx=\"1035.04\" cy=\"957.483\" r=\"14\" fill=\"#009af9\" fill-rule=\"evenodd\" fill-opacity=\"1\" stroke=\"#000000\" stroke-opacity=\"1\" stroke-width=\"3.2\"/>\n",
       "<circle clip-path=\"url(#clip102)\" cx=\"1037.07\" cy=\"956.196\" r=\"14\" fill=\"#009af9\" fill-rule=\"evenodd\" fill-opacity=\"1\" stroke=\"#000000\" stroke-opacity=\"1\" stroke-width=\"3.2\"/>\n",
       "<circle clip-path=\"url(#clip102)\" cx=\"1039.1\" cy=\"954.909\" r=\"14\" fill=\"#009af9\" fill-rule=\"evenodd\" fill-opacity=\"1\" stroke=\"#000000\" stroke-opacity=\"1\" stroke-width=\"3.2\"/>\n",
       "<circle clip-path=\"url(#clip102)\" cx=\"1041.14\" cy=\"953.622\" r=\"14\" fill=\"#009af9\" fill-rule=\"evenodd\" fill-opacity=\"1\" stroke=\"#000000\" stroke-opacity=\"1\" stroke-width=\"3.2\"/>\n",
       "<circle clip-path=\"url(#clip102)\" cx=\"1043.17\" cy=\"952.334\" r=\"14\" fill=\"#009af9\" fill-rule=\"evenodd\" fill-opacity=\"1\" stroke=\"#000000\" stroke-opacity=\"1\" stroke-width=\"3.2\"/>\n",
       "<circle clip-path=\"url(#clip102)\" cx=\"1045.2\" cy=\"951.047\" r=\"14\" fill=\"#009af9\" fill-rule=\"evenodd\" fill-opacity=\"1\" stroke=\"#000000\" stroke-opacity=\"1\" stroke-width=\"3.2\"/>\n",
       "<circle clip-path=\"url(#clip102)\" cx=\"1047.24\" cy=\"949.76\" r=\"14\" fill=\"#009af9\" fill-rule=\"evenodd\" fill-opacity=\"1\" stroke=\"#000000\" stroke-opacity=\"1\" stroke-width=\"3.2\"/>\n",
       "<circle clip-path=\"url(#clip102)\" cx=\"1049.27\" cy=\"948.473\" r=\"14\" fill=\"#009af9\" fill-rule=\"evenodd\" fill-opacity=\"1\" stroke=\"#000000\" stroke-opacity=\"1\" stroke-width=\"3.2\"/>\n",
       "<circle clip-path=\"url(#clip102)\" cx=\"1051.31\" cy=\"947.186\" r=\"14\" fill=\"#009af9\" fill-rule=\"evenodd\" fill-opacity=\"1\" stroke=\"#000000\" stroke-opacity=\"1\" stroke-width=\"3.2\"/>\n",
       "<circle clip-path=\"url(#clip102)\" cx=\"1053.34\" cy=\"945.899\" r=\"14\" fill=\"#009af9\" fill-rule=\"evenodd\" fill-opacity=\"1\" stroke=\"#000000\" stroke-opacity=\"1\" stroke-width=\"3.2\"/>\n",
       "<circle clip-path=\"url(#clip102)\" cx=\"1055.37\" cy=\"944.612\" r=\"14\" fill=\"#009af9\" fill-rule=\"evenodd\" fill-opacity=\"1\" stroke=\"#000000\" stroke-opacity=\"1\" stroke-width=\"3.2\"/>\n",
       "<circle clip-path=\"url(#clip102)\" cx=\"1057.41\" cy=\"943.325\" r=\"14\" fill=\"#009af9\" fill-rule=\"evenodd\" fill-opacity=\"1\" stroke=\"#000000\" stroke-opacity=\"1\" stroke-width=\"3.2\"/>\n",
       "<circle clip-path=\"url(#clip102)\" cx=\"1059.44\" cy=\"942.038\" r=\"14\" fill=\"#009af9\" fill-rule=\"evenodd\" fill-opacity=\"1\" stroke=\"#000000\" stroke-opacity=\"1\" stroke-width=\"3.2\"/>\n",
       "<circle clip-path=\"url(#clip102)\" cx=\"1061.47\" cy=\"940.75\" r=\"14\" fill=\"#009af9\" fill-rule=\"evenodd\" fill-opacity=\"1\" stroke=\"#000000\" stroke-opacity=\"1\" stroke-width=\"3.2\"/>\n",
       "<circle clip-path=\"url(#clip102)\" cx=\"1063.51\" cy=\"939.463\" r=\"14\" fill=\"#009af9\" fill-rule=\"evenodd\" fill-opacity=\"1\" stroke=\"#000000\" stroke-opacity=\"1\" stroke-width=\"3.2\"/>\n",
       "<circle clip-path=\"url(#clip102)\" cx=\"1065.54\" cy=\"938.176\" r=\"14\" fill=\"#009af9\" fill-rule=\"evenodd\" fill-opacity=\"1\" stroke=\"#000000\" stroke-opacity=\"1\" stroke-width=\"3.2\"/>\n",
       "<circle clip-path=\"url(#clip102)\" cx=\"1067.57\" cy=\"936.889\" r=\"14\" fill=\"#009af9\" fill-rule=\"evenodd\" fill-opacity=\"1\" stroke=\"#000000\" stroke-opacity=\"1\" stroke-width=\"3.2\"/>\n",
       "<circle clip-path=\"url(#clip102)\" cx=\"1069.61\" cy=\"935.602\" r=\"14\" fill=\"#009af9\" fill-rule=\"evenodd\" fill-opacity=\"1\" stroke=\"#000000\" stroke-opacity=\"1\" stroke-width=\"3.2\"/>\n",
       "<circle clip-path=\"url(#clip102)\" cx=\"1071.64\" cy=\"934.315\" r=\"14\" fill=\"#009af9\" fill-rule=\"evenodd\" fill-opacity=\"1\" stroke=\"#000000\" stroke-opacity=\"1\" stroke-width=\"3.2\"/>\n",
       "<circle clip-path=\"url(#clip102)\" cx=\"1073.68\" cy=\"933.028\" r=\"14\" fill=\"#009af9\" fill-rule=\"evenodd\" fill-opacity=\"1\" stroke=\"#000000\" stroke-opacity=\"1\" stroke-width=\"3.2\"/>\n",
       "<circle clip-path=\"url(#clip102)\" cx=\"1075.71\" cy=\"931.741\" r=\"14\" fill=\"#009af9\" fill-rule=\"evenodd\" fill-opacity=\"1\" stroke=\"#000000\" stroke-opacity=\"1\" stroke-width=\"3.2\"/>\n",
       "<circle clip-path=\"url(#clip102)\" cx=\"1077.74\" cy=\"930.454\" r=\"14\" fill=\"#009af9\" fill-rule=\"evenodd\" fill-opacity=\"1\" stroke=\"#000000\" stroke-opacity=\"1\" stroke-width=\"3.2\"/>\n",
       "<circle clip-path=\"url(#clip102)\" cx=\"1079.78\" cy=\"929.166\" r=\"14\" fill=\"#009af9\" fill-rule=\"evenodd\" fill-opacity=\"1\" stroke=\"#000000\" stroke-opacity=\"1\" stroke-width=\"3.2\"/>\n",
       "<circle clip-path=\"url(#clip102)\" cx=\"1081.81\" cy=\"927.879\" r=\"14\" fill=\"#009af9\" fill-rule=\"evenodd\" fill-opacity=\"1\" stroke=\"#000000\" stroke-opacity=\"1\" stroke-width=\"3.2\"/>\n",
       "<circle clip-path=\"url(#clip102)\" cx=\"1083.84\" cy=\"926.592\" r=\"14\" fill=\"#009af9\" fill-rule=\"evenodd\" fill-opacity=\"1\" stroke=\"#000000\" stroke-opacity=\"1\" stroke-width=\"3.2\"/>\n",
       "<circle clip-path=\"url(#clip102)\" cx=\"1085.88\" cy=\"925.305\" r=\"14\" fill=\"#009af9\" fill-rule=\"evenodd\" fill-opacity=\"1\" stroke=\"#000000\" stroke-opacity=\"1\" stroke-width=\"3.2\"/>\n",
       "<circle clip-path=\"url(#clip102)\" cx=\"1087.91\" cy=\"924.018\" r=\"14\" fill=\"#009af9\" fill-rule=\"evenodd\" fill-opacity=\"1\" stroke=\"#000000\" stroke-opacity=\"1\" stroke-width=\"3.2\"/>\n",
       "<circle clip-path=\"url(#clip102)\" cx=\"1089.94\" cy=\"922.731\" r=\"14\" fill=\"#009af9\" fill-rule=\"evenodd\" fill-opacity=\"1\" stroke=\"#000000\" stroke-opacity=\"1\" stroke-width=\"3.2\"/>\n",
       "<circle clip-path=\"url(#clip102)\" cx=\"1091.98\" cy=\"921.444\" r=\"14\" fill=\"#009af9\" fill-rule=\"evenodd\" fill-opacity=\"1\" stroke=\"#000000\" stroke-opacity=\"1\" stroke-width=\"3.2\"/>\n",
       "<circle clip-path=\"url(#clip102)\" cx=\"1094.01\" cy=\"920.157\" r=\"14\" fill=\"#009af9\" fill-rule=\"evenodd\" fill-opacity=\"1\" stroke=\"#000000\" stroke-opacity=\"1\" stroke-width=\"3.2\"/>\n",
       "<circle clip-path=\"url(#clip102)\" cx=\"1096.04\" cy=\"918.87\" r=\"14\" fill=\"#009af9\" fill-rule=\"evenodd\" fill-opacity=\"1\" stroke=\"#000000\" stroke-opacity=\"1\" stroke-width=\"3.2\"/>\n",
       "<circle clip-path=\"url(#clip102)\" cx=\"1098.08\" cy=\"917.582\" r=\"14\" fill=\"#009af9\" fill-rule=\"evenodd\" fill-opacity=\"1\" stroke=\"#000000\" stroke-opacity=\"1\" stroke-width=\"3.2\"/>\n",
       "<circle clip-path=\"url(#clip102)\" cx=\"1100.11\" cy=\"916.295\" r=\"14\" fill=\"#009af9\" fill-rule=\"evenodd\" fill-opacity=\"1\" stroke=\"#000000\" stroke-opacity=\"1\" stroke-width=\"3.2\"/>\n",
       "<circle clip-path=\"url(#clip102)\" cx=\"1102.15\" cy=\"915.008\" r=\"14\" fill=\"#009af9\" fill-rule=\"evenodd\" fill-opacity=\"1\" stroke=\"#000000\" stroke-opacity=\"1\" stroke-width=\"3.2\"/>\n",
       "<circle clip-path=\"url(#clip102)\" cx=\"1104.18\" cy=\"913.721\" r=\"14\" fill=\"#009af9\" fill-rule=\"evenodd\" fill-opacity=\"1\" stroke=\"#000000\" stroke-opacity=\"1\" stroke-width=\"3.2\"/>\n",
       "<circle clip-path=\"url(#clip102)\" cx=\"1106.21\" cy=\"912.434\" r=\"14\" fill=\"#009af9\" fill-rule=\"evenodd\" fill-opacity=\"1\" stroke=\"#000000\" stroke-opacity=\"1\" stroke-width=\"3.2\"/>\n",
       "<circle clip-path=\"url(#clip102)\" cx=\"1108.25\" cy=\"911.147\" r=\"14\" fill=\"#009af9\" fill-rule=\"evenodd\" fill-opacity=\"1\" stroke=\"#000000\" stroke-opacity=\"1\" stroke-width=\"3.2\"/>\n",
       "<circle clip-path=\"url(#clip102)\" cx=\"1110.28\" cy=\"909.86\" r=\"14\" fill=\"#009af9\" fill-rule=\"evenodd\" fill-opacity=\"1\" stroke=\"#000000\" stroke-opacity=\"1\" stroke-width=\"3.2\"/>\n",
       "<circle clip-path=\"url(#clip102)\" cx=\"1112.31\" cy=\"908.573\" r=\"14\" fill=\"#009af9\" fill-rule=\"evenodd\" fill-opacity=\"1\" stroke=\"#000000\" stroke-opacity=\"1\" stroke-width=\"3.2\"/>\n",
       "<circle clip-path=\"url(#clip102)\" cx=\"1114.35\" cy=\"907.286\" r=\"14\" fill=\"#009af9\" fill-rule=\"evenodd\" fill-opacity=\"1\" stroke=\"#000000\" stroke-opacity=\"1\" stroke-width=\"3.2\"/>\n",
       "<circle clip-path=\"url(#clip102)\" cx=\"1116.38\" cy=\"905.998\" r=\"14\" fill=\"#009af9\" fill-rule=\"evenodd\" fill-opacity=\"1\" stroke=\"#000000\" stroke-opacity=\"1\" stroke-width=\"3.2\"/>\n",
       "<circle clip-path=\"url(#clip102)\" cx=\"1118.41\" cy=\"904.711\" r=\"14\" fill=\"#009af9\" fill-rule=\"evenodd\" fill-opacity=\"1\" stroke=\"#000000\" stroke-opacity=\"1\" stroke-width=\"3.2\"/>\n",
       "<circle clip-path=\"url(#clip102)\" cx=\"1120.45\" cy=\"903.424\" r=\"14\" fill=\"#009af9\" fill-rule=\"evenodd\" fill-opacity=\"1\" stroke=\"#000000\" stroke-opacity=\"1\" stroke-width=\"3.2\"/>\n",
       "<circle clip-path=\"url(#clip102)\" cx=\"1122.48\" cy=\"902.137\" r=\"14\" fill=\"#009af9\" fill-rule=\"evenodd\" fill-opacity=\"1\" stroke=\"#000000\" stroke-opacity=\"1\" stroke-width=\"3.2\"/>\n",
       "<circle clip-path=\"url(#clip102)\" cx=\"1124.52\" cy=\"900.85\" r=\"14\" fill=\"#009af9\" fill-rule=\"evenodd\" fill-opacity=\"1\" stroke=\"#000000\" stroke-opacity=\"1\" stroke-width=\"3.2\"/>\n",
       "<circle clip-path=\"url(#clip102)\" cx=\"1126.55\" cy=\"899.563\" r=\"14\" fill=\"#009af9\" fill-rule=\"evenodd\" fill-opacity=\"1\" stroke=\"#000000\" stroke-opacity=\"1\" stroke-width=\"3.2\"/>\n",
       "<circle clip-path=\"url(#clip102)\" cx=\"1128.58\" cy=\"898.276\" r=\"14\" fill=\"#009af9\" fill-rule=\"evenodd\" fill-opacity=\"1\" stroke=\"#000000\" stroke-opacity=\"1\" stroke-width=\"3.2\"/>\n",
       "<circle clip-path=\"url(#clip102)\" cx=\"1130.62\" cy=\"896.989\" r=\"14\" fill=\"#009af9\" fill-rule=\"evenodd\" fill-opacity=\"1\" stroke=\"#000000\" stroke-opacity=\"1\" stroke-width=\"3.2\"/>\n",
       "<circle clip-path=\"url(#clip102)\" cx=\"1132.65\" cy=\"895.701\" r=\"14\" fill=\"#009af9\" fill-rule=\"evenodd\" fill-opacity=\"1\" stroke=\"#000000\" stroke-opacity=\"1\" stroke-width=\"3.2\"/>\n",
       "<circle clip-path=\"url(#clip102)\" cx=\"1134.68\" cy=\"894.414\" r=\"14\" fill=\"#009af9\" fill-rule=\"evenodd\" fill-opacity=\"1\" stroke=\"#000000\" stroke-opacity=\"1\" stroke-width=\"3.2\"/>\n",
       "<circle clip-path=\"url(#clip102)\" cx=\"1136.72\" cy=\"893.127\" r=\"14\" fill=\"#009af9\" fill-rule=\"evenodd\" fill-opacity=\"1\" stroke=\"#000000\" stroke-opacity=\"1\" stroke-width=\"3.2\"/>\n",
       "<circle clip-path=\"url(#clip102)\" cx=\"1138.75\" cy=\"891.84\" r=\"14\" fill=\"#009af9\" fill-rule=\"evenodd\" fill-opacity=\"1\" stroke=\"#000000\" stroke-opacity=\"1\" stroke-width=\"3.2\"/>\n",
       "<circle clip-path=\"url(#clip102)\" cx=\"1140.78\" cy=\"890.553\" r=\"14\" fill=\"#009af9\" fill-rule=\"evenodd\" fill-opacity=\"1\" stroke=\"#000000\" stroke-opacity=\"1\" stroke-width=\"3.2\"/>\n",
       "<circle clip-path=\"url(#clip102)\" cx=\"1142.82\" cy=\"889.266\" r=\"14\" fill=\"#009af9\" fill-rule=\"evenodd\" fill-opacity=\"1\" stroke=\"#000000\" stroke-opacity=\"1\" stroke-width=\"3.2\"/>\n",
       "<circle clip-path=\"url(#clip102)\" cx=\"1144.85\" cy=\"887.979\" r=\"14\" fill=\"#009af9\" fill-rule=\"evenodd\" fill-opacity=\"1\" stroke=\"#000000\" stroke-opacity=\"1\" stroke-width=\"3.2\"/>\n",
       "<circle clip-path=\"url(#clip102)\" cx=\"1146.89\" cy=\"886.692\" r=\"14\" fill=\"#009af9\" fill-rule=\"evenodd\" fill-opacity=\"1\" stroke=\"#000000\" stroke-opacity=\"1\" stroke-width=\"3.2\"/>\n",
       "<circle clip-path=\"url(#clip102)\" cx=\"1148.92\" cy=\"885.405\" r=\"14\" fill=\"#009af9\" fill-rule=\"evenodd\" fill-opacity=\"1\" stroke=\"#000000\" stroke-opacity=\"1\" stroke-width=\"3.2\"/>\n",
       "<circle clip-path=\"url(#clip102)\" cx=\"1150.95\" cy=\"884.117\" r=\"14\" fill=\"#009af9\" fill-rule=\"evenodd\" fill-opacity=\"1\" stroke=\"#000000\" stroke-opacity=\"1\" stroke-width=\"3.2\"/>\n",
       "<circle clip-path=\"url(#clip102)\" cx=\"1152.99\" cy=\"882.83\" r=\"14\" fill=\"#009af9\" fill-rule=\"evenodd\" fill-opacity=\"1\" stroke=\"#000000\" stroke-opacity=\"1\" stroke-width=\"3.2\"/>\n",
       "<circle clip-path=\"url(#clip102)\" cx=\"1155.02\" cy=\"881.543\" r=\"14\" fill=\"#009af9\" fill-rule=\"evenodd\" fill-opacity=\"1\" stroke=\"#000000\" stroke-opacity=\"1\" stroke-width=\"3.2\"/>\n",
       "<circle clip-path=\"url(#clip102)\" cx=\"1157.05\" cy=\"880.256\" r=\"14\" fill=\"#009af9\" fill-rule=\"evenodd\" fill-opacity=\"1\" stroke=\"#000000\" stroke-opacity=\"1\" stroke-width=\"3.2\"/>\n",
       "<circle clip-path=\"url(#clip102)\" cx=\"1159.09\" cy=\"878.969\" r=\"14\" fill=\"#009af9\" fill-rule=\"evenodd\" fill-opacity=\"1\" stroke=\"#000000\" stroke-opacity=\"1\" stroke-width=\"3.2\"/>\n",
       "<circle clip-path=\"url(#clip102)\" cx=\"1161.12\" cy=\"877.682\" r=\"14\" fill=\"#009af9\" fill-rule=\"evenodd\" fill-opacity=\"1\" stroke=\"#000000\" stroke-opacity=\"1\" stroke-width=\"3.2\"/>\n",
       "<circle clip-path=\"url(#clip102)\" cx=\"1163.15\" cy=\"876.395\" r=\"14\" fill=\"#009af9\" fill-rule=\"evenodd\" fill-opacity=\"1\" stroke=\"#000000\" stroke-opacity=\"1\" stroke-width=\"3.2\"/>\n",
       "<circle clip-path=\"url(#clip102)\" cx=\"1165.19\" cy=\"875.108\" r=\"14\" fill=\"#009af9\" fill-rule=\"evenodd\" fill-opacity=\"1\" stroke=\"#000000\" stroke-opacity=\"1\" stroke-width=\"3.2\"/>\n",
       "<circle clip-path=\"url(#clip102)\" cx=\"1167.22\" cy=\"873.821\" r=\"14\" fill=\"#009af9\" fill-rule=\"evenodd\" fill-opacity=\"1\" stroke=\"#000000\" stroke-opacity=\"1\" stroke-width=\"3.2\"/>\n",
       "<circle clip-path=\"url(#clip102)\" cx=\"1169.25\" cy=\"872.533\" r=\"14\" fill=\"#009af9\" fill-rule=\"evenodd\" fill-opacity=\"1\" stroke=\"#000000\" stroke-opacity=\"1\" stroke-width=\"3.2\"/>\n",
       "<circle clip-path=\"url(#clip102)\" cx=\"1171.29\" cy=\"871.246\" r=\"14\" fill=\"#009af9\" fill-rule=\"evenodd\" fill-opacity=\"1\" stroke=\"#000000\" stroke-opacity=\"1\" stroke-width=\"3.2\"/>\n",
       "<circle clip-path=\"url(#clip102)\" cx=\"1173.32\" cy=\"869.959\" r=\"14\" fill=\"#009af9\" fill-rule=\"evenodd\" fill-opacity=\"1\" stroke=\"#000000\" stroke-opacity=\"1\" stroke-width=\"3.2\"/>\n",
       "<circle clip-path=\"url(#clip102)\" cx=\"1175.36\" cy=\"868.672\" r=\"14\" fill=\"#009af9\" fill-rule=\"evenodd\" fill-opacity=\"1\" stroke=\"#000000\" stroke-opacity=\"1\" stroke-width=\"3.2\"/>\n",
       "<circle clip-path=\"url(#clip102)\" cx=\"1177.39\" cy=\"867.385\" r=\"14\" fill=\"#009af9\" fill-rule=\"evenodd\" fill-opacity=\"1\" stroke=\"#000000\" stroke-opacity=\"1\" stroke-width=\"3.2\"/>\n",
       "<circle clip-path=\"url(#clip102)\" cx=\"1179.42\" cy=\"866.098\" r=\"14\" fill=\"#009af9\" fill-rule=\"evenodd\" fill-opacity=\"1\" stroke=\"#000000\" stroke-opacity=\"1\" stroke-width=\"3.2\"/>\n",
       "<circle clip-path=\"url(#clip102)\" cx=\"1181.46\" cy=\"864.811\" r=\"14\" fill=\"#009af9\" fill-rule=\"evenodd\" fill-opacity=\"1\" stroke=\"#000000\" stroke-opacity=\"1\" stroke-width=\"3.2\"/>\n",
       "<circle clip-path=\"url(#clip102)\" cx=\"1183.49\" cy=\"863.524\" r=\"14\" fill=\"#009af9\" fill-rule=\"evenodd\" fill-opacity=\"1\" stroke=\"#000000\" stroke-opacity=\"1\" stroke-width=\"3.2\"/>\n",
       "<circle clip-path=\"url(#clip102)\" cx=\"1185.52\" cy=\"862.237\" r=\"14\" fill=\"#009af9\" fill-rule=\"evenodd\" fill-opacity=\"1\" stroke=\"#000000\" stroke-opacity=\"1\" stroke-width=\"3.2\"/>\n",
       "<circle clip-path=\"url(#clip102)\" cx=\"1187.56\" cy=\"860.949\" r=\"14\" fill=\"#009af9\" fill-rule=\"evenodd\" fill-opacity=\"1\" stroke=\"#000000\" stroke-opacity=\"1\" stroke-width=\"3.2\"/>\n",
       "<circle clip-path=\"url(#clip102)\" cx=\"1189.59\" cy=\"859.662\" r=\"14\" fill=\"#009af9\" fill-rule=\"evenodd\" fill-opacity=\"1\" stroke=\"#000000\" stroke-opacity=\"1\" stroke-width=\"3.2\"/>\n",
       "<circle clip-path=\"url(#clip102)\" cx=\"1191.62\" cy=\"858.375\" r=\"14\" fill=\"#009af9\" fill-rule=\"evenodd\" fill-opacity=\"1\" stroke=\"#000000\" stroke-opacity=\"1\" stroke-width=\"3.2\"/>\n",
       "<circle clip-path=\"url(#clip102)\" cx=\"1193.66\" cy=\"857.088\" r=\"14\" fill=\"#009af9\" fill-rule=\"evenodd\" fill-opacity=\"1\" stroke=\"#000000\" stroke-opacity=\"1\" stroke-width=\"3.2\"/>\n",
       "<circle clip-path=\"url(#clip102)\" cx=\"1195.69\" cy=\"855.801\" r=\"14\" fill=\"#009af9\" fill-rule=\"evenodd\" fill-opacity=\"1\" stroke=\"#000000\" stroke-opacity=\"1\" stroke-width=\"3.2\"/>\n",
       "<circle clip-path=\"url(#clip102)\" cx=\"1197.73\" cy=\"854.514\" r=\"14\" fill=\"#009af9\" fill-rule=\"evenodd\" fill-opacity=\"1\" stroke=\"#000000\" stroke-opacity=\"1\" stroke-width=\"3.2\"/>\n",
       "<circle clip-path=\"url(#clip102)\" cx=\"1199.76\" cy=\"853.227\" r=\"14\" fill=\"#009af9\" fill-rule=\"evenodd\" fill-opacity=\"1\" stroke=\"#000000\" stroke-opacity=\"1\" stroke-width=\"3.2\"/>\n",
       "<circle clip-path=\"url(#clip102)\" cx=\"1201.79\" cy=\"851.94\" r=\"14\" fill=\"#009af9\" fill-rule=\"evenodd\" fill-opacity=\"1\" stroke=\"#000000\" stroke-opacity=\"1\" stroke-width=\"3.2\"/>\n",
       "<circle clip-path=\"url(#clip102)\" cx=\"1203.83\" cy=\"850.653\" r=\"14\" fill=\"#009af9\" fill-rule=\"evenodd\" fill-opacity=\"1\" stroke=\"#000000\" stroke-opacity=\"1\" stroke-width=\"3.2\"/>\n",
       "<circle clip-path=\"url(#clip102)\" cx=\"1205.86\" cy=\"849.365\" r=\"14\" fill=\"#009af9\" fill-rule=\"evenodd\" fill-opacity=\"1\" stroke=\"#000000\" stroke-opacity=\"1\" stroke-width=\"3.2\"/>\n",
       "<circle clip-path=\"url(#clip102)\" cx=\"1207.89\" cy=\"848.078\" r=\"14\" fill=\"#009af9\" fill-rule=\"evenodd\" fill-opacity=\"1\" stroke=\"#000000\" stroke-opacity=\"1\" stroke-width=\"3.2\"/>\n",
       "<circle clip-path=\"url(#clip102)\" cx=\"1209.93\" cy=\"846.791\" r=\"14\" fill=\"#009af9\" fill-rule=\"evenodd\" fill-opacity=\"1\" stroke=\"#000000\" stroke-opacity=\"1\" stroke-width=\"3.2\"/>\n",
       "<circle clip-path=\"url(#clip102)\" cx=\"1211.96\" cy=\"845.504\" r=\"14\" fill=\"#009af9\" fill-rule=\"evenodd\" fill-opacity=\"1\" stroke=\"#000000\" stroke-opacity=\"1\" stroke-width=\"3.2\"/>\n",
       "<circle clip-path=\"url(#clip102)\" cx=\"1213.99\" cy=\"844.217\" r=\"14\" fill=\"#009af9\" fill-rule=\"evenodd\" fill-opacity=\"1\" stroke=\"#000000\" stroke-opacity=\"1\" stroke-width=\"3.2\"/>\n",
       "<circle clip-path=\"url(#clip102)\" cx=\"1216.03\" cy=\"842.93\" r=\"14\" fill=\"#009af9\" fill-rule=\"evenodd\" fill-opacity=\"1\" stroke=\"#000000\" stroke-opacity=\"1\" stroke-width=\"3.2\"/>\n",
       "<circle clip-path=\"url(#clip102)\" cx=\"1218.06\" cy=\"841.643\" r=\"14\" fill=\"#009af9\" fill-rule=\"evenodd\" fill-opacity=\"1\" stroke=\"#000000\" stroke-opacity=\"1\" stroke-width=\"3.2\"/>\n",
       "<circle clip-path=\"url(#clip102)\" cx=\"1220.1\" cy=\"840.356\" r=\"14\" fill=\"#009af9\" fill-rule=\"evenodd\" fill-opacity=\"1\" stroke=\"#000000\" stroke-opacity=\"1\" stroke-width=\"3.2\"/>\n",
       "<circle clip-path=\"url(#clip102)\" cx=\"1222.13\" cy=\"839.069\" r=\"14\" fill=\"#009af9\" fill-rule=\"evenodd\" fill-opacity=\"1\" stroke=\"#000000\" stroke-opacity=\"1\" stroke-width=\"3.2\"/>\n",
       "<circle clip-path=\"url(#clip102)\" cx=\"1224.16\" cy=\"837.781\" r=\"14\" fill=\"#009af9\" fill-rule=\"evenodd\" fill-opacity=\"1\" stroke=\"#000000\" stroke-opacity=\"1\" stroke-width=\"3.2\"/>\n",
       "<circle clip-path=\"url(#clip102)\" cx=\"1226.2\" cy=\"836.494\" r=\"14\" fill=\"#009af9\" fill-rule=\"evenodd\" fill-opacity=\"1\" stroke=\"#000000\" stroke-opacity=\"1\" stroke-width=\"3.2\"/>\n",
       "<circle clip-path=\"url(#clip102)\" cx=\"1228.23\" cy=\"835.207\" r=\"14\" fill=\"#009af9\" fill-rule=\"evenodd\" fill-opacity=\"1\" stroke=\"#000000\" stroke-opacity=\"1\" stroke-width=\"3.2\"/>\n",
       "<circle clip-path=\"url(#clip102)\" cx=\"1230.26\" cy=\"833.92\" r=\"14\" fill=\"#009af9\" fill-rule=\"evenodd\" fill-opacity=\"1\" stroke=\"#000000\" stroke-opacity=\"1\" stroke-width=\"3.2\"/>\n",
       "<circle clip-path=\"url(#clip102)\" cx=\"1232.3\" cy=\"832.633\" r=\"14\" fill=\"#009af9\" fill-rule=\"evenodd\" fill-opacity=\"1\" stroke=\"#000000\" stroke-opacity=\"1\" stroke-width=\"3.2\"/>\n",
       "<circle clip-path=\"url(#clip102)\" cx=\"1234.33\" cy=\"831.346\" r=\"14\" fill=\"#009af9\" fill-rule=\"evenodd\" fill-opacity=\"1\" stroke=\"#000000\" stroke-opacity=\"1\" stroke-width=\"3.2\"/>\n",
       "<circle clip-path=\"url(#clip102)\" cx=\"1236.36\" cy=\"830.059\" r=\"14\" fill=\"#009af9\" fill-rule=\"evenodd\" fill-opacity=\"1\" stroke=\"#000000\" stroke-opacity=\"1\" stroke-width=\"3.2\"/>\n",
       "<circle clip-path=\"url(#clip102)\" cx=\"1238.4\" cy=\"828.772\" r=\"14\" fill=\"#009af9\" fill-rule=\"evenodd\" fill-opacity=\"1\" stroke=\"#000000\" stroke-opacity=\"1\" stroke-width=\"3.2\"/>\n",
       "<circle clip-path=\"url(#clip102)\" cx=\"1240.43\" cy=\"827.484\" r=\"14\" fill=\"#009af9\" fill-rule=\"evenodd\" fill-opacity=\"1\" stroke=\"#000000\" stroke-opacity=\"1\" stroke-width=\"3.2\"/>\n",
       "<circle clip-path=\"url(#clip102)\" cx=\"1242.46\" cy=\"826.197\" r=\"14\" fill=\"#009af9\" fill-rule=\"evenodd\" fill-opacity=\"1\" stroke=\"#000000\" stroke-opacity=\"1\" stroke-width=\"3.2\"/>\n",
       "<circle clip-path=\"url(#clip102)\" cx=\"1244.5\" cy=\"824.91\" r=\"14\" fill=\"#009af9\" fill-rule=\"evenodd\" fill-opacity=\"1\" stroke=\"#000000\" stroke-opacity=\"1\" stroke-width=\"3.2\"/>\n",
       "<circle clip-path=\"url(#clip102)\" cx=\"1246.53\" cy=\"823.623\" r=\"14\" fill=\"#009af9\" fill-rule=\"evenodd\" fill-opacity=\"1\" stroke=\"#000000\" stroke-opacity=\"1\" stroke-width=\"3.2\"/>\n",
       "<circle clip-path=\"url(#clip102)\" cx=\"1248.57\" cy=\"822.336\" r=\"14\" fill=\"#009af9\" fill-rule=\"evenodd\" fill-opacity=\"1\" stroke=\"#000000\" stroke-opacity=\"1\" stroke-width=\"3.2\"/>\n",
       "<circle clip-path=\"url(#clip102)\" cx=\"1250.6\" cy=\"821.049\" r=\"14\" fill=\"#009af9\" fill-rule=\"evenodd\" fill-opacity=\"1\" stroke=\"#000000\" stroke-opacity=\"1\" stroke-width=\"3.2\"/>\n",
       "<circle clip-path=\"url(#clip102)\" cx=\"1252.63\" cy=\"819.762\" r=\"14\" fill=\"#009af9\" fill-rule=\"evenodd\" fill-opacity=\"1\" stroke=\"#000000\" stroke-opacity=\"1\" stroke-width=\"3.2\"/>\n",
       "<circle clip-path=\"url(#clip102)\" cx=\"1254.67\" cy=\"818.475\" r=\"14\" fill=\"#009af9\" fill-rule=\"evenodd\" fill-opacity=\"1\" stroke=\"#000000\" stroke-opacity=\"1\" stroke-width=\"3.2\"/>\n",
       "<circle clip-path=\"url(#clip102)\" cx=\"1256.7\" cy=\"817.188\" r=\"14\" fill=\"#009af9\" fill-rule=\"evenodd\" fill-opacity=\"1\" stroke=\"#000000\" stroke-opacity=\"1\" stroke-width=\"3.2\"/>\n",
       "<circle clip-path=\"url(#clip102)\" cx=\"1258.73\" cy=\"815.9\" r=\"14\" fill=\"#009af9\" fill-rule=\"evenodd\" fill-opacity=\"1\" stroke=\"#000000\" stroke-opacity=\"1\" stroke-width=\"3.2\"/>\n",
       "<circle clip-path=\"url(#clip102)\" cx=\"1260.77\" cy=\"814.613\" r=\"14\" fill=\"#009af9\" fill-rule=\"evenodd\" fill-opacity=\"1\" stroke=\"#000000\" stroke-opacity=\"1\" stroke-width=\"3.2\"/>\n",
       "<circle clip-path=\"url(#clip102)\" cx=\"1262.8\" cy=\"813.326\" r=\"14\" fill=\"#009af9\" fill-rule=\"evenodd\" fill-opacity=\"1\" stroke=\"#000000\" stroke-opacity=\"1\" stroke-width=\"3.2\"/>\n",
       "<circle clip-path=\"url(#clip102)\" cx=\"1264.83\" cy=\"812.039\" r=\"14\" fill=\"#009af9\" fill-rule=\"evenodd\" fill-opacity=\"1\" stroke=\"#000000\" stroke-opacity=\"1\" stroke-width=\"3.2\"/>\n",
       "<circle clip-path=\"url(#clip102)\" cx=\"1266.87\" cy=\"810.752\" r=\"14\" fill=\"#009af9\" fill-rule=\"evenodd\" fill-opacity=\"1\" stroke=\"#000000\" stroke-opacity=\"1\" stroke-width=\"3.2\"/>\n",
       "<circle clip-path=\"url(#clip102)\" cx=\"1268.9\" cy=\"809.465\" r=\"14\" fill=\"#009af9\" fill-rule=\"evenodd\" fill-opacity=\"1\" stroke=\"#000000\" stroke-opacity=\"1\" stroke-width=\"3.2\"/>\n",
       "<circle clip-path=\"url(#clip102)\" cx=\"1270.94\" cy=\"808.178\" r=\"14\" fill=\"#009af9\" fill-rule=\"evenodd\" fill-opacity=\"1\" stroke=\"#000000\" stroke-opacity=\"1\" stroke-width=\"3.2\"/>\n",
       "<circle clip-path=\"url(#clip102)\" cx=\"1272.97\" cy=\"806.891\" r=\"14\" fill=\"#009af9\" fill-rule=\"evenodd\" fill-opacity=\"1\" stroke=\"#000000\" stroke-opacity=\"1\" stroke-width=\"3.2\"/>\n",
       "<circle clip-path=\"url(#clip102)\" cx=\"1275\" cy=\"805.604\" r=\"14\" fill=\"#009af9\" fill-rule=\"evenodd\" fill-opacity=\"1\" stroke=\"#000000\" stroke-opacity=\"1\" stroke-width=\"3.2\"/>\n",
       "<circle clip-path=\"url(#clip102)\" cx=\"1277.04\" cy=\"804.316\" r=\"14\" fill=\"#009af9\" fill-rule=\"evenodd\" fill-opacity=\"1\" stroke=\"#000000\" stroke-opacity=\"1\" stroke-width=\"3.2\"/>\n",
       "<circle clip-path=\"url(#clip102)\" cx=\"1279.07\" cy=\"803.029\" r=\"14\" fill=\"#009af9\" fill-rule=\"evenodd\" fill-opacity=\"1\" stroke=\"#000000\" stroke-opacity=\"1\" stroke-width=\"3.2\"/>\n",
       "<circle clip-path=\"url(#clip102)\" cx=\"1281.1\" cy=\"801.742\" r=\"14\" fill=\"#009af9\" fill-rule=\"evenodd\" fill-opacity=\"1\" stroke=\"#000000\" stroke-opacity=\"1\" stroke-width=\"3.2\"/>\n",
       "<circle clip-path=\"url(#clip102)\" cx=\"1283.14\" cy=\"800.455\" r=\"14\" fill=\"#009af9\" fill-rule=\"evenodd\" fill-opacity=\"1\" stroke=\"#000000\" stroke-opacity=\"1\" stroke-width=\"3.2\"/>\n",
       "<circle clip-path=\"url(#clip102)\" cx=\"1285.17\" cy=\"799.168\" r=\"14\" fill=\"#009af9\" fill-rule=\"evenodd\" fill-opacity=\"1\" stroke=\"#000000\" stroke-opacity=\"1\" stroke-width=\"3.2\"/>\n",
       "<circle clip-path=\"url(#clip102)\" cx=\"1287.2\" cy=\"797.881\" r=\"14\" fill=\"#009af9\" fill-rule=\"evenodd\" fill-opacity=\"1\" stroke=\"#000000\" stroke-opacity=\"1\" stroke-width=\"3.2\"/>\n",
       "<circle clip-path=\"url(#clip102)\" cx=\"1289.24\" cy=\"796.594\" r=\"14\" fill=\"#009af9\" fill-rule=\"evenodd\" fill-opacity=\"1\" stroke=\"#000000\" stroke-opacity=\"1\" stroke-width=\"3.2\"/>\n",
       "<circle clip-path=\"url(#clip102)\" cx=\"1291.27\" cy=\"795.307\" r=\"14\" fill=\"#009af9\" fill-rule=\"evenodd\" fill-opacity=\"1\" stroke=\"#000000\" stroke-opacity=\"1\" stroke-width=\"3.2\"/>\n",
       "<circle clip-path=\"url(#clip102)\" cx=\"1293.31\" cy=\"794.02\" r=\"14\" fill=\"#009af9\" fill-rule=\"evenodd\" fill-opacity=\"1\" stroke=\"#000000\" stroke-opacity=\"1\" stroke-width=\"3.2\"/>\n",
       "<circle clip-path=\"url(#clip102)\" cx=\"1295.34\" cy=\"792.732\" r=\"14\" fill=\"#009af9\" fill-rule=\"evenodd\" fill-opacity=\"1\" stroke=\"#000000\" stroke-opacity=\"1\" stroke-width=\"3.2\"/>\n",
       "<circle clip-path=\"url(#clip102)\" cx=\"1297.37\" cy=\"791.445\" r=\"14\" fill=\"#009af9\" fill-rule=\"evenodd\" fill-opacity=\"1\" stroke=\"#000000\" stroke-opacity=\"1\" stroke-width=\"3.2\"/>\n",
       "<circle clip-path=\"url(#clip102)\" cx=\"1299.41\" cy=\"790.158\" r=\"14\" fill=\"#009af9\" fill-rule=\"evenodd\" fill-opacity=\"1\" stroke=\"#000000\" stroke-opacity=\"1\" stroke-width=\"3.2\"/>\n",
       "<circle clip-path=\"url(#clip102)\" cx=\"1301.44\" cy=\"788.871\" r=\"14\" fill=\"#009af9\" fill-rule=\"evenodd\" fill-opacity=\"1\" stroke=\"#000000\" stroke-opacity=\"1\" stroke-width=\"3.2\"/>\n",
       "<circle clip-path=\"url(#clip102)\" cx=\"1303.47\" cy=\"787.584\" r=\"14\" fill=\"#009af9\" fill-rule=\"evenodd\" fill-opacity=\"1\" stroke=\"#000000\" stroke-opacity=\"1\" stroke-width=\"3.2\"/>\n",
       "<circle clip-path=\"url(#clip102)\" cx=\"1305.51\" cy=\"786.297\" r=\"14\" fill=\"#009af9\" fill-rule=\"evenodd\" fill-opacity=\"1\" stroke=\"#000000\" stroke-opacity=\"1\" stroke-width=\"3.2\"/>\n",
       "<circle clip-path=\"url(#clip102)\" cx=\"1307.54\" cy=\"785.01\" r=\"14\" fill=\"#009af9\" fill-rule=\"evenodd\" fill-opacity=\"1\" stroke=\"#000000\" stroke-opacity=\"1\" stroke-width=\"3.2\"/>\n",
       "<circle clip-path=\"url(#clip102)\" cx=\"1309.57\" cy=\"783.723\" r=\"14\" fill=\"#009af9\" fill-rule=\"evenodd\" fill-opacity=\"1\" stroke=\"#000000\" stroke-opacity=\"1\" stroke-width=\"3.2\"/>\n",
       "<circle clip-path=\"url(#clip102)\" cx=\"1311.61\" cy=\"782.436\" r=\"14\" fill=\"#009af9\" fill-rule=\"evenodd\" fill-opacity=\"1\" stroke=\"#000000\" stroke-opacity=\"1\" stroke-width=\"3.2\"/>\n",
       "<circle clip-path=\"url(#clip102)\" cx=\"1313.64\" cy=\"781.148\" r=\"14\" fill=\"#009af9\" fill-rule=\"evenodd\" fill-opacity=\"1\" stroke=\"#000000\" stroke-opacity=\"1\" stroke-width=\"3.2\"/>\n",
       "<circle clip-path=\"url(#clip102)\" cx=\"1315.67\" cy=\"779.861\" r=\"14\" fill=\"#009af9\" fill-rule=\"evenodd\" fill-opacity=\"1\" stroke=\"#000000\" stroke-opacity=\"1\" stroke-width=\"3.2\"/>\n",
       "<circle clip-path=\"url(#clip102)\" cx=\"1317.71\" cy=\"778.574\" r=\"14\" fill=\"#009af9\" fill-rule=\"evenodd\" fill-opacity=\"1\" stroke=\"#000000\" stroke-opacity=\"1\" stroke-width=\"3.2\"/>\n",
       "<circle clip-path=\"url(#clip102)\" cx=\"1319.74\" cy=\"777.287\" r=\"14\" fill=\"#009af9\" fill-rule=\"evenodd\" fill-opacity=\"1\" stroke=\"#000000\" stroke-opacity=\"1\" stroke-width=\"3.2\"/>\n",
       "<circle clip-path=\"url(#clip102)\" cx=\"1321.78\" cy=\"776\" r=\"14\" fill=\"#009af9\" fill-rule=\"evenodd\" fill-opacity=\"1\" stroke=\"#000000\" stroke-opacity=\"1\" stroke-width=\"3.2\"/>\n",
       "<circle clip-path=\"url(#clip102)\" cx=\"1323.81\" cy=\"774.713\" r=\"14\" fill=\"#009af9\" fill-rule=\"evenodd\" fill-opacity=\"1\" stroke=\"#000000\" stroke-opacity=\"1\" stroke-width=\"3.2\"/>\n",
       "<circle clip-path=\"url(#clip102)\" cx=\"1325.84\" cy=\"773.426\" r=\"14\" fill=\"#009af9\" fill-rule=\"evenodd\" fill-opacity=\"1\" stroke=\"#000000\" stroke-opacity=\"1\" stroke-width=\"3.2\"/>\n",
       "<circle clip-path=\"url(#clip102)\" cx=\"1327.88\" cy=\"772.139\" r=\"14\" fill=\"#009af9\" fill-rule=\"evenodd\" fill-opacity=\"1\" stroke=\"#000000\" stroke-opacity=\"1\" stroke-width=\"3.2\"/>\n",
       "<circle clip-path=\"url(#clip102)\" cx=\"1329.91\" cy=\"770.851\" r=\"14\" fill=\"#009af9\" fill-rule=\"evenodd\" fill-opacity=\"1\" stroke=\"#000000\" stroke-opacity=\"1\" stroke-width=\"3.2\"/>\n",
       "<circle clip-path=\"url(#clip102)\" cx=\"1331.94\" cy=\"769.564\" r=\"14\" fill=\"#009af9\" fill-rule=\"evenodd\" fill-opacity=\"1\" stroke=\"#000000\" stroke-opacity=\"1\" stroke-width=\"3.2\"/>\n",
       "<circle clip-path=\"url(#clip102)\" cx=\"1333.98\" cy=\"768.277\" r=\"14\" fill=\"#009af9\" fill-rule=\"evenodd\" fill-opacity=\"1\" stroke=\"#000000\" stroke-opacity=\"1\" stroke-width=\"3.2\"/>\n",
       "<circle clip-path=\"url(#clip102)\" cx=\"1336.01\" cy=\"766.99\" r=\"14\" fill=\"#009af9\" fill-rule=\"evenodd\" fill-opacity=\"1\" stroke=\"#000000\" stroke-opacity=\"1\" stroke-width=\"3.2\"/>\n",
       "<circle clip-path=\"url(#clip102)\" cx=\"1338.04\" cy=\"765.703\" r=\"14\" fill=\"#009af9\" fill-rule=\"evenodd\" fill-opacity=\"1\" stroke=\"#000000\" stroke-opacity=\"1\" stroke-width=\"3.2\"/>\n",
       "<circle clip-path=\"url(#clip102)\" cx=\"1340.08\" cy=\"764.416\" r=\"14\" fill=\"#009af9\" fill-rule=\"evenodd\" fill-opacity=\"1\" stroke=\"#000000\" stroke-opacity=\"1\" stroke-width=\"3.2\"/>\n",
       "<circle clip-path=\"url(#clip102)\" cx=\"1342.11\" cy=\"763.129\" r=\"14\" fill=\"#009af9\" fill-rule=\"evenodd\" fill-opacity=\"1\" stroke=\"#000000\" stroke-opacity=\"1\" stroke-width=\"3.2\"/>\n",
       "<circle clip-path=\"url(#clip102)\" cx=\"1344.15\" cy=\"761.842\" r=\"14\" fill=\"#009af9\" fill-rule=\"evenodd\" fill-opacity=\"1\" stroke=\"#000000\" stroke-opacity=\"1\" stroke-width=\"3.2\"/>\n",
       "<circle clip-path=\"url(#clip102)\" cx=\"1346.18\" cy=\"760.555\" r=\"14\" fill=\"#009af9\" fill-rule=\"evenodd\" fill-opacity=\"1\" stroke=\"#000000\" stroke-opacity=\"1\" stroke-width=\"3.2\"/>\n",
       "<circle clip-path=\"url(#clip102)\" cx=\"1348.21\" cy=\"759.267\" r=\"14\" fill=\"#009af9\" fill-rule=\"evenodd\" fill-opacity=\"1\" stroke=\"#000000\" stroke-opacity=\"1\" stroke-width=\"3.2\"/>\n",
       "<circle clip-path=\"url(#clip102)\" cx=\"1350.25\" cy=\"757.98\" r=\"14\" fill=\"#009af9\" fill-rule=\"evenodd\" fill-opacity=\"1\" stroke=\"#000000\" stroke-opacity=\"1\" stroke-width=\"3.2\"/>\n",
       "<circle clip-path=\"url(#clip102)\" cx=\"1352.28\" cy=\"756.693\" r=\"14\" fill=\"#009af9\" fill-rule=\"evenodd\" fill-opacity=\"1\" stroke=\"#000000\" stroke-opacity=\"1\" stroke-width=\"3.2\"/>\n",
       "<circle clip-path=\"url(#clip102)\" cx=\"1354.31\" cy=\"755.406\" r=\"14\" fill=\"#009af9\" fill-rule=\"evenodd\" fill-opacity=\"1\" stroke=\"#000000\" stroke-opacity=\"1\" stroke-width=\"3.2\"/>\n",
       "<circle clip-path=\"url(#clip102)\" cx=\"1356.35\" cy=\"754.119\" r=\"14\" fill=\"#009af9\" fill-rule=\"evenodd\" fill-opacity=\"1\" stroke=\"#000000\" stroke-opacity=\"1\" stroke-width=\"3.2\"/>\n",
       "<circle clip-path=\"url(#clip102)\" cx=\"1358.38\" cy=\"752.832\" r=\"14\" fill=\"#009af9\" fill-rule=\"evenodd\" fill-opacity=\"1\" stroke=\"#000000\" stroke-opacity=\"1\" stroke-width=\"3.2\"/>\n",
       "<circle clip-path=\"url(#clip102)\" cx=\"1360.41\" cy=\"751.545\" r=\"14\" fill=\"#009af9\" fill-rule=\"evenodd\" fill-opacity=\"1\" stroke=\"#000000\" stroke-opacity=\"1\" stroke-width=\"3.2\"/>\n",
       "<circle clip-path=\"url(#clip102)\" cx=\"1362.45\" cy=\"750.258\" r=\"14\" fill=\"#009af9\" fill-rule=\"evenodd\" fill-opacity=\"1\" stroke=\"#000000\" stroke-opacity=\"1\" stroke-width=\"3.2\"/>\n",
       "<circle clip-path=\"url(#clip102)\" cx=\"1364.48\" cy=\"748.971\" r=\"14\" fill=\"#009af9\" fill-rule=\"evenodd\" fill-opacity=\"1\" stroke=\"#000000\" stroke-opacity=\"1\" stroke-width=\"3.2\"/>\n",
       "<circle clip-path=\"url(#clip102)\" cx=\"1366.52\" cy=\"747.683\" r=\"14\" fill=\"#009af9\" fill-rule=\"evenodd\" fill-opacity=\"1\" stroke=\"#000000\" stroke-opacity=\"1\" stroke-width=\"3.2\"/>\n",
       "<circle clip-path=\"url(#clip102)\" cx=\"1368.55\" cy=\"746.396\" r=\"14\" fill=\"#009af9\" fill-rule=\"evenodd\" fill-opacity=\"1\" stroke=\"#000000\" stroke-opacity=\"1\" stroke-width=\"3.2\"/>\n",
       "<circle clip-path=\"url(#clip102)\" cx=\"1370.58\" cy=\"745.109\" r=\"14\" fill=\"#009af9\" fill-rule=\"evenodd\" fill-opacity=\"1\" stroke=\"#000000\" stroke-opacity=\"1\" stroke-width=\"3.2\"/>\n",
       "<circle clip-path=\"url(#clip102)\" cx=\"1372.62\" cy=\"743.822\" r=\"14\" fill=\"#009af9\" fill-rule=\"evenodd\" fill-opacity=\"1\" stroke=\"#000000\" stroke-opacity=\"1\" stroke-width=\"3.2\"/>\n",
       "<circle clip-path=\"url(#clip102)\" cx=\"1374.65\" cy=\"742.535\" r=\"14\" fill=\"#009af9\" fill-rule=\"evenodd\" fill-opacity=\"1\" stroke=\"#000000\" stroke-opacity=\"1\" stroke-width=\"3.2\"/>\n",
       "<circle clip-path=\"url(#clip102)\" cx=\"1376.68\" cy=\"741.248\" r=\"14\" fill=\"#009af9\" fill-rule=\"evenodd\" fill-opacity=\"1\" stroke=\"#000000\" stroke-opacity=\"1\" stroke-width=\"3.2\"/>\n",
       "<circle clip-path=\"url(#clip102)\" cx=\"1378.72\" cy=\"739.961\" r=\"14\" fill=\"#009af9\" fill-rule=\"evenodd\" fill-opacity=\"1\" stroke=\"#000000\" stroke-opacity=\"1\" stroke-width=\"3.2\"/>\n",
       "<circle clip-path=\"url(#clip102)\" cx=\"1380.75\" cy=\"738.674\" r=\"14\" fill=\"#009af9\" fill-rule=\"evenodd\" fill-opacity=\"1\" stroke=\"#000000\" stroke-opacity=\"1\" stroke-width=\"3.2\"/>\n",
       "<circle clip-path=\"url(#clip102)\" cx=\"1382.78\" cy=\"737.387\" r=\"14\" fill=\"#009af9\" fill-rule=\"evenodd\" fill-opacity=\"1\" stroke=\"#000000\" stroke-opacity=\"1\" stroke-width=\"3.2\"/>\n",
       "<circle clip-path=\"url(#clip102)\" cx=\"1384.82\" cy=\"736.099\" r=\"14\" fill=\"#009af9\" fill-rule=\"evenodd\" fill-opacity=\"1\" stroke=\"#000000\" stroke-opacity=\"1\" stroke-width=\"3.2\"/>\n",
       "<circle clip-path=\"url(#clip102)\" cx=\"1386.85\" cy=\"734.812\" r=\"14\" fill=\"#009af9\" fill-rule=\"evenodd\" fill-opacity=\"1\" stroke=\"#000000\" stroke-opacity=\"1\" stroke-width=\"3.2\"/>\n",
       "<circle clip-path=\"url(#clip102)\" cx=\"1388.88\" cy=\"733.525\" r=\"14\" fill=\"#009af9\" fill-rule=\"evenodd\" fill-opacity=\"1\" stroke=\"#000000\" stroke-opacity=\"1\" stroke-width=\"3.2\"/>\n",
       "<circle clip-path=\"url(#clip102)\" cx=\"1390.92\" cy=\"732.238\" r=\"14\" fill=\"#009af9\" fill-rule=\"evenodd\" fill-opacity=\"1\" stroke=\"#000000\" stroke-opacity=\"1\" stroke-width=\"3.2\"/>\n",
       "<circle clip-path=\"url(#clip102)\" cx=\"1392.95\" cy=\"730.951\" r=\"14\" fill=\"#009af9\" fill-rule=\"evenodd\" fill-opacity=\"1\" stroke=\"#000000\" stroke-opacity=\"1\" stroke-width=\"3.2\"/>\n",
       "<circle clip-path=\"url(#clip102)\" cx=\"1394.99\" cy=\"729.664\" r=\"14\" fill=\"#009af9\" fill-rule=\"evenodd\" fill-opacity=\"1\" stroke=\"#000000\" stroke-opacity=\"1\" stroke-width=\"3.2\"/>\n",
       "<circle clip-path=\"url(#clip102)\" cx=\"1397.02\" cy=\"728.377\" r=\"14\" fill=\"#009af9\" fill-rule=\"evenodd\" fill-opacity=\"1\" stroke=\"#000000\" stroke-opacity=\"1\" stroke-width=\"3.2\"/>\n",
       "<circle clip-path=\"url(#clip102)\" cx=\"1399.05\" cy=\"727.09\" r=\"14\" fill=\"#009af9\" fill-rule=\"evenodd\" fill-opacity=\"1\" stroke=\"#000000\" stroke-opacity=\"1\" stroke-width=\"3.2\"/>\n",
       "<circle clip-path=\"url(#clip102)\" cx=\"1401.09\" cy=\"725.803\" r=\"14\" fill=\"#009af9\" fill-rule=\"evenodd\" fill-opacity=\"1\" stroke=\"#000000\" stroke-opacity=\"1\" stroke-width=\"3.2\"/>\n",
       "<circle clip-path=\"url(#clip102)\" cx=\"1403.12\" cy=\"724.515\" r=\"14\" fill=\"#009af9\" fill-rule=\"evenodd\" fill-opacity=\"1\" stroke=\"#000000\" stroke-opacity=\"1\" stroke-width=\"3.2\"/>\n",
       "<circle clip-path=\"url(#clip102)\" cx=\"1405.15\" cy=\"723.228\" r=\"14\" fill=\"#009af9\" fill-rule=\"evenodd\" fill-opacity=\"1\" stroke=\"#000000\" stroke-opacity=\"1\" stroke-width=\"3.2\"/>\n",
       "<circle clip-path=\"url(#clip102)\" cx=\"1407.19\" cy=\"721.941\" r=\"14\" fill=\"#009af9\" fill-rule=\"evenodd\" fill-opacity=\"1\" stroke=\"#000000\" stroke-opacity=\"1\" stroke-width=\"3.2\"/>\n",
       "<circle clip-path=\"url(#clip102)\" cx=\"1409.22\" cy=\"720.654\" r=\"14\" fill=\"#009af9\" fill-rule=\"evenodd\" fill-opacity=\"1\" stroke=\"#000000\" stroke-opacity=\"1\" stroke-width=\"3.2\"/>\n",
       "<circle clip-path=\"url(#clip102)\" cx=\"1411.25\" cy=\"719.367\" r=\"14\" fill=\"#009af9\" fill-rule=\"evenodd\" fill-opacity=\"1\" stroke=\"#000000\" stroke-opacity=\"1\" stroke-width=\"3.2\"/>\n",
       "<circle clip-path=\"url(#clip102)\" cx=\"1413.29\" cy=\"718.08\" r=\"14\" fill=\"#009af9\" fill-rule=\"evenodd\" fill-opacity=\"1\" stroke=\"#000000\" stroke-opacity=\"1\" stroke-width=\"3.2\"/>\n",
       "<circle clip-path=\"url(#clip102)\" cx=\"1415.32\" cy=\"716.793\" r=\"14\" fill=\"#009af9\" fill-rule=\"evenodd\" fill-opacity=\"1\" stroke=\"#000000\" stroke-opacity=\"1\" stroke-width=\"3.2\"/>\n",
       "<circle clip-path=\"url(#clip102)\" cx=\"1417.36\" cy=\"715.506\" r=\"14\" fill=\"#009af9\" fill-rule=\"evenodd\" fill-opacity=\"1\" stroke=\"#000000\" stroke-opacity=\"1\" stroke-width=\"3.2\"/>\n",
       "<circle clip-path=\"url(#clip102)\" cx=\"1419.39\" cy=\"714.219\" r=\"14\" fill=\"#009af9\" fill-rule=\"evenodd\" fill-opacity=\"1\" stroke=\"#000000\" stroke-opacity=\"1\" stroke-width=\"3.2\"/>\n",
       "<circle clip-path=\"url(#clip102)\" cx=\"1421.42\" cy=\"712.931\" r=\"14\" fill=\"#009af9\" fill-rule=\"evenodd\" fill-opacity=\"1\" stroke=\"#000000\" stroke-opacity=\"1\" stroke-width=\"3.2\"/>\n",
       "<circle clip-path=\"url(#clip102)\" cx=\"1423.46\" cy=\"711.644\" r=\"14\" fill=\"#009af9\" fill-rule=\"evenodd\" fill-opacity=\"1\" stroke=\"#000000\" stroke-opacity=\"1\" stroke-width=\"3.2\"/>\n",
       "<circle clip-path=\"url(#clip102)\" cx=\"1425.49\" cy=\"710.357\" r=\"14\" fill=\"#009af9\" fill-rule=\"evenodd\" fill-opacity=\"1\" stroke=\"#000000\" stroke-opacity=\"1\" stroke-width=\"3.2\"/>\n",
       "<circle clip-path=\"url(#clip102)\" cx=\"1427.52\" cy=\"709.07\" r=\"14\" fill=\"#009af9\" fill-rule=\"evenodd\" fill-opacity=\"1\" stroke=\"#000000\" stroke-opacity=\"1\" stroke-width=\"3.2\"/>\n",
       "<circle clip-path=\"url(#clip102)\" cx=\"1429.56\" cy=\"707.783\" r=\"14\" fill=\"#009af9\" fill-rule=\"evenodd\" fill-opacity=\"1\" stroke=\"#000000\" stroke-opacity=\"1\" stroke-width=\"3.2\"/>\n",
       "<circle clip-path=\"url(#clip102)\" cx=\"1431.59\" cy=\"706.496\" r=\"14\" fill=\"#009af9\" fill-rule=\"evenodd\" fill-opacity=\"1\" stroke=\"#000000\" stroke-opacity=\"1\" stroke-width=\"3.2\"/>\n",
       "<circle clip-path=\"url(#clip102)\" cx=\"1433.62\" cy=\"705.209\" r=\"14\" fill=\"#009af9\" fill-rule=\"evenodd\" fill-opacity=\"1\" stroke=\"#000000\" stroke-opacity=\"1\" stroke-width=\"3.2\"/>\n",
       "<circle clip-path=\"url(#clip102)\" cx=\"1435.66\" cy=\"703.922\" r=\"14\" fill=\"#009af9\" fill-rule=\"evenodd\" fill-opacity=\"1\" stroke=\"#000000\" stroke-opacity=\"1\" stroke-width=\"3.2\"/>\n",
       "<circle clip-path=\"url(#clip102)\" cx=\"1437.69\" cy=\"702.634\" r=\"14\" fill=\"#009af9\" fill-rule=\"evenodd\" fill-opacity=\"1\" stroke=\"#000000\" stroke-opacity=\"1\" stroke-width=\"3.2\"/>\n",
       "<circle clip-path=\"url(#clip102)\" cx=\"1439.73\" cy=\"701.347\" r=\"14\" fill=\"#009af9\" fill-rule=\"evenodd\" fill-opacity=\"1\" stroke=\"#000000\" stroke-opacity=\"1\" stroke-width=\"3.2\"/>\n",
       "<circle clip-path=\"url(#clip102)\" cx=\"1441.76\" cy=\"700.06\" r=\"14\" fill=\"#009af9\" fill-rule=\"evenodd\" fill-opacity=\"1\" stroke=\"#000000\" stroke-opacity=\"1\" stroke-width=\"3.2\"/>\n",
       "<circle clip-path=\"url(#clip102)\" cx=\"1443.79\" cy=\"698.773\" r=\"14\" fill=\"#009af9\" fill-rule=\"evenodd\" fill-opacity=\"1\" stroke=\"#000000\" stroke-opacity=\"1\" stroke-width=\"3.2\"/>\n",
       "<circle clip-path=\"url(#clip102)\" cx=\"1445.83\" cy=\"697.486\" r=\"14\" fill=\"#009af9\" fill-rule=\"evenodd\" fill-opacity=\"1\" stroke=\"#000000\" stroke-opacity=\"1\" stroke-width=\"3.2\"/>\n",
       "<circle clip-path=\"url(#clip102)\" cx=\"1447.86\" cy=\"696.199\" r=\"14\" fill=\"#009af9\" fill-rule=\"evenodd\" fill-opacity=\"1\" stroke=\"#000000\" stroke-opacity=\"1\" stroke-width=\"3.2\"/>\n",
       "<circle clip-path=\"url(#clip102)\" cx=\"1449.89\" cy=\"694.912\" r=\"14\" fill=\"#009af9\" fill-rule=\"evenodd\" fill-opacity=\"1\" stroke=\"#000000\" stroke-opacity=\"1\" stroke-width=\"3.2\"/>\n",
       "<circle clip-path=\"url(#clip102)\" cx=\"1451.93\" cy=\"693.625\" r=\"14\" fill=\"#009af9\" fill-rule=\"evenodd\" fill-opacity=\"1\" stroke=\"#000000\" stroke-opacity=\"1\" stroke-width=\"3.2\"/>\n",
       "<circle clip-path=\"url(#clip102)\" cx=\"1453.96\" cy=\"692.338\" r=\"14\" fill=\"#009af9\" fill-rule=\"evenodd\" fill-opacity=\"1\" stroke=\"#000000\" stroke-opacity=\"1\" stroke-width=\"3.2\"/>\n",
       "<circle clip-path=\"url(#clip102)\" cx=\"1455.99\" cy=\"691.05\" r=\"14\" fill=\"#009af9\" fill-rule=\"evenodd\" fill-opacity=\"1\" stroke=\"#000000\" stroke-opacity=\"1\" stroke-width=\"3.2\"/>\n",
       "<circle clip-path=\"url(#clip102)\" cx=\"1458.03\" cy=\"689.763\" r=\"14\" fill=\"#009af9\" fill-rule=\"evenodd\" fill-opacity=\"1\" stroke=\"#000000\" stroke-opacity=\"1\" stroke-width=\"3.2\"/>\n",
       "<circle clip-path=\"url(#clip102)\" cx=\"1460.06\" cy=\"688.476\" r=\"14\" fill=\"#009af9\" fill-rule=\"evenodd\" fill-opacity=\"1\" stroke=\"#000000\" stroke-opacity=\"1\" stroke-width=\"3.2\"/>\n",
       "<circle clip-path=\"url(#clip102)\" cx=\"1462.1\" cy=\"687.189\" r=\"14\" fill=\"#009af9\" fill-rule=\"evenodd\" fill-opacity=\"1\" stroke=\"#000000\" stroke-opacity=\"1\" stroke-width=\"3.2\"/>\n",
       "<circle clip-path=\"url(#clip102)\" cx=\"1464.13\" cy=\"685.902\" r=\"14\" fill=\"#009af9\" fill-rule=\"evenodd\" fill-opacity=\"1\" stroke=\"#000000\" stroke-opacity=\"1\" stroke-width=\"3.2\"/>\n",
       "<circle clip-path=\"url(#clip102)\" cx=\"1466.16\" cy=\"684.615\" r=\"14\" fill=\"#009af9\" fill-rule=\"evenodd\" fill-opacity=\"1\" stroke=\"#000000\" stroke-opacity=\"1\" stroke-width=\"3.2\"/>\n",
       "<circle clip-path=\"url(#clip102)\" cx=\"1468.2\" cy=\"683.328\" r=\"14\" fill=\"#009af9\" fill-rule=\"evenodd\" fill-opacity=\"1\" stroke=\"#000000\" stroke-opacity=\"1\" stroke-width=\"3.2\"/>\n",
       "<circle clip-path=\"url(#clip102)\" cx=\"1470.23\" cy=\"682.041\" r=\"14\" fill=\"#009af9\" fill-rule=\"evenodd\" fill-opacity=\"1\" stroke=\"#000000\" stroke-opacity=\"1\" stroke-width=\"3.2\"/>\n",
       "<circle clip-path=\"url(#clip102)\" cx=\"1472.26\" cy=\"680.754\" r=\"14\" fill=\"#009af9\" fill-rule=\"evenodd\" fill-opacity=\"1\" stroke=\"#000000\" stroke-opacity=\"1\" stroke-width=\"3.2\"/>\n",
       "<circle clip-path=\"url(#clip102)\" cx=\"1474.3\" cy=\"679.466\" r=\"14\" fill=\"#009af9\" fill-rule=\"evenodd\" fill-opacity=\"1\" stroke=\"#000000\" stroke-opacity=\"1\" stroke-width=\"3.2\"/>\n",
       "<circle clip-path=\"url(#clip102)\" cx=\"1476.33\" cy=\"678.179\" r=\"14\" fill=\"#009af9\" fill-rule=\"evenodd\" fill-opacity=\"1\" stroke=\"#000000\" stroke-opacity=\"1\" stroke-width=\"3.2\"/>\n",
       "<circle clip-path=\"url(#clip102)\" cx=\"1478.36\" cy=\"676.892\" r=\"14\" fill=\"#009af9\" fill-rule=\"evenodd\" fill-opacity=\"1\" stroke=\"#000000\" stroke-opacity=\"1\" stroke-width=\"3.2\"/>\n",
       "<circle clip-path=\"url(#clip102)\" cx=\"1480.4\" cy=\"675.605\" r=\"14\" fill=\"#009af9\" fill-rule=\"evenodd\" fill-opacity=\"1\" stroke=\"#000000\" stroke-opacity=\"1\" stroke-width=\"3.2\"/>\n",
       "<circle clip-path=\"url(#clip102)\" cx=\"1482.43\" cy=\"674.318\" r=\"14\" fill=\"#009af9\" fill-rule=\"evenodd\" fill-opacity=\"1\" stroke=\"#000000\" stroke-opacity=\"1\" stroke-width=\"3.2\"/>\n",
       "<circle clip-path=\"url(#clip102)\" cx=\"1484.46\" cy=\"673.031\" r=\"14\" fill=\"#009af9\" fill-rule=\"evenodd\" fill-opacity=\"1\" stroke=\"#000000\" stroke-opacity=\"1\" stroke-width=\"3.2\"/>\n",
       "<circle clip-path=\"url(#clip102)\" cx=\"1486.5\" cy=\"671.744\" r=\"14\" fill=\"#009af9\" fill-rule=\"evenodd\" fill-opacity=\"1\" stroke=\"#000000\" stroke-opacity=\"1\" stroke-width=\"3.2\"/>\n",
       "<circle clip-path=\"url(#clip102)\" cx=\"1488.53\" cy=\"670.457\" r=\"14\" fill=\"#009af9\" fill-rule=\"evenodd\" fill-opacity=\"1\" stroke=\"#000000\" stroke-opacity=\"1\" stroke-width=\"3.2\"/>\n",
       "<circle clip-path=\"url(#clip102)\" cx=\"1490.57\" cy=\"669.17\" r=\"14\" fill=\"#009af9\" fill-rule=\"evenodd\" fill-opacity=\"1\" stroke=\"#000000\" stroke-opacity=\"1\" stroke-width=\"3.2\"/>\n",
       "<circle clip-path=\"url(#clip102)\" cx=\"1492.6\" cy=\"667.882\" r=\"14\" fill=\"#009af9\" fill-rule=\"evenodd\" fill-opacity=\"1\" stroke=\"#000000\" stroke-opacity=\"1\" stroke-width=\"3.2\"/>\n",
       "<circle clip-path=\"url(#clip102)\" cx=\"1494.63\" cy=\"666.595\" r=\"14\" fill=\"#009af9\" fill-rule=\"evenodd\" fill-opacity=\"1\" stroke=\"#000000\" stroke-opacity=\"1\" stroke-width=\"3.2\"/>\n",
       "<circle clip-path=\"url(#clip102)\" cx=\"1496.67\" cy=\"665.308\" r=\"14\" fill=\"#009af9\" fill-rule=\"evenodd\" fill-opacity=\"1\" stroke=\"#000000\" stroke-opacity=\"1\" stroke-width=\"3.2\"/>\n",
       "<circle clip-path=\"url(#clip102)\" cx=\"1498.7\" cy=\"664.021\" r=\"14\" fill=\"#009af9\" fill-rule=\"evenodd\" fill-opacity=\"1\" stroke=\"#000000\" stroke-opacity=\"1\" stroke-width=\"3.2\"/>\n",
       "<circle clip-path=\"url(#clip102)\" cx=\"1500.73\" cy=\"662.734\" r=\"14\" fill=\"#009af9\" fill-rule=\"evenodd\" fill-opacity=\"1\" stroke=\"#000000\" stroke-opacity=\"1\" stroke-width=\"3.2\"/>\n",
       "<circle clip-path=\"url(#clip102)\" cx=\"1502.77\" cy=\"661.447\" r=\"14\" fill=\"#009af9\" fill-rule=\"evenodd\" fill-opacity=\"1\" stroke=\"#000000\" stroke-opacity=\"1\" stroke-width=\"3.2\"/>\n",
       "<circle clip-path=\"url(#clip102)\" cx=\"1504.8\" cy=\"660.16\" r=\"14\" fill=\"#009af9\" fill-rule=\"evenodd\" fill-opacity=\"1\" stroke=\"#000000\" stroke-opacity=\"1\" stroke-width=\"3.2\"/>\n",
       "<circle clip-path=\"url(#clip102)\" cx=\"1506.83\" cy=\"658.873\" r=\"14\" fill=\"#009af9\" fill-rule=\"evenodd\" fill-opacity=\"1\" stroke=\"#000000\" stroke-opacity=\"1\" stroke-width=\"3.2\"/>\n",
       "<circle clip-path=\"url(#clip102)\" cx=\"1508.87\" cy=\"657.586\" r=\"14\" fill=\"#009af9\" fill-rule=\"evenodd\" fill-opacity=\"1\" stroke=\"#000000\" stroke-opacity=\"1\" stroke-width=\"3.2\"/>\n",
       "<circle clip-path=\"url(#clip102)\" cx=\"1510.9\" cy=\"656.298\" r=\"14\" fill=\"#009af9\" fill-rule=\"evenodd\" fill-opacity=\"1\" stroke=\"#000000\" stroke-opacity=\"1\" stroke-width=\"3.2\"/>\n",
       "<circle clip-path=\"url(#clip102)\" cx=\"1512.94\" cy=\"655.011\" r=\"14\" fill=\"#009af9\" fill-rule=\"evenodd\" fill-opacity=\"1\" stroke=\"#000000\" stroke-opacity=\"1\" stroke-width=\"3.2\"/>\n",
       "<circle clip-path=\"url(#clip102)\" cx=\"1514.97\" cy=\"653.724\" r=\"14\" fill=\"#009af9\" fill-rule=\"evenodd\" fill-opacity=\"1\" stroke=\"#000000\" stroke-opacity=\"1\" stroke-width=\"3.2\"/>\n",
       "<circle clip-path=\"url(#clip102)\" cx=\"1517\" cy=\"652.437\" r=\"14\" fill=\"#009af9\" fill-rule=\"evenodd\" fill-opacity=\"1\" stroke=\"#000000\" stroke-opacity=\"1\" stroke-width=\"3.2\"/>\n",
       "<circle clip-path=\"url(#clip102)\" cx=\"1519.04\" cy=\"651.15\" r=\"14\" fill=\"#009af9\" fill-rule=\"evenodd\" fill-opacity=\"1\" stroke=\"#000000\" stroke-opacity=\"1\" stroke-width=\"3.2\"/>\n",
       "<circle clip-path=\"url(#clip102)\" cx=\"1521.07\" cy=\"649.863\" r=\"14\" fill=\"#009af9\" fill-rule=\"evenodd\" fill-opacity=\"1\" stroke=\"#000000\" stroke-opacity=\"1\" stroke-width=\"3.2\"/>\n",
       "<circle clip-path=\"url(#clip102)\" cx=\"1523.1\" cy=\"648.576\" r=\"14\" fill=\"#009af9\" fill-rule=\"evenodd\" fill-opacity=\"1\" stroke=\"#000000\" stroke-opacity=\"1\" stroke-width=\"3.2\"/>\n",
       "<circle clip-path=\"url(#clip102)\" cx=\"1525.14\" cy=\"647.289\" r=\"14\" fill=\"#009af9\" fill-rule=\"evenodd\" fill-opacity=\"1\" stroke=\"#000000\" stroke-opacity=\"1\" stroke-width=\"3.2\"/>\n",
       "<circle clip-path=\"url(#clip102)\" cx=\"1527.17\" cy=\"646.002\" r=\"14\" fill=\"#009af9\" fill-rule=\"evenodd\" fill-opacity=\"1\" stroke=\"#000000\" stroke-opacity=\"1\" stroke-width=\"3.2\"/>\n",
       "<circle clip-path=\"url(#clip102)\" cx=\"1529.2\" cy=\"644.714\" r=\"14\" fill=\"#009af9\" fill-rule=\"evenodd\" fill-opacity=\"1\" stroke=\"#000000\" stroke-opacity=\"1\" stroke-width=\"3.2\"/>\n",
       "<circle clip-path=\"url(#clip102)\" cx=\"1531.24\" cy=\"643.427\" r=\"14\" fill=\"#009af9\" fill-rule=\"evenodd\" fill-opacity=\"1\" stroke=\"#000000\" stroke-opacity=\"1\" stroke-width=\"3.2\"/>\n",
       "<circle clip-path=\"url(#clip102)\" cx=\"1533.27\" cy=\"642.14\" r=\"14\" fill=\"#009af9\" fill-rule=\"evenodd\" fill-opacity=\"1\" stroke=\"#000000\" stroke-opacity=\"1\" stroke-width=\"3.2\"/>\n",
       "<circle clip-path=\"url(#clip102)\" cx=\"1535.31\" cy=\"640.853\" r=\"14\" fill=\"#009af9\" fill-rule=\"evenodd\" fill-opacity=\"1\" stroke=\"#000000\" stroke-opacity=\"1\" stroke-width=\"3.2\"/>\n",
       "<circle clip-path=\"url(#clip102)\" cx=\"1537.34\" cy=\"639.566\" r=\"14\" fill=\"#009af9\" fill-rule=\"evenodd\" fill-opacity=\"1\" stroke=\"#000000\" stroke-opacity=\"1\" stroke-width=\"3.2\"/>\n",
       "<circle clip-path=\"url(#clip102)\" cx=\"1539.37\" cy=\"638.279\" r=\"14\" fill=\"#009af9\" fill-rule=\"evenodd\" fill-opacity=\"1\" stroke=\"#000000\" stroke-opacity=\"1\" stroke-width=\"3.2\"/>\n",
       "<circle clip-path=\"url(#clip102)\" cx=\"1541.41\" cy=\"636.992\" r=\"14\" fill=\"#009af9\" fill-rule=\"evenodd\" fill-opacity=\"1\" stroke=\"#000000\" stroke-opacity=\"1\" stroke-width=\"3.2\"/>\n",
       "<circle clip-path=\"url(#clip102)\" cx=\"1543.44\" cy=\"635.705\" r=\"14\" fill=\"#009af9\" fill-rule=\"evenodd\" fill-opacity=\"1\" stroke=\"#000000\" stroke-opacity=\"1\" stroke-width=\"3.2\"/>\n",
       "<circle clip-path=\"url(#clip102)\" cx=\"1545.47\" cy=\"634.417\" r=\"14\" fill=\"#009af9\" fill-rule=\"evenodd\" fill-opacity=\"1\" stroke=\"#000000\" stroke-opacity=\"1\" stroke-width=\"3.2\"/>\n",
       "<circle clip-path=\"url(#clip102)\" cx=\"1547.51\" cy=\"633.13\" r=\"14\" fill=\"#009af9\" fill-rule=\"evenodd\" fill-opacity=\"1\" stroke=\"#000000\" stroke-opacity=\"1\" stroke-width=\"3.2\"/>\n",
       "<circle clip-path=\"url(#clip102)\" cx=\"1549.54\" cy=\"631.843\" r=\"14\" fill=\"#009af9\" fill-rule=\"evenodd\" fill-opacity=\"1\" stroke=\"#000000\" stroke-opacity=\"1\" stroke-width=\"3.2\"/>\n",
       "<circle clip-path=\"url(#clip102)\" cx=\"1551.57\" cy=\"630.556\" r=\"14\" fill=\"#009af9\" fill-rule=\"evenodd\" fill-opacity=\"1\" stroke=\"#000000\" stroke-opacity=\"1\" stroke-width=\"3.2\"/>\n",
       "<circle clip-path=\"url(#clip102)\" cx=\"1553.61\" cy=\"629.269\" r=\"14\" fill=\"#009af9\" fill-rule=\"evenodd\" fill-opacity=\"1\" stroke=\"#000000\" stroke-opacity=\"1\" stroke-width=\"3.2\"/>\n",
       "<circle clip-path=\"url(#clip102)\" cx=\"1555.64\" cy=\"627.982\" r=\"14\" fill=\"#009af9\" fill-rule=\"evenodd\" fill-opacity=\"1\" stroke=\"#000000\" stroke-opacity=\"1\" stroke-width=\"3.2\"/>\n",
       "<circle clip-path=\"url(#clip102)\" cx=\"1557.67\" cy=\"626.695\" r=\"14\" fill=\"#009af9\" fill-rule=\"evenodd\" fill-opacity=\"1\" stroke=\"#000000\" stroke-opacity=\"1\" stroke-width=\"3.2\"/>\n",
       "<circle clip-path=\"url(#clip102)\" cx=\"1559.71\" cy=\"625.408\" r=\"14\" fill=\"#009af9\" fill-rule=\"evenodd\" fill-opacity=\"1\" stroke=\"#000000\" stroke-opacity=\"1\" stroke-width=\"3.2\"/>\n",
       "<circle clip-path=\"url(#clip102)\" cx=\"1561.74\" cy=\"624.121\" r=\"14\" fill=\"#009af9\" fill-rule=\"evenodd\" fill-opacity=\"1\" stroke=\"#000000\" stroke-opacity=\"1\" stroke-width=\"3.2\"/>\n",
       "<circle clip-path=\"url(#clip102)\" cx=\"1563.78\" cy=\"622.833\" r=\"14\" fill=\"#009af9\" fill-rule=\"evenodd\" fill-opacity=\"1\" stroke=\"#000000\" stroke-opacity=\"1\" stroke-width=\"3.2\"/>\n",
       "<circle clip-path=\"url(#clip102)\" cx=\"1565.81\" cy=\"621.546\" r=\"14\" fill=\"#009af9\" fill-rule=\"evenodd\" fill-opacity=\"1\" stroke=\"#000000\" stroke-opacity=\"1\" stroke-width=\"3.2\"/>\n",
       "<circle clip-path=\"url(#clip102)\" cx=\"1567.84\" cy=\"620.259\" r=\"14\" fill=\"#009af9\" fill-rule=\"evenodd\" fill-opacity=\"1\" stroke=\"#000000\" stroke-opacity=\"1\" stroke-width=\"3.2\"/>\n",
       "<circle clip-path=\"url(#clip102)\" cx=\"1569.88\" cy=\"618.972\" r=\"14\" fill=\"#009af9\" fill-rule=\"evenodd\" fill-opacity=\"1\" stroke=\"#000000\" stroke-opacity=\"1\" stroke-width=\"3.2\"/>\n",
       "<circle clip-path=\"url(#clip102)\" cx=\"1571.91\" cy=\"617.685\" r=\"14\" fill=\"#009af9\" fill-rule=\"evenodd\" fill-opacity=\"1\" stroke=\"#000000\" stroke-opacity=\"1\" stroke-width=\"3.2\"/>\n",
       "<circle clip-path=\"url(#clip102)\" cx=\"1573.94\" cy=\"616.398\" r=\"14\" fill=\"#009af9\" fill-rule=\"evenodd\" fill-opacity=\"1\" stroke=\"#000000\" stroke-opacity=\"1\" stroke-width=\"3.2\"/>\n",
       "<circle clip-path=\"url(#clip102)\" cx=\"1575.98\" cy=\"615.111\" r=\"14\" fill=\"#009af9\" fill-rule=\"evenodd\" fill-opacity=\"1\" stroke=\"#000000\" stroke-opacity=\"1\" stroke-width=\"3.2\"/>\n",
       "<circle clip-path=\"url(#clip102)\" cx=\"1578.01\" cy=\"613.824\" r=\"14\" fill=\"#009af9\" fill-rule=\"evenodd\" fill-opacity=\"1\" stroke=\"#000000\" stroke-opacity=\"1\" stroke-width=\"3.2\"/>\n",
       "<circle clip-path=\"url(#clip102)\" cx=\"1580.04\" cy=\"612.537\" r=\"14\" fill=\"#009af9\" fill-rule=\"evenodd\" fill-opacity=\"1\" stroke=\"#000000\" stroke-opacity=\"1\" stroke-width=\"3.2\"/>\n",
       "<circle clip-path=\"url(#clip102)\" cx=\"1582.08\" cy=\"611.249\" r=\"14\" fill=\"#009af9\" fill-rule=\"evenodd\" fill-opacity=\"1\" stroke=\"#000000\" stroke-opacity=\"1\" stroke-width=\"3.2\"/>\n",
       "<circle clip-path=\"url(#clip102)\" cx=\"1584.11\" cy=\"609.962\" r=\"14\" fill=\"#009af9\" fill-rule=\"evenodd\" fill-opacity=\"1\" stroke=\"#000000\" stroke-opacity=\"1\" stroke-width=\"3.2\"/>\n",
       "<circle clip-path=\"url(#clip102)\" cx=\"1586.15\" cy=\"608.675\" r=\"14\" fill=\"#009af9\" fill-rule=\"evenodd\" fill-opacity=\"1\" stroke=\"#000000\" stroke-opacity=\"1\" stroke-width=\"3.2\"/>\n",
       "<circle clip-path=\"url(#clip102)\" cx=\"1588.18\" cy=\"607.388\" r=\"14\" fill=\"#009af9\" fill-rule=\"evenodd\" fill-opacity=\"1\" stroke=\"#000000\" stroke-opacity=\"1\" stroke-width=\"3.2\"/>\n",
       "<circle clip-path=\"url(#clip102)\" cx=\"1590.21\" cy=\"606.101\" r=\"14\" fill=\"#009af9\" fill-rule=\"evenodd\" fill-opacity=\"1\" stroke=\"#000000\" stroke-opacity=\"1\" stroke-width=\"3.2\"/>\n",
       "<circle clip-path=\"url(#clip102)\" cx=\"1592.25\" cy=\"604.814\" r=\"14\" fill=\"#009af9\" fill-rule=\"evenodd\" fill-opacity=\"1\" stroke=\"#000000\" stroke-opacity=\"1\" stroke-width=\"3.2\"/>\n",
       "<circle clip-path=\"url(#clip102)\" cx=\"1594.28\" cy=\"603.527\" r=\"14\" fill=\"#009af9\" fill-rule=\"evenodd\" fill-opacity=\"1\" stroke=\"#000000\" stroke-opacity=\"1\" stroke-width=\"3.2\"/>\n",
       "<circle clip-path=\"url(#clip102)\" cx=\"1596.31\" cy=\"602.24\" r=\"14\" fill=\"#009af9\" fill-rule=\"evenodd\" fill-opacity=\"1\" stroke=\"#000000\" stroke-opacity=\"1\" stroke-width=\"3.2\"/>\n",
       "<circle clip-path=\"url(#clip102)\" cx=\"1598.35\" cy=\"600.953\" r=\"14\" fill=\"#009af9\" fill-rule=\"evenodd\" fill-opacity=\"1\" stroke=\"#000000\" stroke-opacity=\"1\" stroke-width=\"3.2\"/>\n",
       "<circle clip-path=\"url(#clip102)\" cx=\"1600.38\" cy=\"599.665\" r=\"14\" fill=\"#009af9\" fill-rule=\"evenodd\" fill-opacity=\"1\" stroke=\"#000000\" stroke-opacity=\"1\" stroke-width=\"3.2\"/>\n",
       "<circle clip-path=\"url(#clip102)\" cx=\"1602.41\" cy=\"598.378\" r=\"14\" fill=\"#009af9\" fill-rule=\"evenodd\" fill-opacity=\"1\" stroke=\"#000000\" stroke-opacity=\"1\" stroke-width=\"3.2\"/>\n",
       "<circle clip-path=\"url(#clip102)\" cx=\"1604.45\" cy=\"597.091\" r=\"14\" fill=\"#009af9\" fill-rule=\"evenodd\" fill-opacity=\"1\" stroke=\"#000000\" stroke-opacity=\"1\" stroke-width=\"3.2\"/>\n",
       "<circle clip-path=\"url(#clip102)\" cx=\"1606.48\" cy=\"595.804\" r=\"14\" fill=\"#009af9\" fill-rule=\"evenodd\" fill-opacity=\"1\" stroke=\"#000000\" stroke-opacity=\"1\" stroke-width=\"3.2\"/>\n",
       "<circle clip-path=\"url(#clip102)\" cx=\"1608.52\" cy=\"594.517\" r=\"14\" fill=\"#009af9\" fill-rule=\"evenodd\" fill-opacity=\"1\" stroke=\"#000000\" stroke-opacity=\"1\" stroke-width=\"3.2\"/>\n",
       "<circle clip-path=\"url(#clip102)\" cx=\"1610.55\" cy=\"593.23\" r=\"14\" fill=\"#009af9\" fill-rule=\"evenodd\" fill-opacity=\"1\" stroke=\"#000000\" stroke-opacity=\"1\" stroke-width=\"3.2\"/>\n",
       "<circle clip-path=\"url(#clip102)\" cx=\"1612.58\" cy=\"591.943\" r=\"14\" fill=\"#009af9\" fill-rule=\"evenodd\" fill-opacity=\"1\" stroke=\"#000000\" stroke-opacity=\"1\" stroke-width=\"3.2\"/>\n",
       "<circle clip-path=\"url(#clip102)\" cx=\"1614.62\" cy=\"590.656\" r=\"14\" fill=\"#009af9\" fill-rule=\"evenodd\" fill-opacity=\"1\" stroke=\"#000000\" stroke-opacity=\"1\" stroke-width=\"3.2\"/>\n",
       "<circle clip-path=\"url(#clip102)\" cx=\"1616.65\" cy=\"589.369\" r=\"14\" fill=\"#009af9\" fill-rule=\"evenodd\" fill-opacity=\"1\" stroke=\"#000000\" stroke-opacity=\"1\" stroke-width=\"3.2\"/>\n",
       "<circle clip-path=\"url(#clip102)\" cx=\"1618.68\" cy=\"588.081\" r=\"14\" fill=\"#009af9\" fill-rule=\"evenodd\" fill-opacity=\"1\" stroke=\"#000000\" stroke-opacity=\"1\" stroke-width=\"3.2\"/>\n",
       "<circle clip-path=\"url(#clip102)\" cx=\"1620.72\" cy=\"586.794\" r=\"14\" fill=\"#009af9\" fill-rule=\"evenodd\" fill-opacity=\"1\" stroke=\"#000000\" stroke-opacity=\"1\" stroke-width=\"3.2\"/>\n",
       "<circle clip-path=\"url(#clip102)\" cx=\"1622.75\" cy=\"585.507\" r=\"14\" fill=\"#009af9\" fill-rule=\"evenodd\" fill-opacity=\"1\" stroke=\"#000000\" stroke-opacity=\"1\" stroke-width=\"3.2\"/>\n",
       "<circle clip-path=\"url(#clip102)\" cx=\"1624.78\" cy=\"584.22\" r=\"14\" fill=\"#009af9\" fill-rule=\"evenodd\" fill-opacity=\"1\" stroke=\"#000000\" stroke-opacity=\"1\" stroke-width=\"3.2\"/>\n",
       "<circle clip-path=\"url(#clip102)\" cx=\"1626.82\" cy=\"582.933\" r=\"14\" fill=\"#009af9\" fill-rule=\"evenodd\" fill-opacity=\"1\" stroke=\"#000000\" stroke-opacity=\"1\" stroke-width=\"3.2\"/>\n",
       "<circle clip-path=\"url(#clip102)\" cx=\"1628.85\" cy=\"581.646\" r=\"14\" fill=\"#009af9\" fill-rule=\"evenodd\" fill-opacity=\"1\" stroke=\"#000000\" stroke-opacity=\"1\" stroke-width=\"3.2\"/>\n",
       "<circle clip-path=\"url(#clip102)\" cx=\"1630.88\" cy=\"580.359\" r=\"14\" fill=\"#009af9\" fill-rule=\"evenodd\" fill-opacity=\"1\" stroke=\"#000000\" stroke-opacity=\"1\" stroke-width=\"3.2\"/>\n",
       "<circle clip-path=\"url(#clip102)\" cx=\"1632.92\" cy=\"579.072\" r=\"14\" fill=\"#009af9\" fill-rule=\"evenodd\" fill-opacity=\"1\" stroke=\"#000000\" stroke-opacity=\"1\" stroke-width=\"3.2\"/>\n",
       "<circle clip-path=\"url(#clip102)\" cx=\"1634.95\" cy=\"577.785\" r=\"14\" fill=\"#009af9\" fill-rule=\"evenodd\" fill-opacity=\"1\" stroke=\"#000000\" stroke-opacity=\"1\" stroke-width=\"3.2\"/>\n",
       "<circle clip-path=\"url(#clip102)\" cx=\"1636.99\" cy=\"576.497\" r=\"14\" fill=\"#009af9\" fill-rule=\"evenodd\" fill-opacity=\"1\" stroke=\"#000000\" stroke-opacity=\"1\" stroke-width=\"3.2\"/>\n",
       "<circle clip-path=\"url(#clip102)\" cx=\"1639.02\" cy=\"575.21\" r=\"14\" fill=\"#009af9\" fill-rule=\"evenodd\" fill-opacity=\"1\" stroke=\"#000000\" stroke-opacity=\"1\" stroke-width=\"3.2\"/>\n",
       "<circle clip-path=\"url(#clip102)\" cx=\"1641.05\" cy=\"573.923\" r=\"14\" fill=\"#009af9\" fill-rule=\"evenodd\" fill-opacity=\"1\" stroke=\"#000000\" stroke-opacity=\"1\" stroke-width=\"3.2\"/>\n",
       "<circle clip-path=\"url(#clip102)\" cx=\"1643.09\" cy=\"572.636\" r=\"14\" fill=\"#009af9\" fill-rule=\"evenodd\" fill-opacity=\"1\" stroke=\"#000000\" stroke-opacity=\"1\" stroke-width=\"3.2\"/>\n",
       "<circle clip-path=\"url(#clip102)\" cx=\"1645.12\" cy=\"571.349\" r=\"14\" fill=\"#009af9\" fill-rule=\"evenodd\" fill-opacity=\"1\" stroke=\"#000000\" stroke-opacity=\"1\" stroke-width=\"3.2\"/>\n",
       "<circle clip-path=\"url(#clip102)\" cx=\"1647.15\" cy=\"570.062\" r=\"14\" fill=\"#009af9\" fill-rule=\"evenodd\" fill-opacity=\"1\" stroke=\"#000000\" stroke-opacity=\"1\" stroke-width=\"3.2\"/>\n",
       "<circle clip-path=\"url(#clip102)\" cx=\"1649.19\" cy=\"568.775\" r=\"14\" fill=\"#009af9\" fill-rule=\"evenodd\" fill-opacity=\"1\" stroke=\"#000000\" stroke-opacity=\"1\" stroke-width=\"3.2\"/>\n",
       "<circle clip-path=\"url(#clip102)\" cx=\"1651.22\" cy=\"567.488\" r=\"14\" fill=\"#009af9\" fill-rule=\"evenodd\" fill-opacity=\"1\" stroke=\"#000000\" stroke-opacity=\"1\" stroke-width=\"3.2\"/>\n",
       "<circle clip-path=\"url(#clip102)\" cx=\"1653.25\" cy=\"566.2\" r=\"14\" fill=\"#009af9\" fill-rule=\"evenodd\" fill-opacity=\"1\" stroke=\"#000000\" stroke-opacity=\"1\" stroke-width=\"3.2\"/>\n",
       "<circle clip-path=\"url(#clip102)\" cx=\"1655.29\" cy=\"564.913\" r=\"14\" fill=\"#009af9\" fill-rule=\"evenodd\" fill-opacity=\"1\" stroke=\"#000000\" stroke-opacity=\"1\" stroke-width=\"3.2\"/>\n",
       "<circle clip-path=\"url(#clip102)\" cx=\"1657.32\" cy=\"563.626\" r=\"14\" fill=\"#009af9\" fill-rule=\"evenodd\" fill-opacity=\"1\" stroke=\"#000000\" stroke-opacity=\"1\" stroke-width=\"3.2\"/>\n",
       "<circle clip-path=\"url(#clip102)\" cx=\"1659.36\" cy=\"562.339\" r=\"14\" fill=\"#009af9\" fill-rule=\"evenodd\" fill-opacity=\"1\" stroke=\"#000000\" stroke-opacity=\"1\" stroke-width=\"3.2\"/>\n",
       "<circle clip-path=\"url(#clip102)\" cx=\"1661.39\" cy=\"561.052\" r=\"14\" fill=\"#009af9\" fill-rule=\"evenodd\" fill-opacity=\"1\" stroke=\"#000000\" stroke-opacity=\"1\" stroke-width=\"3.2\"/>\n",
       "<circle clip-path=\"url(#clip102)\" cx=\"1663.42\" cy=\"559.765\" r=\"14\" fill=\"#009af9\" fill-rule=\"evenodd\" fill-opacity=\"1\" stroke=\"#000000\" stroke-opacity=\"1\" stroke-width=\"3.2\"/>\n",
       "<circle clip-path=\"url(#clip102)\" cx=\"1665.46\" cy=\"558.478\" r=\"14\" fill=\"#009af9\" fill-rule=\"evenodd\" fill-opacity=\"1\" stroke=\"#000000\" stroke-opacity=\"1\" stroke-width=\"3.2\"/>\n",
       "<circle clip-path=\"url(#clip102)\" cx=\"1667.49\" cy=\"557.191\" r=\"14\" fill=\"#009af9\" fill-rule=\"evenodd\" fill-opacity=\"1\" stroke=\"#000000\" stroke-opacity=\"1\" stroke-width=\"3.2\"/>\n",
       "<circle clip-path=\"url(#clip102)\" cx=\"1669.52\" cy=\"555.904\" r=\"14\" fill=\"#009af9\" fill-rule=\"evenodd\" fill-opacity=\"1\" stroke=\"#000000\" stroke-opacity=\"1\" stroke-width=\"3.2\"/>\n",
       "<circle clip-path=\"url(#clip102)\" cx=\"1671.56\" cy=\"554.616\" r=\"14\" fill=\"#009af9\" fill-rule=\"evenodd\" fill-opacity=\"1\" stroke=\"#000000\" stroke-opacity=\"1\" stroke-width=\"3.2\"/>\n",
       "<circle clip-path=\"url(#clip102)\" cx=\"1673.59\" cy=\"553.329\" r=\"14\" fill=\"#009af9\" fill-rule=\"evenodd\" fill-opacity=\"1\" stroke=\"#000000\" stroke-opacity=\"1\" stroke-width=\"3.2\"/>\n",
       "<circle clip-path=\"url(#clip102)\" cx=\"1675.62\" cy=\"552.042\" r=\"14\" fill=\"#009af9\" fill-rule=\"evenodd\" fill-opacity=\"1\" stroke=\"#000000\" stroke-opacity=\"1\" stroke-width=\"3.2\"/>\n",
       "<circle clip-path=\"url(#clip102)\" cx=\"1677.66\" cy=\"550.755\" r=\"14\" fill=\"#009af9\" fill-rule=\"evenodd\" fill-opacity=\"1\" stroke=\"#000000\" stroke-opacity=\"1\" stroke-width=\"3.2\"/>\n",
       "<circle clip-path=\"url(#clip102)\" cx=\"1679.69\" cy=\"549.468\" r=\"14\" fill=\"#009af9\" fill-rule=\"evenodd\" fill-opacity=\"1\" stroke=\"#000000\" stroke-opacity=\"1\" stroke-width=\"3.2\"/>\n",
       "<circle clip-path=\"url(#clip102)\" cx=\"1681.73\" cy=\"548.181\" r=\"14\" fill=\"#009af9\" fill-rule=\"evenodd\" fill-opacity=\"1\" stroke=\"#000000\" stroke-opacity=\"1\" stroke-width=\"3.2\"/>\n",
       "<circle clip-path=\"url(#clip102)\" cx=\"1683.76\" cy=\"546.894\" r=\"14\" fill=\"#009af9\" fill-rule=\"evenodd\" fill-opacity=\"1\" stroke=\"#000000\" stroke-opacity=\"1\" stroke-width=\"3.2\"/>\n",
       "<circle clip-path=\"url(#clip102)\" cx=\"1685.79\" cy=\"545.607\" r=\"14\" fill=\"#009af9\" fill-rule=\"evenodd\" fill-opacity=\"1\" stroke=\"#000000\" stroke-opacity=\"1\" stroke-width=\"3.2\"/>\n",
       "<circle clip-path=\"url(#clip102)\" cx=\"1687.83\" cy=\"544.32\" r=\"14\" fill=\"#009af9\" fill-rule=\"evenodd\" fill-opacity=\"1\" stroke=\"#000000\" stroke-opacity=\"1\" stroke-width=\"3.2\"/>\n",
       "<circle clip-path=\"url(#clip102)\" cx=\"1689.86\" cy=\"543.032\" r=\"14\" fill=\"#009af9\" fill-rule=\"evenodd\" fill-opacity=\"1\" stroke=\"#000000\" stroke-opacity=\"1\" stroke-width=\"3.2\"/>\n",
       "<circle clip-path=\"url(#clip102)\" cx=\"1691.89\" cy=\"541.745\" r=\"14\" fill=\"#009af9\" fill-rule=\"evenodd\" fill-opacity=\"1\" stroke=\"#000000\" stroke-opacity=\"1\" stroke-width=\"3.2\"/>\n",
       "<circle clip-path=\"url(#clip102)\" cx=\"1693.93\" cy=\"540.458\" r=\"14\" fill=\"#009af9\" fill-rule=\"evenodd\" fill-opacity=\"1\" stroke=\"#000000\" stroke-opacity=\"1\" stroke-width=\"3.2\"/>\n",
       "<circle clip-path=\"url(#clip102)\" cx=\"1695.96\" cy=\"539.171\" r=\"14\" fill=\"#009af9\" fill-rule=\"evenodd\" fill-opacity=\"1\" stroke=\"#000000\" stroke-opacity=\"1\" stroke-width=\"3.2\"/>\n",
       "<circle clip-path=\"url(#clip102)\" cx=\"1697.99\" cy=\"537.884\" r=\"14\" fill=\"#009af9\" fill-rule=\"evenodd\" fill-opacity=\"1\" stroke=\"#000000\" stroke-opacity=\"1\" stroke-width=\"3.2\"/>\n",
       "<circle clip-path=\"url(#clip102)\" cx=\"1700.03\" cy=\"536.597\" r=\"14\" fill=\"#009af9\" fill-rule=\"evenodd\" fill-opacity=\"1\" stroke=\"#000000\" stroke-opacity=\"1\" stroke-width=\"3.2\"/>\n",
       "<circle clip-path=\"url(#clip102)\" cx=\"1702.06\" cy=\"535.31\" r=\"14\" fill=\"#009af9\" fill-rule=\"evenodd\" fill-opacity=\"1\" stroke=\"#000000\" stroke-opacity=\"1\" stroke-width=\"3.2\"/>\n",
       "<circle clip-path=\"url(#clip102)\" cx=\"1704.09\" cy=\"534.023\" r=\"14\" fill=\"#009af9\" fill-rule=\"evenodd\" fill-opacity=\"1\" stroke=\"#000000\" stroke-opacity=\"1\" stroke-width=\"3.2\"/>\n",
       "<circle clip-path=\"url(#clip102)\" cx=\"1706.13\" cy=\"532.736\" r=\"14\" fill=\"#009af9\" fill-rule=\"evenodd\" fill-opacity=\"1\" stroke=\"#000000\" stroke-opacity=\"1\" stroke-width=\"3.2\"/>\n",
       "<circle clip-path=\"url(#clip102)\" cx=\"1708.16\" cy=\"531.448\" r=\"14\" fill=\"#009af9\" fill-rule=\"evenodd\" fill-opacity=\"1\" stroke=\"#000000\" stroke-opacity=\"1\" stroke-width=\"3.2\"/>\n",
       "<circle clip-path=\"url(#clip102)\" cx=\"1710.2\" cy=\"530.161\" r=\"14\" fill=\"#009af9\" fill-rule=\"evenodd\" fill-opacity=\"1\" stroke=\"#000000\" stroke-opacity=\"1\" stroke-width=\"3.2\"/>\n",
       "<circle clip-path=\"url(#clip102)\" cx=\"1712.23\" cy=\"528.874\" r=\"14\" fill=\"#009af9\" fill-rule=\"evenodd\" fill-opacity=\"1\" stroke=\"#000000\" stroke-opacity=\"1\" stroke-width=\"3.2\"/>\n",
       "<circle clip-path=\"url(#clip102)\" cx=\"1714.26\" cy=\"527.587\" r=\"14\" fill=\"#009af9\" fill-rule=\"evenodd\" fill-opacity=\"1\" stroke=\"#000000\" stroke-opacity=\"1\" stroke-width=\"3.2\"/>\n",
       "<circle clip-path=\"url(#clip102)\" cx=\"1716.3\" cy=\"526.3\" r=\"14\" fill=\"#009af9\" fill-rule=\"evenodd\" fill-opacity=\"1\" stroke=\"#000000\" stroke-opacity=\"1\" stroke-width=\"3.2\"/>\n",
       "<circle clip-path=\"url(#clip102)\" cx=\"1718.33\" cy=\"525.013\" r=\"14\" fill=\"#009af9\" fill-rule=\"evenodd\" fill-opacity=\"1\" stroke=\"#000000\" stroke-opacity=\"1\" stroke-width=\"3.2\"/>\n",
       "<circle clip-path=\"url(#clip102)\" cx=\"1720.36\" cy=\"523.726\" r=\"14\" fill=\"#009af9\" fill-rule=\"evenodd\" fill-opacity=\"1\" stroke=\"#000000\" stroke-opacity=\"1\" stroke-width=\"3.2\"/>\n",
       "<circle clip-path=\"url(#clip102)\" cx=\"1722.4\" cy=\"522.439\" r=\"14\" fill=\"#009af9\" fill-rule=\"evenodd\" fill-opacity=\"1\" stroke=\"#000000\" stroke-opacity=\"1\" stroke-width=\"3.2\"/>\n",
       "<circle clip-path=\"url(#clip102)\" cx=\"1724.43\" cy=\"521.152\" r=\"14\" fill=\"#009af9\" fill-rule=\"evenodd\" fill-opacity=\"1\" stroke=\"#000000\" stroke-opacity=\"1\" stroke-width=\"3.2\"/>\n",
       "<circle clip-path=\"url(#clip102)\" cx=\"1726.46\" cy=\"519.864\" r=\"14\" fill=\"#009af9\" fill-rule=\"evenodd\" fill-opacity=\"1\" stroke=\"#000000\" stroke-opacity=\"1\" stroke-width=\"3.2\"/>\n",
       "<circle clip-path=\"url(#clip102)\" cx=\"1728.5\" cy=\"518.577\" r=\"14\" fill=\"#009af9\" fill-rule=\"evenodd\" fill-opacity=\"1\" stroke=\"#000000\" stroke-opacity=\"1\" stroke-width=\"3.2\"/>\n",
       "<circle clip-path=\"url(#clip102)\" cx=\"1730.53\" cy=\"517.29\" r=\"14\" fill=\"#009af9\" fill-rule=\"evenodd\" fill-opacity=\"1\" stroke=\"#000000\" stroke-opacity=\"1\" stroke-width=\"3.2\"/>\n",
       "<circle clip-path=\"url(#clip102)\" cx=\"1732.57\" cy=\"516.003\" r=\"14\" fill=\"#009af9\" fill-rule=\"evenodd\" fill-opacity=\"1\" stroke=\"#000000\" stroke-opacity=\"1\" stroke-width=\"3.2\"/>\n",
       "<circle clip-path=\"url(#clip102)\" cx=\"1734.6\" cy=\"514.716\" r=\"14\" fill=\"#009af9\" fill-rule=\"evenodd\" fill-opacity=\"1\" stroke=\"#000000\" stroke-opacity=\"1\" stroke-width=\"3.2\"/>\n",
       "<circle clip-path=\"url(#clip102)\" cx=\"1736.63\" cy=\"513.429\" r=\"14\" fill=\"#009af9\" fill-rule=\"evenodd\" fill-opacity=\"1\" stroke=\"#000000\" stroke-opacity=\"1\" stroke-width=\"3.2\"/>\n",
       "<circle clip-path=\"url(#clip102)\" cx=\"1738.67\" cy=\"512.142\" r=\"14\" fill=\"#009af9\" fill-rule=\"evenodd\" fill-opacity=\"1\" stroke=\"#000000\" stroke-opacity=\"1\" stroke-width=\"3.2\"/>\n",
       "<circle clip-path=\"url(#clip102)\" cx=\"1740.7\" cy=\"510.855\" r=\"14\" fill=\"#009af9\" fill-rule=\"evenodd\" fill-opacity=\"1\" stroke=\"#000000\" stroke-opacity=\"1\" stroke-width=\"3.2\"/>\n",
       "<circle clip-path=\"url(#clip102)\" cx=\"1742.73\" cy=\"509.567\" r=\"14\" fill=\"#009af9\" fill-rule=\"evenodd\" fill-opacity=\"1\" stroke=\"#000000\" stroke-opacity=\"1\" stroke-width=\"3.2\"/>\n",
       "<circle clip-path=\"url(#clip102)\" cx=\"1744.77\" cy=\"508.28\" r=\"14\" fill=\"#009af9\" fill-rule=\"evenodd\" fill-opacity=\"1\" stroke=\"#000000\" stroke-opacity=\"1\" stroke-width=\"3.2\"/>\n",
       "<circle clip-path=\"url(#clip102)\" cx=\"1746.8\" cy=\"506.993\" r=\"14\" fill=\"#009af9\" fill-rule=\"evenodd\" fill-opacity=\"1\" stroke=\"#000000\" stroke-opacity=\"1\" stroke-width=\"3.2\"/>\n",
       "<circle clip-path=\"url(#clip102)\" cx=\"1748.83\" cy=\"505.706\" r=\"14\" fill=\"#009af9\" fill-rule=\"evenodd\" fill-opacity=\"1\" stroke=\"#000000\" stroke-opacity=\"1\" stroke-width=\"3.2\"/>\n",
       "<circle clip-path=\"url(#clip102)\" cx=\"1750.87\" cy=\"504.419\" r=\"14\" fill=\"#009af9\" fill-rule=\"evenodd\" fill-opacity=\"1\" stroke=\"#000000\" stroke-opacity=\"1\" stroke-width=\"3.2\"/>\n",
       "<circle clip-path=\"url(#clip102)\" cx=\"1752.9\" cy=\"503.132\" r=\"14\" fill=\"#009af9\" fill-rule=\"evenodd\" fill-opacity=\"1\" stroke=\"#000000\" stroke-opacity=\"1\" stroke-width=\"3.2\"/>\n",
       "<circle clip-path=\"url(#clip102)\" cx=\"1754.94\" cy=\"501.845\" r=\"14\" fill=\"#009af9\" fill-rule=\"evenodd\" fill-opacity=\"1\" stroke=\"#000000\" stroke-opacity=\"1\" stroke-width=\"3.2\"/>\n",
       "<circle clip-path=\"url(#clip102)\" cx=\"1756.97\" cy=\"500.558\" r=\"14\" fill=\"#009af9\" fill-rule=\"evenodd\" fill-opacity=\"1\" stroke=\"#000000\" stroke-opacity=\"1\" stroke-width=\"3.2\"/>\n",
       "<circle clip-path=\"url(#clip102)\" cx=\"1759\" cy=\"499.271\" r=\"14\" fill=\"#009af9\" fill-rule=\"evenodd\" fill-opacity=\"1\" stroke=\"#000000\" stroke-opacity=\"1\" stroke-width=\"3.2\"/>\n",
       "<circle clip-path=\"url(#clip102)\" cx=\"1761.04\" cy=\"497.983\" r=\"14\" fill=\"#009af9\" fill-rule=\"evenodd\" fill-opacity=\"1\" stroke=\"#000000\" stroke-opacity=\"1\" stroke-width=\"3.2\"/>\n",
       "<circle clip-path=\"url(#clip102)\" cx=\"1763.07\" cy=\"496.696\" r=\"14\" fill=\"#009af9\" fill-rule=\"evenodd\" fill-opacity=\"1\" stroke=\"#000000\" stroke-opacity=\"1\" stroke-width=\"3.2\"/>\n",
       "<circle clip-path=\"url(#clip102)\" cx=\"1765.1\" cy=\"495.409\" r=\"14\" fill=\"#009af9\" fill-rule=\"evenodd\" fill-opacity=\"1\" stroke=\"#000000\" stroke-opacity=\"1\" stroke-width=\"3.2\"/>\n",
       "<circle clip-path=\"url(#clip102)\" cx=\"1767.14\" cy=\"494.122\" r=\"14\" fill=\"#009af9\" fill-rule=\"evenodd\" fill-opacity=\"1\" stroke=\"#000000\" stroke-opacity=\"1\" stroke-width=\"3.2\"/>\n",
       "<circle clip-path=\"url(#clip102)\" cx=\"1769.17\" cy=\"492.835\" r=\"14\" fill=\"#009af9\" fill-rule=\"evenodd\" fill-opacity=\"1\" stroke=\"#000000\" stroke-opacity=\"1\" stroke-width=\"3.2\"/>\n",
       "<circle clip-path=\"url(#clip102)\" cx=\"1771.2\" cy=\"491.548\" r=\"14\" fill=\"#009af9\" fill-rule=\"evenodd\" fill-opacity=\"1\" stroke=\"#000000\" stroke-opacity=\"1\" stroke-width=\"3.2\"/>\n",
       "<circle clip-path=\"url(#clip102)\" cx=\"1773.24\" cy=\"490.261\" r=\"14\" fill=\"#009af9\" fill-rule=\"evenodd\" fill-opacity=\"1\" stroke=\"#000000\" stroke-opacity=\"1\" stroke-width=\"3.2\"/>\n",
       "<circle clip-path=\"url(#clip102)\" cx=\"1775.27\" cy=\"488.974\" r=\"14\" fill=\"#009af9\" fill-rule=\"evenodd\" fill-opacity=\"1\" stroke=\"#000000\" stroke-opacity=\"1\" stroke-width=\"3.2\"/>\n",
       "<circle clip-path=\"url(#clip102)\" cx=\"1777.3\" cy=\"487.687\" r=\"14\" fill=\"#009af9\" fill-rule=\"evenodd\" fill-opacity=\"1\" stroke=\"#000000\" stroke-opacity=\"1\" stroke-width=\"3.2\"/>\n",
       "<circle clip-path=\"url(#clip102)\" cx=\"1779.34\" cy=\"486.399\" r=\"14\" fill=\"#009af9\" fill-rule=\"evenodd\" fill-opacity=\"1\" stroke=\"#000000\" stroke-opacity=\"1\" stroke-width=\"3.2\"/>\n",
       "<circle clip-path=\"url(#clip102)\" cx=\"1781.37\" cy=\"485.112\" r=\"14\" fill=\"#009af9\" fill-rule=\"evenodd\" fill-opacity=\"1\" stroke=\"#000000\" stroke-opacity=\"1\" stroke-width=\"3.2\"/>\n",
       "<circle clip-path=\"url(#clip102)\" cx=\"1783.41\" cy=\"483.825\" r=\"14\" fill=\"#009af9\" fill-rule=\"evenodd\" fill-opacity=\"1\" stroke=\"#000000\" stroke-opacity=\"1\" stroke-width=\"3.2\"/>\n",
       "<circle clip-path=\"url(#clip102)\" cx=\"1785.44\" cy=\"482.538\" r=\"14\" fill=\"#009af9\" fill-rule=\"evenodd\" fill-opacity=\"1\" stroke=\"#000000\" stroke-opacity=\"1\" stroke-width=\"3.2\"/>\n",
       "<circle clip-path=\"url(#clip102)\" cx=\"1787.47\" cy=\"481.251\" r=\"14\" fill=\"#009af9\" fill-rule=\"evenodd\" fill-opacity=\"1\" stroke=\"#000000\" stroke-opacity=\"1\" stroke-width=\"3.2\"/>\n",
       "<circle clip-path=\"url(#clip102)\" cx=\"1789.51\" cy=\"479.964\" r=\"14\" fill=\"#009af9\" fill-rule=\"evenodd\" fill-opacity=\"1\" stroke=\"#000000\" stroke-opacity=\"1\" stroke-width=\"3.2\"/>\n",
       "<circle clip-path=\"url(#clip102)\" cx=\"1791.54\" cy=\"478.677\" r=\"14\" fill=\"#009af9\" fill-rule=\"evenodd\" fill-opacity=\"1\" stroke=\"#000000\" stroke-opacity=\"1\" stroke-width=\"3.2\"/>\n",
       "<circle clip-path=\"url(#clip102)\" cx=\"1793.57\" cy=\"477.39\" r=\"14\" fill=\"#009af9\" fill-rule=\"evenodd\" fill-opacity=\"1\" stroke=\"#000000\" stroke-opacity=\"1\" stroke-width=\"3.2\"/>\n",
       "<circle clip-path=\"url(#clip102)\" cx=\"1795.61\" cy=\"476.103\" r=\"14\" fill=\"#009af9\" fill-rule=\"evenodd\" fill-opacity=\"1\" stroke=\"#000000\" stroke-opacity=\"1\" stroke-width=\"3.2\"/>\n",
       "<circle clip-path=\"url(#clip102)\" cx=\"1797.64\" cy=\"474.815\" r=\"14\" fill=\"#009af9\" fill-rule=\"evenodd\" fill-opacity=\"1\" stroke=\"#000000\" stroke-opacity=\"1\" stroke-width=\"3.2\"/>\n",
       "<circle clip-path=\"url(#clip102)\" cx=\"1799.67\" cy=\"473.528\" r=\"14\" fill=\"#009af9\" fill-rule=\"evenodd\" fill-opacity=\"1\" stroke=\"#000000\" stroke-opacity=\"1\" stroke-width=\"3.2\"/>\n",
       "<circle clip-path=\"url(#clip102)\" cx=\"1801.71\" cy=\"472.241\" r=\"14\" fill=\"#009af9\" fill-rule=\"evenodd\" fill-opacity=\"1\" stroke=\"#000000\" stroke-opacity=\"1\" stroke-width=\"3.2\"/>\n",
       "<circle clip-path=\"url(#clip102)\" cx=\"1803.74\" cy=\"470.954\" r=\"14\" fill=\"#009af9\" fill-rule=\"evenodd\" fill-opacity=\"1\" stroke=\"#000000\" stroke-opacity=\"1\" stroke-width=\"3.2\"/>\n",
       "<circle clip-path=\"url(#clip102)\" cx=\"1805.78\" cy=\"469.667\" r=\"14\" fill=\"#009af9\" fill-rule=\"evenodd\" fill-opacity=\"1\" stroke=\"#000000\" stroke-opacity=\"1\" stroke-width=\"3.2\"/>\n",
       "<circle clip-path=\"url(#clip102)\" cx=\"1807.81\" cy=\"468.38\" r=\"14\" fill=\"#009af9\" fill-rule=\"evenodd\" fill-opacity=\"1\" stroke=\"#000000\" stroke-opacity=\"1\" stroke-width=\"3.2\"/>\n",
       "<circle clip-path=\"url(#clip102)\" cx=\"1809.84\" cy=\"467.093\" r=\"14\" fill=\"#009af9\" fill-rule=\"evenodd\" fill-opacity=\"1\" stroke=\"#000000\" stroke-opacity=\"1\" stroke-width=\"3.2\"/>\n",
       "<circle clip-path=\"url(#clip102)\" cx=\"1811.88\" cy=\"465.806\" r=\"14\" fill=\"#009af9\" fill-rule=\"evenodd\" fill-opacity=\"1\" stroke=\"#000000\" stroke-opacity=\"1\" stroke-width=\"3.2\"/>\n",
       "<circle clip-path=\"url(#clip102)\" cx=\"1813.91\" cy=\"464.519\" r=\"14\" fill=\"#009af9\" fill-rule=\"evenodd\" fill-opacity=\"1\" stroke=\"#000000\" stroke-opacity=\"1\" stroke-width=\"3.2\"/>\n",
       "<circle clip-path=\"url(#clip102)\" cx=\"1815.94\" cy=\"463.231\" r=\"14\" fill=\"#009af9\" fill-rule=\"evenodd\" fill-opacity=\"1\" stroke=\"#000000\" stroke-opacity=\"1\" stroke-width=\"3.2\"/>\n",
       "<circle clip-path=\"url(#clip102)\" cx=\"1817.98\" cy=\"461.944\" r=\"14\" fill=\"#009af9\" fill-rule=\"evenodd\" fill-opacity=\"1\" stroke=\"#000000\" stroke-opacity=\"1\" stroke-width=\"3.2\"/>\n",
       "<circle clip-path=\"url(#clip102)\" cx=\"1820.01\" cy=\"460.657\" r=\"14\" fill=\"#009af9\" fill-rule=\"evenodd\" fill-opacity=\"1\" stroke=\"#000000\" stroke-opacity=\"1\" stroke-width=\"3.2\"/>\n",
       "<circle clip-path=\"url(#clip102)\" cx=\"1822.04\" cy=\"459.37\" r=\"14\" fill=\"#009af9\" fill-rule=\"evenodd\" fill-opacity=\"1\" stroke=\"#000000\" stroke-opacity=\"1\" stroke-width=\"3.2\"/>\n",
       "<circle clip-path=\"url(#clip102)\" cx=\"1824.08\" cy=\"458.083\" r=\"14\" fill=\"#009af9\" fill-rule=\"evenodd\" fill-opacity=\"1\" stroke=\"#000000\" stroke-opacity=\"1\" stroke-width=\"3.2\"/>\n",
       "<circle clip-path=\"url(#clip102)\" cx=\"1826.11\" cy=\"456.796\" r=\"14\" fill=\"#009af9\" fill-rule=\"evenodd\" fill-opacity=\"1\" stroke=\"#000000\" stroke-opacity=\"1\" stroke-width=\"3.2\"/>\n",
       "<circle clip-path=\"url(#clip102)\" cx=\"1828.15\" cy=\"455.509\" r=\"14\" fill=\"#009af9\" fill-rule=\"evenodd\" fill-opacity=\"1\" stroke=\"#000000\" stroke-opacity=\"1\" stroke-width=\"3.2\"/>\n",
       "<circle clip-path=\"url(#clip102)\" cx=\"1830.18\" cy=\"454.222\" r=\"14\" fill=\"#009af9\" fill-rule=\"evenodd\" fill-opacity=\"1\" stroke=\"#000000\" stroke-opacity=\"1\" stroke-width=\"3.2\"/>\n",
       "<circle clip-path=\"url(#clip102)\" cx=\"1832.21\" cy=\"452.935\" r=\"14\" fill=\"#009af9\" fill-rule=\"evenodd\" fill-opacity=\"1\" stroke=\"#000000\" stroke-opacity=\"1\" stroke-width=\"3.2\"/>\n",
       "<circle clip-path=\"url(#clip102)\" cx=\"1834.25\" cy=\"451.647\" r=\"14\" fill=\"#009af9\" fill-rule=\"evenodd\" fill-opacity=\"1\" stroke=\"#000000\" stroke-opacity=\"1\" stroke-width=\"3.2\"/>\n",
       "<circle clip-path=\"url(#clip102)\" cx=\"1836.28\" cy=\"450.36\" r=\"14\" fill=\"#009af9\" fill-rule=\"evenodd\" fill-opacity=\"1\" stroke=\"#000000\" stroke-opacity=\"1\" stroke-width=\"3.2\"/>\n",
       "<circle clip-path=\"url(#clip102)\" cx=\"1838.31\" cy=\"449.073\" r=\"14\" fill=\"#009af9\" fill-rule=\"evenodd\" fill-opacity=\"1\" stroke=\"#000000\" stroke-opacity=\"1\" stroke-width=\"3.2\"/>\n",
       "<circle clip-path=\"url(#clip102)\" cx=\"1840.35\" cy=\"447.786\" r=\"14\" fill=\"#009af9\" fill-rule=\"evenodd\" fill-opacity=\"1\" stroke=\"#000000\" stroke-opacity=\"1\" stroke-width=\"3.2\"/>\n",
       "<circle clip-path=\"url(#clip102)\" cx=\"1842.38\" cy=\"446.499\" r=\"14\" fill=\"#009af9\" fill-rule=\"evenodd\" fill-opacity=\"1\" stroke=\"#000000\" stroke-opacity=\"1\" stroke-width=\"3.2\"/>\n",
       "<circle clip-path=\"url(#clip102)\" cx=\"1844.41\" cy=\"445.212\" r=\"14\" fill=\"#009af9\" fill-rule=\"evenodd\" fill-opacity=\"1\" stroke=\"#000000\" stroke-opacity=\"1\" stroke-width=\"3.2\"/>\n",
       "<circle clip-path=\"url(#clip102)\" cx=\"1846.45\" cy=\"443.925\" r=\"14\" fill=\"#009af9\" fill-rule=\"evenodd\" fill-opacity=\"1\" stroke=\"#000000\" stroke-opacity=\"1\" stroke-width=\"3.2\"/>\n",
       "<circle clip-path=\"url(#clip102)\" cx=\"1848.48\" cy=\"442.638\" r=\"14\" fill=\"#009af9\" fill-rule=\"evenodd\" fill-opacity=\"1\" stroke=\"#000000\" stroke-opacity=\"1\" stroke-width=\"3.2\"/>\n",
       "<circle clip-path=\"url(#clip102)\" cx=\"1850.51\" cy=\"441.35\" r=\"14\" fill=\"#009af9\" fill-rule=\"evenodd\" fill-opacity=\"1\" stroke=\"#000000\" stroke-opacity=\"1\" stroke-width=\"3.2\"/>\n",
       "<circle clip-path=\"url(#clip102)\" cx=\"1852.55\" cy=\"440.063\" r=\"14\" fill=\"#009af9\" fill-rule=\"evenodd\" fill-opacity=\"1\" stroke=\"#000000\" stroke-opacity=\"1\" stroke-width=\"3.2\"/>\n",
       "<circle clip-path=\"url(#clip102)\" cx=\"1854.58\" cy=\"438.776\" r=\"14\" fill=\"#009af9\" fill-rule=\"evenodd\" fill-opacity=\"1\" stroke=\"#000000\" stroke-opacity=\"1\" stroke-width=\"3.2\"/>\n",
       "<circle clip-path=\"url(#clip102)\" cx=\"1856.62\" cy=\"437.489\" r=\"14\" fill=\"#009af9\" fill-rule=\"evenodd\" fill-opacity=\"1\" stroke=\"#000000\" stroke-opacity=\"1\" stroke-width=\"3.2\"/>\n",
       "<circle clip-path=\"url(#clip102)\" cx=\"1858.65\" cy=\"436.202\" r=\"14\" fill=\"#009af9\" fill-rule=\"evenodd\" fill-opacity=\"1\" stroke=\"#000000\" stroke-opacity=\"1\" stroke-width=\"3.2\"/>\n",
       "<circle clip-path=\"url(#clip102)\" cx=\"1860.68\" cy=\"434.915\" r=\"14\" fill=\"#009af9\" fill-rule=\"evenodd\" fill-opacity=\"1\" stroke=\"#000000\" stroke-opacity=\"1\" stroke-width=\"3.2\"/>\n",
       "<circle clip-path=\"url(#clip102)\" cx=\"1862.72\" cy=\"433.628\" r=\"14\" fill=\"#009af9\" fill-rule=\"evenodd\" fill-opacity=\"1\" stroke=\"#000000\" stroke-opacity=\"1\" stroke-width=\"3.2\"/>\n",
       "<circle clip-path=\"url(#clip102)\" cx=\"1864.75\" cy=\"432.341\" r=\"14\" fill=\"#009af9\" fill-rule=\"evenodd\" fill-opacity=\"1\" stroke=\"#000000\" stroke-opacity=\"1\" stroke-width=\"3.2\"/>\n",
       "<circle clip-path=\"url(#clip102)\" cx=\"1866.78\" cy=\"431.054\" r=\"14\" fill=\"#009af9\" fill-rule=\"evenodd\" fill-opacity=\"1\" stroke=\"#000000\" stroke-opacity=\"1\" stroke-width=\"3.2\"/>\n",
       "<circle clip-path=\"url(#clip102)\" cx=\"1868.82\" cy=\"429.766\" r=\"14\" fill=\"#009af9\" fill-rule=\"evenodd\" fill-opacity=\"1\" stroke=\"#000000\" stroke-opacity=\"1\" stroke-width=\"3.2\"/>\n",
       "<circle clip-path=\"url(#clip102)\" cx=\"1870.85\" cy=\"428.479\" r=\"14\" fill=\"#009af9\" fill-rule=\"evenodd\" fill-opacity=\"1\" stroke=\"#000000\" stroke-opacity=\"1\" stroke-width=\"3.2\"/>\n",
       "<circle clip-path=\"url(#clip102)\" cx=\"1872.88\" cy=\"427.192\" r=\"14\" fill=\"#009af9\" fill-rule=\"evenodd\" fill-opacity=\"1\" stroke=\"#000000\" stroke-opacity=\"1\" stroke-width=\"3.2\"/>\n",
       "<circle clip-path=\"url(#clip102)\" cx=\"1874.92\" cy=\"425.905\" r=\"14\" fill=\"#009af9\" fill-rule=\"evenodd\" fill-opacity=\"1\" stroke=\"#000000\" stroke-opacity=\"1\" stroke-width=\"3.2\"/>\n",
       "<circle clip-path=\"url(#clip102)\" cx=\"1876.95\" cy=\"424.618\" r=\"14\" fill=\"#009af9\" fill-rule=\"evenodd\" fill-opacity=\"1\" stroke=\"#000000\" stroke-opacity=\"1\" stroke-width=\"3.2\"/>\n",
       "<circle clip-path=\"url(#clip102)\" cx=\"1878.99\" cy=\"423.331\" r=\"14\" fill=\"#009af9\" fill-rule=\"evenodd\" fill-opacity=\"1\" stroke=\"#000000\" stroke-opacity=\"1\" stroke-width=\"3.2\"/>\n",
       "<circle clip-path=\"url(#clip102)\" cx=\"1881.02\" cy=\"422.044\" r=\"14\" fill=\"#009af9\" fill-rule=\"evenodd\" fill-opacity=\"1\" stroke=\"#000000\" stroke-opacity=\"1\" stroke-width=\"3.2\"/>\n",
       "<circle clip-path=\"url(#clip102)\" cx=\"1883.05\" cy=\"420.757\" r=\"14\" fill=\"#009af9\" fill-rule=\"evenodd\" fill-opacity=\"1\" stroke=\"#000000\" stroke-opacity=\"1\" stroke-width=\"3.2\"/>\n",
       "<circle clip-path=\"url(#clip102)\" cx=\"1885.09\" cy=\"419.47\" r=\"14\" fill=\"#009af9\" fill-rule=\"evenodd\" fill-opacity=\"1\" stroke=\"#000000\" stroke-opacity=\"1\" stroke-width=\"3.2\"/>\n",
       "<circle clip-path=\"url(#clip102)\" cx=\"1887.12\" cy=\"418.182\" r=\"14\" fill=\"#009af9\" fill-rule=\"evenodd\" fill-opacity=\"1\" stroke=\"#000000\" stroke-opacity=\"1\" stroke-width=\"3.2\"/>\n",
       "<circle clip-path=\"url(#clip102)\" cx=\"1889.15\" cy=\"416.895\" r=\"14\" fill=\"#009af9\" fill-rule=\"evenodd\" fill-opacity=\"1\" stroke=\"#000000\" stroke-opacity=\"1\" stroke-width=\"3.2\"/>\n",
       "<circle clip-path=\"url(#clip102)\" cx=\"1891.19\" cy=\"415.608\" r=\"14\" fill=\"#009af9\" fill-rule=\"evenodd\" fill-opacity=\"1\" stroke=\"#000000\" stroke-opacity=\"1\" stroke-width=\"3.2\"/>\n",
       "<circle clip-path=\"url(#clip102)\" cx=\"1893.22\" cy=\"414.321\" r=\"14\" fill=\"#009af9\" fill-rule=\"evenodd\" fill-opacity=\"1\" stroke=\"#000000\" stroke-opacity=\"1\" stroke-width=\"3.2\"/>\n",
       "<circle clip-path=\"url(#clip102)\" cx=\"1895.25\" cy=\"413.034\" r=\"14\" fill=\"#009af9\" fill-rule=\"evenodd\" fill-opacity=\"1\" stroke=\"#000000\" stroke-opacity=\"1\" stroke-width=\"3.2\"/>\n",
       "<circle clip-path=\"url(#clip102)\" cx=\"1897.29\" cy=\"411.747\" r=\"14\" fill=\"#009af9\" fill-rule=\"evenodd\" fill-opacity=\"1\" stroke=\"#000000\" stroke-opacity=\"1\" stroke-width=\"3.2\"/>\n",
       "<circle clip-path=\"url(#clip102)\" cx=\"1899.32\" cy=\"410.46\" r=\"14\" fill=\"#009af9\" fill-rule=\"evenodd\" fill-opacity=\"1\" stroke=\"#000000\" stroke-opacity=\"1\" stroke-width=\"3.2\"/>\n",
       "<circle clip-path=\"url(#clip102)\" cx=\"1901.36\" cy=\"409.173\" r=\"14\" fill=\"#009af9\" fill-rule=\"evenodd\" fill-opacity=\"1\" stroke=\"#000000\" stroke-opacity=\"1\" stroke-width=\"3.2\"/>\n",
       "<circle clip-path=\"url(#clip102)\" cx=\"1903.39\" cy=\"407.886\" r=\"14\" fill=\"#009af9\" fill-rule=\"evenodd\" fill-opacity=\"1\" stroke=\"#000000\" stroke-opacity=\"1\" stroke-width=\"3.2\"/>\n",
       "<circle clip-path=\"url(#clip102)\" cx=\"1905.42\" cy=\"406.598\" r=\"14\" fill=\"#009af9\" fill-rule=\"evenodd\" fill-opacity=\"1\" stroke=\"#000000\" stroke-opacity=\"1\" stroke-width=\"3.2\"/>\n",
       "<circle clip-path=\"url(#clip102)\" cx=\"1907.46\" cy=\"405.311\" r=\"14\" fill=\"#009af9\" fill-rule=\"evenodd\" fill-opacity=\"1\" stroke=\"#000000\" stroke-opacity=\"1\" stroke-width=\"3.2\"/>\n",
       "<circle clip-path=\"url(#clip102)\" cx=\"1909.49\" cy=\"404.024\" r=\"14\" fill=\"#009af9\" fill-rule=\"evenodd\" fill-opacity=\"1\" stroke=\"#000000\" stroke-opacity=\"1\" stroke-width=\"3.2\"/>\n",
       "<circle clip-path=\"url(#clip102)\" cx=\"1911.52\" cy=\"402.737\" r=\"14\" fill=\"#009af9\" fill-rule=\"evenodd\" fill-opacity=\"1\" stroke=\"#000000\" stroke-opacity=\"1\" stroke-width=\"3.2\"/>\n",
       "<circle clip-path=\"url(#clip102)\" cx=\"1913.56\" cy=\"401.45\" r=\"14\" fill=\"#009af9\" fill-rule=\"evenodd\" fill-opacity=\"1\" stroke=\"#000000\" stroke-opacity=\"1\" stroke-width=\"3.2\"/>\n",
       "<circle clip-path=\"url(#clip102)\" cx=\"1915.59\" cy=\"400.163\" r=\"14\" fill=\"#009af9\" fill-rule=\"evenodd\" fill-opacity=\"1\" stroke=\"#000000\" stroke-opacity=\"1\" stroke-width=\"3.2\"/>\n",
       "<circle clip-path=\"url(#clip102)\" cx=\"1917.62\" cy=\"398.876\" r=\"14\" fill=\"#009af9\" fill-rule=\"evenodd\" fill-opacity=\"1\" stroke=\"#000000\" stroke-opacity=\"1\" stroke-width=\"3.2\"/>\n",
       "<circle clip-path=\"url(#clip102)\" cx=\"1919.66\" cy=\"397.589\" r=\"14\" fill=\"#009af9\" fill-rule=\"evenodd\" fill-opacity=\"1\" stroke=\"#000000\" stroke-opacity=\"1\" stroke-width=\"3.2\"/>\n",
       "<circle clip-path=\"url(#clip102)\" cx=\"1921.69\" cy=\"396.302\" r=\"14\" fill=\"#009af9\" fill-rule=\"evenodd\" fill-opacity=\"1\" stroke=\"#000000\" stroke-opacity=\"1\" stroke-width=\"3.2\"/>\n",
       "<circle clip-path=\"url(#clip102)\" cx=\"1923.72\" cy=\"395.014\" r=\"14\" fill=\"#009af9\" fill-rule=\"evenodd\" fill-opacity=\"1\" stroke=\"#000000\" stroke-opacity=\"1\" stroke-width=\"3.2\"/>\n",
       "<circle clip-path=\"url(#clip102)\" cx=\"1925.76\" cy=\"393.727\" r=\"14\" fill=\"#009af9\" fill-rule=\"evenodd\" fill-opacity=\"1\" stroke=\"#000000\" stroke-opacity=\"1\" stroke-width=\"3.2\"/>\n",
       "<circle clip-path=\"url(#clip102)\" cx=\"1927.79\" cy=\"392.44\" r=\"14\" fill=\"#009af9\" fill-rule=\"evenodd\" fill-opacity=\"1\" stroke=\"#000000\" stroke-opacity=\"1\" stroke-width=\"3.2\"/>\n",
       "<circle clip-path=\"url(#clip102)\" cx=\"1929.83\" cy=\"391.153\" r=\"14\" fill=\"#009af9\" fill-rule=\"evenodd\" fill-opacity=\"1\" stroke=\"#000000\" stroke-opacity=\"1\" stroke-width=\"3.2\"/>\n",
       "<circle clip-path=\"url(#clip102)\" cx=\"1931.86\" cy=\"389.866\" r=\"14\" fill=\"#009af9\" fill-rule=\"evenodd\" fill-opacity=\"1\" stroke=\"#000000\" stroke-opacity=\"1\" stroke-width=\"3.2\"/>\n",
       "<circle clip-path=\"url(#clip102)\" cx=\"1933.89\" cy=\"388.579\" r=\"14\" fill=\"#009af9\" fill-rule=\"evenodd\" fill-opacity=\"1\" stroke=\"#000000\" stroke-opacity=\"1\" stroke-width=\"3.2\"/>\n",
       "<circle clip-path=\"url(#clip102)\" cx=\"1935.93\" cy=\"387.292\" r=\"14\" fill=\"#009af9\" fill-rule=\"evenodd\" fill-opacity=\"1\" stroke=\"#000000\" stroke-opacity=\"1\" stroke-width=\"3.2\"/>\n",
       "<circle clip-path=\"url(#clip102)\" cx=\"1937.96\" cy=\"386.005\" r=\"14\" fill=\"#009af9\" fill-rule=\"evenodd\" fill-opacity=\"1\" stroke=\"#000000\" stroke-opacity=\"1\" stroke-width=\"3.2\"/>\n",
       "<circle clip-path=\"url(#clip102)\" cx=\"1939.99\" cy=\"384.718\" r=\"14\" fill=\"#009af9\" fill-rule=\"evenodd\" fill-opacity=\"1\" stroke=\"#000000\" stroke-opacity=\"1\" stroke-width=\"3.2\"/>\n",
       "<circle clip-path=\"url(#clip102)\" cx=\"1942.03\" cy=\"383.43\" r=\"14\" fill=\"#009af9\" fill-rule=\"evenodd\" fill-opacity=\"1\" stroke=\"#000000\" stroke-opacity=\"1\" stroke-width=\"3.2\"/>\n",
       "<circle clip-path=\"url(#clip102)\" cx=\"1944.06\" cy=\"382.143\" r=\"14\" fill=\"#009af9\" fill-rule=\"evenodd\" fill-opacity=\"1\" stroke=\"#000000\" stroke-opacity=\"1\" stroke-width=\"3.2\"/>\n",
       "<circle clip-path=\"url(#clip102)\" cx=\"1946.09\" cy=\"380.856\" r=\"14\" fill=\"#009af9\" fill-rule=\"evenodd\" fill-opacity=\"1\" stroke=\"#000000\" stroke-opacity=\"1\" stroke-width=\"3.2\"/>\n",
       "<circle clip-path=\"url(#clip102)\" cx=\"1948.13\" cy=\"379.569\" r=\"14\" fill=\"#009af9\" fill-rule=\"evenodd\" fill-opacity=\"1\" stroke=\"#000000\" stroke-opacity=\"1\" stroke-width=\"3.2\"/>\n",
       "<circle clip-path=\"url(#clip102)\" cx=\"1950.16\" cy=\"378.282\" r=\"14\" fill=\"#009af9\" fill-rule=\"evenodd\" fill-opacity=\"1\" stroke=\"#000000\" stroke-opacity=\"1\" stroke-width=\"3.2\"/>\n",
       "<circle clip-path=\"url(#clip102)\" cx=\"1952.2\" cy=\"376.995\" r=\"14\" fill=\"#009af9\" fill-rule=\"evenodd\" fill-opacity=\"1\" stroke=\"#000000\" stroke-opacity=\"1\" stroke-width=\"3.2\"/>\n",
       "<circle clip-path=\"url(#clip102)\" cx=\"1954.23\" cy=\"375.708\" r=\"14\" fill=\"#009af9\" fill-rule=\"evenodd\" fill-opacity=\"1\" stroke=\"#000000\" stroke-opacity=\"1\" stroke-width=\"3.2\"/>\n",
       "<circle clip-path=\"url(#clip102)\" cx=\"1956.26\" cy=\"374.421\" r=\"14\" fill=\"#009af9\" fill-rule=\"evenodd\" fill-opacity=\"1\" stroke=\"#000000\" stroke-opacity=\"1\" stroke-width=\"3.2\"/>\n",
       "<circle clip-path=\"url(#clip102)\" cx=\"1958.3\" cy=\"373.133\" r=\"14\" fill=\"#009af9\" fill-rule=\"evenodd\" fill-opacity=\"1\" stroke=\"#000000\" stroke-opacity=\"1\" stroke-width=\"3.2\"/>\n",
       "<circle clip-path=\"url(#clip102)\" cx=\"1960.33\" cy=\"371.846\" r=\"14\" fill=\"#009af9\" fill-rule=\"evenodd\" fill-opacity=\"1\" stroke=\"#000000\" stroke-opacity=\"1\" stroke-width=\"3.2\"/>\n",
       "<circle clip-path=\"url(#clip102)\" cx=\"1962.36\" cy=\"370.559\" r=\"14\" fill=\"#009af9\" fill-rule=\"evenodd\" fill-opacity=\"1\" stroke=\"#000000\" stroke-opacity=\"1\" stroke-width=\"3.2\"/>\n",
       "<circle clip-path=\"url(#clip102)\" cx=\"1964.4\" cy=\"369.272\" r=\"14\" fill=\"#009af9\" fill-rule=\"evenodd\" fill-opacity=\"1\" stroke=\"#000000\" stroke-opacity=\"1\" stroke-width=\"3.2\"/>\n",
       "<circle clip-path=\"url(#clip102)\" cx=\"1966.43\" cy=\"367.985\" r=\"14\" fill=\"#009af9\" fill-rule=\"evenodd\" fill-opacity=\"1\" stroke=\"#000000\" stroke-opacity=\"1\" stroke-width=\"3.2\"/>\n",
       "<circle clip-path=\"url(#clip102)\" cx=\"1968.46\" cy=\"366.698\" r=\"14\" fill=\"#009af9\" fill-rule=\"evenodd\" fill-opacity=\"1\" stroke=\"#000000\" stroke-opacity=\"1\" stroke-width=\"3.2\"/>\n",
       "<circle clip-path=\"url(#clip102)\" cx=\"1970.5\" cy=\"365.411\" r=\"14\" fill=\"#009af9\" fill-rule=\"evenodd\" fill-opacity=\"1\" stroke=\"#000000\" stroke-opacity=\"1\" stroke-width=\"3.2\"/>\n",
       "<circle clip-path=\"url(#clip102)\" cx=\"1972.53\" cy=\"364.124\" r=\"14\" fill=\"#009af9\" fill-rule=\"evenodd\" fill-opacity=\"1\" stroke=\"#000000\" stroke-opacity=\"1\" stroke-width=\"3.2\"/>\n",
       "<circle clip-path=\"url(#clip102)\" cx=\"1974.57\" cy=\"362.837\" r=\"14\" fill=\"#009af9\" fill-rule=\"evenodd\" fill-opacity=\"1\" stroke=\"#000000\" stroke-opacity=\"1\" stroke-width=\"3.2\"/>\n",
       "<circle clip-path=\"url(#clip102)\" cx=\"1976.6\" cy=\"361.549\" r=\"14\" fill=\"#009af9\" fill-rule=\"evenodd\" fill-opacity=\"1\" stroke=\"#000000\" stroke-opacity=\"1\" stroke-width=\"3.2\"/>\n",
       "<circle clip-path=\"url(#clip102)\" cx=\"1978.63\" cy=\"360.262\" r=\"14\" fill=\"#009af9\" fill-rule=\"evenodd\" fill-opacity=\"1\" stroke=\"#000000\" stroke-opacity=\"1\" stroke-width=\"3.2\"/>\n",
       "<circle clip-path=\"url(#clip102)\" cx=\"1980.67\" cy=\"358.975\" r=\"14\" fill=\"#009af9\" fill-rule=\"evenodd\" fill-opacity=\"1\" stroke=\"#000000\" stroke-opacity=\"1\" stroke-width=\"3.2\"/>\n",
       "<circle clip-path=\"url(#clip102)\" cx=\"1982.7\" cy=\"357.688\" r=\"14\" fill=\"#009af9\" fill-rule=\"evenodd\" fill-opacity=\"1\" stroke=\"#000000\" stroke-opacity=\"1\" stroke-width=\"3.2\"/>\n",
       "<circle clip-path=\"url(#clip102)\" cx=\"1984.73\" cy=\"356.401\" r=\"14\" fill=\"#009af9\" fill-rule=\"evenodd\" fill-opacity=\"1\" stroke=\"#000000\" stroke-opacity=\"1\" stroke-width=\"3.2\"/>\n",
       "<circle clip-path=\"url(#clip102)\" cx=\"1986.77\" cy=\"355.114\" r=\"14\" fill=\"#009af9\" fill-rule=\"evenodd\" fill-opacity=\"1\" stroke=\"#000000\" stroke-opacity=\"1\" stroke-width=\"3.2\"/>\n",
       "<circle clip-path=\"url(#clip102)\" cx=\"1988.8\" cy=\"353.827\" r=\"14\" fill=\"#009af9\" fill-rule=\"evenodd\" fill-opacity=\"1\" stroke=\"#000000\" stroke-opacity=\"1\" stroke-width=\"3.2\"/>\n",
       "<circle clip-path=\"url(#clip102)\" cx=\"1990.83\" cy=\"352.54\" r=\"14\" fill=\"#009af9\" fill-rule=\"evenodd\" fill-opacity=\"1\" stroke=\"#000000\" stroke-opacity=\"1\" stroke-width=\"3.2\"/>\n",
       "<circle clip-path=\"url(#clip102)\" cx=\"1992.87\" cy=\"351.253\" r=\"14\" fill=\"#009af9\" fill-rule=\"evenodd\" fill-opacity=\"1\" stroke=\"#000000\" stroke-opacity=\"1\" stroke-width=\"3.2\"/>\n",
       "<circle clip-path=\"url(#clip102)\" cx=\"1994.9\" cy=\"349.965\" r=\"14\" fill=\"#009af9\" fill-rule=\"evenodd\" fill-opacity=\"1\" stroke=\"#000000\" stroke-opacity=\"1\" stroke-width=\"3.2\"/>\n",
       "<circle clip-path=\"url(#clip102)\" cx=\"1996.93\" cy=\"348.678\" r=\"14\" fill=\"#009af9\" fill-rule=\"evenodd\" fill-opacity=\"1\" stroke=\"#000000\" stroke-opacity=\"1\" stroke-width=\"3.2\"/>\n",
       "<circle clip-path=\"url(#clip102)\" cx=\"1998.97\" cy=\"347.391\" r=\"14\" fill=\"#009af9\" fill-rule=\"evenodd\" fill-opacity=\"1\" stroke=\"#000000\" stroke-opacity=\"1\" stroke-width=\"3.2\"/>\n",
       "<circle clip-path=\"url(#clip102)\" cx=\"2001\" cy=\"346.104\" r=\"14\" fill=\"#009af9\" fill-rule=\"evenodd\" fill-opacity=\"1\" stroke=\"#000000\" stroke-opacity=\"1\" stroke-width=\"3.2\"/>\n",
       "<circle clip-path=\"url(#clip102)\" cx=\"2003.04\" cy=\"344.817\" r=\"14\" fill=\"#009af9\" fill-rule=\"evenodd\" fill-opacity=\"1\" stroke=\"#000000\" stroke-opacity=\"1\" stroke-width=\"3.2\"/>\n",
       "<circle clip-path=\"url(#clip102)\" cx=\"2005.07\" cy=\"343.53\" r=\"14\" fill=\"#009af9\" fill-rule=\"evenodd\" fill-opacity=\"1\" stroke=\"#000000\" stroke-opacity=\"1\" stroke-width=\"3.2\"/>\n",
       "<circle clip-path=\"url(#clip102)\" cx=\"2007.1\" cy=\"342.243\" r=\"14\" fill=\"#009af9\" fill-rule=\"evenodd\" fill-opacity=\"1\" stroke=\"#000000\" stroke-opacity=\"1\" stroke-width=\"3.2\"/>\n",
       "<circle clip-path=\"url(#clip102)\" cx=\"2009.14\" cy=\"340.956\" r=\"14\" fill=\"#009af9\" fill-rule=\"evenodd\" fill-opacity=\"1\" stroke=\"#000000\" stroke-opacity=\"1\" stroke-width=\"3.2\"/>\n",
       "<circle clip-path=\"url(#clip102)\" cx=\"2011.17\" cy=\"339.669\" r=\"14\" fill=\"#009af9\" fill-rule=\"evenodd\" fill-opacity=\"1\" stroke=\"#000000\" stroke-opacity=\"1\" stroke-width=\"3.2\"/>\n",
       "<circle clip-path=\"url(#clip102)\" cx=\"2013.2\" cy=\"338.381\" r=\"14\" fill=\"#009af9\" fill-rule=\"evenodd\" fill-opacity=\"1\" stroke=\"#000000\" stroke-opacity=\"1\" stroke-width=\"3.2\"/>\n",
       "<circle clip-path=\"url(#clip102)\" cx=\"2015.24\" cy=\"337.094\" r=\"14\" fill=\"#009af9\" fill-rule=\"evenodd\" fill-opacity=\"1\" stroke=\"#000000\" stroke-opacity=\"1\" stroke-width=\"3.2\"/>\n",
       "<circle clip-path=\"url(#clip102)\" cx=\"2017.27\" cy=\"335.807\" r=\"14\" fill=\"#009af9\" fill-rule=\"evenodd\" fill-opacity=\"1\" stroke=\"#000000\" stroke-opacity=\"1\" stroke-width=\"3.2\"/>\n",
       "<circle clip-path=\"url(#clip102)\" cx=\"2019.3\" cy=\"334.52\" r=\"14\" fill=\"#009af9\" fill-rule=\"evenodd\" fill-opacity=\"1\" stroke=\"#000000\" stroke-opacity=\"1\" stroke-width=\"3.2\"/>\n",
       "<circle clip-path=\"url(#clip102)\" cx=\"2021.34\" cy=\"333.233\" r=\"14\" fill=\"#009af9\" fill-rule=\"evenodd\" fill-opacity=\"1\" stroke=\"#000000\" stroke-opacity=\"1\" stroke-width=\"3.2\"/>\n",
       "<circle clip-path=\"url(#clip102)\" cx=\"2023.37\" cy=\"331.946\" r=\"14\" fill=\"#009af9\" fill-rule=\"evenodd\" fill-opacity=\"1\" stroke=\"#000000\" stroke-opacity=\"1\" stroke-width=\"3.2\"/>\n",
       "<circle clip-path=\"url(#clip102)\" cx=\"2025.41\" cy=\"330.659\" r=\"14\" fill=\"#009af9\" fill-rule=\"evenodd\" fill-opacity=\"1\" stroke=\"#000000\" stroke-opacity=\"1\" stroke-width=\"3.2\"/>\n",
       "<circle clip-path=\"url(#clip102)\" cx=\"2027.44\" cy=\"329.372\" r=\"14\" fill=\"#009af9\" fill-rule=\"evenodd\" fill-opacity=\"1\" stroke=\"#000000\" stroke-opacity=\"1\" stroke-width=\"3.2\"/>\n",
       "<circle clip-path=\"url(#clip102)\" cx=\"2029.47\" cy=\"328.085\" r=\"14\" fill=\"#009af9\" fill-rule=\"evenodd\" fill-opacity=\"1\" stroke=\"#000000\" stroke-opacity=\"1\" stroke-width=\"3.2\"/>\n",
       "<circle clip-path=\"url(#clip102)\" cx=\"2031.51\" cy=\"326.797\" r=\"14\" fill=\"#009af9\" fill-rule=\"evenodd\" fill-opacity=\"1\" stroke=\"#000000\" stroke-opacity=\"1\" stroke-width=\"3.2\"/>\n",
       "<circle clip-path=\"url(#clip102)\" cx=\"2033.54\" cy=\"325.51\" r=\"14\" fill=\"#009af9\" fill-rule=\"evenodd\" fill-opacity=\"1\" stroke=\"#000000\" stroke-opacity=\"1\" stroke-width=\"3.2\"/>\n",
       "<circle clip-path=\"url(#clip102)\" cx=\"2035.57\" cy=\"324.223\" r=\"14\" fill=\"#009af9\" fill-rule=\"evenodd\" fill-opacity=\"1\" stroke=\"#000000\" stroke-opacity=\"1\" stroke-width=\"3.2\"/>\n",
       "<circle clip-path=\"url(#clip102)\" cx=\"2037.61\" cy=\"322.936\" r=\"14\" fill=\"#009af9\" fill-rule=\"evenodd\" fill-opacity=\"1\" stroke=\"#000000\" stroke-opacity=\"1\" stroke-width=\"3.2\"/>\n",
       "<circle clip-path=\"url(#clip102)\" cx=\"2039.64\" cy=\"321.649\" r=\"14\" fill=\"#009af9\" fill-rule=\"evenodd\" fill-opacity=\"1\" stroke=\"#000000\" stroke-opacity=\"1\" stroke-width=\"3.2\"/>\n",
       "<circle clip-path=\"url(#clip102)\" cx=\"2041.67\" cy=\"320.362\" r=\"14\" fill=\"#009af9\" fill-rule=\"evenodd\" fill-opacity=\"1\" stroke=\"#000000\" stroke-opacity=\"1\" stroke-width=\"3.2\"/>\n",
       "<circle clip-path=\"url(#clip102)\" cx=\"2043.71\" cy=\"319.075\" r=\"14\" fill=\"#009af9\" fill-rule=\"evenodd\" fill-opacity=\"1\" stroke=\"#000000\" stroke-opacity=\"1\" stroke-width=\"3.2\"/>\n",
       "<circle clip-path=\"url(#clip102)\" cx=\"2045.74\" cy=\"317.788\" r=\"14\" fill=\"#009af9\" fill-rule=\"evenodd\" fill-opacity=\"1\" stroke=\"#000000\" stroke-opacity=\"1\" stroke-width=\"3.2\"/>\n",
       "<circle clip-path=\"url(#clip102)\" cx=\"2047.78\" cy=\"316.501\" r=\"14\" fill=\"#009af9\" fill-rule=\"evenodd\" fill-opacity=\"1\" stroke=\"#000000\" stroke-opacity=\"1\" stroke-width=\"3.2\"/>\n",
       "<circle clip-path=\"url(#clip102)\" cx=\"2049.81\" cy=\"315.213\" r=\"14\" fill=\"#009af9\" fill-rule=\"evenodd\" fill-opacity=\"1\" stroke=\"#000000\" stroke-opacity=\"1\" stroke-width=\"3.2\"/>\n",
       "<circle clip-path=\"url(#clip102)\" cx=\"2051.84\" cy=\"313.926\" r=\"14\" fill=\"#009af9\" fill-rule=\"evenodd\" fill-opacity=\"1\" stroke=\"#000000\" stroke-opacity=\"1\" stroke-width=\"3.2\"/>\n",
       "<circle clip-path=\"url(#clip102)\" cx=\"2053.88\" cy=\"312.639\" r=\"14\" fill=\"#009af9\" fill-rule=\"evenodd\" fill-opacity=\"1\" stroke=\"#000000\" stroke-opacity=\"1\" stroke-width=\"3.2\"/>\n",
       "<circle clip-path=\"url(#clip102)\" cx=\"2055.91\" cy=\"311.352\" r=\"14\" fill=\"#009af9\" fill-rule=\"evenodd\" fill-opacity=\"1\" stroke=\"#000000\" stroke-opacity=\"1\" stroke-width=\"3.2\"/>\n",
       "<circle clip-path=\"url(#clip102)\" cx=\"2057.94\" cy=\"310.065\" r=\"14\" fill=\"#009af9\" fill-rule=\"evenodd\" fill-opacity=\"1\" stroke=\"#000000\" stroke-opacity=\"1\" stroke-width=\"3.2\"/>\n",
       "<circle clip-path=\"url(#clip102)\" cx=\"2059.98\" cy=\"308.778\" r=\"14\" fill=\"#009af9\" fill-rule=\"evenodd\" fill-opacity=\"1\" stroke=\"#000000\" stroke-opacity=\"1\" stroke-width=\"3.2\"/>\n",
       "<circle clip-path=\"url(#clip102)\" cx=\"2062.01\" cy=\"307.491\" r=\"14\" fill=\"#009af9\" fill-rule=\"evenodd\" fill-opacity=\"1\" stroke=\"#000000\" stroke-opacity=\"1\" stroke-width=\"3.2\"/>\n",
       "<circle clip-path=\"url(#clip102)\" cx=\"2064.04\" cy=\"306.204\" r=\"14\" fill=\"#009af9\" fill-rule=\"evenodd\" fill-opacity=\"1\" stroke=\"#000000\" stroke-opacity=\"1\" stroke-width=\"3.2\"/>\n",
       "<circle clip-path=\"url(#clip102)\" cx=\"2066.08\" cy=\"304.916\" r=\"14\" fill=\"#009af9\" fill-rule=\"evenodd\" fill-opacity=\"1\" stroke=\"#000000\" stroke-opacity=\"1\" stroke-width=\"3.2\"/>\n",
       "<circle clip-path=\"url(#clip102)\" cx=\"2068.11\" cy=\"303.629\" r=\"14\" fill=\"#009af9\" fill-rule=\"evenodd\" fill-opacity=\"1\" stroke=\"#000000\" stroke-opacity=\"1\" stroke-width=\"3.2\"/>\n",
       "<circle clip-path=\"url(#clip102)\" cx=\"2070.14\" cy=\"302.342\" r=\"14\" fill=\"#009af9\" fill-rule=\"evenodd\" fill-opacity=\"1\" stroke=\"#000000\" stroke-opacity=\"1\" stroke-width=\"3.2\"/>\n",
       "<circle clip-path=\"url(#clip102)\" cx=\"2072.18\" cy=\"301.055\" r=\"14\" fill=\"#009af9\" fill-rule=\"evenodd\" fill-opacity=\"1\" stroke=\"#000000\" stroke-opacity=\"1\" stroke-width=\"3.2\"/>\n",
       "<circle clip-path=\"url(#clip102)\" cx=\"2074.21\" cy=\"299.768\" r=\"14\" fill=\"#009af9\" fill-rule=\"evenodd\" fill-opacity=\"1\" stroke=\"#000000\" stroke-opacity=\"1\" stroke-width=\"3.2\"/>\n",
       "<circle clip-path=\"url(#clip102)\" cx=\"2076.25\" cy=\"298.481\" r=\"14\" fill=\"#009af9\" fill-rule=\"evenodd\" fill-opacity=\"1\" stroke=\"#000000\" stroke-opacity=\"1\" stroke-width=\"3.2\"/>\n",
       "<circle clip-path=\"url(#clip102)\" cx=\"2078.28\" cy=\"297.194\" r=\"14\" fill=\"#009af9\" fill-rule=\"evenodd\" fill-opacity=\"1\" stroke=\"#000000\" stroke-opacity=\"1\" stroke-width=\"3.2\"/>\n",
       "<circle clip-path=\"url(#clip102)\" cx=\"2080.31\" cy=\"295.907\" r=\"14\" fill=\"#009af9\" fill-rule=\"evenodd\" fill-opacity=\"1\" stroke=\"#000000\" stroke-opacity=\"1\" stroke-width=\"3.2\"/>\n",
       "<circle clip-path=\"url(#clip102)\" cx=\"2082.35\" cy=\"294.62\" r=\"14\" fill=\"#009af9\" fill-rule=\"evenodd\" fill-opacity=\"1\" stroke=\"#000000\" stroke-opacity=\"1\" stroke-width=\"3.2\"/>\n",
       "<circle clip-path=\"url(#clip102)\" cx=\"2084.38\" cy=\"293.332\" r=\"14\" fill=\"#009af9\" fill-rule=\"evenodd\" fill-opacity=\"1\" stroke=\"#000000\" stroke-opacity=\"1\" stroke-width=\"3.2\"/>\n",
       "<circle clip-path=\"url(#clip102)\" cx=\"2086.41\" cy=\"292.045\" r=\"14\" fill=\"#009af9\" fill-rule=\"evenodd\" fill-opacity=\"1\" stroke=\"#000000\" stroke-opacity=\"1\" stroke-width=\"3.2\"/>\n",
       "<circle clip-path=\"url(#clip102)\" cx=\"2088.45\" cy=\"290.758\" r=\"14\" fill=\"#009af9\" fill-rule=\"evenodd\" fill-opacity=\"1\" stroke=\"#000000\" stroke-opacity=\"1\" stroke-width=\"3.2\"/>\n",
       "<circle clip-path=\"url(#clip102)\" cx=\"2090.48\" cy=\"289.471\" r=\"14\" fill=\"#009af9\" fill-rule=\"evenodd\" fill-opacity=\"1\" stroke=\"#000000\" stroke-opacity=\"1\" stroke-width=\"3.2\"/>\n",
       "<circle clip-path=\"url(#clip102)\" cx=\"2092.51\" cy=\"288.184\" r=\"14\" fill=\"#009af9\" fill-rule=\"evenodd\" fill-opacity=\"1\" stroke=\"#000000\" stroke-opacity=\"1\" stroke-width=\"3.2\"/>\n",
       "<circle clip-path=\"url(#clip102)\" cx=\"2094.55\" cy=\"286.897\" r=\"14\" fill=\"#009af9\" fill-rule=\"evenodd\" fill-opacity=\"1\" stroke=\"#000000\" stroke-opacity=\"1\" stroke-width=\"3.2\"/>\n",
       "<circle clip-path=\"url(#clip102)\" cx=\"2096.58\" cy=\"285.61\" r=\"14\" fill=\"#009af9\" fill-rule=\"evenodd\" fill-opacity=\"1\" stroke=\"#000000\" stroke-opacity=\"1\" stroke-width=\"3.2\"/>\n",
       "<circle clip-path=\"url(#clip102)\" cx=\"2098.62\" cy=\"284.323\" r=\"14\" fill=\"#009af9\" fill-rule=\"evenodd\" fill-opacity=\"1\" stroke=\"#000000\" stroke-opacity=\"1\" stroke-width=\"3.2\"/>\n",
       "<circle clip-path=\"url(#clip102)\" cx=\"2100.65\" cy=\"283.036\" r=\"14\" fill=\"#009af9\" fill-rule=\"evenodd\" fill-opacity=\"1\" stroke=\"#000000\" stroke-opacity=\"1\" stroke-width=\"3.2\"/>\n",
       "<circle clip-path=\"url(#clip102)\" cx=\"2102.68\" cy=\"281.748\" r=\"14\" fill=\"#009af9\" fill-rule=\"evenodd\" fill-opacity=\"1\" stroke=\"#000000\" stroke-opacity=\"1\" stroke-width=\"3.2\"/>\n",
       "<circle clip-path=\"url(#clip102)\" cx=\"2104.72\" cy=\"280.461\" r=\"14\" fill=\"#009af9\" fill-rule=\"evenodd\" fill-opacity=\"1\" stroke=\"#000000\" stroke-opacity=\"1\" stroke-width=\"3.2\"/>\n",
       "<circle clip-path=\"url(#clip102)\" cx=\"2106.75\" cy=\"279.174\" r=\"14\" fill=\"#009af9\" fill-rule=\"evenodd\" fill-opacity=\"1\" stroke=\"#000000\" stroke-opacity=\"1\" stroke-width=\"3.2\"/>\n",
       "<circle clip-path=\"url(#clip102)\" cx=\"2108.78\" cy=\"277.887\" r=\"14\" fill=\"#009af9\" fill-rule=\"evenodd\" fill-opacity=\"1\" stroke=\"#000000\" stroke-opacity=\"1\" stroke-width=\"3.2\"/>\n",
       "<circle clip-path=\"url(#clip102)\" cx=\"2110.82\" cy=\"276.6\" r=\"14\" fill=\"#009af9\" fill-rule=\"evenodd\" fill-opacity=\"1\" stroke=\"#000000\" stroke-opacity=\"1\" stroke-width=\"3.2\"/>\n",
       "<circle clip-path=\"url(#clip102)\" cx=\"2112.85\" cy=\"275.313\" r=\"14\" fill=\"#009af9\" fill-rule=\"evenodd\" fill-opacity=\"1\" stroke=\"#000000\" stroke-opacity=\"1\" stroke-width=\"3.2\"/>\n",
       "<circle clip-path=\"url(#clip102)\" cx=\"2114.88\" cy=\"274.026\" r=\"14\" fill=\"#009af9\" fill-rule=\"evenodd\" fill-opacity=\"1\" stroke=\"#000000\" stroke-opacity=\"1\" stroke-width=\"3.2\"/>\n",
       "<circle clip-path=\"url(#clip102)\" cx=\"2116.92\" cy=\"272.739\" r=\"14\" fill=\"#009af9\" fill-rule=\"evenodd\" fill-opacity=\"1\" stroke=\"#000000\" stroke-opacity=\"1\" stroke-width=\"3.2\"/>\n",
       "<circle clip-path=\"url(#clip102)\" cx=\"2118.95\" cy=\"271.452\" r=\"14\" fill=\"#009af9\" fill-rule=\"evenodd\" fill-opacity=\"1\" stroke=\"#000000\" stroke-opacity=\"1\" stroke-width=\"3.2\"/>\n",
       "<circle clip-path=\"url(#clip102)\" cx=\"2120.99\" cy=\"270.164\" r=\"14\" fill=\"#009af9\" fill-rule=\"evenodd\" fill-opacity=\"1\" stroke=\"#000000\" stroke-opacity=\"1\" stroke-width=\"3.2\"/>\n",
       "<circle clip-path=\"url(#clip102)\" cx=\"2123.02\" cy=\"268.877\" r=\"14\" fill=\"#009af9\" fill-rule=\"evenodd\" fill-opacity=\"1\" stroke=\"#000000\" stroke-opacity=\"1\" stroke-width=\"3.2\"/>\n",
       "<circle clip-path=\"url(#clip102)\" cx=\"2125.05\" cy=\"267.59\" r=\"14\" fill=\"#009af9\" fill-rule=\"evenodd\" fill-opacity=\"1\" stroke=\"#000000\" stroke-opacity=\"1\" stroke-width=\"3.2\"/>\n",
       "<circle clip-path=\"url(#clip102)\" cx=\"2127.09\" cy=\"266.303\" r=\"14\" fill=\"#009af9\" fill-rule=\"evenodd\" fill-opacity=\"1\" stroke=\"#000000\" stroke-opacity=\"1\" stroke-width=\"3.2\"/>\n",
       "<circle clip-path=\"url(#clip102)\" cx=\"2129.12\" cy=\"265.016\" r=\"14\" fill=\"#009af9\" fill-rule=\"evenodd\" fill-opacity=\"1\" stroke=\"#000000\" stroke-opacity=\"1\" stroke-width=\"3.2\"/>\n",
       "<circle clip-path=\"url(#clip102)\" cx=\"2131.15\" cy=\"263.729\" r=\"14\" fill=\"#009af9\" fill-rule=\"evenodd\" fill-opacity=\"1\" stroke=\"#000000\" stroke-opacity=\"1\" stroke-width=\"3.2\"/>\n",
       "<circle clip-path=\"url(#clip102)\" cx=\"2133.19\" cy=\"262.442\" r=\"14\" fill=\"#009af9\" fill-rule=\"evenodd\" fill-opacity=\"1\" stroke=\"#000000\" stroke-opacity=\"1\" stroke-width=\"3.2\"/>\n",
       "<circle clip-path=\"url(#clip102)\" cx=\"2135.22\" cy=\"261.155\" r=\"14\" fill=\"#009af9\" fill-rule=\"evenodd\" fill-opacity=\"1\" stroke=\"#000000\" stroke-opacity=\"1\" stroke-width=\"3.2\"/>\n",
       "<circle clip-path=\"url(#clip102)\" cx=\"2137.25\" cy=\"259.868\" r=\"14\" fill=\"#009af9\" fill-rule=\"evenodd\" fill-opacity=\"1\" stroke=\"#000000\" stroke-opacity=\"1\" stroke-width=\"3.2\"/>\n",
       "<circle clip-path=\"url(#clip102)\" cx=\"2139.29\" cy=\"258.58\" r=\"14\" fill=\"#009af9\" fill-rule=\"evenodd\" fill-opacity=\"1\" stroke=\"#000000\" stroke-opacity=\"1\" stroke-width=\"3.2\"/>\n",
       "<circle clip-path=\"url(#clip102)\" cx=\"2141.32\" cy=\"257.293\" r=\"14\" fill=\"#009af9\" fill-rule=\"evenodd\" fill-opacity=\"1\" stroke=\"#000000\" stroke-opacity=\"1\" stroke-width=\"3.2\"/>\n",
       "<circle clip-path=\"url(#clip102)\" cx=\"2143.35\" cy=\"256.006\" r=\"14\" fill=\"#009af9\" fill-rule=\"evenodd\" fill-opacity=\"1\" stroke=\"#000000\" stroke-opacity=\"1\" stroke-width=\"3.2\"/>\n",
       "<circle clip-path=\"url(#clip102)\" cx=\"2145.39\" cy=\"254.719\" r=\"14\" fill=\"#009af9\" fill-rule=\"evenodd\" fill-opacity=\"1\" stroke=\"#000000\" stroke-opacity=\"1\" stroke-width=\"3.2\"/>\n",
       "<circle clip-path=\"url(#clip102)\" cx=\"2147.42\" cy=\"253.432\" r=\"14\" fill=\"#009af9\" fill-rule=\"evenodd\" fill-opacity=\"1\" stroke=\"#000000\" stroke-opacity=\"1\" stroke-width=\"3.2\"/>\n",
       "<circle clip-path=\"url(#clip102)\" cx=\"2149.46\" cy=\"252.145\" r=\"14\" fill=\"#009af9\" fill-rule=\"evenodd\" fill-opacity=\"1\" stroke=\"#000000\" stroke-opacity=\"1\" stroke-width=\"3.2\"/>\n",
       "<circle clip-path=\"url(#clip102)\" cx=\"2151.49\" cy=\"250.858\" r=\"14\" fill=\"#009af9\" fill-rule=\"evenodd\" fill-opacity=\"1\" stroke=\"#000000\" stroke-opacity=\"1\" stroke-width=\"3.2\"/>\n",
       "<circle clip-path=\"url(#clip102)\" cx=\"2153.52\" cy=\"249.571\" r=\"14\" fill=\"#009af9\" fill-rule=\"evenodd\" fill-opacity=\"1\" stroke=\"#000000\" stroke-opacity=\"1\" stroke-width=\"3.2\"/>\n",
       "<circle clip-path=\"url(#clip102)\" cx=\"2155.56\" cy=\"248.284\" r=\"14\" fill=\"#009af9\" fill-rule=\"evenodd\" fill-opacity=\"1\" stroke=\"#000000\" stroke-opacity=\"1\" stroke-width=\"3.2\"/>\n",
       "<circle clip-path=\"url(#clip102)\" cx=\"2157.59\" cy=\"246.996\" r=\"14\" fill=\"#009af9\" fill-rule=\"evenodd\" fill-opacity=\"1\" stroke=\"#000000\" stroke-opacity=\"1\" stroke-width=\"3.2\"/>\n",
       "<circle clip-path=\"url(#clip102)\" cx=\"2159.62\" cy=\"245.709\" r=\"14\" fill=\"#009af9\" fill-rule=\"evenodd\" fill-opacity=\"1\" stroke=\"#000000\" stroke-opacity=\"1\" stroke-width=\"3.2\"/>\n",
       "<circle clip-path=\"url(#clip102)\" cx=\"2161.66\" cy=\"244.422\" r=\"14\" fill=\"#009af9\" fill-rule=\"evenodd\" fill-opacity=\"1\" stroke=\"#000000\" stroke-opacity=\"1\" stroke-width=\"3.2\"/>\n",
       "<circle clip-path=\"url(#clip102)\" cx=\"2163.69\" cy=\"243.135\" r=\"14\" fill=\"#009af9\" fill-rule=\"evenodd\" fill-opacity=\"1\" stroke=\"#000000\" stroke-opacity=\"1\" stroke-width=\"3.2\"/>\n",
       "<circle clip-path=\"url(#clip102)\" cx=\"2165.72\" cy=\"241.848\" r=\"14\" fill=\"#009af9\" fill-rule=\"evenodd\" fill-opacity=\"1\" stroke=\"#000000\" stroke-opacity=\"1\" stroke-width=\"3.2\"/>\n",
       "<circle clip-path=\"url(#clip102)\" cx=\"2167.76\" cy=\"240.561\" r=\"14\" fill=\"#009af9\" fill-rule=\"evenodd\" fill-opacity=\"1\" stroke=\"#000000\" stroke-opacity=\"1\" stroke-width=\"3.2\"/>\n",
       "<circle clip-path=\"url(#clip102)\" cx=\"2169.79\" cy=\"239.274\" r=\"14\" fill=\"#009af9\" fill-rule=\"evenodd\" fill-opacity=\"1\" stroke=\"#000000\" stroke-opacity=\"1\" stroke-width=\"3.2\"/>\n",
       "<circle clip-path=\"url(#clip102)\" cx=\"2171.83\" cy=\"237.987\" r=\"14\" fill=\"#009af9\" fill-rule=\"evenodd\" fill-opacity=\"1\" stroke=\"#000000\" stroke-opacity=\"1\" stroke-width=\"3.2\"/>\n",
       "<circle clip-path=\"url(#clip102)\" cx=\"2173.86\" cy=\"236.699\" r=\"14\" fill=\"#009af9\" fill-rule=\"evenodd\" fill-opacity=\"1\" stroke=\"#000000\" stroke-opacity=\"1\" stroke-width=\"3.2\"/>\n",
       "<circle clip-path=\"url(#clip102)\" cx=\"2175.89\" cy=\"235.412\" r=\"14\" fill=\"#009af9\" fill-rule=\"evenodd\" fill-opacity=\"1\" stroke=\"#000000\" stroke-opacity=\"1\" stroke-width=\"3.2\"/>\n",
       "<circle clip-path=\"url(#clip102)\" cx=\"2177.93\" cy=\"234.125\" r=\"14\" fill=\"#009af9\" fill-rule=\"evenodd\" fill-opacity=\"1\" stroke=\"#000000\" stroke-opacity=\"1\" stroke-width=\"3.2\"/>\n",
       "<circle clip-path=\"url(#clip102)\" cx=\"2179.96\" cy=\"232.838\" r=\"14\" fill=\"#009af9\" fill-rule=\"evenodd\" fill-opacity=\"1\" stroke=\"#000000\" stroke-opacity=\"1\" stroke-width=\"3.2\"/>\n",
       "<circle clip-path=\"url(#clip102)\" cx=\"2181.99\" cy=\"231.551\" r=\"14\" fill=\"#009af9\" fill-rule=\"evenodd\" fill-opacity=\"1\" stroke=\"#000000\" stroke-opacity=\"1\" stroke-width=\"3.2\"/>\n",
       "<circle clip-path=\"url(#clip102)\" cx=\"2184.03\" cy=\"230.264\" r=\"14\" fill=\"#009af9\" fill-rule=\"evenodd\" fill-opacity=\"1\" stroke=\"#000000\" stroke-opacity=\"1\" stroke-width=\"3.2\"/>\n",
       "<circle clip-path=\"url(#clip102)\" cx=\"2186.06\" cy=\"228.977\" r=\"14\" fill=\"#009af9\" fill-rule=\"evenodd\" fill-opacity=\"1\" stroke=\"#000000\" stroke-opacity=\"1\" stroke-width=\"3.2\"/>\n",
       "<circle clip-path=\"url(#clip102)\" cx=\"2188.09\" cy=\"227.69\" r=\"14\" fill=\"#009af9\" fill-rule=\"evenodd\" fill-opacity=\"1\" stroke=\"#000000\" stroke-opacity=\"1\" stroke-width=\"3.2\"/>\n",
       "<circle clip-path=\"url(#clip102)\" cx=\"2190.13\" cy=\"226.403\" r=\"14\" fill=\"#009af9\" fill-rule=\"evenodd\" fill-opacity=\"1\" stroke=\"#000000\" stroke-opacity=\"1\" stroke-width=\"3.2\"/>\n",
       "<circle clip-path=\"url(#clip102)\" cx=\"2192.16\" cy=\"225.115\" r=\"14\" fill=\"#009af9\" fill-rule=\"evenodd\" fill-opacity=\"1\" stroke=\"#000000\" stroke-opacity=\"1\" stroke-width=\"3.2\"/>\n",
       "<circle clip-path=\"url(#clip102)\" cx=\"2194.2\" cy=\"223.828\" r=\"14\" fill=\"#009af9\" fill-rule=\"evenodd\" fill-opacity=\"1\" stroke=\"#000000\" stroke-opacity=\"1\" stroke-width=\"3.2\"/>\n",
       "<circle clip-path=\"url(#clip102)\" cx=\"2196.23\" cy=\"222.541\" r=\"14\" fill=\"#009af9\" fill-rule=\"evenodd\" fill-opacity=\"1\" stroke=\"#000000\" stroke-opacity=\"1\" stroke-width=\"3.2\"/>\n",
       "<circle clip-path=\"url(#clip102)\" cx=\"2198.26\" cy=\"221.254\" r=\"14\" fill=\"#009af9\" fill-rule=\"evenodd\" fill-opacity=\"1\" stroke=\"#000000\" stroke-opacity=\"1\" stroke-width=\"3.2\"/>\n",
       "<circle clip-path=\"url(#clip102)\" cx=\"2200.3\" cy=\"219.967\" r=\"14\" fill=\"#009af9\" fill-rule=\"evenodd\" fill-opacity=\"1\" stroke=\"#000000\" stroke-opacity=\"1\" stroke-width=\"3.2\"/>\n",
       "<circle clip-path=\"url(#clip102)\" cx=\"2202.33\" cy=\"218.68\" r=\"14\" fill=\"#009af9\" fill-rule=\"evenodd\" fill-opacity=\"1\" stroke=\"#000000\" stroke-opacity=\"1\" stroke-width=\"3.2\"/>\n",
       "<circle clip-path=\"url(#clip102)\" cx=\"2204.36\" cy=\"217.393\" r=\"14\" fill=\"#009af9\" fill-rule=\"evenodd\" fill-opacity=\"1\" stroke=\"#000000\" stroke-opacity=\"1\" stroke-width=\"3.2\"/>\n",
       "<circle clip-path=\"url(#clip102)\" cx=\"2206.4\" cy=\"216.106\" r=\"14\" fill=\"#009af9\" fill-rule=\"evenodd\" fill-opacity=\"1\" stroke=\"#000000\" stroke-opacity=\"1\" stroke-width=\"3.2\"/>\n",
       "<circle clip-path=\"url(#clip102)\" cx=\"2208.43\" cy=\"214.819\" r=\"14\" fill=\"#009af9\" fill-rule=\"evenodd\" fill-opacity=\"1\" stroke=\"#000000\" stroke-opacity=\"1\" stroke-width=\"3.2\"/>\n",
       "<circle clip-path=\"url(#clip102)\" cx=\"2210.46\" cy=\"213.531\" r=\"14\" fill=\"#009af9\" fill-rule=\"evenodd\" fill-opacity=\"1\" stroke=\"#000000\" stroke-opacity=\"1\" stroke-width=\"3.2\"/>\n",
       "<circle clip-path=\"url(#clip102)\" cx=\"2212.5\" cy=\"212.244\" r=\"14\" fill=\"#009af9\" fill-rule=\"evenodd\" fill-opacity=\"1\" stroke=\"#000000\" stroke-opacity=\"1\" stroke-width=\"3.2\"/>\n",
       "<circle clip-path=\"url(#clip102)\" cx=\"2214.53\" cy=\"210.957\" r=\"14\" fill=\"#009af9\" fill-rule=\"evenodd\" fill-opacity=\"1\" stroke=\"#000000\" stroke-opacity=\"1\" stroke-width=\"3.2\"/>\n",
       "<circle clip-path=\"url(#clip102)\" cx=\"2216.56\" cy=\"209.67\" r=\"14\" fill=\"#009af9\" fill-rule=\"evenodd\" fill-opacity=\"1\" stroke=\"#000000\" stroke-opacity=\"1\" stroke-width=\"3.2\"/>\n",
       "<circle clip-path=\"url(#clip102)\" cx=\"2218.6\" cy=\"208.383\" r=\"14\" fill=\"#009af9\" fill-rule=\"evenodd\" fill-opacity=\"1\" stroke=\"#000000\" stroke-opacity=\"1\" stroke-width=\"3.2\"/>\n",
       "<circle clip-path=\"url(#clip102)\" cx=\"2220.63\" cy=\"207.096\" r=\"14\" fill=\"#009af9\" fill-rule=\"evenodd\" fill-opacity=\"1\" stroke=\"#000000\" stroke-opacity=\"1\" stroke-width=\"3.2\"/>\n",
       "<circle clip-path=\"url(#clip102)\" cx=\"2222.67\" cy=\"205.809\" r=\"14\" fill=\"#009af9\" fill-rule=\"evenodd\" fill-opacity=\"1\" stroke=\"#000000\" stroke-opacity=\"1\" stroke-width=\"3.2\"/>\n",
       "<circle clip-path=\"url(#clip102)\" cx=\"2224.7\" cy=\"204.522\" r=\"14\" fill=\"#009af9\" fill-rule=\"evenodd\" fill-opacity=\"1\" stroke=\"#000000\" stroke-opacity=\"1\" stroke-width=\"3.2\"/>\n",
       "<circle clip-path=\"url(#clip102)\" cx=\"2226.73\" cy=\"203.235\" r=\"14\" fill=\"#009af9\" fill-rule=\"evenodd\" fill-opacity=\"1\" stroke=\"#000000\" stroke-opacity=\"1\" stroke-width=\"3.2\"/>\n",
       "<circle clip-path=\"url(#clip102)\" cx=\"2228.77\" cy=\"201.947\" r=\"14\" fill=\"#009af9\" fill-rule=\"evenodd\" fill-opacity=\"1\" stroke=\"#000000\" stroke-opacity=\"1\" stroke-width=\"3.2\"/>\n",
       "<circle clip-path=\"url(#clip102)\" cx=\"2230.8\" cy=\"200.66\" r=\"14\" fill=\"#009af9\" fill-rule=\"evenodd\" fill-opacity=\"1\" stroke=\"#000000\" stroke-opacity=\"1\" stroke-width=\"3.2\"/>\n",
       "<circle clip-path=\"url(#clip102)\" cx=\"2232.83\" cy=\"199.373\" r=\"14\" fill=\"#009af9\" fill-rule=\"evenodd\" fill-opacity=\"1\" stroke=\"#000000\" stroke-opacity=\"1\" stroke-width=\"3.2\"/>\n",
       "<circle clip-path=\"url(#clip102)\" cx=\"2234.87\" cy=\"198.086\" r=\"14\" fill=\"#009af9\" fill-rule=\"evenodd\" fill-opacity=\"1\" stroke=\"#000000\" stroke-opacity=\"1\" stroke-width=\"3.2\"/>\n",
       "<circle clip-path=\"url(#clip102)\" cx=\"2236.9\" cy=\"196.799\" r=\"14\" fill=\"#009af9\" fill-rule=\"evenodd\" fill-opacity=\"1\" stroke=\"#000000\" stroke-opacity=\"1\" stroke-width=\"3.2\"/>\n",
       "<circle clip-path=\"url(#clip102)\" cx=\"2238.93\" cy=\"195.512\" r=\"14\" fill=\"#009af9\" fill-rule=\"evenodd\" fill-opacity=\"1\" stroke=\"#000000\" stroke-opacity=\"1\" stroke-width=\"3.2\"/>\n",
       "<circle clip-path=\"url(#clip102)\" cx=\"2240.97\" cy=\"194.225\" r=\"14\" fill=\"#009af9\" fill-rule=\"evenodd\" fill-opacity=\"1\" stroke=\"#000000\" stroke-opacity=\"1\" stroke-width=\"3.2\"/>\n",
       "<circle clip-path=\"url(#clip102)\" cx=\"2243\" cy=\"192.938\" r=\"14\" fill=\"#009af9\" fill-rule=\"evenodd\" fill-opacity=\"1\" stroke=\"#000000\" stroke-opacity=\"1\" stroke-width=\"3.2\"/>\n",
       "<circle clip-path=\"url(#clip102)\" cx=\"2245.04\" cy=\"191.651\" r=\"14\" fill=\"#009af9\" fill-rule=\"evenodd\" fill-opacity=\"1\" stroke=\"#000000\" stroke-opacity=\"1\" stroke-width=\"3.2\"/>\n",
       "<circle clip-path=\"url(#clip102)\" cx=\"2247.07\" cy=\"190.363\" r=\"14\" fill=\"#009af9\" fill-rule=\"evenodd\" fill-opacity=\"1\" stroke=\"#000000\" stroke-opacity=\"1\" stroke-width=\"3.2\"/>\n",
       "<circle clip-path=\"url(#clip102)\" cx=\"2249.1\" cy=\"189.076\" r=\"14\" fill=\"#009af9\" fill-rule=\"evenodd\" fill-opacity=\"1\" stroke=\"#000000\" stroke-opacity=\"1\" stroke-width=\"3.2\"/>\n",
       "<circle clip-path=\"url(#clip102)\" cx=\"2251.14\" cy=\"187.789\" r=\"14\" fill=\"#009af9\" fill-rule=\"evenodd\" fill-opacity=\"1\" stroke=\"#000000\" stroke-opacity=\"1\" stroke-width=\"3.2\"/>\n",
       "<circle clip-path=\"url(#clip102)\" cx=\"2253.17\" cy=\"186.502\" r=\"14\" fill=\"#009af9\" fill-rule=\"evenodd\" fill-opacity=\"1\" stroke=\"#000000\" stroke-opacity=\"1\" stroke-width=\"3.2\"/>\n",
       "<circle clip-path=\"url(#clip102)\" cx=\"2255.2\" cy=\"185.215\" r=\"14\" fill=\"#009af9\" fill-rule=\"evenodd\" fill-opacity=\"1\" stroke=\"#000000\" stroke-opacity=\"1\" stroke-width=\"3.2\"/>\n",
       "<circle clip-path=\"url(#clip102)\" cx=\"2257.24\" cy=\"183.928\" r=\"14\" fill=\"#009af9\" fill-rule=\"evenodd\" fill-opacity=\"1\" stroke=\"#000000\" stroke-opacity=\"1\" stroke-width=\"3.2\"/>\n",
       "<circle clip-path=\"url(#clip102)\" cx=\"2259.27\" cy=\"182.641\" r=\"14\" fill=\"#009af9\" fill-rule=\"evenodd\" fill-opacity=\"1\" stroke=\"#000000\" stroke-opacity=\"1\" stroke-width=\"3.2\"/>\n",
       "<circle clip-path=\"url(#clip102)\" cx=\"2261.3\" cy=\"181.354\" r=\"14\" fill=\"#009af9\" fill-rule=\"evenodd\" fill-opacity=\"1\" stroke=\"#000000\" stroke-opacity=\"1\" stroke-width=\"3.2\"/>\n",
       "<circle clip-path=\"url(#clip102)\" cx=\"2263.34\" cy=\"180.066\" r=\"14\" fill=\"#009af9\" fill-rule=\"evenodd\" fill-opacity=\"1\" stroke=\"#000000\" stroke-opacity=\"1\" stroke-width=\"3.2\"/>\n",
       "<circle clip-path=\"url(#clip102)\" cx=\"2265.37\" cy=\"178.779\" r=\"14\" fill=\"#009af9\" fill-rule=\"evenodd\" fill-opacity=\"1\" stroke=\"#000000\" stroke-opacity=\"1\" stroke-width=\"3.2\"/>\n",
       "<circle clip-path=\"url(#clip102)\" cx=\"2267.41\" cy=\"177.492\" r=\"14\" fill=\"#009af9\" fill-rule=\"evenodd\" fill-opacity=\"1\" stroke=\"#000000\" stroke-opacity=\"1\" stroke-width=\"3.2\"/>\n",
       "<circle clip-path=\"url(#clip102)\" cx=\"2269.44\" cy=\"176.205\" r=\"14\" fill=\"#009af9\" fill-rule=\"evenodd\" fill-opacity=\"1\" stroke=\"#000000\" stroke-opacity=\"1\" stroke-width=\"3.2\"/>\n",
       "<circle clip-path=\"url(#clip102)\" cx=\"2271.47\" cy=\"174.918\" r=\"14\" fill=\"#009af9\" fill-rule=\"evenodd\" fill-opacity=\"1\" stroke=\"#000000\" stroke-opacity=\"1\" stroke-width=\"3.2\"/>\n",
       "<circle clip-path=\"url(#clip102)\" cx=\"2273.51\" cy=\"173.631\" r=\"14\" fill=\"#009af9\" fill-rule=\"evenodd\" fill-opacity=\"1\" stroke=\"#000000\" stroke-opacity=\"1\" stroke-width=\"3.2\"/>\n",
       "<circle clip-path=\"url(#clip102)\" cx=\"2275.54\" cy=\"172.344\" r=\"14\" fill=\"#009af9\" fill-rule=\"evenodd\" fill-opacity=\"1\" stroke=\"#000000\" stroke-opacity=\"1\" stroke-width=\"3.2\"/>\n",
       "<circle clip-path=\"url(#clip102)\" cx=\"2277.57\" cy=\"171.057\" r=\"14\" fill=\"#009af9\" fill-rule=\"evenodd\" fill-opacity=\"1\" stroke=\"#000000\" stroke-opacity=\"1\" stroke-width=\"3.2\"/>\n",
       "<circle clip-path=\"url(#clip102)\" cx=\"2279.61\" cy=\"169.77\" r=\"14\" fill=\"#009af9\" fill-rule=\"evenodd\" fill-opacity=\"1\" stroke=\"#000000\" stroke-opacity=\"1\" stroke-width=\"3.2\"/>\n",
       "<circle clip-path=\"url(#clip102)\" cx=\"2281.64\" cy=\"168.482\" r=\"14\" fill=\"#009af9\" fill-rule=\"evenodd\" fill-opacity=\"1\" stroke=\"#000000\" stroke-opacity=\"1\" stroke-width=\"3.2\"/>\n",
       "<circle clip-path=\"url(#clip102)\" cx=\"2283.67\" cy=\"167.195\" r=\"14\" fill=\"#009af9\" fill-rule=\"evenodd\" fill-opacity=\"1\" stroke=\"#000000\" stroke-opacity=\"1\" stroke-width=\"3.2\"/>\n",
       "<circle clip-path=\"url(#clip102)\" cx=\"2285.71\" cy=\"165.908\" r=\"14\" fill=\"#009af9\" fill-rule=\"evenodd\" fill-opacity=\"1\" stroke=\"#000000\" stroke-opacity=\"1\" stroke-width=\"3.2\"/>\n",
       "<circle clip-path=\"url(#clip102)\" cx=\"2287.74\" cy=\"164.621\" r=\"14\" fill=\"#009af9\" fill-rule=\"evenodd\" fill-opacity=\"1\" stroke=\"#000000\" stroke-opacity=\"1\" stroke-width=\"3.2\"/>\n",
       "<circle clip-path=\"url(#clip102)\" cx=\"2289.77\" cy=\"163.334\" r=\"14\" fill=\"#009af9\" fill-rule=\"evenodd\" fill-opacity=\"1\" stroke=\"#000000\" stroke-opacity=\"1\" stroke-width=\"3.2\"/>\n",
       "<circle clip-path=\"url(#clip102)\" cx=\"2291.81\" cy=\"162.047\" r=\"14\" fill=\"#009af9\" fill-rule=\"evenodd\" fill-opacity=\"1\" stroke=\"#000000\" stroke-opacity=\"1\" stroke-width=\"3.2\"/>\n",
       "<polyline clip-path=\"url(#clip102)\" style=\"stroke:#ff0000; stroke-width:8; stroke-opacity:1; fill:none\" points=\"\n",
       "  260.231,1447.87 280.071,1435.32 463.52,1319.21 573.766,1249.43 666.977,1190.44 768.231,1126.35 861.577,1067.27 961.655,1003.93 1077.6,930.541 1180.65,865.323 \n",
       "  1271.01,808.133 1369.52,745.781 1468.62,683.058 1578.19,613.709 1682.44,547.726 1790.84,479.119 1882.09,421.366 1993.49,350.857 2098.22,284.576 2265.99,178.389 \n",
       "  2291.81,162.047 \n",
       "  \"/>\n",
       "</svg>\n"
      ]
     },
     "execution_count": 60,
     "metadata": {},
     "output_type": "execute_result"
    }
   ],
   "source": [
    "x = []\n",
    "y = []\n",
    "\n",
    "for i in 1:1000\n",
    "    push!(x, i)\n",
    "    push!(y, i)\n",
    "    \n",
    "end\n",
    "\n",
    "a = regressão_coeficientes_lineares(x, y, grau) # recebe os coeficientes\n",
    "println(a)  # printa os coeficientes\n",
    "\n",
    "# Plota os pontos junto com a curva que conseguimos que minimiza a soma dos quadrados das distâncias\n",
    "scatter(x,y,leg=false)\n",
    "plot!(x -> a[1] + a[2] * x, extrema(x)..., c=:red, lw=2)\n",
    "title!(\"Mínimos Quadrados\")"
   ]
  },
  {
   "cell_type": "markdown",
   "metadata": {},
   "source": [
    "### Regressão Linear de Funções Exponenciais"
   ]
  },
  {
   "cell_type": "code",
   "execution_count": 61,
   "metadata": {},
   "outputs": [
    {
     "data": {
      "text/plain": [
       "regressão_função_exponencial (generic function with 1 method)"
      ]
     },
     "execution_count": 61,
     "metadata": {},
     "output_type": "execute_result"
    }
   ],
   "source": [
    "function regressão_função_exponencial(pontos_x,pontos_y, grau) #coeficientes não lineares\n",
    "    #dicionário (\"linearização\") é feito manualmente ou por uma tabela\n",
    "    pontos_y_barra = zeros(length(pontos_y))\n",
    "    for i in 1:length(pontos_x)\n",
    "        pontos_y_barra[i] = log(pontos_y[i])\n",
    "    end\n",
    "    pontos_x_barra = pontos_x\n",
    "    \n",
    "    #resolver regresssão com coeficientes lineares no \"mundo barra\"\n",
    "    coeficientes_barra = regressão_coeficientes_lineares(pontos_x_barra,pontos_y_barra, grau)\n",
    "    #voltar para o mundo original\n",
    "    return coeficientes_barra\n",
    "end"
   ]
  },
  {
   "cell_type": "code",
   "execution_count": 62,
   "metadata": {},
   "outputs": [
    {
     "data": {
      "image/svg+xml": [
       "<?xml version=\"1.0\" encoding=\"utf-8\"?>\n",
       "<svg xmlns=\"http://www.w3.org/2000/svg\" xmlns:xlink=\"http://www.w3.org/1999/xlink\" width=\"600\" height=\"400\" viewBox=\"0 0 2400 1600\">\n",
       "<defs>\n",
       "  <clipPath id=\"clip140\">\n",
       "    <rect x=\"0\" y=\"0\" width=\"2400\" height=\"1600\"/>\n",
       "  </clipPath>\n",
       "</defs>\n",
       "<path clip-path=\"url(#clip140)\" d=\"\n",
       "M0 1600 L2400 1600 L2400 0 L0 0  Z\n",
       "  \" fill=\"#ffffff\" fill-rule=\"evenodd\" fill-opacity=\"1\"/>\n",
       "<defs>\n",
       "  <clipPath id=\"clip141\">\n",
       "    <rect x=\"480\" y=\"0\" width=\"1681\" height=\"1600\"/>\n",
       "  </clipPath>\n",
       "</defs>\n",
       "<path clip-path=\"url(#clip140)\" d=\"\n",
       "M141.853 1486.45 L2352.76 1486.45 L2352.76 123.472 L141.853 123.472  Z\n",
       "  \" fill=\"#ffffff\" fill-rule=\"evenodd\" fill-opacity=\"1\"/>\n",
       "<defs>\n",
       "  <clipPath id=\"clip142\">\n",
       "    <rect x=\"141\" y=\"123\" width=\"2212\" height=\"1364\"/>\n",
       "  </clipPath>\n",
       "</defs>\n",
       "<polyline clip-path=\"url(#clip142)\" style=\"stroke:#000000; stroke-width:2; stroke-opacity:0.1; fill:none\" points=\"\n",
       "  332.097,1486.45 332.097,123.472 \n",
       "  \"/>\n",
       "<polyline clip-path=\"url(#clip142)\" style=\"stroke:#000000; stroke-width:2; stroke-opacity:0.1; fill:none\" points=\"\n",
       "  789.701,1486.45 789.701,123.472 \n",
       "  \"/>\n",
       "<polyline clip-path=\"url(#clip142)\" style=\"stroke:#000000; stroke-width:2; stroke-opacity:0.1; fill:none\" points=\"\n",
       "  1247.3,1486.45 1247.3,123.472 \n",
       "  \"/>\n",
       "<polyline clip-path=\"url(#clip142)\" style=\"stroke:#000000; stroke-width:2; stroke-opacity:0.1; fill:none\" points=\"\n",
       "  1704.91,1486.45 1704.91,123.472 \n",
       "  \"/>\n",
       "<polyline clip-path=\"url(#clip142)\" style=\"stroke:#000000; stroke-width:2; stroke-opacity:0.1; fill:none\" points=\"\n",
       "  2162.51,1486.45 2162.51,123.472 \n",
       "  \"/>\n",
       "<polyline clip-path=\"url(#clip140)\" style=\"stroke:#000000; stroke-width:4; stroke-opacity:1; fill:none\" points=\"\n",
       "  141.853,1486.45 2352.76,1486.45 \n",
       "  \"/>\n",
       "<polyline clip-path=\"url(#clip140)\" style=\"stroke:#000000; stroke-width:4; stroke-opacity:1; fill:none\" points=\"\n",
       "  332.097,1486.45 332.097,1470.09 \n",
       "  \"/>\n",
       "<polyline clip-path=\"url(#clip140)\" style=\"stroke:#000000; stroke-width:4; stroke-opacity:1; fill:none\" points=\"\n",
       "  789.701,1486.45 789.701,1470.09 \n",
       "  \"/>\n",
       "<polyline clip-path=\"url(#clip140)\" style=\"stroke:#000000; stroke-width:4; stroke-opacity:1; fill:none\" points=\"\n",
       "  1247.3,1486.45 1247.3,1470.09 \n",
       "  \"/>\n",
       "<polyline clip-path=\"url(#clip140)\" style=\"stroke:#000000; stroke-width:4; stroke-opacity:1; fill:none\" points=\"\n",
       "  1704.91,1486.45 1704.91,1470.09 \n",
       "  \"/>\n",
       "<polyline clip-path=\"url(#clip140)\" style=\"stroke:#000000; stroke-width:4; stroke-opacity:1; fill:none\" points=\"\n",
       "  2162.51,1486.45 2162.51,1470.09 \n",
       "  \"/>\n",
       "<path clip-path=\"url(#clip140)\" d=\"M 0 0 M310.87 1543.18 L327.19 1543.18 L327.19 1547.12 L305.245 1547.12 L305.245 1543.18 Q307.907 1540.43 312.491 1535.8 Q317.097 1531.15 318.278 1529.81 Q320.523 1527.28 321.403 1525.55 Q322.305 1523.79 322.305 1522.1 Q322.305 1519.34 320.361 1517.61 Q318.44 1515.87 315.338 1515.87 Q313.139 1515.87 310.685 1516.63 Q308.255 1517.4 305.477 1518.95 L305.477 1514.23 Q308.301 1513.09 310.755 1512.51 Q313.208 1511.93 315.245 1511.93 Q320.616 1511.93 323.81 1514.62 Q327.005 1517.31 327.005 1521.8 Q327.005 1523.93 326.194 1525.85 Q325.407 1527.74 323.301 1530.34 Q322.722 1531.01 319.62 1534.23 Q316.518 1537.42 310.87 1543.18 Z\" fill=\"#000000\" fill-rule=\"evenodd\" fill-opacity=\"1\" /><path clip-path=\"url(#clip140)\" d=\"M 0 0 M347.004 1515.64 Q343.393 1515.64 341.565 1519.2 Q339.759 1522.75 339.759 1529.87 Q339.759 1536.98 341.565 1540.55 Q343.393 1544.09 347.004 1544.09 Q350.639 1544.09 352.444 1540.55 Q354.273 1536.98 354.273 1529.87 Q354.273 1522.75 352.444 1519.2 Q350.639 1515.64 347.004 1515.64 M347.004 1511.93 Q352.815 1511.93 355.87 1516.54 Q358.949 1521.12 358.949 1529.87 Q358.949 1538.6 355.87 1543.21 Q352.815 1547.79 347.004 1547.79 Q341.194 1547.79 338.116 1543.21 Q335.06 1538.6 335.06 1529.87 Q335.06 1521.12 338.116 1516.54 Q341.194 1511.93 347.004 1511.93 Z\" fill=\"#000000\" fill-rule=\"evenodd\" fill-opacity=\"1\" /><path clip-path=\"url(#clip140)\" d=\"M 0 0 M777.872 1516.63 L766.067 1535.08 L777.872 1535.08 L777.872 1516.63 M776.645 1512.56 L782.525 1512.56 L782.525 1535.08 L787.455 1535.08 L787.455 1538.97 L782.525 1538.97 L782.525 1547.12 L777.872 1547.12 L777.872 1538.97 L762.27 1538.97 L762.27 1534.46 L776.645 1512.56 Z\" fill=\"#000000\" fill-rule=\"evenodd\" fill-opacity=\"1\" /><path clip-path=\"url(#clip140)\" d=\"M 0 0 M805.187 1515.64 Q801.576 1515.64 799.747 1519.2 Q797.941 1522.75 797.941 1529.87 Q797.941 1536.98 799.747 1540.55 Q801.576 1544.09 805.187 1544.09 Q808.821 1544.09 810.627 1540.55 Q812.455 1536.98 812.455 1529.87 Q812.455 1522.75 810.627 1519.2 Q808.821 1515.64 805.187 1515.64 M805.187 1511.93 Q810.997 1511.93 814.052 1516.54 Q817.131 1521.12 817.131 1529.87 Q817.131 1538.6 814.052 1543.21 Q810.997 1547.79 805.187 1547.79 Q799.377 1547.79 796.298 1543.21 Q793.242 1538.6 793.242 1529.87 Q793.242 1521.12 796.298 1516.54 Q799.377 1511.93 805.187 1511.93 Z\" fill=\"#000000\" fill-rule=\"evenodd\" fill-opacity=\"1\" /><path clip-path=\"url(#clip140)\" d=\"M 0 0 M1232.71 1527.98 Q1229.56 1527.98 1227.71 1530.13 Q1225.88 1532.28 1225.88 1536.03 Q1225.88 1539.76 1227.71 1541.93 Q1229.56 1544.09 1232.71 1544.09 Q1235.86 1544.09 1237.69 1541.93 Q1239.54 1539.76 1239.54 1536.03 Q1239.54 1532.28 1237.69 1530.13 Q1235.86 1527.98 1232.71 1527.98 M1241.99 1513.32 L1241.99 1517.58 Q1240.23 1516.75 1238.43 1516.31 Q1236.64 1515.87 1234.89 1515.87 Q1230.26 1515.87 1227.8 1519 Q1225.37 1522.12 1225.02 1528.44 Q1226.39 1526.43 1228.45 1525.36 Q1230.51 1524.27 1232.99 1524.27 Q1238.2 1524.27 1241.2 1527.44 Q1244.24 1530.59 1244.24 1536.03 Q1244.24 1541.36 1241.09 1544.57 Q1237.94 1547.79 1232.71 1547.79 Q1226.71 1547.79 1223.54 1543.21 Q1220.37 1538.6 1220.37 1529.87 Q1220.37 1521.68 1224.26 1516.82 Q1228.15 1511.93 1234.7 1511.93 Q1236.46 1511.93 1238.24 1512.28 Q1240.05 1512.63 1241.99 1513.32 Z\" fill=\"#000000\" fill-rule=\"evenodd\" fill-opacity=\"1\" /><path clip-path=\"url(#clip140)\" d=\"M 0 0 M1262.29 1515.64 Q1258.68 1515.64 1256.85 1519.2 Q1255.05 1522.75 1255.05 1529.87 Q1255.05 1536.98 1256.85 1540.55 Q1258.68 1544.09 1262.29 1544.09 Q1265.93 1544.09 1267.73 1540.55 Q1269.56 1536.98 1269.56 1529.87 Q1269.56 1522.75 1267.73 1519.2 Q1265.93 1515.64 1262.29 1515.64 M1262.29 1511.93 Q1268.1 1511.93 1271.16 1516.54 Q1274.24 1521.12 1274.24 1529.87 Q1274.24 1538.6 1271.16 1543.21 Q1268.1 1547.79 1262.29 1547.79 Q1256.48 1547.79 1253.4 1543.21 Q1250.35 1538.6 1250.35 1529.87 Q1250.35 1521.12 1253.4 1516.54 Q1256.48 1511.93 1262.29 1511.93 Z\" fill=\"#000000\" fill-rule=\"evenodd\" fill-opacity=\"1\" /><path clip-path=\"url(#clip140)\" d=\"M 0 0 M1689.78 1530.71 Q1686.45 1530.71 1684.53 1532.49 Q1682.63 1534.27 1682.63 1537.4 Q1682.63 1540.52 1684.53 1542.31 Q1686.45 1544.09 1689.78 1544.09 Q1693.11 1544.09 1695.04 1542.31 Q1696.96 1540.5 1696.96 1537.4 Q1696.96 1534.27 1695.04 1532.49 Q1693.14 1530.71 1689.78 1530.71 M1685.1 1528.72 Q1682.1 1527.98 1680.41 1525.92 Q1678.74 1523.86 1678.74 1520.89 Q1678.74 1516.75 1681.68 1514.34 Q1684.64 1511.93 1689.78 1511.93 Q1694.94 1511.93 1697.88 1514.34 Q1700.82 1516.75 1700.82 1520.89 Q1700.82 1523.86 1699.13 1525.92 Q1697.47 1527.98 1694.48 1528.72 Q1697.86 1529.5 1699.73 1531.8 Q1701.63 1534.09 1701.63 1537.4 Q1701.63 1542.42 1698.55 1545.11 Q1695.5 1547.79 1689.78 1547.79 Q1684.06 1547.79 1680.98 1545.11 Q1677.93 1542.42 1677.93 1537.4 Q1677.93 1534.09 1679.83 1531.8 Q1681.73 1529.5 1685.1 1528.72 M1683.39 1521.33 Q1683.39 1524.02 1685.06 1525.52 Q1686.75 1527.03 1689.78 1527.03 Q1692.79 1527.03 1694.48 1525.52 Q1696.19 1524.02 1696.19 1521.33 Q1696.19 1518.65 1694.48 1517.14 Q1692.79 1515.64 1689.78 1515.64 Q1686.75 1515.64 1685.06 1517.14 Q1683.39 1518.65 1683.39 1521.33 Z\" fill=\"#000000\" fill-rule=\"evenodd\" fill-opacity=\"1\" /><path clip-path=\"url(#clip140)\" d=\"M 0 0 M1719.94 1515.64 Q1716.33 1515.64 1714.5 1519.2 Q1712.7 1522.75 1712.7 1529.87 Q1712.7 1536.98 1714.5 1540.55 Q1716.33 1544.09 1719.94 1544.09 Q1723.58 1544.09 1725.38 1540.55 Q1727.21 1536.98 1727.21 1529.87 Q1727.21 1522.75 1725.38 1519.2 Q1723.58 1515.64 1719.94 1515.64 M1719.94 1511.93 Q1725.75 1511.93 1728.81 1516.54 Q1731.89 1521.12 1731.89 1529.87 Q1731.89 1538.6 1728.81 1543.21 Q1725.75 1547.79 1719.94 1547.79 Q1714.13 1547.79 1711.05 1543.21 Q1708 1538.6 1708 1529.87 Q1708 1521.12 1711.05 1516.54 Q1714.13 1511.93 1719.94 1511.93 Z\" fill=\"#000000\" fill-rule=\"evenodd\" fill-opacity=\"1\" /><path clip-path=\"url(#clip140)\" d=\"M 0 0 M2122.12 1543.18 L2129.76 1543.18 L2129.76 1516.82 L2121.45 1518.49 L2121.45 1514.23 L2129.71 1512.56 L2134.39 1512.56 L2134.39 1543.18 L2142.03 1543.18 L2142.03 1547.12 L2122.12 1547.12 L2122.12 1543.18 Z\" fill=\"#000000\" fill-rule=\"evenodd\" fill-opacity=\"1\" /><path clip-path=\"url(#clip140)\" d=\"M 0 0 M2161.47 1515.64 Q2157.86 1515.64 2156.03 1519.2 Q2154.22 1522.75 2154.22 1529.87 Q2154.22 1536.98 2156.03 1540.55 Q2157.86 1544.09 2161.47 1544.09 Q2165.1 1544.09 2166.91 1540.55 Q2168.74 1536.98 2168.74 1529.87 Q2168.74 1522.75 2166.91 1519.2 Q2165.1 1515.64 2161.47 1515.64 M2161.47 1511.93 Q2167.28 1511.93 2170.34 1516.54 Q2173.41 1521.12 2173.41 1529.87 Q2173.41 1538.6 2170.34 1543.21 Q2167.28 1547.79 2161.47 1547.79 Q2155.66 1547.79 2152.58 1543.21 Q2149.53 1538.6 2149.53 1529.87 Q2149.53 1521.12 2152.58 1516.54 Q2155.66 1511.93 2161.47 1511.93 Z\" fill=\"#000000\" fill-rule=\"evenodd\" fill-opacity=\"1\" /><path clip-path=\"url(#clip140)\" d=\"M 0 0 M2191.63 1515.64 Q2188.02 1515.64 2186.19 1519.2 Q2184.39 1522.75 2184.39 1529.87 Q2184.39 1536.98 2186.19 1540.55 Q2188.02 1544.09 2191.63 1544.09 Q2195.27 1544.09 2197.07 1540.55 Q2198.9 1536.98 2198.9 1529.87 Q2198.9 1522.75 2197.07 1519.2 Q2195.27 1515.64 2191.63 1515.64 M2191.63 1511.93 Q2197.44 1511.93 2200.5 1516.54 Q2203.58 1521.12 2203.58 1529.87 Q2203.58 1538.6 2200.5 1543.21 Q2197.44 1547.79 2191.63 1547.79 Q2185.82 1547.79 2182.74 1543.21 Q2179.69 1538.6 2179.69 1529.87 Q2179.69 1521.12 2182.74 1516.54 Q2185.82 1511.93 2191.63 1511.93 Z\" fill=\"#000000\" fill-rule=\"evenodd\" fill-opacity=\"1\" /><polyline clip-path=\"url(#clip142)\" style=\"stroke:#000000; stroke-width:2; stroke-opacity:0.1; fill:none\" points=\"\n",
       "  141.853,1398.3 2352.76,1398.3 \n",
       "  \"/>\n",
       "<polyline clip-path=\"url(#clip142)\" style=\"stroke:#000000; stroke-width:2; stroke-opacity:0.1; fill:none\" points=\"\n",
       "  141.853,1180.77 2352.76,1180.77 \n",
       "  \"/>\n",
       "<polyline clip-path=\"url(#clip142)\" style=\"stroke:#000000; stroke-width:2; stroke-opacity:0.1; fill:none\" points=\"\n",
       "  141.853,963.233 2352.76,963.233 \n",
       "  \"/>\n",
       "<polyline clip-path=\"url(#clip142)\" style=\"stroke:#000000; stroke-width:2; stroke-opacity:0.1; fill:none\" points=\"\n",
       "  141.853,745.701 2352.76,745.701 \n",
       "  \"/>\n",
       "<polyline clip-path=\"url(#clip142)\" style=\"stroke:#000000; stroke-width:2; stroke-opacity:0.1; fill:none\" points=\"\n",
       "  141.853,528.169 2352.76,528.169 \n",
       "  \"/>\n",
       "<polyline clip-path=\"url(#clip142)\" style=\"stroke:#000000; stroke-width:2; stroke-opacity:0.1; fill:none\" points=\"\n",
       "  141.853,310.636 2352.76,310.636 \n",
       "  \"/>\n",
       "<polyline clip-path=\"url(#clip140)\" style=\"stroke:#000000; stroke-width:4; stroke-opacity:1; fill:none\" points=\"\n",
       "  141.853,1486.45 141.853,123.472 \n",
       "  \"/>\n",
       "<polyline clip-path=\"url(#clip140)\" style=\"stroke:#000000; stroke-width:4; stroke-opacity:1; fill:none\" points=\"\n",
       "  141.853,1398.3 168.384,1398.3 \n",
       "  \"/>\n",
       "<polyline clip-path=\"url(#clip140)\" style=\"stroke:#000000; stroke-width:4; stroke-opacity:1; fill:none\" points=\"\n",
       "  141.853,1180.77 168.384,1180.77 \n",
       "  \"/>\n",
       "<polyline clip-path=\"url(#clip140)\" style=\"stroke:#000000; stroke-width:4; stroke-opacity:1; fill:none\" points=\"\n",
       "  141.853,963.233 168.384,963.233 \n",
       "  \"/>\n",
       "<polyline clip-path=\"url(#clip140)\" style=\"stroke:#000000; stroke-width:4; stroke-opacity:1; fill:none\" points=\"\n",
       "  141.853,745.701 168.384,745.701 \n",
       "  \"/>\n",
       "<polyline clip-path=\"url(#clip140)\" style=\"stroke:#000000; stroke-width:4; stroke-opacity:1; fill:none\" points=\"\n",
       "  141.853,528.169 168.384,528.169 \n",
       "  \"/>\n",
       "<polyline clip-path=\"url(#clip140)\" style=\"stroke:#000000; stroke-width:4; stroke-opacity:1; fill:none\" points=\"\n",
       "  141.853,310.636 168.384,310.636 \n",
       "  \"/>\n",
       "<path clip-path=\"url(#clip140)\" d=\"M 0 0 M57.7745 1411.64 L74.0939 1411.64 L74.0939 1415.58 L52.1495 1415.58 L52.1495 1411.64 Q54.8115 1408.89 59.3949 1404.26 Q64.0013 1399.61 65.1819 1398.26 Q67.4272 1395.74 68.3068 1394 Q69.2096 1392.24 69.2096 1390.55 Q69.2096 1387.8 67.2652 1386.06 Q65.3439 1384.33 62.2421 1384.33 Q60.043 1384.33 57.5893 1385.09 Q55.1588 1385.86 52.381 1387.41 L52.381 1382.68 Q55.2051 1381.55 57.6588 1380.97 Q60.1124 1380.39 62.1495 1380.39 Q67.5198 1380.39 70.7142 1383.08 Q73.9087 1385.76 73.9087 1390.25 Q73.9087 1392.38 73.0985 1394.3 Q72.3115 1396.2 70.205 1398.8 Q69.6263 1399.47 66.5245 1402.68 Q63.4226 1405.88 57.7745 1411.64 Z\" fill=\"#000000\" fill-rule=\"evenodd\" fill-opacity=\"1\" /><path clip-path=\"url(#clip140)\" d=\"M 0 0 M93.9086 1384.1 Q90.2975 1384.1 88.4688 1387.66 Q86.6632 1391.2 86.6632 1398.33 Q86.6632 1405.44 88.4688 1409 Q90.2975 1412.55 93.9086 1412.55 Q97.5428 1412.55 99.3483 1409 Q101.177 1405.44 101.177 1398.33 Q101.177 1391.2 99.3483 1387.66 Q97.5428 1384.1 93.9086 1384.1 M93.9086 1380.39 Q99.7187 1380.39 102.774 1385 Q105.853 1389.58 105.853 1398.33 Q105.853 1407.06 102.774 1411.67 Q99.7187 1416.25 93.9086 1416.25 Q88.0984 1416.25 85.0197 1411.67 Q81.9642 1407.06 81.9642 1398.33 Q81.9642 1389.58 85.0197 1385 Q88.0984 1380.39 93.9086 1380.39 Z\" fill=\"#000000\" fill-rule=\"evenodd\" fill-opacity=\"1\" /><path clip-path=\"url(#clip140)\" d=\"M 0 0 M67.9133 1179.41 Q71.2698 1180.13 73.1448 1182.4 Q75.0429 1184.67 75.0429 1188 Q75.0429 1193.11 71.5244 1195.92 Q68.0059 1198.72 61.5245 1198.72 Q59.3486 1198.72 57.0338 1198.28 Q54.7421 1197.86 52.2884 1197 L52.2884 1192.49 Q54.2328 1193.62 56.5477 1194.2 Q58.8625 1194.78 61.3856 1194.78 Q65.7837 1194.78 68.0754 1193.05 Q70.3902 1191.31 70.3902 1188 Q70.3902 1184.94 68.2374 1183.23 Q66.1078 1181.49 62.2884 1181.49 L58.2606 1181.49 L58.2606 1177.65 L62.4735 1177.65 Q65.9226 1177.65 67.7513 1176.29 Q69.58 1174.9 69.58 1172.3 Q69.58 1169.64 67.6819 1168.23 Q65.8069 1166.8 62.2884 1166.8 Q60.3671 1166.8 58.168 1167.21 Q55.969 1167.63 53.3301 1168.51 L53.3301 1164.34 Q55.9921 1163.6 58.3069 1163.23 Q60.6449 1162.86 62.705 1162.86 Q68.0291 1162.86 71.1309 1165.29 Q74.2327 1167.7 74.2327 1171.82 Q74.2327 1174.69 72.5892 1176.68 Q70.9457 1178.65 67.9133 1179.41 Z\" fill=\"#000000\" fill-rule=\"evenodd\" fill-opacity=\"1\" /><path clip-path=\"url(#clip140)\" d=\"M 0 0 M93.9086 1166.56 Q90.2975 1166.56 88.4688 1170.13 Q86.6632 1173.67 86.6632 1180.8 Q86.6632 1187.91 88.4688 1191.47 Q90.2975 1195.01 93.9086 1195.01 Q97.5428 1195.01 99.3483 1191.47 Q101.177 1187.91 101.177 1180.8 Q101.177 1173.67 99.3483 1170.13 Q97.5428 1166.56 93.9086 1166.56 M93.9086 1162.86 Q99.7187 1162.86 102.774 1167.47 Q105.853 1172.05 105.853 1180.8 Q105.853 1189.53 102.774 1194.13 Q99.7187 1198.72 93.9086 1198.72 Q88.0984 1198.72 85.0197 1194.13 Q81.9642 1189.53 81.9642 1180.8 Q81.9642 1172.05 85.0197 1167.47 Q88.0984 1162.86 93.9086 1162.86 Z\" fill=\"#000000\" fill-rule=\"evenodd\" fill-opacity=\"1\" /><path clip-path=\"url(#clip140)\" d=\"M 0 0 M66.5939 950.027 L54.7884 968.476 L66.5939 968.476 L66.5939 950.027 M65.367 945.953 L71.2466 945.953 L71.2466 968.476 L76.1772 968.476 L76.1772 972.365 L71.2466 972.365 L71.2466 980.513 L66.5939 980.513 L66.5939 972.365 L50.9921 972.365 L50.9921 967.851 L65.367 945.953 Z\" fill=\"#000000\" fill-rule=\"evenodd\" fill-opacity=\"1\" /><path clip-path=\"url(#clip140)\" d=\"M 0 0 M93.9086 949.032 Q90.2975 949.032 88.4688 952.597 Q86.6632 956.138 86.6632 963.268 Q86.6632 970.374 88.4688 973.939 Q90.2975 977.481 93.9086 977.481 Q97.5428 977.481 99.3483 973.939 Q101.177 970.374 101.177 963.268 Q101.177 956.138 99.3483 952.597 Q97.5428 949.032 93.9086 949.032 M93.9086 945.328 Q99.7187 945.328 102.774 949.935 Q105.853 954.518 105.853 963.268 Q105.853 971.995 102.774 976.601 Q99.7187 981.184 93.9086 981.184 Q88.0984 981.184 85.0197 976.601 Q81.9642 971.995 81.9642 963.268 Q81.9642 954.518 85.0197 949.935 Q88.0984 945.328 93.9086 945.328 Z\" fill=\"#000000\" fill-rule=\"evenodd\" fill-opacity=\"1\" /><path clip-path=\"url(#clip140)\" d=\"M 0 0 M53.793 728.421 L72.1494 728.421 L72.1494 732.356 L58.0754 732.356 L58.0754 740.828 Q59.0939 740.481 60.1124 740.319 Q61.131 740.134 62.1495 740.134 Q67.9365 740.134 71.3161 743.305 Q74.6957 746.476 74.6957 751.893 Q74.6957 757.472 71.2235 760.573 Q67.7513 763.652 61.4319 763.652 Q59.256 763.652 56.9875 763.282 Q54.7421 762.911 52.3347 762.171 L52.3347 757.472 Q54.418 758.606 56.6402 759.161 Q58.8625 759.717 61.3393 759.717 Q65.3439 759.717 67.6819 757.611 Q70.0198 755.504 70.0198 751.893 Q70.0198 748.282 67.6819 746.175 Q65.3439 744.069 61.3393 744.069 Q59.4643 744.069 57.5893 744.486 Q55.7375 744.902 53.793 745.782 L53.793 728.421 Z\" fill=\"#000000\" fill-rule=\"evenodd\" fill-opacity=\"1\" /><path clip-path=\"url(#clip140)\" d=\"M 0 0 M93.9086 731.5 Q90.2975 731.5 88.4688 735.064 Q86.6632 738.606 86.6632 745.736 Q86.6632 752.842 88.4688 756.407 Q90.2975 759.948 93.9086 759.948 Q97.5428 759.948 99.3483 756.407 Q101.177 752.842 101.177 745.736 Q101.177 738.606 99.3483 735.064 Q97.5428 731.5 93.9086 731.5 M93.9086 727.796 Q99.7187 727.796 102.774 732.402 Q105.853 736.986 105.853 745.736 Q105.853 754.462 102.774 759.069 Q99.7187 763.652 93.9086 763.652 Q88.0984 763.652 85.0197 759.069 Q81.9642 754.462 81.9642 745.736 Q81.9642 736.986 85.0197 732.402 Q88.0984 727.796 93.9086 727.796 Z\" fill=\"#000000\" fill-rule=\"evenodd\" fill-opacity=\"1\" /><path clip-path=\"url(#clip140)\" d=\"M 0 0 M64.3254 526.305 Q61.1773 526.305 59.3254 528.458 Q57.4967 530.611 57.4967 534.361 Q57.4967 538.088 59.3254 540.263 Q61.1773 542.416 64.3254 542.416 Q67.4735 542.416 69.3022 540.263 Q71.1541 538.088 71.1541 534.361 Q71.1541 530.611 69.3022 528.458 Q67.4735 526.305 64.3254 526.305 M73.6077 511.653 L73.6077 515.912 Q71.8485 515.078 70.0429 514.639 Q68.2606 514.199 66.5013 514.199 Q61.8717 514.199 59.418 517.324 Q56.9875 520.449 56.6402 526.768 Q58.006 524.754 60.0662 523.689 Q62.1263 522.602 64.6032 522.602 Q69.8115 522.602 72.8207 525.773 Q75.8531 528.921 75.8531 534.361 Q75.8531 539.685 72.705 542.902 Q69.5568 546.12 64.3254 546.12 Q58.33 546.12 55.1588 541.537 Q51.9875 536.93 51.9875 528.203 Q51.9875 520.009 55.8764 515.148 Q59.7652 510.264 66.3161 510.264 Q68.0754 510.264 69.8578 510.611 Q71.6633 510.958 73.6077 511.653 Z\" fill=\"#000000\" fill-rule=\"evenodd\" fill-opacity=\"1\" /><path clip-path=\"url(#clip140)\" d=\"M 0 0 M93.9086 513.967 Q90.2975 513.967 88.4688 517.532 Q86.6632 521.074 86.6632 528.203 Q86.6632 535.31 88.4688 538.875 Q90.2975 542.416 93.9086 542.416 Q97.5428 542.416 99.3483 538.875 Q101.177 535.31 101.177 528.203 Q101.177 521.074 99.3483 517.532 Q97.5428 513.967 93.9086 513.967 M93.9086 510.264 Q99.7187 510.264 102.774 514.87 Q105.853 519.453 105.853 528.203 Q105.853 536.93 102.774 541.537 Q99.7187 546.12 93.9086 546.12 Q88.0984 546.12 85.0197 541.537 Q81.9642 536.93 81.9642 528.203 Q81.9642 519.453 85.0197 514.87 Q88.0984 510.264 93.9086 510.264 Z\" fill=\"#000000\" fill-rule=\"evenodd\" fill-opacity=\"1\" /><path clip-path=\"url(#clip140)\" d=\"M 0 0 M52.5662 293.356 L74.7883 293.356 L74.7883 295.347 L62.2421 327.916 L57.3578 327.916 L69.1633 297.292 L52.5662 297.292 L52.5662 293.356 Z\" fill=\"#000000\" fill-rule=\"evenodd\" fill-opacity=\"1\" /><path clip-path=\"url(#clip140)\" d=\"M 0 0 M93.9086 296.435 Q90.2975 296.435 88.4688 300 Q86.6632 303.542 86.6632 310.671 Q86.6632 317.778 88.4688 321.342 Q90.2975 324.884 93.9086 324.884 Q97.5428 324.884 99.3483 321.342 Q101.177 317.778 101.177 310.671 Q101.177 303.542 99.3483 300 Q97.5428 296.435 93.9086 296.435 M93.9086 292.731 Q99.7187 292.731 102.774 297.338 Q105.853 301.921 105.853 310.671 Q105.853 319.398 102.774 324.004 Q99.7187 328.588 93.9086 328.588 Q88.0984 328.588 85.0197 324.004 Q81.9642 319.398 81.9642 310.671 Q81.9642 301.921 85.0197 297.338 Q88.0984 292.731 93.9086 292.731 Z\" fill=\"#000000\" fill-rule=\"evenodd\" fill-opacity=\"1\" /><path clip-path=\"url(#clip140)\" d=\"M 0 0 M841.201 12.096 L853.394 12.096 L868.828 53.2532 L884.343 12.096 L896.537 12.096 L896.537 72.576 L888.556 72.576 L888.556 19.4686 L872.96 60.9499 L864.737 60.9499 L849.141 19.4686 L849.141 72.576 L841.201 72.576 L841.201 12.096 Z\" fill=\"#000000\" fill-rule=\"evenodd\" fill-opacity=\"1\" /><path clip-path=\"url(#clip140)\" d=\"M 0 0 M921.814 6.22219 L929.876 6.22219 L916.67 21.4536 L910.472 21.4536 L921.814 6.22219 M912.457 27.2059 L919.91 27.2059 L919.91 72.576 L912.457 72.576 L912.457 27.2059 M916.184 26.1121 L916.184 26.1121 Z\" fill=\"#000000\" fill-rule=\"evenodd\" fill-opacity=\"1\" /><path clip-path=\"url(#clip140)\" d=\"M 0 0 M973.22 45.1919 L973.22 72.576 L965.767 72.576 L965.767 45.4349 Q965.767 38.994 963.255 35.7938 Q960.743 32.5936 955.72 32.5936 Q949.684 32.5936 946.201 36.4419 Q942.717 40.2903 942.717 46.9338 L942.717 72.576 L935.223 72.576 L935.223 27.2059 L942.717 27.2059 L942.717 34.2544 Q945.391 30.163 948.996 28.1376 Q952.642 26.1121 957.381 26.1121 Q965.199 26.1121 969.21 30.9732 Q973.22 35.7938 973.22 45.1919 Z\" fill=\"#000000\" fill-rule=\"evenodd\" fill-opacity=\"1\" /><path clip-path=\"url(#clip140)\" d=\"M 0 0 M988.087 27.2059 L995.541 27.2059 L995.541 72.576 L988.087 72.576 L988.087 27.2059 M988.087 9.54393 L995.541 9.54393 L995.541 18.9825 L988.087 18.9825 L988.087 9.54393 Z\" fill=\"#000000\" fill-rule=\"evenodd\" fill-opacity=\"1\" /><path clip-path=\"url(#clip140)\" d=\"M 0 0 M1046.46 35.9153 Q1049.26 30.8922 1053.14 28.5022 Q1057.03 26.1121 1062.3 26.1121 Q1069.39 26.1121 1073.24 31.0947 Q1077.09 36.0368 1077.09 45.1919 L1077.09 72.576 L1069.59 72.576 L1069.59 45.4349 Q1069.59 38.913 1067.28 35.7533 Q1064.97 32.5936 1060.23 32.5936 Q1054.44 32.5936 1051.08 36.4419 Q1047.72 40.2903 1047.72 46.9338 L1047.72 72.576 L1040.22 72.576 L1040.22 45.4349 Q1040.22 38.8725 1037.91 35.7533 Q1035.6 32.5936 1030.78 32.5936 Q1025.07 32.5936 1021.71 36.4824 Q1018.35 40.3308 1018.35 46.9338 L1018.35 72.576 L1010.85 72.576 L1010.85 27.2059 L1018.35 27.2059 L1018.35 34.2544 Q1020.9 30.082 1024.46 28.0971 Q1028.03 26.1121 1032.93 26.1121 Q1037.87 26.1121 1041.32 28.6237 Q1044.8 31.1352 1046.46 35.9153 Z\" fill=\"#000000\" fill-rule=\"evenodd\" fill-opacity=\"1\" /><path clip-path=\"url(#clip140)\" d=\"M 0 0 M1109.53 32.4315 Q1103.54 32.4315 1100.05 37.1306 Q1096.57 41.7891 1096.57 49.9314 Q1096.57 58.0738 1100.01 62.7728 Q1103.5 67.4314 1109.53 67.4314 Q1115.49 67.4314 1118.97 62.7323 Q1122.46 58.0333 1122.46 49.9314 Q1122.46 41.8701 1118.97 37.1711 Q1115.49 32.4315 1109.53 32.4315 M1109.53 26.1121 Q1119.26 26.1121 1124.81 32.4315 Q1130.35 38.7509 1130.35 49.9314 Q1130.35 61.0714 1124.81 67.4314 Q1119.26 73.7508 1109.53 73.7508 Q1099.77 73.7508 1094.22 67.4314 Q1088.71 61.0714 1088.71 49.9314 Q1088.71 38.7509 1094.22 32.4315 Q1099.77 26.1121 1109.53 26.1121 Z\" fill=\"#000000\" fill-rule=\"evenodd\" fill-opacity=\"1\" /><path clip-path=\"url(#clip140)\" d=\"M 0 0 M1171.63 28.5427 L1171.63 35.5912 Q1168.47 33.9709 1165.07 33.1607 Q1161.67 32.3505 1158.02 32.3505 Q1152.47 32.3505 1149.68 34.0519 Q1146.92 35.7533 1146.92 39.156 Q1146.92 41.7486 1148.91 43.2475 Q1150.89 44.7058 1156.89 46.0426 L1159.44 46.6097 Q1167.38 48.3111 1170.7 51.4303 Q1174.06 54.509 1174.06 60.0587 Q1174.06 66.3781 1169.04 70.0644 Q1164.06 73.7508 1155.31 73.7508 Q1151.66 73.7508 1147.69 73.0216 Q1143.76 72.3329 1139.39 70.9151 L1139.39 63.2184 Q1143.52 65.3654 1147.53 66.4591 Q1151.54 67.5124 1155.47 67.5124 Q1160.74 67.5124 1163.57 65.73 Q1166.41 63.9071 1166.41 60.6258 Q1166.41 57.5877 1164.34 55.9673 Q1162.32 54.3469 1155.39 52.8481 L1152.8 52.2405 Q1145.87 50.7821 1142.79 47.7845 Q1139.71 44.7463 1139.71 39.4801 Q1139.71 33.0797 1144.25 29.5959 Q1148.79 26.1121 1157.13 26.1121 Q1161.26 26.1121 1164.91 26.7198 Q1168.55 27.3274 1171.63 28.5427 Z\" fill=\"#000000\" fill-rule=\"evenodd\" fill-opacity=\"1\" /><path clip-path=\"url(#clip140)\" d=\"M 0 0 M1237.18 17.6457 Q1228.27 17.6457 1223 24.2892 Q1217.77 30.9327 1217.77 42.3968 Q1217.77 53.8203 1223 60.4638 Q1228.27 67.1073 1237.18 67.1073 Q1246.09 67.1073 1251.27 60.4638 Q1256.5 53.8203 1256.5 42.3968 Q1256.5 30.9327 1251.27 24.2892 Q1246.09 17.6457 1237.18 17.6457 M1248.64 71.4823 L1259.42 83.2704 L1249.53 83.2704 L1240.58 73.5887 Q1239.24 73.6697 1238.51 73.7103 Q1237.83 73.7508 1237.18 73.7508 Q1224.42 73.7508 1216.76 65.2439 Q1209.14 56.6965 1209.14 42.3968 Q1209.14 28.0566 1216.76 19.5497 Q1224.42 11.0023 1237.18 11.0023 Q1249.9 11.0023 1257.51 19.5497 Q1265.13 28.0566 1265.13 42.3968 Q1265.13 52.9291 1260.87 60.4233 Q1256.66 67.9175 1248.64 71.4823 Z\" fill=\"#000000\" fill-rule=\"evenodd\" fill-opacity=\"1\" /><path clip-path=\"url(#clip140)\" d=\"M 0 0 M1276.84 54.671 L1276.84 27.2059 L1284.29 27.2059 L1284.29 54.3874 Q1284.29 60.8284 1286.8 64.0691 Q1289.31 67.2693 1294.34 67.2693 Q1300.37 67.2693 1303.86 63.421 Q1307.38 59.5726 1307.38 52.9291 L1307.38 27.2059 L1314.83 27.2059 L1314.83 72.576 L1307.38 72.576 L1307.38 65.6084 Q1304.67 69.7404 1301.06 71.7658 Q1297.5 73.7508 1292.76 73.7508 Q1284.94 73.7508 1280.89 68.8897 Q1276.84 64.0286 1276.84 54.671 M1295.59 26.1121 L1295.59 26.1121 Z\" fill=\"#000000\" fill-rule=\"evenodd\" fill-opacity=\"1\" /><path clip-path=\"url(#clip140)\" d=\"M 0 0 M1350.81 49.7694 Q1341.77 49.7694 1338.29 51.8354 Q1334.8 53.9013 1334.8 58.8839 Q1334.8 62.8538 1337.4 65.2034 Q1340.03 67.5124 1344.53 67.5124 Q1350.72 67.5124 1354.45 63.1374 Q1358.22 58.7219 1358.22 51.4303 L1358.22 49.7694 L1350.81 49.7694 M1365.67 46.6907 L1365.67 72.576 L1358.22 72.576 L1358.22 65.6895 Q1355.67 69.8214 1351.86 71.8063 Q1348.05 73.7508 1342.54 73.7508 Q1335.57 73.7508 1331.44 69.8619 Q1327.35 65.9325 1327.35 59.3701 Q1327.35 51.7138 1332.45 47.825 Q1337.6 43.9361 1347.77 43.9361 L1358.22 43.9361 L1358.22 43.2069 Q1358.22 38.0623 1354.82 35.2672 Q1351.45 32.4315 1345.34 32.4315 Q1341.45 32.4315 1337.76 33.3632 Q1334.07 34.295 1330.67 36.1584 L1330.67 29.2718 Q1334.76 27.692 1338.61 26.9223 Q1342.46 26.1121 1346.11 26.1121 Q1355.95 26.1121 1360.81 31.2163 Q1365.67 36.3204 1365.67 46.6907 Z\" fill=\"#000000\" fill-rule=\"evenodd\" fill-opacity=\"1\" /><path clip-path=\"url(#clip140)\" d=\"M 0 0 M1410.88 34.0924 L1410.88 9.54393 L1418.33 9.54393 L1418.33 72.576 L1410.88 72.576 L1410.88 65.7705 Q1408.53 69.8214 1404.93 71.8063 Q1401.36 73.7508 1396.34 73.7508 Q1388.11 73.7508 1382.93 67.1883 Q1377.78 60.6258 1377.78 49.9314 Q1377.78 39.2371 1382.93 32.6746 Q1388.11 26.1121 1396.34 26.1121 Q1401.36 26.1121 1404.93 28.0971 Q1408.53 30.0415 1410.88 34.0924 M1385.48 49.9314 Q1385.48 58.1548 1388.84 62.8538 Q1392.25 67.5124 1398.16 67.5124 Q1404.07 67.5124 1407.48 62.8538 Q1410.88 58.1548 1410.88 49.9314 Q1410.88 41.7081 1407.48 37.0496 Q1404.07 32.3505 1398.16 32.3505 Q1392.25 32.3505 1388.84 37.0496 Q1385.48 41.7081 1385.48 49.9314 Z\" fill=\"#000000\" fill-rule=\"evenodd\" fill-opacity=\"1\" /><path clip-path=\"url(#clip140)\" d=\"M 0 0 M1459.98 34.1734 Q1458.72 33.4443 1457.22 33.1202 Q1455.76 32.7556 1453.98 32.7556 Q1447.66 32.7556 1444.26 36.8875 Q1440.9 40.9789 1440.9 48.6757 L1440.9 72.576 L1433.4 72.576 L1433.4 27.2059 L1440.9 27.2059 L1440.9 34.2544 Q1443.25 30.1225 1447.01 28.1376 Q1450.78 26.1121 1456.17 26.1121 Q1456.94 26.1121 1457.87 26.2337 Q1458.8 26.3147 1459.94 26.5172 L1459.98 34.1734 Z\" fill=\"#000000\" fill-rule=\"evenodd\" fill-opacity=\"1\" /><path clip-path=\"url(#clip140)\" d=\"M 0 0 M1488.41 49.7694 Q1479.38 49.7694 1475.9 51.8354 Q1472.41 53.9013 1472.41 58.8839 Q1472.41 62.8538 1475.01 65.2034 Q1477.64 67.5124 1482.14 67.5124 Q1488.33 67.5124 1492.06 63.1374 Q1495.83 58.7219 1495.83 51.4303 L1495.83 49.7694 L1488.41 49.7694 M1503.28 46.6907 L1503.28 72.576 L1495.83 72.576 L1495.83 65.6895 Q1493.28 69.8214 1489.47 71.8063 Q1485.66 73.7508 1480.15 73.7508 Q1473.18 73.7508 1469.05 69.8619 Q1464.96 65.9325 1464.96 59.3701 Q1464.96 51.7138 1470.06 47.825 Q1475.21 43.9361 1485.38 43.9361 L1495.83 43.9361 L1495.83 43.2069 Q1495.83 38.0623 1492.42 35.2672 Q1489.06 32.4315 1482.95 32.4315 Q1479.06 32.4315 1475.37 33.3632 Q1471.68 34.295 1468.28 36.1584 L1468.28 29.2718 Q1472.37 27.692 1476.22 26.9223 Q1480.07 26.1121 1483.72 26.1121 Q1493.56 26.1121 1498.42 31.2163 Q1503.28 36.3204 1503.28 46.6907 Z\" fill=\"#000000\" fill-rule=\"evenodd\" fill-opacity=\"1\" /><path clip-path=\"url(#clip140)\" d=\"M 0 0 M1548.49 34.0924 L1548.49 9.54393 L1555.94 9.54393 L1555.94 72.576 L1548.49 72.576 L1548.49 65.7705 Q1546.14 69.8214 1542.53 71.8063 Q1538.97 73.7508 1533.95 73.7508 Q1525.72 73.7508 1520.54 67.1883 Q1515.39 60.6258 1515.39 49.9314 Q1515.39 39.2371 1520.54 32.6746 Q1525.72 26.1121 1533.95 26.1121 Q1538.97 26.1121 1542.53 28.0971 Q1546.14 30.0415 1548.49 34.0924 M1523.09 49.9314 Q1523.09 58.1548 1526.45 62.8538 Q1529.85 67.5124 1535.77 67.5124 Q1541.68 67.5124 1545.09 62.8538 Q1548.49 58.1548 1548.49 49.9314 Q1548.49 41.7081 1545.09 37.0496 Q1541.68 32.3505 1535.77 32.3505 Q1529.85 32.3505 1526.45 37.0496 Q1523.09 41.7081 1523.09 49.9314 Z\" fill=\"#000000\" fill-rule=\"evenodd\" fill-opacity=\"1\" /><path clip-path=\"url(#clip140)\" d=\"M 0 0 M1588.88 32.4315 Q1582.88 32.4315 1579.4 37.1306 Q1575.91 41.7891 1575.91 49.9314 Q1575.91 58.0738 1579.36 62.7728 Q1582.84 67.4314 1588.88 67.4314 Q1594.83 67.4314 1598.32 62.7323 Q1601.8 58.0333 1601.8 49.9314 Q1601.8 41.8701 1598.32 37.1711 Q1594.83 32.4315 1588.88 32.4315 M1588.88 26.1121 Q1598.6 26.1121 1604.15 32.4315 Q1609.7 38.7509 1609.7 49.9314 Q1609.7 61.0714 1604.15 67.4314 Q1598.6 73.7508 1588.88 73.7508 Q1579.11 73.7508 1573.56 67.4314 Q1568.06 61.0714 1568.06 49.9314 Q1568.06 38.7509 1573.56 32.4315 Q1579.11 26.1121 1588.88 26.1121 Z\" fill=\"#000000\" fill-rule=\"evenodd\" fill-opacity=\"1\" /><path clip-path=\"url(#clip140)\" d=\"M 0 0 M1650.98 28.5427 L1650.98 35.5912 Q1647.82 33.9709 1644.41 33.1607 Q1641.01 32.3505 1637.37 32.3505 Q1631.82 32.3505 1629.02 34.0519 Q1626.27 35.7533 1626.27 39.156 Q1626.27 41.7486 1628.25 43.2475 Q1630.24 44.7058 1636.23 46.0426 L1638.78 46.6097 Q1646.72 48.3111 1650.05 51.4303 Q1653.41 54.509 1653.41 60.0587 Q1653.41 66.3781 1648.38 70.0644 Q1643.4 73.7508 1634.65 73.7508 Q1631.01 73.7508 1627.04 73.0216 Q1623.11 72.3329 1618.73 70.9151 L1618.73 63.2184 Q1622.86 65.3654 1626.87 66.4591 Q1630.88 67.5124 1634.81 67.5124 Q1640.08 67.5124 1642.92 65.73 Q1645.75 63.9071 1645.75 60.6258 Q1645.75 57.5877 1643.69 55.9673 Q1641.66 54.3469 1634.73 52.8481 L1632.14 52.2405 Q1625.21 50.7821 1622.13 47.7845 Q1619.06 44.7463 1619.06 39.4801 Q1619.06 33.0797 1623.59 29.5959 Q1628.13 26.1121 1636.47 26.1121 Q1640.61 26.1121 1644.25 26.7198 Q1647.9 27.3274 1650.98 28.5427 Z\" fill=\"#000000\" fill-rule=\"evenodd\" fill-opacity=\"1\" /><circle clip-path=\"url(#clip142)\" cx=\"904.102\" cy=\"1115.51\" r=\"14\" fill=\"#009af9\" fill-rule=\"evenodd\" fill-opacity=\"1\" stroke=\"#000000\" stroke-opacity=\"1\" stroke-width=\"3.2\"/>\n",
       "<circle clip-path=\"url(#clip142)\" cx=\"2139.63\" cy=\"267.13\" r=\"14\" fill=\"#009af9\" fill-rule=\"evenodd\" fill-opacity=\"1\" stroke=\"#000000\" stroke-opacity=\"1\" stroke-width=\"3.2\"/>\n",
       "<circle clip-path=\"url(#clip142)\" cx=\"583.779\" cy=\"1420.05\" r=\"14\" fill=\"#009af9\" fill-rule=\"evenodd\" fill-opacity=\"1\" stroke=\"#000000\" stroke-opacity=\"1\" stroke-width=\"3.2\"/>\n",
       "<circle clip-path=\"url(#clip142)\" cx=\"1178.66\" cy=\"1246.02\" r=\"14\" fill=\"#009af9\" fill-rule=\"evenodd\" fill-opacity=\"1\" stroke=\"#000000\" stroke-opacity=\"1\" stroke-width=\"3.2\"/>\n",
       "<circle clip-path=\"url(#clip142)\" cx=\"721.06\" cy=\"1333.04\" r=\"14\" fill=\"#009af9\" fill-rule=\"evenodd\" fill-opacity=\"1\" stroke=\"#000000\" stroke-opacity=\"1\" stroke-width=\"3.2\"/>\n",
       "<circle clip-path=\"url(#clip142)\" cx=\"1819.31\" cy=\"484.662\" r=\"14\" fill=\"#009af9\" fill-rule=\"evenodd\" fill-opacity=\"1\" stroke=\"#000000\" stroke-opacity=\"1\" stroke-width=\"3.2\"/>\n",
       "<circle clip-path=\"url(#clip142)\" cx=\"354.977\" cy=\"1311.28\" r=\"14\" fill=\"#009af9\" fill-rule=\"evenodd\" fill-opacity=\"1\" stroke=\"#000000\" stroke-opacity=\"1\" stroke-width=\"3.2\"/>\n",
       "<circle clip-path=\"url(#clip142)\" cx=\"1338.83\" cy=\"1137.26\" r=\"14\" fill=\"#009af9\" fill-rule=\"evenodd\" fill-opacity=\"1\" stroke=\"#000000\" stroke-opacity=\"1\" stroke-width=\"3.2\"/>\n",
       "<circle clip-path=\"url(#clip142)\" cx=\"263.457\" cy=\"1441.8\" r=\"14\" fill=\"#009af9\" fill-rule=\"evenodd\" fill-opacity=\"1\" stroke=\"#000000\" stroke-opacity=\"1\" stroke-width=\"3.2\"/>\n",
       "<circle clip-path=\"url(#clip142)\" cx=\"812.581\" cy=\"1050.25\" r=\"14\" fill=\"#009af9\" fill-rule=\"evenodd\" fill-opacity=\"1\" stroke=\"#000000\" stroke-opacity=\"1\" stroke-width=\"3.2\"/>\n",
       "<circle clip-path=\"url(#clip142)\" cx=\"2231.15\" cy=\"180.117\" r=\"14\" fill=\"#009af9\" fill-rule=\"evenodd\" fill-opacity=\"1\" stroke=\"#000000\" stroke-opacity=\"1\" stroke-width=\"3.2\"/>\n",
       "<polyline clip-path=\"url(#clip142)\" style=\"stroke:#ff0000; stroke-width:8; stroke-opacity:1; fill:none\" points=\"\n",
       "  204.426,1447.87 224.795,1442.31 413.137,1386.93 526.323,1349.94 622.02,1316.28 725.973,1277.07 821.81,1238.28 924.556,1193.69 1043.6,1137.83 1149.39,1084.11 \n",
       "  1242.16,1033.6 1343.3,974.636 1445.04,910.939 1557.54,835 1664.57,756.95 1775.86,669.319 1869.54,590.045 1983.91,485.905 2091.43,380.07 2263.68,192.916 \n",
       "  2290.18,162.047 \n",
       "  \"/>\n",
       "</svg>\n"
      ]
     },
     "execution_count": 62,
     "metadata": {},
     "output_type": "execute_result"
    }
   ],
   "source": [
    "pontos_x = [45, 99, 31, 57, 37, 85, 21, 64, 17, 41, 103]\n",
    "pontos_y = [33, 72, 19, 27, 23, 62, 24, 32, 18, 36, 76]\n",
    "\n",
    "Coeficientes = regressão_função_exponencial(pontos_x, pontos_y, 1)\n",
    "polinomio(x) = (ℯ^Coeficientes[1])*ℯ^(x*Coeficientes[2])\n",
    "scatter(pontos_x,pontos_y,leg=false)\n",
    "plot!(pontos_x -> polinomio(pontos_x), c=:red, lw=2)\n",
    "title!(\"Mínimos Quadrados\")"
   ]
  },
  {
   "cell_type": "code",
   "execution_count": 63,
   "metadata": {},
   "outputs": [
    {
     "data": {
      "image/svg+xml": [
       "<?xml version=\"1.0\" encoding=\"utf-8\"?>\n",
       "<svg xmlns=\"http://www.w3.org/2000/svg\" xmlns:xlink=\"http://www.w3.org/1999/xlink\" width=\"600\" height=\"400\" viewBox=\"0 0 2400 1600\">\n",
       "<defs>\n",
       "  <clipPath id=\"clip180\">\n",
       "    <rect x=\"0\" y=\"0\" width=\"2400\" height=\"1600\"/>\n",
       "  </clipPath>\n",
       "</defs>\n",
       "<path clip-path=\"url(#clip180)\" d=\"\n",
       "M0 1600 L2400 1600 L2400 0 L0 0  Z\n",
       "  \" fill=\"#ffffff\" fill-rule=\"evenodd\" fill-opacity=\"1\"/>\n",
       "<defs>\n",
       "  <clipPath id=\"clip181\">\n",
       "    <rect x=\"480\" y=\"0\" width=\"1681\" height=\"1600\"/>\n",
       "  </clipPath>\n",
       "</defs>\n",
       "<path clip-path=\"url(#clip180)\" d=\"\n",
       "M306.435 1486.45 L2352.76 1486.45 L2352.76 123.472 L306.435 123.472  Z\n",
       "  \" fill=\"#ffffff\" fill-rule=\"evenodd\" fill-opacity=\"1\"/>\n",
       "<defs>\n",
       "  <clipPath id=\"clip182\">\n",
       "    <rect x=\"306\" y=\"123\" width=\"2047\" height=\"1364\"/>\n",
       "  </clipPath>\n",
       "</defs>\n",
       "<polyline clip-path=\"url(#clip182)\" style=\"stroke:#000000; stroke-width:2; stroke-opacity:0.1; fill:none\" points=\"\n",
       "  418.987,1486.45 418.987,123.472 \n",
       "  \"/>\n",
       "<polyline clip-path=\"url(#clip182)\" style=\"stroke:#000000; stroke-width:2; stroke-opacity:0.1; fill:none\" points=\"\n",
       "  809.248,1486.45 809.248,123.472 \n",
       "  \"/>\n",
       "<polyline clip-path=\"url(#clip182)\" style=\"stroke:#000000; stroke-width:2; stroke-opacity:0.1; fill:none\" points=\"\n",
       "  1199.51,1486.45 1199.51,123.472 \n",
       "  \"/>\n",
       "<polyline clip-path=\"url(#clip182)\" style=\"stroke:#000000; stroke-width:2; stroke-opacity:0.1; fill:none\" points=\"\n",
       "  1589.77,1486.45 1589.77,123.472 \n",
       "  \"/>\n",
       "<polyline clip-path=\"url(#clip182)\" style=\"stroke:#000000; stroke-width:2; stroke-opacity:0.1; fill:none\" points=\"\n",
       "  1980.03,1486.45 1980.03,123.472 \n",
       "  \"/>\n",
       "<polyline clip-path=\"url(#clip180)\" style=\"stroke:#000000; stroke-width:4; stroke-opacity:1; fill:none\" points=\"\n",
       "  306.435,1486.45 2352.76,1486.45 \n",
       "  \"/>\n",
       "<polyline clip-path=\"url(#clip180)\" style=\"stroke:#000000; stroke-width:4; stroke-opacity:1; fill:none\" points=\"\n",
       "  418.987,1486.45 418.987,1470.09 \n",
       "  \"/>\n",
       "<polyline clip-path=\"url(#clip180)\" style=\"stroke:#000000; stroke-width:4; stroke-opacity:1; fill:none\" points=\"\n",
       "  809.248,1486.45 809.248,1470.09 \n",
       "  \"/>\n",
       "<polyline clip-path=\"url(#clip180)\" style=\"stroke:#000000; stroke-width:4; stroke-opacity:1; fill:none\" points=\"\n",
       "  1199.51,1486.45 1199.51,1470.09 \n",
       "  \"/>\n",
       "<polyline clip-path=\"url(#clip180)\" style=\"stroke:#000000; stroke-width:4; stroke-opacity:1; fill:none\" points=\"\n",
       "  1589.77,1486.45 1589.77,1470.09 \n",
       "  \"/>\n",
       "<polyline clip-path=\"url(#clip180)\" style=\"stroke:#000000; stroke-width:4; stroke-opacity:1; fill:none\" points=\"\n",
       "  1980.03,1486.45 1980.03,1470.09 \n",
       "  \"/>\n",
       "<path clip-path=\"url(#clip180)\" d=\"M 0 0 M418.987 1515.64 Q415.376 1515.64 413.547 1519.2 Q411.741 1522.75 411.741 1529.87 Q411.741 1536.98 413.547 1540.55 Q415.376 1544.09 418.987 1544.09 Q422.621 1544.09 424.426 1540.55 Q426.255 1536.98 426.255 1529.87 Q426.255 1522.75 424.426 1519.2 Q422.621 1515.64 418.987 1515.64 M418.987 1511.93 Q424.797 1511.93 427.852 1516.54 Q430.931 1521.12 430.931 1529.87 Q430.931 1538.6 427.852 1543.21 Q424.797 1547.79 418.987 1547.79 Q413.177 1547.79 410.098 1543.21 Q407.042 1538.6 407.042 1529.87 Q407.042 1521.12 410.098 1516.54 Q413.177 1511.93 418.987 1511.93 Z\" fill=\"#000000\" fill-rule=\"evenodd\" fill-opacity=\"1\" /><path clip-path=\"url(#clip180)\" d=\"M 0 0 M813.495 1528.49 Q816.852 1529.2 818.727 1531.47 Q820.625 1533.74 820.625 1537.07 Q820.625 1542.19 817.106 1544.99 Q813.588 1547.79 807.106 1547.79 Q804.931 1547.79 802.616 1547.35 Q800.324 1546.93 797.87 1546.08 L797.87 1541.56 Q799.815 1542.7 802.13 1543.28 Q804.444 1543.86 806.968 1543.86 Q811.366 1543.86 813.657 1542.12 Q815.972 1540.38 815.972 1537.07 Q815.972 1534.02 813.819 1532.31 Q811.69 1530.57 807.87 1530.57 L803.843 1530.57 L803.843 1526.73 L808.056 1526.73 Q811.505 1526.73 813.333 1525.36 Q815.162 1523.97 815.162 1521.38 Q815.162 1518.72 813.264 1517.31 Q811.389 1515.87 807.87 1515.87 Q805.949 1515.87 803.75 1516.29 Q801.551 1516.7 798.912 1517.58 L798.912 1513.42 Q801.574 1512.68 803.889 1512.31 Q806.227 1511.93 808.287 1511.93 Q813.611 1511.93 816.713 1514.37 Q819.815 1516.77 819.815 1520.89 Q819.815 1523.76 818.171 1525.75 Q816.528 1527.72 813.495 1528.49 Z\" fill=\"#000000\" fill-rule=\"evenodd\" fill-opacity=\"1\" /><path clip-path=\"url(#clip180)\" d=\"M 0 0 M1199.91 1527.98 Q1196.77 1527.98 1194.91 1530.13 Q1193.09 1532.28 1193.09 1536.03 Q1193.09 1539.76 1194.91 1541.93 Q1196.77 1544.09 1199.91 1544.09 Q1203.06 1544.09 1204.89 1541.93 Q1206.74 1539.76 1206.74 1536.03 Q1206.74 1532.28 1204.89 1530.13 Q1203.06 1527.98 1199.91 1527.98 M1209.2 1513.32 L1209.2 1517.58 Q1207.44 1516.75 1205.63 1516.31 Q1203.85 1515.87 1202.09 1515.87 Q1197.46 1515.87 1195.01 1519 Q1192.58 1522.12 1192.23 1528.44 Q1193.59 1526.43 1195.65 1525.36 Q1197.71 1524.27 1200.19 1524.27 Q1205.4 1524.27 1208.41 1527.44 Q1211.44 1530.59 1211.44 1536.03 Q1211.44 1541.36 1208.29 1544.57 Q1205.15 1547.79 1199.91 1547.79 Q1193.92 1547.79 1190.75 1543.21 Q1187.58 1538.6 1187.58 1529.87 Q1187.58 1521.68 1191.46 1516.82 Q1195.35 1511.93 1201.9 1511.93 Q1203.66 1511.93 1205.45 1512.28 Q1207.25 1512.63 1209.2 1513.32 Z\" fill=\"#000000\" fill-rule=\"evenodd\" fill-opacity=\"1\" /><path clip-path=\"url(#clip180)\" d=\"M 0 0 M1580.07 1546.4 L1580.07 1542.14 Q1581.83 1542.98 1583.64 1543.42 Q1585.44 1543.86 1587.18 1543.86 Q1591.81 1543.86 1594.24 1540.75 Q1596.69 1537.63 1597.04 1531.29 Q1595.7 1533.28 1593.64 1534.34 Q1591.58 1535.41 1589.08 1535.41 Q1583.89 1535.41 1580.86 1532.28 Q1577.85 1529.13 1577.85 1523.69 Q1577.85 1518.37 1581 1515.15 Q1584.14 1511.93 1589.38 1511.93 Q1595.37 1511.93 1598.52 1516.54 Q1601.69 1521.12 1601.69 1529.87 Q1601.69 1538.05 1597.8 1542.93 Q1593.94 1547.79 1587.39 1547.79 Q1585.63 1547.79 1583.82 1547.44 Q1582.02 1547.1 1580.07 1546.4 M1589.38 1531.75 Q1592.52 1531.75 1594.35 1529.6 Q1596.2 1527.44 1596.2 1523.69 Q1596.2 1519.97 1594.35 1517.81 Q1592.52 1515.64 1589.38 1515.64 Q1586.23 1515.64 1584.38 1517.81 Q1582.55 1519.97 1582.55 1523.69 Q1582.55 1527.44 1584.38 1529.6 Q1586.23 1531.75 1589.38 1531.75 Z\" fill=\"#000000\" fill-rule=\"evenodd\" fill-opacity=\"1\" /><path clip-path=\"url(#clip180)\" d=\"M 0 0 M1955.52 1543.18 L1963.16 1543.18 L1963.16 1516.82 L1954.85 1518.49 L1954.85 1514.23 L1963.11 1512.56 L1967.79 1512.56 L1967.79 1543.18 L1975.42 1543.18 L1975.42 1547.12 L1955.52 1547.12 L1955.52 1543.18 Z\" fill=\"#000000\" fill-rule=\"evenodd\" fill-opacity=\"1\" /><path clip-path=\"url(#clip180)\" d=\"M 0 0 M1988.9 1543.18 L2005.22 1543.18 L2005.22 1547.12 L1983.27 1547.12 L1983.27 1543.18 Q1985.93 1540.43 1990.52 1535.8 Q1995.12 1531.15 1996.3 1529.81 Q1998.55 1527.28 1999.43 1525.55 Q2000.33 1523.79 2000.33 1522.1 Q2000.33 1519.34 1998.39 1517.61 Q1996.47 1515.87 1993.36 1515.87 Q1991.16 1515.87 1988.71 1516.63 Q1986.28 1517.4 1983.5 1518.95 L1983.5 1514.23 Q1986.33 1513.09 1988.78 1512.51 Q1991.23 1511.93 1993.27 1511.93 Q1998.64 1511.93 2001.84 1514.62 Q2005.03 1517.31 2005.03 1521.8 Q2005.03 1523.93 2004.22 1525.85 Q2003.43 1527.74 2001.33 1530.34 Q2000.75 1531.01 1997.65 1534.23 Q1994.54 1537.42 1988.9 1543.18 Z\" fill=\"#000000\" fill-rule=\"evenodd\" fill-opacity=\"1\" /><polyline clip-path=\"url(#clip182)\" style=\"stroke:#000000; stroke-width:2; stroke-opacity:0.1; fill:none\" points=\"\n",
       "  306.435,1447.92 2352.76,1447.92 \n",
       "  \"/>\n",
       "<polyline clip-path=\"url(#clip182)\" style=\"stroke:#000000; stroke-width:2; stroke-opacity:0.1; fill:none\" points=\"\n",
       "  306.435,1154.62 2352.76,1154.62 \n",
       "  \"/>\n",
       "<polyline clip-path=\"url(#clip182)\" style=\"stroke:#000000; stroke-width:2; stroke-opacity:0.1; fill:none\" points=\"\n",
       "  306.435,861.314 2352.76,861.314 \n",
       "  \"/>\n",
       "<polyline clip-path=\"url(#clip182)\" style=\"stroke:#000000; stroke-width:2; stroke-opacity:0.1; fill:none\" points=\"\n",
       "  306.435,568.012 2352.76,568.012 \n",
       "  \"/>\n",
       "<polyline clip-path=\"url(#clip182)\" style=\"stroke:#000000; stroke-width:2; stroke-opacity:0.1; fill:none\" points=\"\n",
       "  306.435,274.71 2352.76,274.71 \n",
       "  \"/>\n",
       "<polyline clip-path=\"url(#clip180)\" style=\"stroke:#000000; stroke-width:4; stroke-opacity:1; fill:none\" points=\"\n",
       "  306.435,1486.45 306.435,123.472 \n",
       "  \"/>\n",
       "<polyline clip-path=\"url(#clip180)\" style=\"stroke:#000000; stroke-width:4; stroke-opacity:1; fill:none\" points=\"\n",
       "  306.435,1447.92 330.991,1447.92 \n",
       "  \"/>\n",
       "<polyline clip-path=\"url(#clip180)\" style=\"stroke:#000000; stroke-width:4; stroke-opacity:1; fill:none\" points=\"\n",
       "  306.435,1154.62 330.991,1154.62 \n",
       "  \"/>\n",
       "<polyline clip-path=\"url(#clip180)\" style=\"stroke:#000000; stroke-width:4; stroke-opacity:1; fill:none\" points=\"\n",
       "  306.435,861.314 330.991,861.314 \n",
       "  \"/>\n",
       "<polyline clip-path=\"url(#clip180)\" style=\"stroke:#000000; stroke-width:4; stroke-opacity:1; fill:none\" points=\"\n",
       "  306.435,568.012 330.991,568.012 \n",
       "  \"/>\n",
       "<polyline clip-path=\"url(#clip180)\" style=\"stroke:#000000; stroke-width:4; stroke-opacity:1; fill:none\" points=\"\n",
       "  306.435,274.71 330.991,274.71 \n",
       "  \"/>\n",
       "<path clip-path=\"url(#clip180)\" d=\"M 0 0 M258.491 1433.72 Q254.88 1433.72 253.051 1437.28 Q251.246 1440.82 251.246 1447.95 Q251.246 1455.06 253.051 1458.62 Q254.88 1462.16 258.491 1462.16 Q262.125 1462.16 263.931 1458.62 Q265.759 1455.06 265.759 1447.95 Q265.759 1440.82 263.931 1437.28 Q262.125 1433.72 258.491 1433.72 M258.491 1430.01 Q264.301 1430.01 267.357 1434.62 Q270.435 1439.2 270.435 1447.95 Q270.435 1456.68 267.357 1461.28 Q264.301 1465.87 258.491 1465.87 Q252.681 1465.87 249.602 1461.28 Q246.547 1456.68 246.547 1447.95 Q246.547 1439.2 249.602 1434.62 Q252.681 1430.01 258.491 1430.01 Z\" fill=\"#000000\" fill-rule=\"evenodd\" fill-opacity=\"1\" /><path clip-path=\"url(#clip180)\" d=\"M 0 0 M54.6105 1143.78 L72.9668 1143.78 L72.9668 1147.72 L58.8928 1147.72 L58.8928 1156.19 Q59.9113 1155.84 60.9299 1155.68 Q61.9484 1155.5 62.9669 1155.5 Q68.7539 1155.5 72.1335 1158.67 Q75.5131 1161.84 75.5131 1167.25 Q75.5131 1172.83 72.0409 1175.94 Q68.5687 1179.01 62.2493 1179.01 Q60.0734 1179.01 57.8049 1178.64 Q55.5595 1178.27 53.1521 1177.53 L53.1521 1172.83 Q55.2354 1173.97 57.4577 1174.52 Q59.6799 1175.08 62.1567 1175.08 Q66.1613 1175.08 68.4993 1172.97 Q70.8372 1170.87 70.8372 1167.25 Q70.8372 1163.64 68.4993 1161.54 Q66.1613 1159.43 62.1567 1159.43 Q60.2817 1159.43 58.4067 1159.85 Q56.5549 1160.26 54.6105 1161.14 L54.6105 1143.78 Z\" fill=\"#000000\" fill-rule=\"evenodd\" fill-opacity=\"1\" /><path clip-path=\"url(#clip180)\" d=\"M 0 0 M84.726 1172.46 L89.6103 1172.46 L89.6103 1178.34 L84.726 1178.34 L84.726 1172.46 Z\" fill=\"#000000\" fill-rule=\"evenodd\" fill-opacity=\"1\" /><path clip-path=\"url(#clip180)\" d=\"M 0 0 M109.795 1146.86 Q106.184 1146.86 104.356 1150.43 Q102.55 1153.97 102.55 1161.1 Q102.55 1168.2 104.356 1171.77 Q106.184 1175.31 109.795 1175.31 Q113.43 1175.31 115.235 1171.77 Q117.064 1168.2 117.064 1161.1 Q117.064 1153.97 115.235 1150.43 Q113.43 1146.86 109.795 1146.86 M109.795 1143.16 Q115.605 1143.16 118.661 1147.76 Q121.74 1152.35 121.74 1161.1 Q121.74 1169.82 118.661 1174.43 Q115.605 1179.01 109.795 1179.01 Q103.985 1179.01 100.906 1174.43 Q97.851 1169.82 97.851 1161.1 Q97.851 1152.35 100.906 1147.76 Q103.985 1143.16 109.795 1143.16 Z\" fill=\"#000000\" fill-rule=\"evenodd\" fill-opacity=\"1\" /><path clip-path=\"url(#clip180)\" d=\"M 0 0 M139.957 1146.86 Q136.346 1146.86 134.517 1150.43 Q132.712 1153.97 132.712 1161.1 Q132.712 1168.2 134.517 1171.77 Q136.346 1175.31 139.957 1175.31 Q143.591 1175.31 145.397 1171.77 Q147.226 1168.2 147.226 1161.1 Q147.226 1153.97 145.397 1150.43 Q143.591 1146.86 139.957 1146.86 M139.957 1143.16 Q145.767 1143.16 148.823 1147.76 Q151.902 1152.35 151.902 1161.1 Q151.902 1169.82 148.823 1174.43 Q145.767 1179.01 139.957 1179.01 Q134.147 1179.01 131.068 1174.43 Q128.013 1169.82 128.013 1161.1 Q128.013 1152.35 131.068 1147.76 Q134.147 1143.16 139.957 1143.16 Z\" fill=\"#000000\" fill-rule=\"evenodd\" fill-opacity=\"1\" /><path clip-path=\"url(#clip180)\" d=\"M 0 0 M188.29 1152.88 L177.712 1163.5 L188.29 1174.08 L185.536 1176.88 L174.911 1166.26 L164.286 1176.88 L161.554 1174.08 L172.11 1163.5 L161.554 1152.88 L164.286 1150.08 L174.911 1160.7 L185.536 1150.08 L188.29 1152.88 Z\" fill=\"#000000\" fill-rule=\"evenodd\" fill-opacity=\"1\" /><path clip-path=\"url(#clip180)\" d=\"M 0 0 M200.651 1174.41 L208.29 1174.41 L208.29 1148.04 L199.98 1149.71 L199.98 1145.45 L208.244 1143.78 L212.92 1143.78 L212.92 1174.41 L220.559 1174.41 L220.559 1178.34 L200.651 1178.34 L200.651 1174.41 Z\" fill=\"#000000\" fill-rule=\"evenodd\" fill-opacity=\"1\" /><path clip-path=\"url(#clip180)\" d=\"M 0 0 M240.003 1146.86 Q236.392 1146.86 234.563 1150.43 Q232.758 1153.97 232.758 1161.1 Q232.758 1168.2 234.563 1171.77 Q236.392 1175.31 240.003 1175.31 Q243.637 1175.31 245.443 1171.77 Q247.271 1168.2 247.271 1161.1 Q247.271 1153.97 245.443 1150.43 Q243.637 1146.86 240.003 1146.86 M240.003 1143.16 Q245.813 1143.16 248.869 1147.76 Q251.947 1152.35 251.947 1161.1 Q251.947 1169.82 248.869 1174.43 Q245.813 1179.01 240.003 1179.01 Q234.193 1179.01 231.114 1174.43 Q228.059 1169.82 228.059 1161.1 Q228.059 1152.35 231.114 1147.76 Q234.193 1143.16 240.003 1143.16 Z\" fill=\"#000000\" fill-rule=\"evenodd\" fill-opacity=\"1\" /><path clip-path=\"url(#clip180)\" d=\"M 0 0 M264.643 1135.79 Q267.37 1136.38 268.893 1138.22 Q270.435 1140.06 270.435 1142.77 Q270.435 1146.93 267.577 1149.2 Q264.718 1151.48 259.452 1151.48 Q257.684 1151.48 255.803 1151.12 Q253.941 1150.78 251.947 1150.09 L251.947 1146.42 Q253.527 1147.34 255.408 1147.81 Q257.289 1148.28 259.339 1148.28 Q262.912 1148.28 264.774 1146.87 Q266.655 1145.46 266.655 1142.77 Q266.655 1140.29 264.906 1138.9 Q263.176 1137.48 260.072 1137.48 L256.8 1137.48 L256.8 1134.36 L260.223 1134.36 Q263.025 1134.36 264.511 1133.25 Q265.997 1132.12 265.997 1130.02 Q265.997 1127.86 264.455 1126.71 Q262.931 1125.54 260.072 1125.54 Q258.511 1125.54 256.725 1125.88 Q254.938 1126.22 252.794 1126.93 L252.794 1123.55 Q254.957 1122.95 256.837 1122.65 Q258.737 1122.34 260.411 1122.34 Q264.737 1122.34 267.257 1124.32 Q269.777 1126.28 269.777 1129.62 Q269.777 1131.96 268.442 1133.57 Q267.106 1135.17 264.643 1135.79 Z\" fill=\"#000000\" fill-rule=\"evenodd\" fill-opacity=\"1\" /><path clip-path=\"url(#clip180)\" d=\"M 0 0 M53.3995 881.106 L61.0384 881.106 L61.0384 854.74 L52.7282 856.407 L52.7282 852.148 L60.9921 850.481 L65.668 850.481 L65.668 881.106 L73.3068 881.106 L73.3068 885.041 L53.3995 885.041 L53.3995 881.106 Z\" fill=\"#000000\" fill-rule=\"evenodd\" fill-opacity=\"1\" /><path clip-path=\"url(#clip180)\" d=\"M 0 0 M82.7512 879.162 L87.6354 879.162 L87.6354 885.041 L82.7512 885.041 L82.7512 879.162 Z\" fill=\"#000000\" fill-rule=\"evenodd\" fill-opacity=\"1\" /><path clip-path=\"url(#clip180)\" d=\"M 0 0 M107.821 853.56 Q104.209 853.56 102.381 857.125 Q100.575 860.666 100.575 867.796 Q100.575 874.902 102.381 878.467 Q104.209 882.009 107.821 882.009 Q111.455 882.009 113.26 878.467 Q115.089 874.902 115.089 867.796 Q115.089 860.666 113.26 857.125 Q111.455 853.56 107.821 853.56 M107.821 849.856 Q113.631 849.856 116.686 854.463 Q119.765 859.046 119.765 867.796 Q119.765 876.523 116.686 881.129 Q113.631 885.712 107.821 885.712 Q102.01 885.712 98.9317 881.129 Q95.8761 876.523 95.8761 867.796 Q95.8761 859.046 98.9317 854.463 Q102.01 849.856 107.821 849.856 Z\" fill=\"#000000\" fill-rule=\"evenodd\" fill-opacity=\"1\" /><path clip-path=\"url(#clip180)\" d=\"M 0 0 M137.982 853.56 Q134.371 853.56 132.543 857.125 Q130.737 860.666 130.737 867.796 Q130.737 874.902 132.543 878.467 Q134.371 882.009 137.982 882.009 Q141.617 882.009 143.422 878.467 Q145.251 874.902 145.251 867.796 Q145.251 860.666 143.422 857.125 Q141.617 853.56 137.982 853.56 M137.982 849.856 Q143.793 849.856 146.848 854.463 Q149.927 859.046 149.927 867.796 Q149.927 876.523 146.848 881.129 Q143.793 885.712 137.982 885.712 Q132.172 885.712 129.094 881.129 Q126.038 876.523 126.038 867.796 Q126.038 859.046 129.094 854.463 Q132.172 849.856 137.982 849.856 Z\" fill=\"#000000\" fill-rule=\"evenodd\" fill-opacity=\"1\" /><path clip-path=\"url(#clip180)\" d=\"M 0 0 M186.315 859.578 L175.737 870.203 L186.315 880.782 L183.561 883.583 L172.936 872.958 L162.311 883.583 L159.58 880.782 L170.135 870.203 L159.58 859.578 L162.311 856.777 L172.936 867.402 L183.561 856.777 L186.315 859.578 Z\" fill=\"#000000\" fill-rule=\"evenodd\" fill-opacity=\"1\" /><path clip-path=\"url(#clip180)\" d=\"M 0 0 M198.677 881.106 L206.315 881.106 L206.315 854.74 L198.005 856.407 L198.005 852.148 L206.269 850.481 L210.945 850.481 L210.945 881.106 L218.584 881.106 L218.584 885.041 L198.677 885.041 L198.677 881.106 Z\" fill=\"#000000\" fill-rule=\"evenodd\" fill-opacity=\"1\" /><path clip-path=\"url(#clip180)\" d=\"M 0 0 M238.028 853.56 Q234.417 853.56 232.588 857.125 Q230.783 860.666 230.783 867.796 Q230.783 874.902 232.588 878.467 Q234.417 882.009 238.028 882.009 Q241.662 882.009 243.468 878.467 Q245.297 874.902 245.297 867.796 Q245.297 860.666 243.468 857.125 Q241.662 853.56 238.028 853.56 M238.028 849.856 Q243.838 849.856 246.894 854.463 Q249.973 859.046 249.973 867.796 Q249.973 876.523 246.894 881.129 Q243.838 885.712 238.028 885.712 Q232.218 885.712 229.139 881.129 Q226.084 876.523 226.084 867.796 Q226.084 859.046 229.139 854.463 Q232.218 849.856 238.028 849.856 Z\" fill=\"#000000\" fill-rule=\"evenodd\" fill-opacity=\"1\" /><path clip-path=\"url(#clip180)\" d=\"M 0 0 M262.649 832.861 L253.057 847.851 L262.649 847.851 L262.649 832.861 M261.652 829.551 L266.429 829.551 L266.429 847.851 L270.435 847.851 L270.435 851.01 L266.429 851.01 L266.429 857.631 L262.649 857.631 L262.649 851.01 L249.973 851.01 L249.973 847.343 L261.652 829.551 Z\" fill=\"#000000\" fill-rule=\"evenodd\" fill-opacity=\"1\" /><path clip-path=\"url(#clip180)\" d=\"M 0 0 M53.3995 587.804 L61.0384 587.804 L61.0384 561.439 L52.7282 563.105 L52.7282 558.846 L60.9921 557.18 L65.668 557.18 L65.668 587.804 L73.3068 587.804 L73.3068 591.74 L53.3995 591.74 L53.3995 587.804 Z\" fill=\"#000000\" fill-rule=\"evenodd\" fill-opacity=\"1\" /><path clip-path=\"url(#clip180)\" d=\"M 0 0 M82.7512 585.86 L87.6354 585.86 L87.6354 591.74 L82.7512 591.74 L82.7512 585.86 Z\" fill=\"#000000\" fill-rule=\"evenodd\" fill-opacity=\"1\" /><path clip-path=\"url(#clip180)\" d=\"M 0 0 M97.8669 557.18 L116.223 557.18 L116.223 561.115 L102.149 561.115 L102.149 569.587 Q103.168 569.24 104.186 569.078 Q105.205 568.892 106.223 568.892 Q112.01 568.892 115.39 572.064 Q118.77 575.235 118.77 580.652 Q118.77 586.23 115.297 589.332 Q111.825 592.411 105.506 592.411 Q103.33 592.411 101.061 592.04 Q98.8159 591.67 96.4085 590.929 L96.4085 586.23 Q98.4919 587.365 100.714 587.92 Q102.936 588.476 105.413 588.476 Q109.418 588.476 111.756 586.369 Q114.094 584.263 114.094 580.652 Q114.094 577.041 111.756 574.934 Q109.418 572.828 105.413 572.828 Q103.538 572.828 101.663 573.244 Q99.8113 573.661 97.8669 574.541 L97.8669 557.18 Z\" fill=\"#000000\" fill-rule=\"evenodd\" fill-opacity=\"1\" /><path clip-path=\"url(#clip180)\" d=\"M 0 0 M137.982 560.258 Q134.371 560.258 132.543 563.823 Q130.737 567.365 130.737 574.494 Q130.737 581.601 132.543 585.165 Q134.371 588.707 137.982 588.707 Q141.617 588.707 143.422 585.165 Q145.251 581.601 145.251 574.494 Q145.251 567.365 143.422 563.823 Q141.617 560.258 137.982 560.258 M137.982 556.555 Q143.793 556.555 146.848 561.161 Q149.927 565.744 149.927 574.494 Q149.927 583.221 146.848 587.828 Q143.793 592.411 137.982 592.411 Q132.172 592.411 129.094 587.828 Q126.038 583.221 126.038 574.494 Q126.038 565.744 129.094 561.161 Q132.172 556.555 137.982 556.555 Z\" fill=\"#000000\" fill-rule=\"evenodd\" fill-opacity=\"1\" /><path clip-path=\"url(#clip180)\" d=\"M 0 0 M186.315 566.277 L175.737 576.902 L186.315 587.48 L183.561 590.281 L172.936 579.656 L162.311 590.281 L159.58 587.48 L170.135 576.902 L159.58 566.277 L162.311 563.476 L172.936 574.101 L183.561 563.476 L186.315 566.277 Z\" fill=\"#000000\" fill-rule=\"evenodd\" fill-opacity=\"1\" /><path clip-path=\"url(#clip180)\" d=\"M 0 0 M198.677 587.804 L206.315 587.804 L206.315 561.439 L198.005 563.105 L198.005 558.846 L206.269 557.18 L210.945 557.18 L210.945 587.804 L218.584 587.804 L218.584 591.74 L198.677 591.74 L198.677 587.804 Z\" fill=\"#000000\" fill-rule=\"evenodd\" fill-opacity=\"1\" /><path clip-path=\"url(#clip180)\" d=\"M 0 0 M238.028 560.258 Q234.417 560.258 232.588 563.823 Q230.783 567.365 230.783 574.494 Q230.783 581.601 232.588 585.165 Q234.417 588.707 238.028 588.707 Q241.662 588.707 243.468 585.165 Q245.297 581.601 245.297 574.494 Q245.297 567.365 243.468 563.823 Q241.662 560.258 238.028 560.258 M238.028 556.555 Q243.838 556.555 246.894 561.161 Q249.973 565.744 249.973 574.494 Q249.973 583.221 246.894 587.828 Q243.838 592.411 238.028 592.411 Q232.218 592.411 229.139 587.828 Q226.084 583.221 226.084 574.494 Q226.084 565.744 229.139 561.161 Q232.218 556.555 238.028 556.555 Z\" fill=\"#000000\" fill-rule=\"evenodd\" fill-opacity=\"1\" /><path clip-path=\"url(#clip180)\" d=\"M 0 0 M262.649 539.559 L253.057 554.549 L262.649 554.549 L262.649 539.559 M261.652 536.249 L266.429 536.249 L266.429 554.549 L270.435 554.549 L270.435 557.709 L266.429 557.709 L266.429 564.329 L262.649 564.329 L262.649 557.709 L249.973 557.709 L249.973 554.041 L261.652 536.249 Z\" fill=\"#000000\" fill-rule=\"evenodd\" fill-opacity=\"1\" /><path clip-path=\"url(#clip180)\" d=\"M 0 0 M56.6171 294.503 L72.9365 294.503 L72.9365 298.438 L50.9921 298.438 L50.9921 294.503 Q53.6541 291.748 58.2375 287.118 Q62.8439 282.466 64.0245 281.123 Q66.2698 278.6 67.1494 276.864 Q68.0522 275.105 68.0522 273.415 Q68.0522 270.66 66.1078 268.924 Q64.1865 267.188 61.0847 267.188 Q58.8856 267.188 56.4319 267.952 Q54.0014 268.716 51.2236 270.267 L51.2236 265.545 Q54.0477 264.41 56.5014 263.832 Q58.955 263.253 60.9921 263.253 Q66.3624 263.253 69.5568 265.938 Q72.7513 268.623 72.7513 273.114 Q72.7513 275.244 71.9411 277.165 Q71.1541 279.063 69.0476 281.656 Q68.4689 282.327 65.367 285.544 Q62.2652 288.739 56.6171 294.503 Z\" fill=\"#000000\" fill-rule=\"evenodd\" fill-opacity=\"1\" /><path clip-path=\"url(#clip180)\" d=\"M 0 0 M82.7512 292.558 L87.6354 292.558 L87.6354 298.438 L82.7512 298.438 L82.7512 292.558 Z\" fill=\"#000000\" fill-rule=\"evenodd\" fill-opacity=\"1\" /><path clip-path=\"url(#clip180)\" d=\"M 0 0 M107.821 266.957 Q104.209 266.957 102.381 270.521 Q100.575 274.063 100.575 281.193 Q100.575 288.299 102.381 291.864 Q104.209 295.405 107.821 295.405 Q111.455 295.405 113.26 291.864 Q115.089 288.299 115.089 281.193 Q115.089 274.063 113.26 270.521 Q111.455 266.957 107.821 266.957 M107.821 263.253 Q113.631 263.253 116.686 267.859 Q119.765 272.443 119.765 281.193 Q119.765 289.919 116.686 294.526 Q113.631 299.109 107.821 299.109 Q102.01 299.109 98.9317 294.526 Q95.8761 289.919 95.8761 281.193 Q95.8761 272.443 98.9317 267.859 Q102.01 263.253 107.821 263.253 Z\" fill=\"#000000\" fill-rule=\"evenodd\" fill-opacity=\"1\" /><path clip-path=\"url(#clip180)\" d=\"M 0 0 M137.982 266.957 Q134.371 266.957 132.543 270.521 Q130.737 274.063 130.737 281.193 Q130.737 288.299 132.543 291.864 Q134.371 295.405 137.982 295.405 Q141.617 295.405 143.422 291.864 Q145.251 288.299 145.251 281.193 Q145.251 274.063 143.422 270.521 Q141.617 266.957 137.982 266.957 M137.982 263.253 Q143.793 263.253 146.848 267.859 Q149.927 272.443 149.927 281.193 Q149.927 289.919 146.848 294.526 Q143.793 299.109 137.982 299.109 Q132.172 299.109 129.094 294.526 Q126.038 289.919 126.038 281.193 Q126.038 272.443 129.094 267.859 Q132.172 263.253 137.982 263.253 Z\" fill=\"#000000\" fill-rule=\"evenodd\" fill-opacity=\"1\" /><path clip-path=\"url(#clip180)\" d=\"M 0 0 M186.315 272.975 L175.737 283.6 L186.315 294.179 L183.561 296.98 L172.936 286.355 L162.311 296.98 L159.58 294.179 L170.135 283.6 L159.58 272.975 L162.311 270.174 L172.936 280.799 L183.561 270.174 L186.315 272.975 Z\" fill=\"#000000\" fill-rule=\"evenodd\" fill-opacity=\"1\" /><path clip-path=\"url(#clip180)\" d=\"M 0 0 M198.677 294.503 L206.315 294.503 L206.315 268.137 L198.005 269.804 L198.005 265.545 L206.269 263.878 L210.945 263.878 L210.945 294.503 L218.584 294.503 L218.584 298.438 L198.677 298.438 L198.677 294.503 Z\" fill=\"#000000\" fill-rule=\"evenodd\" fill-opacity=\"1\" /><path clip-path=\"url(#clip180)\" d=\"M 0 0 M238.028 266.957 Q234.417 266.957 232.588 270.521 Q230.783 274.063 230.783 281.193 Q230.783 288.299 232.588 291.864 Q234.417 295.405 238.028 295.405 Q241.662 295.405 243.468 291.864 Q245.297 288.299 245.297 281.193 Q245.297 274.063 243.468 270.521 Q241.662 266.957 238.028 266.957 M238.028 263.253 Q243.838 263.253 246.894 267.859 Q249.973 272.443 249.973 281.193 Q249.973 289.919 246.894 294.526 Q243.838 299.109 238.028 299.109 Q232.218 299.109 229.139 294.526 Q226.084 289.919 226.084 281.193 Q226.084 272.443 229.139 267.859 Q232.218 263.253 238.028 263.253 Z\" fill=\"#000000\" fill-rule=\"evenodd\" fill-opacity=\"1\" /><path clip-path=\"url(#clip180)\" d=\"M 0 0 M262.649 246.258 L253.057 261.247 L262.649 261.247 L262.649 246.258 M261.652 242.947 L266.429 242.947 L266.429 261.247 L270.435 261.247 L270.435 264.407 L266.429 264.407 L266.429 271.027 L262.649 271.027 L262.649 264.407 L249.973 264.407 L249.973 260.74 L261.652 242.947 Z\" fill=\"#000000\" fill-rule=\"evenodd\" fill-opacity=\"1\" /><path clip-path=\"url(#clip180)\" d=\"M 0 0 M923.493 12.096 L935.686 12.096 L951.12 53.2532 L966.635 12.096 L978.828 12.096 L978.828 72.576 L970.848 72.576 L970.848 19.4686 L955.252 60.9499 L947.028 60.9499 L931.432 19.4686 L931.432 72.576 L923.493 72.576 L923.493 12.096 Z\" fill=\"#000000\" fill-rule=\"evenodd\" fill-opacity=\"1\" /><path clip-path=\"url(#clip180)\" d=\"M 0 0 M1004.11 6.22219 L1012.17 6.22219 L998.961 21.4536 L992.763 21.4536 L1004.11 6.22219 M994.748 27.2059 L1002.2 27.2059 L1002.2 72.576 L994.748 72.576 L994.748 27.2059 M998.475 26.1121 L998.475 26.1121 Z\" fill=\"#000000\" fill-rule=\"evenodd\" fill-opacity=\"1\" /><path clip-path=\"url(#clip180)\" d=\"M 0 0 M1055.51 45.1919 L1055.51 72.576 L1048.06 72.576 L1048.06 45.4349 Q1048.06 38.994 1045.55 35.7938 Q1043.03 32.5936 1038.01 32.5936 Q1031.98 32.5936 1028.49 36.4419 Q1025.01 40.2903 1025.01 46.9338 L1025.01 72.576 L1017.51 72.576 L1017.51 27.2059 L1025.01 27.2059 L1025.01 34.2544 Q1027.68 30.163 1031.29 28.1376 Q1034.93 26.1121 1039.67 26.1121 Q1047.49 26.1121 1051.5 30.9732 Q1055.51 35.7938 1055.51 45.1919 Z\" fill=\"#000000\" fill-rule=\"evenodd\" fill-opacity=\"1\" /><path clip-path=\"url(#clip180)\" d=\"M 0 0 M1070.38 27.2059 L1077.83 27.2059 L1077.83 72.576 L1070.38 72.576 L1070.38 27.2059 M1070.38 9.54393 L1077.83 9.54393 L1077.83 18.9825 L1070.38 18.9825 L1070.38 9.54393 Z\" fill=\"#000000\" fill-rule=\"evenodd\" fill-opacity=\"1\" /><path clip-path=\"url(#clip180)\" d=\"M 0 0 M1128.75 35.9153 Q1131.55 30.8922 1135.44 28.5022 Q1139.32 26.1121 1144.59 26.1121 Q1151.68 26.1121 1155.53 31.0947 Q1159.38 36.0368 1159.38 45.1919 L1159.38 72.576 L1151.88 72.576 L1151.88 45.4349 Q1151.88 38.913 1149.57 35.7533 Q1147.26 32.5936 1142.52 32.5936 Q1136.73 32.5936 1133.37 36.4419 Q1130.01 40.2903 1130.01 46.9338 L1130.01 72.576 L1122.51 72.576 L1122.51 45.4349 Q1122.51 38.8725 1120.2 35.7533 Q1117.9 32.5936 1113.07 32.5936 Q1107.36 32.5936 1104 36.4824 Q1100.64 40.3308 1100.64 46.9338 L1100.64 72.576 L1093.14 72.576 L1093.14 27.2059 L1100.64 27.2059 L1100.64 34.2544 Q1103.19 30.082 1106.76 28.0971 Q1110.32 26.1121 1115.22 26.1121 Q1120.16 26.1121 1123.61 28.6237 Q1127.09 31.1352 1128.75 35.9153 Z\" fill=\"#000000\" fill-rule=\"evenodd\" fill-opacity=\"1\" /><path clip-path=\"url(#clip180)\" d=\"M 0 0 M1191.82 32.4315 Q1185.83 32.4315 1182.35 37.1306 Q1178.86 41.7891 1178.86 49.9314 Q1178.86 58.0738 1182.3 62.7728 Q1185.79 67.4314 1191.82 67.4314 Q1197.78 67.4314 1201.26 62.7323 Q1204.75 58.0333 1204.75 49.9314 Q1204.75 41.8701 1201.26 37.1711 Q1197.78 32.4315 1191.82 32.4315 M1191.82 26.1121 Q1201.55 26.1121 1207.1 32.4315 Q1212.65 38.7509 1212.65 49.9314 Q1212.65 61.0714 1207.1 67.4314 Q1201.55 73.7508 1191.82 73.7508 Q1182.06 73.7508 1176.51 67.4314 Q1171 61.0714 1171 49.9314 Q1171 38.7509 1176.51 32.4315 Q1182.06 26.1121 1191.82 26.1121 Z\" fill=\"#000000\" fill-rule=\"evenodd\" fill-opacity=\"1\" /><path clip-path=\"url(#clip180)\" d=\"M 0 0 M1253.92 28.5427 L1253.92 35.5912 Q1250.77 33.9709 1247.36 33.1607 Q1243.96 32.3505 1240.31 32.3505 Q1234.76 32.3505 1231.97 34.0519 Q1229.21 35.7533 1229.21 39.156 Q1229.21 41.7486 1231.2 43.2475 Q1233.18 44.7058 1239.18 46.0426 L1241.73 46.6097 Q1249.67 48.3111 1252.99 51.4303 Q1256.36 54.509 1256.36 60.0587 Q1256.36 66.3781 1251.33 70.0644 Q1246.35 73.7508 1237.6 73.7508 Q1233.95 73.7508 1229.98 73.0216 Q1226.05 72.3329 1221.68 70.9151 L1221.68 63.2184 Q1225.81 65.3654 1229.82 66.4591 Q1233.83 67.5124 1237.76 67.5124 Q1243.03 67.5124 1245.86 65.73 Q1248.7 63.9071 1248.7 60.6258 Q1248.7 57.5877 1246.63 55.9673 Q1244.61 54.3469 1237.68 52.8481 L1235.09 52.2405 Q1228.16 50.7821 1225.08 47.7845 Q1222 44.7463 1222 39.4801 Q1222 33.0797 1226.54 29.5959 Q1231.08 26.1121 1239.42 26.1121 Q1243.55 26.1121 1247.2 26.7198 Q1250.85 27.3274 1253.92 28.5427 Z\" fill=\"#000000\" fill-rule=\"evenodd\" fill-opacity=\"1\" /><path clip-path=\"url(#clip180)\" d=\"M 0 0 M1319.47 17.6457 Q1310.56 17.6457 1305.29 24.2892 Q1300.06 30.9327 1300.06 42.3968 Q1300.06 53.8203 1305.29 60.4638 Q1310.56 67.1073 1319.47 67.1073 Q1328.38 67.1073 1333.57 60.4638 Q1338.79 53.8203 1338.79 42.3968 Q1338.79 30.9327 1333.57 24.2892 Q1328.38 17.6457 1319.47 17.6457 M1330.93 71.4823 L1341.71 83.2704 L1331.82 83.2704 L1322.87 73.5887 Q1321.53 73.6697 1320.81 73.7103 Q1320.12 73.7508 1319.47 73.7508 Q1306.71 73.7508 1299.05 65.2439 Q1291.44 56.6965 1291.44 42.3968 Q1291.44 28.0566 1299.05 19.5497 Q1306.71 11.0023 1319.47 11.0023 Q1332.19 11.0023 1339.8 19.5497 Q1347.42 28.0566 1347.42 42.3968 Q1347.42 52.9291 1343.17 60.4233 Q1338.95 67.9175 1330.93 71.4823 Z\" fill=\"#000000\" fill-rule=\"evenodd\" fill-opacity=\"1\" /><path clip-path=\"url(#clip180)\" d=\"M 0 0 M1359.13 54.671 L1359.13 27.2059 L1366.58 27.2059 L1366.58 54.3874 Q1366.58 60.8284 1369.09 64.0691 Q1371.6 67.2693 1376.63 67.2693 Q1382.66 67.2693 1386.15 63.421 Q1389.67 59.5726 1389.67 52.9291 L1389.67 27.2059 L1397.12 27.2059 L1397.12 72.576 L1389.67 72.576 L1389.67 65.6084 Q1386.96 69.7404 1383.35 71.7658 Q1379.79 73.7508 1375.05 73.7508 Q1367.23 73.7508 1363.18 68.8897 Q1359.13 64.0286 1359.13 54.671 M1377.88 26.1121 L1377.88 26.1121 Z\" fill=\"#000000\" fill-rule=\"evenodd\" fill-opacity=\"1\" /><path clip-path=\"url(#clip180)\" d=\"M 0 0 M1433.1 49.7694 Q1424.06 49.7694 1420.58 51.8354 Q1417.1 53.9013 1417.1 58.8839 Q1417.1 62.8538 1419.69 65.2034 Q1422.32 67.5124 1426.82 67.5124 Q1433.02 67.5124 1436.74 63.1374 Q1440.51 58.7219 1440.51 51.4303 L1440.51 49.7694 L1433.1 49.7694 M1447.96 46.6907 L1447.96 72.576 L1440.51 72.576 L1440.51 65.6895 Q1437.96 69.8214 1434.15 71.8063 Q1430.34 73.7508 1424.83 73.7508 Q1417.86 73.7508 1413.73 69.8619 Q1409.64 65.9325 1409.64 59.3701 Q1409.64 51.7138 1414.75 47.825 Q1419.89 43.9361 1430.06 43.9361 L1440.51 43.9361 L1440.51 43.2069 Q1440.51 38.0623 1437.11 35.2672 Q1433.74 32.4315 1427.63 32.4315 Q1423.74 32.4315 1420.05 33.3632 Q1416.37 34.295 1412.96 36.1584 L1412.96 29.2718 Q1417.05 27.692 1420.9 26.9223 Q1424.75 26.1121 1428.4 26.1121 Q1438.24 26.1121 1443.1 31.2163 Q1447.96 36.3204 1447.96 46.6907 Z\" fill=\"#000000\" fill-rule=\"evenodd\" fill-opacity=\"1\" /><path clip-path=\"url(#clip180)\" d=\"M 0 0 M1493.17 34.0924 L1493.17 9.54393 L1500.62 9.54393 L1500.62 72.576 L1493.17 72.576 L1493.17 65.7705 Q1490.82 69.8214 1487.22 71.8063 Q1483.65 73.7508 1478.63 73.7508 Q1470.41 73.7508 1465.22 67.1883 Q1460.08 60.6258 1460.08 49.9314 Q1460.08 39.2371 1465.22 32.6746 Q1470.41 26.1121 1478.63 26.1121 Q1483.65 26.1121 1487.22 28.0971 Q1490.82 30.0415 1493.17 34.0924 M1467.77 49.9314 Q1467.77 58.1548 1471.13 62.8538 Q1474.54 67.5124 1480.45 67.5124 Q1486.37 67.5124 1489.77 62.8538 Q1493.17 58.1548 1493.17 49.9314 Q1493.17 41.7081 1489.77 37.0496 Q1486.37 32.3505 1480.45 32.3505 Q1474.54 32.3505 1471.13 37.0496 Q1467.77 41.7081 1467.77 49.9314 Z\" fill=\"#000000\" fill-rule=\"evenodd\" fill-opacity=\"1\" /><path clip-path=\"url(#clip180)\" d=\"M 0 0 M1542.27 34.1734 Q1541.01 33.4443 1539.51 33.1202 Q1538.06 32.7556 1536.27 32.7556 Q1529.95 32.7556 1526.55 36.8875 Q1523.19 40.9789 1523.19 48.6757 L1523.19 72.576 L1515.69 72.576 L1515.69 27.2059 L1523.19 27.2059 L1523.19 34.2544 Q1525.54 30.1225 1529.31 28.1376 Q1533.07 26.1121 1538.46 26.1121 Q1539.23 26.1121 1540.16 26.2337 Q1541.09 26.3147 1542.23 26.5172 L1542.27 34.1734 Z\" fill=\"#000000\" fill-rule=\"evenodd\" fill-opacity=\"1\" /><path clip-path=\"url(#clip180)\" d=\"M 0 0 M1570.71 49.7694 Q1561.67 49.7694 1558.19 51.8354 Q1554.7 53.9013 1554.7 58.8839 Q1554.7 62.8538 1557.3 65.2034 Q1559.93 67.5124 1564.43 67.5124 Q1570.62 67.5124 1574.35 63.1374 Q1578.12 58.7219 1578.12 51.4303 L1578.12 49.7694 L1570.71 49.7694 M1585.57 46.6907 L1585.57 72.576 L1578.12 72.576 L1578.12 65.6895 Q1575.57 69.8214 1571.76 71.8063 Q1567.95 73.7508 1562.44 73.7508 Q1555.47 73.7508 1551.34 69.8619 Q1547.25 65.9325 1547.25 59.3701 Q1547.25 51.7138 1552.35 47.825 Q1557.5 43.9361 1567.67 43.9361 L1578.12 43.9361 L1578.12 43.2069 Q1578.12 38.0623 1574.72 35.2672 Q1571.35 32.4315 1565.24 32.4315 Q1561.35 32.4315 1557.66 33.3632 Q1553.98 34.295 1550.57 36.1584 L1550.57 29.2718 Q1554.66 27.692 1558.51 26.9223 Q1562.36 26.1121 1566.01 26.1121 Q1575.85 26.1121 1580.71 31.2163 Q1585.57 36.3204 1585.57 46.6907 Z\" fill=\"#000000\" fill-rule=\"evenodd\" fill-opacity=\"1\" /><path clip-path=\"url(#clip180)\" d=\"M 0 0 M1630.78 34.0924 L1630.78 9.54393 L1638.23 9.54393 L1638.23 72.576 L1630.78 72.576 L1630.78 65.7705 Q1628.43 69.8214 1624.83 71.8063 Q1621.26 73.7508 1616.24 73.7508 Q1608.01 73.7508 1602.83 67.1883 Q1597.68 60.6258 1597.68 49.9314 Q1597.68 39.2371 1602.83 32.6746 Q1608.01 26.1121 1616.24 26.1121 Q1621.26 26.1121 1624.83 28.0971 Q1628.43 30.0415 1630.78 34.0924 M1605.38 49.9314 Q1605.38 58.1548 1608.74 62.8538 Q1612.15 67.5124 1618.06 67.5124 Q1623.97 67.5124 1627.38 62.8538 Q1630.78 58.1548 1630.78 49.9314 Q1630.78 41.7081 1627.38 37.0496 Q1623.97 32.3505 1618.06 32.3505 Q1612.15 32.3505 1608.74 37.0496 Q1605.38 41.7081 1605.38 49.9314 Z\" fill=\"#000000\" fill-rule=\"evenodd\" fill-opacity=\"1\" /><path clip-path=\"url(#clip180)\" d=\"M 0 0 M1671.17 32.4315 Q1665.17 32.4315 1661.69 37.1306 Q1658.21 41.7891 1658.21 49.9314 Q1658.21 58.0738 1661.65 62.7728 Q1665.13 67.4314 1671.17 67.4314 Q1677.12 67.4314 1680.61 62.7323 Q1684.09 58.0333 1684.09 49.9314 Q1684.09 41.8701 1680.61 37.1711 Q1677.12 32.4315 1671.17 32.4315 M1671.17 26.1121 Q1680.89 26.1121 1686.44 32.4315 Q1691.99 38.7509 1691.99 49.9314 Q1691.99 61.0714 1686.44 67.4314 Q1680.89 73.7508 1671.17 73.7508 Q1661.41 73.7508 1655.86 67.4314 Q1650.35 61.0714 1650.35 49.9314 Q1650.35 38.7509 1655.86 32.4315 Q1661.41 26.1121 1671.17 26.1121 Z\" fill=\"#000000\" fill-rule=\"evenodd\" fill-opacity=\"1\" /><path clip-path=\"url(#clip180)\" d=\"M 0 0 M1733.27 28.5427 L1733.27 35.5912 Q1730.11 33.9709 1726.71 33.1607 Q1723.3 32.3505 1719.66 32.3505 Q1714.11 32.3505 1711.31 34.0519 Q1708.56 35.7533 1708.56 39.156 Q1708.56 41.7486 1710.54 43.2475 Q1712.53 44.7058 1718.52 46.0426 L1721.08 46.6097 Q1729.01 48.3111 1732.34 51.4303 Q1735.7 54.509 1735.7 60.0587 Q1735.7 66.3781 1730.68 70.0644 Q1725.69 73.7508 1716.94 73.7508 Q1713.3 73.7508 1709.33 73.0216 Q1705.4 72.3329 1701.02 70.9151 L1701.02 63.2184 Q1705.15 65.3654 1709.17 66.4591 Q1713.18 67.5124 1717.11 67.5124 Q1722.37 67.5124 1725.21 65.73 Q1728.04 63.9071 1728.04 60.6258 Q1728.04 57.5877 1725.98 55.9673 Q1723.95 54.3469 1717.02 52.8481 L1714.43 52.2405 Q1707.5 50.7821 1704.43 47.7845 Q1701.35 44.7463 1701.35 39.4801 Q1701.35 33.0797 1705.88 29.5959 Q1710.42 26.1121 1718.77 26.1121 Q1722.9 26.1121 1726.54 26.7198 Q1730.19 27.3274 1733.27 28.5427 Z\" fill=\"#000000\" fill-rule=\"evenodd\" fill-opacity=\"1\" /><circle clip-path=\"url(#clip182)\" cx=\"418.987\" cy=\"1447.86\" r=\"14\" fill=\"#009af9\" fill-rule=\"evenodd\" fill-opacity=\"1\" stroke=\"#000000\" stroke-opacity=\"1\" stroke-width=\"3.2\"/>\n",
       "<circle clip-path=\"url(#clip182)\" cx=\"549.074\" cy=\"1447.8\" r=\"14\" fill=\"#009af9\" fill-rule=\"evenodd\" fill-opacity=\"1\" stroke=\"#000000\" stroke-opacity=\"1\" stroke-width=\"3.2\"/>\n",
       "<circle clip-path=\"url(#clip182)\" cx=\"679.161\" cy=\"1447.68\" r=\"14\" fill=\"#009af9\" fill-rule=\"evenodd\" fill-opacity=\"1\" stroke=\"#000000\" stroke-opacity=\"1\" stroke-width=\"3.2\"/>\n",
       "<circle clip-path=\"url(#clip182)\" cx=\"809.248\" cy=\"1447.45\" r=\"14\" fill=\"#009af9\" fill-rule=\"evenodd\" fill-opacity=\"1\" stroke=\"#000000\" stroke-opacity=\"1\" stroke-width=\"3.2\"/>\n",
       "<circle clip-path=\"url(#clip182)\" cx=\"939.335\" cy=\"1446.98\" r=\"14\" fill=\"#009af9\" fill-rule=\"evenodd\" fill-opacity=\"1\" stroke=\"#000000\" stroke-opacity=\"1\" stroke-width=\"3.2\"/>\n",
       "<circle clip-path=\"url(#clip182)\" cx=\"1069.42\" cy=\"1446.04\" r=\"14\" fill=\"#009af9\" fill-rule=\"evenodd\" fill-opacity=\"1\" stroke=\"#000000\" stroke-opacity=\"1\" stroke-width=\"3.2\"/>\n",
       "<circle clip-path=\"url(#clip182)\" cx=\"1199.51\" cy=\"1444.16\" r=\"14\" fill=\"#009af9\" fill-rule=\"evenodd\" fill-opacity=\"1\" stroke=\"#000000\" stroke-opacity=\"1\" stroke-width=\"3.2\"/>\n",
       "<circle clip-path=\"url(#clip182)\" cx=\"1329.6\" cy=\"1440.41\" r=\"14\" fill=\"#009af9\" fill-rule=\"evenodd\" fill-opacity=\"1\" stroke=\"#000000\" stroke-opacity=\"1\" stroke-width=\"3.2\"/>\n",
       "<circle clip-path=\"url(#clip182)\" cx=\"1459.68\" cy=\"1432.9\" r=\"14\" fill=\"#009af9\" fill-rule=\"evenodd\" fill-opacity=\"1\" stroke=\"#000000\" stroke-opacity=\"1\" stroke-width=\"3.2\"/>\n",
       "<circle clip-path=\"url(#clip182)\" cx=\"1589.77\" cy=\"1417.88\" r=\"14\" fill=\"#009af9\" fill-rule=\"evenodd\" fill-opacity=\"1\" stroke=\"#000000\" stroke-opacity=\"1\" stroke-width=\"3.2\"/>\n",
       "<circle clip-path=\"url(#clip182)\" cx=\"1719.86\" cy=\"1387.85\" r=\"14\" fill=\"#009af9\" fill-rule=\"evenodd\" fill-opacity=\"1\" stroke=\"#000000\" stroke-opacity=\"1\" stroke-width=\"3.2\"/>\n",
       "<circle clip-path=\"url(#clip182)\" cx=\"1849.94\" cy=\"1327.78\" r=\"14\" fill=\"#009af9\" fill-rule=\"evenodd\" fill-opacity=\"1\" stroke=\"#000000\" stroke-opacity=\"1\" stroke-width=\"3.2\"/>\n",
       "<circle clip-path=\"url(#clip182)\" cx=\"1980.03\" cy=\"1207.64\" r=\"14\" fill=\"#009af9\" fill-rule=\"evenodd\" fill-opacity=\"1\" stroke=\"#000000\" stroke-opacity=\"1\" stroke-width=\"3.2\"/>\n",
       "<circle clip-path=\"url(#clip182)\" cx=\"2110.12\" cy=\"967.371\" r=\"14\" fill=\"#009af9\" fill-rule=\"evenodd\" fill-opacity=\"1\" stroke=\"#000000\" stroke-opacity=\"1\" stroke-width=\"3.2\"/>\n",
       "<circle clip-path=\"url(#clip182)\" cx=\"2240.2\" cy=\"486.826\" r=\"14\" fill=\"#009af9\" fill-rule=\"evenodd\" fill-opacity=\"1\" stroke=\"#000000\" stroke-opacity=\"1\" stroke-width=\"3.2\"/>\n",
       "<polyline clip-path=\"url(#clip182)\" style=\"stroke:#ff0000; stroke-width:8; stroke-opacity:1; fill:none\" points=\"\n",
       "  364.35,1447.87 383.203,1447.87 557.525,1447.79 662.285,1447.7 750.858,1447.57 847.073,1447.34 935.775,1447 1030.87,1446.39 1141.05,1445.17 1238.97,1443.28 \n",
       "  1324.83,1440.6 1418.45,1435.86 1512.62,1428.01 1616.73,1413.24 1715.8,1389.13 1767.3,1370.57 1818.8,1346.15 1862.16,1319.7 1905.51,1286.39 1931.97,1261.92 \n",
       "  1958.44,1233.76 1984.9,1201.32 2011.37,1163.98 2036.25,1123.73 2061.12,1077.78 2086,1025.32 2110.88,965.413 2130.81,911.36 2150.74,851.252 2170.67,784.409 \n",
       "  2190.59,710.079 2210.52,627.421 2230.45,535.504 2250.38,433.29 2270.31,319.624 2276.44,282.14 2282.57,243.41 2288.71,203.393 2294.84,162.047 \n",
       "  \"/>\n",
       "</svg>\n"
      ]
     },
     "execution_count": 63,
     "metadata": {},
     "output_type": "execute_result"
    }
   ],
   "source": [
    "pontos_x = []\n",
    "pontos_y = []\n",
    "\n",
    "for i in 0:14\n",
    "    push!(pontos_x, i)\n",
    "    push!(pontos_y, 2^i)\n",
    "end    \n",
    "\n",
    "Coeficientes = regressão_função_exponencial(pontos_x, pontos_y, 1)\n",
    "polinomio(x) = (ℯ^Coeficientes[1])*ℯ^(x*Coeficientes[2])\n",
    "scatter(pontos_x,pontos_y,leg=false)\n",
    "plot!(pontos_x -> polinomio(pontos_x), c=:red, lw=2)\n",
    "title!(\"Mínimos Quadrados\")"
   ]
  },
  {
   "cell_type": "code",
   "execution_count": 64,
   "metadata": {},
   "outputs": [
    {
     "data": {
      "image/svg+xml": [
       "<?xml version=\"1.0\" encoding=\"utf-8\"?>\n",
       "<svg xmlns=\"http://www.w3.org/2000/svg\" xmlns:xlink=\"http://www.w3.org/1999/xlink\" width=\"600\" height=\"400\" viewBox=\"0 0 2400 1600\">\n",
       "<defs>\n",
       "  <clipPath id=\"clip220\">\n",
       "    <rect x=\"0\" y=\"0\" width=\"2400\" height=\"1600\"/>\n",
       "  </clipPath>\n",
       "</defs>\n",
       "<path clip-path=\"url(#clip220)\" d=\"\n",
       "M0 1600 L2400 1600 L2400 0 L0 0  Z\n",
       "  \" fill=\"#ffffff\" fill-rule=\"evenodd\" fill-opacity=\"1\"/>\n",
       "<defs>\n",
       "  <clipPath id=\"clip221\">\n",
       "    <rect x=\"480\" y=\"0\" width=\"1681\" height=\"1600\"/>\n",
       "  </clipPath>\n",
       "</defs>\n",
       "<path clip-path=\"url(#clip220)\" d=\"\n",
       "M275.136 1486.45 L2352.76 1486.45 L2352.76 123.472 L275.136 123.472  Z\n",
       "  \" fill=\"#ffffff\" fill-rule=\"evenodd\" fill-opacity=\"1\"/>\n",
       "<defs>\n",
       "  <clipPath id=\"clip222\">\n",
       "    <rect x=\"275\" y=\"123\" width=\"2079\" height=\"1364\"/>\n",
       "  </clipPath>\n",
       "</defs>\n",
       "<polyline clip-path=\"url(#clip222)\" style=\"stroke:#000000; stroke-width:2; stroke-opacity:0.1; fill:none\" points=\"\n",
       "  389.409,1486.45 389.409,123.472 \n",
       "  \"/>\n",
       "<polyline clip-path=\"url(#clip222)\" style=\"stroke:#000000; stroke-width:2; stroke-opacity:0.1; fill:none\" points=\"\n",
       "  903.041,1486.45 903.041,123.472 \n",
       "  \"/>\n",
       "<polyline clip-path=\"url(#clip222)\" style=\"stroke:#000000; stroke-width:2; stroke-opacity:0.1; fill:none\" points=\"\n",
       "  1416.67,1486.45 1416.67,123.472 \n",
       "  \"/>\n",
       "<polyline clip-path=\"url(#clip222)\" style=\"stroke:#000000; stroke-width:2; stroke-opacity:0.1; fill:none\" points=\"\n",
       "  1930.3,1486.45 1930.3,123.472 \n",
       "  \"/>\n",
       "<polyline clip-path=\"url(#clip220)\" style=\"stroke:#000000; stroke-width:4; stroke-opacity:1; fill:none\" points=\"\n",
       "  275.136,1486.45 2352.76,1486.45 \n",
       "  \"/>\n",
       "<polyline clip-path=\"url(#clip220)\" style=\"stroke:#000000; stroke-width:4; stroke-opacity:1; fill:none\" points=\"\n",
       "  389.409,1486.45 389.409,1470.09 \n",
       "  \"/>\n",
       "<polyline clip-path=\"url(#clip220)\" style=\"stroke:#000000; stroke-width:4; stroke-opacity:1; fill:none\" points=\"\n",
       "  903.041,1486.45 903.041,1470.09 \n",
       "  \"/>\n",
       "<polyline clip-path=\"url(#clip220)\" style=\"stroke:#000000; stroke-width:4; stroke-opacity:1; fill:none\" points=\"\n",
       "  1416.67,1486.45 1416.67,1470.09 \n",
       "  \"/>\n",
       "<polyline clip-path=\"url(#clip220)\" style=\"stroke:#000000; stroke-width:4; stroke-opacity:1; fill:none\" points=\"\n",
       "  1930.3,1486.45 1930.3,1470.09 \n",
       "  \"/>\n",
       "<path clip-path=\"url(#clip220)\" d=\"M 0 0 M389.409 1515.64 Q385.798 1515.64 383.969 1519.2 Q382.164 1522.75 382.164 1529.87 Q382.164 1536.98 383.969 1540.55 Q385.798 1544.09 389.409 1544.09 Q393.043 1544.09 394.849 1540.55 Q396.678 1536.98 396.678 1529.87 Q396.678 1522.75 394.849 1519.2 Q393.043 1515.64 389.409 1515.64 M389.409 1511.93 Q395.219 1511.93 398.275 1516.54 Q401.354 1521.12 401.354 1529.87 Q401.354 1538.6 398.275 1543.21 Q395.219 1547.79 389.409 1547.79 Q383.599 1547.79 380.52 1543.21 Q377.465 1538.6 377.465 1529.87 Q377.465 1521.12 380.52 1516.54 Q383.599 1511.93 389.409 1511.93 Z\" fill=\"#000000\" fill-rule=\"evenodd\" fill-opacity=\"1\" /><path clip-path=\"url(#clip220)\" d=\"M 0 0 M893.319 1512.56 L911.675 1512.56 L911.675 1516.5 L897.601 1516.5 L897.601 1524.97 Q898.62 1524.62 899.638 1524.46 Q900.657 1524.27 901.675 1524.27 Q907.462 1524.27 910.842 1527.44 Q914.221 1530.62 914.221 1536.03 Q914.221 1541.61 910.749 1544.71 Q907.277 1547.79 900.957 1547.79 Q898.782 1547.79 896.513 1547.42 Q894.268 1547.05 891.86 1546.31 L891.86 1541.61 Q893.944 1542.74 896.166 1543.3 Q898.388 1543.86 900.865 1543.86 Q904.87 1543.86 907.207 1541.75 Q909.545 1539.64 909.545 1536.03 Q909.545 1532.42 907.207 1530.31 Q904.87 1528.21 900.865 1528.21 Q898.99 1528.21 897.115 1528.62 Q895.263 1529.04 893.319 1529.92 L893.319 1512.56 Z\" fill=\"#000000\" fill-rule=\"evenodd\" fill-opacity=\"1\" /><path clip-path=\"url(#clip220)\" d=\"M 0 0 M1391.36 1543.18 L1399 1543.18 L1399 1516.82 L1390.69 1518.49 L1390.69 1514.23 L1398.95 1512.56 L1403.63 1512.56 L1403.63 1543.18 L1411.27 1543.18 L1411.27 1547.12 L1391.36 1547.12 L1391.36 1543.18 Z\" fill=\"#000000\" fill-rule=\"evenodd\" fill-opacity=\"1\" /><path clip-path=\"url(#clip220)\" d=\"M 0 0 M1430.71 1515.64 Q1427.1 1515.64 1425.27 1519.2 Q1423.47 1522.75 1423.47 1529.87 Q1423.47 1536.98 1425.27 1540.55 Q1427.1 1544.09 1430.71 1544.09 Q1434.35 1544.09 1436.15 1540.55 Q1437.98 1536.98 1437.98 1529.87 Q1437.98 1522.75 1436.15 1519.2 Q1434.35 1515.64 1430.71 1515.64 M1430.71 1511.93 Q1436.52 1511.93 1439.58 1516.54 Q1442.66 1521.12 1442.66 1529.87 Q1442.66 1538.6 1439.58 1543.21 Q1436.52 1547.79 1430.71 1547.79 Q1424.9 1547.79 1421.82 1543.21 Q1418.77 1538.6 1418.77 1529.87 Q1418.77 1521.12 1421.82 1516.54 Q1424.9 1511.93 1430.71 1511.93 Z\" fill=\"#000000\" fill-rule=\"evenodd\" fill-opacity=\"1\" /><path clip-path=\"url(#clip220)\" d=\"M 0 0 M1905.49 1543.18 L1913.13 1543.18 L1913.13 1516.82 L1904.82 1518.49 L1904.82 1514.23 L1913.08 1512.56 L1917.76 1512.56 L1917.76 1543.18 L1925.4 1543.18 L1925.4 1547.12 L1905.49 1547.12 L1905.49 1543.18 Z\" fill=\"#000000\" fill-rule=\"evenodd\" fill-opacity=\"1\" /><path clip-path=\"url(#clip220)\" d=\"M 0 0 M1934.89 1512.56 L1953.24 1512.56 L1953.24 1516.5 L1939.17 1516.5 L1939.17 1524.97 Q1940.19 1524.62 1941.21 1524.46 Q1942.23 1524.27 1943.24 1524.27 Q1949.03 1524.27 1952.41 1527.44 Q1955.79 1530.62 1955.79 1536.03 Q1955.79 1541.61 1952.32 1544.71 Q1948.85 1547.79 1942.53 1547.79 Q1940.35 1547.79 1938.08 1547.42 Q1935.84 1547.05 1933.43 1546.31 L1933.43 1541.61 Q1935.51 1542.74 1937.73 1543.3 Q1939.96 1543.86 1942.43 1543.86 Q1946.44 1543.86 1948.78 1541.75 Q1951.11 1539.64 1951.11 1536.03 Q1951.11 1532.42 1948.78 1530.31 Q1946.44 1528.21 1942.43 1528.21 Q1940.56 1528.21 1938.68 1528.62 Q1936.83 1529.04 1934.89 1529.92 L1934.89 1512.56 Z\" fill=\"#000000\" fill-rule=\"evenodd\" fill-opacity=\"1\" /><polyline clip-path=\"url(#clip222)\" style=\"stroke:#000000; stroke-width:2; stroke-opacity:0.1; fill:none\" points=\"\n",
       "  275.136,1382.91 2352.76,1382.91 \n",
       "  \"/>\n",
       "<polyline clip-path=\"url(#clip222)\" style=\"stroke:#000000; stroke-width:2; stroke-opacity:0.1; fill:none\" points=\"\n",
       "  275.136,1085.82 2352.76,1085.82 \n",
       "  \"/>\n",
       "<polyline clip-path=\"url(#clip222)\" style=\"stroke:#000000; stroke-width:2; stroke-opacity:0.1; fill:none\" points=\"\n",
       "  275.136,788.733 2352.76,788.733 \n",
       "  \"/>\n",
       "<polyline clip-path=\"url(#clip222)\" style=\"stroke:#000000; stroke-width:2; stroke-opacity:0.1; fill:none\" points=\"\n",
       "  275.136,491.644 2352.76,491.644 \n",
       "  \"/>\n",
       "<polyline clip-path=\"url(#clip222)\" style=\"stroke:#000000; stroke-width:2; stroke-opacity:0.1; fill:none\" points=\"\n",
       "  275.136,194.555 2352.76,194.555 \n",
       "  \"/>\n",
       "<polyline clip-path=\"url(#clip220)\" style=\"stroke:#000000; stroke-width:4; stroke-opacity:1; fill:none\" points=\"\n",
       "  275.136,1486.45 275.136,123.472 \n",
       "  \"/>\n",
       "<polyline clip-path=\"url(#clip220)\" style=\"stroke:#000000; stroke-width:4; stroke-opacity:1; fill:none\" points=\"\n",
       "  275.136,1382.91 300.068,1382.91 \n",
       "  \"/>\n",
       "<polyline clip-path=\"url(#clip220)\" style=\"stroke:#000000; stroke-width:4; stroke-opacity:1; fill:none\" points=\"\n",
       "  275.136,1085.82 300.068,1085.82 \n",
       "  \"/>\n",
       "<polyline clip-path=\"url(#clip220)\" style=\"stroke:#000000; stroke-width:4; stroke-opacity:1; fill:none\" points=\"\n",
       "  275.136,788.733 300.068,788.733 \n",
       "  \"/>\n",
       "<polyline clip-path=\"url(#clip220)\" style=\"stroke:#000000; stroke-width:4; stroke-opacity:1; fill:none\" points=\"\n",
       "  275.136,491.644 300.068,491.644 \n",
       "  \"/>\n",
       "<polyline clip-path=\"url(#clip220)\" style=\"stroke:#000000; stroke-width:4; stroke-opacity:1; fill:none\" points=\"\n",
       "  275.136,194.555 300.068,194.555 \n",
       "  \"/>\n",
       "<path clip-path=\"url(#clip220)\" d=\"M 0 0 M54.5569 1402.7 L62.1958 1402.7 L62.1958 1376.34 L53.8856 1378.01 L53.8856 1373.75 L62.1495 1372.08 L66.8254 1372.08 L66.8254 1402.7 L74.4642 1402.7 L74.4642 1406.64 L54.5569 1406.64 L54.5569 1402.7 Z\" fill=\"#000000\" fill-rule=\"evenodd\" fill-opacity=\"1\" /><path clip-path=\"url(#clip220)\" d=\"M 0 0 M83.9086 1400.76 L88.7928 1400.76 L88.7928 1406.64 L83.9086 1406.64 L83.9086 1400.76 Z\" fill=\"#000000\" fill-rule=\"evenodd\" fill-opacity=\"1\" /><path clip-path=\"url(#clip220)\" d=\"M 0 0 M108.978 1375.16 Q105.367 1375.16 103.538 1378.72 Q101.733 1382.26 101.733 1389.39 Q101.733 1396.5 103.538 1400.07 Q105.367 1403.61 108.978 1403.61 Q112.612 1403.61 114.418 1400.07 Q116.246 1396.5 116.246 1389.39 Q116.246 1382.26 114.418 1378.72 Q112.612 1375.16 108.978 1375.16 M108.978 1371.45 Q114.788 1371.45 117.844 1376.06 Q120.922 1380.64 120.922 1389.39 Q120.922 1398.12 117.844 1402.73 Q114.788 1407.31 108.978 1407.31 Q103.168 1407.31 100.089 1402.73 Q97.0335 1398.12 97.0335 1389.39 Q97.0335 1380.64 100.089 1376.06 Q103.168 1371.45 108.978 1371.45 Z\" fill=\"#000000\" fill-rule=\"evenodd\" fill-opacity=\"1\" /><path clip-path=\"url(#clip220)\" d=\"M 0 0 M157.311 1381.18 L146.732 1391.8 L157.311 1402.38 L154.556 1405.18 L143.931 1394.56 L133.306 1405.18 L130.575 1402.38 L141.131 1391.8 L130.575 1381.18 L133.306 1378.38 L143.931 1389 L154.556 1378.38 L157.311 1381.18 Z\" fill=\"#000000\" fill-rule=\"evenodd\" fill-opacity=\"1\" /><path clip-path=\"url(#clip220)\" d=\"M 0 0 M169.672 1402.7 L177.311 1402.7 L177.311 1376.34 L169.001 1378.01 L169.001 1373.75 L177.265 1372.08 L181.94 1372.08 L181.94 1402.7 L189.579 1402.7 L189.579 1406.64 L169.672 1406.64 L169.672 1402.7 Z\" fill=\"#000000\" fill-rule=\"evenodd\" fill-opacity=\"1\" /><path clip-path=\"url(#clip220)\" d=\"M 0 0 M209.024 1375.16 Q205.413 1375.16 203.584 1378.72 Q201.778 1382.26 201.778 1389.39 Q201.778 1396.5 203.584 1400.07 Q205.413 1403.61 209.024 1403.61 Q212.658 1403.61 214.463 1400.07 Q216.292 1396.5 216.292 1389.39 Q216.292 1382.26 214.463 1378.72 Q212.658 1375.16 209.024 1375.16 M209.024 1371.45 Q214.834 1371.45 217.889 1376.06 Q220.968 1380.64 220.968 1389.39 Q220.968 1398.12 217.889 1402.73 Q214.834 1407.31 209.024 1407.31 Q203.214 1407.31 200.135 1402.73 Q197.079 1398.12 197.079 1389.39 Q197.079 1380.64 200.135 1376.06 Q203.214 1371.45 209.024 1371.45 Z\" fill=\"#000000\" fill-rule=\"evenodd\" fill-opacity=\"1\" /><path clip-path=\"url(#clip220)\" d=\"M 0 0 M222.153 1351.15 L237.068 1351.15 L237.068 1354.35 L225.632 1354.35 L225.632 1361.23 Q226.46 1360.95 227.287 1360.82 Q228.115 1360.67 228.943 1360.67 Q233.645 1360.67 236.39 1363.24 Q239.136 1365.82 239.136 1370.22 Q239.136 1374.75 236.315 1377.27 Q233.494 1379.77 228.36 1379.77 Q226.592 1379.77 224.748 1379.47 Q222.924 1379.17 220.968 1378.57 L220.968 1374.75 Q222.661 1375.67 224.466 1376.13 Q226.272 1376.58 228.284 1376.58 Q231.538 1376.58 233.438 1374.87 Q235.337 1373.15 235.337 1370.22 Q235.337 1367.29 233.438 1365.57 Q231.538 1363.86 228.284 1363.86 Q226.761 1363.86 225.237 1364.2 Q223.733 1364.54 222.153 1365.25 L222.153 1351.15 Z\" fill=\"#000000\" fill-rule=\"evenodd\" fill-opacity=\"1\" /><path clip-path=\"url(#clip220)\" d=\"M 0 0 M57.7745 1105.61 L74.0939 1105.61 L74.0939 1109.55 L52.1495 1109.55 L52.1495 1105.61 Q54.8115 1102.86 59.3949 1098.23 Q64.0013 1093.58 65.1819 1092.24 Q67.4272 1089.71 68.3068 1087.98 Q69.2096 1086.22 69.2096 1084.53 Q69.2096 1081.77 67.2652 1080.04 Q65.3439 1078.3 62.2421 1078.3 Q60.043 1078.3 57.5893 1079.06 Q55.1588 1079.83 52.381 1081.38 L52.381 1076.66 Q55.2051 1075.52 57.6588 1074.94 Q60.1124 1074.37 62.1495 1074.37 Q67.5198 1074.37 70.7142 1077.05 Q73.9087 1079.74 73.9087 1084.23 Q73.9087 1086.36 73.0985 1088.28 Q72.3115 1090.18 70.205 1092.77 Q69.6263 1093.44 66.5245 1096.66 Q63.4226 1099.85 57.7745 1105.61 Z\" fill=\"#000000\" fill-rule=\"evenodd\" fill-opacity=\"1\" /><path clip-path=\"url(#clip220)\" d=\"M 0 0 M83.9086 1103.67 L88.7928 1103.67 L88.7928 1109.55 L83.9086 1109.55 L83.9086 1103.67 Z\" fill=\"#000000\" fill-rule=\"evenodd\" fill-opacity=\"1\" /><path clip-path=\"url(#clip220)\" d=\"M 0 0 M108.978 1078.07 Q105.367 1078.07 103.538 1081.63 Q101.733 1085.18 101.733 1092.3 Q101.733 1099.41 103.538 1102.98 Q105.367 1106.52 108.978 1106.52 Q112.612 1106.52 114.418 1102.98 Q116.246 1099.41 116.246 1092.3 Q116.246 1085.18 114.418 1081.63 Q112.612 1078.07 108.978 1078.07 M108.978 1074.37 Q114.788 1074.37 117.844 1078.97 Q120.922 1083.55 120.922 1092.3 Q120.922 1101.03 117.844 1105.64 Q114.788 1110.22 108.978 1110.22 Q103.168 1110.22 100.089 1105.64 Q97.0335 1101.03 97.0335 1092.3 Q97.0335 1083.55 100.089 1078.97 Q103.168 1074.37 108.978 1074.37 Z\" fill=\"#000000\" fill-rule=\"evenodd\" fill-opacity=\"1\" /><path clip-path=\"url(#clip220)\" d=\"M 0 0 M157.311 1084.09 L146.732 1094.71 L157.311 1105.29 L154.556 1108.09 L143.931 1097.47 L133.306 1108.09 L130.575 1105.29 L141.131 1094.71 L130.575 1084.09 L133.306 1081.29 L143.931 1091.91 L154.556 1081.29 L157.311 1084.09 Z\" fill=\"#000000\" fill-rule=\"evenodd\" fill-opacity=\"1\" /><path clip-path=\"url(#clip220)\" d=\"M 0 0 M169.672 1105.61 L177.311 1105.61 L177.311 1079.25 L169.001 1080.92 L169.001 1076.66 L177.265 1074.99 L181.94 1074.99 L181.94 1105.61 L189.579 1105.61 L189.579 1109.55 L169.672 1109.55 L169.672 1105.61 Z\" fill=\"#000000\" fill-rule=\"evenodd\" fill-opacity=\"1\" /><path clip-path=\"url(#clip220)\" d=\"M 0 0 M209.024 1078.07 Q205.413 1078.07 203.584 1081.63 Q201.778 1085.18 201.778 1092.3 Q201.778 1099.41 203.584 1102.98 Q205.413 1106.52 209.024 1106.52 Q212.658 1106.52 214.463 1102.98 Q216.292 1099.41 216.292 1092.3 Q216.292 1085.18 214.463 1081.63 Q212.658 1078.07 209.024 1078.07 M209.024 1074.37 Q214.834 1074.37 217.889 1078.97 Q220.968 1083.55 220.968 1092.3 Q220.968 1101.03 217.889 1105.64 Q214.834 1110.22 209.024 1110.22 Q203.214 1110.22 200.135 1105.64 Q197.079 1101.03 197.079 1092.3 Q197.079 1083.55 200.135 1078.97 Q203.214 1074.37 209.024 1074.37 Z\" fill=\"#000000\" fill-rule=\"evenodd\" fill-opacity=\"1\" /><path clip-path=\"url(#clip220)\" d=\"M 0 0 M222.153 1054.06 L237.068 1054.06 L237.068 1057.26 L225.632 1057.26 L225.632 1064.14 Q226.46 1063.86 227.287 1063.73 Q228.115 1063.58 228.943 1063.58 Q233.645 1063.58 236.39 1066.15 Q239.136 1068.73 239.136 1073.13 Q239.136 1077.66 236.315 1080.18 Q233.494 1082.69 228.36 1082.69 Q226.592 1082.69 224.748 1082.38 Q222.924 1082.08 220.968 1081.48 L220.968 1077.66 Q222.661 1078.59 224.466 1079.04 Q226.272 1079.49 228.284 1079.49 Q231.538 1079.49 233.438 1077.78 Q235.337 1076.06 235.337 1073.13 Q235.337 1070.2 233.438 1068.49 Q231.538 1066.77 228.284 1066.77 Q226.761 1066.77 225.237 1067.11 Q223.733 1067.45 222.153 1068.17 L222.153 1054.06 Z\" fill=\"#000000\" fill-rule=\"evenodd\" fill-opacity=\"1\" /><path clip-path=\"url(#clip220)\" d=\"M 0 0 M67.9133 793.827 Q71.2698 794.544 73.1448 796.813 Q75.0429 799.082 75.0429 802.415 Q75.0429 807.531 71.5244 810.331 Q68.0059 813.132 61.5245 813.132 Q59.3486 813.132 57.0338 812.693 Q54.7421 812.276 52.2884 811.419 L52.2884 806.906 Q54.2328 808.04 56.5477 808.618 Q58.8625 809.197 61.3856 809.197 Q65.7837 809.197 68.0754 807.461 Q70.3902 805.725 70.3902 802.415 Q70.3902 799.359 68.2374 797.646 Q66.1078 795.91 62.2884 795.91 L58.2606 795.91 L58.2606 792.068 L62.4735 792.068 Q65.9226 792.068 67.7513 790.702 Q69.58 789.313 69.58 786.72 Q69.58 784.058 67.6819 782.646 Q65.8069 781.211 62.2884 781.211 Q60.3671 781.211 58.168 781.628 Q55.969 782.045 53.3301 782.924 L53.3301 778.758 Q55.9921 778.017 58.3069 777.646 Q60.6449 777.276 62.705 777.276 Q68.0291 777.276 71.1309 779.707 Q74.2327 782.114 74.2327 786.234 Q74.2327 789.105 72.5892 791.095 Q70.9457 793.063 67.9133 793.827 Z\" fill=\"#000000\" fill-rule=\"evenodd\" fill-opacity=\"1\" /><path clip-path=\"url(#clip220)\" d=\"M 0 0 M83.9086 806.581 L88.7928 806.581 L88.7928 812.461 L83.9086 812.461 L83.9086 806.581 Z\" fill=\"#000000\" fill-rule=\"evenodd\" fill-opacity=\"1\" /><path clip-path=\"url(#clip220)\" d=\"M 0 0 M108.978 780.98 Q105.367 780.98 103.538 784.545 Q101.733 788.086 101.733 795.216 Q101.733 802.322 103.538 805.887 Q105.367 809.429 108.978 809.429 Q112.612 809.429 114.418 805.887 Q116.246 802.322 116.246 795.216 Q116.246 788.086 114.418 784.545 Q112.612 780.98 108.978 780.98 M108.978 777.276 Q114.788 777.276 117.844 781.883 Q120.922 786.466 120.922 795.216 Q120.922 803.943 117.844 808.549 Q114.788 813.132 108.978 813.132 Q103.168 813.132 100.089 808.549 Q97.0335 803.943 97.0335 795.216 Q97.0335 786.466 100.089 781.883 Q103.168 777.276 108.978 777.276 Z\" fill=\"#000000\" fill-rule=\"evenodd\" fill-opacity=\"1\" /><path clip-path=\"url(#clip220)\" d=\"M 0 0 M157.311 786.998 L146.732 797.623 L157.311 808.202 L154.556 811.003 L143.931 800.378 L133.306 811.003 L130.575 808.202 L141.131 797.623 L130.575 786.998 L133.306 784.197 L143.931 794.822 L154.556 784.197 L157.311 786.998 Z\" fill=\"#000000\" fill-rule=\"evenodd\" fill-opacity=\"1\" /><path clip-path=\"url(#clip220)\" d=\"M 0 0 M169.672 808.526 L177.311 808.526 L177.311 782.16 L169.001 783.827 L169.001 779.568 L177.265 777.901 L181.94 777.901 L181.94 808.526 L189.579 808.526 L189.579 812.461 L169.672 812.461 L169.672 808.526 Z\" fill=\"#000000\" fill-rule=\"evenodd\" fill-opacity=\"1\" /><path clip-path=\"url(#clip220)\" d=\"M 0 0 M209.024 780.98 Q205.413 780.98 203.584 784.545 Q201.778 788.086 201.778 795.216 Q201.778 802.322 203.584 805.887 Q205.413 809.429 209.024 809.429 Q212.658 809.429 214.463 805.887 Q216.292 802.322 216.292 795.216 Q216.292 788.086 214.463 784.545 Q212.658 780.98 209.024 780.98 M209.024 777.276 Q214.834 777.276 217.889 781.883 Q220.968 786.466 220.968 795.216 Q220.968 803.943 217.889 808.549 Q214.834 813.132 209.024 813.132 Q203.214 813.132 200.135 808.549 Q197.079 803.943 197.079 795.216 Q197.079 786.466 200.135 781.883 Q203.214 777.276 209.024 777.276 Z\" fill=\"#000000\" fill-rule=\"evenodd\" fill-opacity=\"1\" /><path clip-path=\"url(#clip220)\" d=\"M 0 0 M222.153 756.971 L237.068 756.971 L237.068 760.168 L225.632 760.168 L225.632 767.052 Q226.46 766.77 227.287 766.638 Q228.115 766.487 228.943 766.487 Q233.645 766.487 236.39 769.064 Q239.136 771.641 239.136 776.042 Q239.136 780.574 236.315 783.095 Q233.494 785.596 228.36 785.596 Q226.592 785.596 224.748 785.295 Q222.924 784.994 220.968 784.392 L220.968 780.574 Q222.661 781.496 224.466 781.947 Q226.272 782.399 228.284 782.399 Q231.538 782.399 233.438 780.687 Q235.337 778.976 235.337 776.042 Q235.337 773.108 233.438 771.396 Q231.538 769.685 228.284 769.685 Q226.761 769.685 225.237 770.023 Q223.733 770.362 222.153 771.076 L222.153 756.971 Z\" fill=\"#000000\" fill-rule=\"evenodd\" fill-opacity=\"1\" /><path clip-path=\"url(#clip220)\" d=\"M 0 0 M66.5939 484.886 L54.7884 503.335 L66.5939 503.335 L66.5939 484.886 M65.367 480.812 L71.2466 480.812 L71.2466 503.335 L76.1772 503.335 L76.1772 507.224 L71.2466 507.224 L71.2466 515.372 L66.5939 515.372 L66.5939 507.224 L50.9921 507.224 L50.9921 502.71 L65.367 480.812 Z\" fill=\"#000000\" fill-rule=\"evenodd\" fill-opacity=\"1\" /><path clip-path=\"url(#clip220)\" d=\"M 0 0 M83.9086 509.492 L88.7928 509.492 L88.7928 515.372 L83.9086 515.372 L83.9086 509.492 Z\" fill=\"#000000\" fill-rule=\"evenodd\" fill-opacity=\"1\" /><path clip-path=\"url(#clip220)\" d=\"M 0 0 M108.978 483.891 Q105.367 483.891 103.538 487.455 Q101.733 490.997 101.733 498.127 Q101.733 505.233 103.538 508.798 Q105.367 512.34 108.978 512.34 Q112.612 512.34 114.418 508.798 Q116.246 505.233 116.246 498.127 Q116.246 490.997 114.418 487.455 Q112.612 483.891 108.978 483.891 M108.978 480.187 Q114.788 480.187 117.844 484.793 Q120.922 489.377 120.922 498.127 Q120.922 506.854 117.844 511.46 Q114.788 516.043 108.978 516.043 Q103.168 516.043 100.089 511.46 Q97.0335 506.854 97.0335 498.127 Q97.0335 489.377 100.089 484.793 Q103.168 480.187 108.978 480.187 Z\" fill=\"#000000\" fill-rule=\"evenodd\" fill-opacity=\"1\" /><path clip-path=\"url(#clip220)\" d=\"M 0 0 M157.311 489.909 L146.732 500.534 L157.311 511.113 L154.556 513.914 L143.931 503.289 L133.306 513.914 L130.575 511.113 L141.131 500.534 L130.575 489.909 L133.306 487.108 L143.931 497.733 L154.556 487.108 L157.311 489.909 Z\" fill=\"#000000\" fill-rule=\"evenodd\" fill-opacity=\"1\" /><path clip-path=\"url(#clip220)\" d=\"M 0 0 M169.672 511.437 L177.311 511.437 L177.311 485.071 L169.001 486.738 L169.001 482.479 L177.265 480.812 L181.94 480.812 L181.94 511.437 L189.579 511.437 L189.579 515.372 L169.672 515.372 L169.672 511.437 Z\" fill=\"#000000\" fill-rule=\"evenodd\" fill-opacity=\"1\" /><path clip-path=\"url(#clip220)\" d=\"M 0 0 M209.024 483.891 Q205.413 483.891 203.584 487.455 Q201.778 490.997 201.778 498.127 Q201.778 505.233 203.584 508.798 Q205.413 512.34 209.024 512.34 Q212.658 512.34 214.463 508.798 Q216.292 505.233 216.292 498.127 Q216.292 490.997 214.463 487.455 Q212.658 483.891 209.024 483.891 M209.024 480.187 Q214.834 480.187 217.889 484.793 Q220.968 489.377 220.968 498.127 Q220.968 506.854 217.889 511.46 Q214.834 516.043 209.024 516.043 Q203.214 516.043 200.135 511.46 Q197.079 506.854 197.079 498.127 Q197.079 489.377 200.135 484.793 Q203.214 480.187 209.024 480.187 Z\" fill=\"#000000\" fill-rule=\"evenodd\" fill-opacity=\"1\" /><path clip-path=\"url(#clip220)\" d=\"M 0 0 M222.153 459.882 L237.068 459.882 L237.068 463.079 L225.632 463.079 L225.632 469.963 Q226.46 469.68 227.287 469.549 Q228.115 469.398 228.943 469.398 Q233.645 469.398 236.39 471.975 Q239.136 474.552 239.136 478.953 Q239.136 483.485 236.315 486.006 Q233.494 488.507 228.36 488.507 Q226.592 488.507 224.748 488.206 Q222.924 487.905 220.968 487.303 L220.968 483.485 Q222.661 484.407 224.466 484.858 Q226.272 485.31 228.284 485.31 Q231.538 485.31 233.438 483.598 Q235.337 481.887 235.337 478.953 Q235.337 476.019 233.438 474.307 Q231.538 472.596 228.284 472.596 Q226.761 472.596 225.237 472.934 Q223.733 473.273 222.153 473.987 L222.153 459.882 Z\" fill=\"#000000\" fill-rule=\"evenodd\" fill-opacity=\"1\" /><path clip-path=\"url(#clip220)\" d=\"M 0 0 M53.793 183.723 L72.1494 183.723 L72.1494 187.658 L58.0754 187.658 L58.0754 196.13 Q59.0939 195.783 60.1124 195.621 Q61.131 195.436 62.1495 195.436 Q67.9365 195.436 71.3161 198.607 Q74.6957 201.778 74.6957 207.195 Q74.6957 212.774 71.2235 215.876 Q67.7513 218.954 61.4319 218.954 Q59.256 218.954 56.9875 218.584 Q54.7421 218.213 52.3347 217.473 L52.3347 212.774 Q54.418 213.908 56.6402 214.464 Q58.8625 215.019 61.3393 215.019 Q65.3439 215.019 67.6819 212.913 Q70.0198 210.806 70.0198 207.195 Q70.0198 203.584 67.6819 201.477 Q65.3439 199.371 61.3393 199.371 Q59.4643 199.371 57.5893 199.788 Q55.7375 200.204 53.793 201.084 L53.793 183.723 Z\" fill=\"#000000\" fill-rule=\"evenodd\" fill-opacity=\"1\" /><path clip-path=\"url(#clip220)\" d=\"M 0 0 M83.9086 212.403 L88.7928 212.403 L88.7928 218.283 L83.9086 218.283 L83.9086 212.403 Z\" fill=\"#000000\" fill-rule=\"evenodd\" fill-opacity=\"1\" /><path clip-path=\"url(#clip220)\" d=\"M 0 0 M108.978 186.802 Q105.367 186.802 103.538 190.366 Q101.733 193.908 101.733 201.038 Q101.733 208.144 103.538 211.709 Q105.367 215.251 108.978 215.251 Q112.612 215.251 114.418 211.709 Q116.246 208.144 116.246 201.038 Q116.246 193.908 114.418 190.366 Q112.612 186.802 108.978 186.802 M108.978 183.098 Q114.788 183.098 117.844 187.704 Q120.922 192.288 120.922 201.038 Q120.922 209.764 117.844 214.371 Q114.788 218.954 108.978 218.954 Q103.168 218.954 100.089 214.371 Q97.0335 209.764 97.0335 201.038 Q97.0335 192.288 100.089 187.704 Q103.168 183.098 108.978 183.098 Z\" fill=\"#000000\" fill-rule=\"evenodd\" fill-opacity=\"1\" /><path clip-path=\"url(#clip220)\" d=\"M 0 0 M157.311 192.82 L146.732 203.445 L157.311 214.024 L154.556 216.825 L143.931 206.2 L133.306 216.825 L130.575 214.024 L141.131 203.445 L130.575 192.82 L133.306 190.019 L143.931 200.644 L154.556 190.019 L157.311 192.82 Z\" fill=\"#000000\" fill-rule=\"evenodd\" fill-opacity=\"1\" /><path clip-path=\"url(#clip220)\" d=\"M 0 0 M169.672 214.348 L177.311 214.348 L177.311 187.982 L169.001 189.649 L169.001 185.39 L177.265 183.723 L181.94 183.723 L181.94 214.348 L189.579 214.348 L189.579 218.283 L169.672 218.283 L169.672 214.348 Z\" fill=\"#000000\" fill-rule=\"evenodd\" fill-opacity=\"1\" /><path clip-path=\"url(#clip220)\" d=\"M 0 0 M209.024 186.802 Q205.413 186.802 203.584 190.366 Q201.778 193.908 201.778 201.038 Q201.778 208.144 203.584 211.709 Q205.413 215.251 209.024 215.251 Q212.658 215.251 214.463 211.709 Q216.292 208.144 216.292 201.038 Q216.292 193.908 214.463 190.366 Q212.658 186.802 209.024 186.802 M209.024 183.098 Q214.834 183.098 217.889 187.704 Q220.968 192.288 220.968 201.038 Q220.968 209.764 217.889 214.371 Q214.834 218.954 209.024 218.954 Q203.214 218.954 200.135 214.371 Q197.079 209.764 197.079 201.038 Q197.079 192.288 200.135 187.704 Q203.214 183.098 209.024 183.098 Z\" fill=\"#000000\" fill-rule=\"evenodd\" fill-opacity=\"1\" /><path clip-path=\"url(#clip220)\" d=\"M 0 0 M222.153 162.793 L237.068 162.793 L237.068 165.99 L225.632 165.99 L225.632 172.873 Q226.46 172.591 227.287 172.46 Q228.115 172.309 228.943 172.309 Q233.645 172.309 236.39 174.886 Q239.136 177.463 239.136 181.864 Q239.136 186.396 236.315 188.917 Q233.494 191.418 228.36 191.418 Q226.592 191.418 224.748 191.117 Q222.924 190.816 220.968 190.214 L220.968 186.396 Q222.661 187.318 224.466 187.769 Q226.272 188.221 228.284 188.221 Q231.538 188.221 233.438 186.509 Q235.337 184.798 235.337 181.864 Q235.337 178.93 233.438 177.218 Q231.538 175.507 228.284 175.507 Q226.761 175.507 225.237 175.845 Q223.733 176.184 222.153 176.898 L222.153 162.793 Z\" fill=\"#000000\" fill-rule=\"evenodd\" fill-opacity=\"1\" /><path clip-path=\"url(#clip220)\" d=\"M 0 0 M907.843 12.096 L920.036 12.096 L935.47 53.2532 L950.985 12.096 L963.178 12.096 L963.178 72.576 L955.198 72.576 L955.198 19.4686 L939.602 60.9499 L931.379 60.9499 L915.783 19.4686 L915.783 72.576 L907.843 72.576 L907.843 12.096 Z\" fill=\"#000000\" fill-rule=\"evenodd\" fill-opacity=\"1\" /><path clip-path=\"url(#clip220)\" d=\"M 0 0 M988.456 6.22219 L996.517 6.22219 L983.311 21.4536 L977.113 21.4536 L988.456 6.22219 M979.098 27.2059 L986.552 27.2059 L986.552 72.576 L979.098 72.576 L979.098 27.2059 M982.825 26.1121 L982.825 26.1121 Z\" fill=\"#000000\" fill-rule=\"evenodd\" fill-opacity=\"1\" /><path clip-path=\"url(#clip220)\" d=\"M 0 0 M1039.86 45.1919 L1039.86 72.576 L1032.41 72.576 L1032.41 45.4349 Q1032.41 38.994 1029.9 35.7938 Q1027.39 32.5936 1022.36 32.5936 Q1016.33 32.5936 1012.84 36.4419 Q1009.36 40.2903 1009.36 46.9338 L1009.36 72.576 L1001.86 72.576 L1001.86 27.2059 L1009.36 27.2059 L1009.36 34.2544 Q1012.03 30.163 1015.64 28.1376 Q1019.28 26.1121 1024.02 26.1121 Q1031.84 26.1121 1035.85 30.9732 Q1039.86 35.7938 1039.86 45.1919 Z\" fill=\"#000000\" fill-rule=\"evenodd\" fill-opacity=\"1\" /><path clip-path=\"url(#clip220)\" d=\"M 0 0 M1054.73 27.2059 L1062.18 27.2059 L1062.18 72.576 L1054.73 72.576 L1054.73 27.2059 M1054.73 9.54393 L1062.18 9.54393 L1062.18 18.9825 L1054.73 18.9825 L1054.73 9.54393 Z\" fill=\"#000000\" fill-rule=\"evenodd\" fill-opacity=\"1\" /><path clip-path=\"url(#clip220)\" d=\"M 0 0 M1113.1 35.9153 Q1115.9 30.8922 1119.79 28.5022 Q1123.68 26.1121 1128.94 26.1121 Q1136.03 26.1121 1139.88 31.0947 Q1143.73 36.0368 1143.73 45.1919 L1143.73 72.576 L1136.23 72.576 L1136.23 45.4349 Q1136.23 38.913 1133.92 35.7533 Q1131.61 32.5936 1126.88 32.5936 Q1121.08 32.5936 1117.72 36.4419 Q1114.36 40.2903 1114.36 46.9338 L1114.36 72.576 L1106.86 72.576 L1106.86 45.4349 Q1106.86 38.8725 1104.55 35.7533 Q1102.25 32.5936 1097.43 32.5936 Q1091.71 32.5936 1088.35 36.4824 Q1084.99 40.3308 1084.99 46.9338 L1084.99 72.576 L1077.49 72.576 L1077.49 27.2059 L1084.99 27.2059 L1084.99 34.2544 Q1087.54 30.082 1091.11 28.0971 Q1094.67 26.1121 1099.57 26.1121 Q1104.51 26.1121 1107.96 28.6237 Q1111.44 31.1352 1113.1 35.9153 Z\" fill=\"#000000\" fill-rule=\"evenodd\" fill-opacity=\"1\" /><path clip-path=\"url(#clip220)\" d=\"M 0 0 M1176.17 32.4315 Q1170.18 32.4315 1166.7 37.1306 Q1163.21 41.7891 1163.21 49.9314 Q1163.21 58.0738 1166.66 62.7728 Q1170.14 67.4314 1176.17 67.4314 Q1182.13 67.4314 1185.61 62.7323 Q1189.1 58.0333 1189.1 49.9314 Q1189.1 41.8701 1185.61 37.1711 Q1182.13 32.4315 1176.17 32.4315 M1176.17 26.1121 Q1185.9 26.1121 1191.45 32.4315 Q1197 38.7509 1197 49.9314 Q1197 61.0714 1191.45 67.4314 Q1185.9 73.7508 1176.17 73.7508 Q1166.41 73.7508 1160.86 67.4314 Q1155.35 61.0714 1155.35 49.9314 Q1155.35 38.7509 1160.86 32.4315 Q1166.41 26.1121 1176.17 26.1121 Z\" fill=\"#000000\" fill-rule=\"evenodd\" fill-opacity=\"1\" /><path clip-path=\"url(#clip220)\" d=\"M 0 0 M1238.28 28.5427 L1238.28 35.5912 Q1235.12 33.9709 1231.71 33.1607 Q1228.31 32.3505 1224.66 32.3505 Q1219.11 32.3505 1216.32 34.0519 Q1213.56 35.7533 1213.56 39.156 Q1213.56 41.7486 1215.55 43.2475 Q1217.53 44.7058 1223.53 46.0426 L1226.08 46.6097 Q1234.02 48.3111 1237.34 51.4303 Q1240.71 54.509 1240.71 60.0587 Q1240.71 66.3781 1235.68 70.0644 Q1230.7 73.7508 1221.95 73.7508 Q1218.3 73.7508 1214.33 73.0216 Q1210.41 72.3329 1206.03 70.9151 L1206.03 63.2184 Q1210.16 65.3654 1214.17 66.4591 Q1218.18 67.5124 1222.11 67.5124 Q1227.38 67.5124 1230.21 65.73 Q1233.05 63.9071 1233.05 60.6258 Q1233.05 57.5877 1230.98 55.9673 Q1228.96 54.3469 1222.03 52.8481 L1219.44 52.2405 Q1212.51 50.7821 1209.43 47.7845 Q1206.35 44.7463 1206.35 39.4801 Q1206.35 33.0797 1210.89 29.5959 Q1215.43 26.1121 1223.77 26.1121 Q1227.9 26.1121 1231.55 26.7198 Q1235.2 27.3274 1238.28 28.5427 Z\" fill=\"#000000\" fill-rule=\"evenodd\" fill-opacity=\"1\" /><path clip-path=\"url(#clip220)\" d=\"M 0 0 M1303.82 17.6457 Q1294.91 17.6457 1289.64 24.2892 Q1284.42 30.9327 1284.42 42.3968 Q1284.42 53.8203 1289.64 60.4638 Q1294.91 67.1073 1303.82 67.1073 Q1312.73 67.1073 1317.92 60.4638 Q1323.14 53.8203 1323.14 42.3968 Q1323.14 30.9327 1317.92 24.2892 Q1312.73 17.6457 1303.82 17.6457 M1315.28 71.4823 L1326.06 83.2704 L1316.17 83.2704 L1307.22 73.5887 Q1305.88 73.6697 1305.16 73.7103 Q1304.47 73.7508 1303.82 73.7508 Q1291.06 73.7508 1283.4 65.2439 Q1275.79 56.6965 1275.79 42.3968 Q1275.79 28.0566 1283.4 19.5497 Q1291.06 11.0023 1303.82 11.0023 Q1316.54 11.0023 1324.15 19.5497 Q1331.77 28.0566 1331.77 42.3968 Q1331.77 52.9291 1327.52 60.4233 Q1323.3 67.9175 1315.28 71.4823 Z\" fill=\"#000000\" fill-rule=\"evenodd\" fill-opacity=\"1\" /><path clip-path=\"url(#clip220)\" d=\"M 0 0 M1343.48 54.671 L1343.48 27.2059 L1350.93 27.2059 L1350.93 54.3874 Q1350.93 60.8284 1353.44 64.0691 Q1355.95 67.2693 1360.98 67.2693 Q1367.01 67.2693 1370.5 63.421 Q1374.02 59.5726 1374.02 52.9291 L1374.02 27.2059 L1381.47 27.2059 L1381.47 72.576 L1374.02 72.576 L1374.02 65.6084 Q1371.31 69.7404 1367.7 71.7658 Q1364.14 73.7508 1359.4 73.7508 Q1351.58 73.7508 1347.53 68.8897 Q1343.48 64.0286 1343.48 54.671 M1362.23 26.1121 L1362.23 26.1121 Z\" fill=\"#000000\" fill-rule=\"evenodd\" fill-opacity=\"1\" /><path clip-path=\"url(#clip220)\" d=\"M 0 0 M1417.45 49.7694 Q1408.41 49.7694 1404.93 51.8354 Q1401.45 53.9013 1401.45 58.8839 Q1401.45 62.8538 1404.04 65.2034 Q1406.67 67.5124 1411.17 67.5124 Q1417.37 67.5124 1421.09 63.1374 Q1424.86 58.7219 1424.86 51.4303 L1424.86 49.7694 L1417.45 49.7694 M1432.31 46.6907 L1432.31 72.576 L1424.86 72.576 L1424.86 65.6895 Q1422.31 69.8214 1418.5 71.8063 Q1414.69 73.7508 1409.18 73.7508 Q1402.22 73.7508 1398.08 69.8619 Q1393.99 65.9325 1393.99 59.3701 Q1393.99 51.7138 1399.1 47.825 Q1404.24 43.9361 1414.41 43.9361 L1424.86 43.9361 L1424.86 43.2069 Q1424.86 38.0623 1421.46 35.2672 Q1418.09 32.4315 1411.98 32.4315 Q1408.09 32.4315 1404.4 33.3632 Q1400.72 34.295 1397.31 36.1584 L1397.31 29.2718 Q1401.41 27.692 1405.25 26.9223 Q1409.1 26.1121 1412.75 26.1121 Q1422.59 26.1121 1427.45 31.2163 Q1432.31 36.3204 1432.31 46.6907 Z\" fill=\"#000000\" fill-rule=\"evenodd\" fill-opacity=\"1\" /><path clip-path=\"url(#clip220)\" d=\"M 0 0 M1477.52 34.0924 L1477.52 9.54393 L1484.98 9.54393 L1484.98 72.576 L1477.52 72.576 L1477.52 65.7705 Q1475.17 69.8214 1471.57 71.8063 Q1468 73.7508 1462.98 73.7508 Q1454.76 73.7508 1449.57 67.1883 Q1444.43 60.6258 1444.43 49.9314 Q1444.43 39.2371 1449.57 32.6746 Q1454.76 26.1121 1462.98 26.1121 Q1468 26.1121 1471.57 28.0971 Q1475.17 30.0415 1477.52 34.0924 M1452.12 49.9314 Q1452.12 58.1548 1455.48 62.8538 Q1458.89 67.5124 1464.8 67.5124 Q1470.72 67.5124 1474.12 62.8538 Q1477.52 58.1548 1477.52 49.9314 Q1477.52 41.7081 1474.12 37.0496 Q1470.72 32.3505 1464.8 32.3505 Q1458.89 32.3505 1455.48 37.0496 Q1452.12 41.7081 1452.12 49.9314 Z\" fill=\"#000000\" fill-rule=\"evenodd\" fill-opacity=\"1\" /><path clip-path=\"url(#clip220)\" d=\"M 0 0 M1526.62 34.1734 Q1525.36 33.4443 1523.86 33.1202 Q1522.41 32.7556 1520.62 32.7556 Q1514.3 32.7556 1510.9 36.8875 Q1507.54 40.9789 1507.54 48.6757 L1507.54 72.576 L1500.04 72.576 L1500.04 27.2059 L1507.54 27.2059 L1507.54 34.2544 Q1509.89 30.1225 1513.66 28.1376 Q1517.42 26.1121 1522.81 26.1121 Q1523.58 26.1121 1524.51 26.2337 Q1525.44 26.3147 1526.58 26.5172 L1526.62 34.1734 Z\" fill=\"#000000\" fill-rule=\"evenodd\" fill-opacity=\"1\" /><path clip-path=\"url(#clip220)\" d=\"M 0 0 M1555.06 49.7694 Q1546.02 49.7694 1542.54 51.8354 Q1539.05 53.9013 1539.05 58.8839 Q1539.05 62.8538 1541.65 65.2034 Q1544.28 67.5124 1548.78 67.5124 Q1554.97 67.5124 1558.7 63.1374 Q1562.47 58.7219 1562.47 51.4303 L1562.47 49.7694 L1555.06 49.7694 M1569.92 46.6907 L1569.92 72.576 L1562.47 72.576 L1562.47 65.6895 Q1559.92 69.8214 1556.11 71.8063 Q1552.3 73.7508 1546.79 73.7508 Q1539.82 73.7508 1535.69 69.8619 Q1531.6 65.9325 1531.6 59.3701 Q1531.6 51.7138 1536.71 47.825 Q1541.85 43.9361 1552.02 43.9361 L1562.47 43.9361 L1562.47 43.2069 Q1562.47 38.0623 1559.07 35.2672 Q1555.7 32.4315 1549.59 32.4315 Q1545.7 32.4315 1542.01 33.3632 Q1538.33 34.295 1534.92 36.1584 L1534.92 29.2718 Q1539.01 27.692 1542.86 26.9223 Q1546.71 26.1121 1550.36 26.1121 Q1560.2 26.1121 1565.06 31.2163 Q1569.92 36.3204 1569.92 46.6907 Z\" fill=\"#000000\" fill-rule=\"evenodd\" fill-opacity=\"1\" /><path clip-path=\"url(#clip220)\" d=\"M 0 0 M1615.13 34.0924 L1615.13 9.54393 L1622.58 9.54393 L1622.58 72.576 L1615.13 72.576 L1615.13 65.7705 Q1612.78 69.8214 1609.18 71.8063 Q1605.61 73.7508 1600.59 73.7508 Q1592.36 73.7508 1587.18 67.1883 Q1582.03 60.6258 1582.03 49.9314 Q1582.03 39.2371 1587.18 32.6746 Q1592.36 26.1121 1600.59 26.1121 Q1605.61 26.1121 1609.18 28.0971 Q1612.78 30.0415 1615.13 34.0924 M1589.73 49.9314 Q1589.73 58.1548 1593.09 62.8538 Q1596.5 67.5124 1602.41 67.5124 Q1608.33 67.5124 1611.73 62.8538 Q1615.13 58.1548 1615.13 49.9314 Q1615.13 41.7081 1611.73 37.0496 Q1608.33 32.3505 1602.41 32.3505 Q1596.5 32.3505 1593.09 37.0496 Q1589.73 41.7081 1589.73 49.9314 Z\" fill=\"#000000\" fill-rule=\"evenodd\" fill-opacity=\"1\" /><path clip-path=\"url(#clip220)\" d=\"M 0 0 M1655.52 32.4315 Q1649.52 32.4315 1646.04 37.1306 Q1642.56 41.7891 1642.56 49.9314 Q1642.56 58.0738 1646 62.7728 Q1649.48 67.4314 1655.52 67.4314 Q1661.47 67.4314 1664.96 62.7323 Q1668.44 58.0333 1668.44 49.9314 Q1668.44 41.8701 1664.96 37.1711 Q1661.47 32.4315 1655.52 32.4315 M1655.52 26.1121 Q1665.24 26.1121 1670.79 32.4315 Q1676.34 38.7509 1676.34 49.9314 Q1676.34 61.0714 1670.79 67.4314 Q1665.24 73.7508 1655.52 73.7508 Q1645.76 73.7508 1640.21 67.4314 Q1634.7 61.0714 1634.7 49.9314 Q1634.7 38.7509 1640.21 32.4315 Q1645.76 26.1121 1655.52 26.1121 Z\" fill=\"#000000\" fill-rule=\"evenodd\" fill-opacity=\"1\" /><path clip-path=\"url(#clip220)\" d=\"M 0 0 M1717.62 28.5427 L1717.62 35.5912 Q1714.46 33.9709 1711.06 33.1607 Q1707.65 32.3505 1704.01 32.3505 Q1698.46 32.3505 1695.66 34.0519 Q1692.91 35.7533 1692.91 39.156 Q1692.91 41.7486 1694.89 43.2475 Q1696.88 44.7058 1702.87 46.0426 L1705.43 46.6097 Q1713.37 48.3111 1716.69 51.4303 Q1720.05 54.509 1720.05 60.0587 Q1720.05 66.3781 1715.03 70.0644 Q1710.04 73.7508 1701.29 73.7508 Q1697.65 73.7508 1693.68 73.0216 Q1689.75 72.3329 1685.37 70.9151 L1685.37 63.2184 Q1689.51 65.3654 1693.52 66.4591 Q1697.53 67.5124 1701.46 67.5124 Q1706.72 67.5124 1709.56 65.73 Q1712.39 63.9071 1712.39 60.6258 Q1712.39 57.5877 1710.33 55.9673 Q1708.3 54.3469 1701.37 52.8481 L1698.78 52.2405 Q1691.85 50.7821 1688.78 47.7845 Q1685.7 44.7463 1685.7 39.4801 Q1685.7 33.0797 1690.23 29.5959 Q1694.77 26.1121 1703.12 26.1121 Q1707.25 26.1121 1710.89 26.7198 Q1714.54 27.3274 1717.62 28.5427 Z\" fill=\"#000000\" fill-rule=\"evenodd\" fill-opacity=\"1\" /><circle clip-path=\"url(#clip222)\" cx=\"389.409\" cy=\"1447.87\" r=\"14\" fill=\"#009af9\" fill-rule=\"evenodd\" fill-opacity=\"1\" stroke=\"#000000\" stroke-opacity=\"1\" stroke-width=\"3.2\"/>\n",
       "<circle clip-path=\"url(#clip222)\" cx=\"492.135\" cy=\"1430.33\" r=\"14\" fill=\"#009af9\" fill-rule=\"evenodd\" fill-opacity=\"1\" stroke=\"#000000\" stroke-opacity=\"1\" stroke-width=\"3.2\"/>\n",
       "<circle clip-path=\"url(#clip222)\" cx=\"594.862\" cy=\"1405.79\" r=\"14\" fill=\"#009af9\" fill-rule=\"evenodd\" fill-opacity=\"1\" stroke=\"#000000\" stroke-opacity=\"1\" stroke-width=\"3.2\"/>\n",
       "<circle clip-path=\"url(#clip222)\" cx=\"697.588\" cy=\"1381.23\" r=\"14\" fill=\"#009af9\" fill-rule=\"evenodd\" fill-opacity=\"1\" stroke=\"#000000\" stroke-opacity=\"1\" stroke-width=\"3.2\"/>\n",
       "<circle clip-path=\"url(#clip222)\" cx=\"800.314\" cy=\"1291.42\" r=\"14\" fill=\"#009af9\" fill-rule=\"evenodd\" fill-opacity=\"1\" stroke=\"#000000\" stroke-opacity=\"1\" stroke-width=\"3.2\"/>\n",
       "<circle clip-path=\"url(#clip222)\" cx=\"903.041\" cy=\"1266.45\" r=\"14\" fill=\"#009af9\" fill-rule=\"evenodd\" fill-opacity=\"1\" stroke=\"#000000\" stroke-opacity=\"1\" stroke-width=\"3.2\"/>\n",
       "<circle clip-path=\"url(#clip222)\" cx=\"1005.77\" cy=\"1187.07\" r=\"14\" fill=\"#009af9\" fill-rule=\"evenodd\" fill-opacity=\"1\" stroke=\"#000000\" stroke-opacity=\"1\" stroke-width=\"3.2\"/>\n",
       "<circle clip-path=\"url(#clip222)\" cx=\"1108.49\" cy=\"1087.86\" r=\"14\" fill=\"#009af9\" fill-rule=\"evenodd\" fill-opacity=\"1\" stroke=\"#000000\" stroke-opacity=\"1\" stroke-width=\"3.2\"/>\n",
       "<circle clip-path=\"url(#clip222)\" cx=\"1211.22\" cy=\"1021.83\" r=\"14\" fill=\"#009af9\" fill-rule=\"evenodd\" fill-opacity=\"1\" stroke=\"#000000\" stroke-opacity=\"1\" stroke-width=\"3.2\"/>\n",
       "<circle clip-path=\"url(#clip222)\" cx=\"1313.95\" cy=\"955.885\" r=\"14\" fill=\"#009af9\" fill-rule=\"evenodd\" fill-opacity=\"1\" stroke=\"#000000\" stroke-opacity=\"1\" stroke-width=\"3.2\"/>\n",
       "<circle clip-path=\"url(#clip222)\" cx=\"1416.67\" cy=\"935.46\" r=\"14\" fill=\"#009af9\" fill-rule=\"evenodd\" fill-opacity=\"1\" stroke=\"#000000\" stroke-opacity=\"1\" stroke-width=\"3.2\"/>\n",
       "<circle clip-path=\"url(#clip222)\" cx=\"1519.4\" cy=\"922.545\" r=\"14\" fill=\"#009af9\" fill-rule=\"evenodd\" fill-opacity=\"1\" stroke=\"#000000\" stroke-opacity=\"1\" stroke-width=\"3.2\"/>\n",
       "<circle clip-path=\"url(#clip222)\" cx=\"1622.13\" cy=\"888.425\" r=\"14\" fill=\"#009af9\" fill-rule=\"evenodd\" fill-opacity=\"1\" stroke=\"#000000\" stroke-opacity=\"1\" stroke-width=\"3.2\"/>\n",
       "<circle clip-path=\"url(#clip222)\" cx=\"1724.85\" cy=\"851.143\" r=\"14\" fill=\"#009af9\" fill-rule=\"evenodd\" fill-opacity=\"1\" stroke=\"#000000\" stroke-opacity=\"1\" stroke-width=\"3.2\"/>\n",
       "<circle clip-path=\"url(#clip222)\" cx=\"1827.58\" cy=\"786.015\" r=\"14\" fill=\"#009af9\" fill-rule=\"evenodd\" fill-opacity=\"1\" stroke=\"#000000\" stroke-opacity=\"1\" stroke-width=\"3.2\"/>\n",
       "<circle clip-path=\"url(#clip222)\" cx=\"1930.3\" cy=\"662.661\" r=\"14\" fill=\"#009af9\" fill-rule=\"evenodd\" fill-opacity=\"1\" stroke=\"#000000\" stroke-opacity=\"1\" stroke-width=\"3.2\"/>\n",
       "<circle clip-path=\"url(#clip222)\" cx=\"2033.03\" cy=\"628.383\" r=\"14\" fill=\"#009af9\" fill-rule=\"evenodd\" fill-opacity=\"1\" stroke=\"#000000\" stroke-opacity=\"1\" stroke-width=\"3.2\"/>\n",
       "<circle clip-path=\"url(#clip222)\" cx=\"2135.76\" cy=\"466.606\" r=\"14\" fill=\"#009af9\" fill-rule=\"evenodd\" fill-opacity=\"1\" stroke=\"#000000\" stroke-opacity=\"1\" stroke-width=\"3.2\"/>\n",
       "<circle clip-path=\"url(#clip222)\" cx=\"2238.48\" cy=\"191.112\" r=\"14\" fill=\"#009af9\" fill-rule=\"evenodd\" fill-opacity=\"1\" stroke=\"#000000\" stroke-opacity=\"1\" stroke-width=\"3.2\"/>\n",
       "<polyline clip-path=\"url(#clip222)\" style=\"stroke:#ff0000; stroke-width:8; stroke-opacity:1; fill:none\" points=\"\n",
       "  333.937,1440.14 353.078,1435.78 530.066,1391.5 636.428,1361.12 726.356,1332.95 824.043,1299.52 914.102,1265.86 1010.65,1226.46 1122.52,1176.09 1221.93,1126.66 \n",
       "  1309.11,1079.33 1404.15,1023.11 1499.77,961.25 1605.47,886.048 1706.05,807.203 1810.63,716.909 1898.67,633.698 2006.15,522.298 2107.18,406.786 2269.05,197.227 \n",
       "  2293.96,162.047 \n",
       "  \"/>\n",
       "</svg>\n"
      ]
     },
     "execution_count": 64,
     "metadata": {},
     "output_type": "execute_result"
    }
   ],
   "source": [
    "pontos_x = [0, 1, 2, 3, 4, 5, 6, 7, 8, 9, 10, 11, 12, 13, 14, 15, 16, 17, 18]\n",
    "pontos_y = [78134, 84040, 92300, 100567, 130795, 139200, 165919, 199314, 221540, 243737, 250612, 254959, 266444, 278993,\n",
    "            300915, 342436, 353974, 408428, 501159]\n",
    "\n",
    "Coeficientes = regressão_função_exponencial(pontos_x, pontos_y, 1)\n",
    "polinomio(x) = (ℯ^Coeficientes[1])*ℯ^(x*Coeficientes[2])\n",
    "scatter(pontos_x,pontos_y,leg=false)\n",
    "plot!(pontos_x -> polinomio(pontos_x), c=:red, lw=2)\n",
    "title!(\"Mínimos Quadrados\")"
   ]
  },
  {
   "cell_type": "code",
   "execution_count": 65,
   "metadata": {},
   "outputs": [
    {
     "data": {
      "text/plain": [
       "regressão_função_potencia_x (generic function with 1 method)"
      ]
     },
     "execution_count": 65,
     "metadata": {},
     "output_type": "execute_result"
    }
   ],
   "source": [
    "function regressão_função_potencia_x(pontos_x,pontos_y, grau) #coeficientes não lineares\n",
    "    #dicionário (\"linearização\") é feito manualmente ou por uma tabela\n",
    "    pontos_y_barra = zeros(length(pontos_y))\n",
    "    pontos_x_barra = zeros(length(pontos_x))\n",
    "    for i in 1:length(pontos_x)\n",
    "        pontos_y_barra[i] = log2(pontos_y[i])\n",
    "        pontos_x_barra[i] = log2(pontos_x[i])\n",
    "    end\n",
    "\n",
    "\n",
    "    #resolver regresssão com coeficientes lineares no \"mundo barra\"\n",
    "    coeficientes_barra = regressão_coeficientes_lineares(pontos_x_barra,pontos_y_barra, grau)\n",
    "    #voltar para o mundo original\n",
    "    return coeficientes_barra\n",
    "end"
   ]
  },
  {
   "cell_type": "code",
   "execution_count": 66,
   "metadata": {},
   "outputs": [
    {
     "data": {
      "text/plain": [
       "19-element Array{Int64,1}:\n",
       "  78134\n",
       "  84040\n",
       "  92300\n",
       " 100567\n",
       " 130795\n",
       " 139200\n",
       " 165919\n",
       " 199314\n",
       " 221540\n",
       " 243737\n",
       " 250612\n",
       " 254959\n",
       " 266444\n",
       " 278993\n",
       " 300915\n",
       " 342436\n",
       " 353974\n",
       " 408428\n",
       " 501159"
      ]
     },
     "execution_count": 66,
     "metadata": {},
     "output_type": "execute_result"
    }
   ],
   "source": [
    "x = [0.1, 0.2, 0.4, 0.8, 0.9]\n",
    "y = [22, 43, 84, 210, 320]\n",
    "\n",
    "A = regressão_função_potencia_x(x, y, 1)\n",
    "plot(x -> 2^A[1]*(x^A[2]), 0, 1, c=:red, lw=2)\n",
    "scatter!(x,y, leg=false, c=:cyan)\n",
    "pontos_x = [2, 3, 4, 5, 6, 7, 8, 9, 10, 11, 12, 13, 14, 15, 16, 17, 18, 19, 20]\n",
    "pontos_y = [78134, 84040, 92300, 100567, 130795, 139200, 165919, 199314, 221540, 243737, 250612, 254959, 266444, 278993,\n",
    "            300915, 342436, 353974, 408428, 501159] "
   ]
  },
  {
   "cell_type": "code",
   "execution_count": 67,
   "metadata": {},
   "outputs": [
    {
     "name": "stdout",
     "output_type": "stream",
     "text": [
      "[14.999286479412877; 0.8189496652467084]\n"
     ]
    },
    {
     "data": {
      "text/plain": [
       "35-element Array{Int64,1}:\n",
       "  242\n",
       "  290\n",
       "  340\n",
       "  363\n",
       "  430\n",
       "  450\n",
       "  500\n",
       "  390\n",
       "  450\n",
       "  500\n",
       "  475\n",
       "  500\n",
       "  500\n",
       "    ⋮\n",
       "  680\n",
       "  700\n",
       "  725\n",
       "  720\n",
       "  714\n",
       "  850\n",
       " 1000\n",
       "  920\n",
       "  955\n",
       "  925\n",
       "  975\n",
       "  950"
      ]
     },
     "execution_count": 67,
     "metadata": {},
     "output_type": "execute_result"
    }
   ],
   "source": [
    "B = regressão_função_potencia_x(pontos_x, pontos_y, 1)\n",
    "println(B)\n",
    "scatter(pontos_x,pontos_y,leg=false)\n",
    "plot!(x -> 2^B[1]*(x^B[2]), c=:red, lw=2)\n",
    "pontos_x = [23.2, 24, 23.9, 26.3, 26.5, 26.8, 26.8, 27.6, 27.6, 28.5, 28.4, 28.7, 29.1, 29.5, 29.4, 29.4, 30.4, 30.4, 30.9, 31, 31.3, 31.4, 31.5, 31.8, 31.9, 31.8, 32, 32.7, 32.8, 33.5, 35, 35, 36.2, 37.4, 38]\n",
    "pontos_y = [242, 290, 340, 363, 430, 450, 500, 390, 450, 500, 475, 500, 500, 340, 600, 600, 700, 700, 610, 650, 575, 685, 620, 680, 700, 725, 720, 714, 850, 1000, 920, 955, 925, 975, 950]\n"
   ]
  },
  {
   "cell_type": "code",
   "execution_count": 68,
   "metadata": {},
   "outputs": [
    {
     "name": "stdout",
     "output_type": "stream",
     "text": [
      "[-4.7694585837962915; 2.8408850567541246]\n"
     ]
    },
    {
     "data": {
      "image/svg+xml": [
       "<?xml version=\"1.0\" encoding=\"utf-8\"?>\n",
       "<svg xmlns=\"http://www.w3.org/2000/svg\" xmlns:xlink=\"http://www.w3.org/1999/xlink\" width=\"600\" height=\"400\" viewBox=\"0 0 2400 1600\">\n",
       "<defs>\n",
       "  <clipPath id=\"clip260\">\n",
       "    <rect x=\"0\" y=\"0\" width=\"2400\" height=\"1600\"/>\n",
       "  </clipPath>\n",
       "</defs>\n",
       "<path clip-path=\"url(#clip260)\" d=\"\n",
       "M0 1600 L2400 1600 L2400 0 L0 0  Z\n",
       "  \" fill=\"#ffffff\" fill-rule=\"evenodd\" fill-opacity=\"1\"/>\n",
       "<defs>\n",
       "  <clipPath id=\"clip261\">\n",
       "    <rect x=\"480\" y=\"0\" width=\"1681\" height=\"1600\"/>\n",
       "  </clipPath>\n",
       "</defs>\n",
       "<path clip-path=\"url(#clip260)\" d=\"\n",
       "M199.283 1486.45 L2352.76 1486.45 L2352.76 47.2441 L199.283 47.2441  Z\n",
       "  \" fill=\"#ffffff\" fill-rule=\"evenodd\" fill-opacity=\"1\"/>\n",
       "<defs>\n",
       "  <clipPath id=\"clip262\">\n",
       "    <rect x=\"199\" y=\"47\" width=\"2154\" height=\"1440\"/>\n",
       "  </clipPath>\n",
       "</defs>\n",
       "<polyline clip-path=\"url(#clip262)\" style=\"stroke:#000000; stroke-width:2; stroke-opacity:0.1; fill:none\" points=\"\n",
       "  421.327,1486.45 421.327,47.2441 \n",
       "  \"/>\n",
       "<polyline clip-path=\"url(#clip262)\" style=\"stroke:#000000; stroke-width:2; stroke-opacity:0.1; fill:none\" points=\"\n",
       "  809.824,1486.45 809.824,47.2441 \n",
       "  \"/>\n",
       "<polyline clip-path=\"url(#clip262)\" style=\"stroke:#000000; stroke-width:2; stroke-opacity:0.1; fill:none\" points=\"\n",
       "  1198.32,1486.45 1198.32,47.2441 \n",
       "  \"/>\n",
       "<polyline clip-path=\"url(#clip262)\" style=\"stroke:#000000; stroke-width:2; stroke-opacity:0.1; fill:none\" points=\"\n",
       "  1586.82,1486.45 1586.82,47.2441 \n",
       "  \"/>\n",
       "<polyline clip-path=\"url(#clip262)\" style=\"stroke:#000000; stroke-width:2; stroke-opacity:0.1; fill:none\" points=\"\n",
       "  1975.31,1486.45 1975.31,47.2441 \n",
       "  \"/>\n",
       "<polyline clip-path=\"url(#clip260)\" style=\"stroke:#000000; stroke-width:4; stroke-opacity:1; fill:none\" points=\"\n",
       "  199.283,1486.45 2352.76,1486.45 \n",
       "  \"/>\n",
       "<polyline clip-path=\"url(#clip260)\" style=\"stroke:#000000; stroke-width:4; stroke-opacity:1; fill:none\" points=\"\n",
       "  421.327,1486.45 421.327,1469.18 \n",
       "  \"/>\n",
       "<polyline clip-path=\"url(#clip260)\" style=\"stroke:#000000; stroke-width:4; stroke-opacity:1; fill:none\" points=\"\n",
       "  809.824,1486.45 809.824,1469.18 \n",
       "  \"/>\n",
       "<polyline clip-path=\"url(#clip260)\" style=\"stroke:#000000; stroke-width:4; stroke-opacity:1; fill:none\" points=\"\n",
       "  1198.32,1486.45 1198.32,1469.18 \n",
       "  \"/>\n",
       "<polyline clip-path=\"url(#clip260)\" style=\"stroke:#000000; stroke-width:4; stroke-opacity:1; fill:none\" points=\"\n",
       "  1586.82,1486.45 1586.82,1469.18 \n",
       "  \"/>\n",
       "<polyline clip-path=\"url(#clip260)\" style=\"stroke:#000000; stroke-width:4; stroke-opacity:1; fill:none\" points=\"\n",
       "  1975.31,1486.45 1975.31,1469.18 \n",
       "  \"/>\n",
       "<path clip-path=\"url(#clip260)\" d=\"M 0 0 M399.857 1543.18 L416.177 1543.18 L416.177 1547.12 L394.232 1547.12 L394.232 1543.18 Q396.894 1540.43 401.478 1535.8 Q406.084 1531.15 407.265 1529.81 Q409.51 1527.28 410.39 1525.55 Q411.292 1523.79 411.292 1522.1 Q411.292 1519.34 409.348 1517.61 Q407.427 1515.87 404.325 1515.87 Q402.126 1515.87 399.672 1516.63 Q397.242 1517.4 394.464 1518.95 L394.464 1514.23 Q397.288 1513.09 399.742 1512.51 Q402.195 1511.93 404.232 1511.93 Q409.603 1511.93 412.797 1514.62 Q415.991 1517.31 415.991 1521.8 Q415.991 1523.93 415.181 1525.85 Q414.394 1527.74 412.288 1530.34 Q411.709 1531.01 408.607 1534.23 Q405.505 1537.42 399.857 1543.18 Z\" fill=\"#000000\" fill-rule=\"evenodd\" fill-opacity=\"1\" /><path clip-path=\"url(#clip260)\" d=\"M 0 0 M438.839 1516.63 L427.033 1535.08 L438.839 1535.08 L438.839 1516.63 M437.612 1512.56 L443.491 1512.56 L443.491 1535.08 L448.422 1535.08 L448.422 1538.97 L443.491 1538.97 L443.491 1547.12 L438.839 1547.12 L438.839 1538.97 L423.237 1538.97 L423.237 1534.46 L437.612 1512.56 Z\" fill=\"#000000\" fill-rule=\"evenodd\" fill-opacity=\"1\" /><path clip-path=\"url(#clip260)\" d=\"M 0 0 M789.048 1543.18 L805.368 1543.18 L805.368 1547.12 L783.423 1547.12 L783.423 1543.18 Q786.085 1540.43 790.669 1535.8 Q795.275 1531.15 796.456 1529.81 Q798.701 1527.28 799.581 1525.55 Q800.483 1523.79 800.483 1522.1 Q800.483 1519.34 798.539 1517.61 Q796.618 1515.87 793.516 1515.87 Q791.317 1515.87 788.863 1516.63 Q786.433 1517.4 783.655 1518.95 L783.655 1514.23 Q786.479 1513.09 788.933 1512.51 Q791.386 1511.93 793.423 1511.93 Q798.794 1511.93 801.988 1514.62 Q805.182 1517.31 805.182 1521.8 Q805.182 1523.93 804.372 1525.85 Q803.585 1527.74 801.479 1530.34 Q800.9 1531.01 797.798 1534.23 Q794.696 1537.42 789.048 1543.18 Z\" fill=\"#000000\" fill-rule=\"evenodd\" fill-opacity=\"1\" /><path clip-path=\"url(#clip260)\" d=\"M 0 0 M814.002 1512.56 L836.224 1512.56 L836.224 1514.55 L823.678 1547.12 L818.794 1547.12 L830.599 1516.5 L814.002 1516.5 L814.002 1512.56 Z\" fill=\"#000000\" fill-rule=\"evenodd\" fill-opacity=\"1\" /><path clip-path=\"url(#clip260)\" d=\"M 0 0 M1187.16 1528.49 Q1190.52 1529.2 1192.39 1531.47 Q1194.29 1533.74 1194.29 1537.07 Q1194.29 1542.19 1190.77 1544.99 Q1187.26 1547.79 1180.77 1547.79 Q1178.6 1547.79 1176.28 1547.35 Q1173.99 1546.93 1171.54 1546.08 L1171.54 1541.56 Q1173.48 1542.7 1175.8 1543.28 Q1178.11 1543.86 1180.64 1543.86 Q1185.03 1543.86 1187.32 1542.12 Q1189.64 1540.38 1189.64 1537.07 Q1189.64 1534.02 1187.49 1532.31 Q1185.36 1530.57 1181.54 1530.57 L1177.51 1530.57 L1177.51 1526.73 L1181.72 1526.73 Q1185.17 1526.73 1187 1525.36 Q1188.83 1523.97 1188.83 1521.38 Q1188.83 1518.72 1186.93 1517.31 Q1185.06 1515.87 1181.54 1515.87 Q1179.62 1515.87 1177.42 1516.29 Q1175.22 1516.7 1172.58 1517.58 L1172.58 1513.42 Q1175.24 1512.68 1177.56 1512.31 Q1179.89 1511.93 1181.95 1511.93 Q1187.28 1511.93 1190.38 1514.37 Q1193.48 1516.77 1193.48 1520.89 Q1193.48 1523.76 1191.84 1525.75 Q1190.2 1527.72 1187.16 1528.49 Z\" fill=\"#000000\" fill-rule=\"evenodd\" fill-opacity=\"1\" /><path clip-path=\"url(#clip260)\" d=\"M 0 0 M1213.16 1515.64 Q1209.55 1515.64 1207.72 1519.2 Q1205.91 1522.75 1205.91 1529.87 Q1205.91 1536.98 1207.72 1540.55 Q1209.55 1544.09 1213.16 1544.09 Q1216.79 1544.09 1218.6 1540.55 Q1220.43 1536.98 1220.43 1529.87 Q1220.43 1522.75 1218.6 1519.2 Q1216.79 1515.64 1213.16 1515.64 M1213.16 1511.93 Q1218.97 1511.93 1222.02 1516.54 Q1225.1 1521.12 1225.1 1529.87 Q1225.1 1538.6 1222.02 1543.21 Q1218.97 1547.79 1213.16 1547.79 Q1207.35 1547.79 1204.27 1543.21 Q1201.21 1538.6 1201.21 1529.87 Q1201.21 1521.12 1204.27 1516.54 Q1207.35 1511.93 1213.16 1511.93 Z\" fill=\"#000000\" fill-rule=\"evenodd\" fill-opacity=\"1\" /><path clip-path=\"url(#clip260)\" d=\"M 0 0 M1575.98 1528.49 Q1579.34 1529.2 1581.21 1531.47 Q1583.11 1533.74 1583.11 1537.07 Q1583.11 1542.19 1579.59 1544.99 Q1576.08 1547.79 1569.59 1547.79 Q1567.42 1547.79 1565.1 1547.35 Q1562.81 1546.93 1560.36 1546.08 L1560.36 1541.56 Q1562.3 1542.7 1564.62 1543.28 Q1566.93 1543.86 1569.46 1543.86 Q1573.85 1543.86 1576.15 1542.12 Q1578.46 1540.38 1578.46 1537.07 Q1578.46 1534.02 1576.31 1532.31 Q1574.18 1530.57 1570.36 1530.57 L1566.33 1530.57 L1566.33 1526.73 L1570.54 1526.73 Q1573.99 1526.73 1575.82 1525.36 Q1577.65 1523.97 1577.65 1521.38 Q1577.65 1518.72 1575.75 1517.31 Q1573.88 1515.87 1570.36 1515.87 Q1568.44 1515.87 1566.24 1516.29 Q1564.04 1516.7 1561.4 1517.58 L1561.4 1513.42 Q1564.06 1512.68 1566.38 1512.31 Q1568.72 1511.93 1570.78 1511.93 Q1576.1 1511.93 1579.2 1514.37 Q1582.3 1516.77 1582.3 1520.89 Q1582.3 1523.76 1580.66 1525.75 Q1579.02 1527.72 1575.98 1528.49 Z\" fill=\"#000000\" fill-rule=\"evenodd\" fill-opacity=\"1\" /><path clip-path=\"url(#clip260)\" d=\"M 0 0 M1606.15 1528.49 Q1609.5 1529.2 1611.38 1531.47 Q1613.27 1533.74 1613.27 1537.07 Q1613.27 1542.19 1609.76 1544.99 Q1606.24 1547.79 1599.76 1547.79 Q1597.58 1547.79 1595.27 1547.35 Q1592.97 1546.93 1590.52 1546.08 L1590.52 1541.56 Q1592.46 1542.7 1594.78 1543.28 Q1597.09 1543.86 1599.62 1543.86 Q1604.02 1543.86 1606.31 1542.12 Q1608.62 1540.38 1608.62 1537.07 Q1608.62 1534.02 1606.47 1532.31 Q1604.34 1530.57 1600.52 1530.57 L1596.49 1530.57 L1596.49 1526.73 L1600.71 1526.73 Q1604.15 1526.73 1605.98 1525.36 Q1607.81 1523.97 1607.81 1521.38 Q1607.81 1518.72 1605.91 1517.31 Q1604.04 1515.87 1600.52 1515.87 Q1598.6 1515.87 1596.4 1516.29 Q1594.2 1516.7 1591.56 1517.58 L1591.56 1513.42 Q1594.22 1512.68 1596.54 1512.31 Q1598.88 1511.93 1600.94 1511.93 Q1606.26 1511.93 1609.36 1514.37 Q1612.46 1516.77 1612.46 1520.89 Q1612.46 1523.76 1610.82 1525.75 Q1609.18 1527.72 1606.15 1528.49 Z\" fill=\"#000000\" fill-rule=\"evenodd\" fill-opacity=\"1\" /><path clip-path=\"url(#clip260)\" d=\"M 0 0 M1964.07 1528.49 Q1967.43 1529.2 1969.31 1531.47 Q1971.2 1533.74 1971.2 1537.07 Q1971.2 1542.19 1967.69 1544.99 Q1964.17 1547.79 1957.69 1547.79 Q1955.51 1547.79 1953.2 1547.35 Q1950.9 1546.93 1948.45 1546.08 L1948.45 1541.56 Q1950.39 1542.7 1952.71 1543.28 Q1955.02 1543.86 1957.55 1543.86 Q1961.95 1543.86 1964.24 1542.12 Q1966.55 1540.38 1966.55 1537.07 Q1966.55 1534.02 1964.4 1532.31 Q1962.27 1530.57 1958.45 1530.57 L1954.42 1530.57 L1954.42 1526.73 L1958.64 1526.73 Q1962.08 1526.73 1963.91 1525.36 Q1965.74 1523.97 1965.74 1521.38 Q1965.74 1518.72 1963.84 1517.31 Q1961.97 1515.87 1958.45 1515.87 Q1956.53 1515.87 1954.33 1516.29 Q1952.13 1516.7 1949.49 1517.58 L1949.49 1513.42 Q1952.15 1512.68 1954.47 1512.31 Q1956.81 1511.93 1958.87 1511.93 Q1964.19 1511.93 1967.29 1514.37 Q1970.39 1516.77 1970.39 1520.89 Q1970.39 1523.76 1968.75 1525.75 Q1967.11 1527.72 1964.07 1528.49 Z\" fill=\"#000000\" fill-rule=\"evenodd\" fill-opacity=\"1\" /><path clip-path=\"url(#clip260)\" d=\"M 0 0 M1990.65 1527.98 Q1987.5 1527.98 1985.65 1530.13 Q1983.82 1532.28 1983.82 1536.03 Q1983.82 1539.76 1985.65 1541.93 Q1987.5 1544.09 1990.65 1544.09 Q1993.8 1544.09 1995.63 1541.93 Q1997.48 1539.76 1997.48 1536.03 Q1997.48 1532.28 1995.63 1530.13 Q1993.8 1527.98 1990.65 1527.98 M1999.93 1513.32 L1999.93 1517.58 Q1998.17 1516.75 1996.37 1516.31 Q1994.58 1515.87 1992.82 1515.87 Q1988.2 1515.87 1985.74 1519 Q1983.31 1522.12 1982.96 1528.44 Q1984.33 1526.43 1986.39 1525.36 Q1988.45 1524.27 1990.93 1524.27 Q1996.14 1524.27 1999.14 1527.44 Q2002.18 1530.59 2002.18 1536.03 Q2002.18 1541.36 1999.03 1544.57 Q1995.88 1547.79 1990.65 1547.79 Q1984.65 1547.79 1981.48 1543.21 Q1978.31 1538.6 1978.31 1529.87 Q1978.31 1521.68 1982.2 1516.82 Q1986.09 1511.93 1992.64 1511.93 Q1994.4 1511.93 1996.18 1512.28 Q1997.99 1512.63 1999.93 1513.32 Z\" fill=\"#000000\" fill-rule=\"evenodd\" fill-opacity=\"1\" /><polyline clip-path=\"url(#clip262)\" style=\"stroke:#000000; stroke-width:2; stroke-opacity:0.1; fill:none\" points=\"\n",
       "  199.283,1213.46 2352.76,1213.46 \n",
       "  \"/>\n",
       "<polyline clip-path=\"url(#clip262)\" style=\"stroke:#000000; stroke-width:2; stroke-opacity:0.1; fill:none\" points=\"\n",
       "  199.283,919.462 2352.76,919.462 \n",
       "  \"/>\n",
       "<polyline clip-path=\"url(#clip262)\" style=\"stroke:#000000; stroke-width:2; stroke-opacity:0.1; fill:none\" points=\"\n",
       "  199.283,625.466 2352.76,625.466 \n",
       "  \"/>\n",
       "<polyline clip-path=\"url(#clip262)\" style=\"stroke:#000000; stroke-width:2; stroke-opacity:0.1; fill:none\" points=\"\n",
       "  199.283,331.469 2352.76,331.469 \n",
       "  \"/>\n",
       "<polyline clip-path=\"url(#clip260)\" style=\"stroke:#000000; stroke-width:4; stroke-opacity:1; fill:none\" points=\"\n",
       "  199.283,1486.45 199.283,47.2441 \n",
       "  \"/>\n",
       "<polyline clip-path=\"url(#clip260)\" style=\"stroke:#000000; stroke-width:4; stroke-opacity:1; fill:none\" points=\"\n",
       "  199.283,1213.46 225.125,1213.46 \n",
       "  \"/>\n",
       "<polyline clip-path=\"url(#clip260)\" style=\"stroke:#000000; stroke-width:4; stroke-opacity:1; fill:none\" points=\"\n",
       "  199.283,919.462 225.125,919.462 \n",
       "  \"/>\n",
       "<polyline clip-path=\"url(#clip260)\" style=\"stroke:#000000; stroke-width:4; stroke-opacity:1; fill:none\" points=\"\n",
       "  199.283,625.466 225.125,625.466 \n",
       "  \"/>\n",
       "<polyline clip-path=\"url(#clip260)\" style=\"stroke:#000000; stroke-width:4; stroke-opacity:1; fill:none\" points=\"\n",
       "  199.283,331.469 225.125,331.469 \n",
       "  \"/>\n",
       "<path clip-path=\"url(#clip260)\" d=\"M 0 0 M93.8623 1200.25 L82.0568 1218.7 L93.8623 1218.7 L93.8623 1200.25 M92.6354 1196.18 L98.515 1196.18 L98.515 1218.7 L103.446 1218.7 L103.446 1222.59 L98.515 1222.59 L98.515 1230.74 L93.8623 1230.74 L93.8623 1222.59 L78.2605 1222.59 L78.2605 1218.08 L92.6354 1196.18 Z\" fill=\"#000000\" fill-rule=\"evenodd\" fill-opacity=\"1\" /><path clip-path=\"url(#clip260)\" d=\"M 0 0 M121.177 1199.26 Q117.566 1199.26 115.737 1202.82 Q113.932 1206.36 113.932 1213.49 Q113.932 1220.6 115.737 1224.16 Q117.566 1227.71 121.177 1227.71 Q124.811 1227.71 126.617 1224.16 Q128.445 1220.6 128.445 1213.49 Q128.445 1206.36 126.617 1202.82 Q124.811 1199.26 121.177 1199.26 M121.177 1195.55 Q126.987 1195.55 130.043 1200.16 Q133.121 1204.74 133.121 1213.49 Q133.121 1222.22 130.043 1226.83 Q126.987 1231.41 121.177 1231.41 Q115.367 1231.41 112.288 1226.83 Q109.233 1222.22 109.233 1213.49 Q109.233 1204.74 112.288 1200.16 Q115.367 1195.55 121.177 1195.55 Z\" fill=\"#000000\" fill-rule=\"evenodd\" fill-opacity=\"1\" /><path clip-path=\"url(#clip260)\" d=\"M 0 0 M151.339 1199.26 Q147.728 1199.26 145.899 1202.82 Q144.093 1206.36 144.093 1213.49 Q144.093 1220.6 145.899 1224.16 Q147.728 1227.71 151.339 1227.71 Q154.973 1227.71 156.779 1224.16 Q158.607 1220.6 158.607 1213.49 Q158.607 1206.36 156.779 1202.82 Q154.973 1199.26 151.339 1199.26 M151.339 1195.55 Q157.149 1195.55 160.205 1200.16 Q163.283 1204.74 163.283 1213.49 Q163.283 1222.22 160.205 1226.83 Q157.149 1231.41 151.339 1231.41 Q145.529 1231.41 142.45 1226.83 Q139.394 1222.22 139.394 1213.49 Q139.394 1204.74 142.45 1200.16 Q145.529 1195.55 151.339 1195.55 Z\" fill=\"#000000\" fill-rule=\"evenodd\" fill-opacity=\"1\" /><path clip-path=\"url(#clip260)\" d=\"M 0 0 M91.5938 917.599 Q88.4456 917.599 86.5938 919.751 Q84.7651 921.904 84.7651 925.654 Q84.7651 929.381 86.5938 931.557 Q88.4456 933.71 91.5938 933.71 Q94.7419 933.71 96.5706 931.557 Q98.4224 929.381 98.4224 925.654 Q98.4224 921.904 96.5706 919.751 Q94.7419 917.599 91.5938 917.599 M100.876 902.946 L100.876 907.205 Q99.1169 906.372 97.3113 905.932 Q95.5289 905.492 93.7697 905.492 Q89.1401 905.492 86.6864 908.617 Q84.2558 911.742 83.9086 918.062 Q85.2743 916.048 87.3345 914.983 Q89.3947 913.895 91.8715 913.895 Q97.0798 913.895 100.089 917.066 Q103.121 920.214 103.121 925.654 Q103.121 930.978 99.9733 934.196 Q96.8252 937.413 91.5938 937.413 Q85.5984 937.413 82.4271 932.83 Q79.2559 928.224 79.2559 919.497 Q79.2559 911.302 83.1447 906.441 Q87.0336 901.557 93.5845 901.557 Q95.3437 901.557 97.1261 901.904 Q98.9317 902.251 100.876 902.946 Z\" fill=\"#000000\" fill-rule=\"evenodd\" fill-opacity=\"1\" /><path clip-path=\"url(#clip260)\" d=\"M 0 0 M121.177 905.261 Q117.566 905.261 115.737 908.826 Q113.932 912.367 113.932 919.497 Q113.932 926.603 115.737 930.168 Q117.566 933.71 121.177 933.71 Q124.811 933.71 126.617 930.168 Q128.445 926.603 128.445 919.497 Q128.445 912.367 126.617 908.826 Q124.811 905.261 121.177 905.261 M121.177 901.557 Q126.987 901.557 130.043 906.163 Q133.121 910.747 133.121 919.497 Q133.121 928.224 130.043 932.83 Q126.987 937.413 121.177 937.413 Q115.367 937.413 112.288 932.83 Q109.233 928.224 109.233 919.497 Q109.233 910.747 112.288 906.163 Q115.367 901.557 121.177 901.557 Z\" fill=\"#000000\" fill-rule=\"evenodd\" fill-opacity=\"1\" /><path clip-path=\"url(#clip260)\" d=\"M 0 0 M151.339 905.261 Q147.728 905.261 145.899 908.826 Q144.093 912.367 144.093 919.497 Q144.093 926.603 145.899 930.168 Q147.728 933.71 151.339 933.71 Q154.973 933.71 156.779 930.168 Q158.607 926.603 158.607 919.497 Q158.607 912.367 156.779 908.826 Q154.973 905.261 151.339 905.261 M151.339 901.557 Q157.149 901.557 160.205 906.163 Q163.283 910.747 163.283 919.497 Q163.283 928.224 160.205 932.83 Q157.149 937.413 151.339 937.413 Q145.529 937.413 142.45 932.83 Q139.394 928.224 139.394 919.497 Q139.394 910.747 142.45 906.163 Q145.529 901.557 151.339 901.557 Z\" fill=\"#000000\" fill-rule=\"evenodd\" fill-opacity=\"1\" /><path clip-path=\"url(#clip260)\" d=\"M 0 0 M91.0151 626.334 Q87.6817 626.334 85.7605 628.116 Q83.8623 629.898 83.8623 633.023 Q83.8623 636.148 85.7605 637.931 Q87.6817 639.713 91.0151 639.713 Q94.3484 639.713 96.2697 637.931 Q98.1909 636.125 98.1909 633.023 Q98.1909 629.898 96.2697 628.116 Q94.3715 626.334 91.0151 626.334 M86.3392 624.343 Q83.3299 623.602 81.6401 621.542 Q79.9735 619.482 79.9735 616.519 Q79.9735 612.375 82.9133 609.968 Q85.8762 607.561 91.0151 607.561 Q96.1771 607.561 99.1169 609.968 Q102.057 612.375 102.057 616.519 Q102.057 619.482 100.367 621.542 Q98.7002 623.602 95.7141 624.343 Q99.0937 625.13 100.969 627.422 Q102.867 629.713 102.867 633.023 Q102.867 638.047 99.7882 640.732 Q96.7326 643.417 91.0151 643.417 Q85.2975 643.417 82.2188 640.732 Q79.1633 638.047 79.1633 633.023 Q79.1633 629.713 81.0614 627.422 Q82.9595 625.13 86.3392 624.343 M84.6262 616.959 Q84.6262 619.644 86.2929 621.148 Q87.9827 622.653 91.0151 622.653 Q94.0243 622.653 95.7141 621.148 Q97.4271 619.644 97.4271 616.959 Q97.4271 614.274 95.7141 612.769 Q94.0243 611.264 91.0151 611.264 Q87.9827 611.264 86.2929 612.769 Q84.6262 614.274 84.6262 616.959 Z\" fill=\"#000000\" fill-rule=\"evenodd\" fill-opacity=\"1\" /><path clip-path=\"url(#clip260)\" d=\"M 0 0 M121.177 611.264 Q117.566 611.264 115.737 614.829 Q113.932 618.371 113.932 625.5 Q113.932 632.607 115.737 636.172 Q117.566 639.713 121.177 639.713 Q124.811 639.713 126.617 636.172 Q128.445 632.607 128.445 625.5 Q128.445 618.371 126.617 614.829 Q124.811 611.264 121.177 611.264 M121.177 607.561 Q126.987 607.561 130.043 612.167 Q133.121 616.75 133.121 625.5 Q133.121 634.227 130.043 638.834 Q126.987 643.417 121.177 643.417 Q115.367 643.417 112.288 638.834 Q109.233 634.227 109.233 625.5 Q109.233 616.75 112.288 612.167 Q115.367 607.561 121.177 607.561 Z\" fill=\"#000000\" fill-rule=\"evenodd\" fill-opacity=\"1\" /><path clip-path=\"url(#clip260)\" d=\"M 0 0 M151.339 611.264 Q147.728 611.264 145.899 614.829 Q144.093 618.371 144.093 625.5 Q144.093 632.607 145.899 636.172 Q147.728 639.713 151.339 639.713 Q154.973 639.713 156.779 636.172 Q158.607 632.607 158.607 625.5 Q158.607 618.371 156.779 614.829 Q154.973 611.264 151.339 611.264 M151.339 607.561 Q157.149 607.561 160.205 612.167 Q163.283 616.75 163.283 625.5 Q163.283 634.227 160.205 638.834 Q157.149 643.417 151.339 643.417 Q145.529 643.417 142.45 638.834 Q139.394 634.227 139.394 625.5 Q139.394 616.75 142.45 612.167 Q145.529 607.561 151.339 607.561 Z\" fill=\"#000000\" fill-rule=\"evenodd\" fill-opacity=\"1\" /><path clip-path=\"url(#clip260)\" d=\"M 0 0 M51.6634 344.814 L59.3023 344.814 L59.3023 318.448 L50.9921 320.115 L50.9921 315.856 L59.256 314.189 L63.9319 314.189 L63.9319 344.814 L71.5707 344.814 L71.5707 348.749 L51.6634 348.749 L51.6634 344.814 Z\" fill=\"#000000\" fill-rule=\"evenodd\" fill-opacity=\"1\" /><path clip-path=\"url(#clip260)\" d=\"M 0 0 M91.0151 317.268 Q87.404 317.268 85.5753 320.833 Q83.7697 324.374 83.7697 331.504 Q83.7697 338.61 85.5753 342.175 Q87.404 345.717 91.0151 345.717 Q94.6493 345.717 96.4548 342.175 Q98.2835 338.61 98.2835 331.504 Q98.2835 324.374 96.4548 320.833 Q94.6493 317.268 91.0151 317.268 M91.0151 313.564 Q96.8252 313.564 99.8808 318.171 Q102.959 322.754 102.959 331.504 Q102.959 340.231 99.8808 344.837 Q96.8252 349.42 91.0151 349.42 Q85.2049 349.42 82.1262 344.837 Q79.0707 340.231 79.0707 331.504 Q79.0707 322.754 82.1262 318.171 Q85.2049 313.564 91.0151 313.564 Z\" fill=\"#000000\" fill-rule=\"evenodd\" fill-opacity=\"1\" /><path clip-path=\"url(#clip260)\" d=\"M 0 0 M121.177 317.268 Q117.566 317.268 115.737 320.833 Q113.932 324.374 113.932 331.504 Q113.932 338.61 115.737 342.175 Q117.566 345.717 121.177 345.717 Q124.811 345.717 126.617 342.175 Q128.445 338.61 128.445 331.504 Q128.445 324.374 126.617 320.833 Q124.811 317.268 121.177 317.268 M121.177 313.564 Q126.987 313.564 130.043 318.171 Q133.121 322.754 133.121 331.504 Q133.121 340.231 130.043 344.837 Q126.987 349.42 121.177 349.42 Q115.367 349.42 112.288 344.837 Q109.233 340.231 109.233 331.504 Q109.233 322.754 112.288 318.171 Q115.367 313.564 121.177 313.564 Z\" fill=\"#000000\" fill-rule=\"evenodd\" fill-opacity=\"1\" /><path clip-path=\"url(#clip260)\" d=\"M 0 0 M151.339 317.268 Q147.728 317.268 145.899 320.833 Q144.093 324.374 144.093 331.504 Q144.093 338.61 145.899 342.175 Q147.728 345.717 151.339 345.717 Q154.973 345.717 156.779 342.175 Q158.607 338.61 158.607 331.504 Q158.607 324.374 156.779 320.833 Q154.973 317.268 151.339 317.268 M151.339 313.564 Q157.149 313.564 160.205 318.171 Q163.283 322.754 163.283 331.504 Q163.283 340.231 160.205 344.837 Q157.149 349.42 151.339 349.42 Q145.529 349.42 142.45 344.837 Q139.394 340.231 139.394 331.504 Q139.394 322.754 142.45 318.171 Q145.529 313.564 151.339 313.564 Z\" fill=\"#000000\" fill-rule=\"evenodd\" fill-opacity=\"1\" /><circle clip-path=\"url(#clip262)\" cx=\"317.728\" cy=\"1445.72\" r=\"14\" fill=\"#009af9\" fill-rule=\"evenodd\" fill-opacity=\"1\" stroke=\"#000000\" stroke-opacity=\"1\" stroke-width=\"3.2\"/>\n",
       "<circle clip-path=\"url(#clip262)\" cx=\"421.327\" cy=\"1375.16\" r=\"14\" fill=\"#009af9\" fill-rule=\"evenodd\" fill-opacity=\"1\" stroke=\"#000000\" stroke-opacity=\"1\" stroke-width=\"3.2\"/>\n",
       "<circle clip-path=\"url(#clip262)\" cx=\"408.377\" cy=\"1301.66\" r=\"14\" fill=\"#009af9\" fill-rule=\"evenodd\" fill-opacity=\"1\" stroke=\"#000000\" stroke-opacity=\"1\" stroke-width=\"3.2\"/>\n",
       "<circle clip-path=\"url(#clip262)\" cx=\"719.174\" cy=\"1267.85\" r=\"14\" fill=\"#009af9\" fill-rule=\"evenodd\" fill-opacity=\"1\" stroke=\"#000000\" stroke-opacity=\"1\" stroke-width=\"3.2\"/>\n",
       "<circle clip-path=\"url(#clip262)\" cx=\"745.074\" cy=\"1169.36\" r=\"14\" fill=\"#009af9\" fill-rule=\"evenodd\" fill-opacity=\"1\" stroke=\"#000000\" stroke-opacity=\"1\" stroke-width=\"3.2\"/>\n",
       "<circle clip-path=\"url(#clip262)\" cx=\"783.924\" cy=\"1139.96\" r=\"14\" fill=\"#009af9\" fill-rule=\"evenodd\" fill-opacity=\"1\" stroke=\"#000000\" stroke-opacity=\"1\" stroke-width=\"3.2\"/>\n",
       "<circle clip-path=\"url(#clip262)\" cx=\"783.924\" cy=\"1066.46\" r=\"14\" fill=\"#009af9\" fill-rule=\"evenodd\" fill-opacity=\"1\" stroke=\"#000000\" stroke-opacity=\"1\" stroke-width=\"3.2\"/>\n",
       "<circle clip-path=\"url(#clip262)\" cx=\"887.523\" cy=\"1228.16\" r=\"14\" fill=\"#009af9\" fill-rule=\"evenodd\" fill-opacity=\"1\" stroke=\"#000000\" stroke-opacity=\"1\" stroke-width=\"3.2\"/>\n",
       "<circle clip-path=\"url(#clip262)\" cx=\"887.523\" cy=\"1139.96\" r=\"14\" fill=\"#009af9\" fill-rule=\"evenodd\" fill-opacity=\"1\" stroke=\"#000000\" stroke-opacity=\"1\" stroke-width=\"3.2\"/>\n",
       "<circle clip-path=\"url(#clip262)\" cx=\"1004.07\" cy=\"1066.46\" r=\"14\" fill=\"#009af9\" fill-rule=\"evenodd\" fill-opacity=\"1\" stroke=\"#000000\" stroke-opacity=\"1\" stroke-width=\"3.2\"/>\n",
       "<circle clip-path=\"url(#clip262)\" cx=\"991.122\" cy=\"1103.21\" r=\"14\" fill=\"#009af9\" fill-rule=\"evenodd\" fill-opacity=\"1\" stroke=\"#000000\" stroke-opacity=\"1\" stroke-width=\"3.2\"/>\n",
       "<circle clip-path=\"url(#clip262)\" cx=\"1029.97\" cy=\"1066.46\" r=\"14\" fill=\"#009af9\" fill-rule=\"evenodd\" fill-opacity=\"1\" stroke=\"#000000\" stroke-opacity=\"1\" stroke-width=\"3.2\"/>\n",
       "<circle clip-path=\"url(#clip262)\" cx=\"1081.77\" cy=\"1066.46\" r=\"14\" fill=\"#009af9\" fill-rule=\"evenodd\" fill-opacity=\"1\" stroke=\"#000000\" stroke-opacity=\"1\" stroke-width=\"3.2\"/>\n",
       "<circle clip-path=\"url(#clip262)\" cx=\"1133.57\" cy=\"1301.66\" r=\"14\" fill=\"#009af9\" fill-rule=\"evenodd\" fill-opacity=\"1\" stroke=\"#000000\" stroke-opacity=\"1\" stroke-width=\"3.2\"/>\n",
       "<circle clip-path=\"url(#clip262)\" cx=\"1120.62\" cy=\"919.462\" r=\"14\" fill=\"#009af9\" fill-rule=\"evenodd\" fill-opacity=\"1\" stroke=\"#000000\" stroke-opacity=\"1\" stroke-width=\"3.2\"/>\n",
       "<circle clip-path=\"url(#clip262)\" cx=\"1120.62\" cy=\"919.462\" r=\"14\" fill=\"#009af9\" fill-rule=\"evenodd\" fill-opacity=\"1\" stroke=\"#000000\" stroke-opacity=\"1\" stroke-width=\"3.2\"/>\n",
       "<circle clip-path=\"url(#clip262)\" cx=\"1250.12\" cy=\"772.464\" r=\"14\" fill=\"#009af9\" fill-rule=\"evenodd\" fill-opacity=\"1\" stroke=\"#000000\" stroke-opacity=\"1\" stroke-width=\"3.2\"/>\n",
       "<circle clip-path=\"url(#clip262)\" cx=\"1250.12\" cy=\"772.464\" r=\"14\" fill=\"#009af9\" fill-rule=\"evenodd\" fill-opacity=\"1\" stroke=\"#000000\" stroke-opacity=\"1\" stroke-width=\"3.2\"/>\n",
       "<circle clip-path=\"url(#clip262)\" cx=\"1314.87\" cy=\"904.762\" r=\"14\" fill=\"#009af9\" fill-rule=\"evenodd\" fill-opacity=\"1\" stroke=\"#000000\" stroke-opacity=\"1\" stroke-width=\"3.2\"/>\n",
       "<circle clip-path=\"url(#clip262)\" cx=\"1327.82\" cy=\"845.963\" r=\"14\" fill=\"#009af9\" fill-rule=\"evenodd\" fill-opacity=\"1\" stroke=\"#000000\" stroke-opacity=\"1\" stroke-width=\"3.2\"/>\n",
       "<circle clip-path=\"url(#clip262)\" cx=\"1366.67\" cy=\"956.212\" r=\"14\" fill=\"#009af9\" fill-rule=\"evenodd\" fill-opacity=\"1\" stroke=\"#000000\" stroke-opacity=\"1\" stroke-width=\"3.2\"/>\n",
       "<circle clip-path=\"url(#clip262)\" cx=\"1379.62\" cy=\"794.514\" r=\"14\" fill=\"#009af9\" fill-rule=\"evenodd\" fill-opacity=\"1\" stroke=\"#000000\" stroke-opacity=\"1\" stroke-width=\"3.2\"/>\n",
       "<circle clip-path=\"url(#clip262)\" cx=\"1392.57\" cy=\"890.062\" r=\"14\" fill=\"#009af9\" fill-rule=\"evenodd\" fill-opacity=\"1\" stroke=\"#000000\" stroke-opacity=\"1\" stroke-width=\"3.2\"/>\n",
       "<circle clip-path=\"url(#clip262)\" cx=\"1431.42\" cy=\"801.863\" r=\"14\" fill=\"#009af9\" fill-rule=\"evenodd\" fill-opacity=\"1\" stroke=\"#000000\" stroke-opacity=\"1\" stroke-width=\"3.2\"/>\n",
       "<circle clip-path=\"url(#clip262)\" cx=\"1444.37\" cy=\"772.464\" r=\"14\" fill=\"#009af9\" fill-rule=\"evenodd\" fill-opacity=\"1\" stroke=\"#000000\" stroke-opacity=\"1\" stroke-width=\"3.2\"/>\n",
       "<circle clip-path=\"url(#clip262)\" cx=\"1431.42\" cy=\"735.714\" r=\"14\" fill=\"#009af9\" fill-rule=\"evenodd\" fill-opacity=\"1\" stroke=\"#000000\" stroke-opacity=\"1\" stroke-width=\"3.2\"/>\n",
       "<circle clip-path=\"url(#clip262)\" cx=\"1457.32\" cy=\"743.064\" r=\"14\" fill=\"#009af9\" fill-rule=\"evenodd\" fill-opacity=\"1\" stroke=\"#000000\" stroke-opacity=\"1\" stroke-width=\"3.2\"/>\n",
       "<circle clip-path=\"url(#clip262)\" cx=\"1547.97\" cy=\"751.884\" r=\"14\" fill=\"#009af9\" fill-rule=\"evenodd\" fill-opacity=\"1\" stroke=\"#000000\" stroke-opacity=\"1\" stroke-width=\"3.2\"/>\n",
       "<circle clip-path=\"url(#clip262)\" cx=\"1560.92\" cy=\"551.966\" r=\"14\" fill=\"#009af9\" fill-rule=\"evenodd\" fill-opacity=\"1\" stroke=\"#000000\" stroke-opacity=\"1\" stroke-width=\"3.2\"/>\n",
       "<circle clip-path=\"url(#clip262)\" cx=\"1651.57\" cy=\"331.469\" r=\"14\" fill=\"#009af9\" fill-rule=\"evenodd\" fill-opacity=\"1\" stroke=\"#000000\" stroke-opacity=\"1\" stroke-width=\"3.2\"/>\n",
       "<circle clip-path=\"url(#clip262)\" cx=\"1845.81\" cy=\"449.068\" r=\"14\" fill=\"#009af9\" fill-rule=\"evenodd\" fill-opacity=\"1\" stroke=\"#000000\" stroke-opacity=\"1\" stroke-width=\"3.2\"/>\n",
       "<circle clip-path=\"url(#clip262)\" cx=\"1845.81\" cy=\"397.618\" r=\"14\" fill=\"#009af9\" fill-rule=\"evenodd\" fill-opacity=\"1\" stroke=\"#000000\" stroke-opacity=\"1\" stroke-width=\"3.2\"/>\n",
       "<circle clip-path=\"url(#clip262)\" cx=\"2001.21\" cy=\"441.718\" r=\"14\" fill=\"#009af9\" fill-rule=\"evenodd\" fill-opacity=\"1\" stroke=\"#000000\" stroke-opacity=\"1\" stroke-width=\"3.2\"/>\n",
       "<circle clip-path=\"url(#clip262)\" cx=\"2156.61\" cy=\"368.219\" r=\"14\" fill=\"#009af9\" fill-rule=\"evenodd\" fill-opacity=\"1\" stroke=\"#000000\" stroke-opacity=\"1\" stroke-width=\"3.2\"/>\n",
       "<circle clip-path=\"url(#clip262)\" cx=\"2234.31\" cy=\"404.968\" r=\"14\" fill=\"#009af9\" fill-rule=\"evenodd\" fill-opacity=\"1\" stroke=\"#000000\" stroke-opacity=\"1\" stroke-width=\"3.2\"/>\n",
       "<polyline clip-path=\"url(#clip262)\" style=\"stroke:#ff0000; stroke-width:8; stroke-opacity:1; fill:none\" points=\"\n",
       "  260.231,1415.16 280.071,1407.73 463.52,1334.56 573.766,1286.63 666.977,1243.7 768.231,1194.52 861.577,1146.77 961.655,1092.94 1077.6,1027.08 1180.65,965.332 \n",
       "  1271.01,908.631 1369.52,844.038 1468.62,776.08 1578.19,697.391 1682.44,618.983 1790.84,533.723 1882.09,458.943 1993.49,363.844 2098.22,270.565 2265.99,113.102 \n",
       "  2291.81,87.9763 \n",
       "  \"/>\n",
       "</svg>\n"
      ]
     },
     "execution_count": 68,
     "metadata": {},
     "output_type": "execute_result"
    }
   ],
   "source": [
    "D = regressão_função_potencia_x(pontos_x, pontos_y, 1)\n",
    "println(D)\n",
    "scatter(pontos_x,pontos_y,leg=false)\n",
    "plot!(x -> 2^D[1]*(x^D[2]), c=:red, lw=2)"
   ]
  },
  {
   "cell_type": "markdown",
   "metadata": {},
   "source": [
    "### Perguntar"
   ]
  },
  {
   "cell_type": "code",
   "execution_count": 69,
   "metadata": {},
   "outputs": [
    {
     "ename": "LoadError",
     "evalue": "\u001b[91msyntax: invalid identifier name \"?\"\u001b[39m",
     "output_type": "error",
     "traceback": [
      "\u001b[91msyntax: invalid identifier name \"?\"\u001b[39m",
      "",
      "Stacktrace:",
      " [1] top-level scope at In[69]:4",
      " [2] include_string(::Function, ::Module, ::String, ::String) at .\\loading.jl:1091"
     ]
    }
   ],
   "source": [
    "# Perguntar pra ele\n",
    "function regresso_função_outra_funçao(pontos_x,pontos_y, grau) #coeficientes não lineares\n",
    "    #dicionário (\"linearização\") é feito manualmente ou por uma tabela\n",
    "    ??????????????\n",
    "    \n",
    "    #resolver regresssão com coeficientes lineares no \"mundo barra\"\n",
    "    regressão_coeficientes_lineares(pontos_x_barra,pontos_y_barra, grau)\n",
    "    \n",
    "    #voltar para o mundo original\n",
    "    ???????????????????????\n",
    "    \n",
    "    return coeficientes\n",
    "end"
   ]
  },
  {
   "cell_type": "markdown",
   "metadata": {},
   "source": [
    "### Integração pela Regra do Retângulo"
   ]
  },
  {
   "cell_type": "code",
   "execution_count": 70,
   "metadata": {},
   "outputs": [
    {
     "data": {
      "text/plain": [
       "regra_do_retangulo (generic function with 1 method)"
      ]
     },
     "execution_count": 70,
     "metadata": {},
     "output_type": "execute_result"
    }
   ],
   "source": [
    "\"\"\" O objetivo dessa função é aproximar a integração da função no intervalo [a,b] utilizando \n",
    "o somatório de n retângulos dados pela base sendo o intervalo [x_k,x_k+1] e a altura como a \n",
    "média das funções nesses dois pontos. O retorno será a estimativa da integral.\"\"\"\n",
    "\n",
    "function regra_do_retangulo(funcao,a,b,n)\n",
    "    integral = 0.0\n",
    "    h = (b-a)/n \n",
    "    for i in 1:n\n",
    "        f = (funcao( a+h*i ) + funcao( a+h*(i-1) ))/2\n",
    "        integral = integral + f*h\n",
    "    end\n",
    "    return integral\n",
    "end"
   ]
  },
  {
   "cell_type": "code",
   "execution_count": 71,
   "metadata": {},
   "outputs": [
    {
     "data": {
      "text/plain": [
       "70.83750000000002"
      ]
     },
     "execution_count": 71,
     "metadata": {},
     "output_type": "execute_result"
    }
   ],
   "source": [
    "f(x) = 2x^2-x\n",
    "regra_do_retangulo(f,0,5,100)"
   ]
  },
  {
   "cell_type": "code",
   "execution_count": 72,
   "metadata": {},
   "outputs": [
    {
     "data": {
      "text/plain": [
       "4.047082902554811"
      ]
     },
     "execution_count": 72,
     "metadata": {},
     "output_type": "execute_result"
    }
   ],
   "source": [
    "f(x) = log(x)\n",
    "regra_do_retangulo(f,1,5,100)"
   ]
  },
  {
   "cell_type": "code",
   "execution_count": 73,
   "metadata": {},
   "outputs": [
    {
     "data": {
      "text/plain": [
       "-1.0408340855860843e-15"
      ]
     },
     "execution_count": 73,
     "metadata": {},
     "output_type": "execute_result"
    }
   ],
   "source": [
    "f(x) = sin(x)\n",
    "regra_do_retangulo(f,-10,10,100)"
   ]
  },
  {
   "cell_type": "markdown",
   "metadata": {},
   "source": [
    "### Integração pela Regra do Trapézio"
   ]
  },
  {
   "cell_type": "code",
   "execution_count": 74,
   "metadata": {},
   "outputs": [
    {
     "data": {
      "text/plain": [
       "regra_do_trapezio (generic function with 1 method)"
      ]
     },
     "execution_count": 74,
     "metadata": {},
     "output_type": "execute_result"
    }
   ],
   "source": [
    "\"\"\" O objetivo dessa função é aproximar a integração da função no intervalo [a,b] utilizando o \n",
    "somatório de n trapézios dados pelo intervalo [x_k,x_k+1] e as duas bases como as funções nesses \n",
    "dois pontos. O retorno será a estimativa da integral.\"\"\"\n",
    "\n",
    "function regra_do_trapezio(funcao,a,b,n)\n",
    "    soma = f(a)+f(b)\n",
    "    for i = 1:n-1\n",
    "        x = a + i*(b-a)/n\n",
    "        soma = soma + 2*f(x)\n",
    "    end\n",
    "    \n",
    "    return soma * (b-a) / (2*n)\n",
    "end"
   ]
  },
  {
   "cell_type": "code",
   "execution_count": 75,
   "metadata": {},
   "outputs": [
    {
     "data": {
      "text/plain": [
       "70.8375"
      ]
     },
     "execution_count": 75,
     "metadata": {},
     "output_type": "execute_result"
    }
   ],
   "source": [
    "f(x) = 2x^2-x\n",
    "regra_do_trapezio(f,0,5,100)"
   ]
  },
  {
   "cell_type": "code",
   "execution_count": 76,
   "metadata": {},
   "outputs": [
    {
     "data": {
      "text/plain": [
       "4.047082902554812"
      ]
     },
     "execution_count": 76,
     "metadata": {},
     "output_type": "execute_result"
    }
   ],
   "source": [
    "f(x) = log(x)\n",
    "regra_do_trapezio(f,1,5,100)"
   ]
  },
  {
   "cell_type": "code",
   "execution_count": 77,
   "metadata": {},
   "outputs": [
    {
     "data": {
      "text/plain": [
       "1.7763568394002506e-16"
      ]
     },
     "execution_count": 77,
     "metadata": {},
     "output_type": "execute_result"
    }
   ],
   "source": [
    "f(x) = sin(x)\n",
    "regra_do_trapezio(f,-10,10,100)"
   ]
  },
  {
   "cell_type": "markdown",
   "metadata": {},
   "source": [
    "### Integração pela Regra do Simpson"
   ]
  },
  {
   "cell_type": "code",
   "execution_count": 78,
   "metadata": {},
   "outputs": [
    {
     "data": {
      "text/plain": [
       "regra_de_simpson (generic function with 1 method)"
      ]
     },
     "execution_count": 78,
     "metadata": {},
     "output_type": "execute_result"
    }
   ],
   "source": [
    "\"\"\" O objetivo dessa função é aproximar a integração da função no intervalo [a,b] dividindo-o\n",
    "em n (sendo n necessariamente par) subintervalos e utilizando a regra de simpson em cada um deles.\n",
    "A regra de simpson em cada um desses subintervalos consiste em aproximar o valor da integral nesse\n",
    "subintervalo pegando 3 pontos (as duas extremidades do subintervalo e um médio), e logo em seguida\n",
    "aproximando a curva que os descreve usando um polinômio interpolador de grau dois.\n",
    "\n",
    "A função retorna uma aproximação para a interval definida dada pelo input\n",
    "\n",
    "ERRO: Essa aproximação tem erro inferior a f^4(x) * 1/180 * (b - a)[(b - a)/n]^4, sendo\n",
    "f^4(x) o valor máximo da quarta derivada de f(x) no intervalo [a, b]\n",
    "\n",
    "@param: - f, função f(x) que queremos integrar\n",
    "        - a, primeiro ponto do intervalo\n",
    "        - b, último ponto do intervalo\n",
    "        - n denota a metade da quantidade de subintervalos que pretendemos dividir nosso intervalo\n",
    "\n",
    "@return: - aproximação para integral de f no intervalo [a,b] dividido em 2n partes\n",
    "\"\"\"\n",
    "\n",
    "# regra de simpson composta\n",
    "function regra_de_simpson(f, a, b, n)\n",
    "    @assert(n % 2 == 0, \"você precisa escolher um n par!\")\n",
    "    \n",
    "    # h denota o tamanho do subintervalo\n",
    "    h = (b - a) / n / 2.0\n",
    "\n",
    "    # adicionamos de antemão a contribuição dos\n",
    "    # pontos nas extremidades\n",
    "    S = f(a) + f(b)\n",
    "\n",
    "    # vamos somar agora a imagem dos pontos médios\n",
    "    for i in 1 : (n << 1)-1\n",
    "        if (i & 1 == 1)\n",
    "            # termo ímpar tem peso 4\n",
    "            S += f(a + h * i) * 4\n",
    "        else \n",
    "            # termo par tem peso 2\n",
    "            S += f(a + h * i) * 2\n",
    "        end\n",
    "    end\n",
    "\n",
    "    return S / 3.0 * h\n",
    "end"
   ]
  },
  {
   "cell_type": "code",
   "execution_count": 79,
   "metadata": {},
   "outputs": [
    {
     "name": "stdout",
     "output_type": "stream",
     "text": [
      "-150.87986847952268\n"
     ]
    }
   ],
   "source": [
    "function f(x)\n",
    "    return x*x - 16*x - exp(x)\n",
    "end\n",
    "\n",
    "println(regra_de_simpson(f, 1.0, 4.0, 48))"
   ]
  },
  {
   "cell_type": "code",
   "execution_count": 80,
   "metadata": {},
   "outputs": [
    {
     "name": "stdout",
     "output_type": "stream",
     "text": [
      "0.8820813907624211\n"
     ]
    }
   ],
   "source": [
    "function f(x) \n",
    "    return exp(-x^2)\n",
    "end\n",
    "\n",
    "# nesse caso temos uma integral sem uma primitiva analítica\n",
    "println(regra_de_simpson(f, 0.0, 2.0, 2112));"
   ]
  },
  {
   "cell_type": "code",
   "execution_count": 81,
   "metadata": {},
   "outputs": [
    {
     "name": "stdout",
     "output_type": "stream",
     "text": [
      "1.0000000000000049\n"
     ]
    }
   ],
   "source": [
    "function f(x) \n",
    "    return cos(x)\n",
    "end\n",
    "\n",
    "println(regra_de_simpson(f, 0.0, acos(-1.0)/2.0, 5322))"
   ]
  },
  {
   "cell_type": "markdown",
   "metadata": {},
   "source": [
    "### Obter o Máximo de uma Função"
   ]
  },
  {
   "cell_type": "code",
   "execution_count": 82,
   "metadata": {},
   "outputs": [
    {
     "data": {
      "text/plain": [
       "maximar_uma_funcao (generic function with 4 methods)"
      ]
     },
     "execution_count": 82,
     "metadata": {},
     "output_type": "execute_result"
    }
   ],
   "source": [
    "# A estratégia é parecida com a dos pontos críticos, com exceção que checamos todos eles\n",
    "# Também checamos as laterais para saber se as laterais são os maiores valores\n",
    "# E por fim precisamos do denominador da função (caso haja) para verificar por assíntotas verticais\n",
    "# Luan\n",
    "function maximar_uma_funcao(funcao, derivada, segunda_derivada, esq, dir, denominador=0, qtd_iterações=1e2, erro=1e-8)\n",
    "    \n",
    "    # Inicializamos o maximo global\n",
    "    maximo_global = []\n",
    "    \n",
    "    # Se o denominador não for o padrão\n",
    "    if denominador != 0\n",
    "        \n",
    "        # Verificamos a bisseção para achar o 0\n",
    "        b = bissecao(denominador, esq, dir)\n",
    "        \n",
    "        # Se o retorno não for um erro (por não existir raízes no denominador)\n",
    "        # Retornamos o ponto da assíntota vertical\n",
    "        if typeof(b) != String && funcao(b) == Inf\n",
    "            return b\n",
    "        end\n",
    "    end\n",
    "    \n",
    "    # Começamos uma lista de intervalos para o método da bisseção e selecionaremos os propícios\n",
    "    lista_de_intervalos = Any[[esq, dir]]\n",
    "    intervalos_propicios = Any[]\n",
    "    \n",
    "    # Escolhemos uma quantidade de iterações para diminuir o intervalo\n",
    "    for j in 1:qtd_iterações\n",
    "        \n",
    "        # Se a lista de intervalos estiver vazia, não temos mais o que procurar\n",
    "        if size(lista_de_intervalos, 1) == 0\n",
    "            break\n",
    "        end\n",
    "        \n",
    "        # Pega o primeiro intervalo da lista\n",
    "        intervalo = lista_de_intervalos[1]\n",
    "        \n",
    "        # Pega os pontos desse intervalo\n",
    "        a = intervalo[1]\n",
    "        b = intervalo[2]\n",
    "        \n",
    "        # Calcula o ponto médio do intervalo\n",
    "        metade_do_intervalo = (a+b)/2.0\n",
    "        \n",
    "        # Retira o intervalo da lista\n",
    "        deleteat!(lista_de_intervalos, 1)\n",
    "\n",
    "        # Sendo x a metade do intervalo, se um dos intervalos criados [a, x] ou [x, b] satisfizer as condições\n",
    "        # Adicionamos ele a uma outra lista contendo os intervalos bons\n",
    "        # Caso contrário adicionamos eles a nossa lista de intervalos\n",
    "        if derivada(a)*derivada(metade_do_intervalo) <= 0\n",
    "            push!(intervalos_propicios, [a, metade_do_intervalo])\n",
    "        else\n",
    "            push!(lista_de_intervalos, [a, metade_do_intervalo])\n",
    "        end\n",
    "        \n",
    "        if derivada(metade_do_intervalo)*derivada(b) <= 0\n",
    "            push!(intervalos_propicios, [metade_do_intervalo, b])\n",
    "        else\n",
    "            push!(lista_de_intervalos, [metade_do_intervalo, b])\n",
    "        end\n",
    "        \n",
    "    end\n",
    "    \n",
    "    maximos_locais = []\n",
    "    \n",
    "    # Checamos todos os intervalos\n",
    "    for i in 1:size(intervalos_propicios, 1)\n",
    "        \n",
    "        # Utilizando a bissecao para achar o ponto\n",
    "        x = bissecao(derivada, intervalos_propicios[i][1], intervalos_propicios[i][2], erro)\n",
    "    \n",
    "        # Se for maximo local, colocamos na lista para verificar se é máximo global\n",
    "        if segunda_derivada(x) <= 0\n",
    "            push!(maximos_locais, x)\n",
    "        end\n",
    "    end\n",
    "    \n",
    "    # Achamos o maximo global\n",
    "    if size(maximos_locais, 1) > 0\n",
    "        \n",
    "        # Verificamos cada um dos maximos locais\n",
    "        for x in maximos_locais\n",
    "            if (size(maximo_global, 1) > 0)\n",
    "                if (maximo_global[1][2] < funcao(x))\n",
    "                    deleteat!(maximo_global, 1)\n",
    "                    push!(maximo_global, [x, funcao(x)])\n",
    "                end\n",
    "            else\n",
    "                push!(maximo_global, [x, funcao(x)])\n",
    "            end\n",
    "        end\n",
    "        \n",
    "    end\n",
    "    \n",
    "    # E verificamos as laterais\n",
    "    if (size(maximo_global, 1) > 0)\n",
    "        if maximo_global[1][2] < funcao(esq)\n",
    "            deleteat!(maximo_global, 1)\n",
    "            push!(maximo_global, [esq, funcao(esq)])\n",
    "        end\n",
    "    else\n",
    "        push!(maximo_global, [esq, funcao(esq)])\n",
    "    end\n",
    "    if maximo_global[1][2] < funcao(dir)\n",
    "        push!(maximo_global, [dir, funcao(dir)])\n",
    "    end\n",
    "        \n",
    "    return maximo_global[1][1]\n",
    "end"
   ]
  },
  {
   "cell_type": "code",
   "execution_count": 83,
   "metadata": {},
   "outputs": [
    {
     "data": {
      "text/plain": [
       "Inf"
      ]
     },
     "execution_count": 83,
     "metadata": {},
     "output_type": "execute_result"
    }
   ],
   "source": [
    "# Teste 1\n",
    "\n",
    "f(x) = 1/x\n",
    "fd(x) = -1/x^2\n",
    "fdd(x) = 2/x^3\n",
    "esq = -1\n",
    "dir = 1\n",
    "d(x) = x\n",
    "p = maximar_uma_funcao(f, fd, fdd, esq, dir, d)\n",
    "f(p)"
   ]
  },
  {
   "cell_type": "code",
   "execution_count": 84,
   "metadata": {},
   "outputs": [
    {
     "data": {
      "image/svg+xml": [
       "<?xml version=\"1.0\" encoding=\"utf-8\"?>\n",
       "<svg xmlns=\"http://www.w3.org/2000/svg\" xmlns:xlink=\"http://www.w3.org/1999/xlink\" width=\"600\" height=\"400\" viewBox=\"0 0 2400 1600\">\n",
       "<defs>\n",
       "  <clipPath id=\"clip300\">\n",
       "    <rect x=\"0\" y=\"0\" width=\"2400\" height=\"1600\"/>\n",
       "  </clipPath>\n",
       "</defs>\n",
       "<path clip-path=\"url(#clip300)\" d=\"\n",
       "M0 1600 L2400 1600 L2400 0 L0 0  Z\n",
       "  \" fill=\"#ffffff\" fill-rule=\"evenodd\" fill-opacity=\"1\"/>\n",
       "<defs>\n",
       "  <clipPath id=\"clip301\">\n",
       "    <rect x=\"480\" y=\"0\" width=\"1681\" height=\"1600\"/>\n",
       "  </clipPath>\n",
       "</defs>\n",
       "<path clip-path=\"url(#clip300)\" d=\"\n",
       "M156.112 1486.45 L2352.76 1486.45 L2352.76 47.2441 L156.112 47.2441  Z\n",
       "  \" fill=\"#ffffff\" fill-rule=\"evenodd\" fill-opacity=\"1\"/>\n",
       "<defs>\n",
       "  <clipPath id=\"clip302\">\n",
       "    <rect x=\"156\" y=\"47\" width=\"2198\" height=\"1440\"/>\n",
       "  </clipPath>\n",
       "</defs>\n",
       "<polyline clip-path=\"url(#clip302)\" style=\"stroke:#000000; stroke-width:2; stroke-opacity:0.1; fill:none\" points=\"\n",
       "  218.281,1486.45 218.281,47.2441 \n",
       "  \"/>\n",
       "<polyline clip-path=\"url(#clip302)\" style=\"stroke:#000000; stroke-width:2; stroke-opacity:0.1; fill:none\" points=\"\n",
       "  563.666,1486.45 563.666,47.2441 \n",
       "  \"/>\n",
       "<polyline clip-path=\"url(#clip302)\" style=\"stroke:#000000; stroke-width:2; stroke-opacity:0.1; fill:none\" points=\"\n",
       "  909.05,1486.45 909.05,47.2441 \n",
       "  \"/>\n",
       "<polyline clip-path=\"url(#clip302)\" style=\"stroke:#000000; stroke-width:2; stroke-opacity:0.1; fill:none\" points=\"\n",
       "  1254.43,1486.45 1254.43,47.2441 \n",
       "  \"/>\n",
       "<polyline clip-path=\"url(#clip302)\" style=\"stroke:#000000; stroke-width:2; stroke-opacity:0.1; fill:none\" points=\"\n",
       "  1599.82,1486.45 1599.82,47.2441 \n",
       "  \"/>\n",
       "<polyline clip-path=\"url(#clip302)\" style=\"stroke:#000000; stroke-width:2; stroke-opacity:0.1; fill:none\" points=\"\n",
       "  1945.2,1486.45 1945.2,47.2441 \n",
       "  \"/>\n",
       "<polyline clip-path=\"url(#clip302)\" style=\"stroke:#000000; stroke-width:2; stroke-opacity:0.1; fill:none\" points=\"\n",
       "  2290.59,1486.45 2290.59,47.2441 \n",
       "  \"/>\n",
       "<polyline clip-path=\"url(#clip300)\" style=\"stroke:#000000; stroke-width:4; stroke-opacity:1; fill:none\" points=\"\n",
       "  156.112,1486.45 2352.76,1486.45 \n",
       "  \"/>\n",
       "<polyline clip-path=\"url(#clip300)\" style=\"stroke:#000000; stroke-width:4; stroke-opacity:1; fill:none\" points=\"\n",
       "  218.281,1486.45 218.281,1469.18 \n",
       "  \"/>\n",
       "<polyline clip-path=\"url(#clip300)\" style=\"stroke:#000000; stroke-width:4; stroke-opacity:1; fill:none\" points=\"\n",
       "  563.666,1486.45 563.666,1469.18 \n",
       "  \"/>\n",
       "<polyline clip-path=\"url(#clip300)\" style=\"stroke:#000000; stroke-width:4; stroke-opacity:1; fill:none\" points=\"\n",
       "  909.05,1486.45 909.05,1469.18 \n",
       "  \"/>\n",
       "<polyline clip-path=\"url(#clip300)\" style=\"stroke:#000000; stroke-width:4; stroke-opacity:1; fill:none\" points=\"\n",
       "  1254.43,1486.45 1254.43,1469.18 \n",
       "  \"/>\n",
       "<polyline clip-path=\"url(#clip300)\" style=\"stroke:#000000; stroke-width:4; stroke-opacity:1; fill:none\" points=\"\n",
       "  1599.82,1486.45 1599.82,1469.18 \n",
       "  \"/>\n",
       "<polyline clip-path=\"url(#clip300)\" style=\"stroke:#000000; stroke-width:4; stroke-opacity:1; fill:none\" points=\"\n",
       "  1945.2,1486.45 1945.2,1469.18 \n",
       "  \"/>\n",
       "<polyline clip-path=\"url(#clip300)\" style=\"stroke:#000000; stroke-width:4; stroke-opacity:1; fill:none\" points=\"\n",
       "  2290.59,1486.45 2290.59,1469.18 \n",
       "  \"/>\n",
       "<path clip-path=\"url(#clip300)\" d=\"M 0 0 M188.038 1530.29 L217.714 1530.29 L217.714 1534.23 L188.038 1534.23 L188.038 1530.29 Z\" fill=\"#000000\" fill-rule=\"evenodd\" fill-opacity=\"1\" /><path clip-path=\"url(#clip300)\" d=\"M 0 0 M228.617 1543.18 L236.256 1543.18 L236.256 1516.82 L227.946 1518.49 L227.946 1514.23 L236.209 1512.56 L240.885 1512.56 L240.885 1543.18 L248.524 1543.18 L248.524 1547.12 L228.617 1547.12 L228.617 1543.18 Z\" fill=\"#000000\" fill-rule=\"evenodd\" fill-opacity=\"1\" /><path clip-path=\"url(#clip300)\" d=\"M 0 0 M563.666 1515.64 Q560.054 1515.64 558.226 1519.2 Q556.42 1522.75 556.42 1529.87 Q556.42 1536.98 558.226 1540.55 Q560.054 1544.09 563.666 1544.09 Q567.3 1544.09 569.105 1540.55 Q570.934 1536.98 570.934 1529.87 Q570.934 1522.75 569.105 1519.2 Q567.3 1515.64 563.666 1515.64 M563.666 1511.93 Q569.476 1511.93 572.531 1516.54 Q575.61 1521.12 575.61 1529.87 Q575.61 1538.6 572.531 1543.21 Q569.476 1547.79 563.666 1547.79 Q557.855 1547.79 554.777 1543.21 Q551.721 1538.6 551.721 1529.87 Q551.721 1521.12 554.777 1516.54 Q557.855 1511.93 563.666 1511.93 Z\" fill=\"#000000\" fill-rule=\"evenodd\" fill-opacity=\"1\" /><path clip-path=\"url(#clip300)\" d=\"M 0 0 M899.432 1543.18 L907.071 1543.18 L907.071 1516.82 L898.76 1518.49 L898.76 1514.23 L907.024 1512.56 L911.7 1512.56 L911.7 1543.18 L919.339 1543.18 L919.339 1547.12 L899.432 1547.12 L899.432 1543.18 Z\" fill=\"#000000\" fill-rule=\"evenodd\" fill-opacity=\"1\" /><path clip-path=\"url(#clip300)\" d=\"M 0 0 M1249.09 1543.18 L1265.41 1543.18 L1265.41 1547.12 L1243.46 1547.12 L1243.46 1543.18 Q1246.12 1540.43 1250.71 1535.8 Q1255.31 1531.15 1256.49 1529.81 Q1258.74 1527.28 1259.62 1525.55 Q1260.52 1523.79 1260.52 1522.1 Q1260.52 1519.34 1258.58 1517.61 Q1256.66 1515.87 1253.55 1515.87 Q1251.36 1515.87 1248.9 1516.63 Q1246.47 1517.4 1243.69 1518.95 L1243.69 1514.23 Q1246.52 1513.09 1248.97 1512.51 Q1251.42 1511.93 1253.46 1511.93 Q1258.83 1511.93 1262.03 1514.62 Q1265.22 1517.31 1265.22 1521.8 Q1265.22 1523.93 1264.41 1525.85 Q1263.62 1527.74 1261.52 1530.34 Q1260.94 1531.01 1257.84 1534.23 Q1254.73 1537.42 1249.09 1543.18 Z\" fill=\"#000000\" fill-rule=\"evenodd\" fill-opacity=\"1\" /><path clip-path=\"url(#clip300)\" d=\"M 0 0 M1604.07 1528.49 Q1607.42 1529.2 1609.3 1531.47 Q1611.2 1533.74 1611.2 1537.07 Q1611.2 1542.19 1607.68 1544.99 Q1604.16 1547.79 1597.68 1547.79 Q1595.5 1547.79 1593.19 1547.35 Q1590.89 1546.93 1588.44 1546.08 L1588.44 1541.56 Q1590.39 1542.7 1592.7 1543.28 Q1595.02 1543.86 1597.54 1543.86 Q1601.94 1543.86 1604.23 1542.12 Q1606.54 1540.38 1606.54 1537.07 Q1606.54 1534.02 1604.39 1532.31 Q1602.26 1530.57 1598.44 1530.57 L1594.41 1530.57 L1594.41 1526.73 L1598.63 1526.73 Q1602.08 1526.73 1603.9 1525.36 Q1605.73 1523.97 1605.73 1521.38 Q1605.73 1518.72 1603.83 1517.31 Q1601.96 1515.87 1598.44 1515.87 Q1596.52 1515.87 1594.32 1516.29 Q1592.12 1516.7 1589.48 1517.58 L1589.48 1513.42 Q1592.14 1512.68 1594.46 1512.31 Q1596.8 1511.93 1598.86 1511.93 Q1604.18 1511.93 1607.28 1514.37 Q1610.39 1516.77 1610.39 1520.89 Q1610.39 1523.76 1608.74 1525.75 Q1607.1 1527.72 1604.07 1528.49 Z\" fill=\"#000000\" fill-rule=\"evenodd\" fill-opacity=\"1\" /><path clip-path=\"url(#clip300)\" d=\"M 0 0 M1948.21 1516.63 L1936.41 1535.08 L1948.21 1535.08 L1948.21 1516.63 M1946.98 1512.56 L1952.86 1512.56 L1952.86 1535.08 L1957.8 1535.08 L1957.8 1538.97 L1952.86 1538.97 L1952.86 1547.12 L1948.21 1547.12 L1948.21 1538.97 L1932.61 1538.97 L1932.61 1534.46 L1946.98 1512.56 Z\" fill=\"#000000\" fill-rule=\"evenodd\" fill-opacity=\"1\" /><path clip-path=\"url(#clip300)\" d=\"M 0 0 M2280.86 1512.56 L2299.22 1512.56 L2299.22 1516.5 L2285.15 1516.5 L2285.15 1524.97 Q2286.17 1524.62 2287.18 1524.46 Q2288.2 1524.27 2289.22 1524.27 Q2295.01 1524.27 2298.39 1527.44 Q2301.77 1530.62 2301.77 1536.03 Q2301.77 1541.61 2298.3 1544.71 Q2294.82 1547.79 2288.5 1547.79 Q2286.33 1547.79 2284.06 1547.42 Q2281.81 1547.05 2279.41 1546.31 L2279.41 1541.61 Q2281.49 1542.74 2283.71 1543.3 Q2285.93 1543.86 2288.41 1543.86 Q2292.42 1543.86 2294.75 1541.75 Q2297.09 1539.64 2297.09 1536.03 Q2297.09 1532.42 2294.75 1530.31 Q2292.42 1528.21 2288.41 1528.21 Q2286.54 1528.21 2284.66 1528.62 Q2282.81 1529.04 2280.86 1529.92 L2280.86 1512.56 Z\" fill=\"#000000\" fill-rule=\"evenodd\" fill-opacity=\"1\" /><polyline clip-path=\"url(#clip302)\" style=\"stroke:#000000; stroke-width:2; stroke-opacity:0.1; fill:none\" points=\"\n",
       "  156.112,1445.73 2352.76,1445.73 \n",
       "  \"/>\n",
       "<polyline clip-path=\"url(#clip302)\" style=\"stroke:#000000; stroke-width:2; stroke-opacity:0.1; fill:none\" points=\"\n",
       "  156.112,1195.98 2352.76,1195.98 \n",
       "  \"/>\n",
       "<polyline clip-path=\"url(#clip302)\" style=\"stroke:#000000; stroke-width:2; stroke-opacity:0.1; fill:none\" points=\"\n",
       "  156.112,946.24 2352.76,946.24 \n",
       "  \"/>\n",
       "<polyline clip-path=\"url(#clip302)\" style=\"stroke:#000000; stroke-width:2; stroke-opacity:0.1; fill:none\" points=\"\n",
       "  156.112,696.495 2352.76,696.495 \n",
       "  \"/>\n",
       "<polyline clip-path=\"url(#clip302)\" style=\"stroke:#000000; stroke-width:2; stroke-opacity:0.1; fill:none\" points=\"\n",
       "  156.112,446.75 2352.76,446.75 \n",
       "  \"/>\n",
       "<polyline clip-path=\"url(#clip302)\" style=\"stroke:#000000; stroke-width:2; stroke-opacity:0.1; fill:none\" points=\"\n",
       "  156.112,197.006 2352.76,197.006 \n",
       "  \"/>\n",
       "<polyline clip-path=\"url(#clip300)\" style=\"stroke:#000000; stroke-width:4; stroke-opacity:1; fill:none\" points=\"\n",
       "  156.112,1486.45 156.112,47.2441 \n",
       "  \"/>\n",
       "<polyline clip-path=\"url(#clip300)\" style=\"stroke:#000000; stroke-width:4; stroke-opacity:1; fill:none\" points=\"\n",
       "  156.112,1445.73 182.472,1445.73 \n",
       "  \"/>\n",
       "<polyline clip-path=\"url(#clip300)\" style=\"stroke:#000000; stroke-width:4; stroke-opacity:1; fill:none\" points=\"\n",
       "  156.112,1195.98 182.472,1195.98 \n",
       "  \"/>\n",
       "<polyline clip-path=\"url(#clip300)\" style=\"stroke:#000000; stroke-width:4; stroke-opacity:1; fill:none\" points=\"\n",
       "  156.112,946.24 182.472,946.24 \n",
       "  \"/>\n",
       "<polyline clip-path=\"url(#clip300)\" style=\"stroke:#000000; stroke-width:4; stroke-opacity:1; fill:none\" points=\"\n",
       "  156.112,696.495 182.472,696.495 \n",
       "  \"/>\n",
       "<polyline clip-path=\"url(#clip300)\" style=\"stroke:#000000; stroke-width:4; stroke-opacity:1; fill:none\" points=\"\n",
       "  156.112,446.75 182.472,446.75 \n",
       "  \"/>\n",
       "<polyline clip-path=\"url(#clip300)\" style=\"stroke:#000000; stroke-width:4; stroke-opacity:1; fill:none\" points=\"\n",
       "  156.112,197.006 182.472,197.006 \n",
       "  \"/>\n",
       "<path clip-path=\"url(#clip300)\" d=\"M 0 0 M62.9365 1431.53 Q59.3254 1431.53 57.4967 1435.09 Q55.6912 1438.63 55.6912 1445.76 Q55.6912 1452.87 57.4967 1456.44 Q59.3254 1459.98 62.9365 1459.98 Q66.5707 1459.98 68.3763 1456.44 Q70.205 1452.87 70.205 1445.76 Q70.205 1438.63 68.3763 1435.09 Q66.5707 1431.53 62.9365 1431.53 M62.9365 1427.82 Q68.7467 1427.82 71.8022 1432.43 Q74.8809 1437.01 74.8809 1445.76 Q74.8809 1454.49 71.8022 1459.1 Q68.7467 1463.68 62.9365 1463.68 Q57.1264 1463.68 54.0477 1459.1 Q50.9921 1454.49 50.9921 1445.76 Q50.9921 1437.01 54.0477 1432.43 Q57.1264 1427.82 62.9365 1427.82 Z\" fill=\"#000000\" fill-rule=\"evenodd\" fill-opacity=\"1\" /><path clip-path=\"url(#clip300)\" d=\"M 0 0 M83.0984 1457.13 L87.9827 1457.13 L87.9827 1463.01 L83.0984 1463.01 L83.0984 1457.13 Z\" fill=\"#000000\" fill-rule=\"evenodd\" fill-opacity=\"1\" /><path clip-path=\"url(#clip300)\" d=\"M 0 0 M108.168 1431.53 Q104.557 1431.53 102.728 1435.09 Q100.922 1438.63 100.922 1445.76 Q100.922 1452.87 102.728 1456.44 Q104.557 1459.98 108.168 1459.98 Q111.802 1459.98 113.608 1456.44 Q115.436 1452.87 115.436 1445.76 Q115.436 1438.63 113.608 1435.09 Q111.802 1431.53 108.168 1431.53 M108.168 1427.82 Q113.978 1427.82 117.033 1432.43 Q120.112 1437.01 120.112 1445.76 Q120.112 1454.49 117.033 1459.1 Q113.978 1463.68 108.168 1463.68 Q102.358 1463.68 99.2789 1459.1 Q96.2234 1454.49 96.2234 1445.76 Q96.2234 1437.01 99.2789 1432.43 Q102.358 1427.82 108.168 1427.82 Z\" fill=\"#000000\" fill-rule=\"evenodd\" fill-opacity=\"1\" /><path clip-path=\"url(#clip300)\" d=\"M 0 0 M63.9319 1181.78 Q60.3208 1181.78 58.4921 1185.35 Q56.6865 1188.89 56.6865 1196.02 Q56.6865 1203.13 58.4921 1206.69 Q60.3208 1210.23 63.9319 1210.23 Q67.5661 1210.23 69.3717 1206.69 Q71.2004 1203.13 71.2004 1196.02 Q71.2004 1188.89 69.3717 1185.35 Q67.5661 1181.78 63.9319 1181.78 M63.9319 1178.08 Q69.742 1178.08 72.7976 1182.69 Q75.8763 1187.27 75.8763 1196.02 Q75.8763 1204.75 72.7976 1209.35 Q69.742 1213.94 63.9319 1213.94 Q58.1217 1213.94 55.043 1209.35 Q51.9875 1204.75 51.9875 1196.02 Q51.9875 1187.27 55.043 1182.69 Q58.1217 1178.08 63.9319 1178.08 Z\" fill=\"#000000\" fill-rule=\"evenodd\" fill-opacity=\"1\" /><path clip-path=\"url(#clip300)\" d=\"M 0 0 M84.0938 1207.38 L88.978 1207.38 L88.978 1213.26 L84.0938 1213.26 L84.0938 1207.38 Z\" fill=\"#000000\" fill-rule=\"evenodd\" fill-opacity=\"1\" /><path clip-path=\"url(#clip300)\" d=\"M 0 0 M99.2095 1178.7 L117.566 1178.7 L117.566 1182.64 L103.492 1182.64 L103.492 1191.11 Q104.51 1190.76 105.529 1190.6 Q106.547 1190.42 107.566 1190.42 Q113.353 1190.42 116.733 1193.59 Q120.112 1196.76 120.112 1202.18 Q120.112 1207.76 116.64 1210.86 Q113.168 1213.94 106.848 1213.94 Q104.672 1213.94 102.404 1213.57 Q100.159 1213.2 97.7511 1212.45 L97.7511 1207.76 Q99.8345 1208.89 102.057 1209.45 Q104.279 1210 106.756 1210 Q110.76 1210 113.098 1207.89 Q115.436 1205.79 115.436 1202.18 Q115.436 1198.57 113.098 1196.46 Q110.76 1194.35 106.756 1194.35 Q104.881 1194.35 103.006 1194.77 Q101.154 1195.19 99.2095 1196.07 L99.2095 1178.7 Z\" fill=\"#000000\" fill-rule=\"evenodd\" fill-opacity=\"1\" /><path clip-path=\"url(#clip300)\" d=\"M 0 0 M53.7467 959.585 L61.3856 959.585 L61.3856 933.219 L53.0754 934.886 L53.0754 930.626 L61.3393 928.96 L66.0152 928.96 L66.0152 959.585 L73.654 959.585 L73.654 963.52 L53.7467 963.52 L53.7467 959.585 Z\" fill=\"#000000\" fill-rule=\"evenodd\" fill-opacity=\"1\" /><path clip-path=\"url(#clip300)\" d=\"M 0 0 M83.0984 957.64 L87.9827 957.64 L87.9827 963.52 L83.0984 963.52 L83.0984 957.64 Z\" fill=\"#000000\" fill-rule=\"evenodd\" fill-opacity=\"1\" /><path clip-path=\"url(#clip300)\" d=\"M 0 0 M108.168 932.039 Q104.557 932.039 102.728 935.603 Q100.922 939.145 100.922 946.275 Q100.922 953.381 102.728 956.946 Q104.557 960.487 108.168 960.487 Q111.802 960.487 113.608 956.946 Q115.436 953.381 115.436 946.275 Q115.436 939.145 113.608 935.603 Q111.802 932.039 108.168 932.039 M108.168 928.335 Q113.978 928.335 117.033 932.941 Q120.112 937.525 120.112 946.275 Q120.112 955.001 117.033 959.608 Q113.978 964.191 108.168 964.191 Q102.358 964.191 99.2789 959.608 Q96.2234 955.001 96.2234 946.275 Q96.2234 937.525 99.2789 932.941 Q102.358 928.335 108.168 928.335 Z\" fill=\"#000000\" fill-rule=\"evenodd\" fill-opacity=\"1\" /><path clip-path=\"url(#clip300)\" d=\"M 0 0 M54.7421 709.84 L62.381 709.84 L62.381 683.474 L54.0708 685.141 L54.0708 680.882 L62.3347 679.215 L67.0106 679.215 L67.0106 709.84 L74.6494 709.84 L74.6494 713.775 L54.7421 713.775 L54.7421 709.84 Z\" fill=\"#000000\" fill-rule=\"evenodd\" fill-opacity=\"1\" /><path clip-path=\"url(#clip300)\" d=\"M 0 0 M84.0938 707.896 L88.978 707.896 L88.978 713.775 L84.0938 713.775 L84.0938 707.896 Z\" fill=\"#000000\" fill-rule=\"evenodd\" fill-opacity=\"1\" /><path clip-path=\"url(#clip300)\" d=\"M 0 0 M99.2095 679.215 L117.566 679.215 L117.566 683.15 L103.492 683.15 L103.492 691.622 Q104.51 691.275 105.529 691.113 Q106.547 690.928 107.566 690.928 Q113.353 690.928 116.733 694.099 Q120.112 697.271 120.112 702.687 Q120.112 708.266 116.64 711.368 Q113.168 714.446 106.848 714.446 Q104.672 714.446 102.404 714.076 Q100.159 713.706 97.7511 712.965 L97.7511 708.266 Q99.8345 709.4 102.057 709.956 Q104.279 710.511 106.756 710.511 Q110.76 710.511 113.098 708.405 Q115.436 706.298 115.436 702.687 Q115.436 699.076 113.098 696.97 Q110.76 694.863 106.756 694.863 Q104.881 694.863 103.006 695.28 Q101.154 695.697 99.2095 696.576 L99.2095 679.215 Z\" fill=\"#000000\" fill-rule=\"evenodd\" fill-opacity=\"1\" /><path clip-path=\"url(#clip300)\" d=\"M 0 0 M56.9643 460.095 L73.2837 460.095 L73.2837 464.03 L51.3393 464.03 L51.3393 460.095 Q54.0014 457.341 58.5847 452.711 Q63.1911 448.058 64.3717 446.716 Q66.617 444.193 67.4967 442.456 Q68.3994 440.697 68.3994 439.007 Q68.3994 436.253 66.455 434.517 Q64.5337 432.781 61.4319 432.781 Q59.2328 432.781 56.7791 433.544 Q54.3486 434.308 51.5708 435.859 L51.5708 431.137 Q54.3949 430.003 56.8486 429.424 Q59.3023 428.845 61.3393 428.845 Q66.7096 428.845 69.9041 431.531 Q73.0985 434.216 73.0985 438.706 Q73.0985 440.836 72.2883 442.757 Q71.5013 444.656 69.3948 447.248 Q68.8161 447.919 65.7143 451.137 Q62.6124 454.331 56.9643 460.095 Z\" fill=\"#000000\" fill-rule=\"evenodd\" fill-opacity=\"1\" /><path clip-path=\"url(#clip300)\" d=\"M 0 0 M83.0984 458.151 L87.9827 458.151 L87.9827 464.03 L83.0984 464.03 L83.0984 458.151 Z\" fill=\"#000000\" fill-rule=\"evenodd\" fill-opacity=\"1\" /><path clip-path=\"url(#clip300)\" d=\"M 0 0 M108.168 432.549 Q104.557 432.549 102.728 436.114 Q100.922 439.656 100.922 446.785 Q100.922 453.892 102.728 457.456 Q104.557 460.998 108.168 460.998 Q111.802 460.998 113.608 457.456 Q115.436 453.892 115.436 446.785 Q115.436 439.656 113.608 436.114 Q111.802 432.549 108.168 432.549 M108.168 428.845 Q113.978 428.845 117.033 433.452 Q120.112 438.035 120.112 446.785 Q120.112 455.512 117.033 460.118 Q113.978 464.702 108.168 464.702 Q102.358 464.702 99.2789 460.118 Q96.2234 455.512 96.2234 446.785 Q96.2234 438.035 99.2789 433.452 Q102.358 428.845 108.168 428.845 Z\" fill=\"#000000\" fill-rule=\"evenodd\" fill-opacity=\"1\" /><path clip-path=\"url(#clip300)\" d=\"M 0 0 M57.9597 210.351 L74.279 210.351 L74.279 214.286 L52.3347 214.286 L52.3347 210.351 Q54.9967 207.596 59.58 202.966 Q64.1865 198.314 65.367 196.971 Q67.6124 194.448 68.492 192.712 Q69.3948 190.953 69.3948 189.263 Q69.3948 186.508 67.4504 184.772 Q65.5291 183.036 62.4272 183.036 Q60.2282 183.036 57.7745 183.8 Q55.344 184.564 52.5662 186.115 L52.5662 181.392 Q55.3903 180.258 57.8439 179.679 Q60.2976 179.101 62.3347 179.101 Q67.705 179.101 70.8994 181.786 Q74.0939 184.471 74.0939 188.962 Q74.0939 191.091 73.2837 193.013 Q72.4966 194.911 70.3902 197.503 Q69.8115 198.175 66.7096 201.392 Q63.6078 204.587 57.9597 210.351 Z\" fill=\"#000000\" fill-rule=\"evenodd\" fill-opacity=\"1\" /><path clip-path=\"url(#clip300)\" d=\"M 0 0 M84.0938 208.406 L88.978 208.406 L88.978 214.286 L84.0938 214.286 L84.0938 208.406 Z\" fill=\"#000000\" fill-rule=\"evenodd\" fill-opacity=\"1\" /><path clip-path=\"url(#clip300)\" d=\"M 0 0 M99.2095 179.726 L117.566 179.726 L117.566 183.661 L103.492 183.661 L103.492 192.133 Q104.51 191.786 105.529 191.624 Q106.547 191.439 107.566 191.439 Q113.353 191.439 116.733 194.61 Q120.112 197.781 120.112 203.198 Q120.112 208.777 116.64 211.878 Q113.168 214.957 106.848 214.957 Q104.672 214.957 102.404 214.587 Q100.159 214.216 97.7511 213.476 L97.7511 208.777 Q99.8345 209.911 102.057 210.466 Q104.279 211.022 106.756 211.022 Q110.76 211.022 113.098 208.915 Q115.436 206.809 115.436 203.198 Q115.436 199.587 113.098 197.48 Q110.76 195.374 106.756 195.374 Q104.881 195.374 103.006 195.79 Q101.154 196.207 99.2095 197.087 L99.2095 179.726 Z\" fill=\"#000000\" fill-rule=\"evenodd\" fill-opacity=\"1\" /><polyline clip-path=\"url(#clip302)\" style=\"stroke:#009af9; stroke-width:4; stroke-opacity:1; fill:none\" points=\"\n",
       "  218.281,87.9763 223.341,146.634 228.4,203.307 233.46,258.048 238.519,310.911 250.215,426.196 261.91,532.318 273.605,629.85 285.301,719.336 296.996,801.288 \n",
       "  308.692,876.192 320.387,944.505 332.083,1006.66 343.778,1063.07 355.474,1114.11 367.169,1160.16 378.865,1201.55 402.255,1271.65 425.646,1326.78 439.703,1353.61 \n",
       "  453.76,1376.2 467.817,1394.96 481.874,1410.23 509.988,1431.64 538.102,1442.78 561.872,1445.72 585.642,1443.83 609.412,1438.05 633.182,1429.18 684.824,1402.45 \n",
       "  736.465,1369.92 784.074,1338.27 831.684,1307.3 882.725,1276.5 933.767,1249.31 992.905,1223.1 1052.04,1202.88 1157.15,1181.2 1249.32,1175.35 1349.81,1180.02 \n",
       "  1450.9,1193.17 1562.66,1214.05 1669.01,1237.26 1779.58,1262.58 1872.65,1283.61 1986.29,1307.93 2093.11,1328.83 2264.25,1357.67 2290.59,1361.59 \n",
       "  \"/>\n",
       "<circle clip-path=\"url(#clip302)\" cx=\"218.281\" cy=\"87.9763\" r=\"14\" fill=\"#e26f46\" fill-rule=\"evenodd\" fill-opacity=\"1\" stroke=\"#000000\" stroke-opacity=\"1\" stroke-width=\"3.2\"/>\n",
       "</svg>\n"
      ]
     },
     "execution_count": 84,
     "metadata": {},
     "output_type": "execute_result"
    }
   ],
   "source": [
    "# Teste 2\n",
    "\n",
    "f(x) = x^2 * exp(-x)\n",
    "fd(x) = -exp(-x)*x*(x-2)\n",
    "fdd(x) = exp(-x)*(x^2 - 4*x + 2)\n",
    "esq = -1\n",
    "dir = 5\n",
    "p = maximar_uma_funcao(f, fd, fdd, esq, dir)\n",
    "\n",
    "plot(f, esq, dir, leg=false)\n",
    "scatter!(p:p, [f(p)])"
   ]
  },
  {
   "cell_type": "code",
   "execution_count": 85,
   "metadata": {},
   "outputs": [
    {
     "data": {
      "image/svg+xml": [
       "<?xml version=\"1.0\" encoding=\"utf-8\"?>\n",
       "<svg xmlns=\"http://www.w3.org/2000/svg\" xmlns:xlink=\"http://www.w3.org/1999/xlink\" width=\"600\" height=\"400\" viewBox=\"0 0 2400 1600\">\n",
       "<defs>\n",
       "  <clipPath id=\"clip340\">\n",
       "    <rect x=\"0\" y=\"0\" width=\"2400\" height=\"1600\"/>\n",
       "  </clipPath>\n",
       "</defs>\n",
       "<path clip-path=\"url(#clip340)\" d=\"\n",
       "M0 1600 L2400 1600 L2400 0 L0 0  Z\n",
       "  \" fill=\"#ffffff\" fill-rule=\"evenodd\" fill-opacity=\"1\"/>\n",
       "<defs>\n",
       "  <clipPath id=\"clip341\">\n",
       "    <rect x=\"480\" y=\"0\" width=\"1681\" height=\"1600\"/>\n",
       "  </clipPath>\n",
       "</defs>\n",
       "<path clip-path=\"url(#clip340)\" d=\"\n",
       "M186.274 1486.45 L2352.76 1486.45 L2352.76 47.2441 L186.274 47.2441  Z\n",
       "  \" fill=\"#ffffff\" fill-rule=\"evenodd\" fill-opacity=\"1\"/>\n",
       "<defs>\n",
       "  <clipPath id=\"clip342\">\n",
       "    <rect x=\"186\" y=\"47\" width=\"2167\" height=\"1440\"/>\n",
       "  </clipPath>\n",
       "</defs>\n",
       "<polyline clip-path=\"url(#clip342)\" style=\"stroke:#000000; stroke-width:2; stroke-opacity:0.1; fill:none\" points=\"\n",
       "  247.59,1486.45 247.59,47.2441 \n",
       "  \"/>\n",
       "<polyline clip-path=\"url(#clip342)\" style=\"stroke:#000000; stroke-width:2; stroke-opacity:0.1; fill:none\" points=\"\n",
       "  758.552,1486.45 758.552,47.2441 \n",
       "  \"/>\n",
       "<polyline clip-path=\"url(#clip342)\" style=\"stroke:#000000; stroke-width:2; stroke-opacity:0.1; fill:none\" points=\"\n",
       "  1269.51,1486.45 1269.51,47.2441 \n",
       "  \"/>\n",
       "<polyline clip-path=\"url(#clip342)\" style=\"stroke:#000000; stroke-width:2; stroke-opacity:0.1; fill:none\" points=\"\n",
       "  1780.48,1486.45 1780.48,47.2441 \n",
       "  \"/>\n",
       "<polyline clip-path=\"url(#clip342)\" style=\"stroke:#000000; stroke-width:2; stroke-opacity:0.1; fill:none\" points=\"\n",
       "  2291.44,1486.45 2291.44,47.2441 \n",
       "  \"/>\n",
       "<polyline clip-path=\"url(#clip340)\" style=\"stroke:#000000; stroke-width:4; stroke-opacity:1; fill:none\" points=\"\n",
       "  186.274,1486.45 2352.76,1486.45 \n",
       "  \"/>\n",
       "<polyline clip-path=\"url(#clip340)\" style=\"stroke:#000000; stroke-width:4; stroke-opacity:1; fill:none\" points=\"\n",
       "  247.59,1486.45 247.59,1469.18 \n",
       "  \"/>\n",
       "<polyline clip-path=\"url(#clip340)\" style=\"stroke:#000000; stroke-width:4; stroke-opacity:1; fill:none\" points=\"\n",
       "  758.552,1486.45 758.552,1469.18 \n",
       "  \"/>\n",
       "<polyline clip-path=\"url(#clip340)\" style=\"stroke:#000000; stroke-width:4; stroke-opacity:1; fill:none\" points=\"\n",
       "  1269.51,1486.45 1269.51,1469.18 \n",
       "  \"/>\n",
       "<polyline clip-path=\"url(#clip340)\" style=\"stroke:#000000; stroke-width:4; stroke-opacity:1; fill:none\" points=\"\n",
       "  1780.48,1486.45 1780.48,1469.18 \n",
       "  \"/>\n",
       "<polyline clip-path=\"url(#clip340)\" style=\"stroke:#000000; stroke-width:4; stroke-opacity:1; fill:none\" points=\"\n",
       "  2291.44,1486.45 2291.44,1469.18 \n",
       "  \"/>\n",
       "<path clip-path=\"url(#clip340)\" d=\"M 0 0 M217.532 1530.29 L247.208 1530.29 L247.208 1534.23 L217.532 1534.23 L217.532 1530.29 Z\" fill=\"#000000\" fill-rule=\"evenodd\" fill-opacity=\"1\" /><path clip-path=\"url(#clip340)\" d=\"M 0 0 M261.328 1543.18 L277.647 1543.18 L277.647 1547.12 L255.703 1547.12 L255.703 1543.18 Q258.365 1540.43 262.948 1535.8 Q267.555 1531.15 268.735 1529.81 Q270.981 1527.28 271.86 1525.55 Q272.763 1523.79 272.763 1522.1 Q272.763 1519.34 270.819 1517.61 Q268.897 1515.87 265.795 1515.87 Q263.596 1515.87 261.143 1516.63 Q258.712 1517.4 255.934 1518.95 L255.934 1514.23 Q258.758 1513.09 261.212 1512.51 Q263.666 1511.93 265.703 1511.93 Q271.073 1511.93 274.268 1514.62 Q277.462 1517.31 277.462 1521.8 Q277.462 1523.93 276.652 1525.85 Q275.865 1527.74 273.758 1530.34 Q273.18 1531.01 270.078 1534.23 Q266.976 1537.42 261.328 1543.18 Z\" fill=\"#000000\" fill-rule=\"evenodd\" fill-opacity=\"1\" /><path clip-path=\"url(#clip340)\" d=\"M 0 0 M728.309 1530.29 L757.985 1530.29 L757.985 1534.23 L728.309 1534.23 L728.309 1530.29 Z\" fill=\"#000000\" fill-rule=\"evenodd\" fill-opacity=\"1\" /><path clip-path=\"url(#clip340)\" d=\"M 0 0 M768.888 1543.18 L776.527 1543.18 L776.527 1516.82 L768.217 1518.49 L768.217 1514.23 L776.48 1512.56 L781.156 1512.56 L781.156 1543.18 L788.795 1543.18 L788.795 1547.12 L768.888 1547.12 L768.888 1543.18 Z\" fill=\"#000000\" fill-rule=\"evenodd\" fill-opacity=\"1\" /><path clip-path=\"url(#clip340)\" d=\"M 0 0 M1269.51 1515.64 Q1265.9 1515.64 1264.08 1519.2 Q1262.27 1522.75 1262.27 1529.87 Q1262.27 1536.98 1264.08 1540.55 Q1265.9 1544.09 1269.51 1544.09 Q1273.15 1544.09 1274.95 1540.55 Q1276.78 1536.98 1276.78 1529.87 Q1276.78 1522.75 1274.95 1519.2 Q1273.15 1515.64 1269.51 1515.64 M1269.51 1511.93 Q1275.33 1511.93 1278.38 1516.54 Q1281.46 1521.12 1281.46 1529.87 Q1281.46 1538.6 1278.38 1543.21 Q1275.33 1547.79 1269.51 1547.79 Q1263.7 1547.79 1260.63 1543.21 Q1257.57 1538.6 1257.57 1529.87 Q1257.57 1521.12 1260.63 1516.54 Q1263.7 1511.93 1269.51 1511.93 Z\" fill=\"#000000\" fill-rule=\"evenodd\" fill-opacity=\"1\" /><path clip-path=\"url(#clip340)\" d=\"M 0 0 M1770.86 1543.18 L1778.5 1543.18 L1778.5 1516.82 L1770.19 1518.49 L1770.19 1514.23 L1778.45 1512.56 L1783.13 1512.56 L1783.13 1543.18 L1790.77 1543.18 L1790.77 1547.12 L1770.86 1547.12 L1770.86 1543.18 Z\" fill=\"#000000\" fill-rule=\"evenodd\" fill-opacity=\"1\" /><path clip-path=\"url(#clip340)\" d=\"M 0 0 M2286.09 1543.18 L2302.41 1543.18 L2302.41 1547.12 L2280.47 1547.12 L2280.47 1543.18 Q2283.13 1540.43 2287.71 1535.8 Q2292.32 1531.15 2293.5 1529.81 Q2295.75 1527.28 2296.63 1525.55 Q2297.53 1523.79 2297.53 1522.1 Q2297.53 1519.34 2295.58 1517.61 Q2293.66 1515.87 2290.56 1515.87 Q2288.36 1515.87 2285.91 1516.63 Q2283.48 1517.4 2280.7 1518.95 L2280.7 1514.23 Q2283.52 1513.09 2285.98 1512.51 Q2288.43 1511.93 2290.47 1511.93 Q2295.84 1511.93 2299.03 1514.62 Q2302.23 1517.31 2302.23 1521.8 Q2302.23 1523.93 2301.42 1525.85 Q2300.63 1527.74 2298.52 1530.34 Q2297.94 1531.01 2294.84 1534.23 Q2291.74 1537.42 2286.09 1543.18 Z\" fill=\"#000000\" fill-rule=\"evenodd\" fill-opacity=\"1\" /><polyline clip-path=\"url(#clip342)\" style=\"stroke:#000000; stroke-width:2; stroke-opacity:0.1; fill:none\" points=\"\n",
       "  186.274,1471.05 2352.76,1471.05 \n",
       "  \"/>\n",
       "<polyline clip-path=\"url(#clip342)\" style=\"stroke:#000000; stroke-width:2; stroke-opacity:0.1; fill:none\" points=\"\n",
       "  186.274,1125.28 2352.76,1125.28 \n",
       "  \"/>\n",
       "<polyline clip-path=\"url(#clip342)\" style=\"stroke:#000000; stroke-width:2; stroke-opacity:0.1; fill:none\" points=\"\n",
       "  186.274,779.512 2352.76,779.512 \n",
       "  \"/>\n",
       "<polyline clip-path=\"url(#clip342)\" style=\"stroke:#000000; stroke-width:2; stroke-opacity:0.1; fill:none\" points=\"\n",
       "  186.274,433.744 2352.76,433.744 \n",
       "  \"/>\n",
       "<polyline clip-path=\"url(#clip342)\" style=\"stroke:#000000; stroke-width:2; stroke-opacity:0.1; fill:none\" points=\"\n",
       "  186.274,87.9763 2352.76,87.9763 \n",
       "  \"/>\n",
       "<polyline clip-path=\"url(#clip340)\" style=\"stroke:#000000; stroke-width:4; stroke-opacity:1; fill:none\" points=\"\n",
       "  186.274,1486.45 186.274,47.2441 \n",
       "  \"/>\n",
       "<polyline clip-path=\"url(#clip340)\" style=\"stroke:#000000; stroke-width:4; stroke-opacity:1; fill:none\" points=\"\n",
       "  186.274,1471.05 212.272,1471.05 \n",
       "  \"/>\n",
       "<polyline clip-path=\"url(#clip340)\" style=\"stroke:#000000; stroke-width:4; stroke-opacity:1; fill:none\" points=\"\n",
       "  186.274,1125.28 212.272,1125.28 \n",
       "  \"/>\n",
       "<polyline clip-path=\"url(#clip340)\" style=\"stroke:#000000; stroke-width:4; stroke-opacity:1; fill:none\" points=\"\n",
       "  186.274,779.512 212.272,779.512 \n",
       "  \"/>\n",
       "<polyline clip-path=\"url(#clip340)\" style=\"stroke:#000000; stroke-width:4; stroke-opacity:1; fill:none\" points=\"\n",
       "  186.274,433.744 212.272,433.744 \n",
       "  \"/>\n",
       "<polyline clip-path=\"url(#clip340)\" style=\"stroke:#000000; stroke-width:4; stroke-opacity:1; fill:none\" points=\"\n",
       "  186.274,87.9763 212.272,87.9763 \n",
       "  \"/>\n",
       "<path clip-path=\"url(#clip340)\" d=\"M 0 0 M62.9365 1456.85 Q59.3254 1456.85 57.4967 1460.41 Q55.6912 1463.95 55.6912 1471.08 Q55.6912 1478.19 57.4967 1481.75 Q59.3254 1485.3 62.9365 1485.3 Q66.5707 1485.3 68.3763 1481.75 Q70.205 1478.19 70.205 1471.08 Q70.205 1463.95 68.3763 1460.41 Q66.5707 1456.85 62.9365 1456.85 M62.9365 1453.14 Q68.7467 1453.14 71.8022 1457.75 Q74.8809 1462.33 74.8809 1471.08 Q74.8809 1479.81 71.8022 1484.42 Q68.7467 1489 62.9365 1489 Q57.1264 1489 54.0477 1484.42 Q50.9921 1479.81 50.9921 1471.08 Q50.9921 1462.33 54.0477 1457.75 Q57.1264 1453.14 62.9365 1453.14 Z\" fill=\"#000000\" fill-rule=\"evenodd\" fill-opacity=\"1\" /><path clip-path=\"url(#clip340)\" d=\"M 0 0 M83.0984 1482.45 L87.9827 1482.45 L87.9827 1488.33 L83.0984 1488.33 L83.0984 1482.45 Z\" fill=\"#000000\" fill-rule=\"evenodd\" fill-opacity=\"1\" /><path clip-path=\"url(#clip340)\" d=\"M 0 0 M108.168 1456.85 Q104.557 1456.85 102.728 1460.41 Q100.922 1463.95 100.922 1471.08 Q100.922 1478.19 102.728 1481.75 Q104.557 1485.3 108.168 1485.3 Q111.802 1485.3 113.608 1481.75 Q115.436 1478.19 115.436 1471.08 Q115.436 1463.95 113.608 1460.41 Q111.802 1456.85 108.168 1456.85 M108.168 1453.14 Q113.978 1453.14 117.033 1457.75 Q120.112 1462.33 120.112 1471.08 Q120.112 1479.81 117.033 1484.42 Q113.978 1489 108.168 1489 Q102.358 1489 99.2789 1484.42 Q96.2234 1479.81 96.2234 1471.08 Q96.2234 1462.33 99.2789 1457.75 Q102.358 1453.14 108.168 1453.14 Z\" fill=\"#000000\" fill-rule=\"evenodd\" fill-opacity=\"1\" /><path clip-path=\"url(#clip340)\" d=\"M 0 0 M138.33 1456.85 Q134.719 1456.85 132.89 1460.41 Q131.084 1463.95 131.084 1471.08 Q131.084 1478.19 132.89 1481.75 Q134.719 1485.3 138.33 1485.3 Q141.964 1485.3 143.769 1481.75 Q145.598 1478.19 145.598 1471.08 Q145.598 1463.95 143.769 1460.41 Q141.964 1456.85 138.33 1456.85 M138.33 1453.14 Q144.14 1453.14 147.195 1457.75 Q150.274 1462.33 150.274 1471.08 Q150.274 1479.81 147.195 1484.42 Q144.14 1489 138.33 1489 Q132.519 1489 129.441 1484.42 Q126.385 1479.81 126.385 1471.08 Q126.385 1462.33 129.441 1457.75 Q132.519 1453.14 138.33 1453.14 Z\" fill=\"#000000\" fill-rule=\"evenodd\" fill-opacity=\"1\" /><path clip-path=\"url(#clip340)\" d=\"M 0 0 M63.9319 1111.08 Q60.3208 1111.08 58.4921 1114.64 Q56.6865 1118.18 56.6865 1125.31 Q56.6865 1132.42 58.4921 1135.99 Q60.3208 1139.53 63.9319 1139.53 Q67.5661 1139.53 69.3717 1135.99 Q71.2004 1132.42 71.2004 1125.31 Q71.2004 1118.18 69.3717 1114.64 Q67.5661 1111.08 63.9319 1111.08 M63.9319 1107.37 Q69.742 1107.37 72.7976 1111.98 Q75.8763 1116.56 75.8763 1125.31 Q75.8763 1134.04 72.7976 1138.65 Q69.742 1143.23 63.9319 1143.23 Q58.1217 1143.23 55.043 1138.65 Q51.9875 1134.04 51.9875 1125.31 Q51.9875 1116.56 55.043 1111.98 Q58.1217 1107.37 63.9319 1107.37 Z\" fill=\"#000000\" fill-rule=\"evenodd\" fill-opacity=\"1\" /><path clip-path=\"url(#clip340)\" d=\"M 0 0 M84.0938 1136.68 L88.978 1136.68 L88.978 1142.56 L84.0938 1142.56 L84.0938 1136.68 Z\" fill=\"#000000\" fill-rule=\"evenodd\" fill-opacity=\"1\" /><path clip-path=\"url(#clip340)\" d=\"M 0 0 M103.191 1138.62 L119.51 1138.62 L119.51 1142.56 L97.566 1142.56 L97.566 1138.62 Q100.228 1135.87 104.811 1131.24 Q109.418 1126.59 110.598 1125.24 Q112.844 1122.72 113.723 1120.99 Q114.626 1119.23 114.626 1117.54 Q114.626 1114.78 112.682 1113.05 Q110.76 1111.31 107.658 1111.31 Q105.459 1111.31 103.006 1112.07 Q100.575 1112.84 97.7974 1114.39 L97.7974 1109.67 Q100.621 1108.53 103.075 1107.95 Q105.529 1107.37 107.566 1107.37 Q112.936 1107.37 116.131 1110.06 Q119.325 1112.75 119.325 1117.24 Q119.325 1119.37 118.515 1121.29 Q117.728 1123.18 115.621 1125.78 Q115.043 1126.45 111.941 1129.67 Q108.839 1132.86 103.191 1138.62 Z\" fill=\"#000000\" fill-rule=\"evenodd\" fill-opacity=\"1\" /><path clip-path=\"url(#clip340)\" d=\"M 0 0 M129.371 1108 L147.728 1108 L147.728 1111.93 L133.654 1111.93 L133.654 1120.41 Q134.672 1120.06 135.691 1119.9 Q136.709 1119.71 137.728 1119.71 Q143.515 1119.71 146.894 1122.88 Q150.274 1126.06 150.274 1131.47 Q150.274 1137.05 146.802 1140.15 Q143.33 1143.23 137.01 1143.23 Q134.834 1143.23 132.566 1142.86 Q130.32 1142.49 127.913 1141.75 L127.913 1137.05 Q129.996 1138.18 132.219 1138.74 Q134.441 1139.3 136.918 1139.3 Q140.922 1139.3 143.26 1137.19 Q145.598 1135.08 145.598 1131.47 Q145.598 1127.86 143.26 1125.75 Q140.922 1123.65 136.918 1123.65 Q135.043 1123.65 133.168 1124.06 Q131.316 1124.48 129.371 1125.36 L129.371 1108 Z\" fill=\"#000000\" fill-rule=\"evenodd\" fill-opacity=\"1\" /><path clip-path=\"url(#clip340)\" d=\"M 0 0 M62.9365 765.311 Q59.3254 765.311 57.4967 768.875 Q55.6912 772.417 55.6912 779.547 Q55.6912 786.653 57.4967 790.218 Q59.3254 793.76 62.9365 793.76 Q66.5707 793.76 68.3763 790.218 Q70.205 786.653 70.205 779.547 Q70.205 772.417 68.3763 768.875 Q66.5707 765.311 62.9365 765.311 M62.9365 761.607 Q68.7467 761.607 71.8022 766.213 Q74.8809 770.797 74.8809 779.547 Q74.8809 788.273 71.8022 792.88 Q68.7467 797.463 62.9365 797.463 Q57.1264 797.463 54.0477 792.88 Q50.9921 788.273 50.9921 779.547 Q50.9921 770.797 54.0477 766.213 Q57.1264 761.607 62.9365 761.607 Z\" fill=\"#000000\" fill-rule=\"evenodd\" fill-opacity=\"1\" /><path clip-path=\"url(#clip340)\" d=\"M 0 0 M83.0984 790.912 L87.9827 790.912 L87.9827 796.792 L83.0984 796.792 L83.0984 790.912 Z\" fill=\"#000000\" fill-rule=\"evenodd\" fill-opacity=\"1\" /><path clip-path=\"url(#clip340)\" d=\"M 0 0 M98.2141 762.232 L116.57 762.232 L116.57 766.167 L102.496 766.167 L102.496 774.639 Q103.515 774.292 104.534 774.13 Q105.552 773.945 106.571 773.945 Q112.358 773.945 115.737 777.116 Q119.117 780.287 119.117 785.704 Q119.117 791.283 115.645 794.385 Q112.172 797.463 105.853 797.463 Q103.677 797.463 101.409 797.093 Q99.1632 796.722 96.7558 795.982 L96.7558 791.283 Q98.8391 792.417 101.061 792.972 Q103.284 793.528 105.76 793.528 Q109.765 793.528 112.103 791.422 Q114.441 789.315 114.441 785.704 Q114.441 782.093 112.103 779.986 Q109.765 777.88 105.76 777.88 Q103.885 777.88 102.01 778.297 Q100.159 778.713 98.2141 779.593 L98.2141 762.232 Z\" fill=\"#000000\" fill-rule=\"evenodd\" fill-opacity=\"1\" /><path clip-path=\"url(#clip340)\" d=\"M 0 0 M138.33 765.311 Q134.719 765.311 132.89 768.875 Q131.084 772.417 131.084 779.547 Q131.084 786.653 132.89 790.218 Q134.719 793.76 138.33 793.76 Q141.964 793.76 143.769 790.218 Q145.598 786.653 145.598 779.547 Q145.598 772.417 143.769 768.875 Q141.964 765.311 138.33 765.311 M138.33 761.607 Q144.14 761.607 147.195 766.213 Q150.274 770.797 150.274 779.547 Q150.274 788.273 147.195 792.88 Q144.14 797.463 138.33 797.463 Q132.519 797.463 129.441 792.88 Q126.385 788.273 126.385 779.547 Q126.385 770.797 129.441 766.213 Q132.519 761.607 138.33 761.607 Z\" fill=\"#000000\" fill-rule=\"evenodd\" fill-opacity=\"1\" /><path clip-path=\"url(#clip340)\" d=\"M 0 0 M63.9319 419.543 Q60.3208 419.543 58.4921 423.108 Q56.6865 426.649 56.6865 433.779 Q56.6865 440.885 58.4921 444.45 Q60.3208 447.992 63.9319 447.992 Q67.5661 447.992 69.3717 444.45 Q71.2004 440.885 71.2004 433.779 Q71.2004 426.649 69.3717 423.108 Q67.5661 419.543 63.9319 419.543 M63.9319 415.839 Q69.742 415.839 72.7976 420.446 Q75.8763 425.029 75.8763 433.779 Q75.8763 442.506 72.7976 447.112 Q69.742 451.695 63.9319 451.695 Q58.1217 451.695 55.043 447.112 Q51.9875 442.506 51.9875 433.779 Q51.9875 425.029 55.043 420.446 Q58.1217 415.839 63.9319 415.839 Z\" fill=\"#000000\" fill-rule=\"evenodd\" fill-opacity=\"1\" /><path clip-path=\"url(#clip340)\" d=\"M 0 0 M84.0938 445.144 L88.978 445.144 L88.978 451.024 L84.0938 451.024 L84.0938 445.144 Z\" fill=\"#000000\" fill-rule=\"evenodd\" fill-opacity=\"1\" /><path clip-path=\"url(#clip340)\" d=\"M 0 0 M97.9826 416.464 L120.205 416.464 L120.205 418.455 L107.658 451.024 L102.774 451.024 L114.58 420.399 L97.9826 420.399 L97.9826 416.464 Z\" fill=\"#000000\" fill-rule=\"evenodd\" fill-opacity=\"1\" /><path clip-path=\"url(#clip340)\" d=\"M 0 0 M129.371 416.464 L147.728 416.464 L147.728 420.399 L133.654 420.399 L133.654 428.871 Q134.672 428.524 135.691 428.362 Q136.709 428.177 137.728 428.177 Q143.515 428.177 146.894 431.348 Q150.274 434.52 150.274 439.936 Q150.274 445.515 146.802 448.617 Q143.33 451.695 137.01 451.695 Q134.834 451.695 132.566 451.325 Q130.32 450.955 127.913 450.214 L127.913 445.515 Q129.996 446.649 132.219 447.205 Q134.441 447.76 136.918 447.76 Q140.922 447.76 143.26 445.654 Q145.598 443.547 145.598 439.936 Q145.598 436.325 143.26 434.219 Q140.922 432.112 136.918 432.112 Q135.043 432.112 133.168 432.529 Q131.316 432.945 129.371 433.825 L129.371 416.464 Z\" fill=\"#000000\" fill-rule=\"evenodd\" fill-opacity=\"1\" /><path clip-path=\"url(#clip340)\" d=\"M 0 0 M53.7467 101.321 L61.3856 101.321 L61.3856 74.9555 L53.0754 76.6222 L53.0754 72.3629 L61.3393 70.6963 L66.0152 70.6963 L66.0152 101.321 L73.654 101.321 L73.654 105.256 L53.7467 105.256 L53.7467 101.321 Z\" fill=\"#000000\" fill-rule=\"evenodd\" fill-opacity=\"1\" /><path clip-path=\"url(#clip340)\" d=\"M 0 0 M83.0984 99.3767 L87.9827 99.3767 L87.9827 105.256 L83.0984 105.256 L83.0984 99.3767 Z\" fill=\"#000000\" fill-rule=\"evenodd\" fill-opacity=\"1\" /><path clip-path=\"url(#clip340)\" d=\"M 0 0 M108.168 73.775 Q104.557 73.775 102.728 77.3398 Q100.922 80.8814 100.922 88.011 Q100.922 95.1174 102.728 98.6822 Q104.557 102.224 108.168 102.224 Q111.802 102.224 113.608 98.6822 Q115.436 95.1174 115.436 88.011 Q115.436 80.8814 113.608 77.3398 Q111.802 73.775 108.168 73.775 M108.168 70.0713 Q113.978 70.0713 117.033 74.6777 Q120.112 79.261 120.112 88.011 Q120.112 96.7378 117.033 101.344 Q113.978 105.928 108.168 105.928 Q102.358 105.928 99.2789 101.344 Q96.2234 96.7378 96.2234 88.011 Q96.2234 79.261 99.2789 74.6777 Q102.358 70.0713 108.168 70.0713 Z\" fill=\"#000000\" fill-rule=\"evenodd\" fill-opacity=\"1\" /><path clip-path=\"url(#clip340)\" d=\"M 0 0 M138.33 73.775 Q134.719 73.775 132.89 77.3398 Q131.084 80.8814 131.084 88.011 Q131.084 95.1174 132.89 98.6822 Q134.719 102.224 138.33 102.224 Q141.964 102.224 143.769 98.6822 Q145.598 95.1174 145.598 88.011 Q145.598 80.8814 143.769 77.3398 Q141.964 73.775 138.33 73.775 M138.33 70.0713 Q144.14 70.0713 147.195 74.6777 Q150.274 79.261 150.274 88.011 Q150.274 96.7378 147.195 101.344 Q144.14 105.928 138.33 105.928 Q132.519 105.928 129.441 101.344 Q126.385 96.7378 126.385 88.011 Q126.385 79.261 129.441 74.6777 Q132.519 70.0713 138.33 70.0713 Z\" fill=\"#000000\" fill-rule=\"evenodd\" fill-opacity=\"1\" /><polyline clip-path=\"url(#clip342)\" style=\"stroke:#009af9; stroke-width:4; stroke-opacity:1; fill:none\" points=\"\n",
       "  247.59,1445.72 257.569,1443.67 267.549,1441.48 359.828,1412.93 452.107,1364.04 479.835,1344.13 507.563,1321.39 535.291,1295.61 563.019,1266.61 609.906,1209.76 \n",
       "  656.793,1142.69 707.726,1058.14 758.658,962.032 805.614,864.498 852.569,760.38 902.91,644.476 953.251,528.152 1011.58,399.103 1069.9,283.737 1095.82,238.915 \n",
       "  1121.73,198.961 1147.65,164.453 1173.57,135.895 1219.02,101.418 1264.47,88.111 1289.25,90.0378 1314.03,98.4324 1338.8,113.177 1363.58,134.066 1388.51,160.986 \n",
       "  1413.43,193.458 1438.36,231.041 1463.28,273.232 1518.4,380.091 1573.51,500.272 1625.95,620.874 1678.39,742.014 1732.92,863.43 1787.45,976.028 1833.35,1061.76 \n",
       "  1879.25,1138.06 1935.28,1217.81 1991.32,1283.04 2044,1332.03 2096.68,1370.42 2181.07,1413.68 2265.46,1440.08 2278.45,1443.02 2291.44,1445.72 \n",
       "  \"/>\n",
       "<circle clip-path=\"url(#clip342)\" cx=\"1269.51\" cy=\"87.9763\" r=\"14\" fill=\"#e26f46\" fill-rule=\"evenodd\" fill-opacity=\"1\" stroke=\"#000000\" stroke-opacity=\"1\" stroke-width=\"3.2\"/>\n",
       "</svg>\n"
      ]
     },
     "execution_count": 85,
     "metadata": {},
     "output_type": "execute_result"
    }
   ],
   "source": [
    "# Teste 3\n",
    "\n",
    "f(x) = exp(-x^2)\n",
    "fd(x) = -2*exp(-x^2)*x\n",
    "fdd(x) = exp(-x^2)*(4*x^2 - 2)\n",
    "esq = -2\n",
    "dir = 2\n",
    "p = maximar_uma_funcao(f, fd, fdd, esq, dir)\n",
    "\n",
    "plot(f, esq, dir, leg=false)\n",
    "scatter!(p:p, [f(p)])"
   ]
  },
  {
   "cell_type": "markdown",
   "metadata": {},
   "source": [
    "### Encontrar um ponto crítico de uma função"
   ]
  },
  {
   "cell_type": "code",
   "execution_count": 86,
   "metadata": {},
   "outputs": [
    {
     "data": {
      "text/plain": [
       "achar_um_ponto_critico_de_uma_funcao (generic function with 3 methods)"
      ]
     },
     "execution_count": 86,
     "metadata": {},
     "output_type": "execute_result"
    }
   ],
   "source": [
    "\"\"\" A ideia aqui é acharmos o ponto em que f'(x) = 0. Podemos usar bisseção, newton ou ponto fixo para isso. \"\"\"\n",
    "\n",
    "# Luan\n",
    "function achar_um_ponto_critico_de_uma_funcao(derivada, esq, dir, erro = 1e-2, qtd_iterações = 10)\n",
    "    \n",
    "    # Começamos uma lista de intervalos para o método da bisseção e selecionaremos os propícios\n",
    "    lista_de_intervalos = Any[[esq, dir]]\n",
    "    intervalos_propicios = Any[]\n",
    "    \n",
    "    # Escolhemos uma quantidade de iterações para diminuir o intervalo\n",
    "    for j in 1:qtd_iterações\n",
    "        \n",
    "        # Se a lista de intervalos estiver vazia, não temos mais o que procurar\n",
    "        if size(lista_de_intervalos, 1) == 0\n",
    "            break\n",
    "        end\n",
    "        \n",
    "        # Pega o primeiro intervalo da lista\n",
    "        intervalo = lista_de_intervalos[1]\n",
    "        \n",
    "        # Pega os pontos desse intervalo\n",
    "        a = intervalo[1]\n",
    "        b = intervalo[2]\n",
    "        \n",
    "        # Calcula o ponto médio do intervalo\n",
    "        metade_do_intervalo = (a+b)/2.0\n",
    "        \n",
    "        # Retira o intervalo da lista\n",
    "        deleteat!(lista_de_intervalos, 1)\n",
    "\n",
    "        # Sendo x a metade do intervalo, se um dos intervalos criados [a, x] ou [x, b] satisfizer as condições\n",
    "        # Adicionamos ele a uma outra lista contendo os intervalos bons\n",
    "        # Caso contrário adicionamos eles a nossa lista de intervalos\n",
    "        if derivada(a)*derivada(metade_do_intervalo) <= 0\n",
    "            push!(intervalos_propicios, [a, metade_do_intervalo])\n",
    "        else\n",
    "            push!(lista_de_intervalos, [a, metade_do_intervalo])\n",
    "        end\n",
    "        \n",
    "        if derivada(metade_do_intervalo)*derivada(b) <= 0\n",
    "            push!(intervalos_propicios, [metade_do_intervalo, b])\n",
    "        else\n",
    "            push!(lista_de_intervalos, [metade_do_intervalo, b])\n",
    "        end\n",
    "        \n",
    "    end\n",
    "    \n",
    "    println(intervalos_propicios)\n",
    "    \n",
    "    # Pega o primeiro ponto crítico da lista\n",
    "    ponto_crítico = bissecao(derivada, intervalos_propicios[1][1], intervalos_propicios[1][2], erro)\n",
    "        \n",
    "    return ponto_crítico\n",
    "end"
   ]
  },
  {
   "cell_type": "code",
   "execution_count": 87,
   "metadata": {},
   "outputs": [
    {
     "name": "stdout",
     "output_type": "stream",
     "text": [
      "Any[[0.0, 2.5], [2.5, 5.0]]\n"
     ]
    },
    {
     "data": {
      "image/svg+xml": [
       "<?xml version=\"1.0\" encoding=\"utf-8\"?>\n",
       "<svg xmlns=\"http://www.w3.org/2000/svg\" xmlns:xlink=\"http://www.w3.org/1999/xlink\" width=\"600\" height=\"400\" viewBox=\"0 0 2400 1600\">\n",
       "<defs>\n",
       "  <clipPath id=\"clip380\">\n",
       "    <rect x=\"0\" y=\"0\" width=\"2400\" height=\"1600\"/>\n",
       "  </clipPath>\n",
       "</defs>\n",
       "<path clip-path=\"url(#clip380)\" d=\"\n",
       "M0 1600 L2400 1600 L2400 0 L0 0  Z\n",
       "  \" fill=\"#ffffff\" fill-rule=\"evenodd\" fill-opacity=\"1\"/>\n",
       "<defs>\n",
       "  <clipPath id=\"clip381\">\n",
       "    <rect x=\"480\" y=\"0\" width=\"1681\" height=\"1600\"/>\n",
       "  </clipPath>\n",
       "</defs>\n",
       "<path clip-path=\"url(#clip380)\" d=\"\n",
       "M112.177 1486.45 L2352.76 1486.45 L2352.76 47.2441 L112.177 47.2441  Z\n",
       "  \" fill=\"#ffffff\" fill-rule=\"evenodd\" fill-opacity=\"1\"/>\n",
       "<defs>\n",
       "  <clipPath id=\"clip382\">\n",
       "    <rect x=\"112\" y=\"47\" width=\"2242\" height=\"1440\"/>\n",
       "  </clipPath>\n",
       "</defs>\n",
       "<polyline clip-path=\"url(#clip382)\" style=\"stroke:#000000; stroke-width:2; stroke-opacity:0.1; fill:none\" points=\"\n",
       "  175.59,1486.45 175.59,47.2441 \n",
       "  \"/>\n",
       "<polyline clip-path=\"url(#clip382)\" style=\"stroke:#000000; stroke-width:2; stroke-opacity:0.1; fill:none\" points=\"\n",
       "  598.34,1486.45 598.34,47.2441 \n",
       "  \"/>\n",
       "<polyline clip-path=\"url(#clip382)\" style=\"stroke:#000000; stroke-width:2; stroke-opacity:0.1; fill:none\" points=\"\n",
       "  1021.09,1486.45 1021.09,47.2441 \n",
       "  \"/>\n",
       "<polyline clip-path=\"url(#clip382)\" style=\"stroke:#000000; stroke-width:2; stroke-opacity:0.1; fill:none\" points=\"\n",
       "  1443.84,1486.45 1443.84,47.2441 \n",
       "  \"/>\n",
       "<polyline clip-path=\"url(#clip382)\" style=\"stroke:#000000; stroke-width:2; stroke-opacity:0.1; fill:none\" points=\"\n",
       "  1866.59,1486.45 1866.59,47.2441 \n",
       "  \"/>\n",
       "<polyline clip-path=\"url(#clip382)\" style=\"stroke:#000000; stroke-width:2; stroke-opacity:0.1; fill:none\" points=\"\n",
       "  2289.34,1486.45 2289.34,47.2441 \n",
       "  \"/>\n",
       "<polyline clip-path=\"url(#clip380)\" style=\"stroke:#000000; stroke-width:4; stroke-opacity:1; fill:none\" points=\"\n",
       "  112.177,1486.45 2352.76,1486.45 \n",
       "  \"/>\n",
       "<polyline clip-path=\"url(#clip380)\" style=\"stroke:#000000; stroke-width:4; stroke-opacity:1; fill:none\" points=\"\n",
       "  175.59,1486.45 175.59,1469.18 \n",
       "  \"/>\n",
       "<polyline clip-path=\"url(#clip380)\" style=\"stroke:#000000; stroke-width:4; stroke-opacity:1; fill:none\" points=\"\n",
       "  598.34,1486.45 598.34,1469.18 \n",
       "  \"/>\n",
       "<polyline clip-path=\"url(#clip380)\" style=\"stroke:#000000; stroke-width:4; stroke-opacity:1; fill:none\" points=\"\n",
       "  1021.09,1486.45 1021.09,1469.18 \n",
       "  \"/>\n",
       "<polyline clip-path=\"url(#clip380)\" style=\"stroke:#000000; stroke-width:4; stroke-opacity:1; fill:none\" points=\"\n",
       "  1443.84,1486.45 1443.84,1469.18 \n",
       "  \"/>\n",
       "<polyline clip-path=\"url(#clip380)\" style=\"stroke:#000000; stroke-width:4; stroke-opacity:1; fill:none\" points=\"\n",
       "  1866.59,1486.45 1866.59,1469.18 \n",
       "  \"/>\n",
       "<polyline clip-path=\"url(#clip380)\" style=\"stroke:#000000; stroke-width:4; stroke-opacity:1; fill:none\" points=\"\n",
       "  2289.34,1486.45 2289.34,1469.18 \n",
       "  \"/>\n",
       "<path clip-path=\"url(#clip380)\" d=\"M 0 0 M175.59 1515.64 Q171.979 1515.64 170.15 1519.2 Q168.344 1522.75 168.344 1529.87 Q168.344 1536.98 170.15 1540.55 Q171.979 1544.09 175.59 1544.09 Q179.224 1544.09 181.03 1540.55 Q182.858 1536.98 182.858 1529.87 Q182.858 1522.75 181.03 1519.2 Q179.224 1515.64 175.59 1515.64 M175.59 1511.93 Q181.4 1511.93 184.455 1516.54 Q187.534 1521.12 187.534 1529.87 Q187.534 1538.6 184.455 1543.21 Q181.4 1547.79 175.59 1547.79 Q169.78 1547.79 166.701 1543.21 Q163.645 1538.6 163.645 1529.87 Q163.645 1521.12 166.701 1516.54 Q169.78 1511.93 175.59 1511.93 Z\" fill=\"#000000\" fill-rule=\"evenodd\" fill-opacity=\"1\" /><path clip-path=\"url(#clip380)\" d=\"M 0 0 M588.722 1543.18 L596.361 1543.18 L596.361 1516.82 L588.051 1518.49 L588.051 1514.23 L596.315 1512.56 L600.991 1512.56 L600.991 1543.18 L608.63 1543.18 L608.63 1547.12 L588.722 1547.12 L588.722 1543.18 Z\" fill=\"#000000\" fill-rule=\"evenodd\" fill-opacity=\"1\" /><path clip-path=\"url(#clip380)\" d=\"M 0 0 M1015.74 1543.18 L1032.06 1543.18 L1032.06 1547.12 L1010.12 1547.12 L1010.12 1543.18 Q1012.78 1540.43 1017.36 1535.8 Q1021.97 1531.15 1023.15 1529.81 Q1025.4 1527.28 1026.28 1525.55 Q1027.18 1523.79 1027.18 1522.1 Q1027.18 1519.34 1025.23 1517.61 Q1023.31 1515.87 1020.21 1515.87 Q1018.01 1515.87 1015.56 1516.63 Q1013.13 1517.4 1010.35 1518.95 L1010.35 1514.23 Q1013.17 1513.09 1015.63 1512.51 Q1018.08 1511.93 1020.12 1511.93 Q1025.49 1511.93 1028.68 1514.62 Q1031.88 1517.31 1031.88 1521.8 Q1031.88 1523.93 1031.07 1525.85 Q1030.28 1527.74 1028.17 1530.34 Q1027.6 1531.01 1024.49 1534.23 Q1021.39 1537.42 1015.74 1543.18 Z\" fill=\"#000000\" fill-rule=\"evenodd\" fill-opacity=\"1\" /><path clip-path=\"url(#clip380)\" d=\"M 0 0 M1448.09 1528.49 Q1451.45 1529.2 1453.32 1531.47 Q1455.22 1533.74 1455.22 1537.07 Q1455.22 1542.19 1451.7 1544.99 Q1448.18 1547.79 1441.7 1547.79 Q1439.52 1547.79 1437.21 1547.35 Q1434.92 1546.93 1432.46 1546.08 L1432.46 1541.56 Q1434.41 1542.7 1436.72 1543.28 Q1439.04 1543.86 1441.56 1543.86 Q1445.96 1543.86 1448.25 1542.12 Q1450.57 1540.38 1450.57 1537.07 Q1450.57 1534.02 1448.41 1532.31 Q1446.28 1530.57 1442.46 1530.57 L1438.44 1530.57 L1438.44 1526.73 L1442.65 1526.73 Q1446.1 1526.73 1447.93 1525.36 Q1449.76 1523.97 1449.76 1521.38 Q1449.76 1518.72 1447.86 1517.31 Q1445.98 1515.87 1442.46 1515.87 Q1440.54 1515.87 1438.34 1516.29 Q1436.15 1516.7 1433.51 1517.58 L1433.51 1513.42 Q1436.17 1512.68 1438.48 1512.31 Q1440.82 1511.93 1442.88 1511.93 Q1448.21 1511.93 1451.31 1514.37 Q1454.41 1516.77 1454.41 1520.89 Q1454.41 1523.76 1452.77 1525.75 Q1451.12 1527.72 1448.09 1528.49 Z\" fill=\"#000000\" fill-rule=\"evenodd\" fill-opacity=\"1\" /><path clip-path=\"url(#clip380)\" d=\"M 0 0 M1869.6 1516.63 L1857.8 1535.08 L1869.6 1535.08 L1869.6 1516.63 M1868.37 1512.56 L1874.25 1512.56 L1874.25 1535.08 L1879.19 1535.08 L1879.19 1538.97 L1874.25 1538.97 L1874.25 1547.12 L1869.6 1547.12 L1869.6 1538.97 L1854 1538.97 L1854 1534.46 L1868.37 1512.56 Z\" fill=\"#000000\" fill-rule=\"evenodd\" fill-opacity=\"1\" /><path clip-path=\"url(#clip380)\" d=\"M 0 0 M2279.62 1512.56 L2297.98 1512.56 L2297.98 1516.5 L2283.9 1516.5 L2283.9 1524.97 Q2284.92 1524.62 2285.94 1524.46 Q2286.96 1524.27 2287.98 1524.27 Q2293.76 1524.27 2297.14 1527.44 Q2300.52 1530.62 2300.52 1536.03 Q2300.52 1541.61 2297.05 1544.71 Q2293.58 1547.79 2287.26 1547.79 Q2285.08 1547.79 2282.82 1547.42 Q2280.57 1547.05 2278.16 1546.31 L2278.16 1541.61 Q2280.25 1542.74 2282.47 1543.3 Q2284.69 1543.86 2287.17 1543.86 Q2291.17 1543.86 2293.51 1541.75 Q2295.85 1539.64 2295.85 1536.03 Q2295.85 1532.42 2293.51 1530.31 Q2291.17 1528.21 2287.17 1528.21 Q2285.29 1528.21 2283.42 1528.62 Q2281.57 1529.04 2279.62 1529.92 L2279.62 1512.56 Z\" fill=\"#000000\" fill-rule=\"evenodd\" fill-opacity=\"1\" /><polyline clip-path=\"url(#clip382)\" style=\"stroke:#000000; stroke-width:2; stroke-opacity:0.1; fill:none\" points=\"\n",
       "  112.177,1391.43 2352.76,1391.43 \n",
       "  \"/>\n",
       "<polyline clip-path=\"url(#clip382)\" style=\"stroke:#000000; stroke-width:2; stroke-opacity:0.1; fill:none\" points=\"\n",
       "  112.177,1174.18 2352.76,1174.18 \n",
       "  \"/>\n",
       "<polyline clip-path=\"url(#clip382)\" style=\"stroke:#000000; stroke-width:2; stroke-opacity:0.1; fill:none\" points=\"\n",
       "  112.177,956.943 2352.76,956.943 \n",
       "  \"/>\n",
       "<polyline clip-path=\"url(#clip382)\" style=\"stroke:#000000; stroke-width:2; stroke-opacity:0.1; fill:none\" points=\"\n",
       "  112.177,739.701 2352.76,739.701 \n",
       "  \"/>\n",
       "<polyline clip-path=\"url(#clip382)\" style=\"stroke:#000000; stroke-width:2; stroke-opacity:0.1; fill:none\" points=\"\n",
       "  112.177,522.46 2352.76,522.46 \n",
       "  \"/>\n",
       "<polyline clip-path=\"url(#clip382)\" style=\"stroke:#000000; stroke-width:2; stroke-opacity:0.1; fill:none\" points=\"\n",
       "  112.177,305.218 2352.76,305.218 \n",
       "  \"/>\n",
       "<polyline clip-path=\"url(#clip382)\" style=\"stroke:#000000; stroke-width:2; stroke-opacity:0.1; fill:none\" points=\"\n",
       "  112.177,87.9763 2352.76,87.9763 \n",
       "  \"/>\n",
       "<polyline clip-path=\"url(#clip380)\" style=\"stroke:#000000; stroke-width:4; stroke-opacity:1; fill:none\" points=\"\n",
       "  112.177,1486.45 112.177,47.2441 \n",
       "  \"/>\n",
       "<polyline clip-path=\"url(#clip380)\" style=\"stroke:#000000; stroke-width:4; stroke-opacity:1; fill:none\" points=\"\n",
       "  112.177,1391.43 139.064,1391.43 \n",
       "  \"/>\n",
       "<polyline clip-path=\"url(#clip380)\" style=\"stroke:#000000; stroke-width:4; stroke-opacity:1; fill:none\" points=\"\n",
       "  112.177,1174.18 139.064,1174.18 \n",
       "  \"/>\n",
       "<polyline clip-path=\"url(#clip380)\" style=\"stroke:#000000; stroke-width:4; stroke-opacity:1; fill:none\" points=\"\n",
       "  112.177,956.943 139.064,956.943 \n",
       "  \"/>\n",
       "<polyline clip-path=\"url(#clip380)\" style=\"stroke:#000000; stroke-width:4; stroke-opacity:1; fill:none\" points=\"\n",
       "  112.177,739.701 139.064,739.701 \n",
       "  \"/>\n",
       "<polyline clip-path=\"url(#clip380)\" style=\"stroke:#000000; stroke-width:4; stroke-opacity:1; fill:none\" points=\"\n",
       "  112.177,522.46 139.064,522.46 \n",
       "  \"/>\n",
       "<polyline clip-path=\"url(#clip380)\" style=\"stroke:#000000; stroke-width:4; stroke-opacity:1; fill:none\" points=\"\n",
       "  112.177,305.218 139.064,305.218 \n",
       "  \"/>\n",
       "<polyline clip-path=\"url(#clip380)\" style=\"stroke:#000000; stroke-width:4; stroke-opacity:1; fill:none\" points=\"\n",
       "  112.177,87.9763 139.064,87.9763 \n",
       "  \"/>\n",
       "<path clip-path=\"url(#clip380)\" d=\"M 0 0 M64.2328 1377.22 Q60.6217 1377.22 58.793 1380.79 Q56.9875 1384.33 56.9875 1391.46 Q56.9875 1398.57 58.793 1402.13 Q60.6217 1405.67 64.2328 1405.67 Q67.867 1405.67 69.6726 1402.13 Q71.5013 1398.57 71.5013 1391.46 Q71.5013 1384.33 69.6726 1380.79 Q67.867 1377.22 64.2328 1377.22 M64.2328 1373.52 Q70.0429 1373.52 73.0985 1378.13 Q76.1772 1382.71 76.1772 1391.46 Q76.1772 1400.19 73.0985 1404.79 Q70.0429 1409.38 64.2328 1409.38 Q58.4226 1409.38 55.344 1404.79 Q52.2884 1400.19 52.2884 1391.46 Q52.2884 1382.71 55.344 1378.13 Q58.4226 1373.52 64.2328 1373.52 Z\" fill=\"#000000\" fill-rule=\"evenodd\" fill-opacity=\"1\" /><path clip-path=\"url(#clip380)\" d=\"M 0 0 M56.2699 1187.53 L63.9087 1187.53 L63.9087 1161.16 L55.5986 1162.83 L55.5986 1158.57 L63.8624 1156.9 L68.5383 1156.9 L68.5383 1187.53 L76.1772 1187.53 L76.1772 1191.46 L56.2699 1191.46 L56.2699 1187.53 Z\" fill=\"#000000\" fill-rule=\"evenodd\" fill-opacity=\"1\" /><path clip-path=\"url(#clip380)\" d=\"M 0 0 M59.8578 970.288 L76.1772 970.288 L76.1772 974.223 L54.2328 974.223 L54.2328 970.288 Q56.8949 967.533 61.4782 962.903 Q66.0846 958.251 67.2652 956.908 Q69.5105 954.385 70.3902 952.649 Q71.2929 950.89 71.2929 949.2 Q71.2929 946.445 69.3485 944.709 Q67.4272 942.973 64.3254 942.973 Q62.1263 942.973 59.6726 943.737 Q57.2421 944.501 54.4643 946.052 L54.4643 941.329 Q57.2884 940.195 59.7421 939.616 Q62.1958 939.038 64.2328 939.038 Q69.6031 939.038 72.7976 941.723 Q75.992 944.408 75.992 948.899 Q75.992 951.028 75.1818 952.95 Q74.3948 954.848 72.2883 957.44 Q71.7096 958.112 68.6078 961.329 Q65.5059 964.524 59.8578 970.288 Z\" fill=\"#000000\" fill-rule=\"evenodd\" fill-opacity=\"1\" /><path clip-path=\"url(#clip380)\" d=\"M 0 0 M69.0476 738.347 Q72.404 739.065 74.279 741.333 Q76.1772 743.602 76.1772 746.935 Q76.1772 752.051 72.6587 754.852 Q69.1402 757.652 62.6587 757.652 Q60.4828 757.652 58.168 757.213 Q55.8764 756.796 53.4227 755.939 L53.4227 751.426 Q55.3671 752.56 57.6819 753.139 Q59.9967 753.717 62.5198 753.717 Q66.918 753.717 69.2096 751.981 Q71.5244 750.245 71.5244 746.935 Q71.5244 743.879 69.3717 742.166 Q67.242 740.43 63.4226 740.43 L59.3949 740.43 L59.3949 736.588 L63.6078 736.588 Q67.0569 736.588 68.8855 735.222 Q70.7142 733.833 70.7142 731.241 Q70.7142 728.579 68.8161 727.166 Q66.9411 725.731 63.4226 725.731 Q61.5013 725.731 59.3023 726.148 Q57.1032 726.565 54.4643 727.444 L54.4643 723.278 Q57.1264 722.537 59.4412 722.167 Q61.7791 721.796 63.8393 721.796 Q69.1633 721.796 72.2652 724.227 Q75.367 726.634 75.367 730.754 Q75.367 733.625 73.7235 735.616 Q72.08 737.583 69.0476 738.347 Z\" fill=\"#000000\" fill-rule=\"evenodd\" fill-opacity=\"1\" /><path clip-path=\"url(#clip380)\" d=\"M 0 0 M66.5939 509.254 L54.7884 527.703 L66.5939 527.703 L66.5939 509.254 M65.367 505.18 L71.2466 505.18 L71.2466 527.703 L76.1772 527.703 L76.1772 531.591 L71.2466 531.591 L71.2466 539.74 L66.5939 539.74 L66.5939 531.591 L50.9921 531.591 L50.9921 527.078 L65.367 505.18 Z\" fill=\"#000000\" fill-rule=\"evenodd\" fill-opacity=\"1\" /><path clip-path=\"url(#clip380)\" d=\"M 0 0 M55.2745 287.938 L73.6309 287.938 L73.6309 291.873 L59.5569 291.873 L59.5569 300.345 Q60.5754 299.998 61.5939 299.836 Q62.6124 299.651 63.6309 299.651 Q69.418 299.651 72.7976 302.822 Q76.1772 305.993 76.1772 311.41 Q76.1772 316.989 72.705 320.091 Q69.2328 323.169 62.9134 323.169 Q60.7374 323.169 58.4689 322.799 Q56.2236 322.428 53.8162 321.688 L53.8162 316.989 Q55.8995 318.123 58.1217 318.678 Q60.3439 319.234 62.8208 319.234 Q66.8254 319.234 69.1633 317.128 Q71.5013 315.021 71.5013 311.41 Q71.5013 307.799 69.1633 305.692 Q66.8254 303.586 62.8208 303.586 Q60.9458 303.586 59.0708 304.003 Q57.2189 304.419 55.2745 305.299 L55.2745 287.938 Z\" fill=\"#000000\" fill-rule=\"evenodd\" fill-opacity=\"1\" /><path clip-path=\"url(#clip380)\" d=\"M 0 0 M64.6495 86.1129 Q61.5013 86.1129 59.6495 88.2656 Q57.8208 90.4184 57.8208 94.1684 Q57.8208 97.8952 59.6495 100.071 Q61.5013 102.224 64.6495 102.224 Q67.7976 102.224 69.6263 100.071 Q71.4781 97.8952 71.4781 94.1684 Q71.4781 90.4184 69.6263 88.2656 Q67.7976 86.1129 64.6495 86.1129 M73.9318 71.4602 L73.9318 75.7194 Q72.1726 74.8861 70.367 74.4463 Q68.5846 74.0064 66.8254 74.0064 Q62.1958 74.0064 59.7421 77.1314 Q57.3115 80.2564 56.9643 86.5758 Q58.33 84.5619 60.3902 83.4971 Q62.4504 82.4092 64.9272 82.4092 Q70.1355 82.4092 73.1448 85.5805 Q76.1772 88.7286 76.1772 94.1684 Q76.1772 99.4924 73.029 102.71 Q69.8809 105.928 64.6495 105.928 Q58.6541 105.928 55.4828 101.344 Q52.3116 96.7378 52.3116 88.011 Q52.3116 79.8166 56.2004 74.9555 Q60.0893 70.0713 66.6402 70.0713 Q68.3994 70.0713 70.1818 70.4185 Q71.9874 70.7657 73.9318 71.4602 Z\" fill=\"#000000\" fill-rule=\"evenodd\" fill-opacity=\"1\" /><polyline clip-path=\"url(#clip382)\" style=\"stroke:#009af9; stroke-width:4; stroke-opacity:1; fill:none\" points=\"\n",
       "  175.59,87.9763 185.911,114.366 196.232,140.497 291.667,369.845 387.102,577.052 444.455,690.923 501.807,796.797 550.298,880.074 598.789,957.634 651.463,1035.41 \n",
       "  704.138,1106.44 752.699,1165.94 801.261,1219.72 853.323,1271 905.386,1315.69 965.706,1359.24 1026.03,1393.93 1079.63,1417.34 1133.24,1433.77 1180.24,1442.42 \n",
       "  1227.25,1445.7 1278.5,1443.16 1329.75,1434.23 1381.31,1418.81 1432.86,1396.92 1489.86,1365.2 1546.86,1325.59 1601.1,1280.56 1655.33,1228.38 1711.72,1166.54 \n",
       "  1768.11,1096.97 1815.58,1032.42 1863.05,962.387 1921.01,869.458 1978.96,768.364 2033.44,665.887 2087.92,556.194 2175.2,365.418 2262.48,156.123 2275.91,122.269 \n",
       "  2289.34,87.9763 \n",
       "  \"/>\n",
       "<circle clip-path=\"url(#clip382)\" cx=\"1228.34\" cy=\"1445.72\" r=\"14\" fill=\"#e26f46\" fill-rule=\"evenodd\" fill-opacity=\"1\" stroke=\"#000000\" stroke-opacity=\"1\" stroke-width=\"3.2\"/>\n",
       "</svg>\n"
      ]
     },
     "execution_count": 87,
     "metadata": {},
     "output_type": "execute_result"
    }
   ],
   "source": [
    "#Teste 1\n",
    "\n",
    "f(x) = x^2 - 5x + 6\n",
    "fd(x) = 2x - 5\n",
    "p = achar_um_ponto_critico_de_uma_funcao(fd, 0, 5)\n",
    "\n",
    "plot(f, 0, 5)\n",
    "scatter!(p:p, [f(p)], leg=false)"
   ]
  },
  {
   "cell_type": "code",
   "execution_count": 88,
   "metadata": {},
   "outputs": [
    {
     "name": "stdout",
     "output_type": "stream",
     "text": [
      "Any[[0.0, 2.5], [2.5, 5.0]]\n"
     ]
    },
    {
     "data": {
      "image/svg+xml": [
       "<?xml version=\"1.0\" encoding=\"utf-8\"?>\n",
       "<svg xmlns=\"http://www.w3.org/2000/svg\" xmlns:xlink=\"http://www.w3.org/1999/xlink\" width=\"600\" height=\"400\" viewBox=\"0 0 2400 1600\">\n",
       "<defs>\n",
       "  <clipPath id=\"clip420\">\n",
       "    <rect x=\"0\" y=\"0\" width=\"2400\" height=\"1600\"/>\n",
       "  </clipPath>\n",
       "</defs>\n",
       "<path clip-path=\"url(#clip420)\" d=\"\n",
       "M0 1600 L2400 1600 L2400 0 L0 0  Z\n",
       "  \" fill=\"#ffffff\" fill-rule=\"evenodd\" fill-opacity=\"1\"/>\n",
       "<defs>\n",
       "  <clipPath id=\"clip421\">\n",
       "    <rect x=\"480\" y=\"0\" width=\"1681\" height=\"1600\"/>\n",
       "  </clipPath>\n",
       "</defs>\n",
       "<path clip-path=\"url(#clip420)\" d=\"\n",
       "M112.177 1486.45 L2352.76 1486.45 L2352.76 47.2441 L112.177 47.2441  Z\n",
       "  \" fill=\"#ffffff\" fill-rule=\"evenodd\" fill-opacity=\"1\"/>\n",
       "<defs>\n",
       "  <clipPath id=\"clip422\">\n",
       "    <rect x=\"112\" y=\"47\" width=\"2242\" height=\"1440\"/>\n",
       "  </clipPath>\n",
       "</defs>\n",
       "<polyline clip-path=\"url(#clip422)\" style=\"stroke:#000000; stroke-width:2; stroke-opacity:0.1; fill:none\" points=\"\n",
       "  175.59,1486.45 175.59,47.2441 \n",
       "  \"/>\n",
       "<polyline clip-path=\"url(#clip422)\" style=\"stroke:#000000; stroke-width:2; stroke-opacity:0.1; fill:none\" points=\"\n",
       "  598.34,1486.45 598.34,47.2441 \n",
       "  \"/>\n",
       "<polyline clip-path=\"url(#clip422)\" style=\"stroke:#000000; stroke-width:2; stroke-opacity:0.1; fill:none\" points=\"\n",
       "  1021.09,1486.45 1021.09,47.2441 \n",
       "  \"/>\n",
       "<polyline clip-path=\"url(#clip422)\" style=\"stroke:#000000; stroke-width:2; stroke-opacity:0.1; fill:none\" points=\"\n",
       "  1443.84,1486.45 1443.84,47.2441 \n",
       "  \"/>\n",
       "<polyline clip-path=\"url(#clip422)\" style=\"stroke:#000000; stroke-width:2; stroke-opacity:0.1; fill:none\" points=\"\n",
       "  1866.59,1486.45 1866.59,47.2441 \n",
       "  \"/>\n",
       "<polyline clip-path=\"url(#clip422)\" style=\"stroke:#000000; stroke-width:2; stroke-opacity:0.1; fill:none\" points=\"\n",
       "  2289.34,1486.45 2289.34,47.2441 \n",
       "  \"/>\n",
       "<polyline clip-path=\"url(#clip420)\" style=\"stroke:#000000; stroke-width:4; stroke-opacity:1; fill:none\" points=\"\n",
       "  112.177,1486.45 2352.76,1486.45 \n",
       "  \"/>\n",
       "<polyline clip-path=\"url(#clip420)\" style=\"stroke:#000000; stroke-width:4; stroke-opacity:1; fill:none\" points=\"\n",
       "  175.59,1486.45 175.59,1469.18 \n",
       "  \"/>\n",
       "<polyline clip-path=\"url(#clip420)\" style=\"stroke:#000000; stroke-width:4; stroke-opacity:1; fill:none\" points=\"\n",
       "  598.34,1486.45 598.34,1469.18 \n",
       "  \"/>\n",
       "<polyline clip-path=\"url(#clip420)\" style=\"stroke:#000000; stroke-width:4; stroke-opacity:1; fill:none\" points=\"\n",
       "  1021.09,1486.45 1021.09,1469.18 \n",
       "  \"/>\n",
       "<polyline clip-path=\"url(#clip420)\" style=\"stroke:#000000; stroke-width:4; stroke-opacity:1; fill:none\" points=\"\n",
       "  1443.84,1486.45 1443.84,1469.18 \n",
       "  \"/>\n",
       "<polyline clip-path=\"url(#clip420)\" style=\"stroke:#000000; stroke-width:4; stroke-opacity:1; fill:none\" points=\"\n",
       "  1866.59,1486.45 1866.59,1469.18 \n",
       "  \"/>\n",
       "<polyline clip-path=\"url(#clip420)\" style=\"stroke:#000000; stroke-width:4; stroke-opacity:1; fill:none\" points=\"\n",
       "  2289.34,1486.45 2289.34,1469.18 \n",
       "  \"/>\n",
       "<path clip-path=\"url(#clip420)\" d=\"M 0 0 M175.59 1515.64 Q171.979 1515.64 170.15 1519.2 Q168.344 1522.75 168.344 1529.87 Q168.344 1536.98 170.15 1540.55 Q171.979 1544.09 175.59 1544.09 Q179.224 1544.09 181.03 1540.55 Q182.858 1536.98 182.858 1529.87 Q182.858 1522.75 181.03 1519.2 Q179.224 1515.64 175.59 1515.64 M175.59 1511.93 Q181.4 1511.93 184.455 1516.54 Q187.534 1521.12 187.534 1529.87 Q187.534 1538.6 184.455 1543.21 Q181.4 1547.79 175.59 1547.79 Q169.78 1547.79 166.701 1543.21 Q163.645 1538.6 163.645 1529.87 Q163.645 1521.12 166.701 1516.54 Q169.78 1511.93 175.59 1511.93 Z\" fill=\"#000000\" fill-rule=\"evenodd\" fill-opacity=\"1\" /><path clip-path=\"url(#clip420)\" d=\"M 0 0 M588.722 1543.18 L596.361 1543.18 L596.361 1516.82 L588.051 1518.49 L588.051 1514.23 L596.315 1512.56 L600.991 1512.56 L600.991 1543.18 L608.63 1543.18 L608.63 1547.12 L588.722 1547.12 L588.722 1543.18 Z\" fill=\"#000000\" fill-rule=\"evenodd\" fill-opacity=\"1\" /><path clip-path=\"url(#clip420)\" d=\"M 0 0 M1015.74 1543.18 L1032.06 1543.18 L1032.06 1547.12 L1010.12 1547.12 L1010.12 1543.18 Q1012.78 1540.43 1017.36 1535.8 Q1021.97 1531.15 1023.15 1529.81 Q1025.4 1527.28 1026.28 1525.55 Q1027.18 1523.79 1027.18 1522.1 Q1027.18 1519.34 1025.23 1517.61 Q1023.31 1515.87 1020.21 1515.87 Q1018.01 1515.87 1015.56 1516.63 Q1013.13 1517.4 1010.35 1518.95 L1010.35 1514.23 Q1013.17 1513.09 1015.63 1512.51 Q1018.08 1511.93 1020.12 1511.93 Q1025.49 1511.93 1028.68 1514.62 Q1031.88 1517.31 1031.88 1521.8 Q1031.88 1523.93 1031.07 1525.85 Q1030.28 1527.74 1028.17 1530.34 Q1027.6 1531.01 1024.49 1534.23 Q1021.39 1537.42 1015.74 1543.18 Z\" fill=\"#000000\" fill-rule=\"evenodd\" fill-opacity=\"1\" /><path clip-path=\"url(#clip420)\" d=\"M 0 0 M1448.09 1528.49 Q1451.45 1529.2 1453.32 1531.47 Q1455.22 1533.74 1455.22 1537.07 Q1455.22 1542.19 1451.7 1544.99 Q1448.18 1547.79 1441.7 1547.79 Q1439.52 1547.79 1437.21 1547.35 Q1434.92 1546.93 1432.46 1546.08 L1432.46 1541.56 Q1434.41 1542.7 1436.72 1543.28 Q1439.04 1543.86 1441.56 1543.86 Q1445.96 1543.86 1448.25 1542.12 Q1450.57 1540.38 1450.57 1537.07 Q1450.57 1534.02 1448.41 1532.31 Q1446.28 1530.57 1442.46 1530.57 L1438.44 1530.57 L1438.44 1526.73 L1442.65 1526.73 Q1446.1 1526.73 1447.93 1525.36 Q1449.76 1523.97 1449.76 1521.38 Q1449.76 1518.72 1447.86 1517.31 Q1445.98 1515.87 1442.46 1515.87 Q1440.54 1515.87 1438.34 1516.29 Q1436.15 1516.7 1433.51 1517.58 L1433.51 1513.42 Q1436.17 1512.68 1438.48 1512.31 Q1440.82 1511.93 1442.88 1511.93 Q1448.21 1511.93 1451.31 1514.37 Q1454.41 1516.77 1454.41 1520.89 Q1454.41 1523.76 1452.77 1525.75 Q1451.12 1527.72 1448.09 1528.49 Z\" fill=\"#000000\" fill-rule=\"evenodd\" fill-opacity=\"1\" /><path clip-path=\"url(#clip420)\" d=\"M 0 0 M1869.6 1516.63 L1857.8 1535.08 L1869.6 1535.08 L1869.6 1516.63 M1868.37 1512.56 L1874.25 1512.56 L1874.25 1535.08 L1879.19 1535.08 L1879.19 1538.97 L1874.25 1538.97 L1874.25 1547.12 L1869.6 1547.12 L1869.6 1538.97 L1854 1538.97 L1854 1534.46 L1868.37 1512.56 Z\" fill=\"#000000\" fill-rule=\"evenodd\" fill-opacity=\"1\" /><path clip-path=\"url(#clip420)\" d=\"M 0 0 M2279.62 1512.56 L2297.98 1512.56 L2297.98 1516.5 L2283.9 1516.5 L2283.9 1524.97 Q2284.92 1524.62 2285.94 1524.46 Q2286.96 1524.27 2287.98 1524.27 Q2293.76 1524.27 2297.14 1527.44 Q2300.52 1530.62 2300.52 1536.03 Q2300.52 1541.61 2297.05 1544.71 Q2293.58 1547.79 2287.26 1547.79 Q2285.08 1547.79 2282.82 1547.42 Q2280.57 1547.05 2278.16 1546.31 L2278.16 1541.61 Q2280.25 1542.74 2282.47 1543.3 Q2284.69 1543.86 2287.17 1543.86 Q2291.17 1543.86 2293.51 1541.75 Q2295.85 1539.64 2295.85 1536.03 Q2295.85 1532.42 2293.51 1530.31 Q2291.17 1528.21 2287.17 1528.21 Q2285.29 1528.21 2283.42 1528.62 Q2281.57 1529.04 2279.62 1529.92 L2279.62 1512.56 Z\" fill=\"#000000\" fill-rule=\"evenodd\" fill-opacity=\"1\" /><polyline clip-path=\"url(#clip422)\" style=\"stroke:#000000; stroke-width:2; stroke-opacity:0.1; fill:none\" points=\"\n",
       "  112.177,1445.72 2352.76,1445.72 \n",
       "  \"/>\n",
       "<polyline clip-path=\"url(#clip422)\" style=\"stroke:#000000; stroke-width:2; stroke-opacity:0.1; fill:none\" points=\"\n",
       "  112.177,1149.48 2352.76,1149.48 \n",
       "  \"/>\n",
       "<polyline clip-path=\"url(#clip422)\" style=\"stroke:#000000; stroke-width:2; stroke-opacity:0.1; fill:none\" points=\"\n",
       "  112.177,853.248 2352.76,853.248 \n",
       "  \"/>\n",
       "<polyline clip-path=\"url(#clip422)\" style=\"stroke:#000000; stroke-width:2; stroke-opacity:0.1; fill:none\" points=\"\n",
       "  112.177,557.014 2352.76,557.014 \n",
       "  \"/>\n",
       "<polyline clip-path=\"url(#clip422)\" style=\"stroke:#000000; stroke-width:2; stroke-opacity:0.1; fill:none\" points=\"\n",
       "  112.177,260.779 2352.76,260.779 \n",
       "  \"/>\n",
       "<polyline clip-path=\"url(#clip420)\" style=\"stroke:#000000; stroke-width:4; stroke-opacity:1; fill:none\" points=\"\n",
       "  112.177,1486.45 112.177,47.2441 \n",
       "  \"/>\n",
       "<polyline clip-path=\"url(#clip420)\" style=\"stroke:#000000; stroke-width:4; stroke-opacity:1; fill:none\" points=\"\n",
       "  112.177,1445.72 139.064,1445.72 \n",
       "  \"/>\n",
       "<polyline clip-path=\"url(#clip420)\" style=\"stroke:#000000; stroke-width:4; stroke-opacity:1; fill:none\" points=\"\n",
       "  112.177,1149.48 139.064,1149.48 \n",
       "  \"/>\n",
       "<polyline clip-path=\"url(#clip420)\" style=\"stroke:#000000; stroke-width:4; stroke-opacity:1; fill:none\" points=\"\n",
       "  112.177,853.248 139.064,853.248 \n",
       "  \"/>\n",
       "<polyline clip-path=\"url(#clip420)\" style=\"stroke:#000000; stroke-width:4; stroke-opacity:1; fill:none\" points=\"\n",
       "  112.177,557.014 139.064,557.014 \n",
       "  \"/>\n",
       "<polyline clip-path=\"url(#clip420)\" style=\"stroke:#000000; stroke-width:4; stroke-opacity:1; fill:none\" points=\"\n",
       "  112.177,260.779 139.064,260.779 \n",
       "  \"/>\n",
       "<path clip-path=\"url(#clip420)\" d=\"M 0 0 M64.2328 1431.51 Q60.6217 1431.51 58.793 1435.08 Q56.9875 1438.62 56.9875 1445.75 Q56.9875 1452.86 58.793 1456.42 Q60.6217 1459.96 64.2328 1459.96 Q67.867 1459.96 69.6726 1456.42 Q71.5013 1452.86 71.5013 1445.75 Q71.5013 1438.62 69.6726 1435.08 Q67.867 1431.51 64.2328 1431.51 M64.2328 1427.81 Q70.0429 1427.81 73.0985 1432.42 Q76.1772 1437 76.1772 1445.75 Q76.1772 1454.48 73.0985 1459.08 Q70.0429 1463.67 64.2328 1463.67 Q58.4226 1463.67 55.344 1459.08 Q52.2884 1454.48 52.2884 1445.75 Q52.2884 1437 55.344 1432.42 Q58.4226 1427.81 64.2328 1427.81 Z\" fill=\"#000000\" fill-rule=\"evenodd\" fill-opacity=\"1\" /><path clip-path=\"url(#clip420)\" d=\"M 0 0 M59.8578 1162.83 L76.1772 1162.83 L76.1772 1166.76 L54.2328 1166.76 L54.2328 1162.83 Q56.8949 1160.07 61.4782 1155.44 Q66.0846 1150.79 67.2652 1149.45 Q69.5105 1146.92 70.3902 1145.19 Q71.2929 1143.43 71.2929 1141.74 Q71.2929 1138.98 69.3485 1137.25 Q67.4272 1135.51 64.3254 1135.51 Q62.1263 1135.51 59.6726 1136.28 Q57.2421 1137.04 54.4643 1138.59 L54.4643 1133.87 Q57.2884 1132.73 59.7421 1132.16 Q62.1958 1131.58 64.2328 1131.58 Q69.6031 1131.58 72.7976 1134.26 Q75.992 1136.95 75.992 1141.44 Q75.992 1143.57 75.1818 1145.49 Q74.3948 1147.39 72.2883 1149.98 Q71.7096 1150.65 68.6078 1153.87 Q65.5059 1157.06 59.8578 1162.83 Z\" fill=\"#000000\" fill-rule=\"evenodd\" fill-opacity=\"1\" /><path clip-path=\"url(#clip420)\" d=\"M 0 0 M66.5939 840.042 L54.7884 858.491 L66.5939 858.491 L66.5939 840.042 M65.367 835.968 L71.2466 835.968 L71.2466 858.491 L76.1772 858.491 L76.1772 862.379 L71.2466 862.379 L71.2466 870.528 L66.5939 870.528 L66.5939 862.379 L50.9921 862.379 L50.9921 857.866 L65.367 835.968 Z\" fill=\"#000000\" fill-rule=\"evenodd\" fill-opacity=\"1\" /><path clip-path=\"url(#clip420)\" d=\"M 0 0 M64.6495 555.15 Q61.5013 555.15 59.6495 557.303 Q57.8208 559.456 57.8208 563.206 Q57.8208 566.932 59.6495 569.108 Q61.5013 571.261 64.6495 571.261 Q67.7976 571.261 69.6263 569.108 Q71.4781 566.932 71.4781 563.206 Q71.4781 559.456 69.6263 557.303 Q67.7976 555.15 64.6495 555.15 M73.9318 540.497 L73.9318 544.757 Q72.1726 543.923 70.367 543.484 Q68.5846 543.044 66.8254 543.044 Q62.1958 543.044 59.7421 546.169 Q57.3115 549.294 56.9643 555.613 Q58.33 553.599 60.3902 552.534 Q62.4504 551.446 64.9272 551.446 Q70.1355 551.446 73.1448 554.618 Q76.1772 557.766 76.1772 563.206 Q76.1772 568.53 73.029 571.747 Q69.8809 574.965 64.6495 574.965 Q58.6541 574.965 55.4828 570.382 Q52.3116 565.775 52.3116 557.048 Q52.3116 548.854 56.2004 543.993 Q60.0893 539.109 66.6402 539.109 Q68.3994 539.109 70.1818 539.456 Q71.9874 539.803 73.9318 540.497 Z\" fill=\"#000000\" fill-rule=\"evenodd\" fill-opacity=\"1\" /><path clip-path=\"url(#clip420)\" d=\"M 0 0 M64.3254 261.648 Q60.9921 261.648 59.0708 263.43 Q57.1726 265.212 57.1726 268.337 Q57.1726 271.462 59.0708 273.245 Q60.9921 275.027 64.3254 275.027 Q67.6587 275.027 69.58 273.245 Q71.5013 271.439 71.5013 268.337 Q71.5013 265.212 69.58 263.43 Q67.6819 261.648 64.3254 261.648 M59.6495 259.657 Q56.6402 258.916 54.9504 256.856 Q53.2838 254.796 53.2838 251.833 Q53.2838 247.689 56.2236 245.282 Q59.1865 242.874 64.3254 242.874 Q69.4874 242.874 72.4272 245.282 Q75.367 247.689 75.367 251.833 Q75.367 254.796 73.6772 256.856 Q72.0105 258.916 69.0244 259.657 Q72.404 260.444 74.279 262.735 Q76.1772 265.027 76.1772 268.337 Q76.1772 273.36 73.0985 276.046 Q70.0429 278.731 64.3254 278.731 Q58.6078 278.731 55.5291 276.046 Q52.4736 273.36 52.4736 268.337 Q52.4736 265.027 54.3717 262.735 Q56.2699 260.444 59.6495 259.657 M57.9365 252.273 Q57.9365 254.958 59.6032 256.462 Q61.293 257.967 64.3254 257.967 Q67.3346 257.967 69.0244 256.462 Q70.7374 254.958 70.7374 252.273 Q70.7374 249.587 69.0244 248.083 Q67.3346 246.578 64.3254 246.578 Q61.293 246.578 59.6032 248.083 Q57.9365 249.587 57.9365 252.273 Z\" fill=\"#000000\" fill-rule=\"evenodd\" fill-opacity=\"1\" /><polyline clip-path=\"url(#clip422)\" style=\"stroke:#009af9; stroke-width:4; stroke-opacity:1; fill:none\" points=\"\n",
       "  175.59,1445.72 180.75,1434.92 185.911,1424.24 191.072,1413.66 196.232,1403.2 243.95,1311.48 291.667,1228.59 339.385,1154.1 387.102,1087.59 444.455,1017.59 \n",
       "  501.807,957.75 550.298,914.54 598.789,877.62 651.463,844.119 704.138,816.939 752.699,796.987 801.261,781.471 905.386,761.063 1026.03,754.513 1133.24,758.793 \n",
       "  1227.25,766.389 1329.75,774.766 1432.86,779.14 1546.86,774.077 1655.33,754.473 1711.72,736.891 1768.11,713.334 1815.58,688.355 1863.05,658.224 1921.01,613.843 \n",
       "  1978.96,560.394 2033.44,501.2 2087.92,432.686 2131.56,370.652 2175.2,301.905 2218.84,226.119 2262.48,142.967 2269.2,129.495 2275.91,115.841 2282.63,102.001 \n",
       "  2289.34,87.9763 \n",
       "  \"/>\n",
       "<circle clip-path=\"url(#clip422)\" cx=\"1021.92\" cy=\"754.503\" r=\"14\" fill=\"#e26f46\" fill-rule=\"evenodd\" fill-opacity=\"1\" stroke=\"#000000\" stroke-opacity=\"1\" stroke-width=\"3.2\"/>\n",
       "</svg>\n"
      ]
     },
     "execution_count": 88,
     "metadata": {},
     "output_type": "execute_result"
    }
   ],
   "source": [
    "#Teste 2\n",
    "\n",
    "f(x) = x^3/3 - 5x^2/2 + 6x\n",
    "fd(x) = x^2 - 5x + 6\n",
    "p = achar_um_ponto_critico_de_uma_funcao(fd, 0, 5)\n",
    "\n",
    "plot(f, 0, 5)\n",
    "scatter!(p:p, [f(p)], leg=false)"
   ]
  },
  {
   "cell_type": "code",
   "execution_count": 89,
   "metadata": {},
   "outputs": [
    {
     "name": "stdout",
     "output_type": "stream",
     "text": [
      "Any[[1.5707963267948966, 3.141592653589793]]\n"
     ]
    },
    {
     "data": {
      "image/svg+xml": [
       "<?xml version=\"1.0\" encoding=\"utf-8\"?>\n",
       "<svg xmlns=\"http://www.w3.org/2000/svg\" xmlns:xlink=\"http://www.w3.org/1999/xlink\" width=\"600\" height=\"400\" viewBox=\"0 0 2400 1600\">\n",
       "<defs>\n",
       "  <clipPath id=\"clip460\">\n",
       "    <rect x=\"0\" y=\"0\" width=\"2400\" height=\"1600\"/>\n",
       "  </clipPath>\n",
       "</defs>\n",
       "<path clip-path=\"url(#clip460)\" d=\"\n",
       "M0 1600 L2400 1600 L2400 0 L0 0  Z\n",
       "  \" fill=\"#ffffff\" fill-rule=\"evenodd\" fill-opacity=\"1\"/>\n",
       "<defs>\n",
       "  <clipPath id=\"clip461\">\n",
       "    <rect x=\"480\" y=\"0\" width=\"1681\" height=\"1600\"/>\n",
       "  </clipPath>\n",
       "</defs>\n",
       "<path clip-path=\"url(#clip460)\" d=\"\n",
       "M186.274 1486.45 L2352.76 1486.45 L2352.76 47.2441 L186.274 47.2441  Z\n",
       "  \" fill=\"#ffffff\" fill-rule=\"evenodd\" fill-opacity=\"1\"/>\n",
       "<defs>\n",
       "  <clipPath id=\"clip462\">\n",
       "    <rect x=\"186\" y=\"47\" width=\"2167\" height=\"1440\"/>\n",
       "  </clipPath>\n",
       "</defs>\n",
       "<polyline clip-path=\"url(#clip462)\" style=\"stroke:#000000; stroke-width:2; stroke-opacity:0.1; fill:none\" points=\"\n",
       "  247.59,1486.45 247.59,47.2441 \n",
       "  \"/>\n",
       "<polyline clip-path=\"url(#clip462)\" style=\"stroke:#000000; stroke-width:2; stroke-opacity:0.1; fill:none\" points=\"\n",
       "  898.167,1486.45 898.167,47.2441 \n",
       "  \"/>\n",
       "<polyline clip-path=\"url(#clip462)\" style=\"stroke:#000000; stroke-width:2; stroke-opacity:0.1; fill:none\" points=\"\n",
       "  1548.75,1486.45 1548.75,47.2441 \n",
       "  \"/>\n",
       "<polyline clip-path=\"url(#clip462)\" style=\"stroke:#000000; stroke-width:2; stroke-opacity:0.1; fill:none\" points=\"\n",
       "  2199.32,1486.45 2199.32,47.2441 \n",
       "  \"/>\n",
       "<polyline clip-path=\"url(#clip460)\" style=\"stroke:#000000; stroke-width:4; stroke-opacity:1; fill:none\" points=\"\n",
       "  186.274,1486.45 2352.76,1486.45 \n",
       "  \"/>\n",
       "<polyline clip-path=\"url(#clip460)\" style=\"stroke:#000000; stroke-width:4; stroke-opacity:1; fill:none\" points=\"\n",
       "  247.59,1486.45 247.59,1469.18 \n",
       "  \"/>\n",
       "<polyline clip-path=\"url(#clip460)\" style=\"stroke:#000000; stroke-width:4; stroke-opacity:1; fill:none\" points=\"\n",
       "  898.167,1486.45 898.167,1469.18 \n",
       "  \"/>\n",
       "<polyline clip-path=\"url(#clip460)\" style=\"stroke:#000000; stroke-width:4; stroke-opacity:1; fill:none\" points=\"\n",
       "  1548.75,1486.45 1548.75,1469.18 \n",
       "  \"/>\n",
       "<polyline clip-path=\"url(#clip460)\" style=\"stroke:#000000; stroke-width:4; stroke-opacity:1; fill:none\" points=\"\n",
       "  2199.32,1486.45 2199.32,1469.18 \n",
       "  \"/>\n",
       "<path clip-path=\"url(#clip460)\" d=\"M 0 0 M247.59 1515.64 Q243.978 1515.64 242.15 1519.2 Q240.344 1522.75 240.344 1529.87 Q240.344 1536.98 242.15 1540.55 Q243.978 1544.09 247.59 1544.09 Q251.224 1544.09 253.029 1540.55 Q254.858 1536.98 254.858 1529.87 Q254.858 1522.75 253.029 1519.2 Q251.224 1515.64 247.59 1515.64 M247.59 1511.93 Q253.4 1511.93 256.455 1516.54 Q259.534 1521.12 259.534 1529.87 Q259.534 1538.6 256.455 1543.21 Q253.4 1547.79 247.59 1547.79 Q241.779 1547.79 238.701 1543.21 Q235.645 1538.6 235.645 1529.87 Q235.645 1521.12 238.701 1516.54 Q241.779 1511.93 247.59 1511.93 Z\" fill=\"#000000\" fill-rule=\"evenodd\" fill-opacity=\"1\" /><path clip-path=\"url(#clip460)\" d=\"M 0 0 M888.549 1543.18 L896.188 1543.18 L896.188 1516.82 L887.878 1518.49 L887.878 1514.23 L896.142 1512.56 L900.818 1512.56 L900.818 1543.18 L908.457 1543.18 L908.457 1547.12 L888.549 1547.12 L888.549 1543.18 Z\" fill=\"#000000\" fill-rule=\"evenodd\" fill-opacity=\"1\" /><path clip-path=\"url(#clip460)\" d=\"M 0 0 M1543.4 1543.18 L1559.72 1543.18 L1559.72 1547.12 L1537.77 1547.12 L1537.77 1543.18 Q1540.44 1540.43 1545.02 1535.8 Q1549.63 1531.15 1550.81 1529.81 Q1553.05 1527.28 1553.93 1525.55 Q1554.83 1523.79 1554.83 1522.1 Q1554.83 1519.34 1552.89 1517.61 Q1550.97 1515.87 1547.87 1515.87 Q1545.67 1515.87 1543.21 1516.63 Q1540.78 1517.4 1538 1518.95 L1538 1514.23 Q1540.83 1513.09 1543.28 1512.51 Q1545.74 1511.93 1547.77 1511.93 Q1553.14 1511.93 1556.34 1514.62 Q1559.53 1517.31 1559.53 1521.8 Q1559.53 1523.93 1558.72 1525.85 Q1557.94 1527.74 1555.83 1530.34 Q1555.25 1531.01 1552.15 1534.23 Q1549.05 1537.42 1543.4 1543.18 Z\" fill=\"#000000\" fill-rule=\"evenodd\" fill-opacity=\"1\" /><path clip-path=\"url(#clip460)\" d=\"M 0 0 M2203.57 1528.49 Q2206.93 1529.2 2208.8 1531.47 Q2210.7 1533.74 2210.7 1537.07 Q2210.7 1542.19 2207.18 1544.99 Q2203.66 1547.79 2197.18 1547.79 Q2195.01 1547.79 2192.69 1547.35 Q2190.4 1546.93 2187.95 1546.08 L2187.95 1541.56 Q2189.89 1542.7 2192.21 1543.28 Q2194.52 1543.86 2197.04 1543.86 Q2201.44 1543.86 2203.73 1542.12 Q2206.05 1540.38 2206.05 1537.07 Q2206.05 1534.02 2203.9 1532.31 Q2201.77 1530.57 2197.95 1530.57 L2193.92 1530.57 L2193.92 1526.73 L2198.13 1526.73 Q2201.58 1526.73 2203.41 1525.36 Q2205.24 1523.97 2205.24 1521.38 Q2205.24 1518.72 2203.34 1517.31 Q2201.46 1515.87 2197.95 1515.87 Q2196.02 1515.87 2193.83 1516.29 Q2191.63 1516.7 2188.99 1517.58 L2188.99 1513.42 Q2191.65 1512.68 2193.96 1512.31 Q2196.3 1511.93 2198.36 1511.93 Q2203.69 1511.93 2206.79 1514.37 Q2209.89 1516.77 2209.89 1520.89 Q2209.89 1523.76 2208.25 1525.75 Q2206.6 1527.72 2203.57 1528.49 Z\" fill=\"#000000\" fill-rule=\"evenodd\" fill-opacity=\"1\" /><polyline clip-path=\"url(#clip462)\" style=\"stroke:#000000; stroke-width:2; stroke-opacity:0.1; fill:none\" points=\"\n",
       "  186.274,1445.72 2352.76,1445.72 \n",
       "  \"/>\n",
       "<polyline clip-path=\"url(#clip462)\" style=\"stroke:#000000; stroke-width:2; stroke-opacity:0.1; fill:none\" points=\"\n",
       "  186.274,1106.27 2352.76,1106.27 \n",
       "  \"/>\n",
       "<polyline clip-path=\"url(#clip462)\" style=\"stroke:#000000; stroke-width:2; stroke-opacity:0.1; fill:none\" points=\"\n",
       "  186.274,766.833 2352.76,766.833 \n",
       "  \"/>\n",
       "<polyline clip-path=\"url(#clip462)\" style=\"stroke:#000000; stroke-width:2; stroke-opacity:0.1; fill:none\" points=\"\n",
       "  186.274,427.392 2352.76,427.392 \n",
       "  \"/>\n",
       "<polyline clip-path=\"url(#clip462)\" style=\"stroke:#000000; stroke-width:2; stroke-opacity:0.1; fill:none\" points=\"\n",
       "  186.274,87.9507 2352.76,87.9507 \n",
       "  \"/>\n",
       "<polyline clip-path=\"url(#clip460)\" style=\"stroke:#000000; stroke-width:4; stroke-opacity:1; fill:none\" points=\"\n",
       "  186.274,1486.45 186.274,47.2441 \n",
       "  \"/>\n",
       "<polyline clip-path=\"url(#clip460)\" style=\"stroke:#000000; stroke-width:4; stroke-opacity:1; fill:none\" points=\"\n",
       "  186.274,1445.72 212.272,1445.72 \n",
       "  \"/>\n",
       "<polyline clip-path=\"url(#clip460)\" style=\"stroke:#000000; stroke-width:4; stroke-opacity:1; fill:none\" points=\"\n",
       "  186.274,1106.27 212.272,1106.27 \n",
       "  \"/>\n",
       "<polyline clip-path=\"url(#clip460)\" style=\"stroke:#000000; stroke-width:4; stroke-opacity:1; fill:none\" points=\"\n",
       "  186.274,766.833 212.272,766.833 \n",
       "  \"/>\n",
       "<polyline clip-path=\"url(#clip460)\" style=\"stroke:#000000; stroke-width:4; stroke-opacity:1; fill:none\" points=\"\n",
       "  186.274,427.392 212.272,427.392 \n",
       "  \"/>\n",
       "<polyline clip-path=\"url(#clip460)\" style=\"stroke:#000000; stroke-width:4; stroke-opacity:1; fill:none\" points=\"\n",
       "  186.274,87.9507 212.272,87.9507 \n",
       "  \"/>\n",
       "<path clip-path=\"url(#clip460)\" d=\"M 0 0 M62.9365 1431.51 Q59.3254 1431.51 57.4967 1435.08 Q55.6912 1438.62 55.6912 1445.75 Q55.6912 1452.86 57.4967 1456.42 Q59.3254 1459.96 62.9365 1459.96 Q66.5707 1459.96 68.3763 1456.42 Q70.205 1452.86 70.205 1445.75 Q70.205 1438.62 68.3763 1435.08 Q66.5707 1431.51 62.9365 1431.51 M62.9365 1427.81 Q68.7467 1427.81 71.8022 1432.42 Q74.8809 1437 74.8809 1445.75 Q74.8809 1454.48 71.8022 1459.08 Q68.7467 1463.67 62.9365 1463.67 Q57.1264 1463.67 54.0477 1459.08 Q50.9921 1454.48 50.9921 1445.75 Q50.9921 1437 54.0477 1432.42 Q57.1264 1427.81 62.9365 1427.81 Z\" fill=\"#000000\" fill-rule=\"evenodd\" fill-opacity=\"1\" /><path clip-path=\"url(#clip460)\" d=\"M 0 0 M83.0984 1457.12 L87.9827 1457.12 L87.9827 1463 L83.0984 1463 L83.0984 1457.12 Z\" fill=\"#000000\" fill-rule=\"evenodd\" fill-opacity=\"1\" /><path clip-path=\"url(#clip460)\" d=\"M 0 0 M108.168 1431.51 Q104.557 1431.51 102.728 1435.08 Q100.922 1438.62 100.922 1445.75 Q100.922 1452.86 102.728 1456.42 Q104.557 1459.96 108.168 1459.96 Q111.802 1459.96 113.608 1456.42 Q115.436 1452.86 115.436 1445.75 Q115.436 1438.62 113.608 1435.08 Q111.802 1431.51 108.168 1431.51 M108.168 1427.81 Q113.978 1427.81 117.033 1432.42 Q120.112 1437 120.112 1445.75 Q120.112 1454.48 117.033 1459.08 Q113.978 1463.67 108.168 1463.67 Q102.358 1463.67 99.2789 1459.08 Q96.2234 1454.48 96.2234 1445.75 Q96.2234 1437 99.2789 1432.42 Q102.358 1427.81 108.168 1427.81 Z\" fill=\"#000000\" fill-rule=\"evenodd\" fill-opacity=\"1\" /><path clip-path=\"url(#clip460)\" d=\"M 0 0 M138.33 1431.51 Q134.719 1431.51 132.89 1435.08 Q131.084 1438.62 131.084 1445.75 Q131.084 1452.86 132.89 1456.42 Q134.719 1459.96 138.33 1459.96 Q141.964 1459.96 143.769 1456.42 Q145.598 1452.86 145.598 1445.75 Q145.598 1438.62 143.769 1435.08 Q141.964 1431.51 138.33 1431.51 M138.33 1427.81 Q144.14 1427.81 147.195 1432.42 Q150.274 1437 150.274 1445.75 Q150.274 1454.48 147.195 1459.08 Q144.14 1463.67 138.33 1463.67 Q132.519 1463.67 129.441 1459.08 Q126.385 1454.48 126.385 1445.75 Q126.385 1437 129.441 1432.42 Q132.519 1427.81 138.33 1427.81 Z\" fill=\"#000000\" fill-rule=\"evenodd\" fill-opacity=\"1\" /><path clip-path=\"url(#clip460)\" d=\"M 0 0 M63.9319 1092.07 Q60.3208 1092.07 58.4921 1095.64 Q56.6865 1099.18 56.6865 1106.31 Q56.6865 1113.42 58.4921 1116.98 Q60.3208 1120.52 63.9319 1120.52 Q67.5661 1120.52 69.3717 1116.98 Q71.2004 1113.42 71.2004 1106.31 Q71.2004 1099.18 69.3717 1095.64 Q67.5661 1092.07 63.9319 1092.07 M63.9319 1088.37 Q69.742 1088.37 72.7976 1092.98 Q75.8763 1097.56 75.8763 1106.31 Q75.8763 1115.04 72.7976 1119.64 Q69.742 1124.23 63.9319 1124.23 Q58.1217 1124.23 55.043 1119.64 Q51.9875 1115.04 51.9875 1106.31 Q51.9875 1097.56 55.043 1092.98 Q58.1217 1088.37 63.9319 1088.37 Z\" fill=\"#000000\" fill-rule=\"evenodd\" fill-opacity=\"1\" /><path clip-path=\"url(#clip460)\" d=\"M 0 0 M84.0938 1117.67 L88.978 1117.67 L88.978 1123.55 L84.0938 1123.55 L84.0938 1117.67 Z\" fill=\"#000000\" fill-rule=\"evenodd\" fill-opacity=\"1\" /><path clip-path=\"url(#clip460)\" d=\"M 0 0 M103.191 1119.62 L119.51 1119.62 L119.51 1123.55 L97.566 1123.55 L97.566 1119.62 Q100.228 1116.86 104.811 1112.24 Q109.418 1107.58 110.598 1106.24 Q112.844 1103.72 113.723 1101.98 Q114.626 1100.22 114.626 1098.53 Q114.626 1095.78 112.682 1094.04 Q110.76 1092.3 107.658 1092.3 Q105.459 1092.3 103.006 1093.07 Q100.575 1093.83 97.7974 1095.38 L97.7974 1090.66 Q100.621 1089.53 103.075 1088.95 Q105.529 1088.37 107.566 1088.37 Q112.936 1088.37 116.131 1091.05 Q119.325 1093.74 119.325 1098.23 Q119.325 1100.36 118.515 1102.28 Q117.728 1104.18 115.621 1106.77 Q115.043 1107.44 111.941 1110.66 Q108.839 1113.86 103.191 1119.62 Z\" fill=\"#000000\" fill-rule=\"evenodd\" fill-opacity=\"1\" /><path clip-path=\"url(#clip460)\" d=\"M 0 0 M129.371 1088.99 L147.728 1088.99 L147.728 1092.93 L133.654 1092.93 L133.654 1101.4 Q134.672 1101.05 135.691 1100.89 Q136.709 1100.71 137.728 1100.71 Q143.515 1100.71 146.894 1103.88 Q150.274 1107.05 150.274 1112.47 Q150.274 1118.05 146.802 1121.15 Q143.33 1124.23 137.01 1124.23 Q134.834 1124.23 132.566 1123.86 Q130.32 1123.49 127.913 1122.74 L127.913 1118.05 Q129.996 1119.18 132.219 1119.74 Q134.441 1120.29 136.918 1120.29 Q140.922 1120.29 143.26 1118.18 Q145.598 1116.08 145.598 1112.47 Q145.598 1108.86 143.26 1106.75 Q140.922 1104.64 136.918 1104.64 Q135.043 1104.64 133.168 1105.06 Q131.316 1105.48 129.371 1106.36 L129.371 1088.99 Z\" fill=\"#000000\" fill-rule=\"evenodd\" fill-opacity=\"1\" /><path clip-path=\"url(#clip460)\" d=\"M 0 0 M62.9365 752.632 Q59.3254 752.632 57.4967 756.197 Q55.6912 759.738 55.6912 766.868 Q55.6912 773.974 57.4967 777.539 Q59.3254 781.081 62.9365 781.081 Q66.5707 781.081 68.3763 777.539 Q70.205 773.974 70.205 766.868 Q70.205 759.738 68.3763 756.197 Q66.5707 752.632 62.9365 752.632 M62.9365 748.928 Q68.7467 748.928 71.8022 753.535 Q74.8809 758.118 74.8809 766.868 Q74.8809 775.595 71.8022 780.201 Q68.7467 784.784 62.9365 784.784 Q57.1264 784.784 54.0477 780.201 Q50.9921 775.595 50.9921 766.868 Q50.9921 758.118 54.0477 753.535 Q57.1264 748.928 62.9365 748.928 Z\" fill=\"#000000\" fill-rule=\"evenodd\" fill-opacity=\"1\" /><path clip-path=\"url(#clip460)\" d=\"M 0 0 M83.0984 778.234 L87.9827 778.234 L87.9827 784.113 L83.0984 784.113 L83.0984 778.234 Z\" fill=\"#000000\" fill-rule=\"evenodd\" fill-opacity=\"1\" /><path clip-path=\"url(#clip460)\" d=\"M 0 0 M98.2141 749.553 L116.57 749.553 L116.57 753.488 L102.496 753.488 L102.496 761.961 Q103.515 761.613 104.534 761.451 Q105.552 761.266 106.571 761.266 Q112.358 761.266 115.737 764.437 Q119.117 767.609 119.117 773.025 Q119.117 778.604 115.645 781.706 Q112.172 784.784 105.853 784.784 Q103.677 784.784 101.409 784.414 Q99.1632 784.044 96.7558 783.303 L96.7558 778.604 Q98.8391 779.738 101.061 780.294 Q103.284 780.849 105.76 780.849 Q109.765 780.849 112.103 778.743 Q114.441 776.636 114.441 773.025 Q114.441 769.414 112.103 767.308 Q109.765 765.201 105.76 765.201 Q103.885 765.201 102.01 765.618 Q100.159 766.035 98.2141 766.914 L98.2141 749.553 Z\" fill=\"#000000\" fill-rule=\"evenodd\" fill-opacity=\"1\" /><path clip-path=\"url(#clip460)\" d=\"M 0 0 M138.33 752.632 Q134.719 752.632 132.89 756.197 Q131.084 759.738 131.084 766.868 Q131.084 773.974 132.89 777.539 Q134.719 781.081 138.33 781.081 Q141.964 781.081 143.769 777.539 Q145.598 773.974 145.598 766.868 Q145.598 759.738 143.769 756.197 Q141.964 752.632 138.33 752.632 M138.33 748.928 Q144.14 748.928 147.195 753.535 Q150.274 758.118 150.274 766.868 Q150.274 775.595 147.195 780.201 Q144.14 784.784 138.33 784.784 Q132.519 784.784 129.441 780.201 Q126.385 775.595 126.385 766.868 Q126.385 758.118 129.441 753.535 Q132.519 748.928 138.33 748.928 Z\" fill=\"#000000\" fill-rule=\"evenodd\" fill-opacity=\"1\" /><path clip-path=\"url(#clip460)\" d=\"M 0 0 M63.9319 413.191 Q60.3208 413.191 58.4921 416.755 Q56.6865 420.297 56.6865 427.427 Q56.6865 434.533 58.4921 438.098 Q60.3208 441.64 63.9319 441.64 Q67.5661 441.64 69.3717 438.098 Q71.2004 434.533 71.2004 427.427 Q71.2004 420.297 69.3717 416.755 Q67.5661 413.191 63.9319 413.191 M63.9319 409.487 Q69.742 409.487 72.7976 414.093 Q75.8763 418.677 75.8763 427.427 Q75.8763 436.153 72.7976 440.76 Q69.742 445.343 63.9319 445.343 Q58.1217 445.343 55.043 440.76 Q51.9875 436.153 51.9875 427.427 Q51.9875 418.677 55.043 414.093 Q58.1217 409.487 63.9319 409.487 Z\" fill=\"#000000\" fill-rule=\"evenodd\" fill-opacity=\"1\" /><path clip-path=\"url(#clip460)\" d=\"M 0 0 M84.0938 438.792 L88.978 438.792 L88.978 444.672 L84.0938 444.672 L84.0938 438.792 Z\" fill=\"#000000\" fill-rule=\"evenodd\" fill-opacity=\"1\" /><path clip-path=\"url(#clip460)\" d=\"M 0 0 M97.9826 410.112 L120.205 410.112 L120.205 412.103 L107.658 444.672 L102.774 444.672 L114.58 414.047 L97.9826 414.047 L97.9826 410.112 Z\" fill=\"#000000\" fill-rule=\"evenodd\" fill-opacity=\"1\" /><path clip-path=\"url(#clip460)\" d=\"M 0 0 M129.371 410.112 L147.728 410.112 L147.728 414.047 L133.654 414.047 L133.654 422.519 Q134.672 422.172 135.691 422.01 Q136.709 421.825 137.728 421.825 Q143.515 421.825 146.894 424.996 Q150.274 428.167 150.274 433.584 Q150.274 439.163 146.802 442.265 Q143.33 445.343 137.01 445.343 Q134.834 445.343 132.566 444.973 Q130.32 444.603 127.913 443.862 L127.913 439.163 Q129.996 440.297 132.219 440.853 Q134.441 441.408 136.918 441.408 Q140.922 441.408 143.26 439.302 Q145.598 437.195 145.598 433.584 Q145.598 429.973 143.26 427.866 Q140.922 425.76 136.918 425.76 Q135.043 425.76 133.168 426.177 Q131.316 426.593 129.371 427.473 L129.371 410.112 Z\" fill=\"#000000\" fill-rule=\"evenodd\" fill-opacity=\"1\" /><path clip-path=\"url(#clip460)\" d=\"M 0 0 M53.7467 101.296 L61.3856 101.296 L61.3856 74.93 L53.0754 76.5966 L53.0754 72.3374 L61.3393 70.6707 L66.0152 70.6707 L66.0152 101.296 L73.654 101.296 L73.654 105.231 L53.7467 105.231 L53.7467 101.296 Z\" fill=\"#000000\" fill-rule=\"evenodd\" fill-opacity=\"1\" /><path clip-path=\"url(#clip460)\" d=\"M 0 0 M83.0984 99.3511 L87.9827 99.3511 L87.9827 105.231 L83.0984 105.231 L83.0984 99.3511 Z\" fill=\"#000000\" fill-rule=\"evenodd\" fill-opacity=\"1\" /><path clip-path=\"url(#clip460)\" d=\"M 0 0 M108.168 73.7494 Q104.557 73.7494 102.728 77.3142 Q100.922 80.8558 100.922 87.9854 Q100.922 95.0919 102.728 98.6567 Q104.557 102.198 108.168 102.198 Q111.802 102.198 113.608 98.6567 Q115.436 95.0919 115.436 87.9854 Q115.436 80.8558 113.608 77.3142 Q111.802 73.7494 108.168 73.7494 M108.168 70.0457 Q113.978 70.0457 117.033 74.6522 Q120.112 79.2355 120.112 87.9854 Q120.112 96.7122 117.033 101.319 Q113.978 105.902 108.168 105.902 Q102.358 105.902 99.2789 101.319 Q96.2234 96.7122 96.2234 87.9854 Q96.2234 79.2355 99.2789 74.6522 Q102.358 70.0457 108.168 70.0457 Z\" fill=\"#000000\" fill-rule=\"evenodd\" fill-opacity=\"1\" /><path clip-path=\"url(#clip460)\" d=\"M 0 0 M138.33 73.7494 Q134.719 73.7494 132.89 77.3142 Q131.084 80.8558 131.084 87.9854 Q131.084 95.0919 132.89 98.6567 Q134.719 102.198 138.33 102.198 Q141.964 102.198 143.769 98.6567 Q145.598 95.0919 145.598 87.9854 Q145.598 80.8558 143.769 77.3142 Q141.964 73.7494 138.33 73.7494 M138.33 70.0457 Q144.14 70.0457 147.195 74.6522 Q150.274 79.2355 150.274 87.9854 Q150.274 96.7122 147.195 101.319 Q144.14 105.902 138.33 105.902 Q132.519 105.902 129.441 101.319 Q126.385 96.7122 126.385 87.9854 Q126.385 79.2355 129.441 74.6522 Q132.519 70.0457 138.33 70.0457 Z\" fill=\"#000000\" fill-rule=\"evenodd\" fill-opacity=\"1\" /><polyline clip-path=\"url(#clip462)\" style=\"stroke:#009af9; stroke-width:4; stroke-opacity:1; fill:none\" points=\"\n",
       "  247.59,1445.72 257.569,1424.89 267.549,1404.07 359.828,1212.63 452.107,1025.88 507.563,917.472 563.019,812.901 609.906,728.042 656.793,646.91 707.726,563.49 \n",
       "  758.658,485.474 805.614,418.752 852.569,357.376 902.91,297.878 953.251,245.249 1011.58,193.276 1069.9,151.362 1121.73,122.83 1173.57,102.69 1219.02,92.0385 \n",
       "  1264.47,87.9915 1314.03,91.1274 1363.58,102.119 1413.43,121.037 1463.28,147.729 1518.4,186.099 1573.51,233.503 1625.95,286.686 1678.39,347.395 1732.92,418.076 \n",
       "  1787.45,495.971 1833.35,566.734 1879.25,641.871 1991.32,841.346 2096.68,1045.29 2265.46,1391.52 2291.44,1445.72 \n",
       "  \"/>\n",
       "<circle clip-path=\"url(#clip462)\" cx=\"1273.51\" cy=\"87.9763\" r=\"14\" fill=\"#e26f46\" fill-rule=\"evenodd\" fill-opacity=\"1\" stroke=\"#000000\" stroke-opacity=\"1\" stroke-width=\"3.2\"/>\n",
       "</svg>\n"
      ]
     },
     "execution_count": 89,
     "metadata": {},
     "output_type": "execute_result"
    }
   ],
   "source": [
    "# Teste 3\n",
    "\n",
    "f(x) = sin(x)\n",
    "fd(x) = cos(x)\n",
    "p = achar_um_ponto_critico_de_uma_funcao(fd, 0, pi)\n",
    "plot(f, 0, pi)\n",
    "scatter!(p:p, [f(p)], leg=false)"
   ]
  },
  {
   "cell_type": "markdown",
   "metadata": {},
   "source": [
    "### Encontrar um ponto crítico de uma função de 2 variáveis"
   ]
  },
  {
   "cell_type": "code",
   "execution_count": 90,
   "metadata": {},
   "outputs": [
    {
     "data": {
      "text/plain": [
       "achar_um_ponto_critico_de_uma_funcao_de_2_variaveis (generic function with 1 method)"
      ]
     },
     "execution_count": 90,
     "metadata": {},
     "output_type": "execute_result"
    }
   ],
   "source": [
    "\"\"\" Nessa função, queremos encontrar um ponto crítico em uma função de duas variáveis. Para isso, utilizamos o \n",
    "método do gradiente descendente, em que descemos a curva da função através do decremento do gradiente, visto que\n",
    "este aponta para a direção de maior crescimento. Para isso, é necessário passar o gradiente da função no formato \n",
    "[fdx, fdy], os intervalos de x e y no formato [a, b] e a quantidade de iterações a ser realizada pelo método. \"\"\"\n",
    "\n",
    "function achar_um_ponto_critico_de_uma_funcao_de_2_variaveis(gradiente_da_funcao, intervalox, intervaloy, iteracoes)\n",
    "    # Iniciamos aleatoriamente o ponto\n",
    "    px = rand(intervalox[1]:intervalox[2])\n",
    "    py = rand(intervaloy[1]:intervaloy[2])\n",
    "    taxa = 0.1\n",
    "    \n",
    "    for i in 1:iteracoes\n",
    "        # Obtemos o gradiente no ponto\n",
    "        grad = gradiente_da_funcao(px,py)\n",
    "        \n",
    "        # Checamos se esta dentro do intervalo pedido para descer o gradiente\n",
    "        if (intervalox[1]<=px-grad[1]*taxa<=intervalox[2]) && (intervaloy[1]<=py-grad[2]*taxa<=intervaloy[2])\n",
    "            px = px - grad[1]*taxa\n",
    "            py = py - grad[2]*taxa\n",
    "        else\n",
    "            break       # Senão acabamos a iteracao\n",
    "        end \n",
    "    end\n",
    "    \n",
    "    return [px,py]\n",
    "end"
   ]
  },
  {
   "cell_type": "code",
   "execution_count": 91,
   "metadata": {
    "tags": []
   },
   "outputs": [
    {
     "data": {
      "text/plain": [
       "2-element Array{Float64,1}:\n",
       " 1.4999999999999996\n",
       " 0.0"
      ]
     },
     "execution_count": 91,
     "metadata": {},
     "output_type": "execute_result"
    }
   ],
   "source": [
    "# Testando a função x^2+2y^2-3x\n",
    "\n",
    "d(x,y) = [2x-3, 4y]\n",
    "achar_um_ponto_critico_de_uma_funcao_de_2_variaveis(d, [-10,10], [-10,10], 500)"
   ]
  },
  {
   "cell_type": "code",
   "execution_count": 92,
   "metadata": {},
   "outputs": [
    {
     "data": {
      "text/plain": [
       "2-element Array{Int64,1}:\n",
       " -2\n",
       "  4"
      ]
     },
     "execution_count": 92,
     "metadata": {},
     "output_type": "execute_result"
    }
   ],
   "source": [
    "# A função x^4 + x*y^3 - 2x^2*y + x - 5yx tem mínimo local em (-0.769, -1.074)\n",
    "\n",
    "d(x,y) = [4x^3+y^3-4y*x+1-5y,-2x^2+3x*y^2-5x]\n",
    "achar_um_ponto_critico_de_uma_funcao_de_2_variaveis(d, [-5,5], [-5,5], 500)"
   ]
  },
  {
   "cell_type": "code",
   "execution_count": 93,
   "metadata": {},
   "outputs": [
    {
     "data": {
      "text/plain": [
       "2-element Array{Float64,1}:\n",
       " 4.712388980384694\n",
       " 0.0"
      ]
     },
     "execution_count": 93,
     "metadata": {},
     "output_type": "execute_result"
    }
   ],
   "source": [
    "# Função sen(x)*cos(y/5) possui muitos pontos locais de minimo e maximo\n",
    "\n",
    "d(x,y) = [cos(y/5)*cos(x), -1/5*sin(x)*sin(y/5)]\n",
    "achar_um_ponto_critico_de_uma_funcao_de_2_variaveis(d, [-5,5], [-5,5], 500)"
   ]
  },
  {
   "cell_type": "markdown",
   "metadata": {},
   "source": [
    "### Obter Lagrange em 2D"
   ]
  },
  {
   "cell_type": "code",
   "execution_count": 94,
   "metadata": {},
   "outputs": [
    {
     "data": {
      "text/plain": [
       "langrage_2D (generic function with 1 method)"
      ]
     },
     "execution_count": 94,
     "metadata": {},
     "output_type": "execute_result"
    }
   ],
   "source": [
    "# Thierry\n",
    "function langrage_2D()\n",
    "    \n",
    "end"
   ]
  }
 ],
 "metadata": {
  "kernelspec": {
   "display_name": "Julia 1.5.4",
   "language": "julia",
   "name": "julia-1.5"
  },
  "language_info": {
   "file_extension": ".jl",
   "mimetype": "application/julia",
   "name": "julia",
   "version": "1.5.4"
  }
 },
 "nbformat": 4,
 "nbformat_minor": 4
}
