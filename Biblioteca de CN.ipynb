{
 "cells": [
  {
   "cell_type": "markdown",
   "metadata": {},
   "source": [
    "# Questão 1."
   ]
  },
  {
   "cell_type": "markdown",
   "metadata": {},
   "source": [
    "## Funções"
   ]
  },
  {
   "cell_type": "code",
   "execution_count": 1,
   "metadata": {},
   "outputs": [],
   "source": [
    "using LinearAlgebra"
   ]
  },
  {
   "cell_type": "code",
   "execution_count": 2,
   "metadata": {},
   "outputs": [
    {
     "data": {
      "text/plain": [
       "resolve_diagonal (generic function with 1 method)"
      ]
     },
     "execution_count": 2,
     "metadata": {},
     "output_type": "execute_result"
    }
   ],
   "source": [
    "\"\"\" O intuito da função resolve_diagonal é resolver equações Dx = b onde A é uma matriz diagonal NxN, X é uma matriz Nx1 e b\n",
    "também é uma matriz Nx1. Logo, a função recebe como entrada a Matriz Diagonal Quadrada NXN e o vetor B Nx1, e retorna o vetor x Nx1. \"\"\"\n",
    "\n",
    "function resolve_diagonal(D,b) # D é diagonal e b é um vetor  \n",
    "    tamanho = length(b)        # Pega-se o tamanho tanto do vetor quanto da matriz (pressupõe que são de mesmo tamanho)\n",
    "    x=zeros(tamanho,1)         # Aloca o vetor x a ser retornado\n",
    "    for i in 1:tamanho \n",
    "        x[i] = b[i]/D[i,i]     # Resolve cada x[i] de acordo com o valor da diagonal e o valor de b de cada linha\n",
    "    end\n",
    "    \n",
    "    return x\n",
    "end"
   ]
  },
  {
   "cell_type": "code",
   "execution_count": 3,
   "metadata": {},
   "outputs": [
    {
     "data": {
      "text/plain": [
       "resolve_triangular_superior (generic function with 1 method)"
      ]
     },
     "execution_count": 3,
     "metadata": {},
     "output_type": "execute_result"
    }
   ],
   "source": [
    "function resolve_triangular_superior(T,b) #T é triangular superior\n",
    "    tamanho = length(b)\n",
    "    x=zeros(tamanho,1)\n",
    "    \n",
    "    i = tamanho\n",
    "    while (i > 0)\n",
    "        x[i] = b[i]/T[i,i]\n",
    "        k = tamanho\n",
    "        for j in i:(tamanho - 1)\n",
    "            x[i] -= T[i, k] * x[k]/T[i,i]\n",
    "            k -= 1\n",
    "        end\n",
    "        i -= 1\n",
    "    end\n",
    "    return x\n",
    "end"
   ]
  },
  {
   "cell_type": "code",
   "execution_count": 4,
   "metadata": {},
   "outputs": [
    {
     "data": {
      "text/plain": [
       "resolve_triangular_inferior (generic function with 1 method)"
      ]
     },
     "execution_count": 4,
     "metadata": {},
     "output_type": "execute_result"
    }
   ],
   "source": [
    "function resolve_triangular_inferior(T,b) #T é triangular superior\n",
    "    tamanho = length(b)\n",
    "    x=zeros(tamanho,1)\n",
    "    \n",
    "    i = 1\n",
    "    while (i <= tamanho)\n",
    "        x[i] = b[i]/T[i,i]\n",
    "        for j in 1:(i-1)\n",
    "            x[i] -= T[i, j] * x[j]/T[i,i]\n",
    "        end\n",
    "        i += 1\n",
    "    end\n",
    "    return x\n",
    "end"
   ]
  },
  {
   "cell_type": "code",
   "execution_count": 16,
   "metadata": {},
   "outputs": [
    {
     "data": {
      "text/plain": [
       "eliminacao_gaussiana (generic function with 1 method)"
      ]
     },
     "execution_count": 16,
     "metadata": {},
     "output_type": "execute_result"
    }
   ],
   "source": [
    "function eliminacao_gaussiana(A,b) #A é uma matriz cheia (\"matriz densa\")\n",
    "    tamanho = length(b)\n",
    "    for i in 1:tamanho-1\n",
    "        for j in i+1:tamanho\n",
    "            multiplicador = A[j,i]/A[i,i]\n",
    "            A[j, :] = A[j, :] - multiplicador*A[i, :]\n",
    "            b[j] = b[j] - multiplicador*b[i]\n",
    "        end\n",
    "    end\n",
    "    return A,b\n",
    "end"
   ]
  },
  {
   "cell_type": "code",
   "execution_count": 6,
   "metadata": {},
   "outputs": [
    {
     "data": {
      "text/plain": [
       "resolve_cheia (generic function with 1 method)"
      ]
     },
     "execution_count": 6,
     "metadata": {},
     "output_type": "execute_result"
    }
   ],
   "source": [
    "function resolve_cheia(A,b)\n",
    "    T,c= eliminação_gaussiana(A,b)  #O(n^3)\n",
    "    x=resolve_triangular_superior(T,b)  #O(n^2)\n",
    "    return x\n",
    "end"
   ]
  },
  {
   "cell_type": "code",
   "execution_count": 7,
   "metadata": {},
   "outputs": [
    {
     "data": {
      "text/plain": [
       "decomposição_LU (generic function with 1 method)"
      ]
     },
     "execution_count": 7,
     "metadata": {},
     "output_type": "execute_result"
    }
   ],
   "source": [
    "function decomposicao_LU(A) #A é uma matriz cheia (\"matriz densa\")\n",
    "    tamanho = size(A)\n",
    "    tamanho = tamanho[1]\n",
    "    L=zeros(tamanho,tamanho)\n",
    "    \n",
    "    for i in 1:tamanho\n",
    "        L[i,i] = 1\n",
    "    end\n",
    "    \n",
    "    U = zeros(tamanho, tamanho)\n",
    "    \n",
    "    for i in 1:tamanho\n",
    "        for j in 1:tamanho\n",
    "            U[i, j] = A[i, j]\n",
    "        end\n",
    "    end\n",
    "    \n",
    "    for i in 1:tamanho-1\n",
    "        for j in i+1:tamanho\n",
    "            L[j,i] = U[j,i]/U[i,i]\n",
    "            U[j, :] = U[j, :] -L[j,i]*U[i, :]\n",
    "        end\n",
    "    end\n",
    "\n",
    "    return L,U \n",
    "end"
   ]
  },
  {
   "cell_type": "code",
   "execution_count": 8,
   "metadata": {},
   "outputs": [
    {
     "data": {
      "text/plain": [
       "resolver_pós_LU (generic function with 1 method)"
      ]
     },
     "execution_count": 8,
     "metadata": {},
     "output_type": "execute_result"
    }
   ],
   "source": [
    "function resolver_pos_LU(L,U,b)    #O(n^2) \n",
    "    y=resolve_triangular_inferior(L,b)\n",
    "    x=resolve_triangular_superior(U,y)\n",
    "    return x\n",
    "end"
   ]
  },
  {
   "cell_type": "markdown",
   "metadata": {},
   "source": [
    "## Testes das Funções"
   ]
  },
  {
   "cell_type": "code",
   "execution_count": null,
   "metadata": {},
   "outputs": [],
   "source": []
  },
  {
   "cell_type": "markdown",
   "metadata": {},
   "source": [
    "# Questão 2."
   ]
  },
  {
   "cell_type": "markdown",
   "metadata": {},
   "source": [
    "### Método de Taylor"
   ]
  },
  {
   "cell_type": "code",
   "execution_count": 139,
   "metadata": {},
   "outputs": [
    {
     "data": {
      "text/plain": [
       "taylor (generic function with 1 method)"
      ]
     },
     "execution_count": 139,
     "metadata": {},
     "output_type": "execute_result"
    }
   ],
   "source": [
    "\"\"\" Essa função faz a aproximação de uma função no ponto 'desejado' utilizando o polinômio de taylor centrado no ponto 'referencia'.\n",
    "Para isso, deve-se passar a função, as múltiplas derivadas (quantas quiser - quanto mais melhor) e os pontos de referencia e desejado.\"\"\"\n",
    "\n",
    "function taylor(funcao, derivadas, referencia, desejado)  #TODO\n",
    "    grau = length(derivadas)\n",
    "    soma = funcao(referencia)\n",
    "    fat = 1\n",
    "    for i in 1:grau\n",
    "        fat = fat * i\n",
    "        soma = soma + (derivadas[i](referencia)*(desejado-referencia)^i)/fat\n",
    "    end\n",
    "    return soma\n",
    "end"
   ]
  },
  {
   "cell_type": "code",
   "execution_count": 153,
   "metadata": {},
   "outputs": [
    {
     "name": "stdout",
     "output_type": "stream",
     "text": [
      "0.40580357142857143\n",
      "0.4054651081081644\n"
     ]
    }
   ],
   "source": [
    "f(x) = log(x)\n",
    "fd1(x) = 1/x; fd2(x) = -1/x^2; fd3(x) = 2/x^3; fd4(x) = -6/x^4; fd5(x) = 24/x^5; fd6(x) = -120/x^6; fd7(x) = 720/x^7;\n",
    "der = [fd1,fd2,fd3,fd4,fd5,fd6,fd7]\n",
    "\n",
    "println(taylor(f, der, 1, 1.5))\n",
    "println(log(1.5))"
   ]
  },
  {
   "cell_type": "code",
   "execution_count": 149,
   "metadata": {},
   "outputs": [
    {
     "name": "stdout",
     "output_type": "stream",
     "text": [
      "0.9635581840200099\n",
      "0.9320390859672263\n"
     ]
    }
   ],
   "source": [
    "f(x) = sin(x)\n",
    "fd1(x) = cos(x); fd2(x) = -sin(x); fd3(x) = -cos(x); fd4(x) = sin(x); fd5(x) = cos(x); fd6(x) = -sin(x); fd7(x) = -cos(x);\n",
    "der = [fd1,fd2,fd3,fd4,fd5,fd6,fd7]\n",
    "\n",
    "println(taylor(f, der, 1, 1.3))\n",
    "println(sin(1.2))"
   ]
  },
  {
   "cell_type": "code",
   "execution_count": 156,
   "metadata": {},
   "outputs": [
    {
     "name": "stdout",
     "output_type": "stream",
     "text": [
      "11.067330000000004\n",
      "11.067330000000002\n"
     ]
    }
   ],
   "source": [
    "f(x) = x^5+4x^4-3x^2+1\n",
    "fd1(x) = 5x^4+16x^3-6x; fd2(x) = 20x^3+48x^2-6; fd3(x) = 60x^2+96x; fd4(x) = 120x+96; fd5(x) = 120;\n",
    "der = [fd1,fd2,fd3,fd4,fd5]\n",
    "\n",
    "println(taylor(f, der, 1, 1.3))\n",
    "println(f(1.3))"
   ]
  },
  {
   "cell_type": "markdown",
   "metadata": {},
   "source": [
    "### Achar o Zero da Função"
   ]
  },
  {
   "cell_type": "code",
   "execution_count": null,
   "metadata": {},
   "outputs": [],
   "source": [
    "function achar_zero_de_função(função, precisão) #intervalo?, derivadas?\n",
    "    return solução\n",
    "end"
   ]
  },
  {
   "cell_type": "markdown",
   "metadata": {},
   "source": [
    "### Achar o Zero da Função por Bisseção"
   ]
  },
  {
   "cell_type": "code",
   "execution_count": 1,
   "metadata": {},
   "outputs": [
    {
     "data": {
      "text/plain": [
       "bissecao (generic function with 2 methods)"
      ]
     },
     "execution_count": 1,
     "metadata": {},
     "output_type": "execute_result"
    }
   ],
   "source": [
    "\"\"\" Na bisseção, queremos reduzir o intervalo ao máximo sempre garantindo que a função nos extremos tenha sinais distintos, visto que isso garante, pelo \n",
    "Teorema do Valor Intermediário, a existência de um zero de função nesse intervalo. Sendo assim, passamos a função, os extremos esquerdo e direito do intervalo\n",
    "e o erro máximo esperado. Retornamos a estimativa com um erro menor que o esperado.\"\"\"\n",
    "\n",
    "function bissecao(f, esq, dir, erro = 1e-2)\n",
    "    m=0\n",
    "    \n",
    "    if f(esq)*f(dir)>0\n",
    "        println(\"ERRO: O intervalo passado não possui extremos com sinais distintos. Não podemos garantir um zero da função!\")\n",
    "        return\n",
    "    end\n",
    "    \n",
    "    while abs(dir-esq) > erro\n",
    "        m = (esq+dir)/2\n",
    "        res = f(m)\n",
    "        \n",
    "        if res == 0.0\n",
    "            break\n",
    "        elseif res*f(esq) > 0     # verifica se f(m) e f(esq) possuem o mesmo sinal\n",
    "            esq = m\n",
    "        else                      \n",
    "            dir = m\n",
    "        end\n",
    "    end\n",
    "    \n",
    "    return m\n",
    "end"
   ]
  },
  {
   "cell_type": "code",
   "execution_count": 2,
   "metadata": {},
   "outputs": [
    {
     "name": "stdout",
     "output_type": "stream",
     "text": [
      "ERRO: O intervalo passado não possui extremos com sinais distintos. Não podemos garantir um zero da função!\n"
     ]
    }
   ],
   "source": [
    "f(x) = x^5+4x^4-3x^2+1\n",
    "bissecao(f,-3,3)"
   ]
  },
  {
   "cell_type": "code",
   "execution_count": 3,
   "metadata": {},
   "outputs": [
    {
     "data": {
      "text/plain": [
       "-3.798828125"
      ]
     },
     "execution_count": 3,
     "metadata": {},
     "output_type": "execute_result"
    }
   ],
   "source": [
    "f(x) = x^5+4x^4-3x^2+1\n",
    "bissecao(f,-10,10)"
   ]
  },
  {
   "cell_type": "code",
   "execution_count": 4,
   "metadata": {},
   "outputs": [
    {
     "data": {
      "text/plain": [
       "6.2822265625"
      ]
     },
     "execution_count": 4,
     "metadata": {},
     "output_type": "execute_result"
    }
   ],
   "source": [
    "f(x) = sin(x/2)\n",
    "bissecao(f, 1, 10)"
   ]
  },
  {
   "cell_type": "markdown",
   "metadata": {},
   "source": [
    "### Achar o Zero da Função por Ponto Fixo"
   ]
  },
  {
   "cell_type": "code",
   "execution_count": 183,
   "metadata": {},
   "outputs": [
    {
     "data": {
      "text/plain": [
       "ponto_fixo (generic function with 1 method)"
      ]
     },
     "execution_count": 183,
     "metadata": {},
     "output_type": "execute_result"
    }
   ],
   "source": [
    "# Chris\n",
    "function ponto_fixo(função, precisão, chute_inicial) #Feito \n",
    "    return ponto_fixo_da_função\n",
    "end"
   ]
  },
  {
   "cell_type": "markdown",
   "metadata": {},
   "source": [
    "### Achar o Zero da Função por Newton"
   ]
  },
  {
   "cell_type": "code",
   "execution_count": 193,
   "metadata": {},
   "outputs": [
    {
     "data": {
      "text/plain": [
       "newton (generic function with 2 methods)"
      ]
     },
     "execution_count": 193,
     "metadata": {},
     "output_type": "execute_result"
    }
   ],
   "source": [
    "\"\"\" Para o método de Newton, queremos nos aproveitar do ângulo tangente da curva para nos aproximarmos precisamente do zero da função. Isso é feito\n",
    "encontrando a reta tangente a curva no ponto atual e indo para o ponto dessa reta que cruza o eixo x. Para isso, precisamos da função e sua derivada, \n",
    "o ponto inicial do método e o erro máximo esperado.\"\"\"\n",
    "\n",
    "function newton(f, fd, ponto, erro = 1e-8)\n",
    "    # Primeiro descobrimos quantos termos precisamos\n",
    "    termos = 1\n",
    "    while (termos+1)*(2^(termos+1)) < 1/erro\n",
    "        termos = termos+1\n",
    "    end\n",
    "\n",
    "    # Agora calculamos o taylor\n",
    "    for i in 1:termos\n",
    "        ponto = ponto - f(ponto)/fd(ponto)\n",
    "    end\n",
    "    \n",
    "    return ponto\n",
    "end"
   ]
  },
  {
   "cell_type": "code",
   "execution_count": 198,
   "metadata": {},
   "outputs": [
    {
     "data": {
      "text/plain": [
       "-3.796694419165162"
      ]
     },
     "execution_count": 198,
     "metadata": {},
     "output_type": "execute_result"
    }
   ],
   "source": [
    "f(x) = x^5+4x^4-3x^2+1\n",
    "fd(x) = 5x^4+16x^3-6x\n",
    "newton(f,fd,-4)"
   ]
  },
  {
   "cell_type": "code",
   "execution_count": 197,
   "metadata": {},
   "outputs": [
    {
     "data": {
      "text/plain": [
       "6.283185307179586"
      ]
     },
     "execution_count": 197,
     "metadata": {},
     "output_type": "execute_result"
    }
   ],
   "source": [
    "f(x) = sin(x/2)\n",
    "fd(x) = 1/2 * cos(x/2)\n",
    "newton(f, fd, 6)"
   ]
  },
  {
   "cell_type": "code",
   "execution_count": 200,
   "metadata": {},
   "outputs": [
    {
     "data": {
      "text/plain": [
       "1.0"
      ]
     },
     "execution_count": 200,
     "metadata": {},
     "output_type": "execute_result"
    }
   ],
   "source": [
    "f(x) = log(x)\n",
    "fd(x) = 1/x\n",
    "newton(f, fd, 2)"
   ]
  },
  {
   "cell_type": "markdown",
   "metadata": {},
   "source": [
    "### Achar o Zero da Função pelo Método de Euler"
   ]
  },
  {
   "cell_type": "code",
   "execution_count": null,
   "metadata": {},
   "outputs": [],
   "source": [
    "# Chris\n",
    "\n",
    "# Método de Euler"
   ]
  },
  {
   "cell_type": "markdown",
   "metadata": {},
   "source": [
    "### Resolver EDO com Problema de Valor Inicial"
   ]
  },
  {
   "cell_type": "code",
   "execution_count": 1,
   "metadata": {},
   "outputs": [
    {
     "data": {
      "text/plain": [
       "resolver_PVI (generic function with 1 method)"
      ]
     },
     "execution_count": 1,
     "metadata": {},
     "output_type": "execute_result"
    }
   ],
   "source": [
    "# Chris\n",
    "function resolver_PVI(derivada, x_inicial,y_inicial,x_final,n) #Feito\n",
    "    # tamanho do intervalo que usaremos dada a discretização desejada\n",
    "    H = (x_final-x_inicial) / n\n",
    "    \n",
    "    # passos iniciais\n",
    "    xi = x_inicial\n",
    "    yi = y_inicial\n",
    "\n",
    "    while xi + H <= x_final\n",
    "        # pegamos o próximo valor de y andando pela reta tangente ao \n",
    "        # ponto x_i com um passo de tamanho H\n",
    "        yi += derivada(xi, yi) * H\n",
    "        xi += H\n",
    "    end\n",
    "    \n",
    "    return yi # retornamos o valor de y no estado final\n",
    "end"
   ]
  },
  {
   "cell_type": "code",
   "execution_count": 17,
   "metadata": {},
   "outputs": [
    {
     "data": {
      "text/plain": [
       "41.144777789250874"
      ]
     },
     "execution_count": 17,
     "metadata": {},
     "output_type": "execute_result"
    }
   ],
   "source": [
    "function df(x, y)\n",
    "    return y\n",
    "end\n",
    "\n",
    "# queremos aproximar y(4) usando método de euler\n",
    "# sendo y'(x) = y(x), y(0) = 1 e dividindo o intervalo em 40 partes\n",
    "\n",
    "resolver_PVI(df, 0.0, 1.0, 4, 40)"
   ]
  },
  {
   "cell_type": "code",
   "execution_count": 23,
   "metadata": {},
   "outputs": [
    {
     "data": {
      "text/plain": [
       "20.0"
      ]
     },
     "execution_count": 23,
     "metadata": {},
     "output_type": "execute_result"
    }
   ],
   "source": [
    "function df(x, y)\n",
    "    return y + 3*x\n",
    "end\n",
    "\n",
    "# queremos aproximar y(3) usando método de euler\n",
    "# sendo y'(x) = y + 3x, y(3) = 1 e dividindo o intervalo em 3 partes\n",
    "\n",
    "resolver_PVI(df, 0.0, 1.0, 3, 3)"
   ]
  },
  {
   "cell_type": "code",
   "execution_count": 26,
   "metadata": {},
   "outputs": [
    {
     "data": {
      "text/plain": [
       "1.0987701305162527"
      ]
     },
     "execution_count": 26,
     "metadata": {},
     "output_type": "execute_result"
    }
   ],
   "source": [
    "function df(x, y)\n",
    "    return exp(-x)\n",
    "end\n",
    "\n",
    "# queremos aproximar y(5) usando método de euler\n",
    "# sendo y'(x) = x^2 + 3x, y(2) = 10 e dividindo o intervalo em 40 partes\n",
    "\n",
    "resolver_PVI(df, 0.0, 0.0, 2, 4)"
   ]
  },
  {
   "cell_type": "markdown",
   "metadata": {},
   "source": [
    "### Resolver EDO com Problema de Valor de Contorno"
   ]
  },
  {
   "cell_type": "code",
   "execution_count": null,
   "metadata": {},
   "outputs": [],
   "source": [
    "# Luan\n",
    "function resolver_PVC(segunda_derivada(x,y), x_inicial, y_inicial, x_final, y_final,n)  #Não dá pra fazer genericamente\n",
    "    A,b=#usuário monta um sistema linear usando diferenças finitas(segunda_derivada(x,y), x_inicial, y_inicial, x_final, y_final,n)\n",
    "    y = resolver_um_sistema(A,b)\n",
    "    return y"
   ]
  },
  {
   "cell_type": "markdown",
   "metadata": {},
   "source": [
    "### Resolver um Sistema Ax=b"
   ]
  },
  {
   "cell_type": "code",
   "execution_count": 9,
   "metadata": {},
   "outputs": [
    {
     "data": {
      "text/plain": [
       "resolver_um_sistema"
      ]
     },
     "execution_count": 9,
     "metadata": {},
     "output_type": "execute_result"
    }
   ],
   "source": [
    "\"\"\" Essa função é um encapsulamento da resolução de sistema do formato 'A.x = b' utilizando decomposição LU. \n",
    "Para isso, é passado como parâmetro a matriz A e o vetor b, e o resultado será o vetor x.\"\"\"\n",
    "\n",
    "function resolver_um_sistema(A,b) \n",
    "    L, U = decomposição_LU(A)\n",
    "    x = resolver_pós_LU(L,U,b)\n",
    "    return x\n",
    "end"
   ]
  },
  {
   "cell_type": "code",
   "execution_count": 31,
   "metadata": {},
   "outputs": [
    {
     "name": "stdout",
     "output_type": "stream",
     "text": [
      "[2.1040532365396274; -5.474289171203875; -0.6170598911070786; 3.5075620084694505]\n",
      "[2.104053236539625, -5.474289171203873, -0.6170598911070775, 3.507562008469449]\n"
     ]
    }
   ],
   "source": [
    "A=[1.0 3.0 2.0 7.0 ; 10.0 3.0 10.0 7.0 ; 3.0 5.0 18.0 22.0 ; 5.0 2.0 1.0 6.0]\n",
    "b=[9.0 ; 23.0 ; 45.0 ; 20.0]\n",
    "\n",
    "println(resolver_um_sistema(A,b))\n",
    "println(A\\b)"
   ]
  },
  {
   "cell_type": "code",
   "execution_count": 201,
   "metadata": {},
   "outputs": [
    {
     "name": "stdout",
     "output_type": "stream",
     "text": [
      "[-8.307692307692305; 6.692307692307692; -1.3846153846153844]\n",
      "[-8.307692307692307, 6.692307692307692, -1.3846153846153846]\n"
     ]
    }
   ],
   "source": [
    "A=[1.0 3.0 2.0 ; -2.0 -1.0 5.0 ; 1.0 1.0 1.0]\n",
    "b=[9.0 ; 3.0 ; -3.0]\n",
    "\n",
    "println(resolver_um_sistema(A,b))\n",
    "println(A\\b)"
   ]
  },
  {
   "cell_type": "code",
   "execution_count": 205,
   "metadata": {},
   "outputs": [
    {
     "name": "stdout",
     "output_type": "stream",
     "text": [
      "[2.4; 0.2]\n",
      "[2.4, 0.2]\n"
     ]
    }
   ],
   "source": [
    "A=[1.0 3.0 ; -1.0 2.0]\n",
    "b=[3.0 ; -2.0]\n",
    "\n",
    "println(resolver_um_sistema(A,b))\n",
    "println(A\\b)"
   ]
  },
  {
   "cell_type": "markdown",
   "metadata": {},
   "source": [
    "### Gerar a Matriz de Vandermonde"
   ]
  },
  {
   "cell_type": "code",
   "execution_count": 46,
   "metadata": {},
   "outputs": [
    {
     "data": {
      "text/plain": [
       "matriz_de_vandermonde (generic function with 1 method)"
      ]
     },
     "execution_count": 46,
     "metadata": {},
     "output_type": "execute_result"
    }
   ],
   "source": [
    "\"\"\" Essa função recebe uma lista de pontos x e retorna uma matriz cujas colunas são dadas por essa lista de pontos elevado a uma potência.\n",
    "A primeira coluna possui apenas 1s, a segunda é potência de 1, a terceira de 2, e assim em diante até o grau especificado. \"\"\"\n",
    "\n",
    "function matriz_de_vandermonde(pontos_x, grau)\n",
    "    matriz = ones(length(pontos_x))\n",
    "    for i in 1:grau\n",
    "        matriz = hcat(matriz, pontos_x.^i)\n",
    "    end \n",
    "    return matriz\n",
    "end"
   ]
  },
  {
   "cell_type": "code",
   "execution_count": 47,
   "metadata": {},
   "outputs": [
    {
     "data": {
      "text/plain": [
       "5×4 Array{Float64,2}:\n",
       " 1.0   1.0   1.0   1.0\n",
       " 1.0   2.0   4.0   8.0\n",
       " 1.0   4.0  16.0  64.0\n",
       " 1.0   2.0   4.0   8.0\n",
       " 1.0  -1.0   1.0  -1.0"
      ]
     },
     "execution_count": 47,
     "metadata": {},
     "output_type": "execute_result"
    }
   ],
   "source": [
    "matriz_de_vandermonde([1,2,4,2,-1], 3)"
   ]
  },
  {
   "cell_type": "code",
   "execution_count": 206,
   "metadata": {},
   "outputs": [
    {
     "data": {
      "text/plain": [
       "5×2 Array{Float64,2}:\n",
       " 1.0   1.0\n",
       " 1.0  -1.0\n",
       " 1.0   2.0\n",
       " 1.0   3.0\n",
       " 1.0  -5.0"
      ]
     },
     "execution_count": 206,
     "metadata": {},
     "output_type": "execute_result"
    }
   ],
   "source": [
    "matriz_de_vandermonde([1,-1,2,3,-5], 1)"
   ]
  },
  {
   "cell_type": "code",
   "execution_count": 208,
   "metadata": {},
   "outputs": [
    {
     "data": {
      "text/plain": [
       "4×6 Array{Float64,2}:\n",
       " 1.0  2.0  4.0   8.0  16.0   32.0\n",
       " 1.0  3.0  9.0  27.0  81.0  243.0\n",
       " 1.0  1.0  1.0   1.0   1.0    1.0\n",
       " 1.0  2.0  4.0   8.0  16.0   32.0"
      ]
     },
     "execution_count": 208,
     "metadata": {},
     "output_type": "execute_result"
    }
   ],
   "source": [
    "matriz_de_vandermonde([2,3,1,2], 5)"
   ]
  },
  {
   "cell_type": "markdown",
   "metadata": {},
   "source": [
    "### Fazer Interpolação de Curva por Vandermonde"
   ]
  },
  {
   "cell_type": "code",
   "execution_count": 220,
   "metadata": {},
   "outputs": [
    {
     "data": {
      "text/plain": [
       "interpolacao_coeficientes (generic function with 1 method)"
      ]
     },
     "execution_count": 220,
     "metadata": {},
     "output_type": "execute_result"
    }
   ],
   "source": [
    "\"\"\" Nessa função, realizamos o processo de interpolação de curvas utilizando a matriz de Vandermonde para o sistema.\n",
    "Consiste em passarmos os pontos de x e y como duas listas separadas e o grau do polinômio, e a função retorna os coeficientes\n",
    "do polinômio, na ordem do grau 0 até o grau especificado.\"\"\"\n",
    "\n",
    "function interpolacao_coeficientes(pontos_x, pontos_y, grau)\n",
    "    V = matriz_de_vandermonde(pontos_x,grau)\n",
    "    coeficientes = resolver_um_sistema(V,pontos_y)\n",
    "    return coeficientes\n",
    "end"
   ]
  },
  {
   "cell_type": "code",
   "execution_count": 221,
   "metadata": {},
   "outputs": [
    {
     "data": {
      "text/plain": [
       "4×1 Array{Float64,2}:\n",
       "  9.062500000000002\n",
       " -7.818750000000001\n",
       "  1.8750000000000002\n",
       " -0.11875000000000001"
      ]
     },
     "execution_count": 221,
     "metadata": {},
     "output_type": "execute_result"
    }
   ],
   "source": [
    "interpolacao_coeficientes([1,5,6,9], [3,2,4,4], 3)"
   ]
  },
  {
   "cell_type": "code",
   "execution_count": 222,
   "metadata": {},
   "outputs": [
    {
     "data": {
      "text/plain": [
       "6×1 Array{Float64,2}:\n",
       " -3.0\n",
       " -5.303660976593872\n",
       " -2.9991666666666665\n",
       "  0.3916595540756744\n",
       " -0.0008333333333331722\n",
       "  0.9120014225181984"
      ]
     },
     "execution_count": 222,
     "metadata": {},
     "output_type": "execute_result"
    }
   ],
   "source": [
    "interpolacao_coeficientes([-1,0,1.87,1,-2,2], [-2.0,-3.0,0,-10,-36.72,6.7], 5)"
   ]
  },
  {
   "cell_type": "code",
   "execution_count": 223,
   "metadata": {},
   "outputs": [
    {
     "data": {
      "text/plain": [
       "4×1 Array{Float64,2}:\n",
       " 3.0\n",
       " 5.0\n",
       " 0.0\n",
       " 0.0"
      ]
     },
     "execution_count": 223,
     "metadata": {},
     "output_type": "execute_result"
    }
   ],
   "source": [
    "interpolacao_coeficientes([0,1,-1,2], [3,8,-2,13], 3)"
   ]
  },
  {
   "cell_type": "markdown",
   "metadata": {},
   "source": [
    "### Obter Polinômio por Lagrange"
   ]
  },
  {
   "cell_type": "code",
   "execution_count": null,
   "metadata": {},
   "outputs": [],
   "source": [
    "# Chris\n",
    "function lagrange(pontos_x,pontos_y,grau)  #TODO\n",
    "    \n",
    "    return polinômio\n",
    "end"
   ]
  },
  {
   "cell_type": "markdown",
   "metadata": {},
   "source": [
    "### Fazer Interpolação de Curva por Lagrange"
   ]
  },
  {
   "cell_type": "code",
   "execution_count": null,
   "metadata": {},
   "outputs": [],
   "source": [
    "# Vinicius\n",
    "\n",
    "function interpolacao_funcao(pontos_x,pontos_y, grau)\n",
    "    polinomio =lagrange(pontos_x,pontos_y,grau)\n",
    "    return polinomio\n",
    "end"
   ]
  },
  {
   "cell_type": "markdown",
   "metadata": {},
   "source": [
    "### Aplicação de um x em uma função"
   ]
  },
  {
   "cell_type": "code",
   "execution_count": null,
   "metadata": {},
   "outputs": [],
   "source": [
    "# Thierry\n",
    "function aplica(coeficientes, valor_de_x) #Hashi\n",
    "    return valor_do_polinômio_no_x\n",
    "end"
   ]
  },
  {
   "cell_type": "markdown",
   "metadata": {},
   "source": [
    "### Regressão Linear de Funções Lineares"
   ]
  },
  {
   "cell_type": "code",
   "execution_count": null,
   "metadata": {},
   "outputs": [],
   "source": [
    "# Thierry\n",
    "function regressão_coeficientes_lineares(pontos_x,pontos_y, grau) #Feito\n",
    "    V=matrix_de_vandermonde(pontos_x,grau)  #matrix alta #muitas linhas e poucas colunas \n",
    "    coeficientes=resolver_um_sistema_por_minimos_quadrados(V,pontos_y)\n",
    "    return coeficientes\n",
    "end"
   ]
  },
  {
   "cell_type": "markdown",
   "metadata": {},
   "source": [
    "### Regressão Linear de Funções Exponenciais"
   ]
  },
  {
   "cell_type": "code",
   "execution_count": null,
   "metadata": {},
   "outputs": [],
   "source": [
    "# Thierry\n",
    "function regressão_função_exponencial(pontos_x,pontos_y, grau) #coeficientes não lineares\n",
    "    #dicionário (\"linearização\") é feito manualmente ou por uma tabela\n",
    "    pontos_y_barra=ln(pontos_y)\n",
    "    pontos_x_barra=x\n",
    "    \n",
    "    #resolver regresssão com coeficientes lineares no \"mundo barra\"\n",
    "    regressão_coeficientes_lineares(pontos_x_barra,pontos_y_barra, grau)\n",
    "    \n",
    "    #voltar para o mundo original\n",
    "    coeficientes=e^(coeficientes_barra)\n",
    "    \n",
    "    return coeficientes\n",
    "end"
   ]
  },
  {
   "cell_type": "markdown",
   "metadata": {},
   "source": [
    "### Perguntar"
   ]
  },
  {
   "cell_type": "code",
   "execution_count": null,
   "metadata": {},
   "outputs": [],
   "source": [
    "# Perguntar pra ele\n",
    "function regresso_função_outra_funçao(pontos_x,pontos_y, grau) #coeficientes não lineares\n",
    "    #dicionário (\"linearização\") é feito manualmente ou por uma tabela\n",
    "    ??????????????\n",
    "    \n",
    "    #resolver regresssão com coeficientes lineares no \"mundo barra\"\n",
    "    regressão_coeficientes_lineares(pontos_x_barra,pontos_y_barra, grau)\n",
    "    \n",
    "    #voltar para o mundo original\n",
    "    ???????????????????????\n",
    "    \n",
    "    return coeficientes\n",
    "end"
   ]
  },
  {
   "cell_type": "markdown",
   "metadata": {},
   "source": [
    "### Resolver um Sistema por Mínimos Quadrados"
   ]
  },
  {
   "cell_type": "code",
   "execution_count": null,
   "metadata": {},
   "outputs": [],
   "source": [
    "# Thierry\n",
    "function resolver_um_sistema_por_minimos_quadrados(A,b) #feito\n",
    "    x=resolver_um_sistema(A'*A,A'*b)\n",
    "    return x\n",
    "end"
   ]
  },
  {
   "cell_type": "markdown",
   "metadata": {},
   "source": [
    "### Integração pela Regra do Retângulo"
   ]
  },
  {
   "cell_type": "code",
   "execution_count": 55,
   "metadata": {},
   "outputs": [
    {
     "data": {
      "text/plain": [
       "regra_do_retangulo"
      ]
     },
     "execution_count": 55,
     "metadata": {},
     "output_type": "execute_result"
    }
   ],
   "source": [
    "\"\"\" O objetivo dessa função é aproximar a integração da função no intervalo [a,b] utilizando o somatório de n retângulos dados pela\n",
    "base sendo o intervalo [x_k,x_k+1] e a altura como a média das funções nesses dois pontos. O retorno será a estimativa da integral.\"\"\"\n",
    "\n",
    "function regra_do_retangulo(funcao,a,b,n)\n",
    "    integral = 0.0\n",
    "    h = (b-a)/n \n",
    "    for i in 1:n\n",
    "        f = (funcao( a+h*i ) + funcao( a+h*(i-1) ))/2\n",
    "        integral = integral + f*h\n",
    "    end\n",
    "    return integral\n",
    "end"
   ]
  },
  {
   "cell_type": "code",
   "execution_count": 56,
   "metadata": {},
   "outputs": [
    {
     "data": {
      "text/plain": [
       "70.83750000000002"
      ]
     },
     "execution_count": 56,
     "metadata": {},
     "output_type": "execute_result"
    }
   ],
   "source": [
    "f(x) = 2x^2-x\n",
    "regra_do_retangulo(f,0,5,100)"
   ]
  },
  {
   "cell_type": "code",
   "execution_count": 228,
   "metadata": {},
   "outputs": [
    {
     "data": {
      "text/plain": [
       "4.047082902554811"
      ]
     },
     "execution_count": 228,
     "metadata": {},
     "output_type": "execute_result"
    }
   ],
   "source": [
    "f(x) = log(x)\n",
    "regra_do_retangulo(f,1,5,100)"
   ]
  },
  {
   "cell_type": "code",
   "execution_count": 234,
   "metadata": {},
   "outputs": [
    {
     "data": {
      "text/plain": [
       "-1.0834161259104524e-15"
      ]
     },
     "execution_count": 234,
     "metadata": {},
     "output_type": "execute_result"
    }
   ],
   "source": [
    "f(x) = sin(x)\n",
    "regra_do_retangulo(f,-10,10,100)"
   ]
  },
  {
   "cell_type": "markdown",
   "metadata": {},
   "source": [
    "### Integração pela Regra do Trapézio"
   ]
  },
  {
   "cell_type": "code",
   "execution_count": 57,
   "metadata": {},
   "outputs": [
    {
     "data": {
      "text/plain": [
       "regra_do_trapezio (generic function with 1 method)"
      ]
     },
     "execution_count": 57,
     "metadata": {},
     "output_type": "execute_result"
    }
   ],
   "source": [
    "\"\"\" O objetivo dessa função é aproximar a integração da função no intervalo [a,b] utilizando o somatório de n trapézios dados pelo\n",
    "intervalo [x_k,x_k+1] e as duas bases como as funções nesses dois pontos. O retorno será a estimativa da integral.\"\"\"\n",
    "\n",
    "function regra_do_trapezio(funcao,a,b,n)\n",
    "    soma = f(a)+f(b)\n",
    "    for i = 1:n-1\n",
    "        x = a + i*(b-a)/n\n",
    "        soma = soma + 2*f(x)\n",
    "    end\n",
    "    \n",
    "    return soma * (b-a) / (2*n)\n",
    "end"
   ]
  },
  {
   "cell_type": "code",
   "execution_count": 61,
   "metadata": {},
   "outputs": [
    {
     "data": {
      "text/plain": [
       "70.8375"
      ]
     },
     "execution_count": 61,
     "metadata": {},
     "output_type": "execute_result"
    }
   ],
   "source": [
    "f(x) = 2x^2-x\n",
    "regra_do_trapezio(f,0,5,100)"
   ]
  },
  {
   "cell_type": "code",
   "execution_count": 235,
   "metadata": {},
   "outputs": [
    {
     "data": {
      "text/plain": [
       "4.047082902554812"
      ]
     },
     "execution_count": 235,
     "metadata": {},
     "output_type": "execute_result"
    }
   ],
   "source": [
    "f(x) = log(x)\n",
    "regra_do_trapezio(f,1,5,100)"
   ]
  },
  {
   "cell_type": "code",
   "execution_count": 236,
   "metadata": {},
   "outputs": [
    {
     "data": {
      "text/plain": [
       "1.7763568394002506e-16"
      ]
     },
     "execution_count": 236,
     "metadata": {},
     "output_type": "execute_result"
    }
   ],
   "source": [
    "f(x) = sin(x)\n",
    "regra_do_trapezio(f,-10,10,100)"
   ]
  },
  {
   "cell_type": "markdown",
   "metadata": {},
   "source": [
    "### Integração pela Regra do Simpson"
   ]
  },
  {
   "cell_type": "code",
   "execution_count": null,
   "metadata": {},
   "outputs": [],
   "source": [
    "# Chris\n",
    "function regra_de_simpson(funcao,a,b,n)\n",
    "    \n",
    "    #interpolação quadrática\n",
    "    return integral\n",
    "end"
   ]
  },
  {
   "cell_type": "markdown",
   "metadata": {},
   "source": [
    "### Obter o Máximo de uma Função"
   ]
  },
  {
   "cell_type": "code",
   "execution_count": null,
   "metadata": {},
   "outputs": [],
   "source": [
    "# Perguntar pra ele\n",
    "function maximar_uma_funcao(função,derivada) #muito difícil!!!!!!!\n",
    "    return max_global\n",
    "end"
   ]
  },
  {
   "cell_type": "markdown",
   "metadata": {},
   "source": [
    "### Encontrar um ponto crítico de uma função"
   ]
  },
  {
   "cell_type": "code",
   "execution_count": null,
   "metadata": {},
   "outputs": [],
   "source": [
    "# Luan\n",
    "function achar_um_ponto_critico_de_uma_funcao(derivada_da_função(x),intervalo) #feito\n",
    "    ponto_crítico=bisseção(derivada(x),intervalo) #ou newton ou ponto fixo...\n",
    "    return ponto_crítico\n",
    "end"
   ]
  },
  {
   "cell_type": "markdown",
   "metadata": {},
   "source": [
    "### Encontrar um ponto crítico de uma função de 2 variáveis"
   ]
  },
  {
   "cell_type": "code",
   "execution_count": 107,
   "metadata": {},
   "outputs": [
    {
     "data": {
      "text/plain": [
       "achar_um_ponto_critico_de_uma_funcao_de_2_variaveis (generic function with 1 method)"
      ]
     },
     "execution_count": 107,
     "metadata": {},
     "output_type": "execute_result"
    }
   ],
   "source": [
    "\"\"\" Nessa função, queremos encontrar um ponto crítico em uma função de duas variáveis. Para isso, utilizamos o método do gradiente descendente,\n",
    "em que descemos a curva da função através do decremento do gradiente, visto que este aponta para a direção de maior crescimento. \n",
    "Para isso, é necessário passar o gradiente da função no formado [fdx, fdy], os intervalos de x e y no formato [a, b] e a quantidade de\n",
    "iterações a ser realizada pelo método. \"\"\"\n",
    "\n",
    "function achar_um_ponto_critico_de_uma_funcao_de_2_variaveis(gradiente_da_funcao, intervalox, intervaloy, iteracoes)\n",
    "    # Iniciamos aleatoriamente o ponto\n",
    "    px = rand(intervalox[1]:intervalox[2])\n",
    "    py = rand(intervaloy[1]:intervaloy[2])\n",
    "    taxa = 0.1\n",
    "    \n",
    "    for i in 1:iteracoes\n",
    "        # Obtemos o gradiente no ponto\n",
    "        grad = gradiente_da_funcao(px,py)\n",
    "        \n",
    "        # Checamos se esta dentro do intervalo pedido para descer o gradiente\n",
    "        if (intervalox[1]<=px-grad[1]*taxa<=intervalox[2]) && (intervaloy[1]<=py-grad[2]*taxa<=intervaloy[2])\n",
    "            px = px - grad[1]*taxa\n",
    "            py = py - grad[2]*taxa\n",
    "        else\n",
    "            break       # Senão acabamos a iteracao\n",
    "        end \n",
    "    end\n",
    "    \n",
    "    return [px,py]\n",
    "end"
   ]
  },
  {
   "cell_type": "code",
   "execution_count": 108,
   "metadata": {
    "tags": []
   },
   "outputs": [
    {
     "data": {
      "text/plain": [
       "2-element Array{Float64,1}:\n",
       " 1.5000000000000004\n",
       " 2.3804287532992367e-111"
      ]
     },
     "execution_count": 108,
     "metadata": {},
     "output_type": "execute_result"
    }
   ],
   "source": [
    "#\n",
    "d(x,y) = [2x-3, 4y]\n",
    "achar_um_ponto_critico_de_uma_funcao_de_2_variaveis(d, [-10,10], [-10,10], 500)"
   ]
  },
  {
   "cell_type": "code",
   "execution_count": 281,
   "metadata": {},
   "outputs": [
    {
     "data": {
      "text/plain": [
       "2-element Array{Float64,1}:\n",
       " -0.7697453971177661\n",
       " -1.074012601689643"
      ]
     },
     "execution_count": 281,
     "metadata": {},
     "output_type": "execute_result"
    }
   ],
   "source": [
    "# A função x^4 + x*y^3 - 2x^2*y + x - 5yx tem mínimo local em (-0.769, -1.074) e \n",
    "\n",
    "d(x,y) = [4x^3+y^3-4y*x+1-5y,-2x^2+3x*y^2-5x]\n",
    "achar_um_ponto_critico_de_uma_funcao_de_2_variaveis(d, [-5,5], [-5,5], 500)"
   ]
  },
  {
   "cell_type": "code",
   "execution_count": 292,
   "metadata": {},
   "outputs": [
    {
     "data": {
      "text/plain": [
       "2-element Array{Float64,1}:\n",
       " -1.5707963267948957\n",
       " -0.30667690649675944"
      ]
     },
     "execution_count": 292,
     "metadata": {},
     "output_type": "execute_result"
    }
   ],
   "source": [
    "# Função sen(x)*cos(y/5) possui muitos pontos locais de minimo e maximo\n",
    "\n",
    "d(x,y) = [cos(y/5)*cos(x), -1/5*sin(x)*sin(y/5)]\n",
    "achar_um_ponto_critico_de_uma_funcao_de_2_variaveis(d, [-5,5], [-5,5], 500)"
   ]
  },
  {
   "cell_type": "markdown",
   "metadata": {},
   "source": [
    "### Obter Lagrange em 2D"
   ]
  },
  {
   "cell_type": "code",
   "execution_count": null,
   "metadata": {},
   "outputs": [],
   "source": [
    "# Thierry\n",
    "function langrage_2D()\n",
    "    \n",
    "end"
   ]
  }
 ],
 "metadata": {
  "kernelspec": {
   "display_name": "Julia 1.6.0",
   "language": "julia",
   "name": "julia-1.6"
  },
  "language_info": {
   "file_extension": ".jl",
   "mimetype": "application/julia",
   "name": "julia",
   "version": "1.6.1"
  }
 },
 "nbformat": 4,
 "nbformat_minor": 4
}
