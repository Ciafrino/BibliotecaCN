{
 "cells": [
  {
   "cell_type": "markdown",
   "metadata": {},
   "source": [
    "# Questão 1."
   ]
  },
  {
   "cell_type": "markdown",
   "metadata": {},
   "source": [
    "## Funções"
   ]
  },
  {
   "cell_type": "code",
   "execution_count": 4,
   "metadata": {},
   "outputs": [],
   "source": [
    "using LinearAlgebra"
   ]
  },
  {
   "cell_type": "code",
   "execution_count": 5,
   "metadata": {},
   "outputs": [
    {
     "data": {
      "text/plain": [
       "resolve_diagonal (generic function with 1 method)"
      ]
     },
     "execution_count": 5,
     "metadata": {},
     "output_type": "execute_result"
    }
   ],
   "source": [
    "\"\"\" O intuito da função resolve_diagonal é resolver equações Dx = b onde A é uma matriz diagonal NxN, X é uma matriz Nx1 e b\n",
    "também é uma matriz Nx1. Logo, a função recebe como entrada a Matriz Diagonal Quadrada NXN e o vetor B Nx1, e retorna o vetor x Nx1. \"\"\"\n",
    "\n",
    "function resolve_diagonal(D,b) # D é diagonal e b é um vetor  \n",
    "    tamanho = length(b)        # Pega-se o tamanho tanto do vetor quanto da matriz (pressupõe que são de mesmo tamanho)\n",
    "    x=zeros(tamanho,1)         # Aloca o vetor x a ser retornado\n",
    "    for i in 1:tamanho \n",
    "        x[i] = b[i]/D[i,i]     # Resolve cada x[i] de acordo com o valor da diagonal e o valor de b de cada linha\n",
    "    end\n",
    "    \n",
    "    return x\n",
    "end"
   ]
  },
  {
   "cell_type": "code",
   "execution_count": 6,
   "metadata": {},
   "outputs": [
    {
     "data": {
      "text/plain": [
       "resolve_triangular_superior (generic function with 1 method)"
      ]
     },
     "execution_count": 6,
     "metadata": {},
     "output_type": "execute_result"
    }
   ],
   "source": [
    "function resolve_triangular_superior(T,b) #T é triangular superior\n",
    "    tamanho = length(b)\n",
    "    x=zeros(tamanho,1)\n",
    "    \n",
    "    i = tamanho\n",
    "    while (i > 0)\n",
    "        x[i] = b[i]/T[i,i]\n",
    "        k = tamanho\n",
    "        for j in i:(tamanho - 1)\n",
    "            x[i] -= T[i, k] * x[k]/T[i,i]\n",
    "            k -= 1\n",
    "        end\n",
    "        i -= 1\n",
    "    end\n",
    "    return x\n",
    "end"
   ]
  },
  {
   "cell_type": "code",
   "execution_count": 7,
   "metadata": {},
   "outputs": [
    {
     "data": {
      "text/plain": [
       "resolve_triangular_inferior (generic function with 1 method)"
      ]
     },
     "execution_count": 7,
     "metadata": {},
     "output_type": "execute_result"
    }
   ],
   "source": [
    "function resolve_triangular_inferior(T,b) #T é triangular superior\n",
    "    tamanho = length(b)\n",
    "    x=zeros(tamanho,1)\n",
    "    \n",
    "    i = 1\n",
    "    while (i <= tamanho)\n",
    "        x[i] = b[i]/T[i,i]\n",
    "        for j in 1:(i-1)\n",
    "            x[i] -= T[i, j] * x[j]/T[i,i]\n",
    "        end\n",
    "        i += 1\n",
    "    end\n",
    "    return x\n",
    "end"
   ]
  },
  {
   "cell_type": "code",
   "execution_count": 8,
   "metadata": {},
   "outputs": [
    {
     "data": {
      "text/plain": [
       "eliminação_gaussiana (generic function with 1 method)"
      ]
     },
     "execution_count": 8,
     "metadata": {},
     "output_type": "execute_result"
    }
   ],
   "source": [
    "function eliminação_gaussiana(A,b) #A é uma matriz cheia (\"matriz densa\")\n",
    "    tamanho = length(b)\n",
    "    for i in 1:tamanho-1\n",
    "        for j in i+1:tamanho\n",
    "            multiplicador = A[j,i]/A[i,i]\n",
    "            A[j, :] = A[j, :] - multiplicador*A[i, :]\n",
    "            b[j] = b[j] - multiplicador*b[i]\n",
    "        end\n",
    "    end\n",
    "    return A,b\n",
    "end"
   ]
  },
  {
   "cell_type": "code",
   "execution_count": 9,
   "metadata": {},
   "outputs": [
    {
     "data": {
      "text/plain": [
       "resolve_cheia (generic function with 1 method)"
      ]
     },
     "execution_count": 9,
     "metadata": {},
     "output_type": "execute_result"
    }
   ],
   "source": [
    "function resolve_cheia(A,b)\n",
    "    T,c= eliminação_gaussiana(A,b)  #O(n^3)\n",
    "    x=resolve_triangular_superior(T,b)  #O(n^2)\n",
    "    return x\n",
    "end"
   ]
  },
  {
   "cell_type": "code",
   "execution_count": 10,
   "metadata": {},
   "outputs": [
    {
     "data": {
      "text/plain": [
       "decomposição_LU (generic function with 1 method)"
      ]
     },
     "execution_count": 10,
     "metadata": {},
     "output_type": "execute_result"
    }
   ],
   "source": [
    "function decomposição_LU(A) #A é uma matriz cheia (\"matriz densa\")\n",
    "    tamanho = size(A)\n",
    "    tamanho = tamanho[1]\n",
    "    L=zeros(tamanho,tamanho)\n",
    "    \n",
    "    for i in 1:tamanho\n",
    "        L[i,i] = 1\n",
    "    end\n",
    "    \n",
    "    U = zeros(tamanho, tamanho)\n",
    "    \n",
    "    for i in 1:tamanho\n",
    "        for j in 1:tamanho\n",
    "            U[i, j] = A[i, j]\n",
    "        end\n",
    "    end\n",
    "    \n",
    "    for i in 1:tamanho-1\n",
    "        for j in i+1:tamanho\n",
    "            L[j,i] = U[j,i]/U[i,i]\n",
    "            U[j, :] = U[j, :] -L[j,i]*U[i, :]\n",
    "        end\n",
    "    end\n",
    "\n",
    "    return L,U \n",
    "end"
   ]
  },
  {
   "cell_type": "code",
   "execution_count": 11,
   "metadata": {},
   "outputs": [
    {
     "data": {
      "text/plain": [
       "resolver_pós_LU (generic function with 1 method)"
      ]
     },
     "execution_count": 11,
     "metadata": {},
     "output_type": "execute_result"
    }
   ],
   "source": [
    "function resolver_pós_LU(L,U,b)    #O(n^2) \n",
    "    y=resolve_triangular_inferior(L,b)\n",
    "    x=resolve_triangular_superior(U,y)\n",
    "    return x\n",
    "end"
   ]
  },
  {
   "cell_type": "markdown",
   "metadata": {},
   "source": [
    "## Testes das Funções"
   ]
  },
  {
   "cell_type": "code",
   "execution_count": null,
   "metadata": {},
   "outputs": [],
   "source": []
  },
  {
   "cell_type": "markdown",
   "metadata": {},
   "source": [
    "# Questão 2."
   ]
  },
  {
   "cell_type": "markdown",
   "metadata": {},
   "source": [
    "## Funções"
   ]
  },
  {
   "cell_type": "code",
   "execution_count": null,
   "metadata": {},
   "outputs": [],
   "source": [
    "# Vinicius\n",
    "function Taylor(funcão, derivadas, referência, desejado)  #TODO\n",
    "    grau=len(derivadas) #grau do Taylor vai ser implícito\n",
    "    return função(desejado)\n",
    "end"
   ]
  },
  {
   "cell_type": "code",
   "execution_count": null,
   "metadata": {},
   "outputs": [],
   "source": [
    "\n",
    "function achar_zero_de_função(função, precisão) #intervalo?, derivadas?\n",
    "    return solução\n",
    "end"
   ]
  },
  {
   "cell_type": "code",
   "execution_count": null,
   "metadata": {},
   "outputs": [],
   "source": [
    "# Vinicius\n",
    "function bisseção(função, precisão, intervalo) #Feito\n",
    "    return zero_da_função\n",
    "end"
   ]
  },
  {
   "cell_type": "code",
   "execution_count": null,
   "metadata": {},
   "outputs": [],
   "source": [
    "# Chris\n",
    "function ponto_fixo(função, precisão, chute_inicial) #Feito \n",
    "    return ponto_fixo_da_função\n",
    "end"
   ]
  },
  {
   "cell_type": "code",
   "execution_count": null,
   "metadata": {},
   "outputs": [],
   "source": [
    "# Vinicius\n",
    "function newton(função, derivada, precisão, chute_inicial) #Feito\n",
    "    return zero_da_função\n",
    "end"
   ]
  },
  {
   "cell_type": "code",
   "execution_count": null,
   "metadata": {},
   "outputs": [],
   "source": [
    "# Chris\n",
    "\n",
    "# Método de Euler"
   ]
  },
  {
   "cell_type": "code",
   "execution_count": null,
   "metadata": {},
   "outputs": [],
   "source": [
    "# Chris\n",
    "function resolver_PVI(derivada(x,y),x_inicial,y_inicial,x_final,n) #Feito\n",
    "    h=(x_final-x_inicial)/n\n",
    "    \n",
    "    #método de Euler \n",
    "    \n",
    "    return valor_da_função_no_x_final #também podemos retorna a função completa\n",
    "end"
   ]
  },
  {
   "cell_type": "code",
   "execution_count": null,
   "metadata": {},
   "outputs": [],
   "source": [
    "# Luan\n",
    "function resolver_PVC(segunda_derivada(x,y), x_inicial, y_inicial, x_final, y_final,n)  #Não dá pra fazer genericamente\n",
    "    A,b=#usuário monta um sistema linear usando diferenças finitas(segunda_derivada(x,y), x_inicial, y_inicial, x_final, y_final,n)\n",
    "    y = resolver_um_sistema(A,b)\n",
    "    return y"
   ]
  },
  {
   "cell_type": "code",
   "execution_count": null,
   "metadata": {},
   "outputs": [],
   "source": [
    "# Vinicius\n",
    "function resolver_um_sistema(A,b) \n",
    "    \n",
    "    return x\n",
    "end"
   ]
  },
  {
   "cell_type": "code",
   "execution_count": null,
   "metadata": {},
   "outputs": [],
   "source": [
    "# Vinicius\n",
    "function matriz_de_vandermonde(pontos_x, grau)\n",
    "    return matrix_de_vandermonde\n",
    "end"
   ]
  },
  {
   "cell_type": "code",
   "execution_count": null,
   "metadata": {},
   "outputs": [],
   "source": [
    "# Vinicius\n",
    "function interpolação_coeficientes(pontos_x, pontos_y, grau)\n",
    "    V=matrix_de_vandermonde(pontos_x,grau)\n",
    "    coeficientes=resolver_um_sistema(V,pontos_y)\n",
    "    return coeficientes\n",
    "end"
   ]
  },
  {
   "cell_type": "code",
   "execution_count": null,
   "metadata": {},
   "outputs": [],
   "source": [
    "# Vinicius\n",
    "function interpolação_função(pontos_x,pontos_y, grau)\n",
    "    polinômio=lagrange(pontos_x,pontos_y,grau)\n",
    "    return polinômio\n",
    "end"
   ]
  },
  {
   "cell_type": "code",
   "execution_count": null,
   "metadata": {},
   "outputs": [],
   "source": [
    "# Chris\n",
    "function lagrange(pontos_x,pontos_y,grau)  #TODO\n",
    "    \n",
    "    return polinômio\n",
    "end"
   ]
  },
  {
   "cell_type": "code",
   "execution_count": null,
   "metadata": {},
   "outputs": [],
   "source": [
    "# Thierry\n",
    "function aplica(coeficientes, valor_de_x) #Hashi\n",
    "    return valor_do_polinômio_no_x\n",
    "end"
   ]
  },
  {
   "cell_type": "code",
   "execution_count": null,
   "metadata": {},
   "outputs": [],
   "source": [
    "# Thierry\n",
    "function regressão_coeficientes_lineares(pontos_x,pontos_y, grau) #Feito\n",
    "    V=matrix_de_vandermonde(pontos_x,grau)  #matrix alta #muitas linhas e poucas colunas \n",
    "    coeficientes=resolver_um_sistema_por_minimos_quadrados(V,pontos_y)\n",
    "    return coeficientes\n",
    "end"
   ]
  },
  {
   "cell_type": "code",
   "execution_count": null,
   "metadata": {},
   "outputs": [],
   "source": [
    "# Thierry\n",
    "function regressão_função_exponencial(pontos_x,pontos_y, grau) #coeficientes não lineares\n",
    "    #dicionário (\"linearização\") é feito manualmente ou por uma tabela\n",
    "    pontos_y_barra=ln(pontos_y)\n",
    "    pontos_x_barra=x\n",
    "    \n",
    "    #resolver regresssão com coeficientes lineares no \"mundo barra\"\n",
    "    regressão_coeficientes_lineares(pontos_x_barra,pontos_y_barra, grau)\n",
    "    \n",
    "    #voltar para o mundo original\n",
    "    coeficientes=e^(coeficientes_barra)\n",
    "    \n",
    "    return coeficientes\n",
    "end"
   ]
  },
  {
   "cell_type": "code",
   "execution_count": null,
   "metadata": {},
   "outputs": [],
   "source": [
    "# Perguntar pra ele\n",
    "function regresso_função_outra_funçao(pontos_x,pontos_y, grau) #coeficientes não lineares\n",
    "    #dicionário (\"linearização\") é feito manualmente ou por uma tabela\n",
    "    ??????????????\n",
    "    \n",
    "    #resolver regresssão com coeficientes lineares no \"mundo barra\"\n",
    "    regressão_coeficientes_lineares(pontos_x_barra,pontos_y_barra, grau)\n",
    "    \n",
    "    #voltar para o mundo original\n",
    "    ???????????????????????\n",
    "    \n",
    "    return coeficientes\n",
    "end"
   ]
  },
  {
   "cell_type": "code",
   "execution_count": null,
   "metadata": {},
   "outputs": [],
   "source": [
    "# Thierry\n",
    "function resolver_um_sistema_por_minimos_quadrados(A,b) #feito\n",
    "    x=resolver_um_sistema(A'*A,A'*b)\n",
    "    return x\n",
    "end"
   ]
  },
  {
   "cell_type": "code",
   "execution_count": null,
   "metadata": {},
   "outputs": [],
   "source": [
    "# Vinicius\n",
    "function regra_do_retangulo(função,a,b,n) #próxima lista\n",
    "    \n",
    "    #interpolação constante\n",
    "    return integral\n",
    "end"
   ]
  },
  {
   "cell_type": "code",
   "execution_count": null,
   "metadata": {},
   "outputs": [],
   "source": [
    "# Vinicius\n",
    "function regra_do_trapezio(função,a,b,n) #próxima lista\n",
    "    \n",
    "    #interpolação linear\n",
    "    return integral\n",
    "end"
   ]
  },
  {
   "cell_type": "code",
   "execution_count": null,
   "metadata": {},
   "outputs": [],
   "source": [
    "# Chris\n",
    "function regra_de_simpson(função,a,b,n) #vídeo do Abel\n",
    "    \n",
    "    #interpolação quadrática\n",
    "    return integral\n",
    "end"
   ]
  },
  {
   "cell_type": "code",
   "execution_count": null,
   "metadata": {},
   "outputs": [],
   "source": [
    "# Perguntar pra ele\n",
    "function maximar_uma_funcao(função,derivada) #muito difícil!!!!!!!\n",
    "    return max_global\n",
    "end"
   ]
  },
  {
   "cell_type": "code",
   "execution_count": null,
   "metadata": {},
   "outputs": [],
   "source": [
    "# Luan\n",
    "function achar_um_ponto_critico_de_uma_funcao(derivada_da_função(x),intervalo) #feito\n",
    "    ponto_crítico=bisseção(derivada(x),intervalo) #ou newton ou ponto fixo...\n",
    "    return ponto_crítico\n",
    "end"
   ]
  },
  {
   "cell_type": "code",
   "execution_count": null,
   "metadata": {},
   "outputs": [],
   "source": [
    "# Vinicius\n",
    "function achar_um_ponto_critico_de_uma_funcao_de_2_variaveis(gradiente_da_função(x),intervalo) #desafio\n",
    "    ponto_crítico=gradiente_descendente\n",
    "    return ponto_crítico\n",
    "end"
   ]
  },
  {
   "cell_type": "code",
   "execution_count": null,
   "metadata": {},
   "outputs": [],
   "source": [
    "# Thierry\n",
    "function langrage_2D()\n",
    "    \n",
    "end"
   ]
  },
  {
   "cell_type": "markdown",
   "metadata": {},
   "source": [
    "## Testes"
   ]
  },
  {
   "cell_type": "code",
   "execution_count": null,
   "metadata": {},
   "outputs": [],
   "source": []
  }
 ],
 "metadata": {
  "kernelspec": {
   "display_name": "Julia 1.5.4",
   "language": "julia",
   "name": "julia-1.5"
  },
  "language_info": {
   "file_extension": ".jl",
   "mimetype": "application/julia",
   "name": "julia",
   "version": "1.5.4"
  }
 },
 "nbformat": 4,
 "nbformat_minor": 4
}