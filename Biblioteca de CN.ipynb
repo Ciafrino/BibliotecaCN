{
 "cells": [
  {
   "cell_type": "markdown",
   "metadata": {},
   "source": [
    "# Questão 1."
   ]
  },
  {
   "cell_type": "markdown",
   "metadata": {},
   "source": [
    "## Funções"
   ]
  },
  {
   "cell_type": "code",
   "execution_count": 89,
   "metadata": {},
   "outputs": [
    {
     "name": "stderr",
     "output_type": "stream",
     "text": [
      "\u001b[32m\u001b[1m   Updating\u001b[22m\u001b[39m registry at `C:\\Users\\Martins\\.julia\\registries\\General`\n",
      "\u001b[32m\u001b[1m  Resolving\u001b[22m\u001b[39m package versions...\n",
      "\u001b[32m\u001b[1m  Installed\u001b[22m\u001b[39m Mocking ──────────── v0.7.1\n",
      "\u001b[32m\u001b[1m  Installed\u001b[22m\u001b[39m ExprTools ────────── v0.1.3\n",
      "\u001b[32m\u001b[1m  Installed\u001b[22m\u001b[39m LazyArtifacts ────── v1.3.0\n",
      "\u001b[32m\u001b[1m  Installed\u001b[22m\u001b[39m EzXML ────────────── v1.1.0\n",
      "\u001b[32m\u001b[1m  Installed\u001b[22m\u001b[39m MutableArithmetics ─ v0.2.19\n",
      "\u001b[32m\u001b[1m  Installed\u001b[22m\u001b[39m Intervals ────────── v1.5.0\n",
      "\u001b[32m\u001b[1m  Installed\u001b[22m\u001b[39m Polynomials ──────── v2.0.10\n",
      "\u001b[32m\u001b[1m  Installed\u001b[22m\u001b[39m TimeZones ────────── v1.5.5\n",
      "\u001b[32m\u001b[1mUpdating\u001b[22m\u001b[39m `C:\\Users\\Martins\\.julia\\environments\\v1.5\\Project.toml`\n",
      " \u001b[90m [f27b6e38] \u001b[39m\u001b[92m+ Polynomials v2.0.10\u001b[39m\n",
      "\u001b[32m\u001b[1mUpdating\u001b[22m\u001b[39m `C:\\Users\\Martins\\.julia\\environments\\v1.5\\Manifest.toml`\n",
      " \u001b[90m [e2ba6199] \u001b[39m\u001b[92m+ ExprTools v0.1.3\u001b[39m\n",
      " \u001b[90m [8f5d6c58] \u001b[39m\u001b[92m+ EzXML v1.1.0\u001b[39m\n",
      " \u001b[90m [d8418881] \u001b[39m\u001b[92m+ Intervals v1.5.0\u001b[39m\n",
      " \u001b[90m [4af54fe1] \u001b[39m\u001b[92m+ LazyArtifacts v1.3.0\u001b[39m\n",
      " \u001b[90m [78c3b35d] \u001b[39m\u001b[92m+ Mocking v0.7.1\u001b[39m\n",
      " \u001b[90m [d8a4904e] \u001b[39m\u001b[92m+ MutableArithmetics v0.2.19\u001b[39m\n",
      " \u001b[90m [f27b6e38] \u001b[39m\u001b[92m+ Polynomials v2.0.10\u001b[39m\n",
      " \u001b[90m [f269a46b] \u001b[39m\u001b[92m+ TimeZones v1.5.5\u001b[39m\n",
      "\u001b[32m\u001b[1m   Building\u001b[22m\u001b[39m TimeZones → `C:\\Users\\Martins\\.julia\\packages\\TimeZones\\y3gf6\\deps\\build.log`\n",
      "┌ Info: Precompiling Polynomials [f27b6e38-b328-58d1-80ce-0feddd5e7a45]\n",
      "└ @ Base loading.jl:1278\n"
     ]
    }
   ],
   "source": [
    "# import Pkg; \n",
    "# Pkg.add(\"Polynomials\")\n",
    "\n",
    "using Polynomials\n",
    "using Plots\n",
    "using LinearAlgebra"
   ]
  },
  {
   "cell_type": "code",
   "execution_count": 2,
   "metadata": {},
   "outputs": [
    {
     "data": {
      "text/plain": [
       "resolve_diagonal (generic function with 1 method)"
      ]
     },
     "execution_count": 2,
     "metadata": {},
     "output_type": "execute_result"
    }
   ],
   "source": [
    "\"\"\" O intuito da função resolve_diagonal é resolver equações Dx = b onde A é uma matriz diagonal NxN, \n",
    "X é uma matriz Nx1 e b também é uma matriz Nx1. Logo, a função recebe como entrada a Matriz Diagonal \n",
    "Quadrada NXN e o vetor B Nx1, e retorna o vetor x Nx1. \"\"\"\n",
    "\n",
    "function resolve_diagonal(D,b)     # D é diagonal e b é um vetor  \n",
    "    tamanho = length(b)            # Pega-se o tamanho tanto do vetor quanto da matriz (pressupõe que são de mesmo tamanho)\n",
    "    x=zeros(tamanho,1)             # Aloca o vetor x a ser retornado\n",
    "    for i in 1:tamanho \n",
    "        x[i] = b[i]/D[i,i]         # Resolve cada x[i] de acordo com o valor da diagonal e o valor de b de cada linha\n",
    "    end\n",
    "    \n",
    "    return x\n",
    "end"
   ]
  },
  {
   "cell_type": "code",
   "execution_count": 3,
   "metadata": {},
   "outputs": [
    {
     "data": {
      "text/plain": [
       "resolve_triangular_superior (generic function with 1 method)"
      ]
     },
     "execution_count": 3,
     "metadata": {},
     "output_type": "execute_result"
    }
   ],
   "source": [
    "\"\"\" O intuito dessa função é resolver equações T.x = b tal que T seja uma matriz NxN e triangular superior,\n",
    "x e b serão uma matriz coluna Nx1. A função deve retornar a solução x para tal sistema de equações.\"\"\"\n",
    "\n",
    "function resolve_triangular_superior(T,b)     #T é triangular superior\n",
    "    tamanho = length(b)\n",
    "    x=zeros(tamanho,1)\n",
    "    \n",
    "    i = tamanho\n",
    "    while (i > 0)\n",
    "        x[i] = b[i]/T[i,i]\n",
    "        k = tamanho\n",
    "        for j in i:(tamanho - 1)\n",
    "            x[i] -= T[i, k] * x[k]/T[i,i]\n",
    "            k -= 1\n",
    "        end\n",
    "        i -= 1\n",
    "    end\n",
    "    return x\n",
    "end"
   ]
  },
  {
   "cell_type": "code",
   "execution_count": 4,
   "metadata": {},
   "outputs": [
    {
     "data": {
      "text/plain": [
       "resolve_triangular_inferior (generic function with 1 method)"
      ]
     },
     "execution_count": 4,
     "metadata": {},
     "output_type": "execute_result"
    }
   ],
   "source": [
    "\"\"\" O intuito dessa função é resolver equações T.x = b tal que T seja uma matriz NxN e triangular inferior,\n",
    "x e b serão uma matriz coluna Nx1. A função deve retornar a solução x para tal sistema de equações.\"\"\"\n",
    "\n",
    "function resolve_triangular_inferior(T,b)     #T é triangular inferior\n",
    "    tamanho = length(b)\n",
    "    x=zeros(tamanho,1)\n",
    "    \n",
    "    i = 1\n",
    "    while (i <= tamanho)\n",
    "        x[i] = b[i]/T[i,i]\n",
    "        for j in 1:(i-1)\n",
    "            x[i] -= T[i, j] * x[j]/T[i,i]\n",
    "        end\n",
    "        i += 1\n",
    "    end\n",
    "    return x\n",
    "end"
   ]
  },
  {
   "cell_type": "code",
   "execution_count": 5,
   "metadata": {},
   "outputs": [
    {
     "data": {
      "text/plain": [
       "eliminacao_gaussiana (generic function with 1 method)"
      ]
     },
     "execution_count": 5,
     "metadata": {},
     "output_type": "execute_result"
    }
   ],
   "source": [
    "\"\"\" O intuito dessa função é realizar o processo de eliminação gaussiana com o sistema A.x = b, \n",
    "onde são passados a matriz densa quadrada A de NxN e a matriz coluna b de Nx1.\n",
    "O retorno será o sistema escalonado, com A sendo uma matriz triangular superior.\"\"\"\n",
    "\n",
    "function eliminacao_gaussiana(A,b)      #A é uma matriz cheia (\"matriz densa\")\n",
    "    tamanho = length(b)\n",
    "    for i in 1:tamanho-1\n",
    "        for j in i+1:tamanho\n",
    "            multiplicador = A[j,i]/A[i,i]\n",
    "            A[j, :] = A[j, :] - multiplicador*A[i, :]\n",
    "            b[j] = b[j] - multiplicador*b[i]\n",
    "        end\n",
    "    end\n",
    "    return A, b\n",
    "end"
   ]
  },
  {
   "cell_type": "code",
   "execution_count": 6,
   "metadata": {},
   "outputs": [
    {
     "data": {
      "text/plain": [
       "resolve_cheia (generic function with 1 method)"
      ]
     },
     "execution_count": 6,
     "metadata": {},
     "output_type": "execute_result"
    }
   ],
   "source": [
    "function resolve_cheia(A,b)\n",
    "    T,c= eliminação_gaussiana(A,b)  #O(n^3)\n",
    "    x=resolve_triangular_superior(T,b)  #O(n^2)\n",
    "    return x\n",
    "end"
   ]
  },
  {
   "cell_type": "code",
   "execution_count": 7,
   "metadata": {},
   "outputs": [
    {
     "data": {
      "text/plain": [
       "decomposicao_LU (generic function with 1 method)"
      ]
     },
     "execution_count": 7,
     "metadata": {},
     "output_type": "execute_result"
    }
   ],
   "source": [
    "function decomposicao_LU(A) #A é uma matriz cheia (\"matriz densa\")\n",
    "    tamanho = size(A)\n",
    "    tamanho = tamanho[1]\n",
    "    L=zeros(tamanho,tamanho)\n",
    "    \n",
    "    for i in 1:tamanho\n",
    "        L[i,i] = 1\n",
    "    end\n",
    "    \n",
    "    U = zeros(tamanho, tamanho)\n",
    "    \n",
    "    for i in 1:tamanho\n",
    "        for j in 1:tamanho\n",
    "            U[i, j] = A[i, j]\n",
    "        end\n",
    "    end\n",
    "    \n",
    "    for i in 1:tamanho-1\n",
    "        for j in i+1:tamanho\n",
    "            L[j,i] = U[j,i]/U[i,i]\n",
    "            U[j, :] = U[j, :] -L[j,i]*U[i, :]\n",
    "        end\n",
    "    end\n",
    "\n",
    "    return L,U \n",
    "end"
   ]
  },
  {
   "cell_type": "code",
   "execution_count": 8,
   "metadata": {},
   "outputs": [
    {
     "data": {
      "text/plain": [
       "resolver_pos_LU (generic function with 1 method)"
      ]
     },
     "execution_count": 8,
     "metadata": {},
     "output_type": "execute_result"
    }
   ],
   "source": [
    "function resolver_pos_LU(L,U,b)    #O(n^2) \n",
    "    y=resolve_triangular_inferior(L,b)\n",
    "    x=resolve_triangular_superior(U,y)\n",
    "    return x\n",
    "end"
   ]
  },
  {
   "cell_type": "markdown",
   "metadata": {},
   "source": [
    "## Testes das Funções"
   ]
  },
  {
   "cell_type": "code",
   "execution_count": null,
   "metadata": {},
   "outputs": [],
   "source": []
  },
  {
   "cell_type": "markdown",
   "metadata": {},
   "source": [
    "# Questão 2."
   ]
  },
  {
   "cell_type": "markdown",
   "metadata": {},
   "source": [
    "### Método de Taylor"
   ]
  },
  {
   "cell_type": "code",
   "execution_count": 9,
   "metadata": {},
   "outputs": [
    {
     "data": {
      "text/plain": [
       "taylor (generic function with 1 method)"
      ]
     },
     "execution_count": 9,
     "metadata": {},
     "output_type": "execute_result"
    }
   ],
   "source": [
    "\"\"\" Essa função faz a aproximação de uma função no ponto 'desejado' utilizando o polinômio de taylor\n",
    "centrado no ponto 'referencia'. Para isso, deve-se passar a função, as múltiplas derivadas (quantas \n",
    "quiser - quanto mais melhor) e os pontos de referencia e desejado.\"\"\"\n",
    "\n",
    "function taylor(funcao, derivadas, referencia, desejado)  #TODO\n",
    "    grau = length(derivadas)\n",
    "    soma = funcao(referencia)\n",
    "    fat = 1\n",
    "    for i in 1:grau\n",
    "        fat = fat * i\n",
    "        soma = soma + (derivadas[i](referencia)*(desejado-referencia)^i)/fat\n",
    "    end\n",
    "    return soma\n",
    "end"
   ]
  },
  {
   "cell_type": "code",
   "execution_count": 10,
   "metadata": {},
   "outputs": [
    {
     "name": "stdout",
     "output_type": "stream",
     "text": [
      "0.40580357142857143\n",
      "0.4054651081081644\n"
     ]
    }
   ],
   "source": [
    "f(x) = log(x)\n",
    "fd1(x) = 1/x; fd2(x) = -1/x^2; fd3(x) = 2/x^3; fd4(x) = -6/x^4; fd5(x) = 24/x^5; fd6(x) = -120/x^6; fd7(x) = 720/x^7;\n",
    "der = [fd1,fd2,fd3,fd4,fd5,fd6,fd7]\n",
    "\n",
    "println(taylor(f, der, 1, 1.5))\n",
    "println(log(1.5))"
   ]
  },
  {
   "cell_type": "code",
   "execution_count": 11,
   "metadata": {},
   "outputs": [
    {
     "name": "stdout",
     "output_type": "stream",
     "text": [
      "0.9635581840200099\n",
      "0.9320390859672263\n"
     ]
    }
   ],
   "source": [
    "f(x) = sin(x)\n",
    "fd1(x) = cos(x); fd2(x) = -sin(x); fd3(x) = -cos(x); fd4(x) = sin(x); fd5(x) = cos(x); fd6(x) = -sin(x); fd7(x) = -cos(x);\n",
    "der = [fd1,fd2,fd3,fd4,fd5,fd6,fd7]\n",
    "\n",
    "println(taylor(f, der, 1, 1.3))\n",
    "println(sin(1.2))"
   ]
  },
  {
   "cell_type": "code",
   "execution_count": 12,
   "metadata": {},
   "outputs": [
    {
     "name": "stdout",
     "output_type": "stream",
     "text": [
      "11.067330000000004\n",
      "11.067330000000002\n"
     ]
    }
   ],
   "source": [
    "f(x) = x^5+4x^4-3x^2+1\n",
    "fd1(x) = 5x^4+16x^3-6x; fd2(x) = 20x^3+48x^2-6; fd3(x) = 60x^2+96x; fd4(x) = 120x+96; fd5(x) = 120;\n",
    "der = [fd1,fd2,fd3,fd4,fd5]\n",
    "\n",
    "println(taylor(f, der, 1, 1.3))\n",
    "println(f(1.3))"
   ]
  },
  {
   "cell_type": "markdown",
   "metadata": {},
   "source": [
    "### Achar o Zero da Função por Bisseção"
   ]
  },
  {
   "cell_type": "code",
   "execution_count": 13,
   "metadata": {},
   "outputs": [
    {
     "data": {
      "text/plain": [
       "bissecao (generic function with 2 methods)"
      ]
     },
     "execution_count": 13,
     "metadata": {},
     "output_type": "execute_result"
    }
   ],
   "source": [
    "\"\"\" Na bisseção, queremos reduzir o intervalo ao máximo sempre garantindo que a função nos\n",
    "extremos tenha sinais distintos, visto que isso garante, pelo Teorema do Valor Intermediário,\n",
    "a existência de um zero de função nesse intervalo. Sendo assim, passamos a função, os extremos\n",
    "esquerdo e direito do intervalo e o erro máximo esperado.\n",
    "Retornamos a estimativa com um erro menor que o esperado.\"\"\"\n",
    "\n",
    "function bissecao(f, esq, dir, erro = 1e-2)\n",
    "    m=0\n",
    "    \n",
    "    @assert(f(esq)*f(dir)<=0, \"O intervalo passado não possui extremos com sinais distintos. Não podemos garantir um zero da função!\")\n",
    "    \n",
    "    while abs(dir-esq) > erro\n",
    "        m = (esq+dir)/2\n",
    "        res = f(m)\n",
    "        \n",
    "        if res == 0.0\n",
    "            break\n",
    "        elseif res*f(esq) > 0     # verifica se f(m) e f(esq) possuem o mesmo sinal\n",
    "            esq = m\n",
    "        else                      \n",
    "            dir = m\n",
    "        end\n",
    "    end\n",
    "    \n",
    "    return m\n",
    "end"
   ]
  },
  {
   "cell_type": "code",
   "execution_count": 14,
   "metadata": {},
   "outputs": [
    {
     "ename": "LoadError",
     "evalue": "\u001b[91mAssertionError: O intervalo passado não possui extremos com sinais distintos. Não podemos garantir um zero da função!\u001b[39m",
     "output_type": "error",
     "traceback": [
      "\u001b[91mAssertionError: O intervalo passado não possui extremos com sinais distintos. Não podemos garantir um zero da função!\u001b[39m",
      "",
      "Stacktrace:",
      " [1] bissecao(::typeof(f), ::Int64, ::Int64, ::Float64) at .\\In[13]:10",
      " [2] bissecao(::Function, ::Int64, ::Int64) at .\\In[13]:8",
      " [3] top-level scope at In[14]:3",
      " [4] include_string(::Function, ::Module, ::String, ::String) at .\\loading.jl:1091"
     ]
    }
   ],
   "source": [
    "# Testando intervalo sem zero\n",
    "f(x) = x^5+4x^4-3x^2+1\n",
    "bissecao(f,-3,3)"
   ]
  },
  {
   "cell_type": "code",
   "execution_count": 15,
   "metadata": {},
   "outputs": [
    {
     "data": {
      "text/plain": [
       "-3.798828125"
      ]
     },
     "execution_count": 15,
     "metadata": {},
     "output_type": "execute_result"
    }
   ],
   "source": [
    "f(x) = x^5+4x^4-3x^2+1\n",
    "bissecao(f,-10,10)"
   ]
  },
  {
   "cell_type": "code",
   "execution_count": 16,
   "metadata": {},
   "outputs": [
    {
     "data": {
      "text/plain": [
       "6.2822265625"
      ]
     },
     "execution_count": 16,
     "metadata": {},
     "output_type": "execute_result"
    }
   ],
   "source": [
    "f(x) = sin(x/2)\n",
    "bissecao(f, 1, 10)"
   ]
  },
  {
   "cell_type": "markdown",
   "metadata": {},
   "source": [
    "### Achar o Zero da Função por Ponto Fixo"
   ]
  },
  {
   "cell_type": "code",
   "execution_count": 17,
   "metadata": {},
   "outputs": [
    {
     "data": {
      "text/plain": [
       "ponto_fixo"
      ]
     },
     "execution_count": 17,
     "metadata": {},
     "output_type": "execute_result"
    }
   ],
   "source": [
    "\"\"\"\n",
    "Usamos o método do ponto fixo para encontrar o zero de função, a ideia é usar substituições\n",
    "sucessivas de forma a encontrar uma interseção entre a função g(x) que definimos e a reta\n",
    "y = x. O truque para achar o zero está em definir g(x) de forma que\n",
    "a função tenha um ponto Z t.q. f(Z) = Z - g(Z) = 0.\n",
    "\n",
    "@param: - função f recebe a função escolhida pelo usuário para achar o zero (no caso, a nossa função g)\n",
    "        - a margem de erro eps\n",
    "        - e o ponto inicial x0\n",
    "\n",
    "@return: - zero da função f(x) (ponto fixo de g(x))\n",
    "         - Retorna um erro de execução caso o método falhe em encontrar (diverge)\n",
    "\"\"\"\n",
    "function ponto_fixo(f, eps, x0)\n",
    "    # Inicializa com infinito para saber se encontramos\n",
    "    ponto_fixo = -Inf\n",
    "    \n",
    "    # quantidade de iterações dadas até encontrar\n",
    "    steps = 1\n",
    "    \n",
    "    # Por conveniência vamos assumir que o método diverge \n",
    "    # se levar pelo menos 10^3 passos\n",
    "    while steps < 10^3 \n",
    "        nx = f(x0)\n",
    "\n",
    "        if abs(nx - x0) < eps\n",
    "            # achamos uma aproximação que respeita a margem de erro \n",
    "            ponto_fixo = nx\n",
    "            break\n",
    "        end\n",
    "\n",
    "        steps += 1\n",
    "        x0 = nx\n",
    "    end\n",
    "    \n",
    "    # método falhou\n",
    "    @assert(ponto_fixo != -Inf, \"Método divergiu com o input dado\")\n",
    "    \n",
    "    # retorna o ponto_fixo da função\n",
    "    return ponto_fixo\n",
    "end\n"
   ]
  },
  {
   "cell_type": "code",
   "execution_count": 18,
   "metadata": {},
   "outputs": [
    {
     "name": "stdout",
     "output_type": "stream",
     "text": [
      "-0.14558862306442932\n"
     ]
    }
   ],
   "source": [
    "function f(x)\n",
    "    return x*cos(x) - x*x + 8*x - 1\n",
    "end\n",
    "\n",
    "function g(x)\n",
    "    # g(x) é uma função cujo ponto fixo é um zero de f(x)\n",
    "    return (x*cos(x) - x*x -1)/8.0\n",
    "end\n",
    "\n",
    "println(ponto_fixo(g, 0.001, 0.0))"
   ]
  },
  {
   "cell_type": "code",
   "execution_count": 19,
   "metadata": {},
   "outputs": [
    {
     "name": "stdout",
     "output_type": "stream",
     "text": [
      "0.2891641649379035\n"
     ]
    }
   ],
   "source": [
    "function f(x)\n",
    "    return x^3 - 7*x + 2\n",
    "end\n",
    "\n",
    "function g(x)\n",
    "    # g(x) é uma função cujo ponto fixo é um zero de f(x)\n",
    "    return (x^3 + 2)/7.0\n",
    "end\n",
    "\n",
    "println(ponto_fixo(g, 1e-3, 0.0))"
   ]
  },
  {
   "cell_type": "code",
   "execution_count": 20,
   "metadata": {},
   "outputs": [
    {
     "ename": "LoadError",
     "evalue": "\u001b[91mAssertionError: Método divergiu com o input dado\u001b[39m",
     "output_type": "error",
     "traceback": [
      "\u001b[91mAssertionError: Método divergiu com o input dado\u001b[39m",
      "",
      "Stacktrace:",
      " [1] ponto_fixo(::typeof(g), ::Float64, ::Float64) at .\\In[17]:37",
      " [2] top-level scope at In[20]:11",
      " [3] include_string(::Function, ::Module, ::String, ::String) at .\\loading.jl:1091"
     ]
    }
   ],
   "source": [
    "function f(x)\n",
    "    return x^3 - x - 1\n",
    "end\n",
    "\n",
    "# se pegarmos uma g simples nesse caso o método tem que divergir\n",
    "function g(x)\n",
    "    # g(x) é uma função cujo ponto fixo é um zero de f(x)\n",
    "    return (x^3 - 1)\n",
    "end\n",
    "\n",
    "println(ponto_fixo(g, 1e-6, 0.0))"
   ]
  },
  {
   "cell_type": "code",
   "execution_count": 21,
   "metadata": {},
   "outputs": [
    {
     "name": "stdout",
     "output_type": "stream",
     "text": [
      "1.3247179361449652\n"
     ]
    }
   ],
   "source": [
    "function f(x)\n",
    "    return x^3 - x - 1\n",
    "end\n",
    "\n",
    "# se pegarmos uma g esperta o método tem que convergir\n",
    "function g(x)\n",
    "    # g(x) é uma função cujo ponto fixo é um zero de f(x)\n",
    "    return cbrt(x + 1)\n",
    "end\n",
    "\n",
    "println(ponto_fixo(g, 1e-7, 0.0))"
   ]
  },
  {
   "cell_type": "markdown",
   "metadata": {},
   "source": [
    "### Achar o Zero da Função por Newton"
   ]
  },
  {
   "cell_type": "code",
   "execution_count": 22,
   "metadata": {},
   "outputs": [
    {
     "data": {
      "text/plain": [
       "newton (generic function with 2 methods)"
      ]
     },
     "execution_count": 22,
     "metadata": {},
     "output_type": "execute_result"
    }
   ],
   "source": [
    "\"\"\" Para o método de Newton, queremos nos aproveitar do ângulo tangente da curva para nos\n",
    "aproximarmos precisamente do zero da função. Isso é feito encontrando a reta tangente a\n",
    "curva no ponto atual e indo para o ponto dessa reta que cruza o eixo x. Para isso, precisamos\n",
    "da função e sua derivada, o ponto inicial do método e o erro máximo esperado.\"\"\"\n",
    "\n",
    "function newton(f, fd, ponto, erro = 1e-8)\n",
    "    # Primeiro descobrimos quantos termos precisamos\n",
    "    termos = 1\n",
    "    while (termos+1)*(2^(termos+1)) < 1/erro\n",
    "        termos = termos+1\n",
    "    end\n",
    "\n",
    "    # Agora calculamos o taylor\n",
    "    for i in 1:termos\n",
    "        ponto = ponto - f(ponto)/fd(ponto)\n",
    "    end\n",
    "    \n",
    "    return ponto\n",
    "end"
   ]
  },
  {
   "cell_type": "code",
   "execution_count": 23,
   "metadata": {},
   "outputs": [
    {
     "data": {
      "text/plain": [
       "-3.796694419165162"
      ]
     },
     "execution_count": 23,
     "metadata": {},
     "output_type": "execute_result"
    }
   ],
   "source": [
    "f(x) = x^5+4x^4-3x^2+1\n",
    "fd(x) = 5x^4+16x^3-6x\n",
    "newton(f,fd,-4)"
   ]
  },
  {
   "cell_type": "code",
   "execution_count": 24,
   "metadata": {},
   "outputs": [
    {
     "data": {
      "text/plain": [
       "6.283185307179586"
      ]
     },
     "execution_count": 24,
     "metadata": {},
     "output_type": "execute_result"
    }
   ],
   "source": [
    "f(x) = sin(x/2)\n",
    "fd(x) = 1/2 * cos(x/2)\n",
    "newton(f, fd, 6)"
   ]
  },
  {
   "cell_type": "code",
   "execution_count": 25,
   "metadata": {},
   "outputs": [
    {
     "data": {
      "text/plain": [
       "1.0"
      ]
     },
     "execution_count": 25,
     "metadata": {},
     "output_type": "execute_result"
    }
   ],
   "source": [
    "f(x) = log(x)\n",
    "fd(x) = 1/x\n",
    "newton(f, fd, 2)"
   ]
  },
  {
   "cell_type": "markdown",
   "metadata": {},
   "source": [
    "### Achar o Zero da Função pelo Método de Euler"
   ]
  },
  {
   "cell_type": "code",
   "execution_count": 26,
   "metadata": {},
   "outputs": [],
   "source": [
    "# Chris\n",
    "\n",
    "# Método de Euler"
   ]
  },
  {
   "cell_type": "markdown",
   "metadata": {},
   "source": [
    "### Resolver EDO com Problema de Valor Inicial"
   ]
  },
  {
   "cell_type": "code",
   "execution_count": 27,
   "metadata": {},
   "outputs": [
    {
     "data": {
      "text/plain": [
       "resolver_PVI"
      ]
     },
     "execution_count": 27,
     "metadata": {},
     "output_type": "execute_result"
    }
   ],
   "source": [
    "\"\"\"\n",
    "Usamos o método de euler para resolver o problema de valor inicial. O método é usado para\n",
    "aproximar o valor de EDOs, ele faz isso usando aproximações de retas tangentes para descrever\n",
    "a curva repetidas vezes.\n",
    "\n",
    "@param: - derivada de f(x, y)\n",
    "        - x inicial\n",
    "        - y inicial (isso é o valor inicial conhecido no nosso problema)\n",
    "        - x_final denota o ponto x em que queremos uma aproximação para f\n",
    "        - n denota em quantos subintervalos vamos dividir nosso intervalo\n",
    "\n",
    "@return: - aproximação para f no ponto x_final\n",
    "\"\"\"\n",
    "function resolver_PVI(derivada, x_inicial,y_inicial,x_final,n) #Feito\n",
    "    # tamanho do intervalo que usaremos dada a discretização desejada\n",
    "    H = (x_final-x_inicial) / n\n",
    "    \n",
    "    # passos iniciais\n",
    "    xi = x_inicial\n",
    "    yi = y_inicial\n",
    "\n",
    "    while xi + H <= x_final\n",
    "        # pegamos o próximo valor de y andando pela reta tangente ao \n",
    "        # ponto x_i com um passo de tamanho H\n",
    "        yi += derivada(xi, yi) * H\n",
    "        xi += H\n",
    "    end\n",
    "    \n",
    "    return yi # retornamos o valor de y no estado final\n",
    "end"
   ]
  },
  {
   "cell_type": "code",
   "execution_count": 28,
   "metadata": {},
   "outputs": [
    {
     "data": {
      "text/plain": [
       "41.144777789250874"
      ]
     },
     "execution_count": 28,
     "metadata": {},
     "output_type": "execute_result"
    }
   ],
   "source": [
    "df(x, y) = y\n",
    "\n",
    "# queremos aproximar y(4) usando método de euler\n",
    "# sendo y'(x) = y(x), y(0) = 1 e dividindo o intervalo em 40 partes\n",
    "\n",
    "resolver_PVI(df, 0.0, 1.0, 4, 40)"
   ]
  },
  {
   "cell_type": "code",
   "execution_count": 29,
   "metadata": {},
   "outputs": [
    {
     "data": {
      "text/plain": [
       "20.0"
      ]
     },
     "execution_count": 29,
     "metadata": {},
     "output_type": "execute_result"
    }
   ],
   "source": [
    "df(x, y) = y + 3*x\n",
    "\n",
    "# queremos aproximar y(3) usando método de euler\n",
    "# sendo y'(x) = y + 3x, y(3) = 1 e dividindo o intervalo em 3 partes\n",
    "\n",
    "resolver_PVI(df, 0.0, 1.0, 3, 3)"
   ]
  },
  {
   "cell_type": "code",
   "execution_count": 30,
   "metadata": {},
   "outputs": [
    {
     "data": {
      "text/plain": [
       "1.0987701305162527"
      ]
     },
     "execution_count": 30,
     "metadata": {},
     "output_type": "execute_result"
    }
   ],
   "source": [
    "df(x, y) = exp(-x)\n",
    "\n",
    "# queremos aproximar y(5) usando método de euler\n",
    "# sendo y'(x) = x^2 + 3x, y(2) = 10 e dividindo o intervalo em 40 partes\n",
    "\n",
    "resolver_PVI(df, 0.0, 0.0, 2, 4)"
   ]
  },
  {
   "cell_type": "markdown",
   "metadata": {},
   "source": [
    "### Resolver um Sistema Ax=b"
   ]
  },
  {
   "cell_type": "code",
   "execution_count": 31,
   "metadata": {},
   "outputs": [
    {
     "data": {
      "text/plain": [
       "resolver_um_sistema (generic function with 1 method)"
      ]
     },
     "execution_count": 31,
     "metadata": {},
     "output_type": "execute_result"
    }
   ],
   "source": [
    "\"\"\" Essa função é um encapsulamento da resolução de sistema do formato 'A.x = b' \n",
    "utilizando decomposição LU. Para isso, é passado como parâmetro a matriz A e o \n",
    "vetor b, e o resultado será o vetor x.\"\"\"\n",
    "\n",
    "function resolver_um_sistema(A,b) \n",
    "    L, U = decomposicao_LU(A)\n",
    "    x = resolver_pos_LU(L,U,b)\n",
    "    return x\n",
    "end"
   ]
  },
  {
   "cell_type": "code",
   "execution_count": 32,
   "metadata": {},
   "outputs": [
    {
     "name": "stdout",
     "output_type": "stream",
     "text": [
      "[2.1040532365396274; -5.474289171203875; -0.6170598911070786; 3.5075620084694505]\n",
      "[2.104053236539625, -5.474289171203873, -0.6170598911070775, 3.507562008469449]\n"
     ]
    }
   ],
   "source": [
    "A=[1.0 3.0 2.0 7.0 ; 10.0 3.0 10.0 7.0 ; 3.0 5.0 18.0 22.0 ; 5.0 2.0 1.0 6.0]\n",
    "b=[9.0 ; 23.0 ; 45.0 ; 20.0]\n",
    "\n",
    "println(resolver_um_sistema(A,b))\n",
    "println(A\\b)"
   ]
  },
  {
   "cell_type": "code",
   "execution_count": 33,
   "metadata": {},
   "outputs": [
    {
     "name": "stdout",
     "output_type": "stream",
     "text": [
      "[-8.307692307692305; 6.692307692307692; -1.3846153846153844]\n",
      "[-8.307692307692307, 6.692307692307692, -1.3846153846153846]\n"
     ]
    }
   ],
   "source": [
    "A=[1.0 3.0 2.0 ; -2.0 -1.0 5.0 ; 1.0 1.0 1.0]\n",
    "b=[9.0 ; 3.0 ; -3.0]\n",
    "\n",
    "println(resolver_um_sistema(A,b))\n",
    "println(A\\b)"
   ]
  },
  {
   "cell_type": "code",
   "execution_count": 34,
   "metadata": {},
   "outputs": [
    {
     "name": "stdout",
     "output_type": "stream",
     "text": [
      "[2.4; 0.2]\n",
      "[2.4, 0.2]\n"
     ]
    }
   ],
   "source": [
    "A=[1.0 3.0 ; -1.0 2.0]\n",
    "b=[3.0 ; -2.0]\n",
    "\n",
    "println(resolver_um_sistema(A,b))\n",
    "println(A\\b)"
   ]
  },
  {
   "cell_type": "markdown",
   "metadata": {},
   "source": [
    "### Resolver EDO com Problema de Valor de Contorno"
   ]
  },
  {
   "cell_type": "code",
   "execution_count": 35,
   "metadata": {},
   "outputs": [
    {
     "data": {
      "text/plain": [
       "resolver_PVC (generic function with 1 method)"
      ]
     },
     "execution_count": 35,
     "metadata": {},
     "output_type": "execute_result"
    }
   ],
   "source": [
    "# Luan\n",
    "function resolver_PVC(segunda_derivada, x_inicial, y_inicial, x_final, y_final, n)  #Não dá pra fazer genericamente\n",
    "    \n",
    "    # Calcula o h\n",
    "    h = (x_final - x_inicial)/n\n",
    "\n",
    "    # Inicializa a matriz vazia\n",
    "    A = []\n",
    "    \n",
    "    # Vetor auxiliar para construir a matriz \n",
    "    v = [-2, 1]\n",
    "    \n",
    "    # Preenche a primeira linha com 0's\n",
    "    for i = 3:n-1\n",
    "        push!(v, 0)\n",
    "    end\n",
    "    \n",
    "    # Coloca o vetor auxiliar na matriz\n",
    "    push!(A, v)\n",
    "    \n",
    "    # Constrói a matriz por meio dos vetores auxiliares\n",
    "    for i = 2:n-2\n",
    "        v = []\n",
    "        for j = 1:i-2\n",
    "            push!(v, 0)\n",
    "        end\n",
    "        push!(v, 1)\n",
    "        push!(v, -2)\n",
    "        push!(v, 1)\n",
    "        for j = i+2:n-1\n",
    "            push!(v, 0)\n",
    "        end\n",
    "        v = vcat(v...)\n",
    "        push!(A, v)\n",
    "    end\n",
    "    \n",
    "    # Termina de construir a matriz\n",
    "    v = []\n",
    "    for i = 1:n-3\n",
    "        push!(v, 0)\n",
    "    end\n",
    "    push!(v, 1)\n",
    "    push!(v, -2)\n",
    "    push!(A, v)\n",
    "    \n",
    "    # Gera o vetor b de acordo com as aproximações da segunda derivada\n",
    "    b = Any[segunda_derivada(x_inicial)*h^2 - y_inicial]\n",
    "    for i = 2:n-2\n",
    "        push!(b, segunda_derivada((x_inicial + h*(i)))*h^2)\n",
    "    end\n",
    "    push!(b, segunda_derivada(x_final)*h^2 - y_final)\n",
    "    b = vcat(b...)\n",
    "    A = hcat(A...)\n",
    "\n",
    "    # Resolve o sistema e acha os pontos y\n",
    "    y = resolver_um_sistema(A,b)\n",
    "    return y\n",
    "end"
   ]
  },
  {
   "cell_type": "code",
   "execution_count": 36,
   "metadata": {},
   "outputs": [
    {
     "ename": "LoadError",
     "evalue": "\u001b[91mUndefVarError: plot not defined\u001b[39m",
     "output_type": "error",
     "traceback": [
      "\u001b[91mUndefVarError: plot not defined\u001b[39m",
      "",
      "Stacktrace:",
      " [1] top-level scope at In[36]:18",
      " [2] include_string(::Function, ::Module, ::String, ::String) at .\\loading.jl:1091"
     ]
    }
   ],
   "source": [
    "# Teste 1\n",
    "\n",
    "g(x) = x^2 - 5x + 6\n",
    "gd(x) = 2x - 5\n",
    "gdd(x) = 2\n",
    "x_inicial = 0\n",
    "y_inicial = 6\n",
    "x_final = 5\n",
    "y_final = 6\n",
    "n = 30\n",
    "\n",
    "y = Any[y_inicial]\n",
    "for e in resolver_PVC(gdd, x_inicial, y_inicial, x_final, y_final, n)\n",
    "    push!(y, e)\n",
    "end\n",
    "push!(y, y_final)\n",
    "\n",
    "plot(g, x_inicial, x_final)\n",
    "\n",
    "h = (x_final - x_inicial)/(n)\n",
    "scatter!(x_inicial:h:x_final, y, leg=false)"
   ]
  },
  {
   "cell_type": "code",
   "execution_count": 37,
   "metadata": {},
   "outputs": [
    {
     "ename": "LoadError",
     "evalue": "\u001b[91mUndefVarError: plot not defined\u001b[39m",
     "output_type": "error",
     "traceback": [
      "\u001b[91mUndefVarError: plot not defined\u001b[39m",
      "",
      "Stacktrace:",
      " [1] top-level scope at In[37]:18",
      " [2] include_string(::Function, ::Module, ::String, ::String) at .\\loading.jl:1091"
     ]
    }
   ],
   "source": [
    "#Teste 2\n",
    "\n",
    "g(x) = sin(x)\n",
    "gd(x) = cos(x)\n",
    "gdd(x) = -sin(x)\n",
    "x_inicial = 0\n",
    "y_inicial = 0\n",
    "x_final = 2*pi\n",
    "y_final = 0\n",
    "n = 30\n",
    "\n",
    "y = Any[y_inicial]\n",
    "for e in resolver_PVC(gdd, x_inicial, y_inicial, x_final, y_final, n)\n",
    "    push!(y, e)\n",
    "end\n",
    "push!(y, y_final)\n",
    "\n",
    "plot(g, x_inicial, x_final)\n",
    "\n",
    "h = (x_final - x_inicial)/(n)\n",
    "scatter!(x_inicial:h:x_final, y, leg=false)"
   ]
  },
  {
   "cell_type": "code",
   "execution_count": 38,
   "metadata": {},
   "outputs": [
    {
     "ename": "LoadError",
     "evalue": "\u001b[91mUndefVarError: plot not defined\u001b[39m",
     "output_type": "error",
     "traceback": [
      "\u001b[91mUndefVarError: plot not defined\u001b[39m",
      "",
      "Stacktrace:",
      " [1] top-level scope at In[38]:18",
      " [2] include_string(::Function, ::Module, ::String, ::String) at .\\loading.jl:1091"
     ]
    }
   ],
   "source": [
    "#Teste 3\n",
    "\n",
    "g(x) = log(x)\n",
    "gd(x) = 1/x\n",
    "gdd(x) = -1/x^2\n",
    "x_inicial = 1\n",
    "y_inicial = 0\n",
    "x_final = exp(2)\n",
    "y_final = 2\n",
    "n = 30\n",
    "\n",
    "y = Any[y_inicial]\n",
    "for e in resolver_PVC(gdd, x_inicial, y_inicial, x_final, y_final, n)\n",
    "    push!(y, e)\n",
    "end\n",
    "push!(y, y_final)\n",
    "\n",
    "plot(g, x_inicial, x_final)\n",
    "\n",
    "h = (x_final - x_inicial)/(n)\n",
    "scatter!(x_inicial:h:x_final, y, leg=false)"
   ]
  },
  {
   "cell_type": "markdown",
   "metadata": {},
   "source": [
    "### Gerar a Matriz de Vandermonde"
   ]
  },
  {
   "cell_type": "code",
   "execution_count": 39,
   "metadata": {},
   "outputs": [
    {
     "data": {
      "text/plain": [
       "matriz_de_vandermonde (generic function with 1 method)"
      ]
     },
     "execution_count": 39,
     "metadata": {},
     "output_type": "execute_result"
    }
   ],
   "source": [
    "\"\"\" Essa função recebe uma lista de pontos x e retorna uma matriz cujas colunas são \n",
    "dadas por essa lista de pontos elevado a uma potência. A primeira coluna possui apenas 1s, \n",
    "a segunda é potência de 1, a terceira de 2, e assim em diante até o grau especificado. \"\"\"\n",
    "\n",
    "function matriz_de_vandermonde(pontos_x, grau)\n",
    "    matriz = ones(length(pontos_x))\n",
    "    for i in 1:grau\n",
    "        matriz = hcat(matriz, pontos_x.^i)\n",
    "    end \n",
    "    return matriz\n",
    "end"
   ]
  },
  {
   "cell_type": "code",
   "execution_count": 40,
   "metadata": {},
   "outputs": [
    {
     "data": {
      "text/plain": [
       "5×4 Array{Float64,2}:\n",
       " 1.0   1.0   1.0   1.0\n",
       " 1.0   2.0   4.0   8.0\n",
       " 1.0   4.0  16.0  64.0\n",
       " 1.0   2.0   4.0   8.0\n",
       " 1.0  -1.0   1.0  -1.0"
      ]
     },
     "execution_count": 40,
     "metadata": {},
     "output_type": "execute_result"
    }
   ],
   "source": [
    "matriz_de_vandermonde([1,2,4,2,-1], 3)"
   ]
  },
  {
   "cell_type": "code",
   "execution_count": 41,
   "metadata": {},
   "outputs": [
    {
     "data": {
      "text/plain": [
       "5×2 Array{Float64,2}:\n",
       " 1.0   1.0\n",
       " 1.0  -1.0\n",
       " 1.0   2.0\n",
       " 1.0   3.0\n",
       " 1.0  -5.0"
      ]
     },
     "execution_count": 41,
     "metadata": {},
     "output_type": "execute_result"
    }
   ],
   "source": [
    "matriz_de_vandermonde([1,-1,2,3,-5], 1)"
   ]
  },
  {
   "cell_type": "code",
   "execution_count": 42,
   "metadata": {},
   "outputs": [
    {
     "data": {
      "text/plain": [
       "4×6 Array{Float64,2}:\n",
       " 1.0  2.0  4.0   8.0  16.0   32.0\n",
       " 1.0  3.0  9.0  27.0  81.0  243.0\n",
       " 1.0  1.0  1.0   1.0   1.0    1.0\n",
       " 1.0  2.0  4.0   8.0  16.0   32.0"
      ]
     },
     "execution_count": 42,
     "metadata": {},
     "output_type": "execute_result"
    }
   ],
   "source": [
    "matriz_de_vandermonde([2,3,1,2], 5)"
   ]
  },
  {
   "cell_type": "markdown",
   "metadata": {},
   "source": [
    "### Fazer Interpolação de Curva por Vandermonde"
   ]
  },
  {
   "cell_type": "code",
   "execution_count": 43,
   "metadata": {},
   "outputs": [
    {
     "data": {
      "text/plain": [
       "interpolacao_coeficientes (generic function with 1 method)"
      ]
     },
     "execution_count": 43,
     "metadata": {},
     "output_type": "execute_result"
    }
   ],
   "source": [
    "\"\"\" Nessa função, realizamos o processo de interpolação de curvas utilizando a matriz de \n",
    "Vandermonde para o sistema. Consiste em passarmos os pontos de x e y como duas listas \n",
    "separadas e o grau do polinômio, e a função retorna os coeficientes\n",
    "do polinômio, na ordem do grau 0 até o grau especificado.\"\"\"\n",
    "\n",
    "function interpolacao_coeficientes(pontos_x, pontos_y, grau)\n",
    "    V = matriz_de_vandermonde(pontos_x,grau)\n",
    "    coeficientes = resolver_um_sistema(V,pontos_y)\n",
    "    return coeficientes\n",
    "end"
   ]
  },
  {
   "cell_type": "code",
   "execution_count": 44,
   "metadata": {},
   "outputs": [
    {
     "data": {
      "text/plain": [
       "4×1 Array{Float64,2}:\n",
       "  9.500000000000004\n",
       " -8.000000000000004\n",
       "  1.0000000000000009\n",
       " -0.10000000000000007"
      ]
     },
     "execution_count": 44,
     "metadata": {},
     "output_type": "execute_result"
    }
   ],
   "source": [
    "f(x) = 9.5 -8*x + x^2 - 0.1x^3\n",
    "interpolacao_coeficientes([1,5,6,9], [f(1),f(5),f(6),f(9)], 3)"
   ]
  },
  {
   "cell_type": "code",
   "execution_count": 45,
   "metadata": {},
   "outputs": [
    {
     "data": {
      "text/plain": [
       "6×1 Array{Float64,2}:\n",
       " -3.0\n",
       " -4.999999999999997\n",
       " -2.999999999999999\n",
       "  0.39999999999999714\n",
       " -2.220446049250313e-16\n",
       "  1.0000000000000007"
      ]
     },
     "execution_count": 45,
     "metadata": {},
     "output_type": "execute_result"
    }
   ],
   "source": [
    "f(x) = -3 - 5*x - 3*x^2 + 0.4*x^3 + x^5\n",
    "interpolacao_coeficientes([-1,0,1.5,1,-2,2], [f(-1),f(0),f(1.5),f(1),f(-2),f(2)], 5)"
   ]
  },
  {
   "cell_type": "code",
   "execution_count": 46,
   "metadata": {},
   "outputs": [
    {
     "data": {
      "text/plain": [
       "4×1 Array{Float64,2}:\n",
       " 3.0\n",
       " 5.0\n",
       " 0.0\n",
       " 0.0"
      ]
     },
     "execution_count": 46,
     "metadata": {},
     "output_type": "execute_result"
    }
   ],
   "source": [
    "f(x) = 3 + 5*x\n",
    "interpolacao_coeficientes([0,1,-1,2], [f(0),f(1),f(-1),f(2)], 3)"
   ]
  },
  {
   "cell_type": "markdown",
   "metadata": {},
   "source": [
    "### Obter Polinômio por Lagrange"
   ]
  },
  {
   "cell_type": "code",
   "execution_count": 47,
   "metadata": {},
   "outputs": [
    {
     "data": {
      "text/plain": [
       "lagrange (generic function with 1 method)"
      ]
     },
     "execution_count": 47,
     "metadata": {},
     "output_type": "execute_result"
    }
   ],
   "source": [
    "\"\"\"\n",
    "Polinômio de Lagrange dado um conjunto de pontos e o (grau - 1) do polinômio desejado\n",
    "\n",
    "@param: - coordenadas x\n",
    "        - coordenadas y\n",
    "        - (grau - 1) desejado para o polinômio de lagrange (se grau = 3, teremos P_2(x))\n",
    "\n",
    "@return: - aproximação para f no ponto x_final\n",
    "\"\"\"\n",
    "\n",
    "function lagrange(pontos_x, pontos_y, grau)\n",
    "    \n",
    "    poly = Polynomial(0.0)\n",
    "\n",
    "    for i in 1 : grau\n",
    "        coeff = Polynomial(pontos_y[i])\n",
    "        for j in 1 : grau\n",
    "            if i == j\n",
    "                # caso especial, não consideramos os\n",
    "                # mesmos índices\n",
    "                continue\n",
    "            end\n",
    "\n",
    "            # adicionamento esse coeficiente no polinômio\n",
    "            coeff = coeff * Polynomial([-pontos_x[j], 1.0]) / (pontos_x[i] - pontos_x[j])\n",
    "        end\n",
    "\n",
    "        # adicionamos o coeficiente no polinômio\n",
    "        poly += coeff\n",
    "    end\n",
    "\n",
    "    # retornamos polinômio na forma [1, x, x^2, ..., x^(grau-1)]\n",
    "    return poly\n",
    "end"
   ]
  },
  {
   "cell_type": "code",
   "execution_count": 48,
   "metadata": {},
   "outputs": [
    {
     "ename": "LoadError",
     "evalue": "\u001b[91mUndefVarError: Polynomial not defined\u001b[39m",
     "output_type": "error",
     "traceback": [
      "\u001b[91mUndefVarError: Polynomial not defined\u001b[39m",
      "",
      "Stacktrace:",
      " [1] lagrange(::Array{Float64,1}, ::Array{Float64,1}, ::Int64) at .\\In[47]:13",
      " [2] top-level scope at In[48]:4",
      " [3] include_string(::Function, ::Module, ::String, ::String) at .\\loading.jl:1091"
     ]
    }
   ],
   "source": [
    "x = [1.0, 2.0, 7.0]\n",
    "y = [2.0, 5.0, 9.0]\n",
    "\n",
    "println(coeffs(lagrange(x, y, 3)))"
   ]
  },
  {
   "cell_type": "code",
   "execution_count": 49,
   "metadata": {},
   "outputs": [
    {
     "ename": "LoadError",
     "evalue": "\u001b[91mUndefVarError: Polynomial not defined\u001b[39m",
     "output_type": "error",
     "traceback": [
      "\u001b[91mUndefVarError: Polynomial not defined\u001b[39m",
      "",
      "Stacktrace:",
      " [1] lagrange(::Array{Float64,1}, ::Array{Float64,1}, ::Int64) at .\\In[47]:13",
      " [2] top-level scope at In[49]:4",
      " [3] include_string(::Function, ::Module, ::String, ::String) at .\\loading.jl:1091"
     ]
    }
   ],
   "source": [
    "x = [-1.0, 2.0, 3.0, 5.0]\n",
    "y = [0.0, 1.0, 1.0, 2.0]\n",
    "\n",
    "println(coeffs(lagrange(x, y, 3)))"
   ]
  },
  {
   "cell_type": "code",
   "execution_count": 50,
   "metadata": {},
   "outputs": [
    {
     "ename": "LoadError",
     "evalue": "\u001b[91mUndefVarError: Polynomial not defined\u001b[39m",
     "output_type": "error",
     "traceback": [
      "\u001b[91mUndefVarError: Polynomial not defined\u001b[39m",
      "",
      "Stacktrace:",
      " [1] lagrange(::Array{Float64,1}, ::Array{Float64,1}, ::Int64) at .\\In[47]:13",
      " [2] top-level scope at In[50]:4",
      " [3] include_string(::Function, ::Module, ::String, ::String) at .\\loading.jl:1091"
     ]
    }
   ],
   "source": [
    "x = [0.0, 2.0, 4.0]\n",
    "y = [-2.0, 1.0, 4.0]\n",
    "\n",
    "println(coeffs(lagrange(x, y, 2)))"
   ]
  },
  {
   "cell_type": "markdown",
   "metadata": {},
   "source": [
    "### Fazer Interpolação de Curva por Lagrange"
   ]
  },
  {
   "cell_type": "code",
   "execution_count": 51,
   "metadata": {},
   "outputs": [
    {
     "data": {
      "text/plain": [
       "interpolacao_funcao (generic function with 1 method)"
      ]
     },
     "execution_count": 51,
     "metadata": {},
     "output_type": "execute_result"
    }
   ],
   "source": [
    "\"\"\" Essa função faz a interpolação dos pontos x e y dados e retorna uma função com o grau passado.\n",
    "Vale notar que a função é apenas um encapsulamento da função que gera o lagrange.\"\"\"\n",
    "\n",
    "function interpolacao_funcao(pontos_x,pontos_y, grau)\n",
    "    polinomio =lagrange(pontos_x,pontos_y,grau)\n",
    "    return polinomio\n",
    "end"
   ]
  },
  {
   "cell_type": "code",
   "execution_count": 52,
   "metadata": {},
   "outputs": [
    {
     "ename": "LoadError",
     "evalue": "\u001b[91mUndefVarError: Polynomial not defined\u001b[39m",
     "output_type": "error",
     "traceback": [
      "\u001b[91mUndefVarError: Polynomial not defined\u001b[39m",
      "",
      "Stacktrace:",
      " [1] lagrange(::Array{Float64,1}, ::Array{Float64,1}, ::Int64) at .\\In[47]:13",
      " [2] interpolacao_funcao(::Array{Float64,1}, ::Array{Float64,1}, ::Int64) at .\\In[51]:5",
      " [3] top-level scope at In[52]:4",
      " [4] include_string(::Function, ::Module, ::String, ::String) at .\\loading.jl:1091"
     ]
    }
   ],
   "source": [
    "x = [1.0, 2.0, 7.0]\n",
    "y = [2.0, 5.0, 9.0]\n",
    "\n",
    "interpolacao_funcao(x,y,3)"
   ]
  },
  {
   "cell_type": "code",
   "execution_count": 53,
   "metadata": {},
   "outputs": [
    {
     "ename": "LoadError",
     "evalue": "\u001b[91mUndefVarError: Polynomial not defined\u001b[39m",
     "output_type": "error",
     "traceback": [
      "\u001b[91mUndefVarError: Polynomial not defined\u001b[39m",
      "",
      "Stacktrace:",
      " [1] lagrange(::Array{Float64,1}, ::Array{Float64,1}, ::Int64) at .\\In[47]:13",
      " [2] interpolacao_funcao(::Array{Float64,1}, ::Array{Float64,1}, ::Int64) at .\\In[51]:5",
      " [3] top-level scope at In[53]:4",
      " [4] include_string(::Function, ::Module, ::String, ::String) at .\\loading.jl:1091"
     ]
    }
   ],
   "source": [
    "x = [-1.0, 2.0, 3.0, 5.0]\n",
    "y = [0.0, 1.0, 1.0, 2.0]\n",
    "\n",
    "interpolacao_funcao(x, y, 3)"
   ]
  },
  {
   "cell_type": "code",
   "execution_count": 54,
   "metadata": {},
   "outputs": [
    {
     "ename": "LoadError",
     "evalue": "\u001b[91mUndefVarError: Polynomial not defined\u001b[39m",
     "output_type": "error",
     "traceback": [
      "\u001b[91mUndefVarError: Polynomial not defined\u001b[39m",
      "",
      "Stacktrace:",
      " [1] lagrange(::Array{Float64,1}, ::Array{Float64,1}, ::Int64) at .\\In[47]:13",
      " [2] interpolacao_funcao(::Array{Float64,1}, ::Array{Float64,1}, ::Int64) at .\\In[51]:5",
      " [3] top-level scope at In[54]:4",
      " [4] include_string(::Function, ::Module, ::String, ::String) at .\\loading.jl:1091"
     ]
    }
   ],
   "source": [
    "x = [0.0, 2.0, 4.0]\n",
    "y = [-2.0, 1.0, 4.0]\n",
    "\n",
    "interpolacao_funcao(x, y, 2)"
   ]
  },
  {
   "cell_type": "markdown",
   "metadata": {},
   "source": [
    "### Aplicação de um x em uma função"
   ]
  },
  {
   "cell_type": "code",
   "execution_count": 55,
   "metadata": {},
   "outputs": [
    {
     "data": {
      "text/plain": [
       "applica (generic function with 1 method)"
      ]
     },
     "execution_count": 55,
     "metadata": {},
     "output_type": "execute_result"
    }
   ],
   "source": [
    "\"\"\" Função auxiliar que transforma uma lista de coeficientes num polinômio centrado em x0 que também é dado como entrada.\n",
    "\n",
    "Ex de entrada:\n",
    "[ c, b, a ]\n",
    "Saída:\n",
    "ax^2 + bx + c\n",
    "\"\"\"\n",
    "\n",
    "function applica(coeficientes, valor_de_x) # Recebe a lista de coeficientes e o valor x0 \n",
    "    grau_x = 1                             # Começamos com x^0 no polinômio, ou seja, o termo de coeficientes constante\n",
    "    valor_do_polinomio_no_x = 0            # Polinômio começa com valor igual a 0\n",
    "    for i = 1:length(coeficientes)         \n",
    "        valor_do_polinomio_no_x += coeficientes[i] * grau_x # x0^(i-1) * C_i\n",
    "        grau_x *= valor_de_x # x0^(i-1) = x0^i\n",
    "    end\n",
    "    return valor_do_polinomio_no_x # retorna o valor do polinômio em x0\n",
    "end"
   ]
  },
  {
   "cell_type": "markdown",
   "metadata": {},
   "source": [
    "### Regressão Linear de Funções Lineares"
   ]
  },
  {
   "cell_type": "code",
   "execution_count": 56,
   "metadata": {},
   "outputs": [
    {
     "data": {
      "text/plain": [
       "regressão_coeficientes_lineares (generic function with 1 method)"
      ]
     },
     "execution_count": 56,
     "metadata": {},
     "output_type": "execute_result"
    }
   ],
   "source": [
    "function regressão_coeficientes_lineares(pontos_x,pontos_y, grau) #Feito\n",
    "    V=matriz_de_vandermonde(pontos_x,grau)  #matrix alta #muitas linhas e poucas colunas \n",
    "    coeficientes= resolver_um_sistema_por_minimos_quadrados(V,pontos_y)\n",
    "    return coeficientes\n",
    "end"
   ]
  },
  {
   "cell_type": "code",
   "execution_count": 57,
   "metadata": {},
   "outputs": [
    {
     "ename": "LoadError",
     "evalue": "\u001b[91mUndefVarError: resolver_um_sistema_por_minimos_quadrados not defined\u001b[39m",
     "output_type": "error",
     "traceback": [
      "\u001b[91mUndefVarError: resolver_um_sistema_por_minimos_quadrados not defined\u001b[39m",
      "",
      "Stacktrace:",
      " [1] regressão_coeficientes_lineares(::StepRangeLen{Float64,Base.TwicePrecision{Float64},Base.TwicePrecision{Float64}}, ::Array{Float64,1}, ::Int64) at .\\In[56]:3",
      " [2] top-level scope at In[57]:8",
      " [3] include_string(::Function, ::Module, ::String, ::String) at .\\loading.jl:1091"
     ]
    }
   ],
   "source": [
    "grau = 1\n",
    "\n",
    "n = 21\n",
    "x = range(-10, 10, length=n)\n",
    "y = zeros(n)\n",
    "y[11] = 1;\n",
    "\n",
    "a = regressão_coeficientes_lineares(x, y, grau) # recebe os coeficientes\n",
    "println(a)  # printa os coeficientes\n",
    "\n",
    "# Plota os pontos junto com a curva que conseguimos que minimiza a soma dos quadrados das distâncias\n",
    "scatter(x,y,leg=false)\n",
    "plot!(x -> a[1] + a[2] * x, extrema(x)..., c=:red, lw=2)\n",
    "title!(\"Mínimos Quadrados\")"
   ]
  },
  {
   "cell_type": "code",
   "execution_count": 58,
   "metadata": {},
   "outputs": [
    {
     "ename": "LoadError",
     "evalue": "\u001b[91mUndefVarError: resolver_um_sistema_por_minimos_quadrados not defined\u001b[39m",
     "output_type": "error",
     "traceback": [
      "\u001b[91mUndefVarError: resolver_um_sistema_por_minimos_quadrados not defined\u001b[39m",
      "",
      "Stacktrace:",
      " [1] regressão_coeficientes_lineares(::Array{Float64,1}, ::Array{Int64,1}, ::Int64) at .\\In[56]:3",
      " [2] top-level scope at In[58]:4",
      " [3] include_string(::Function, ::Module, ::String, ::String) at .\\loading.jl:1091"
     ]
    }
   ],
   "source": [
    "x = [23.2, 24, 23.9, 26.3, 26.5, 26.8, 26.8, 27.6, 27.6, 28.5, 28.4, 28.7, 29.1, 29.5, 29.4, 29.4, 30.4, 30.4, 30.9, 31, 31.3, 31.4, 31.5, 31.8, 31.9, 31.8, 32, 32.7, 32.8, 33.5, 35, 35, 36.2, 37.4, 38]\n",
    "y = [242, 290, 340, 363, 430, 450, 500, 390, 450, 500, 475, 500, 500, 340, 600, 600, 700, 700, 610, 650, 575, 685, 620, 680, 700, 725, 720, 714, 850, 1000, 920, 955, 925, 975, 950]\n",
    "\n",
    "a = regressão_coeficientes_lineares(x, y, grau) # recebe os coeficientes\n",
    "println(a)  # printa os coeficientes\n",
    "\n",
    "# Plota os pontos junto com a curva que conseguimos que minimiza a soma dos quadrados das distâncias\n",
    "scatter(x,y,leg=false)\n",
    "plot!(x -> a[1] + a[2] * x, extrema(x)..., c=:red, lw=2)\n",
    "title!(\"Mínimos Quadrados\")"
   ]
  },
  {
   "cell_type": "code",
   "execution_count": 59,
   "metadata": {},
   "outputs": [
    {
     "ename": "LoadError",
     "evalue": "\u001b[91mUndefVarError: resolver_um_sistema_por_minimos_quadrados not defined\u001b[39m",
     "output_type": "error",
     "traceback": [
      "\u001b[91mUndefVarError: resolver_um_sistema_por_minimos_quadrados not defined\u001b[39m",
      "",
      "Stacktrace:",
      " [1] regressão_coeficientes_lineares(::Array{Any,1}, ::Array{Any,1}, ::Int64) at .\\In[56]:3",
      " [2] top-level scope at In[59]:10",
      " [3] include_string(::Function, ::Module, ::String, ::String) at .\\loading.jl:1091"
     ]
    }
   ],
   "source": [
    "x = []\n",
    "y = []\n",
    "\n",
    "for i in 1:1000\n",
    "    push!(x, i)\n",
    "    push!(y, i)\n",
    "    \n",
    "end\n",
    "\n",
    "a = regressão_coeficientes_lineares(x, y, grau) # recebe os coeficientes\n",
    "println(a)  # printa os coeficientes\n",
    "\n",
    "# Plota os pontos junto com a curva que conseguimos que minimiza a soma dos quadrados das distâncias\n",
    "scatter(x,y,leg=false)\n",
    "plot!(x -> a[1] + a[2] * x, extrema(x)..., c=:red, lw=2)\n",
    "title!(\"Mínimos Quadrados\")"
   ]
  },
  {
   "cell_type": "markdown",
   "metadata": {},
   "source": [
    "### Regressão Linear de Funções Exponenciais"
   ]
  },
  {
   "cell_type": "code",
   "execution_count": 60,
   "metadata": {},
   "outputs": [
    {
     "data": {
      "text/plain": [
       "regressão_função_exponencial (generic function with 1 method)"
      ]
     },
     "execution_count": 60,
     "metadata": {},
     "output_type": "execute_result"
    }
   ],
   "source": [
    "function regressão_função_exponencial(pontos_x,pontos_y, grau) #coeficientes não lineares\n",
    "    #dicionário (\"linearização\") é feito manualmente ou por uma tabela\n",
    "    pontos_y_barra = zeros(length(pontos_y))\n",
    "    for i in 1:length(pontos_x)\n",
    "        pontos_y_barra[i] = log(pontos_y[i])\n",
    "    end\n",
    "    pontos_x_barra = pontos_x\n",
    "    \n",
    "    #resolver regresssão com coeficientes lineares no \"mundo barra\"\n",
    "    coeficientes_barra = regressão_coeficientes_lineares(pontos_x_barra,pontos_y_barra, grau)\n",
    "    #voltar para o mundo original\n",
    "    return coeficientes_barra\n",
    "end"
   ]
  },
  {
   "cell_type": "code",
   "execution_count": 61,
   "metadata": {},
   "outputs": [
    {
     "ename": "LoadError",
     "evalue": "\u001b[91mUndefVarError: resolver_um_sistema_por_minimos_quadrados not defined\u001b[39m",
     "output_type": "error",
     "traceback": [
      "\u001b[91mUndefVarError: resolver_um_sistema_por_minimos_quadrados not defined\u001b[39m",
      "",
      "Stacktrace:",
      " [1] regressão_coeficientes_lineares(::Array{Int64,1}, ::Array{Float64,1}, ::Int64) at .\\In[56]:3",
      " [2] regressão_função_exponencial(::Array{Int64,1}, ::Array{Int64,1}, ::Int64) at .\\In[60]:10",
      " [3] top-level scope at In[61]:4",
      " [4] include_string(::Function, ::Module, ::String, ::String) at .\\loading.jl:1091"
     ]
    }
   ],
   "source": [
    "pontos_x = [45, 99, 31, 57, 37, 85, 21, 64, 17, 41, 103]\n",
    "pontos_y = [33, 72, 19, 27, 23, 62, 24, 32, 18, 36, 76]\n",
    "\n",
    "Coeficientes = regressão_função_exponencial(pontos_x, pontos_y, 1)\n",
    "polinomio(x) = (ℯ^Coeficientes[1])*ℯ^(x*Coeficientes[2])\n",
    "scatter(pontos_x,pontos_y,leg=false)\n",
    "plot!(pontos_x -> polinomio(pontos_x), c=:red, lw=2)\n",
    "title!(\"Mínimos Quadrados\")"
   ]
  },
  {
   "cell_type": "code",
   "execution_count": 62,
   "metadata": {},
   "outputs": [
    {
     "ename": "LoadError",
     "evalue": "\u001b[91mUndefVarError: resolver_um_sistema_por_minimos_quadrados not defined\u001b[39m",
     "output_type": "error",
     "traceback": [
      "\u001b[91mUndefVarError: resolver_um_sistema_por_minimos_quadrados not defined\u001b[39m",
      "",
      "Stacktrace:",
      " [1] regressão_coeficientes_lineares(::Array{Any,1}, ::Array{Float64,1}, ::Int64) at .\\In[56]:3",
      " [2] regressão_função_exponencial(::Array{Any,1}, ::Array{Any,1}, ::Int64) at .\\In[60]:10",
      " [3] top-level scope at In[62]:9",
      " [4] include_string(::Function, ::Module, ::String, ::String) at .\\loading.jl:1091"
     ]
    }
   ],
   "source": [
    "pontos_x = []\n",
    "pontos_y = []\n",
    "\n",
    "for i in 0:14\n",
    "    push!(pontos_x, i)\n",
    "    push!(pontos_y, 2^i)\n",
    "end    \n",
    "\n",
    "Coeficientes = regressão_função_exponencial(pontos_x, pontos_y, 1)\n",
    "polinomio(x) = (ℯ^Coeficientes[1])*ℯ^(x*Coeficientes[2])\n",
    "scatter(pontos_x,pontos_y,leg=false)\n",
    "plot!(pontos_x -> polinomio(pontos_x), c=:red, lw=2)\n",
    "title!(\"Mínimos Quadrados\")"
   ]
  },
  {
   "cell_type": "code",
   "execution_count": 63,
   "metadata": {},
   "outputs": [
    {
     "ename": "LoadError",
     "evalue": "\u001b[91mUndefVarError: resolver_um_sistema_por_minimos_quadrados not defined\u001b[39m",
     "output_type": "error",
     "traceback": [
      "\u001b[91mUndefVarError: resolver_um_sistema_por_minimos_quadrados not defined\u001b[39m",
      "",
      "Stacktrace:",
      " [1] regressão_coeficientes_lineares(::Array{Int64,1}, ::Array{Float64,1}, ::Int64) at .\\In[56]:3",
      " [2] regressão_função_exponencial(::Array{Int64,1}, ::Array{Int64,1}, ::Int64) at .\\In[60]:10",
      " [3] top-level scope at In[63]:5",
      " [4] include_string(::Function, ::Module, ::String, ::String) at .\\loading.jl:1091"
     ]
    }
   ],
   "source": [
    "pontos_x = [0, 1, 2, 3, 4, 5, 6, 7, 8, 9, 10, 11, 12, 13, 14, 15, 16, 17, 18]\n",
    "pontos_y = [78134, 84040, 92300, 100567, 130795, 139200, 165919, 199314, 221540, 243737, 250612, 254959, 266444, 278993,\n",
    "            300915, 342436, 353974, 408428, 501159]\n",
    "\n",
    "Coeficientes = regressão_função_exponencial(pontos_x, pontos_y, 1)\n",
    "polinomio(x) = (ℯ^Coeficientes[1])*ℯ^(x*Coeficientes[2])\n",
    "scatter(pontos_x,pontos_y,leg=false)\n",
    "plot!(pontos_x -> polinomio(pontos_x), c=:red, lw=2)\n",
    "title!(\"Mínimos Quadrados\")"
   ]
  },
  {
   "cell_type": "markdown",
   "metadata": {},
   "source": [
    "### Perguntar"
   ]
  },
  {
   "cell_type": "code",
   "execution_count": 64,
   "metadata": {},
   "outputs": [
    {
     "ename": "LoadError",
     "evalue": "\u001b[91msyntax: invalid identifier name \"?\"\u001b[39m",
     "output_type": "error",
     "traceback": [
      "\u001b[91msyntax: invalid identifier name \"?\"\u001b[39m",
      "",
      "Stacktrace:",
      " [1] top-level scope at In[64]:4",
      " [2] include_string(::Function, ::Module, ::String, ::String) at .\\loading.jl:1091"
     ]
    }
   ],
   "source": [
    "# Perguntar pra ele\n",
    "function regresso_função_outra_funçao(pontos_x,pontos_y, grau) #coeficientes não lineares\n",
    "    #dicionário (\"linearização\") é feito manualmente ou por uma tabela\n",
    "    ??????????????\n",
    "    \n",
    "    #resolver regresssão com coeficientes lineares no \"mundo barra\"\n",
    "    regressão_coeficientes_lineares(pontos_x_barra,pontos_y_barra, grau)\n",
    "    \n",
    "    #voltar para o mundo original\n",
    "    ???????????????????????\n",
    "    \n",
    "    return coeficientes\n",
    "end"
   ]
  },
  {
   "cell_type": "markdown",
   "metadata": {},
   "source": [
    "### Resolver um Sistema por Mínimos Quadrados"
   ]
  },
  {
   "cell_type": "code",
   "execution_count": 65,
   "metadata": {},
   "outputs": [
    {
     "data": {
      "text/plain": [
       "resolver_um_sistema_por_minimos_quadrados (generic function with 1 method)"
      ]
     },
     "execution_count": 65,
     "metadata": {},
     "output_type": "execute_result"
    }
   ],
   "source": [
    "# Thierry\n",
    "function resolver_um_sistema_por_minimos_quadrados(A,b) #feito\n",
    "    x=resolver_um_sistema(A'*A,A'*b)\n",
    "    return x\n",
    "end"
   ]
  },
  {
   "cell_type": "markdown",
   "metadata": {},
   "source": [
    "### Integração pela Regra do Retângulo"
   ]
  },
  {
   "cell_type": "code",
   "execution_count": 66,
   "metadata": {},
   "outputs": [
    {
     "data": {
      "text/plain": [
       "regra_do_retangulo (generic function with 1 method)"
      ]
     },
     "execution_count": 66,
     "metadata": {},
     "output_type": "execute_result"
    }
   ],
   "source": [
    "\"\"\" O objetivo dessa função é aproximar a integração da função no intervalo [a,b] utilizando \n",
    "o somatório de n retângulos dados pela base sendo o intervalo [x_k,x_k+1] e a altura como a \n",
    "média das funções nesses dois pontos. O retorno será a estimativa da integral.\"\"\"\n",
    "\n",
    "function regra_do_retangulo(funcao,a,b,n)\n",
    "    integral = 0.0\n",
    "    h = (b-a)/n \n",
    "    for i in 1:n\n",
    "        f = (funcao( a+h*i ) + funcao( a+h*(i-1) ))/2\n",
    "        integral = integral + f*h\n",
    "    end\n",
    "    return integral\n",
    "end"
   ]
  },
  {
   "cell_type": "code",
   "execution_count": 67,
   "metadata": {},
   "outputs": [
    {
     "data": {
      "text/plain": [
       "70.83750000000002"
      ]
     },
     "execution_count": 67,
     "metadata": {},
     "output_type": "execute_result"
    }
   ],
   "source": [
    "f(x) = 2x^2-x\n",
    "regra_do_retangulo(f,0,5,100)"
   ]
  },
  {
   "cell_type": "code",
   "execution_count": 68,
   "metadata": {},
   "outputs": [
    {
     "data": {
      "text/plain": [
       "4.047082902554811"
      ]
     },
     "execution_count": 68,
     "metadata": {},
     "output_type": "execute_result"
    }
   ],
   "source": [
    "f(x) = log(x)\n",
    "regra_do_retangulo(f,1,5,100)"
   ]
  },
  {
   "cell_type": "code",
   "execution_count": 69,
   "metadata": {},
   "outputs": [
    {
     "data": {
      "text/plain": [
       "-1.0408340855860843e-15"
      ]
     },
     "execution_count": 69,
     "metadata": {},
     "output_type": "execute_result"
    }
   ],
   "source": [
    "f(x) = sin(x)\n",
    "regra_do_retangulo(f,-10,10,100)"
   ]
  },
  {
   "cell_type": "markdown",
   "metadata": {},
   "source": [
    "### Integração pela Regra do Trapézio"
   ]
  },
  {
   "cell_type": "code",
   "execution_count": 70,
   "metadata": {},
   "outputs": [
    {
     "data": {
      "text/plain": [
       "regra_do_trapezio (generic function with 1 method)"
      ]
     },
     "execution_count": 70,
     "metadata": {},
     "output_type": "execute_result"
    }
   ],
   "source": [
    "\"\"\" O objetivo dessa função é aproximar a integração da função no intervalo [a,b] utilizando o \n",
    "somatório de n trapézios dados pelo intervalo [x_k,x_k+1] e as duas bases como as funções nesses \n",
    "dois pontos. O retorno será a estimativa da integral.\"\"\"\n",
    "\n",
    "function regra_do_trapezio(funcao,a,b,n)\n",
    "    soma = f(a)+f(b)\n",
    "    for i = 1:n-1\n",
    "        x = a + i*(b-a)/n\n",
    "        soma = soma + 2*f(x)\n",
    "    end\n",
    "    \n",
    "    return soma * (b-a) / (2*n)\n",
    "end"
   ]
  },
  {
   "cell_type": "code",
   "execution_count": 71,
   "metadata": {},
   "outputs": [
    {
     "data": {
      "text/plain": [
       "70.8375"
      ]
     },
     "execution_count": 71,
     "metadata": {},
     "output_type": "execute_result"
    }
   ],
   "source": [
    "f(x) = 2x^2-x\n",
    "regra_do_trapezio(f,0,5,100)"
   ]
  },
  {
   "cell_type": "code",
   "execution_count": 72,
   "metadata": {},
   "outputs": [
    {
     "data": {
      "text/plain": [
       "4.047082902554812"
      ]
     },
     "execution_count": 72,
     "metadata": {},
     "output_type": "execute_result"
    }
   ],
   "source": [
    "f(x) = log(x)\n",
    "regra_do_trapezio(f,1,5,100)"
   ]
  },
  {
   "cell_type": "code",
   "execution_count": 73,
   "metadata": {},
   "outputs": [
    {
     "data": {
      "text/plain": [
       "1.7763568394002506e-16"
      ]
     },
     "execution_count": 73,
     "metadata": {},
     "output_type": "execute_result"
    }
   ],
   "source": [
    "f(x) = sin(x)\n",
    "regra_do_trapezio(f,-10,10,100)"
   ]
  },
  {
   "cell_type": "markdown",
   "metadata": {},
   "source": [
    "### Integração pela Regra do Simpson"
   ]
  },
  {
   "cell_type": "code",
   "execution_count": 74,
   "metadata": {},
   "outputs": [
    {
     "data": {
      "text/plain": [
       "regra_de_simpson (generic function with 1 method)"
      ]
     },
     "execution_count": 74,
     "metadata": {},
     "output_type": "execute_result"
    }
   ],
   "source": [
    "\"\"\" O objetivo dessa função é aproximar a integração da função no intervalo [a,b] dividindo-o\n",
    "em n (sendo n necessariamente par) subintervalos e utilizando a regra de simpson em cada um deles.\n",
    "A regra de simpson em cada um desses subintervalos consiste em aproximar o valor da integral nesse\n",
    "subintervalo pegando 3 pontos (as duas extremidades do subintervalo e um médio), e logo em seguida\n",
    "aproximando a curva que os descreve usando um polinômio interpolador de grau dois.\n",
    "\n",
    "A função retorna uma aproximação para a interval definida dada pelo input\n",
    "\n",
    "ERRO: Essa aproximação tem erro inferior a f^4(x) * 1/180 * (b - a)[(b - a)/n]^4, sendo\n",
    "f^4(x) o valor máximo da quarta derivada de f(x) no intervalo [a, b]\n",
    "\n",
    "@param: - f, função f(x) que queremos integrar\n",
    "        - a, primeiro ponto do intervalo\n",
    "        - b, último ponto do intervalo\n",
    "        - n denota a metade da quantidade de subintervalos que pretendemos dividir nosso intervalo\n",
    "\n",
    "@return: - aproximação para integral de f no intervalo [a,b] dividido em 2n partes\n",
    "\"\"\"\n",
    "\n",
    "# regra de simpson composta\n",
    "function regra_de_simpson(f, a, b, n)\n",
    "    @assert(n % 2 == 0, \"você precisa escolher um n par!\")\n",
    "    \n",
    "    # h denota o tamanho do subintervalo\n",
    "    h = (b - a) / n / 2.0\n",
    "\n",
    "    # adicionamos de antemão a contribuição dos\n",
    "    # pontos nas extremidades\n",
    "    S = f(a) + f(b)\n",
    "\n",
    "    # vamos somar agora a imagem dos pontos médios\n",
    "    for i in 1 : (n << 1)-1\n",
    "        if (i & 1 == 1)\n",
    "            # termo ímpar tem peso 4\n",
    "            S += f(a + h * i) * 4\n",
    "        else \n",
    "            # termo par tem peso 2\n",
    "            S += f(a + h * i) * 2\n",
    "        end\n",
    "    end\n",
    "\n",
    "    return S / 3.0 * h\n",
    "end"
   ]
  },
  {
   "cell_type": "code",
   "execution_count": 75,
   "metadata": {},
   "outputs": [
    {
     "name": "stdout",
     "output_type": "stream",
     "text": [
      "-150.87986847952268\n"
     ]
    }
   ],
   "source": [
    "function f(x)\n",
    "    return x*x - 16*x - exp(x)\n",
    "end\n",
    "\n",
    "println(regra_de_simpson(f, 1.0, 4.0, 48))"
   ]
  },
  {
   "cell_type": "code",
   "execution_count": 76,
   "metadata": {},
   "outputs": [
    {
     "name": "stdout",
     "output_type": "stream",
     "text": [
      "0.8820813907624211\n"
     ]
    }
   ],
   "source": [
    "function f(x) \n",
    "    return exp(-x^2)\n",
    "end\n",
    "\n",
    "# nesse caso temos uma integral sem uma primitiva analítica\n",
    "println(regra_de_simpson(f, 0.0, 2.0, 2112));"
   ]
  },
  {
   "cell_type": "code",
   "execution_count": 77,
   "metadata": {},
   "outputs": [
    {
     "name": "stdout",
     "output_type": "stream",
     "text": [
      "1.0000000000000049\n"
     ]
    }
   ],
   "source": [
    "function f(x) \n",
    "    return cos(x)\n",
    "end\n",
    "\n",
    "println(regra_de_simpson(f, 0.0, acos(-1.0)/2.0, 5322))"
   ]
  },
  {
   "cell_type": "markdown",
   "metadata": {},
   "source": [
    "### Obter o Máximo de uma Função"
   ]
  },
  {
   "cell_type": "code",
   "execution_count": 142,
   "metadata": {},
   "outputs": [
    {
     "data": {
      "text/plain": [
       "maximar_uma_funcao (generic function with 5 methods)"
      ]
     },
     "execution_count": 142,
     "metadata": {},
     "output_type": "execute_result"
    }
   ],
   "source": [
    "# A estratégia é parecida com a dos pontos críticos, com exceção que checamos todos eles\n",
    "# Também checamos as laterais para saber se as laterais são os maiores valores\n",
    "# E por fim precisamos do denominador da função (caso haja) para verificar por assíntotas verticais\n",
    "# Luan\n",
    "function maximar_uma_funcao(funcao, derivada, segunda_derivada, esq, dir, denominador=0, qtd_iterações=1e2, erro=1e-8)\n",
    "    \n",
    "    # Inicializamos o maximo global\n",
    "    maximo_global = []\n",
    "    \n",
    "    # Se o denominador não for o padrão\n",
    "    if denominador != 0\n",
    "        \n",
    "        # Verificamos a bisseção para achar o 0\n",
    "        b = bissecao(denominador, esq, dir)\n",
    "        \n",
    "        # Se o retorno não for um erro (por não existir raízes no denominador)\n",
    "        # Retornamos o ponto da assíntota vertical\n",
    "        if typeof(b) != String && funcao(b) == Inf\n",
    "            return b\n",
    "        end\n",
    "    end\n",
    "    \n",
    "    # Começamos uma lista de intervalos para o método da bisseção e selecionaremos os propícios\n",
    "    lista_de_intervalos = Any[[esq, dir]]\n",
    "    intervalos_propicios = Any[]\n",
    "    \n",
    "    # Escolhemos uma quantidade de iterações para diminuir o intervalo\n",
    "    for j in 1:qtd_iterações\n",
    "        \n",
    "        # Se a lista de intervalos estiver vazia, não temos mais o que procurar\n",
    "        if size(lista_de_intervalos, 1) == 0\n",
    "            break\n",
    "        end\n",
    "        \n",
    "        # Pega o primeiro intervalo da lista\n",
    "        intervalo = lista_de_intervalos[1]\n",
    "        \n",
    "        # Pega os pontos desse intervalo\n",
    "        a = intervalo[1]\n",
    "        b = intervalo[2]\n",
    "        \n",
    "        # Calcula o ponto médio do intervalo\n",
    "        metade_do_intervalo = (a+b)/2.0\n",
    "        \n",
    "        # Retira o intervalo da lista\n",
    "        deleteat!(lista_de_intervalos, 1)\n",
    "\n",
    "        # Sendo x a metade do intervalo, se um dos intervalos criados [a, x] ou [x, b] satisfizer as condições\n",
    "        # Adicionamos ele a uma outra lista contendo os intervalos bons\n",
    "        # Caso contrário adicionamos eles a nossa lista de intervalos\n",
    "        if derivada(a)*derivada(metade_do_intervalo) <= 0\n",
    "            push!(intervalos_propicios, [a, metade_do_intervalo])\n",
    "        else\n",
    "            push!(lista_de_intervalos, [a, metade_do_intervalo])\n",
    "        end\n",
    "        \n",
    "        if derivada(metade_do_intervalo)*derivada(b) <= 0\n",
    "            push!(intervalos_propicios, [metade_do_intervalo, b])\n",
    "        else\n",
    "            push!(lista_de_intervalos, [metade_do_intervalo, b])\n",
    "        end\n",
    "        \n",
    "    end\n",
    "    \n",
    "    maximos_locais = []\n",
    "    \n",
    "    # Checamos todos os intervalos\n",
    "    for i in 1:size(intervalos_propicios, 1)\n",
    "        \n",
    "        # Utilizando a bissecao para achar o ponto\n",
    "        x = bissecao(derivada, intervalos_propicios[i][1], intervalos_propicios[i][2], erro)\n",
    "    \n",
    "        # Se for maximo local, colocamos na lista para verificar se é máximo global\n",
    "        if segunda_derivada(x) <= 0\n",
    "            push!(maximos_locais, x)\n",
    "        end\n",
    "    end\n",
    "    \n",
    "    # Achamos o maximo global\n",
    "    if size(maximos_locais, 1) > 0\n",
    "        \n",
    "        # Verificamos cada um dos maximos locais\n",
    "        for x in maximos_locais\n",
    "            if (size(maximo_global, 1) > 0)\n",
    "                if (maximo_global[1][2] < funcao(x))\n",
    "                    deleteat!(maximo_global, 1)\n",
    "                    push!(maximo_global, [x, funcao(x)])\n",
    "                end\n",
    "            else\n",
    "                push!(maximo_global, [x, funcao(x)])\n",
    "            end\n",
    "        end\n",
    "        \n",
    "    end\n",
    "    \n",
    "    # E verificamos as laterais\n",
    "    if (size(maximo_global, 1) > 0)\n",
    "        if maximo_global[1][2] < funcao(esq)\n",
    "            deleteat!(maximo_global, 1)\n",
    "            push!(maximo_global, [esq, funcao(esq)])\n",
    "        end\n",
    "    else\n",
    "        push!(maximo_global, [esq, funcao(esq)])\n",
    "    end\n",
    "    if maximo_global[1][2] < funcao(dir)\n",
    "        push!(maximo_global, [dir, funcao(dir)])\n",
    "    end\n",
    "        \n",
    "    return maximo_global[1][1]\n",
    "end"
   ]
  },
  {
   "cell_type": "code",
   "execution_count": 143,
   "metadata": {},
   "outputs": [
    {
     "data": {
      "text/plain": [
       "Inf"
      ]
     },
     "execution_count": 143,
     "metadata": {},
     "output_type": "execute_result"
    }
   ],
   "source": [
    "# Teste 1\n",
    "\n",
    "f(x) = 1/x\n",
    "fd(x) = -1/x^2\n",
    "fdd(x) = 2/x^3\n",
    "esq = -1\n",
    "dir = 1\n",
    "d(x) = x\n",
    "p = maximar_uma_funcao(f, fd, fdd, esq, dir, d)\n",
    "f(p)"
   ]
  },
  {
   "cell_type": "code",
   "execution_count": 154,
   "metadata": {},
   "outputs": [
    {
     "data": {
      "image/svg+xml": [
       "<?xml version=\"1.0\" encoding=\"utf-8\"?>\n",
       "<svg xmlns=\"http://www.w3.org/2000/svg\" xmlns:xlink=\"http://www.w3.org/1999/xlink\" width=\"600\" height=\"400\" viewBox=\"0 0 2400 1600\">\n",
       "<defs>\n",
       "  <clipPath id=\"clip570\">\n",
       "    <rect x=\"0\" y=\"0\" width=\"2400\" height=\"1600\"/>\n",
       "  </clipPath>\n",
       "</defs>\n",
       "<path clip-path=\"url(#clip570)\" d=\"\n",
       "M0 1600 L2400 1600 L2400 0 L0 0  Z\n",
       "  \" fill=\"#ffffff\" fill-rule=\"evenodd\" fill-opacity=\"1\"/>\n",
       "<defs>\n",
       "  <clipPath id=\"clip571\">\n",
       "    <rect x=\"480\" y=\"0\" width=\"1681\" height=\"1600\"/>\n",
       "  </clipPath>\n",
       "</defs>\n",
       "<path clip-path=\"url(#clip570)\" d=\"\n",
       "M156.112 1486.45 L2352.76 1486.45 L2352.76 47.2441 L156.112 47.2441  Z\n",
       "  \" fill=\"#ffffff\" fill-rule=\"evenodd\" fill-opacity=\"1\"/>\n",
       "<defs>\n",
       "  <clipPath id=\"clip572\">\n",
       "    <rect x=\"156\" y=\"47\" width=\"2198\" height=\"1440\"/>\n",
       "  </clipPath>\n",
       "</defs>\n",
       "<polyline clip-path=\"url(#clip572)\" style=\"stroke:#000000; stroke-width:2; stroke-opacity:0.1; fill:none\" points=\"\n",
       "  218.281,1486.45 218.281,47.2441 \n",
       "  \"/>\n",
       "<polyline clip-path=\"url(#clip572)\" style=\"stroke:#000000; stroke-width:2; stroke-opacity:0.1; fill:none\" points=\"\n",
       "  563.666,1486.45 563.666,47.2441 \n",
       "  \"/>\n",
       "<polyline clip-path=\"url(#clip572)\" style=\"stroke:#000000; stroke-width:2; stroke-opacity:0.1; fill:none\" points=\"\n",
       "  909.05,1486.45 909.05,47.2441 \n",
       "  \"/>\n",
       "<polyline clip-path=\"url(#clip572)\" style=\"stroke:#000000; stroke-width:2; stroke-opacity:0.1; fill:none\" points=\"\n",
       "  1254.43,1486.45 1254.43,47.2441 \n",
       "  \"/>\n",
       "<polyline clip-path=\"url(#clip572)\" style=\"stroke:#000000; stroke-width:2; stroke-opacity:0.1; fill:none\" points=\"\n",
       "  1599.82,1486.45 1599.82,47.2441 \n",
       "  \"/>\n",
       "<polyline clip-path=\"url(#clip572)\" style=\"stroke:#000000; stroke-width:2; stroke-opacity:0.1; fill:none\" points=\"\n",
       "  1945.2,1486.45 1945.2,47.2441 \n",
       "  \"/>\n",
       "<polyline clip-path=\"url(#clip572)\" style=\"stroke:#000000; stroke-width:2; stroke-opacity:0.1; fill:none\" points=\"\n",
       "  2290.59,1486.45 2290.59,47.2441 \n",
       "  \"/>\n",
       "<polyline clip-path=\"url(#clip570)\" style=\"stroke:#000000; stroke-width:4; stroke-opacity:1; fill:none\" points=\"\n",
       "  156.112,1486.45 2352.76,1486.45 \n",
       "  \"/>\n",
       "<polyline clip-path=\"url(#clip570)\" style=\"stroke:#000000; stroke-width:4; stroke-opacity:1; fill:none\" points=\"\n",
       "  218.281,1486.45 218.281,1469.18 \n",
       "  \"/>\n",
       "<polyline clip-path=\"url(#clip570)\" style=\"stroke:#000000; stroke-width:4; stroke-opacity:1; fill:none\" points=\"\n",
       "  563.666,1486.45 563.666,1469.18 \n",
       "  \"/>\n",
       "<polyline clip-path=\"url(#clip570)\" style=\"stroke:#000000; stroke-width:4; stroke-opacity:1; fill:none\" points=\"\n",
       "  909.05,1486.45 909.05,1469.18 \n",
       "  \"/>\n",
       "<polyline clip-path=\"url(#clip570)\" style=\"stroke:#000000; stroke-width:4; stroke-opacity:1; fill:none\" points=\"\n",
       "  1254.43,1486.45 1254.43,1469.18 \n",
       "  \"/>\n",
       "<polyline clip-path=\"url(#clip570)\" style=\"stroke:#000000; stroke-width:4; stroke-opacity:1; fill:none\" points=\"\n",
       "  1599.82,1486.45 1599.82,1469.18 \n",
       "  \"/>\n",
       "<polyline clip-path=\"url(#clip570)\" style=\"stroke:#000000; stroke-width:4; stroke-opacity:1; fill:none\" points=\"\n",
       "  1945.2,1486.45 1945.2,1469.18 \n",
       "  \"/>\n",
       "<polyline clip-path=\"url(#clip570)\" style=\"stroke:#000000; stroke-width:4; stroke-opacity:1; fill:none\" points=\"\n",
       "  2290.59,1486.45 2290.59,1469.18 \n",
       "  \"/>\n",
       "<path clip-path=\"url(#clip570)\" d=\"M 0 0 M188.038 1530.29 L217.714 1530.29 L217.714 1534.23 L188.038 1534.23 L188.038 1530.29 Z\" fill=\"#000000\" fill-rule=\"evenodd\" fill-opacity=\"1\" /><path clip-path=\"url(#clip570)\" d=\"M 0 0 M228.617 1543.18 L236.256 1543.18 L236.256 1516.82 L227.946 1518.49 L227.946 1514.23 L236.209 1512.56 L240.885 1512.56 L240.885 1543.18 L248.524 1543.18 L248.524 1547.12 L228.617 1547.12 L228.617 1543.18 Z\" fill=\"#000000\" fill-rule=\"evenodd\" fill-opacity=\"1\" /><path clip-path=\"url(#clip570)\" d=\"M 0 0 M563.666 1515.64 Q560.054 1515.64 558.226 1519.2 Q556.42 1522.75 556.42 1529.87 Q556.42 1536.98 558.226 1540.55 Q560.054 1544.09 563.666 1544.09 Q567.3 1544.09 569.105 1540.55 Q570.934 1536.98 570.934 1529.87 Q570.934 1522.75 569.105 1519.2 Q567.3 1515.64 563.666 1515.64 M563.666 1511.93 Q569.476 1511.93 572.531 1516.54 Q575.61 1521.12 575.61 1529.87 Q575.61 1538.6 572.531 1543.21 Q569.476 1547.79 563.666 1547.79 Q557.855 1547.79 554.777 1543.21 Q551.721 1538.6 551.721 1529.87 Q551.721 1521.12 554.777 1516.54 Q557.855 1511.93 563.666 1511.93 Z\" fill=\"#000000\" fill-rule=\"evenodd\" fill-opacity=\"1\" /><path clip-path=\"url(#clip570)\" d=\"M 0 0 M899.432 1543.18 L907.071 1543.18 L907.071 1516.82 L898.76 1518.49 L898.76 1514.23 L907.024 1512.56 L911.7 1512.56 L911.7 1543.18 L919.339 1543.18 L919.339 1547.12 L899.432 1547.12 L899.432 1543.18 Z\" fill=\"#000000\" fill-rule=\"evenodd\" fill-opacity=\"1\" /><path clip-path=\"url(#clip570)\" d=\"M 0 0 M1249.09 1543.18 L1265.41 1543.18 L1265.41 1547.12 L1243.46 1547.12 L1243.46 1543.18 Q1246.12 1540.43 1250.71 1535.8 Q1255.31 1531.15 1256.49 1529.81 Q1258.74 1527.28 1259.62 1525.55 Q1260.52 1523.79 1260.52 1522.1 Q1260.52 1519.34 1258.58 1517.61 Q1256.66 1515.87 1253.55 1515.87 Q1251.36 1515.87 1248.9 1516.63 Q1246.47 1517.4 1243.69 1518.95 L1243.69 1514.23 Q1246.52 1513.09 1248.97 1512.51 Q1251.42 1511.93 1253.46 1511.93 Q1258.83 1511.93 1262.03 1514.62 Q1265.22 1517.31 1265.22 1521.8 Q1265.22 1523.93 1264.41 1525.85 Q1263.62 1527.74 1261.52 1530.34 Q1260.94 1531.01 1257.84 1534.23 Q1254.73 1537.42 1249.09 1543.18 Z\" fill=\"#000000\" fill-rule=\"evenodd\" fill-opacity=\"1\" /><path clip-path=\"url(#clip570)\" d=\"M 0 0 M1604.07 1528.49 Q1607.42 1529.2 1609.3 1531.47 Q1611.2 1533.74 1611.2 1537.07 Q1611.2 1542.19 1607.68 1544.99 Q1604.16 1547.79 1597.68 1547.79 Q1595.5 1547.79 1593.19 1547.35 Q1590.89 1546.93 1588.44 1546.08 L1588.44 1541.56 Q1590.39 1542.7 1592.7 1543.28 Q1595.02 1543.86 1597.54 1543.86 Q1601.94 1543.86 1604.23 1542.12 Q1606.54 1540.38 1606.54 1537.07 Q1606.54 1534.02 1604.39 1532.31 Q1602.26 1530.57 1598.44 1530.57 L1594.41 1530.57 L1594.41 1526.73 L1598.63 1526.73 Q1602.08 1526.73 1603.9 1525.36 Q1605.73 1523.97 1605.73 1521.38 Q1605.73 1518.72 1603.83 1517.31 Q1601.96 1515.87 1598.44 1515.87 Q1596.52 1515.87 1594.32 1516.29 Q1592.12 1516.7 1589.48 1517.58 L1589.48 1513.42 Q1592.14 1512.68 1594.46 1512.31 Q1596.8 1511.93 1598.86 1511.93 Q1604.18 1511.93 1607.28 1514.37 Q1610.39 1516.77 1610.39 1520.89 Q1610.39 1523.76 1608.74 1525.75 Q1607.1 1527.72 1604.07 1528.49 Z\" fill=\"#000000\" fill-rule=\"evenodd\" fill-opacity=\"1\" /><path clip-path=\"url(#clip570)\" d=\"M 0 0 M1948.21 1516.63 L1936.41 1535.08 L1948.21 1535.08 L1948.21 1516.63 M1946.98 1512.56 L1952.86 1512.56 L1952.86 1535.08 L1957.8 1535.08 L1957.8 1538.97 L1952.86 1538.97 L1952.86 1547.12 L1948.21 1547.12 L1948.21 1538.97 L1932.61 1538.97 L1932.61 1534.46 L1946.98 1512.56 Z\" fill=\"#000000\" fill-rule=\"evenodd\" fill-opacity=\"1\" /><path clip-path=\"url(#clip570)\" d=\"M 0 0 M2280.86 1512.56 L2299.22 1512.56 L2299.22 1516.5 L2285.15 1516.5 L2285.15 1524.97 Q2286.17 1524.62 2287.18 1524.46 Q2288.2 1524.27 2289.22 1524.27 Q2295.01 1524.27 2298.39 1527.44 Q2301.77 1530.62 2301.77 1536.03 Q2301.77 1541.61 2298.3 1544.71 Q2294.82 1547.79 2288.5 1547.79 Q2286.33 1547.79 2284.06 1547.42 Q2281.81 1547.05 2279.41 1546.31 L2279.41 1541.61 Q2281.49 1542.74 2283.71 1543.3 Q2285.93 1543.86 2288.41 1543.86 Q2292.42 1543.86 2294.75 1541.75 Q2297.09 1539.64 2297.09 1536.03 Q2297.09 1532.42 2294.75 1530.31 Q2292.42 1528.21 2288.41 1528.21 Q2286.54 1528.21 2284.66 1528.62 Q2282.81 1529.04 2280.86 1529.92 L2280.86 1512.56 Z\" fill=\"#000000\" fill-rule=\"evenodd\" fill-opacity=\"1\" /><polyline clip-path=\"url(#clip572)\" style=\"stroke:#000000; stroke-width:2; stroke-opacity:0.1; fill:none\" points=\"\n",
       "  156.112,1445.73 2352.76,1445.73 \n",
       "  \"/>\n",
       "<polyline clip-path=\"url(#clip572)\" style=\"stroke:#000000; stroke-width:2; stroke-opacity:0.1; fill:none\" points=\"\n",
       "  156.112,1195.98 2352.76,1195.98 \n",
       "  \"/>\n",
       "<polyline clip-path=\"url(#clip572)\" style=\"stroke:#000000; stroke-width:2; stroke-opacity:0.1; fill:none\" points=\"\n",
       "  156.112,946.24 2352.76,946.24 \n",
       "  \"/>\n",
       "<polyline clip-path=\"url(#clip572)\" style=\"stroke:#000000; stroke-width:2; stroke-opacity:0.1; fill:none\" points=\"\n",
       "  156.112,696.495 2352.76,696.495 \n",
       "  \"/>\n",
       "<polyline clip-path=\"url(#clip572)\" style=\"stroke:#000000; stroke-width:2; stroke-opacity:0.1; fill:none\" points=\"\n",
       "  156.112,446.75 2352.76,446.75 \n",
       "  \"/>\n",
       "<polyline clip-path=\"url(#clip572)\" style=\"stroke:#000000; stroke-width:2; stroke-opacity:0.1; fill:none\" points=\"\n",
       "  156.112,197.006 2352.76,197.006 \n",
       "  \"/>\n",
       "<polyline clip-path=\"url(#clip570)\" style=\"stroke:#000000; stroke-width:4; stroke-opacity:1; fill:none\" points=\"\n",
       "  156.112,1486.45 156.112,47.2441 \n",
       "  \"/>\n",
       "<polyline clip-path=\"url(#clip570)\" style=\"stroke:#000000; stroke-width:4; stroke-opacity:1; fill:none\" points=\"\n",
       "  156.112,1445.73 182.472,1445.73 \n",
       "  \"/>\n",
       "<polyline clip-path=\"url(#clip570)\" style=\"stroke:#000000; stroke-width:4; stroke-opacity:1; fill:none\" points=\"\n",
       "  156.112,1195.98 182.472,1195.98 \n",
       "  \"/>\n",
       "<polyline clip-path=\"url(#clip570)\" style=\"stroke:#000000; stroke-width:4; stroke-opacity:1; fill:none\" points=\"\n",
       "  156.112,946.24 182.472,946.24 \n",
       "  \"/>\n",
       "<polyline clip-path=\"url(#clip570)\" style=\"stroke:#000000; stroke-width:4; stroke-opacity:1; fill:none\" points=\"\n",
       "  156.112,696.495 182.472,696.495 \n",
       "  \"/>\n",
       "<polyline clip-path=\"url(#clip570)\" style=\"stroke:#000000; stroke-width:4; stroke-opacity:1; fill:none\" points=\"\n",
       "  156.112,446.75 182.472,446.75 \n",
       "  \"/>\n",
       "<polyline clip-path=\"url(#clip570)\" style=\"stroke:#000000; stroke-width:4; stroke-opacity:1; fill:none\" points=\"\n",
       "  156.112,197.006 182.472,197.006 \n",
       "  \"/>\n",
       "<path clip-path=\"url(#clip570)\" d=\"M 0 0 M62.9365 1431.53 Q59.3254 1431.53 57.4967 1435.09 Q55.6912 1438.63 55.6912 1445.76 Q55.6912 1452.87 57.4967 1456.44 Q59.3254 1459.98 62.9365 1459.98 Q66.5707 1459.98 68.3763 1456.44 Q70.205 1452.87 70.205 1445.76 Q70.205 1438.63 68.3763 1435.09 Q66.5707 1431.53 62.9365 1431.53 M62.9365 1427.82 Q68.7467 1427.82 71.8022 1432.43 Q74.8809 1437.01 74.8809 1445.76 Q74.8809 1454.49 71.8022 1459.1 Q68.7467 1463.68 62.9365 1463.68 Q57.1264 1463.68 54.0477 1459.1 Q50.9921 1454.49 50.9921 1445.76 Q50.9921 1437.01 54.0477 1432.43 Q57.1264 1427.82 62.9365 1427.82 Z\" fill=\"#000000\" fill-rule=\"evenodd\" fill-opacity=\"1\" /><path clip-path=\"url(#clip570)\" d=\"M 0 0 M83.0984 1457.13 L87.9827 1457.13 L87.9827 1463.01 L83.0984 1463.01 L83.0984 1457.13 Z\" fill=\"#000000\" fill-rule=\"evenodd\" fill-opacity=\"1\" /><path clip-path=\"url(#clip570)\" d=\"M 0 0 M108.168 1431.53 Q104.557 1431.53 102.728 1435.09 Q100.922 1438.63 100.922 1445.76 Q100.922 1452.87 102.728 1456.44 Q104.557 1459.98 108.168 1459.98 Q111.802 1459.98 113.608 1456.44 Q115.436 1452.87 115.436 1445.76 Q115.436 1438.63 113.608 1435.09 Q111.802 1431.53 108.168 1431.53 M108.168 1427.82 Q113.978 1427.82 117.033 1432.43 Q120.112 1437.01 120.112 1445.76 Q120.112 1454.49 117.033 1459.1 Q113.978 1463.68 108.168 1463.68 Q102.358 1463.68 99.2789 1459.1 Q96.2234 1454.49 96.2234 1445.76 Q96.2234 1437.01 99.2789 1432.43 Q102.358 1427.82 108.168 1427.82 Z\" fill=\"#000000\" fill-rule=\"evenodd\" fill-opacity=\"1\" /><path clip-path=\"url(#clip570)\" d=\"M 0 0 M63.9319 1181.78 Q60.3208 1181.78 58.4921 1185.35 Q56.6865 1188.89 56.6865 1196.02 Q56.6865 1203.13 58.4921 1206.69 Q60.3208 1210.23 63.9319 1210.23 Q67.5661 1210.23 69.3717 1206.69 Q71.2004 1203.13 71.2004 1196.02 Q71.2004 1188.89 69.3717 1185.35 Q67.5661 1181.78 63.9319 1181.78 M63.9319 1178.08 Q69.742 1178.08 72.7976 1182.69 Q75.8763 1187.27 75.8763 1196.02 Q75.8763 1204.75 72.7976 1209.35 Q69.742 1213.94 63.9319 1213.94 Q58.1217 1213.94 55.043 1209.35 Q51.9875 1204.75 51.9875 1196.02 Q51.9875 1187.27 55.043 1182.69 Q58.1217 1178.08 63.9319 1178.08 Z\" fill=\"#000000\" fill-rule=\"evenodd\" fill-opacity=\"1\" /><path clip-path=\"url(#clip570)\" d=\"M 0 0 M84.0938 1207.38 L88.978 1207.38 L88.978 1213.26 L84.0938 1213.26 L84.0938 1207.38 Z\" fill=\"#000000\" fill-rule=\"evenodd\" fill-opacity=\"1\" /><path clip-path=\"url(#clip570)\" d=\"M 0 0 M99.2095 1178.7 L117.566 1178.7 L117.566 1182.64 L103.492 1182.64 L103.492 1191.11 Q104.51 1190.76 105.529 1190.6 Q106.547 1190.42 107.566 1190.42 Q113.353 1190.42 116.733 1193.59 Q120.112 1196.76 120.112 1202.18 Q120.112 1207.76 116.64 1210.86 Q113.168 1213.94 106.848 1213.94 Q104.672 1213.94 102.404 1213.57 Q100.159 1213.2 97.7511 1212.45 L97.7511 1207.76 Q99.8345 1208.89 102.057 1209.45 Q104.279 1210 106.756 1210 Q110.76 1210 113.098 1207.89 Q115.436 1205.79 115.436 1202.18 Q115.436 1198.57 113.098 1196.46 Q110.76 1194.35 106.756 1194.35 Q104.881 1194.35 103.006 1194.77 Q101.154 1195.19 99.2095 1196.07 L99.2095 1178.7 Z\" fill=\"#000000\" fill-rule=\"evenodd\" fill-opacity=\"1\" /><path clip-path=\"url(#clip570)\" d=\"M 0 0 M53.7467 959.585 L61.3856 959.585 L61.3856 933.219 L53.0754 934.886 L53.0754 930.626 L61.3393 928.96 L66.0152 928.96 L66.0152 959.585 L73.654 959.585 L73.654 963.52 L53.7467 963.52 L53.7467 959.585 Z\" fill=\"#000000\" fill-rule=\"evenodd\" fill-opacity=\"1\" /><path clip-path=\"url(#clip570)\" d=\"M 0 0 M83.0984 957.64 L87.9827 957.64 L87.9827 963.52 L83.0984 963.52 L83.0984 957.64 Z\" fill=\"#000000\" fill-rule=\"evenodd\" fill-opacity=\"1\" /><path clip-path=\"url(#clip570)\" d=\"M 0 0 M108.168 932.039 Q104.557 932.039 102.728 935.603 Q100.922 939.145 100.922 946.275 Q100.922 953.381 102.728 956.946 Q104.557 960.487 108.168 960.487 Q111.802 960.487 113.608 956.946 Q115.436 953.381 115.436 946.275 Q115.436 939.145 113.608 935.603 Q111.802 932.039 108.168 932.039 M108.168 928.335 Q113.978 928.335 117.033 932.941 Q120.112 937.525 120.112 946.275 Q120.112 955.001 117.033 959.608 Q113.978 964.191 108.168 964.191 Q102.358 964.191 99.2789 959.608 Q96.2234 955.001 96.2234 946.275 Q96.2234 937.525 99.2789 932.941 Q102.358 928.335 108.168 928.335 Z\" fill=\"#000000\" fill-rule=\"evenodd\" fill-opacity=\"1\" /><path clip-path=\"url(#clip570)\" d=\"M 0 0 M54.7421 709.84 L62.381 709.84 L62.381 683.474 L54.0708 685.141 L54.0708 680.882 L62.3347 679.215 L67.0106 679.215 L67.0106 709.84 L74.6494 709.84 L74.6494 713.775 L54.7421 713.775 L54.7421 709.84 Z\" fill=\"#000000\" fill-rule=\"evenodd\" fill-opacity=\"1\" /><path clip-path=\"url(#clip570)\" d=\"M 0 0 M84.0938 707.896 L88.978 707.896 L88.978 713.775 L84.0938 713.775 L84.0938 707.896 Z\" fill=\"#000000\" fill-rule=\"evenodd\" fill-opacity=\"1\" /><path clip-path=\"url(#clip570)\" d=\"M 0 0 M99.2095 679.215 L117.566 679.215 L117.566 683.15 L103.492 683.15 L103.492 691.622 Q104.51 691.275 105.529 691.113 Q106.547 690.928 107.566 690.928 Q113.353 690.928 116.733 694.099 Q120.112 697.271 120.112 702.687 Q120.112 708.266 116.64 711.368 Q113.168 714.446 106.848 714.446 Q104.672 714.446 102.404 714.076 Q100.159 713.706 97.7511 712.965 L97.7511 708.266 Q99.8345 709.4 102.057 709.956 Q104.279 710.511 106.756 710.511 Q110.76 710.511 113.098 708.405 Q115.436 706.298 115.436 702.687 Q115.436 699.076 113.098 696.97 Q110.76 694.863 106.756 694.863 Q104.881 694.863 103.006 695.28 Q101.154 695.697 99.2095 696.576 L99.2095 679.215 Z\" fill=\"#000000\" fill-rule=\"evenodd\" fill-opacity=\"1\" /><path clip-path=\"url(#clip570)\" d=\"M 0 0 M56.9643 460.095 L73.2837 460.095 L73.2837 464.03 L51.3393 464.03 L51.3393 460.095 Q54.0014 457.341 58.5847 452.711 Q63.1911 448.058 64.3717 446.716 Q66.617 444.193 67.4967 442.456 Q68.3994 440.697 68.3994 439.007 Q68.3994 436.253 66.455 434.517 Q64.5337 432.781 61.4319 432.781 Q59.2328 432.781 56.7791 433.544 Q54.3486 434.308 51.5708 435.859 L51.5708 431.137 Q54.3949 430.003 56.8486 429.424 Q59.3023 428.845 61.3393 428.845 Q66.7096 428.845 69.9041 431.531 Q73.0985 434.216 73.0985 438.706 Q73.0985 440.836 72.2883 442.757 Q71.5013 444.656 69.3948 447.248 Q68.8161 447.919 65.7143 451.137 Q62.6124 454.331 56.9643 460.095 Z\" fill=\"#000000\" fill-rule=\"evenodd\" fill-opacity=\"1\" /><path clip-path=\"url(#clip570)\" d=\"M 0 0 M83.0984 458.151 L87.9827 458.151 L87.9827 464.03 L83.0984 464.03 L83.0984 458.151 Z\" fill=\"#000000\" fill-rule=\"evenodd\" fill-opacity=\"1\" /><path clip-path=\"url(#clip570)\" d=\"M 0 0 M108.168 432.549 Q104.557 432.549 102.728 436.114 Q100.922 439.656 100.922 446.785 Q100.922 453.892 102.728 457.456 Q104.557 460.998 108.168 460.998 Q111.802 460.998 113.608 457.456 Q115.436 453.892 115.436 446.785 Q115.436 439.656 113.608 436.114 Q111.802 432.549 108.168 432.549 M108.168 428.845 Q113.978 428.845 117.033 433.452 Q120.112 438.035 120.112 446.785 Q120.112 455.512 117.033 460.118 Q113.978 464.702 108.168 464.702 Q102.358 464.702 99.2789 460.118 Q96.2234 455.512 96.2234 446.785 Q96.2234 438.035 99.2789 433.452 Q102.358 428.845 108.168 428.845 Z\" fill=\"#000000\" fill-rule=\"evenodd\" fill-opacity=\"1\" /><path clip-path=\"url(#clip570)\" d=\"M 0 0 M57.9597 210.351 L74.279 210.351 L74.279 214.286 L52.3347 214.286 L52.3347 210.351 Q54.9967 207.596 59.58 202.966 Q64.1865 198.314 65.367 196.971 Q67.6124 194.448 68.492 192.712 Q69.3948 190.953 69.3948 189.263 Q69.3948 186.508 67.4504 184.772 Q65.5291 183.036 62.4272 183.036 Q60.2282 183.036 57.7745 183.8 Q55.344 184.564 52.5662 186.115 L52.5662 181.392 Q55.3903 180.258 57.8439 179.679 Q60.2976 179.101 62.3347 179.101 Q67.705 179.101 70.8994 181.786 Q74.0939 184.471 74.0939 188.962 Q74.0939 191.091 73.2837 193.013 Q72.4966 194.911 70.3902 197.503 Q69.8115 198.175 66.7096 201.392 Q63.6078 204.587 57.9597 210.351 Z\" fill=\"#000000\" fill-rule=\"evenodd\" fill-opacity=\"1\" /><path clip-path=\"url(#clip570)\" d=\"M 0 0 M84.0938 208.406 L88.978 208.406 L88.978 214.286 L84.0938 214.286 L84.0938 208.406 Z\" fill=\"#000000\" fill-rule=\"evenodd\" fill-opacity=\"1\" /><path clip-path=\"url(#clip570)\" d=\"M 0 0 M99.2095 179.726 L117.566 179.726 L117.566 183.661 L103.492 183.661 L103.492 192.133 Q104.51 191.786 105.529 191.624 Q106.547 191.439 107.566 191.439 Q113.353 191.439 116.733 194.61 Q120.112 197.781 120.112 203.198 Q120.112 208.777 116.64 211.878 Q113.168 214.957 106.848 214.957 Q104.672 214.957 102.404 214.587 Q100.159 214.216 97.7511 213.476 L97.7511 208.777 Q99.8345 209.911 102.057 210.466 Q104.279 211.022 106.756 211.022 Q110.76 211.022 113.098 208.915 Q115.436 206.809 115.436 203.198 Q115.436 199.587 113.098 197.48 Q110.76 195.374 106.756 195.374 Q104.881 195.374 103.006 195.79 Q101.154 196.207 99.2095 197.087 L99.2095 179.726 Z\" fill=\"#000000\" fill-rule=\"evenodd\" fill-opacity=\"1\" /><polyline clip-path=\"url(#clip572)\" style=\"stroke:#009af9; stroke-width:4; stroke-opacity:1; fill:none\" points=\"\n",
       "  218.281,87.9763 223.341,146.634 228.4,203.307 233.46,258.048 238.519,310.911 250.215,426.196 261.91,532.318 273.605,629.85 285.301,719.336 296.996,801.288 \n",
       "  308.692,876.192 320.387,944.505 332.083,1006.66 343.778,1063.07 355.474,1114.11 367.169,1160.16 378.865,1201.55 402.255,1271.65 425.646,1326.78 439.703,1353.61 \n",
       "  453.76,1376.2 467.817,1394.96 481.874,1410.23 509.988,1431.64 538.102,1442.78 561.872,1445.72 585.642,1443.83 609.412,1438.05 633.182,1429.18 684.824,1402.45 \n",
       "  736.465,1369.92 784.074,1338.27 831.684,1307.3 882.725,1276.5 933.767,1249.31 992.905,1223.1 1052.04,1202.88 1157.15,1181.2 1249.32,1175.35 1349.81,1180.02 \n",
       "  1450.9,1193.17 1562.66,1214.05 1669.01,1237.26 1779.58,1262.58 1872.65,1283.61 1986.29,1307.93 2093.11,1328.83 2264.25,1357.67 2290.59,1361.59 \n",
       "  \"/>\n",
       "<circle clip-path=\"url(#clip572)\" cx=\"218.281\" cy=\"87.9763\" r=\"14\" fill=\"#e26f46\" fill-rule=\"evenodd\" fill-opacity=\"1\" stroke=\"#000000\" stroke-opacity=\"1\" stroke-width=\"3.2\"/>\n",
       "</svg>\n"
      ]
     },
     "execution_count": 154,
     "metadata": {},
     "output_type": "execute_result"
    }
   ],
   "source": [
    "# Teste 2\n",
    "\n",
    "f(x) = x^2 * exp(-x)\n",
    "fd(x) = -exp(-x)*x*(x-2)\n",
    "fdd(x) = exp(-x)*(x^2 - 4*x + 2)\n",
    "esq = -1\n",
    "dir = 5\n",
    "p = maximar_uma_funcao(f, fd, fdd, esq, dir)\n",
    "\n",
    "plot(f, esq, dir, leg=false)\n",
    "scatter!(p:p, [f(p)])"
   ]
  },
  {
   "cell_type": "code",
   "execution_count": 153,
   "metadata": {},
   "outputs": [
    {
     "data": {
      "image/svg+xml": [
       "<?xml version=\"1.0\" encoding=\"utf-8\"?>\n",
       "<svg xmlns=\"http://www.w3.org/2000/svg\" xmlns:xlink=\"http://www.w3.org/1999/xlink\" width=\"600\" height=\"400\" viewBox=\"0 0 2400 1600\">\n",
       "<defs>\n",
       "  <clipPath id=\"clip530\">\n",
       "    <rect x=\"0\" y=\"0\" width=\"2400\" height=\"1600\"/>\n",
       "  </clipPath>\n",
       "</defs>\n",
       "<path clip-path=\"url(#clip530)\" d=\"\n",
       "M0 1600 L2400 1600 L2400 0 L0 0  Z\n",
       "  \" fill=\"#ffffff\" fill-rule=\"evenodd\" fill-opacity=\"1\"/>\n",
       "<defs>\n",
       "  <clipPath id=\"clip531\">\n",
       "    <rect x=\"480\" y=\"0\" width=\"1681\" height=\"1600\"/>\n",
       "  </clipPath>\n",
       "</defs>\n",
       "<path clip-path=\"url(#clip530)\" d=\"\n",
       "M186.274 1486.45 L2352.76 1486.45 L2352.76 47.2441 L186.274 47.2441  Z\n",
       "  \" fill=\"#ffffff\" fill-rule=\"evenodd\" fill-opacity=\"1\"/>\n",
       "<defs>\n",
       "  <clipPath id=\"clip532\">\n",
       "    <rect x=\"186\" y=\"47\" width=\"2167\" height=\"1440\"/>\n",
       "  </clipPath>\n",
       "</defs>\n",
       "<polyline clip-path=\"url(#clip532)\" style=\"stroke:#000000; stroke-width:2; stroke-opacity:0.1; fill:none\" points=\"\n",
       "  247.59,1486.45 247.59,47.2441 \n",
       "  \"/>\n",
       "<polyline clip-path=\"url(#clip532)\" style=\"stroke:#000000; stroke-width:2; stroke-opacity:0.1; fill:none\" points=\"\n",
       "  758.552,1486.45 758.552,47.2441 \n",
       "  \"/>\n",
       "<polyline clip-path=\"url(#clip532)\" style=\"stroke:#000000; stroke-width:2; stroke-opacity:0.1; fill:none\" points=\"\n",
       "  1269.51,1486.45 1269.51,47.2441 \n",
       "  \"/>\n",
       "<polyline clip-path=\"url(#clip532)\" style=\"stroke:#000000; stroke-width:2; stroke-opacity:0.1; fill:none\" points=\"\n",
       "  1780.48,1486.45 1780.48,47.2441 \n",
       "  \"/>\n",
       "<polyline clip-path=\"url(#clip532)\" style=\"stroke:#000000; stroke-width:2; stroke-opacity:0.1; fill:none\" points=\"\n",
       "  2291.44,1486.45 2291.44,47.2441 \n",
       "  \"/>\n",
       "<polyline clip-path=\"url(#clip530)\" style=\"stroke:#000000; stroke-width:4; stroke-opacity:1; fill:none\" points=\"\n",
       "  186.274,1486.45 2352.76,1486.45 \n",
       "  \"/>\n",
       "<polyline clip-path=\"url(#clip530)\" style=\"stroke:#000000; stroke-width:4; stroke-opacity:1; fill:none\" points=\"\n",
       "  247.59,1486.45 247.59,1469.18 \n",
       "  \"/>\n",
       "<polyline clip-path=\"url(#clip530)\" style=\"stroke:#000000; stroke-width:4; stroke-opacity:1; fill:none\" points=\"\n",
       "  758.552,1486.45 758.552,1469.18 \n",
       "  \"/>\n",
       "<polyline clip-path=\"url(#clip530)\" style=\"stroke:#000000; stroke-width:4; stroke-opacity:1; fill:none\" points=\"\n",
       "  1269.51,1486.45 1269.51,1469.18 \n",
       "  \"/>\n",
       "<polyline clip-path=\"url(#clip530)\" style=\"stroke:#000000; stroke-width:4; stroke-opacity:1; fill:none\" points=\"\n",
       "  1780.48,1486.45 1780.48,1469.18 \n",
       "  \"/>\n",
       "<polyline clip-path=\"url(#clip530)\" style=\"stroke:#000000; stroke-width:4; stroke-opacity:1; fill:none\" points=\"\n",
       "  2291.44,1486.45 2291.44,1469.18 \n",
       "  \"/>\n",
       "<path clip-path=\"url(#clip530)\" d=\"M 0 0 M217.532 1530.29 L247.208 1530.29 L247.208 1534.23 L217.532 1534.23 L217.532 1530.29 Z\" fill=\"#000000\" fill-rule=\"evenodd\" fill-opacity=\"1\" /><path clip-path=\"url(#clip530)\" d=\"M 0 0 M261.328 1543.18 L277.647 1543.18 L277.647 1547.12 L255.703 1547.12 L255.703 1543.18 Q258.365 1540.43 262.948 1535.8 Q267.555 1531.15 268.735 1529.81 Q270.981 1527.28 271.86 1525.55 Q272.763 1523.79 272.763 1522.1 Q272.763 1519.34 270.819 1517.61 Q268.897 1515.87 265.795 1515.87 Q263.596 1515.87 261.143 1516.63 Q258.712 1517.4 255.934 1518.95 L255.934 1514.23 Q258.758 1513.09 261.212 1512.51 Q263.666 1511.93 265.703 1511.93 Q271.073 1511.93 274.268 1514.62 Q277.462 1517.31 277.462 1521.8 Q277.462 1523.93 276.652 1525.85 Q275.865 1527.74 273.758 1530.34 Q273.18 1531.01 270.078 1534.23 Q266.976 1537.42 261.328 1543.18 Z\" fill=\"#000000\" fill-rule=\"evenodd\" fill-opacity=\"1\" /><path clip-path=\"url(#clip530)\" d=\"M 0 0 M728.309 1530.29 L757.985 1530.29 L757.985 1534.23 L728.309 1534.23 L728.309 1530.29 Z\" fill=\"#000000\" fill-rule=\"evenodd\" fill-opacity=\"1\" /><path clip-path=\"url(#clip530)\" d=\"M 0 0 M768.888 1543.18 L776.527 1543.18 L776.527 1516.82 L768.217 1518.49 L768.217 1514.23 L776.48 1512.56 L781.156 1512.56 L781.156 1543.18 L788.795 1543.18 L788.795 1547.12 L768.888 1547.12 L768.888 1543.18 Z\" fill=\"#000000\" fill-rule=\"evenodd\" fill-opacity=\"1\" /><path clip-path=\"url(#clip530)\" d=\"M 0 0 M1269.51 1515.64 Q1265.9 1515.64 1264.08 1519.2 Q1262.27 1522.75 1262.27 1529.87 Q1262.27 1536.98 1264.08 1540.55 Q1265.9 1544.09 1269.51 1544.09 Q1273.15 1544.09 1274.95 1540.55 Q1276.78 1536.98 1276.78 1529.87 Q1276.78 1522.75 1274.95 1519.2 Q1273.15 1515.64 1269.51 1515.64 M1269.51 1511.93 Q1275.33 1511.93 1278.38 1516.54 Q1281.46 1521.12 1281.46 1529.87 Q1281.46 1538.6 1278.38 1543.21 Q1275.33 1547.79 1269.51 1547.79 Q1263.7 1547.79 1260.63 1543.21 Q1257.57 1538.6 1257.57 1529.87 Q1257.57 1521.12 1260.63 1516.54 Q1263.7 1511.93 1269.51 1511.93 Z\" fill=\"#000000\" fill-rule=\"evenodd\" fill-opacity=\"1\" /><path clip-path=\"url(#clip530)\" d=\"M 0 0 M1770.86 1543.18 L1778.5 1543.18 L1778.5 1516.82 L1770.19 1518.49 L1770.19 1514.23 L1778.45 1512.56 L1783.13 1512.56 L1783.13 1543.18 L1790.77 1543.18 L1790.77 1547.12 L1770.86 1547.12 L1770.86 1543.18 Z\" fill=\"#000000\" fill-rule=\"evenodd\" fill-opacity=\"1\" /><path clip-path=\"url(#clip530)\" d=\"M 0 0 M2286.09 1543.18 L2302.41 1543.18 L2302.41 1547.12 L2280.47 1547.12 L2280.47 1543.18 Q2283.13 1540.43 2287.71 1535.8 Q2292.32 1531.15 2293.5 1529.81 Q2295.75 1527.28 2296.63 1525.55 Q2297.53 1523.79 2297.53 1522.1 Q2297.53 1519.34 2295.58 1517.61 Q2293.66 1515.87 2290.56 1515.87 Q2288.36 1515.87 2285.91 1516.63 Q2283.48 1517.4 2280.7 1518.95 L2280.7 1514.23 Q2283.52 1513.09 2285.98 1512.51 Q2288.43 1511.93 2290.47 1511.93 Q2295.84 1511.93 2299.03 1514.62 Q2302.23 1517.31 2302.23 1521.8 Q2302.23 1523.93 2301.42 1525.85 Q2300.63 1527.74 2298.52 1530.34 Q2297.94 1531.01 2294.84 1534.23 Q2291.74 1537.42 2286.09 1543.18 Z\" fill=\"#000000\" fill-rule=\"evenodd\" fill-opacity=\"1\" /><polyline clip-path=\"url(#clip532)\" style=\"stroke:#000000; stroke-width:2; stroke-opacity:0.1; fill:none\" points=\"\n",
       "  186.274,1471.05 2352.76,1471.05 \n",
       "  \"/>\n",
       "<polyline clip-path=\"url(#clip532)\" style=\"stroke:#000000; stroke-width:2; stroke-opacity:0.1; fill:none\" points=\"\n",
       "  186.274,1125.28 2352.76,1125.28 \n",
       "  \"/>\n",
       "<polyline clip-path=\"url(#clip532)\" style=\"stroke:#000000; stroke-width:2; stroke-opacity:0.1; fill:none\" points=\"\n",
       "  186.274,779.512 2352.76,779.512 \n",
       "  \"/>\n",
       "<polyline clip-path=\"url(#clip532)\" style=\"stroke:#000000; stroke-width:2; stroke-opacity:0.1; fill:none\" points=\"\n",
       "  186.274,433.744 2352.76,433.744 \n",
       "  \"/>\n",
       "<polyline clip-path=\"url(#clip532)\" style=\"stroke:#000000; stroke-width:2; stroke-opacity:0.1; fill:none\" points=\"\n",
       "  186.274,87.9763 2352.76,87.9763 \n",
       "  \"/>\n",
       "<polyline clip-path=\"url(#clip530)\" style=\"stroke:#000000; stroke-width:4; stroke-opacity:1; fill:none\" points=\"\n",
       "  186.274,1486.45 186.274,47.2441 \n",
       "  \"/>\n",
       "<polyline clip-path=\"url(#clip530)\" style=\"stroke:#000000; stroke-width:4; stroke-opacity:1; fill:none\" points=\"\n",
       "  186.274,1471.05 212.272,1471.05 \n",
       "  \"/>\n",
       "<polyline clip-path=\"url(#clip530)\" style=\"stroke:#000000; stroke-width:4; stroke-opacity:1; fill:none\" points=\"\n",
       "  186.274,1125.28 212.272,1125.28 \n",
       "  \"/>\n",
       "<polyline clip-path=\"url(#clip530)\" style=\"stroke:#000000; stroke-width:4; stroke-opacity:1; fill:none\" points=\"\n",
       "  186.274,779.512 212.272,779.512 \n",
       "  \"/>\n",
       "<polyline clip-path=\"url(#clip530)\" style=\"stroke:#000000; stroke-width:4; stroke-opacity:1; fill:none\" points=\"\n",
       "  186.274,433.744 212.272,433.744 \n",
       "  \"/>\n",
       "<polyline clip-path=\"url(#clip530)\" style=\"stroke:#000000; stroke-width:4; stroke-opacity:1; fill:none\" points=\"\n",
       "  186.274,87.9763 212.272,87.9763 \n",
       "  \"/>\n",
       "<path clip-path=\"url(#clip530)\" d=\"M 0 0 M62.9365 1456.85 Q59.3254 1456.85 57.4967 1460.41 Q55.6912 1463.95 55.6912 1471.08 Q55.6912 1478.19 57.4967 1481.75 Q59.3254 1485.3 62.9365 1485.3 Q66.5707 1485.3 68.3763 1481.75 Q70.205 1478.19 70.205 1471.08 Q70.205 1463.95 68.3763 1460.41 Q66.5707 1456.85 62.9365 1456.85 M62.9365 1453.14 Q68.7467 1453.14 71.8022 1457.75 Q74.8809 1462.33 74.8809 1471.08 Q74.8809 1479.81 71.8022 1484.42 Q68.7467 1489 62.9365 1489 Q57.1264 1489 54.0477 1484.42 Q50.9921 1479.81 50.9921 1471.08 Q50.9921 1462.33 54.0477 1457.75 Q57.1264 1453.14 62.9365 1453.14 Z\" fill=\"#000000\" fill-rule=\"evenodd\" fill-opacity=\"1\" /><path clip-path=\"url(#clip530)\" d=\"M 0 0 M83.0984 1482.45 L87.9827 1482.45 L87.9827 1488.33 L83.0984 1488.33 L83.0984 1482.45 Z\" fill=\"#000000\" fill-rule=\"evenodd\" fill-opacity=\"1\" /><path clip-path=\"url(#clip530)\" d=\"M 0 0 M108.168 1456.85 Q104.557 1456.85 102.728 1460.41 Q100.922 1463.95 100.922 1471.08 Q100.922 1478.19 102.728 1481.75 Q104.557 1485.3 108.168 1485.3 Q111.802 1485.3 113.608 1481.75 Q115.436 1478.19 115.436 1471.08 Q115.436 1463.95 113.608 1460.41 Q111.802 1456.85 108.168 1456.85 M108.168 1453.14 Q113.978 1453.14 117.033 1457.75 Q120.112 1462.33 120.112 1471.08 Q120.112 1479.81 117.033 1484.42 Q113.978 1489 108.168 1489 Q102.358 1489 99.2789 1484.42 Q96.2234 1479.81 96.2234 1471.08 Q96.2234 1462.33 99.2789 1457.75 Q102.358 1453.14 108.168 1453.14 Z\" fill=\"#000000\" fill-rule=\"evenodd\" fill-opacity=\"1\" /><path clip-path=\"url(#clip530)\" d=\"M 0 0 M138.33 1456.85 Q134.719 1456.85 132.89 1460.41 Q131.084 1463.95 131.084 1471.08 Q131.084 1478.19 132.89 1481.75 Q134.719 1485.3 138.33 1485.3 Q141.964 1485.3 143.769 1481.75 Q145.598 1478.19 145.598 1471.08 Q145.598 1463.95 143.769 1460.41 Q141.964 1456.85 138.33 1456.85 M138.33 1453.14 Q144.14 1453.14 147.195 1457.75 Q150.274 1462.33 150.274 1471.08 Q150.274 1479.81 147.195 1484.42 Q144.14 1489 138.33 1489 Q132.519 1489 129.441 1484.42 Q126.385 1479.81 126.385 1471.08 Q126.385 1462.33 129.441 1457.75 Q132.519 1453.14 138.33 1453.14 Z\" fill=\"#000000\" fill-rule=\"evenodd\" fill-opacity=\"1\" /><path clip-path=\"url(#clip530)\" d=\"M 0 0 M63.9319 1111.08 Q60.3208 1111.08 58.4921 1114.64 Q56.6865 1118.18 56.6865 1125.31 Q56.6865 1132.42 58.4921 1135.99 Q60.3208 1139.53 63.9319 1139.53 Q67.5661 1139.53 69.3717 1135.99 Q71.2004 1132.42 71.2004 1125.31 Q71.2004 1118.18 69.3717 1114.64 Q67.5661 1111.08 63.9319 1111.08 M63.9319 1107.37 Q69.742 1107.37 72.7976 1111.98 Q75.8763 1116.56 75.8763 1125.31 Q75.8763 1134.04 72.7976 1138.65 Q69.742 1143.23 63.9319 1143.23 Q58.1217 1143.23 55.043 1138.65 Q51.9875 1134.04 51.9875 1125.31 Q51.9875 1116.56 55.043 1111.98 Q58.1217 1107.37 63.9319 1107.37 Z\" fill=\"#000000\" fill-rule=\"evenodd\" fill-opacity=\"1\" /><path clip-path=\"url(#clip530)\" d=\"M 0 0 M84.0938 1136.68 L88.978 1136.68 L88.978 1142.56 L84.0938 1142.56 L84.0938 1136.68 Z\" fill=\"#000000\" fill-rule=\"evenodd\" fill-opacity=\"1\" /><path clip-path=\"url(#clip530)\" d=\"M 0 0 M103.191 1138.62 L119.51 1138.62 L119.51 1142.56 L97.566 1142.56 L97.566 1138.62 Q100.228 1135.87 104.811 1131.24 Q109.418 1126.59 110.598 1125.24 Q112.844 1122.72 113.723 1120.99 Q114.626 1119.23 114.626 1117.54 Q114.626 1114.78 112.682 1113.05 Q110.76 1111.31 107.658 1111.31 Q105.459 1111.31 103.006 1112.07 Q100.575 1112.84 97.7974 1114.39 L97.7974 1109.67 Q100.621 1108.53 103.075 1107.95 Q105.529 1107.37 107.566 1107.37 Q112.936 1107.37 116.131 1110.06 Q119.325 1112.75 119.325 1117.24 Q119.325 1119.37 118.515 1121.29 Q117.728 1123.18 115.621 1125.78 Q115.043 1126.45 111.941 1129.67 Q108.839 1132.86 103.191 1138.62 Z\" fill=\"#000000\" fill-rule=\"evenodd\" fill-opacity=\"1\" /><path clip-path=\"url(#clip530)\" d=\"M 0 0 M129.371 1108 L147.728 1108 L147.728 1111.93 L133.654 1111.93 L133.654 1120.41 Q134.672 1120.06 135.691 1119.9 Q136.709 1119.71 137.728 1119.71 Q143.515 1119.71 146.894 1122.88 Q150.274 1126.06 150.274 1131.47 Q150.274 1137.05 146.802 1140.15 Q143.33 1143.23 137.01 1143.23 Q134.834 1143.23 132.566 1142.86 Q130.32 1142.49 127.913 1141.75 L127.913 1137.05 Q129.996 1138.18 132.219 1138.74 Q134.441 1139.3 136.918 1139.3 Q140.922 1139.3 143.26 1137.19 Q145.598 1135.08 145.598 1131.47 Q145.598 1127.86 143.26 1125.75 Q140.922 1123.65 136.918 1123.65 Q135.043 1123.65 133.168 1124.06 Q131.316 1124.48 129.371 1125.36 L129.371 1108 Z\" fill=\"#000000\" fill-rule=\"evenodd\" fill-opacity=\"1\" /><path clip-path=\"url(#clip530)\" d=\"M 0 0 M62.9365 765.311 Q59.3254 765.311 57.4967 768.875 Q55.6912 772.417 55.6912 779.547 Q55.6912 786.653 57.4967 790.218 Q59.3254 793.76 62.9365 793.76 Q66.5707 793.76 68.3763 790.218 Q70.205 786.653 70.205 779.547 Q70.205 772.417 68.3763 768.875 Q66.5707 765.311 62.9365 765.311 M62.9365 761.607 Q68.7467 761.607 71.8022 766.213 Q74.8809 770.797 74.8809 779.547 Q74.8809 788.273 71.8022 792.88 Q68.7467 797.463 62.9365 797.463 Q57.1264 797.463 54.0477 792.88 Q50.9921 788.273 50.9921 779.547 Q50.9921 770.797 54.0477 766.213 Q57.1264 761.607 62.9365 761.607 Z\" fill=\"#000000\" fill-rule=\"evenodd\" fill-opacity=\"1\" /><path clip-path=\"url(#clip530)\" d=\"M 0 0 M83.0984 790.912 L87.9827 790.912 L87.9827 796.792 L83.0984 796.792 L83.0984 790.912 Z\" fill=\"#000000\" fill-rule=\"evenodd\" fill-opacity=\"1\" /><path clip-path=\"url(#clip530)\" d=\"M 0 0 M98.2141 762.232 L116.57 762.232 L116.57 766.167 L102.496 766.167 L102.496 774.639 Q103.515 774.292 104.534 774.13 Q105.552 773.945 106.571 773.945 Q112.358 773.945 115.737 777.116 Q119.117 780.287 119.117 785.704 Q119.117 791.283 115.645 794.385 Q112.172 797.463 105.853 797.463 Q103.677 797.463 101.409 797.093 Q99.1632 796.722 96.7558 795.982 L96.7558 791.283 Q98.8391 792.417 101.061 792.972 Q103.284 793.528 105.76 793.528 Q109.765 793.528 112.103 791.422 Q114.441 789.315 114.441 785.704 Q114.441 782.093 112.103 779.986 Q109.765 777.88 105.76 777.88 Q103.885 777.88 102.01 778.297 Q100.159 778.713 98.2141 779.593 L98.2141 762.232 Z\" fill=\"#000000\" fill-rule=\"evenodd\" fill-opacity=\"1\" /><path clip-path=\"url(#clip530)\" d=\"M 0 0 M138.33 765.311 Q134.719 765.311 132.89 768.875 Q131.084 772.417 131.084 779.547 Q131.084 786.653 132.89 790.218 Q134.719 793.76 138.33 793.76 Q141.964 793.76 143.769 790.218 Q145.598 786.653 145.598 779.547 Q145.598 772.417 143.769 768.875 Q141.964 765.311 138.33 765.311 M138.33 761.607 Q144.14 761.607 147.195 766.213 Q150.274 770.797 150.274 779.547 Q150.274 788.273 147.195 792.88 Q144.14 797.463 138.33 797.463 Q132.519 797.463 129.441 792.88 Q126.385 788.273 126.385 779.547 Q126.385 770.797 129.441 766.213 Q132.519 761.607 138.33 761.607 Z\" fill=\"#000000\" fill-rule=\"evenodd\" fill-opacity=\"1\" /><path clip-path=\"url(#clip530)\" d=\"M 0 0 M63.9319 419.543 Q60.3208 419.543 58.4921 423.108 Q56.6865 426.649 56.6865 433.779 Q56.6865 440.885 58.4921 444.45 Q60.3208 447.992 63.9319 447.992 Q67.5661 447.992 69.3717 444.45 Q71.2004 440.885 71.2004 433.779 Q71.2004 426.649 69.3717 423.108 Q67.5661 419.543 63.9319 419.543 M63.9319 415.839 Q69.742 415.839 72.7976 420.446 Q75.8763 425.029 75.8763 433.779 Q75.8763 442.506 72.7976 447.112 Q69.742 451.695 63.9319 451.695 Q58.1217 451.695 55.043 447.112 Q51.9875 442.506 51.9875 433.779 Q51.9875 425.029 55.043 420.446 Q58.1217 415.839 63.9319 415.839 Z\" fill=\"#000000\" fill-rule=\"evenodd\" fill-opacity=\"1\" /><path clip-path=\"url(#clip530)\" d=\"M 0 0 M84.0938 445.144 L88.978 445.144 L88.978 451.024 L84.0938 451.024 L84.0938 445.144 Z\" fill=\"#000000\" fill-rule=\"evenodd\" fill-opacity=\"1\" /><path clip-path=\"url(#clip530)\" d=\"M 0 0 M97.9826 416.464 L120.205 416.464 L120.205 418.455 L107.658 451.024 L102.774 451.024 L114.58 420.399 L97.9826 420.399 L97.9826 416.464 Z\" fill=\"#000000\" fill-rule=\"evenodd\" fill-opacity=\"1\" /><path clip-path=\"url(#clip530)\" d=\"M 0 0 M129.371 416.464 L147.728 416.464 L147.728 420.399 L133.654 420.399 L133.654 428.871 Q134.672 428.524 135.691 428.362 Q136.709 428.177 137.728 428.177 Q143.515 428.177 146.894 431.348 Q150.274 434.52 150.274 439.936 Q150.274 445.515 146.802 448.617 Q143.33 451.695 137.01 451.695 Q134.834 451.695 132.566 451.325 Q130.32 450.955 127.913 450.214 L127.913 445.515 Q129.996 446.649 132.219 447.205 Q134.441 447.76 136.918 447.76 Q140.922 447.76 143.26 445.654 Q145.598 443.547 145.598 439.936 Q145.598 436.325 143.26 434.219 Q140.922 432.112 136.918 432.112 Q135.043 432.112 133.168 432.529 Q131.316 432.945 129.371 433.825 L129.371 416.464 Z\" fill=\"#000000\" fill-rule=\"evenodd\" fill-opacity=\"1\" /><path clip-path=\"url(#clip530)\" d=\"M 0 0 M53.7467 101.321 L61.3856 101.321 L61.3856 74.9555 L53.0754 76.6222 L53.0754 72.3629 L61.3393 70.6963 L66.0152 70.6963 L66.0152 101.321 L73.654 101.321 L73.654 105.256 L53.7467 105.256 L53.7467 101.321 Z\" fill=\"#000000\" fill-rule=\"evenodd\" fill-opacity=\"1\" /><path clip-path=\"url(#clip530)\" d=\"M 0 0 M83.0984 99.3767 L87.9827 99.3767 L87.9827 105.256 L83.0984 105.256 L83.0984 99.3767 Z\" fill=\"#000000\" fill-rule=\"evenodd\" fill-opacity=\"1\" /><path clip-path=\"url(#clip530)\" d=\"M 0 0 M108.168 73.775 Q104.557 73.775 102.728 77.3398 Q100.922 80.8814 100.922 88.011 Q100.922 95.1174 102.728 98.6822 Q104.557 102.224 108.168 102.224 Q111.802 102.224 113.608 98.6822 Q115.436 95.1174 115.436 88.011 Q115.436 80.8814 113.608 77.3398 Q111.802 73.775 108.168 73.775 M108.168 70.0713 Q113.978 70.0713 117.033 74.6777 Q120.112 79.261 120.112 88.011 Q120.112 96.7378 117.033 101.344 Q113.978 105.928 108.168 105.928 Q102.358 105.928 99.2789 101.344 Q96.2234 96.7378 96.2234 88.011 Q96.2234 79.261 99.2789 74.6777 Q102.358 70.0713 108.168 70.0713 Z\" fill=\"#000000\" fill-rule=\"evenodd\" fill-opacity=\"1\" /><path clip-path=\"url(#clip530)\" d=\"M 0 0 M138.33 73.775 Q134.719 73.775 132.89 77.3398 Q131.084 80.8814 131.084 88.011 Q131.084 95.1174 132.89 98.6822 Q134.719 102.224 138.33 102.224 Q141.964 102.224 143.769 98.6822 Q145.598 95.1174 145.598 88.011 Q145.598 80.8814 143.769 77.3398 Q141.964 73.775 138.33 73.775 M138.33 70.0713 Q144.14 70.0713 147.195 74.6777 Q150.274 79.261 150.274 88.011 Q150.274 96.7378 147.195 101.344 Q144.14 105.928 138.33 105.928 Q132.519 105.928 129.441 101.344 Q126.385 96.7378 126.385 88.011 Q126.385 79.261 129.441 74.6777 Q132.519 70.0713 138.33 70.0713 Z\" fill=\"#000000\" fill-rule=\"evenodd\" fill-opacity=\"1\" /><polyline clip-path=\"url(#clip532)\" style=\"stroke:#009af9; stroke-width:4; stroke-opacity:1; fill:none\" points=\"\n",
       "  247.59,1445.72 257.569,1443.67 267.549,1441.48 359.828,1412.93 452.107,1364.04 479.835,1344.13 507.563,1321.39 535.291,1295.61 563.019,1266.61 609.906,1209.76 \n",
       "  656.793,1142.69 707.726,1058.14 758.658,962.032 805.614,864.498 852.569,760.38 902.91,644.476 953.251,528.152 1011.58,399.103 1069.9,283.737 1095.82,238.915 \n",
       "  1121.73,198.961 1147.65,164.453 1173.57,135.895 1219.02,101.418 1264.47,88.111 1289.25,90.0378 1314.03,98.4324 1338.8,113.177 1363.58,134.066 1388.51,160.986 \n",
       "  1413.43,193.458 1438.36,231.041 1463.28,273.232 1518.4,380.091 1573.51,500.272 1625.95,620.874 1678.39,742.014 1732.92,863.43 1787.45,976.028 1833.35,1061.76 \n",
       "  1879.25,1138.06 1935.28,1217.81 1991.32,1283.04 2044,1332.03 2096.68,1370.42 2181.07,1413.68 2265.46,1440.08 2278.45,1443.02 2291.44,1445.72 \n",
       "  \"/>\n",
       "<circle clip-path=\"url(#clip532)\" cx=\"1269.51\" cy=\"87.9763\" r=\"14\" fill=\"#e26f46\" fill-rule=\"evenodd\" fill-opacity=\"1\" stroke=\"#000000\" stroke-opacity=\"1\" stroke-width=\"3.2\"/>\n",
       "</svg>\n"
      ]
     },
     "execution_count": 153,
     "metadata": {},
     "output_type": "execute_result"
    }
   ],
   "source": [
    "# Teste 3\n",
    "\n",
    "f(x) = exp(-x^2)\n",
    "fd(x) = -2*exp(-x^2)*x\n",
    "fdd(x) = exp(-x^2)*(4*x^2 - 2)\n",
    "esq = -2\n",
    "dir = 2\n",
    "p = maximar_uma_funcao(f, fd, fdd, esq, dir)\n",
    "\n",
    "plot(f, esq, dir, leg=false)\n",
    "scatter!(p:p, [f(p)])"
   ]
  },
  {
   "cell_type": "markdown",
   "metadata": {},
   "source": [
    "### Encontrar um ponto crítico de uma função"
   ]
  },
  {
   "cell_type": "code",
   "execution_count": 79,
   "metadata": {},
   "outputs": [
    {
     "data": {
      "text/plain": [
       "achar_um_ponto_critico_de_uma_funcao (generic function with 3 methods)"
      ]
     },
     "execution_count": 79,
     "metadata": {},
     "output_type": "execute_result"
    }
   ],
   "source": [
    "\"\"\" A ideia aqui é acharmos o ponto em que f'(x) = 0. Podemos usar bisseção, newton ou ponto fixo para isso. \"\"\"\n",
    "\n",
    "# Luan\n",
    "function achar_um_ponto_critico_de_uma_funcao(derivada, esq, dir, erro = 1e-2, qtd_iterações = 10)\n",
    "    \n",
    "    # Começamos uma lista de intervalos para o método da bisseção e selecionaremos os propícios\n",
    "    lista_de_intervalos = Any[[esq, dir]]\n",
    "    intervalos_propicios = Any[]\n",
    "    \n",
    "    # Escolhemos uma quantidade de iterações para diminuir o intervalo\n",
    "    for j in 1:qtd_iterações\n",
    "        \n",
    "        # Se a lista de intervalos estiver vazia, não temos mais o que procurar\n",
    "        if size(lista_de_intervalos, 1) == 0\n",
    "            break\n",
    "        end\n",
    "        \n",
    "        # Pega o primeiro intervalo da lista\n",
    "        intervalo = lista_de_intervalos[1]\n",
    "        \n",
    "        # Pega os pontos desse intervalo\n",
    "        a = intervalo[1]\n",
    "        b = intervalo[2]\n",
    "        \n",
    "        # Calcula o ponto médio do intervalo\n",
    "        metade_do_intervalo = (a+b)/2.0\n",
    "        \n",
    "        # Retira o intervalo da lista\n",
    "        deleteat!(lista_de_intervalos, 1)\n",
    "\n",
    "        # Sendo x a metade do intervalo, se um dos intervalos criados [a, x] ou [x, b] satisfizer as condições\n",
    "        # Adicionamos ele a uma outra lista contendo os intervalos bons\n",
    "        # Caso contrário adicionamos eles a nossa lista de intervalos\n",
    "        if derivada(a)*derivada(metade_do_intervalo) <= 0\n",
    "            push!(intervalos_propicios, [a, metade_do_intervalo])\n",
    "        else\n",
    "            push!(lista_de_intervalos, [a, metade_do_intervalo])\n",
    "        end\n",
    "        \n",
    "        if derivada(metade_do_intervalo)*derivada(b) <= 0\n",
    "            push!(intervalos_propicios, [metade_do_intervalo, b])\n",
    "        else\n",
    "            push!(lista_de_intervalos, [metade_do_intervalo, b])\n",
    "        end\n",
    "        \n",
    "    end\n",
    "    \n",
    "    println(intervalos_propicios)\n",
    "    \n",
    "    # Pega o primeiro ponto crítico da lista\n",
    "    ponto_crítico = bissecao(derivada, intervalos_propicios[1][1], intervalos_propicios[1][2], erro)\n",
    "        \n",
    "    return ponto_crítico\n",
    "end"
   ]
  },
  {
   "cell_type": "code",
   "execution_count": 80,
   "metadata": {},
   "outputs": [
    {
     "name": "stdout",
     "output_type": "stream",
     "text": [
      "Any[[0.0, 2.5], [2.5, 5.0]]\n"
     ]
    },
    {
     "ename": "LoadError",
     "evalue": "\u001b[91mUndefVarError: plot not defined\u001b[39m",
     "output_type": "error",
     "traceback": [
      "\u001b[91mUndefVarError: plot not defined\u001b[39m",
      "",
      "Stacktrace:",
      " [1] top-level scope at In[80]:7",
      " [2] include_string(::Function, ::Module, ::String, ::String) at .\\loading.jl:1091"
     ]
    }
   ],
   "source": [
    "#Teste 1\n",
    "\n",
    "f(x) = x^2 - 5x + 6\n",
    "fd(x) = 2x - 5\n",
    "p = achar_um_ponto_critico_de_uma_funcao(fd, 0, 5)\n",
    "\n",
    "plot(f, 0, 5)\n",
    "scatter!(p:p, [f(p)], leg=false)"
   ]
  },
  {
   "cell_type": "code",
   "execution_count": 81,
   "metadata": {},
   "outputs": [
    {
     "name": "stdout",
     "output_type": "stream",
     "text": [
      "Any[[0.0, 2.5], [2.5, 5.0]]\n"
     ]
    },
    {
     "ename": "LoadError",
     "evalue": "\u001b[91mUndefVarError: plot not defined\u001b[39m",
     "output_type": "error",
     "traceback": [
      "\u001b[91mUndefVarError: plot not defined\u001b[39m",
      "",
      "Stacktrace:",
      " [1] top-level scope at In[81]:7",
      " [2] include_string(::Function, ::Module, ::String, ::String) at .\\loading.jl:1091"
     ]
    }
   ],
   "source": [
    "#Teste 2\n",
    "\n",
    "f(x) = x^3/3 - 5x^2/2 + 6x\n",
    "fd(x) = x^2 - 5x + 6\n",
    "p = achar_um_ponto_critico_de_uma_funcao(fd, 0, 5)\n",
    "\n",
    "plot(f, 0, 5)\n",
    "scatter!(p:p, [f(p)], leg=false)"
   ]
  },
  {
   "cell_type": "code",
   "execution_count": 82,
   "metadata": {},
   "outputs": [
    {
     "name": "stdout",
     "output_type": "stream",
     "text": [
      "Any[[1.5707963267948966, 3.141592653589793]]\n"
     ]
    },
    {
     "ename": "LoadError",
     "evalue": "\u001b[91mUndefVarError: plot not defined\u001b[39m",
     "output_type": "error",
     "traceback": [
      "\u001b[91mUndefVarError: plot not defined\u001b[39m",
      "",
      "Stacktrace:",
      " [1] top-level scope at In[82]:6",
      " [2] include_string(::Function, ::Module, ::String, ::String) at .\\loading.jl:1091"
     ]
    }
   ],
   "source": [
    "# Teste 3\n",
    "\n",
    "f(x) = sin(x)\n",
    "fd(x) = cos(x)\n",
    "p = achar_um_ponto_critico_de_uma_funcao(fd, 0, pi)\n",
    "plot(f, 0, pi)\n",
    "scatter!(p:p, [f(p)], leg=false)"
   ]
  },
  {
   "cell_type": "markdown",
   "metadata": {},
   "source": [
    "### Encontrar um ponto crítico de uma função de 2 variáveis"
   ]
  },
  {
   "cell_type": "code",
   "execution_count": 83,
   "metadata": {},
   "outputs": [
    {
     "data": {
      "text/plain": [
       "achar_um_ponto_critico_de_uma_funcao_de_2_variaveis (generic function with 1 method)"
      ]
     },
     "execution_count": 83,
     "metadata": {},
     "output_type": "execute_result"
    }
   ],
   "source": [
    "\"\"\" Nessa função, queremos encontrar um ponto crítico em uma função de duas variáveis. Para isso, utilizamos o \n",
    "método do gradiente descendente, em que descemos a curva da função através do decremento do gradiente, visto que\n",
    "este aponta para a direção de maior crescimento. Para isso, é necessário passar o gradiente da função no formato \n",
    "[fdx, fdy], os intervalos de x e y no formato [a, b] e a quantidade de iterações a ser realizada pelo método. \"\"\"\n",
    "\n",
    "function achar_um_ponto_critico_de_uma_funcao_de_2_variaveis(gradiente_da_funcao, intervalox, intervaloy, iteracoes)\n",
    "    # Iniciamos aleatoriamente o ponto\n",
    "    px = rand(intervalox[1]:intervalox[2])\n",
    "    py = rand(intervaloy[1]:intervaloy[2])\n",
    "    taxa = 0.1\n",
    "    \n",
    "    for i in 1:iteracoes\n",
    "        # Obtemos o gradiente no ponto\n",
    "        grad = gradiente_da_funcao(px,py)\n",
    "        \n",
    "        # Checamos se esta dentro do intervalo pedido para descer o gradiente\n",
    "        if (intervalox[1]<=px-grad[1]*taxa<=intervalox[2]) && (intervaloy[1]<=py-grad[2]*taxa<=intervaloy[2])\n",
    "            px = px - grad[1]*taxa\n",
    "            py = py - grad[2]*taxa\n",
    "        else\n",
    "            break       # Senão acabamos a iteracao\n",
    "        end \n",
    "    end\n",
    "    \n",
    "    return [px,py]\n",
    "end"
   ]
  },
  {
   "cell_type": "code",
   "execution_count": 84,
   "metadata": {
    "tags": []
   },
   "outputs": [
    {
     "data": {
      "text/plain": [
       "2-element Array{Float64,1}:\n",
       "  1.4999999999999996\n",
       " -7.141286259897687e-111"
      ]
     },
     "execution_count": 84,
     "metadata": {},
     "output_type": "execute_result"
    }
   ],
   "source": [
    "# Testando a função x^2+2y^2-3x\n",
    "\n",
    "d(x,y) = [2x-3, 4y]\n",
    "achar_um_ponto_critico_de_uma_funcao_de_2_variaveis(d, [-10,10], [-10,10], 500)"
   ]
  },
  {
   "cell_type": "code",
   "execution_count": 85,
   "metadata": {},
   "outputs": [
    {
     "data": {
      "text/plain": [
       "2-element Array{Int64,1}:\n",
       " 4\n",
       " 2"
      ]
     },
     "execution_count": 85,
     "metadata": {},
     "output_type": "execute_result"
    }
   ],
   "source": [
    "# A função x^4 + x*y^3 - 2x^2*y + x - 5yx tem mínimo local em (-0.769, -1.074)\n",
    "\n",
    "d(x,y) = [4x^3+y^3-4y*x+1-5y,-2x^2+3x*y^2-5x]\n",
    "achar_um_ponto_critico_de_uma_funcao_de_2_variaveis(d, [-5,5], [-5,5], 500)"
   ]
  },
  {
   "cell_type": "code",
   "execution_count": 86,
   "metadata": {},
   "outputs": [
    {
     "data": {
      "text/plain": [
       "2-element Array{Float64,1}:\n",
       " -1.5707963267948957\n",
       " -0.13572069354650715"
      ]
     },
     "execution_count": 86,
     "metadata": {},
     "output_type": "execute_result"
    }
   ],
   "source": [
    "# Função sen(x)*cos(y/5) possui muitos pontos locais de minimo e maximo\n",
    "\n",
    "d(x,y) = [cos(y/5)*cos(x), -1/5*sin(x)*sin(y/5)]\n",
    "achar_um_ponto_critico_de_uma_funcao_de_2_variaveis(d, [-5,5], [-5,5], 500)"
   ]
  },
  {
   "cell_type": "markdown",
   "metadata": {},
   "source": [
    "### Obter Lagrange em 2D"
   ]
  },
  {
   "cell_type": "code",
   "execution_count": 87,
   "metadata": {},
   "outputs": [
    {
     "data": {
      "text/plain": [
       "langrage_2D (generic function with 1 method)"
      ]
     },
     "execution_count": 87,
     "metadata": {},
     "output_type": "execute_result"
    }
   ],
   "source": [
    "# Thierry\n",
    "function langrage_2D()\n",
    "    \n",
    "end"
   ]
  },
  {
   "cell_type": "code",
   "execution_count": null,
   "metadata": {},
   "outputs": [],
   "source": []
  }
 ],
 "metadata": {
  "kernelspec": {
   "display_name": "Julia 1.5.4",
   "language": "julia",
   "name": "julia-1.5"
  },
  "language_info": {
   "file_extension": ".jl",
   "mimetype": "application/julia",
   "name": "julia",
   "version": "1.5.4"
  }
 },
 "nbformat": 4,
 "nbformat_minor": 4
}
