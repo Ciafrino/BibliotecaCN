{
 "cells": [
  {
   "cell_type": "markdown",
   "id": "36432e57-bc7a-4f1f-8d46-0420993f7321",
   "metadata": {},
   "source": [
    "# Biblioteca de Cálculo Numérico"
   ]
  }
 ],
 "metadata": {
  "kernelspec": {
   "display_name": "Julia 1.5.4",
   "language": "julia",
   "name": "julia-1.5"
  },
  "language_info": {
   "file_extension": ".jl",
   "mimetype": "application/julia",
   "name": "julia",
   "version": "1.5.4"
  }
 },
 "nbformat": 4,
 "nbformat_minor": 5
}
